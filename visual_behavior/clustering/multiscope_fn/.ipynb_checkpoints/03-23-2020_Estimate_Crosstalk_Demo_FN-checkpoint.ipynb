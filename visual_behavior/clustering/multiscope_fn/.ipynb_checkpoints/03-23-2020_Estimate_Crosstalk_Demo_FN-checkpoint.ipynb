{
 "cells": [
  {
   "cell_type": "code",
   "execution_count": 8,
   "metadata": {},
   "outputs": [],
   "source": [
    "import visual_behavior.ophys.mesoscope.crosstalk_unmix as ica\n",
    "import visual_behavior.ophys.mesoscope.mesoscope as ms\n",
    "import os"
   ]
  },
  {
   "cell_type": "code",
   "execution_count": 9,
   "metadata": {},
   "outputs": [],
   "source": [
    "import logging\n",
    "mpl_logger = logging.getLogger(\"matplotlib\")\n",
    "mpl_logger.setLevel(logging.WARNING) "
   ]
  },
  {
   "cell_type": "code",
   "execution_count": 22,
   "metadata": {},
   "outputs": [
    {
     "name": "stderr",
     "output_type": "stream",
     "text": [
      "/home/farzaneh.najafi/anaconda3/envs/ica_crosstalk/lib/python3.7/site-packages/pandas-0.25.3-py3.7-linux-x86_64.egg/pandas/core/indexing.py:205: SettingWithCopyWarning: \n",
      "A value is trying to be set on a copy of a slice from a DataFrame\n",
      "\n",
      "See the caveats in the documentation: http://pandas.pydata.org/pandas-docs/stable/user_guide/indexing.html#returning-a-view-versus-a-copy\n",
      "  self._setitem_with_indexer(indexer, value)\n",
      "/home/farzaneh.najafi/analysis_codes/visual_behavior_analysis/visual_behavior/ophys/mesoscope/utils.py:90: SettingWithCopyWarning: \n",
      "A value is trying to be set on a copy of a slice from a DataFrame.\n",
      "Try using .loc[row_indexer,col_indexer] = value instead\n",
      "\n",
      "See the caveats in the documentation: http://pandas.pydata.org/pandas-docs/stable/user_guide/indexing.html#returning-a-view-versus-a-copy\n",
      "  ica_success['LIMS_done_exp'] = 0\n",
      "/home/farzaneh.najafi/analysis_codes/visual_behavior_analysis/visual_behavior/ophys/mesoscope/utils.py:91: SettingWithCopyWarning: \n",
      "A value is trying to be set on a copy of a slice from a DataFrame.\n",
      "Try using .loc[row_indexer,col_indexer] = value instead\n",
      "\n",
      "See the caveats in the documentation: http://pandas.pydata.org/pandas-docs/stable/user_guide/indexing.html#returning-a-view-versus-a-copy\n",
      "  ica_success['LIMS_done_session'] = 0\n",
      "/home/farzaneh.najafi/analysis_codes/visual_behavior_analysis/visual_behavior/ophys/mesoscope/utils.py:101: SettingWithCopyWarning: \n",
      "A value is trying to be set on a copy of a slice from a DataFrame\n",
      "\n",
      "See the caveats in the documentation: http://pandas.pydata.org/pandas-docs/stable/user_guide/indexing.html#returning-a-view-versus-a-copy\n",
      "  ica_success['LIMS_done_exp'].loc[ica_success['experiment_id'] == pair[0]] = 1\n",
      "/home/farzaneh.najafi/analysis_codes/visual_behavior_analysis/visual_behavior/ophys/mesoscope/utils.py:103: SettingWithCopyWarning: \n",
      "A value is trying to be set on a copy of a slice from a DataFrame\n",
      "\n",
      "See the caveats in the documentation: http://pandas.pydata.org/pandas-docs/stable/user_guide/indexing.html#returning-a-view-versus-a-copy\n",
      "  ica_success['LIMS_done_exp'].loc[ica_success['experiment_id'] == pair[1]] = 1\n",
      "/home/farzaneh.najafi/analysis_codes/visual_behavior_analysis/visual_behavior/ophys/mesoscope/utils.py:107: SettingWithCopyWarning: \n",
      "A value is trying to be set on a copy of a slice from a DataFrame\n",
      "\n",
      "See the caveats in the documentation: http://pandas.pydata.org/pandas-docs/stable/user_guide/indexing.html#returning-a-view-versus-a-copy\n",
      "  ica_success['LIMS_done_session'].loc[ica_success.experiment_id == exp] = 1\n"
     ]
    },
    {
     "data": {
      "text/plain": [
       "array([839208243, 839514418, 840490733, 841303580, 841682738, 841778484,\n",
       "       842023261, 842364341, 842623907, 843059122, 849304162, 850667270,\n",
       "       850894918, 851428829, 856201876, 857040020, 863815473, 864458864,\n",
       "       865024413, 865854762, 866197765])"
      ]
     },
     "execution_count": 22,
     "metadata": {},
     "output_type": "execute_result"
    }
   ],
   "source": [
    "# Natalia: get a list of sessions ready for post-cross talk analysis with the following code:\n",
    "\n",
    "import visual_behavior.ophys.mesoscope.utils as mu\n",
    "import logging\n",
    "mpl_logger = logging.getLogger(\"matplotlib\")\n",
    "mpl_logger.setLevel(logging.WARNING)\n",
    "lims_done, lims_notdone, meso_data = mu.get_lims_done_sessions()\n",
    "lims_done = lims_done.session_id.drop_duplicates()\n",
    "lims_done.values"
   ]
  },
  {
   "cell_type": "code",
   "execution_count": 10,
   "metadata": {},
   "outputs": [
    {
     "data": {
      "text/plain": [
       "0     839208243\n",
       "8     839514418\n",
       "16    840490733\n",
       "24    841303580\n",
       "32    841682738\n",
       "40    841778484\n",
       "48    842023261\n",
       "56    842364341\n",
       "64    842623907\n",
       "72    843059122\n",
       "Name: session_id, dtype: int64"
      ]
     },
     "execution_count": 10,
     "metadata": {},
     "output_type": "execute_result"
    }
   ],
   "source": [
    "iter_ica = 50\n",
    "iter_neuropil = 50\n",
    "CACHE = '/media/rd-storage/Z/MesoscopeAnalysis/'\n",
    "meso_data = ms.get_all_mesoscope_data()\n",
    "meso_ses = meso_data['session_id'].drop_duplicates()\n",
    "sessions = meso_data['session_id']\n",
    "sessions = sessions.drop_duplicates()\n",
    "sessions[0:10]"
   ]
  },
  {
   "cell_type": "code",
   "execution_count": 19,
   "metadata": {},
   "outputs": [
    {
     "name": "stdout",
     "output_type": "stream",
     "text": [
      "839514418\n"
     ]
    }
   ],
   "source": [
    "# len(sessions)\n",
    "# print(sessions)\n",
    "session = sessions[8]\n",
    "print(session)"
   ]
  },
  {
   "cell_type": "code",
   "execution_count": 21,
   "metadata": {},
   "outputs": [
    {
     "name": "stdout",
     "output_type": "stream",
     "text": [
      "<visual_behavior.ophys.mesoscope.crosstalk_unmix.MesoscopeICA object at 0x7fb051c9b3d0>\n"
     ]
    }
   ],
   "source": [
    "ica_obj = ica.MesoscopeICA(session_id=session, cache=CACHE, roi_name=\"ica_traces\", np_name=\"ica_neuropil\")\n",
    "print(ica_obj)"
   ]
  },
  {
   "cell_type": "code",
   "execution_count": null,
   "metadata": {},
   "outputs": [],
   "source": [
    "# get ica out traces for all planes\n",
    "# run your trace_active code on them to find their active parts\n",
    "# compute natalia's regression metric on these active traces\n"
   ]
  },
  {
   "cell_type": "code",
   "execution_count": null,
   "metadata": {},
   "outputs": [],
   "source": [
    "pairs = ica_obj.dataset.get_paired_planes()\n",
    "for pair in pairs:\n",
    "    ica_obj.get_ica_traces(pair)\n",
    "    ica_obj.validica_objraces()\n",
    "    ica_obj.combine_debias_roi(roi_name=\"traces_ica\")\n",
    "    ica_obj.combine_debias_neuropil(np_name=\"neuropil_ica\")\n",
    "    ica_obj.unmix_traces(max_iter=iter_ica)\n",
    "    ica_obj.unmix_neuropil(max_iter = iter_neuropil)\n",
    "    plane1_traces_in = ica_obj.plane1_traces_orig\n",
    "    plane2_traces_in = ica_obj.plane2_traces_orig\n",
    "    plane1_traces_out = ica_obj.plane1_ica_output\n",
    "    plane2_traces_out = ica_obj.plane2_ica_output\n",
    "    plane1_traces_valid = ica_obj.plane1_roi_traces_valid\n",
    "    plane2_traces_valid = ica_obj.plane2_roi_traces_valid\n",
    "    plane1_crosstalk_pointer = os.path.join(ica_obj.ica_traces_dir, f'{ica_obj.plane1_exp_id}_crosstalk.json')\n",
    "    plane2_crosstalk_pointer = os.path.join(ica_obj.ica_traces_dir, f'{ica_obj.plane2_exp_id}_crosstalk.json')\n",
    "    _ = ica_obj.get_crosstalk_before_and_after(plane1_traces_valid, plane1_traces_in, plane1_traces_out, plane1_crosstalk_pointer, fig_save = True)\n",
    "    _ = ica_obj.get_crosstalk_before_and_after(plane2_traces_valid, plane2_traces_in, plane2_traces_out, plane2_crosstalk_pointer, fig_save = True)"
   ]
  }
 ],
 "metadata": {
  "kernelspec": {
   "display_name": "Python 3",
   "language": "python",
   "name": "python3"
  },
  "language_info": {
   "codemirror_mode": {
    "name": "ipython",
    "version": 3
   },
   "file_extension": ".py",
   "mimetype": "text/x-python",
   "name": "python",
   "nbconvert_exporter": "python",
   "pygments_lexer": "ipython3",
   "version": "3.7.6"
  }
 },
 "nbformat": 4,
 "nbformat_minor": 4
}
