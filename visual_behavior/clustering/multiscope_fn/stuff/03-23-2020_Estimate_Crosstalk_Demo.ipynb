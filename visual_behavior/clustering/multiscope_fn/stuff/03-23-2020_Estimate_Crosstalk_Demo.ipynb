{
 "cells": [
  {
   "cell_type": "code",
   "execution_count": 2,
   "metadata": {},
   "outputs": [
    {
     "name": "stderr",
     "output_type": "stream",
     "text": [
      "DEBUG:Loaded backend module://ipykernel.pylab.backend_inline version unknown.\n"
     ]
    }
   ],
   "source": [
    "import visual_behavior.ophys.mesoscope.crosstalk_unmix as ica\n",
    "import visual_behavior.ophys.mesoscope.mesoscope as ms\n",
    "import os"
   ]
  },
  {
   "cell_type": "code",
   "execution_count": 3,
   "metadata": {},
   "outputs": [],
   "source": [
    "import logging\n",
    "mpl_logger = logging.getLogger(\"matplotlib\")\n",
    "mpl_logger.setLevel(logging.WARNING) "
   ]
  },
  {
   "cell_type": "code",
   "execution_count": 4,
   "metadata": {},
   "outputs": [
    {
     "data": {
      "text/plain": [
       "0     839208243\n",
       "8     839514418\n",
       "16    840490733\n",
       "24    841303580\n",
       "32    841682738\n",
       "40    841778484\n",
       "48    842023261\n",
       "56    842364341\n",
       "64    842623907\n",
       "72    843059122\n",
       "Name: session_id, dtype: int64"
      ]
     },
     "execution_count": 4,
     "metadata": {},
     "output_type": "execute_result"
    }
   ],
   "source": [
    "iter_ica = 50\n",
    "iter_neuropil = 50\n",
    "CACHE = '/media/rd-storage/Z/MesoscopeAnalysis/'\n",
    "meso_data = ms.get_all_mesoscope_data()\n",
    "meso_ses = meso_data['session_id'].drop_duplicates()\n",
    "sessions = meso_data['session_id']\n",
    "sessions = sessions.drop_duplicates()\n",
    "sessions[0:10]"
   ]
  },
  {
   "cell_type": "code",
   "execution_count": 5,
   "metadata": {},
   "outputs": [],
   "source": [
    "session = sessions[0]"
   ]
  },
  {
   "cell_type": "code",
   "execution_count": 6,
   "metadata": {},
   "outputs": [
    {
     "name": "stderr",
     "output_type": "stream",
     "text": [
      "INFO:Found traces in cache, reading from h5 file\n",
      "INFO:Debiased ROI traces exist in cache, reading from h5 file\n",
      "INFO:Debiased neuropil traces exist in cache, reading from h5 file\n",
      "INFO:Unmixed traces exist in cache, reading from h5 file\n",
      "INFO:Unmixed neuropil traces exist in cache, reading from h5 file\n",
      "INFO:Found traces in cache, reading from h5 file\n",
      "INFO:Debiased ROI traces exist in cache, reading from h5 file\n",
      "INFO:Debiased neuropil traces exist in cache, reading from h5 file\n",
      "INFO:Unmixed traces exist in cache, reading from h5 file\n",
      "INFO:Unmixed neuropil traces exist in cache, reading from h5 file\n",
      "INFO:Found traces in cache, reading from h5 file\n",
      "INFO:Debiased ROI traces exist in cache, reading from h5 file\n",
      "INFO:Debiased neuropil traces exist in cache, reading from h5 file\n",
      "INFO:Unmixed traces do not exist in cache, running ICA\n",
      "INFO:ICA successful\n",
      "INFO:Unmixed neuropil traces exist in cache, reading from h5 file\n",
      "INFO:Found traces in cache, reading from h5 file\n",
      "INFO:Debiased ROI traces exist in cache, reading from h5 file\n",
      "INFO:Debiased neuropil traces exist in cache, reading from h5 file\n",
      "INFO:Unmixed traces do not exist in cache, running ICA\n",
      "INFO:ICA successful\n",
      "INFO:Unmixed neuropil traces do not exist in cache, running ICA\n",
      "INFO:ICA successful\n"
     ]
    }
   ],
   "source": [
    "ica_obj = ica.MesoscopeICA(session_id=session, cache=CACHE, roi_name=\"ica_traces\", np_name=\"ica_neuropil\")\n",
    "pairs = ica_obj.dataset.get_paired_planes()\n",
    "for pair in pairs:\n",
    "    ica_obj.get_ica_traces(pair)\n",
    "    ica_obj.validate_traces()\n",
    "    ica_obj.combine_debias_roi(roi_name=\"traces_ica\")\n",
    "    ica_obj.combine_debias_neuropil(np_name=\"neuropil_ica\")\n",
    "    ica_obj.unmix_traces(max_iter=iter_ica)\n",
    "    ica_obj.unmix_neuropil(max_iter = iter_neuropil)\n",
    "    plane1_traces_in = ica_obj.plane1_traces_orig\n",
    "    plane2_traces_in = ica_obj.plane2_traces_orig\n",
    "    plane1_traces_out = ica_obj.plane1_ica_output\n",
    "    plane2_traces_out = ica_obj.plane2_ica_output\n",
    "    plane1_traces_valid = ica_obj.plane1_roi_traces_valid\n",
    "    plane2_traces_valid = ica_obj.plane2_roi_traces_valid\n",
    "    plane1_crosstalk_pointer = os.path.join(ica_obj.ica_traces_dir, f'{ica_obj.plane1_exp_id}_crosstalk.json')\n",
    "    plane2_crosstalk_pointer = os.path.join(ica_obj.ica_traces_dir, f'{ica_obj.plane2_exp_id}_crosstalk.json')\n",
    "    _ = ica_obj.get_crosstalk_before_and_after(plane1_traces_valid, plane1_traces_in, plane1_traces_out, plane1_crosstalk_pointer, fig_save = True)\n",
    "    _ = ica_obj.get_crosstalk_before_and_after(plane2_traces_valid, plane2_traces_in, plane2_traces_out, plane2_crosstalk_pointer, fig_save = True)"
   ]
  },
  {
   "cell_type": "code",
   "execution_count": null,
   "metadata": {},
   "outputs": [],
   "source": []
  }
 ],
 "metadata": {
  "kernelspec": {
   "display_name": "Python 3",
   "language": "python",
   "name": "python3"
  },
  "language_info": {
   "codemirror_mode": {
    "name": "ipython",
    "version": 3
   },
   "file_extension": ".py",
   "mimetype": "text/x-python",
   "name": "python",
   "nbconvert_exporter": "python",
   "pygments_lexer": "ipython3",
   "version": "3.6.9"
  }
 },
 "nbformat": 4,
 "nbformat_minor": 2
}
