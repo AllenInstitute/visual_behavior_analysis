{
 "cells": [
  {
   "cell_type": "code",
   "execution_count": 1,
   "metadata": {},
   "outputs": [],
   "source": [
    "import os\n",
    "import numpy as np\n",
    "import pandas as pd\n",
    "import matplotlib.pyplot as plt\n",
    "\n",
    "import seaborn as sns\n",
    "sns.set_context('notebook', font_scale=1.5, rc={'lines.markeredgewidth': 2})"
   ]
  },
  {
   "cell_type": "code",
   "execution_count": 2,
   "metadata": {},
   "outputs": [],
   "source": [
    "%load_ext autoreload\n",
    "%autoreload 2\n",
    "\n",
    "%matplotlib inline"
   ]
  },
  {
   "cell_type": "code",
   "execution_count": 3,
   "metadata": {},
   "outputs": [],
   "source": [
    "import visual_behavior.data_access.loading as loading\n",
    "import visual_behavior.ophys.response_analysis.utilities as ut\n",
    "from visual_behavior.ophys.response_analysis.response_analysis import ResponseAnalysis"
   ]
  },
  {
   "cell_type": "code",
   "execution_count": 4,
   "metadata": {},
   "outputs": [],
   "source": [
    "experiments_table = loading.get_filtered_ophys_experiment_table() "
   ]
  },
  {
   "cell_type": "code",
   "execution_count": 5,
   "metadata": {},
   "outputs": [
    {
     "data": {
      "text/html": [
       "<div>\n",
       "<style scoped>\n",
       "    .dataframe tbody tr th:only-of-type {\n",
       "        vertical-align: middle;\n",
       "    }\n",
       "\n",
       "    .dataframe tbody tr th {\n",
       "        vertical-align: top;\n",
       "    }\n",
       "\n",
       "    .dataframe thead th {\n",
       "        text-align: right;\n",
       "    }\n",
       "</style>\n",
       "<table border=\"1\" class=\"dataframe\">\n",
       "  <thead>\n",
       "    <tr style=\"text-align: right;\">\n",
       "      <th></th>\n",
       "      <th>ophys_session_id</th>\n",
       "      <th>behavior_session_id</th>\n",
       "      <th>container_id</th>\n",
       "      <th>project_code</th>\n",
       "      <th>container_workflow_state</th>\n",
       "      <th>experiment_workflow_state</th>\n",
       "      <th>session_name</th>\n",
       "      <th>session_type</th>\n",
       "      <th>equipment_name</th>\n",
       "      <th>date_of_acquisition</th>\n",
       "      <th>...</th>\n",
       "      <th>imaging_depth</th>\n",
       "      <th>targeted_structure</th>\n",
       "      <th>published_at</th>\n",
       "      <th>super_container_id</th>\n",
       "      <th>cre_line</th>\n",
       "      <th>session_tags</th>\n",
       "      <th>failure_tags</th>\n",
       "      <th>exposure_number</th>\n",
       "      <th>model_outputs_available</th>\n",
       "      <th>location</th>\n",
       "    </tr>\n",
       "    <tr>\n",
       "      <th>ophys_experiment_id</th>\n",
       "      <th></th>\n",
       "      <th></th>\n",
       "      <th></th>\n",
       "      <th></th>\n",
       "      <th></th>\n",
       "      <th></th>\n",
       "      <th></th>\n",
       "      <th></th>\n",
       "      <th></th>\n",
       "      <th></th>\n",
       "      <th></th>\n",
       "      <th></th>\n",
       "      <th></th>\n",
       "      <th></th>\n",
       "      <th></th>\n",
       "      <th></th>\n",
       "      <th></th>\n",
       "      <th></th>\n",
       "      <th></th>\n",
       "      <th></th>\n",
       "      <th></th>\n",
       "    </tr>\n",
       "  </thead>\n",
       "  <tbody>\n",
       "    <tr>\n",
       "      <td>953659745</td>\n",
       "      <td>952430817</td>\n",
       "      <td>952554548</td>\n",
       "      <td>1018028339</td>\n",
       "      <td>VisualBehaviorMultiscope</td>\n",
       "      <td>completed</td>\n",
       "      <td>passed</td>\n",
       "      <td>20190923_457841_2imagesA</td>\n",
       "      <td>OPHYS_2_images_A_passive</td>\n",
       "      <td>MESO.1</td>\n",
       "      <td>2019-09-23 08:13:07.627573</td>\n",
       "      <td>...</td>\n",
       "      <td>75</td>\n",
       "      <td>VISp</td>\n",
       "      <td>NaN</td>\n",
       "      <td>850862430</td>\n",
       "      <td>Sst-IRES-Cre</td>\n",
       "      <td>NaN</td>\n",
       "      <td>z_drift_corr_um_diff,z_drift_corr_um_diff,z_dr...</td>\n",
       "      <td>0</td>\n",
       "      <td>False</td>\n",
       "      <td>Sst_VISp_75</td>\n",
       "    </tr>\n",
       "    <tr>\n",
       "      <td>953659749</td>\n",
       "      <td>952430817</td>\n",
       "      <td>952554548</td>\n",
       "      <td>1018028354</td>\n",
       "      <td>VisualBehaviorMultiscope</td>\n",
       "      <td>completed</td>\n",
       "      <td>passed</td>\n",
       "      <td>20190923_457841_2imagesA</td>\n",
       "      <td>OPHYS_2_images_A_passive</td>\n",
       "      <td>MESO.1</td>\n",
       "      <td>2019-09-23 08:13:07.627573</td>\n",
       "      <td>...</td>\n",
       "      <td>150</td>\n",
       "      <td>VISl</td>\n",
       "      <td>NaN</td>\n",
       "      <td>850862430</td>\n",
       "      <td>Sst-IRES-Cre</td>\n",
       "      <td>NaN</td>\n",
       "      <td>z_drift_corr_um_diff,z_drift_corr_um_diff,z_dr...</td>\n",
       "      <td>0</td>\n",
       "      <td>False</td>\n",
       "      <td>Sst_VISl_150</td>\n",
       "    </tr>\n",
       "    <tr>\n",
       "      <td>953659752</td>\n",
       "      <td>952430817</td>\n",
       "      <td>952554548</td>\n",
       "      <td>1018028357</td>\n",
       "      <td>VisualBehaviorMultiscope</td>\n",
       "      <td>completed</td>\n",
       "      <td>passed</td>\n",
       "      <td>20190923_457841_2imagesA</td>\n",
       "      <td>OPHYS_2_images_A_passive</td>\n",
       "      <td>MESO.1</td>\n",
       "      <td>2019-09-23 08:13:07.627573</td>\n",
       "      <td>...</td>\n",
       "      <td>225</td>\n",
       "      <td>VISl</td>\n",
       "      <td>NaN</td>\n",
       "      <td>850862430</td>\n",
       "      <td>Sst-IRES-Cre</td>\n",
       "      <td>NaN</td>\n",
       "      <td>z_drift_corr_um_diff,z_drift_corr_um_diff,z_dr...</td>\n",
       "      <td>0</td>\n",
       "      <td>False</td>\n",
       "      <td>Sst_VISl_225</td>\n",
       "    </tr>\n",
       "    <tr>\n",
       "      <td>953659743</td>\n",
       "      <td>952430817</td>\n",
       "      <td>952554548</td>\n",
       "      <td>1018028345</td>\n",
       "      <td>VisualBehaviorMultiscope</td>\n",
       "      <td>completed</td>\n",
       "      <td>passed</td>\n",
       "      <td>20190923_457841_2imagesA</td>\n",
       "      <td>OPHYS_2_images_A_passive</td>\n",
       "      <td>MESO.1</td>\n",
       "      <td>2019-09-23 08:13:07.627573</td>\n",
       "      <td>...</td>\n",
       "      <td>225</td>\n",
       "      <td>VISp</td>\n",
       "      <td>NaN</td>\n",
       "      <td>850862430</td>\n",
       "      <td>Sst-IRES-Cre</td>\n",
       "      <td>NaN</td>\n",
       "      <td>z_drift_corr_um_diff,z_drift_corr_um_diff,z_dr...</td>\n",
       "      <td>0</td>\n",
       "      <td>False</td>\n",
       "      <td>Sst_VISp_225</td>\n",
       "    </tr>\n",
       "    <tr>\n",
       "      <td>958527474</td>\n",
       "      <td>954954402</td>\n",
       "      <td>953982960</td>\n",
       "      <td>1018028339</td>\n",
       "      <td>VisualBehaviorMultiscope</td>\n",
       "      <td>completed</td>\n",
       "      <td>passed</td>\n",
       "      <td>20190924_457841_3imagesA</td>\n",
       "      <td>OPHYS_3_images_A</td>\n",
       "      <td>MESO.1</td>\n",
       "      <td>2019-09-24 16:00:00.000000</td>\n",
       "      <td>...</td>\n",
       "      <td>75</td>\n",
       "      <td>VISp</td>\n",
       "      <td>NaN</td>\n",
       "      <td>850862430</td>\n",
       "      <td>Sst-IRES-Cre</td>\n",
       "      <td>NaN</td>\n",
       "      <td>NaN</td>\n",
       "      <td>0</td>\n",
       "      <td>True</td>\n",
       "      <td>Sst_VISp_75</td>\n",
       "    </tr>\n",
       "  </tbody>\n",
       "</table>\n",
       "<p>5 rows × 27 columns</p>\n",
       "</div>"
      ],
      "text/plain": [
       "                     ophys_session_id  behavior_session_id  container_id  \\\n",
       "ophys_experiment_id                                                        \n",
       "953659745                   952430817            952554548    1018028339   \n",
       "953659749                   952430817            952554548    1018028354   \n",
       "953659752                   952430817            952554548    1018028357   \n",
       "953659743                   952430817            952554548    1018028345   \n",
       "958527474                   954954402            953982960    1018028339   \n",
       "\n",
       "                                 project_code container_workflow_state  \\\n",
       "ophys_experiment_id                                                      \n",
       "953659745            VisualBehaviorMultiscope                completed   \n",
       "953659749            VisualBehaviorMultiscope                completed   \n",
       "953659752            VisualBehaviorMultiscope                completed   \n",
       "953659743            VisualBehaviorMultiscope                completed   \n",
       "958527474            VisualBehaviorMultiscope                completed   \n",
       "\n",
       "                    experiment_workflow_state              session_name  \\\n",
       "ophys_experiment_id                                                       \n",
       "953659745                              passed  20190923_457841_2imagesA   \n",
       "953659749                              passed  20190923_457841_2imagesA   \n",
       "953659752                              passed  20190923_457841_2imagesA   \n",
       "953659743                              passed  20190923_457841_2imagesA   \n",
       "958527474                              passed  20190924_457841_3imagesA   \n",
       "\n",
       "                                 session_type equipment_name  \\\n",
       "ophys_experiment_id                                            \n",
       "953659745            OPHYS_2_images_A_passive         MESO.1   \n",
       "953659749            OPHYS_2_images_A_passive         MESO.1   \n",
       "953659752            OPHYS_2_images_A_passive         MESO.1   \n",
       "953659743            OPHYS_2_images_A_passive         MESO.1   \n",
       "958527474                    OPHYS_3_images_A         MESO.1   \n",
       "\n",
       "                            date_of_acquisition  ...  imaging_depth  \\\n",
       "ophys_experiment_id                              ...                  \n",
       "953659745            2019-09-23 08:13:07.627573  ...             75   \n",
       "953659749            2019-09-23 08:13:07.627573  ...            150   \n",
       "953659752            2019-09-23 08:13:07.627573  ...            225   \n",
       "953659743            2019-09-23 08:13:07.627573  ...            225   \n",
       "958527474            2019-09-24 16:00:00.000000  ...             75   \n",
       "\n",
       "                     targeted_structure published_at  super_container_id  \\\n",
       "ophys_experiment_id                                                        \n",
       "953659745                          VISp          NaN           850862430   \n",
       "953659749                          VISl          NaN           850862430   \n",
       "953659752                          VISl          NaN           850862430   \n",
       "953659743                          VISp          NaN           850862430   \n",
       "958527474                          VISp          NaN           850862430   \n",
       "\n",
       "                         cre_line session_tags  \\\n",
       "ophys_experiment_id                              \n",
       "953659745            Sst-IRES-Cre          NaN   \n",
       "953659749            Sst-IRES-Cre          NaN   \n",
       "953659752            Sst-IRES-Cre          NaN   \n",
       "953659743            Sst-IRES-Cre          NaN   \n",
       "958527474            Sst-IRES-Cre          NaN   \n",
       "\n",
       "                                                          failure_tags  \\\n",
       "ophys_experiment_id                                                      \n",
       "953659745            z_drift_corr_um_diff,z_drift_corr_um_diff,z_dr...   \n",
       "953659749            z_drift_corr_um_diff,z_drift_corr_um_diff,z_dr...   \n",
       "953659752            z_drift_corr_um_diff,z_drift_corr_um_diff,z_dr...   \n",
       "953659743            z_drift_corr_um_diff,z_drift_corr_um_diff,z_dr...   \n",
       "958527474                                                          NaN   \n",
       "\n",
       "                     exposure_number model_outputs_available      location  \n",
       "ophys_experiment_id                                                         \n",
       "953659745                          0                   False   Sst_VISp_75  \n",
       "953659749                          0                   False  Sst_VISl_150  \n",
       "953659752                          0                   False  Sst_VISl_225  \n",
       "953659743                          0                   False  Sst_VISp_225  \n",
       "958527474                          0                    True   Sst_VISp_75  \n",
       "\n",
       "[5 rows x 27 columns]"
      ]
     },
     "execution_count": 5,
     "metadata": {},
     "output_type": "execute_result"
    }
   ],
   "source": [
    "experiments_table.head()"
   ]
  },
  {
   "cell_type": "code",
   "execution_count": 6,
   "metadata": {},
   "outputs": [
    {
     "data": {
      "text/plain": [
       "ophys_session_id                                                     882386411\n",
       "behavior_session_id                                                  882446265\n",
       "container_id                                                        1018027561\n",
       "project_code                                          VisualBehaviorMultiscope\n",
       "container_workflow_state                                             completed\n",
       "experiment_workflow_state                                               passed\n",
       "session_name                                        20190606_451787_3imagesA_2\n",
       "session_type                                                  OPHYS_3_images_A\n",
       "equipment_name                                                          MESO.1\n",
       "date_of_acquisition                                 2019-06-06 13:37:46.000000\n",
       "isi_experiment_id                                                    846136902\n",
       "specimen_id                                                          837581585\n",
       "sex                                                                          M\n",
       "age_in_days                                                                127\n",
       "full_genotype                Slc17a7-IRES2-Cre/wt;Camk2a-tTA/wt;Ai93(TITL-G...\n",
       "reporter_line                                           ['Ai93(TITL-GCaMP6f)']\n",
       "driver_line                                ['Camk2a-tTA', 'Slc17a7-IRES2-Cre']\n",
       "imaging_depth                                                              225\n",
       "targeted_structure                                                        VISl\n",
       "published_at                                                               NaN\n",
       "super_container_id                                                   837581585\n",
       "cre_line                                                     Slc17a7-IRES2-Cre\n",
       "session_tags                                                               NaN\n",
       "failure_tags                                                               NaN\n",
       "exposure_number                                                              0\n",
       "model_outputs_available                                                   True\n",
       "location                                                      Slc17a7_VISl_225\n",
       "Name: 882551962, dtype: object"
      ]
     },
     "execution_count": 6,
     "metadata": {},
     "output_type": "execute_result"
    }
   ],
   "source": [
    "arbitrary_index = 650\n",
    "experiments_table.iloc[arbitrary_index]"
   ]
  },
  {
   "cell_type": "markdown",
   "metadata": {},
   "source": [
    "### get metrics for one experiment "
   ]
  },
  {
   "cell_type": "code",
   "execution_count": 7,
   "metadata": {
    "scrolled": false
   },
   "outputs": [],
   "source": [
    "ophys_experiment_id = experiments_table.index.values[arbitrary_index]\n",
    "\n",
    "dataset = loading.get_ophys_dataset(ophys_experiment_id)"
   ]
  },
  {
   "cell_type": "code",
   "execution_count": 8,
   "metadata": {},
   "outputs": [
    {
     "name": "stderr",
     "output_type": "stream",
     "text": [
      "C:\\Users\\marinag\\Documents\\Code\\AllenSDK\\allensdk\\brain_observatory\\sync_dataset.py:109: UserWarning: The loaded sync file contains the following deprecated line label keys: {'cam1_exposure', 'cam2_exposure'}. Consider updating the sync file line labels.\n",
      "  self._check_line_labels()\n",
      "C:\\Users\\marinag\\Documents\\Code\\AllenSDK\\allensdk\\brain_observatory\\sync_dataset.py:109: UserWarning: The loaded sync file contains the following deprecated line label keys: {'cam1_exposure', 'cam2_exposure'}. Consider updating the sync file line labels.\n",
      "  self._check_line_labels()\n",
      "WARNING:root:Could not find valid lines for the following data sources\n",
      "WARNING:root:acquiring (valid line label(s) = ['2p_acquiring']\n",
      "ERROR:visual_behavior.ophys.io.lims_database:cannot query specimen driver line: can't adapt type 'numpy.int64'\n",
      "ERROR:visual_behavior.ophys.io.lims_database:cannot query specimen reporter line: can't adapt type 'numpy.int64'\n",
      "ERROR:visual_behavior.ophys.sync.process_sync:Sync photodiode error needs to be fixed. Using assumed monitor delay: 0.0351\n"
     ]
    },
    {
     "name": "stdout",
     "output_type": "stream",
     "text": [
      "resampling mesoscope 2P frame times\n"
     ]
    },
    {
     "name": "stderr",
     "output_type": "stream",
     "text": [
      "ERROR:visual_behavior.ophys.io.lims_database:cannot query specimen driver line: can't adapt type 'numpy.int64'\n",
      "ERROR:visual_behavior.ophys.io.lims_database:cannot query specimen reporter line: can't adapt type 'numpy.int64'\n",
      "ERROR:visual_behavior.ophys.sync.process_sync:Sync photodiode error needs to be fixed. Using assumed monitor delay: 0.0351\n",
      "ERROR:visual_behavior.ophys.io.lims_database:cannot query specimen driver line: can't adapt type 'numpy.int64'\n",
      "ERROR:visual_behavior.ophys.io.lims_database:cannot query specimen reporter line: can't adapt type 'numpy.int64'\n"
     ]
    },
    {
     "name": "stdout",
     "output_type": "stream",
     "text": [
      "resampling mesoscope 2P frame times\n"
     ]
    },
    {
     "name": "stderr",
     "output_type": "stream",
     "text": [
      "ERROR:visual_behavior.ophys.sync.process_sync:Sync photodiode error needs to be fixed. Using assumed monitor delay: 0.0351\n"
     ]
    },
    {
     "name": "stdout",
     "output_type": "stream",
     "text": [
      "resampling mesoscope 2P frame times\n"
     ]
    }
   ],
   "source": [
    "analysis = ResponseAnalysis(dataset) "
   ]
  },
  {
   "cell_type": "code",
   "execution_count": null,
   "metadata": {},
   "outputs": [],
   "source": [
    "sdf = analysis.get_response_df(df_name='stimulus_response_df')\n",
    "tdf = analysis.get_response_df(df_name='trials_response_df')"
   ]
  },
  {
   "cell_type": "code",
   "execution_count": 9,
   "metadata": {
    "scrolled": true
   },
   "outputs": [
    {
     "name": "stderr",
     "output_type": "stream",
     "text": [
      "ERROR:visual_behavior.ophys.io.lims_database:cannot query specimen driver line: can't adapt type 'numpy.int64'\n",
      "ERROR:visual_behavior.ophys.io.lims_database:cannot query specimen reporter line: can't adapt type 'numpy.int64'\n",
      "ERROR:visual_behavior.ophys.sync.process_sync:Sync photodiode error needs to be fixed. Using assumed monitor delay: 0.0351\n"
     ]
    },
    {
     "name": "stdout",
     "output_type": "stream",
     "text": [
      "resampling mesoscope 2P frame times\n"
     ]
    },
    {
     "name": "stderr",
     "output_type": "stream",
     "text": [
      "C:\\Users\\marinag\\AppData\\Roaming\\Python\\Python37\\site-packages\\pandas\\core\\indexing.py:494: SettingWithCopyWarning: \n",
      "A value is trying to be set on a copy of a slice from a DataFrame.\n",
      "Try using .loc[row_indexer,col_indexer] = value instead\n",
      "\n",
      "See the caveats in the documentation: http://pandas.pydata.org/pandas-docs/stable/user_guide/indexing.html#returning-a-view-versus-a-copy\n",
      "  self.obj[item] = s\n",
      "ERROR:visual_behavior.ophys.io.lims_database:cannot query specimen driver line: can't adapt type 'numpy.int64'\n",
      "ERROR:visual_behavior.ophys.io.lims_database:cannot query specimen reporter line: can't adapt type 'numpy.int64'\n",
      "ERROR:visual_behavior.ophys.sync.process_sync:Sync photodiode error needs to be fixed. Using assumed monitor delay: 0.0351\n"
     ]
    },
    {
     "name": "stdout",
     "output_type": "stream",
     "text": [
      "resampling mesoscope 2P frame times\n"
     ]
    },
    {
     "name": "stderr",
     "output_type": "stream",
     "text": [
      "ERROR:visual_behavior.ophys.io.lims_database:cannot query specimen driver line: can't adapt type 'numpy.int64'\n",
      "ERROR:visual_behavior.ophys.io.lims_database:cannot query specimen reporter line: can't adapt type 'numpy.int64'\n",
      "ERROR:visual_behavior.ophys.sync.process_sync:Sync photodiode error needs to be fixed. Using assumed monitor delay: 0.0351\n"
     ]
    },
    {
     "name": "stdout",
     "output_type": "stream",
     "text": [
      "resampling mesoscope 2P frame times\n"
     ]
    },
    {
     "name": "stderr",
     "output_type": "stream",
     "text": [
      "C:\\Users\\marinag\\AppData\\Roaming\\Python\\Python37\\site-packages\\pandas\\core\\indexing.py:494: SettingWithCopyWarning: \n",
      "A value is trying to be set on a copy of a slice from a DataFrame.\n",
      "Try using .loc[row_indexer,col_indexer] = value instead\n",
      "\n",
      "See the caveats in the documentation: http://pandas.pydata.org/pandas-docs/stable/user_guide/indexing.html#returning-a-view-versus-a-copy\n",
      "  self.obj[item] = s\n"
     ]
    }
   ],
   "source": [
    "msdf = ut.get_mean_df(sdf, conditions=['cell_specimen_id', 'omitted', 'image_name'], flashes=True)\n",
    "mtdf = ut.get_mean_df(tdf, conditions=['cell_specimen_id', 'go', 'change_image_name'])"
   ]
  },
  {
   "cell_type": "code",
   "execution_count": 27,
   "metadata": {},
   "outputs": [
    {
     "name": "stderr",
     "output_type": "stream",
     "text": [
      "ERROR:visual_behavior.ophys.io.lims_database:cannot query specimen driver line: can't adapt type 'numpy.int64'\n",
      "ERROR:visual_behavior.ophys.io.lims_database:cannot query specimen reporter line: can't adapt type 'numpy.int64'\n",
      "ERROR:visual_behavior.ophys.sync.process_sync:Sync photodiode error needs to be fixed. Using assumed monitor delay: 0.0351\n"
     ]
    },
    {
     "name": "stdout",
     "output_type": "stream",
     "text": [
      "resampling mesoscope 2P frame times\n"
     ]
    }
   ],
   "source": [
    "session_type = dataset.metadata['session_type']"
   ]
  },
  {
   "cell_type": "code",
   "execution_count": 30,
   "metadata": {
    "scrolled": true
   },
   "outputs": [],
   "source": [
    "df_list = []\n",
    "for cell_specimen_id in msdf.cell_specimen_id.unique():\n",
    "    cdf = msdf[msdf.cell_specimen_id==cell_specimen_id]\n",
    "    for omitted in cdf.omitted.unique():\n",
    "        if omitted: \n",
    "            condition = 'omitted_post'\n",
    "            mean_response = cdf[cdf.omitted==True].mean_response.values[0]\n",
    "            df_list.append([cell_specimen_id, condition, mean_response])\n",
    "            condition = 'omitted_pre'\n",
    "            mean_response = cdf[cdf.omitted==True].mean_baseline.values[0]\n",
    "            df_list.append([cell_specimen_id, condition, mean_response])\n",
    "        else: \n",
    "            for i, image_name in enumerate(cdf.image_name.unique()): \n",
    "                if 'images_B' in session_type: \n",
    "                    i = i+8\n",
    "                condition = 'im'+str(i)+'_post'\n",
    "                mean_response = cdf[cdf.image_name==image_name].mean_response.values[0]\n",
    "                df_list.append([cell_specimen_id, condition, mean_response])\n",
    "                condition = 'im'+str(i)+'_pre'\n",
    "                mean_response = cdf[cdf.image_name==image_name].mean_baseline.values[0]\n",
    "                df_list.append([cell_specimen_id, condition, mean_response])\n",
    "    cdf = mtdf[mtdf.cell_specimen_id==cell_specimen_id]\n",
    "    cdf = cdf[cdf.go]\n",
    "    for i, change_image_name in enumerate(cdf.change_image_name.unique()): \n",
    "        if 'images_B' in session_type: \n",
    "            i = i+8\n",
    "        condition = 'change_im'+str(i)+'_post'\n",
    "        mean_response = cdf[cdf.change_image_name==change_image_name].mean_response.values[0]\n",
    "        df_list.append([cell_specimen_id, condition, mean_response])\n",
    "        condition = 'change_im'+str(i)+'_pre'\n",
    "        mean_response = cdf[cdf.change_image_name==change_image_name].mean_baseline.values[0]\n",
    "        df_list.append([cell_specimen_id, condition, mean_response])"
   ]
  },
  {
   "cell_type": "code",
   "execution_count": 45,
   "metadata": {},
   "outputs": [],
   "source": [
    "metrics_df = pd.DataFrame(data=df_list, columns=['cell_specimen_id','condition','mean_response'])"
   ]
  },
  {
   "cell_type": "code",
   "execution_count": 46,
   "metadata": {},
   "outputs": [],
   "source": [
    "metrics_df = metrics_df.set_index(['cell_specimen_id', 'condition'])"
   ]
  },
  {
   "cell_type": "code",
   "execution_count": 49,
   "metadata": {
    "scrolled": true
   },
   "outputs": [],
   "source": [
    "unstacked_metrics = metrics_df.unstack(level=-1)"
   ]
  },
  {
   "cell_type": "code",
   "execution_count": 54,
   "metadata": {
    "scrolled": true
   },
   "outputs": [
    {
     "data": {
      "text/html": [
       "<div>\n",
       "<style scoped>\n",
       "    .dataframe tbody tr th:only-of-type {\n",
       "        vertical-align: middle;\n",
       "    }\n",
       "\n",
       "    .dataframe tbody tr th {\n",
       "        vertical-align: top;\n",
       "    }\n",
       "\n",
       "    .dataframe thead tr th {\n",
       "        text-align: left;\n",
       "    }\n",
       "\n",
       "    .dataframe thead tr:last-of-type th {\n",
       "        text-align: right;\n",
       "    }\n",
       "</style>\n",
       "<table border=\"1\" class=\"dataframe\">\n",
       "  <thead>\n",
       "    <tr>\n",
       "      <th></th>\n",
       "      <th colspan=\"21\" halign=\"left\">mean_response</th>\n",
       "    </tr>\n",
       "    <tr>\n",
       "      <th>condition</th>\n",
       "      <th>change_im0_post</th>\n",
       "      <th>change_im0_pre</th>\n",
       "      <th>change_im1_post</th>\n",
       "      <th>change_im1_pre</th>\n",
       "      <th>change_im2_post</th>\n",
       "      <th>change_im2_pre</th>\n",
       "      <th>change_im3_post</th>\n",
       "      <th>change_im3_pre</th>\n",
       "      <th>change_im4_post</th>\n",
       "      <th>change_im4_pre</th>\n",
       "      <th>...</th>\n",
       "      <th>im5_post</th>\n",
       "      <th>im5_pre</th>\n",
       "      <th>im6_post</th>\n",
       "      <th>im6_pre</th>\n",
       "      <th>im7_post</th>\n",
       "      <th>im7_pre</th>\n",
       "      <th>im8_post</th>\n",
       "      <th>im8_pre</th>\n",
       "      <th>omitted_post</th>\n",
       "      <th>omitted_pre</th>\n",
       "    </tr>\n",
       "    <tr>\n",
       "      <th>cell_specimen_id</th>\n",
       "      <th></th>\n",
       "      <th></th>\n",
       "      <th></th>\n",
       "      <th></th>\n",
       "      <th></th>\n",
       "      <th></th>\n",
       "      <th></th>\n",
       "      <th></th>\n",
       "      <th></th>\n",
       "      <th></th>\n",
       "      <th></th>\n",
       "      <th></th>\n",
       "      <th></th>\n",
       "      <th></th>\n",
       "      <th></th>\n",
       "      <th></th>\n",
       "      <th></th>\n",
       "      <th></th>\n",
       "      <th></th>\n",
       "      <th></th>\n",
       "      <th></th>\n",
       "    </tr>\n",
       "  </thead>\n",
       "  <tbody>\n",
       "    <tr>\n",
       "      <td>1028768480</td>\n",
       "      <td>-0.002508</td>\n",
       "      <td>-0.004881</td>\n",
       "      <td>0.000733</td>\n",
       "      <td>0.001238</td>\n",
       "      <td>-0.003659</td>\n",
       "      <td>-0.014542</td>\n",
       "      <td>0.010927</td>\n",
       "      <td>0.015591</td>\n",
       "      <td>0.092709</td>\n",
       "      <td>-0.056114</td>\n",
       "      <td>...</td>\n",
       "      <td>0.000210</td>\n",
       "      <td>-0.007236</td>\n",
       "      <td>0.001369</td>\n",
       "      <td>-0.005337</td>\n",
       "      <td>0.004199</td>\n",
       "      <td>-0.006308</td>\n",
       "      <td>-0.007145</td>\n",
       "      <td>-0.014463</td>\n",
       "      <td>-0.007145</td>\n",
       "      <td>-0.014463</td>\n",
       "    </tr>\n",
       "    <tr>\n",
       "      <td>1028768607</td>\n",
       "      <td>0.009732</td>\n",
       "      <td>0.013123</td>\n",
       "      <td>0.004840</td>\n",
       "      <td>0.003091</td>\n",
       "      <td>0.012603</td>\n",
       "      <td>0.009998</td>\n",
       "      <td>0.019604</td>\n",
       "      <td>0.029273</td>\n",
       "      <td>0.037741</td>\n",
       "      <td>0.037962</td>\n",
       "      <td>...</td>\n",
       "      <td>0.011443</td>\n",
       "      <td>-0.004434</td>\n",
       "      <td>0.038102</td>\n",
       "      <td>0.000445</td>\n",
       "      <td>0.000967</td>\n",
       "      <td>-0.000356</td>\n",
       "      <td>0.017712</td>\n",
       "      <td>-0.000898</td>\n",
       "      <td>0.017712</td>\n",
       "      <td>-0.000898</td>\n",
       "    </tr>\n",
       "    <tr>\n",
       "      <td>1028768626</td>\n",
       "      <td>0.035414</td>\n",
       "      <td>0.025548</td>\n",
       "      <td>0.026619</td>\n",
       "      <td>0.015209</td>\n",
       "      <td>0.011897</td>\n",
       "      <td>0.006415</td>\n",
       "      <td>0.019622</td>\n",
       "      <td>0.000528</td>\n",
       "      <td>0.023111</td>\n",
       "      <td>0.048751</td>\n",
       "      <td>...</td>\n",
       "      <td>0.005377</td>\n",
       "      <td>-0.001538</td>\n",
       "      <td>0.003714</td>\n",
       "      <td>0.002420</td>\n",
       "      <td>0.001545</td>\n",
       "      <td>0.000635</td>\n",
       "      <td>0.004650</td>\n",
       "      <td>0.002673</td>\n",
       "      <td>0.004650</td>\n",
       "      <td>0.002673</td>\n",
       "    </tr>\n",
       "    <tr>\n",
       "      <td>1028768716</td>\n",
       "      <td>0.032951</td>\n",
       "      <td>0.009659</td>\n",
       "      <td>0.004358</td>\n",
       "      <td>-0.007742</td>\n",
       "      <td>0.013827</td>\n",
       "      <td>0.000919</td>\n",
       "      <td>0.013971</td>\n",
       "      <td>0.014120</td>\n",
       "      <td>0.016971</td>\n",
       "      <td>-0.004408</td>\n",
       "      <td>...</td>\n",
       "      <td>0.006757</td>\n",
       "      <td>-0.002998</td>\n",
       "      <td>0.003977</td>\n",
       "      <td>0.001202</td>\n",
       "      <td>0.005108</td>\n",
       "      <td>-0.002028</td>\n",
       "      <td>0.004696</td>\n",
       "      <td>-0.004380</td>\n",
       "      <td>0.004696</td>\n",
       "      <td>-0.004380</td>\n",
       "    </tr>\n",
       "    <tr>\n",
       "      <td>1028768871</td>\n",
       "      <td>0.012340</td>\n",
       "      <td>0.009507</td>\n",
       "      <td>0.015825</td>\n",
       "      <td>0.007567</td>\n",
       "      <td>0.021601</td>\n",
       "      <td>-0.009895</td>\n",
       "      <td>0.017551</td>\n",
       "      <td>-0.004548</td>\n",
       "      <td>0.015535</td>\n",
       "      <td>0.008960</td>\n",
       "      <td>...</td>\n",
       "      <td>0.006926</td>\n",
       "      <td>-0.004252</td>\n",
       "      <td>0.002560</td>\n",
       "      <td>-0.001352</td>\n",
       "      <td>0.003315</td>\n",
       "      <td>-0.000652</td>\n",
       "      <td>-0.000052</td>\n",
       "      <td>-0.004712</td>\n",
       "      <td>-0.000052</td>\n",
       "      <td>-0.004712</td>\n",
       "    </tr>\n",
       "  </tbody>\n",
       "</table>\n",
       "<p>5 rows × 36 columns</p>\n",
       "</div>"
      ],
      "text/plain": [
       "                   mean_response                                 \\\n",
       "condition        change_im0_post change_im0_pre change_im1_post   \n",
       "cell_specimen_id                                                  \n",
       "1028768480             -0.002508      -0.004881        0.000733   \n",
       "1028768607              0.009732       0.013123        0.004840   \n",
       "1028768626              0.035414       0.025548        0.026619   \n",
       "1028768716              0.032951       0.009659        0.004358   \n",
       "1028768871              0.012340       0.009507        0.015825   \n",
       "\n",
       "                                                                \\\n",
       "condition        change_im1_pre change_im2_post change_im2_pre   \n",
       "cell_specimen_id                                                 \n",
       "1028768480             0.001238       -0.003659      -0.014542   \n",
       "1028768607             0.003091        0.012603       0.009998   \n",
       "1028768626             0.015209        0.011897       0.006415   \n",
       "1028768716            -0.007742        0.013827       0.000919   \n",
       "1028768871             0.007567        0.021601      -0.009895   \n",
       "\n",
       "                                                                 \\\n",
       "condition        change_im3_post change_im3_pre change_im4_post   \n",
       "cell_specimen_id                                                  \n",
       "1028768480              0.010927       0.015591        0.092709   \n",
       "1028768607              0.019604       0.029273        0.037741   \n",
       "1028768626              0.019622       0.000528        0.023111   \n",
       "1028768716              0.013971       0.014120        0.016971   \n",
       "1028768871              0.017551      -0.004548        0.015535   \n",
       "\n",
       "                                 ...                                          \\\n",
       "condition        change_im4_pre  ...  im5_post   im5_pre  im6_post   im6_pre   \n",
       "cell_specimen_id                 ...                                           \n",
       "1028768480            -0.056114  ...  0.000210 -0.007236  0.001369 -0.005337   \n",
       "1028768607             0.037962  ...  0.011443 -0.004434  0.038102  0.000445   \n",
       "1028768626             0.048751  ...  0.005377 -0.001538  0.003714  0.002420   \n",
       "1028768716            -0.004408  ...  0.006757 -0.002998  0.003977  0.001202   \n",
       "1028768871             0.008960  ...  0.006926 -0.004252  0.002560 -0.001352   \n",
       "\n",
       "                                                                       \\\n",
       "condition         im7_post   im7_pre  im8_post   im8_pre omitted_post   \n",
       "cell_specimen_id                                                        \n",
       "1028768480        0.004199 -0.006308 -0.007145 -0.014463    -0.007145   \n",
       "1028768607        0.000967 -0.000356  0.017712 -0.000898     0.017712   \n",
       "1028768626        0.001545  0.000635  0.004650  0.002673     0.004650   \n",
       "1028768716        0.005108 -0.002028  0.004696 -0.004380     0.004696   \n",
       "1028768871        0.003315 -0.000652 -0.000052 -0.004712    -0.000052   \n",
       "\n",
       "                              \n",
       "condition        omitted_pre  \n",
       "cell_specimen_id              \n",
       "1028768480         -0.014463  \n",
       "1028768607         -0.000898  \n",
       "1028768626          0.002673  \n",
       "1028768716         -0.004380  \n",
       "1028768871         -0.004712  \n",
       "\n",
       "[5 rows x 36 columns]"
      ]
     },
     "execution_count": 54,
     "metadata": {},
     "output_type": "execute_result"
    }
   ],
   "source": [
    "unstacked_metrics.head()"
   ]
  },
  {
   "cell_type": "code",
   "execution_count": 53,
   "metadata": {},
   "outputs": [
    {
     "data": {
      "text/plain": [
       "(53, 36)"
      ]
     },
     "execution_count": 53,
     "metadata": {},
     "output_type": "execute_result"
    }
   ],
   "source": [
    "metrics_array = unstacked_metrics.values\n",
    "metrics_array.shape"
   ]
  },
  {
   "cell_type": "markdown",
   "metadata": {},
   "source": [
    "### for a bunch of experiments"
   ]
  },
  {
   "cell_type": "code",
   "execution_count": 60,
   "metadata": {},
   "outputs": [],
   "source": [
    "def get_metrics_df(mean_stim_df, mean_trials_df, session_type, experiment_id): \n",
    "    msdf = mean_stim_df.copy()\n",
    "    mtdf = mean_trials_df.copy()\n",
    "    df_list = []\n",
    "    for cell_specimen_id in msdf.cell_specimen_id.unique():\n",
    "        cdf = msdf[msdf.cell_specimen_id==cell_specimen_id]\n",
    "        for omitted in cdf.omitted.unique():\n",
    "            if omitted: \n",
    "                condition = 'omitted_post'\n",
    "                mean_response = cdf[cdf.omitted==True].mean_response.values[0]\n",
    "                df_list.append([cell_specimen_id, condition, mean_response])\n",
    "                condition = 'omitted_pre'\n",
    "                mean_response = cdf[cdf.omitted==True].mean_baseline.values[0]\n",
    "                df_list.append([cell_specimen_id, condition, mean_response])\n",
    "            else: \n",
    "                for i, image_name in enumerate(cdf.image_name.unique()): \n",
    "                    if 'images_B' in session_type: \n",
    "                        i = i+8\n",
    "                    condition = 'im'+str(i)+'_post'\n",
    "                    mean_response = cdf[cdf.image_name==image_name].mean_response.values[0]\n",
    "                    df_list.append([cell_specimen_id, condition, mean_response])\n",
    "                    condition = 'im'+str(i)+'_pre'\n",
    "                    mean_response = cdf[cdf.image_name==image_name].mean_baseline.values[0]\n",
    "                    df_list.append([cell_specimen_id, condition, mean_response])\n",
    "        cdf = mtdf[mtdf.cell_specimen_id==cell_specimen_id]\n",
    "        cdf = cdf[cdf.go]\n",
    "        for i, change_image_name in enumerate(cdf.change_image_name.unique()): \n",
    "            if 'images_B' in session_type: \n",
    "                i = i+8\n",
    "            condition = 'change_im'+str(i)+'_post'\n",
    "            mean_response = cdf[cdf.change_image_name==change_image_name].mean_response.values[0]\n",
    "            df_list.append([cell_specimen_id, condition, mean_response])\n",
    "            condition = 'change_im'+str(i)+'_pre'\n",
    "            mean_response = cdf[cdf.change_image_name==change_image_name].mean_baseline.values[0]\n",
    "            df_list.append([cell_specimen_id, condition, mean_response])\n",
    "    metrics_df = pd.DataFrame(data=df_list, columns=['cell_specimen_id','condition','mean_response'])\n",
    "    metrics_df['experiment_id'] = experiment_id\n",
    "    return metrics_df"
   ]
  },
  {
   "cell_type": "code",
   "execution_count": 64,
   "metadata": {
    "scrolled": true
   },
   "outputs": [
    {
     "name": "stderr",
     "output_type": "stream",
     "text": [
      "C:\\Users\\marinag\\Documents\\Code\\AllenSDK\\allensdk\\brain_observatory\\sync_dataset.py:109: UserWarning: The loaded sync file contains the following deprecated line label keys: {'cam1_exposure', 'cam2_exposure'}. Consider updating the sync file line labels.\n",
      "  self._check_line_labels()\n",
      "C:\\Users\\marinag\\Documents\\Code\\AllenSDK\\allensdk\\brain_observatory\\sync_dataset.py:109: UserWarning: The loaded sync file contains the following deprecated line label keys: {'cam1_exposure', 'cam2_exposure'}. Consider updating the sync file line labels.\n",
      "  self._check_line_labels()\n",
      "WARNING:root:Could not find valid lines for the following data sources\n",
      "WARNING:root:acquiring (valid line label(s) = ['2p_acquiring']\n",
      "ERROR:visual_behavior.ophys.io.lims_database:cannot query specimen driver line: can't adapt type 'numpy.int64'\n",
      "ERROR:visual_behavior.ophys.io.lims_database:cannot query specimen reporter line: can't adapt type 'numpy.int64'\n",
      "ERROR:visual_behavior.ophys.sync.process_sync:Sync photodiode error needs to be fixed. Using assumed monitor delay: 0.0351\n"
     ]
    },
    {
     "name": "stdout",
     "output_type": "stream",
     "text": [
      "resampling mesoscope 2P frame times\n"
     ]
    },
    {
     "name": "stderr",
     "output_type": "stream",
     "text": [
      "ERROR:visual_behavior.ophys.io.lims_database:cannot query specimen driver line: can't adapt type 'numpy.int64'\n",
      "ERROR:visual_behavior.ophys.io.lims_database:cannot query specimen reporter line: can't adapt type 'numpy.int64'\n",
      "ERROR:visual_behavior.ophys.sync.process_sync:Sync photodiode error needs to be fixed. Using assumed monitor delay: 0.0351\n",
      "ERROR:visual_behavior.ophys.io.lims_database:cannot query specimen driver line: can't adapt type 'numpy.int64'\n",
      "ERROR:visual_behavior.ophys.io.lims_database:cannot query specimen reporter line: can't adapt type 'numpy.int64'\n"
     ]
    },
    {
     "name": "stdout",
     "output_type": "stream",
     "text": [
      "resampling mesoscope 2P frame times\n"
     ]
    },
    {
     "name": "stderr",
     "output_type": "stream",
     "text": [
      "ERROR:visual_behavior.ophys.sync.process_sync:Sync photodiode error needs to be fixed. Using assumed monitor delay: 0.0351\n"
     ]
    },
    {
     "name": "stdout",
     "output_type": "stream",
     "text": [
      "resampling mesoscope 2P frame times\n"
     ]
    },
    {
     "name": "stderr",
     "output_type": "stream",
     "text": [
      "ERROR:visual_behavior.ophys.io.lims_database:cannot query specimen driver line: can't adapt type 'numpy.int64'\n",
      "ERROR:visual_behavior.ophys.io.lims_database:cannot query specimen reporter line: can't adapt type 'numpy.int64'\n",
      "ERROR:visual_behavior.ophys.sync.process_sync:Sync photodiode error needs to be fixed. Using assumed monitor delay: 0.0351\n"
     ]
    },
    {
     "name": "stdout",
     "output_type": "stream",
     "text": [
      "resampling mesoscope 2P frame times\n"
     ]
    },
    {
     "name": "stderr",
     "output_type": "stream",
     "text": [
      "C:\\Users\\marinag\\AppData\\Roaming\\Python\\Python37\\site-packages\\pandas\\core\\indexing.py:494: SettingWithCopyWarning: \n",
      "A value is trying to be set on a copy of a slice from a DataFrame.\n",
      "Try using .loc[row_indexer,col_indexer] = value instead\n",
      "\n",
      "See the caveats in the documentation: http://pandas.pydata.org/pandas-docs/stable/user_guide/indexing.html#returning-a-view-versus-a-copy\n",
      "  self.obj[item] = s\n",
      "ERROR:visual_behavior.ophys.io.lims_database:cannot query specimen driver line: can't adapt type 'numpy.int64'\n",
      "ERROR:visual_behavior.ophys.io.lims_database:cannot query specimen reporter line: can't adapt type 'numpy.int64'\n",
      "ERROR:visual_behavior.ophys.sync.process_sync:Sync photodiode error needs to be fixed. Using assumed monitor delay: 0.0351\n"
     ]
    },
    {
     "name": "stdout",
     "output_type": "stream",
     "text": [
      "resampling mesoscope 2P frame times\n"
     ]
    },
    {
     "name": "stderr",
     "output_type": "stream",
     "text": [
      "C:\\Users\\marinag\\AppData\\Roaming\\Python\\Python37\\site-packages\\pandas\\core\\indexing.py:494: SettingWithCopyWarning: \n",
      "A value is trying to be set on a copy of a slice from a DataFrame.\n",
      "Try using .loc[row_indexer,col_indexer] = value instead\n",
      "\n",
      "See the caveats in the documentation: http://pandas.pydata.org/pandas-docs/stable/user_guide/indexing.html#returning-a-view-versus-a-copy\n",
      "  self.obj[item] = s\n"
     ]
    },
    {
     "name": "stdout",
     "output_type": "stream",
     "text": [
      "must provide analysis object to get_mean_df to compute reliability\n"
     ]
    },
    {
     "name": "stderr",
     "output_type": "stream",
     "text": [
      "ERROR:visual_behavior.ophys.io.lims_database:cannot query specimen driver line: can't adapt type 'numpy.int64'\n",
      "ERROR:visual_behavior.ophys.io.lims_database:cannot query specimen reporter line: can't adapt type 'numpy.int64'\n"
     ]
    },
    {
     "name": "stdout",
     "output_type": "stream",
     "text": [
      "must provide analysis object to get_mean_df to compute reliability\n"
     ]
    },
    {
     "name": "stderr",
     "output_type": "stream",
     "text": [
      "ERROR:visual_behavior.ophys.sync.process_sync:Sync photodiode error needs to be fixed. Using assumed monitor delay: 0.0351\n"
     ]
    },
    {
     "name": "stdout",
     "output_type": "stream",
     "text": [
      "resampling mesoscope 2P frame times\n"
     ]
    },
    {
     "name": "stderr",
     "output_type": "stream",
     "text": [
      "C:\\Users\\marinag\\Documents\\Code\\AllenSDK\\allensdk\\brain_observatory\\sync_dataset.py:109: UserWarning: The loaded sync file contains the following deprecated line label keys: {'cam1_exposure', 'cam2_exposure'}. Consider updating the sync file line labels.\n",
      "  self._check_line_labels()\n",
      "C:\\Users\\marinag\\Documents\\Code\\AllenSDK\\allensdk\\brain_observatory\\sync_dataset.py:109: UserWarning: The loaded sync file contains the following deprecated line label keys: {'cam1_exposure', 'cam2_exposure'}. Consider updating the sync file line labels.\n",
      "  self._check_line_labels()\n",
      "WARNING:root:Could not find valid lines for the following data sources\n",
      "WARNING:root:acquiring (valid line label(s) = ['2p_acquiring']\n",
      "ERROR:visual_behavior.ophys.io.lims_database:cannot query specimen driver line: can't adapt type 'numpy.int64'\n",
      "ERROR:visual_behavior.ophys.io.lims_database:cannot query specimen reporter line: can't adapt type 'numpy.int64'\n",
      "ERROR:visual_behavior.ophys.sync.process_sync:Sync photodiode error needs to be fixed. Using assumed monitor delay: 0.0351\n"
     ]
    },
    {
     "name": "stdout",
     "output_type": "stream",
     "text": [
      "resampling mesoscope 2P frame times\n"
     ]
    },
    {
     "name": "stderr",
     "output_type": "stream",
     "text": [
      "ERROR:visual_behavior.ophys.io.lims_database:cannot query specimen driver line: can't adapt type 'numpy.int64'\n",
      "ERROR:visual_behavior.ophys.io.lims_database:cannot query specimen reporter line: can't adapt type 'numpy.int64'\n",
      "ERROR:visual_behavior.ophys.sync.process_sync:Sync photodiode error needs to be fixed. Using assumed monitor delay: 0.0351\n",
      "ERROR:visual_behavior.ophys.io.lims_database:cannot query specimen driver line: can't adapt type 'numpy.int64'\n",
      "ERROR:visual_behavior.ophys.io.lims_database:cannot query specimen reporter line: can't adapt type 'numpy.int64'\n"
     ]
    },
    {
     "name": "stdout",
     "output_type": "stream",
     "text": [
      "resampling mesoscope 2P frame times\n"
     ]
    },
    {
     "name": "stderr",
     "output_type": "stream",
     "text": [
      "ERROR:visual_behavior.ophys.sync.process_sync:Sync photodiode error needs to be fixed. Using assumed monitor delay: 0.0351\n"
     ]
    },
    {
     "name": "stdout",
     "output_type": "stream",
     "text": [
      "resampling mesoscope 2P frame times\n"
     ]
    },
    {
     "name": "stderr",
     "output_type": "stream",
     "text": [
      "ERROR:visual_behavior.ophys.io.lims_database:cannot query specimen driver line: can't adapt type 'numpy.int64'\n",
      "ERROR:visual_behavior.ophys.io.lims_database:cannot query specimen reporter line: can't adapt type 'numpy.int64'\n",
      "ERROR:visual_behavior.ophys.sync.process_sync:Sync photodiode error needs to be fixed. Using assumed monitor delay: 0.0351\n"
     ]
    },
    {
     "name": "stdout",
     "output_type": "stream",
     "text": [
      "resampling mesoscope 2P frame times\n"
     ]
    },
    {
     "name": "stderr",
     "output_type": "stream",
     "text": [
      "C:\\Users\\marinag\\AppData\\Roaming\\Python\\Python37\\site-packages\\pandas\\core\\indexing.py:494: SettingWithCopyWarning: \n",
      "A value is trying to be set on a copy of a slice from a DataFrame.\n",
      "Try using .loc[row_indexer,col_indexer] = value instead\n",
      "\n",
      "See the caveats in the documentation: http://pandas.pydata.org/pandas-docs/stable/user_guide/indexing.html#returning-a-view-versus-a-copy\n",
      "  self.obj[item] = s\n",
      "ERROR:visual_behavior.ophys.io.lims_database:cannot query specimen driver line: can't adapt type 'numpy.int64'\n",
      "ERROR:visual_behavior.ophys.io.lims_database:cannot query specimen reporter line: can't adapt type 'numpy.int64'\n",
      "ERROR:visual_behavior.ophys.sync.process_sync:Sync photodiode error needs to be fixed. Using assumed monitor delay: 0.0351\n"
     ]
    },
    {
     "name": "stdout",
     "output_type": "stream",
     "text": [
      "resampling mesoscope 2P frame times\n"
     ]
    },
    {
     "name": "stderr",
     "output_type": "stream",
     "text": [
      "C:\\Users\\marinag\\AppData\\Roaming\\Python\\Python37\\site-packages\\pandas\\core\\indexing.py:494: SettingWithCopyWarning: \n",
      "A value is trying to be set on a copy of a slice from a DataFrame.\n",
      "Try using .loc[row_indexer,col_indexer] = value instead\n",
      "\n",
      "See the caveats in the documentation: http://pandas.pydata.org/pandas-docs/stable/user_guide/indexing.html#returning-a-view-versus-a-copy\n",
      "  self.obj[item] = s\n"
     ]
    },
    {
     "name": "stdout",
     "output_type": "stream",
     "text": [
      "must provide analysis object to get_mean_df to compute reliability\n"
     ]
    },
    {
     "name": "stderr",
     "output_type": "stream",
     "text": [
      "ERROR:visual_behavior.ophys.io.lims_database:cannot query specimen driver line: can't adapt type 'numpy.int64'\n",
      "ERROR:visual_behavior.ophys.io.lims_database:cannot query specimen reporter line: can't adapt type 'numpy.int64'\n"
     ]
    },
    {
     "name": "stdout",
     "output_type": "stream",
     "text": [
      "must provide analysis object to get_mean_df to compute reliability\n"
     ]
    },
    {
     "name": "stderr",
     "output_type": "stream",
     "text": [
      "ERROR:visual_behavior.ophys.sync.process_sync:Sync photodiode error needs to be fixed. Using assumed monitor delay: 0.0351\n"
     ]
    },
    {
     "name": "stdout",
     "output_type": "stream",
     "text": [
      "resampling mesoscope 2P frame times\n"
     ]
    },
    {
     "name": "stderr",
     "output_type": "stream",
     "text": [
      "C:\\Users\\marinag\\Documents\\Code\\AllenSDK\\allensdk\\brain_observatory\\sync_dataset.py:109: UserWarning: The loaded sync file contains the following deprecated line label keys: {'cam1_exposure', 'cam2_exposure'}. Consider updating the sync file line labels.\n",
      "  self._check_line_labels()\n",
      "C:\\Users\\marinag\\Documents\\Code\\AllenSDK\\allensdk\\brain_observatory\\sync_dataset.py:109: UserWarning: The loaded sync file contains the following deprecated line label keys: {'cam1_exposure', 'cam2_exposure'}. Consider updating the sync file line labels.\n",
      "  self._check_line_labels()\n",
      "WARNING:root:Could not find valid lines for the following data sources\n",
      "WARNING:root:acquiring (valid line label(s) = ['2p_acquiring']\n",
      "ERROR:visual_behavior.ophys.io.lims_database:cannot query specimen driver line: can't adapt type 'numpy.int64'\n",
      "ERROR:visual_behavior.ophys.io.lims_database:cannot query specimen reporter line: can't adapt type 'numpy.int64'\n",
      "ERROR:visual_behavior.ophys.sync.process_sync:Sync photodiode error needs to be fixed. Using assumed monitor delay: 0.0351\n"
     ]
    },
    {
     "name": "stdout",
     "output_type": "stream",
     "text": [
      "resampling mesoscope 2P frame times\n"
     ]
    },
    {
     "name": "stderr",
     "output_type": "stream",
     "text": [
      "ERROR:visual_behavior.ophys.io.lims_database:cannot query specimen driver line: can't adapt type 'numpy.int64'\n",
      "ERROR:visual_behavior.ophys.io.lims_database:cannot query specimen reporter line: can't adapt type 'numpy.int64'\n",
      "ERROR:visual_behavior.ophys.sync.process_sync:Sync photodiode error needs to be fixed. Using assumed monitor delay: 0.0351\n",
      "ERROR:visual_behavior.ophys.io.lims_database:cannot query specimen driver line: can't adapt type 'numpy.int64'\n",
      "ERROR:visual_behavior.ophys.io.lims_database:cannot query specimen reporter line: can't adapt type 'numpy.int64'\n"
     ]
    },
    {
     "name": "stdout",
     "output_type": "stream",
     "text": [
      "resampling mesoscope 2P frame times\n"
     ]
    },
    {
     "name": "stderr",
     "output_type": "stream",
     "text": [
      "ERROR:visual_behavior.ophys.sync.process_sync:Sync photodiode error needs to be fixed. Using assumed monitor delay: 0.0351\n"
     ]
    },
    {
     "name": "stdout",
     "output_type": "stream",
     "text": [
      "resampling mesoscope 2P frame times\n"
     ]
    },
    {
     "name": "stderr",
     "output_type": "stream",
     "text": [
      "ERROR:visual_behavior.ophys.io.lims_database:cannot query specimen driver line: can't adapt type 'numpy.int64'\n",
      "ERROR:visual_behavior.ophys.io.lims_database:cannot query specimen reporter line: can't adapt type 'numpy.int64'\n",
      "ERROR:visual_behavior.ophys.sync.process_sync:Sync photodiode error needs to be fixed. Using assumed monitor delay: 0.0351\n"
     ]
    },
    {
     "name": "stdout",
     "output_type": "stream",
     "text": [
      "resampling mesoscope 2P frame times\n"
     ]
    },
    {
     "name": "stderr",
     "output_type": "stream",
     "text": [
      "C:\\Users\\marinag\\AppData\\Roaming\\Python\\Python37\\site-packages\\pandas\\core\\indexing.py:494: SettingWithCopyWarning: \n",
      "A value is trying to be set on a copy of a slice from a DataFrame.\n",
      "Try using .loc[row_indexer,col_indexer] = value instead\n",
      "\n",
      "See the caveats in the documentation: http://pandas.pydata.org/pandas-docs/stable/user_guide/indexing.html#returning-a-view-versus-a-copy\n",
      "  self.obj[item] = s\n",
      "ERROR:visual_behavior.ophys.io.lims_database:cannot query specimen driver line: can't adapt type 'numpy.int64'\n",
      "ERROR:visual_behavior.ophys.io.lims_database:cannot query specimen reporter line: can't adapt type 'numpy.int64'\n",
      "ERROR:visual_behavior.ophys.sync.process_sync:Sync photodiode error needs to be fixed. Using assumed monitor delay: 0.0351\n"
     ]
    },
    {
     "name": "stdout",
     "output_type": "stream",
     "text": [
      "resampling mesoscope 2P frame times\n"
     ]
    },
    {
     "name": "stderr",
     "output_type": "stream",
     "text": [
      "C:\\Users\\marinag\\AppData\\Roaming\\Python\\Python37\\site-packages\\pandas\\core\\indexing.py:494: SettingWithCopyWarning: \n",
      "A value is trying to be set on a copy of a slice from a DataFrame.\n",
      "Try using .loc[row_indexer,col_indexer] = value instead\n",
      "\n",
      "See the caveats in the documentation: http://pandas.pydata.org/pandas-docs/stable/user_guide/indexing.html#returning-a-view-versus-a-copy\n",
      "  self.obj[item] = s\n"
     ]
    },
    {
     "name": "stdout",
     "output_type": "stream",
     "text": [
      "must provide analysis object to get_mean_df to compute reliability\n"
     ]
    },
    {
     "name": "stderr",
     "output_type": "stream",
     "text": [
      "ERROR:visual_behavior.ophys.io.lims_database:cannot query specimen driver line: can't adapt type 'numpy.int64'\n",
      "ERROR:visual_behavior.ophys.io.lims_database:cannot query specimen reporter line: can't adapt type 'numpy.int64'\n"
     ]
    },
    {
     "name": "stdout",
     "output_type": "stream",
     "text": [
      "must provide analysis object to get_mean_df to compute reliability\n"
     ]
    },
    {
     "name": "stderr",
     "output_type": "stream",
     "text": [
      "ERROR:visual_behavior.ophys.sync.process_sync:Sync photodiode error needs to be fixed. Using assumed monitor delay: 0.0351\n"
     ]
    },
    {
     "name": "stdout",
     "output_type": "stream",
     "text": [
      "resampling mesoscope 2P frame times\n"
     ]
    },
    {
     "name": "stderr",
     "output_type": "stream",
     "text": [
      "C:\\Users\\marinag\\Documents\\Code\\AllenSDK\\allensdk\\brain_observatory\\sync_dataset.py:109: UserWarning: The loaded sync file contains the following deprecated line label keys: {'cam1_exposure', 'cam2_exposure'}. Consider updating the sync file line labels.\n",
      "  self._check_line_labels()\n",
      "C:\\Users\\marinag\\Documents\\Code\\AllenSDK\\allensdk\\brain_observatory\\sync_dataset.py:109: UserWarning: The loaded sync file contains the following deprecated line label keys: {'cam1_exposure', 'cam2_exposure'}. Consider updating the sync file line labels.\n",
      "  self._check_line_labels()\n",
      "WARNING:root:Could not find valid lines for the following data sources\n",
      "WARNING:root:acquiring (valid line label(s) = ['2p_acquiring']\n",
      "ERROR:visual_behavior.ophys.io.lims_database:cannot query specimen driver line: can't adapt type 'numpy.int64'\n",
      "ERROR:visual_behavior.ophys.io.lims_database:cannot query specimen reporter line: can't adapt type 'numpy.int64'\n",
      "ERROR:visual_behavior.ophys.sync.process_sync:Sync photodiode error needs to be fixed. Using assumed monitor delay: 0.0351\n"
     ]
    },
    {
     "name": "stdout",
     "output_type": "stream",
     "text": [
      "resampling mesoscope 2P frame times\n"
     ]
    },
    {
     "name": "stderr",
     "output_type": "stream",
     "text": [
      "ERROR:visual_behavior.ophys.io.lims_database:cannot query specimen driver line: can't adapt type 'numpy.int64'\n",
      "ERROR:visual_behavior.ophys.io.lims_database:cannot query specimen reporter line: can't adapt type 'numpy.int64'\n",
      "ERROR:visual_behavior.ophys.sync.process_sync:Sync photodiode error needs to be fixed. Using assumed monitor delay: 0.0351\n",
      "ERROR:visual_behavior.ophys.io.lims_database:cannot query specimen driver line: can't adapt type 'numpy.int64'\n",
      "ERROR:visual_behavior.ophys.io.lims_database:cannot query specimen reporter line: can't adapt type 'numpy.int64'\n"
     ]
    },
    {
     "name": "stdout",
     "output_type": "stream",
     "text": [
      "resampling mesoscope 2P frame times\n"
     ]
    },
    {
     "name": "stderr",
     "output_type": "stream",
     "text": [
      "ERROR:visual_behavior.ophys.sync.process_sync:Sync photodiode error needs to be fixed. Using assumed monitor delay: 0.0351\n"
     ]
    },
    {
     "name": "stdout",
     "output_type": "stream",
     "text": [
      "resampling mesoscope 2P frame times\n"
     ]
    },
    {
     "name": "stderr",
     "output_type": "stream",
     "text": [
      "ERROR:visual_behavior.ophys.io.lims_database:cannot query specimen driver line: can't adapt type 'numpy.int64'\n",
      "ERROR:visual_behavior.ophys.io.lims_database:cannot query specimen reporter line: can't adapt type 'numpy.int64'\n",
      "ERROR:visual_behavior.ophys.sync.process_sync:Sync photodiode error needs to be fixed. Using assumed monitor delay: 0.0351\n"
     ]
    },
    {
     "name": "stdout",
     "output_type": "stream",
     "text": [
      "resampling mesoscope 2P frame times\n"
     ]
    },
    {
     "name": "stderr",
     "output_type": "stream",
     "text": [
      "C:\\Users\\marinag\\AppData\\Roaming\\Python\\Python37\\site-packages\\pandas\\core\\indexing.py:494: SettingWithCopyWarning: \n",
      "A value is trying to be set on a copy of a slice from a DataFrame.\n",
      "Try using .loc[row_indexer,col_indexer] = value instead\n",
      "\n",
      "See the caveats in the documentation: http://pandas.pydata.org/pandas-docs/stable/user_guide/indexing.html#returning-a-view-versus-a-copy\n",
      "  self.obj[item] = s\n",
      "ERROR:visual_behavior.ophys.io.lims_database:cannot query specimen driver line: can't adapt type 'numpy.int64'\n",
      "ERROR:visual_behavior.ophys.io.lims_database:cannot query specimen reporter line: can't adapt type 'numpy.int64'\n",
      "ERROR:visual_behavior.ophys.sync.process_sync:Sync photodiode error needs to be fixed. Using assumed monitor delay: 0.0351\n"
     ]
    },
    {
     "name": "stdout",
     "output_type": "stream",
     "text": [
      "resampling mesoscope 2P frame times\n"
     ]
    },
    {
     "name": "stderr",
     "output_type": "stream",
     "text": [
      "C:\\Users\\marinag\\AppData\\Roaming\\Python\\Python37\\site-packages\\pandas\\core\\indexing.py:494: SettingWithCopyWarning: \n",
      "A value is trying to be set on a copy of a slice from a DataFrame.\n",
      "Try using .loc[row_indexer,col_indexer] = value instead\n",
      "\n",
      "See the caveats in the documentation: http://pandas.pydata.org/pandas-docs/stable/user_guide/indexing.html#returning-a-view-versus-a-copy\n",
      "  self.obj[item] = s\n"
     ]
    },
    {
     "name": "stdout",
     "output_type": "stream",
     "text": [
      "must provide analysis object to get_mean_df to compute reliability\n"
     ]
    },
    {
     "name": "stderr",
     "output_type": "stream",
     "text": [
      "ERROR:visual_behavior.ophys.io.lims_database:cannot query specimen driver line: can't adapt type 'numpy.int64'\n",
      "ERROR:visual_behavior.ophys.io.lims_database:cannot query specimen reporter line: can't adapt type 'numpy.int64'\n"
     ]
    },
    {
     "name": "stdout",
     "output_type": "stream",
     "text": [
      "must provide analysis object to get_mean_df to compute reliability\n"
     ]
    },
    {
     "name": "stderr",
     "output_type": "stream",
     "text": [
      "ERROR:visual_behavior.ophys.sync.process_sync:Sync photodiode error needs to be fixed. Using assumed monitor delay: 0.0351\n"
     ]
    },
    {
     "name": "stdout",
     "output_type": "stream",
     "text": [
      "resampling mesoscope 2P frame times\n"
     ]
    },
    {
     "name": "stderr",
     "output_type": "stream",
     "text": [
      "C:\\Users\\marinag\\Documents\\Code\\AllenSDK\\allensdk\\brain_observatory\\sync_dataset.py:109: UserWarning: The loaded sync file contains the following deprecated line label keys: {'cam1_exposure', 'cam2_exposure'}. Consider updating the sync file line labels.\n",
      "  self._check_line_labels()\n",
      "C:\\Users\\marinag\\Documents\\Code\\AllenSDK\\allensdk\\brain_observatory\\sync_dataset.py:109: UserWarning: The loaded sync file contains the following deprecated line label keys: {'cam1_exposure', 'cam2_exposure'}. Consider updating the sync file line labels.\n",
      "  self._check_line_labels()\n",
      "WARNING:root:Could not find valid lines for the following data sources\n",
      "WARNING:root:acquiring (valid line label(s) = ['2p_acquiring']\n",
      "ERROR:visual_behavior.ophys.io.lims_database:cannot query specimen driver line: can't adapt type 'numpy.int64'\n",
      "ERROR:visual_behavior.ophys.io.lims_database:cannot query specimen reporter line: can't adapt type 'numpy.int64'\n",
      "ERROR:visual_behavior.ophys.sync.process_sync:Sync photodiode error needs to be fixed. Using assumed monitor delay: 0.0351\n"
     ]
    },
    {
     "name": "stdout",
     "output_type": "stream",
     "text": [
      "resampling mesoscope 2P frame times\n"
     ]
    },
    {
     "name": "stderr",
     "output_type": "stream",
     "text": [
      "ERROR:visual_behavior.ophys.io.lims_database:cannot query specimen driver line: can't adapt type 'numpy.int64'\n",
      "ERROR:visual_behavior.ophys.io.lims_database:cannot query specimen reporter line: can't adapt type 'numpy.int64'\n",
      "ERROR:visual_behavior.ophys.sync.process_sync:Sync photodiode error needs to be fixed. Using assumed monitor delay: 0.0351\n",
      "ERROR:visual_behavior.ophys.io.lims_database:cannot query specimen driver line: can't adapt type 'numpy.int64'\n",
      "ERROR:visual_behavior.ophys.io.lims_database:cannot query specimen reporter line: can't adapt type 'numpy.int64'\n"
     ]
    },
    {
     "name": "stdout",
     "output_type": "stream",
     "text": [
      "resampling mesoscope 2P frame times\n"
     ]
    },
    {
     "name": "stderr",
     "output_type": "stream",
     "text": [
      "ERROR:visual_behavior.ophys.sync.process_sync:Sync photodiode error needs to be fixed. Using assumed monitor delay: 0.0351\n"
     ]
    },
    {
     "name": "stdout",
     "output_type": "stream",
     "text": [
      "resampling mesoscope 2P frame times\n"
     ]
    },
    {
     "name": "stderr",
     "output_type": "stream",
     "text": [
      "ERROR:visual_behavior.ophys.io.lims_database:cannot query specimen driver line: can't adapt type 'numpy.int64'\n",
      "ERROR:visual_behavior.ophys.io.lims_database:cannot query specimen reporter line: can't adapt type 'numpy.int64'\n",
      "ERROR:visual_behavior.ophys.sync.process_sync:Sync photodiode error needs to be fixed. Using assumed monitor delay: 0.0351\n"
     ]
    },
    {
     "name": "stdout",
     "output_type": "stream",
     "text": [
      "resampling mesoscope 2P frame times\n"
     ]
    },
    {
     "name": "stderr",
     "output_type": "stream",
     "text": [
      "C:\\Users\\marinag\\AppData\\Roaming\\Python\\Python37\\site-packages\\pandas\\core\\indexing.py:494: SettingWithCopyWarning: \n",
      "A value is trying to be set on a copy of a slice from a DataFrame.\n",
      "Try using .loc[row_indexer,col_indexer] = value instead\n",
      "\n",
      "See the caveats in the documentation: http://pandas.pydata.org/pandas-docs/stable/user_guide/indexing.html#returning-a-view-versus-a-copy\n",
      "  self.obj[item] = s\n",
      "ERROR:visual_behavior.ophys.io.lims_database:cannot query specimen driver line: can't adapt type 'numpy.int64'\n",
      "ERROR:visual_behavior.ophys.io.lims_database:cannot query specimen reporter line: can't adapt type 'numpy.int64'\n",
      "ERROR:visual_behavior.ophys.sync.process_sync:Sync photodiode error needs to be fixed. Using assumed monitor delay: 0.0351\n"
     ]
    },
    {
     "name": "stdout",
     "output_type": "stream",
     "text": [
      "resampling mesoscope 2P frame times\n"
     ]
    },
    {
     "name": "stderr",
     "output_type": "stream",
     "text": [
      "C:\\Users\\marinag\\AppData\\Roaming\\Python\\Python37\\site-packages\\pandas\\core\\indexing.py:494: SettingWithCopyWarning: \n",
      "A value is trying to be set on a copy of a slice from a DataFrame.\n",
      "Try using .loc[row_indexer,col_indexer] = value instead\n",
      "\n",
      "See the caveats in the documentation: http://pandas.pydata.org/pandas-docs/stable/user_guide/indexing.html#returning-a-view-versus-a-copy\n",
      "  self.obj[item] = s\n"
     ]
    },
    {
     "name": "stdout",
     "output_type": "stream",
     "text": [
      "must provide analysis object to get_mean_df to compute reliability\n"
     ]
    },
    {
     "name": "stderr",
     "output_type": "stream",
     "text": [
      "ERROR:visual_behavior.ophys.io.lims_database:cannot query specimen driver line: can't adapt type 'numpy.int64'\n",
      "ERROR:visual_behavior.ophys.io.lims_database:cannot query specimen reporter line: can't adapt type 'numpy.int64'\n"
     ]
    },
    {
     "name": "stdout",
     "output_type": "stream",
     "text": [
      "must provide analysis object to get_mean_df to compute reliability\n"
     ]
    },
    {
     "name": "stderr",
     "output_type": "stream",
     "text": [
      "ERROR:visual_behavior.ophys.sync.process_sync:Sync photodiode error needs to be fixed. Using assumed monitor delay: 0.0351\n"
     ]
    },
    {
     "name": "stdout",
     "output_type": "stream",
     "text": [
      "resampling mesoscope 2P frame times\n"
     ]
    }
   ],
   "source": [
    "ophys_experiment_ids = experiments_table[experiments_table.project_code=='VisualBehaviorMultiscope'].index.values\n",
    "\n",
    "multi_session_metrics_df = pd.DataFrame()\n",
    "\n",
    "## note that you'll need to expand the list of experiment_ids that are used for input here\n",
    "## i just tested it with [:5]\n",
    "## it will take much longer to run with more input experiments\n",
    "for ophys_experiment_id in ophys_experiment_ids[:5]:\n",
    "    \n",
    "    dataset = loading.get_ophys_dataset(ophys_experiment_id)\n",
    "\n",
    "    analysis = ResponseAnalysis(dataset)\n",
    "\n",
    "    sdf = analysis.get_response_df(df_name='stimulus_response_df')\n",
    "    tdf = analysis.get_response_df(df_name='trials_response_df')\n",
    "\n",
    "    mean_stim_df = ut.get_mean_df(sdf, conditions=['cell_specimen_id', 'omitted', 'image_name'], flashes=True)\n",
    "    mean_trials_df = ut.get_mean_df(tdf, conditions=['cell_specimen_id', 'go', 'change_image_name'])\n",
    "\n",
    "    session_type = dataset.metadata['session_type']\n",
    "    experiment_id = dataset.ophys_experiment_id\n",
    "    \n",
    "    metrics_df = get_metrics_df(mean_stim_df, mean_trials_df, session_type, experiment_id)\n",
    "    multi_session_metrics_df = pd.concat([multi_session_metrics_df, metrics_df])"
   ]
  },
  {
   "cell_type": "code",
   "execution_count": 65,
   "metadata": {},
   "outputs": [
    {
     "data": {
      "text/html": [
       "<div>\n",
       "<style scoped>\n",
       "    .dataframe tbody tr th:only-of-type {\n",
       "        vertical-align: middle;\n",
       "    }\n",
       "\n",
       "    .dataframe tbody tr th {\n",
       "        vertical-align: top;\n",
       "    }\n",
       "\n",
       "    .dataframe thead th {\n",
       "        text-align: right;\n",
       "    }\n",
       "</style>\n",
       "<table border=\"1\" class=\"dataframe\">\n",
       "  <thead>\n",
       "    <tr style=\"text-align: right;\">\n",
       "      <th></th>\n",
       "      <th>cell_specimen_id</th>\n",
       "      <th>condition</th>\n",
       "      <th>mean_response</th>\n",
       "      <th>experiment_id</th>\n",
       "    </tr>\n",
       "  </thead>\n",
       "  <tbody>\n",
       "    <tr>\n",
       "      <td>0</td>\n",
       "      <td>1028819695</td>\n",
       "      <td>im0_post</td>\n",
       "      <td>0.014633</td>\n",
       "      <td>953659745</td>\n",
       "    </tr>\n",
       "    <tr>\n",
       "      <td>1</td>\n",
       "      <td>1028819695</td>\n",
       "      <td>im0_pre</td>\n",
       "      <td>0.011798</td>\n",
       "      <td>953659745</td>\n",
       "    </tr>\n",
       "    <tr>\n",
       "      <td>2</td>\n",
       "      <td>1028819695</td>\n",
       "      <td>im1_post</td>\n",
       "      <td>0.003397</td>\n",
       "      <td>953659745</td>\n",
       "    </tr>\n",
       "    <tr>\n",
       "      <td>3</td>\n",
       "      <td>1028819695</td>\n",
       "      <td>im1_pre</td>\n",
       "      <td>0.002516</td>\n",
       "      <td>953659745</td>\n",
       "    </tr>\n",
       "    <tr>\n",
       "      <td>4</td>\n",
       "      <td>1028819695</td>\n",
       "      <td>im2_post</td>\n",
       "      <td>0.006659</td>\n",
       "      <td>953659745</td>\n",
       "    </tr>\n",
       "  </tbody>\n",
       "</table>\n",
       "</div>"
      ],
      "text/plain": [
       "   cell_specimen_id condition  mean_response  experiment_id\n",
       "0        1028819695  im0_post       0.014633      953659745\n",
       "1        1028819695   im0_pre       0.011798      953659745\n",
       "2        1028819695  im1_post       0.003397      953659745\n",
       "3        1028819695   im1_pre       0.002516      953659745\n",
       "4        1028819695  im2_post       0.006659      953659745"
      ]
     },
     "execution_count": 65,
     "metadata": {},
     "output_type": "execute_result"
    }
   ],
   "source": [
    "multi_session_metrics_df.head()"
   ]
  },
  {
   "cell_type": "code",
   "execution_count": 66,
   "metadata": {},
   "outputs": [],
   "source": [
    "multi_session_metrics_df = multi_session_metrics_df.set_index(['cell_specimen_id', 'experiment_id', 'condition'])\n",
    "unstacked_metrics = multi_session_metrics_df.unstack(level=-1)"
   ]
  },
  {
   "cell_type": "code",
   "execution_count": 67,
   "metadata": {},
   "outputs": [
    {
     "data": {
      "text/html": [
       "<div>\n",
       "<style scoped>\n",
       "    .dataframe tbody tr th:only-of-type {\n",
       "        vertical-align: middle;\n",
       "    }\n",
       "\n",
       "    .dataframe tbody tr th {\n",
       "        vertical-align: top;\n",
       "    }\n",
       "\n",
       "    .dataframe thead tr th {\n",
       "        text-align: left;\n",
       "    }\n",
       "\n",
       "    .dataframe thead tr:last-of-type th {\n",
       "        text-align: right;\n",
       "    }\n",
       "</style>\n",
       "<table border=\"1\" class=\"dataframe\">\n",
       "  <thead>\n",
       "    <tr>\n",
       "      <th></th>\n",
       "      <th></th>\n",
       "      <th colspan=\"21\" halign=\"left\">mean_response</th>\n",
       "    </tr>\n",
       "    <tr>\n",
       "      <th></th>\n",
       "      <th>condition</th>\n",
       "      <th>change_im0_post</th>\n",
       "      <th>change_im0_pre</th>\n",
       "      <th>change_im1_post</th>\n",
       "      <th>change_im1_pre</th>\n",
       "      <th>change_im2_post</th>\n",
       "      <th>change_im2_pre</th>\n",
       "      <th>change_im3_post</th>\n",
       "      <th>change_im3_pre</th>\n",
       "      <th>change_im4_post</th>\n",
       "      <th>change_im4_pre</th>\n",
       "      <th>...</th>\n",
       "      <th>im5_post</th>\n",
       "      <th>im5_pre</th>\n",
       "      <th>im6_post</th>\n",
       "      <th>im6_pre</th>\n",
       "      <th>im7_post</th>\n",
       "      <th>im7_pre</th>\n",
       "      <th>im8_post</th>\n",
       "      <th>im8_pre</th>\n",
       "      <th>omitted_post</th>\n",
       "      <th>omitted_pre</th>\n",
       "    </tr>\n",
       "    <tr>\n",
       "      <th>cell_specimen_id</th>\n",
       "      <th>experiment_id</th>\n",
       "      <th></th>\n",
       "      <th></th>\n",
       "      <th></th>\n",
       "      <th></th>\n",
       "      <th></th>\n",
       "      <th></th>\n",
       "      <th></th>\n",
       "      <th></th>\n",
       "      <th></th>\n",
       "      <th></th>\n",
       "      <th></th>\n",
       "      <th></th>\n",
       "      <th></th>\n",
       "      <th></th>\n",
       "      <th></th>\n",
       "      <th></th>\n",
       "      <th></th>\n",
       "      <th></th>\n",
       "      <th></th>\n",
       "      <th></th>\n",
       "      <th></th>\n",
       "    </tr>\n",
       "  </thead>\n",
       "  <tbody>\n",
       "    <tr>\n",
       "      <td>1028819695</td>\n",
       "      <td>953659745</td>\n",
       "      <td>0.006167</td>\n",
       "      <td>0.001307</td>\n",
       "      <td>0.008001</td>\n",
       "      <td>0.016129</td>\n",
       "      <td>0.018985</td>\n",
       "      <td>0.008890</td>\n",
       "      <td>0.006144</td>\n",
       "      <td>-0.009922</td>\n",
       "      <td>0.007209</td>\n",
       "      <td>-0.000978</td>\n",
       "      <td>...</td>\n",
       "      <td>-0.001431</td>\n",
       "      <td>-0.004186</td>\n",
       "      <td>0.007404</td>\n",
       "      <td>0.004618</td>\n",
       "      <td>0.004941</td>\n",
       "      <td>0.003098</td>\n",
       "      <td>0.001434</td>\n",
       "      <td>0.002772</td>\n",
       "      <td>0.001434</td>\n",
       "      <td>0.002772</td>\n",
       "    </tr>\n",
       "    <tr>\n",
       "      <td>1028819736</td>\n",
       "      <td>953659745</td>\n",
       "      <td>0.228675</td>\n",
       "      <td>0.467214</td>\n",
       "      <td>0.498823</td>\n",
       "      <td>-0.105899</td>\n",
       "      <td>0.669045</td>\n",
       "      <td>-0.079286</td>\n",
       "      <td>0.903899</td>\n",
       "      <td>0.168865</td>\n",
       "      <td>0.328961</td>\n",
       "      <td>0.403682</td>\n",
       "      <td>...</td>\n",
       "      <td>0.530982</td>\n",
       "      <td>0.221056</td>\n",
       "      <td>0.224942</td>\n",
       "      <td>-0.044650</td>\n",
       "      <td>2.885198</td>\n",
       "      <td>1.342163</td>\n",
       "      <td>0.114837</td>\n",
       "      <td>0.500539</td>\n",
       "      <td>0.114837</td>\n",
       "      <td>0.500539</td>\n",
       "    </tr>\n",
       "    <tr>\n",
       "      <td>1028819755</td>\n",
       "      <td>958527474</td>\n",
       "      <td>0.239191</td>\n",
       "      <td>0.369346</td>\n",
       "      <td>0.248083</td>\n",
       "      <td>0.319962</td>\n",
       "      <td>0.123100</td>\n",
       "      <td>0.137787</td>\n",
       "      <td>0.087727</td>\n",
       "      <td>0.142679</td>\n",
       "      <td>0.156032</td>\n",
       "      <td>0.302293</td>\n",
       "      <td>...</td>\n",
       "      <td>0.036321</td>\n",
       "      <td>0.058738</td>\n",
       "      <td>0.078669</td>\n",
       "      <td>0.112843</td>\n",
       "      <td>1.438862</td>\n",
       "      <td>1.606225</td>\n",
       "      <td>0.158418</td>\n",
       "      <td>0.182633</td>\n",
       "      <td>0.158418</td>\n",
       "      <td>0.182633</td>\n",
       "    </tr>\n",
       "    <tr>\n",
       "      <td>1028819780</td>\n",
       "      <td>953659745</td>\n",
       "      <td>0.569764</td>\n",
       "      <td>-0.218865</td>\n",
       "      <td>0.464546</td>\n",
       "      <td>0.041643</td>\n",
       "      <td>0.577959</td>\n",
       "      <td>-0.018110</td>\n",
       "      <td>1.967256</td>\n",
       "      <td>0.328515</td>\n",
       "      <td>0.449400</td>\n",
       "      <td>0.269314</td>\n",
       "      <td>...</td>\n",
       "      <td>0.650476</td>\n",
       "      <td>0.260948</td>\n",
       "      <td>0.540034</td>\n",
       "      <td>0.133510</td>\n",
       "      <td>0.397525</td>\n",
       "      <td>0.188458</td>\n",
       "      <td>0.160932</td>\n",
       "      <td>0.796657</td>\n",
       "      <td>0.160932</td>\n",
       "      <td>0.796657</td>\n",
       "    </tr>\n",
       "    <tr>\n",
       "      <td>1028819805</td>\n",
       "      <td>953659745</td>\n",
       "      <td>0.351769</td>\n",
       "      <td>0.525863</td>\n",
       "      <td>0.244559</td>\n",
       "      <td>0.360858</td>\n",
       "      <td>0.560339</td>\n",
       "      <td>0.674403</td>\n",
       "      <td>0.507747</td>\n",
       "      <td>0.650498</td>\n",
       "      <td>0.311482</td>\n",
       "      <td>0.456362</td>\n",
       "      <td>...</td>\n",
       "      <td>0.034080</td>\n",
       "      <td>0.056081</td>\n",
       "      <td>0.334945</td>\n",
       "      <td>0.431298</td>\n",
       "      <td>1.771561</td>\n",
       "      <td>1.928328</td>\n",
       "      <td>0.394068</td>\n",
       "      <td>0.408582</td>\n",
       "      <td>0.394068</td>\n",
       "      <td>0.408582</td>\n",
       "    </tr>\n",
       "    <tr>\n",
       "      <td>...</td>\n",
       "      <td>...</td>\n",
       "      <td>...</td>\n",
       "      <td>...</td>\n",
       "      <td>...</td>\n",
       "      <td>...</td>\n",
       "      <td>...</td>\n",
       "      <td>...</td>\n",
       "      <td>...</td>\n",
       "      <td>...</td>\n",
       "      <td>...</td>\n",
       "      <td>...</td>\n",
       "      <td>...</td>\n",
       "      <td>...</td>\n",
       "      <td>...</td>\n",
       "      <td>...</td>\n",
       "      <td>...</td>\n",
       "      <td>...</td>\n",
       "      <td>...</td>\n",
       "      <td>...</td>\n",
       "      <td>...</td>\n",
       "      <td>...</td>\n",
       "      <td>...</td>\n",
       "    </tr>\n",
       "    <tr>\n",
       "      <td>1028823340</td>\n",
       "      <td>953659749</td>\n",
       "      <td>0.034981</td>\n",
       "      <td>-0.020048</td>\n",
       "      <td>0.017386</td>\n",
       "      <td>-0.006030</td>\n",
       "      <td>0.013482</td>\n",
       "      <td>-0.001102</td>\n",
       "      <td>0.011257</td>\n",
       "      <td>-0.010742</td>\n",
       "      <td>0.060211</td>\n",
       "      <td>-0.045437</td>\n",
       "      <td>...</td>\n",
       "      <td>0.052912</td>\n",
       "      <td>0.015042</td>\n",
       "      <td>0.016887</td>\n",
       "      <td>-0.009637</td>\n",
       "      <td>0.013212</td>\n",
       "      <td>-0.015570</td>\n",
       "      <td>-0.028324</td>\n",
       "      <td>-0.016940</td>\n",
       "      <td>-0.028324</td>\n",
       "      <td>-0.016940</td>\n",
       "    </tr>\n",
       "    <tr>\n",
       "      <td>1028823366</td>\n",
       "      <td>953659749</td>\n",
       "      <td>0.046296</td>\n",
       "      <td>0.053131</td>\n",
       "      <td>0.009492</td>\n",
       "      <td>0.036604</td>\n",
       "      <td>0.031199</td>\n",
       "      <td>0.005359</td>\n",
       "      <td>0.012054</td>\n",
       "      <td>0.000352</td>\n",
       "      <td>0.015905</td>\n",
       "      <td>0.005923</td>\n",
       "      <td>...</td>\n",
       "      <td>0.062455</td>\n",
       "      <td>0.042959</td>\n",
       "      <td>0.010818</td>\n",
       "      <td>-0.001874</td>\n",
       "      <td>0.117231</td>\n",
       "      <td>0.060122</td>\n",
       "      <td>-0.011568</td>\n",
       "      <td>0.023532</td>\n",
       "      <td>-0.011568</td>\n",
       "      <td>0.023532</td>\n",
       "    </tr>\n",
       "    <tr>\n",
       "      <td>1028823389</td>\n",
       "      <td>953659749</td>\n",
       "      <td>0.494495</td>\n",
       "      <td>0.682190</td>\n",
       "      <td>0.386146</td>\n",
       "      <td>0.535184</td>\n",
       "      <td>0.244362</td>\n",
       "      <td>0.284756</td>\n",
       "      <td>0.563937</td>\n",
       "      <td>0.756674</td>\n",
       "      <td>0.265521</td>\n",
       "      <td>0.351667</td>\n",
       "      <td>...</td>\n",
       "      <td>0.432866</td>\n",
       "      <td>0.634885</td>\n",
       "      <td>0.520901</td>\n",
       "      <td>0.733330</td>\n",
       "      <td>0.321269</td>\n",
       "      <td>0.440525</td>\n",
       "      <td>0.921897</td>\n",
       "      <td>0.582655</td>\n",
       "      <td>0.921897</td>\n",
       "      <td>0.582655</td>\n",
       "    </tr>\n",
       "    <tr>\n",
       "      <td>1028823405</td>\n",
       "      <td>953659749</td>\n",
       "      <td>0.030084</td>\n",
       "      <td>-0.036744</td>\n",
       "      <td>0.004574</td>\n",
       "      <td>-0.008640</td>\n",
       "      <td>0.028214</td>\n",
       "      <td>0.019983</td>\n",
       "      <td>0.019421</td>\n",
       "      <td>-0.010712</td>\n",
       "      <td>0.035911</td>\n",
       "      <td>-0.015868</td>\n",
       "      <td>...</td>\n",
       "      <td>0.003498</td>\n",
       "      <td>-0.009859</td>\n",
       "      <td>0.011879</td>\n",
       "      <td>-0.005812</td>\n",
       "      <td>0.000536</td>\n",
       "      <td>-0.006841</td>\n",
       "      <td>-0.019569</td>\n",
       "      <td>0.001268</td>\n",
       "      <td>-0.019569</td>\n",
       "      <td>0.001268</td>\n",
       "    </tr>\n",
       "    <tr>\n",
       "      <td>1028823414</td>\n",
       "      <td>953659749</td>\n",
       "      <td>0.040649</td>\n",
       "      <td>0.050484</td>\n",
       "      <td>0.026384</td>\n",
       "      <td>0.001653</td>\n",
       "      <td>-0.000341</td>\n",
       "      <td>0.008564</td>\n",
       "      <td>0.054691</td>\n",
       "      <td>0.026209</td>\n",
       "      <td>0.018319</td>\n",
       "      <td>0.025115</td>\n",
       "      <td>...</td>\n",
       "      <td>0.114598</td>\n",
       "      <td>0.073315</td>\n",
       "      <td>0.030307</td>\n",
       "      <td>0.060409</td>\n",
       "      <td>0.015635</td>\n",
       "      <td>0.020672</td>\n",
       "      <td>0.032896</td>\n",
       "      <td>0.039324</td>\n",
       "      <td>0.032896</td>\n",
       "      <td>0.039324</td>\n",
       "    </tr>\n",
       "  </tbody>\n",
       "</table>\n",
       "<p>73 rows × 36 columns</p>\n",
       "</div>"
      ],
      "text/plain": [
       "                                 mean_response                                 \\\n",
       "condition                      change_im0_post change_im0_pre change_im1_post   \n",
       "cell_specimen_id experiment_id                                                  \n",
       "1028819695       953659745            0.006167       0.001307        0.008001   \n",
       "1028819736       953659745            0.228675       0.467214        0.498823   \n",
       "1028819755       958527474            0.239191       0.369346        0.248083   \n",
       "1028819780       953659745            0.569764      -0.218865        0.464546   \n",
       "1028819805       953659745            0.351769       0.525863        0.244559   \n",
       "...                                        ...            ...             ...   \n",
       "1028823340       953659749            0.034981      -0.020048        0.017386   \n",
       "1028823366       953659749            0.046296       0.053131        0.009492   \n",
       "1028823389       953659749            0.494495       0.682190        0.386146   \n",
       "1028823405       953659749            0.030084      -0.036744        0.004574   \n",
       "1028823414       953659749            0.040649       0.050484        0.026384   \n",
       "\n",
       "                                                                              \\\n",
       "condition                      change_im1_pre change_im2_post change_im2_pre   \n",
       "cell_specimen_id experiment_id                                                 \n",
       "1028819695       953659745           0.016129        0.018985       0.008890   \n",
       "1028819736       953659745          -0.105899        0.669045      -0.079286   \n",
       "1028819755       958527474           0.319962        0.123100       0.137787   \n",
       "1028819780       953659745           0.041643        0.577959      -0.018110   \n",
       "1028819805       953659745           0.360858        0.560339       0.674403   \n",
       "...                                       ...             ...            ...   \n",
       "1028823340       953659749          -0.006030        0.013482      -0.001102   \n",
       "1028823366       953659749           0.036604        0.031199       0.005359   \n",
       "1028823389       953659749           0.535184        0.244362       0.284756   \n",
       "1028823405       953659749          -0.008640        0.028214       0.019983   \n",
       "1028823414       953659749           0.001653       -0.000341       0.008564   \n",
       "\n",
       "                                                                               \\\n",
       "condition                      change_im3_post change_im3_pre change_im4_post   \n",
       "cell_specimen_id experiment_id                                                  \n",
       "1028819695       953659745            0.006144      -0.009922        0.007209   \n",
       "1028819736       953659745            0.903899       0.168865        0.328961   \n",
       "1028819755       958527474            0.087727       0.142679        0.156032   \n",
       "1028819780       953659745            1.967256       0.328515        0.449400   \n",
       "1028819805       953659745            0.507747       0.650498        0.311482   \n",
       "...                                        ...            ...             ...   \n",
       "1028823340       953659749            0.011257      -0.010742        0.060211   \n",
       "1028823366       953659749            0.012054       0.000352        0.015905   \n",
       "1028823389       953659749            0.563937       0.756674        0.265521   \n",
       "1028823405       953659749            0.019421      -0.010712        0.035911   \n",
       "1028823414       953659749            0.054691       0.026209        0.018319   \n",
       "\n",
       "                                               ...                      \\\n",
       "condition                      change_im4_pre  ...  im5_post   im5_pre   \n",
       "cell_specimen_id experiment_id                 ...                       \n",
       "1028819695       953659745          -0.000978  ... -0.001431 -0.004186   \n",
       "1028819736       953659745           0.403682  ...  0.530982  0.221056   \n",
       "1028819755       958527474           0.302293  ...  0.036321  0.058738   \n",
       "1028819780       953659745           0.269314  ...  0.650476  0.260948   \n",
       "1028819805       953659745           0.456362  ...  0.034080  0.056081   \n",
       "...                                       ...  ...       ...       ...   \n",
       "1028823340       953659749          -0.045437  ...  0.052912  0.015042   \n",
       "1028823366       953659749           0.005923  ...  0.062455  0.042959   \n",
       "1028823389       953659749           0.351667  ...  0.432866  0.634885   \n",
       "1028823405       953659749          -0.015868  ...  0.003498 -0.009859   \n",
       "1028823414       953659749           0.025115  ...  0.114598  0.073315   \n",
       "\n",
       "                                                                        \\\n",
       "condition                       im6_post   im6_pre  im7_post   im7_pre   \n",
       "cell_specimen_id experiment_id                                           \n",
       "1028819695       953659745      0.007404  0.004618  0.004941  0.003098   \n",
       "1028819736       953659745      0.224942 -0.044650  2.885198  1.342163   \n",
       "1028819755       958527474      0.078669  0.112843  1.438862  1.606225   \n",
       "1028819780       953659745      0.540034  0.133510  0.397525  0.188458   \n",
       "1028819805       953659745      0.334945  0.431298  1.771561  1.928328   \n",
       "...                                  ...       ...       ...       ...   \n",
       "1028823340       953659749      0.016887 -0.009637  0.013212 -0.015570   \n",
       "1028823366       953659749      0.010818 -0.001874  0.117231  0.060122   \n",
       "1028823389       953659749      0.520901  0.733330  0.321269  0.440525   \n",
       "1028823405       953659749      0.011879 -0.005812  0.000536 -0.006841   \n",
       "1028823414       953659749      0.030307  0.060409  0.015635  0.020672   \n",
       "\n",
       "                                                                             \n",
       "condition                       im8_post   im8_pre omitted_post omitted_pre  \n",
       "cell_specimen_id experiment_id                                               \n",
       "1028819695       953659745      0.001434  0.002772     0.001434    0.002772  \n",
       "1028819736       953659745      0.114837  0.500539     0.114837    0.500539  \n",
       "1028819755       958527474      0.158418  0.182633     0.158418    0.182633  \n",
       "1028819780       953659745      0.160932  0.796657     0.160932    0.796657  \n",
       "1028819805       953659745      0.394068  0.408582     0.394068    0.408582  \n",
       "...                                  ...       ...          ...         ...  \n",
       "1028823340       953659749     -0.028324 -0.016940    -0.028324   -0.016940  \n",
       "1028823366       953659749     -0.011568  0.023532    -0.011568    0.023532  \n",
       "1028823389       953659749      0.921897  0.582655     0.921897    0.582655  \n",
       "1028823405       953659749     -0.019569  0.001268    -0.019569    0.001268  \n",
       "1028823414       953659749      0.032896  0.039324     0.032896    0.039324  \n",
       "\n",
       "[73 rows x 36 columns]"
      ]
     },
     "execution_count": 67,
     "metadata": {},
     "output_type": "execute_result"
    }
   ],
   "source": [
    "unstacked_metrics"
   ]
  },
  {
   "cell_type": "code",
   "execution_count": null,
   "metadata": {},
   "outputs": [],
   "source": []
  },
  {
   "cell_type": "code",
   "execution_count": null,
   "metadata": {},
   "outputs": [],
   "source": []
  },
  {
   "cell_type": "code",
   "execution_count": null,
   "metadata": {},
   "outputs": [],
   "source": []
  },
  {
   "cell_type": "code",
   "execution_count": null,
   "metadata": {},
   "outputs": [],
   "source": []
  }
 ],
 "metadata": {
  "kernelspec": {
   "display_name": "visual_behavior_sdk",
   "language": "python",
   "name": "visual_behavior_sdk"
  },
  "language_info": {
   "codemirror_mode": {
    "name": "ipython",
    "version": 3
   },
   "file_extension": ".py",
   "mimetype": "text/x-python",
   "name": "python",
   "nbconvert_exporter": "python",
   "pygments_lexer": "ipython3",
   "version": "3.7.3"
  }
 },
 "nbformat": 4,
 "nbformat_minor": 2
}
