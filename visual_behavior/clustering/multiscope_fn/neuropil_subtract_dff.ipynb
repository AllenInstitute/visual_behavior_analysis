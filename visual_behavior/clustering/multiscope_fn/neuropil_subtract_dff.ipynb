{
 "cells": [
  {
   "cell_type": "code",
   "execution_count": 1,
   "metadata": {},
   "outputs": [],
   "source": [
    "import visual_behavior.ophys.mesoscope.utils as mu\n",
    "\n",
    "# lims_sessions = mu.get_ica_done_sessions()\n",
    "\n",
    "# list on 06/26/2020\n",
    "# lims_sessions = [782107878, 786144371, 788253110, 789092007, 839514418, 841778484, 842623907, 844469521, 847758278, 848401585, 848983781, 849304162, 850667270, 850894918, 851428829, 852070825, 852794141, 853416532, 855711263, 863815473, 864458864, 865024413, 865854762, 866197765, 867027875, 868688430, 869117575, 870352564, 870762788, 871526950, 872592724, 873720614, 874070091, 874616920, 875259383, 876303107, 880498009, 886130638, 886806800, 888009781, 889944877, 902884228, 903621170, 903813946, 904418381, 925478114, 926488384, 927787876, 928414538, 929255311, 929686773, 931326814, 931687751, 940145217, 940775208, 941676716, 944888114, 946015345, 947199653, 948252173, 950031363, 952430817, 954954402, 955775716, 958105827, 971922380]\n",
    "\n",
    "# list on 07/14/2020 (remove: 839208243, 845842114)\n",
    "lims_sessions = [839514418, 840490733, 841303580, 841682738, 841778484, 842023261, 842364341, 842623907, 843871999, 844469521, 845235947, 846871218, 847758278, 848401585, 849304162, 850667270, 850894918, 852794141, 853416532, 854060305, 855711263, 863815473, 864458864, 865024413, 865854762, 866197765, 867027875, 868688430, 869117575, 870352564, 870762788, 871526950, 871906231, 872592724, 873247524, 874616920, 875259383, 876303107, 880498009, 880709154, 882674040, 884451806, 886130638, 886806800, 888009781, 889944877, 902884228, 903621170, 903813946, 904418381, 904771513, 906299056, 906521029, 906968227, 907177554, 907753304, 907991198, 908441202, 911719666, 913564409, 914161594, 914639324, 914728054, 915306390, 916650386, 917498735, 918889065, 919041767, 919888953, 920695792, 921636320, 921922878, 922564930, 923705570, 925478114, 926488384, 927787876, 928414538, 929255311, 929686773, 931687751, 933439847, 933604359, 935559843, 937162622, 937682841, 938140092, 938898514, 939526443, 940145217, 940775208, 941676716, 944888114, 946015345, 947199653, 947358663, 948042811, 948252173, 949217880, 950031363, 951410079, 952430817, 954954402, 955775716, 957020350, 958105827, 958772311, 959458018, 971632311, 971922380, 973384292, 973701907, 974167263, 974486549, 975452945, 976167513, 976382032, 977760370, 978201478, 980062339, 981705001, 981845703, 982566889, 985609503, 985888070, 986130604, 986767503, 987352048, 988768058, 988903485, 989267296, 990139534, 990464099, 991639544, 991958444, 992393325, 993253587, 993420347, 993738515, 993962221, 1000439105, 1002120640, 1005374186]\n"
   ]
  },
  {
   "cell_type": "code",
   "execution_count": 2,
   "metadata": {},
   "outputs": [
    {
     "name": "stdout",
     "output_type": "stream",
     "text": [
      "143\n",
      "[839514418, 840490733, 841303580, 841682738, 841778484, 842023261, 842364341, 842623907, 843871999, 844469521, 845235947, 846871218, 847758278, 848401585, 849304162, 850667270, 850894918, 852794141, 853416532, 854060305, 855711263, 863815473, 864458864, 865024413, 865854762, 866197765, 867027875, 868688430, 869117575, 870352564, 870762788, 871526950, 871906231, 872592724, 873247524, 874616920, 875259383, 876303107, 880498009, 880709154, 882674040, 884451806, 886130638, 886806800, 888009781, 889944877, 902884228, 903621170, 903813946, 904418381, 904771513, 906299056, 906521029, 906968227, 907177554, 907753304, 907991198, 908441202, 911719666, 913564409, 914161594, 914639324, 914728054, 915306390, 916650386, 917498735, 918889065, 919041767, 919888953, 920695792, 921636320, 921922878, 922564930, 923705570, 925478114, 926488384, 927787876, 928414538, 929255311, 929686773, 931687751, 933439847, 933604359, 935559843, 937162622, 937682841, 938140092, 938898514, 939526443, 940145217, 940775208, 941676716, 944888114, 946015345, 947199653, 947358663, 948042811, 948252173, 949217880, 950031363, 951410079, 952430817, 954954402, 955775716, 957020350, 958105827, 958772311, 959458018, 971632311, 971922380, 973384292, 973701907, 974167263, 974486549, 975452945, 976167513, 976382032, 977760370, 978201478, 980062339, 981705001, 981845703, 982566889, 985609503, 985888070, 986130604, 986767503, 987352048, 988768058, 988903485, 989267296, 990139534, 990464099, 991639544, 991958444, 992393325, 993253587, 993420347, 993738515, 993962221, 1000439105, 1002120640, 1005374186]\n"
     ]
    }
   ],
   "source": [
    "print(len(lims_sessions))\n",
    "print(lims_sessions)"
   ]
  },
  {
   "cell_type": "code",
   "execution_count": 3,
   "metadata": {},
   "outputs": [],
   "source": [
    "import numpy as np\n",
    "import os\n",
    "import re\n",
    "import shutil\n",
    "import h5py\n",
    "import matplotlib.pyplot as plt\n",
    "import allensdk.core.json_utilities as ju"
   ]
  },
  {
   "cell_type": "code",
   "execution_count": 4,
   "metadata": {},
   "outputs": [
    {
     "name": "stdout",
     "output_type": "stream",
     "text": [
      "(143,)\n"
     ]
    },
    {
     "data": {
      "text/plain": [
       "'\\n# sessions that passed data integrity test\\nsessions_ctDone = [839514418, 841778484, 842623907, 844469521, 847758278, 848401585, 848983781, 849304162, 850667270, 850894918, 851428829, 852070825, 852794141, 853416532, 855711263, 863815473, 864458864, 865024413, 865854762, 866197765, 867027875, 868688430, 869117575, 870352564, 870762788, 871526950, 872592724, 873720614, 874616920, 875259383, 876303107, 880498009, 886130638, 886806800, 888009781, 889944877, 902884228, 903621170, 903813946, 904418381, 925478114, 926488384, 927787876, 928414538, 929255311, 929686773, 931326814, 931687751, 940145217, 940775208, 941676716, 944888114, 946015345, 947199653, 948252173, 950031363, 952430817, 954954402, 955775716, 958105827, 971922380]\\n#[839514418,  841778484, 842623907, 844469521, 847758278, 848401585, 848983781, 849304162, 850667270, 850894918, 851428829, 852070825, 852794141, 853416532, 855711263, 863815473, 864458864, 865024413, 865854762, 866197765, 868688430, 869117575]\\n'"
      ]
     },
     "execution_count": 4,
     "metadata": {},
     "output_type": "execute_result"
    }
   ],
   "source": [
    "sessions_ctDone = np.array(lims_sessions)\n",
    "print(sessions_ctDone.shape)\n",
    "sessions_ctDone\n",
    "\n",
    "'''\n",
    "# sessions that passed data integrity test\n",
    "sessions_ctDone = [839514418, 841778484, 842623907, 844469521, 847758278, 848401585, 848983781, 849304162, 850667270, 850894918, 851428829, 852070825, 852794141, 853416532, 855711263, 863815473, 864458864, 865024413, 865854762, 866197765, 867027875, 868688430, 869117575, 870352564, 870762788, 871526950, 872592724, 873720614, 874616920, 875259383, 876303107, 880498009, 886130638, 886806800, 888009781, 889944877, 902884228, 903621170, 903813946, 904418381, 925478114, 926488384, 927787876, 928414538, 929255311, 929686773, 931326814, 931687751, 940145217, 940775208, 941676716, 944888114, 946015345, 947199653, 948252173, 950031363, 952430817, 954954402, 955775716, 958105827, 971922380]\n",
    "#[839514418,  841778484, 842623907, 844469521, 847758278, 848401585, 848983781, 849304162, 850667270, 850894918, 851428829, 852070825, 852794141, 853416532, 855711263, 863815473, 864458864, 865024413, 865854762, 866197765, 868688430, 869117575]\n",
    "'''"
   ]
  },
  {
   "cell_type": "code",
   "execution_count": 303,
   "metadata": {},
   "outputs": [
    {
     "name": "stdout",
     "output_type": "stream",
     "text": [
      "\n",
      "\n",
      "Session 0/143: /allen/programs/braintv/workgroups/nc-ophys/Farzaneh/ICA_crossTalk/session_839514418/\n",
      "copying /allen/programs/braintv/workgroups/nc-ophys/Farzaneh/ICA_crossTalk/session_839514418/traces_out_840460368.h5\n",
      "copying /allen/programs/braintv/workgroups/nc-ophys/Farzaneh/ICA_crossTalk/session_839514418/traces_out_840460366.h5\n",
      "copying /allen/programs/braintv/workgroups/nc-ophys/Farzaneh/ICA_crossTalk/session_839514418/traces_out_840460372.h5\n",
      "copying /allen/programs/braintv/workgroups/nc-ophys/Farzaneh/ICA_crossTalk/session_839514418/traces_out_840460370.h5\n",
      "copying /allen/programs/braintv/workgroups/nc-ophys/Farzaneh/ICA_crossTalk/session_839514418/traces_out_840460383.h5\n",
      "copying /allen/programs/braintv/workgroups/nc-ophys/Farzaneh/ICA_crossTalk/session_839514418/traces_out_840460380.h5\n",
      "copying /allen/programs/braintv/workgroups/nc-ophys/Farzaneh/ICA_crossTalk/session_839514418/traces_out_840460378.h5\n",
      "copying /allen/programs/braintv/workgroups/nc-ophys/Farzaneh/ICA_crossTalk/session_839514418/traces_out_840460376.h5\n",
      "copying /allen/programs/braintv/workgroups/nc-ophys/Farzaneh/ICA_crossTalk/session_839514418/neuropil_out_840460378.h5\n",
      "copying /allen/programs/braintv/workgroups/nc-ophys/Farzaneh/ICA_crossTalk/session_839514418/neuropil_out_840460376.h5\n",
      "copying /allen/programs/braintv/workgroups/nc-ophys/Farzaneh/ICA_crossTalk/session_839514418/neuropil_out_840460368.h5\n",
      "copying /allen/programs/braintv/workgroups/nc-ophys/Farzaneh/ICA_crossTalk/session_839514418/neuropil_out_840460366.h5\n",
      "copying /allen/programs/braintv/workgroups/nc-ophys/Farzaneh/ICA_crossTalk/session_839514418/neuropil_out_840460383.h5\n",
      "copying /allen/programs/braintv/workgroups/nc-ophys/Farzaneh/ICA_crossTalk/session_839514418/neuropil_out_840460380.h5\n",
      "copying /allen/programs/braintv/workgroups/nc-ophys/Farzaneh/ICA_crossTalk/session_839514418/neuropil_out_840460372.h5\n",
      "copying /allen/programs/braintv/workgroups/nc-ophys/Farzaneh/ICA_crossTalk/session_839514418/neuropil_out_840460370.h5\n",
      "\n",
      "\n",
      "Session 1/143: /allen/programs/braintv/workgroups/nc-ophys/Farzaneh/ICA_crossTalk/session_840490733/\n",
      "copying /allen/programs/braintv/workgroups/nc-ophys/Farzaneh/ICA_crossTalk/session_840490733/traces_out_840717531.h5\n",
      "copying /allen/programs/braintv/workgroups/nc-ophys/Farzaneh/ICA_crossTalk/session_840490733/traces_out_840717534.h5\n",
      "copying /allen/programs/braintv/workgroups/nc-ophys/Farzaneh/ICA_crossTalk/session_840490733/traces_out_840717527.h5\n",
      "copying /allen/programs/braintv/workgroups/nc-ophys/Farzaneh/ICA_crossTalk/session_840490733/traces_out_840717529.h5\n",
      "copying /allen/programs/braintv/workgroups/nc-ophys/Farzaneh/ICA_crossTalk/session_840490733/traces_out_840717536.h5\n",
      "copying /allen/programs/braintv/workgroups/nc-ophys/Farzaneh/ICA_crossTalk/session_840490733/traces_out_840717538.h5\n",
      "copying /allen/programs/braintv/workgroups/nc-ophys/Farzaneh/ICA_crossTalk/session_840490733/traces_out_840717540.h5\n",
      "copying /allen/programs/braintv/workgroups/nc-ophys/Farzaneh/ICA_crossTalk/session_840490733/traces_out_840717542.h5\n",
      "copying /allen/programs/braintv/workgroups/nc-ophys/Farzaneh/ICA_crossTalk/session_840490733/neuropil_out_840717527.h5\n",
      "copying /allen/programs/braintv/workgroups/nc-ophys/Farzaneh/ICA_crossTalk/session_840490733/neuropil_out_840717529.h5\n",
      "copying /allen/programs/braintv/workgroups/nc-ophys/Farzaneh/ICA_crossTalk/session_840490733/neuropil_out_840717540.h5\n",
      "copying /allen/programs/braintv/workgroups/nc-ophys/Farzaneh/ICA_crossTalk/session_840490733/neuropil_out_840717542.h5\n",
      "copying /allen/programs/braintv/workgroups/nc-ophys/Farzaneh/ICA_crossTalk/session_840490733/neuropil_out_840717536.h5\n",
      "copying /allen/programs/braintv/workgroups/nc-ophys/Farzaneh/ICA_crossTalk/session_840490733/neuropil_out_840717538.h5\n",
      "copying /allen/programs/braintv/workgroups/nc-ophys/Farzaneh/ICA_crossTalk/session_840490733/neuropil_out_840717531.h5\n",
      "copying /allen/programs/braintv/workgroups/nc-ophys/Farzaneh/ICA_crossTalk/session_840490733/neuropil_out_840717534.h5\n",
      "\n",
      "\n",
      "Session 2/143: /allen/programs/braintv/workgroups/nc-ophys/Farzaneh/ICA_crossTalk/session_841303580/\n",
      "copying /allen/programs/braintv/workgroups/nc-ophys/Farzaneh/ICA_crossTalk/session_841303580/traces_out_841624564.h5\n",
      "copying /allen/programs/braintv/workgroups/nc-ophys/Farzaneh/ICA_crossTalk/session_841303580/traces_out_841624560.h5\n",
      "copying /allen/programs/braintv/workgroups/nc-ophys/Farzaneh/ICA_crossTalk/session_841303580/traces_out_841624569.h5\n",
      "copying /allen/programs/braintv/workgroups/nc-ophys/Farzaneh/ICA_crossTalk/session_841303580/traces_out_841624576.h5\n",
      "copying /allen/programs/braintv/workgroups/nc-ophys/Farzaneh/ICA_crossTalk/session_841303580/traces_out_841624552.h5\n",
      "copying /allen/programs/braintv/workgroups/nc-ophys/Farzaneh/ICA_crossTalk/session_841303580/traces_out_841624549.h5\n",
      "copying /allen/programs/braintv/workgroups/nc-ophys/Farzaneh/ICA_crossTalk/session_841303580/traces_out_841624554.h5\n",
      "copying /allen/programs/braintv/workgroups/nc-ophys/Farzaneh/ICA_crossTalk/session_841303580/traces_out_841624556.h5\n",
      "copying /allen/programs/braintv/workgroups/nc-ophys/Farzaneh/ICA_crossTalk/session_841303580/neuropil_out_841624564.h5\n",
      "copying /allen/programs/braintv/workgroups/nc-ophys/Farzaneh/ICA_crossTalk/session_841303580/neuropil_out_841624560.h5\n",
      "copying /allen/programs/braintv/workgroups/nc-ophys/Farzaneh/ICA_crossTalk/session_841303580/neuropil_out_841624552.h5\n",
      "copying /allen/programs/braintv/workgroups/nc-ophys/Farzaneh/ICA_crossTalk/session_841303580/neuropil_out_841624549.h5\n",
      "copying /allen/programs/braintv/workgroups/nc-ophys/Farzaneh/ICA_crossTalk/session_841303580/neuropil_out_841624554.h5\n",
      "copying /allen/programs/braintv/workgroups/nc-ophys/Farzaneh/ICA_crossTalk/session_841303580/neuropil_out_841624556.h5\n",
      "copying /allen/programs/braintv/workgroups/nc-ophys/Farzaneh/ICA_crossTalk/session_841303580/neuropil_out_841624569.h5\n",
      "copying /allen/programs/braintv/workgroups/nc-ophys/Farzaneh/ICA_crossTalk/session_841303580/neuropil_out_841624576.h5\n",
      "\n",
      "\n",
      "Session 3/143: /allen/programs/braintv/workgroups/nc-ophys/Farzaneh/ICA_crossTalk/session_841682738/\n",
      "copying /allen/programs/braintv/workgroups/nc-ophys/Farzaneh/ICA_crossTalk/session_841682738/traces_out_841968436.h5\n",
      "copying /allen/programs/braintv/workgroups/nc-ophys/Farzaneh/ICA_crossTalk/session_841682738/traces_out_841968438.h5\n",
      "copying /allen/programs/braintv/workgroups/nc-ophys/Farzaneh/ICA_crossTalk/session_841682738/traces_out_841968440.h5\n",
      "copying /allen/programs/braintv/workgroups/nc-ophys/Farzaneh/ICA_crossTalk/session_841682738/traces_out_841968442.h5\n",
      "copying /allen/programs/braintv/workgroups/nc-ophys/Farzaneh/ICA_crossTalk/session_841682738/traces_out_841968445.h5\n",
      "copying /allen/programs/braintv/workgroups/nc-ophys/Farzaneh/ICA_crossTalk/session_841682738/traces_out_841968447.h5\n",
      "copying /allen/programs/braintv/workgroups/nc-ophys/Farzaneh/ICA_crossTalk/session_841682738/traces_out_841968452.h5\n",
      "copying /allen/programs/braintv/workgroups/nc-ophys/Farzaneh/ICA_crossTalk/session_841682738/traces_out_841968449.h5\n",
      "copying /allen/programs/braintv/workgroups/nc-ophys/Farzaneh/ICA_crossTalk/session_841682738/neuropil_out_841968440.h5\n",
      "copying /allen/programs/braintv/workgroups/nc-ophys/Farzaneh/ICA_crossTalk/session_841682738/neuropil_out_841968442.h5\n",
      "copying /allen/programs/braintv/workgroups/nc-ophys/Farzaneh/ICA_crossTalk/session_841682738/neuropil_out_841968445.h5\n",
      "copying /allen/programs/braintv/workgroups/nc-ophys/Farzaneh/ICA_crossTalk/session_841682738/neuropil_out_841968447.h5\n",
      "copying /allen/programs/braintv/workgroups/nc-ophys/Farzaneh/ICA_crossTalk/session_841682738/neuropil_out_841968452.h5\n",
      "copying /allen/programs/braintv/workgroups/nc-ophys/Farzaneh/ICA_crossTalk/session_841682738/neuropil_out_841968449.h5\n",
      "copying /allen/programs/braintv/workgroups/nc-ophys/Farzaneh/ICA_crossTalk/session_841682738/neuropil_out_841968436.h5\n",
      "copying /allen/programs/braintv/workgroups/nc-ophys/Farzaneh/ICA_crossTalk/session_841682738/neuropil_out_841968438.h5\n",
      "\n",
      "\n",
      "Session 4/143: /allen/programs/braintv/workgroups/nc-ophys/Farzaneh/ICA_crossTalk/session_841778484/\n",
      "copying /allen/programs/braintv/workgroups/nc-ophys/Farzaneh/ICA_crossTalk/session_841778484/traces_out_841969467.h5\n",
      "copying /allen/programs/braintv/workgroups/nc-ophys/Farzaneh/ICA_crossTalk/session_841778484/traces_out_841969465.h5\n",
      "copying /allen/programs/braintv/workgroups/nc-ophys/Farzaneh/ICA_crossTalk/session_841778484/traces_out_841969462.h5\n",
      "copying /allen/programs/braintv/workgroups/nc-ophys/Farzaneh/ICA_crossTalk/session_841778484/traces_out_841969460.h5\n",
      "copying /allen/programs/braintv/workgroups/nc-ophys/Farzaneh/ICA_crossTalk/session_841778484/traces_out_841969471.h5\n",
      "copying /allen/programs/braintv/workgroups/nc-ophys/Farzaneh/ICA_crossTalk/session_841778484/traces_out_841969469.h5\n",
      "copying /allen/programs/braintv/workgroups/nc-ophys/Farzaneh/ICA_crossTalk/session_841778484/traces_out_841969458.h5\n",
      "copying /allen/programs/braintv/workgroups/nc-ophys/Farzaneh/ICA_crossTalk/session_841778484/traces_out_841969456.h5\n",
      "copying /allen/programs/braintv/workgroups/nc-ophys/Farzaneh/ICA_crossTalk/session_841778484/neuropil_out_841969462.h5\n",
      "copying /allen/programs/braintv/workgroups/nc-ophys/Farzaneh/ICA_crossTalk/session_841778484/neuropil_out_841969460.h5\n",
      "copying /allen/programs/braintv/workgroups/nc-ophys/Farzaneh/ICA_crossTalk/session_841778484/neuropil_out_841969467.h5\n",
      "copying /allen/programs/braintv/workgroups/nc-ophys/Farzaneh/ICA_crossTalk/session_841778484/neuropil_out_841969465.h5\n",
      "copying /allen/programs/braintv/workgroups/nc-ophys/Farzaneh/ICA_crossTalk/session_841778484/neuropil_out_841969458.h5\n",
      "copying /allen/programs/braintv/workgroups/nc-ophys/Farzaneh/ICA_crossTalk/session_841778484/neuropil_out_841969456.h5\n",
      "copying /allen/programs/braintv/workgroups/nc-ophys/Farzaneh/ICA_crossTalk/session_841778484/neuropil_out_841969471.h5\n",
      "copying /allen/programs/braintv/workgroups/nc-ophys/Farzaneh/ICA_crossTalk/session_841778484/neuropil_out_841969469.h5\n",
      "\n",
      "\n",
      "Session 5/143: /allen/programs/braintv/workgroups/nc-ophys/Farzaneh/ICA_crossTalk/session_842023261/\n",
      "copying /allen/programs/braintv/workgroups/nc-ophys/Farzaneh/ICA_crossTalk/session_842023261/traces_out_842545456.h5\n",
      "copying /allen/programs/braintv/workgroups/nc-ophys/Farzaneh/ICA_crossTalk/session_842023261/traces_out_842545454.h5\n",
      "copying /allen/programs/braintv/workgroups/nc-ophys/Farzaneh/ICA_crossTalk/session_842023261/traces_out_842545470.h5\n",
      "copying /allen/programs/braintv/workgroups/nc-ophys/Farzaneh/ICA_crossTalk/session_842023261/traces_out_842545472.h5\n",
      "copying /allen/programs/braintv/workgroups/nc-ophys/Farzaneh/ICA_crossTalk/session_842023261/traces_out_842545458.h5\n",
      "copying /allen/programs/braintv/workgroups/nc-ophys/Farzaneh/ICA_crossTalk/session_842023261/traces_out_842545462.h5\n",
      "copying /allen/programs/braintv/workgroups/nc-ophys/Farzaneh/ICA_crossTalk/session_842023261/traces_out_842545468.h5\n",
      "copying /allen/programs/braintv/workgroups/nc-ophys/Farzaneh/ICA_crossTalk/session_842023261/traces_out_842545466.h5\n",
      "copying /allen/programs/braintv/workgroups/nc-ophys/Farzaneh/ICA_crossTalk/session_842023261/neuropil_out_842545456.h5\n",
      "copying /allen/programs/braintv/workgroups/nc-ophys/Farzaneh/ICA_crossTalk/session_842023261/neuropil_out_842545454.h5\n",
      "copying /allen/programs/braintv/workgroups/nc-ophys/Farzaneh/ICA_crossTalk/session_842023261/neuropil_out_842545458.h5\n",
      "copying /allen/programs/braintv/workgroups/nc-ophys/Farzaneh/ICA_crossTalk/session_842023261/neuropil_out_842545462.h5\n",
      "copying /allen/programs/braintv/workgroups/nc-ophys/Farzaneh/ICA_crossTalk/session_842023261/neuropil_out_842545470.h5\n",
      "copying /allen/programs/braintv/workgroups/nc-ophys/Farzaneh/ICA_crossTalk/session_842023261/neuropil_out_842545472.h5\n",
      "copying /allen/programs/braintv/workgroups/nc-ophys/Farzaneh/ICA_crossTalk/session_842023261/neuropil_out_842545468.h5\n",
      "copying /allen/programs/braintv/workgroups/nc-ophys/Farzaneh/ICA_crossTalk/session_842023261/neuropil_out_842545466.h5\n",
      "\n",
      "\n",
      "Session 6/143: /allen/programs/braintv/workgroups/nc-ophys/Farzaneh/ICA_crossTalk/session_842364341/\n",
      "copying /allen/programs/braintv/workgroups/nc-ophys/Farzaneh/ICA_crossTalk/session_842364341/traces_out_842545448.h5\n",
      "copying /allen/programs/braintv/workgroups/nc-ophys/Farzaneh/ICA_crossTalk/session_842364341/traces_out_842545446.h5\n",
      "copying /allen/programs/braintv/workgroups/nc-ophys/Farzaneh/ICA_crossTalk/session_842364341/traces_out_842545444.h5\n",
      "copying /allen/programs/braintv/workgroups/nc-ophys/Farzaneh/ICA_crossTalk/session_842364341/traces_out_842545442.h5\n",
      "copying /allen/programs/braintv/workgroups/nc-ophys/Farzaneh/ICA_crossTalk/session_842364341/traces_out_842545439.h5\n",
      "copying /allen/programs/braintv/workgroups/nc-ophys/Farzaneh/ICA_crossTalk/session_842364341/traces_out_842545437.h5\n",
      "copying /allen/programs/braintv/workgroups/nc-ophys/Farzaneh/ICA_crossTalk/session_842364341/traces_out_842545433.h5\n",
      "copying /allen/programs/braintv/workgroups/nc-ophys/Farzaneh/ICA_crossTalk/session_842364341/traces_out_842545435.h5\n",
      "copying /allen/programs/braintv/workgroups/nc-ophys/Farzaneh/ICA_crossTalk/session_842364341/neuropil_out_842545448.h5\n",
      "copying /allen/programs/braintv/workgroups/nc-ophys/Farzaneh/ICA_crossTalk/session_842364341/neuropil_out_842545446.h5\n",
      "copying /allen/programs/braintv/workgroups/nc-ophys/Farzaneh/ICA_crossTalk/session_842364341/neuropil_out_842545444.h5\n",
      "copying /allen/programs/braintv/workgroups/nc-ophys/Farzaneh/ICA_crossTalk/session_842364341/neuropil_out_842545442.h5\n",
      "copying /allen/programs/braintv/workgroups/nc-ophys/Farzaneh/ICA_crossTalk/session_842364341/neuropil_out_842545439.h5\n",
      "copying /allen/programs/braintv/workgroups/nc-ophys/Farzaneh/ICA_crossTalk/session_842364341/neuropil_out_842545437.h5\n",
      "copying /allen/programs/braintv/workgroups/nc-ophys/Farzaneh/ICA_crossTalk/session_842364341/neuropil_out_842545433.h5\n",
      "copying /allen/programs/braintv/workgroups/nc-ophys/Farzaneh/ICA_crossTalk/session_842364341/neuropil_out_842545435.h5\n",
      "\n",
      "\n",
      "Session 7/143: /allen/programs/braintv/workgroups/nc-ophys/Farzaneh/ICA_crossTalk/session_842623907/\n",
      "copying /allen/programs/braintv/workgroups/nc-ophys/Farzaneh/ICA_crossTalk/session_842623907/traces_out_843007056.h5\n",
      "copying /allen/programs/braintv/workgroups/nc-ophys/Farzaneh/ICA_crossTalk/session_842623907/traces_out_843007054.h5\n",
      "copying /allen/programs/braintv/workgroups/nc-ophys/Farzaneh/ICA_crossTalk/session_842623907/traces_out_843007058.h5\n",
      "copying /allen/programs/braintv/workgroups/nc-ophys/Farzaneh/ICA_crossTalk/session_842623907/traces_out_843007061.h5\n",
      "copying /allen/programs/braintv/workgroups/nc-ophys/Farzaneh/ICA_crossTalk/session_842623907/traces_out_843007065.h5\n",
      "copying /allen/programs/braintv/workgroups/nc-ophys/Farzaneh/ICA_crossTalk/session_842623907/traces_out_843007063.h5\n",
      "copying /allen/programs/braintv/workgroups/nc-ophys/Farzaneh/ICA_crossTalk/session_842623907/traces_out_843007050.h5\n",
      "copying /allen/programs/braintv/workgroups/nc-ophys/Farzaneh/ICA_crossTalk/session_842623907/traces_out_843007052.h5\n",
      "copying /allen/programs/braintv/workgroups/nc-ophys/Farzaneh/ICA_crossTalk/session_842623907/neuropil_out_843007058.h5\n",
      "copying /allen/programs/braintv/workgroups/nc-ophys/Farzaneh/ICA_crossTalk/session_842623907/neuropil_out_843007061.h5\n",
      "copying /allen/programs/braintv/workgroups/nc-ophys/Farzaneh/ICA_crossTalk/session_842623907/neuropil_out_843007050.h5\n",
      "copying /allen/programs/braintv/workgroups/nc-ophys/Farzaneh/ICA_crossTalk/session_842623907/neuropil_out_843007052.h5\n",
      "copying /allen/programs/braintv/workgroups/nc-ophys/Farzaneh/ICA_crossTalk/session_842623907/neuropil_out_843007065.h5\n",
      "copying /allen/programs/braintv/workgroups/nc-ophys/Farzaneh/ICA_crossTalk/session_842623907/neuropil_out_843007063.h5\n",
      "copying /allen/programs/braintv/workgroups/nc-ophys/Farzaneh/ICA_crossTalk/session_842623907/neuropil_out_843007056.h5\n",
      "copying /allen/programs/braintv/workgroups/nc-ophys/Farzaneh/ICA_crossTalk/session_842623907/neuropil_out_843007054.h5\n",
      "\n",
      "\n",
      "Session 8/143: /allen/programs/braintv/workgroups/nc-ophys/Farzaneh/ICA_crossTalk/session_843871999/\n",
      "copying /allen/programs/braintv/workgroups/nc-ophys/Farzaneh/ICA_crossTalk/session_843871999/traces_out_844420229.h5\n",
      "copying /allen/programs/braintv/workgroups/nc-ophys/Farzaneh/ICA_crossTalk/session_843871999/traces_out_844420226.h5\n",
      "copying /allen/programs/braintv/workgroups/nc-ophys/Farzaneh/ICA_crossTalk/session_843871999/traces_out_844420222.h5\n",
      "copying /allen/programs/braintv/workgroups/nc-ophys/Farzaneh/ICA_crossTalk/session_843871999/traces_out_844420224.h5\n",
      "copying /allen/programs/braintv/workgroups/nc-ophys/Farzaneh/ICA_crossTalk/session_843871999/traces_out_844420214.h5\n",
      "copying /allen/programs/braintv/workgroups/nc-ophys/Farzaneh/ICA_crossTalk/session_843871999/traces_out_844420212.h5\n",
      "copying /allen/programs/braintv/workgroups/nc-ophys/Farzaneh/ICA_crossTalk/session_843871999/traces_out_844420220.h5\n",
      "copying /allen/programs/braintv/workgroups/nc-ophys/Farzaneh/ICA_crossTalk/session_843871999/traces_out_844420217.h5\n",
      "copying /allen/programs/braintv/workgroups/nc-ophys/Farzaneh/ICA_crossTalk/session_843871999/neuropil_out_844420214.h5\n",
      "copying /allen/programs/braintv/workgroups/nc-ophys/Farzaneh/ICA_crossTalk/session_843871999/neuropil_out_844420212.h5\n",
      "copying /allen/programs/braintv/workgroups/nc-ophys/Farzaneh/ICA_crossTalk/session_843871999/neuropil_out_844420220.h5\n",
      "copying /allen/programs/braintv/workgroups/nc-ophys/Farzaneh/ICA_crossTalk/session_843871999/neuropil_out_844420217.h5\n",
      "copying /allen/programs/braintv/workgroups/nc-ophys/Farzaneh/ICA_crossTalk/session_843871999/neuropil_out_844420229.h5\n",
      "copying /allen/programs/braintv/workgroups/nc-ophys/Farzaneh/ICA_crossTalk/session_843871999/neuropil_out_844420226.h5\n",
      "copying /allen/programs/braintv/workgroups/nc-ophys/Farzaneh/ICA_crossTalk/session_843871999/neuropil_out_844420222.h5\n",
      "copying /allen/programs/braintv/workgroups/nc-ophys/Farzaneh/ICA_crossTalk/session_843871999/neuropil_out_844420224.h5\n",
      "\n",
      "\n",
      "Session 9/143: /allen/programs/braintv/workgroups/nc-ophys/Farzaneh/ICA_crossTalk/session_844469521/\n",
      "copying /allen/programs/braintv/workgroups/nc-ophys/Farzaneh/ICA_crossTalk/session_844469521/traces_out_845070858.h5\n",
      "copying /allen/programs/braintv/workgroups/nc-ophys/Farzaneh/ICA_crossTalk/session_844469521/traces_out_845070856.h5\n",
      "copying /allen/programs/braintv/workgroups/nc-ophys/Farzaneh/ICA_crossTalk/session_844469521/traces_out_845070868.h5\n",
      "copying /allen/programs/braintv/workgroups/nc-ophys/Farzaneh/ICA_crossTalk/session_844469521/traces_out_845070870.h5\n",
      "copying /allen/programs/braintv/workgroups/nc-ophys/Farzaneh/ICA_crossTalk/session_844469521/traces_out_845070860.h5\n",
      "copying /allen/programs/braintv/workgroups/nc-ophys/Farzaneh/ICA_crossTalk/session_844469521/traces_out_845070862.h5\n",
      "copying /allen/programs/braintv/workgroups/nc-ophys/Farzaneh/ICA_crossTalk/session_844469521/traces_out_845070866.h5\n",
      "copying /allen/programs/braintv/workgroups/nc-ophys/Farzaneh/ICA_crossTalk/session_844469521/traces_out_845070864.h5\n",
      "copying /allen/programs/braintv/workgroups/nc-ophys/Farzaneh/ICA_crossTalk/session_844469521/neuropil_out_845070866.h5\n",
      "copying /allen/programs/braintv/workgroups/nc-ophys/Farzaneh/ICA_crossTalk/session_844469521/neuropil_out_845070864.h5\n",
      "copying /allen/programs/braintv/workgroups/nc-ophys/Farzaneh/ICA_crossTalk/session_844469521/neuropil_out_845070860.h5\n",
      "copying /allen/programs/braintv/workgroups/nc-ophys/Farzaneh/ICA_crossTalk/session_844469521/neuropil_out_845070862.h5\n",
      "copying /allen/programs/braintv/workgroups/nc-ophys/Farzaneh/ICA_crossTalk/session_844469521/neuropil_out_845070858.h5\n",
      "copying /allen/programs/braintv/workgroups/nc-ophys/Farzaneh/ICA_crossTalk/session_844469521/neuropil_out_845070856.h5\n",
      "copying /allen/programs/braintv/workgroups/nc-ophys/Farzaneh/ICA_crossTalk/session_844469521/neuropil_out_845070868.h5\n",
      "copying /allen/programs/braintv/workgroups/nc-ophys/Farzaneh/ICA_crossTalk/session_844469521/neuropil_out_845070870.h5\n",
      "\n",
      "\n",
      "Session 10/143: /allen/programs/braintv/workgroups/nc-ophys/Farzaneh/ICA_crossTalk/session_845235947/\n",
      "copying /allen/programs/braintv/workgroups/nc-ophys/Farzaneh/ICA_crossTalk/session_845235947/traces_out_845777907.h5\n",
      "copying /allen/programs/braintv/workgroups/nc-ophys/Farzaneh/ICA_crossTalk/session_845235947/traces_out_845777909.h5\n",
      "copying /allen/programs/braintv/workgroups/nc-ophys/Farzaneh/ICA_crossTalk/session_845235947/traces_out_845777913.h5\n",
      "copying /allen/programs/braintv/workgroups/nc-ophys/Farzaneh/ICA_crossTalk/session_845235947/traces_out_845777911.h5\n",
      "copying /allen/programs/braintv/workgroups/nc-ophys/Farzaneh/ICA_crossTalk/session_845235947/traces_out_845777922.h5\n",
      "copying /allen/programs/braintv/workgroups/nc-ophys/Farzaneh/ICA_crossTalk/session_845235947/traces_out_845777920.h5\n",
      "copying /allen/programs/braintv/workgroups/nc-ophys/Farzaneh/ICA_crossTalk/session_845235947/traces_out_845777915.h5\n",
      "copying /allen/programs/braintv/workgroups/nc-ophys/Farzaneh/ICA_crossTalk/session_845235947/traces_out_845777918.h5\n",
      "copying /allen/programs/braintv/workgroups/nc-ophys/Farzaneh/ICA_crossTalk/session_845235947/neuropil_out_845777915.h5\n",
      "copying /allen/programs/braintv/workgroups/nc-ophys/Farzaneh/ICA_crossTalk/session_845235947/neuropil_out_845777918.h5\n",
      "copying /allen/programs/braintv/workgroups/nc-ophys/Farzaneh/ICA_crossTalk/session_845235947/neuropil_out_845777907.h5\n",
      "copying /allen/programs/braintv/workgroups/nc-ophys/Farzaneh/ICA_crossTalk/session_845235947/neuropil_out_845777909.h5\n",
      "copying /allen/programs/braintv/workgroups/nc-ophys/Farzaneh/ICA_crossTalk/session_845235947/neuropil_out_845777913.h5\n",
      "copying /allen/programs/braintv/workgroups/nc-ophys/Farzaneh/ICA_crossTalk/session_845235947/neuropil_out_845777911.h5\n",
      "copying /allen/programs/braintv/workgroups/nc-ophys/Farzaneh/ICA_crossTalk/session_845235947/neuropil_out_845777922.h5\n",
      "copying /allen/programs/braintv/workgroups/nc-ophys/Farzaneh/ICA_crossTalk/session_845235947/neuropil_out_845777920.h5\n",
      "\n",
      "\n",
      "Session 11/143: /allen/programs/braintv/workgroups/nc-ophys/Farzaneh/ICA_crossTalk/session_846871218/\n",
      "copying /allen/programs/braintv/workgroups/nc-ophys/Farzaneh/ICA_crossTalk/session_846871218/traces_out_847267622.h5\n",
      "copying /allen/programs/braintv/workgroups/nc-ophys/Farzaneh/ICA_crossTalk/session_846871218/traces_out_847267620.h5\n",
      "copying /allen/programs/braintv/workgroups/nc-ophys/Farzaneh/ICA_crossTalk/session_846871218/traces_out_847267618.h5\n",
      "copying /allen/programs/braintv/workgroups/nc-ophys/Farzaneh/ICA_crossTalk/session_846871218/traces_out_847267616.h5\n",
      "copying /allen/programs/braintv/workgroups/nc-ophys/Farzaneh/ICA_crossTalk/session_846871218/traces_out_847267624.h5\n",
      "copying /allen/programs/braintv/workgroups/nc-ophys/Farzaneh/ICA_crossTalk/session_846871218/traces_out_847267626.h5\n",
      "copying /allen/programs/braintv/workgroups/nc-ophys/Farzaneh/ICA_crossTalk/session_846871218/traces_out_847267630.h5\n",
      "copying /allen/programs/braintv/workgroups/nc-ophys/Farzaneh/ICA_crossTalk/session_846871218/traces_out_847267628.h5\n",
      "copying /allen/programs/braintv/workgroups/nc-ophys/Farzaneh/ICA_crossTalk/session_846871218/neuropil_out_847267624.h5\n",
      "copying /allen/programs/braintv/workgroups/nc-ophys/Farzaneh/ICA_crossTalk/session_846871218/neuropil_out_847267626.h5\n",
      "copying /allen/programs/braintv/workgroups/nc-ophys/Farzaneh/ICA_crossTalk/session_846871218/neuropil_out_847267618.h5\n",
      "copying /allen/programs/braintv/workgroups/nc-ophys/Farzaneh/ICA_crossTalk/session_846871218/neuropil_out_847267616.h5\n",
      "copying /allen/programs/braintv/workgroups/nc-ophys/Farzaneh/ICA_crossTalk/session_846871218/neuropil_out_847267630.h5\n",
      "copying /allen/programs/braintv/workgroups/nc-ophys/Farzaneh/ICA_crossTalk/session_846871218/neuropil_out_847267628.h5\n",
      "copying /allen/programs/braintv/workgroups/nc-ophys/Farzaneh/ICA_crossTalk/session_846871218/neuropil_out_847267622.h5\n",
      "copying /allen/programs/braintv/workgroups/nc-ophys/Farzaneh/ICA_crossTalk/session_846871218/neuropil_out_847267620.h5\n",
      "\n",
      "\n",
      "Session 12/143: /allen/programs/braintv/workgroups/nc-ophys/Farzaneh/ICA_crossTalk/session_847758278/\n",
      "copying /allen/programs/braintv/workgroups/nc-ophys/Farzaneh/ICA_crossTalk/session_847758278/traces_out_848039115.h5\n",
      "copying /allen/programs/braintv/workgroups/nc-ophys/Farzaneh/ICA_crossTalk/session_847758278/traces_out_848039117.h5\n",
      "copying /allen/programs/braintv/workgroups/nc-ophys/Farzaneh/ICA_crossTalk/session_847758278/traces_out_848039113.h5\n",
      "copying /allen/programs/braintv/workgroups/nc-ophys/Farzaneh/ICA_crossTalk/session_847758278/traces_out_848039110.h5\n",
      "copying /allen/programs/braintv/workgroups/nc-ophys/Farzaneh/ICA_crossTalk/session_847758278/traces_out_848039119.h5\n",
      "copying /allen/programs/braintv/workgroups/nc-ophys/Farzaneh/ICA_crossTalk/session_847758278/traces_out_848039121.h5\n",
      "copying /allen/programs/braintv/workgroups/nc-ophys/Farzaneh/ICA_crossTalk/session_847758278/traces_out_848039125.h5\n",
      "copying /allen/programs/braintv/workgroups/nc-ophys/Farzaneh/ICA_crossTalk/session_847758278/traces_out_848039123.h5\n",
      "copying /allen/programs/braintv/workgroups/nc-ophys/Farzaneh/ICA_crossTalk/session_847758278/neuropil_out_848039115.h5\n",
      "copying /allen/programs/braintv/workgroups/nc-ophys/Farzaneh/ICA_crossTalk/session_847758278/neuropil_out_848039117.h5\n",
      "copying /allen/programs/braintv/workgroups/nc-ophys/Farzaneh/ICA_crossTalk/session_847758278/neuropil_out_848039125.h5\n",
      "copying /allen/programs/braintv/workgroups/nc-ophys/Farzaneh/ICA_crossTalk/session_847758278/neuropil_out_848039123.h5\n",
      "copying /allen/programs/braintv/workgroups/nc-ophys/Farzaneh/ICA_crossTalk/session_847758278/neuropil_out_848039119.h5\n",
      "copying /allen/programs/braintv/workgroups/nc-ophys/Farzaneh/ICA_crossTalk/session_847758278/neuropil_out_848039121.h5\n",
      "copying /allen/programs/braintv/workgroups/nc-ophys/Farzaneh/ICA_crossTalk/session_847758278/neuropil_out_848039113.h5\n",
      "copying /allen/programs/braintv/workgroups/nc-ophys/Farzaneh/ICA_crossTalk/session_847758278/neuropil_out_848039110.h5\n",
      "\n",
      "\n",
      "Session 13/143: /allen/programs/braintv/workgroups/nc-ophys/Farzaneh/ICA_crossTalk/session_848401585/\n",
      "copying /allen/programs/braintv/workgroups/nc-ophys/Farzaneh/ICA_crossTalk/session_848401585/traces_out_848760981.h5\n",
      "copying /allen/programs/braintv/workgroups/nc-ophys/Farzaneh/ICA_crossTalk/session_848401585/traces_out_848760979.h5\n",
      "copying /allen/programs/braintv/workgroups/nc-ophys/Farzaneh/ICA_crossTalk/session_848401585/traces_out_848760983.h5\n",
      "copying /allen/programs/braintv/workgroups/nc-ophys/Farzaneh/ICA_crossTalk/session_848401585/traces_out_848760985.h5\n",
      "copying /allen/programs/braintv/workgroups/nc-ophys/Farzaneh/ICA_crossTalk/session_848401585/traces_out_848760977.h5\n",
      "copying /allen/programs/braintv/workgroups/nc-ophys/Farzaneh/ICA_crossTalk/session_848401585/traces_out_848760974.h5\n",
      "copying /allen/programs/braintv/workgroups/nc-ophys/Farzaneh/ICA_crossTalk/session_848401585/traces_out_848760988.h5\n",
      "copying /allen/programs/braintv/workgroups/nc-ophys/Farzaneh/ICA_crossTalk/session_848401585/traces_out_848760990.h5\n",
      "copying /allen/programs/braintv/workgroups/nc-ophys/Farzaneh/ICA_crossTalk/session_848401585/neuropil_out_848760983.h5\n",
      "copying /allen/programs/braintv/workgroups/nc-ophys/Farzaneh/ICA_crossTalk/session_848401585/neuropil_out_848760985.h5\n",
      "copying /allen/programs/braintv/workgroups/nc-ophys/Farzaneh/ICA_crossTalk/session_848401585/neuropil_out_848760988.h5\n",
      "copying /allen/programs/braintv/workgroups/nc-ophys/Farzaneh/ICA_crossTalk/session_848401585/neuropil_out_848760990.h5\n",
      "copying /allen/programs/braintv/workgroups/nc-ophys/Farzaneh/ICA_crossTalk/session_848401585/neuropil_out_848760981.h5\n",
      "copying /allen/programs/braintv/workgroups/nc-ophys/Farzaneh/ICA_crossTalk/session_848401585/neuropil_out_848760979.h5\n",
      "copying /allen/programs/braintv/workgroups/nc-ophys/Farzaneh/ICA_crossTalk/session_848401585/neuropil_out_848760977.h5\n",
      "copying /allen/programs/braintv/workgroups/nc-ophys/Farzaneh/ICA_crossTalk/session_848401585/neuropil_out_848760974.h5\n",
      "\n",
      "\n",
      "Session 14/143: /allen/programs/braintv/workgroups/nc-ophys/Farzaneh/ICA_crossTalk/session_849304162/\n",
      "copying /allen/programs/braintv/workgroups/nc-ophys/Farzaneh/ICA_crossTalk/session_849304162/traces_out_850517358.h5\n",
      "copying /allen/programs/braintv/workgroups/nc-ophys/Farzaneh/ICA_crossTalk/session_849304162/traces_out_850517356.h5\n",
      "copying /allen/programs/braintv/workgroups/nc-ophys/Farzaneh/ICA_crossTalk/session_849304162/traces_out_850517354.h5\n",
      "copying /allen/programs/braintv/workgroups/nc-ophys/Farzaneh/ICA_crossTalk/session_849304162/traces_out_850517352.h5\n",
      "copying /allen/programs/braintv/workgroups/nc-ophys/Farzaneh/ICA_crossTalk/session_849304162/traces_out_850517350.h5\n",
      "copying /allen/programs/braintv/workgroups/nc-ophys/Farzaneh/ICA_crossTalk/session_849304162/traces_out_850517348.h5\n",
      "copying /allen/programs/braintv/workgroups/nc-ophys/Farzaneh/ICA_crossTalk/session_849304162/traces_out_850517344.h5\n",
      "copying /allen/programs/braintv/workgroups/nc-ophys/Farzaneh/ICA_crossTalk/session_849304162/traces_out_850517346.h5\n",
      "copying /allen/programs/braintv/workgroups/nc-ophys/Farzaneh/ICA_crossTalk/session_849304162/neuropil_out_850517358.h5\n",
      "copying /allen/programs/braintv/workgroups/nc-ophys/Farzaneh/ICA_crossTalk/session_849304162/neuropil_out_850517356.h5\n",
      "copying /allen/programs/braintv/workgroups/nc-ophys/Farzaneh/ICA_crossTalk/session_849304162/neuropil_out_850517350.h5\n",
      "copying /allen/programs/braintv/workgroups/nc-ophys/Farzaneh/ICA_crossTalk/session_849304162/neuropil_out_850517348.h5\n",
      "copying /allen/programs/braintv/workgroups/nc-ophys/Farzaneh/ICA_crossTalk/session_849304162/neuropil_out_850517344.h5\n",
      "copying /allen/programs/braintv/workgroups/nc-ophys/Farzaneh/ICA_crossTalk/session_849304162/neuropil_out_850517346.h5\n",
      "copying /allen/programs/braintv/workgroups/nc-ophys/Farzaneh/ICA_crossTalk/session_849304162/neuropil_out_850517354.h5\n",
      "copying /allen/programs/braintv/workgroups/nc-ophys/Farzaneh/ICA_crossTalk/session_849304162/neuropil_out_850517352.h5\n",
      "\n",
      "\n",
      "Session 15/143: /allen/programs/braintv/workgroups/nc-ophys/Farzaneh/ICA_crossTalk/session_850667270/\n",
      "copying /allen/programs/braintv/workgroups/nc-ophys/Farzaneh/ICA_crossTalk/session_850667270/traces_out_851093289.h5\n",
      "copying /allen/programs/braintv/workgroups/nc-ophys/Farzaneh/ICA_crossTalk/session_850667270/traces_out_851093287.h5\n",
      "copying /allen/programs/braintv/workgroups/nc-ophys/Farzaneh/ICA_crossTalk/session_850667270/traces_out_851093296.h5\n",
      "copying /allen/programs/braintv/workgroups/nc-ophys/Farzaneh/ICA_crossTalk/session_850667270/traces_out_851093291.h5\n",
      "copying /allen/programs/braintv/workgroups/nc-ophys/Farzaneh/ICA_crossTalk/session_850667270/traces_out_851093283.h5\n",
      "copying /allen/programs/braintv/workgroups/nc-ophys/Farzaneh/ICA_crossTalk/session_850667270/traces_out_851093285.h5\n",
      "copying /allen/programs/braintv/workgroups/nc-ophys/Farzaneh/ICA_crossTalk/session_850667270/traces_out_851093302.h5\n",
      "copying /allen/programs/braintv/workgroups/nc-ophys/Farzaneh/ICA_crossTalk/session_850667270/traces_out_851093306.h5\n",
      "copying /allen/programs/braintv/workgroups/nc-ophys/Farzaneh/ICA_crossTalk/session_850667270/neuropil_out_851093302.h5\n",
      "copying /allen/programs/braintv/workgroups/nc-ophys/Farzaneh/ICA_crossTalk/session_850667270/neuropil_out_851093306.h5\n",
      "copying /allen/programs/braintv/workgroups/nc-ophys/Farzaneh/ICA_crossTalk/session_850667270/neuropil_out_851093289.h5\n",
      "copying /allen/programs/braintv/workgroups/nc-ophys/Farzaneh/ICA_crossTalk/session_850667270/neuropil_out_851093287.h5\n",
      "copying /allen/programs/braintv/workgroups/nc-ophys/Farzaneh/ICA_crossTalk/session_850667270/neuropil_out_851093296.h5\n",
      "copying /allen/programs/braintv/workgroups/nc-ophys/Farzaneh/ICA_crossTalk/session_850667270/neuropil_out_851093291.h5\n",
      "copying /allen/programs/braintv/workgroups/nc-ophys/Farzaneh/ICA_crossTalk/session_850667270/neuropil_out_851093283.h5\n",
      "copying /allen/programs/braintv/workgroups/nc-ophys/Farzaneh/ICA_crossTalk/session_850667270/neuropil_out_851093285.h5\n",
      "\n",
      "\n",
      "Session 16/143: /allen/programs/braintv/workgroups/nc-ophys/Farzaneh/ICA_crossTalk/session_850894918/\n",
      "copying /allen/programs/braintv/workgroups/nc-ophys/Farzaneh/ICA_crossTalk/session_850894918/traces_out_851085095.h5\n",
      "copying /allen/programs/braintv/workgroups/nc-ophys/Farzaneh/ICA_crossTalk/session_850894918/traces_out_851085092.h5\n",
      "copying /allen/programs/braintv/workgroups/nc-ophys/Farzaneh/ICA_crossTalk/session_850894918/traces_out_851085100.h5\n",
      "copying /allen/programs/braintv/workgroups/nc-ophys/Farzaneh/ICA_crossTalk/session_850894918/traces_out_851085098.h5\n",
      "copying /allen/programs/braintv/workgroups/nc-ophys/Farzaneh/ICA_crossTalk/session_850894918/traces_out_851085109.h5\n",
      "copying /allen/programs/braintv/workgroups/nc-ophys/Farzaneh/ICA_crossTalk/session_850894918/traces_out_851085107.h5\n",
      "copying /allen/programs/braintv/workgroups/nc-ophys/Farzaneh/ICA_crossTalk/session_850894918/traces_out_851085103.h5\n",
      "copying /allen/programs/braintv/workgroups/nc-ophys/Farzaneh/ICA_crossTalk/session_850894918/traces_out_851085105.h5\n",
      "copying /allen/programs/braintv/workgroups/nc-ophys/Farzaneh/ICA_crossTalk/session_850894918/neuropil_out_851085109.h5\n",
      "copying /allen/programs/braintv/workgroups/nc-ophys/Farzaneh/ICA_crossTalk/session_850894918/neuropil_out_851085107.h5\n",
      "copying /allen/programs/braintv/workgroups/nc-ophys/Farzaneh/ICA_crossTalk/session_850894918/neuropil_out_851085100.h5\n",
      "copying /allen/programs/braintv/workgroups/nc-ophys/Farzaneh/ICA_crossTalk/session_850894918/neuropil_out_851085098.h5\n",
      "copying /allen/programs/braintv/workgroups/nc-ophys/Farzaneh/ICA_crossTalk/session_850894918/neuropil_out_851085095.h5\n",
      "copying /allen/programs/braintv/workgroups/nc-ophys/Farzaneh/ICA_crossTalk/session_850894918/neuropil_out_851085092.h5\n",
      "copying /allen/programs/braintv/workgroups/nc-ophys/Farzaneh/ICA_crossTalk/session_850894918/neuropil_out_851085103.h5\n",
      "copying /allen/programs/braintv/workgroups/nc-ophys/Farzaneh/ICA_crossTalk/session_850894918/neuropil_out_851085105.h5\n",
      "\n",
      "\n",
      "Session 17/143: /allen/programs/braintv/workgroups/nc-ophys/Farzaneh/ICA_crossTalk/session_852794141/\n",
      "copying /allen/programs/braintv/workgroups/nc-ophys/Farzaneh/ICA_crossTalk/session_852794141/traces_out_853363751.h5\n",
      "copying /allen/programs/braintv/workgroups/nc-ophys/Farzaneh/ICA_crossTalk/session_852794141/traces_out_853363749.h5\n",
      "copying /allen/programs/braintv/workgroups/nc-ophys/Farzaneh/ICA_crossTalk/session_852794141/traces_out_853363739.h5\n",
      "copying /allen/programs/braintv/workgroups/nc-ophys/Farzaneh/ICA_crossTalk/session_852794141/traces_out_853363743.h5\n",
      "copying /allen/programs/braintv/workgroups/nc-ophys/Farzaneh/ICA_crossTalk/session_852794141/traces_out_853363745.h5\n",
      "copying /allen/programs/braintv/workgroups/nc-ophys/Farzaneh/ICA_crossTalk/session_852794141/traces_out_853363747.h5\n",
      "copying /allen/programs/braintv/workgroups/nc-ophys/Farzaneh/ICA_crossTalk/session_852794141/traces_out_853363753.h5\n",
      "copying /allen/programs/braintv/workgroups/nc-ophys/Farzaneh/ICA_crossTalk/session_852794141/traces_out_853363756.h5\n",
      "copying /allen/programs/braintv/workgroups/nc-ophys/Farzaneh/ICA_crossTalk/session_852794141/neuropil_out_853363739.h5\n",
      "copying /allen/programs/braintv/workgroups/nc-ophys/Farzaneh/ICA_crossTalk/session_852794141/neuropil_out_853363743.h5\n",
      "copying /allen/programs/braintv/workgroups/nc-ophys/Farzaneh/ICA_crossTalk/session_852794141/neuropil_out_853363751.h5\n",
      "copying /allen/programs/braintv/workgroups/nc-ophys/Farzaneh/ICA_crossTalk/session_852794141/neuropil_out_853363749.h5\n",
      "copying /allen/programs/braintv/workgroups/nc-ophys/Farzaneh/ICA_crossTalk/session_852794141/neuropil_out_853363753.h5\n",
      "copying /allen/programs/braintv/workgroups/nc-ophys/Farzaneh/ICA_crossTalk/session_852794141/neuropil_out_853363756.h5\n",
      "copying /allen/programs/braintv/workgroups/nc-ophys/Farzaneh/ICA_crossTalk/session_852794141/neuropil_out_853363745.h5\n",
      "copying /allen/programs/braintv/workgroups/nc-ophys/Farzaneh/ICA_crossTalk/session_852794141/neuropil_out_853363747.h5\n",
      "\n",
      "\n",
      "Session 18/143: /allen/programs/braintv/workgroups/nc-ophys/Farzaneh/ICA_crossTalk/session_853416532/\n",
      "copying /allen/programs/braintv/workgroups/nc-ophys/Farzaneh/ICA_crossTalk/session_853416532/traces_out_853988437.h5\n",
      "copying /allen/programs/braintv/workgroups/nc-ophys/Farzaneh/ICA_crossTalk/session_853416532/traces_out_853988444.h5\n",
      "copying /allen/programs/braintv/workgroups/nc-ophys/Farzaneh/ICA_crossTalk/session_853416532/traces_out_853988450.h5\n",
      "copying /allen/programs/braintv/workgroups/nc-ophys/Farzaneh/ICA_crossTalk/session_853416532/traces_out_853988454.h5\n",
      "copying /allen/programs/braintv/workgroups/nc-ophys/Farzaneh/ICA_crossTalk/session_853416532/traces_out_853988446.h5\n",
      "copying /allen/programs/braintv/workgroups/nc-ophys/Farzaneh/ICA_crossTalk/session_853416532/traces_out_853988448.h5\n",
      "copying /allen/programs/braintv/workgroups/nc-ophys/Farzaneh/ICA_crossTalk/session_853416532/traces_out_853988435.h5\n",
      "copying /allen/programs/braintv/workgroups/nc-ophys/Farzaneh/ICA_crossTalk/session_853416532/traces_out_853988430.h5\n",
      "copying /allen/programs/braintv/workgroups/nc-ophys/Farzaneh/ICA_crossTalk/session_853416532/neuropil_out_853988435.h5\n",
      "copying /allen/programs/braintv/workgroups/nc-ophys/Farzaneh/ICA_crossTalk/session_853416532/neuropil_out_853988430.h5\n",
      "copying /allen/programs/braintv/workgroups/nc-ophys/Farzaneh/ICA_crossTalk/session_853416532/neuropil_out_853988450.h5\n",
      "copying /allen/programs/braintv/workgroups/nc-ophys/Farzaneh/ICA_crossTalk/session_853416532/neuropil_out_853988454.h5\n",
      "copying /allen/programs/braintv/workgroups/nc-ophys/Farzaneh/ICA_crossTalk/session_853416532/neuropil_out_853988446.h5\n",
      "copying /allen/programs/braintv/workgroups/nc-ophys/Farzaneh/ICA_crossTalk/session_853416532/neuropil_out_853988448.h5\n",
      "copying /allen/programs/braintv/workgroups/nc-ophys/Farzaneh/ICA_crossTalk/session_853416532/neuropil_out_853988437.h5\n",
      "copying /allen/programs/braintv/workgroups/nc-ophys/Farzaneh/ICA_crossTalk/session_853416532/neuropil_out_853988444.h5\n",
      "\n",
      "\n",
      "Session 19/143: /allen/programs/braintv/workgroups/nc-ophys/Farzaneh/ICA_crossTalk/session_854060305/\n",
      "copying /allen/programs/braintv/workgroups/nc-ophys/Farzaneh/ICA_crossTalk/session_854060305/traces_out_854759905.h5\n",
      "copying /allen/programs/braintv/workgroups/nc-ophys/Farzaneh/ICA_crossTalk/session_854060305/traces_out_854759907.h5\n",
      "copying /allen/programs/braintv/workgroups/nc-ophys/Farzaneh/ICA_crossTalk/session_854060305/traces_out_854759898.h5\n",
      "copying /allen/programs/braintv/workgroups/nc-ophys/Farzaneh/ICA_crossTalk/session_854060305/traces_out_854759896.h5\n",
      "copying /allen/programs/braintv/workgroups/nc-ophys/Farzaneh/ICA_crossTalk/session_854060305/traces_out_854759894.h5\n",
      "copying /allen/programs/braintv/workgroups/nc-ophys/Farzaneh/ICA_crossTalk/session_854060305/traces_out_854759890.h5\n",
      "copying /allen/programs/braintv/workgroups/nc-ophys/Farzaneh/ICA_crossTalk/session_854060305/traces_out_854759903.h5\n",
      "copying /allen/programs/braintv/workgroups/nc-ophys/Farzaneh/ICA_crossTalk/session_854060305/traces_out_854759900.h5\n",
      "copying /allen/programs/braintv/workgroups/nc-ophys/Farzaneh/ICA_crossTalk/session_854060305/neuropil_out_854759903.h5\n",
      "copying /allen/programs/braintv/workgroups/nc-ophys/Farzaneh/ICA_crossTalk/session_854060305/neuropil_out_854759900.h5\n",
      "copying /allen/programs/braintv/workgroups/nc-ophys/Farzaneh/ICA_crossTalk/session_854060305/neuropil_out_854759894.h5\n",
      "copying /allen/programs/braintv/workgroups/nc-ophys/Farzaneh/ICA_crossTalk/session_854060305/neuropil_out_854759890.h5\n",
      "copying /allen/programs/braintv/workgroups/nc-ophys/Farzaneh/ICA_crossTalk/session_854060305/neuropil_out_854759898.h5\n",
      "copying /allen/programs/braintv/workgroups/nc-ophys/Farzaneh/ICA_crossTalk/session_854060305/neuropil_out_854759896.h5\n",
      "copying /allen/programs/braintv/workgroups/nc-ophys/Farzaneh/ICA_crossTalk/session_854060305/neuropil_out_854759905.h5\n",
      "copying /allen/programs/braintv/workgroups/nc-ophys/Farzaneh/ICA_crossTalk/session_854060305/neuropil_out_854759907.h5\n",
      "\n",
      "\n",
      "Session 20/143: /allen/programs/braintv/workgroups/nc-ophys/Farzaneh/ICA_crossTalk/session_855711263/\n",
      "copying /allen/programs/braintv/workgroups/nc-ophys/Farzaneh/ICA_crossTalk/session_855711263/traces_out_856123126.h5\n",
      "copying /allen/programs/braintv/workgroups/nc-ophys/Farzaneh/ICA_crossTalk/session_855711263/traces_out_856123130.h5\n",
      "copying /allen/programs/braintv/workgroups/nc-ophys/Farzaneh/ICA_crossTalk/session_855711263/traces_out_856123117.h5\n",
      "copying /allen/programs/braintv/workgroups/nc-ophys/Farzaneh/ICA_crossTalk/session_855711263/traces_out_856123119.h5\n",
      "copying /allen/programs/braintv/workgroups/nc-ophys/Farzaneh/ICA_crossTalk/session_855711263/traces_out_856123122.h5\n",
      "copying /allen/programs/braintv/workgroups/nc-ophys/Farzaneh/ICA_crossTalk/session_855711263/traces_out_856123124.h5\n",
      "copying /allen/programs/braintv/workgroups/nc-ophys/Farzaneh/ICA_crossTalk/session_855711263/traces_out_856123134.h5\n",
      "copying /allen/programs/braintv/workgroups/nc-ophys/Farzaneh/ICA_crossTalk/session_855711263/traces_out_856123132.h5\n",
      "copying /allen/programs/braintv/workgroups/nc-ophys/Farzaneh/ICA_crossTalk/session_855711263/neuropil_out_856123126.h5\n",
      "copying /allen/programs/braintv/workgroups/nc-ophys/Farzaneh/ICA_crossTalk/session_855711263/neuropil_out_856123130.h5\n",
      "copying /allen/programs/braintv/workgroups/nc-ophys/Farzaneh/ICA_crossTalk/session_855711263/neuropil_out_856123122.h5\n",
      "copying /allen/programs/braintv/workgroups/nc-ophys/Farzaneh/ICA_crossTalk/session_855711263/neuropil_out_856123124.h5\n",
      "copying /allen/programs/braintv/workgroups/nc-ophys/Farzaneh/ICA_crossTalk/session_855711263/neuropil_out_856123117.h5\n",
      "copying /allen/programs/braintv/workgroups/nc-ophys/Farzaneh/ICA_crossTalk/session_855711263/neuropil_out_856123119.h5\n",
      "copying /allen/programs/braintv/workgroups/nc-ophys/Farzaneh/ICA_crossTalk/session_855711263/neuropil_out_856123134.h5\n",
      "copying /allen/programs/braintv/workgroups/nc-ophys/Farzaneh/ICA_crossTalk/session_855711263/neuropil_out_856123132.h5\n",
      "\n",
      "\n",
      "Session 21/143: /allen/programs/braintv/workgroups/nc-ophys/Farzaneh/ICA_crossTalk/session_863815473/\n",
      "copying /allen/programs/braintv/workgroups/nc-ophys/Farzaneh/ICA_crossTalk/session_863815473/traces_out_864430678.h5\n",
      "copying /allen/programs/braintv/workgroups/nc-ophys/Farzaneh/ICA_crossTalk/session_863815473/traces_out_864430675.h5\n",
      "copying /allen/programs/braintv/workgroups/nc-ophys/Farzaneh/ICA_crossTalk/session_863815473/traces_out_864430668.h5\n",
      "copying /allen/programs/braintv/workgroups/nc-ophys/Farzaneh/ICA_crossTalk/session_863815473/traces_out_864430671.h5\n",
      "copying /allen/programs/braintv/workgroups/nc-ophys/Farzaneh/ICA_crossTalk/session_863815473/traces_out_864430666.h5\n",
      "copying /allen/programs/braintv/workgroups/nc-ophys/Farzaneh/ICA_crossTalk/session_863815473/traces_out_864430664.h5\n",
      "copying /allen/programs/braintv/workgroups/nc-ophys/Farzaneh/ICA_crossTalk/session_863815473/traces_out_864430682.h5\n",
      "copying /allen/programs/braintv/workgroups/nc-ophys/Farzaneh/ICA_crossTalk/session_863815473/traces_out_864430680.h5\n",
      "copying /allen/programs/braintv/workgroups/nc-ophys/Farzaneh/ICA_crossTalk/session_863815473/neuropil_out_864430666.h5\n",
      "copying /allen/programs/braintv/workgroups/nc-ophys/Farzaneh/ICA_crossTalk/session_863815473/neuropil_out_864430664.h5\n",
      "copying /allen/programs/braintv/workgroups/nc-ophys/Farzaneh/ICA_crossTalk/session_863815473/neuropil_out_864430678.h5\n",
      "copying /allen/programs/braintv/workgroups/nc-ophys/Farzaneh/ICA_crossTalk/session_863815473/neuropil_out_864430675.h5\n",
      "copying /allen/programs/braintv/workgroups/nc-ophys/Farzaneh/ICA_crossTalk/session_863815473/neuropil_out_864430668.h5\n",
      "copying /allen/programs/braintv/workgroups/nc-ophys/Farzaneh/ICA_crossTalk/session_863815473/neuropil_out_864430671.h5\n",
      "copying /allen/programs/braintv/workgroups/nc-ophys/Farzaneh/ICA_crossTalk/session_863815473/neuropil_out_864430682.h5\n",
      "copying /allen/programs/braintv/workgroups/nc-ophys/Farzaneh/ICA_crossTalk/session_863815473/neuropil_out_864430680.h5\n",
      "\n",
      "\n",
      "Session 22/143: /allen/programs/braintv/workgroups/nc-ophys/Farzaneh/ICA_crossTalk/session_864458864/\n",
      "copying /allen/programs/braintv/workgroups/nc-ophys/Farzaneh/ICA_crossTalk/session_864458864/traces_out_864967094.h5\n",
      "copying /allen/programs/braintv/workgroups/nc-ophys/Farzaneh/ICA_crossTalk/session_864458864/traces_out_864967096.h5\n",
      "copying /allen/programs/braintv/workgroups/nc-ophys/Farzaneh/ICA_crossTalk/session_864458864/traces_out_864967106.h5\n",
      "copying /allen/programs/braintv/workgroups/nc-ophys/Farzaneh/ICA_crossTalk/session_864458864/traces_out_864967108.h5\n",
      "copying /allen/programs/braintv/workgroups/nc-ophys/Farzaneh/ICA_crossTalk/session_864458864/traces_out_864967104.h5\n",
      "copying /allen/programs/braintv/workgroups/nc-ophys/Farzaneh/ICA_crossTalk/session_864458864/traces_out_864967102.h5\n",
      "copying /allen/programs/braintv/workgroups/nc-ophys/Farzaneh/ICA_crossTalk/session_864458864/traces_out_864967098.h5\n",
      "copying /allen/programs/braintv/workgroups/nc-ophys/Farzaneh/ICA_crossTalk/session_864458864/traces_out_864967100.h5\n",
      "copying /allen/programs/braintv/workgroups/nc-ophys/Farzaneh/ICA_crossTalk/session_864458864/neuropil_out_864967104.h5\n",
      "copying /allen/programs/braintv/workgroups/nc-ophys/Farzaneh/ICA_crossTalk/session_864458864/neuropil_out_864967102.h5\n",
      "copying /allen/programs/braintv/workgroups/nc-ophys/Farzaneh/ICA_crossTalk/session_864458864/neuropil_out_864967106.h5\n",
      "copying /allen/programs/braintv/workgroups/nc-ophys/Farzaneh/ICA_crossTalk/session_864458864/neuropil_out_864967108.h5\n",
      "copying /allen/programs/braintv/workgroups/nc-ophys/Farzaneh/ICA_crossTalk/session_864458864/neuropil_out_864967098.h5\n",
      "copying /allen/programs/braintv/workgroups/nc-ophys/Farzaneh/ICA_crossTalk/session_864458864/neuropil_out_864967100.h5\n",
      "copying /allen/programs/braintv/workgroups/nc-ophys/Farzaneh/ICA_crossTalk/session_864458864/neuropil_out_864967094.h5\n",
      "copying /allen/programs/braintv/workgroups/nc-ophys/Farzaneh/ICA_crossTalk/session_864458864/neuropil_out_864967096.h5\n",
      "\n",
      "\n",
      "Session 23/143: /allen/programs/braintv/workgroups/nc-ophys/Farzaneh/ICA_crossTalk/session_865024413/\n",
      "copying /allen/programs/braintv/workgroups/nc-ophys/Farzaneh/ICA_crossTalk/session_865024413/traces_out_865798235.h5\n",
      "copying /allen/programs/braintv/workgroups/nc-ophys/Farzaneh/ICA_crossTalk/session_865024413/traces_out_865798237.h5\n",
      "copying /allen/programs/braintv/workgroups/nc-ophys/Farzaneh/ICA_crossTalk/session_865024413/traces_out_865798249.h5\n",
      "copying /allen/programs/braintv/workgroups/nc-ophys/Farzaneh/ICA_crossTalk/session_865024413/traces_out_865798251.h5\n",
      "copying /allen/programs/braintv/workgroups/nc-ophys/Farzaneh/ICA_crossTalk/session_865024413/traces_out_865798239.h5\n",
      "copying /allen/programs/braintv/workgroups/nc-ophys/Farzaneh/ICA_crossTalk/session_865024413/traces_out_865798241.h5\n",
      "copying /allen/programs/braintv/workgroups/nc-ophys/Farzaneh/ICA_crossTalk/session_865024413/traces_out_865798247.h5\n",
      "copying /allen/programs/braintv/workgroups/nc-ophys/Farzaneh/ICA_crossTalk/session_865024413/traces_out_865798245.h5\n",
      "copying /allen/programs/braintv/workgroups/nc-ophys/Farzaneh/ICA_crossTalk/session_865024413/neuropil_out_865798249.h5\n",
      "copying /allen/programs/braintv/workgroups/nc-ophys/Farzaneh/ICA_crossTalk/session_865024413/neuropil_out_865798251.h5\n",
      "copying /allen/programs/braintv/workgroups/nc-ophys/Farzaneh/ICA_crossTalk/session_865024413/neuropil_out_865798247.h5\n",
      "copying /allen/programs/braintv/workgroups/nc-ophys/Farzaneh/ICA_crossTalk/session_865024413/neuropil_out_865798245.h5\n",
      "copying /allen/programs/braintv/workgroups/nc-ophys/Farzaneh/ICA_crossTalk/session_865024413/neuropil_out_865798235.h5\n",
      "copying /allen/programs/braintv/workgroups/nc-ophys/Farzaneh/ICA_crossTalk/session_865024413/neuropil_out_865798237.h5\n",
      "copying /allen/programs/braintv/workgroups/nc-ophys/Farzaneh/ICA_crossTalk/session_865024413/neuropil_out_865798239.h5\n",
      "copying /allen/programs/braintv/workgroups/nc-ophys/Farzaneh/ICA_crossTalk/session_865024413/neuropil_out_865798241.h5\n",
      "\n",
      "\n",
      "Session 24/143: /allen/programs/braintv/workgroups/nc-ophys/Farzaneh/ICA_crossTalk/session_865854762/\n",
      "copying /allen/programs/braintv/workgroups/nc-ophys/Farzaneh/ICA_crossTalk/session_865854762/traces_out_866518296.h5\n",
      "copying /allen/programs/braintv/workgroups/nc-ophys/Farzaneh/ICA_crossTalk/session_865854762/traces_out_866518293.h5\n",
      "copying /allen/programs/braintv/workgroups/nc-ophys/Farzaneh/ICA_crossTalk/session_865854762/traces_out_866518305.h5\n",
      "copying /allen/programs/braintv/workgroups/nc-ophys/Farzaneh/ICA_crossTalk/session_865854762/traces_out_866518307.h5\n",
      "copying /allen/programs/braintv/workgroups/nc-ophys/Farzaneh/ICA_crossTalk/session_865854762/traces_out_866518309.h5\n",
      "copying /allen/programs/braintv/workgroups/nc-ophys/Farzaneh/ICA_crossTalk/session_865854762/traces_out_866518311.h5\n",
      "copying /allen/programs/braintv/workgroups/nc-ophys/Farzaneh/ICA_crossTalk/session_865854762/traces_out_866518298.h5\n",
      "copying /allen/programs/braintv/workgroups/nc-ophys/Farzaneh/ICA_crossTalk/session_865854762/traces_out_866518303.h5\n",
      "copying /allen/programs/braintv/workgroups/nc-ophys/Farzaneh/ICA_crossTalk/session_865854762/neuropil_out_866518305.h5\n",
      "copying /allen/programs/braintv/workgroups/nc-ophys/Farzaneh/ICA_crossTalk/session_865854762/neuropil_out_866518307.h5\n",
      "copying /allen/programs/braintv/workgroups/nc-ophys/Farzaneh/ICA_crossTalk/session_865854762/neuropil_out_866518309.h5\n",
      "copying /allen/programs/braintv/workgroups/nc-ophys/Farzaneh/ICA_crossTalk/session_865854762/neuropil_out_866518311.h5\n",
      "copying /allen/programs/braintv/workgroups/nc-ophys/Farzaneh/ICA_crossTalk/session_865854762/neuropil_out_866518296.h5\n",
      "copying /allen/programs/braintv/workgroups/nc-ophys/Farzaneh/ICA_crossTalk/session_865854762/neuropil_out_866518293.h5\n",
      "copying /allen/programs/braintv/workgroups/nc-ophys/Farzaneh/ICA_crossTalk/session_865854762/neuropil_out_866518298.h5\n",
      "copying /allen/programs/braintv/workgroups/nc-ophys/Farzaneh/ICA_crossTalk/session_865854762/neuropil_out_866518303.h5\n",
      "\n",
      "\n",
      "Session 25/143: /allen/programs/braintv/workgroups/nc-ophys/Farzaneh/ICA_crossTalk/session_866197765/\n",
      "copying /allen/programs/braintv/workgroups/nc-ophys/Farzaneh/ICA_crossTalk/session_866197765/traces_out_866518314.h5\n",
      "copying /allen/programs/braintv/workgroups/nc-ophys/Farzaneh/ICA_crossTalk/session_866197765/traces_out_866518316.h5\n",
      "copying /allen/programs/braintv/workgroups/nc-ophys/Farzaneh/ICA_crossTalk/session_866197765/traces_out_866518320.h5\n",
      "copying /allen/programs/braintv/workgroups/nc-ophys/Farzaneh/ICA_crossTalk/session_866197765/traces_out_866518318.h5\n",
      "copying /allen/programs/braintv/workgroups/nc-ophys/Farzaneh/ICA_crossTalk/session_866197765/traces_out_866518326.h5\n",
      "copying /allen/programs/braintv/workgroups/nc-ophys/Farzaneh/ICA_crossTalk/session_866197765/traces_out_866518328.h5\n",
      "copying /allen/programs/braintv/workgroups/nc-ophys/Farzaneh/ICA_crossTalk/session_866197765/traces_out_866518322.h5\n",
      "copying /allen/programs/braintv/workgroups/nc-ophys/Farzaneh/ICA_crossTalk/session_866197765/traces_out_866518324.h5\n",
      "copying /allen/programs/braintv/workgroups/nc-ophys/Farzaneh/ICA_crossTalk/session_866197765/neuropil_out_866518320.h5\n",
      "copying /allen/programs/braintv/workgroups/nc-ophys/Farzaneh/ICA_crossTalk/session_866197765/neuropil_out_866518318.h5\n",
      "copying /allen/programs/braintv/workgroups/nc-ophys/Farzaneh/ICA_crossTalk/session_866197765/neuropil_out_866518326.h5\n",
      "copying /allen/programs/braintv/workgroups/nc-ophys/Farzaneh/ICA_crossTalk/session_866197765/neuropil_out_866518328.h5\n",
      "copying /allen/programs/braintv/workgroups/nc-ophys/Farzaneh/ICA_crossTalk/session_866197765/neuropil_out_866518314.h5\n",
      "copying /allen/programs/braintv/workgroups/nc-ophys/Farzaneh/ICA_crossTalk/session_866197765/neuropil_out_866518316.h5\n",
      "copying /allen/programs/braintv/workgroups/nc-ophys/Farzaneh/ICA_crossTalk/session_866197765/neuropil_out_866518322.h5\n",
      "copying /allen/programs/braintv/workgroups/nc-ophys/Farzaneh/ICA_crossTalk/session_866197765/neuropil_out_866518324.h5\n",
      "\n",
      "\n",
      "Session 26/143: /allen/programs/braintv/workgroups/nc-ophys/Farzaneh/ICA_crossTalk/session_867027875/\n",
      "copying /allen/programs/braintv/workgroups/nc-ophys/Farzaneh/ICA_crossTalk/session_867027875/traces_out_867410516.h5\n",
      "copying /allen/programs/braintv/workgroups/nc-ophys/Farzaneh/ICA_crossTalk/session_867027875/traces_out_867410514.h5\n",
      "copying /allen/programs/braintv/workgroups/nc-ophys/Farzaneh/ICA_crossTalk/session_867027875/traces_out_867410522.h5\n",
      "copying /allen/programs/braintv/workgroups/nc-ophys/Farzaneh/ICA_crossTalk/session_867027875/traces_out_867410524.h5\n",
      "copying /allen/programs/braintv/workgroups/nc-ophys/Farzaneh/ICA_crossTalk/session_867027875/traces_out_867410520.h5\n",
      "copying /allen/programs/braintv/workgroups/nc-ophys/Farzaneh/ICA_crossTalk/session_867027875/traces_out_867410518.h5\n",
      "copying /allen/programs/braintv/workgroups/nc-ophys/Farzaneh/ICA_crossTalk/session_867027875/traces_out_867410512.h5\n",
      "copying /allen/programs/braintv/workgroups/nc-ophys/Farzaneh/ICA_crossTalk/session_867027875/traces_out_867410509.h5\n",
      "copying /allen/programs/braintv/workgroups/nc-ophys/Farzaneh/ICA_crossTalk/session_867027875/neuropil_out_867410522.h5\n",
      "copying /allen/programs/braintv/workgroups/nc-ophys/Farzaneh/ICA_crossTalk/session_867027875/neuropil_out_867410524.h5\n",
      "copying /allen/programs/braintv/workgroups/nc-ophys/Farzaneh/ICA_crossTalk/session_867027875/neuropil_out_867410520.h5\n",
      "copying /allen/programs/braintv/workgroups/nc-ophys/Farzaneh/ICA_crossTalk/session_867027875/neuropil_out_867410518.h5\n",
      "copying /allen/programs/braintv/workgroups/nc-ophys/Farzaneh/ICA_crossTalk/session_867027875/neuropil_out_867410516.h5\n",
      "copying /allen/programs/braintv/workgroups/nc-ophys/Farzaneh/ICA_crossTalk/session_867027875/neuropil_out_867410514.h5\n",
      "copying /allen/programs/braintv/workgroups/nc-ophys/Farzaneh/ICA_crossTalk/session_867027875/neuropil_out_867410512.h5\n",
      "copying /allen/programs/braintv/workgroups/nc-ophys/Farzaneh/ICA_crossTalk/session_867027875/neuropil_out_867410509.h5\n",
      "\n",
      "\n",
      "Session 27/143: /allen/programs/braintv/workgroups/nc-ophys/Farzaneh/ICA_crossTalk/session_868688430/\n",
      "copying /allen/programs/braintv/workgroups/nc-ophys/Farzaneh/ICA_crossTalk/session_868688430/traces_out_868870097.h5\n",
      "copying /allen/programs/braintv/workgroups/nc-ophys/Farzaneh/ICA_crossTalk/session_868688430/traces_out_868870094.h5\n",
      "copying /allen/programs/braintv/workgroups/nc-ophys/Farzaneh/ICA_crossTalk/session_868688430/traces_out_868870100.h5\n",
      "copying /allen/programs/braintv/workgroups/nc-ophys/Farzaneh/ICA_crossTalk/session_868688430/traces_out_868870102.h5\n",
      "copying /allen/programs/braintv/workgroups/nc-ophys/Farzaneh/ICA_crossTalk/session_868688430/traces_out_868870106.h5\n",
      "copying /allen/programs/braintv/workgroups/nc-ophys/Farzaneh/ICA_crossTalk/session_868688430/traces_out_868870104.h5\n",
      "copying /allen/programs/braintv/workgroups/nc-ophys/Farzaneh/ICA_crossTalk/session_868688430/traces_out_868870085.h5\n",
      "copying /allen/programs/braintv/workgroups/nc-ophys/Farzaneh/ICA_crossTalk/session_868688430/traces_out_868870092.h5\n",
      "copying /allen/programs/braintv/workgroups/nc-ophys/Farzaneh/ICA_crossTalk/session_868688430/neuropil_out_868870106.h5\n",
      "copying /allen/programs/braintv/workgroups/nc-ophys/Farzaneh/ICA_crossTalk/session_868688430/neuropil_out_868870104.h5\n",
      "copying /allen/programs/braintv/workgroups/nc-ophys/Farzaneh/ICA_crossTalk/session_868688430/neuropil_out_868870097.h5\n",
      "copying /allen/programs/braintv/workgroups/nc-ophys/Farzaneh/ICA_crossTalk/session_868688430/neuropil_out_868870094.h5\n",
      "copying /allen/programs/braintv/workgroups/nc-ophys/Farzaneh/ICA_crossTalk/session_868688430/neuropil_out_868870100.h5\n",
      "copying /allen/programs/braintv/workgroups/nc-ophys/Farzaneh/ICA_crossTalk/session_868688430/neuropil_out_868870102.h5\n",
      "copying /allen/programs/braintv/workgroups/nc-ophys/Farzaneh/ICA_crossTalk/session_868688430/neuropil_out_868870085.h5\n",
      "copying /allen/programs/braintv/workgroups/nc-ophys/Farzaneh/ICA_crossTalk/session_868688430/neuropil_out_868870092.h5\n",
      "\n",
      "\n",
      "Session 28/143: /allen/programs/braintv/workgroups/nc-ophys/Farzaneh/ICA_crossTalk/session_869117575/\n",
      "copying /allen/programs/braintv/workgroups/nc-ophys/Farzaneh/ICA_crossTalk/session_869117575/traces_out_870142232.h5\n",
      "copying /allen/programs/braintv/workgroups/nc-ophys/Farzaneh/ICA_crossTalk/session_869117575/traces_out_870142236.h5\n",
      "copying /allen/programs/braintv/workgroups/nc-ophys/Farzaneh/ICA_crossTalk/session_869117575/traces_out_870142214.h5\n",
      "copying /allen/programs/braintv/workgroups/nc-ophys/Farzaneh/ICA_crossTalk/session_869117575/traces_out_870142218.h5\n",
      "copying /allen/programs/braintv/workgroups/nc-ophys/Farzaneh/ICA_crossTalk/session_869117575/traces_out_870142184.h5\n",
      "copying /allen/programs/braintv/workgroups/nc-ophys/Farzaneh/ICA_crossTalk/session_869117575/traces_out_870142189.h5\n",
      "copying /allen/programs/braintv/workgroups/nc-ophys/Farzaneh/ICA_crossTalk/session_869117575/traces_out_870142227.h5\n",
      "copying /allen/programs/braintv/workgroups/nc-ophys/Farzaneh/ICA_crossTalk/session_869117575/traces_out_870142223.h5\n",
      "copying /allen/programs/braintv/workgroups/nc-ophys/Farzaneh/ICA_crossTalk/session_869117575/neuropil_out_870142214.h5\n",
      "copying /allen/programs/braintv/workgroups/nc-ophys/Farzaneh/ICA_crossTalk/session_869117575/neuropil_out_870142218.h5\n",
      "copying /allen/programs/braintv/workgroups/nc-ophys/Farzaneh/ICA_crossTalk/session_869117575/neuropil_out_870142184.h5\n",
      "copying /allen/programs/braintv/workgroups/nc-ophys/Farzaneh/ICA_crossTalk/session_869117575/neuropil_out_870142189.h5\n",
      "copying /allen/programs/braintv/workgroups/nc-ophys/Farzaneh/ICA_crossTalk/session_869117575/neuropil_out_870142232.h5\n",
      "copying /allen/programs/braintv/workgroups/nc-ophys/Farzaneh/ICA_crossTalk/session_869117575/neuropil_out_870142236.h5\n",
      "copying /allen/programs/braintv/workgroups/nc-ophys/Farzaneh/ICA_crossTalk/session_869117575/neuropil_out_870142227.h5\n",
      "copying /allen/programs/braintv/workgroups/nc-ophys/Farzaneh/ICA_crossTalk/session_869117575/neuropil_out_870142223.h5\n",
      "\n",
      "\n",
      "Session 29/143: /allen/programs/braintv/workgroups/nc-ophys/Farzaneh/ICA_crossTalk/session_870352564/\n",
      "copying /allen/programs/braintv/workgroups/nc-ophys/Farzaneh/ICA_crossTalk/session_870352564/traces_out_875564411.h5\n",
      "copying /allen/programs/braintv/workgroups/nc-ophys/Farzaneh/ICA_crossTalk/session_870352564/traces_out_875564408.h5\n",
      "copying /allen/programs/braintv/workgroups/nc-ophys/Farzaneh/ICA_crossTalk/session_870352564/traces_out_875564388.h5\n",
      "copying /allen/programs/braintv/workgroups/nc-ophys/Farzaneh/ICA_crossTalk/session_870352564/traces_out_875564370.h5\n",
      "copying /allen/programs/braintv/workgroups/nc-ophys/Farzaneh/ICA_crossTalk/session_870352564/traces_out_875564398.h5\n",
      "copying /allen/programs/braintv/workgroups/nc-ophys/Farzaneh/ICA_crossTalk/session_870352564/traces_out_875564401.h5\n",
      "copying /allen/programs/braintv/workgroups/nc-ophys/Farzaneh/ICA_crossTalk/session_870352564/traces_out_875564417.h5\n",
      "copying /allen/programs/braintv/workgroups/nc-ophys/Farzaneh/ICA_crossTalk/session_870352564/traces_out_875564420.h5\n",
      "copying /allen/programs/braintv/workgroups/nc-ophys/Farzaneh/ICA_crossTalk/session_870352564/neuropil_out_875564398.h5\n",
      "copying /allen/programs/braintv/workgroups/nc-ophys/Farzaneh/ICA_crossTalk/session_870352564/neuropil_out_875564401.h5\n",
      "copying /allen/programs/braintv/workgroups/nc-ophys/Farzaneh/ICA_crossTalk/session_870352564/neuropil_out_875564388.h5\n",
      "copying /allen/programs/braintv/workgroups/nc-ophys/Farzaneh/ICA_crossTalk/session_870352564/neuropil_out_875564370.h5\n",
      "copying /allen/programs/braintv/workgroups/nc-ophys/Farzaneh/ICA_crossTalk/session_870352564/neuropil_out_875564411.h5\n",
      "copying /allen/programs/braintv/workgroups/nc-ophys/Farzaneh/ICA_crossTalk/session_870352564/neuropil_out_875564408.h5\n",
      "copying /allen/programs/braintv/workgroups/nc-ophys/Farzaneh/ICA_crossTalk/session_870352564/neuropil_out_875564417.h5\n",
      "copying /allen/programs/braintv/workgroups/nc-ophys/Farzaneh/ICA_crossTalk/session_870352564/neuropil_out_875564420.h5\n",
      "\n",
      "\n",
      "Session 30/143: /allen/programs/braintv/workgroups/nc-ophys/Farzaneh/ICA_crossTalk/session_870762788/\n",
      "copying /allen/programs/braintv/workgroups/nc-ophys/Farzaneh/ICA_crossTalk/session_870762788/traces_out_871196377.h5\n",
      "copying /allen/programs/braintv/workgroups/nc-ophys/Farzaneh/ICA_crossTalk/session_870762788/traces_out_871196379.h5\n",
      "copying /allen/programs/braintv/workgroups/nc-ophys/Farzaneh/ICA_crossTalk/session_870762788/traces_out_871196365.h5\n",
      "copying /allen/programs/braintv/workgroups/nc-ophys/Farzaneh/ICA_crossTalk/session_870762788/traces_out_871196367.h5\n",
      "copying /allen/programs/braintv/workgroups/nc-ophys/Farzaneh/ICA_crossTalk/session_870762788/traces_out_871196371.h5\n",
      "copying /allen/programs/braintv/workgroups/nc-ophys/Farzaneh/ICA_crossTalk/session_870762788/traces_out_871196369.h5\n",
      "copying /allen/programs/braintv/workgroups/nc-ophys/Farzaneh/ICA_crossTalk/session_870762788/traces_out_871196373.h5\n",
      "copying /allen/programs/braintv/workgroups/nc-ophys/Farzaneh/ICA_crossTalk/session_870762788/traces_out_871196375.h5\n",
      "copying /allen/programs/braintv/workgroups/nc-ophys/Farzaneh/ICA_crossTalk/session_870762788/neuropil_out_871196371.h5\n",
      "copying /allen/programs/braintv/workgroups/nc-ophys/Farzaneh/ICA_crossTalk/session_870762788/neuropil_out_871196369.h5\n",
      "copying /allen/programs/braintv/workgroups/nc-ophys/Farzaneh/ICA_crossTalk/session_870762788/neuropil_out_871196373.h5\n",
      "copying /allen/programs/braintv/workgroups/nc-ophys/Farzaneh/ICA_crossTalk/session_870762788/neuropil_out_871196375.h5\n",
      "copying /allen/programs/braintv/workgroups/nc-ophys/Farzaneh/ICA_crossTalk/session_870762788/neuropil_out_871196377.h5\n",
      "copying /allen/programs/braintv/workgroups/nc-ophys/Farzaneh/ICA_crossTalk/session_870762788/neuropil_out_871196379.h5\n",
      "copying /allen/programs/braintv/workgroups/nc-ophys/Farzaneh/ICA_crossTalk/session_870762788/neuropil_out_871196365.h5\n",
      "copying /allen/programs/braintv/workgroups/nc-ophys/Farzaneh/ICA_crossTalk/session_870762788/neuropil_out_871196367.h5\n",
      "\n",
      "\n",
      "Session 31/143: /allen/programs/braintv/workgroups/nc-ophys/Farzaneh/ICA_crossTalk/session_871526950/\n",
      "copying /allen/programs/braintv/workgroups/nc-ophys/Farzaneh/ICA_crossTalk/session_871526950/traces_out_872499146.h5\n",
      "copying /allen/programs/braintv/workgroups/nc-ophys/Farzaneh/ICA_crossTalk/session_871526950/traces_out_872499144.h5\n",
      "copying /allen/programs/braintv/workgroups/nc-ophys/Farzaneh/ICA_crossTalk/session_871526950/traces_out_872499152.h5\n",
      "copying /allen/programs/braintv/workgroups/nc-ophys/Farzaneh/ICA_crossTalk/session_871526950/traces_out_872499150.h5\n",
      "copying /allen/programs/braintv/workgroups/nc-ophys/Farzaneh/ICA_crossTalk/session_871526950/traces_out_872499156.h5\n",
      "copying /allen/programs/braintv/workgroups/nc-ophys/Farzaneh/ICA_crossTalk/session_871526950/traces_out_872499154.h5\n",
      "copying /allen/programs/braintv/workgroups/nc-ophys/Farzaneh/ICA_crossTalk/session_871526950/traces_out_872499158.h5\n",
      "copying /allen/programs/braintv/workgroups/nc-ophys/Farzaneh/ICA_crossTalk/session_871526950/traces_out_872499160.h5\n",
      "copying /allen/programs/braintv/workgroups/nc-ophys/Farzaneh/ICA_crossTalk/session_871526950/neuropil_out_872499158.h5\n",
      "copying /allen/programs/braintv/workgroups/nc-ophys/Farzaneh/ICA_crossTalk/session_871526950/neuropil_out_872499160.h5\n",
      "copying /allen/programs/braintv/workgroups/nc-ophys/Farzaneh/ICA_crossTalk/session_871526950/neuropil_out_872499146.h5\n",
      "copying /allen/programs/braintv/workgroups/nc-ophys/Farzaneh/ICA_crossTalk/session_871526950/neuropil_out_872499144.h5\n",
      "copying /allen/programs/braintv/workgroups/nc-ophys/Farzaneh/ICA_crossTalk/session_871526950/neuropil_out_872499156.h5\n",
      "copying /allen/programs/braintv/workgroups/nc-ophys/Farzaneh/ICA_crossTalk/session_871526950/neuropil_out_872499154.h5\n",
      "copying /allen/programs/braintv/workgroups/nc-ophys/Farzaneh/ICA_crossTalk/session_871526950/neuropil_out_872499152.h5\n",
      "copying /allen/programs/braintv/workgroups/nc-ophys/Farzaneh/ICA_crossTalk/session_871526950/neuropil_out_872499150.h5\n",
      "\n",
      "\n",
      "Session 32/143: /allen/programs/braintv/workgroups/nc-ophys/Farzaneh/ICA_crossTalk/session_871906231/\n",
      "copying /allen/programs/braintv/workgroups/nc-ophys/Farzaneh/ICA_crossTalk/session_871906231/traces_out_872497625.h5\n",
      "copying /allen/programs/braintv/workgroups/nc-ophys/Farzaneh/ICA_crossTalk/session_871906231/traces_out_872497623.h5\n",
      "copying /allen/programs/braintv/workgroups/nc-ophys/Farzaneh/ICA_crossTalk/session_871906231/traces_out_872497629.h5\n",
      "copying /allen/programs/braintv/workgroups/nc-ophys/Farzaneh/ICA_crossTalk/session_871906231/traces_out_872497627.h5\n",
      "copying /allen/programs/braintv/workgroups/nc-ophys/Farzaneh/ICA_crossTalk/session_871906231/traces_out_872497621.h5\n",
      "copying /allen/programs/braintv/workgroups/nc-ophys/Farzaneh/ICA_crossTalk/session_871906231/traces_out_872497618.h5\n",
      "copying /allen/programs/braintv/workgroups/nc-ophys/Farzaneh/ICA_crossTalk/session_871906231/traces_out_872497616.h5\n",
      "copying /allen/programs/braintv/workgroups/nc-ophys/Farzaneh/ICA_crossTalk/session_871906231/traces_out_872497614.h5\n",
      "copying /allen/programs/braintv/workgroups/nc-ophys/Farzaneh/ICA_crossTalk/session_871906231/neuropil_out_872497616.h5\n",
      "copying /allen/programs/braintv/workgroups/nc-ophys/Farzaneh/ICA_crossTalk/session_871906231/neuropil_out_872497614.h5\n",
      "copying /allen/programs/braintv/workgroups/nc-ophys/Farzaneh/ICA_crossTalk/session_871906231/neuropil_out_872497629.h5\n",
      "copying /allen/programs/braintv/workgroups/nc-ophys/Farzaneh/ICA_crossTalk/session_871906231/neuropil_out_872497627.h5\n",
      "copying /allen/programs/braintv/workgroups/nc-ophys/Farzaneh/ICA_crossTalk/session_871906231/neuropil_out_872497625.h5\n",
      "copying /allen/programs/braintv/workgroups/nc-ophys/Farzaneh/ICA_crossTalk/session_871906231/neuropil_out_872497623.h5\n",
      "copying /allen/programs/braintv/workgroups/nc-ophys/Farzaneh/ICA_crossTalk/session_871906231/neuropil_out_872497621.h5\n",
      "copying /allen/programs/braintv/workgroups/nc-ophys/Farzaneh/ICA_crossTalk/session_871906231/neuropil_out_872497618.h5\n",
      "\n",
      "\n",
      "Session 33/143: /allen/programs/braintv/workgroups/nc-ophys/Farzaneh/ICA_crossTalk/session_872592724/\n",
      "copying /allen/programs/braintv/workgroups/nc-ophys/Farzaneh/ICA_crossTalk/session_872592724/traces_out_873970527.h5\n",
      "copying /allen/programs/braintv/workgroups/nc-ophys/Farzaneh/ICA_crossTalk/session_872592724/traces_out_873970525.h5\n",
      "copying /allen/programs/braintv/workgroups/nc-ophys/Farzaneh/ICA_crossTalk/session_872592724/traces_out_873970529.h5\n",
      "copying /allen/programs/braintv/workgroups/nc-ophys/Farzaneh/ICA_crossTalk/session_872592724/traces_out_873970531.h5\n",
      "copying /allen/programs/braintv/workgroups/nc-ophys/Farzaneh/ICA_crossTalk/session_872592724/traces_out_873970535.h5\n",
      "copying /allen/programs/braintv/workgroups/nc-ophys/Farzaneh/ICA_crossTalk/session_872592724/traces_out_873970533.h5\n",
      "copying /allen/programs/braintv/workgroups/nc-ophys/Farzaneh/ICA_crossTalk/session_872592724/traces_out_873970523.h5\n",
      "copying /allen/programs/braintv/workgroups/nc-ophys/Farzaneh/ICA_crossTalk/session_872592724/traces_out_873970521.h5\n",
      "copying /allen/programs/braintv/workgroups/nc-ophys/Farzaneh/ICA_crossTalk/session_872592724/neuropil_out_873970523.h5\n",
      "copying /allen/programs/braintv/workgroups/nc-ophys/Farzaneh/ICA_crossTalk/session_872592724/neuropil_out_873970521.h5\n",
      "copying /allen/programs/braintv/workgroups/nc-ophys/Farzaneh/ICA_crossTalk/session_872592724/neuropil_out_873970527.h5\n",
      "copying /allen/programs/braintv/workgroups/nc-ophys/Farzaneh/ICA_crossTalk/session_872592724/neuropil_out_873970525.h5\n",
      "copying /allen/programs/braintv/workgroups/nc-ophys/Farzaneh/ICA_crossTalk/session_872592724/neuropil_out_873970535.h5\n",
      "copying /allen/programs/braintv/workgroups/nc-ophys/Farzaneh/ICA_crossTalk/session_872592724/neuropil_out_873970533.h5\n",
      "copying /allen/programs/braintv/workgroups/nc-ophys/Farzaneh/ICA_crossTalk/session_872592724/neuropil_out_873970529.h5\n",
      "copying /allen/programs/braintv/workgroups/nc-ophys/Farzaneh/ICA_crossTalk/session_872592724/neuropil_out_873970531.h5\n",
      "\n",
      "\n",
      "Session 34/143: /allen/programs/braintv/workgroups/nc-ophys/Farzaneh/ICA_crossTalk/session_873247524/\n",
      "copying /allen/programs/braintv/workgroups/nc-ophys/Farzaneh/ICA_crossTalk/session_873247524/traces_out_877669824.h5\n",
      "copying /allen/programs/braintv/workgroups/nc-ophys/Farzaneh/ICA_crossTalk/session_873247524/traces_out_877669826.h5\n",
      "copying /allen/programs/braintv/workgroups/nc-ophys/Farzaneh/ICA_crossTalk/session_873247524/traces_out_877669813.h5\n",
      "copying /allen/programs/braintv/workgroups/nc-ophys/Farzaneh/ICA_crossTalk/session_873247524/traces_out_877669811.h5\n",
      "copying /allen/programs/braintv/workgroups/nc-ophys/Farzaneh/ICA_crossTalk/session_873247524/traces_out_877669815.h5\n",
      "copying /allen/programs/braintv/workgroups/nc-ophys/Farzaneh/ICA_crossTalk/session_873247524/traces_out_877669817.h5\n",
      "copying /allen/programs/braintv/workgroups/nc-ophys/Farzaneh/ICA_crossTalk/session_873247524/traces_out_877669819.h5\n",
      "copying /allen/programs/braintv/workgroups/nc-ophys/Farzaneh/ICA_crossTalk/session_873247524/traces_out_877669822.h5\n",
      "copying /allen/programs/braintv/workgroups/nc-ophys/Farzaneh/ICA_crossTalk/session_873247524/neuropil_out_877669813.h5\n",
      "copying /allen/programs/braintv/workgroups/nc-ophys/Farzaneh/ICA_crossTalk/session_873247524/neuropil_out_877669811.h5\n",
      "copying /allen/programs/braintv/workgroups/nc-ophys/Farzaneh/ICA_crossTalk/session_873247524/neuropil_out_877669815.h5\n",
      "copying /allen/programs/braintv/workgroups/nc-ophys/Farzaneh/ICA_crossTalk/session_873247524/neuropil_out_877669817.h5\n",
      "copying /allen/programs/braintv/workgroups/nc-ophys/Farzaneh/ICA_crossTalk/session_873247524/neuropil_out_877669819.h5\n",
      "copying /allen/programs/braintv/workgroups/nc-ophys/Farzaneh/ICA_crossTalk/session_873247524/neuropil_out_877669822.h5\n",
      "copying /allen/programs/braintv/workgroups/nc-ophys/Farzaneh/ICA_crossTalk/session_873247524/neuropil_out_877669824.h5\n",
      "copying /allen/programs/braintv/workgroups/nc-ophys/Farzaneh/ICA_crossTalk/session_873247524/neuropil_out_877669826.h5\n",
      "\n",
      "\n",
      "Session 35/143: /allen/programs/braintv/workgroups/nc-ophys/Farzaneh/ICA_crossTalk/session_874616920/\n",
      "copying /allen/programs/braintv/workgroups/nc-ophys/Farzaneh/ICA_crossTalk/session_874616920/traces_out_875587495.h5\n",
      "copying /allen/programs/braintv/workgroups/nc-ophys/Farzaneh/ICA_crossTalk/session_874616920/traces_out_875587493.h5\n",
      "copying /allen/programs/braintv/workgroups/nc-ophys/Farzaneh/ICA_crossTalk/session_874616920/traces_out_875587505.h5\n",
      "copying /allen/programs/braintv/workgroups/nc-ophys/Farzaneh/ICA_crossTalk/session_874616920/traces_out_875587502.h5\n",
      "copying /allen/programs/braintv/workgroups/nc-ophys/Farzaneh/ICA_crossTalk/session_874616920/traces_out_875587489.h5\n",
      "copying /allen/programs/braintv/workgroups/nc-ophys/Farzaneh/ICA_crossTalk/session_874616920/traces_out_875587491.h5\n",
      "copying /allen/programs/braintv/workgroups/nc-ophys/Farzaneh/ICA_crossTalk/session_874616920/traces_out_875587499.h5\n",
      "copying /allen/programs/braintv/workgroups/nc-ophys/Farzaneh/ICA_crossTalk/session_874616920/traces_out_875587497.h5\n",
      "copying /allen/programs/braintv/workgroups/nc-ophys/Farzaneh/ICA_crossTalk/session_874616920/neuropil_out_875587499.h5\n",
      "copying /allen/programs/braintv/workgroups/nc-ophys/Farzaneh/ICA_crossTalk/session_874616920/neuropil_out_875587497.h5\n",
      "copying /allen/programs/braintv/workgroups/nc-ophys/Farzaneh/ICA_crossTalk/session_874616920/neuropil_out_875587505.h5\n",
      "copying /allen/programs/braintv/workgroups/nc-ophys/Farzaneh/ICA_crossTalk/session_874616920/neuropil_out_875587502.h5\n",
      "copying /allen/programs/braintv/workgroups/nc-ophys/Farzaneh/ICA_crossTalk/session_874616920/neuropil_out_875587495.h5\n",
      "copying /allen/programs/braintv/workgroups/nc-ophys/Farzaneh/ICA_crossTalk/session_874616920/neuropil_out_875587493.h5\n",
      "copying /allen/programs/braintv/workgroups/nc-ophys/Farzaneh/ICA_crossTalk/session_874616920/neuropil_out_875587489.h5\n",
      "copying /allen/programs/braintv/workgroups/nc-ophys/Farzaneh/ICA_crossTalk/session_874616920/neuropil_out_875587491.h5\n",
      "\n",
      "\n",
      "Session 36/143: /allen/programs/braintv/workgroups/nc-ophys/Farzaneh/ICA_crossTalk/session_875259383/\n",
      "copying /allen/programs/braintv/workgroups/nc-ophys/Farzaneh/ICA_crossTalk/session_875259383/traces_out_875808253.h5\n",
      "copying /allen/programs/braintv/workgroups/nc-ophys/Farzaneh/ICA_crossTalk/session_875259383/traces_out_875808255.h5\n",
      "copying /allen/programs/braintv/workgroups/nc-ophys/Farzaneh/ICA_crossTalk/session_875259383/traces_out_875808240.h5\n",
      "copying /allen/programs/braintv/workgroups/nc-ophys/Farzaneh/ICA_crossTalk/session_875259383/traces_out_875808238.h5\n",
      "copying /allen/programs/braintv/workgroups/nc-ophys/Farzaneh/ICA_crossTalk/session_875259383/traces_out_875808251.h5\n",
      "copying /allen/programs/braintv/workgroups/nc-ophys/Farzaneh/ICA_crossTalk/session_875259383/traces_out_875808249.h5\n",
      "copying /allen/programs/braintv/workgroups/nc-ophys/Farzaneh/ICA_crossTalk/session_875259383/traces_out_875808247.h5\n",
      "copying /allen/programs/braintv/workgroups/nc-ophys/Farzaneh/ICA_crossTalk/session_875259383/traces_out_875808245.h5\n",
      "copying /allen/programs/braintv/workgroups/nc-ophys/Farzaneh/ICA_crossTalk/session_875259383/neuropil_out_875808253.h5\n",
      "copying /allen/programs/braintv/workgroups/nc-ophys/Farzaneh/ICA_crossTalk/session_875259383/neuropil_out_875808255.h5\n",
      "copying /allen/programs/braintv/workgroups/nc-ophys/Farzaneh/ICA_crossTalk/session_875259383/neuropil_out_875808251.h5\n",
      "copying /allen/programs/braintv/workgroups/nc-ophys/Farzaneh/ICA_crossTalk/session_875259383/neuropil_out_875808249.h5\n",
      "copying /allen/programs/braintv/workgroups/nc-ophys/Farzaneh/ICA_crossTalk/session_875259383/neuropil_out_875808240.h5\n",
      "copying /allen/programs/braintv/workgroups/nc-ophys/Farzaneh/ICA_crossTalk/session_875259383/neuropil_out_875808238.h5\n",
      "copying /allen/programs/braintv/workgroups/nc-ophys/Farzaneh/ICA_crossTalk/session_875259383/neuropil_out_875808247.h5\n",
      "copying /allen/programs/braintv/workgroups/nc-ophys/Farzaneh/ICA_crossTalk/session_875259383/neuropil_out_875808245.h5\n",
      "\n",
      "\n",
      "Session 37/143: /allen/programs/braintv/workgroups/nc-ophys/Farzaneh/ICA_crossTalk/session_876303107/\n",
      "copying /allen/programs/braintv/workgroups/nc-ophys/Farzaneh/ICA_crossTalk/session_876303107/traces_out_877057351.h5\n",
      "copying /allen/programs/braintv/workgroups/nc-ophys/Farzaneh/ICA_crossTalk/session_876303107/traces_out_877057349.h5\n",
      "copying /allen/programs/braintv/workgroups/nc-ophys/Farzaneh/ICA_crossTalk/session_876303107/traces_out_877057344.h5\n",
      "copying /allen/programs/braintv/workgroups/nc-ophys/Farzaneh/ICA_crossTalk/session_876303107/traces_out_877057341.h5\n",
      "copying /allen/programs/braintv/workgroups/nc-ophys/Farzaneh/ICA_crossTalk/session_876303107/traces_out_877057354.h5\n",
      "copying /allen/programs/braintv/workgroups/nc-ophys/Farzaneh/ICA_crossTalk/session_876303107/traces_out_877057357.h5\n",
      "copying /allen/programs/braintv/workgroups/nc-ophys/Farzaneh/ICA_crossTalk/session_876303107/traces_out_877057336.h5\n",
      "copying /allen/programs/braintv/workgroups/nc-ophys/Farzaneh/ICA_crossTalk/session_876303107/traces_out_877057338.h5\n",
      "copying /allen/programs/braintv/workgroups/nc-ophys/Farzaneh/ICA_crossTalk/session_876303107/neuropil_out_877057351.h5\n",
      "copying /allen/programs/braintv/workgroups/nc-ophys/Farzaneh/ICA_crossTalk/session_876303107/neuropil_out_877057349.h5\n",
      "copying /allen/programs/braintv/workgroups/nc-ophys/Farzaneh/ICA_crossTalk/session_876303107/neuropil_out_877057336.h5\n",
      "copying /allen/programs/braintv/workgroups/nc-ophys/Farzaneh/ICA_crossTalk/session_876303107/neuropil_out_877057338.h5\n",
      "copying /allen/programs/braintv/workgroups/nc-ophys/Farzaneh/ICA_crossTalk/session_876303107/neuropil_out_877057344.h5\n",
      "copying /allen/programs/braintv/workgroups/nc-ophys/Farzaneh/ICA_crossTalk/session_876303107/neuropil_out_877057341.h5\n",
      "copying /allen/programs/braintv/workgroups/nc-ophys/Farzaneh/ICA_crossTalk/session_876303107/neuropil_out_877057354.h5\n",
      "copying /allen/programs/braintv/workgroups/nc-ophys/Farzaneh/ICA_crossTalk/session_876303107/neuropil_out_877057357.h5\n",
      "\n",
      "\n",
      "Session 38/143: /allen/programs/braintv/workgroups/nc-ophys/Farzaneh/ICA_crossTalk/session_880498009/\n",
      "copying /allen/programs/braintv/workgroups/nc-ophys/Farzaneh/ICA_crossTalk/session_880498009/traces_out_881001210.h5\n",
      "copying /allen/programs/braintv/workgroups/nc-ophys/Farzaneh/ICA_crossTalk/session_880498009/traces_out_881001212.h5\n",
      "copying /allen/programs/braintv/workgroups/nc-ophys/Farzaneh/ICA_crossTalk/session_880498009/traces_out_881001218.h5\n",
      "copying /allen/programs/braintv/workgroups/nc-ophys/Farzaneh/ICA_crossTalk/session_880498009/traces_out_881001216.h5\n",
      "copying /allen/programs/braintv/workgroups/nc-ophys/Farzaneh/ICA_crossTalk/session_880498009/traces_out_881001226.h5\n",
      "copying /allen/programs/braintv/workgroups/nc-ophys/Farzaneh/ICA_crossTalk/session_880498009/traces_out_881001224.h5\n",
      "copying /allen/programs/braintv/workgroups/nc-ophys/Farzaneh/ICA_crossTalk/session_880498009/traces_out_881001220.h5\n",
      "copying /allen/programs/braintv/workgroups/nc-ophys/Farzaneh/ICA_crossTalk/session_880498009/traces_out_881001222.h5\n",
      "copying /allen/programs/braintv/workgroups/nc-ophys/Farzaneh/ICA_crossTalk/session_880498009/neuropil_out_881001226.h5\n",
      "copying /allen/programs/braintv/workgroups/nc-ophys/Farzaneh/ICA_crossTalk/session_880498009/neuropil_out_881001224.h5\n",
      "copying /allen/programs/braintv/workgroups/nc-ophys/Farzaneh/ICA_crossTalk/session_880498009/neuropil_out_881001218.h5\n",
      "copying /allen/programs/braintv/workgroups/nc-ophys/Farzaneh/ICA_crossTalk/session_880498009/neuropil_out_881001216.h5\n",
      "copying /allen/programs/braintv/workgroups/nc-ophys/Farzaneh/ICA_crossTalk/session_880498009/neuropil_out_881001210.h5\n",
      "copying /allen/programs/braintv/workgroups/nc-ophys/Farzaneh/ICA_crossTalk/session_880498009/neuropil_out_881001212.h5\n",
      "copying /allen/programs/braintv/workgroups/nc-ophys/Farzaneh/ICA_crossTalk/session_880498009/neuropil_out_881001220.h5\n",
      "copying /allen/programs/braintv/workgroups/nc-ophys/Farzaneh/ICA_crossTalk/session_880498009/neuropil_out_881001222.h5\n",
      "\n",
      "\n",
      "Session 39/143: /allen/programs/braintv/workgroups/nc-ophys/Farzaneh/ICA_crossTalk/session_880709154/\n",
      "copying /allen/programs/braintv/workgroups/nc-ophys/Farzaneh/ICA_crossTalk/session_880709154/traces_out_881003491.h5\n",
      "copying /allen/programs/braintv/workgroups/nc-ophys/Farzaneh/ICA_crossTalk/session_880709154/traces_out_881003489.h5\n",
      "copying /allen/programs/braintv/workgroups/nc-ophys/Farzaneh/ICA_crossTalk/session_880709154/traces_out_881003487.h5\n",
      "copying /allen/programs/braintv/workgroups/nc-ophys/Farzaneh/ICA_crossTalk/session_880709154/traces_out_881003484.h5\n",
      "copying /allen/programs/braintv/workgroups/nc-ophys/Farzaneh/ICA_crossTalk/session_880709154/traces_out_881003500.h5\n",
      "copying /allen/programs/braintv/workgroups/nc-ophys/Farzaneh/ICA_crossTalk/session_880709154/traces_out_881003498.h5\n",
      "copying /allen/programs/braintv/workgroups/nc-ophys/Farzaneh/ICA_crossTalk/session_880709154/traces_out_881003493.h5\n",
      "copying /allen/programs/braintv/workgroups/nc-ophys/Farzaneh/ICA_crossTalk/session_880709154/traces_out_881003496.h5\n",
      "copying /allen/programs/braintv/workgroups/nc-ophys/Farzaneh/ICA_crossTalk/session_880709154/neuropil_out_881003500.h5\n",
      "copying /allen/programs/braintv/workgroups/nc-ophys/Farzaneh/ICA_crossTalk/session_880709154/neuropil_out_881003498.h5\n",
      "copying /allen/programs/braintv/workgroups/nc-ophys/Farzaneh/ICA_crossTalk/session_880709154/neuropil_out_881003487.h5\n",
      "copying /allen/programs/braintv/workgroups/nc-ophys/Farzaneh/ICA_crossTalk/session_880709154/neuropil_out_881003484.h5\n",
      "copying /allen/programs/braintv/workgroups/nc-ophys/Farzaneh/ICA_crossTalk/session_880709154/neuropil_out_881003491.h5\n",
      "copying /allen/programs/braintv/workgroups/nc-ophys/Farzaneh/ICA_crossTalk/session_880709154/neuropil_out_881003489.h5\n",
      "copying /allen/programs/braintv/workgroups/nc-ophys/Farzaneh/ICA_crossTalk/session_880709154/neuropil_out_881003493.h5\n",
      "copying /allen/programs/braintv/workgroups/nc-ophys/Farzaneh/ICA_crossTalk/session_880709154/neuropil_out_881003496.h5\n",
      "\n",
      "\n",
      "Session 40/143: /allen/programs/braintv/workgroups/nc-ophys/Farzaneh/ICA_crossTalk/session_882674040/\n",
      "copying /allen/programs/braintv/workgroups/nc-ophys/Farzaneh/ICA_crossTalk/session_882674040/traces_out_882968574.h5\n",
      "copying /allen/programs/braintv/workgroups/nc-ophys/Farzaneh/ICA_crossTalk/session_882674040/traces_out_882968577.h5\n",
      "copying /allen/programs/braintv/workgroups/nc-ophys/Farzaneh/ICA_crossTalk/session_882674040/traces_out_882968568.h5\n",
      "copying /allen/programs/braintv/workgroups/nc-ophys/Farzaneh/ICA_crossTalk/session_882674040/traces_out_882968566.h5\n",
      "copying /allen/programs/braintv/workgroups/nc-ophys/Farzaneh/ICA_crossTalk/session_882674040/traces_out_882968572.h5\n",
      "copying /allen/programs/braintv/workgroups/nc-ophys/Farzaneh/ICA_crossTalk/session_882674040/traces_out_882968570.h5\n",
      "copying /allen/programs/braintv/workgroups/nc-ophys/Farzaneh/ICA_crossTalk/session_882674040/traces_out_882968562.h5\n",
      "copying /allen/programs/braintv/workgroups/nc-ophys/Farzaneh/ICA_crossTalk/session_882674040/traces_out_882968564.h5\n",
      "copying /allen/programs/braintv/workgroups/nc-ophys/Farzaneh/ICA_crossTalk/session_882674040/neuropil_out_882968574.h5\n",
      "copying /allen/programs/braintv/workgroups/nc-ophys/Farzaneh/ICA_crossTalk/session_882674040/neuropil_out_882968577.h5\n",
      "copying /allen/programs/braintv/workgroups/nc-ophys/Farzaneh/ICA_crossTalk/session_882674040/neuropil_out_882968568.h5\n",
      "copying /allen/programs/braintv/workgroups/nc-ophys/Farzaneh/ICA_crossTalk/session_882674040/neuropil_out_882968566.h5\n",
      "copying /allen/programs/braintv/workgroups/nc-ophys/Farzaneh/ICA_crossTalk/session_882674040/neuropil_out_882968572.h5\n",
      "copying /allen/programs/braintv/workgroups/nc-ophys/Farzaneh/ICA_crossTalk/session_882674040/neuropil_out_882968570.h5\n",
      "copying /allen/programs/braintv/workgroups/nc-ophys/Farzaneh/ICA_crossTalk/session_882674040/neuropil_out_882968562.h5\n",
      "copying /allen/programs/braintv/workgroups/nc-ophys/Farzaneh/ICA_crossTalk/session_882674040/neuropil_out_882968564.h5\n",
      "\n",
      "\n",
      "Session 41/143: /allen/programs/braintv/workgroups/nc-ophys/Farzaneh/ICA_crossTalk/session_884451806/\n",
      "copying /allen/programs/braintv/workgroups/nc-ophys/Farzaneh/ICA_crossTalk/session_884451806/traces_out_885146249.h5\n",
      "copying /allen/programs/braintv/workgroups/nc-ophys/Farzaneh/ICA_crossTalk/session_884451806/traces_out_885146253.h5\n",
      "copying /allen/programs/braintv/workgroups/nc-ophys/Farzaneh/ICA_crossTalk/session_884451806/traces_out_885146245.h5\n",
      "copying /allen/programs/braintv/workgroups/nc-ophys/Farzaneh/ICA_crossTalk/session_884451806/traces_out_885146247.h5\n",
      "copying /allen/programs/braintv/workgroups/nc-ophys/Farzaneh/ICA_crossTalk/session_884451806/traces_out_885146237.h5\n",
      "copying /allen/programs/braintv/workgroups/nc-ophys/Farzaneh/ICA_crossTalk/session_884451806/traces_out_885146239.h5\n",
      "copying /allen/programs/braintv/workgroups/nc-ophys/Farzaneh/ICA_crossTalk/session_884451806/traces_out_885146241.h5\n",
      "copying /allen/programs/braintv/workgroups/nc-ophys/Farzaneh/ICA_crossTalk/session_884451806/traces_out_885146243.h5\n",
      "copying /allen/programs/braintv/workgroups/nc-ophys/Farzaneh/ICA_crossTalk/session_884451806/neuropil_out_885146241.h5\n",
      "copying /allen/programs/braintv/workgroups/nc-ophys/Farzaneh/ICA_crossTalk/session_884451806/neuropil_out_885146243.h5\n",
      "copying /allen/programs/braintv/workgroups/nc-ophys/Farzaneh/ICA_crossTalk/session_884451806/neuropil_out_885146245.h5\n",
      "copying /allen/programs/braintv/workgroups/nc-ophys/Farzaneh/ICA_crossTalk/session_884451806/neuropil_out_885146247.h5\n",
      "copying /allen/programs/braintv/workgroups/nc-ophys/Farzaneh/ICA_crossTalk/session_884451806/neuropil_out_885146249.h5\n",
      "copying /allen/programs/braintv/workgroups/nc-ophys/Farzaneh/ICA_crossTalk/session_884451806/neuropil_out_885146253.h5\n",
      "copying /allen/programs/braintv/workgroups/nc-ophys/Farzaneh/ICA_crossTalk/session_884451806/neuropil_out_885146237.h5\n",
      "copying /allen/programs/braintv/workgroups/nc-ophys/Farzaneh/ICA_crossTalk/session_884451806/neuropil_out_885146239.h5\n",
      "\n",
      "\n",
      "Session 42/143: /allen/programs/braintv/workgroups/nc-ophys/Farzaneh/ICA_crossTalk/session_886130638/\n",
      "copying /allen/programs/braintv/workgroups/nc-ophys/Farzaneh/ICA_crossTalk/session_886130638/traces_out_886587162.h5\n",
      "copying /allen/programs/braintv/workgroups/nc-ophys/Farzaneh/ICA_crossTalk/session_886130638/traces_out_886587160.h5\n",
      "copying /allen/programs/braintv/workgroups/nc-ophys/Farzaneh/ICA_crossTalk/session_886130638/traces_out_886587164.h5\n",
      "copying /allen/programs/braintv/workgroups/nc-ophys/Farzaneh/ICA_crossTalk/session_886130638/traces_out_886587166.h5\n",
      "copying /allen/programs/braintv/workgroups/nc-ophys/Farzaneh/ICA_crossTalk/session_886130638/traces_out_886587172.h5\n",
      "copying /allen/programs/braintv/workgroups/nc-ophys/Farzaneh/ICA_crossTalk/session_886130638/traces_out_886587174.h5\n",
      "copying /allen/programs/braintv/workgroups/nc-ophys/Farzaneh/ICA_crossTalk/session_886130638/traces_out_886587168.h5\n",
      "copying /allen/programs/braintv/workgroups/nc-ophys/Farzaneh/ICA_crossTalk/session_886130638/traces_out_886587170.h5\n",
      "copying /allen/programs/braintv/workgroups/nc-ophys/Farzaneh/ICA_crossTalk/session_886130638/neuropil_out_886587168.h5\n",
      "copying /allen/programs/braintv/workgroups/nc-ophys/Farzaneh/ICA_crossTalk/session_886130638/neuropil_out_886587170.h5\n",
      "copying /allen/programs/braintv/workgroups/nc-ophys/Farzaneh/ICA_crossTalk/session_886130638/neuropil_out_886587164.h5\n",
      "copying /allen/programs/braintv/workgroups/nc-ophys/Farzaneh/ICA_crossTalk/session_886130638/neuropil_out_886587166.h5\n",
      "copying /allen/programs/braintv/workgroups/nc-ophys/Farzaneh/ICA_crossTalk/session_886130638/neuropil_out_886587162.h5\n",
      "copying /allen/programs/braintv/workgroups/nc-ophys/Farzaneh/ICA_crossTalk/session_886130638/neuropil_out_886587160.h5\n",
      "copying /allen/programs/braintv/workgroups/nc-ophys/Farzaneh/ICA_crossTalk/session_886130638/neuropil_out_886587172.h5\n",
      "copying /allen/programs/braintv/workgroups/nc-ophys/Farzaneh/ICA_crossTalk/session_886130638/neuropil_out_886587174.h5\n",
      "\n",
      "\n",
      "Session 43/143: /allen/programs/braintv/workgroups/nc-ophys/Farzaneh/ICA_crossTalk/session_886806800/\n",
      "copying /allen/programs/braintv/workgroups/nc-ophys/Farzaneh/ICA_crossTalk/session_886806800/traces_out_887386989.h5\n",
      "copying /allen/programs/braintv/workgroups/nc-ophys/Farzaneh/ICA_crossTalk/session_886806800/traces_out_887386991.h5\n",
      "copying /allen/programs/braintv/workgroups/nc-ophys/Farzaneh/ICA_crossTalk/session_886806800/traces_out_887386977.h5\n",
      "copying /allen/programs/braintv/workgroups/nc-ophys/Farzaneh/ICA_crossTalk/session_886806800/traces_out_887386974.h5\n",
      "copying /allen/programs/braintv/workgroups/nc-ophys/Farzaneh/ICA_crossTalk/session_886806800/traces_out_887386981.h5\n",
      "copying /allen/programs/braintv/workgroups/nc-ophys/Farzaneh/ICA_crossTalk/session_886806800/traces_out_887386979.h5\n",
      "copying /allen/programs/braintv/workgroups/nc-ophys/Farzaneh/ICA_crossTalk/session_886806800/traces_out_887386985.h5\n",
      "copying /allen/programs/braintv/workgroups/nc-ophys/Farzaneh/ICA_crossTalk/session_886806800/traces_out_887386983.h5\n",
      "copying /allen/programs/braintv/workgroups/nc-ophys/Farzaneh/ICA_crossTalk/session_886806800/neuropil_out_887386989.h5\n",
      "copying /allen/programs/braintv/workgroups/nc-ophys/Farzaneh/ICA_crossTalk/session_886806800/neuropil_out_887386991.h5\n",
      "copying /allen/programs/braintv/workgroups/nc-ophys/Farzaneh/ICA_crossTalk/session_886806800/neuropil_out_887386977.h5\n",
      "copying /allen/programs/braintv/workgroups/nc-ophys/Farzaneh/ICA_crossTalk/session_886806800/neuropil_out_887386974.h5\n",
      "copying /allen/programs/braintv/workgroups/nc-ophys/Farzaneh/ICA_crossTalk/session_886806800/neuropil_out_887386981.h5\n",
      "copying /allen/programs/braintv/workgroups/nc-ophys/Farzaneh/ICA_crossTalk/session_886806800/neuropil_out_887386979.h5\n",
      "copying /allen/programs/braintv/workgroups/nc-ophys/Farzaneh/ICA_crossTalk/session_886806800/neuropil_out_887386985.h5\n",
      "copying /allen/programs/braintv/workgroups/nc-ophys/Farzaneh/ICA_crossTalk/session_886806800/neuropil_out_887386983.h5\n",
      "\n",
      "\n",
      "Session 44/143: /allen/programs/braintv/workgroups/nc-ophys/Farzaneh/ICA_crossTalk/session_888009781/\n",
      "copying /allen/programs/braintv/workgroups/nc-ophys/Farzaneh/ICA_crossTalk/session_888009781/traces_out_888876943.h5\n",
      "copying /allen/programs/braintv/workgroups/nc-ophys/Farzaneh/ICA_crossTalk/session_888009781/traces_out_888876945.h5\n",
      "copying /allen/programs/braintv/workgroups/nc-ophys/Farzaneh/ICA_crossTalk/session_888009781/traces_out_888876947.h5\n",
      "copying /allen/programs/braintv/workgroups/nc-ophys/Farzaneh/ICA_crossTalk/session_888009781/traces_out_888876949.h5\n",
      "copying /allen/programs/braintv/workgroups/nc-ophys/Farzaneh/ICA_crossTalk/session_888009781/traces_out_888876939.h5\n",
      "copying /allen/programs/braintv/workgroups/nc-ophys/Farzaneh/ICA_crossTalk/session_888009781/traces_out_888876941.h5\n",
      "copying /allen/programs/braintv/workgroups/nc-ophys/Farzaneh/ICA_crossTalk/session_888009781/traces_out_888876953.h5\n",
      "copying /allen/programs/braintv/workgroups/nc-ophys/Farzaneh/ICA_crossTalk/session_888009781/traces_out_888876951.h5\n",
      "copying /allen/programs/braintv/workgroups/nc-ophys/Farzaneh/ICA_crossTalk/session_888009781/neuropil_out_888876943.h5\n",
      "copying /allen/programs/braintv/workgroups/nc-ophys/Farzaneh/ICA_crossTalk/session_888009781/neuropil_out_888876945.h5\n",
      "copying /allen/programs/braintv/workgroups/nc-ophys/Farzaneh/ICA_crossTalk/session_888009781/neuropil_out_888876939.h5\n",
      "copying /allen/programs/braintv/workgroups/nc-ophys/Farzaneh/ICA_crossTalk/session_888009781/neuropil_out_888876941.h5\n",
      "copying /allen/programs/braintv/workgroups/nc-ophys/Farzaneh/ICA_crossTalk/session_888009781/neuropil_out_888876947.h5\n",
      "copying /allen/programs/braintv/workgroups/nc-ophys/Farzaneh/ICA_crossTalk/session_888009781/neuropil_out_888876949.h5\n",
      "copying /allen/programs/braintv/workgroups/nc-ophys/Farzaneh/ICA_crossTalk/session_888009781/neuropil_out_888876953.h5\n",
      "copying /allen/programs/braintv/workgroups/nc-ophys/Farzaneh/ICA_crossTalk/session_888009781/neuropil_out_888876951.h5\n",
      "\n",
      "\n",
      "Session 45/143: /allen/programs/braintv/workgroups/nc-ophys/Farzaneh/ICA_crossTalk/session_889944877/\n",
      "copying /allen/programs/braintv/workgroups/nc-ophys/Farzaneh/ICA_crossTalk/session_889944877/traces_out_891108765.h5\n",
      "copying /allen/programs/braintv/workgroups/nc-ophys/Farzaneh/ICA_crossTalk/session_889944877/traces_out_891108763.h5\n",
      "copying /allen/programs/braintv/workgroups/nc-ophys/Farzaneh/ICA_crossTalk/session_889944877/traces_out_891108773.h5\n",
      "copying /allen/programs/braintv/workgroups/nc-ophys/Farzaneh/ICA_crossTalk/session_889944877/traces_out_891108771.h5\n",
      "copying /allen/programs/braintv/workgroups/nc-ophys/Farzaneh/ICA_crossTalk/session_889944877/traces_out_891108758.h5\n",
      "copying /allen/programs/braintv/workgroups/nc-ophys/Farzaneh/ICA_crossTalk/session_889944877/traces_out_891108760.h5\n",
      "copying /allen/programs/braintv/workgroups/nc-ophys/Farzaneh/ICA_crossTalk/session_889944877/traces_out_891108767.h5\n",
      "copying /allen/programs/braintv/workgroups/nc-ophys/Farzaneh/ICA_crossTalk/session_889944877/traces_out_891108769.h5\n",
      "copying /allen/programs/braintv/workgroups/nc-ophys/Farzaneh/ICA_crossTalk/session_889944877/neuropil_out_891108773.h5\n",
      "copying /allen/programs/braintv/workgroups/nc-ophys/Farzaneh/ICA_crossTalk/session_889944877/neuropil_out_891108771.h5\n",
      "copying /allen/programs/braintv/workgroups/nc-ophys/Farzaneh/ICA_crossTalk/session_889944877/neuropil_out_891108765.h5\n",
      "copying /allen/programs/braintv/workgroups/nc-ophys/Farzaneh/ICA_crossTalk/session_889944877/neuropil_out_891108763.h5\n",
      "copying /allen/programs/braintv/workgroups/nc-ophys/Farzaneh/ICA_crossTalk/session_889944877/neuropil_out_891108758.h5\n",
      "copying /allen/programs/braintv/workgroups/nc-ophys/Farzaneh/ICA_crossTalk/session_889944877/neuropil_out_891108760.h5\n",
      "copying /allen/programs/braintv/workgroups/nc-ophys/Farzaneh/ICA_crossTalk/session_889944877/neuropil_out_891108767.h5\n",
      "copying /allen/programs/braintv/workgroups/nc-ophys/Farzaneh/ICA_crossTalk/session_889944877/neuropil_out_891108769.h5\n",
      "\n",
      "\n",
      "Session 46/143: /allen/programs/braintv/workgroups/nc-ophys/Farzaneh/ICA_crossTalk/session_902884228/\n",
      "copying /allen/programs/braintv/workgroups/nc-ophys/Farzaneh/ICA_crossTalk/session_902884228/traces_out_903485705.h5\n",
      "copying /allen/programs/braintv/workgroups/nc-ophys/Farzaneh/ICA_crossTalk/session_902884228/traces_out_903485708.h5\n",
      "copying /allen/programs/braintv/workgroups/nc-ophys/Farzaneh/ICA_crossTalk/session_902884228/traces_out_903485714.h5\n",
      "copying /allen/programs/braintv/workgroups/nc-ophys/Farzaneh/ICA_crossTalk/session_902884228/traces_out_903485716.h5\n",
      "copying /allen/programs/braintv/workgroups/nc-ophys/Farzaneh/ICA_crossTalk/session_902884228/traces_out_903485710.h5\n",
      "copying /allen/programs/braintv/workgroups/nc-ophys/Farzaneh/ICA_crossTalk/session_902884228/traces_out_903485712.h5\n",
      "copying /allen/programs/braintv/workgroups/nc-ophys/Farzaneh/ICA_crossTalk/session_902884228/traces_out_903485718.h5\n",
      "copying /allen/programs/braintv/workgroups/nc-ophys/Farzaneh/ICA_crossTalk/session_902884228/traces_out_903485720.h5\n",
      "copying /allen/programs/braintv/workgroups/nc-ophys/Farzaneh/ICA_crossTalk/session_902884228/neuropil_out_903485718.h5\n",
      "copying /allen/programs/braintv/workgroups/nc-ophys/Farzaneh/ICA_crossTalk/session_902884228/neuropil_out_903485720.h5\n",
      "copying /allen/programs/braintv/workgroups/nc-ophys/Farzaneh/ICA_crossTalk/session_902884228/neuropil_out_903485710.h5\n",
      "copying /allen/programs/braintv/workgroups/nc-ophys/Farzaneh/ICA_crossTalk/session_902884228/neuropil_out_903485712.h5\n",
      "copying /allen/programs/braintv/workgroups/nc-ophys/Farzaneh/ICA_crossTalk/session_902884228/neuropil_out_903485705.h5\n",
      "copying /allen/programs/braintv/workgroups/nc-ophys/Farzaneh/ICA_crossTalk/session_902884228/neuropil_out_903485708.h5\n",
      "copying /allen/programs/braintv/workgroups/nc-ophys/Farzaneh/ICA_crossTalk/session_902884228/neuropil_out_903485714.h5\n",
      "copying /allen/programs/braintv/workgroups/nc-ophys/Farzaneh/ICA_crossTalk/session_902884228/neuropil_out_903485716.h5\n",
      "\n",
      "\n",
      "Session 47/143: /allen/programs/braintv/workgroups/nc-ophys/Farzaneh/ICA_crossTalk/session_903621170/\n",
      "copying /allen/programs/braintv/workgroups/nc-ophys/Farzaneh/ICA_crossTalk/session_903621170/traces_out_904363938.h5\n",
      "copying /allen/programs/braintv/workgroups/nc-ophys/Farzaneh/ICA_crossTalk/session_903621170/traces_out_904363940.h5\n",
      "copying /allen/programs/braintv/workgroups/nc-ophys/Farzaneh/ICA_crossTalk/session_903621170/traces_out_904363923.h5\n",
      "copying /allen/programs/braintv/workgroups/nc-ophys/Farzaneh/ICA_crossTalk/session_903621170/traces_out_904363921.h5\n",
      "copying /allen/programs/braintv/workgroups/nc-ophys/Farzaneh/ICA_crossTalk/session_903621170/traces_out_904363928.h5\n",
      "copying /allen/programs/braintv/workgroups/nc-ophys/Farzaneh/ICA_crossTalk/session_903621170/traces_out_904363930.h5\n",
      "copying /allen/programs/braintv/workgroups/nc-ophys/Farzaneh/ICA_crossTalk/session_903621170/traces_out_904363932.h5\n",
      "copying /allen/programs/braintv/workgroups/nc-ophys/Farzaneh/ICA_crossTalk/session_903621170/traces_out_904363934.h5\n",
      "copying /allen/programs/braintv/workgroups/nc-ophys/Farzaneh/ICA_crossTalk/session_903621170/neuropil_out_904363923.h5\n",
      "copying /allen/programs/braintv/workgroups/nc-ophys/Farzaneh/ICA_crossTalk/session_903621170/neuropil_out_904363921.h5\n",
      "copying /allen/programs/braintv/workgroups/nc-ophys/Farzaneh/ICA_crossTalk/session_903621170/neuropil_out_904363928.h5\n",
      "copying /allen/programs/braintv/workgroups/nc-ophys/Farzaneh/ICA_crossTalk/session_903621170/neuropil_out_904363930.h5\n",
      "copying /allen/programs/braintv/workgroups/nc-ophys/Farzaneh/ICA_crossTalk/session_903621170/neuropil_out_904363938.h5\n",
      "copying /allen/programs/braintv/workgroups/nc-ophys/Farzaneh/ICA_crossTalk/session_903621170/neuropil_out_904363940.h5\n",
      "copying /allen/programs/braintv/workgroups/nc-ophys/Farzaneh/ICA_crossTalk/session_903621170/neuropil_out_904363932.h5\n",
      "copying /allen/programs/braintv/workgroups/nc-ophys/Farzaneh/ICA_crossTalk/session_903621170/neuropil_out_904363934.h5\n",
      "\n",
      "\n",
      "Session 48/143: /allen/programs/braintv/workgroups/nc-ophys/Farzaneh/ICA_crossTalk/session_903813946/\n",
      "copying /allen/programs/braintv/workgroups/nc-ophys/Farzaneh/ICA_crossTalk/session_903813946/traces_out_904352688.h5\n",
      "copying /allen/programs/braintv/workgroups/nc-ophys/Farzaneh/ICA_crossTalk/session_903813946/traces_out_904352686.h5\n",
      "copying /allen/programs/braintv/workgroups/nc-ophys/Farzaneh/ICA_crossTalk/session_903813946/traces_out_904352698.h5\n",
      "copying /allen/programs/braintv/workgroups/nc-ophys/Farzaneh/ICA_crossTalk/session_903813946/traces_out_904352700.h5\n",
      "copying /allen/programs/braintv/workgroups/nc-ophys/Farzaneh/ICA_crossTalk/session_903813946/traces_out_904352690.h5\n",
      "copying /allen/programs/braintv/workgroups/nc-ophys/Farzaneh/ICA_crossTalk/session_903813946/traces_out_904352692.h5\n",
      "copying /allen/programs/braintv/workgroups/nc-ophys/Farzaneh/ICA_crossTalk/session_903813946/traces_out_904352696.h5\n",
      "copying /allen/programs/braintv/workgroups/nc-ophys/Farzaneh/ICA_crossTalk/session_903813946/traces_out_904352694.h5\n",
      "copying /allen/programs/braintv/workgroups/nc-ophys/Farzaneh/ICA_crossTalk/session_903813946/neuropil_out_904352688.h5\n",
      "copying /allen/programs/braintv/workgroups/nc-ophys/Farzaneh/ICA_crossTalk/session_903813946/neuropil_out_904352686.h5\n",
      "copying /allen/programs/braintv/workgroups/nc-ophys/Farzaneh/ICA_crossTalk/session_903813946/neuropil_out_904352690.h5\n",
      "copying /allen/programs/braintv/workgroups/nc-ophys/Farzaneh/ICA_crossTalk/session_903813946/neuropil_out_904352692.h5\n",
      "copying /allen/programs/braintv/workgroups/nc-ophys/Farzaneh/ICA_crossTalk/session_903813946/neuropil_out_904352698.h5\n",
      "copying /allen/programs/braintv/workgroups/nc-ophys/Farzaneh/ICA_crossTalk/session_903813946/neuropil_out_904352700.h5\n",
      "copying /allen/programs/braintv/workgroups/nc-ophys/Farzaneh/ICA_crossTalk/session_903813946/neuropil_out_904352696.h5\n",
      "copying /allen/programs/braintv/workgroups/nc-ophys/Farzaneh/ICA_crossTalk/session_903813946/neuropil_out_904352694.h5\n",
      "\n",
      "\n",
      "Session 49/143: /allen/programs/braintv/workgroups/nc-ophys/Farzaneh/ICA_crossTalk/session_904418381/\n",
      "copying /allen/programs/braintv/workgroups/nc-ophys/Farzaneh/ICA_crossTalk/session_904418381/traces_out_905955236.h5\n",
      "copying /allen/programs/braintv/workgroups/nc-ophys/Farzaneh/ICA_crossTalk/session_904418381/traces_out_905955238.h5\n",
      "copying /allen/programs/braintv/workgroups/nc-ophys/Farzaneh/ICA_crossTalk/session_904418381/traces_out_905955232.h5\n",
      "copying /allen/programs/braintv/workgroups/nc-ophys/Farzaneh/ICA_crossTalk/session_904418381/traces_out_905955230.h5\n",
      "copying /allen/programs/braintv/workgroups/nc-ophys/Farzaneh/ICA_crossTalk/session_904418381/traces_out_905955242.h5\n",
      "copying /allen/programs/braintv/workgroups/nc-ophys/Farzaneh/ICA_crossTalk/session_904418381/traces_out_905955240.h5\n",
      "copying /allen/programs/braintv/workgroups/nc-ophys/Farzaneh/ICA_crossTalk/session_904418381/traces_out_905955226.h5\n",
      "copying /allen/programs/braintv/workgroups/nc-ophys/Farzaneh/ICA_crossTalk/session_904418381/traces_out_905955228.h5\n",
      "copying /allen/programs/braintv/workgroups/nc-ophys/Farzaneh/ICA_crossTalk/session_904418381/neuropil_out_905955232.h5\n",
      "copying /allen/programs/braintv/workgroups/nc-ophys/Farzaneh/ICA_crossTalk/session_904418381/neuropil_out_905955230.h5\n",
      "copying /allen/programs/braintv/workgroups/nc-ophys/Farzaneh/ICA_crossTalk/session_904418381/neuropil_out_905955242.h5\n",
      "copying /allen/programs/braintv/workgroups/nc-ophys/Farzaneh/ICA_crossTalk/session_904418381/neuropil_out_905955240.h5\n",
      "copying /allen/programs/braintv/workgroups/nc-ophys/Farzaneh/ICA_crossTalk/session_904418381/neuropil_out_905955236.h5\n",
      "copying /allen/programs/braintv/workgroups/nc-ophys/Farzaneh/ICA_crossTalk/session_904418381/neuropil_out_905955238.h5\n",
      "copying /allen/programs/braintv/workgroups/nc-ophys/Farzaneh/ICA_crossTalk/session_904418381/neuropil_out_905955226.h5\n",
      "copying /allen/programs/braintv/workgroups/nc-ophys/Farzaneh/ICA_crossTalk/session_904418381/neuropil_out_905955228.h5\n",
      "\n",
      "\n",
      "Session 50/143: /allen/programs/braintv/workgroups/nc-ophys/Farzaneh/ICA_crossTalk/session_904771513/\n",
      "copying /allen/programs/braintv/workgroups/nc-ophys/Farzaneh/ICA_crossTalk/session_904771513/traces_out_905955207.h5\n",
      "copying /allen/programs/braintv/workgroups/nc-ophys/Farzaneh/ICA_crossTalk/session_904771513/traces_out_905955204.h5\n",
      "copying /allen/programs/braintv/workgroups/nc-ophys/Farzaneh/ICA_crossTalk/session_904771513/traces_out_905955215.h5\n",
      "copying /allen/programs/braintv/workgroups/nc-ophys/Farzaneh/ICA_crossTalk/session_904771513/traces_out_905955213.h5\n",
      "copying /allen/programs/braintv/workgroups/nc-ophys/Farzaneh/ICA_crossTalk/session_904771513/traces_out_905955217.h5\n",
      "copying /allen/programs/braintv/workgroups/nc-ophys/Farzaneh/ICA_crossTalk/session_904771513/traces_out_905955219.h5\n",
      "copying /allen/programs/braintv/workgroups/nc-ophys/Farzaneh/ICA_crossTalk/session_904771513/traces_out_905955211.h5\n",
      "copying /allen/programs/braintv/workgroups/nc-ophys/Farzaneh/ICA_crossTalk/session_904771513/traces_out_905955209.h5\n",
      "copying /allen/programs/braintv/workgroups/nc-ophys/Farzaneh/ICA_crossTalk/session_904771513/neuropil_out_905955207.h5\n",
      "copying /allen/programs/braintv/workgroups/nc-ophys/Farzaneh/ICA_crossTalk/session_904771513/neuropil_out_905955204.h5\n",
      "copying /allen/programs/braintv/workgroups/nc-ophys/Farzaneh/ICA_crossTalk/session_904771513/neuropil_out_905955217.h5\n",
      "copying /allen/programs/braintv/workgroups/nc-ophys/Farzaneh/ICA_crossTalk/session_904771513/neuropil_out_905955219.h5\n",
      "copying /allen/programs/braintv/workgroups/nc-ophys/Farzaneh/ICA_crossTalk/session_904771513/neuropil_out_905955215.h5\n",
      "copying /allen/programs/braintv/workgroups/nc-ophys/Farzaneh/ICA_crossTalk/session_904771513/neuropil_out_905955213.h5\n",
      "copying /allen/programs/braintv/workgroups/nc-ophys/Farzaneh/ICA_crossTalk/session_904771513/neuropil_out_905955211.h5\n",
      "copying /allen/programs/braintv/workgroups/nc-ophys/Farzaneh/ICA_crossTalk/session_904771513/neuropil_out_905955209.h5\n",
      "\n",
      "\n",
      "Session 51/143: /allen/programs/braintv/workgroups/nc-ophys/Farzaneh/ICA_crossTalk/session_906299056/\n",
      "copying /allen/programs/braintv/workgroups/nc-ophys/Farzaneh/ICA_crossTalk/session_906299056/traces_out_906910605.h5\n",
      "copying /allen/programs/braintv/workgroups/nc-ophys/Farzaneh/ICA_crossTalk/session_906299056/traces_out_906910603.h5\n",
      "copying /allen/programs/braintv/workgroups/nc-ophys/Farzaneh/ICA_crossTalk/session_906299056/traces_out_906910599.h5\n",
      "copying /allen/programs/braintv/workgroups/nc-ophys/Farzaneh/ICA_crossTalk/session_906299056/traces_out_906910601.h5\n",
      "copying /allen/programs/braintv/workgroups/nc-ophys/Farzaneh/ICA_crossTalk/session_906299056/traces_out_906910607.h5\n",
      "copying /allen/programs/braintv/workgroups/nc-ophys/Farzaneh/ICA_crossTalk/session_906299056/traces_out_906910609.h5\n",
      "copying /allen/programs/braintv/workgroups/nc-ophys/Farzaneh/ICA_crossTalk/session_906299056/traces_out_906910593.h5\n",
      "copying /allen/programs/braintv/workgroups/nc-ophys/Farzaneh/ICA_crossTalk/session_906299056/traces_out_906910595.h5\n",
      "copying /allen/programs/braintv/workgroups/nc-ophys/Farzaneh/ICA_crossTalk/session_906299056/neuropil_out_906910593.h5\n",
      "copying /allen/programs/braintv/workgroups/nc-ophys/Farzaneh/ICA_crossTalk/session_906299056/neuropil_out_906910595.h5\n",
      "copying /allen/programs/braintv/workgroups/nc-ophys/Farzaneh/ICA_crossTalk/session_906299056/neuropil_out_906910599.h5\n",
      "copying /allen/programs/braintv/workgroups/nc-ophys/Farzaneh/ICA_crossTalk/session_906299056/neuropil_out_906910601.h5\n",
      "copying /allen/programs/braintv/workgroups/nc-ophys/Farzaneh/ICA_crossTalk/session_906299056/neuropil_out_906910605.h5\n",
      "copying /allen/programs/braintv/workgroups/nc-ophys/Farzaneh/ICA_crossTalk/session_906299056/neuropil_out_906910603.h5\n",
      "copying /allen/programs/braintv/workgroups/nc-ophys/Farzaneh/ICA_crossTalk/session_906299056/neuropil_out_906910607.h5\n",
      "copying /allen/programs/braintv/workgroups/nc-ophys/Farzaneh/ICA_crossTalk/session_906299056/neuropil_out_906910609.h5\n",
      "\n",
      "\n",
      "Session 52/143: /allen/programs/braintv/workgroups/nc-ophys/Farzaneh/ICA_crossTalk/session_906521029/\n",
      "copying /allen/programs/braintv/workgroups/nc-ophys/Farzaneh/ICA_crossTalk/session_906521029/traces_out_906910621.h5\n",
      "copying /allen/programs/braintv/workgroups/nc-ophys/Farzaneh/ICA_crossTalk/session_906521029/traces_out_906910623.h5\n",
      "copying /allen/programs/braintv/workgroups/nc-ophys/Farzaneh/ICA_crossTalk/session_906521029/traces_out_906910625.h5\n",
      "copying /allen/programs/braintv/workgroups/nc-ophys/Farzaneh/ICA_crossTalk/session_906521029/traces_out_906910627.h5\n",
      "copying /allen/programs/braintv/workgroups/nc-ophys/Farzaneh/ICA_crossTalk/session_906521029/traces_out_906910616.h5\n",
      "copying /allen/programs/braintv/workgroups/nc-ophys/Farzaneh/ICA_crossTalk/session_906521029/traces_out_906910619.h5\n",
      "copying /allen/programs/braintv/workgroups/nc-ophys/Farzaneh/ICA_crossTalk/session_906521029/traces_out_906910612.h5\n",
      "copying /allen/programs/braintv/workgroups/nc-ophys/Farzaneh/ICA_crossTalk/session_906521029/traces_out_906910614.h5\n",
      "copying /allen/programs/braintv/workgroups/nc-ophys/Farzaneh/ICA_crossTalk/session_906521029/neuropil_out_906910621.h5\n",
      "copying /allen/programs/braintv/workgroups/nc-ophys/Farzaneh/ICA_crossTalk/session_906521029/neuropil_out_906910623.h5\n",
      "copying /allen/programs/braintv/workgroups/nc-ophys/Farzaneh/ICA_crossTalk/session_906521029/neuropil_out_906910612.h5\n",
      "copying /allen/programs/braintv/workgroups/nc-ophys/Farzaneh/ICA_crossTalk/session_906521029/neuropil_out_906910614.h5\n",
      "copying /allen/programs/braintv/workgroups/nc-ophys/Farzaneh/ICA_crossTalk/session_906521029/neuropil_out_906910625.h5\n",
      "copying /allen/programs/braintv/workgroups/nc-ophys/Farzaneh/ICA_crossTalk/session_906521029/neuropil_out_906910627.h5\n",
      "copying /allen/programs/braintv/workgroups/nc-ophys/Farzaneh/ICA_crossTalk/session_906521029/neuropil_out_906910616.h5\n",
      "copying /allen/programs/braintv/workgroups/nc-ophys/Farzaneh/ICA_crossTalk/session_906521029/neuropil_out_906910619.h5\n",
      "\n",
      "\n",
      "Session 53/143: /allen/programs/braintv/workgroups/nc-ophys/Farzaneh/ICA_crossTalk/session_906968227/\n",
      "copying /allen/programs/braintv/workgroups/nc-ophys/Farzaneh/ICA_crossTalk/session_906968227/traces_out_907694948.h5\n",
      "copying /allen/programs/braintv/workgroups/nc-ophys/Farzaneh/ICA_crossTalk/session_906968227/traces_out_907694950.h5\n",
      "copying /allen/programs/braintv/workgroups/nc-ophys/Farzaneh/ICA_crossTalk/session_906968227/traces_out_907694954.h5\n",
      "copying /allen/programs/braintv/workgroups/nc-ophys/Farzaneh/ICA_crossTalk/session_906968227/traces_out_907694952.h5\n",
      "copying /allen/programs/braintv/workgroups/nc-ophys/Farzaneh/ICA_crossTalk/session_906968227/traces_out_907694960.h5\n",
      "copying /allen/programs/braintv/workgroups/nc-ophys/Farzaneh/ICA_crossTalk/session_906968227/traces_out_907694963.h5\n",
      "copying /allen/programs/braintv/workgroups/nc-ophys/Farzaneh/ICA_crossTalk/session_906968227/traces_out_907694958.h5\n",
      "copying /allen/programs/braintv/workgroups/nc-ophys/Farzaneh/ICA_crossTalk/session_906968227/traces_out_907694956.h5\n",
      "copying /allen/programs/braintv/workgroups/nc-ophys/Farzaneh/ICA_crossTalk/session_906968227/neuropil_out_907694954.h5\n",
      "copying /allen/programs/braintv/workgroups/nc-ophys/Farzaneh/ICA_crossTalk/session_906968227/neuropil_out_907694952.h5\n",
      "copying /allen/programs/braintv/workgroups/nc-ophys/Farzaneh/ICA_crossTalk/session_906968227/neuropil_out_907694958.h5\n",
      "copying /allen/programs/braintv/workgroups/nc-ophys/Farzaneh/ICA_crossTalk/session_906968227/neuropil_out_907694956.h5\n",
      "copying /allen/programs/braintv/workgroups/nc-ophys/Farzaneh/ICA_crossTalk/session_906968227/neuropil_out_907694948.h5\n",
      "copying /allen/programs/braintv/workgroups/nc-ophys/Farzaneh/ICA_crossTalk/session_906968227/neuropil_out_907694950.h5\n",
      "copying /allen/programs/braintv/workgroups/nc-ophys/Farzaneh/ICA_crossTalk/session_906968227/neuropil_out_907694960.h5\n",
      "copying /allen/programs/braintv/workgroups/nc-ophys/Farzaneh/ICA_crossTalk/session_906968227/neuropil_out_907694963.h5\n",
      "\n",
      "\n",
      "Session 54/143: /allen/programs/braintv/workgroups/nc-ophys/Farzaneh/ICA_crossTalk/session_907177554/\n",
      "copying /allen/programs/braintv/workgroups/nc-ophys/Farzaneh/ICA_crossTalk/session_907177554/traces_out_908381674.h5\n",
      "copying /allen/programs/braintv/workgroups/nc-ophys/Farzaneh/ICA_crossTalk/session_907177554/traces_out_908381672.h5\n",
      "copying /allen/programs/braintv/workgroups/nc-ophys/Farzaneh/ICA_crossTalk/session_907177554/traces_out_908381686.h5\n",
      "copying /allen/programs/braintv/workgroups/nc-ophys/Farzaneh/ICA_crossTalk/session_907177554/traces_out_908381684.h5\n",
      "copying /allen/programs/braintv/workgroups/nc-ophys/Farzaneh/ICA_crossTalk/session_907177554/traces_out_908381678.h5\n",
      "copying /allen/programs/braintv/workgroups/nc-ophys/Farzaneh/ICA_crossTalk/session_907177554/traces_out_908381676.h5\n",
      "copying /allen/programs/braintv/workgroups/nc-ophys/Farzaneh/ICA_crossTalk/session_907177554/traces_out_908381682.h5\n",
      "copying /allen/programs/braintv/workgroups/nc-ophys/Farzaneh/ICA_crossTalk/session_907177554/traces_out_908381680.h5\n",
      "copying /allen/programs/braintv/workgroups/nc-ophys/Farzaneh/ICA_crossTalk/session_907177554/neuropil_out_908381674.h5\n",
      "copying /allen/programs/braintv/workgroups/nc-ophys/Farzaneh/ICA_crossTalk/session_907177554/neuropil_out_908381672.h5\n",
      "copying /allen/programs/braintv/workgroups/nc-ophys/Farzaneh/ICA_crossTalk/session_907177554/neuropil_out_908381686.h5\n",
      "copying /allen/programs/braintv/workgroups/nc-ophys/Farzaneh/ICA_crossTalk/session_907177554/neuropil_out_908381684.h5\n",
      "copying /allen/programs/braintv/workgroups/nc-ophys/Farzaneh/ICA_crossTalk/session_907177554/neuropil_out_908381682.h5\n",
      "copying /allen/programs/braintv/workgroups/nc-ophys/Farzaneh/ICA_crossTalk/session_907177554/neuropil_out_908381680.h5\n",
      "copying /allen/programs/braintv/workgroups/nc-ophys/Farzaneh/ICA_crossTalk/session_907177554/neuropil_out_908381678.h5\n",
      "copying /allen/programs/braintv/workgroups/nc-ophys/Farzaneh/ICA_crossTalk/session_907177554/neuropil_out_908381676.h5\n",
      "\n",
      "\n",
      "Session 55/143: /allen/programs/braintv/workgroups/nc-ophys/Farzaneh/ICA_crossTalk/session_907753304/\n",
      "copying /allen/programs/braintv/workgroups/nc-ophys/Farzaneh/ICA_crossTalk/session_907753304/traces_out_908381700.h5\n",
      "copying /allen/programs/braintv/workgroups/nc-ophys/Farzaneh/ICA_crossTalk/session_907753304/traces_out_908381698.h5\n",
      "copying /allen/programs/braintv/workgroups/nc-ophys/Farzaneh/ICA_crossTalk/session_907753304/traces_out_908381696.h5\n",
      "copying /allen/programs/braintv/workgroups/nc-ophys/Farzaneh/ICA_crossTalk/session_907753304/traces_out_908381694.h5\n",
      "copying /allen/programs/braintv/workgroups/nc-ophys/Farzaneh/ICA_crossTalk/session_907753304/traces_out_908381692.h5\n",
      "copying /allen/programs/braintv/workgroups/nc-ophys/Farzaneh/ICA_crossTalk/session_907753304/traces_out_908381690.h5\n",
      "copying /allen/programs/braintv/workgroups/nc-ophys/Farzaneh/ICA_crossTalk/session_907753304/traces_out_908381706.h5\n",
      "copying /allen/programs/braintv/workgroups/nc-ophys/Farzaneh/ICA_crossTalk/session_907753304/traces_out_908381704.h5\n",
      "copying /allen/programs/braintv/workgroups/nc-ophys/Farzaneh/ICA_crossTalk/session_907753304/neuropil_out_908381696.h5\n",
      "copying /allen/programs/braintv/workgroups/nc-ophys/Farzaneh/ICA_crossTalk/session_907753304/neuropil_out_908381694.h5\n",
      "copying /allen/programs/braintv/workgroups/nc-ophys/Farzaneh/ICA_crossTalk/session_907753304/neuropil_out_908381692.h5\n",
      "copying /allen/programs/braintv/workgroups/nc-ophys/Farzaneh/ICA_crossTalk/session_907753304/neuropil_out_908381690.h5\n",
      "copying /allen/programs/braintv/workgroups/nc-ophys/Farzaneh/ICA_crossTalk/session_907753304/neuropil_out_908381700.h5\n",
      "copying /allen/programs/braintv/workgroups/nc-ophys/Farzaneh/ICA_crossTalk/session_907753304/neuropil_out_908381698.h5\n",
      "copying /allen/programs/braintv/workgroups/nc-ophys/Farzaneh/ICA_crossTalk/session_907753304/neuropil_out_908381706.h5\n",
      "copying /allen/programs/braintv/workgroups/nc-ophys/Farzaneh/ICA_crossTalk/session_907753304/neuropil_out_908381704.h5\n",
      "\n",
      "\n",
      "Session 56/143: /allen/programs/braintv/workgroups/nc-ophys/Farzaneh/ICA_crossTalk/session_907991198/\n",
      "copying /allen/programs/braintv/workgroups/nc-ophys/Farzaneh/ICA_crossTalk/session_907991198/traces_out_908381664.h5\n",
      "copying /allen/programs/braintv/workgroups/nc-ophys/Farzaneh/ICA_crossTalk/session_907991198/traces_out_908381660.h5\n",
      "copying /allen/programs/braintv/workgroups/nc-ophys/Farzaneh/ICA_crossTalk/session_907991198/traces_out_908381666.h5\n",
      "copying /allen/programs/braintv/workgroups/nc-ophys/Farzaneh/ICA_crossTalk/session_907991198/traces_out_908381668.h5\n",
      "copying /allen/programs/braintv/workgroups/nc-ophys/Farzaneh/ICA_crossTalk/session_907991198/traces_out_908381654.h5\n",
      "copying /allen/programs/braintv/workgroups/nc-ophys/Farzaneh/ICA_crossTalk/session_907991198/traces_out_908381652.h5\n",
      "copying /allen/programs/braintv/workgroups/nc-ophys/Farzaneh/ICA_crossTalk/session_907991198/traces_out_908381656.h5\n",
      "copying /allen/programs/braintv/workgroups/nc-ophys/Farzaneh/ICA_crossTalk/session_907991198/traces_out_908381658.h5\n",
      "copying /allen/programs/braintv/workgroups/nc-ophys/Farzaneh/ICA_crossTalk/session_907991198/neuropil_out_908381654.h5\n",
      "copying /allen/programs/braintv/workgroups/nc-ophys/Farzaneh/ICA_crossTalk/session_907991198/neuropil_out_908381652.h5\n",
      "copying /allen/programs/braintv/workgroups/nc-ophys/Farzaneh/ICA_crossTalk/session_907991198/neuropil_out_908381664.h5\n",
      "copying /allen/programs/braintv/workgroups/nc-ophys/Farzaneh/ICA_crossTalk/session_907991198/neuropil_out_908381660.h5\n",
      "copying /allen/programs/braintv/workgroups/nc-ophys/Farzaneh/ICA_crossTalk/session_907991198/neuropil_out_908381656.h5\n",
      "copying /allen/programs/braintv/workgroups/nc-ophys/Farzaneh/ICA_crossTalk/session_907991198/neuropil_out_908381658.h5\n",
      "copying /allen/programs/braintv/workgroups/nc-ophys/Farzaneh/ICA_crossTalk/session_907991198/neuropil_out_908381666.h5\n",
      "copying /allen/programs/braintv/workgroups/nc-ophys/Farzaneh/ICA_crossTalk/session_907991198/neuropil_out_908381668.h5\n",
      "\n",
      "\n",
      "Session 57/143: /allen/programs/braintv/workgroups/nc-ophys/Farzaneh/ICA_crossTalk/session_908441202/\n",
      "copying /allen/programs/braintv/workgroups/nc-ophys/Farzaneh/ICA_crossTalk/session_908441202/traces_out_909177753.h5\n",
      "copying /allen/programs/braintv/workgroups/nc-ophys/Farzaneh/ICA_crossTalk/session_908441202/traces_out_909177755.h5\n",
      "copying /allen/programs/braintv/workgroups/nc-ophys/Farzaneh/ICA_crossTalk/session_908441202/traces_out_909177759.h5\n",
      "copying /allen/programs/braintv/workgroups/nc-ophys/Farzaneh/ICA_crossTalk/session_908441202/traces_out_909177761.h5\n",
      "copying /allen/programs/braintv/workgroups/nc-ophys/Farzaneh/ICA_crossTalk/session_908441202/traces_out_909177765.h5\n",
      "copying /allen/programs/braintv/workgroups/nc-ophys/Farzaneh/ICA_crossTalk/session_908441202/traces_out_909177763.h5\n",
      "copying /allen/programs/braintv/workgroups/nc-ophys/Farzaneh/ICA_crossTalk/session_908441202/traces_out_909177769.h5\n",
      "copying /allen/programs/braintv/workgroups/nc-ophys/Farzaneh/ICA_crossTalk/session_908441202/traces_out_909177767.h5\n",
      "copying /allen/programs/braintv/workgroups/nc-ophys/Farzaneh/ICA_crossTalk/session_908441202/neuropil_out_909177759.h5\n",
      "copying /allen/programs/braintv/workgroups/nc-ophys/Farzaneh/ICA_crossTalk/session_908441202/neuropil_out_909177761.h5\n",
      "copying /allen/programs/braintv/workgroups/nc-ophys/Farzaneh/ICA_crossTalk/session_908441202/neuropil_out_909177769.h5\n",
      "copying /allen/programs/braintv/workgroups/nc-ophys/Farzaneh/ICA_crossTalk/session_908441202/neuropil_out_909177767.h5\n",
      "copying /allen/programs/braintv/workgroups/nc-ophys/Farzaneh/ICA_crossTalk/session_908441202/neuropil_out_909177765.h5\n",
      "copying /allen/programs/braintv/workgroups/nc-ophys/Farzaneh/ICA_crossTalk/session_908441202/neuropil_out_909177763.h5\n",
      "copying /allen/programs/braintv/workgroups/nc-ophys/Farzaneh/ICA_crossTalk/session_908441202/neuropil_out_909177753.h5\n",
      "copying /allen/programs/braintv/workgroups/nc-ophys/Farzaneh/ICA_crossTalk/session_908441202/neuropil_out_909177755.h5\n",
      "\n",
      "\n",
      "Session 58/143: /allen/programs/braintv/workgroups/nc-ophys/Farzaneh/ICA_crossTalk/session_911719666/\n",
      "copying /allen/programs/braintv/workgroups/nc-ophys/Farzaneh/ICA_crossTalk/session_911719666/traces_out_912791349.h5\n",
      "copying /allen/programs/braintv/workgroups/nc-ophys/Farzaneh/ICA_crossTalk/session_911719666/traces_out_912791352.h5\n",
      "copying /allen/programs/braintv/workgroups/nc-ophys/Farzaneh/ICA_crossTalk/session_911719666/traces_out_912791345.h5\n",
      "copying /allen/programs/braintv/workgroups/nc-ophys/Farzaneh/ICA_crossTalk/session_911719666/traces_out_912791343.h5\n",
      "copying /allen/programs/braintv/workgroups/nc-ophys/Farzaneh/ICA_crossTalk/session_911719666/traces_out_912791356.h5\n",
      "copying /allen/programs/braintv/workgroups/nc-ophys/Farzaneh/ICA_crossTalk/session_911719666/traces_out_912791354.h5\n",
      "copying /allen/programs/braintv/workgroups/nc-ophys/Farzaneh/ICA_crossTalk/session_911719666/traces_out_912791341.h5\n",
      "copying /allen/programs/braintv/workgroups/nc-ophys/Farzaneh/ICA_crossTalk/session_911719666/traces_out_912791339.h5\n",
      "copying /allen/programs/braintv/workgroups/nc-ophys/Farzaneh/ICA_crossTalk/session_911719666/neuropil_out_912791349.h5\n",
      "copying /allen/programs/braintv/workgroups/nc-ophys/Farzaneh/ICA_crossTalk/session_911719666/neuropil_out_912791352.h5\n",
      "copying /allen/programs/braintv/workgroups/nc-ophys/Farzaneh/ICA_crossTalk/session_911719666/neuropil_out_912791345.h5\n",
      "copying /allen/programs/braintv/workgroups/nc-ophys/Farzaneh/ICA_crossTalk/session_911719666/neuropil_out_912791343.h5\n",
      "copying /allen/programs/braintv/workgroups/nc-ophys/Farzaneh/ICA_crossTalk/session_911719666/neuropil_out_912791356.h5\n",
      "copying /allen/programs/braintv/workgroups/nc-ophys/Farzaneh/ICA_crossTalk/session_911719666/neuropil_out_912791354.h5\n",
      "copying /allen/programs/braintv/workgroups/nc-ophys/Farzaneh/ICA_crossTalk/session_911719666/neuropil_out_912791341.h5\n",
      "copying /allen/programs/braintv/workgroups/nc-ophys/Farzaneh/ICA_crossTalk/session_911719666/neuropil_out_912791339.h5\n",
      "\n",
      "\n",
      "Session 59/143: /allen/programs/braintv/workgroups/nc-ophys/Farzaneh/ICA_crossTalk/session_913564409/\n",
      "copying /allen/programs/braintv/workgroups/nc-ophys/Farzaneh/ICA_crossTalk/session_913564409/traces_out_914107600.h5\n",
      "copying /allen/programs/braintv/workgroups/nc-ophys/Farzaneh/ICA_crossTalk/session_913564409/traces_out_914107595.h5\n",
      "copying /allen/programs/braintv/workgroups/nc-ophys/Farzaneh/ICA_crossTalk/session_913564409/traces_out_914107616.h5\n",
      "copying /allen/programs/braintv/workgroups/nc-ophys/Farzaneh/ICA_crossTalk/session_913564409/traces_out_914107611.h5\n",
      "copying /allen/programs/braintv/workgroups/nc-ophys/Farzaneh/ICA_crossTalk/session_913564409/traces_out_914107592.h5\n",
      "copying /allen/programs/braintv/workgroups/nc-ophys/Farzaneh/ICA_crossTalk/session_913564409/traces_out_914107588.h5\n",
      "copying /allen/programs/braintv/workgroups/nc-ophys/Farzaneh/ICA_crossTalk/session_913564409/traces_out_914107608.h5\n",
      "copying /allen/programs/braintv/workgroups/nc-ophys/Farzaneh/ICA_crossTalk/session_913564409/traces_out_914107604.h5\n",
      "copying /allen/programs/braintv/workgroups/nc-ophys/Farzaneh/ICA_crossTalk/session_913564409/neuropil_out_914107600.h5\n",
      "copying /allen/programs/braintv/workgroups/nc-ophys/Farzaneh/ICA_crossTalk/session_913564409/neuropil_out_914107595.h5\n",
      "copying /allen/programs/braintv/workgroups/nc-ophys/Farzaneh/ICA_crossTalk/session_913564409/neuropil_out_914107616.h5\n",
      "copying /allen/programs/braintv/workgroups/nc-ophys/Farzaneh/ICA_crossTalk/session_913564409/neuropil_out_914107611.h5\n",
      "copying /allen/programs/braintv/workgroups/nc-ophys/Farzaneh/ICA_crossTalk/session_913564409/neuropil_out_914107608.h5\n",
      "copying /allen/programs/braintv/workgroups/nc-ophys/Farzaneh/ICA_crossTalk/session_913564409/neuropil_out_914107604.h5\n",
      "copying /allen/programs/braintv/workgroups/nc-ophys/Farzaneh/ICA_crossTalk/session_913564409/neuropil_out_914107592.h5\n",
      "copying /allen/programs/braintv/workgroups/nc-ophys/Farzaneh/ICA_crossTalk/session_913564409/neuropil_out_914107588.h5\n",
      "\n",
      "\n",
      "Session 60/143: /allen/programs/braintv/workgroups/nc-ophys/Farzaneh/ICA_crossTalk/session_914161594/\n",
      "copying /allen/programs/braintv/workgroups/nc-ophys/Farzaneh/ICA_crossTalk/session_914161594/traces_out_914580664.h5\n",
      "copying /allen/programs/braintv/workgroups/nc-ophys/Farzaneh/ICA_crossTalk/session_914161594/traces_out_914580662.h5\n",
      "copying /allen/programs/braintv/workgroups/nc-ophys/Farzaneh/ICA_crossTalk/session_914161594/traces_out_914580660.h5\n",
      "copying /allen/programs/braintv/workgroups/nc-ophys/Farzaneh/ICA_crossTalk/session_914161594/traces_out_914580658.h5\n",
      "copying /allen/programs/braintv/workgroups/nc-ophys/Farzaneh/ICA_crossTalk/session_914161594/traces_out_914580670.h5\n",
      "copying /allen/programs/braintv/workgroups/nc-ophys/Farzaneh/ICA_crossTalk/session_914161594/traces_out_914580672.h5\n",
      "copying /allen/programs/braintv/workgroups/nc-ophys/Farzaneh/ICA_crossTalk/session_914161594/traces_out_914580666.h5\n",
      "copying /allen/programs/braintv/workgroups/nc-ophys/Farzaneh/ICA_crossTalk/session_914161594/traces_out_914580668.h5\n",
      "copying /allen/programs/braintv/workgroups/nc-ophys/Farzaneh/ICA_crossTalk/session_914161594/neuropil_out_914580660.h5\n",
      "copying /allen/programs/braintv/workgroups/nc-ophys/Farzaneh/ICA_crossTalk/session_914161594/neuropil_out_914580658.h5\n",
      "copying /allen/programs/braintv/workgroups/nc-ophys/Farzaneh/ICA_crossTalk/session_914161594/neuropil_out_914580670.h5\n",
      "copying /allen/programs/braintv/workgroups/nc-ophys/Farzaneh/ICA_crossTalk/session_914161594/neuropil_out_914580672.h5\n",
      "copying /allen/programs/braintv/workgroups/nc-ophys/Farzaneh/ICA_crossTalk/session_914161594/neuropil_out_914580664.h5\n",
      "copying /allen/programs/braintv/workgroups/nc-ophys/Farzaneh/ICA_crossTalk/session_914161594/neuropil_out_914580662.h5\n",
      "copying /allen/programs/braintv/workgroups/nc-ophys/Farzaneh/ICA_crossTalk/session_914161594/neuropil_out_914580666.h5\n",
      "copying /allen/programs/braintv/workgroups/nc-ophys/Farzaneh/ICA_crossTalk/session_914161594/neuropil_out_914580668.h5\n",
      "\n",
      "\n",
      "Session 61/143: /allen/programs/braintv/workgroups/nc-ophys/Farzaneh/ICA_crossTalk/session_914639324/\n",
      "copying /allen/programs/braintv/workgroups/nc-ophys/Farzaneh/ICA_crossTalk/session_914639324/traces_out_915243103.h5\n",
      "copying /allen/programs/braintv/workgroups/nc-ophys/Farzaneh/ICA_crossTalk/session_914639324/traces_out_915243101.h5\n",
      "copying /allen/programs/braintv/workgroups/nc-ophys/Farzaneh/ICA_crossTalk/session_914639324/traces_out_915243096.h5\n",
      "copying /allen/programs/braintv/workgroups/nc-ophys/Farzaneh/ICA_crossTalk/session_914639324/traces_out_915243099.h5\n",
      "copying /allen/programs/braintv/workgroups/nc-ophys/Farzaneh/ICA_crossTalk/session_914639324/traces_out_915243088.h5\n",
      "copying /allen/programs/braintv/workgroups/nc-ophys/Farzaneh/ICA_crossTalk/session_914639324/traces_out_915243090.h5\n",
      "copying /allen/programs/braintv/workgroups/nc-ophys/Farzaneh/ICA_crossTalk/session_914639324/traces_out_915243094.h5\n",
      "copying /allen/programs/braintv/workgroups/nc-ophys/Farzaneh/ICA_crossTalk/session_914639324/traces_out_915243092.h5\n",
      "copying /allen/programs/braintv/workgroups/nc-ophys/Farzaneh/ICA_crossTalk/session_914639324/neuropil_out_915243096.h5\n",
      "copying /allen/programs/braintv/workgroups/nc-ophys/Farzaneh/ICA_crossTalk/session_914639324/neuropil_out_915243099.h5\n",
      "copying /allen/programs/braintv/workgroups/nc-ophys/Farzaneh/ICA_crossTalk/session_914639324/neuropil_out_915243094.h5\n",
      "copying /allen/programs/braintv/workgroups/nc-ophys/Farzaneh/ICA_crossTalk/session_914639324/neuropil_out_915243092.h5\n",
      "copying /allen/programs/braintv/workgroups/nc-ophys/Farzaneh/ICA_crossTalk/session_914639324/neuropil_out_915243103.h5\n",
      "copying /allen/programs/braintv/workgroups/nc-ophys/Farzaneh/ICA_crossTalk/session_914639324/neuropil_out_915243101.h5\n",
      "copying /allen/programs/braintv/workgroups/nc-ophys/Farzaneh/ICA_crossTalk/session_914639324/neuropil_out_915243088.h5\n",
      "copying /allen/programs/braintv/workgroups/nc-ophys/Farzaneh/ICA_crossTalk/session_914639324/neuropil_out_915243090.h5\n",
      "\n",
      "\n",
      "Session 62/143: /allen/programs/braintv/workgroups/nc-ophys/Farzaneh/ICA_crossTalk/session_914728054/\n",
      "copying /allen/programs/braintv/workgroups/nc-ophys/Farzaneh/ICA_crossTalk/session_914728054/traces_out_915229076.h5\n",
      "copying /allen/programs/braintv/workgroups/nc-ophys/Farzaneh/ICA_crossTalk/session_914728054/traces_out_915229074.h5\n",
      "copying /allen/programs/braintv/workgroups/nc-ophys/Farzaneh/ICA_crossTalk/session_914728054/traces_out_915229064.h5\n",
      "copying /allen/programs/braintv/workgroups/nc-ophys/Farzaneh/ICA_crossTalk/session_914728054/traces_out_915229062.h5\n",
      "copying /allen/programs/braintv/workgroups/nc-ophys/Farzaneh/ICA_crossTalk/session_914728054/traces_out_915229072.h5\n",
      "copying /allen/programs/braintv/workgroups/nc-ophys/Farzaneh/ICA_crossTalk/session_914728054/traces_out_915229070.h5\n",
      "copying /allen/programs/braintv/workgroups/nc-ophys/Farzaneh/ICA_crossTalk/session_914728054/traces_out_915229068.h5\n",
      "copying /allen/programs/braintv/workgroups/nc-ophys/Farzaneh/ICA_crossTalk/session_914728054/traces_out_915229066.h5\n",
      "copying /allen/programs/braintv/workgroups/nc-ophys/Farzaneh/ICA_crossTalk/session_914728054/neuropil_out_915229072.h5\n",
      "copying /allen/programs/braintv/workgroups/nc-ophys/Farzaneh/ICA_crossTalk/session_914728054/neuropil_out_915229070.h5\n",
      "copying /allen/programs/braintv/workgroups/nc-ophys/Farzaneh/ICA_crossTalk/session_914728054/neuropil_out_915229068.h5\n",
      "copying /allen/programs/braintv/workgroups/nc-ophys/Farzaneh/ICA_crossTalk/session_914728054/neuropil_out_915229066.h5\n",
      "copying /allen/programs/braintv/workgroups/nc-ophys/Farzaneh/ICA_crossTalk/session_914728054/neuropil_out_915229064.h5\n",
      "copying /allen/programs/braintv/workgroups/nc-ophys/Farzaneh/ICA_crossTalk/session_914728054/neuropil_out_915229062.h5\n",
      "copying /allen/programs/braintv/workgroups/nc-ophys/Farzaneh/ICA_crossTalk/session_914728054/neuropil_out_915229076.h5\n",
      "copying /allen/programs/braintv/workgroups/nc-ophys/Farzaneh/ICA_crossTalk/session_914728054/neuropil_out_915229074.h5\n",
      "\n",
      "\n",
      "Session 63/143: /allen/programs/braintv/workgroups/nc-ophys/Farzaneh/ICA_crossTalk/session_915306390/\n",
      "copying /allen/programs/braintv/workgroups/nc-ophys/Farzaneh/ICA_crossTalk/session_915306390/traces_out_916220450.h5\n",
      "copying /allen/programs/braintv/workgroups/nc-ophys/Farzaneh/ICA_crossTalk/session_915306390/traces_out_916220447.h5\n",
      "copying /allen/programs/braintv/workgroups/nc-ophys/Farzaneh/ICA_crossTalk/session_915306390/traces_out_916220443.h5\n",
      "copying /allen/programs/braintv/workgroups/nc-ophys/Farzaneh/ICA_crossTalk/session_915306390/traces_out_916220445.h5\n",
      "copying /allen/programs/braintv/workgroups/nc-ophys/Farzaneh/ICA_crossTalk/session_915306390/traces_out_916220441.h5\n",
      "copying /allen/programs/braintv/workgroups/nc-ophys/Farzaneh/ICA_crossTalk/session_915306390/traces_out_916220439.h5\n",
      "copying /allen/programs/braintv/workgroups/nc-ophys/Farzaneh/ICA_crossTalk/session_915306390/traces_out_916220454.h5\n",
      "copying /allen/programs/braintv/workgroups/nc-ophys/Farzaneh/ICA_crossTalk/session_915306390/traces_out_916220452.h5\n",
      "copying /allen/programs/braintv/workgroups/nc-ophys/Farzaneh/ICA_crossTalk/session_915306390/neuropil_out_916220454.h5\n",
      "copying /allen/programs/braintv/workgroups/nc-ophys/Farzaneh/ICA_crossTalk/session_915306390/neuropil_out_916220452.h5\n",
      "copying /allen/programs/braintv/workgroups/nc-ophys/Farzaneh/ICA_crossTalk/session_915306390/neuropil_out_916220441.h5\n",
      "copying /allen/programs/braintv/workgroups/nc-ophys/Farzaneh/ICA_crossTalk/session_915306390/neuropil_out_916220439.h5\n",
      "copying /allen/programs/braintv/workgroups/nc-ophys/Farzaneh/ICA_crossTalk/session_915306390/neuropil_out_916220450.h5\n",
      "copying /allen/programs/braintv/workgroups/nc-ophys/Farzaneh/ICA_crossTalk/session_915306390/neuropil_out_916220447.h5\n",
      "copying /allen/programs/braintv/workgroups/nc-ophys/Farzaneh/ICA_crossTalk/session_915306390/neuropil_out_916220443.h5\n",
      "copying /allen/programs/braintv/workgroups/nc-ophys/Farzaneh/ICA_crossTalk/session_915306390/neuropil_out_916220445.h5\n",
      "\n",
      "\n",
      "Session 64/143: /allen/programs/braintv/workgroups/nc-ophys/Farzaneh/ICA_crossTalk/session_916650386/\n",
      "copying /allen/programs/braintv/workgroups/nc-ophys/Farzaneh/ICA_crossTalk/session_916650386/traces_out_916803626.h5\n",
      "copying /allen/programs/braintv/workgroups/nc-ophys/Farzaneh/ICA_crossTalk/session_916650386/traces_out_916803624.h5\n",
      "copying /allen/programs/braintv/workgroups/nc-ophys/Farzaneh/ICA_crossTalk/session_916650386/traces_out_916803632.h5\n",
      "copying /allen/programs/braintv/workgroups/nc-ophys/Farzaneh/ICA_crossTalk/session_916650386/traces_out_916803634.h5\n",
      "copying /allen/programs/braintv/workgroups/nc-ophys/Farzaneh/ICA_crossTalk/session_916650386/traces_out_916803621.h5\n",
      "copying /allen/programs/braintv/workgroups/nc-ophys/Farzaneh/ICA_crossTalk/session_916650386/traces_out_916803619.h5\n",
      "copying /allen/programs/braintv/workgroups/nc-ophys/Farzaneh/ICA_crossTalk/session_916650386/traces_out_916803628.h5\n",
      "copying /allen/programs/braintv/workgroups/nc-ophys/Farzaneh/ICA_crossTalk/session_916650386/traces_out_916803630.h5\n",
      "copying /allen/programs/braintv/workgroups/nc-ophys/Farzaneh/ICA_crossTalk/session_916650386/neuropil_out_916803626.h5\n",
      "copying /allen/programs/braintv/workgroups/nc-ophys/Farzaneh/ICA_crossTalk/session_916650386/neuropil_out_916803624.h5\n",
      "copying /allen/programs/braintv/workgroups/nc-ophys/Farzaneh/ICA_crossTalk/session_916650386/neuropil_out_916803632.h5\n",
      "copying /allen/programs/braintv/workgroups/nc-ophys/Farzaneh/ICA_crossTalk/session_916650386/neuropil_out_916803634.h5\n",
      "copying /allen/programs/braintv/workgroups/nc-ophys/Farzaneh/ICA_crossTalk/session_916650386/neuropil_out_916803628.h5\n",
      "copying /allen/programs/braintv/workgroups/nc-ophys/Farzaneh/ICA_crossTalk/session_916650386/neuropil_out_916803630.h5\n",
      "copying /allen/programs/braintv/workgroups/nc-ophys/Farzaneh/ICA_crossTalk/session_916650386/neuropil_out_916803621.h5\n",
      "copying /allen/programs/braintv/workgroups/nc-ophys/Farzaneh/ICA_crossTalk/session_916650386/neuropil_out_916803619.h5\n",
      "\n",
      "\n",
      "Session 65/143: /allen/programs/braintv/workgroups/nc-ophys/Farzaneh/ICA_crossTalk/session_917498735/\n",
      "copying /allen/programs/braintv/workgroups/nc-ophys/Farzaneh/ICA_crossTalk/session_917498735/traces_out_917820372.h5\n",
      "copying /allen/programs/braintv/workgroups/nc-ophys/Farzaneh/ICA_crossTalk/session_917498735/traces_out_917820375.h5\n",
      "copying /allen/programs/braintv/workgroups/nc-ophys/Farzaneh/ICA_crossTalk/session_917498735/traces_out_917820358.h5\n",
      "copying /allen/programs/braintv/workgroups/nc-ophys/Farzaneh/ICA_crossTalk/session_917498735/traces_out_917820362.h5\n",
      "copying /allen/programs/braintv/workgroups/nc-ophys/Farzaneh/ICA_crossTalk/session_917498735/traces_out_917820368.h5\n",
      "copying /allen/programs/braintv/workgroups/nc-ophys/Farzaneh/ICA_crossTalk/session_917498735/traces_out_917820370.h5\n",
      "copying /allen/programs/braintv/workgroups/nc-ophys/Farzaneh/ICA_crossTalk/session_917498735/traces_out_917820379.h5\n",
      "copying /allen/programs/braintv/workgroups/nc-ophys/Farzaneh/ICA_crossTalk/session_917498735/traces_out_917820382.h5\n",
      "copying /allen/programs/braintv/workgroups/nc-ophys/Farzaneh/ICA_crossTalk/session_917498735/neuropil_out_917820358.h5\n",
      "copying /allen/programs/braintv/workgroups/nc-ophys/Farzaneh/ICA_crossTalk/session_917498735/neuropil_out_917820362.h5\n",
      "copying /allen/programs/braintv/workgroups/nc-ophys/Farzaneh/ICA_crossTalk/session_917498735/neuropil_out_917820368.h5\n",
      "copying /allen/programs/braintv/workgroups/nc-ophys/Farzaneh/ICA_crossTalk/session_917498735/neuropil_out_917820370.h5\n",
      "copying /allen/programs/braintv/workgroups/nc-ophys/Farzaneh/ICA_crossTalk/session_917498735/neuropil_out_917820379.h5\n",
      "copying /allen/programs/braintv/workgroups/nc-ophys/Farzaneh/ICA_crossTalk/session_917498735/neuropil_out_917820382.h5\n",
      "copying /allen/programs/braintv/workgroups/nc-ophys/Farzaneh/ICA_crossTalk/session_917498735/neuropil_out_917820372.h5\n",
      "copying /allen/programs/braintv/workgroups/nc-ophys/Farzaneh/ICA_crossTalk/session_917498735/neuropil_out_917820375.h5\n",
      "\n",
      "\n",
      "Session 66/143: /allen/programs/braintv/workgroups/nc-ophys/Farzaneh/ICA_crossTalk/session_918889065/\n",
      "copying /allen/programs/braintv/workgroups/nc-ophys/Farzaneh/ICA_crossTalk/session_918889065/traces_out_919419009.h5\n",
      "copying /allen/programs/braintv/workgroups/nc-ophys/Farzaneh/ICA_crossTalk/session_918889065/traces_out_919419011.h5\n",
      "copying /allen/programs/braintv/workgroups/nc-ophys/Farzaneh/ICA_crossTalk/session_918889065/traces_out_919419001.h5\n",
      "copying /allen/programs/braintv/workgroups/nc-ophys/Farzaneh/ICA_crossTalk/session_918889065/traces_out_919418999.h5\n",
      "copying /allen/programs/braintv/workgroups/nc-ophys/Farzaneh/ICA_crossTalk/session_918889065/traces_out_919419015.h5\n",
      "copying /allen/programs/braintv/workgroups/nc-ophys/Farzaneh/ICA_crossTalk/session_918889065/traces_out_919419013.h5\n",
      "copying /allen/programs/braintv/workgroups/nc-ophys/Farzaneh/ICA_crossTalk/session_918889065/traces_out_919419007.h5\n",
      "copying /allen/programs/braintv/workgroups/nc-ophys/Farzaneh/ICA_crossTalk/session_918889065/traces_out_919419005.h5\n",
      "copying /allen/programs/braintv/workgroups/nc-ophys/Farzaneh/ICA_crossTalk/session_918889065/neuropil_out_919419015.h5\n",
      "copying /allen/programs/braintv/workgroups/nc-ophys/Farzaneh/ICA_crossTalk/session_918889065/neuropil_out_919419013.h5\n",
      "copying /allen/programs/braintv/workgroups/nc-ophys/Farzaneh/ICA_crossTalk/session_918889065/neuropil_out_919419001.h5\n",
      "copying /allen/programs/braintv/workgroups/nc-ophys/Farzaneh/ICA_crossTalk/session_918889065/neuropil_out_919418999.h5\n",
      "copying /allen/programs/braintv/workgroups/nc-ophys/Farzaneh/ICA_crossTalk/session_918889065/neuropil_out_919419007.h5\n",
      "copying /allen/programs/braintv/workgroups/nc-ophys/Farzaneh/ICA_crossTalk/session_918889065/neuropil_out_919419005.h5\n",
      "copying /allen/programs/braintv/workgroups/nc-ophys/Farzaneh/ICA_crossTalk/session_918889065/neuropil_out_919419009.h5\n",
      "copying /allen/programs/braintv/workgroups/nc-ophys/Farzaneh/ICA_crossTalk/session_918889065/neuropil_out_919419011.h5\n",
      "\n",
      "\n",
      "Session 67/143: /allen/programs/braintv/workgroups/nc-ophys/Farzaneh/ICA_crossTalk/session_919041767/\n",
      "copying /allen/programs/braintv/workgroups/nc-ophys/Farzaneh/ICA_crossTalk/session_919041767/traces_out_919418509.h5\n",
      "copying /allen/programs/braintv/workgroups/nc-ophys/Farzaneh/ICA_crossTalk/session_919041767/traces_out_919418511.h5\n",
      "copying /allen/programs/braintv/workgroups/nc-ophys/Farzaneh/ICA_crossTalk/session_919041767/traces_out_919418515.h5\n",
      "copying /allen/programs/braintv/workgroups/nc-ophys/Farzaneh/ICA_crossTalk/session_919041767/traces_out_919418513.h5\n",
      "copying /allen/programs/braintv/workgroups/nc-ophys/Farzaneh/ICA_crossTalk/session_919041767/traces_out_919418501.h5\n",
      "copying /allen/programs/braintv/workgroups/nc-ophys/Farzaneh/ICA_crossTalk/session_919041767/traces_out_919418503.h5\n",
      "copying /allen/programs/braintv/workgroups/nc-ophys/Farzaneh/ICA_crossTalk/session_919041767/traces_out_919418507.h5\n",
      "copying /allen/programs/braintv/workgroups/nc-ophys/Farzaneh/ICA_crossTalk/session_919041767/traces_out_919418505.h5\n",
      "copying /allen/programs/braintv/workgroups/nc-ophys/Farzaneh/ICA_crossTalk/session_919041767/neuropil_out_919418501.h5\n",
      "copying /allen/programs/braintv/workgroups/nc-ophys/Farzaneh/ICA_crossTalk/session_919041767/neuropil_out_919418503.h5\n",
      "copying /allen/programs/braintv/workgroups/nc-ophys/Farzaneh/ICA_crossTalk/session_919041767/neuropil_out_919418507.h5\n",
      "copying /allen/programs/braintv/workgroups/nc-ophys/Farzaneh/ICA_crossTalk/session_919041767/neuropil_out_919418505.h5\n",
      "copying /allen/programs/braintv/workgroups/nc-ophys/Farzaneh/ICA_crossTalk/session_919041767/neuropil_out_919418515.h5\n",
      "copying /allen/programs/braintv/workgroups/nc-ophys/Farzaneh/ICA_crossTalk/session_919041767/neuropil_out_919418513.h5\n",
      "copying /allen/programs/braintv/workgroups/nc-ophys/Farzaneh/ICA_crossTalk/session_919041767/neuropil_out_919418509.h5\n",
      "copying /allen/programs/braintv/workgroups/nc-ophys/Farzaneh/ICA_crossTalk/session_919041767/neuropil_out_919418511.h5\n",
      "\n",
      "\n",
      "Session 68/143: /allen/programs/braintv/workgroups/nc-ophys/Farzaneh/ICA_crossTalk/session_919888953/\n",
      "copying /allen/programs/braintv/workgroups/nc-ophys/Farzaneh/ICA_crossTalk/session_919888953/traces_out_920288845.h5\n",
      "copying /allen/programs/braintv/workgroups/nc-ophys/Farzaneh/ICA_crossTalk/session_919888953/traces_out_920288843.h5\n",
      "copying /allen/programs/braintv/workgroups/nc-ophys/Farzaneh/ICA_crossTalk/session_919888953/traces_out_920288851.h5\n",
      "copying /allen/programs/braintv/workgroups/nc-ophys/Farzaneh/ICA_crossTalk/session_919888953/traces_out_920288853.h5\n",
      "copying /allen/programs/braintv/workgroups/nc-ophys/Farzaneh/ICA_crossTalk/session_919888953/traces_out_920288847.h5\n",
      "copying /allen/programs/braintv/workgroups/nc-ophys/Farzaneh/ICA_crossTalk/session_919888953/traces_out_920288849.h5\n",
      "copying /allen/programs/braintv/workgroups/nc-ophys/Farzaneh/ICA_crossTalk/session_919888953/traces_out_920288855.h5\n",
      "copying /allen/programs/braintv/workgroups/nc-ophys/Farzaneh/ICA_crossTalk/session_919888953/traces_out_920288857.h5\n",
      "copying /allen/programs/braintv/workgroups/nc-ophys/Farzaneh/ICA_crossTalk/session_919888953/neuropil_out_920288855.h5\n",
      "copying /allen/programs/braintv/workgroups/nc-ophys/Farzaneh/ICA_crossTalk/session_919888953/neuropil_out_920288857.h5\n",
      "copying /allen/programs/braintv/workgroups/nc-ophys/Farzaneh/ICA_crossTalk/session_919888953/neuropil_out_920288845.h5\n",
      "copying /allen/programs/braintv/workgroups/nc-ophys/Farzaneh/ICA_crossTalk/session_919888953/neuropil_out_920288843.h5\n",
      "copying /allen/programs/braintv/workgroups/nc-ophys/Farzaneh/ICA_crossTalk/session_919888953/neuropil_out_920288851.h5\n",
      "copying /allen/programs/braintv/workgroups/nc-ophys/Farzaneh/ICA_crossTalk/session_919888953/neuropil_out_920288853.h5\n",
      "copying /allen/programs/braintv/workgroups/nc-ophys/Farzaneh/ICA_crossTalk/session_919888953/neuropil_out_920288847.h5\n",
      "copying /allen/programs/braintv/workgroups/nc-ophys/Farzaneh/ICA_crossTalk/session_919888953/neuropil_out_920288849.h5\n",
      "\n",
      "\n",
      "Session 69/143: /allen/programs/braintv/workgroups/nc-ophys/Farzaneh/ICA_crossTalk/session_920695792/\n",
      "copying /allen/programs/braintv/workgroups/nc-ophys/Farzaneh/ICA_crossTalk/session_920695792/traces_out_921024204.h5\n",
      "copying /allen/programs/braintv/workgroups/nc-ophys/Farzaneh/ICA_crossTalk/session_920695792/traces_out_921024201.h5\n",
      "copying /allen/programs/braintv/workgroups/nc-ophys/Farzaneh/ICA_crossTalk/session_920695792/traces_out_921024191.h5\n",
      "copying /allen/programs/braintv/workgroups/nc-ophys/Farzaneh/ICA_crossTalk/session_920695792/traces_out_921024193.h5\n",
      "copying /allen/programs/braintv/workgroups/nc-ophys/Farzaneh/ICA_crossTalk/session_920695792/traces_out_921024187.h5\n",
      "copying /allen/programs/braintv/workgroups/nc-ophys/Farzaneh/ICA_crossTalk/session_920695792/traces_out_921024189.h5\n",
      "copying /allen/programs/braintv/workgroups/nc-ophys/Farzaneh/ICA_crossTalk/session_920695792/traces_out_921024197.h5\n",
      "copying /allen/programs/braintv/workgroups/nc-ophys/Farzaneh/ICA_crossTalk/session_920695792/traces_out_921024195.h5\n",
      "copying /allen/programs/braintv/workgroups/nc-ophys/Farzaneh/ICA_crossTalk/session_920695792/neuropil_out_921024197.h5\n",
      "copying /allen/programs/braintv/workgroups/nc-ophys/Farzaneh/ICA_crossTalk/session_920695792/neuropil_out_921024195.h5\n",
      "copying /allen/programs/braintv/workgroups/nc-ophys/Farzaneh/ICA_crossTalk/session_920695792/neuropil_out_921024191.h5\n",
      "copying /allen/programs/braintv/workgroups/nc-ophys/Farzaneh/ICA_crossTalk/session_920695792/neuropil_out_921024193.h5\n",
      "copying /allen/programs/braintv/workgroups/nc-ophys/Farzaneh/ICA_crossTalk/session_920695792/neuropil_out_921024204.h5\n",
      "copying /allen/programs/braintv/workgroups/nc-ophys/Farzaneh/ICA_crossTalk/session_920695792/neuropil_out_921024201.h5\n",
      "copying /allen/programs/braintv/workgroups/nc-ophys/Farzaneh/ICA_crossTalk/session_920695792/neuropil_out_921024187.h5\n",
      "copying /allen/programs/braintv/workgroups/nc-ophys/Farzaneh/ICA_crossTalk/session_920695792/neuropil_out_921024189.h5\n",
      "\n",
      "\n",
      "Session 70/143: /allen/programs/braintv/workgroups/nc-ophys/Farzaneh/ICA_crossTalk/session_921636320/\n",
      "copying /allen/programs/braintv/workgroups/nc-ophys/Farzaneh/ICA_crossTalk/session_921636320/traces_out_922122718.h5\n",
      "copying /allen/programs/braintv/workgroups/nc-ophys/Farzaneh/ICA_crossTalk/session_921636320/traces_out_922122720.h5\n",
      "copying /allen/programs/braintv/workgroups/nc-ophys/Farzaneh/ICA_crossTalk/session_921636320/traces_out_922122712.h5\n",
      "copying /allen/programs/braintv/workgroups/nc-ophys/Farzaneh/ICA_crossTalk/session_921636320/traces_out_922122710.h5\n",
      "copying /allen/programs/braintv/workgroups/nc-ophys/Farzaneh/ICA_crossTalk/session_921636320/traces_out_922122722.h5\n",
      "copying /allen/programs/braintv/workgroups/nc-ophys/Farzaneh/ICA_crossTalk/session_921636320/traces_out_922122724.h5\n",
      "copying /allen/programs/braintv/workgroups/nc-ophys/Farzaneh/ICA_crossTalk/session_921636320/traces_out_922122716.h5\n",
      "copying /allen/programs/braintv/workgroups/nc-ophys/Farzaneh/ICA_crossTalk/session_921636320/traces_out_922122714.h5\n",
      "copying /allen/programs/braintv/workgroups/nc-ophys/Farzaneh/ICA_crossTalk/session_921636320/neuropil_out_922122722.h5\n",
      "copying /allen/programs/braintv/workgroups/nc-ophys/Farzaneh/ICA_crossTalk/session_921636320/neuropil_out_922122724.h5\n",
      "copying /allen/programs/braintv/workgroups/nc-ophys/Farzaneh/ICA_crossTalk/session_921636320/neuropil_out_922122712.h5\n",
      "copying /allen/programs/braintv/workgroups/nc-ophys/Farzaneh/ICA_crossTalk/session_921636320/neuropil_out_922122710.h5\n",
      "copying /allen/programs/braintv/workgroups/nc-ophys/Farzaneh/ICA_crossTalk/session_921636320/neuropil_out_922122718.h5\n",
      "copying /allen/programs/braintv/workgroups/nc-ophys/Farzaneh/ICA_crossTalk/session_921636320/neuropil_out_922122720.h5\n",
      "copying /allen/programs/braintv/workgroups/nc-ophys/Farzaneh/ICA_crossTalk/session_921636320/neuropil_out_922122716.h5\n",
      "copying /allen/programs/braintv/workgroups/nc-ophys/Farzaneh/ICA_crossTalk/session_921636320/neuropil_out_922122714.h5\n",
      "\n",
      "\n",
      "Session 71/143: /allen/programs/braintv/workgroups/nc-ophys/Farzaneh/ICA_crossTalk/session_921922878/\n",
      "copying /allen/programs/braintv/workgroups/nc-ophys/Farzaneh/ICA_crossTalk/session_921922878/traces_out_922122742.h5\n",
      "copying /allen/programs/braintv/workgroups/nc-ophys/Farzaneh/ICA_crossTalk/session_921922878/traces_out_922122744.h5\n",
      "copying /allen/programs/braintv/workgroups/nc-ophys/Farzaneh/ICA_crossTalk/session_921922878/traces_out_922122734.h5\n",
      "copying /allen/programs/braintv/workgroups/nc-ophys/Farzaneh/ICA_crossTalk/session_921922878/traces_out_922122732.h5\n",
      "copying /allen/programs/braintv/workgroups/nc-ophys/Farzaneh/ICA_crossTalk/session_921922878/traces_out_922122740.h5\n",
      "copying /allen/programs/braintv/workgroups/nc-ophys/Farzaneh/ICA_crossTalk/session_921922878/traces_out_922122738.h5\n",
      "copying /allen/programs/braintv/workgroups/nc-ophys/Farzaneh/ICA_crossTalk/session_921922878/traces_out_922122728.h5\n",
      "copying /allen/programs/braintv/workgroups/nc-ophys/Farzaneh/ICA_crossTalk/session_921922878/traces_out_922122730.h5\n",
      "copying /allen/programs/braintv/workgroups/nc-ophys/Farzaneh/ICA_crossTalk/session_921922878/neuropil_out_922122734.h5\n",
      "copying /allen/programs/braintv/workgroups/nc-ophys/Farzaneh/ICA_crossTalk/session_921922878/neuropil_out_922122732.h5\n",
      "copying /allen/programs/braintv/workgroups/nc-ophys/Farzaneh/ICA_crossTalk/session_921922878/neuropil_out_922122742.h5\n",
      "copying /allen/programs/braintv/workgroups/nc-ophys/Farzaneh/ICA_crossTalk/session_921922878/neuropil_out_922122744.h5\n",
      "copying /allen/programs/braintv/workgroups/nc-ophys/Farzaneh/ICA_crossTalk/session_921922878/neuropil_out_922122740.h5\n",
      "copying /allen/programs/braintv/workgroups/nc-ophys/Farzaneh/ICA_crossTalk/session_921922878/neuropil_out_922122738.h5\n",
      "copying /allen/programs/braintv/workgroups/nc-ophys/Farzaneh/ICA_crossTalk/session_921922878/neuropil_out_922122728.h5\n",
      "copying /allen/programs/braintv/workgroups/nc-ophys/Farzaneh/ICA_crossTalk/session_921922878/neuropil_out_922122730.h5\n",
      "\n",
      "\n",
      "Session 72/143: /allen/programs/braintv/workgroups/nc-ophys/Farzaneh/ICA_crossTalk/session_922564930/\n",
      "copying /allen/programs/braintv/workgroups/nc-ophys/Farzaneh/ICA_crossTalk/session_922564930/traces_out_923144558.h5\n",
      "copying /allen/programs/braintv/workgroups/nc-ophys/Farzaneh/ICA_crossTalk/session_922564930/traces_out_923144560.h5\n",
      "copying /allen/programs/braintv/workgroups/nc-ophys/Farzaneh/ICA_crossTalk/session_922564930/traces_out_923144564.h5\n",
      "copying /allen/programs/braintv/workgroups/nc-ophys/Farzaneh/ICA_crossTalk/session_922564930/traces_out_923144562.h5\n",
      "copying /allen/programs/braintv/workgroups/nc-ophys/Farzaneh/ICA_crossTalk/session_922564930/traces_out_923144567.h5\n",
      "copying /allen/programs/braintv/workgroups/nc-ophys/Farzaneh/ICA_crossTalk/session_922564930/traces_out_923144569.h5\n",
      "copying /allen/programs/braintv/workgroups/nc-ophys/Farzaneh/ICA_crossTalk/session_922564930/traces_out_923144571.h5\n",
      "copying /allen/programs/braintv/workgroups/nc-ophys/Farzaneh/ICA_crossTalk/session_922564930/traces_out_923144573.h5\n",
      "copying /allen/programs/braintv/workgroups/nc-ophys/Farzaneh/ICA_crossTalk/session_922564930/neuropil_out_923144558.h5\n",
      "copying /allen/programs/braintv/workgroups/nc-ophys/Farzaneh/ICA_crossTalk/session_922564930/neuropil_out_923144560.h5\n",
      "copying /allen/programs/braintv/workgroups/nc-ophys/Farzaneh/ICA_crossTalk/session_922564930/neuropil_out_923144564.h5\n",
      "copying /allen/programs/braintv/workgroups/nc-ophys/Farzaneh/ICA_crossTalk/session_922564930/neuropil_out_923144562.h5\n",
      "copying /allen/programs/braintv/workgroups/nc-ophys/Farzaneh/ICA_crossTalk/session_922564930/neuropil_out_923144571.h5\n",
      "copying /allen/programs/braintv/workgroups/nc-ophys/Farzaneh/ICA_crossTalk/session_922564930/neuropil_out_923144573.h5\n",
      "copying /allen/programs/braintv/workgroups/nc-ophys/Farzaneh/ICA_crossTalk/session_922564930/neuropil_out_923144567.h5\n",
      "copying /allen/programs/braintv/workgroups/nc-ophys/Farzaneh/ICA_crossTalk/session_922564930/neuropil_out_923144569.h5\n",
      "\n",
      "\n",
      "Session 73/143: /allen/programs/braintv/workgroups/nc-ophys/Farzaneh/ICA_crossTalk/session_923705570/\n",
      "copying /allen/programs/braintv/workgroups/nc-ophys/Farzaneh/ICA_crossTalk/session_923705570/traces_out_924198885.h5\n",
      "copying /allen/programs/braintv/workgroups/nc-ophys/Farzaneh/ICA_crossTalk/session_923705570/traces_out_924198883.h5\n",
      "copying /allen/programs/braintv/workgroups/nc-ophys/Farzaneh/ICA_crossTalk/session_923705570/traces_out_924198891.h5\n",
      "copying /allen/programs/braintv/workgroups/nc-ophys/Farzaneh/ICA_crossTalk/session_923705570/traces_out_924198893.h5\n",
      "copying /allen/programs/braintv/workgroups/nc-ophys/Farzaneh/ICA_crossTalk/session_923705570/traces_out_924198887.h5\n",
      "copying /allen/programs/braintv/workgroups/nc-ophys/Farzaneh/ICA_crossTalk/session_923705570/traces_out_924198889.h5\n",
      "copying /allen/programs/braintv/workgroups/nc-ophys/Farzaneh/ICA_crossTalk/session_923705570/traces_out_924198895.h5\n",
      "copying /allen/programs/braintv/workgroups/nc-ophys/Farzaneh/ICA_crossTalk/session_923705570/traces_out_924198897.h5\n",
      "copying /allen/programs/braintv/workgroups/nc-ophys/Farzaneh/ICA_crossTalk/session_923705570/neuropil_out_924198891.h5\n",
      "copying /allen/programs/braintv/workgroups/nc-ophys/Farzaneh/ICA_crossTalk/session_923705570/neuropil_out_924198893.h5\n",
      "copying /allen/programs/braintv/workgroups/nc-ophys/Farzaneh/ICA_crossTalk/session_923705570/neuropil_out_924198887.h5\n",
      "copying /allen/programs/braintv/workgroups/nc-ophys/Farzaneh/ICA_crossTalk/session_923705570/neuropil_out_924198889.h5\n",
      "copying /allen/programs/braintv/workgroups/nc-ophys/Farzaneh/ICA_crossTalk/session_923705570/neuropil_out_924198885.h5\n",
      "copying /allen/programs/braintv/workgroups/nc-ophys/Farzaneh/ICA_crossTalk/session_923705570/neuropil_out_924198883.h5\n",
      "copying /allen/programs/braintv/workgroups/nc-ophys/Farzaneh/ICA_crossTalk/session_923705570/neuropil_out_924198895.h5\n",
      "copying /allen/programs/braintv/workgroups/nc-ophys/Farzaneh/ICA_crossTalk/session_923705570/neuropil_out_924198897.h5\n",
      "\n",
      "\n",
      "Session 74/143: /allen/programs/braintv/workgroups/nc-ophys/Farzaneh/ICA_crossTalk/session_925478114/\n",
      "copying /allen/programs/braintv/workgroups/nc-ophys/Farzaneh/ICA_crossTalk/session_925478114/traces_out_925843758.h5\n",
      "copying /allen/programs/braintv/workgroups/nc-ophys/Farzaneh/ICA_crossTalk/session_925478114/traces_out_925843756.h5\n",
      "copying /allen/programs/braintv/workgroups/nc-ophys/Farzaneh/ICA_crossTalk/session_925478114/traces_out_925843771.h5\n",
      "copying /allen/programs/braintv/workgroups/nc-ophys/Farzaneh/ICA_crossTalk/session_925478114/traces_out_925843773.h5\n",
      "copying /allen/programs/braintv/workgroups/nc-ophys/Farzaneh/ICA_crossTalk/session_925478114/traces_out_925843769.h5\n",
      "copying /allen/programs/braintv/workgroups/nc-ophys/Farzaneh/ICA_crossTalk/session_925478114/traces_out_925843765.h5\n",
      "copying /allen/programs/braintv/workgroups/nc-ophys/Farzaneh/ICA_crossTalk/session_925478114/traces_out_925843763.h5\n",
      "copying /allen/programs/braintv/workgroups/nc-ophys/Farzaneh/ICA_crossTalk/session_925478114/traces_out_925843761.h5\n",
      "copying /allen/programs/braintv/workgroups/nc-ophys/Farzaneh/ICA_crossTalk/session_925478114/neuropil_out_925843758.h5\n",
      "copying /allen/programs/braintv/workgroups/nc-ophys/Farzaneh/ICA_crossTalk/session_925478114/neuropil_out_925843756.h5\n",
      "copying /allen/programs/braintv/workgroups/nc-ophys/Farzaneh/ICA_crossTalk/session_925478114/neuropil_out_925843769.h5\n",
      "copying /allen/programs/braintv/workgroups/nc-ophys/Farzaneh/ICA_crossTalk/session_925478114/neuropil_out_925843765.h5\n",
      "copying /allen/programs/braintv/workgroups/nc-ophys/Farzaneh/ICA_crossTalk/session_925478114/neuropil_out_925843771.h5\n",
      "copying /allen/programs/braintv/workgroups/nc-ophys/Farzaneh/ICA_crossTalk/session_925478114/neuropil_out_925843773.h5\n",
      "copying /allen/programs/braintv/workgroups/nc-ophys/Farzaneh/ICA_crossTalk/session_925478114/neuropil_out_925843763.h5\n",
      "copying /allen/programs/braintv/workgroups/nc-ophys/Farzaneh/ICA_crossTalk/session_925478114/neuropil_out_925843761.h5\n",
      "\n",
      "\n",
      "Session 75/143: /allen/programs/braintv/workgroups/nc-ophys/Farzaneh/ICA_crossTalk/session_926488384/\n",
      "copying /allen/programs/braintv/workgroups/nc-ophys/Farzaneh/ICA_crossTalk/session_926488384/traces_out_927102646.h5\n",
      "copying /allen/programs/braintv/workgroups/nc-ophys/Farzaneh/ICA_crossTalk/session_926488384/traces_out_927102644.h5\n",
      "copying /allen/programs/braintv/workgroups/nc-ophys/Farzaneh/ICA_crossTalk/session_926488384/traces_out_927102632.h5\n",
      "copying /allen/programs/braintv/workgroups/nc-ophys/Farzaneh/ICA_crossTalk/session_926488384/traces_out_927102634.h5\n",
      "copying /allen/programs/braintv/workgroups/nc-ophys/Farzaneh/ICA_crossTalk/session_926488384/traces_out_927102640.h5\n",
      "copying /allen/programs/braintv/workgroups/nc-ophys/Farzaneh/ICA_crossTalk/session_926488384/traces_out_927102642.h5\n",
      "copying /allen/programs/braintv/workgroups/nc-ophys/Farzaneh/ICA_crossTalk/session_926488384/traces_out_927102638.h5\n",
      "copying /allen/programs/braintv/workgroups/nc-ophys/Farzaneh/ICA_crossTalk/session_926488384/traces_out_927102636.h5\n",
      "copying /allen/programs/braintv/workgroups/nc-ophys/Farzaneh/ICA_crossTalk/session_926488384/neuropil_out_927102632.h5\n",
      "copying /allen/programs/braintv/workgroups/nc-ophys/Farzaneh/ICA_crossTalk/session_926488384/neuropil_out_927102634.h5\n",
      "copying /allen/programs/braintv/workgroups/nc-ophys/Farzaneh/ICA_crossTalk/session_926488384/neuropil_out_927102640.h5\n",
      "copying /allen/programs/braintv/workgroups/nc-ophys/Farzaneh/ICA_crossTalk/session_926488384/neuropil_out_927102642.h5\n",
      "copying /allen/programs/braintv/workgroups/nc-ophys/Farzaneh/ICA_crossTalk/session_926488384/neuropil_out_927102646.h5\n",
      "copying /allen/programs/braintv/workgroups/nc-ophys/Farzaneh/ICA_crossTalk/session_926488384/neuropil_out_927102644.h5\n",
      "copying /allen/programs/braintv/workgroups/nc-ophys/Farzaneh/ICA_crossTalk/session_926488384/neuropil_out_927102638.h5\n",
      "copying /allen/programs/braintv/workgroups/nc-ophys/Farzaneh/ICA_crossTalk/session_926488384/neuropil_out_927102636.h5\n",
      "\n",
      "\n",
      "Session 76/143: /allen/programs/braintv/workgroups/nc-ophys/Farzaneh/ICA_crossTalk/session_927787876/\n",
      "copying /allen/programs/braintv/workgroups/nc-ophys/Farzaneh/ICA_crossTalk/session_927787876/traces_out_929653474.h5\n",
      "copying /allen/programs/braintv/workgroups/nc-ophys/Farzaneh/ICA_crossTalk/session_927787876/traces_out_929653479.h5\n",
      "copying /allen/programs/braintv/workgroups/nc-ophys/Farzaneh/ICA_crossTalk/session_927787876/traces_out_929653466.h5\n",
      "copying /allen/programs/braintv/workgroups/nc-ophys/Farzaneh/ICA_crossTalk/session_927787876/traces_out_929653468.h5\n",
      "copying /allen/programs/braintv/workgroups/nc-ophys/Farzaneh/ICA_crossTalk/session_927787876/traces_out_929653481.h5\n",
      "copying /allen/programs/braintv/workgroups/nc-ophys/Farzaneh/ICA_crossTalk/session_927787876/traces_out_929653483.h5\n",
      "copying /allen/programs/braintv/workgroups/nc-ophys/Farzaneh/ICA_crossTalk/session_927787876/traces_out_929653472.h5\n",
      "copying /allen/programs/braintv/workgroups/nc-ophys/Farzaneh/ICA_crossTalk/session_927787876/traces_out_929653470.h5\n",
      "copying /allen/programs/braintv/workgroups/nc-ophys/Farzaneh/ICA_crossTalk/session_927787876/neuropil_out_929653474.h5\n",
      "copying /allen/programs/braintv/workgroups/nc-ophys/Farzaneh/ICA_crossTalk/session_927787876/neuropil_out_929653479.h5\n",
      "copying /allen/programs/braintv/workgroups/nc-ophys/Farzaneh/ICA_crossTalk/session_927787876/neuropil_out_929653466.h5\n",
      "copying /allen/programs/braintv/workgroups/nc-ophys/Farzaneh/ICA_crossTalk/session_927787876/neuropil_out_929653468.h5\n",
      "copying /allen/programs/braintv/workgroups/nc-ophys/Farzaneh/ICA_crossTalk/session_927787876/neuropil_out_929653472.h5\n",
      "copying /allen/programs/braintv/workgroups/nc-ophys/Farzaneh/ICA_crossTalk/session_927787876/neuropil_out_929653470.h5\n",
      "copying /allen/programs/braintv/workgroups/nc-ophys/Farzaneh/ICA_crossTalk/session_927787876/neuropil_out_929653481.h5\n",
      "copying /allen/programs/braintv/workgroups/nc-ophys/Farzaneh/ICA_crossTalk/session_927787876/neuropil_out_929653483.h5\n",
      "\n",
      "\n",
      "Session 77/143: /allen/programs/braintv/workgroups/nc-ophys/Farzaneh/ICA_crossTalk/session_928414538/\n",
      "copying /allen/programs/braintv/workgroups/nc-ophys/Farzaneh/ICA_crossTalk/session_928414538/traces_out_929604324.h5\n",
      "copying /allen/programs/braintv/workgroups/nc-ophys/Farzaneh/ICA_crossTalk/session_928414538/traces_out_929604327.h5\n",
      "copying /allen/programs/braintv/workgroups/nc-ophys/Farzaneh/ICA_crossTalk/session_928414538/traces_out_929604331.h5\n",
      "copying /allen/programs/braintv/workgroups/nc-ophys/Farzaneh/ICA_crossTalk/session_928414538/traces_out_929604329.h5\n",
      "copying /allen/programs/braintv/workgroups/nc-ophys/Farzaneh/ICA_crossTalk/session_928414538/traces_out_929604318.h5\n",
      "copying /allen/programs/braintv/workgroups/nc-ophys/Farzaneh/ICA_crossTalk/session_928414538/traces_out_929604316.h5\n",
      "copying /allen/programs/braintv/workgroups/nc-ophys/Farzaneh/ICA_crossTalk/session_928414538/traces_out_929604320.h5\n",
      "copying /allen/programs/braintv/workgroups/nc-ophys/Farzaneh/ICA_crossTalk/session_928414538/traces_out_929604322.h5\n",
      "copying /allen/programs/braintv/workgroups/nc-ophys/Farzaneh/ICA_crossTalk/session_928414538/neuropil_out_929604331.h5\n",
      "copying /allen/programs/braintv/workgroups/nc-ophys/Farzaneh/ICA_crossTalk/session_928414538/neuropil_out_929604329.h5\n",
      "copying /allen/programs/braintv/workgroups/nc-ophys/Farzaneh/ICA_crossTalk/session_928414538/neuropil_out_929604318.h5\n",
      "copying /allen/programs/braintv/workgroups/nc-ophys/Farzaneh/ICA_crossTalk/session_928414538/neuropil_out_929604316.h5\n",
      "copying /allen/programs/braintv/workgroups/nc-ophys/Farzaneh/ICA_crossTalk/session_928414538/neuropil_out_929604320.h5\n",
      "copying /allen/programs/braintv/workgroups/nc-ophys/Farzaneh/ICA_crossTalk/session_928414538/neuropil_out_929604322.h5\n",
      "copying /allen/programs/braintv/workgroups/nc-ophys/Farzaneh/ICA_crossTalk/session_928414538/neuropil_out_929604324.h5\n",
      "copying /allen/programs/braintv/workgroups/nc-ophys/Farzaneh/ICA_crossTalk/session_928414538/neuropil_out_929604327.h5\n",
      "\n",
      "\n",
      "Session 78/143: /allen/programs/braintv/workgroups/nc-ophys/Farzaneh/ICA_crossTalk/session_929255311/\n",
      "copying /allen/programs/braintv/workgroups/nc-ophys/Farzaneh/ICA_crossTalk/session_929255311/traces_out_929655730.h5\n",
      "copying /allen/programs/braintv/workgroups/nc-ophys/Farzaneh/ICA_crossTalk/session_929255311/traces_out_929655732.h5\n",
      "copying /allen/programs/braintv/workgroups/nc-ophys/Farzaneh/ICA_crossTalk/session_929255311/traces_out_929655728.h5\n",
      "copying /allen/programs/braintv/workgroups/nc-ophys/Farzaneh/ICA_crossTalk/session_929255311/traces_out_929655724.h5\n",
      "copying /allen/programs/braintv/workgroups/nc-ophys/Farzaneh/ICA_crossTalk/session_929255311/traces_out_929655737.h5\n",
      "copying /allen/programs/braintv/workgroups/nc-ophys/Farzaneh/ICA_crossTalk/session_929255311/traces_out_929655735.h5\n",
      "copying /allen/programs/braintv/workgroups/nc-ophys/Farzaneh/ICA_crossTalk/session_929255311/traces_out_929655720.h5\n",
      "copying /allen/programs/braintv/workgroups/nc-ophys/Farzaneh/ICA_crossTalk/session_929255311/traces_out_929655722.h5\n",
      "copying /allen/programs/braintv/workgroups/nc-ophys/Farzaneh/ICA_crossTalk/session_929255311/neuropil_out_929655730.h5\n",
      "copying /allen/programs/braintv/workgroups/nc-ophys/Farzaneh/ICA_crossTalk/session_929255311/neuropil_out_929655732.h5\n",
      "copying /allen/programs/braintv/workgroups/nc-ophys/Farzaneh/ICA_crossTalk/session_929255311/neuropil_out_929655720.h5\n",
      "copying /allen/programs/braintv/workgroups/nc-ophys/Farzaneh/ICA_crossTalk/session_929255311/neuropil_out_929655722.h5\n",
      "copying /allen/programs/braintv/workgroups/nc-ophys/Farzaneh/ICA_crossTalk/session_929255311/neuropil_out_929655737.h5\n",
      "copying /allen/programs/braintv/workgroups/nc-ophys/Farzaneh/ICA_crossTalk/session_929255311/neuropil_out_929655735.h5\n",
      "copying /allen/programs/braintv/workgroups/nc-ophys/Farzaneh/ICA_crossTalk/session_929255311/neuropil_out_929655728.h5\n",
      "copying /allen/programs/braintv/workgroups/nc-ophys/Farzaneh/ICA_crossTalk/session_929255311/neuropil_out_929655724.h5\n",
      "\n",
      "\n",
      "Session 79/143: /allen/programs/braintv/workgroups/nc-ophys/Farzaneh/ICA_crossTalk/session_929686773/\n",
      "copying /allen/programs/braintv/workgroups/nc-ophys/Farzaneh/ICA_crossTalk/session_929686773/traces_out_930996078.h5\n",
      "copying /allen/programs/braintv/workgroups/nc-ophys/Farzaneh/ICA_crossTalk/session_929686773/traces_out_930996076.h5\n",
      "copying /allen/programs/braintv/workgroups/nc-ophys/Farzaneh/ICA_crossTalk/session_929686773/traces_out_930996080.h5\n",
      "copying /allen/programs/braintv/workgroups/nc-ophys/Farzaneh/ICA_crossTalk/session_929686773/traces_out_930996082.h5\n",
      "copying /allen/programs/braintv/workgroups/nc-ophys/Farzaneh/ICA_crossTalk/session_929686773/traces_out_930996069.h5\n",
      "copying /allen/programs/braintv/workgroups/nc-ophys/Farzaneh/ICA_crossTalk/session_929686773/traces_out_930996067.h5\n",
      "copying /allen/programs/braintv/workgroups/nc-ophys/Farzaneh/ICA_crossTalk/session_929686773/traces_out_930996071.h5\n",
      "copying /allen/programs/braintv/workgroups/nc-ophys/Farzaneh/ICA_crossTalk/session_929686773/traces_out_930996073.h5\n",
      "copying /allen/programs/braintv/workgroups/nc-ophys/Farzaneh/ICA_crossTalk/session_929686773/neuropil_out_930996080.h5\n",
      "copying /allen/programs/braintv/workgroups/nc-ophys/Farzaneh/ICA_crossTalk/session_929686773/neuropil_out_930996082.h5\n",
      "copying /allen/programs/braintv/workgroups/nc-ophys/Farzaneh/ICA_crossTalk/session_929686773/neuropil_out_930996069.h5\n",
      "copying /allen/programs/braintv/workgroups/nc-ophys/Farzaneh/ICA_crossTalk/session_929686773/neuropil_out_930996067.h5\n",
      "copying /allen/programs/braintv/workgroups/nc-ophys/Farzaneh/ICA_crossTalk/session_929686773/neuropil_out_930996078.h5\n",
      "copying /allen/programs/braintv/workgroups/nc-ophys/Farzaneh/ICA_crossTalk/session_929686773/neuropil_out_930996076.h5\n",
      "copying /allen/programs/braintv/workgroups/nc-ophys/Farzaneh/ICA_crossTalk/session_929686773/neuropil_out_930996071.h5\n",
      "copying /allen/programs/braintv/workgroups/nc-ophys/Farzaneh/ICA_crossTalk/session_929686773/neuropil_out_930996073.h5\n",
      "\n",
      "\n",
      "Session 80/143: /allen/programs/braintv/workgroups/nc-ophys/Farzaneh/ICA_crossTalk/session_931687751/\n",
      "copying /allen/programs/braintv/workgroups/nc-ophys/Farzaneh/ICA_crossTalk/session_931687751/traces_out_932381892.h5\n",
      "copying /allen/programs/braintv/workgroups/nc-ophys/Farzaneh/ICA_crossTalk/session_931687751/traces_out_932381890.h5\n",
      "copying /allen/programs/braintv/workgroups/nc-ophys/Farzaneh/ICA_crossTalk/session_931687751/traces_out_932381894.h5\n",
      "copying /allen/programs/braintv/workgroups/nc-ophys/Farzaneh/ICA_crossTalk/session_931687751/traces_out_932381896.h5\n",
      "copying /allen/programs/braintv/workgroups/nc-ophys/Farzaneh/ICA_crossTalk/session_931687751/traces_out_932381902.h5\n",
      "copying /allen/programs/braintv/workgroups/nc-ophys/Farzaneh/ICA_crossTalk/session_931687751/traces_out_932381900.h5\n",
      "copying /allen/programs/braintv/workgroups/nc-ophys/Farzaneh/ICA_crossTalk/session_931687751/traces_out_932381888.h5\n",
      "copying /allen/programs/braintv/workgroups/nc-ophys/Farzaneh/ICA_crossTalk/session_931687751/traces_out_932381886.h5\n",
      "copying /allen/programs/braintv/workgroups/nc-ophys/Farzaneh/ICA_crossTalk/session_931687751/neuropil_out_932381902.h5\n",
      "copying /allen/programs/braintv/workgroups/nc-ophys/Farzaneh/ICA_crossTalk/session_931687751/neuropil_out_932381900.h5\n",
      "copying /allen/programs/braintv/workgroups/nc-ophys/Farzaneh/ICA_crossTalk/session_931687751/neuropil_out_932381892.h5\n",
      "copying /allen/programs/braintv/workgroups/nc-ophys/Farzaneh/ICA_crossTalk/session_931687751/neuropil_out_932381890.h5\n",
      "copying /allen/programs/braintv/workgroups/nc-ophys/Farzaneh/ICA_crossTalk/session_931687751/neuropil_out_932381888.h5\n",
      "copying /allen/programs/braintv/workgroups/nc-ophys/Farzaneh/ICA_crossTalk/session_931687751/neuropil_out_932381886.h5\n",
      "copying /allen/programs/braintv/workgroups/nc-ophys/Farzaneh/ICA_crossTalk/session_931687751/neuropil_out_932381894.h5\n",
      "copying /allen/programs/braintv/workgroups/nc-ophys/Farzaneh/ICA_crossTalk/session_931687751/neuropil_out_932381896.h5\n",
      "\n",
      "\n",
      "Session 81/143: /allen/programs/braintv/workgroups/nc-ophys/Farzaneh/ICA_crossTalk/session_933439847/\n",
      "copying /allen/programs/braintv/workgroups/nc-ophys/Farzaneh/ICA_crossTalk/session_933439847/traces_out_935514362.h5\n",
      "copying /allen/programs/braintv/workgroups/nc-ophys/Farzaneh/ICA_crossTalk/session_933439847/traces_out_935514360.h5\n",
      "copying /allen/programs/braintv/workgroups/nc-ophys/Farzaneh/ICA_crossTalk/session_933439847/traces_out_935514366.h5\n",
      "copying /allen/programs/braintv/workgroups/nc-ophys/Farzaneh/ICA_crossTalk/session_933439847/traces_out_935514364.h5\n",
      "copying /allen/programs/braintv/workgroups/nc-ophys/Farzaneh/ICA_crossTalk/session_933439847/traces_out_935514375.h5\n",
      "copying /allen/programs/braintv/workgroups/nc-ophys/Farzaneh/ICA_crossTalk/session_933439847/traces_out_935514378.h5\n",
      "copying /allen/programs/braintv/workgroups/nc-ophys/Farzaneh/ICA_crossTalk/session_933439847/traces_out_935514368.h5\n",
      "copying /allen/programs/braintv/workgroups/nc-ophys/Farzaneh/ICA_crossTalk/session_933439847/traces_out_935514373.h5\n",
      "copying /allen/programs/braintv/workgroups/nc-ophys/Farzaneh/ICA_crossTalk/session_933439847/neuropil_out_935514368.h5\n",
      "copying /allen/programs/braintv/workgroups/nc-ophys/Farzaneh/ICA_crossTalk/session_933439847/neuropil_out_935514373.h5\n",
      "copying /allen/programs/braintv/workgroups/nc-ophys/Farzaneh/ICA_crossTalk/session_933439847/neuropil_out_935514362.h5\n",
      "copying /allen/programs/braintv/workgroups/nc-ophys/Farzaneh/ICA_crossTalk/session_933439847/neuropil_out_935514360.h5\n",
      "copying /allen/programs/braintv/workgroups/nc-ophys/Farzaneh/ICA_crossTalk/session_933439847/neuropil_out_935514366.h5\n",
      "copying /allen/programs/braintv/workgroups/nc-ophys/Farzaneh/ICA_crossTalk/session_933439847/neuropil_out_935514364.h5\n",
      "copying /allen/programs/braintv/workgroups/nc-ophys/Farzaneh/ICA_crossTalk/session_933439847/neuropil_out_935514375.h5\n",
      "copying /allen/programs/braintv/workgroups/nc-ophys/Farzaneh/ICA_crossTalk/session_933439847/neuropil_out_935514378.h5\n",
      "\n",
      "\n",
      "Session 82/143: /allen/programs/braintv/workgroups/nc-ophys/Farzaneh/ICA_crossTalk/session_933604359/\n",
      "copying /allen/programs/braintv/workgroups/nc-ophys/Farzaneh/ICA_crossTalk/session_933604359/traces_out_934550027.h5\n",
      "copying /allen/programs/braintv/workgroups/nc-ophys/Farzaneh/ICA_crossTalk/session_933604359/traces_out_934550025.h5\n",
      "copying /allen/programs/braintv/workgroups/nc-ophys/Farzaneh/ICA_crossTalk/session_933604359/traces_out_934550021.h5\n",
      "copying /allen/programs/braintv/workgroups/nc-ophys/Farzaneh/ICA_crossTalk/session_933604359/traces_out_934550023.h5\n",
      "copying /allen/programs/braintv/workgroups/nc-ophys/Farzaneh/ICA_crossTalk/session_933604359/traces_out_934550031.h5\n",
      "copying /allen/programs/braintv/workgroups/nc-ophys/Farzaneh/ICA_crossTalk/session_933604359/traces_out_934550033.h5\n",
      "copying /allen/programs/braintv/workgroups/nc-ophys/Farzaneh/ICA_crossTalk/session_933604359/traces_out_934550017.h5\n",
      "copying /allen/programs/braintv/workgroups/nc-ophys/Farzaneh/ICA_crossTalk/session_933604359/traces_out_934550019.h5\n",
      "copying /allen/programs/braintv/workgroups/nc-ophys/Farzaneh/ICA_crossTalk/session_933604359/neuropil_out_934550027.h5\n",
      "copying /allen/programs/braintv/workgroups/nc-ophys/Farzaneh/ICA_crossTalk/session_933604359/neuropil_out_934550025.h5\n",
      "copying /allen/programs/braintv/workgroups/nc-ophys/Farzaneh/ICA_crossTalk/session_933604359/neuropil_out_934550017.h5\n",
      "copying /allen/programs/braintv/workgroups/nc-ophys/Farzaneh/ICA_crossTalk/session_933604359/neuropil_out_934550019.h5\n",
      "copying /allen/programs/braintv/workgroups/nc-ophys/Farzaneh/ICA_crossTalk/session_933604359/neuropil_out_934550021.h5\n",
      "copying /allen/programs/braintv/workgroups/nc-ophys/Farzaneh/ICA_crossTalk/session_933604359/neuropil_out_934550023.h5\n",
      "copying /allen/programs/braintv/workgroups/nc-ophys/Farzaneh/ICA_crossTalk/session_933604359/neuropil_out_934550031.h5\n",
      "copying /allen/programs/braintv/workgroups/nc-ophys/Farzaneh/ICA_crossTalk/session_933604359/neuropil_out_934550033.h5\n",
      "\n",
      "\n",
      "Session 83/143: /allen/programs/braintv/workgroups/nc-ophys/Farzaneh/ICA_crossTalk/session_935559843/\n",
      "copying /allen/programs/braintv/workgroups/nc-ophys/Farzaneh/ICA_crossTalk/session_935559843/traces_out_936500611.h5\n",
      "copying /allen/programs/braintv/workgroups/nc-ophys/Farzaneh/ICA_crossTalk/session_935559843/traces_out_936500606.h5\n",
      "copying /allen/programs/braintv/workgroups/nc-ophys/Farzaneh/ICA_crossTalk/session_935559843/traces_out_936500617.h5\n",
      "copying /allen/programs/braintv/workgroups/nc-ophys/Farzaneh/ICA_crossTalk/session_935559843/traces_out_936500623.h5\n",
      "copying /allen/programs/braintv/workgroups/nc-ophys/Farzaneh/ICA_crossTalk/session_935559843/traces_out_936500596.h5\n",
      "copying /allen/programs/braintv/workgroups/nc-ophys/Farzaneh/ICA_crossTalk/session_935559843/traces_out_936500602.h5\n",
      "copying /allen/programs/braintv/workgroups/nc-ophys/Farzaneh/ICA_crossTalk/session_935559843/traces_out_936500627.h5\n",
      "copying /allen/programs/braintv/workgroups/nc-ophys/Farzaneh/ICA_crossTalk/session_935559843/traces_out_936500631.h5\n",
      "copying /allen/programs/braintv/workgroups/nc-ophys/Farzaneh/ICA_crossTalk/session_935559843/neuropil_out_936500627.h5\n",
      "copying /allen/programs/braintv/workgroups/nc-ophys/Farzaneh/ICA_crossTalk/session_935559843/neuropil_out_936500631.h5\n",
      "copying /allen/programs/braintv/workgroups/nc-ophys/Farzaneh/ICA_crossTalk/session_935559843/neuropil_out_936500617.h5\n",
      "copying /allen/programs/braintv/workgroups/nc-ophys/Farzaneh/ICA_crossTalk/session_935559843/neuropil_out_936500623.h5\n",
      "copying /allen/programs/braintv/workgroups/nc-ophys/Farzaneh/ICA_crossTalk/session_935559843/neuropil_out_936500611.h5\n",
      "copying /allen/programs/braintv/workgroups/nc-ophys/Farzaneh/ICA_crossTalk/session_935559843/neuropil_out_936500606.h5\n",
      "copying /allen/programs/braintv/workgroups/nc-ophys/Farzaneh/ICA_crossTalk/session_935559843/neuropil_out_936500596.h5\n",
      "copying /allen/programs/braintv/workgroups/nc-ophys/Farzaneh/ICA_crossTalk/session_935559843/neuropil_out_936500602.h5\n",
      "\n",
      "\n",
      "Session 84/143: /allen/programs/braintv/workgroups/nc-ophys/Farzaneh/ICA_crossTalk/session_937162622/\n",
      "copying /allen/programs/braintv/workgroups/nc-ophys/Farzaneh/ICA_crossTalk/session_937162622/traces_out_938002077.h5\n",
      "copying /allen/programs/braintv/workgroups/nc-ophys/Farzaneh/ICA_crossTalk/session_937162622/traces_out_938002075.h5\n",
      "copying /allen/programs/braintv/workgroups/nc-ophys/Farzaneh/ICA_crossTalk/session_937162622/traces_out_938002081.h5\n",
      "copying /allen/programs/braintv/workgroups/nc-ophys/Farzaneh/ICA_crossTalk/session_937162622/traces_out_938002079.h5\n",
      "copying /allen/programs/braintv/workgroups/nc-ophys/Farzaneh/ICA_crossTalk/session_937162622/traces_out_938002071.h5\n",
      "copying /allen/programs/braintv/workgroups/nc-ophys/Farzaneh/ICA_crossTalk/session_937162622/traces_out_938002073.h5\n",
      "copying /allen/programs/braintv/workgroups/nc-ophys/Farzaneh/ICA_crossTalk/session_937162622/traces_out_938002088.h5\n",
      "copying /allen/programs/braintv/workgroups/nc-ophys/Farzaneh/ICA_crossTalk/session_937162622/traces_out_938002083.h5\n",
      "copying /allen/programs/braintv/workgroups/nc-ophys/Farzaneh/ICA_crossTalk/session_937162622/neuropil_out_938002077.h5\n",
      "copying /allen/programs/braintv/workgroups/nc-ophys/Farzaneh/ICA_crossTalk/session_937162622/neuropil_out_938002075.h5\n",
      "copying /allen/programs/braintv/workgroups/nc-ophys/Farzaneh/ICA_crossTalk/session_937162622/neuropil_out_938002088.h5\n",
      "copying /allen/programs/braintv/workgroups/nc-ophys/Farzaneh/ICA_crossTalk/session_937162622/neuropil_out_938002083.h5\n",
      "copying /allen/programs/braintv/workgroups/nc-ophys/Farzaneh/ICA_crossTalk/session_937162622/neuropil_out_938002071.h5\n",
      "copying /allen/programs/braintv/workgroups/nc-ophys/Farzaneh/ICA_crossTalk/session_937162622/neuropil_out_938002073.h5\n",
      "copying /allen/programs/braintv/workgroups/nc-ophys/Farzaneh/ICA_crossTalk/session_937162622/neuropil_out_938002081.h5\n",
      "copying /allen/programs/braintv/workgroups/nc-ophys/Farzaneh/ICA_crossTalk/session_937162622/neuropil_out_938002079.h5\n",
      "\n",
      "\n",
      "Session 85/143: /allen/programs/braintv/workgroups/nc-ophys/Farzaneh/ICA_crossTalk/session_937682841/\n",
      "copying /allen/programs/braintv/workgroups/nc-ophys/Farzaneh/ICA_crossTalk/session_937682841/traces_out_938002060.h5\n",
      "copying /allen/programs/braintv/workgroups/nc-ophys/Farzaneh/ICA_crossTalk/session_937682841/traces_out_938002058.h5\n",
      "copying /allen/programs/braintv/workgroups/nc-ophys/Farzaneh/ICA_crossTalk/session_937682841/traces_out_938002056.h5\n",
      "copying /allen/programs/braintv/workgroups/nc-ophys/Farzaneh/ICA_crossTalk/session_937682841/traces_out_938002053.h5\n",
      "copying /allen/programs/braintv/workgroups/nc-ophys/Farzaneh/ICA_crossTalk/session_937682841/traces_out_938002068.h5\n",
      "copying /allen/programs/braintv/workgroups/nc-ophys/Farzaneh/ICA_crossTalk/session_937682841/traces_out_938002066.h5\n",
      "copying /allen/programs/braintv/workgroups/nc-ophys/Farzaneh/ICA_crossTalk/session_937682841/traces_out_938002062.h5\n",
      "copying /allen/programs/braintv/workgroups/nc-ophys/Farzaneh/ICA_crossTalk/session_937682841/traces_out_938002064.h5\n",
      "copying /allen/programs/braintv/workgroups/nc-ophys/Farzaneh/ICA_crossTalk/session_937682841/neuropil_out_938002060.h5\n",
      "copying /allen/programs/braintv/workgroups/nc-ophys/Farzaneh/ICA_crossTalk/session_937682841/neuropil_out_938002058.h5\n",
      "copying /allen/programs/braintv/workgroups/nc-ophys/Farzaneh/ICA_crossTalk/session_937682841/neuropil_out_938002056.h5\n",
      "copying /allen/programs/braintv/workgroups/nc-ophys/Farzaneh/ICA_crossTalk/session_937682841/neuropil_out_938002053.h5\n",
      "copying /allen/programs/braintv/workgroups/nc-ophys/Farzaneh/ICA_crossTalk/session_937682841/neuropil_out_938002062.h5\n",
      "copying /allen/programs/braintv/workgroups/nc-ophys/Farzaneh/ICA_crossTalk/session_937682841/neuropil_out_938002064.h5\n",
      "copying /allen/programs/braintv/workgroups/nc-ophys/Farzaneh/ICA_crossTalk/session_937682841/neuropil_out_938002068.h5\n",
      "copying /allen/programs/braintv/workgroups/nc-ophys/Farzaneh/ICA_crossTalk/session_937682841/neuropil_out_938002066.h5\n",
      "\n",
      "\n",
      "Session 86/143: /allen/programs/braintv/workgroups/nc-ophys/Farzaneh/ICA_crossTalk/session_938140092/\n",
      "copying /allen/programs/braintv/workgroups/nc-ophys/Farzaneh/ICA_crossTalk/session_938140092/traces_out_939471274.h5\n",
      "copying /allen/programs/braintv/workgroups/nc-ophys/Farzaneh/ICA_crossTalk/session_938140092/traces_out_939471278.h5\n",
      "copying /allen/programs/braintv/workgroups/nc-ophys/Farzaneh/ICA_crossTalk/session_938140092/traces_out_939471282.h5\n",
      "copying /allen/programs/braintv/workgroups/nc-ophys/Farzaneh/ICA_crossTalk/session_938140092/traces_out_939471285.h5\n",
      "copying /allen/programs/braintv/workgroups/nc-ophys/Farzaneh/ICA_crossTalk/session_938140092/traces_out_939471269.h5\n",
      "copying /allen/programs/braintv/workgroups/nc-ophys/Farzaneh/ICA_crossTalk/session_938140092/traces_out_939471272.h5\n",
      "copying /allen/programs/braintv/workgroups/nc-ophys/Farzaneh/ICA_crossTalk/session_938140092/traces_out_939471298.h5\n",
      "copying /allen/programs/braintv/workgroups/nc-ophys/Farzaneh/ICA_crossTalk/session_938140092/traces_out_939471290.h5\n",
      "copying /allen/programs/braintv/workgroups/nc-ophys/Farzaneh/ICA_crossTalk/session_938140092/neuropil_out_939471282.h5\n",
      "copying /allen/programs/braintv/workgroups/nc-ophys/Farzaneh/ICA_crossTalk/session_938140092/neuropil_out_939471285.h5\n",
      "copying /allen/programs/braintv/workgroups/nc-ophys/Farzaneh/ICA_crossTalk/session_938140092/neuropil_out_939471298.h5\n",
      "copying /allen/programs/braintv/workgroups/nc-ophys/Farzaneh/ICA_crossTalk/session_938140092/neuropil_out_939471290.h5\n",
      "copying /allen/programs/braintv/workgroups/nc-ophys/Farzaneh/ICA_crossTalk/session_938140092/neuropil_out_939471269.h5\n",
      "copying /allen/programs/braintv/workgroups/nc-ophys/Farzaneh/ICA_crossTalk/session_938140092/neuropil_out_939471272.h5\n",
      "copying /allen/programs/braintv/workgroups/nc-ophys/Farzaneh/ICA_crossTalk/session_938140092/neuropil_out_939471274.h5\n",
      "copying /allen/programs/braintv/workgroups/nc-ophys/Farzaneh/ICA_crossTalk/session_938140092/neuropil_out_939471278.h5\n",
      "\n",
      "\n",
      "Session 87/143: /allen/programs/braintv/workgroups/nc-ophys/Farzaneh/ICA_crossTalk/session_938898514/\n",
      "copying /allen/programs/braintv/workgroups/nc-ophys/Farzaneh/ICA_crossTalk/session_938898514/traces_out_939471252.h5\n",
      "copying /allen/programs/braintv/workgroups/nc-ophys/Farzaneh/ICA_crossTalk/session_938898514/traces_out_939471250.h5\n",
      "copying /allen/programs/braintv/workgroups/nc-ophys/Farzaneh/ICA_crossTalk/session_938898514/traces_out_939471239.h5\n",
      "copying /allen/programs/braintv/workgroups/nc-ophys/Farzaneh/ICA_crossTalk/session_938898514/traces_out_939471241.h5\n",
      "copying /allen/programs/braintv/workgroups/nc-ophys/Farzaneh/ICA_crossTalk/session_938898514/traces_out_939471259.h5\n",
      "copying /allen/programs/braintv/workgroups/nc-ophys/Farzaneh/ICA_crossTalk/session_938898514/traces_out_939471256.h5\n",
      "copying /allen/programs/braintv/workgroups/nc-ophys/Farzaneh/ICA_crossTalk/session_938898514/traces_out_939471248.h5\n",
      "copying /allen/programs/braintv/workgroups/nc-ophys/Farzaneh/ICA_crossTalk/session_938898514/traces_out_939471245.h5\n",
      "copying /allen/programs/braintv/workgroups/nc-ophys/Farzaneh/ICA_crossTalk/session_938898514/neuropil_out_939471248.h5\n",
      "copying /allen/programs/braintv/workgroups/nc-ophys/Farzaneh/ICA_crossTalk/session_938898514/neuropil_out_939471245.h5\n",
      "copying /allen/programs/braintv/workgroups/nc-ophys/Farzaneh/ICA_crossTalk/session_938898514/neuropil_out_939471239.h5\n",
      "copying /allen/programs/braintv/workgroups/nc-ophys/Farzaneh/ICA_crossTalk/session_938898514/neuropil_out_939471241.h5\n",
      "copying /allen/programs/braintv/workgroups/nc-ophys/Farzaneh/ICA_crossTalk/session_938898514/neuropil_out_939471252.h5\n",
      "copying /allen/programs/braintv/workgroups/nc-ophys/Farzaneh/ICA_crossTalk/session_938898514/neuropil_out_939471250.h5\n",
      "copying /allen/programs/braintv/workgroups/nc-ophys/Farzaneh/ICA_crossTalk/session_938898514/neuropil_out_939471259.h5\n",
      "copying /allen/programs/braintv/workgroups/nc-ophys/Farzaneh/ICA_crossTalk/session_938898514/neuropil_out_939471256.h5\n",
      "\n",
      "\n",
      "Session 88/143: /allen/programs/braintv/workgroups/nc-ophys/Farzaneh/ICA_crossTalk/session_939526443/\n",
      "copying /allen/programs/braintv/workgroups/nc-ophys/Farzaneh/ICA_crossTalk/session_939526443/traces_out_940433472.h5\n",
      "copying /allen/programs/braintv/workgroups/nc-ophys/Farzaneh/ICA_crossTalk/session_939526443/traces_out_940433470.h5\n",
      "copying /allen/programs/braintv/workgroups/nc-ophys/Farzaneh/ICA_crossTalk/session_939526443/traces_out_940433478.h5\n",
      "copying /allen/programs/braintv/workgroups/nc-ophys/Farzaneh/ICA_crossTalk/session_939526443/traces_out_940433480.h5\n",
      "copying /allen/programs/braintv/workgroups/nc-ophys/Farzaneh/ICA_crossTalk/session_939526443/traces_out_940433468.h5\n",
      "copying /allen/programs/braintv/workgroups/nc-ophys/Farzaneh/ICA_crossTalk/session_939526443/traces_out_940433466.h5\n",
      "copying /allen/programs/braintv/workgroups/nc-ophys/Farzaneh/ICA_crossTalk/session_939526443/traces_out_940433476.h5\n",
      "copying /allen/programs/braintv/workgroups/nc-ophys/Farzaneh/ICA_crossTalk/session_939526443/traces_out_940433474.h5\n",
      "copying /allen/programs/braintv/workgroups/nc-ophys/Farzaneh/ICA_crossTalk/session_939526443/neuropil_out_940433472.h5\n",
      "copying /allen/programs/braintv/workgroups/nc-ophys/Farzaneh/ICA_crossTalk/session_939526443/neuropil_out_940433470.h5\n",
      "copying /allen/programs/braintv/workgroups/nc-ophys/Farzaneh/ICA_crossTalk/session_939526443/neuropil_out_940433478.h5\n",
      "copying /allen/programs/braintv/workgroups/nc-ophys/Farzaneh/ICA_crossTalk/session_939526443/neuropil_out_940433480.h5\n",
      "copying /allen/programs/braintv/workgroups/nc-ophys/Farzaneh/ICA_crossTalk/session_939526443/neuropil_out_940433468.h5\n",
      "copying /allen/programs/braintv/workgroups/nc-ophys/Farzaneh/ICA_crossTalk/session_939526443/neuropil_out_940433466.h5\n",
      "copying /allen/programs/braintv/workgroups/nc-ophys/Farzaneh/ICA_crossTalk/session_939526443/neuropil_out_940433476.h5\n",
      "copying /allen/programs/braintv/workgroups/nc-ophys/Farzaneh/ICA_crossTalk/session_939526443/neuropil_out_940433474.h5\n",
      "\n",
      "\n",
      "Session 89/143: /allen/programs/braintv/workgroups/nc-ophys/Farzaneh/ICA_crossTalk/session_940145217/\n",
      "copying /allen/programs/braintv/workgroups/nc-ophys/Farzaneh/ICA_crossTalk/session_940145217/traces_out_940433497.h5\n",
      "copying /allen/programs/braintv/workgroups/nc-ophys/Farzaneh/ICA_crossTalk/session_940145217/traces_out_940433499.h5\n",
      "copying /allen/programs/braintv/workgroups/nc-ophys/Farzaneh/ICA_crossTalk/session_940145217/traces_out_940433493.h5\n",
      "copying /allen/programs/braintv/workgroups/nc-ophys/Farzaneh/ICA_crossTalk/session_940145217/traces_out_940433495.h5\n",
      "copying /allen/programs/braintv/workgroups/nc-ophys/Farzaneh/ICA_crossTalk/session_940145217/traces_out_940433486.h5\n",
      "copying /allen/programs/braintv/workgroups/nc-ophys/Farzaneh/ICA_crossTalk/session_940145217/traces_out_940433483.h5\n",
      "copying /allen/programs/braintv/workgroups/nc-ophys/Farzaneh/ICA_crossTalk/session_940145217/traces_out_940433490.h5\n",
      "copying /allen/programs/braintv/workgroups/nc-ophys/Farzaneh/ICA_crossTalk/session_940145217/traces_out_940433488.h5\n",
      "copying /allen/programs/braintv/workgroups/nc-ophys/Farzaneh/ICA_crossTalk/session_940145217/neuropil_out_940433493.h5\n",
      "copying /allen/programs/braintv/workgroups/nc-ophys/Farzaneh/ICA_crossTalk/session_940145217/neuropil_out_940433495.h5\n",
      "copying /allen/programs/braintv/workgroups/nc-ophys/Farzaneh/ICA_crossTalk/session_940145217/neuropil_out_940433486.h5\n",
      "copying /allen/programs/braintv/workgroups/nc-ophys/Farzaneh/ICA_crossTalk/session_940145217/neuropil_out_940433483.h5\n",
      "copying /allen/programs/braintv/workgroups/nc-ophys/Farzaneh/ICA_crossTalk/session_940145217/neuropil_out_940433490.h5\n",
      "copying /allen/programs/braintv/workgroups/nc-ophys/Farzaneh/ICA_crossTalk/session_940145217/neuropil_out_940433488.h5\n",
      "copying /allen/programs/braintv/workgroups/nc-ophys/Farzaneh/ICA_crossTalk/session_940145217/neuropil_out_940433497.h5\n",
      "copying /allen/programs/braintv/workgroups/nc-ophys/Farzaneh/ICA_crossTalk/session_940145217/neuropil_out_940433499.h5\n",
      "\n",
      "\n",
      "Session 90/143: /allen/programs/braintv/workgroups/nc-ophys/Farzaneh/ICA_crossTalk/session_940775208/\n",
      "copying /allen/programs/braintv/workgroups/nc-ophys/Farzaneh/ICA_crossTalk/session_940775208/traces_out_944115825.h5\n",
      "copying /allen/programs/braintv/workgroups/nc-ophys/Farzaneh/ICA_crossTalk/session_940775208/traces_out_944115831.h5\n",
      "copying /allen/programs/braintv/workgroups/nc-ophys/Farzaneh/ICA_crossTalk/session_940775208/traces_out_944115814.h5\n",
      "copying /allen/programs/braintv/workgroups/nc-ophys/Farzaneh/ICA_crossTalk/session_940775208/traces_out_944115820.h5\n",
      "copying /allen/programs/braintv/workgroups/nc-ophys/Farzaneh/ICA_crossTalk/session_940775208/traces_out_944115799.h5\n",
      "copying /allen/programs/braintv/workgroups/nc-ophys/Farzaneh/ICA_crossTalk/session_940775208/traces_out_944115792.h5\n",
      "copying /allen/programs/braintv/workgroups/nc-ophys/Farzaneh/ICA_crossTalk/session_940775208/traces_out_944115804.h5\n",
      "copying /allen/programs/braintv/workgroups/nc-ophys/Farzaneh/ICA_crossTalk/session_940775208/traces_out_944115808.h5\n",
      "copying /allen/programs/braintv/workgroups/nc-ophys/Farzaneh/ICA_crossTalk/session_940775208/neuropil_out_944115825.h5\n",
      "copying /allen/programs/braintv/workgroups/nc-ophys/Farzaneh/ICA_crossTalk/session_940775208/neuropil_out_944115831.h5\n",
      "copying /allen/programs/braintv/workgroups/nc-ophys/Farzaneh/ICA_crossTalk/session_940775208/neuropil_out_944115804.h5\n",
      "copying /allen/programs/braintv/workgroups/nc-ophys/Farzaneh/ICA_crossTalk/session_940775208/neuropil_out_944115808.h5\n",
      "copying /allen/programs/braintv/workgroups/nc-ophys/Farzaneh/ICA_crossTalk/session_940775208/neuropil_out_944115814.h5\n",
      "copying /allen/programs/braintv/workgroups/nc-ophys/Farzaneh/ICA_crossTalk/session_940775208/neuropil_out_944115820.h5\n",
      "copying /allen/programs/braintv/workgroups/nc-ophys/Farzaneh/ICA_crossTalk/session_940775208/neuropil_out_944115799.h5\n",
      "copying /allen/programs/braintv/workgroups/nc-ophys/Farzaneh/ICA_crossTalk/session_940775208/neuropil_out_944115792.h5\n",
      "\n",
      "\n",
      "Session 91/143: /allen/programs/braintv/workgroups/nc-ophys/Farzaneh/ICA_crossTalk/session_941676716/\n",
      "copying /allen/programs/braintv/workgroups/nc-ophys/Farzaneh/ICA_crossTalk/session_941676716/traces_out_942596353.h5\n",
      "copying /allen/programs/braintv/workgroups/nc-ophys/Farzaneh/ICA_crossTalk/session_941676716/traces_out_942596355.h5\n",
      "copying /allen/programs/braintv/workgroups/nc-ophys/Farzaneh/ICA_crossTalk/session_941676716/traces_out_942596357.h5\n",
      "copying /allen/programs/braintv/workgroups/nc-ophys/Farzaneh/ICA_crossTalk/session_941676716/traces_out_942596359.h5\n",
      "copying /allen/programs/braintv/workgroups/nc-ophys/Farzaneh/ICA_crossTalk/session_941676716/traces_out_942596363.h5\n",
      "copying /allen/programs/braintv/workgroups/nc-ophys/Farzaneh/ICA_crossTalk/session_941676716/traces_out_942596361.h5\n",
      "copying /allen/programs/braintv/workgroups/nc-ophys/Farzaneh/ICA_crossTalk/session_941676716/traces_out_942596351.h5\n",
      "copying /allen/programs/braintv/workgroups/nc-ophys/Farzaneh/ICA_crossTalk/session_941676716/traces_out_942596349.h5\n",
      "copying /allen/programs/braintv/workgroups/nc-ophys/Farzaneh/ICA_crossTalk/session_941676716/neuropil_out_942596357.h5\n",
      "copying /allen/programs/braintv/workgroups/nc-ophys/Farzaneh/ICA_crossTalk/session_941676716/neuropil_out_942596359.h5\n",
      "copying /allen/programs/braintv/workgroups/nc-ophys/Farzaneh/ICA_crossTalk/session_941676716/neuropil_out_942596353.h5\n",
      "copying /allen/programs/braintv/workgroups/nc-ophys/Farzaneh/ICA_crossTalk/session_941676716/neuropil_out_942596355.h5\n",
      "copying /allen/programs/braintv/workgroups/nc-ophys/Farzaneh/ICA_crossTalk/session_941676716/neuropil_out_942596351.h5\n",
      "copying /allen/programs/braintv/workgroups/nc-ophys/Farzaneh/ICA_crossTalk/session_941676716/neuropil_out_942596349.h5\n",
      "copying /allen/programs/braintv/workgroups/nc-ophys/Farzaneh/ICA_crossTalk/session_941676716/neuropil_out_942596363.h5\n",
      "copying /allen/programs/braintv/workgroups/nc-ophys/Farzaneh/ICA_crossTalk/session_941676716/neuropil_out_942596361.h5\n",
      "\n",
      "\n",
      "Session 92/143: /allen/programs/braintv/workgroups/nc-ophys/Farzaneh/ICA_crossTalk/session_944888114/\n",
      "copying /allen/programs/braintv/workgroups/nc-ophys/Farzaneh/ICA_crossTalk/session_944888114/traces_out_945586431.h5\n",
      "copying /allen/programs/braintv/workgroups/nc-ophys/Farzaneh/ICA_crossTalk/session_944888114/traces_out_945586429.h5\n",
      "copying /allen/programs/braintv/workgroups/nc-ophys/Farzaneh/ICA_crossTalk/session_944888114/traces_out_945586438.h5\n",
      "copying /allen/programs/braintv/workgroups/nc-ophys/Farzaneh/ICA_crossTalk/session_944888114/traces_out_945586440.h5\n",
      "copying /allen/programs/braintv/workgroups/nc-ophys/Farzaneh/ICA_crossTalk/session_944888114/traces_out_945586427.h5\n",
      "copying /allen/programs/braintv/workgroups/nc-ophys/Farzaneh/ICA_crossTalk/session_944888114/traces_out_945586425.h5\n",
      "copying /allen/programs/braintv/workgroups/nc-ophys/Farzaneh/ICA_crossTalk/session_944888114/traces_out_945586433.h5\n",
      "copying /allen/programs/braintv/workgroups/nc-ophys/Farzaneh/ICA_crossTalk/session_944888114/traces_out_945586435.h5\n",
      "copying /allen/programs/braintv/workgroups/nc-ophys/Farzaneh/ICA_crossTalk/session_944888114/neuropil_out_945586433.h5\n",
      "copying /allen/programs/braintv/workgroups/nc-ophys/Farzaneh/ICA_crossTalk/session_944888114/neuropil_out_945586435.h5\n",
      "copying /allen/programs/braintv/workgroups/nc-ophys/Farzaneh/ICA_crossTalk/session_944888114/neuropil_out_945586431.h5\n",
      "copying /allen/programs/braintv/workgroups/nc-ophys/Farzaneh/ICA_crossTalk/session_944888114/neuropil_out_945586429.h5\n",
      "copying /allen/programs/braintv/workgroups/nc-ophys/Farzaneh/ICA_crossTalk/session_944888114/neuropil_out_945586427.h5\n",
      "copying /allen/programs/braintv/workgroups/nc-ophys/Farzaneh/ICA_crossTalk/session_944888114/neuropil_out_945586425.h5\n",
      "copying /allen/programs/braintv/workgroups/nc-ophys/Farzaneh/ICA_crossTalk/session_944888114/neuropil_out_945586438.h5\n",
      "copying /allen/programs/braintv/workgroups/nc-ophys/Farzaneh/ICA_crossTalk/session_944888114/neuropil_out_945586440.h5\n",
      "\n",
      "\n",
      "Session 93/143: /allen/programs/braintv/workgroups/nc-ophys/Farzaneh/ICA_crossTalk/session_946015345/\n",
      "copying /allen/programs/braintv/workgroups/nc-ophys/Farzaneh/ICA_crossTalk/session_946015345/traces_out_946513780.h5\n",
      "copying /allen/programs/braintv/workgroups/nc-ophys/Farzaneh/ICA_crossTalk/session_946015345/traces_out_946513782.h5\n",
      "copying /allen/programs/braintv/workgroups/nc-ophys/Farzaneh/ICA_crossTalk/session_946015345/traces_out_946513788.h5\n",
      "copying /allen/programs/braintv/workgroups/nc-ophys/Farzaneh/ICA_crossTalk/session_946015345/traces_out_946513790.h5\n",
      "copying /allen/programs/braintv/workgroups/nc-ophys/Farzaneh/ICA_crossTalk/session_946015345/traces_out_946513786.h5\n",
      "copying /allen/programs/braintv/workgroups/nc-ophys/Farzaneh/ICA_crossTalk/session_946015345/traces_out_946513784.h5\n",
      "copying /allen/programs/braintv/workgroups/nc-ophys/Farzaneh/ICA_crossTalk/session_946015345/traces_out_946513776.h5\n",
      "copying /allen/programs/braintv/workgroups/nc-ophys/Farzaneh/ICA_crossTalk/session_946015345/traces_out_946513778.h5\n",
      "copying /allen/programs/braintv/workgroups/nc-ophys/Farzaneh/ICA_crossTalk/session_946015345/neuropil_out_946513776.h5\n",
      "copying /allen/programs/braintv/workgroups/nc-ophys/Farzaneh/ICA_crossTalk/session_946015345/neuropil_out_946513778.h5\n",
      "copying /allen/programs/braintv/workgroups/nc-ophys/Farzaneh/ICA_crossTalk/session_946015345/neuropil_out_946513786.h5\n",
      "copying /allen/programs/braintv/workgroups/nc-ophys/Farzaneh/ICA_crossTalk/session_946015345/neuropil_out_946513784.h5\n",
      "copying /allen/programs/braintv/workgroups/nc-ophys/Farzaneh/ICA_crossTalk/session_946015345/neuropil_out_946513788.h5\n",
      "copying /allen/programs/braintv/workgroups/nc-ophys/Farzaneh/ICA_crossTalk/session_946015345/neuropil_out_946513790.h5\n",
      "copying /allen/programs/braintv/workgroups/nc-ophys/Farzaneh/ICA_crossTalk/session_946015345/neuropil_out_946513780.h5\n",
      "copying /allen/programs/braintv/workgroups/nc-ophys/Farzaneh/ICA_crossTalk/session_946015345/neuropil_out_946513782.h5\n",
      "\n",
      "\n",
      "Session 94/143: /allen/programs/braintv/workgroups/nc-ophys/Farzaneh/ICA_crossTalk/session_947199653/\n",
      "copying /allen/programs/braintv/workgroups/nc-ophys/Farzaneh/ICA_crossTalk/session_947199653/traces_out_947798781.h5\n",
      "copying /allen/programs/braintv/workgroups/nc-ophys/Farzaneh/ICA_crossTalk/session_947199653/traces_out_947798779.h5\n",
      "copying /allen/programs/braintv/workgroups/nc-ophys/Farzaneh/ICA_crossTalk/session_947199653/traces_out_947798785.h5\n",
      "copying /allen/programs/braintv/workgroups/nc-ophys/Farzaneh/ICA_crossTalk/session_947199653/traces_out_947798783.h5\n",
      "copying /allen/programs/braintv/workgroups/nc-ophys/Farzaneh/ICA_crossTalk/session_947199653/traces_out_947798775.h5\n",
      "copying /allen/programs/braintv/workgroups/nc-ophys/Farzaneh/ICA_crossTalk/session_947199653/traces_out_947798777.h5\n",
      "copying /allen/programs/braintv/workgroups/nc-ophys/Farzaneh/ICA_crossTalk/session_947199653/traces_out_947798773.h5\n",
      "copying /allen/programs/braintv/workgroups/nc-ophys/Farzaneh/ICA_crossTalk/session_947199653/traces_out_947798771.h5\n",
      "copying /allen/programs/braintv/workgroups/nc-ophys/Farzaneh/ICA_crossTalk/session_947199653/neuropil_out_947798775.h5\n",
      "copying /allen/programs/braintv/workgroups/nc-ophys/Farzaneh/ICA_crossTalk/session_947199653/neuropil_out_947798777.h5\n",
      "copying /allen/programs/braintv/workgroups/nc-ophys/Farzaneh/ICA_crossTalk/session_947199653/neuropil_out_947798781.h5\n",
      "copying /allen/programs/braintv/workgroups/nc-ophys/Farzaneh/ICA_crossTalk/session_947199653/neuropil_out_947798779.h5\n",
      "copying /allen/programs/braintv/workgroups/nc-ophys/Farzaneh/ICA_crossTalk/session_947199653/neuropil_out_947798773.h5\n",
      "copying /allen/programs/braintv/workgroups/nc-ophys/Farzaneh/ICA_crossTalk/session_947199653/neuropil_out_947798771.h5\n",
      "copying /allen/programs/braintv/workgroups/nc-ophys/Farzaneh/ICA_crossTalk/session_947199653/neuropil_out_947798785.h5\n",
      "copying /allen/programs/braintv/workgroups/nc-ophys/Farzaneh/ICA_crossTalk/session_947199653/neuropil_out_947798783.h5\n",
      "\n",
      "\n",
      "Session 95/143: /allen/programs/braintv/workgroups/nc-ophys/Farzaneh/ICA_crossTalk/session_947358663/\n",
      "copying /allen/programs/braintv/workgroups/nc-ophys/Farzaneh/ICA_crossTalk/session_947358663/traces_out_947797705.h5\n",
      "copying /allen/programs/braintv/workgroups/nc-ophys/Farzaneh/ICA_crossTalk/session_947358663/traces_out_947797707.h5\n",
      "copying /allen/programs/braintv/workgroups/nc-ophys/Farzaneh/ICA_crossTalk/session_947358663/traces_out_947797696.h5\n",
      "copying /allen/programs/braintv/workgroups/nc-ophys/Farzaneh/ICA_crossTalk/session_947358663/traces_out_947797699.h5\n",
      "copying /allen/programs/braintv/workgroups/nc-ophys/Farzaneh/ICA_crossTalk/session_947358663/traces_out_947797692.h5\n",
      "copying /allen/programs/braintv/workgroups/nc-ophys/Farzaneh/ICA_crossTalk/session_947358663/traces_out_947797694.h5\n",
      "copying /allen/programs/braintv/workgroups/nc-ophys/Farzaneh/ICA_crossTalk/session_947358663/traces_out_947797703.h5\n",
      "copying /allen/programs/braintv/workgroups/nc-ophys/Farzaneh/ICA_crossTalk/session_947358663/traces_out_947797701.h5\n",
      "copying /allen/programs/braintv/workgroups/nc-ophys/Farzaneh/ICA_crossTalk/session_947358663/neuropil_out_947797703.h5\n",
      "copying /allen/programs/braintv/workgroups/nc-ophys/Farzaneh/ICA_crossTalk/session_947358663/neuropil_out_947797701.h5\n",
      "copying /allen/programs/braintv/workgroups/nc-ophys/Farzaneh/ICA_crossTalk/session_947358663/neuropil_out_947797692.h5\n",
      "copying /allen/programs/braintv/workgroups/nc-ophys/Farzaneh/ICA_crossTalk/session_947358663/neuropil_out_947797694.h5\n",
      "copying /allen/programs/braintv/workgroups/nc-ophys/Farzaneh/ICA_crossTalk/session_947358663/neuropil_out_947797696.h5\n",
      "copying /allen/programs/braintv/workgroups/nc-ophys/Farzaneh/ICA_crossTalk/session_947358663/neuropil_out_947797699.h5\n",
      "copying /allen/programs/braintv/workgroups/nc-ophys/Farzaneh/ICA_crossTalk/session_947358663/neuropil_out_947797705.h5\n",
      "copying /allen/programs/braintv/workgroups/nc-ophys/Farzaneh/ICA_crossTalk/session_947358663/neuropil_out_947797707.h5\n",
      "\n",
      "\n",
      "Session 96/143: /allen/programs/braintv/workgroups/nc-ophys/Farzaneh/ICA_crossTalk/session_948042811/\n",
      "copying /allen/programs/braintv/workgroups/nc-ophys/Farzaneh/ICA_crossTalk/session_948042811/traces_out_948689207.h5\n",
      "copying /allen/programs/braintv/workgroups/nc-ophys/Farzaneh/ICA_crossTalk/session_948042811/traces_out_948689205.h5\n",
      "copying /allen/programs/braintv/workgroups/nc-ophys/Farzaneh/ICA_crossTalk/session_948042811/traces_out_948689198.h5\n",
      "copying /allen/programs/braintv/workgroups/nc-ophys/Farzaneh/ICA_crossTalk/session_948042811/traces_out_948689196.h5\n",
      "copying /allen/programs/braintv/workgroups/nc-ophys/Farzaneh/ICA_crossTalk/session_948042811/traces_out_948689203.h5\n",
      "copying /allen/programs/braintv/workgroups/nc-ophys/Farzaneh/ICA_crossTalk/session_948042811/traces_out_948689200.h5\n",
      "copying /allen/programs/braintv/workgroups/nc-ophys/Farzaneh/ICA_crossTalk/session_948042811/traces_out_948689194.h5\n",
      "copying /allen/programs/braintv/workgroups/nc-ophys/Farzaneh/ICA_crossTalk/session_948042811/traces_out_948689192.h5\n",
      "copying /allen/programs/braintv/workgroups/nc-ophys/Farzaneh/ICA_crossTalk/session_948042811/neuropil_out_948689203.h5\n",
      "copying /allen/programs/braintv/workgroups/nc-ophys/Farzaneh/ICA_crossTalk/session_948042811/neuropil_out_948689200.h5\n",
      "copying /allen/programs/braintv/workgroups/nc-ophys/Farzaneh/ICA_crossTalk/session_948042811/neuropil_out_948689207.h5\n",
      "copying /allen/programs/braintv/workgroups/nc-ophys/Farzaneh/ICA_crossTalk/session_948042811/neuropil_out_948689205.h5\n",
      "copying /allen/programs/braintv/workgroups/nc-ophys/Farzaneh/ICA_crossTalk/session_948042811/neuropil_out_948689198.h5\n",
      "copying /allen/programs/braintv/workgroups/nc-ophys/Farzaneh/ICA_crossTalk/session_948042811/neuropil_out_948689196.h5\n",
      "copying /allen/programs/braintv/workgroups/nc-ophys/Farzaneh/ICA_crossTalk/session_948042811/neuropil_out_948689194.h5\n",
      "copying /allen/programs/braintv/workgroups/nc-ophys/Farzaneh/ICA_crossTalk/session_948042811/neuropil_out_948689192.h5\n",
      "\n",
      "\n",
      "Session 97/143: /allen/programs/braintv/workgroups/nc-ophys/Farzaneh/ICA_crossTalk/session_948252173/\n",
      "copying /allen/programs/braintv/workgroups/nc-ophys/Farzaneh/ICA_crossTalk/session_948252173/traces_out_948704866.h5\n",
      "copying /allen/programs/braintv/workgroups/nc-ophys/Farzaneh/ICA_crossTalk/session_948252173/traces_out_948704864.h5\n",
      "copying /allen/programs/braintv/workgroups/nc-ophys/Farzaneh/ICA_crossTalk/session_948252173/traces_out_948704858.h5\n",
      "copying /allen/programs/braintv/workgroups/nc-ophys/Farzaneh/ICA_crossTalk/session_948252173/traces_out_948704856.h5\n",
      "copying /allen/programs/braintv/workgroups/nc-ophys/Farzaneh/ICA_crossTalk/session_948252173/traces_out_948704870.h5\n",
      "copying /allen/programs/braintv/workgroups/nc-ophys/Farzaneh/ICA_crossTalk/session_948252173/traces_out_948704868.h5\n",
      "copying /allen/programs/braintv/workgroups/nc-ophys/Farzaneh/ICA_crossTalk/session_948252173/traces_out_948704862.h5\n",
      "copying /allen/programs/braintv/workgroups/nc-ophys/Farzaneh/ICA_crossTalk/session_948252173/traces_out_948704860.h5\n",
      "copying /allen/programs/braintv/workgroups/nc-ophys/Farzaneh/ICA_crossTalk/session_948252173/neuropil_out_948704866.h5\n",
      "copying /allen/programs/braintv/workgroups/nc-ophys/Farzaneh/ICA_crossTalk/session_948252173/neuropil_out_948704864.h5\n",
      "copying /allen/programs/braintv/workgroups/nc-ophys/Farzaneh/ICA_crossTalk/session_948252173/neuropil_out_948704870.h5\n",
      "copying /allen/programs/braintv/workgroups/nc-ophys/Farzaneh/ICA_crossTalk/session_948252173/neuropil_out_948704868.h5\n",
      "copying /allen/programs/braintv/workgroups/nc-ophys/Farzaneh/ICA_crossTalk/session_948252173/neuropil_out_948704858.h5\n",
      "copying /allen/programs/braintv/workgroups/nc-ophys/Farzaneh/ICA_crossTalk/session_948252173/neuropil_out_948704856.h5\n",
      "copying /allen/programs/braintv/workgroups/nc-ophys/Farzaneh/ICA_crossTalk/session_948252173/neuropil_out_948704862.h5\n",
      "copying /allen/programs/braintv/workgroups/nc-ophys/Farzaneh/ICA_crossTalk/session_948252173/neuropil_out_948704860.h5\n",
      "\n",
      "\n",
      "Session 98/143: /allen/programs/braintv/workgroups/nc-ophys/Farzaneh/ICA_crossTalk/session_949217880/\n",
      "copying /allen/programs/braintv/workgroups/nc-ophys/Farzaneh/ICA_crossTalk/session_949217880/traces_out_949723717.h5\n",
      "copying /allen/programs/braintv/workgroups/nc-ophys/Farzaneh/ICA_crossTalk/session_949217880/traces_out_949723719.h5\n",
      "copying /allen/programs/braintv/workgroups/nc-ophys/Farzaneh/ICA_crossTalk/session_949217880/traces_out_949723723.h5\n",
      "copying /allen/programs/braintv/workgroups/nc-ophys/Farzaneh/ICA_crossTalk/session_949217880/traces_out_949723721.h5\n",
      "copying /allen/programs/braintv/workgroups/nc-ophys/Farzaneh/ICA_crossTalk/session_949217880/traces_out_949723713.h5\n",
      "copying /allen/programs/braintv/workgroups/nc-ophys/Farzaneh/ICA_crossTalk/session_949217880/traces_out_949723715.h5\n",
      "copying /allen/programs/braintv/workgroups/nc-ophys/Farzaneh/ICA_crossTalk/session_949217880/traces_out_949723711.h5\n",
      "copying /allen/programs/braintv/workgroups/nc-ophys/Farzaneh/ICA_crossTalk/session_949217880/traces_out_949723709.h5\n",
      "copying /allen/programs/braintv/workgroups/nc-ophys/Farzaneh/ICA_crossTalk/session_949217880/neuropil_out_949723717.h5\n",
      "copying /allen/programs/braintv/workgroups/nc-ophys/Farzaneh/ICA_crossTalk/session_949217880/neuropil_out_949723719.h5\n",
      "copying /allen/programs/braintv/workgroups/nc-ophys/Farzaneh/ICA_crossTalk/session_949217880/neuropil_out_949723713.h5\n",
      "copying /allen/programs/braintv/workgroups/nc-ophys/Farzaneh/ICA_crossTalk/session_949217880/neuropil_out_949723715.h5\n",
      "copying /allen/programs/braintv/workgroups/nc-ophys/Farzaneh/ICA_crossTalk/session_949217880/neuropil_out_949723711.h5\n",
      "copying /allen/programs/braintv/workgroups/nc-ophys/Farzaneh/ICA_crossTalk/session_949217880/neuropil_out_949723709.h5\n",
      "copying /allen/programs/braintv/workgroups/nc-ophys/Farzaneh/ICA_crossTalk/session_949217880/neuropil_out_949723723.h5\n",
      "copying /allen/programs/braintv/workgroups/nc-ophys/Farzaneh/ICA_crossTalk/session_949217880/neuropil_out_949723721.h5\n",
      "\n",
      "\n",
      "Session 99/143: /allen/programs/braintv/workgroups/nc-ophys/Farzaneh/ICA_crossTalk/session_950031363/\n",
      "copying /allen/programs/braintv/workgroups/nc-ophys/Farzaneh/ICA_crossTalk/session_950031363/traces_out_951213215.h5\n",
      "copying /allen/programs/braintv/workgroups/nc-ophys/Farzaneh/ICA_crossTalk/session_950031363/traces_out_951213217.h5\n",
      "copying /allen/programs/braintv/workgroups/nc-ophys/Farzaneh/ICA_crossTalk/session_950031363/traces_out_951213213.h5\n",
      "copying /allen/programs/braintv/workgroups/nc-ophys/Farzaneh/ICA_crossTalk/session_950031363/traces_out_951213211.h5\n",
      "copying /allen/programs/braintv/workgroups/nc-ophys/Farzaneh/ICA_crossTalk/session_950031363/traces_out_951213205.h5\n",
      "copying /allen/programs/braintv/workgroups/nc-ophys/Farzaneh/ICA_crossTalk/session_950031363/traces_out_951213203.h5\n",
      "copying /allen/programs/braintv/workgroups/nc-ophys/Farzaneh/ICA_crossTalk/session_950031363/traces_out_951213207.h5\n",
      "copying /allen/programs/braintv/workgroups/nc-ophys/Farzaneh/ICA_crossTalk/session_950031363/traces_out_951213209.h5\n",
      "copying /allen/programs/braintv/workgroups/nc-ophys/Farzaneh/ICA_crossTalk/session_950031363/neuropil_out_951213213.h5\n",
      "copying /allen/programs/braintv/workgroups/nc-ophys/Farzaneh/ICA_crossTalk/session_950031363/neuropil_out_951213211.h5\n",
      "copying /allen/programs/braintv/workgroups/nc-ophys/Farzaneh/ICA_crossTalk/session_950031363/neuropil_out_951213215.h5\n",
      "copying /allen/programs/braintv/workgroups/nc-ophys/Farzaneh/ICA_crossTalk/session_950031363/neuropil_out_951213217.h5\n",
      "copying /allen/programs/braintv/workgroups/nc-ophys/Farzaneh/ICA_crossTalk/session_950031363/neuropil_out_951213205.h5\n",
      "copying /allen/programs/braintv/workgroups/nc-ophys/Farzaneh/ICA_crossTalk/session_950031363/neuropil_out_951213203.h5\n",
      "copying /allen/programs/braintv/workgroups/nc-ophys/Farzaneh/ICA_crossTalk/session_950031363/neuropil_out_951213207.h5\n",
      "copying /allen/programs/braintv/workgroups/nc-ophys/Farzaneh/ICA_crossTalk/session_950031363/neuropil_out_951213209.h5\n",
      "\n",
      "\n",
      "Session 100/143: /allen/programs/braintv/workgroups/nc-ophys/Farzaneh/ICA_crossTalk/session_951410079/\n",
      "copying /allen/programs/braintv/workgroups/nc-ophys/Farzaneh/ICA_crossTalk/session_951410079/traces_out_951980475.h5\n",
      "copying /allen/programs/braintv/workgroups/nc-ophys/Farzaneh/ICA_crossTalk/session_951410079/traces_out_951980477.h5\n",
      "copying /allen/programs/braintv/workgroups/nc-ophys/Farzaneh/ICA_crossTalk/session_951410079/traces_out_951980473.h5\n",
      "copying /allen/programs/braintv/workgroups/nc-ophys/Farzaneh/ICA_crossTalk/session_951410079/traces_out_951980471.h5\n",
      "copying /allen/programs/braintv/workgroups/nc-ophys/Farzaneh/ICA_crossTalk/session_951410079/traces_out_951980481.h5\n",
      "copying /allen/programs/braintv/workgroups/nc-ophys/Farzaneh/ICA_crossTalk/session_951410079/traces_out_951980479.h5\n",
      "copying /allen/programs/braintv/workgroups/nc-ophys/Farzaneh/ICA_crossTalk/session_951410079/traces_out_951980484.h5\n",
      "copying /allen/programs/braintv/workgroups/nc-ophys/Farzaneh/ICA_crossTalk/session_951410079/traces_out_951980486.h5\n",
      "copying /allen/programs/braintv/workgroups/nc-ophys/Farzaneh/ICA_crossTalk/session_951410079/neuropil_out_951980475.h5\n",
      "copying /allen/programs/braintv/workgroups/nc-ophys/Farzaneh/ICA_crossTalk/session_951410079/neuropil_out_951980477.h5\n",
      "copying /allen/programs/braintv/workgroups/nc-ophys/Farzaneh/ICA_crossTalk/session_951410079/neuropil_out_951980484.h5\n",
      "copying /allen/programs/braintv/workgroups/nc-ophys/Farzaneh/ICA_crossTalk/session_951410079/neuropil_out_951980486.h5\n",
      "copying /allen/programs/braintv/workgroups/nc-ophys/Farzaneh/ICA_crossTalk/session_951410079/neuropil_out_951980473.h5\n",
      "copying /allen/programs/braintv/workgroups/nc-ophys/Farzaneh/ICA_crossTalk/session_951410079/neuropil_out_951980471.h5\n",
      "copying /allen/programs/braintv/workgroups/nc-ophys/Farzaneh/ICA_crossTalk/session_951410079/neuropil_out_951980481.h5\n",
      "copying /allen/programs/braintv/workgroups/nc-ophys/Farzaneh/ICA_crossTalk/session_951410079/neuropil_out_951980479.h5\n",
      "\n",
      "\n",
      "Session 101/143: /allen/programs/braintv/workgroups/nc-ophys/Farzaneh/ICA_crossTalk/session_952430817/\n",
      "copying /allen/programs/braintv/workgroups/nc-ophys/Farzaneh/ICA_crossTalk/session_952430817/traces_out_953659743.h5\n",
      "copying /allen/programs/braintv/workgroups/nc-ophys/Farzaneh/ICA_crossTalk/session_952430817/traces_out_953659741.h5\n",
      "copying /allen/programs/braintv/workgroups/nc-ophys/Farzaneh/ICA_crossTalk/session_952430817/traces_out_953659752.h5\n",
      "copying /allen/programs/braintv/workgroups/nc-ophys/Farzaneh/ICA_crossTalk/session_952430817/traces_out_953659749.h5\n",
      "copying /allen/programs/braintv/workgroups/nc-ophys/Farzaneh/ICA_crossTalk/session_952430817/traces_out_953659756.h5\n",
      "copying /allen/programs/braintv/workgroups/nc-ophys/Farzaneh/ICA_crossTalk/session_952430817/traces_out_953659754.h5\n",
      "copying /allen/programs/braintv/workgroups/nc-ophys/Farzaneh/ICA_crossTalk/session_952430817/traces_out_953659745.h5\n",
      "copying /allen/programs/braintv/workgroups/nc-ophys/Farzaneh/ICA_crossTalk/session_952430817/traces_out_953659747.h5\n",
      "copying /allen/programs/braintv/workgroups/nc-ophys/Farzaneh/ICA_crossTalk/session_952430817/neuropil_out_953659752.h5\n",
      "copying /allen/programs/braintv/workgroups/nc-ophys/Farzaneh/ICA_crossTalk/session_952430817/neuropil_out_953659749.h5\n",
      "copying /allen/programs/braintv/workgroups/nc-ophys/Farzaneh/ICA_crossTalk/session_952430817/neuropil_out_953659756.h5\n",
      "copying /allen/programs/braintv/workgroups/nc-ophys/Farzaneh/ICA_crossTalk/session_952430817/neuropil_out_953659754.h5\n",
      "copying /allen/programs/braintv/workgroups/nc-ophys/Farzaneh/ICA_crossTalk/session_952430817/neuropil_out_953659743.h5\n",
      "copying /allen/programs/braintv/workgroups/nc-ophys/Farzaneh/ICA_crossTalk/session_952430817/neuropil_out_953659741.h5\n",
      "copying /allen/programs/braintv/workgroups/nc-ophys/Farzaneh/ICA_crossTalk/session_952430817/neuropil_out_953659745.h5\n",
      "copying /allen/programs/braintv/workgroups/nc-ophys/Farzaneh/ICA_crossTalk/session_952430817/neuropil_out_953659747.h5\n",
      "\n",
      "\n",
      "Session 102/143: /allen/programs/braintv/workgroups/nc-ophys/Farzaneh/ICA_crossTalk/session_954954402/\n",
      "copying /allen/programs/braintv/workgroups/nc-ophys/Farzaneh/ICA_crossTalk/session_954954402/traces_out_958527488.h5\n",
      "copying /allen/programs/braintv/workgroups/nc-ophys/Farzaneh/ICA_crossTalk/session_954954402/traces_out_958527485.h5\n",
      "copying /allen/programs/braintv/workgroups/nc-ophys/Farzaneh/ICA_crossTalk/session_954954402/traces_out_958527474.h5\n",
      "copying /allen/programs/braintv/workgroups/nc-ophys/Farzaneh/ICA_crossTalk/session_954954402/traces_out_958527477.h5\n",
      "copying /allen/programs/braintv/workgroups/nc-ophys/Farzaneh/ICA_crossTalk/session_954954402/traces_out_958527479.h5\n",
      "copying /allen/programs/braintv/workgroups/nc-ophys/Farzaneh/ICA_crossTalk/session_954954402/traces_out_958527481.h5\n",
      "copying /allen/programs/braintv/workgroups/nc-ophys/Farzaneh/ICA_crossTalk/session_954954402/traces_out_958527464.h5\n",
      "copying /allen/programs/braintv/workgroups/nc-ophys/Farzaneh/ICA_crossTalk/session_954954402/traces_out_958527471.h5\n",
      "copying /allen/programs/braintv/workgroups/nc-ophys/Farzaneh/ICA_crossTalk/session_954954402/neuropil_out_958527479.h5\n",
      "copying /allen/programs/braintv/workgroups/nc-ophys/Farzaneh/ICA_crossTalk/session_954954402/neuropil_out_958527481.h5\n",
      "copying /allen/programs/braintv/workgroups/nc-ophys/Farzaneh/ICA_crossTalk/session_954954402/neuropil_out_958527464.h5\n",
      "copying /allen/programs/braintv/workgroups/nc-ophys/Farzaneh/ICA_crossTalk/session_954954402/neuropil_out_958527471.h5\n",
      "copying /allen/programs/braintv/workgroups/nc-ophys/Farzaneh/ICA_crossTalk/session_954954402/neuropil_out_958527474.h5\n",
      "copying /allen/programs/braintv/workgroups/nc-ophys/Farzaneh/ICA_crossTalk/session_954954402/neuropil_out_958527477.h5\n",
      "copying /allen/programs/braintv/workgroups/nc-ophys/Farzaneh/ICA_crossTalk/session_954954402/neuropil_out_958527488.h5\n",
      "copying /allen/programs/braintv/workgroups/nc-ophys/Farzaneh/ICA_crossTalk/session_954954402/neuropil_out_958527485.h5\n",
      "\n",
      "\n",
      "Session 103/143: /allen/programs/braintv/workgroups/nc-ophys/Farzaneh/ICA_crossTalk/session_955775716/\n",
      "copying /allen/programs/braintv/workgroups/nc-ophys/Farzaneh/ICA_crossTalk/session_955775716/traces_out_956941841.h5\n",
      "copying /allen/programs/braintv/workgroups/nc-ophys/Farzaneh/ICA_crossTalk/session_955775716/traces_out_956941844.h5\n",
      "copying /allen/programs/braintv/workgroups/nc-ophys/Farzaneh/ICA_crossTalk/session_955775716/traces_out_956941853.h5\n",
      "copying /allen/programs/braintv/workgroups/nc-ophys/Farzaneh/ICA_crossTalk/session_955775716/traces_out_956941851.h5\n",
      "copying /allen/programs/braintv/workgroups/nc-ophys/Farzaneh/ICA_crossTalk/session_955775716/traces_out_956941858.h5\n",
      "copying /allen/programs/braintv/workgroups/nc-ophys/Farzaneh/ICA_crossTalk/session_955775716/traces_out_956941856.h5\n",
      "copying /allen/programs/braintv/workgroups/nc-ophys/Farzaneh/ICA_crossTalk/session_955775716/traces_out_956941846.h5\n",
      "copying /allen/programs/braintv/workgroups/nc-ophys/Farzaneh/ICA_crossTalk/session_955775716/traces_out_956941848.h5\n",
      "copying /allen/programs/braintv/workgroups/nc-ophys/Farzaneh/ICA_crossTalk/session_955775716/neuropil_out_956941846.h5\n",
      "copying /allen/programs/braintv/workgroups/nc-ophys/Farzaneh/ICA_crossTalk/session_955775716/neuropil_out_956941848.h5\n",
      "copying /allen/programs/braintv/workgroups/nc-ophys/Farzaneh/ICA_crossTalk/session_955775716/neuropil_out_956941858.h5\n",
      "copying /allen/programs/braintv/workgroups/nc-ophys/Farzaneh/ICA_crossTalk/session_955775716/neuropil_out_956941856.h5\n",
      "copying /allen/programs/braintv/workgroups/nc-ophys/Farzaneh/ICA_crossTalk/session_955775716/neuropil_out_956941853.h5\n",
      "copying /allen/programs/braintv/workgroups/nc-ophys/Farzaneh/ICA_crossTalk/session_955775716/neuropil_out_956941851.h5\n",
      "copying /allen/programs/braintv/workgroups/nc-ophys/Farzaneh/ICA_crossTalk/session_955775716/neuropil_out_956941841.h5\n",
      "copying /allen/programs/braintv/workgroups/nc-ophys/Farzaneh/ICA_crossTalk/session_955775716/neuropil_out_956941844.h5\n",
      "\n",
      "\n",
      "Session 104/143: /allen/programs/braintv/workgroups/nc-ophys/Farzaneh/ICA_crossTalk/session_957020350/\n",
      "copying /allen/programs/braintv/workgroups/nc-ophys/Farzaneh/ICA_crossTalk/session_957020350/traces_out_957759574.h5\n",
      "copying /allen/programs/braintv/workgroups/nc-ophys/Farzaneh/ICA_crossTalk/session_957020350/traces_out_957759576.h5\n",
      "copying /allen/programs/braintv/workgroups/nc-ophys/Farzaneh/ICA_crossTalk/session_957020350/traces_out_957759568.h5\n",
      "copying /allen/programs/braintv/workgroups/nc-ophys/Farzaneh/ICA_crossTalk/session_957020350/traces_out_957759566.h5\n",
      "copying /allen/programs/braintv/workgroups/nc-ophys/Farzaneh/ICA_crossTalk/session_957020350/traces_out_957759572.h5\n",
      "copying /allen/programs/braintv/workgroups/nc-ophys/Farzaneh/ICA_crossTalk/session_957020350/traces_out_957759570.h5\n",
      "copying /allen/programs/braintv/workgroups/nc-ophys/Farzaneh/ICA_crossTalk/session_957020350/traces_out_957759564.h5\n",
      "copying /allen/programs/braintv/workgroups/nc-ophys/Farzaneh/ICA_crossTalk/session_957020350/traces_out_957759562.h5\n",
      "copying /allen/programs/braintv/workgroups/nc-ophys/Farzaneh/ICA_crossTalk/session_957020350/neuropil_out_957759564.h5\n",
      "copying /allen/programs/braintv/workgroups/nc-ophys/Farzaneh/ICA_crossTalk/session_957020350/neuropil_out_957759562.h5\n",
      "copying /allen/programs/braintv/workgroups/nc-ophys/Farzaneh/ICA_crossTalk/session_957020350/neuropil_out_957759568.h5\n",
      "copying /allen/programs/braintv/workgroups/nc-ophys/Farzaneh/ICA_crossTalk/session_957020350/neuropil_out_957759566.h5\n",
      "copying /allen/programs/braintv/workgroups/nc-ophys/Farzaneh/ICA_crossTalk/session_957020350/neuropil_out_957759574.h5\n",
      "copying /allen/programs/braintv/workgroups/nc-ophys/Farzaneh/ICA_crossTalk/session_957020350/neuropil_out_957759576.h5\n",
      "copying /allen/programs/braintv/workgroups/nc-ophys/Farzaneh/ICA_crossTalk/session_957020350/neuropil_out_957759572.h5\n",
      "copying /allen/programs/braintv/workgroups/nc-ophys/Farzaneh/ICA_crossTalk/session_957020350/neuropil_out_957759570.h5\n",
      "\n",
      "\n",
      "Session 105/143: /allen/programs/braintv/workgroups/nc-ophys/Farzaneh/ICA_crossTalk/session_958105827/\n",
      "copying /allen/programs/braintv/workgroups/nc-ophys/Farzaneh/ICA_crossTalk/session_958105827/traces_out_958741222.h5\n",
      "copying /allen/programs/braintv/workgroups/nc-ophys/Farzaneh/ICA_crossTalk/session_958105827/traces_out_958741219.h5\n",
      "copying /allen/programs/braintv/workgroups/nc-ophys/Farzaneh/ICA_crossTalk/session_958105827/traces_out_958741224.h5\n",
      "copying /allen/programs/braintv/workgroups/nc-ophys/Farzaneh/ICA_crossTalk/session_958105827/traces_out_958741226.h5\n",
      "copying /allen/programs/braintv/workgroups/nc-ophys/Farzaneh/ICA_crossTalk/session_958105827/traces_out_958741228.h5\n",
      "copying /allen/programs/braintv/workgroups/nc-ophys/Farzaneh/ICA_crossTalk/session_958105827/traces_out_958741230.h5\n",
      "copying /allen/programs/braintv/workgroups/nc-ophys/Farzaneh/ICA_crossTalk/session_958105827/traces_out_958741232.h5\n",
      "copying /allen/programs/braintv/workgroups/nc-ophys/Farzaneh/ICA_crossTalk/session_958105827/traces_out_958741234.h5\n",
      "copying /allen/programs/braintv/workgroups/nc-ophys/Farzaneh/ICA_crossTalk/session_958105827/neuropil_out_958741222.h5\n",
      "copying /allen/programs/braintv/workgroups/nc-ophys/Farzaneh/ICA_crossTalk/session_958105827/neuropil_out_958741219.h5\n",
      "copying /allen/programs/braintv/workgroups/nc-ophys/Farzaneh/ICA_crossTalk/session_958105827/neuropil_out_958741224.h5\n",
      "copying /allen/programs/braintv/workgroups/nc-ophys/Farzaneh/ICA_crossTalk/session_958105827/neuropil_out_958741226.h5\n",
      "copying /allen/programs/braintv/workgroups/nc-ophys/Farzaneh/ICA_crossTalk/session_958105827/neuropil_out_958741232.h5\n",
      "copying /allen/programs/braintv/workgroups/nc-ophys/Farzaneh/ICA_crossTalk/session_958105827/neuropil_out_958741234.h5\n",
      "copying /allen/programs/braintv/workgroups/nc-ophys/Farzaneh/ICA_crossTalk/session_958105827/neuropil_out_958741228.h5\n",
      "copying /allen/programs/braintv/workgroups/nc-ophys/Farzaneh/ICA_crossTalk/session_958105827/neuropil_out_958741230.h5\n",
      "\n",
      "\n",
      "Session 106/143: /allen/programs/braintv/workgroups/nc-ophys/Farzaneh/ICA_crossTalk/session_958772311/\n",
      "copying /allen/programs/braintv/workgroups/nc-ophys/Farzaneh/ICA_crossTalk/session_958772311/traces_out_959388800.h5\n",
      "copying /allen/programs/braintv/workgroups/nc-ophys/Farzaneh/ICA_crossTalk/session_958772311/traces_out_959388802.h5\n",
      "copying /allen/programs/braintv/workgroups/nc-ophys/Farzaneh/ICA_crossTalk/session_958772311/traces_out_959388790.h5\n",
      "copying /allen/programs/braintv/workgroups/nc-ophys/Farzaneh/ICA_crossTalk/session_958772311/traces_out_959388788.h5\n",
      "copying /allen/programs/braintv/workgroups/nc-ophys/Farzaneh/ICA_crossTalk/session_958772311/traces_out_959388796.h5\n",
      "copying /allen/programs/braintv/workgroups/nc-ophys/Farzaneh/ICA_crossTalk/session_958772311/traces_out_959388798.h5\n",
      "copying /allen/programs/braintv/workgroups/nc-ophys/Farzaneh/ICA_crossTalk/session_958772311/traces_out_959388792.h5\n",
      "copying /allen/programs/braintv/workgroups/nc-ophys/Farzaneh/ICA_crossTalk/session_958772311/traces_out_959388794.h5\n",
      "copying /allen/programs/braintv/workgroups/nc-ophys/Farzaneh/ICA_crossTalk/session_958772311/neuropil_out_959388800.h5\n",
      "copying /allen/programs/braintv/workgroups/nc-ophys/Farzaneh/ICA_crossTalk/session_958772311/neuropil_out_959388802.h5\n",
      "copying /allen/programs/braintv/workgroups/nc-ophys/Farzaneh/ICA_crossTalk/session_958772311/neuropil_out_959388790.h5\n",
      "copying /allen/programs/braintv/workgroups/nc-ophys/Farzaneh/ICA_crossTalk/session_958772311/neuropil_out_959388788.h5\n",
      "copying /allen/programs/braintv/workgroups/nc-ophys/Farzaneh/ICA_crossTalk/session_958772311/neuropil_out_959388796.h5\n",
      "copying /allen/programs/braintv/workgroups/nc-ophys/Farzaneh/ICA_crossTalk/session_958772311/neuropil_out_959388798.h5\n",
      "copying /allen/programs/braintv/workgroups/nc-ophys/Farzaneh/ICA_crossTalk/session_958772311/neuropil_out_959388792.h5\n",
      "copying /allen/programs/braintv/workgroups/nc-ophys/Farzaneh/ICA_crossTalk/session_958772311/neuropil_out_959388794.h5\n",
      "\n",
      "\n",
      "Session 107/143: /allen/programs/braintv/workgroups/nc-ophys/Farzaneh/ICA_crossTalk/session_959458018/\n",
      "copying /allen/programs/braintv/workgroups/nc-ophys/Farzaneh/ICA_crossTalk/session_959458018/traces_out_960410042.h5\n",
      "copying /allen/programs/braintv/workgroups/nc-ophys/Farzaneh/ICA_crossTalk/session_959458018/traces_out_960410040.h5\n",
      "copying /allen/programs/braintv/workgroups/nc-ophys/Farzaneh/ICA_crossTalk/session_959458018/traces_out_960410035.h5\n",
      "copying /allen/programs/braintv/workgroups/nc-ophys/Farzaneh/ICA_crossTalk/session_959458018/traces_out_960410038.h5\n",
      "copying /allen/programs/braintv/workgroups/nc-ophys/Farzaneh/ICA_crossTalk/session_959458018/traces_out_960410032.h5\n",
      "copying /allen/programs/braintv/workgroups/nc-ophys/Farzaneh/ICA_crossTalk/session_959458018/traces_out_960410028.h5\n",
      "copying /allen/programs/braintv/workgroups/nc-ophys/Farzaneh/ICA_crossTalk/session_959458018/traces_out_960410023.h5\n",
      "copying /allen/programs/braintv/workgroups/nc-ophys/Farzaneh/ICA_crossTalk/session_959458018/traces_out_960410026.h5\n",
      "copying /allen/programs/braintv/workgroups/nc-ophys/Farzaneh/ICA_crossTalk/session_959458018/neuropil_out_960410032.h5\n",
      "copying /allen/programs/braintv/workgroups/nc-ophys/Farzaneh/ICA_crossTalk/session_959458018/neuropil_out_960410028.h5\n",
      "copying /allen/programs/braintv/workgroups/nc-ophys/Farzaneh/ICA_crossTalk/session_959458018/neuropil_out_960410042.h5\n",
      "copying /allen/programs/braintv/workgroups/nc-ophys/Farzaneh/ICA_crossTalk/session_959458018/neuropil_out_960410040.h5\n",
      "copying /allen/programs/braintv/workgroups/nc-ophys/Farzaneh/ICA_crossTalk/session_959458018/neuropil_out_960410023.h5\n",
      "copying /allen/programs/braintv/workgroups/nc-ophys/Farzaneh/ICA_crossTalk/session_959458018/neuropil_out_960410026.h5\n",
      "copying /allen/programs/braintv/workgroups/nc-ophys/Farzaneh/ICA_crossTalk/session_959458018/neuropil_out_960410035.h5\n",
      "copying /allen/programs/braintv/workgroups/nc-ophys/Farzaneh/ICA_crossTalk/session_959458018/neuropil_out_960410038.h5\n",
      "\n",
      "\n",
      "Session 108/143: /allen/programs/braintv/workgroups/nc-ophys/Farzaneh/ICA_crossTalk/session_971632311/\n",
      "copying /allen/programs/braintv/workgroups/nc-ophys/Farzaneh/ICA_crossTalk/session_971632311/traces_out_971813767.h5\n",
      "copying /allen/programs/braintv/workgroups/nc-ophys/Farzaneh/ICA_crossTalk/session_971632311/traces_out_971813769.h5\n",
      "copying /allen/programs/braintv/workgroups/nc-ophys/Farzaneh/ICA_crossTalk/session_971632311/traces_out_971813765.h5\n",
      "copying /allen/programs/braintv/workgroups/nc-ophys/Farzaneh/ICA_crossTalk/session_971632311/traces_out_971813762.h5\n",
      "copying /allen/programs/braintv/workgroups/nc-ophys/Farzaneh/ICA_crossTalk/session_971632311/traces_out_971813760.h5\n",
      "copying /allen/programs/braintv/workgroups/nc-ophys/Farzaneh/ICA_crossTalk/session_971632311/traces_out_971813758.h5\n",
      "copying /allen/programs/braintv/workgroups/nc-ophys/Farzaneh/ICA_crossTalk/session_971632311/traces_out_971813754.h5\n",
      "copying /allen/programs/braintv/workgroups/nc-ophys/Farzaneh/ICA_crossTalk/session_971632311/traces_out_971813756.h5\n",
      "copying /allen/programs/braintv/workgroups/nc-ophys/Farzaneh/ICA_crossTalk/session_971632311/neuropil_out_971813760.h5\n",
      "copying /allen/programs/braintv/workgroups/nc-ophys/Farzaneh/ICA_crossTalk/session_971632311/neuropil_out_971813758.h5\n",
      "copying /allen/programs/braintv/workgroups/nc-ophys/Farzaneh/ICA_crossTalk/session_971632311/neuropil_out_971813754.h5\n",
      "copying /allen/programs/braintv/workgroups/nc-ophys/Farzaneh/ICA_crossTalk/session_971632311/neuropil_out_971813756.h5\n",
      "copying /allen/programs/braintv/workgroups/nc-ophys/Farzaneh/ICA_crossTalk/session_971632311/neuropil_out_971813765.h5\n",
      "copying /allen/programs/braintv/workgroups/nc-ophys/Farzaneh/ICA_crossTalk/session_971632311/neuropil_out_971813762.h5\n",
      "copying /allen/programs/braintv/workgroups/nc-ophys/Farzaneh/ICA_crossTalk/session_971632311/neuropil_out_971813767.h5\n",
      "copying /allen/programs/braintv/workgroups/nc-ophys/Farzaneh/ICA_crossTalk/session_971632311/neuropil_out_971813769.h5\n",
      "\n",
      "\n",
      "Session 109/143: /allen/programs/braintv/workgroups/nc-ophys/Farzaneh/ICA_crossTalk/session_971922380/\n",
      "copying /allen/programs/braintv/workgroups/nc-ophys/Farzaneh/ICA_crossTalk/session_971922380/traces_out_972233189.h5\n",
      "copying /allen/programs/braintv/workgroups/nc-ophys/Farzaneh/ICA_crossTalk/session_971922380/traces_out_972233187.h5\n",
      "copying /allen/programs/braintv/workgroups/nc-ophys/Farzaneh/ICA_crossTalk/session_971922380/traces_out_972233195.h5\n",
      "copying /allen/programs/braintv/workgroups/nc-ophys/Farzaneh/ICA_crossTalk/session_971922380/traces_out_972233193.h5\n",
      "copying /allen/programs/braintv/workgroups/nc-ophys/Farzaneh/ICA_crossTalk/session_971922380/traces_out_972233175.h5\n",
      "copying /allen/programs/braintv/workgroups/nc-ophys/Farzaneh/ICA_crossTalk/session_971922380/traces_out_972233173.h5\n",
      "copying /allen/programs/braintv/workgroups/nc-ophys/Farzaneh/ICA_crossTalk/session_971922380/traces_out_972233181.h5\n",
      "copying /allen/programs/braintv/workgroups/nc-ophys/Farzaneh/ICA_crossTalk/session_971922380/traces_out_972233183.h5\n",
      "copying /allen/programs/braintv/workgroups/nc-ophys/Farzaneh/ICA_crossTalk/session_971922380/neuropil_out_972233181.h5\n",
      "copying /allen/programs/braintv/workgroups/nc-ophys/Farzaneh/ICA_crossTalk/session_971922380/neuropil_out_972233183.h5\n",
      "copying /allen/programs/braintv/workgroups/nc-ophys/Farzaneh/ICA_crossTalk/session_971922380/neuropil_out_972233189.h5\n",
      "copying /allen/programs/braintv/workgroups/nc-ophys/Farzaneh/ICA_crossTalk/session_971922380/neuropil_out_972233187.h5\n",
      "copying /allen/programs/braintv/workgroups/nc-ophys/Farzaneh/ICA_crossTalk/session_971922380/neuropil_out_972233175.h5\n",
      "copying /allen/programs/braintv/workgroups/nc-ophys/Farzaneh/ICA_crossTalk/session_971922380/neuropil_out_972233173.h5\n",
      "copying /allen/programs/braintv/workgroups/nc-ophys/Farzaneh/ICA_crossTalk/session_971922380/neuropil_out_972233195.h5\n",
      "copying /allen/programs/braintv/workgroups/nc-ophys/Farzaneh/ICA_crossTalk/session_971922380/neuropil_out_972233193.h5\n",
      "\n",
      "\n",
      "Session 110/143: /allen/programs/braintv/workgroups/nc-ophys/Farzaneh/ICA_crossTalk/session_973384292/\n",
      "copying /allen/programs/braintv/workgroups/nc-ophys/Farzaneh/ICA_crossTalk/session_973384292/traces_out_974433401.h5\n",
      "copying /allen/programs/braintv/workgroups/nc-ophys/Farzaneh/ICA_crossTalk/session_973384292/traces_out_974433399.h5\n",
      "copying /allen/programs/braintv/workgroups/nc-ophys/Farzaneh/ICA_crossTalk/session_973384292/traces_out_974433395.h5\n",
      "copying /allen/programs/braintv/workgroups/nc-ophys/Farzaneh/ICA_crossTalk/session_973384292/traces_out_974433397.h5\n",
      "copying /allen/programs/braintv/workgroups/nc-ophys/Farzaneh/ICA_crossTalk/session_973384292/traces_out_974433386.h5\n",
      "copying /allen/programs/braintv/workgroups/nc-ophys/Farzaneh/ICA_crossTalk/session_973384292/traces_out_974433388.h5\n",
      "copying /allen/programs/braintv/workgroups/nc-ophys/Farzaneh/ICA_crossTalk/session_973384292/traces_out_974433390.h5\n",
      "copying /allen/programs/braintv/workgroups/nc-ophys/Farzaneh/ICA_crossTalk/session_973384292/traces_out_974433392.h5\n",
      "copying /allen/programs/braintv/workgroups/nc-ophys/Farzaneh/ICA_crossTalk/session_973384292/neuropil_out_974433395.h5\n",
      "copying /allen/programs/braintv/workgroups/nc-ophys/Farzaneh/ICA_crossTalk/session_973384292/neuropil_out_974433397.h5\n",
      "copying /allen/programs/braintv/workgroups/nc-ophys/Farzaneh/ICA_crossTalk/session_973384292/neuropil_out_974433390.h5\n",
      "copying /allen/programs/braintv/workgroups/nc-ophys/Farzaneh/ICA_crossTalk/session_973384292/neuropil_out_974433392.h5\n",
      "copying /allen/programs/braintv/workgroups/nc-ophys/Farzaneh/ICA_crossTalk/session_973384292/neuropil_out_974433401.h5\n",
      "copying /allen/programs/braintv/workgroups/nc-ophys/Farzaneh/ICA_crossTalk/session_973384292/neuropil_out_974433399.h5\n",
      "copying /allen/programs/braintv/workgroups/nc-ophys/Farzaneh/ICA_crossTalk/session_973384292/neuropil_out_974433386.h5\n",
      "copying /allen/programs/braintv/workgroups/nc-ophys/Farzaneh/ICA_crossTalk/session_973384292/neuropil_out_974433388.h5\n",
      "\n",
      "\n",
      "Session 111/143: /allen/programs/braintv/workgroups/nc-ophys/Farzaneh/ICA_crossTalk/session_973701907/\n",
      "copying /allen/programs/braintv/workgroups/nc-ophys/Farzaneh/ICA_crossTalk/session_973701907/traces_out_974358977.h5\n",
      "copying /allen/programs/braintv/workgroups/nc-ophys/Farzaneh/ICA_crossTalk/session_973701907/traces_out_974358975.h5\n",
      "copying /allen/programs/braintv/workgroups/nc-ophys/Farzaneh/ICA_crossTalk/session_973701907/traces_out_974358967.h5\n",
      "copying /allen/programs/braintv/workgroups/nc-ophys/Farzaneh/ICA_crossTalk/session_973701907/traces_out_974358969.h5\n",
      "copying /allen/programs/braintv/workgroups/nc-ophys/Farzaneh/ICA_crossTalk/session_973701907/traces_out_974358973.h5\n",
      "copying /allen/programs/braintv/workgroups/nc-ophys/Farzaneh/ICA_crossTalk/session_973701907/traces_out_974358971.h5\n",
      "copying /allen/programs/braintv/workgroups/nc-ophys/Farzaneh/ICA_crossTalk/session_973701907/traces_out_974358979.h5\n",
      "copying /allen/programs/braintv/workgroups/nc-ophys/Farzaneh/ICA_crossTalk/session_973701907/traces_out_974358981.h5\n",
      "copying /allen/programs/braintv/workgroups/nc-ophys/Farzaneh/ICA_crossTalk/session_973701907/neuropil_out_974358967.h5\n",
      "copying /allen/programs/braintv/workgroups/nc-ophys/Farzaneh/ICA_crossTalk/session_973701907/neuropil_out_974358969.h5\n",
      "copying /allen/programs/braintv/workgroups/nc-ophys/Farzaneh/ICA_crossTalk/session_973701907/neuropil_out_974358977.h5\n",
      "copying /allen/programs/braintv/workgroups/nc-ophys/Farzaneh/ICA_crossTalk/session_973701907/neuropil_out_974358975.h5\n",
      "copying /allen/programs/braintv/workgroups/nc-ophys/Farzaneh/ICA_crossTalk/session_973701907/neuropil_out_974358973.h5\n",
      "copying /allen/programs/braintv/workgroups/nc-ophys/Farzaneh/ICA_crossTalk/session_973701907/neuropil_out_974358971.h5\n",
      "copying /allen/programs/braintv/workgroups/nc-ophys/Farzaneh/ICA_crossTalk/session_973701907/neuropil_out_974358979.h5\n",
      "copying /allen/programs/braintv/workgroups/nc-ophys/Farzaneh/ICA_crossTalk/session_973701907/neuropil_out_974358981.h5\n",
      "\n",
      "\n",
      "Session 112/143: /allen/programs/braintv/workgroups/nc-ophys/Farzaneh/ICA_crossTalk/session_974167263/\n",
      "copying /allen/programs/braintv/workgroups/nc-ophys/Farzaneh/ICA_crossTalk/session_974167263/traces_out_974362762.h5\n",
      "copying /allen/programs/braintv/workgroups/nc-ophys/Farzaneh/ICA_crossTalk/session_974167263/traces_out_974362760.h5\n",
      "copying /allen/programs/braintv/workgroups/nc-ophys/Farzaneh/ICA_crossTalk/session_974167263/traces_out_974362753.h5\n",
      "copying /allen/programs/braintv/workgroups/nc-ophys/Farzaneh/ICA_crossTalk/session_974167263/traces_out_974362751.h5\n",
      "copying /allen/programs/braintv/workgroups/nc-ophys/Farzaneh/ICA_crossTalk/session_974167263/traces_out_974362767.h5\n",
      "copying /allen/programs/braintv/workgroups/nc-ophys/Farzaneh/ICA_crossTalk/session_974167263/traces_out_974362764.h5\n",
      "copying /allen/programs/braintv/workgroups/nc-ophys/Farzaneh/ICA_crossTalk/session_974167263/traces_out_974362758.h5\n",
      "copying /allen/programs/braintv/workgroups/nc-ophys/Farzaneh/ICA_crossTalk/session_974167263/traces_out_974362756.h5\n",
      "copying /allen/programs/braintv/workgroups/nc-ophys/Farzaneh/ICA_crossTalk/session_974167263/neuropil_out_974362758.h5\n",
      "copying /allen/programs/braintv/workgroups/nc-ophys/Farzaneh/ICA_crossTalk/session_974167263/neuropil_out_974362756.h5\n",
      "copying /allen/programs/braintv/workgroups/nc-ophys/Farzaneh/ICA_crossTalk/session_974167263/neuropil_out_974362767.h5\n",
      "copying /allen/programs/braintv/workgroups/nc-ophys/Farzaneh/ICA_crossTalk/session_974167263/neuropil_out_974362764.h5\n",
      "copying /allen/programs/braintv/workgroups/nc-ophys/Farzaneh/ICA_crossTalk/session_974167263/neuropil_out_974362753.h5\n",
      "copying /allen/programs/braintv/workgroups/nc-ophys/Farzaneh/ICA_crossTalk/session_974167263/neuropil_out_974362751.h5\n",
      "copying /allen/programs/braintv/workgroups/nc-ophys/Farzaneh/ICA_crossTalk/session_974167263/neuropil_out_974362762.h5\n",
      "copying /allen/programs/braintv/workgroups/nc-ophys/Farzaneh/ICA_crossTalk/session_974167263/neuropil_out_974362760.h5\n",
      "\n",
      "\n",
      "Session 113/143: /allen/programs/braintv/workgroups/nc-ophys/Farzaneh/ICA_crossTalk/session_974486549/\n",
      "copying /allen/programs/braintv/workgroups/nc-ophys/Farzaneh/ICA_crossTalk/session_974486549/traces_out_974994107.h5\n",
      "copying /allen/programs/braintv/workgroups/nc-ophys/Farzaneh/ICA_crossTalk/session_974486549/traces_out_974994109.h5\n",
      "copying /allen/programs/braintv/workgroups/nc-ophys/Farzaneh/ICA_crossTalk/session_974486549/traces_out_974994097.h5\n",
      "copying /allen/programs/braintv/workgroups/nc-ophys/Farzaneh/ICA_crossTalk/session_974486549/traces_out_974994099.h5\n",
      "copying /allen/programs/braintv/workgroups/nc-ophys/Farzaneh/ICA_crossTalk/session_974486549/traces_out_974994105.h5\n",
      "copying /allen/programs/braintv/workgroups/nc-ophys/Farzaneh/ICA_crossTalk/session_974486549/traces_out_974994101.h5\n",
      "copying /allen/programs/braintv/workgroups/nc-ophys/Farzaneh/ICA_crossTalk/session_974486549/traces_out_974994095.h5\n",
      "copying /allen/programs/braintv/workgroups/nc-ophys/Farzaneh/ICA_crossTalk/session_974486549/traces_out_974994093.h5\n",
      "copying /allen/programs/braintv/workgroups/nc-ophys/Farzaneh/ICA_crossTalk/session_974486549/neuropil_out_974994105.h5\n",
      "copying /allen/programs/braintv/workgroups/nc-ophys/Farzaneh/ICA_crossTalk/session_974486549/neuropil_out_974994101.h5\n",
      "copying /allen/programs/braintv/workgroups/nc-ophys/Farzaneh/ICA_crossTalk/session_974486549/neuropil_out_974994107.h5\n",
      "copying /allen/programs/braintv/workgroups/nc-ophys/Farzaneh/ICA_crossTalk/session_974486549/neuropil_out_974994109.h5\n",
      "copying /allen/programs/braintv/workgroups/nc-ophys/Farzaneh/ICA_crossTalk/session_974486549/neuropil_out_974994097.h5\n",
      "copying /allen/programs/braintv/workgroups/nc-ophys/Farzaneh/ICA_crossTalk/session_974486549/neuropil_out_974994099.h5\n",
      "copying /allen/programs/braintv/workgroups/nc-ophys/Farzaneh/ICA_crossTalk/session_974486549/neuropil_out_974994095.h5\n",
      "copying /allen/programs/braintv/workgroups/nc-ophys/Farzaneh/ICA_crossTalk/session_974486549/neuropil_out_974994093.h5\n",
      "\n",
      "\n",
      "Session 114/143: /allen/programs/braintv/workgroups/nc-ophys/Farzaneh/ICA_crossTalk/session_975452945/\n",
      "copying /allen/programs/braintv/workgroups/nc-ophys/Farzaneh/ICA_crossTalk/session_975452945/traces_out_975608400.h5\n",
      "copying /allen/programs/braintv/workgroups/nc-ophys/Farzaneh/ICA_crossTalk/session_975452945/traces_out_975608402.h5\n",
      "copying /allen/programs/braintv/workgroups/nc-ophys/Farzaneh/ICA_crossTalk/session_975452945/traces_out_975608392.h5\n",
      "copying /allen/programs/braintv/workgroups/nc-ophys/Farzaneh/ICA_crossTalk/session_975452945/traces_out_975608394.h5\n",
      "copying /allen/programs/braintv/workgroups/nc-ophys/Farzaneh/ICA_crossTalk/session_975452945/traces_out_975608396.h5\n",
      "copying /allen/programs/braintv/workgroups/nc-ophys/Farzaneh/ICA_crossTalk/session_975452945/traces_out_975608398.h5\n",
      "copying /allen/programs/braintv/workgroups/nc-ophys/Farzaneh/ICA_crossTalk/session_975452945/traces_out_975608388.h5\n",
      "copying /allen/programs/braintv/workgroups/nc-ophys/Farzaneh/ICA_crossTalk/session_975452945/traces_out_975608390.h5\n",
      "copying /allen/programs/braintv/workgroups/nc-ophys/Farzaneh/ICA_crossTalk/session_975452945/neuropil_out_975608388.h5\n",
      "copying /allen/programs/braintv/workgroups/nc-ophys/Farzaneh/ICA_crossTalk/session_975452945/neuropil_out_975608390.h5\n",
      "copying /allen/programs/braintv/workgroups/nc-ophys/Farzaneh/ICA_crossTalk/session_975452945/neuropil_out_975608392.h5\n",
      "copying /allen/programs/braintv/workgroups/nc-ophys/Farzaneh/ICA_crossTalk/session_975452945/neuropil_out_975608394.h5\n",
      "copying /allen/programs/braintv/workgroups/nc-ophys/Farzaneh/ICA_crossTalk/session_975452945/neuropil_out_975608396.h5\n",
      "copying /allen/programs/braintv/workgroups/nc-ophys/Farzaneh/ICA_crossTalk/session_975452945/neuropil_out_975608398.h5\n",
      "copying /allen/programs/braintv/workgroups/nc-ophys/Farzaneh/ICA_crossTalk/session_975452945/neuropil_out_975608400.h5\n",
      "copying /allen/programs/braintv/workgroups/nc-ophys/Farzaneh/ICA_crossTalk/session_975452945/neuropil_out_975608402.h5\n",
      "\n",
      "\n",
      "Session 115/143: /allen/programs/braintv/workgroups/nc-ophys/Farzaneh/ICA_crossTalk/session_976167513/\n",
      "copying /allen/programs/braintv/workgroups/nc-ophys/Farzaneh/ICA_crossTalk/session_976167513/traces_out_976300293.h5\n",
      "copying /allen/programs/braintv/workgroups/nc-ophys/Farzaneh/ICA_crossTalk/session_976167513/traces_out_976300295.h5\n",
      "copying /allen/programs/braintv/workgroups/nc-ophys/Farzaneh/ICA_crossTalk/session_976167513/traces_out_976300297.h5\n",
      "copying /allen/programs/braintv/workgroups/nc-ophys/Farzaneh/ICA_crossTalk/session_976167513/traces_out_976300299.h5\n",
      "copying /allen/programs/braintv/workgroups/nc-ophys/Farzaneh/ICA_crossTalk/session_976167513/traces_out_976300307.h5\n",
      "copying /allen/programs/braintv/workgroups/nc-ophys/Farzaneh/ICA_crossTalk/session_976167513/traces_out_976300305.h5\n",
      "copying /allen/programs/braintv/workgroups/nc-ophys/Farzaneh/ICA_crossTalk/session_976167513/traces_out_976300301.h5\n",
      "copying /allen/programs/braintv/workgroups/nc-ophys/Farzaneh/ICA_crossTalk/session_976167513/traces_out_976300303.h5\n",
      "copying /allen/programs/braintv/workgroups/nc-ophys/Farzaneh/ICA_crossTalk/session_976167513/neuropil_out_976300293.h5\n",
      "copying /allen/programs/braintv/workgroups/nc-ophys/Farzaneh/ICA_crossTalk/session_976167513/neuropil_out_976300295.h5\n",
      "copying /allen/programs/braintv/workgroups/nc-ophys/Farzaneh/ICA_crossTalk/session_976167513/neuropil_out_976300307.h5\n",
      "copying /allen/programs/braintv/workgroups/nc-ophys/Farzaneh/ICA_crossTalk/session_976167513/neuropil_out_976300305.h5\n",
      "copying /allen/programs/braintv/workgroups/nc-ophys/Farzaneh/ICA_crossTalk/session_976167513/neuropil_out_976300301.h5\n",
      "copying /allen/programs/braintv/workgroups/nc-ophys/Farzaneh/ICA_crossTalk/session_976167513/neuropil_out_976300303.h5\n",
      "copying /allen/programs/braintv/workgroups/nc-ophys/Farzaneh/ICA_crossTalk/session_976167513/neuropil_out_976300297.h5\n",
      "copying /allen/programs/braintv/workgroups/nc-ophys/Farzaneh/ICA_crossTalk/session_976167513/neuropil_out_976300299.h5\n",
      "\n",
      "\n",
      "Session 116/143: /allen/programs/braintv/workgroups/nc-ophys/Farzaneh/ICA_crossTalk/session_976382032/\n",
      "copying /allen/programs/braintv/workgroups/nc-ophys/Farzaneh/ICA_crossTalk/session_976382032/traces_out_977247468.h5\n",
      "copying /allen/programs/braintv/workgroups/nc-ophys/Farzaneh/ICA_crossTalk/session_976382032/traces_out_977247466.h5\n",
      "copying /allen/programs/braintv/workgroups/nc-ophys/Farzaneh/ICA_crossTalk/session_976382032/traces_out_977247476.h5\n",
      "copying /allen/programs/braintv/workgroups/nc-ophys/Farzaneh/ICA_crossTalk/session_976382032/traces_out_977247474.h5\n",
      "copying /allen/programs/braintv/workgroups/nc-ophys/Farzaneh/ICA_crossTalk/session_976382032/traces_out_977247470.h5\n",
      "copying /allen/programs/braintv/workgroups/nc-ophys/Farzaneh/ICA_crossTalk/session_976382032/traces_out_977247472.h5\n",
      "copying /allen/programs/braintv/workgroups/nc-ophys/Farzaneh/ICA_crossTalk/session_976382032/traces_out_977247464.h5\n",
      "copying /allen/programs/braintv/workgroups/nc-ophys/Farzaneh/ICA_crossTalk/session_976382032/traces_out_977247461.h5\n",
      "copying /allen/programs/braintv/workgroups/nc-ophys/Farzaneh/ICA_crossTalk/session_976382032/neuropil_out_977247468.h5\n",
      "copying /allen/programs/braintv/workgroups/nc-ophys/Farzaneh/ICA_crossTalk/session_976382032/neuropil_out_977247466.h5\n",
      "copying /allen/programs/braintv/workgroups/nc-ophys/Farzaneh/ICA_crossTalk/session_976382032/neuropil_out_977247470.h5\n",
      "copying /allen/programs/braintv/workgroups/nc-ophys/Farzaneh/ICA_crossTalk/session_976382032/neuropil_out_977247472.h5\n",
      "copying /allen/programs/braintv/workgroups/nc-ophys/Farzaneh/ICA_crossTalk/session_976382032/neuropil_out_977247464.h5\n",
      "copying /allen/programs/braintv/workgroups/nc-ophys/Farzaneh/ICA_crossTalk/session_976382032/neuropil_out_977247461.h5\n",
      "copying /allen/programs/braintv/workgroups/nc-ophys/Farzaneh/ICA_crossTalk/session_976382032/neuropil_out_977247476.h5\n",
      "copying /allen/programs/braintv/workgroups/nc-ophys/Farzaneh/ICA_crossTalk/session_976382032/neuropil_out_977247474.h5\n",
      "\n",
      "\n",
      "Session 117/143: /allen/programs/braintv/workgroups/nc-ophys/Farzaneh/ICA_crossTalk/session_977760370/\n",
      "copying /allen/programs/braintv/workgroups/nc-ophys/Farzaneh/ICA_crossTalk/session_977760370/traces_out_977978325.h5\n",
      "copying /allen/programs/braintv/workgroups/nc-ophys/Farzaneh/ICA_crossTalk/session_977760370/traces_out_977978327.h5\n",
      "copying /allen/programs/braintv/workgroups/nc-ophys/Farzaneh/ICA_crossTalk/session_977760370/traces_out_977978314.h5\n",
      "copying /allen/programs/braintv/workgroups/nc-ophys/Farzaneh/ICA_crossTalk/session_977760370/traces_out_977978319.h5\n",
      "copying /allen/programs/braintv/workgroups/nc-ophys/Farzaneh/ICA_crossTalk/session_977760370/traces_out_977978321.h5\n",
      "copying /allen/programs/braintv/workgroups/nc-ophys/Farzaneh/ICA_crossTalk/session_977760370/traces_out_977978323.h5\n",
      "copying /allen/programs/braintv/workgroups/nc-ophys/Farzaneh/ICA_crossTalk/session_977760370/traces_out_977978329.h5\n",
      "copying /allen/programs/braintv/workgroups/nc-ophys/Farzaneh/ICA_crossTalk/session_977760370/traces_out_977978331.h5\n",
      "copying /allen/programs/braintv/workgroups/nc-ophys/Farzaneh/ICA_crossTalk/session_977760370/neuropil_out_977978329.h5\n",
      "copying /allen/programs/braintv/workgroups/nc-ophys/Farzaneh/ICA_crossTalk/session_977760370/neuropil_out_977978331.h5\n",
      "copying /allen/programs/braintv/workgroups/nc-ophys/Farzaneh/ICA_crossTalk/session_977760370/neuropil_out_977978325.h5\n",
      "copying /allen/programs/braintv/workgroups/nc-ophys/Farzaneh/ICA_crossTalk/session_977760370/neuropil_out_977978327.h5\n",
      "copying /allen/programs/braintv/workgroups/nc-ophys/Farzaneh/ICA_crossTalk/session_977760370/neuropil_out_977978314.h5\n",
      "copying /allen/programs/braintv/workgroups/nc-ophys/Farzaneh/ICA_crossTalk/session_977760370/neuropil_out_977978319.h5\n",
      "copying /allen/programs/braintv/workgroups/nc-ophys/Farzaneh/ICA_crossTalk/session_977760370/neuropil_out_977978321.h5\n",
      "copying /allen/programs/braintv/workgroups/nc-ophys/Farzaneh/ICA_crossTalk/session_977760370/neuropil_out_977978323.h5\n",
      "\n",
      "\n",
      "Session 118/143: /allen/programs/braintv/workgroups/nc-ophys/Farzaneh/ICA_crossTalk/session_978201478/\n",
      "copying /allen/programs/braintv/workgroups/nc-ophys/Farzaneh/ICA_crossTalk/session_978201478/traces_out_978296100.h5\n",
      "copying /allen/programs/braintv/workgroups/nc-ophys/Farzaneh/ICA_crossTalk/session_978201478/traces_out_978296098.h5\n",
      "copying /allen/programs/braintv/workgroups/nc-ophys/Farzaneh/ICA_crossTalk/session_978201478/traces_out_978296110.h5\n",
      "copying /allen/programs/braintv/workgroups/nc-ophys/Farzaneh/ICA_crossTalk/session_978201478/traces_out_978296106.h5\n",
      "copying /allen/programs/braintv/workgroups/nc-ophys/Farzaneh/ICA_crossTalk/session_978201478/traces_out_978296104.h5\n",
      "copying /allen/programs/braintv/workgroups/nc-ophys/Farzaneh/ICA_crossTalk/session_978201478/traces_out_978296102.h5\n",
      "copying /allen/programs/braintv/workgroups/nc-ophys/Farzaneh/ICA_crossTalk/session_978201478/traces_out_978296112.h5\n",
      "copying /allen/programs/braintv/workgroups/nc-ophys/Farzaneh/ICA_crossTalk/session_978201478/traces_out_978296114.h5\n",
      "copying /allen/programs/braintv/workgroups/nc-ophys/Farzaneh/ICA_crossTalk/session_978201478/neuropil_out_978296104.h5\n",
      "copying /allen/programs/braintv/workgroups/nc-ophys/Farzaneh/ICA_crossTalk/session_978201478/neuropil_out_978296102.h5\n",
      "copying /allen/programs/braintv/workgroups/nc-ophys/Farzaneh/ICA_crossTalk/session_978201478/neuropil_out_978296100.h5\n",
      "copying /allen/programs/braintv/workgroups/nc-ophys/Farzaneh/ICA_crossTalk/session_978201478/neuropil_out_978296098.h5\n",
      "copying /allen/programs/braintv/workgroups/nc-ophys/Farzaneh/ICA_crossTalk/session_978201478/neuropil_out_978296110.h5\n",
      "copying /allen/programs/braintv/workgroups/nc-ophys/Farzaneh/ICA_crossTalk/session_978201478/neuropil_out_978296106.h5\n",
      "copying /allen/programs/braintv/workgroups/nc-ophys/Farzaneh/ICA_crossTalk/session_978201478/neuropil_out_978296112.h5\n",
      "copying /allen/programs/braintv/workgroups/nc-ophys/Farzaneh/ICA_crossTalk/session_978201478/neuropil_out_978296114.h5\n",
      "\n",
      "\n",
      "Session 119/143: /allen/programs/braintv/workgroups/nc-ophys/Farzaneh/ICA_crossTalk/session_980062339/\n",
      "copying /allen/programs/braintv/workgroups/nc-ophys/Farzaneh/ICA_crossTalk/session_980062339/traces_out_981178539.h5\n",
      "copying /allen/programs/braintv/workgroups/nc-ophys/Farzaneh/ICA_crossTalk/session_980062339/traces_out_981178542.h5\n",
      "copying /allen/programs/braintv/workgroups/nc-ophys/Farzaneh/ICA_crossTalk/session_980062339/traces_out_981178532.h5\n",
      "copying /allen/programs/braintv/workgroups/nc-ophys/Farzaneh/ICA_crossTalk/session_980062339/traces_out_981178529.h5\n",
      "copying /allen/programs/braintv/workgroups/nc-ophys/Farzaneh/ICA_crossTalk/session_980062339/traces_out_981178535.h5\n",
      "copying /allen/programs/braintv/workgroups/nc-ophys/Farzaneh/ICA_crossTalk/session_980062339/traces_out_981178537.h5\n",
      "copying /allen/programs/braintv/workgroups/nc-ophys/Farzaneh/ICA_crossTalk/session_980062339/traces_out_981178526.h5\n",
      "copying /allen/programs/braintv/workgroups/nc-ophys/Farzaneh/ICA_crossTalk/session_980062339/traces_out_981178524.h5\n",
      "copying /allen/programs/braintv/workgroups/nc-ophys/Farzaneh/ICA_crossTalk/session_980062339/neuropil_out_981178535.h5\n",
      "copying /allen/programs/braintv/workgroups/nc-ophys/Farzaneh/ICA_crossTalk/session_980062339/neuropil_out_981178537.h5\n",
      "copying /allen/programs/braintv/workgroups/nc-ophys/Farzaneh/ICA_crossTalk/session_980062339/neuropil_out_981178539.h5\n",
      "copying /allen/programs/braintv/workgroups/nc-ophys/Farzaneh/ICA_crossTalk/session_980062339/neuropil_out_981178542.h5\n",
      "copying /allen/programs/braintv/workgroups/nc-ophys/Farzaneh/ICA_crossTalk/session_980062339/neuropil_out_981178526.h5\n",
      "copying /allen/programs/braintv/workgroups/nc-ophys/Farzaneh/ICA_crossTalk/session_980062339/neuropil_out_981178524.h5\n",
      "copying /allen/programs/braintv/workgroups/nc-ophys/Farzaneh/ICA_crossTalk/session_980062339/neuropil_out_981178532.h5\n",
      "copying /allen/programs/braintv/workgroups/nc-ophys/Farzaneh/ICA_crossTalk/session_980062339/neuropil_out_981178529.h5\n",
      "\n",
      "\n",
      "Session 120/143: /allen/programs/braintv/workgroups/nc-ophys/Farzaneh/ICA_crossTalk/session_981705001/\n",
      "copying /allen/programs/braintv/workgroups/nc-ophys/Farzaneh/ICA_crossTalk/session_981705001/traces_out_982344767.h5\n",
      "copying /allen/programs/braintv/workgroups/nc-ophys/Farzaneh/ICA_crossTalk/session_981705001/traces_out_982344769.h5\n",
      "copying /allen/programs/braintv/workgroups/nc-ophys/Farzaneh/ICA_crossTalk/session_981705001/traces_out_982344777.h5\n",
      "copying /allen/programs/braintv/workgroups/nc-ophys/Farzaneh/ICA_crossTalk/session_981705001/traces_out_982344775.h5\n",
      "copying /allen/programs/braintv/workgroups/nc-ophys/Farzaneh/ICA_crossTalk/session_981705001/traces_out_982344779.h5\n",
      "copying /allen/programs/braintv/workgroups/nc-ophys/Farzaneh/ICA_crossTalk/session_981705001/traces_out_982344781.h5\n",
      "copying /allen/programs/braintv/workgroups/nc-ophys/Farzaneh/ICA_crossTalk/session_981705001/traces_out_982344771.h5\n",
      "copying /allen/programs/braintv/workgroups/nc-ophys/Farzaneh/ICA_crossTalk/session_981705001/traces_out_982344773.h5\n",
      "copying /allen/programs/braintv/workgroups/nc-ophys/Farzaneh/ICA_crossTalk/session_981705001/neuropil_out_982344779.h5\n",
      "copying /allen/programs/braintv/workgroups/nc-ophys/Farzaneh/ICA_crossTalk/session_981705001/neuropil_out_982344781.h5\n",
      "copying /allen/programs/braintv/workgroups/nc-ophys/Farzaneh/ICA_crossTalk/session_981705001/neuropil_out_982344777.h5\n",
      "copying /allen/programs/braintv/workgroups/nc-ophys/Farzaneh/ICA_crossTalk/session_981705001/neuropil_out_982344775.h5\n",
      "copying /allen/programs/braintv/workgroups/nc-ophys/Farzaneh/ICA_crossTalk/session_981705001/neuropil_out_982344771.h5\n",
      "copying /allen/programs/braintv/workgroups/nc-ophys/Farzaneh/ICA_crossTalk/session_981705001/neuropil_out_982344773.h5\n",
      "copying /allen/programs/braintv/workgroups/nc-ophys/Farzaneh/ICA_crossTalk/session_981705001/neuropil_out_982344767.h5\n",
      "copying /allen/programs/braintv/workgroups/nc-ophys/Farzaneh/ICA_crossTalk/session_981705001/neuropil_out_982344769.h5\n",
      "\n",
      "\n",
      "Session 121/143: /allen/programs/braintv/workgroups/nc-ophys/Farzaneh/ICA_crossTalk/session_981845703/\n",
      "copying /allen/programs/braintv/workgroups/nc-ophys/Farzaneh/ICA_crossTalk/session_981845703/traces_out_982343728.h5\n",
      "copying /allen/programs/braintv/workgroups/nc-ophys/Farzaneh/ICA_crossTalk/session_981845703/traces_out_982343726.h5\n",
      "copying /allen/programs/braintv/workgroups/nc-ophys/Farzaneh/ICA_crossTalk/session_981845703/traces_out_982343732.h5\n",
      "copying /allen/programs/braintv/workgroups/nc-ophys/Farzaneh/ICA_crossTalk/session_981845703/traces_out_982343730.h5\n",
      "copying /allen/programs/braintv/workgroups/nc-ophys/Farzaneh/ICA_crossTalk/session_981845703/traces_out_982343741.h5\n",
      "copying /allen/programs/braintv/workgroups/nc-ophys/Farzaneh/ICA_crossTalk/session_981845703/traces_out_982343738.h5\n",
      "copying /allen/programs/braintv/workgroups/nc-ophys/Farzaneh/ICA_crossTalk/session_981845703/traces_out_982343736.h5\n",
      "copying /allen/programs/braintv/workgroups/nc-ophys/Farzaneh/ICA_crossTalk/session_981845703/traces_out_982343734.h5\n",
      "copying /allen/programs/braintv/workgroups/nc-ophys/Farzaneh/ICA_crossTalk/session_981845703/neuropil_out_982343736.h5\n",
      "copying /allen/programs/braintv/workgroups/nc-ophys/Farzaneh/ICA_crossTalk/session_981845703/neuropil_out_982343734.h5\n",
      "copying /allen/programs/braintv/workgroups/nc-ophys/Farzaneh/ICA_crossTalk/session_981845703/neuropil_out_982343732.h5\n",
      "copying /allen/programs/braintv/workgroups/nc-ophys/Farzaneh/ICA_crossTalk/session_981845703/neuropil_out_982343730.h5\n",
      "copying /allen/programs/braintv/workgroups/nc-ophys/Farzaneh/ICA_crossTalk/session_981845703/neuropil_out_982343741.h5\n",
      "copying /allen/programs/braintv/workgroups/nc-ophys/Farzaneh/ICA_crossTalk/session_981845703/neuropil_out_982343738.h5\n",
      "copying /allen/programs/braintv/workgroups/nc-ophys/Farzaneh/ICA_crossTalk/session_981845703/neuropil_out_982343728.h5\n",
      "copying /allen/programs/braintv/workgroups/nc-ophys/Farzaneh/ICA_crossTalk/session_981845703/neuropil_out_982343726.h5\n",
      "\n",
      "\n",
      "Session 122/143: /allen/programs/braintv/workgroups/nc-ophys/Farzaneh/ICA_crossTalk/session_982566889/\n",
      "copying /allen/programs/braintv/workgroups/nc-ophys/Farzaneh/ICA_crossTalk/session_982566889/traces_out_982903853.h5\n",
      "copying /allen/programs/braintv/workgroups/nc-ophys/Farzaneh/ICA_crossTalk/session_982566889/traces_out_982903855.h5\n",
      "copying /allen/programs/braintv/workgroups/nc-ophys/Farzaneh/ICA_crossTalk/session_982566889/traces_out_982903847.h5\n",
      "copying /allen/programs/braintv/workgroups/nc-ophys/Farzaneh/ICA_crossTalk/session_982566889/traces_out_982903845.h5\n",
      "copying /allen/programs/braintv/workgroups/nc-ophys/Farzaneh/ICA_crossTalk/session_982566889/traces_out_982903851.h5\n",
      "copying /allen/programs/braintv/workgroups/nc-ophys/Farzaneh/ICA_crossTalk/session_982566889/traces_out_982903849.h5\n",
      "copying /allen/programs/braintv/workgroups/nc-ophys/Farzaneh/ICA_crossTalk/session_982566889/traces_out_982903841.h5\n",
      "copying /allen/programs/braintv/workgroups/nc-ophys/Farzaneh/ICA_crossTalk/session_982566889/traces_out_982903843.h5\n",
      "copying /allen/programs/braintv/workgroups/nc-ophys/Farzaneh/ICA_crossTalk/session_982566889/neuropil_out_982903853.h5\n",
      "copying /allen/programs/braintv/workgroups/nc-ophys/Farzaneh/ICA_crossTalk/session_982566889/neuropil_out_982903855.h5\n",
      "copying /allen/programs/braintv/workgroups/nc-ophys/Farzaneh/ICA_crossTalk/session_982566889/neuropil_out_982903851.h5\n",
      "copying /allen/programs/braintv/workgroups/nc-ophys/Farzaneh/ICA_crossTalk/session_982566889/neuropil_out_982903849.h5\n",
      "copying /allen/programs/braintv/workgroups/nc-ophys/Farzaneh/ICA_crossTalk/session_982566889/neuropil_out_982903847.h5\n",
      "copying /allen/programs/braintv/workgroups/nc-ophys/Farzaneh/ICA_crossTalk/session_982566889/neuropil_out_982903845.h5\n",
      "copying /allen/programs/braintv/workgroups/nc-ophys/Farzaneh/ICA_crossTalk/session_982566889/neuropil_out_982903841.h5\n",
      "copying /allen/programs/braintv/workgroups/nc-ophys/Farzaneh/ICA_crossTalk/session_982566889/neuropil_out_982903843.h5\n",
      "\n",
      "\n",
      "Session 123/143: /allen/programs/braintv/workgroups/nc-ophys/Farzaneh/ICA_crossTalk/session_985609503/\n",
      "copying /allen/programs/braintv/workgroups/nc-ophys/Farzaneh/ICA_crossTalk/session_985609503/traces_out_986518880.h5\n",
      "copying /allen/programs/braintv/workgroups/nc-ophys/Farzaneh/ICA_crossTalk/session_985609503/traces_out_986518885.h5\n",
      "copying /allen/programs/braintv/workgroups/nc-ophys/Farzaneh/ICA_crossTalk/session_985609503/traces_out_986518893.h5\n",
      "copying /allen/programs/braintv/workgroups/nc-ophys/Farzaneh/ICA_crossTalk/session_985609503/traces_out_986518891.h5\n",
      "copying /allen/programs/braintv/workgroups/nc-ophys/Farzaneh/ICA_crossTalk/session_985609503/traces_out_986518878.h5\n",
      "copying /allen/programs/braintv/workgroups/nc-ophys/Farzaneh/ICA_crossTalk/session_985609503/traces_out_986518876.h5\n",
      "copying /allen/programs/braintv/workgroups/nc-ophys/Farzaneh/ICA_crossTalk/session_985609503/traces_out_986518889.h5\n",
      "copying /allen/programs/braintv/workgroups/nc-ophys/Farzaneh/ICA_crossTalk/session_985609503/traces_out_986518887.h5\n",
      "copying /allen/programs/braintv/workgroups/nc-ophys/Farzaneh/ICA_crossTalk/session_985609503/neuropil_out_986518878.h5\n",
      "copying /allen/programs/braintv/workgroups/nc-ophys/Farzaneh/ICA_crossTalk/session_985609503/neuropil_out_986518876.h5\n",
      "copying /allen/programs/braintv/workgroups/nc-ophys/Farzaneh/ICA_crossTalk/session_985609503/neuropil_out_986518880.h5\n",
      "copying /allen/programs/braintv/workgroups/nc-ophys/Farzaneh/ICA_crossTalk/session_985609503/neuropil_out_986518885.h5\n",
      "copying /allen/programs/braintv/workgroups/nc-ophys/Farzaneh/ICA_crossTalk/session_985609503/neuropil_out_986518889.h5\n",
      "copying /allen/programs/braintv/workgroups/nc-ophys/Farzaneh/ICA_crossTalk/session_985609503/neuropil_out_986518887.h5\n",
      "copying /allen/programs/braintv/workgroups/nc-ophys/Farzaneh/ICA_crossTalk/session_985609503/neuropil_out_986518893.h5\n",
      "copying /allen/programs/braintv/workgroups/nc-ophys/Farzaneh/ICA_crossTalk/session_985609503/neuropil_out_986518891.h5\n",
      "\n",
      "\n",
      "Session 124/143: /allen/programs/braintv/workgroups/nc-ophys/Farzaneh/ICA_crossTalk/session_985888070/\n",
      "copying /allen/programs/braintv/workgroups/nc-ophys/Farzaneh/ICA_crossTalk/session_985888070/traces_out_986518819.h5\n",
      "copying /allen/programs/braintv/workgroups/nc-ophys/Farzaneh/ICA_crossTalk/session_985888070/traces_out_986518822.h5\n",
      "copying /allen/programs/braintv/workgroups/nc-ophys/Farzaneh/ICA_crossTalk/session_985888070/traces_out_986518831.h5\n",
      "copying /allen/programs/braintv/workgroups/nc-ophys/Farzaneh/ICA_crossTalk/session_985888070/traces_out_986518833.h5\n",
      "copying /allen/programs/braintv/workgroups/nc-ophys/Farzaneh/ICA_crossTalk/session_985888070/traces_out_986518824.h5\n",
      "copying /allen/programs/braintv/workgroups/nc-ophys/Farzaneh/ICA_crossTalk/session_985888070/traces_out_986518829.h5\n",
      "copying /allen/programs/braintv/workgroups/nc-ophys/Farzaneh/ICA_crossTalk/session_985888070/traces_out_986518838.h5\n",
      "copying /allen/programs/braintv/workgroups/nc-ophys/Farzaneh/ICA_crossTalk/session_985888070/traces_out_986518836.h5\n",
      "copying /allen/programs/braintv/workgroups/nc-ophys/Farzaneh/ICA_crossTalk/session_985888070/neuropil_out_986518831.h5\n",
      "copying /allen/programs/braintv/workgroups/nc-ophys/Farzaneh/ICA_crossTalk/session_985888070/neuropil_out_986518833.h5\n",
      "copying /allen/programs/braintv/workgroups/nc-ophys/Farzaneh/ICA_crossTalk/session_985888070/neuropil_out_986518824.h5\n",
      "copying /allen/programs/braintv/workgroups/nc-ophys/Farzaneh/ICA_crossTalk/session_985888070/neuropil_out_986518829.h5\n",
      "copying /allen/programs/braintv/workgroups/nc-ophys/Farzaneh/ICA_crossTalk/session_985888070/neuropil_out_986518819.h5\n",
      "copying /allen/programs/braintv/workgroups/nc-ophys/Farzaneh/ICA_crossTalk/session_985888070/neuropil_out_986518822.h5\n",
      "copying /allen/programs/braintv/workgroups/nc-ophys/Farzaneh/ICA_crossTalk/session_985888070/neuropil_out_986518838.h5\n",
      "copying /allen/programs/braintv/workgroups/nc-ophys/Farzaneh/ICA_crossTalk/session_985888070/neuropil_out_986518836.h5\n",
      "\n",
      "\n",
      "Session 125/143: /allen/programs/braintv/workgroups/nc-ophys/Farzaneh/ICA_crossTalk/session_986130604/\n",
      "copying /allen/programs/braintv/workgroups/nc-ophys/Farzaneh/ICA_crossTalk/session_986130604/traces_out_986518861.h5\n",
      "copying /allen/programs/braintv/workgroups/nc-ophys/Farzaneh/ICA_crossTalk/session_986130604/traces_out_986518863.h5\n",
      "copying /allen/programs/braintv/workgroups/nc-ophys/Farzaneh/ICA_crossTalk/session_986130604/traces_out_986518843.h5\n",
      "copying /allen/programs/braintv/workgroups/nc-ophys/Farzaneh/ICA_crossTalk/session_986130604/traces_out_986518847.h5\n",
      "copying /allen/programs/braintv/workgroups/nc-ophys/Farzaneh/ICA_crossTalk/session_986130604/traces_out_986518858.h5\n",
      "copying /allen/programs/braintv/workgroups/nc-ophys/Farzaneh/ICA_crossTalk/session_986130604/traces_out_986518852.h5\n",
      "copying /allen/programs/braintv/workgroups/nc-ophys/Farzaneh/ICA_crossTalk/session_986130604/traces_out_986518865.h5\n",
      "copying /allen/programs/braintv/workgroups/nc-ophys/Farzaneh/ICA_crossTalk/session_986130604/traces_out_986518870.h5\n",
      "copying /allen/programs/braintv/workgroups/nc-ophys/Farzaneh/ICA_crossTalk/session_986130604/neuropil_out_986518865.h5\n",
      "copying /allen/programs/braintv/workgroups/nc-ophys/Farzaneh/ICA_crossTalk/session_986130604/neuropil_out_986518870.h5\n",
      "copying /allen/programs/braintv/workgroups/nc-ophys/Farzaneh/ICA_crossTalk/session_986130604/neuropil_out_986518858.h5\n",
      "copying /allen/programs/braintv/workgroups/nc-ophys/Farzaneh/ICA_crossTalk/session_986130604/neuropil_out_986518852.h5\n",
      "copying /allen/programs/braintv/workgroups/nc-ophys/Farzaneh/ICA_crossTalk/session_986130604/neuropil_out_986518861.h5\n",
      "copying /allen/programs/braintv/workgroups/nc-ophys/Farzaneh/ICA_crossTalk/session_986130604/neuropil_out_986518863.h5\n",
      "copying /allen/programs/braintv/workgroups/nc-ophys/Farzaneh/ICA_crossTalk/session_986130604/neuropil_out_986518843.h5\n",
      "copying /allen/programs/braintv/workgroups/nc-ophys/Farzaneh/ICA_crossTalk/session_986130604/neuropil_out_986518847.h5\n",
      "\n",
      "\n",
      "Session 126/143: /allen/programs/braintv/workgroups/nc-ophys/Farzaneh/ICA_crossTalk/session_986767503/\n",
      "copying /allen/programs/braintv/workgroups/nc-ophys/Farzaneh/ICA_crossTalk/session_986767503/traces_out_987320810.h5\n",
      "copying /allen/programs/braintv/workgroups/nc-ophys/Farzaneh/ICA_crossTalk/session_986767503/traces_out_987320812.h5\n",
      "copying /allen/programs/braintv/workgroups/nc-ophys/Farzaneh/ICA_crossTalk/session_986767503/traces_out_987320816.h5\n",
      "copying /allen/programs/braintv/workgroups/nc-ophys/Farzaneh/ICA_crossTalk/session_986767503/traces_out_987320814.h5\n",
      "copying /allen/programs/braintv/workgroups/nc-ophys/Farzaneh/ICA_crossTalk/session_986767503/traces_out_987320818.h5\n",
      "copying /allen/programs/braintv/workgroups/nc-ophys/Farzaneh/ICA_crossTalk/session_986767503/traces_out_987320820.h5\n",
      "copying /allen/programs/braintv/workgroups/nc-ophys/Farzaneh/ICA_crossTalk/session_986767503/traces_out_987320808.h5\n",
      "copying /allen/programs/braintv/workgroups/nc-ophys/Farzaneh/ICA_crossTalk/session_986767503/traces_out_987320806.h5\n",
      "copying /allen/programs/braintv/workgroups/nc-ophys/Farzaneh/ICA_crossTalk/session_986767503/neuropil_out_987320818.h5\n",
      "copying /allen/programs/braintv/workgroups/nc-ophys/Farzaneh/ICA_crossTalk/session_986767503/neuropil_out_987320820.h5\n",
      "copying /allen/programs/braintv/workgroups/nc-ophys/Farzaneh/ICA_crossTalk/session_986767503/neuropil_out_987320810.h5\n",
      "copying /allen/programs/braintv/workgroups/nc-ophys/Farzaneh/ICA_crossTalk/session_986767503/neuropil_out_987320812.h5\n",
      "copying /allen/programs/braintv/workgroups/nc-ophys/Farzaneh/ICA_crossTalk/session_986767503/neuropil_out_987320816.h5\n",
      "copying /allen/programs/braintv/workgroups/nc-ophys/Farzaneh/ICA_crossTalk/session_986767503/neuropil_out_987320814.h5\n",
      "copying /allen/programs/braintv/workgroups/nc-ophys/Farzaneh/ICA_crossTalk/session_986767503/neuropil_out_987320808.h5\n",
      "copying /allen/programs/braintv/workgroups/nc-ophys/Farzaneh/ICA_crossTalk/session_986767503/neuropil_out_987320806.h5\n",
      "\n",
      "\n",
      "Session 127/143: /allen/programs/braintv/workgroups/nc-ophys/Farzaneh/ICA_crossTalk/session_987352048/\n",
      "copying /allen/programs/braintv/workgroups/nc-ophys/Farzaneh/ICA_crossTalk/session_987352048/traces_out_988707121.h5\n",
      "copying /allen/programs/braintv/workgroups/nc-ophys/Farzaneh/ICA_crossTalk/session_987352048/traces_out_988707124.h5\n",
      "copying /allen/programs/braintv/workgroups/nc-ophys/Farzaneh/ICA_crossTalk/session_987352048/traces_out_988707119.h5\n",
      "copying /allen/programs/braintv/workgroups/nc-ophys/Farzaneh/ICA_crossTalk/session_987352048/traces_out_988707117.h5\n",
      "copying /allen/programs/braintv/workgroups/nc-ophys/Farzaneh/ICA_crossTalk/session_987352048/traces_out_988707128.h5\n",
      "copying /allen/programs/braintv/workgroups/nc-ophys/Farzaneh/ICA_crossTalk/session_987352048/traces_out_988707126.h5\n",
      "copying /allen/programs/braintv/workgroups/nc-ophys/Farzaneh/ICA_crossTalk/session_987352048/traces_out_988707113.h5\n",
      "copying /allen/programs/braintv/workgroups/nc-ophys/Farzaneh/ICA_crossTalk/session_987352048/traces_out_988707115.h5\n",
      "copying /allen/programs/braintv/workgroups/nc-ophys/Farzaneh/ICA_crossTalk/session_987352048/neuropil_out_988707128.h5\n",
      "copying /allen/programs/braintv/workgroups/nc-ophys/Farzaneh/ICA_crossTalk/session_987352048/neuropil_out_988707126.h5\n",
      "copying /allen/programs/braintv/workgroups/nc-ophys/Farzaneh/ICA_crossTalk/session_987352048/neuropil_out_988707113.h5\n",
      "copying /allen/programs/braintv/workgroups/nc-ophys/Farzaneh/ICA_crossTalk/session_987352048/neuropil_out_988707115.h5\n",
      "copying /allen/programs/braintv/workgroups/nc-ophys/Farzaneh/ICA_crossTalk/session_987352048/neuropil_out_988707119.h5\n",
      "copying /allen/programs/braintv/workgroups/nc-ophys/Farzaneh/ICA_crossTalk/session_987352048/neuropil_out_988707117.h5\n",
      "copying /allen/programs/braintv/workgroups/nc-ophys/Farzaneh/ICA_crossTalk/session_987352048/neuropil_out_988707121.h5\n",
      "copying /allen/programs/braintv/workgroups/nc-ophys/Farzaneh/ICA_crossTalk/session_987352048/neuropil_out_988707124.h5\n",
      "\n",
      "\n",
      "Session 128/143: /allen/programs/braintv/workgroups/nc-ophys/Farzaneh/ICA_crossTalk/session_988768058/\n",
      "copying /allen/programs/braintv/workgroups/nc-ophys/Farzaneh/ICA_crossTalk/session_988768058/traces_out_989213061.h5\n",
      "copying /allen/programs/braintv/workgroups/nc-ophys/Farzaneh/ICA_crossTalk/session_988768058/traces_out_989213060.h5\n",
      "copying /allen/programs/braintv/workgroups/nc-ophys/Farzaneh/ICA_crossTalk/session_988768058/traces_out_989213058.h5\n",
      "copying /allen/programs/braintv/workgroups/nc-ophys/Farzaneh/ICA_crossTalk/session_988768058/traces_out_989213059.h5\n",
      "copying /allen/programs/braintv/workgroups/nc-ophys/Farzaneh/ICA_crossTalk/session_988768058/traces_out_989213064.h5\n",
      "copying /allen/programs/braintv/workgroups/nc-ophys/Farzaneh/ICA_crossTalk/session_988768058/traces_out_989213065.h5\n",
      "copying /allen/programs/braintv/workgroups/nc-ophys/Farzaneh/ICA_crossTalk/session_988768058/traces_out_989213063.h5\n",
      "copying /allen/programs/braintv/workgroups/nc-ophys/Farzaneh/ICA_crossTalk/session_988768058/traces_out_989213062.h5\n",
      "copying /allen/programs/braintv/workgroups/nc-ophys/Farzaneh/ICA_crossTalk/session_988768058/neuropil_out_989213064.h5\n",
      "copying /allen/programs/braintv/workgroups/nc-ophys/Farzaneh/ICA_crossTalk/session_988768058/neuropil_out_989213065.h5\n",
      "copying /allen/programs/braintv/workgroups/nc-ophys/Farzaneh/ICA_crossTalk/session_988768058/neuropil_out_989213061.h5\n",
      "copying /allen/programs/braintv/workgroups/nc-ophys/Farzaneh/ICA_crossTalk/session_988768058/neuropil_out_989213060.h5\n",
      "copying /allen/programs/braintv/workgroups/nc-ophys/Farzaneh/ICA_crossTalk/session_988768058/neuropil_out_989213058.h5\n",
      "copying /allen/programs/braintv/workgroups/nc-ophys/Farzaneh/ICA_crossTalk/session_988768058/neuropil_out_989213059.h5\n",
      "copying /allen/programs/braintv/workgroups/nc-ophys/Farzaneh/ICA_crossTalk/session_988768058/neuropil_out_989213063.h5\n",
      "copying /allen/programs/braintv/workgroups/nc-ophys/Farzaneh/ICA_crossTalk/session_988768058/neuropil_out_989213062.h5\n",
      "\n",
      "\n",
      "Session 129/143: /allen/programs/braintv/workgroups/nc-ophys/Farzaneh/ICA_crossTalk/session_988903485/\n",
      "copying /allen/programs/braintv/workgroups/nc-ophys/Farzaneh/ICA_crossTalk/session_988903485/traces_out_989212489.h5\n",
      "copying /allen/programs/braintv/workgroups/nc-ophys/Farzaneh/ICA_crossTalk/session_988903485/traces_out_989212488.h5\n",
      "copying /allen/programs/braintv/workgroups/nc-ophys/Farzaneh/ICA_crossTalk/session_988903485/traces_out_989212493.h5\n",
      "copying /allen/programs/braintv/workgroups/nc-ophys/Farzaneh/ICA_crossTalk/session_988903485/traces_out_989212494.h5\n",
      "copying /allen/programs/braintv/workgroups/nc-ophys/Farzaneh/ICA_crossTalk/session_988903485/traces_out_989212495.h5\n",
      "copying /allen/programs/braintv/workgroups/nc-ophys/Farzaneh/ICA_crossTalk/session_988903485/traces_out_989212496.h5\n",
      "copying /allen/programs/braintv/workgroups/nc-ophys/Farzaneh/ICA_crossTalk/session_988903485/traces_out_989212492.h5\n",
      "copying /allen/programs/braintv/workgroups/nc-ophys/Farzaneh/ICA_crossTalk/session_988903485/traces_out_989212491.h5\n",
      "copying /allen/programs/braintv/workgroups/nc-ophys/Farzaneh/ICA_crossTalk/session_988903485/neuropil_out_989212495.h5\n",
      "copying /allen/programs/braintv/workgroups/nc-ophys/Farzaneh/ICA_crossTalk/session_988903485/neuropil_out_989212496.h5\n",
      "copying /allen/programs/braintv/workgroups/nc-ophys/Farzaneh/ICA_crossTalk/session_988903485/neuropil_out_989212492.h5\n",
      "copying /allen/programs/braintv/workgroups/nc-ophys/Farzaneh/ICA_crossTalk/session_988903485/neuropil_out_989212491.h5\n",
      "copying /allen/programs/braintv/workgroups/nc-ophys/Farzaneh/ICA_crossTalk/session_988903485/neuropil_out_989212493.h5\n",
      "copying /allen/programs/braintv/workgroups/nc-ophys/Farzaneh/ICA_crossTalk/session_988903485/neuropil_out_989212494.h5\n",
      "copying /allen/programs/braintv/workgroups/nc-ophys/Farzaneh/ICA_crossTalk/session_988903485/neuropil_out_989212489.h5\n",
      "copying /allen/programs/braintv/workgroups/nc-ophys/Farzaneh/ICA_crossTalk/session_988903485/neuropil_out_989212488.h5\n",
      "\n",
      "\n",
      "Session 130/143: /allen/programs/braintv/workgroups/nc-ophys/Farzaneh/ICA_crossTalk/session_989267296/\n",
      "copying /allen/programs/braintv/workgroups/nc-ophys/Farzaneh/ICA_crossTalk/session_989267296/traces_out_989610989.h5\n",
      "copying /allen/programs/braintv/workgroups/nc-ophys/Farzaneh/ICA_crossTalk/session_989267296/traces_out_989610990.h5\n",
      "copying /allen/programs/braintv/workgroups/nc-ophys/Farzaneh/ICA_crossTalk/session_989267296/traces_out_989610992.h5\n",
      "copying /allen/programs/braintv/workgroups/nc-ophys/Farzaneh/ICA_crossTalk/session_989267296/traces_out_989610991.h5\n",
      "copying /allen/programs/braintv/workgroups/nc-ophys/Farzaneh/ICA_crossTalk/session_989267296/traces_out_989610988.h5\n",
      "copying /allen/programs/braintv/workgroups/nc-ophys/Farzaneh/ICA_crossTalk/session_989267296/traces_out_989610987.h5\n",
      "copying /allen/programs/braintv/workgroups/nc-ophys/Farzaneh/ICA_crossTalk/session_989267296/traces_out_989610985.h5\n",
      "copying /allen/programs/braintv/workgroups/nc-ophys/Farzaneh/ICA_crossTalk/session_989267296/traces_out_989610986.h5\n",
      "copying /allen/programs/braintv/workgroups/nc-ophys/Farzaneh/ICA_crossTalk/session_989267296/neuropil_out_989610985.h5\n",
      "copying /allen/programs/braintv/workgroups/nc-ophys/Farzaneh/ICA_crossTalk/session_989267296/neuropil_out_989610986.h5\n",
      "copying /allen/programs/braintv/workgroups/nc-ophys/Farzaneh/ICA_crossTalk/session_989267296/neuropil_out_989610992.h5\n",
      "copying /allen/programs/braintv/workgroups/nc-ophys/Farzaneh/ICA_crossTalk/session_989267296/neuropil_out_989610991.h5\n",
      "copying /allen/programs/braintv/workgroups/nc-ophys/Farzaneh/ICA_crossTalk/session_989267296/neuropil_out_989610989.h5\n",
      "copying /allen/programs/braintv/workgroups/nc-ophys/Farzaneh/ICA_crossTalk/session_989267296/neuropil_out_989610990.h5\n",
      "copying /allen/programs/braintv/workgroups/nc-ophys/Farzaneh/ICA_crossTalk/session_989267296/neuropil_out_989610988.h5\n",
      "copying /allen/programs/braintv/workgroups/nc-ophys/Farzaneh/ICA_crossTalk/session_989267296/neuropil_out_989610987.h5\n",
      "\n",
      "\n",
      "Session 131/143: /allen/programs/braintv/workgroups/nc-ophys/Farzaneh/ICA_crossTalk/session_990139534/\n",
      "copying /allen/programs/braintv/workgroups/nc-ophys/Farzaneh/ICA_crossTalk/session_990139534/traces_out_990400779.h5\n",
      "copying /allen/programs/braintv/workgroups/nc-ophys/Farzaneh/ICA_crossTalk/session_990139534/traces_out_990400778.h5\n",
      "copying /allen/programs/braintv/workgroups/nc-ophys/Farzaneh/ICA_crossTalk/session_990139534/traces_out_990400777.h5\n",
      "copying /allen/programs/braintv/workgroups/nc-ophys/Farzaneh/ICA_crossTalk/session_990139534/traces_out_990400775.h5\n",
      "copying /allen/programs/braintv/workgroups/nc-ophys/Farzaneh/ICA_crossTalk/session_990139534/traces_out_990400780.h5\n",
      "copying /allen/programs/braintv/workgroups/nc-ophys/Farzaneh/ICA_crossTalk/session_990139534/traces_out_990400781.h5\n",
      "copying /allen/programs/braintv/workgroups/nc-ophys/Farzaneh/ICA_crossTalk/session_990139534/traces_out_990400783.h5\n",
      "copying /allen/programs/braintv/workgroups/nc-ophys/Farzaneh/ICA_crossTalk/session_990139534/traces_out_990400782.h5\n",
      "copying /allen/programs/braintv/workgroups/nc-ophys/Farzaneh/ICA_crossTalk/session_990139534/neuropil_out_990400780.h5\n",
      "copying /allen/programs/braintv/workgroups/nc-ophys/Farzaneh/ICA_crossTalk/session_990139534/neuropil_out_990400781.h5\n",
      "copying /allen/programs/braintv/workgroups/nc-ophys/Farzaneh/ICA_crossTalk/session_990139534/neuropil_out_990400779.h5\n",
      "copying /allen/programs/braintv/workgroups/nc-ophys/Farzaneh/ICA_crossTalk/session_990139534/neuropil_out_990400778.h5\n",
      "copying /allen/programs/braintv/workgroups/nc-ophys/Farzaneh/ICA_crossTalk/session_990139534/neuropil_out_990400777.h5\n",
      "copying /allen/programs/braintv/workgroups/nc-ophys/Farzaneh/ICA_crossTalk/session_990139534/neuropil_out_990400775.h5\n",
      "copying /allen/programs/braintv/workgroups/nc-ophys/Farzaneh/ICA_crossTalk/session_990139534/neuropil_out_990400783.h5\n",
      "copying /allen/programs/braintv/workgroups/nc-ophys/Farzaneh/ICA_crossTalk/session_990139534/neuropil_out_990400782.h5\n",
      "\n",
      "\n",
      "Session 132/143: /allen/programs/braintv/workgroups/nc-ophys/Farzaneh/ICA_crossTalk/session_990464099/\n",
      "copying /allen/programs/braintv/workgroups/nc-ophys/Farzaneh/ICA_crossTalk/session_990464099/traces_out_990681012.h5\n",
      "copying /allen/programs/braintv/workgroups/nc-ophys/Farzaneh/ICA_crossTalk/session_990464099/traces_out_990681010.h5\n",
      "copying /allen/programs/braintv/workgroups/nc-ophys/Farzaneh/ICA_crossTalk/session_990464099/traces_out_990681014.h5\n",
      "copying /allen/programs/braintv/workgroups/nc-ophys/Farzaneh/ICA_crossTalk/session_990464099/traces_out_990681013.h5\n",
      "copying /allen/programs/braintv/workgroups/nc-ophys/Farzaneh/ICA_crossTalk/session_990464099/traces_out_990681006.h5\n",
      "copying /allen/programs/braintv/workgroups/nc-ophys/Farzaneh/ICA_crossTalk/session_990464099/traces_out_990681007.h5\n",
      "copying /allen/programs/braintv/workgroups/nc-ophys/Farzaneh/ICA_crossTalk/session_990464099/traces_out_990681009.h5\n",
      "copying /allen/programs/braintv/workgroups/nc-ophys/Farzaneh/ICA_crossTalk/session_990464099/traces_out_990681008.h5\n",
      "copying /allen/programs/braintv/workgroups/nc-ophys/Farzaneh/ICA_crossTalk/session_990464099/neuropil_out_990681014.h5\n",
      "copying /allen/programs/braintv/workgroups/nc-ophys/Farzaneh/ICA_crossTalk/session_990464099/neuropil_out_990681013.h5\n",
      "copying /allen/programs/braintv/workgroups/nc-ophys/Farzaneh/ICA_crossTalk/session_990464099/neuropil_out_990681009.h5\n",
      "copying /allen/programs/braintv/workgroups/nc-ophys/Farzaneh/ICA_crossTalk/session_990464099/neuropil_out_990681008.h5\n",
      "copying /allen/programs/braintv/workgroups/nc-ophys/Farzaneh/ICA_crossTalk/session_990464099/neuropil_out_990681012.h5\n",
      "copying /allen/programs/braintv/workgroups/nc-ophys/Farzaneh/ICA_crossTalk/session_990464099/neuropil_out_990681010.h5\n",
      "copying /allen/programs/braintv/workgroups/nc-ophys/Farzaneh/ICA_crossTalk/session_990464099/neuropil_out_990681006.h5\n",
      "copying /allen/programs/braintv/workgroups/nc-ophys/Farzaneh/ICA_crossTalk/session_990464099/neuropil_out_990681007.h5\n",
      "\n",
      "\n",
      "Session 133/143: /allen/programs/braintv/workgroups/nc-ophys/Farzaneh/ICA_crossTalk/session_991639544/\n",
      "copying /allen/programs/braintv/workgroups/nc-ophys/Farzaneh/ICA_crossTalk/session_991639544/traces_out_991852000.h5\n",
      "copying /allen/programs/braintv/workgroups/nc-ophys/Farzaneh/ICA_crossTalk/session_991639544/traces_out_991852001.h5\n",
      "copying /allen/programs/braintv/workgroups/nc-ophys/Farzaneh/ICA_crossTalk/session_991639544/traces_out_991852006.h5\n",
      "copying /allen/programs/braintv/workgroups/nc-ophys/Farzaneh/ICA_crossTalk/session_991639544/traces_out_991852008.h5\n",
      "copying /allen/programs/braintv/workgroups/nc-ophys/Farzaneh/ICA_crossTalk/session_991639544/traces_out_991852005.h5\n",
      "copying /allen/programs/braintv/workgroups/nc-ophys/Farzaneh/ICA_crossTalk/session_991639544/traces_out_991852004.h5\n",
      "copying /allen/programs/braintv/workgroups/nc-ophys/Farzaneh/ICA_crossTalk/session_991639544/traces_out_991852002.h5\n",
      "copying /allen/programs/braintv/workgroups/nc-ophys/Farzaneh/ICA_crossTalk/session_991639544/traces_out_991852003.h5\n",
      "copying /allen/programs/braintv/workgroups/nc-ophys/Farzaneh/ICA_crossTalk/session_991639544/neuropil_out_991852005.h5\n",
      "copying /allen/programs/braintv/workgroups/nc-ophys/Farzaneh/ICA_crossTalk/session_991639544/neuropil_out_991852004.h5\n",
      "copying /allen/programs/braintv/workgroups/nc-ophys/Farzaneh/ICA_crossTalk/session_991639544/neuropil_out_991852000.h5\n",
      "copying /allen/programs/braintv/workgroups/nc-ophys/Farzaneh/ICA_crossTalk/session_991639544/neuropil_out_991852001.h5\n",
      "copying /allen/programs/braintv/workgroups/nc-ophys/Farzaneh/ICA_crossTalk/session_991639544/neuropil_out_991852002.h5\n",
      "copying /allen/programs/braintv/workgroups/nc-ophys/Farzaneh/ICA_crossTalk/session_991639544/neuropil_out_991852003.h5\n",
      "copying /allen/programs/braintv/workgroups/nc-ophys/Farzaneh/ICA_crossTalk/session_991639544/neuropil_out_991852006.h5\n",
      "copying /allen/programs/braintv/workgroups/nc-ophys/Farzaneh/ICA_crossTalk/session_991639544/neuropil_out_991852008.h5\n",
      "\n",
      "\n",
      "Session 134/143: /allen/programs/braintv/workgroups/nc-ophys/Farzaneh/ICA_crossTalk/session_991958444/\n",
      "copying /allen/programs/braintv/workgroups/nc-ophys/Farzaneh/ICA_crossTalk/session_991958444/traces_out_992084635.h5\n",
      "copying /allen/programs/braintv/workgroups/nc-ophys/Farzaneh/ICA_crossTalk/session_991958444/traces_out_992084633.h5\n",
      "copying /allen/programs/braintv/workgroups/nc-ophys/Farzaneh/ICA_crossTalk/session_991958444/traces_out_992084628.h5\n",
      "copying /allen/programs/braintv/workgroups/nc-ophys/Farzaneh/ICA_crossTalk/session_991958444/traces_out_992084629.h5\n",
      "copying /allen/programs/braintv/workgroups/nc-ophys/Farzaneh/ICA_crossTalk/session_991958444/traces_out_992084626.h5\n",
      "copying /allen/programs/braintv/workgroups/nc-ophys/Farzaneh/ICA_crossTalk/session_991958444/traces_out_992084627.h5\n",
      "copying /allen/programs/braintv/workgroups/nc-ophys/Farzaneh/ICA_crossTalk/session_991958444/traces_out_992084625.h5\n",
      "copying /allen/programs/braintv/workgroups/nc-ophys/Farzaneh/ICA_crossTalk/session_991958444/traces_out_992084624.h5\n",
      "copying /allen/programs/braintv/workgroups/nc-ophys/Farzaneh/ICA_crossTalk/session_991958444/neuropil_out_992084626.h5\n",
      "copying /allen/programs/braintv/workgroups/nc-ophys/Farzaneh/ICA_crossTalk/session_991958444/neuropil_out_992084627.h5\n",
      "copying /allen/programs/braintv/workgroups/nc-ophys/Farzaneh/ICA_crossTalk/session_991958444/neuropil_out_992084628.h5\n",
      "copying /allen/programs/braintv/workgroups/nc-ophys/Farzaneh/ICA_crossTalk/session_991958444/neuropil_out_992084629.h5\n",
      "copying /allen/programs/braintv/workgroups/nc-ophys/Farzaneh/ICA_crossTalk/session_991958444/neuropil_out_992084635.h5\n",
      "copying /allen/programs/braintv/workgroups/nc-ophys/Farzaneh/ICA_crossTalk/session_991958444/neuropil_out_992084633.h5\n",
      "copying /allen/programs/braintv/workgroups/nc-ophys/Farzaneh/ICA_crossTalk/session_991958444/neuropil_out_992084625.h5\n",
      "copying /allen/programs/braintv/workgroups/nc-ophys/Farzaneh/ICA_crossTalk/session_991958444/neuropil_out_992084624.h5\n",
      "\n",
      "\n",
      "Session 135/143: /allen/programs/braintv/workgroups/nc-ophys/Farzaneh/ICA_crossTalk/session_992393325/\n",
      "copying /allen/programs/braintv/workgroups/nc-ophys/Farzaneh/ICA_crossTalk/session_992393325/traces_out_992620395.h5\n",
      "copying /allen/programs/braintv/workgroups/nc-ophys/Farzaneh/ICA_crossTalk/session_992393325/traces_out_992620393.h5\n",
      "copying /allen/programs/braintv/workgroups/nc-ophys/Farzaneh/ICA_crossTalk/session_992393325/traces_out_992620390.h5\n",
      "copying /allen/programs/braintv/workgroups/nc-ophys/Farzaneh/ICA_crossTalk/session_992393325/traces_out_992620388.h5\n",
      "copying /allen/programs/braintv/workgroups/nc-ophys/Farzaneh/ICA_crossTalk/session_992393325/traces_out_992620391.h5\n",
      "copying /allen/programs/braintv/workgroups/nc-ophys/Farzaneh/ICA_crossTalk/session_992393325/traces_out_992620392.h5\n",
      "copying /allen/programs/braintv/workgroups/nc-ophys/Farzaneh/ICA_crossTalk/session_992393325/traces_out_992620396.h5\n",
      "copying /allen/programs/braintv/workgroups/nc-ophys/Farzaneh/ICA_crossTalk/session_992393325/traces_out_992620397.h5\n",
      "copying /allen/programs/braintv/workgroups/nc-ophys/Farzaneh/ICA_crossTalk/session_992393325/neuropil_out_992620396.h5\n",
      "copying /allen/programs/braintv/workgroups/nc-ophys/Farzaneh/ICA_crossTalk/session_992393325/neuropil_out_992620397.h5\n",
      "copying /allen/programs/braintv/workgroups/nc-ophys/Farzaneh/ICA_crossTalk/session_992393325/neuropil_out_992620390.h5\n",
      "copying /allen/programs/braintv/workgroups/nc-ophys/Farzaneh/ICA_crossTalk/session_992393325/neuropil_out_992620388.h5\n",
      "copying /allen/programs/braintv/workgroups/nc-ophys/Farzaneh/ICA_crossTalk/session_992393325/neuropil_out_992620391.h5\n",
      "copying /allen/programs/braintv/workgroups/nc-ophys/Farzaneh/ICA_crossTalk/session_992393325/neuropil_out_992620392.h5\n",
      "copying /allen/programs/braintv/workgroups/nc-ophys/Farzaneh/ICA_crossTalk/session_992393325/neuropil_out_992620395.h5\n",
      "copying /allen/programs/braintv/workgroups/nc-ophys/Farzaneh/ICA_crossTalk/session_992393325/neuropil_out_992620393.h5\n",
      "\n",
      "\n",
      "Session 136/143: /allen/programs/braintv/workgroups/nc-ophys/Farzaneh/ICA_crossTalk/session_993253587/\n",
      "copying /allen/programs/braintv/workgroups/nc-ophys/Farzaneh/ICA_crossTalk/session_993253587/traces_out_993369859.h5\n",
      "copying /allen/programs/braintv/workgroups/nc-ophys/Farzaneh/ICA_crossTalk/session_993253587/traces_out_993369860.h5\n",
      "copying /allen/programs/braintv/workgroups/nc-ophys/Farzaneh/ICA_crossTalk/session_993253587/traces_out_993369861.h5\n",
      "copying /allen/programs/braintv/workgroups/nc-ophys/Farzaneh/ICA_crossTalk/session_993253587/traces_out_993369862.h5\n",
      "copying /allen/programs/braintv/workgroups/nc-ophys/Farzaneh/ICA_crossTalk/session_993253587/traces_out_993369857.h5\n",
      "copying /allen/programs/braintv/workgroups/nc-ophys/Farzaneh/ICA_crossTalk/session_993253587/traces_out_993369858.h5\n",
      "copying /allen/programs/braintv/workgroups/nc-ophys/Farzaneh/ICA_crossTalk/session_993253587/traces_out_993369863.h5\n",
      "copying /allen/programs/braintv/workgroups/nc-ophys/Farzaneh/ICA_crossTalk/session_993253587/traces_out_993369864.h5\n",
      "copying /allen/programs/braintv/workgroups/nc-ophys/Farzaneh/ICA_crossTalk/session_993253587/neuropil_out_993369863.h5\n",
      "copying /allen/programs/braintv/workgroups/nc-ophys/Farzaneh/ICA_crossTalk/session_993253587/neuropil_out_993369864.h5\n",
      "copying /allen/programs/braintv/workgroups/nc-ophys/Farzaneh/ICA_crossTalk/session_993253587/neuropil_out_993369861.h5\n",
      "copying /allen/programs/braintv/workgroups/nc-ophys/Farzaneh/ICA_crossTalk/session_993253587/neuropil_out_993369862.h5\n",
      "copying /allen/programs/braintv/workgroups/nc-ophys/Farzaneh/ICA_crossTalk/session_993253587/neuropil_out_993369859.h5\n",
      "copying /allen/programs/braintv/workgroups/nc-ophys/Farzaneh/ICA_crossTalk/session_993253587/neuropil_out_993369860.h5\n",
      "copying /allen/programs/braintv/workgroups/nc-ophys/Farzaneh/ICA_crossTalk/session_993253587/neuropil_out_993369857.h5\n",
      "copying /allen/programs/braintv/workgroups/nc-ophys/Farzaneh/ICA_crossTalk/session_993253587/neuropil_out_993369858.h5\n",
      "\n",
      "\n",
      "Session 137/143: /allen/programs/braintv/workgroups/nc-ophys/Farzaneh/ICA_crossTalk/session_993420347/\n",
      "copying /allen/programs/braintv/workgroups/nc-ophys/Farzaneh/ICA_crossTalk/session_993420347/traces_out_993619369.h5\n",
      "copying /allen/programs/braintv/workgroups/nc-ophys/Farzaneh/ICA_crossTalk/session_993420347/traces_out_993619370.h5\n",
      "copying /allen/programs/braintv/workgroups/nc-ophys/Farzaneh/ICA_crossTalk/session_993420347/traces_out_993619372.h5\n",
      "copying /allen/programs/braintv/workgroups/nc-ophys/Farzaneh/ICA_crossTalk/session_993420347/traces_out_993619371.h5\n",
      "copying /allen/programs/braintv/workgroups/nc-ophys/Farzaneh/ICA_crossTalk/session_993420347/traces_out_993619366.h5\n",
      "copying /allen/programs/braintv/workgroups/nc-ophys/Farzaneh/ICA_crossTalk/session_993420347/traces_out_993619364.h5\n",
      "copying /allen/programs/braintv/workgroups/nc-ophys/Farzaneh/ICA_crossTalk/session_993420347/traces_out_993619367.h5\n",
      "copying /allen/programs/braintv/workgroups/nc-ophys/Farzaneh/ICA_crossTalk/session_993420347/traces_out_993619368.h5\n",
      "copying /allen/programs/braintv/workgroups/nc-ophys/Farzaneh/ICA_crossTalk/session_993420347/neuropil_out_993619366.h5\n",
      "copying /allen/programs/braintv/workgroups/nc-ophys/Farzaneh/ICA_crossTalk/session_993420347/neuropil_out_993619364.h5\n",
      "copying /allen/programs/braintv/workgroups/nc-ophys/Farzaneh/ICA_crossTalk/session_993420347/neuropil_out_993619367.h5\n",
      "copying /allen/programs/braintv/workgroups/nc-ophys/Farzaneh/ICA_crossTalk/session_993420347/neuropil_out_993619368.h5\n",
      "copying /allen/programs/braintv/workgroups/nc-ophys/Farzaneh/ICA_crossTalk/session_993420347/neuropil_out_993619369.h5\n",
      "copying /allen/programs/braintv/workgroups/nc-ophys/Farzaneh/ICA_crossTalk/session_993420347/neuropil_out_993619370.h5\n",
      "copying /allen/programs/braintv/workgroups/nc-ophys/Farzaneh/ICA_crossTalk/session_993420347/neuropil_out_993619372.h5\n",
      "copying /allen/programs/braintv/workgroups/nc-ophys/Farzaneh/ICA_crossTalk/session_993420347/neuropil_out_993619371.h5\n",
      "\n",
      "\n",
      "Session 138/143: /allen/programs/braintv/workgroups/nc-ophys/Farzaneh/ICA_crossTalk/session_993738515/\n",
      "copying /allen/programs/braintv/workgroups/nc-ophys/Farzaneh/ICA_crossTalk/session_993738515/traces_out_993891845.h5\n",
      "copying /allen/programs/braintv/workgroups/nc-ophys/Farzaneh/ICA_crossTalk/session_993738515/traces_out_993891844.h5\n",
      "copying /allen/programs/braintv/workgroups/nc-ophys/Farzaneh/ICA_crossTalk/session_993738515/traces_out_993891843.h5\n",
      "copying /allen/programs/braintv/workgroups/nc-ophys/Farzaneh/ICA_crossTalk/session_993738515/traces_out_993891842.h5\n",
      "copying /allen/programs/braintv/workgroups/nc-ophys/Farzaneh/ICA_crossTalk/session_993738515/traces_out_993891846.h5\n",
      "copying /allen/programs/braintv/workgroups/nc-ophys/Farzaneh/ICA_crossTalk/session_993738515/traces_out_993891847.h5\n",
      "copying /allen/programs/braintv/workgroups/nc-ophys/Farzaneh/ICA_crossTalk/session_993738515/traces_out_993891849.h5\n",
      "copying /allen/programs/braintv/workgroups/nc-ophys/Farzaneh/ICA_crossTalk/session_993738515/traces_out_993891850.h5\n",
      "copying /allen/programs/braintv/workgroups/nc-ophys/Farzaneh/ICA_crossTalk/session_993738515/neuropil_out_993891849.h5\n",
      "copying /allen/programs/braintv/workgroups/nc-ophys/Farzaneh/ICA_crossTalk/session_993738515/neuropil_out_993891850.h5\n",
      "copying /allen/programs/braintv/workgroups/nc-ophys/Farzaneh/ICA_crossTalk/session_993738515/neuropil_out_993891843.h5\n",
      "copying /allen/programs/braintv/workgroups/nc-ophys/Farzaneh/ICA_crossTalk/session_993738515/neuropil_out_993891842.h5\n",
      "copying /allen/programs/braintv/workgroups/nc-ophys/Farzaneh/ICA_crossTalk/session_993738515/neuropil_out_993891845.h5\n",
      "copying /allen/programs/braintv/workgroups/nc-ophys/Farzaneh/ICA_crossTalk/session_993738515/neuropil_out_993891844.h5\n",
      "copying /allen/programs/braintv/workgroups/nc-ophys/Farzaneh/ICA_crossTalk/session_993738515/neuropil_out_993891846.h5\n",
      "copying /allen/programs/braintv/workgroups/nc-ophys/Farzaneh/ICA_crossTalk/session_993738515/neuropil_out_993891847.h5\n",
      "\n",
      "\n",
      "Session 139/143: /allen/programs/braintv/workgroups/nc-ophys/Farzaneh/ICA_crossTalk/session_993962221/\n",
      "copying /allen/programs/braintv/workgroups/nc-ophys/Farzaneh/ICA_crossTalk/session_993962221/traces_out_994082674.h5\n",
      "copying /allen/programs/braintv/workgroups/nc-ophys/Farzaneh/ICA_crossTalk/session_993962221/traces_out_994082676.h5\n",
      "copying /allen/programs/braintv/workgroups/nc-ophys/Farzaneh/ICA_crossTalk/session_993962221/traces_out_994082679.h5\n",
      "copying /allen/programs/braintv/workgroups/nc-ophys/Farzaneh/ICA_crossTalk/session_993962221/traces_out_994082677.h5\n",
      "copying /allen/programs/braintv/workgroups/nc-ophys/Farzaneh/ICA_crossTalk/session_993962221/traces_out_994082680.h5\n",
      "copying /allen/programs/braintv/workgroups/nc-ophys/Farzaneh/ICA_crossTalk/session_993962221/traces_out_994082683.h5\n",
      "copying /allen/programs/braintv/workgroups/nc-ophys/Farzaneh/ICA_crossTalk/session_993962221/traces_out_994082671.h5\n",
      "copying /allen/programs/braintv/workgroups/nc-ophys/Farzaneh/ICA_crossTalk/session_993962221/traces_out_994082673.h5\n",
      "copying /allen/programs/braintv/workgroups/nc-ophys/Farzaneh/ICA_crossTalk/session_993962221/neuropil_out_994082679.h5\n",
      "copying /allen/programs/braintv/workgroups/nc-ophys/Farzaneh/ICA_crossTalk/session_993962221/neuropil_out_994082677.h5\n",
      "copying /allen/programs/braintv/workgroups/nc-ophys/Farzaneh/ICA_crossTalk/session_993962221/neuropil_out_994082671.h5\n",
      "copying /allen/programs/braintv/workgroups/nc-ophys/Farzaneh/ICA_crossTalk/session_993962221/neuropil_out_994082673.h5\n",
      "copying /allen/programs/braintv/workgroups/nc-ophys/Farzaneh/ICA_crossTalk/session_993962221/neuropil_out_994082680.h5\n",
      "copying /allen/programs/braintv/workgroups/nc-ophys/Farzaneh/ICA_crossTalk/session_993962221/neuropil_out_994082683.h5\n",
      "copying /allen/programs/braintv/workgroups/nc-ophys/Farzaneh/ICA_crossTalk/session_993962221/neuropil_out_994082674.h5\n",
      "copying /allen/programs/braintv/workgroups/nc-ophys/Farzaneh/ICA_crossTalk/session_993962221/neuropil_out_994082676.h5\n",
      "\n",
      "\n",
      "Session 140/143: /allen/programs/braintv/workgroups/nc-ophys/Farzaneh/ICA_crossTalk/session_1000439105/\n",
      "copying /allen/programs/braintv/workgroups/nc-ophys/Farzaneh/ICA_crossTalk/session_1000439105/traces_out_1000744373.h5\n",
      "copying /allen/programs/braintv/workgroups/nc-ophys/Farzaneh/ICA_crossTalk/session_1000439105/traces_out_1000744371.h5\n",
      "copying /allen/programs/braintv/workgroups/nc-ophys/Farzaneh/ICA_crossTalk/session_1000439105/traces_out_1000744363.h5\n",
      "copying /allen/programs/braintv/workgroups/nc-ophys/Farzaneh/ICA_crossTalk/session_1000439105/traces_out_1000744365.h5\n",
      "copying /allen/programs/braintv/workgroups/nc-ophys/Farzaneh/ICA_crossTalk/session_1000439105/traces_out_1000744374.h5\n",
      "copying /allen/programs/braintv/workgroups/nc-ophys/Farzaneh/ICA_crossTalk/session_1000439105/traces_out_1000744376.h5\n",
      "copying /allen/programs/braintv/workgroups/nc-ophys/Farzaneh/ICA_crossTalk/session_1000439105/traces_out_1000744370.h5\n",
      "copying /allen/programs/braintv/workgroups/nc-ophys/Farzaneh/ICA_crossTalk/session_1000439105/traces_out_1000744367.h5\n",
      "copying /allen/programs/braintv/workgroups/nc-ophys/Farzaneh/ICA_crossTalk/session_1000439105/neuropil_out_1000744373.h5\n",
      "copying /allen/programs/braintv/workgroups/nc-ophys/Farzaneh/ICA_crossTalk/session_1000439105/neuropil_out_1000744371.h5\n",
      "copying /allen/programs/braintv/workgroups/nc-ophys/Farzaneh/ICA_crossTalk/session_1000439105/neuropil_out_1000744370.h5\n",
      "copying /allen/programs/braintv/workgroups/nc-ophys/Farzaneh/ICA_crossTalk/session_1000439105/neuropil_out_1000744367.h5\n",
      "copying /allen/programs/braintv/workgroups/nc-ophys/Farzaneh/ICA_crossTalk/session_1000439105/neuropil_out_1000744363.h5\n",
      "copying /allen/programs/braintv/workgroups/nc-ophys/Farzaneh/ICA_crossTalk/session_1000439105/neuropil_out_1000744365.h5\n",
      "copying /allen/programs/braintv/workgroups/nc-ophys/Farzaneh/ICA_crossTalk/session_1000439105/neuropil_out_1000744374.h5\n",
      "copying /allen/programs/braintv/workgroups/nc-ophys/Farzaneh/ICA_crossTalk/session_1000439105/neuropil_out_1000744376.h5\n",
      "\n",
      "\n",
      "Session 141/143: /allen/programs/braintv/workgroups/nc-ophys/Farzaneh/ICA_crossTalk/session_1002120640/\n",
      "copying /allen/programs/braintv/workgroups/nc-ophys/Farzaneh/ICA_crossTalk/session_1002120640/traces_out_1002336291.h5\n",
      "copying /allen/programs/braintv/workgroups/nc-ophys/Farzaneh/ICA_crossTalk/session_1002120640/traces_out_1002336289.h5\n",
      "copying /allen/programs/braintv/workgroups/nc-ophys/Farzaneh/ICA_crossTalk/session_1002120640/traces_out_1002336299.h5\n",
      "copying /allen/programs/braintv/workgroups/nc-ophys/Farzaneh/ICA_crossTalk/session_1002120640/traces_out_1002336301.h5\n",
      "copying /allen/programs/braintv/workgroups/nc-ophys/Farzaneh/ICA_crossTalk/session_1002120640/traces_out_1002336297.h5\n",
      "copying /allen/programs/braintv/workgroups/nc-ophys/Farzaneh/ICA_crossTalk/session_1002120640/traces_out_1002336295.h5\n",
      "copying /allen/programs/braintv/workgroups/nc-ophys/Farzaneh/ICA_crossTalk/session_1002120640/traces_out_1002336294.h5\n",
      "copying /allen/programs/braintv/workgroups/nc-ophys/Farzaneh/ICA_crossTalk/session_1002120640/traces_out_1002336292.h5\n",
      "copying /allen/programs/braintv/workgroups/nc-ophys/Farzaneh/ICA_crossTalk/session_1002120640/neuropil_out_1002336297.h5\n",
      "copying /allen/programs/braintv/workgroups/nc-ophys/Farzaneh/ICA_crossTalk/session_1002120640/neuropil_out_1002336295.h5\n",
      "copying /allen/programs/braintv/workgroups/nc-ophys/Farzaneh/ICA_crossTalk/session_1002120640/neuropil_out_1002336294.h5\n",
      "copying /allen/programs/braintv/workgroups/nc-ophys/Farzaneh/ICA_crossTalk/session_1002120640/neuropil_out_1002336292.h5\n",
      "copying /allen/programs/braintv/workgroups/nc-ophys/Farzaneh/ICA_crossTalk/session_1002120640/neuropil_out_1002336291.h5\n",
      "copying /allen/programs/braintv/workgroups/nc-ophys/Farzaneh/ICA_crossTalk/session_1002120640/neuropil_out_1002336289.h5\n",
      "copying /allen/programs/braintv/workgroups/nc-ophys/Farzaneh/ICA_crossTalk/session_1002120640/neuropil_out_1002336299.h5\n",
      "copying /allen/programs/braintv/workgroups/nc-ophys/Farzaneh/ICA_crossTalk/session_1002120640/neuropil_out_1002336301.h5\n",
      "\n",
      "\n",
      "Session 142/143: /allen/programs/braintv/workgroups/nc-ophys/Farzaneh/ICA_crossTalk/session_1005374186/\n",
      "copying /allen/programs/braintv/workgroups/nc-ophys/Farzaneh/ICA_crossTalk/session_1005374186/traces_out_1005529394.h5\n",
      "copying /allen/programs/braintv/workgroups/nc-ophys/Farzaneh/ICA_crossTalk/session_1005374186/traces_out_1005529397.h5\n",
      "copying /allen/programs/braintv/workgroups/nc-ophys/Farzaneh/ICA_crossTalk/session_1005374186/traces_out_1005529400.h5\n",
      "copying /allen/programs/braintv/workgroups/nc-ophys/Farzaneh/ICA_crossTalk/session_1005374186/traces_out_1005529398.h5\n",
      "copying /allen/programs/braintv/workgroups/nc-ophys/Farzaneh/ICA_crossTalk/session_1005374186/traces_out_1005529407.h5\n",
      "copying /allen/programs/braintv/workgroups/nc-ophys/Farzaneh/ICA_crossTalk/session_1005374186/traces_out_1005529404.h5\n",
      "copying /allen/programs/braintv/workgroups/nc-ophys/Farzaneh/ICA_crossTalk/session_1005374186/traces_out_1005529403.h5\n",
      "copying /allen/programs/braintv/workgroups/nc-ophys/Farzaneh/ICA_crossTalk/session_1005374186/traces_out_1005529401.h5\n",
      "copying /allen/programs/braintv/workgroups/nc-ophys/Farzaneh/ICA_crossTalk/session_1005374186/neuropil_out_1005529394.h5\n",
      "copying /allen/programs/braintv/workgroups/nc-ophys/Farzaneh/ICA_crossTalk/session_1005374186/neuropil_out_1005529397.h5\n",
      "copying /allen/programs/braintv/workgroups/nc-ophys/Farzaneh/ICA_crossTalk/session_1005374186/neuropil_out_1005529403.h5\n",
      "copying /allen/programs/braintv/workgroups/nc-ophys/Farzaneh/ICA_crossTalk/session_1005374186/neuropil_out_1005529401.h5\n",
      "copying /allen/programs/braintv/workgroups/nc-ophys/Farzaneh/ICA_crossTalk/session_1005374186/neuropil_out_1005529400.h5\n",
      "copying /allen/programs/braintv/workgroups/nc-ophys/Farzaneh/ICA_crossTalk/session_1005374186/neuropil_out_1005529398.h5\n",
      "copying /allen/programs/braintv/workgroups/nc-ophys/Farzaneh/ICA_crossTalk/session_1005374186/neuropil_out_1005529407.h5\n",
      "copying /allen/programs/braintv/workgroups/nc-ophys/Farzaneh/ICA_crossTalk/session_1005374186/neuropil_out_1005529404.h5\n"
     ]
    }
   ],
   "source": [
    "# copy the out.h5 file of each experiment to the session folder, also rename it as 'traces_out_{exp_id}' (do the same with 'neuropil' traces)\n",
    "# we do this so we can easily handle both the np and traces files from the session folder!\n",
    "        \n",
    "for isct in range(len(sessions_ctDone)): # isct=0\n",
    "\n",
    "    dest_ct = f'/allen/programs/braintv/workgroups/nc-ophys/Farzaneh/ICA_crossTalk/session_{sessions_ctDone[isct]}/'\n",
    "\n",
    "    \n",
    "    print(f'\\n\\nSession {isct}/{len(sessions_ctDone)}: {dest_ct}')\n",
    "    list_files = os.listdir(dest_ct) # list of files in session_xxxx\n",
    "\n",
    "\n",
    "    ##### Go to ica_traces and ica_neuropil folder and get the name of out.h5 files, also valid.json files.\n",
    "    for trace_type in ['traces', 'neuropil']: \n",
    "        \n",
    "        regex = re.compile(f'ica_{trace_type}_(.*)') # valid_{839716139}.json        \n",
    "        ica_traces_folders = [string for string in list_files if re.match(regex, string)]\n",
    "#         print(ica_traces_folders)\n",
    "\n",
    "\n",
    "        # set experiment ids\n",
    "        exp_ids = []\n",
    "        for ipp in range(len(ica_traces_folders)):\n",
    "            f = ica_traces_folders[ipp]\n",
    "            # print(f)\n",
    "            tokens = [m.start() for m in re.finditer('_', f)]\n",
    "            exp0 = f[tokens[1]+1 : tokens[2]]\n",
    "            exp1 = f[tokens[2]+1:]\n",
    "\n",
    "            exp_ids.append(exp0)\n",
    "            exp_ids.append(exp1)\n",
    "#         print(exp_ids)    \n",
    "\n",
    "        \n",
    "\n",
    "        # create neuropil_corrected_manual folder in the session folder\n",
    "        for exp_id in exp_ids: \n",
    "            np_corr_fold = os.path.join(dest_ct, f'neuropil_corrected_manual_{exp_id}')\n",
    "            \n",
    "#             print(f'\\nnp_corr folder: {np_corr_fold}')\n",
    "            if not os.path.exists(np_corr_fold):\n",
    "                os.makedirs(np_corr_fold)\n",
    "\n",
    "        \n",
    "        \n",
    "        # cd to each ica_traces folder (each plane pair folder)\n",
    "        # copy the out.h5 file of each experiment to the session folder, also rename it as 'traces_out_{exp_id}' (do the same with 'neuropil' traces)\n",
    "        # we do this so we can easily handle both the np and traces files from the session folder!\n",
    "        \n",
    "        for ifo in range(len(ica_traces_folders)):\n",
    "            \n",
    "            # get the list of valid json files for this plane pair\n",
    "            dir_ica_traces = os.path.join(dest_ct, ica_traces_folders[ifo])\n",
    "            \n",
    "            list_files2 = os.listdir(dir_ica_traces) # list of files in ica_traces\n",
    "    #         print(list_files2)\n",
    "            # valid json\n",
    "            regex = re.compile(f'(.*)_valid.json')\n",
    "            jsonfiles = [string for string in list_files2 if re.match(regex, string)]\n",
    "    #         print(jsonfiles)\n",
    "            # out file\n",
    "            regex = re.compile(f'(.*)_out.h5')\n",
    "            outfiles = [string for string in list_files2 if re.match(regex, string)]\n",
    "#             print(outfiles)\n",
    "\n",
    "\n",
    "            # get the name of out and valid json files\n",
    "            dest_ct_validjson = os.path.join(dest_ct, ica_traces_folders[ifo])\n",
    "#             print(f'\\ndestination folder: {dest_ct_validjson}')\n",
    "\n",
    "#             for ijs in range(len(jsonfiles)):\n",
    "#                 dest_ct_validjson = os.path.join(dir_ica_traces, jsonfiles[ijs])\n",
    "#                 print(dest_ct_validjson)\n",
    "\n",
    "\n",
    "            # copy the out.h5 file of each experiment to the session folder, also rename it as 'traces_out_{exp_id}' (same with 'neuropil')\n",
    "            # we do this so we can easily handle both the np and traces files from the session folder!\n",
    "            for ijs in range(len(outfiles)):\n",
    "                dest_ct_out = os.path.join(dir_ica_traces, outfiles[ijs])\n",
    "#                 print(dest_ct_out)\n",
    "\n",
    "                exp_id_now = outfiles[ijs][:outfiles[ijs].find('_')]\n",
    "#                 print(exp_id_now)\n",
    "                        \n",
    "\n",
    "                if os.path.exists(os.path.join(dest_ct, f'{trace_type}_out_{exp_id_now}')): # remove the files you created which dont have .h5 in their name\n",
    "                    os.remove(os.path.join(dest_ct, f'{trace_type}_out_{exp_id_now}')) \n",
    "\n",
    "                # copy \n",
    "                dest_good_name = os.path.join(dest_ct, f'{trace_type}_out_{exp_id_now}.h5')\n",
    "                \n",
    "                print(f'copying {dest_good_name}')\n",
    "                shutil.copy(dest_ct_out, dest_good_name)\n",
    "                \n",
    "            \n",
    "            "
   ]
  },
  {
   "cell_type": "code",
   "execution_count": 304,
   "metadata": {},
   "outputs": [
    {
     "name": "stdout",
     "output_type": "stream",
     "text": [
      "\n",
      "\n",
      "Session 0/143: /allen/programs/braintv/workgroups/nc-ophys/Farzaneh/ICA_crossTalk/session_839514418/\n",
      "['840460366', '840460368', '840460370', '840460372', '840460380', '840460383', '840460376', '840460378']\n",
      "(2, 25, 50421) (2, 25, 50421)\n",
      "(2, 86, 50421) (2, 86, 50421)\n",
      "(2, 19, 50421) (2, 19, 50421)\n",
      "(2, 55, 50421) (2, 55, 50421)\n",
      "(2, 26, 50421) (2, 26, 50421)\n",
      "(2, 71, 50421) (2, 71, 50421)\n",
      "(2, 38, 50421) (2, 38, 50421)\n",
      "(2, 38, 50421) (2, 38, 50421)\n",
      "\n",
      "\n",
      "Session 1/143: /allen/programs/braintv/workgroups/nc-ophys/Farzaneh/ICA_crossTalk/session_840490733/\n",
      "['840717531', '840717534', '840717527', '840717529', '840717536', '840717538', '840717540', '840717542']\n",
      "(2, 21, 48293) (2, 21, 48293)\n",
      "(2, 59, 48293) (2, 59, 48293)\n",
      "(2, 23, 48293) (2, 23, 48293)\n",
      "(2, 62, 48293) (2, 62, 48293)\n",
      "(2, 29, 48293) (2, 29, 48293)\n",
      "(2, 33, 48293) (2, 33, 48293)\n",
      "(2, 28, 48293) (2, 28, 48293)\n",
      "(2, 74, 48293) (2, 74, 48293)\n",
      "\n",
      "\n",
      "Session 2/143: /allen/programs/braintv/workgroups/nc-ophys/Farzaneh/ICA_crossTalk/session_841303580/\n",
      "['841624560', '841624564', '841624569', '841624576', '841624549', '841624552', '841624554', '841624556']\n",
      "(2, 57, 48349) (2, 57, 48349)\n",
      "(2, 51, 48349) (2, 51, 48349)\n",
      "(2, 37, 48349) (2, 37, 48349)\n",
      "(2, 67, 48349) (2, 67, 48349)\n",
      "(2, 75, 48349) (2, 75, 48349)\n",
      "(2, 53, 48349) (2, 53, 48349)\n",
      "(2, 36, 48349) (2, 36, 48349)\n",
      "(2, 60, 48349) (2, 60, 48349)\n",
      "\n",
      "\n",
      "Session 3/143: /allen/programs/braintv/workgroups/nc-ophys/Farzaneh/ICA_crossTalk/session_841682738/\n",
      "['841968436', '841968438', '841968440', '841968442', '841968445', '841968447', '841968449', '841968452']\n",
      "(2, 38, 48307) (2, 38, 48307)\n",
      "(2, 40, 48307) (2, 40, 48307)\n",
      "(2, 11, 48307) (2, 11, 48307)\n",
      "(2, 33, 48307) (2, 33, 48307)\n",
      "(2, 16, 48307) (2, 16, 48307)\n",
      "(2, 35, 48307) (2, 35, 48307)\n",
      "(2, 12, 48307) (2, 12, 48307)\n",
      "(2, 15, 48307) (2, 15, 48307)\n",
      "\n",
      "\n",
      "Session 4/143: /allen/programs/braintv/workgroups/nc-ophys/Farzaneh/ICA_crossTalk/session_841778484/\n",
      "['841969465', '841969467', '841969460', '841969462', '841969469', '841969471', '841969456', '841969458']\n",
      "(2, 60, 48300) (2, 60, 48300)\n",
      "(2, 34, 48300) (2, 34, 48300)\n",
      "(2, 19, 48300) (2, 19, 48300)\n",
      "(2, 40, 48300) (2, 40, 48300)\n",
      "(2, 31, 48300) (2, 31, 48300)\n",
      "(2, 52, 48300) (2, 52, 48300)\n",
      "(2, 61, 48300) (2, 61, 48300)\n",
      "(2, 46, 48300) (2, 46, 48300)\n",
      "\n",
      "\n",
      "Session 5/143: /allen/programs/braintv/workgroups/nc-ophys/Farzaneh/ICA_crossTalk/session_842023261/\n",
      "['842545454', '842545456', '842545470', '842545472', '842545458', '842545462', '842545466', '842545468']\n",
      "(2, 37, 48312) (2, 37, 48312)\n",
      "(2, 52, 48312) (2, 52, 48312)\n",
      "(2, 28, 48312) (2, 28, 48312)\n",
      "(2, 24, 48312) (2, 24, 48312)\n",
      "(2, 15, 48312) (2, 15, 48312)\n",
      "(2, 32, 48312) (2, 32, 48312)\n",
      "(2, 14, 48312) (2, 14, 48312)\n",
      "(2, 24, 48312) (2, 24, 48312)\n",
      "\n",
      "\n",
      "Session 6/143: /allen/programs/braintv/workgroups/nc-ophys/Farzaneh/ICA_crossTalk/session_842364341/\n",
      "['842545446', '842545448', '842545442', '842545444', '842545437', '842545439', '842545433', '842545435']\n",
      "(2, 31, 48340) (2, 31, 48340)\n",
      "(2, 49, 48340) (2, 49, 48340)\n",
      "(2, 56, 48340) (2, 56, 48340)\n",
      "(2, 49, 48340) (2, 49, 48340)\n",
      "(2, 27, 48340) (2, 27, 48340)\n",
      "(2, 30, 48340) (2, 30, 48340)\n",
      "(2, 32, 48340) (2, 32, 48340)\n",
      "(2, 44, 48340) (2, 44, 48340)\n",
      "\n",
      "\n",
      "Session 7/143: /allen/programs/braintv/workgroups/nc-ophys/Farzaneh/ICA_crossTalk/session_842623907/\n",
      "['843007054', '843007056', '843007058', '843007061', '843007063', '843007065', '843007050', '843007052']\n",
      "(2, 20, 48269) (2, 20, 48269)\n",
      "(2, 27, 48269) (2, 27, 48269)\n",
      "(2, 26, 48269) (2, 26, 48269)\n",
      "(2, 31, 48269) (2, 31, 48269)\n",
      "(2, 10, 48269) (2, 10, 48269)\n",
      "(2, 27, 48269) (2, 27, 48269)\n",
      "(2, 35, 48269) (2, 35, 48269)\n",
      "(2, 29, 48269) (2, 29, 48269)\n",
      "\n",
      "\n",
      "Session 8/143: /allen/programs/braintv/workgroups/nc-ophys/Farzaneh/ICA_crossTalk/session_843871999/\n",
      "['844420226', '844420229', '844420222', '844420224', '844420212', '844420214', '844420217', '844420220']\n",
      "(2, 18, 48335) (2, 18, 48335)\n",
      "(2, 19, 48335) (2, 19, 48335)\n",
      "(2, 24, 48335) (2, 24, 48335)\n",
      "(2, 23, 48335) (2, 23, 48335)\n",
      "(2, 26, 48335) (2, 26, 48335)\n",
      "(2, 44, 48335) (2, 44, 48335)\n",
      "(2, 11, 48335) (2, 11, 48335)\n",
      "(2, 20, 48335) (2, 20, 48335)\n",
      "\n",
      "\n",
      "Session 9/143: /allen/programs/braintv/workgroups/nc-ophys/Farzaneh/ICA_crossTalk/session_844469521/\n",
      "['845070856', '845070858', '845070868', '845070870', '845070860', '845070862', '845070864', '845070866']\n",
      "(2, 27, 48296) (2, 27, 48296)\n",
      "(2, 51, 48296) (2, 51, 48296)\n",
      "(2, 18, 48296) (2, 18, 48296)\n",
      "(2, 19, 48296) (2, 19, 48296)\n",
      "(2, 8, 48296) (2, 8, 48296)\n",
      "(2, 28, 48296) (2, 28, 48296)\n",
      "(2, 30, 48296) (2, 30, 48296)\n",
      "(2, 29, 48296) (2, 29, 48296)\n",
      "\n",
      "\n",
      "Session 10/143: /allen/programs/braintv/workgroups/nc-ophys/Farzaneh/ICA_crossTalk/session_845235947/\n",
      "['845777907', '845777909', '845777911', '845777913', '845777920', '845777922', '845777915', '845777918']\n",
      "(2, 17, 48279) (2, 17, 48279)\n",
      "(2, 32, 48279) (2, 32, 48279)\n",
      "(2, 11, 48279) (2, 11, 48279)\n",
      "(2, 23, 48279) (2, 23, 48279)\n",
      "(2, 12, 48279) (2, 12, 48279)\n",
      "(2, 39, 48279) (2, 39, 48279)\n",
      "(2, 21, 48279) (2, 21, 48279)\n",
      "(2, 28, 48279) (2, 28, 48279)\n",
      "\n",
      "\n",
      "Session 11/143: /allen/programs/braintv/workgroups/nc-ophys/Farzaneh/ICA_crossTalk/session_846871218/\n",
      "['847267620', '847267622', '847267616', '847267618', '847267624', '847267626', '847267628', '847267630']\n",
      "(2, 24, 48269) (2, 24, 48269)\n",
      "(2, 66, 48269) (2, 66, 48269)\n",
      "(2, 76, 48269) (2, 76, 48269)\n",
      "(2, 66, 48269) (2, 66, 48269)\n",
      "(2, 45, 48269) (2, 45, 48269)\n",
      "(2, 85, 48269) (2, 85, 48269)\n",
      "(2, 27, 48269) (2, 27, 48269)\n",
      "(2, 75, 48269) (2, 75, 48269)\n",
      "\n",
      "\n",
      "Session 12/143: /allen/programs/braintv/workgroups/nc-ophys/Farzaneh/ICA_crossTalk/session_847758278/\n",
      "['848039115', '848039117', '848039110', '848039113', '848039119', '848039121', '848039123', '848039125']\n",
      "(2, 6, 48295) (2, 6, 48295)\n",
      "(2, 15, 48295) (2, 15, 48295)\n",
      "(2, 12, 48295) (2, 12, 48295)\n",
      "(2, 22, 48295) (2, 22, 48295)\n",
      "(2, 49, 48295) (2, 49, 48295)\n",
      "(2, 26, 48295) (2, 26, 48295)\n",
      "(2, 17, 48295) (2, 17, 48295)\n",
      "(2, 27, 48295) (2, 27, 48295)\n",
      "\n",
      "\n",
      "Session 13/143: /allen/programs/braintv/workgroups/nc-ophys/Farzaneh/ICA_crossTalk/session_848401585/\n",
      "['848760979', '848760981', '848760983', '848760985', '848760974', '848760977', '848760988', '848760990']\n",
      "(2, 29, 48318) (2, 29, 48318)\n",
      "(2, 26, 48318) (2, 26, 48318)\n",
      "(2, 32, 48318) (2, 32, 48318)\n",
      "(2, 36, 48318) (2, 36, 48318)\n",
      "(2, 49, 48318) (2, 49, 48318)\n",
      "(2, 30, 48318) (2, 30, 48318)\n",
      "(2, 19, 48318) (2, 19, 48318)\n",
      "(2, 25, 48318) (2, 25, 48318)\n",
      "\n",
      "\n",
      "Session 14/143: /allen/programs/braintv/workgroups/nc-ophys/Farzaneh/ICA_crossTalk/session_849304162/\n",
      "['850517356', '850517358', '850517352', '850517354', '850517348', '850517350', '850517344', '850517346']\n",
      "(2, 21, 48376) (2, 21, 48376)\n",
      "(2, 27, 48376) (2, 27, 48376)\n",
      "(2, 20, 48376) (2, 20, 48376)\n",
      "(2, 25, 48376) (2, 25, 48376)\n",
      "(2, 18, 48376) (2, 18, 48376)\n",
      "(2, 41, 48376) (2, 41, 48376)\n",
      "(2, 11, 48376) (2, 11, 48376)\n",
      "(2, 33, 48376) (2, 33, 48376)\n",
      "\n",
      "\n",
      "Session 15/143: /allen/programs/braintv/workgroups/nc-ophys/Farzaneh/ICA_crossTalk/session_850667270/\n",
      "['851093287', '851093289', '851093291', '851093296', '851093283', '851093285', '851093302', '851093306']\n",
      "(2, 18, 48334) (2, 18, 48334)\n",
      "(2, 46, 48334) (2, 46, 48334)\n",
      "(2, 22, 48334) (2, 22, 48334)\n",
      "(2, 25, 48334) (2, 25, 48334)\n",
      "(2, 16, 48334) (2, 16, 48334)\n",
      "(2, 22, 48334) (2, 22, 48334)\n",
      "(2, 16, 48334) (2, 16, 48334)\n",
      "(2, 27, 48334) (2, 27, 48334)\n",
      "\n",
      "\n",
      "Session 16/143: /allen/programs/braintv/workgroups/nc-ophys/Farzaneh/ICA_crossTalk/session_850894918/\n",
      "['851085092', '851085095', '851085098', '851085100', '851085107', '851085109', '851085103', '851085105']\n",
      "(2, 20, 48286) (2, 20, 48286)\n",
      "(2, 35, 48286) (2, 35, 48286)\n",
      "(2, 7, 48286) (2, 7, 48286)\n",
      "(2, 21, 48286) (2, 21, 48286)\n",
      "(2, 10, 48286) (2, 10, 48286)\n",
      "(2, 44, 48286) (2, 44, 48286)\n",
      "(2, 17, 48286) (2, 17, 48286)\n",
      "(2, 30, 48286) (2, 30, 48286)\n",
      "\n",
      "\n",
      "Session 17/143: /allen/programs/braintv/workgroups/nc-ophys/Farzaneh/ICA_crossTalk/session_852794141/\n",
      "['853363749', '853363751', '853363739', '853363743', '853363745', '853363747', '853363753', '853363756']\n",
      "(2, 23, 48261) (2, 23, 48261)\n",
      "(2, 31, 48261) (2, 31, 48261)\n",
      "(2, 10, 48261) (2, 10, 48261)\n",
      "(2, 31, 48261) (2, 31, 48261)\n",
      "(2, 15, 48261) (2, 15, 48261)\n",
      "(2, 43, 48261) (2, 43, 48261)\n",
      "(2, 17, 48261) (2, 17, 48261)\n",
      "(2, 23, 48261) (2, 23, 48261)\n",
      "\n",
      "\n",
      "Session 18/143: /allen/programs/braintv/workgroups/nc-ophys/Farzaneh/ICA_crossTalk/session_853416532/\n",
      "['853988437', '853988444', '853988450', '853988454', '853988446', '853988448', '853988430', '853988435']\n",
      "(2, 22, 48323) (2, 22, 48323)\n",
      "(2, 25, 48323) (2, 25, 48323)\n",
      "(2, 16, 48323) (2, 16, 48323)\n",
      "(2, 30, 48323) (2, 30, 48323)\n",
      "(2, 24, 48323) (2, 24, 48323)\n",
      "(2, 34, 48323) (2, 34, 48323)\n",
      "(2, 15, 48323) (2, 15, 48323)\n",
      "(2, 30, 48323) (2, 30, 48323)\n",
      "\n",
      "\n",
      "Session 19/143: /allen/programs/braintv/workgroups/nc-ophys/Farzaneh/ICA_crossTalk/session_854060305/\n",
      "['854759905', '854759907', '854759896', '854759898', '854759890', '854759894', '854759900', '854759903']\n",
      "(2, 13, 48331) (2, 13, 48331)\n",
      "(2, 27, 48331) (2, 27, 48331)\n",
      "(2, 16, 48331) (2, 16, 48331)\n",
      "(2, 31, 48331) (2, 31, 48331)\n",
      "(2, 8, 48331) (2, 8, 48331)\n",
      "(2, 30, 48331) (2, 30, 48331)\n",
      "(2, 17, 48331) (2, 17, 48331)\n",
      "(2, 26, 48331) (2, 26, 48331)\n",
      "\n",
      "\n",
      "Session 20/143: /allen/programs/braintv/workgroups/nc-ophys/Farzaneh/ICA_crossTalk/session_855711263/\n",
      "['856123126', '856123130', '856123117', '856123119', '856123122', '856123124', '856123132', '856123134']\n",
      "(2, 12, 48309) (2, 12, 48309)\n",
      "(2, 28, 48309) (2, 28, 48309)\n",
      "(2, 7, 48309) (2, 7, 48309)\n",
      "(2, 22, 48309) (2, 22, 48309)\n",
      "(2, 6, 48309) (2, 6, 48309)\n",
      "(2, 34, 48309) (2, 34, 48309)\n",
      "(2, 9, 48309) (2, 9, 48309)\n",
      "(2, 22, 48309) (2, 22, 48309)\n",
      "\n",
      "\n",
      "Session 21/143: /allen/programs/braintv/workgroups/nc-ophys/Farzaneh/ICA_crossTalk/session_863815473/\n",
      "['864430675', '864430678', '864430668', '864430671', '864430664', '864430666', '864430680', '864430682']\n",
      "(2, 8, 48327) (2, 8, 48327)\n",
      "(2, 15, 48327) (2, 15, 48327)\n",
      "(2, 6, 48327) (2, 6, 48327)\n",
      "(2, 17, 48327) (2, 17, 48327)\n",
      "(2, 10, 48327) (2, 10, 48327)\n",
      "(2, 10, 48327) (2, 10, 48327)\n",
      "(2, 12, 48327) (2, 12, 48327)\n",
      "(2, 15, 48327) (2, 15, 48327)\n",
      "\n",
      "\n",
      "Session 22/143: /allen/programs/braintv/workgroups/nc-ophys/Farzaneh/ICA_crossTalk/session_864458864/\n",
      "['864967094', '864967096', '864967106', '864967108', '864967102', '864967104', '864967098', '864967100']\n",
      "(2, 7, 48311) (2, 7, 48311)\n",
      "(2, 11, 48311) (2, 11, 48311)\n",
      "(2, 21, 48311) (2, 21, 48311)\n",
      "(2, 16, 48311) (2, 16, 48311)\n",
      "(2, 8, 48311) (2, 8, 48311)\n",
      "(2, 13, 48311) (2, 13, 48311)\n",
      "(2, 12, 48311) (2, 12, 48311)\n",
      "(2, 21, 48311) (2, 21, 48311)\n",
      "\n",
      "\n",
      "Session 23/143: /allen/programs/braintv/workgroups/nc-ophys/Farzaneh/ICA_crossTalk/session_865024413/\n",
      "['865798235', '865798237', '865798249', '865798251', '865798239', '865798241', '865798245', '865798247']\n",
      "(2, 11, 48263) (2, 11, 48263)\n",
      "(2, 11, 48263) (2, 11, 48263)\n",
      "(2, 10, 48263) (2, 10, 48263)\n",
      "(2, 26, 48263) (2, 26, 48263)\n",
      "(2, 7, 48263) (2, 7, 48263)\n",
      "(2, 22, 48263) (2, 22, 48263)\n",
      "(2, 6, 48263) (2, 6, 48263)\n",
      "(2, 18, 48263) (2, 18, 48263)\n",
      "\n",
      "\n",
      "Session 24/143: /allen/programs/braintv/workgroups/nc-ophys/Farzaneh/ICA_crossTalk/session_865854762/\n",
      "['866518293', '866518296', '866518305', '866518307', '866518309', '866518311', '866518298', '866518303']\n",
      "(2, 16, 48319) (2, 16, 48319)\n",
      "(2, 23, 48319) (2, 23, 48319)\n",
      "(2, 8, 48319) (2, 8, 48319)\n",
      "(2, 13, 48319) (2, 13, 48319)\n",
      "(2, 13, 48319) (2, 13, 48319)\n",
      "(2, 28, 48319) (2, 28, 48319)\n",
      "(2, 9, 48319) (2, 9, 48319)\n",
      "(2, 17, 48319) (2, 17, 48319)\n",
      "\n",
      "\n",
      "Session 25/143: /allen/programs/braintv/workgroups/nc-ophys/Farzaneh/ICA_crossTalk/session_866197765/\n",
      "['866518314', '866518316', '866518318', '866518320', '866518326', '866518328', '866518322', '866518324']\n",
      "(2, 17, 48259) (2, 17, 48259)\n",
      "(2, 17, 48259) (2, 17, 48259)\n",
      "(2, 21, 48259) (2, 21, 48259)\n",
      "(2, 24, 48259) (2, 24, 48259)\n",
      "(2, 15, 48259) (2, 15, 48259)\n",
      "(2, 32, 48259) (2, 32, 48259)\n",
      "(2, 14, 48259) (2, 14, 48259)\n",
      "(2, 25, 48259) (2, 25, 48259)\n",
      "\n",
      "\n",
      "Session 26/143: /allen/programs/braintv/workgroups/nc-ophys/Farzaneh/ICA_crossTalk/session_867027875/\n",
      "['867410514', '867410516', '867410522', '867410524', '867410518', '867410520', '867410509', '867410512']\n",
      "(2, 13, 48327) (2, 13, 48327)\n",
      "(2, 17, 48327) (2, 17, 48327)\n",
      "(2, 14, 48327) (2, 14, 48327)\n",
      "(2, 22, 48327) (2, 22, 48327)\n",
      "(2, 16, 48327) (2, 16, 48327)\n",
      "(2, 19, 48327) (2, 19, 48327)\n",
      "(2, 7, 48327) (2, 7, 48327)\n",
      "(2, 11, 48327) (2, 11, 48327)\n",
      "\n",
      "\n",
      "Session 27/143: /allen/programs/braintv/workgroups/nc-ophys/Farzaneh/ICA_crossTalk/session_868688430/\n",
      "['868870094', '868870097', '868870100', '868870102', '868870104', '868870106', '868870085', '868870092']\n",
      "(2, 22, 48300) (2, 22, 48300)\n",
      "(2, 27, 48300) (2, 27, 48300)\n",
      "(2, 26, 48300) (2, 26, 48300)\n",
      "(2, 29, 48300) (2, 29, 48300)\n",
      "(2, 25, 48300) (2, 25, 48300)\n",
      "(2, 28, 48300) (2, 28, 48300)\n",
      "(2, 14, 48300) (2, 14, 48300)\n",
      "(2, 18, 48300) (2, 18, 48300)\n",
      "\n",
      "\n",
      "Session 28/143: /allen/programs/braintv/workgroups/nc-ophys/Farzaneh/ICA_crossTalk/session_869117575/\n",
      "['870142232', '870142236', '870142214', '870142218', '870142184', '870142189', '870142223', '870142227']\n",
      "(2, 16, 48258) (2, 16, 48258)\n",
      "(2, 23, 48258) (2, 23, 48258)\n",
      "(2, 18, 48258) (2, 18, 48258)\n",
      "(2, 41, 48258) (2, 41, 48258)\n",
      "(2, 18, 48258) (2, 18, 48258)\n",
      "(2, 36, 48258) (2, 36, 48258)\n",
      "(2, 33, 48258) (2, 33, 48258)\n",
      "(2, 19, 48258) (2, 19, 48258)\n",
      "\n",
      "\n",
      "Session 29/143: /allen/programs/braintv/workgroups/nc-ophys/Farzaneh/ICA_crossTalk/session_870352564/\n",
      "['875564408', '875564411', '875564370', '875564388', '875564398', '875564401', '875564417', '875564420']\n",
      "(2, 30, 48283) (2, 30, 48283)\n",
      "(2, 46, 48283) (2, 46, 48283)\n",
      "(2, 23, 48283) (2, 23, 48283)\n",
      "(2, 53, 48283) (2, 53, 48283)\n",
      "(2, 16, 48283) (2, 16, 48283)\n",
      "(2, 25, 48283) (2, 25, 48283)\n",
      "(2, 22, 48283) (2, 22, 48283)\n",
      "(2, 34, 48283) (2, 34, 48283)\n",
      "\n",
      "\n",
      "Session 30/143: /allen/programs/braintv/workgroups/nc-ophys/Farzaneh/ICA_crossTalk/session_870762788/\n",
      "['871196377', '871196379', '871196365', '871196367', '871196369', '871196371', '871196373', '871196375']\n",
      "(2, 26, 48267) (2, 26, 48267)\n",
      "(2, 30, 48267) (2, 30, 48267)\n",
      "(2, 15, 48267) (2, 15, 48267)\n",
      "(2, 18, 48267) (2, 18, 48267)\n",
      "(2, 22, 48267) (2, 22, 48267)\n",
      "(2, 31, 48267) (2, 31, 48267)\n",
      "(2, 25, 48267) (2, 25, 48267)\n",
      "(2, 27, 48267) (2, 27, 48267)\n",
      "\n",
      "\n",
      "Session 31/143: /allen/programs/braintv/workgroups/nc-ophys/Farzaneh/ICA_crossTalk/session_871526950/\n",
      "['872499144', '872499146', '872499150', '872499152', '872499154', '872499156', '872499158', '872499160']\n",
      "(2, 21, 48262) (2, 21, 48262)\n",
      "(2, 33, 48262) (2, 33, 48262)\n",
      "(2, 16, 48262) (2, 16, 48262)\n",
      "(2, 17, 48262) (2, 17, 48262)\n",
      "(2, 27, 48262) (2, 27, 48262)\n",
      "(2, 23, 48262) (2, 23, 48262)\n",
      "(2, 9, 48262) (2, 9, 48262)\n",
      "(2, 15, 48262) (2, 15, 48262)\n",
      "\n",
      "\n",
      "Session 32/143: /allen/programs/braintv/workgroups/nc-ophys/Farzaneh/ICA_crossTalk/session_871906231/\n",
      "['872497623', '872497625', '872497627', '872497629', '872497618', '872497621', '872497614', '872497616']\n",
      "(2, 27, 48278) (2, 27, 48278)\n",
      "(2, 31, 48278) (2, 31, 48278)\n",
      "(2, 28, 48278) (2, 28, 48278)\n",
      "(2, 27, 48278) (2, 27, 48278)\n",
      "(2, 31, 48278) (2, 31, 48278)\n",
      "(2, 23, 48278) (2, 23, 48278)\n",
      "(2, 20, 48278) (2, 20, 48278)\n",
      "(2, 17, 48278) (2, 17, 48278)\n",
      "\n",
      "\n",
      "Session 33/143: /allen/programs/braintv/workgroups/nc-ophys/Farzaneh/ICA_crossTalk/session_872592724/\n",
      "['873970525', '873970527', '873970529', '873970531', '873970533', '873970535', '873970521', '873970523']\n",
      "(2, 18, 48264) (2, 18, 48264)\n",
      "(2, 39, 48264) (2, 39, 48264)\n",
      "(2, 26, 48264) (2, 26, 48264)\n",
      "(2, 46, 48264) (2, 46, 48264)\n",
      "(2, 13, 48264) (2, 13, 48264)\n",
      "(2, 34, 48264) (2, 34, 48264)\n",
      "(2, 25, 48264) (2, 25, 48264)\n",
      "(2, 35, 48264) (2, 35, 48264)\n",
      "\n",
      "\n",
      "Session 34/143: /allen/programs/braintv/workgroups/nc-ophys/Farzaneh/ICA_crossTalk/session_873247524/\n",
      "['877669824', '877669826', '877669811', '877669813', '877669815', '877669817', '877669819', '877669822']\n",
      "(2, 17, 48320) (2, 17, 48320)\n",
      "(2, 24, 48320) (2, 24, 48320)\n",
      "(2, 24, 48320) (2, 24, 48320)\n",
      "(2, 27, 48320) (2, 27, 48320)\n",
      "(2, 14, 48320) (2, 14, 48320)\n",
      "(2, 18, 48320) (2, 18, 48320)\n",
      "(2, 31, 48320) (2, 31, 48320)\n",
      "(2, 30, 48320) (2, 30, 48320)\n",
      "\n",
      "\n",
      "Session 35/143: /allen/programs/braintv/workgroups/nc-ophys/Farzaneh/ICA_crossTalk/session_874616920/\n",
      "['875587493', '875587495', '875587502', '875587505', '875587489', '875587491', '875587497', '875587499']\n",
      "(2, 22, 48282) (2, 22, 48282)\n",
      "(2, 40, 48282) (2, 40, 48282)\n",
      "(2, 14, 48282) (2, 14, 48282)\n",
      "(2, 52, 48282) (2, 52, 48282)\n",
      "(2, 21, 48282) (2, 21, 48282)\n",
      "(2, 18, 48282) (2, 18, 48282)\n",
      "(2, 25, 48282) (2, 25, 48282)\n",
      "(2, 39, 48282) (2, 39, 48282)\n",
      "\n",
      "\n",
      "Session 36/143: /allen/programs/braintv/workgroups/nc-ophys/Farzaneh/ICA_crossTalk/session_875259383/\n",
      "['875808253', '875808255', '875808238', '875808240', '875808249', '875808251', '875808245', '875808247']\n",
      "(2, 11, 48271) (2, 11, 48271)\n",
      "(2, 18, 48271) (2, 18, 48271)\n",
      "(2, 18, 48271) (2, 18, 48271)\n",
      "(2, 29, 48271) (2, 29, 48271)\n",
      "(2, 36, 48271) (2, 36, 48271)\n",
      "(2, 18, 48271) (2, 18, 48271)\n",
      "(2, 14, 48271) (2, 14, 48271)\n",
      "(2, 19, 48271) (2, 19, 48271)\n",
      "\n",
      "\n",
      "Session 37/143: /allen/programs/braintv/workgroups/nc-ophys/Farzaneh/ICA_crossTalk/session_876303107/\n",
      "['877057349', '877057351', '877057341', '877057344', '877057354', '877057357', '877057336', '877057338']\n",
      "(2, 36, 48308) (2, 36, 48308)\n",
      "(2, 28, 48308) (2, 28, 48308)\n",
      "(2, 17, 48308) (2, 17, 48308)\n",
      "(2, 71, 48308) (2, 71, 48308)\n",
      "(2, 15, 48308) (2, 15, 48308)\n",
      "(2, 49, 48308) (2, 49, 48308)\n",
      "(2, 21, 48308) (2, 21, 48308)\n",
      "(2, 29, 48308) (2, 29, 48308)\n",
      "\n",
      "\n",
      "Session 38/143: /allen/programs/braintv/workgroups/nc-ophys/Farzaneh/ICA_crossTalk/session_880498009/\n",
      "['881001210', '881001212', '881001216', '881001218', '881001224', '881001226', '881001220', '881001222']\n",
      "(2, 33, 48266) (2, 33, 48266)\n",
      "(2, 42, 48266) (2, 42, 48266)\n",
      "(2, 17, 48266) (2, 17, 48266)\n",
      "(2, 135, 48266) (2, 135, 48266)\n",
      "(2, 14, 48266) (2, 14, 48266)\n",
      "(2, 64, 48266) (2, 64, 48266)\n",
      "(2, 26, 48266) (2, 26, 48266)\n",
      "(2, 26, 48266) (2, 26, 48266)\n",
      "\n",
      "\n",
      "Session 39/143: /allen/programs/braintv/workgroups/nc-ophys/Farzaneh/ICA_crossTalk/session_880709154/\n",
      "['881003489', '881003491', '881003484', '881003487', '881003498', '881003500', '881003493', '881003496']\n",
      "(2, 156, 48288) (2, 156, 48288)\n",
      "(2, 136, 48288) (2, 136, 48288)\n",
      "(2, 288, 48288) (2, 288, 48288)\n",
      "(2, 234, 48288) (2, 234, 48288)\n",
      "(2, 103, 48288) (2, 103, 48288)\n",
      "(2, 33, 48288) (2, 33, 48288)\n",
      "(2, 153, 48288) (2, 153, 48288)\n",
      "(2, 65, 48288) (2, 65, 48288)\n",
      "\n",
      "\n",
      "Session 40/143: /allen/programs/braintv/workgroups/nc-ophys/Farzaneh/ICA_crossTalk/session_882674040/\n",
      "['882968574', '882968577', '882968566', '882968568', '882968570', '882968572', '882968562', '882968564']\n",
      "(2, 21, 48317) (2, 21, 48317)\n",
      "(2, 64, 48317) (2, 64, 48317)\n",
      "(2, 20, 48317) (2, 20, 48317)\n",
      "(2, 124, 48317) (2, 124, 48317)\n",
      "(2, 27, 48317) (2, 27, 48317)\n",
      "(2, 46, 48317) (2, 46, 48317)\n",
      "(2, 34, 48317) (2, 34, 48317)\n",
      "(2, 51, 48317) (2, 51, 48317)\n",
      "\n",
      "\n",
      "Session 41/143: /allen/programs/braintv/workgroups/nc-ophys/Farzaneh/ICA_crossTalk/session_884451806/\n",
      "['885146249', '885146253', '885146245', '885146247', '885146237', '885146239', '885146241', '885146243']\n",
      "(2, 18, 48272) (2, 18, 48272)\n",
      "(2, 46, 48272) (2, 46, 48272)\n",
      "(2, 30, 48272) (2, 30, 48272)\n",
      "(2, 27, 48272) (2, 27, 48272)\n",
      "(2, 30, 48272) (2, 30, 48272)\n",
      "(2, 45, 48272) (2, 45, 48272)\n",
      "(2, 18, 48272) (2, 18, 48272)\n",
      "(2, 118, 48272) (2, 118, 48272)\n",
      "\n",
      "\n",
      "Session 42/143: /allen/programs/braintv/workgroups/nc-ophys/Farzaneh/ICA_crossTalk/session_886130638/\n",
      "['886587160', '886587162', '886587164', '886587166', '886587172', '886587174', '886587168', '886587170']\n",
      "(2, 28, 48261) (2, 28, 48261)\n",
      "(2, 42, 48261) (2, 42, 48261)\n",
      "(2, 16, 48261) (2, 16, 48261)\n",
      "(2, 53, 48261) (2, 53, 48261)\n",
      "(2, 19, 48261) (2, 19, 48261)\n",
      "(2, 53, 48261) (2, 53, 48261)\n",
      "(2, 24, 48261) (2, 24, 48261)\n",
      "(2, 40, 48261) (2, 40, 48261)\n",
      "\n",
      "\n",
      "Session 43/143: /allen/programs/braintv/workgroups/nc-ophys/Farzaneh/ICA_crossTalk/session_886806800/\n",
      "['887386989', '887386991', '887386974', '887386977', '887386979', '887386981', '887386983', '887386985']\n",
      "(2, 19, 48288) (2, 19, 48288)\n",
      "(2, 76, 48288) (2, 76, 48288)\n",
      "(2, 29, 48288) (2, 29, 48288)\n",
      "(2, 40, 48288) (2, 40, 48288)\n",
      "(2, 14, 48288) (2, 14, 48288)\n",
      "(2, 68, 48288) (2, 68, 48288)\n",
      "(2, 28, 48288) (2, 28, 48288)\n",
      "(2, 41, 48288) (2, 41, 48288)\n",
      "\n",
      "\n",
      "Session 44/143: /allen/programs/braintv/workgroups/nc-ophys/Farzaneh/ICA_crossTalk/session_888009781/\n",
      "['888876943', '888876945', '888876947', '888876949', '888876939', '888876941', '888876951', '888876953']\n",
      "(2, 12, 48286) (2, 12, 48286)\n",
      "(2, 32, 48286) (2, 32, 48286)\n",
      "(2, 19, 48286) (2, 19, 48286)\n",
      "(2, 28, 48286) (2, 28, 48286)\n",
      "(2, 26, 48286) (2, 26, 48286)\n",
      "(2, 42, 48286) (2, 42, 48286)\n",
      "(2, 25, 48286) (2, 25, 48286)\n",
      "(2, 44, 48286) (2, 44, 48286)\n",
      "\n",
      "\n",
      "Session 45/143: /allen/programs/braintv/workgroups/nc-ophys/Farzaneh/ICA_crossTalk/session_889944877/\n",
      "['891108763', '891108765', '891108771', '891108773', '891108758', '891108760', '891108767', '891108769']\n",
      "(2, 25, 48290) (2, 25, 48290)\n",
      "(2, 143, 48290) (2, 143, 48290)\n",
      "(2, 21, 48290) (2, 21, 48290)\n",
      "(2, 38, 48290) (2, 38, 48290)\n",
      "(2, 34, 48290) (2, 34, 48290)\n",
      "(2, 44, 48290) (2, 44, 48290)\n",
      "(2, 22, 48290) (2, 22, 48290)\n",
      "(2, 27, 48290) (2, 27, 48290)\n",
      "\n",
      "\n",
      "Session 46/143: /allen/programs/braintv/workgroups/nc-ophys/Farzaneh/ICA_crossTalk/session_902884228/\n",
      "['903485705', '903485708', '903485714', '903485716', '903485710', '903485712', '903485718', '903485720']\n",
      "(2, 239, 48270) (2, 239, 48270)\n",
      "(2, 318, 48270) (2, 318, 48270)\n",
      "(2, 188, 48270) (2, 188, 48270)\n",
      "(2, 209, 48270) (2, 209, 48270)\n",
      "(2, 34, 48270) (2, 34, 48270)\n",
      "(2, 123, 48270) (2, 123, 48270)\n",
      "(2, 31, 48270) (2, 31, 48270)\n",
      "(2, 87, 48270) (2, 87, 48270)\n",
      "\n",
      "\n",
      "Session 47/143: /allen/programs/braintv/workgroups/nc-ophys/Farzaneh/ICA_crossTalk/session_903621170/\n",
      "['904363938', '904363940', '904363921', '904363923', '904363928', '904363930', '904363932', '904363934']\n",
      "(2, 119, 48306) (2, 119, 48306)\n",
      "(2, 44, 48306) (2, 44, 48306)\n",
      "(2, 218, 48306) (2, 218, 48306)\n",
      "(2, 135, 48306) (2, 135, 48306)\n",
      "(2, 157, 48306) (2, 157, 48306)\n",
      "(2, 47, 48306) (2, 47, 48306)\n",
      "(2, 124, 48306) (2, 124, 48306)\n",
      "(2, 124, 48306) (2, 124, 48306)\n",
      "\n",
      "\n",
      "Session 48/143: /allen/programs/braintv/workgroups/nc-ophys/Farzaneh/ICA_crossTalk/session_903813946/\n",
      "['904352686', '904352688', '904352698', '904352700', '904352690', '904352692', '904352694', '904352696']\n",
      "(2, 257, 48278) (2, 257, 48278)\n",
      "(2, 368, 48278) (2, 368, 48278)\n",
      "(2, 45, 48278) (2, 45, 48278)\n",
      "(2, 82, 48278) (2, 82, 48278)\n",
      "(2, 76, 48278) (2, 76, 48278)\n",
      "(2, 120, 48278) (2, 120, 48278)\n",
      "(2, 183, 48278) (2, 183, 48278)\n",
      "(2, 211, 48278) (2, 211, 48278)\n",
      "\n",
      "\n",
      "Session 49/143: /allen/programs/braintv/workgroups/nc-ophys/Farzaneh/ICA_crossTalk/session_904418381/\n",
      "['905955236', '905955238', '905955230', '905955232', '905955240', '905955242', '905955226', '905955228']\n",
      "(2, 132, 48307) (2, 132, 48307)\n",
      "(2, 112, 48307) (2, 112, 48307)\n",
      "(2, 76, 48307) (2, 76, 48307)\n",
      "(2, 59, 48307) (2, 59, 48307)\n",
      "(2, 92, 48307) (2, 92, 48307)\n",
      "(2, 47, 48307) (2, 47, 48307)\n",
      "(2, 177, 48307) (2, 177, 48307)\n",
      "(2, 126, 48307) (2, 126, 48307)\n",
      "\n",
      "\n",
      "Session 50/143: /allen/programs/braintv/workgroups/nc-ophys/Farzaneh/ICA_crossTalk/session_904771513/\n",
      "['905955204', '905955207', '905955213', '905955215', '905955217', '905955219', '905955209', '905955211']\n",
      "(2, 207, 48263) (2, 207, 48263)\n",
      "(2, 266, 48263) (2, 266, 48263)\n",
      "(2, 133, 48263) (2, 133, 48263)\n",
      "(2, 158, 48263) (2, 158, 48263)\n",
      "(2, 34, 48263) (2, 34, 48263)\n",
      "(2, 54, 48263) (2, 54, 48263)\n",
      "(2, 64, 48263) (2, 64, 48263)\n",
      "(2, 86, 48263) (2, 86, 48263)\n",
      "\n",
      "\n",
      "Session 51/143: /allen/programs/braintv/workgroups/nc-ophys/Farzaneh/ICA_crossTalk/session_906299056/\n",
      "['906910603', '906910605', '906910599', '906910601', '906910607', '906910609', '906910593', '906910595']\n",
      "(2, 104, 48290) (2, 104, 48290)\n",
      "(2, 91, 48290) (2, 91, 48290)\n",
      "(2, 128, 48290) (2, 128, 48290)\n",
      "(2, 75, 48290) (2, 75, 48290)\n",
      "(2, 102, 48290) (2, 102, 48290)\n",
      "(2, 43, 48290) (2, 43, 48290)\n",
      "(2, 130, 48290) (2, 130, 48290)\n",
      "(2, 139, 48290) (2, 139, 48290)\n",
      "\n",
      "\n",
      "Session 52/143: /allen/programs/braintv/workgroups/nc-ophys/Farzaneh/ICA_crossTalk/session_906521029/\n",
      "['906910621', '906910623', '906910625', '906910627', '906910616', '906910619', '906910612', '906910614']\n",
      "(2, 130, 48320) (2, 130, 48320)\n",
      "(2, 172, 48320) (2, 172, 48320)\n",
      "(2, 25, 48320) (2, 25, 48320)\n",
      "(2, 66, 48320) (2, 66, 48320)\n",
      "(2, 64, 48320) (2, 64, 48320)\n",
      "(2, 174, 48320) (2, 174, 48320)\n",
      "(2, 253, 48320) (2, 253, 48320)\n",
      "(2, 338, 48320) (2, 338, 48320)\n",
      "\n",
      "\n",
      "Session 53/143: /allen/programs/braintv/workgroups/nc-ophys/Farzaneh/ICA_crossTalk/session_906968227/\n",
      "['907694948', '907694950', '907694952', '907694954', '907694960', '907694963', '907694956', '907694958']\n",
      "(2, 169, 48291) (2, 169, 48291)\n",
      "(2, 136, 48291) (2, 136, 48291)\n",
      "(2, 76, 48291) (2, 76, 48291)\n",
      "(2, 87, 48291) (2, 87, 48291)\n",
      "(2, 110, 48291) (2, 110, 48291)\n",
      "(2, 58, 48291) (2, 58, 48291)\n",
      "(2, 140, 48291) (2, 140, 48291)\n",
      "(2, 77, 48291) (2, 77, 48291)\n",
      "\n",
      "\n",
      "Session 54/143: /allen/programs/braintv/workgroups/nc-ophys/Farzaneh/ICA_crossTalk/session_907177554/\n",
      "['908381672', '908381674', '908381684', '908381686', '908381676', '908381678', '908381680', '908381682']\n",
      "(2, 326, 48280) (2, 326, 48280)\n",
      "(2, 367, 48280) (2, 367, 48280)\n",
      "(2, 34, 48280) (2, 34, 48280)\n",
      "(2, 87, 48280) (2, 87, 48280)\n",
      "(2, 111, 48280) (2, 111, 48280)\n",
      "(2, 271, 48280) (2, 271, 48280)\n",
      "(2, 152, 48280) (2, 152, 48280)\n",
      "(2, 188, 48280) (2, 188, 48280)\n",
      "\n",
      "\n",
      "Session 55/143: /allen/programs/braintv/workgroups/nc-ophys/Farzaneh/ICA_crossTalk/session_907753304/\n",
      "['908381698', '908381700', '908381694', '908381696', '908381690', '908381692', '908381704', '908381706']\n",
      "(2, 140, 48315) (2, 140, 48315)\n",
      "(2, 189, 48315) (2, 189, 48315)\n",
      "(2, 140, 48315) (2, 140, 48315)\n",
      "(2, 99, 48315) (2, 99, 48315)\n",
      "(2, 322, 48315) (2, 322, 48315)\n",
      "(2, 219, 48315) (2, 219, 48315)\n",
      "(2, 154, 48315) (2, 154, 48315)\n",
      "(2, 89, 48315) (2, 89, 48315)\n",
      "\n",
      "\n",
      "Session 56/143: /allen/programs/braintv/workgroups/nc-ophys/Farzaneh/ICA_crossTalk/session_907991198/\n",
      "['908381660', '908381664', '908381666', '908381668', '908381652', '908381654', '908381656', '908381658']\n",
      "(2, 170, 48336) (2, 170, 48336)\n",
      "(2, 225, 48336) (2, 225, 48336)\n",
      "(2, 28, 48336) (2, 28, 48336)\n",
      "(2, 73, 48336) (2, 73, 48336)\n",
      "(2, 280, 48336) (2, 280, 48336)\n",
      "(2, 331, 48336) (2, 331, 48336)\n",
      "(2, 117, 48336) (2, 117, 48336)\n",
      "(2, 221, 48336) (2, 221, 48336)\n",
      "\n",
      "\n",
      "Session 57/143: /allen/programs/braintv/workgroups/nc-ophys/Farzaneh/ICA_crossTalk/session_908441202/\n",
      "['909177753', '909177755', '909177759', '909177761', '909177763', '909177765', '909177767', '909177769']\n",
      "(2, 177, 48288) (2, 177, 48288)\n",
      "(2, 166, 48288) (2, 166, 48288)\n",
      "(2, 91, 48288) (2, 91, 48288)\n",
      "(2, 102, 48288) (2, 102, 48288)\n",
      "(2, 121, 48288) (2, 121, 48288)\n",
      "(2, 136, 48288) (2, 136, 48288)\n",
      "(2, 115, 48288) (2, 115, 48288)\n",
      "(2, 66, 48288) (2, 66, 48288)\n",
      "\n",
      "\n",
      "Session 58/143: /allen/programs/braintv/workgroups/nc-ophys/Farzaneh/ICA_crossTalk/session_911719666/\n",
      "['912791349', '912791352', '912791343', '912791345', '912791354', '912791356', '912791339', '912791341']\n",
      "(2, 244, 48314) (2, 244, 48314)\n",
      "(2, 232, 48314) (2, 232, 48314)\n",
      "(2, 196, 48314) (2, 196, 48314)\n",
      "(2, 98, 48314) (2, 98, 48314)\n",
      "(2, 201, 48314) (2, 201, 48314)\n",
      "(2, 83, 48314) (2, 83, 48314)\n",
      "(2, 410, 48314) (2, 410, 48314)\n",
      "(2, 244, 48314) (2, 244, 48314)\n",
      "\n",
      "\n",
      "Session 59/143: /allen/programs/braintv/workgroups/nc-ophys/Farzaneh/ICA_crossTalk/session_913564409/\n",
      "['914107595', '914107600', '914107611', '914107616', '914107588', '914107592', '914107604', '914107608']\n",
      "(2, 115, 48285) (2, 115, 48285)\n",
      "(2, 66, 48285) (2, 66, 48285)\n",
      "(2, 118, 48285) (2, 118, 48285)\n",
      "(2, 32, 48285) (2, 32, 48285)\n",
      "(2, 200, 48285) (2, 200, 48285)\n",
      "(2, 167, 48285) (2, 167, 48285)\n",
      "(2, 112, 48285) (2, 112, 48285)\n",
      "(2, 132, 48285) (2, 132, 48285)\n",
      "\n",
      "\n",
      "Session 60/143: /allen/programs/braintv/workgroups/nc-ophys/Farzaneh/ICA_crossTalk/session_914161594/\n",
      "['914580662', '914580664', '914580658', '914580660', '914580670', '914580672', '914580666', '914580668']\n",
      "(2, 95, 48314) (2, 95, 48314)\n",
      "(2, 70, 48314) (2, 70, 48314)\n",
      "(2, 212, 48314) (2, 212, 48314)\n",
      "(2, 193, 48314) (2, 193, 48314)\n",
      "(2, 139, 48314) (2, 139, 48314)\n",
      "(2, 61, 48314) (2, 61, 48314)\n",
      "(2, 201, 48314) (2, 201, 48314)\n",
      "(2, 176, 48314) (2, 176, 48314)\n",
      "\n",
      "\n",
      "Session 61/143: /allen/programs/braintv/workgroups/nc-ophys/Farzaneh/ICA_crossTalk/session_914639324/\n",
      "['915243101', '915243103', '915243096', '915243099', '915243088', '915243090', '915243092', '915243094']\n",
      "(2, 80, 48262) (2, 80, 48262)\n",
      "(2, 40, 48262) (2, 40, 48262)\n",
      "(2, 141, 48262) (2, 141, 48262)\n",
      "(2, 147, 48262) (2, 147, 48262)\n",
      "(2, 133, 48262) (2, 133, 48262)\n",
      "(2, 174, 48262) (2, 174, 48262)\n",
      "(2, 143, 48262) (2, 143, 48262)\n",
      "(2, 94, 48262) (2, 94, 48262)\n",
      "\n",
      "\n",
      "Session 62/143: /allen/programs/braintv/workgroups/nc-ophys/Farzaneh/ICA_crossTalk/session_914728054/\n",
      "['915229074', '915229076', '915229062', '915229064', '915229070', '915229072', '915229066', '915229068']\n",
      "(2, 93, 48314) (2, 93, 48314)\n",
      "(2, 31, 48314) (2, 31, 48314)\n",
      "(2, 119, 48314) (2, 119, 48314)\n",
      "(2, 116, 48314) (2, 116, 48314)\n",
      "(2, 122, 48314) (2, 122, 48314)\n",
      "(2, 102, 48314) (2, 102, 48314)\n",
      "(2, 76, 48314) (2, 76, 48314)\n",
      "(2, 30, 48314) (2, 30, 48314)\n",
      "\n",
      "\n",
      "Session 63/143: /allen/programs/braintv/workgroups/nc-ophys/Farzaneh/ICA_crossTalk/session_915306390/\n",
      "['916220447', '916220450', '916220443', '916220445', '916220439', '916220441', '916220452', '916220454']\n",
      "(2, 252, 48270) (2, 252, 48270)\n",
      "(2, 257, 48270) (2, 257, 48270)\n",
      "(2, 162, 48270) (2, 162, 48270)\n",
      "(2, 116, 48270) (2, 116, 48270)\n",
      "(2, 449, 48270) (2, 449, 48270)\n",
      "(2, 321, 48270) (2, 321, 48270)\n",
      "(2, 219, 48270) (2, 219, 48270)\n",
      "(2, 128, 48270) (2, 128, 48270)\n",
      "\n",
      "\n",
      "Session 64/143: /allen/programs/braintv/workgroups/nc-ophys/Farzaneh/ICA_crossTalk/session_916650386/\n",
      "['916803624', '916803626', '916803632', '916803634', '916803619', '916803621', '916803628', '916803630']\n",
      "(2, 6, 48323) (2, 6, 48323)\n",
      "(2, 18, 48323) (2, 18, 48323)\n",
      "(2, 8, 48323) (2, 8, 48323)\n",
      "(2, 17, 48323) (2, 17, 48323)\n",
      "(2, 23, 48323) (2, 23, 48323)\n",
      "(2, 22, 48323) (2, 22, 48323)\n",
      "(2, 16, 48323) (2, 16, 48323)\n",
      "(2, 16, 48323) (2, 16, 48323)\n",
      "\n",
      "\n",
      "Session 65/143: /allen/programs/braintv/workgroups/nc-ophys/Farzaneh/ICA_crossTalk/session_917498735/\n",
      "['917820372', '917820375', '917820358', '917820362', '917820368', '917820370', '917820379', '917820382']\n",
      "(2, 16, 48338) (2, 16, 48338)\n",
      "(2, 16, 48338) (2, 16, 48338)\n",
      "(2, 17, 48338) (2, 17, 48338)\n",
      "(2, 24, 48338) (2, 24, 48338)\n",
      "(2, 15, 48338) (2, 15, 48338)\n",
      "(2, 30, 48338) (2, 30, 48338)\n",
      "(2, 8, 48338) (2, 8, 48338)\n",
      "(2, 19, 48338) (2, 19, 48338)\n",
      "\n",
      "\n",
      "Session 66/143: /allen/programs/braintv/workgroups/nc-ophys/Farzaneh/ICA_crossTalk/session_918889065/\n",
      "['919419009', '919419011', '919418999', '919419001', '919419013', '919419015', '919419005', '919419007']\n",
      "(2, 143, 48274) (2, 143, 48274)\n",
      "(2, 149, 48274) (2, 149, 48274)\n",
      "(2, 172, 48274) (2, 172, 48274)\n",
      "(2, 198, 48274) (2, 198, 48274)\n",
      "(2, 40, 48274) (2, 40, 48274)\n",
      "(2, 49, 48274) (2, 49, 48274)\n",
      "(2, 44, 48274) (2, 44, 48274)\n",
      "(2, 69, 48274) (2, 69, 48274)\n",
      "\n",
      "\n",
      "Session 67/143: /allen/programs/braintv/workgroups/nc-ophys/Farzaneh/ICA_crossTalk/session_919041767/\n",
      "['919418509', '919418511', '919418513', '919418515', '919418501', '919418503', '919418505', '919418507']\n",
      "(2, 22, 48314) (2, 22, 48314)\n",
      "(2, 20, 48314) (2, 20, 48314)\n",
      "(2, 9, 48314) (2, 9, 48314)\n",
      "(2, 18, 48314) (2, 18, 48314)\n",
      "(2, 17, 48314) (2, 17, 48314)\n",
      "(2, 23, 48314) (2, 23, 48314)\n",
      "(2, 7, 48314) (2, 7, 48314)\n",
      "(2, 35, 48314) (2, 35, 48314)\n",
      "\n",
      "\n",
      "Session 68/143: /allen/programs/braintv/workgroups/nc-ophys/Farzaneh/ICA_crossTalk/session_919888953/\n",
      "['920288843', '920288845', '920288851', '920288853', '920288847', '920288849', '920288855', '920288857']\n",
      "(2, 30, 48318) (2, 30, 48318)\n",
      "(2, 26, 48318) (2, 26, 48318)\n",
      "(2, 29, 48318) (2, 29, 48318)\n",
      "(2, 27, 48318) (2, 27, 48318)\n",
      "(2, 22, 48318) (2, 22, 48318)\n",
      "(2, 29, 48318) (2, 29, 48318)\n",
      "(2, 8, 48318) (2, 8, 48318)\n",
      "(2, 21, 48318) (2, 21, 48318)\n",
      "\n",
      "\n",
      "Session 69/143: /allen/programs/braintv/workgroups/nc-ophys/Farzaneh/ICA_crossTalk/session_920695792/\n",
      "['921024201', '921024204', '921024191', '921024193', '921024187', '921024189', '921024195', '921024197']\n",
      "(2, 8, 48319) (2, 8, 48319)\n",
      "(2, 20, 48319) (2, 20, 48319)\n",
      "(2, 10, 48319) (2, 10, 48319)\n",
      "(2, 38, 48319) (2, 38, 48319)\n",
      "(2, 13, 48319) (2, 13, 48319)\n",
      "(2, 30, 48319) (2, 30, 48319)\n",
      "(2, 19, 48319) (2, 19, 48319)\n",
      "(2, 39, 48319) (2, 39, 48319)\n",
      "\n",
      "\n",
      "Session 70/143: /allen/programs/braintv/workgroups/nc-ophys/Farzaneh/ICA_crossTalk/session_921636320/\n",
      "['922122718', '922122720', '922122710', '922122712', '922122722', '922122724', '922122714', '922122716']\n",
      "(2, 148, 48325) (2, 148, 48325)\n",
      "(2, 137, 48325) (2, 137, 48325)\n",
      "(2, 132, 48325) (2, 132, 48325)\n",
      "(2, 143, 48325) (2, 143, 48325)\n",
      "(2, 87, 48325) (2, 87, 48325)\n",
      "(2, 40, 48325) (2, 40, 48325)\n",
      "(2, 83, 48325) (2, 83, 48325)\n",
      "(2, 70, 48325) (2, 70, 48325)\n",
      "\n",
      "\n",
      "Session 71/143: /allen/programs/braintv/workgroups/nc-ophys/Farzaneh/ICA_crossTalk/session_921922878/\n",
      "['922122742', '922122744', '922122732', '922122734', '922122738', '922122740', '922122728', '922122730']\n",
      "(2, 6, 48294) (2, 6, 48294)\n",
      "(2, 14, 48294) (2, 14, 48294)\n",
      "(2, 7, 48294) (2, 7, 48294)\n",
      "(2, 30, 48294) (2, 30, 48294)\n",
      "(2, 19, 48294) (2, 19, 48294)\n",
      "(2, 24, 48294) (2, 24, 48294)\n",
      "(2, 22, 48294) (2, 22, 48294)\n",
      "(2, 24, 48294) (2, 24, 48294)\n",
      "\n",
      "\n",
      "Session 72/143: /allen/programs/braintv/workgroups/nc-ophys/Farzaneh/ICA_crossTalk/session_922564930/\n",
      "['923144558', '923144560', '923144562', '923144564', '923144567', '923144569', '923144571', '923144573']\n",
      "(2, 187, 48293) (2, 187, 48293)\n",
      "(2, 209, 48293) (2, 209, 48293)\n",
      "(2, 39, 48293) (2, 39, 48293)\n",
      "(2, 67, 48293) (2, 67, 48293)\n",
      "(2, 145, 48293) (2, 145, 48293)\n",
      "(2, 165, 48293) (2, 165, 48293)\n",
      "(2, 65, 48293) (2, 65, 48293)\n",
      "(2, 41, 48293) (2, 41, 48293)\n",
      "\n",
      "\n",
      "Session 73/143: /allen/programs/braintv/workgroups/nc-ophys/Farzaneh/ICA_crossTalk/session_923705570/\n",
      "['924198883', '924198885', '924198891', '924198893', '924198887', '924198889', '924198895', '924198897']\n",
      "(2, 23, 48291) (2, 23, 48291)\n",
      "(2, 23, 48291) (2, 23, 48291)\n",
      "(2, 17, 48291) (2, 17, 48291)\n",
      "(2, 15, 48291) (2, 15, 48291)\n",
      "(2, 7, 48291) (2, 7, 48291)\n",
      "(2, 23, 48291) (2, 23, 48291)\n",
      "(2, 4, 48291) (2, 4, 48291)\n",
      "(2, 18, 48291) (2, 18, 48291)\n",
      "\n",
      "\n",
      "Session 74/143: /allen/programs/braintv/workgroups/nc-ophys/Farzaneh/ICA_crossTalk/session_925478114/\n",
      "['925843756', '925843758', '925843771', '925843773', '925843765', '925843769', '925843761', '925843763']\n",
      "(2, 16, 48342) (2, 16, 48342)\n",
      "(2, 18, 48342) (2, 18, 48342)\n",
      "(2, 6, 48342) (2, 6, 48342)\n",
      "(2, 20, 48342) (2, 20, 48342)\n",
      "(2, 17, 48342) (2, 17, 48342)\n",
      "(2, 23, 48342) (2, 23, 48342)\n",
      "(2, 6, 48342) (2, 6, 48342)\n",
      "(2, 21, 48342) (2, 21, 48342)\n",
      "\n",
      "\n",
      "Session 75/143: /allen/programs/braintv/workgroups/nc-ophys/Farzaneh/ICA_crossTalk/session_926488384/\n",
      "['927102644', '927102646', '927102632', '927102634', '927102640', '927102642', '927102636', '927102638']\n",
      "(2, 57, 48348) (2, 57, 48348)\n",
      "(2, 56, 48348) (2, 56, 48348)\n",
      "(2, 141, 48348) (2, 141, 48348)\n",
      "(2, 170, 48348) (2, 170, 48348)\n",
      "(2, 167, 48348) (2, 167, 48348)\n",
      "(2, 156, 48348) (2, 156, 48348)\n",
      "(2, 17, 48348) (2, 17, 48348)\n",
      "(2, 64, 48348) (2, 64, 48348)\n",
      "\n",
      "\n",
      "Session 76/143: /allen/programs/braintv/workgroups/nc-ophys/Farzaneh/ICA_crossTalk/session_927787876/\n",
      "['929653474', '929653479', '929653466', '929653468', '929653481', '929653483', '929653470', '929653472']\n",
      "(2, 17, 48315) (2, 17, 48315)\n",
      "(2, 18, 48315) (2, 18, 48315)\n",
      "(2, 28, 48315) (2, 28, 48315)\n",
      "(2, 20, 48315) (2, 20, 48315)\n",
      "(2, 8, 48315) (2, 8, 48315)\n",
      "(2, 18, 48315) (2, 18, 48315)\n",
      "(2, 7, 48315) (2, 7, 48315)\n",
      "(2, 20, 48315) (2, 20, 48315)\n",
      "\n",
      "\n",
      "Session 77/143: /allen/programs/braintv/workgroups/nc-ophys/Farzaneh/ICA_crossTalk/session_928414538/\n",
      "['929604324', '929604327', '929604329', '929604331', '929604316', '929604318', '929604320', '929604322']\n",
      "(2, 134, 48308) (2, 134, 48308)\n",
      "(2, 163, 48308) (2, 163, 48308)\n",
      "(2, 42, 48308) (2, 42, 48308)\n",
      "(2, 47, 48308) (2, 47, 48308)\n",
      "(2, 127, 48308) (2, 127, 48308)\n",
      "(2, 143, 48308) (2, 143, 48308)\n",
      "(2, 41, 48308) (2, 41, 48308)\n",
      "(2, 58, 48308) (2, 58, 48308)\n",
      "\n",
      "\n",
      "Session 78/143: /allen/programs/braintv/workgroups/nc-ophys/Farzaneh/ICA_crossTalk/session_929255311/\n",
      "['929655730', '929655732', '929655724', '929655728', '929655735', '929655737', '929655720', '929655722']\n",
      "(2, 18, 48348) (2, 18, 48348)\n",
      "(2, 29, 48348) (2, 29, 48348)\n",
      "(2, 10, 48348) (2, 10, 48348)\n",
      "(2, 59, 48348) (2, 59, 48348)\n",
      "(2, 14, 48348) (2, 14, 48348)\n",
      "(2, 34, 48348) (2, 34, 48348)\n",
      "(2, 16, 48348) (2, 16, 48348)\n",
      "(2, 27, 48348) (2, 27, 48348)\n",
      "\n",
      "\n",
      "Session 79/143: /allen/programs/braintv/workgroups/nc-ophys/Farzaneh/ICA_crossTalk/session_929686773/\n",
      "['930996076', '930996078', '930996080', '930996082', '930996067', '930996069', '930996071', '930996073']\n",
      "(2, 12, 48343) (2, 12, 48343)\n",
      "(2, 15, 48343) (2, 15, 48343)\n",
      "(2, 12, 48343) (2, 12, 48343)\n",
      "(2, 29, 48343) (2, 29, 48343)\n",
      "(2, 11, 48343) (2, 11, 48343)\n",
      "(2, 28, 48343) (2, 28, 48343)\n",
      "(2, 13, 48343) (2, 13, 48343)\n",
      "(2, 31, 48343) (2, 31, 48343)\n",
      "\n",
      "\n",
      "Session 80/143: /allen/programs/braintv/workgroups/nc-ophys/Farzaneh/ICA_crossTalk/session_931687751/\n",
      "['932381890', '932381892', '932381894', '932381896', '932381900', '932381902', '932381886', '932381888']\n",
      "(2, 35, 48299) (2, 35, 48299)\n",
      "(2, 54, 48299) (2, 54, 48299)\n",
      "(2, 130, 48299) (2, 130, 48299)\n",
      "(2, 100, 48299) (2, 100, 48299)\n",
      "(2, 53, 48299) (2, 53, 48299)\n",
      "(2, 30, 48299) (2, 30, 48299)\n",
      "(2, 116, 48299) (2, 116, 48299)\n",
      "(2, 120, 48299) (2, 120, 48299)\n",
      "\n",
      "\n",
      "Session 81/143: /allen/programs/braintv/workgroups/nc-ophys/Farzaneh/ICA_crossTalk/session_933439847/\n",
      "['935514360', '935514362', '935514364', '935514366', '935514375', '935514378', '935514368', '935514373']\n",
      "(2, 19, 48271) (2, 19, 48271)\n",
      "(2, 53, 48271) (2, 53, 48271)\n",
      "(2, 10, 48271) (2, 10, 48271)\n",
      "(2, 75, 48271) (2, 75, 48271)\n",
      "(2, 19, 48271) (2, 19, 48271)\n",
      "(2, 68, 48271) (2, 68, 48271)\n",
      "(2, 15, 48271) (2, 15, 48271)\n",
      "(2, 28, 48271) (2, 28, 48271)\n",
      "\n",
      "\n",
      "Session 82/143: /allen/programs/braintv/workgroups/nc-ophys/Farzaneh/ICA_crossTalk/session_933604359/\n",
      "['934550025', '934550027', '934550021', '934550023', '934550031', '934550033', '934550017', '934550019']\n",
      "(2, 116, 48345) (2, 116, 48345)\n",
      "(2, 116, 48345) (2, 116, 48345)\n",
      "(2, 56, 48345) (2, 56, 48345)\n",
      "(2, 48, 48345) (2, 48, 48345)\n",
      "(2, 106, 48345) (2, 106, 48345)\n",
      "(2, 28, 48345) (2, 28, 48345)\n",
      "(2, 129, 48345) (2, 129, 48345)\n",
      "(2, 132, 48345) (2, 132, 48345)\n",
      "\n",
      "\n",
      "Session 83/143: /allen/programs/braintv/workgroups/nc-ophys/Farzaneh/ICA_crossTalk/session_935559843/\n",
      "['936500606', '936500611', '936500617', '936500623', '936500596', '936500602', '936500627', '936500631']\n",
      "(2, 13, 48272) (2, 13, 48272)\n",
      "(2, 33, 48272) (2, 33, 48272)\n",
      "(2, 15, 48272) (2, 15, 48272)\n",
      "(2, 20, 48272) (2, 20, 48272)\n",
      "(2, 14, 48272) (2, 14, 48272)\n",
      "(2, 27, 48272) (2, 27, 48272)\n",
      "(2, 15, 48272) (2, 15, 48272)\n",
      "(2, 23, 48272) (2, 23, 48272)\n",
      "\n",
      "\n",
      "Session 84/143: /allen/programs/braintv/workgroups/nc-ophys/Farzaneh/ICA_crossTalk/session_937162622/\n",
      "['938002075', '938002077', '938002079', '938002081', '938002071', '938002073', '938002083', '938002088']\n",
      "(2, 9, 48299) (2, 9, 48299)\n",
      "(2, 28, 48299) (2, 28, 48299)\n",
      "(2, 11, 48299) (2, 11, 48299)\n",
      "(2, 17, 48299) (2, 17, 48299)\n",
      "(2, 15, 48299) (2, 15, 48299)\n",
      "(2, 21, 48299) (2, 21, 48299)\n",
      "(2, 19, 48299) (2, 19, 48299)\n",
      "(2, 28, 48299) (2, 28, 48299)\n",
      "\n",
      "\n",
      "Session 85/143: /allen/programs/braintv/workgroups/nc-ophys/Farzaneh/ICA_crossTalk/session_937682841/\n",
      "['938002058', '938002060', '938002053', '938002056', '938002066', '938002068', '938002062', '938002064']\n",
      "(2, 26, 48279) (2, 26, 48279)\n",
      "(2, 12, 48279) (2, 12, 48279)\n",
      "(2, 4, 48279) (2, 4, 48279)\n",
      "(2, 2, 48279) (2, 2, 48279)\n",
      "(2, 13, 48279) (2, 13, 48279)\n",
      "(2, 11, 48279) (2, 11, 48279)\n",
      "(2, 22, 48279) (2, 22, 48279)\n",
      "(2, 5, 48279) (2, 5, 48279)\n",
      "\n",
      "\n",
      "Session 86/143: /allen/programs/braintv/workgroups/nc-ophys/Farzaneh/ICA_crossTalk/session_938140092/\n",
      "['939471274', '939471278', '939471282', '939471285', '939471269', '939471272', '939471290', '939471298']\n",
      "(2, 20, 48356) (2, 20, 48356)\n",
      "(2, 32, 48356) (2, 32, 48356)\n",
      "(2, 18, 48356) (2, 18, 48356)\n",
      "(2, 22, 48356) (2, 22, 48356)\n",
      "(2, 11, 48356) (2, 11, 48356)\n",
      "(2, 36, 48356) (2, 36, 48356)\n",
      "(2, 11, 48356) (2, 11, 48356)\n",
      "(2, 25, 48356) (2, 25, 48356)\n",
      "\n",
      "\n",
      "Session 87/143: /allen/programs/braintv/workgroups/nc-ophys/Farzaneh/ICA_crossTalk/session_938898514/\n",
      "['939471250', '939471252', '939471239', '939471241', '939471256', '939471259', '939471245', '939471248']\n",
      "(2, 18, 48287) (2, 18, 48287)\n",
      "(2, 10, 48287) (2, 10, 48287)\n",
      "(2, 6, 48287) (2, 6, 48287)\n",
      "(2, 1, 48287) (2, 1, 48287)\n",
      "(2, 15, 48287) (2, 15, 48287)\n",
      "(2, 18, 48287) (2, 18, 48287)\n",
      "(2, 20, 48287) (2, 20, 48287)\n",
      "(2, 18, 48287) (2, 18, 48287)\n",
      "\n",
      "\n",
      "Session 88/143: /allen/programs/braintv/workgroups/nc-ophys/Farzaneh/ICA_crossTalk/session_939526443/\n",
      "['940433470', '940433472', '940433478', '940433480', '940433466', '940433468', '940433474', '940433476']\n",
      "(2, 81, 48318) (2, 81, 48318)\n",
      "(2, 4, 48318) (2, 4, 48318)\n",
      "(2, 47, 48318) (2, 47, 48318)\n",
      "(2, 10, 48318) (2, 10, 48318)\n",
      "(2, 41, 48318) (2, 41, 48318)\n",
      "(2, 8, 48318) (2, 8, 48318)\n",
      "(2, 19, 48318) (2, 19, 48318)\n",
      "(2, 17, 48318) (2, 17, 48318)\n",
      "\n",
      "\n",
      "Session 89/143: /allen/programs/braintv/workgroups/nc-ophys/Farzaneh/ICA_crossTalk/session_940145217/\n",
      "['940433497', '940433499', '940433493', '940433495', '940433483', '940433486', '940433488', '940433490']\n",
      "(2, 17, 48355) (2, 17, 48355)\n",
      "(2, 16, 48355) (2, 16, 48355)\n",
      "(2, 19, 48355) (2, 19, 48355)\n",
      "(2, 7, 48355) (2, 7, 48355)\n",
      "(2, 7, 48355) (2, 7, 48355)\n",
      "(2, 2, 48355) (2, 2, 48355)\n",
      "(2, 28, 48355) (2, 28, 48355)\n",
      "(2, 8, 48355) (2, 8, 48355)\n",
      "\n",
      "\n",
      "Session 90/143: /allen/programs/braintv/workgroups/nc-ophys/Farzaneh/ICA_crossTalk/session_940775208/\n",
      "['944115825', '944115831', '944115814', '944115820', '944115792', '944115799', '944115804', '944115808']\n",
      "(2, 16, 48297) (2, 16, 48297)\n",
      "(2, 18, 48297) (2, 18, 48297)\n",
      "(2, 24, 48297) (2, 24, 48297)\n",
      "(2, 9, 48297) (2, 9, 48297)\n",
      "(2, 5, 48297) (2, 5, 48297)\n",
      "(2, 4, 48297) (2, 4, 48297)\n",
      "(2, 28, 48297) (2, 28, 48297)\n",
      "(2, 21, 48297) (2, 21, 48297)\n",
      "\n",
      "\n",
      "Session 91/143: /allen/programs/braintv/workgroups/nc-ophys/Farzaneh/ICA_crossTalk/session_941676716/\n",
      "['942596353', '942596355', '942596357', '942596359', '942596361', '942596363', '942596349', '942596351']\n",
      "(2, 54, 48295) (2, 54, 48295)\n",
      "(2, 63, 48295) (2, 63, 48295)\n",
      "(2, 79, 48295) (2, 79, 48295)\n",
      "(2, 26, 48295) (2, 26, 48295)\n",
      "(2, 37, 48295) (2, 37, 48295)\n",
      "(2, 29, 48295) (2, 29, 48295)\n",
      "(2, 58, 48295) (2, 58, 48295)\n",
      "(2, 29, 48295) (2, 29, 48295)\n",
      "\n",
      "\n",
      "Session 92/143: /allen/programs/braintv/workgroups/nc-ophys/Farzaneh/ICA_crossTalk/session_944888114/\n",
      "['945586429', '945586431', '945586438', '945586440', '945586425', '945586427', '945586433', '945586435']\n",
      "(2, 50, 48324) (2, 50, 48324)\n",
      "(2, 46, 48324) (2, 46, 48324)\n",
      "(2, 41, 48324) (2, 41, 48324)\n",
      "(2, 38, 48324) (2, 38, 48324)\n",
      "(2, 72, 48324) (2, 72, 48324)\n",
      "(2, 39, 48324) (2, 39, 48324)\n",
      "(2, 75, 48324) (2, 75, 48324)\n",
      "(2, 47, 48324) (2, 47, 48324)\n",
      "\n",
      "\n",
      "Session 93/143: /allen/programs/braintv/workgroups/nc-ophys/Farzaneh/ICA_crossTalk/session_946015345/\n",
      "['946513780', '946513782', '946513788', '946513790', '946513784', '946513786', '946513776', '946513778']\n",
      "(2, 16, 48286) (2, 16, 48286)\n",
      "(2, 11, 48286) (2, 11, 48286)\n",
      "(2, 10, 48286) (2, 10, 48286)\n",
      "(2, 16, 48286) (2, 16, 48286)\n",
      "(2, 14, 48286) (2, 14, 48286)\n",
      "(2, 11, 48286) (2, 11, 48286)\n",
      "(2, 6, 48286) (2, 6, 48286)\n",
      "(2, 2, 48286) (2, 2, 48286)\n",
      "\n",
      "\n",
      "Session 94/143: /allen/programs/braintv/workgroups/nc-ophys/Farzaneh/ICA_crossTalk/session_947199653/\n",
      "['947798779', '947798781', '947798783', '947798785', '947798775', '947798777', '947798771', '947798773']\n",
      "(2, 43, 48351) (2, 43, 48351)\n",
      "(2, 36, 48351) (2, 36, 48351)\n",
      "(2, 50, 48351) (2, 50, 48351)\n",
      "(2, 39, 48351) (2, 39, 48351)\n",
      "(2, 70, 48351) (2, 70, 48351)\n",
      "(2, 75, 48351) (2, 75, 48351)\n",
      "(2, 46, 48351) (2, 46, 48351)\n",
      "(2, 50, 48351) (2, 50, 48351)\n",
      "\n",
      "\n",
      "Session 95/143: /allen/programs/braintv/workgroups/nc-ophys/Farzaneh/ICA_crossTalk/session_947358663/\n",
      "['947797705', '947797707', '947797696', '947797699', '947797692', '947797694', '947797701', '947797703']\n",
      "(2, 10, 48292) (2, 10, 48292)\n",
      "(2, 13, 48292) (2, 13, 48292)\n",
      "(2, 9, 48292) (2, 9, 48292)\n",
      "(2, 10, 48292) (2, 10, 48292)\n",
      "(2, 1, 48292) (2, 1, 48292)\n",
      "(2, 2, 48292) (2, 2, 48292)\n",
      "(2, 12, 48292) (2, 12, 48292)\n",
      "(2, 9, 48292) (2, 9, 48292)\n",
      "\n",
      "\n",
      "Session 96/143: /allen/programs/braintv/workgroups/nc-ophys/Farzaneh/ICA_crossTalk/session_948042811/\n",
      "['948689205', '948689207', '948689196', '948689198', '948689200', '948689203', '948689192', '948689194']\n",
      "(2, 41, 48284) (2, 41, 48284)\n",
      "(2, 40, 48284) (2, 40, 48284)\n",
      "(2, 56, 48284) (2, 56, 48284)\n",
      "(2, 33, 48284) (2, 33, 48284)\n",
      "(2, 48, 48284) (2, 48, 48284)\n",
      "(2, 46, 48284) (2, 46, 48284)\n",
      "(2, 46, 48284) (2, 46, 48284)\n",
      "(2, 55, 48284) (2, 55, 48284)\n",
      "\n",
      "\n",
      "Session 97/143: /allen/programs/braintv/workgroups/nc-ophys/Farzaneh/ICA_crossTalk/session_948252173/\n",
      "['948704864', '948704866', '948704856', '948704858', '948704868', '948704870', '948704860', '948704862']\n",
      "(2, 11, 48361) (2, 11, 48361)\n",
      "(2, 12, 48361) (2, 12, 48361)\n",
      "(2, 7, 48361) (2, 7, 48361)\n",
      "(2, 5, 48361) (2, 5, 48361)\n",
      "(2, 12, 48361) (2, 12, 48361)\n",
      "(2, 20, 48361) (2, 20, 48361)\n",
      "(2, 19, 48361) (2, 19, 48361)\n",
      "(2, 18, 48361) (2, 18, 48361)\n",
      "\n",
      "\n",
      "Session 98/143: /allen/programs/braintv/workgroups/nc-ophys/Farzaneh/ICA_crossTalk/session_949217880/\n",
      "['949723717', '949723719', '949723721', '949723723', '949723713', '949723715', '949723709', '949723711']\n",
      "(2, 43, 48293) (2, 43, 48293)\n",
      "(2, 39, 48293) (2, 39, 48293)\n",
      "(2, 39, 48293) (2, 39, 48293)\n",
      "(2, 39, 48293) (2, 39, 48293)\n",
      "(2, 70, 48293) (2, 70, 48293)\n",
      "(2, 41, 48293) (2, 41, 48293)\n",
      "(2, 50, 48293) (2, 50, 48293)\n",
      "(2, 64, 48293) (2, 64, 48293)\n",
      "\n",
      "\n",
      "Session 99/143: /allen/programs/braintv/workgroups/nc-ophys/Farzaneh/ICA_crossTalk/session_950031363/\n",
      "['951213215', '951213217', '951213211', '951213213', '951213203', '951213205', '951213207', '951213209']\n",
      "(2, 26, 48379) (2, 26, 48379)\n",
      "(2, 19, 48379) (2, 19, 48379)\n",
      "(2, 54, 48379) (2, 54, 48379)\n",
      "(2, 44, 48379) (2, 44, 48379)\n",
      "(2, 52, 48379) (2, 52, 48379)\n",
      "(2, 49, 48379) (2, 49, 48379)\n",
      "(2, 63, 48379) (2, 63, 48379)\n",
      "(2, 40, 48379) (2, 40, 48379)\n",
      "\n",
      "\n",
      "Session 100/143: /allen/programs/braintv/workgroups/nc-ophys/Farzaneh/ICA_crossTalk/session_951410079/\n",
      "['951980475', '951980477', '951980471', '951980473', '951980479', '951980481', '951980484', '951980486']\n",
      "(2, 13, 48316) (2, 13, 48316)\n",
      "(2, 12, 48316) (2, 12, 48316)\n",
      "(2, 20, 48316) (2, 20, 48316)\n",
      "(2, 20, 48316) (2, 20, 48316)\n",
      "(2, 36, 48316) (2, 36, 48316)\n",
      "(2, 33, 48316) (2, 33, 48316)\n",
      "(2, 11, 48316) (2, 11, 48316)\n",
      "(2, 19, 48316) (2, 19, 48316)\n",
      "\n",
      "\n",
      "Session 101/143: /allen/programs/braintv/workgroups/nc-ophys/Farzaneh/ICA_crossTalk/session_952430817/\n",
      "['953659741', '953659743', '953659749', '953659752', '953659754', '953659756', '953659745', '953659747']\n",
      "(2, 22, 48332) (2, 22, 48332)\n",
      "(2, 20, 48332) (2, 20, 48332)\n",
      "(2, 30, 48332) (2, 30, 48332)\n",
      "(2, 28, 48332) (2, 28, 48332)\n",
      "(2, 15, 48332) (2, 15, 48332)\n",
      "(2, 20, 48332) (2, 20, 48332)\n",
      "(2, 25, 48332) (2, 25, 48332)\n",
      "(2, 13, 48332) (2, 13, 48332)\n",
      "\n",
      "\n",
      "Session 102/143: /allen/programs/braintv/workgroups/nc-ophys/Farzaneh/ICA_crossTalk/session_954954402/\n",
      "['958527485', '958527488', '958527474', '958527477', '958527479', '958527481', '958527464', '958527471']\n",
      "(2, 17, 48332) (2, 17, 48332)\n",
      "(2, 17, 48332) (2, 17, 48332)\n",
      "(2, 13, 48332) (2, 13, 48332)\n",
      "(2, 19, 48332) (2, 19, 48332)\n",
      "(2, 25, 48332) (2, 25, 48332)\n",
      "(2, 25, 48332) (2, 25, 48332)\n",
      "(2, 20, 48332) (2, 20, 48332)\n",
      "(2, 24, 48332) (2, 24, 48332)\n",
      "\n",
      "\n",
      "Session 103/143: /allen/programs/braintv/workgroups/nc-ophys/Farzaneh/ICA_crossTalk/session_955775716/\n",
      "['956941841', '956941844', '956941851', '956941853', '956941856', '956941858', '956941846', '956941848']\n",
      "(2, 13, 48347) (2, 13, 48347)\n",
      "(2, 28, 48347) (2, 28, 48347)\n",
      "(2, 26, 48347) (2, 26, 48347)\n",
      "(2, 21, 48347) (2, 21, 48347)\n",
      "(2, 17, 48347) (2, 17, 48347)\n",
      "(2, 26, 48347) (2, 26, 48347)\n",
      "(2, 11, 48347) (2, 11, 48347)\n",
      "(2, 22, 48347) (2, 22, 48347)\n",
      "\n",
      "\n",
      "Session 104/143: /allen/programs/braintv/workgroups/nc-ophys/Farzaneh/ICA_crossTalk/session_957020350/\n",
      "['957759574', '957759576', '957759566', '957759568', '957759570', '957759572', '957759562', '957759564']\n",
      "(2, 14, 48284) (2, 14, 48284)\n",
      "(2, 21, 48284) (2, 21, 48284)\n",
      "(2, 14, 48284) (2, 14, 48284)\n",
      "(2, 22, 48284) (2, 22, 48284)\n",
      "(2, 31, 48284) (2, 31, 48284)\n",
      "(2, 24, 48284) (2, 24, 48284)\n",
      "(2, 17, 48284) (2, 17, 48284)\n",
      "(2, 28, 48284) (2, 28, 48284)\n",
      "\n",
      "\n",
      "Session 105/143: /allen/programs/braintv/workgroups/nc-ophys/Farzaneh/ICA_crossTalk/session_958105827/\n",
      "['958741219', '958741222', '958741224', '958741226', '958741228', '958741230', '958741232', '958741234']\n",
      "(2, 20, 48325) (2, 20, 48325)\n",
      "(2, 31, 48325) (2, 31, 48325)\n",
      "(2, 13, 48325) (2, 13, 48325)\n",
      "(2, 24, 48325) (2, 24, 48325)\n",
      "(2, 30, 48325) (2, 30, 48325)\n",
      "(2, 20, 48325) (2, 20, 48325)\n",
      "(2, 15, 48325) (2, 15, 48325)\n",
      "(2, 15, 48325) (2, 15, 48325)\n",
      "\n",
      "\n",
      "Session 106/143: /allen/programs/braintv/workgroups/nc-ophys/Farzaneh/ICA_crossTalk/session_958772311/\n",
      "['959388800', '959388802', '959388788', '959388790', '959388796', '959388798', '959388792', '959388794']\n",
      "(2, 13, 48324) (2, 13, 48324)\n",
      "(2, 14, 48324) (2, 14, 48324)\n",
      "(2, 14, 48324) (2, 14, 48324)\n",
      "(2, 18, 48324) (2, 18, 48324)\n",
      "(2, 22, 48324) (2, 22, 48324)\n",
      "(2, 14, 48324) (2, 14, 48324)\n",
      "(2, 12, 48324) (2, 12, 48324)\n",
      "(2, 11, 48324) (2, 11, 48324)\n",
      "\n",
      "\n",
      "Session 107/143: /allen/programs/braintv/workgroups/nc-ophys/Farzaneh/ICA_crossTalk/session_959458018/\n",
      "['960410040', '960410042', '960410035', '960410038', '960410028', '960410032', '960410023', '960410026']\n",
      "(2, 9, 48389) (2, 9, 48389)\n",
      "(2, 15, 48389) (2, 15, 48389)\n",
      "(2, 30, 48389) (2, 30, 48389)\n",
      "(2, 28, 48389) (2, 28, 48389)\n",
      "(2, 17, 48389) (2, 17, 48389)\n",
      "(2, 19, 48389) (2, 19, 48389)\n",
      "(2, 24, 48389) (2, 24, 48389)\n",
      "(2, 24, 48389) (2, 24, 48389)\n",
      "\n",
      "\n",
      "Session 108/143: /allen/programs/braintv/workgroups/nc-ophys/Farzaneh/ICA_crossTalk/session_971632311/\n",
      "['971813767', '971813769', '971813762', '971813765', '971813758', '971813760', '971813754', '971813756']\n",
      "(2, 152, 48298) (2, 152, 48298)\n",
      "(2, 165, 48298) (2, 165, 48298)\n",
      "(2, 59, 48298) (2, 59, 48298)\n",
      "(2, 88, 48298) (2, 88, 48298)\n",
      "(2, 222, 48298) (2, 222, 48298)\n",
      "(2, 420, 48298) (2, 420, 48298)\n",
      "(2, 99, 48298) (2, 99, 48298)\n",
      "(2, 168, 48298) (2, 168, 48298)\n",
      "\n",
      "\n",
      "Session 109/143: /allen/programs/braintv/workgroups/nc-ophys/Farzaneh/ICA_crossTalk/session_971922380/\n",
      "['972233187', '972233189', '972233193', '972233195', '972233173', '972233175', '972233181', '972233183']\n",
      "(2, 40, 48305) (2, 40, 48305)\n",
      "(2, 61, 48305) (2, 61, 48305)\n",
      "(2, 164, 48305) (2, 164, 48305)\n",
      "(2, 118, 48305) (2, 118, 48305)\n",
      "(2, 99, 48305) (2, 99, 48305)\n",
      "(2, 125, 48305) (2, 125, 48305)\n",
      "(2, 218, 48305) (2, 218, 48305)\n",
      "(2, 397, 48305) (2, 397, 48305)\n",
      "\n",
      "\n",
      "Session 110/143: /allen/programs/braintv/workgroups/nc-ophys/Farzaneh/ICA_crossTalk/session_973384292/\n",
      "['974433399', '974433401', '974433395', '974433397', '974433386', '974433388', '974433390', '974433392']\n",
      "(2, 160, 48330) (2, 160, 48330)\n",
      "(2, 124, 48330) (2, 124, 48330)\n",
      "(2, 50, 48330) (2, 50, 48330)\n",
      "(2, 79, 48330) (2, 79, 48330)\n",
      "(2, 123, 48330) (2, 123, 48330)\n",
      "(2, 152, 48330) (2, 152, 48330)\n",
      "(2, 257, 48330) (2, 257, 48330)\n",
      "(2, 398, 48330) (2, 398, 48330)\n",
      "\n",
      "\n",
      "Session 111/143: /allen/programs/braintv/workgroups/nc-ophys/Farzaneh/ICA_crossTalk/session_973701907/\n",
      "['974358975', '974358977', '974358967', '974358969', '974358971', '974358973', '974358979', '974358981']\n",
      "(2, 56, 48339) (2, 56, 48339)\n",
      "(2, 87, 48339) (2, 87, 48339)\n",
      "(2, 154, 48339) (2, 154, 48339)\n",
      "(2, 167, 48339) (2, 167, 48339)\n",
      "(2, 275, 48339) (2, 275, 48339)\n",
      "(2, 448, 48339) (2, 448, 48339)\n",
      "(2, 179, 48339) (2, 179, 48339)\n",
      "(2, 147, 48339) (2, 147, 48339)\n",
      "\n",
      "\n",
      "Session 112/143: /allen/programs/braintv/workgroups/nc-ophys/Farzaneh/ICA_crossTalk/session_974167263/\n",
      "['974362760', '974362762', '974362751', '974362753', '974362764', '974362767', '974362756', '974362758']\n",
      "(2, 51, 48323) (2, 51, 48323)\n",
      "(2, 50, 48323) (2, 50, 48323)\n",
      "(2, 139, 48323) (2, 139, 48323)\n",
      "(2, 164, 48323) (2, 164, 48323)\n",
      "(2, 148, 48323) (2, 148, 48323)\n",
      "(2, 94, 48323) (2, 94, 48323)\n",
      "(2, 247, 48323) (2, 247, 48323)\n",
      "(2, 362, 48323) (2, 362, 48323)\n",
      "\n",
      "\n",
      "Session 113/143: /allen/programs/braintv/workgroups/nc-ophys/Farzaneh/ICA_crossTalk/session_974486549/\n",
      "['974994107', '974994109', '974994097', '974994099', '974994101', '974994105', '974994093', '974994095']\n",
      "(2, 142, 48317) (2, 142, 48317)\n",
      "(2, 75, 48317) (2, 75, 48317)\n",
      "(2, 185, 48317) (2, 185, 48317)\n",
      "(2, 304, 48317) (2, 304, 48317)\n",
      "(2, 44, 48317) (2, 44, 48317)\n",
      "(2, 45, 48317) (2, 45, 48317)\n",
      "(2, 105, 48317) (2, 105, 48317)\n",
      "(2, 138, 48317) (2, 138, 48317)\n",
      "\n",
      "\n",
      "Session 114/143: /allen/programs/braintv/workgroups/nc-ophys/Farzaneh/ICA_crossTalk/session_975452945/\n",
      "['975608400', '975608402', '975608392', '975608394', '975608396', '975608398', '975608388', '975608390']\n",
      "(2, 17, 48333) (2, 17, 48333)\n",
      "(2, 22, 48333) (2, 22, 48333)\n",
      "(2, 22, 48333) (2, 22, 48333)\n",
      "(2, 23, 48333) (2, 23, 48333)\n",
      "(2, 24, 48333) (2, 24, 48333)\n",
      "(2, 29, 48333) (2, 29, 48333)\n",
      "(2, 13, 48333) (2, 13, 48333)\n",
      "(2, 23, 48333) (2, 23, 48333)\n",
      "\n",
      "\n",
      "Session 115/143: /allen/programs/braintv/workgroups/nc-ophys/Farzaneh/ICA_crossTalk/session_976167513/\n",
      "['976300293', '976300295', '976300297', '976300299', '976300305', '976300307', '976300301', '976300303']\n",
      "(2, 18, 48340) (2, 18, 48340)\n",
      "(2, 21, 48340) (2, 21, 48340)\n",
      "(2, 15, 48340) (2, 15, 48340)\n",
      "(2, 22, 48340) (2, 22, 48340)\n",
      "(2, 16, 48340) (2, 16, 48340)\n",
      "(2, 27, 48340) (2, 27, 48340)\n",
      "(2, 22, 48340) (2, 22, 48340)\n",
      "(2, 28, 48340) (2, 28, 48340)\n",
      "\n",
      "\n",
      "Session 116/143: /allen/programs/braintv/workgroups/nc-ophys/Farzaneh/ICA_crossTalk/session_976382032/\n",
      "['977247466', '977247468', '977247474', '977247476', '977247470', '977247472', '977247461', '977247464']\n",
      "(2, 12, 48333) (2, 12, 48333)\n",
      "(2, 21, 48333) (2, 21, 48333)\n",
      "(2, 16, 48333) (2, 16, 48333)\n",
      "(2, 22, 48333) (2, 22, 48333)\n",
      "(2, 21, 48333) (2, 21, 48333)\n",
      "(2, 27, 48333) (2, 27, 48333)\n",
      "(2, 8, 48333) (2, 8, 48333)\n",
      "(2, 20, 48333) (2, 20, 48333)\n",
      "\n",
      "\n",
      "Session 117/143: /allen/programs/braintv/workgroups/nc-ophys/Farzaneh/ICA_crossTalk/session_977760370/\n",
      "['977978325', '977978327', '977978314', '977978319', '977978321', '977978323', '977978329', '977978331']\n",
      "(2, 18, 48284) (2, 18, 48284)\n",
      "(2, 27, 48284) (2, 27, 48284)\n",
      "(2, 24, 48284) (2, 24, 48284)\n",
      "(2, 20, 48284) (2, 20, 48284)\n",
      "(2, 15, 48284) (2, 15, 48284)\n",
      "(2, 29, 48284) (2, 29, 48284)\n",
      "(2, 19, 48284) (2, 19, 48284)\n",
      "(2, 24, 48284) (2, 24, 48284)\n",
      "\n",
      "\n",
      "Session 118/143: /allen/programs/braintv/workgroups/nc-ophys/Farzaneh/ICA_crossTalk/session_978201478/\n",
      "['978296098', '978296100', '978296106', '978296110', '978296102', '978296104', '978296112', '978296114']\n",
      "(2, 10, 48274) (2, 10, 48274)\n",
      "(2, 21, 48274) (2, 21, 48274)\n",
      "(2, 19, 48274) (2, 19, 48274)\n",
      "(2, 29, 48274) (2, 29, 48274)\n",
      "(2, 18, 48274) (2, 18, 48274)\n",
      "(2, 31, 48274) (2, 31, 48274)\n",
      "(2, 15, 48274) (2, 15, 48274)\n",
      "(2, 22, 48274) (2, 22, 48274)\n",
      "\n",
      "\n",
      "Session 119/143: /allen/programs/braintv/workgroups/nc-ophys/Farzaneh/ICA_crossTalk/session_980062339/\n",
      "['981178539', '981178542', '981178529', '981178532', '981178535', '981178537', '981178524', '981178526']\n",
      "(2, 26, 48299) (2, 26, 48299)\n",
      "(2, 26, 48299) (2, 26, 48299)\n",
      "(2, 23, 48299) (2, 23, 48299)\n",
      "(2, 26, 48299) (2, 26, 48299)\n",
      "(2, 21, 48299) (2, 21, 48299)\n",
      "(2, 33, 48299) (2, 33, 48299)\n",
      "(2, 14, 48299) (2, 14, 48299)\n",
      "(2, 21, 48299) (2, 21, 48299)\n",
      "\n",
      "\n",
      "Session 120/143: /allen/programs/braintv/workgroups/nc-ophys/Farzaneh/ICA_crossTalk/session_981705001/\n",
      "['982344767', '982344769', '982344775', '982344777', '982344779', '982344781', '982344771', '982344773']\n",
      "(2, 21, 48404) (2, 21, 48404)\n",
      "(2, 10, 48404) (2, 10, 48404)\n",
      "(2, 31, 48404) (2, 31, 48404)\n",
      "(2, 22, 48404) (2, 22, 48404)\n",
      "(2, 36, 48404) (2, 36, 48404)\n",
      "(2, 29, 48404) (2, 29, 48404)\n",
      "(2, 13, 48404) (2, 13, 48404)\n",
      "(2, 9, 48404) (2, 9, 48404)\n",
      "\n",
      "\n",
      "Session 121/143: /allen/programs/braintv/workgroups/nc-ophys/Farzaneh/ICA_crossTalk/session_981845703/\n",
      "['982343726', '982343728', '982343730', '982343732', '982343738', '982343741', '982343734', '982343736']\n",
      "(2, 13, 48289) (2, 13, 48289)\n",
      "(2, 26, 48289) (2, 26, 48289)\n",
      "(2, 20, 48289) (2, 20, 48289)\n",
      "(2, 26, 48289) (2, 26, 48289)\n",
      "(2, 22, 48289) (2, 22, 48289)\n",
      "(2, 25, 48289) (2, 25, 48289)\n",
      "(2, 23, 48289) (2, 23, 48289)\n",
      "(2, 31, 48289) (2, 31, 48289)\n",
      "\n",
      "\n",
      "Session 122/143: /allen/programs/braintv/workgroups/nc-ophys/Farzaneh/ICA_crossTalk/session_982566889/\n",
      "['982903853', '982903855', '982903845', '982903847', '982903849', '982903851', '982903841', '982903843']\n",
      "(2, 32, 48355) (2, 32, 48355)\n",
      "(2, 21, 48355) (2, 21, 48355)\n",
      "(2, 16, 48355) (2, 16, 48355)\n",
      "(2, 11, 48355) (2, 11, 48355)\n",
      "(2, 21, 48355) (2, 21, 48355)\n",
      "(2, 14, 48355) (2, 14, 48355)\n",
      "(2, 22, 48355) (2, 22, 48355)\n",
      "(2, 12, 48355) (2, 12, 48355)\n",
      "\n",
      "\n",
      "Session 123/143: /allen/programs/braintv/workgroups/nc-ophys/Farzaneh/ICA_crossTalk/session_985609503/\n",
      "['986518880', '986518885', '986518891', '986518893', '986518876', '986518878', '986518887', '986518889']\n",
      "(2, 68, 48348) (2, 68, 48348)\n",
      "(2, 153, 48348) (2, 153, 48348)\n",
      "(2, 45, 48348) (2, 45, 48348)\n",
      "(2, 50, 48348) (2, 50, 48348)\n",
      "(2, 97, 48348) (2, 97, 48348)\n",
      "(2, 182, 48348) (2, 182, 48348)\n",
      "(2, 95, 48348) (2, 95, 48348)\n",
      "(2, 109, 48348) (2, 109, 48348)\n",
      "\n",
      "\n",
      "Session 124/143: /allen/programs/braintv/workgroups/nc-ophys/Farzaneh/ICA_crossTalk/session_985888070/\n",
      "['986518819', '986518822', '986518831', '986518833', '986518824', '986518829', '986518836', '986518838']\n",
      "(2, 23, 48292) (2, 23, 48292)\n",
      "(2, 6, 48292) (2, 6, 48292)\n",
      "(2, 21, 48292) (2, 21, 48292)\n",
      "(2, 12, 48292) (2, 12, 48292)\n",
      "(2, 2, 48292) (2, 2, 48292)\n",
      "(2, 10, 48292) (2, 10, 48292)\n",
      "(2, 16, 48292) (2, 16, 48292)\n",
      "(2, 16, 48292) (2, 16, 48292)\n",
      "\n",
      "\n",
      "Session 125/143: /allen/programs/braintv/workgroups/nc-ophys/Farzaneh/ICA_crossTalk/session_986130604/\n",
      "['986518861', '986518863', '986518843', '986518847', '986518852', '986518858', '986518865', '986518870']\n",
      "(2, 26, 48306) (2, 26, 48306)\n",
      "(2, 28, 48306) (2, 28, 48306)\n",
      "(2, 17, 48306) (2, 17, 48306)\n",
      "(2, 28, 48306) (2, 28, 48306)\n",
      "(2, 23, 48306) (2, 23, 48306)\n",
      "(2, 32, 48306) (2, 32, 48306)\n",
      "(2, 24, 48306) (2, 24, 48306)\n",
      "(2, 21, 48306) (2, 21, 48306)\n",
      "\n",
      "\n",
      "Session 126/143: /allen/programs/braintv/workgroups/nc-ophys/Farzaneh/ICA_crossTalk/session_986767503/\n",
      "['987320810', '987320812', '987320814', '987320816', '987320818', '987320820', '987320806', '987320808']\n",
      "(2, 3, 48273) (2, 3, 48273)\n",
      "(2, 14, 48273) (2, 14, 48273)\n",
      "(2, 11, 48273) (2, 11, 48273)\n",
      "(2, 15, 48273) (2, 15, 48273)\n",
      "(2, 10, 48273) (2, 10, 48273)\n",
      "(2, 13, 48273) (2, 13, 48273)\n",
      "(2, 2, 48273) (2, 2, 48273)\n",
      "(2, 5, 48273) (2, 5, 48273)\n",
      "\n",
      "\n",
      "Session 127/143: /allen/programs/braintv/workgroups/nc-ophys/Farzaneh/ICA_crossTalk/session_987352048/\n",
      "['988707121', '988707124', '988707117', '988707119', '988707126', '988707128', '988707113', '988707115']\n",
      "(2, 8, 48299) (2, 8, 48299)\n",
      "(2, 20, 48299) (2, 20, 48299)\n",
      "(2, 2, 48299) (2, 2, 48299)\n",
      "(2, 11, 48299) (2, 11, 48299)\n",
      "(2, 8, 48299) (2, 8, 48299)\n",
      "(2, 11, 48299) (2, 11, 48299)\n",
      "(2, 2, 48299) (2, 2, 48299)\n",
      "(2, 6, 48299) (2, 6, 48299)\n",
      "\n",
      "\n",
      "Session 128/143: /allen/programs/braintv/workgroups/nc-ophys/Farzaneh/ICA_crossTalk/session_988768058/\n",
      "['989213060', '989213061', '989213058', '989213059', '989213064', '989213065', '989213062', '989213063']\n",
      "(2, 57, 48358) (2, 57, 48358)\n",
      "(2, 120, 48358) (2, 120, 48358)\n",
      "(2, 114, 48358) (2, 114, 48358)\n",
      "(2, 152, 48358) (2, 152, 48358)\n",
      "(2, 45, 48358) (2, 45, 48358)\n",
      "(2, 36, 48358) (2, 36, 48358)\n",
      "(2, 101, 48358) (2, 101, 48358)\n",
      "(2, 102, 48358) (2, 102, 48358)\n",
      "\n",
      "\n",
      "Session 129/143: /allen/programs/braintv/workgroups/nc-ophys/Farzaneh/ICA_crossTalk/session_988903485/\n",
      "['989212488', '989212489', '989212493', '989212494', '989212495', '989212496', '989212491', '989212492']\n",
      "(2, 15, 48275) (2, 15, 48275)\n",
      "(2, 7, 48275) (2, 7, 48275)\n",
      "(2, 13, 48275) (2, 13, 48275)\n",
      "(2, 14, 48275) (2, 14, 48275)\n",
      "(2, 7, 48275) (2, 7, 48275)\n",
      "(2, 11, 48275) (2, 11, 48275)\n",
      "(2, 5, 48275) (2, 5, 48275)\n",
      "(2, 15, 48275) (2, 15, 48275)\n",
      "\n",
      "\n",
      "Session 130/143: /allen/programs/braintv/workgroups/nc-ophys/Farzaneh/ICA_crossTalk/session_989267296/\n",
      "['989610989', '989610990', '989610991', '989610992', '989610987', '989610988', '989610985', '989610986']\n",
      "(2, 108, 48324) (2, 108, 48324)\n",
      "(2, 101, 48324) (2, 101, 48324)\n",
      "(2, 41, 48324) (2, 41, 48324)\n",
      "(2, 42, 48324) (2, 42, 48324)\n",
      "(2, 56, 48324) (2, 56, 48324)\n",
      "(2, 127, 48324) (2, 127, 48324)\n",
      "(2, 119, 48324) (2, 119, 48324)\n",
      "(2, 203, 48324) (2, 203, 48324)\n",
      "\n",
      "\n",
      "Session 131/143: /allen/programs/braintv/workgroups/nc-ophys/Farzaneh/ICA_crossTalk/session_990139534/\n",
      "['990400778', '990400779', '990400775', '990400777', '990400780', '990400781', '990400782', '990400783']\n",
      "(2, 58, 48354) (2, 58, 48354)\n",
      "(2, 70, 48354) (2, 70, 48354)\n",
      "(2, 101, 48354) (2, 101, 48354)\n",
      "(2, 166, 48354) (2, 166, 48354)\n",
      "(2, 84, 48354) (2, 84, 48354)\n",
      "(2, 96, 48354) (2, 96, 48354)\n",
      "(2, 44, 48354) (2, 44, 48354)\n",
      "(2, 23, 48354) (2, 23, 48354)\n",
      "\n",
      "\n",
      "Session 132/143: /allen/programs/braintv/workgroups/nc-ophys/Farzaneh/ICA_crossTalk/session_990464099/\n",
      "['990681010', '990681012', '990681013', '990681014', '990681006', '990681007', '990681008', '990681009']\n",
      "(2, 98, 48355) (2, 98, 48355)\n",
      "(2, 99, 48355) (2, 99, 48355)\n",
      "(2, 44, 48355) (2, 44, 48355)\n",
      "(2, 29, 48355) (2, 29, 48355)\n",
      "(2, 97, 48355) (2, 97, 48355)\n",
      "(2, 121, 48355) (2, 121, 48355)\n",
      "(2, 46, 48355) (2, 46, 48355)\n",
      "(2, 60, 48355) (2, 60, 48355)\n",
      "\n",
      "\n",
      "Session 133/143: /allen/programs/braintv/workgroups/nc-ophys/Farzaneh/ICA_crossTalk/session_991639544/\n",
      "['991852000', '991852001', '991852006', '991852008', '991852004', '991852005', '991852002', '991852003']\n",
      "(2, 101, 48331) (2, 101, 48331)\n",
      "(2, 160, 48331) (2, 160, 48331)\n",
      "(2, 32, 48331) (2, 32, 48331)\n",
      "(2, 15, 48331) (2, 15, 48331)\n",
      "(2, 93, 48331) (2, 93, 48331)\n",
      "(2, 84, 48331) (2, 84, 48331)\n",
      "(2, 48, 48331) (2, 48, 48331)\n",
      "(2, 84, 48331) (2, 84, 48331)\n",
      "\n",
      "\n",
      "Session 134/143: /allen/programs/braintv/workgroups/nc-ophys/Farzaneh/ICA_crossTalk/session_991958444/\n",
      "['992084633', '992084635', '992084628', '992084629', '992084626', '992084627', '992084624', '992084625']\n",
      "(2, 253, 48331) (2, 253, 48331)\n",
      "(2, 211, 48331) (2, 211, 48331)\n",
      "(2, 61, 48331) (2, 61, 48331)\n",
      "(2, 58, 48331) (2, 58, 48331)\n",
      "(2, 282, 48331) (2, 282, 48331)\n",
      "(2, 355, 48331) (2, 355, 48331)\n",
      "(2, 110, 48331) (2, 110, 48331)\n",
      "(2, 106, 48331) (2, 106, 48331)\n",
      "\n",
      "\n",
      "Session 135/143: /allen/programs/braintv/workgroups/nc-ophys/Farzaneh/ICA_crossTalk/session_992393325/\n",
      "['992620393', '992620395', '992620388', '992620390', '992620391', '992620392', '992620396', '992620397']\n",
      "(2, 56, 48349) (2, 56, 48349)\n",
      "(2, 56, 48349) (2, 56, 48349)\n",
      "(2, 99, 48349) (2, 99, 48349)\n",
      "(2, 40, 48349) (2, 40, 48349)\n",
      "(2, 291, 48349) (2, 291, 48349)\n",
      "(2, 299, 48349) (2, 299, 48349)\n",
      "(2, 265, 48349) (2, 265, 48349)\n",
      "(2, 262, 48349) (2, 262, 48349)\n",
      "\n",
      "\n",
      "Session 136/143: /allen/programs/braintv/workgroups/nc-ophys/Farzaneh/ICA_crossTalk/session_993253587/\n",
      "['993369859', '993369860', '993369861', '993369862', '993369857', '993369858', '993369863', '993369864']\n",
      "(2, 275, 48290) (2, 275, 48290)\n",
      "(2, 316, 48290) (2, 316, 48290)\n",
      "(2, 50, 48290) (2, 50, 48290)\n",
      "(2, 34, 48290) (2, 34, 48290)\n",
      "(2, 102, 48290) (2, 102, 48290)\n",
      "(2, 51, 48290) (2, 51, 48290)\n",
      "(2, 236, 48290) (2, 236, 48290)\n",
      "(2, 202, 48290) (2, 202, 48290)\n",
      "\n",
      "\n",
      "Session 137/143: /allen/programs/braintv/workgroups/nc-ophys/Farzaneh/ICA_crossTalk/session_993420347/\n",
      "['993619369', '993619370', '993619371', '993619372', '993619364', '993619366', '993619367', '993619368']\n",
      "(2, 52, 48352) (2, 52, 48352)\n",
      "(2, 22, 48352) (2, 22, 48352)\n",
      "(2, 157, 48352) (2, 157, 48352)\n",
      "(2, 131, 48352) (2, 131, 48352)\n",
      "(2, 64, 48352) (2, 64, 48352)\n",
      "(2, 42, 48352) (2, 42, 48352)\n",
      "(2, 202, 48352) (2, 202, 48352)\n",
      "(2, 260, 48352) (2, 260, 48352)\n",
      "\n",
      "\n",
      "Session 138/143: /allen/programs/braintv/workgroups/nc-ophys/Farzaneh/ICA_crossTalk/session_993738515/\n",
      "['993891844', '993891845', '993891842', '993891843', '993891846', '993891847', '993891849', '993891850']\n",
      "(2, 289, 48306) (2, 289, 48306)\n",
      "(2, 385, 48306) (2, 385, 48306)\n",
      "(2, 117, 48306) (2, 117, 48306)\n",
      "(2, 123, 48306) (2, 123, 48306)\n",
      "(2, 42, 48306) (2, 42, 48306)\n",
      "(2, 48, 48306) (2, 48, 48306)\n",
      "(2, 265, 48306) (2, 265, 48306)\n",
      "(2, 223, 48306) (2, 223, 48306)\n",
      "\n",
      "\n",
      "Session 139/143: /allen/programs/braintv/workgroups/nc-ophys/Farzaneh/ICA_crossTalk/session_993962221/\n",
      "['994082674', '994082676', '994082677', '994082679', '994082680', '994082683', '994082671', '994082673']\n",
      "(2, 255, 48282) (2, 255, 48282)\n",
      "(2, 383, 48282) (2, 383, 48282)\n",
      "(2, 54, 48282) (2, 54, 48282)\n",
      "(2, 35, 48282) (2, 35, 48282)\n",
      "(2, 231, 48282) (2, 231, 48282)\n",
      "(2, 207, 48282) (2, 207, 48282)\n",
      "(2, 114, 48282) (2, 114, 48282)\n",
      "(2, 92, 48282) (2, 92, 48282)\n",
      "\n",
      "\n",
      "Session 140/143: /allen/programs/braintv/workgroups/nc-ophys/Farzaneh/ICA_crossTalk/session_1000439105/\n",
      "['1000744371', '1000744373', '1000744363', '1000744365', '1000744374', '1000744376', '1000744367', '1000744370']\n",
      "(2, 52, 48168) (2, 52, 48168)\n",
      "(2, 34, 48168) (2, 34, 48168)\n",
      "(2, 69, 48168) (2, 69, 48168)\n",
      "(2, 99, 48168) (2, 99, 48168)\n",
      "(2, 161, 48168) (2, 161, 48168)\n",
      "(2, 119, 48168) (2, 119, 48168)\n",
      "(2, 291, 48168) (2, 291, 48168)\n",
      "(2, 400, 48168) (2, 400, 48168)\n",
      "\n",
      "\n",
      "Session 141/143: /allen/programs/braintv/workgroups/nc-ophys/Farzaneh/ICA_crossTalk/session_1002120640/\n",
      "['1002336289', '1002336291', '1002336299', '1002336301', '1002336295', '1002336297', '1002336292', '1002336294']\n",
      "(2, 147, 48210) (2, 147, 48210)\n",
      "(2, 307, 48210) (2, 307, 48210)\n",
      "(2, 22, 48210) (2, 22, 48210)\n",
      "(2, 170, 48210) (2, 170, 48210)\n",
      "(2, 54, 48210) (2, 54, 48210)\n",
      "(2, 170, 48210) (2, 170, 48210)\n",
      "(2, 102, 48210) (2, 102, 48210)\n",
      "(2, 307, 48210) (2, 307, 48210)\n",
      "\n",
      "\n",
      "Session 142/143: /allen/programs/braintv/workgroups/nc-ophys/Farzaneh/ICA_crossTalk/session_1005374186/\n",
      "['1005529394', '1005529397', '1005529398', '1005529400', '1005529404', '1005529407', '1005529401', '1005529403']\n",
      "(2, 183, 48199) (2, 183, 48199)\n",
      "(2, 407, 48199) (2, 407, 48199)\n",
      "(2, 162, 48199) (2, 162, 48199)\n",
      "(2, 232, 48199) (2, 232, 48199)\n",
      "(2, 32, 48199) (2, 32, 48199)\n",
      "(2, 84, 48199) (2, 84, 48199)\n",
      "(2, 55, 48199) (2, 55, 48199)\n",
      "(2, 172, 48199) (2, 172, 48199)\n"
     ]
    }
   ],
   "source": [
    "# Set neuropil subtracted traces\n",
    "# go inside each session folder, for each experiment get the np and traces files, do the subtraction, save the new trace as h5 file inside np_corr folder\n",
    "# save the manually np corrected trace as \"neuropil_correction_ct_man.h5\"\n",
    "\n",
    "do_plots = 0 # if 1, make plots of soma, and np subtracted traces.\n",
    "\n",
    "for isct in range(len(sessions_ctDone)): # isct=0\n",
    "\n",
    "    for r_fact in [.7]: #, 1]: #.7 # what fraction of np signal to subtract from soma.\n",
    "\n",
    "        dest_ct = f'/allen/programs/braintv/workgroups/nc-ophys/Farzaneh/ICA_crossTalk/session_{sessions_ctDone[isct]}/'\n",
    "\n",
    "\n",
    "        print(f'\\n\\nSession {isct}/{len(sessions_ctDone)}: {dest_ct}')\n",
    "        list_files = os.listdir(dest_ct) # list of files in session_xxxx\n",
    "\n",
    "\n",
    "        # set experiment ids\n",
    "        regex = re.compile(f'ica_traces_(.*)') # valid_{839716139}.json        \n",
    "        ica_traces_folders = [string for string in list_files if re.match(regex, string)]\n",
    "    #     print(ica_traces_folders)\n",
    "\n",
    "        exp_ids = []\n",
    "        for ipp in range(len(ica_traces_folders)):\n",
    "            f = ica_traces_folders[ipp]\n",
    "            # print(f)\n",
    "            tokens = [m.start() for m in re.finditer('_', f)]\n",
    "            exp0 = f[tokens[1]+1 : tokens[2]]\n",
    "            exp1 = f[tokens[2]+1:]\n",
    "\n",
    "            exp_ids.append(exp0)\n",
    "            exp_ids.append(exp1)\n",
    "        print(exp_ids)    \n",
    "\n",
    "\n",
    "        for exp_id in exp_ids:\n",
    "            tnam = os.path.join(dest_ct, f'traces_out_{exp_id}.h5')\n",
    "            nnam = os.path.join(dest_ct, f'neuropil_out_{exp_id}.h5')\n",
    "    #         print(tnam, nnam)\n",
    "\n",
    "            # load the traces and np files\n",
    "            tf = np.array(h5py.File(tnam, 'r')['data'])\n",
    "            nf = np.array(h5py.File(nnam, 'r')['data'])                    \n",
    "            print(tf.shape, nf.shape)\n",
    "\n",
    "\n",
    "            # subtract np from soma trace\n",
    "            # signal traces\n",
    "            neuropil_correction_man = tf[0] - r_fact*nf[0]\n",
    "            # cross-talk traces\n",
    "            neuropil_correction_ct_man = tf[1] - r_fact*nf[1]\n",
    "\n",
    "\n",
    "            # set the directory and file names\n",
    "            np_corr_fold = os.path.join(dest_ct, f'neuropil_corrected_manual_{exp_id}')\n",
    "\n",
    "            np_corr_file = os.path.join(np_corr_fold, f'neuropil_correction_r{r_fact}.h5')\n",
    "            np_corr_ct_file = os.path.join(np_corr_fold, f'neuropil_correction_ct_r{r_fact}.h5')\n",
    "    #         print(np_corr_file)\n",
    "\n",
    "            # save the np corr file to its directory\n",
    "            f = h5py.File(np_corr_file, 'w')\n",
    "            dset = f.create_dataset(\"data\", data=neuropil_correction_man) \n",
    "            f.close()\n",
    "\n",
    "            fc = h5py.File(np_corr_ct_file, 'w')        \n",
    "            dset = fc.create_dataset(\"data\", data=neuropil_correction_ct_man)        \n",
    "            fc.close()\n",
    "\n",
    "\n",
    "            ##### make plots\n",
    "            if do_plots:\n",
    "                plt.figure()\n",
    "                ra = np.random.randint(0,neuropil_correction_man.shape[1])\n",
    "\n",
    "                plt.subplot(121)\n",
    "                plt.plot(neuropil_correction_man.T)\n",
    "                plt.xlim([ra, ra+500]);\n",
    "                plt.title(r_fact)\n",
    "\n",
    "                plt.subplot(122)            \n",
    "                plt.plot(tf[0].T)\n",
    "                plt.xlim([ra, ra+500]);            \n",
    "                plt.title('soma trace')\n",
    "            \n",
    "        "
   ]
  },
  {
   "cell_type": "code",
   "execution_count": null,
   "metadata": {},
   "outputs": [
    {
     "name": "stdout",
     "output_type": "stream",
     "text": [
      "\n",
      "\n",
      "Session 0/66: /allen/programs/braintv/workgroups/nc-ophys/Farzaneh/ICA_crossTalk/session_782107878/\n",
      "['783477300', '783477307', '783477287', '783477293', '783477311', '783477325', '783477276', '783477281']\n",
      "Saving figure:\n",
      "/allen/programs/braintv/workgroups/nc-ophys/Farzaneh/ICA_crossTalk/session_782107878/neuropil_corrected_manual_783477300/neuropil_correction.pdf\n",
      "Saving figure:\n",
      "/allen/programs/braintv/workgroups/nc-ophys/Farzaneh/ICA_crossTalk/session_782107878/neuropil_corrected_manual_783477307/neuropil_correction.pdf\n",
      "Saving figure:\n",
      "/allen/programs/braintv/workgroups/nc-ophys/Farzaneh/ICA_crossTalk/session_782107878/neuropil_corrected_manual_783477287/neuropil_correction.pdf\n",
      "Saving figure:\n",
      "/allen/programs/braintv/workgroups/nc-ophys/Farzaneh/ICA_crossTalk/session_782107878/neuropil_corrected_manual_783477293/neuropil_correction.pdf\n",
      "Saving figure:\n",
      "/allen/programs/braintv/workgroups/nc-ophys/Farzaneh/ICA_crossTalk/session_782107878/neuropil_corrected_manual_783477311/neuropil_correction.pdf\n",
      "Saving figure:\n",
      "/allen/programs/braintv/workgroups/nc-ophys/Farzaneh/ICA_crossTalk/session_782107878/neuropil_corrected_manual_783477325/neuropil_correction.pdf\n",
      "Saving figure:\n",
      "/allen/programs/braintv/workgroups/nc-ophys/Farzaneh/ICA_crossTalk/session_782107878/neuropil_corrected_manual_783477276/neuropil_correction.pdf\n",
      "Saving figure:\n",
      "/allen/programs/braintv/workgroups/nc-ophys/Farzaneh/ICA_crossTalk/session_782107878/neuropil_corrected_manual_783477281/neuropil_correction.pdf\n",
      "\n",
      "\n",
      "Session 1/66: /allen/programs/braintv/workgroups/nc-ophys/Farzaneh/ICA_crossTalk/session_786144371/\n",
      "['787282676', '787282685', '787282643', '787282662', '787282617', '787282625', '787282699', '787282708']\n",
      "Saving figure:\n",
      "/allen/programs/braintv/workgroups/nc-ophys/Farzaneh/ICA_crossTalk/session_786144371/neuropil_corrected_manual_787282676/neuropil_correction.pdf\n",
      "Saving figure:\n",
      "/allen/programs/braintv/workgroups/nc-ophys/Farzaneh/ICA_crossTalk/session_786144371/neuropil_corrected_manual_787282685/neuropil_correction.pdf\n",
      "Saving figure:\n",
      "/allen/programs/braintv/workgroups/nc-ophys/Farzaneh/ICA_crossTalk/session_786144371/neuropil_corrected_manual_787282643/neuropil_correction.pdf\n",
      "Saving figure:\n",
      "/allen/programs/braintv/workgroups/nc-ophys/Farzaneh/ICA_crossTalk/session_786144371/neuropil_corrected_manual_787282662/neuropil_correction.pdf\n",
      "Saving figure:\n",
      "/allen/programs/braintv/workgroups/nc-ophys/Farzaneh/ICA_crossTalk/session_786144371/neuropil_corrected_manual_787282617/neuropil_correction.pdf\n",
      "Saving figure:\n",
      "/allen/programs/braintv/workgroups/nc-ophys/Farzaneh/ICA_crossTalk/session_786144371/neuropil_corrected_manual_787282625/neuropil_correction.pdf\n",
      "Saving figure:\n",
      "/allen/programs/braintv/workgroups/nc-ophys/Farzaneh/ICA_crossTalk/session_786144371/neuropil_corrected_manual_787282699/neuropil_correction.pdf\n",
      "Saving figure:\n",
      "/allen/programs/braintv/workgroups/nc-ophys/Farzaneh/ICA_crossTalk/session_786144371/neuropil_corrected_manual_787282708/neuropil_correction.pdf\n",
      "\n",
      "\n",
      "Session 2/66: /allen/programs/braintv/workgroups/nc-ophys/Farzaneh/ICA_crossTalk/session_788253110/\n",
      "['790002022', '790002024', '790002034', '790002038', '790002026', '790002030', '790002040', '790002044']\n",
      "Saving figure:\n",
      "/allen/programs/braintv/workgroups/nc-ophys/Farzaneh/ICA_crossTalk/session_788253110/neuropil_corrected_manual_790002022/neuropil_correction.pdf\n",
      "Saving figure:\n",
      "/allen/programs/braintv/workgroups/nc-ophys/Farzaneh/ICA_crossTalk/session_788253110/neuropil_corrected_manual_790002024/neuropil_correction.pdf\n",
      "Saving figure:\n",
      "/allen/programs/braintv/workgroups/nc-ophys/Farzaneh/ICA_crossTalk/session_788253110/neuropil_corrected_manual_790002034/neuropil_correction.pdf\n",
      "Saving figure:\n",
      "/allen/programs/braintv/workgroups/nc-ophys/Farzaneh/ICA_crossTalk/session_788253110/neuropil_corrected_manual_790002038/neuropil_correction.pdf\n"
     ]
    },
    {
     "name": "stderr",
     "output_type": "stream",
     "text": [
      "/home/nataliao/miniconda3/envs/mesoscope/lib/python3.6/site-packages/ipykernel_launcher.py:44: RuntimeWarning: More than 20 figures have been opened. Figures created through the pyplot interface (`matplotlib.pyplot.figure`) are retained until explicitly closed and may consume too much memory. (To control this warning, see the rcParam `figure.max_open_warning`).\n"
     ]
    },
    {
     "name": "stdout",
     "output_type": "stream",
     "text": [
      "Saving figure:\n",
      "/allen/programs/braintv/workgroups/nc-ophys/Farzaneh/ICA_crossTalk/session_788253110/neuropil_corrected_manual_790002026/neuropil_correction.pdf\n"
     ]
    },
    {
     "name": "stderr",
     "output_type": "stream",
     "text": [
      "/home/nataliao/miniconda3/envs/mesoscope/lib/python3.6/site-packages/ipykernel_launcher.py:44: RuntimeWarning: More than 20 figures have been opened. Figures created through the pyplot interface (`matplotlib.pyplot.figure`) are retained until explicitly closed and may consume too much memory. (To control this warning, see the rcParam `figure.max_open_warning`).\n"
     ]
    },
    {
     "name": "stdout",
     "output_type": "stream",
     "text": [
      "Saving figure:\n",
      "/allen/programs/braintv/workgroups/nc-ophys/Farzaneh/ICA_crossTalk/session_788253110/neuropil_corrected_manual_790002030/neuropil_correction.pdf\n"
     ]
    },
    {
     "name": "stderr",
     "output_type": "stream",
     "text": [
      "/home/nataliao/miniconda3/envs/mesoscope/lib/python3.6/site-packages/ipykernel_launcher.py:44: RuntimeWarning: More than 20 figures have been opened. Figures created through the pyplot interface (`matplotlib.pyplot.figure`) are retained until explicitly closed and may consume too much memory. (To control this warning, see the rcParam `figure.max_open_warning`).\n"
     ]
    },
    {
     "name": "stdout",
     "output_type": "stream",
     "text": [
      "Saving figure:\n",
      "/allen/programs/braintv/workgroups/nc-ophys/Farzaneh/ICA_crossTalk/session_788253110/neuropil_corrected_manual_790002040/neuropil_correction.pdf\n"
     ]
    },
    {
     "name": "stderr",
     "output_type": "stream",
     "text": [
      "/home/nataliao/miniconda3/envs/mesoscope/lib/python3.6/site-packages/ipykernel_launcher.py:44: RuntimeWarning: More than 20 figures have been opened. Figures created through the pyplot interface (`matplotlib.pyplot.figure`) are retained until explicitly closed and may consume too much memory. (To control this warning, see the rcParam `figure.max_open_warning`).\n"
     ]
    },
    {
     "name": "stdout",
     "output_type": "stream",
     "text": [
      "Saving figure:\n",
      "/allen/programs/braintv/workgroups/nc-ophys/Farzaneh/ICA_crossTalk/session_788253110/neuropil_corrected_manual_790002044/neuropil_correction.pdf\n",
      "\n",
      "\n",
      "Session 3/66: /allen/programs/braintv/workgroups/nc-ophys/Farzaneh/ICA_crossTalk/session_789092007/\n",
      "['789989575', '789989578', '789989590', '789989594', '789989571', '789989573', '789989582', '789989586']\n"
     ]
    },
    {
     "name": "stderr",
     "output_type": "stream",
     "text": [
      "/home/nataliao/miniconda3/envs/mesoscope/lib/python3.6/site-packages/ipykernel_launcher.py:44: RuntimeWarning: More than 20 figures have been opened. Figures created through the pyplot interface (`matplotlib.pyplot.figure`) are retained until explicitly closed and may consume too much memory. (To control this warning, see the rcParam `figure.max_open_warning`).\n"
     ]
    },
    {
     "name": "stdout",
     "output_type": "stream",
     "text": [
      "Saving figure:\n",
      "/allen/programs/braintv/workgroups/nc-ophys/Farzaneh/ICA_crossTalk/session_789092007/neuropil_corrected_manual_789989575/neuropil_correction.pdf\n"
     ]
    },
    {
     "name": "stderr",
     "output_type": "stream",
     "text": [
      "/home/nataliao/miniconda3/envs/mesoscope/lib/python3.6/site-packages/ipykernel_launcher.py:44: RuntimeWarning: More than 20 figures have been opened. Figures created through the pyplot interface (`matplotlib.pyplot.figure`) are retained until explicitly closed and may consume too much memory. (To control this warning, see the rcParam `figure.max_open_warning`).\n"
     ]
    },
    {
     "name": "stdout",
     "output_type": "stream",
     "text": [
      "Saving figure:\n",
      "/allen/programs/braintv/workgroups/nc-ophys/Farzaneh/ICA_crossTalk/session_789092007/neuropil_corrected_manual_789989578/neuropil_correction.pdf\n"
     ]
    },
    {
     "name": "stderr",
     "output_type": "stream",
     "text": [
      "/home/nataliao/miniconda3/envs/mesoscope/lib/python3.6/site-packages/ipykernel_launcher.py:44: RuntimeWarning: More than 20 figures have been opened. Figures created through the pyplot interface (`matplotlib.pyplot.figure`) are retained until explicitly closed and may consume too much memory. (To control this warning, see the rcParam `figure.max_open_warning`).\n"
     ]
    },
    {
     "name": "stdout",
     "output_type": "stream",
     "text": [
      "Saving figure:\n",
      "/allen/programs/braintv/workgroups/nc-ophys/Farzaneh/ICA_crossTalk/session_789092007/neuropil_corrected_manual_789989590/neuropil_correction.pdf\n"
     ]
    },
    {
     "name": "stderr",
     "output_type": "stream",
     "text": [
      "/home/nataliao/miniconda3/envs/mesoscope/lib/python3.6/site-packages/ipykernel_launcher.py:44: RuntimeWarning: More than 20 figures have been opened. Figures created through the pyplot interface (`matplotlib.pyplot.figure`) are retained until explicitly closed and may consume too much memory. (To control this warning, see the rcParam `figure.max_open_warning`).\n"
     ]
    },
    {
     "name": "stdout",
     "output_type": "stream",
     "text": [
      "Saving figure:\n",
      "/allen/programs/braintv/workgroups/nc-ophys/Farzaneh/ICA_crossTalk/session_789092007/neuropil_corrected_manual_789989594/neuropil_correction.pdf\n"
     ]
    },
    {
     "name": "stderr",
     "output_type": "stream",
     "text": [
      "/home/nataliao/miniconda3/envs/mesoscope/lib/python3.6/site-packages/ipykernel_launcher.py:44: RuntimeWarning: More than 20 figures have been opened. Figures created through the pyplot interface (`matplotlib.pyplot.figure`) are retained until explicitly closed and may consume too much memory. (To control this warning, see the rcParam `figure.max_open_warning`).\n"
     ]
    },
    {
     "name": "stdout",
     "output_type": "stream",
     "text": [
      "Saving figure:\n",
      "/allen/programs/braintv/workgroups/nc-ophys/Farzaneh/ICA_crossTalk/session_789092007/neuropil_corrected_manual_789989571/neuropil_correction.pdf\n"
     ]
    },
    {
     "name": "stderr",
     "output_type": "stream",
     "text": [
      "/home/nataliao/miniconda3/envs/mesoscope/lib/python3.6/site-packages/ipykernel_launcher.py:44: RuntimeWarning: More than 20 figures have been opened. Figures created through the pyplot interface (`matplotlib.pyplot.figure`) are retained until explicitly closed and may consume too much memory. (To control this warning, see the rcParam `figure.max_open_warning`).\n"
     ]
    },
    {
     "name": "stdout",
     "output_type": "stream",
     "text": [
      "Saving figure:\n",
      "/allen/programs/braintv/workgroups/nc-ophys/Farzaneh/ICA_crossTalk/session_789092007/neuropil_corrected_manual_789989573/neuropil_correction.pdf\n"
     ]
    },
    {
     "name": "stderr",
     "output_type": "stream",
     "text": [
      "/home/nataliao/miniconda3/envs/mesoscope/lib/python3.6/site-packages/ipykernel_launcher.py:44: RuntimeWarning: More than 20 figures have been opened. Figures created through the pyplot interface (`matplotlib.pyplot.figure`) are retained until explicitly closed and may consume too much memory. (To control this warning, see the rcParam `figure.max_open_warning`).\n"
     ]
    },
    {
     "name": "stdout",
     "output_type": "stream",
     "text": [
      "Saving figure:\n",
      "/allen/programs/braintv/workgroups/nc-ophys/Farzaneh/ICA_crossTalk/session_789092007/neuropil_corrected_manual_789989582/neuropil_correction.pdf\n"
     ]
    },
    {
     "name": "stderr",
     "output_type": "stream",
     "text": [
      "/home/nataliao/miniconda3/envs/mesoscope/lib/python3.6/site-packages/ipykernel_launcher.py:44: RuntimeWarning: More than 20 figures have been opened. Figures created through the pyplot interface (`matplotlib.pyplot.figure`) are retained until explicitly closed and may consume too much memory. (To control this warning, see the rcParam `figure.max_open_warning`).\n"
     ]
    },
    {
     "name": "stdout",
     "output_type": "stream",
     "text": [
      "Saving figure:\n",
      "/allen/programs/braintv/workgroups/nc-ophys/Farzaneh/ICA_crossTalk/session_789092007/neuropil_corrected_manual_789989586/neuropil_correction.pdf\n",
      "\n",
      "\n",
      "Session 4/66: /allen/programs/braintv/workgroups/nc-ophys/Farzaneh/ICA_crossTalk/session_839514418/\n",
      "['840460366', '840460368', '840460370', '840460372', '840460380', '840460383', '840460376', '840460378']\n"
     ]
    },
    {
     "name": "stderr",
     "output_type": "stream",
     "text": [
      "/home/nataliao/miniconda3/envs/mesoscope/lib/python3.6/site-packages/ipykernel_launcher.py:44: RuntimeWarning: More than 20 figures have been opened. Figures created through the pyplot interface (`matplotlib.pyplot.figure`) are retained until explicitly closed and may consume too much memory. (To control this warning, see the rcParam `figure.max_open_warning`).\n"
     ]
    },
    {
     "name": "stdout",
     "output_type": "stream",
     "text": [
      "Saving figure:\n",
      "/allen/programs/braintv/workgroups/nc-ophys/Farzaneh/ICA_crossTalk/session_839514418/neuropil_corrected_manual_840460366/neuropil_correction.pdf\n"
     ]
    },
    {
     "name": "stderr",
     "output_type": "stream",
     "text": [
      "/home/nataliao/miniconda3/envs/mesoscope/lib/python3.6/site-packages/ipykernel_launcher.py:44: RuntimeWarning: More than 20 figures have been opened. Figures created through the pyplot interface (`matplotlib.pyplot.figure`) are retained until explicitly closed and may consume too much memory. (To control this warning, see the rcParam `figure.max_open_warning`).\n"
     ]
    },
    {
     "name": "stdout",
     "output_type": "stream",
     "text": [
      "Saving figure:\n",
      "/allen/programs/braintv/workgroups/nc-ophys/Farzaneh/ICA_crossTalk/session_839514418/neuropil_corrected_manual_840460368/neuropil_correction.pdf\n"
     ]
    },
    {
     "name": "stderr",
     "output_type": "stream",
     "text": [
      "/home/nataliao/miniconda3/envs/mesoscope/lib/python3.6/site-packages/ipykernel_launcher.py:44: RuntimeWarning: More than 20 figures have been opened. Figures created through the pyplot interface (`matplotlib.pyplot.figure`) are retained until explicitly closed and may consume too much memory. (To control this warning, see the rcParam `figure.max_open_warning`).\n"
     ]
    },
    {
     "name": "stdout",
     "output_type": "stream",
     "text": [
      "Saving figure:\n",
      "/allen/programs/braintv/workgroups/nc-ophys/Farzaneh/ICA_crossTalk/session_839514418/neuropil_corrected_manual_840460370/neuropil_correction.pdf\n"
     ]
    },
    {
     "name": "stderr",
     "output_type": "stream",
     "text": [
      "/home/nataliao/miniconda3/envs/mesoscope/lib/python3.6/site-packages/ipykernel_launcher.py:44: RuntimeWarning: More than 20 figures have been opened. Figures created through the pyplot interface (`matplotlib.pyplot.figure`) are retained until explicitly closed and may consume too much memory. (To control this warning, see the rcParam `figure.max_open_warning`).\n"
     ]
    },
    {
     "name": "stdout",
     "output_type": "stream",
     "text": [
      "Saving figure:\n",
      "/allen/programs/braintv/workgroups/nc-ophys/Farzaneh/ICA_crossTalk/session_839514418/neuropil_corrected_manual_840460372/neuropil_correction.pdf\n"
     ]
    },
    {
     "name": "stderr",
     "output_type": "stream",
     "text": [
      "/home/nataliao/miniconda3/envs/mesoscope/lib/python3.6/site-packages/ipykernel_launcher.py:44: RuntimeWarning: More than 20 figures have been opened. Figures created through the pyplot interface (`matplotlib.pyplot.figure`) are retained until explicitly closed and may consume too much memory. (To control this warning, see the rcParam `figure.max_open_warning`).\n"
     ]
    },
    {
     "name": "stdout",
     "output_type": "stream",
     "text": [
      "Saving figure:\n",
      "/allen/programs/braintv/workgroups/nc-ophys/Farzaneh/ICA_crossTalk/session_839514418/neuropil_corrected_manual_840460380/neuropil_correction.pdf\n"
     ]
    },
    {
     "name": "stderr",
     "output_type": "stream",
     "text": [
      "/home/nataliao/miniconda3/envs/mesoscope/lib/python3.6/site-packages/ipykernel_launcher.py:44: RuntimeWarning: More than 20 figures have been opened. Figures created through the pyplot interface (`matplotlib.pyplot.figure`) are retained until explicitly closed and may consume too much memory. (To control this warning, see the rcParam `figure.max_open_warning`).\n"
     ]
    },
    {
     "name": "stdout",
     "output_type": "stream",
     "text": [
      "Saving figure:\n",
      "/allen/programs/braintv/workgroups/nc-ophys/Farzaneh/ICA_crossTalk/session_839514418/neuropil_corrected_manual_840460383/neuropil_correction.pdf\n"
     ]
    },
    {
     "name": "stderr",
     "output_type": "stream",
     "text": [
      "/home/nataliao/miniconda3/envs/mesoscope/lib/python3.6/site-packages/ipykernel_launcher.py:44: RuntimeWarning: More than 20 figures have been opened. Figures created through the pyplot interface (`matplotlib.pyplot.figure`) are retained until explicitly closed and may consume too much memory. (To control this warning, see the rcParam `figure.max_open_warning`).\n"
     ]
    },
    {
     "name": "stdout",
     "output_type": "stream",
     "text": [
      "Saving figure:\n",
      "/allen/programs/braintv/workgroups/nc-ophys/Farzaneh/ICA_crossTalk/session_839514418/neuropil_corrected_manual_840460376/neuropil_correction.pdf\n"
     ]
    },
    {
     "name": "stderr",
     "output_type": "stream",
     "text": [
      "/home/nataliao/miniconda3/envs/mesoscope/lib/python3.6/site-packages/ipykernel_launcher.py:44: RuntimeWarning: More than 20 figures have been opened. Figures created through the pyplot interface (`matplotlib.pyplot.figure`) are retained until explicitly closed and may consume too much memory. (To control this warning, see the rcParam `figure.max_open_warning`).\n"
     ]
    },
    {
     "name": "stdout",
     "output_type": "stream",
     "text": [
      "Saving figure:\n",
      "/allen/programs/braintv/workgroups/nc-ophys/Farzaneh/ICA_crossTalk/session_839514418/neuropil_corrected_manual_840460378/neuropil_correction.pdf\n",
      "\n",
      "\n",
      "Session 5/66: /allen/programs/braintv/workgroups/nc-ophys/Farzaneh/ICA_crossTalk/session_841778484/\n",
      "['841969465', '841969467', '841969460', '841969462', '841969469', '841969471', '841969456', '841969458']\n"
     ]
    },
    {
     "name": "stderr",
     "output_type": "stream",
     "text": [
      "/home/nataliao/miniconda3/envs/mesoscope/lib/python3.6/site-packages/ipykernel_launcher.py:44: RuntimeWarning: More than 20 figures have been opened. Figures created through the pyplot interface (`matplotlib.pyplot.figure`) are retained until explicitly closed and may consume too much memory. (To control this warning, see the rcParam `figure.max_open_warning`).\n"
     ]
    },
    {
     "name": "stdout",
     "output_type": "stream",
     "text": [
      "Saving figure:\n",
      "/allen/programs/braintv/workgroups/nc-ophys/Farzaneh/ICA_crossTalk/session_841778484/neuropil_corrected_manual_841969465/neuropil_correction.pdf\n"
     ]
    },
    {
     "name": "stderr",
     "output_type": "stream",
     "text": [
      "/home/nataliao/miniconda3/envs/mesoscope/lib/python3.6/site-packages/ipykernel_launcher.py:44: RuntimeWarning: More than 20 figures have been opened. Figures created through the pyplot interface (`matplotlib.pyplot.figure`) are retained until explicitly closed and may consume too much memory. (To control this warning, see the rcParam `figure.max_open_warning`).\n"
     ]
    },
    {
     "name": "stdout",
     "output_type": "stream",
     "text": [
      "Saving figure:\n",
      "/allen/programs/braintv/workgroups/nc-ophys/Farzaneh/ICA_crossTalk/session_841778484/neuropil_corrected_manual_841969467/neuropil_correction.pdf\n"
     ]
    },
    {
     "name": "stderr",
     "output_type": "stream",
     "text": [
      "/home/nataliao/miniconda3/envs/mesoscope/lib/python3.6/site-packages/ipykernel_launcher.py:44: RuntimeWarning: More than 20 figures have been opened. Figures created through the pyplot interface (`matplotlib.pyplot.figure`) are retained until explicitly closed and may consume too much memory. (To control this warning, see the rcParam `figure.max_open_warning`).\n"
     ]
    },
    {
     "name": "stdout",
     "output_type": "stream",
     "text": [
      "Saving figure:\n",
      "/allen/programs/braintv/workgroups/nc-ophys/Farzaneh/ICA_crossTalk/session_841778484/neuropil_corrected_manual_841969460/neuropil_correction.pdf\n"
     ]
    },
    {
     "name": "stderr",
     "output_type": "stream",
     "text": [
      "/home/nataliao/miniconda3/envs/mesoscope/lib/python3.6/site-packages/ipykernel_launcher.py:44: RuntimeWarning: More than 20 figures have been opened. Figures created through the pyplot interface (`matplotlib.pyplot.figure`) are retained until explicitly closed and may consume too much memory. (To control this warning, see the rcParam `figure.max_open_warning`).\n"
     ]
    },
    {
     "name": "stdout",
     "output_type": "stream",
     "text": [
      "Saving figure:\n",
      "/allen/programs/braintv/workgroups/nc-ophys/Farzaneh/ICA_crossTalk/session_841778484/neuropil_corrected_manual_841969462/neuropil_correction.pdf\n"
     ]
    },
    {
     "name": "stderr",
     "output_type": "stream",
     "text": [
      "/home/nataliao/miniconda3/envs/mesoscope/lib/python3.6/site-packages/ipykernel_launcher.py:44: RuntimeWarning: More than 20 figures have been opened. Figures created through the pyplot interface (`matplotlib.pyplot.figure`) are retained until explicitly closed and may consume too much memory. (To control this warning, see the rcParam `figure.max_open_warning`).\n"
     ]
    },
    {
     "name": "stdout",
     "output_type": "stream",
     "text": [
      "Saving figure:\n",
      "/allen/programs/braintv/workgroups/nc-ophys/Farzaneh/ICA_crossTalk/session_841778484/neuropil_corrected_manual_841969469/neuropil_correction.pdf\n"
     ]
    },
    {
     "name": "stderr",
     "output_type": "stream",
     "text": [
      "/home/nataliao/miniconda3/envs/mesoscope/lib/python3.6/site-packages/ipykernel_launcher.py:44: RuntimeWarning: More than 20 figures have been opened. Figures created through the pyplot interface (`matplotlib.pyplot.figure`) are retained until explicitly closed and may consume too much memory. (To control this warning, see the rcParam `figure.max_open_warning`).\n"
     ]
    },
    {
     "name": "stdout",
     "output_type": "stream",
     "text": [
      "Saving figure:\n",
      "/allen/programs/braintv/workgroups/nc-ophys/Farzaneh/ICA_crossTalk/session_841778484/neuropil_corrected_manual_841969471/neuropil_correction.pdf\n"
     ]
    },
    {
     "name": "stderr",
     "output_type": "stream",
     "text": [
      "/home/nataliao/miniconda3/envs/mesoscope/lib/python3.6/site-packages/ipykernel_launcher.py:44: RuntimeWarning: More than 20 figures have been opened. Figures created through the pyplot interface (`matplotlib.pyplot.figure`) are retained until explicitly closed and may consume too much memory. (To control this warning, see the rcParam `figure.max_open_warning`).\n"
     ]
    },
    {
     "name": "stdout",
     "output_type": "stream",
     "text": [
      "Saving figure:\n",
      "/allen/programs/braintv/workgroups/nc-ophys/Farzaneh/ICA_crossTalk/session_841778484/neuropil_corrected_manual_841969456/neuropil_correction.pdf\n"
     ]
    },
    {
     "name": "stderr",
     "output_type": "stream",
     "text": [
      "/home/nataliao/miniconda3/envs/mesoscope/lib/python3.6/site-packages/ipykernel_launcher.py:44: RuntimeWarning: More than 20 figures have been opened. Figures created through the pyplot interface (`matplotlib.pyplot.figure`) are retained until explicitly closed and may consume too much memory. (To control this warning, see the rcParam `figure.max_open_warning`).\n"
     ]
    },
    {
     "name": "stdout",
     "output_type": "stream",
     "text": [
      "Saving figure:\n",
      "/allen/programs/braintv/workgroups/nc-ophys/Farzaneh/ICA_crossTalk/session_841778484/neuropil_corrected_manual_841969458/neuropil_correction.pdf\n",
      "\n",
      "\n",
      "Session 6/66: /allen/programs/braintv/workgroups/nc-ophys/Farzaneh/ICA_crossTalk/session_842623907/\n",
      "['843007054', '843007056', '843007058', '843007061', '843007063', '843007065', '843007050', '843007052']\n"
     ]
    },
    {
     "name": "stderr",
     "output_type": "stream",
     "text": [
      "/home/nataliao/miniconda3/envs/mesoscope/lib/python3.6/site-packages/ipykernel_launcher.py:44: RuntimeWarning: More than 20 figures have been opened. Figures created through the pyplot interface (`matplotlib.pyplot.figure`) are retained until explicitly closed and may consume too much memory. (To control this warning, see the rcParam `figure.max_open_warning`).\n"
     ]
    },
    {
     "name": "stdout",
     "output_type": "stream",
     "text": [
      "Saving figure:\n",
      "/allen/programs/braintv/workgroups/nc-ophys/Farzaneh/ICA_crossTalk/session_842623907/neuropil_corrected_manual_843007054/neuropil_correction.pdf\n"
     ]
    },
    {
     "name": "stderr",
     "output_type": "stream",
     "text": [
      "/home/nataliao/miniconda3/envs/mesoscope/lib/python3.6/site-packages/ipykernel_launcher.py:44: RuntimeWarning: More than 20 figures have been opened. Figures created through the pyplot interface (`matplotlib.pyplot.figure`) are retained until explicitly closed and may consume too much memory. (To control this warning, see the rcParam `figure.max_open_warning`).\n"
     ]
    },
    {
     "name": "stdout",
     "output_type": "stream",
     "text": [
      "Saving figure:\n",
      "/allen/programs/braintv/workgroups/nc-ophys/Farzaneh/ICA_crossTalk/session_842623907/neuropil_corrected_manual_843007056/neuropil_correction.pdf\n"
     ]
    },
    {
     "name": "stderr",
     "output_type": "stream",
     "text": [
      "/home/nataliao/miniconda3/envs/mesoscope/lib/python3.6/site-packages/ipykernel_launcher.py:44: RuntimeWarning: More than 20 figures have been opened. Figures created through the pyplot interface (`matplotlib.pyplot.figure`) are retained until explicitly closed and may consume too much memory. (To control this warning, see the rcParam `figure.max_open_warning`).\n"
     ]
    },
    {
     "name": "stdout",
     "output_type": "stream",
     "text": [
      "Saving figure:\n",
      "/allen/programs/braintv/workgroups/nc-ophys/Farzaneh/ICA_crossTalk/session_842623907/neuropil_corrected_manual_843007058/neuropil_correction.pdf\n"
     ]
    },
    {
     "name": "stderr",
     "output_type": "stream",
     "text": [
      "/home/nataliao/miniconda3/envs/mesoscope/lib/python3.6/site-packages/ipykernel_launcher.py:44: RuntimeWarning: More than 20 figures have been opened. Figures created through the pyplot interface (`matplotlib.pyplot.figure`) are retained until explicitly closed and may consume too much memory. (To control this warning, see the rcParam `figure.max_open_warning`).\n"
     ]
    },
    {
     "name": "stdout",
     "output_type": "stream",
     "text": [
      "Saving figure:\n",
      "/allen/programs/braintv/workgroups/nc-ophys/Farzaneh/ICA_crossTalk/session_842623907/neuropil_corrected_manual_843007061/neuropil_correction.pdf\n"
     ]
    },
    {
     "name": "stderr",
     "output_type": "stream",
     "text": [
      "/home/nataliao/miniconda3/envs/mesoscope/lib/python3.6/site-packages/ipykernel_launcher.py:44: RuntimeWarning: More than 20 figures have been opened. Figures created through the pyplot interface (`matplotlib.pyplot.figure`) are retained until explicitly closed and may consume too much memory. (To control this warning, see the rcParam `figure.max_open_warning`).\n"
     ]
    },
    {
     "name": "stdout",
     "output_type": "stream",
     "text": [
      "Saving figure:\n",
      "/allen/programs/braintv/workgroups/nc-ophys/Farzaneh/ICA_crossTalk/session_842623907/neuropil_corrected_manual_843007063/neuropil_correction.pdf\n"
     ]
    },
    {
     "name": "stderr",
     "output_type": "stream",
     "text": [
      "/home/nataliao/miniconda3/envs/mesoscope/lib/python3.6/site-packages/ipykernel_launcher.py:44: RuntimeWarning: More than 20 figures have been opened. Figures created through the pyplot interface (`matplotlib.pyplot.figure`) are retained until explicitly closed and may consume too much memory. (To control this warning, see the rcParam `figure.max_open_warning`).\n"
     ]
    },
    {
     "name": "stdout",
     "output_type": "stream",
     "text": [
      "Saving figure:\n",
      "/allen/programs/braintv/workgroups/nc-ophys/Farzaneh/ICA_crossTalk/session_842623907/neuropil_corrected_manual_843007065/neuropil_correction.pdf\n"
     ]
    },
    {
     "name": "stderr",
     "output_type": "stream",
     "text": [
      "/home/nataliao/miniconda3/envs/mesoscope/lib/python3.6/site-packages/ipykernel_launcher.py:44: RuntimeWarning: More than 20 figures have been opened. Figures created through the pyplot interface (`matplotlib.pyplot.figure`) are retained until explicitly closed and may consume too much memory. (To control this warning, see the rcParam `figure.max_open_warning`).\n"
     ]
    },
    {
     "name": "stdout",
     "output_type": "stream",
     "text": [
      "Saving figure:\n",
      "/allen/programs/braintv/workgroups/nc-ophys/Farzaneh/ICA_crossTalk/session_842623907/neuropil_corrected_manual_843007050/neuropil_correction.pdf\n"
     ]
    },
    {
     "name": "stderr",
     "output_type": "stream",
     "text": [
      "/home/nataliao/miniconda3/envs/mesoscope/lib/python3.6/site-packages/ipykernel_launcher.py:44: RuntimeWarning: More than 20 figures have been opened. Figures created through the pyplot interface (`matplotlib.pyplot.figure`) are retained until explicitly closed and may consume too much memory. (To control this warning, see the rcParam `figure.max_open_warning`).\n"
     ]
    },
    {
     "name": "stdout",
     "output_type": "stream",
     "text": [
      "Saving figure:\n",
      "/allen/programs/braintv/workgroups/nc-ophys/Farzaneh/ICA_crossTalk/session_842623907/neuropil_corrected_manual_843007052/neuropil_correction.pdf\n",
      "\n",
      "\n",
      "Session 7/66: /allen/programs/braintv/workgroups/nc-ophys/Farzaneh/ICA_crossTalk/session_844469521/\n",
      "['845070856', '845070858', '845070868', '845070870', '845070860', '845070862', '845070864', '845070866']\n"
     ]
    },
    {
     "name": "stderr",
     "output_type": "stream",
     "text": [
      "/home/nataliao/miniconda3/envs/mesoscope/lib/python3.6/site-packages/ipykernel_launcher.py:44: RuntimeWarning: More than 20 figures have been opened. Figures created through the pyplot interface (`matplotlib.pyplot.figure`) are retained until explicitly closed and may consume too much memory. (To control this warning, see the rcParam `figure.max_open_warning`).\n"
     ]
    },
    {
     "name": "stdout",
     "output_type": "stream",
     "text": [
      "Saving figure:\n",
      "/allen/programs/braintv/workgroups/nc-ophys/Farzaneh/ICA_crossTalk/session_844469521/neuropil_corrected_manual_845070856/neuropil_correction.pdf\n"
     ]
    },
    {
     "name": "stderr",
     "output_type": "stream",
     "text": [
      "/home/nataliao/miniconda3/envs/mesoscope/lib/python3.6/site-packages/ipykernel_launcher.py:44: RuntimeWarning: More than 20 figures have been opened. Figures created through the pyplot interface (`matplotlib.pyplot.figure`) are retained until explicitly closed and may consume too much memory. (To control this warning, see the rcParam `figure.max_open_warning`).\n"
     ]
    },
    {
     "name": "stdout",
     "output_type": "stream",
     "text": [
      "Saving figure:\n",
      "/allen/programs/braintv/workgroups/nc-ophys/Farzaneh/ICA_crossTalk/session_844469521/neuropil_corrected_manual_845070858/neuropil_correction.pdf\n"
     ]
    },
    {
     "name": "stderr",
     "output_type": "stream",
     "text": [
      "/home/nataliao/miniconda3/envs/mesoscope/lib/python3.6/site-packages/ipykernel_launcher.py:44: RuntimeWarning: More than 20 figures have been opened. Figures created through the pyplot interface (`matplotlib.pyplot.figure`) are retained until explicitly closed and may consume too much memory. (To control this warning, see the rcParam `figure.max_open_warning`).\n"
     ]
    },
    {
     "name": "stdout",
     "output_type": "stream",
     "text": [
      "Saving figure:\n",
      "/allen/programs/braintv/workgroups/nc-ophys/Farzaneh/ICA_crossTalk/session_844469521/neuropil_corrected_manual_845070868/neuropil_correction.pdf\n"
     ]
    },
    {
     "name": "stderr",
     "output_type": "stream",
     "text": [
      "/home/nataliao/miniconda3/envs/mesoscope/lib/python3.6/site-packages/ipykernel_launcher.py:44: RuntimeWarning: More than 20 figures have been opened. Figures created through the pyplot interface (`matplotlib.pyplot.figure`) are retained until explicitly closed and may consume too much memory. (To control this warning, see the rcParam `figure.max_open_warning`).\n"
     ]
    },
    {
     "name": "stdout",
     "output_type": "stream",
     "text": [
      "Saving figure:\n",
      "/allen/programs/braintv/workgroups/nc-ophys/Farzaneh/ICA_crossTalk/session_844469521/neuropil_corrected_manual_845070870/neuropil_correction.pdf\n"
     ]
    },
    {
     "name": "stderr",
     "output_type": "stream",
     "text": [
      "/home/nataliao/miniconda3/envs/mesoscope/lib/python3.6/site-packages/ipykernel_launcher.py:44: RuntimeWarning: More than 20 figures have been opened. Figures created through the pyplot interface (`matplotlib.pyplot.figure`) are retained until explicitly closed and may consume too much memory. (To control this warning, see the rcParam `figure.max_open_warning`).\n"
     ]
    },
    {
     "name": "stdout",
     "output_type": "stream",
     "text": [
      "Saving figure:\n",
      "/allen/programs/braintv/workgroups/nc-ophys/Farzaneh/ICA_crossTalk/session_844469521/neuropil_corrected_manual_845070860/neuropil_correction.pdf\n"
     ]
    },
    {
     "name": "stderr",
     "output_type": "stream",
     "text": [
      "/home/nataliao/miniconda3/envs/mesoscope/lib/python3.6/site-packages/ipykernel_launcher.py:44: RuntimeWarning: More than 20 figures have been opened. Figures created through the pyplot interface (`matplotlib.pyplot.figure`) are retained until explicitly closed and may consume too much memory. (To control this warning, see the rcParam `figure.max_open_warning`).\n"
     ]
    },
    {
     "name": "stdout",
     "output_type": "stream",
     "text": [
      "Saving figure:\n",
      "/allen/programs/braintv/workgroups/nc-ophys/Farzaneh/ICA_crossTalk/session_844469521/neuropil_corrected_manual_845070862/neuropil_correction.pdf\n"
     ]
    },
    {
     "name": "stderr",
     "output_type": "stream",
     "text": [
      "/home/nataliao/miniconda3/envs/mesoscope/lib/python3.6/site-packages/ipykernel_launcher.py:44: RuntimeWarning: More than 20 figures have been opened. Figures created through the pyplot interface (`matplotlib.pyplot.figure`) are retained until explicitly closed and may consume too much memory. (To control this warning, see the rcParam `figure.max_open_warning`).\n"
     ]
    },
    {
     "name": "stdout",
     "output_type": "stream",
     "text": [
      "Saving figure:\n",
      "/allen/programs/braintv/workgroups/nc-ophys/Farzaneh/ICA_crossTalk/session_844469521/neuropil_corrected_manual_845070864/neuropil_correction.pdf\n"
     ]
    },
    {
     "name": "stderr",
     "output_type": "stream",
     "text": [
      "/home/nataliao/miniconda3/envs/mesoscope/lib/python3.6/site-packages/ipykernel_launcher.py:44: RuntimeWarning: More than 20 figures have been opened. Figures created through the pyplot interface (`matplotlib.pyplot.figure`) are retained until explicitly closed and may consume too much memory. (To control this warning, see the rcParam `figure.max_open_warning`).\n"
     ]
    },
    {
     "name": "stdout",
     "output_type": "stream",
     "text": [
      "Saving figure:\n",
      "/allen/programs/braintv/workgroups/nc-ophys/Farzaneh/ICA_crossTalk/session_844469521/neuropil_corrected_manual_845070866/neuropil_correction.pdf\n",
      "\n",
      "\n",
      "Session 8/66: /allen/programs/braintv/workgroups/nc-ophys/Farzaneh/ICA_crossTalk/session_847758278/\n",
      "['848039115', '848039117', '848039110', '848039113', '848039119', '848039121', '848039123', '848039125']\n"
     ]
    },
    {
     "name": "stderr",
     "output_type": "stream",
     "text": [
      "/home/nataliao/miniconda3/envs/mesoscope/lib/python3.6/site-packages/ipykernel_launcher.py:44: RuntimeWarning: More than 20 figures have been opened. Figures created through the pyplot interface (`matplotlib.pyplot.figure`) are retained until explicitly closed and may consume too much memory. (To control this warning, see the rcParam `figure.max_open_warning`).\n"
     ]
    },
    {
     "name": "stdout",
     "output_type": "stream",
     "text": [
      "Saving figure:\n",
      "/allen/programs/braintv/workgroups/nc-ophys/Farzaneh/ICA_crossTalk/session_847758278/neuropil_corrected_manual_848039115/neuropil_correction.pdf\n"
     ]
    },
    {
     "name": "stderr",
     "output_type": "stream",
     "text": [
      "/home/nataliao/miniconda3/envs/mesoscope/lib/python3.6/site-packages/ipykernel_launcher.py:44: RuntimeWarning: More than 20 figures have been opened. Figures created through the pyplot interface (`matplotlib.pyplot.figure`) are retained until explicitly closed and may consume too much memory. (To control this warning, see the rcParam `figure.max_open_warning`).\n"
     ]
    },
    {
     "name": "stdout",
     "output_type": "stream",
     "text": [
      "Saving figure:\n",
      "/allen/programs/braintv/workgroups/nc-ophys/Farzaneh/ICA_crossTalk/session_847758278/neuropil_corrected_manual_848039117/neuropil_correction.pdf\n"
     ]
    },
    {
     "name": "stderr",
     "output_type": "stream",
     "text": [
      "/home/nataliao/miniconda3/envs/mesoscope/lib/python3.6/site-packages/ipykernel_launcher.py:44: RuntimeWarning: More than 20 figures have been opened. Figures created through the pyplot interface (`matplotlib.pyplot.figure`) are retained until explicitly closed and may consume too much memory. (To control this warning, see the rcParam `figure.max_open_warning`).\n"
     ]
    },
    {
     "name": "stdout",
     "output_type": "stream",
     "text": [
      "Saving figure:\n",
      "/allen/programs/braintv/workgroups/nc-ophys/Farzaneh/ICA_crossTalk/session_847758278/neuropil_corrected_manual_848039110/neuropil_correction.pdf\n"
     ]
    },
    {
     "name": "stderr",
     "output_type": "stream",
     "text": [
      "/home/nataliao/miniconda3/envs/mesoscope/lib/python3.6/site-packages/ipykernel_launcher.py:44: RuntimeWarning: More than 20 figures have been opened. Figures created through the pyplot interface (`matplotlib.pyplot.figure`) are retained until explicitly closed and may consume too much memory. (To control this warning, see the rcParam `figure.max_open_warning`).\n"
     ]
    },
    {
     "name": "stdout",
     "output_type": "stream",
     "text": [
      "Saving figure:\n",
      "/allen/programs/braintv/workgroups/nc-ophys/Farzaneh/ICA_crossTalk/session_847758278/neuropil_corrected_manual_848039113/neuropil_correction.pdf\n"
     ]
    },
    {
     "name": "stderr",
     "output_type": "stream",
     "text": [
      "/home/nataliao/miniconda3/envs/mesoscope/lib/python3.6/site-packages/ipykernel_launcher.py:44: RuntimeWarning: More than 20 figures have been opened. Figures created through the pyplot interface (`matplotlib.pyplot.figure`) are retained until explicitly closed and may consume too much memory. (To control this warning, see the rcParam `figure.max_open_warning`).\n"
     ]
    },
    {
     "name": "stdout",
     "output_type": "stream",
     "text": [
      "Saving figure:\n",
      "/allen/programs/braintv/workgroups/nc-ophys/Farzaneh/ICA_crossTalk/session_847758278/neuropil_corrected_manual_848039119/neuropil_correction.pdf\n"
     ]
    },
    {
     "name": "stderr",
     "output_type": "stream",
     "text": [
      "/home/nataliao/miniconda3/envs/mesoscope/lib/python3.6/site-packages/ipykernel_launcher.py:44: RuntimeWarning: More than 20 figures have been opened. Figures created through the pyplot interface (`matplotlib.pyplot.figure`) are retained until explicitly closed and may consume too much memory. (To control this warning, see the rcParam `figure.max_open_warning`).\n"
     ]
    },
    {
     "name": "stdout",
     "output_type": "stream",
     "text": [
      "Saving figure:\n",
      "/allen/programs/braintv/workgroups/nc-ophys/Farzaneh/ICA_crossTalk/session_847758278/neuropil_corrected_manual_848039121/neuropil_correction.pdf\n"
     ]
    },
    {
     "name": "stderr",
     "output_type": "stream",
     "text": [
      "/home/nataliao/miniconda3/envs/mesoscope/lib/python3.6/site-packages/ipykernel_launcher.py:44: RuntimeWarning: More than 20 figures have been opened. Figures created through the pyplot interface (`matplotlib.pyplot.figure`) are retained until explicitly closed and may consume too much memory. (To control this warning, see the rcParam `figure.max_open_warning`).\n"
     ]
    },
    {
     "name": "stdout",
     "output_type": "stream",
     "text": [
      "Saving figure:\n",
      "/allen/programs/braintv/workgroups/nc-ophys/Farzaneh/ICA_crossTalk/session_847758278/neuropil_corrected_manual_848039123/neuropil_correction.pdf\n"
     ]
    },
    {
     "name": "stderr",
     "output_type": "stream",
     "text": [
      "/home/nataliao/miniconda3/envs/mesoscope/lib/python3.6/site-packages/ipykernel_launcher.py:44: RuntimeWarning: More than 20 figures have been opened. Figures created through the pyplot interface (`matplotlib.pyplot.figure`) are retained until explicitly closed and may consume too much memory. (To control this warning, see the rcParam `figure.max_open_warning`).\n"
     ]
    },
    {
     "name": "stdout",
     "output_type": "stream",
     "text": [
      "Saving figure:\n",
      "/allen/programs/braintv/workgroups/nc-ophys/Farzaneh/ICA_crossTalk/session_847758278/neuropil_corrected_manual_848039125/neuropil_correction.pdf\n",
      "\n",
      "\n",
      "Session 9/66: /allen/programs/braintv/workgroups/nc-ophys/Farzaneh/ICA_crossTalk/session_848401585/\n",
      "['848760979', '848760981', '848760983', '848760985', '848760974', '848760977', '848760988', '848760990']\n"
     ]
    },
    {
     "name": "stderr",
     "output_type": "stream",
     "text": [
      "/home/nataliao/miniconda3/envs/mesoscope/lib/python3.6/site-packages/ipykernel_launcher.py:44: RuntimeWarning: More than 20 figures have been opened. Figures created through the pyplot interface (`matplotlib.pyplot.figure`) are retained until explicitly closed and may consume too much memory. (To control this warning, see the rcParam `figure.max_open_warning`).\n"
     ]
    },
    {
     "name": "stdout",
     "output_type": "stream",
     "text": [
      "Saving figure:\n",
      "/allen/programs/braintv/workgroups/nc-ophys/Farzaneh/ICA_crossTalk/session_848401585/neuropil_corrected_manual_848760979/neuropil_correction.pdf\n"
     ]
    },
    {
     "name": "stderr",
     "output_type": "stream",
     "text": [
      "/home/nataliao/miniconda3/envs/mesoscope/lib/python3.6/site-packages/ipykernel_launcher.py:44: RuntimeWarning: More than 20 figures have been opened. Figures created through the pyplot interface (`matplotlib.pyplot.figure`) are retained until explicitly closed and may consume too much memory. (To control this warning, see the rcParam `figure.max_open_warning`).\n"
     ]
    },
    {
     "name": "stdout",
     "output_type": "stream",
     "text": [
      "Saving figure:\n",
      "/allen/programs/braintv/workgroups/nc-ophys/Farzaneh/ICA_crossTalk/session_848401585/neuropil_corrected_manual_848760981/neuropil_correction.pdf\n"
     ]
    },
    {
     "name": "stderr",
     "output_type": "stream",
     "text": [
      "/home/nataliao/miniconda3/envs/mesoscope/lib/python3.6/site-packages/ipykernel_launcher.py:44: RuntimeWarning: More than 20 figures have been opened. Figures created through the pyplot interface (`matplotlib.pyplot.figure`) are retained until explicitly closed and may consume too much memory. (To control this warning, see the rcParam `figure.max_open_warning`).\n"
     ]
    },
    {
     "name": "stdout",
     "output_type": "stream",
     "text": [
      "Saving figure:\n",
      "/allen/programs/braintv/workgroups/nc-ophys/Farzaneh/ICA_crossTalk/session_848401585/neuropil_corrected_manual_848760983/neuropil_correction.pdf\n"
     ]
    },
    {
     "name": "stderr",
     "output_type": "stream",
     "text": [
      "/home/nataliao/miniconda3/envs/mesoscope/lib/python3.6/site-packages/ipykernel_launcher.py:44: RuntimeWarning: More than 20 figures have been opened. Figures created through the pyplot interface (`matplotlib.pyplot.figure`) are retained until explicitly closed and may consume too much memory. (To control this warning, see the rcParam `figure.max_open_warning`).\n"
     ]
    },
    {
     "name": "stdout",
     "output_type": "stream",
     "text": [
      "Saving figure:\n",
      "/allen/programs/braintv/workgroups/nc-ophys/Farzaneh/ICA_crossTalk/session_848401585/neuropil_corrected_manual_848760985/neuropil_correction.pdf\n"
     ]
    },
    {
     "name": "stderr",
     "output_type": "stream",
     "text": [
      "/home/nataliao/miniconda3/envs/mesoscope/lib/python3.6/site-packages/ipykernel_launcher.py:44: RuntimeWarning: More than 20 figures have been opened. Figures created through the pyplot interface (`matplotlib.pyplot.figure`) are retained until explicitly closed and may consume too much memory. (To control this warning, see the rcParam `figure.max_open_warning`).\n"
     ]
    },
    {
     "name": "stdout",
     "output_type": "stream",
     "text": [
      "Saving figure:\n",
      "/allen/programs/braintv/workgroups/nc-ophys/Farzaneh/ICA_crossTalk/session_848401585/neuropil_corrected_manual_848760974/neuropil_correction.pdf\n"
     ]
    },
    {
     "name": "stderr",
     "output_type": "stream",
     "text": [
      "/home/nataliao/miniconda3/envs/mesoscope/lib/python3.6/site-packages/ipykernel_launcher.py:44: RuntimeWarning: More than 20 figures have been opened. Figures created through the pyplot interface (`matplotlib.pyplot.figure`) are retained until explicitly closed and may consume too much memory. (To control this warning, see the rcParam `figure.max_open_warning`).\n"
     ]
    },
    {
     "name": "stdout",
     "output_type": "stream",
     "text": [
      "Saving figure:\n",
      "/allen/programs/braintv/workgroups/nc-ophys/Farzaneh/ICA_crossTalk/session_848401585/neuropil_corrected_manual_848760977/neuropil_correction.pdf\n"
     ]
    },
    {
     "name": "stderr",
     "output_type": "stream",
     "text": [
      "/home/nataliao/miniconda3/envs/mesoscope/lib/python3.6/site-packages/ipykernel_launcher.py:44: RuntimeWarning: More than 20 figures have been opened. Figures created through the pyplot interface (`matplotlib.pyplot.figure`) are retained until explicitly closed and may consume too much memory. (To control this warning, see the rcParam `figure.max_open_warning`).\n"
     ]
    },
    {
     "name": "stdout",
     "output_type": "stream",
     "text": [
      "Saving figure:\n",
      "/allen/programs/braintv/workgroups/nc-ophys/Farzaneh/ICA_crossTalk/session_848401585/neuropil_corrected_manual_848760988/neuropil_correction.pdf\n"
     ]
    },
    {
     "name": "stderr",
     "output_type": "stream",
     "text": [
      "/home/nataliao/miniconda3/envs/mesoscope/lib/python3.6/site-packages/ipykernel_launcher.py:44: RuntimeWarning: More than 20 figures have been opened. Figures created through the pyplot interface (`matplotlib.pyplot.figure`) are retained until explicitly closed and may consume too much memory. (To control this warning, see the rcParam `figure.max_open_warning`).\n"
     ]
    },
    {
     "name": "stdout",
     "output_type": "stream",
     "text": [
      "Saving figure:\n",
      "/allen/programs/braintv/workgroups/nc-ophys/Farzaneh/ICA_crossTalk/session_848401585/neuropil_corrected_manual_848760990/neuropil_correction.pdf\n",
      "\n",
      "\n",
      "Session 10/66: /allen/programs/braintv/workgroups/nc-ophys/Farzaneh/ICA_crossTalk/session_848983781/\n",
      "['849233398', '849233400', '849233402', '849233404', '849233390', '849233392', '849233394', '849233396']\n"
     ]
    },
    {
     "name": "stderr",
     "output_type": "stream",
     "text": [
      "/home/nataliao/miniconda3/envs/mesoscope/lib/python3.6/site-packages/ipykernel_launcher.py:44: RuntimeWarning: More than 20 figures have been opened. Figures created through the pyplot interface (`matplotlib.pyplot.figure`) are retained until explicitly closed and may consume too much memory. (To control this warning, see the rcParam `figure.max_open_warning`).\n"
     ]
    },
    {
     "name": "stdout",
     "output_type": "stream",
     "text": [
      "Saving figure:\n",
      "/allen/programs/braintv/workgroups/nc-ophys/Farzaneh/ICA_crossTalk/session_848983781/neuropil_corrected_manual_849233398/neuropil_correction.pdf\n"
     ]
    },
    {
     "name": "stderr",
     "output_type": "stream",
     "text": [
      "/home/nataliao/miniconda3/envs/mesoscope/lib/python3.6/site-packages/ipykernel_launcher.py:44: RuntimeWarning: More than 20 figures have been opened. Figures created through the pyplot interface (`matplotlib.pyplot.figure`) are retained until explicitly closed and may consume too much memory. (To control this warning, see the rcParam `figure.max_open_warning`).\n"
     ]
    },
    {
     "name": "stdout",
     "output_type": "stream",
     "text": [
      "Saving figure:\n",
      "/allen/programs/braintv/workgroups/nc-ophys/Farzaneh/ICA_crossTalk/session_848983781/neuropil_corrected_manual_849233400/neuropil_correction.pdf\n"
     ]
    },
    {
     "name": "stderr",
     "output_type": "stream",
     "text": [
      "/home/nataliao/miniconda3/envs/mesoscope/lib/python3.6/site-packages/ipykernel_launcher.py:44: RuntimeWarning: More than 20 figures have been opened. Figures created through the pyplot interface (`matplotlib.pyplot.figure`) are retained until explicitly closed and may consume too much memory. (To control this warning, see the rcParam `figure.max_open_warning`).\n"
     ]
    },
    {
     "name": "stdout",
     "output_type": "stream",
     "text": [
      "Saving figure:\n",
      "/allen/programs/braintv/workgroups/nc-ophys/Farzaneh/ICA_crossTalk/session_848983781/neuropil_corrected_manual_849233402/neuropil_correction.pdf\n"
     ]
    },
    {
     "name": "stderr",
     "output_type": "stream",
     "text": [
      "/home/nataliao/miniconda3/envs/mesoscope/lib/python3.6/site-packages/ipykernel_launcher.py:44: RuntimeWarning: More than 20 figures have been opened. Figures created through the pyplot interface (`matplotlib.pyplot.figure`) are retained until explicitly closed and may consume too much memory. (To control this warning, see the rcParam `figure.max_open_warning`).\n"
     ]
    },
    {
     "name": "stdout",
     "output_type": "stream",
     "text": [
      "Saving figure:\n",
      "/allen/programs/braintv/workgroups/nc-ophys/Farzaneh/ICA_crossTalk/session_848983781/neuropil_corrected_manual_849233404/neuropil_correction.pdf\n"
     ]
    },
    {
     "name": "stderr",
     "output_type": "stream",
     "text": [
      "/home/nataliao/miniconda3/envs/mesoscope/lib/python3.6/site-packages/ipykernel_launcher.py:44: RuntimeWarning: More than 20 figures have been opened. Figures created through the pyplot interface (`matplotlib.pyplot.figure`) are retained until explicitly closed and may consume too much memory. (To control this warning, see the rcParam `figure.max_open_warning`).\n"
     ]
    },
    {
     "name": "stdout",
     "output_type": "stream",
     "text": [
      "Saving figure:\n",
      "/allen/programs/braintv/workgroups/nc-ophys/Farzaneh/ICA_crossTalk/session_848983781/neuropil_corrected_manual_849233390/neuropil_correction.pdf\n"
     ]
    },
    {
     "name": "stderr",
     "output_type": "stream",
     "text": [
      "/home/nataliao/miniconda3/envs/mesoscope/lib/python3.6/site-packages/ipykernel_launcher.py:44: RuntimeWarning: More than 20 figures have been opened. Figures created through the pyplot interface (`matplotlib.pyplot.figure`) are retained until explicitly closed and may consume too much memory. (To control this warning, see the rcParam `figure.max_open_warning`).\n"
     ]
    },
    {
     "name": "stdout",
     "output_type": "stream",
     "text": [
      "Saving figure:\n",
      "/allen/programs/braintv/workgroups/nc-ophys/Farzaneh/ICA_crossTalk/session_848983781/neuropil_corrected_manual_849233392/neuropil_correction.pdf\n"
     ]
    },
    {
     "name": "stderr",
     "output_type": "stream",
     "text": [
      "/home/nataliao/miniconda3/envs/mesoscope/lib/python3.6/site-packages/ipykernel_launcher.py:44: RuntimeWarning: More than 20 figures have been opened. Figures created through the pyplot interface (`matplotlib.pyplot.figure`) are retained until explicitly closed and may consume too much memory. (To control this warning, see the rcParam `figure.max_open_warning`).\n"
     ]
    },
    {
     "name": "stdout",
     "output_type": "stream",
     "text": [
      "Saving figure:\n",
      "/allen/programs/braintv/workgroups/nc-ophys/Farzaneh/ICA_crossTalk/session_848983781/neuropil_corrected_manual_849233394/neuropil_correction.pdf\n"
     ]
    },
    {
     "name": "stderr",
     "output_type": "stream",
     "text": [
      "/home/nataliao/miniconda3/envs/mesoscope/lib/python3.6/site-packages/ipykernel_launcher.py:44: RuntimeWarning: More than 20 figures have been opened. Figures created through the pyplot interface (`matplotlib.pyplot.figure`) are retained until explicitly closed and may consume too much memory. (To control this warning, see the rcParam `figure.max_open_warning`).\n"
     ]
    },
    {
     "name": "stdout",
     "output_type": "stream",
     "text": [
      "Saving figure:\n",
      "/allen/programs/braintv/workgroups/nc-ophys/Farzaneh/ICA_crossTalk/session_848983781/neuropil_corrected_manual_849233396/neuropil_correction.pdf\n",
      "\n",
      "\n",
      "Session 11/66: /allen/programs/braintv/workgroups/nc-ophys/Farzaneh/ICA_crossTalk/session_849304162/\n",
      "['850517356', '850517358', '850517352', '850517354', '850517348', '850517350', '850517344', '850517346']\n"
     ]
    },
    {
     "name": "stderr",
     "output_type": "stream",
     "text": [
      "/home/nataliao/miniconda3/envs/mesoscope/lib/python3.6/site-packages/ipykernel_launcher.py:44: RuntimeWarning: More than 20 figures have been opened. Figures created through the pyplot interface (`matplotlib.pyplot.figure`) are retained until explicitly closed and may consume too much memory. (To control this warning, see the rcParam `figure.max_open_warning`).\n"
     ]
    },
    {
     "name": "stdout",
     "output_type": "stream",
     "text": [
      "Saving figure:\n",
      "/allen/programs/braintv/workgroups/nc-ophys/Farzaneh/ICA_crossTalk/session_849304162/neuropil_corrected_manual_850517356/neuropil_correction.pdf\n"
     ]
    },
    {
     "name": "stderr",
     "output_type": "stream",
     "text": [
      "/home/nataliao/miniconda3/envs/mesoscope/lib/python3.6/site-packages/ipykernel_launcher.py:44: RuntimeWarning: More than 20 figures have been opened. Figures created through the pyplot interface (`matplotlib.pyplot.figure`) are retained until explicitly closed and may consume too much memory. (To control this warning, see the rcParam `figure.max_open_warning`).\n"
     ]
    },
    {
     "name": "stdout",
     "output_type": "stream",
     "text": [
      "Saving figure:\n",
      "/allen/programs/braintv/workgroups/nc-ophys/Farzaneh/ICA_crossTalk/session_849304162/neuropil_corrected_manual_850517358/neuropil_correction.pdf\n"
     ]
    },
    {
     "name": "stderr",
     "output_type": "stream",
     "text": [
      "/home/nataliao/miniconda3/envs/mesoscope/lib/python3.6/site-packages/ipykernel_launcher.py:44: RuntimeWarning: More than 20 figures have been opened. Figures created through the pyplot interface (`matplotlib.pyplot.figure`) are retained until explicitly closed and may consume too much memory. (To control this warning, see the rcParam `figure.max_open_warning`).\n"
     ]
    },
    {
     "name": "stdout",
     "output_type": "stream",
     "text": [
      "Saving figure:\n",
      "/allen/programs/braintv/workgroups/nc-ophys/Farzaneh/ICA_crossTalk/session_849304162/neuropil_corrected_manual_850517352/neuropil_correction.pdf\n"
     ]
    },
    {
     "name": "stderr",
     "output_type": "stream",
     "text": [
      "/home/nataliao/miniconda3/envs/mesoscope/lib/python3.6/site-packages/ipykernel_launcher.py:44: RuntimeWarning: More than 20 figures have been opened. Figures created through the pyplot interface (`matplotlib.pyplot.figure`) are retained until explicitly closed and may consume too much memory. (To control this warning, see the rcParam `figure.max_open_warning`).\n"
     ]
    },
    {
     "name": "stdout",
     "output_type": "stream",
     "text": [
      "Saving figure:\n",
      "/allen/programs/braintv/workgroups/nc-ophys/Farzaneh/ICA_crossTalk/session_849304162/neuropil_corrected_manual_850517354/neuropil_correction.pdf\n"
     ]
    },
    {
     "name": "stderr",
     "output_type": "stream",
     "text": [
      "/home/nataliao/miniconda3/envs/mesoscope/lib/python3.6/site-packages/ipykernel_launcher.py:44: RuntimeWarning: More than 20 figures have been opened. Figures created through the pyplot interface (`matplotlib.pyplot.figure`) are retained until explicitly closed and may consume too much memory. (To control this warning, see the rcParam `figure.max_open_warning`).\n"
     ]
    },
    {
     "name": "stdout",
     "output_type": "stream",
     "text": [
      "Saving figure:\n",
      "/allen/programs/braintv/workgroups/nc-ophys/Farzaneh/ICA_crossTalk/session_849304162/neuropil_corrected_manual_850517348/neuropil_correction.pdf\n"
     ]
    },
    {
     "name": "stderr",
     "output_type": "stream",
     "text": [
      "/home/nataliao/miniconda3/envs/mesoscope/lib/python3.6/site-packages/ipykernel_launcher.py:44: RuntimeWarning: More than 20 figures have been opened. Figures created through the pyplot interface (`matplotlib.pyplot.figure`) are retained until explicitly closed and may consume too much memory. (To control this warning, see the rcParam `figure.max_open_warning`).\n"
     ]
    },
    {
     "name": "stdout",
     "output_type": "stream",
     "text": [
      "Saving figure:\n",
      "/allen/programs/braintv/workgroups/nc-ophys/Farzaneh/ICA_crossTalk/session_849304162/neuropil_corrected_manual_850517350/neuropil_correction.pdf\n"
     ]
    },
    {
     "name": "stderr",
     "output_type": "stream",
     "text": [
      "/home/nataliao/miniconda3/envs/mesoscope/lib/python3.6/site-packages/ipykernel_launcher.py:44: RuntimeWarning: More than 20 figures have been opened. Figures created through the pyplot interface (`matplotlib.pyplot.figure`) are retained until explicitly closed and may consume too much memory. (To control this warning, see the rcParam `figure.max_open_warning`).\n"
     ]
    },
    {
     "name": "stdout",
     "output_type": "stream",
     "text": [
      "Saving figure:\n",
      "/allen/programs/braintv/workgroups/nc-ophys/Farzaneh/ICA_crossTalk/session_849304162/neuropil_corrected_manual_850517344/neuropil_correction.pdf\n"
     ]
    },
    {
     "name": "stderr",
     "output_type": "stream",
     "text": [
      "/home/nataliao/miniconda3/envs/mesoscope/lib/python3.6/site-packages/ipykernel_launcher.py:44: RuntimeWarning: More than 20 figures have been opened. Figures created through the pyplot interface (`matplotlib.pyplot.figure`) are retained until explicitly closed and may consume too much memory. (To control this warning, see the rcParam `figure.max_open_warning`).\n"
     ]
    },
    {
     "name": "stdout",
     "output_type": "stream",
     "text": [
      "Saving figure:\n",
      "/allen/programs/braintv/workgroups/nc-ophys/Farzaneh/ICA_crossTalk/session_849304162/neuropil_corrected_manual_850517346/neuropil_correction.pdf\n",
      "\n",
      "\n",
      "Session 12/66: /allen/programs/braintv/workgroups/nc-ophys/Farzaneh/ICA_crossTalk/session_850667270/\n",
      "['851093287', '851093289', '851093291', '851093296', '851093283', '851093285', '851093302', '851093306']\n"
     ]
    },
    {
     "name": "stderr",
     "output_type": "stream",
     "text": [
      "/home/nataliao/miniconda3/envs/mesoscope/lib/python3.6/site-packages/ipykernel_launcher.py:44: RuntimeWarning: More than 20 figures have been opened. Figures created through the pyplot interface (`matplotlib.pyplot.figure`) are retained until explicitly closed and may consume too much memory. (To control this warning, see the rcParam `figure.max_open_warning`).\n"
     ]
    },
    {
     "name": "stdout",
     "output_type": "stream",
     "text": [
      "Saving figure:\n",
      "/allen/programs/braintv/workgroups/nc-ophys/Farzaneh/ICA_crossTalk/session_850667270/neuropil_corrected_manual_851093287/neuropil_correction.pdf\n"
     ]
    },
    {
     "name": "stderr",
     "output_type": "stream",
     "text": [
      "/home/nataliao/miniconda3/envs/mesoscope/lib/python3.6/site-packages/ipykernel_launcher.py:44: RuntimeWarning: More than 20 figures have been opened. Figures created through the pyplot interface (`matplotlib.pyplot.figure`) are retained until explicitly closed and may consume too much memory. (To control this warning, see the rcParam `figure.max_open_warning`).\n"
     ]
    },
    {
     "name": "stdout",
     "output_type": "stream",
     "text": [
      "Saving figure:\n",
      "/allen/programs/braintv/workgroups/nc-ophys/Farzaneh/ICA_crossTalk/session_850667270/neuropil_corrected_manual_851093289/neuropil_correction.pdf\n"
     ]
    },
    {
     "name": "stderr",
     "output_type": "stream",
     "text": [
      "/home/nataliao/miniconda3/envs/mesoscope/lib/python3.6/site-packages/ipykernel_launcher.py:44: RuntimeWarning: More than 20 figures have been opened. Figures created through the pyplot interface (`matplotlib.pyplot.figure`) are retained until explicitly closed and may consume too much memory. (To control this warning, see the rcParam `figure.max_open_warning`).\n"
     ]
    },
    {
     "name": "stdout",
     "output_type": "stream",
     "text": [
      "Saving figure:\n",
      "/allen/programs/braintv/workgroups/nc-ophys/Farzaneh/ICA_crossTalk/session_850667270/neuropil_corrected_manual_851093291/neuropil_correction.pdf\n"
     ]
    },
    {
     "name": "stderr",
     "output_type": "stream",
     "text": [
      "/home/nataliao/miniconda3/envs/mesoscope/lib/python3.6/site-packages/ipykernel_launcher.py:44: RuntimeWarning: More than 20 figures have been opened. Figures created through the pyplot interface (`matplotlib.pyplot.figure`) are retained until explicitly closed and may consume too much memory. (To control this warning, see the rcParam `figure.max_open_warning`).\n"
     ]
    },
    {
     "name": "stdout",
     "output_type": "stream",
     "text": [
      "Saving figure:\n",
      "/allen/programs/braintv/workgroups/nc-ophys/Farzaneh/ICA_crossTalk/session_850667270/neuropil_corrected_manual_851093296/neuropil_correction.pdf\n"
     ]
    },
    {
     "name": "stderr",
     "output_type": "stream",
     "text": [
      "/home/nataliao/miniconda3/envs/mesoscope/lib/python3.6/site-packages/ipykernel_launcher.py:44: RuntimeWarning: More than 20 figures have been opened. Figures created through the pyplot interface (`matplotlib.pyplot.figure`) are retained until explicitly closed and may consume too much memory. (To control this warning, see the rcParam `figure.max_open_warning`).\n"
     ]
    },
    {
     "name": "stdout",
     "output_type": "stream",
     "text": [
      "Saving figure:\n",
      "/allen/programs/braintv/workgroups/nc-ophys/Farzaneh/ICA_crossTalk/session_850667270/neuropil_corrected_manual_851093283/neuropil_correction.pdf\n"
     ]
    },
    {
     "name": "stderr",
     "output_type": "stream",
     "text": [
      "/home/nataliao/miniconda3/envs/mesoscope/lib/python3.6/site-packages/ipykernel_launcher.py:44: RuntimeWarning: More than 20 figures have been opened. Figures created through the pyplot interface (`matplotlib.pyplot.figure`) are retained until explicitly closed and may consume too much memory. (To control this warning, see the rcParam `figure.max_open_warning`).\n"
     ]
    },
    {
     "name": "stdout",
     "output_type": "stream",
     "text": [
      "Saving figure:\n",
      "/allen/programs/braintv/workgroups/nc-ophys/Farzaneh/ICA_crossTalk/session_850667270/neuropil_corrected_manual_851093285/neuropil_correction.pdf\n"
     ]
    },
    {
     "name": "stderr",
     "output_type": "stream",
     "text": [
      "/home/nataliao/miniconda3/envs/mesoscope/lib/python3.6/site-packages/ipykernel_launcher.py:44: RuntimeWarning: More than 20 figures have been opened. Figures created through the pyplot interface (`matplotlib.pyplot.figure`) are retained until explicitly closed and may consume too much memory. (To control this warning, see the rcParam `figure.max_open_warning`).\n"
     ]
    },
    {
     "name": "stdout",
     "output_type": "stream",
     "text": [
      "Saving figure:\n",
      "/allen/programs/braintv/workgroups/nc-ophys/Farzaneh/ICA_crossTalk/session_850667270/neuropil_corrected_manual_851093302/neuropil_correction.pdf\n"
     ]
    },
    {
     "name": "stderr",
     "output_type": "stream",
     "text": [
      "/home/nataliao/miniconda3/envs/mesoscope/lib/python3.6/site-packages/ipykernel_launcher.py:44: RuntimeWarning: More than 20 figures have been opened. Figures created through the pyplot interface (`matplotlib.pyplot.figure`) are retained until explicitly closed and may consume too much memory. (To control this warning, see the rcParam `figure.max_open_warning`).\n"
     ]
    },
    {
     "name": "stdout",
     "output_type": "stream",
     "text": [
      "Saving figure:\n",
      "/allen/programs/braintv/workgroups/nc-ophys/Farzaneh/ICA_crossTalk/session_850667270/neuropil_corrected_manual_851093306/neuropil_correction.pdf\n",
      "\n",
      "\n",
      "Session 13/66: /allen/programs/braintv/workgroups/nc-ophys/Farzaneh/ICA_crossTalk/session_850894918/\n",
      "['851085092', '851085095', '851085098', '851085100', '851085107', '851085109', '851085103', '851085105']\n"
     ]
    },
    {
     "name": "stderr",
     "output_type": "stream",
     "text": [
      "/home/nataliao/miniconda3/envs/mesoscope/lib/python3.6/site-packages/ipykernel_launcher.py:44: RuntimeWarning: More than 20 figures have been opened. Figures created through the pyplot interface (`matplotlib.pyplot.figure`) are retained until explicitly closed and may consume too much memory. (To control this warning, see the rcParam `figure.max_open_warning`).\n"
     ]
    },
    {
     "name": "stdout",
     "output_type": "stream",
     "text": [
      "Saving figure:\n",
      "/allen/programs/braintv/workgroups/nc-ophys/Farzaneh/ICA_crossTalk/session_850894918/neuropil_corrected_manual_851085092/neuropil_correction.pdf\n"
     ]
    },
    {
     "name": "stderr",
     "output_type": "stream",
     "text": [
      "/home/nataliao/miniconda3/envs/mesoscope/lib/python3.6/site-packages/ipykernel_launcher.py:44: RuntimeWarning: More than 20 figures have been opened. Figures created through the pyplot interface (`matplotlib.pyplot.figure`) are retained until explicitly closed and may consume too much memory. (To control this warning, see the rcParam `figure.max_open_warning`).\n"
     ]
    },
    {
     "name": "stdout",
     "output_type": "stream",
     "text": [
      "Saving figure:\n",
      "/allen/programs/braintv/workgroups/nc-ophys/Farzaneh/ICA_crossTalk/session_850894918/neuropil_corrected_manual_851085095/neuropil_correction.pdf\n"
     ]
    },
    {
     "name": "stderr",
     "output_type": "stream",
     "text": [
      "/home/nataliao/miniconda3/envs/mesoscope/lib/python3.6/site-packages/ipykernel_launcher.py:44: RuntimeWarning: More than 20 figures have been opened. Figures created through the pyplot interface (`matplotlib.pyplot.figure`) are retained until explicitly closed and may consume too much memory. (To control this warning, see the rcParam `figure.max_open_warning`).\n"
     ]
    },
    {
     "name": "stdout",
     "output_type": "stream",
     "text": [
      "Saving figure:\n",
      "/allen/programs/braintv/workgroups/nc-ophys/Farzaneh/ICA_crossTalk/session_850894918/neuropil_corrected_manual_851085098/neuropil_correction.pdf\n"
     ]
    },
    {
     "name": "stderr",
     "output_type": "stream",
     "text": [
      "/home/nataliao/miniconda3/envs/mesoscope/lib/python3.6/site-packages/ipykernel_launcher.py:44: RuntimeWarning: More than 20 figures have been opened. Figures created through the pyplot interface (`matplotlib.pyplot.figure`) are retained until explicitly closed and may consume too much memory. (To control this warning, see the rcParam `figure.max_open_warning`).\n"
     ]
    },
    {
     "name": "stdout",
     "output_type": "stream",
     "text": [
      "Saving figure:\n",
      "/allen/programs/braintv/workgroups/nc-ophys/Farzaneh/ICA_crossTalk/session_850894918/neuropil_corrected_manual_851085100/neuropil_correction.pdf\n"
     ]
    },
    {
     "name": "stderr",
     "output_type": "stream",
     "text": [
      "/home/nataliao/miniconda3/envs/mesoscope/lib/python3.6/site-packages/ipykernel_launcher.py:44: RuntimeWarning: More than 20 figures have been opened. Figures created through the pyplot interface (`matplotlib.pyplot.figure`) are retained until explicitly closed and may consume too much memory. (To control this warning, see the rcParam `figure.max_open_warning`).\n"
     ]
    },
    {
     "name": "stdout",
     "output_type": "stream",
     "text": [
      "Saving figure:\n",
      "/allen/programs/braintv/workgroups/nc-ophys/Farzaneh/ICA_crossTalk/session_850894918/neuropil_corrected_manual_851085107/neuropil_correction.pdf\n"
     ]
    },
    {
     "name": "stderr",
     "output_type": "stream",
     "text": [
      "/home/nataliao/miniconda3/envs/mesoscope/lib/python3.6/site-packages/ipykernel_launcher.py:44: RuntimeWarning: More than 20 figures have been opened. Figures created through the pyplot interface (`matplotlib.pyplot.figure`) are retained until explicitly closed and may consume too much memory. (To control this warning, see the rcParam `figure.max_open_warning`).\n"
     ]
    },
    {
     "name": "stdout",
     "output_type": "stream",
     "text": [
      "Saving figure:\n",
      "/allen/programs/braintv/workgroups/nc-ophys/Farzaneh/ICA_crossTalk/session_850894918/neuropil_corrected_manual_851085109/neuropil_correction.pdf\n"
     ]
    },
    {
     "name": "stderr",
     "output_type": "stream",
     "text": [
      "/home/nataliao/miniconda3/envs/mesoscope/lib/python3.6/site-packages/ipykernel_launcher.py:44: RuntimeWarning: More than 20 figures have been opened. Figures created through the pyplot interface (`matplotlib.pyplot.figure`) are retained until explicitly closed and may consume too much memory. (To control this warning, see the rcParam `figure.max_open_warning`).\n"
     ]
    },
    {
     "name": "stdout",
     "output_type": "stream",
     "text": [
      "Saving figure:\n",
      "/allen/programs/braintv/workgroups/nc-ophys/Farzaneh/ICA_crossTalk/session_850894918/neuropil_corrected_manual_851085103/neuropil_correction.pdf\n"
     ]
    },
    {
     "name": "stderr",
     "output_type": "stream",
     "text": [
      "/home/nataliao/miniconda3/envs/mesoscope/lib/python3.6/site-packages/ipykernel_launcher.py:44: RuntimeWarning: More than 20 figures have been opened. Figures created through the pyplot interface (`matplotlib.pyplot.figure`) are retained until explicitly closed and may consume too much memory. (To control this warning, see the rcParam `figure.max_open_warning`).\n"
     ]
    },
    {
     "name": "stdout",
     "output_type": "stream",
     "text": [
      "Saving figure:\n",
      "/allen/programs/braintv/workgroups/nc-ophys/Farzaneh/ICA_crossTalk/session_850894918/neuropil_corrected_manual_851085105/neuropil_correction.pdf\n",
      "\n",
      "\n",
      "Session 14/66: /allen/programs/braintv/workgroups/nc-ophys/Farzaneh/ICA_crossTalk/session_851428829/\n",
      "['851959317', '851959320', '851959331', '851959333', '851959326', '851959329', '851959322', '851959324']\n"
     ]
    },
    {
     "name": "stderr",
     "output_type": "stream",
     "text": [
      "/home/nataliao/miniconda3/envs/mesoscope/lib/python3.6/site-packages/ipykernel_launcher.py:44: RuntimeWarning: More than 20 figures have been opened. Figures created through the pyplot interface (`matplotlib.pyplot.figure`) are retained until explicitly closed and may consume too much memory. (To control this warning, see the rcParam `figure.max_open_warning`).\n"
     ]
    },
    {
     "name": "stdout",
     "output_type": "stream",
     "text": [
      "Saving figure:\n",
      "/allen/programs/braintv/workgroups/nc-ophys/Farzaneh/ICA_crossTalk/session_851428829/neuropil_corrected_manual_851959317/neuropil_correction.pdf\n"
     ]
    },
    {
     "name": "stderr",
     "output_type": "stream",
     "text": [
      "/home/nataliao/miniconda3/envs/mesoscope/lib/python3.6/site-packages/ipykernel_launcher.py:44: RuntimeWarning: More than 20 figures have been opened. Figures created through the pyplot interface (`matplotlib.pyplot.figure`) are retained until explicitly closed and may consume too much memory. (To control this warning, see the rcParam `figure.max_open_warning`).\n"
     ]
    },
    {
     "name": "stdout",
     "output_type": "stream",
     "text": [
      "Saving figure:\n",
      "/allen/programs/braintv/workgroups/nc-ophys/Farzaneh/ICA_crossTalk/session_851428829/neuropil_corrected_manual_851959320/neuropil_correction.pdf\n"
     ]
    },
    {
     "name": "stderr",
     "output_type": "stream",
     "text": [
      "/home/nataliao/miniconda3/envs/mesoscope/lib/python3.6/site-packages/ipykernel_launcher.py:44: RuntimeWarning: More than 20 figures have been opened. Figures created through the pyplot interface (`matplotlib.pyplot.figure`) are retained until explicitly closed and may consume too much memory. (To control this warning, see the rcParam `figure.max_open_warning`).\n"
     ]
    },
    {
     "name": "stdout",
     "output_type": "stream",
     "text": [
      "Saving figure:\n",
      "/allen/programs/braintv/workgroups/nc-ophys/Farzaneh/ICA_crossTalk/session_851428829/neuropil_corrected_manual_851959331/neuropil_correction.pdf\n"
     ]
    },
    {
     "name": "stderr",
     "output_type": "stream",
     "text": [
      "/home/nataliao/miniconda3/envs/mesoscope/lib/python3.6/site-packages/ipykernel_launcher.py:44: RuntimeWarning: More than 20 figures have been opened. Figures created through the pyplot interface (`matplotlib.pyplot.figure`) are retained until explicitly closed and may consume too much memory. (To control this warning, see the rcParam `figure.max_open_warning`).\n"
     ]
    },
    {
     "name": "stdout",
     "output_type": "stream",
     "text": [
      "Saving figure:\n",
      "/allen/programs/braintv/workgroups/nc-ophys/Farzaneh/ICA_crossTalk/session_851428829/neuropil_corrected_manual_851959333/neuropil_correction.pdf\n"
     ]
    },
    {
     "name": "stderr",
     "output_type": "stream",
     "text": [
      "/home/nataliao/miniconda3/envs/mesoscope/lib/python3.6/site-packages/ipykernel_launcher.py:44: RuntimeWarning: More than 20 figures have been opened. Figures created through the pyplot interface (`matplotlib.pyplot.figure`) are retained until explicitly closed and may consume too much memory. (To control this warning, see the rcParam `figure.max_open_warning`).\n"
     ]
    },
    {
     "name": "stdout",
     "output_type": "stream",
     "text": [
      "Saving figure:\n",
      "/allen/programs/braintv/workgroups/nc-ophys/Farzaneh/ICA_crossTalk/session_851428829/neuropil_corrected_manual_851959326/neuropil_correction.pdf\n"
     ]
    },
    {
     "name": "stderr",
     "output_type": "stream",
     "text": [
      "/home/nataliao/miniconda3/envs/mesoscope/lib/python3.6/site-packages/ipykernel_launcher.py:44: RuntimeWarning: More than 20 figures have been opened. Figures created through the pyplot interface (`matplotlib.pyplot.figure`) are retained until explicitly closed and may consume too much memory. (To control this warning, see the rcParam `figure.max_open_warning`).\n"
     ]
    },
    {
     "name": "stdout",
     "output_type": "stream",
     "text": [
      "Saving figure:\n",
      "/allen/programs/braintv/workgroups/nc-ophys/Farzaneh/ICA_crossTalk/session_851428829/neuropil_corrected_manual_851959329/neuropil_correction.pdf\n"
     ]
    },
    {
     "name": "stderr",
     "output_type": "stream",
     "text": [
      "/home/nataliao/miniconda3/envs/mesoscope/lib/python3.6/site-packages/ipykernel_launcher.py:44: RuntimeWarning: More than 20 figures have been opened. Figures created through the pyplot interface (`matplotlib.pyplot.figure`) are retained until explicitly closed and may consume too much memory. (To control this warning, see the rcParam `figure.max_open_warning`).\n"
     ]
    },
    {
     "name": "stdout",
     "output_type": "stream",
     "text": [
      "Saving figure:\n",
      "/allen/programs/braintv/workgroups/nc-ophys/Farzaneh/ICA_crossTalk/session_851428829/neuropil_corrected_manual_851959322/neuropil_correction.pdf\n"
     ]
    },
    {
     "name": "stderr",
     "output_type": "stream",
     "text": [
      "/home/nataliao/miniconda3/envs/mesoscope/lib/python3.6/site-packages/ipykernel_launcher.py:44: RuntimeWarning: More than 20 figures have been opened. Figures created through the pyplot interface (`matplotlib.pyplot.figure`) are retained until explicitly closed and may consume too much memory. (To control this warning, see the rcParam `figure.max_open_warning`).\n"
     ]
    },
    {
     "name": "stdout",
     "output_type": "stream",
     "text": [
      "Saving figure:\n",
      "/allen/programs/braintv/workgroups/nc-ophys/Farzaneh/ICA_crossTalk/session_851428829/neuropil_corrected_manual_851959324/neuropil_correction.pdf\n",
      "\n",
      "\n",
      "Session 15/66: /allen/programs/braintv/workgroups/nc-ophys/Farzaneh/ICA_crossTalk/session_852070825/\n",
      "['852730503', '852730505', '852730514', '852730516', '852730508', '852730510', '852730518', '852730520']\n"
     ]
    },
    {
     "name": "stderr",
     "output_type": "stream",
     "text": [
      "/home/nataliao/miniconda3/envs/mesoscope/lib/python3.6/site-packages/ipykernel_launcher.py:44: RuntimeWarning: More than 20 figures have been opened. Figures created through the pyplot interface (`matplotlib.pyplot.figure`) are retained until explicitly closed and may consume too much memory. (To control this warning, see the rcParam `figure.max_open_warning`).\n"
     ]
    },
    {
     "name": "stdout",
     "output_type": "stream",
     "text": [
      "Saving figure:\n",
      "/allen/programs/braintv/workgroups/nc-ophys/Farzaneh/ICA_crossTalk/session_852070825/neuropil_corrected_manual_852730503/neuropil_correction.pdf\n"
     ]
    },
    {
     "name": "stderr",
     "output_type": "stream",
     "text": [
      "/home/nataliao/miniconda3/envs/mesoscope/lib/python3.6/site-packages/ipykernel_launcher.py:44: RuntimeWarning: More than 20 figures have been opened. Figures created through the pyplot interface (`matplotlib.pyplot.figure`) are retained until explicitly closed and may consume too much memory. (To control this warning, see the rcParam `figure.max_open_warning`).\n"
     ]
    },
    {
     "name": "stdout",
     "output_type": "stream",
     "text": [
      "Saving figure:\n",
      "/allen/programs/braintv/workgroups/nc-ophys/Farzaneh/ICA_crossTalk/session_852070825/neuropil_corrected_manual_852730505/neuropil_correction.pdf\n"
     ]
    },
    {
     "name": "stderr",
     "output_type": "stream",
     "text": [
      "/home/nataliao/miniconda3/envs/mesoscope/lib/python3.6/site-packages/ipykernel_launcher.py:44: RuntimeWarning: More than 20 figures have been opened. Figures created through the pyplot interface (`matplotlib.pyplot.figure`) are retained until explicitly closed and may consume too much memory. (To control this warning, see the rcParam `figure.max_open_warning`).\n"
     ]
    },
    {
     "name": "stdout",
     "output_type": "stream",
     "text": [
      "Saving figure:\n",
      "/allen/programs/braintv/workgroups/nc-ophys/Farzaneh/ICA_crossTalk/session_852070825/neuropil_corrected_manual_852730514/neuropil_correction.pdf\n"
     ]
    },
    {
     "name": "stderr",
     "output_type": "stream",
     "text": [
      "/home/nataliao/miniconda3/envs/mesoscope/lib/python3.6/site-packages/ipykernel_launcher.py:44: RuntimeWarning: More than 20 figures have been opened. Figures created through the pyplot interface (`matplotlib.pyplot.figure`) are retained until explicitly closed and may consume too much memory. (To control this warning, see the rcParam `figure.max_open_warning`).\n"
     ]
    },
    {
     "name": "stdout",
     "output_type": "stream",
     "text": [
      "Saving figure:\n",
      "/allen/programs/braintv/workgroups/nc-ophys/Farzaneh/ICA_crossTalk/session_852070825/neuropil_corrected_manual_852730516/neuropil_correction.pdf\n"
     ]
    },
    {
     "name": "stderr",
     "output_type": "stream",
     "text": [
      "/home/nataliao/miniconda3/envs/mesoscope/lib/python3.6/site-packages/ipykernel_launcher.py:44: RuntimeWarning: More than 20 figures have been opened. Figures created through the pyplot interface (`matplotlib.pyplot.figure`) are retained until explicitly closed and may consume too much memory. (To control this warning, see the rcParam `figure.max_open_warning`).\n"
     ]
    },
    {
     "name": "stdout",
     "output_type": "stream",
     "text": [
      "Saving figure:\n",
      "/allen/programs/braintv/workgroups/nc-ophys/Farzaneh/ICA_crossTalk/session_852070825/neuropil_corrected_manual_852730508/neuropil_correction.pdf\n"
     ]
    },
    {
     "name": "stderr",
     "output_type": "stream",
     "text": [
      "/home/nataliao/miniconda3/envs/mesoscope/lib/python3.6/site-packages/ipykernel_launcher.py:44: RuntimeWarning: More than 20 figures have been opened. Figures created through the pyplot interface (`matplotlib.pyplot.figure`) are retained until explicitly closed and may consume too much memory. (To control this warning, see the rcParam `figure.max_open_warning`).\n"
     ]
    },
    {
     "name": "stdout",
     "output_type": "stream",
     "text": [
      "Saving figure:\n",
      "/allen/programs/braintv/workgroups/nc-ophys/Farzaneh/ICA_crossTalk/session_852070825/neuropil_corrected_manual_852730510/neuropil_correction.pdf\n"
     ]
    },
    {
     "name": "stderr",
     "output_type": "stream",
     "text": [
      "/home/nataliao/miniconda3/envs/mesoscope/lib/python3.6/site-packages/ipykernel_launcher.py:44: RuntimeWarning: More than 20 figures have been opened. Figures created through the pyplot interface (`matplotlib.pyplot.figure`) are retained until explicitly closed and may consume too much memory. (To control this warning, see the rcParam `figure.max_open_warning`).\n"
     ]
    },
    {
     "name": "stdout",
     "output_type": "stream",
     "text": [
      "Saving figure:\n",
      "/allen/programs/braintv/workgroups/nc-ophys/Farzaneh/ICA_crossTalk/session_852070825/neuropil_corrected_manual_852730518/neuropil_correction.pdf\n"
     ]
    },
    {
     "name": "stderr",
     "output_type": "stream",
     "text": [
      "/home/nataliao/miniconda3/envs/mesoscope/lib/python3.6/site-packages/ipykernel_launcher.py:44: RuntimeWarning: More than 20 figures have been opened. Figures created through the pyplot interface (`matplotlib.pyplot.figure`) are retained until explicitly closed and may consume too much memory. (To control this warning, see the rcParam `figure.max_open_warning`).\n"
     ]
    },
    {
     "name": "stdout",
     "output_type": "stream",
     "text": [
      "Saving figure:\n",
      "/allen/programs/braintv/workgroups/nc-ophys/Farzaneh/ICA_crossTalk/session_852070825/neuropil_corrected_manual_852730520/neuropil_correction.pdf\n",
      "\n",
      "\n",
      "Session 16/66: /allen/programs/braintv/workgroups/nc-ophys/Farzaneh/ICA_crossTalk/session_852794141/\n",
      "['853363749', '853363751', '853363739', '853363743', '853363745', '853363747', '853363753', '853363756']\n"
     ]
    },
    {
     "name": "stderr",
     "output_type": "stream",
     "text": [
      "/home/nataliao/miniconda3/envs/mesoscope/lib/python3.6/site-packages/ipykernel_launcher.py:44: RuntimeWarning: More than 20 figures have been opened. Figures created through the pyplot interface (`matplotlib.pyplot.figure`) are retained until explicitly closed and may consume too much memory. (To control this warning, see the rcParam `figure.max_open_warning`).\n"
     ]
    },
    {
     "name": "stdout",
     "output_type": "stream",
     "text": [
      "Saving figure:\n",
      "/allen/programs/braintv/workgroups/nc-ophys/Farzaneh/ICA_crossTalk/session_852794141/neuropil_corrected_manual_853363749/neuropil_correction.pdf\n"
     ]
    },
    {
     "name": "stderr",
     "output_type": "stream",
     "text": [
      "/home/nataliao/miniconda3/envs/mesoscope/lib/python3.6/site-packages/ipykernel_launcher.py:44: RuntimeWarning: More than 20 figures have been opened. Figures created through the pyplot interface (`matplotlib.pyplot.figure`) are retained until explicitly closed and may consume too much memory. (To control this warning, see the rcParam `figure.max_open_warning`).\n"
     ]
    },
    {
     "name": "stdout",
     "output_type": "stream",
     "text": [
      "Saving figure:\n",
      "/allen/programs/braintv/workgroups/nc-ophys/Farzaneh/ICA_crossTalk/session_852794141/neuropil_corrected_manual_853363751/neuropil_correction.pdf\n"
     ]
    },
    {
     "name": "stderr",
     "output_type": "stream",
     "text": [
      "/home/nataliao/miniconda3/envs/mesoscope/lib/python3.6/site-packages/ipykernel_launcher.py:44: RuntimeWarning: More than 20 figures have been opened. Figures created through the pyplot interface (`matplotlib.pyplot.figure`) are retained until explicitly closed and may consume too much memory. (To control this warning, see the rcParam `figure.max_open_warning`).\n"
     ]
    },
    {
     "name": "stdout",
     "output_type": "stream",
     "text": [
      "Saving figure:\n",
      "/allen/programs/braintv/workgroups/nc-ophys/Farzaneh/ICA_crossTalk/session_852794141/neuropil_corrected_manual_853363739/neuropil_correction.pdf\n"
     ]
    },
    {
     "name": "stderr",
     "output_type": "stream",
     "text": [
      "/home/nataliao/miniconda3/envs/mesoscope/lib/python3.6/site-packages/ipykernel_launcher.py:44: RuntimeWarning: More than 20 figures have been opened. Figures created through the pyplot interface (`matplotlib.pyplot.figure`) are retained until explicitly closed and may consume too much memory. (To control this warning, see the rcParam `figure.max_open_warning`).\n"
     ]
    },
    {
     "name": "stdout",
     "output_type": "stream",
     "text": [
      "Saving figure:\n",
      "/allen/programs/braintv/workgroups/nc-ophys/Farzaneh/ICA_crossTalk/session_852794141/neuropil_corrected_manual_853363743/neuropil_correction.pdf\n"
     ]
    },
    {
     "name": "stderr",
     "output_type": "stream",
     "text": [
      "/home/nataliao/miniconda3/envs/mesoscope/lib/python3.6/site-packages/ipykernel_launcher.py:44: RuntimeWarning: More than 20 figures have been opened. Figures created through the pyplot interface (`matplotlib.pyplot.figure`) are retained until explicitly closed and may consume too much memory. (To control this warning, see the rcParam `figure.max_open_warning`).\n"
     ]
    },
    {
     "name": "stdout",
     "output_type": "stream",
     "text": [
      "Saving figure:\n",
      "/allen/programs/braintv/workgroups/nc-ophys/Farzaneh/ICA_crossTalk/session_852794141/neuropil_corrected_manual_853363745/neuropil_correction.pdf\n"
     ]
    },
    {
     "name": "stderr",
     "output_type": "stream",
     "text": [
      "/home/nataliao/miniconda3/envs/mesoscope/lib/python3.6/site-packages/ipykernel_launcher.py:44: RuntimeWarning: More than 20 figures have been opened. Figures created through the pyplot interface (`matplotlib.pyplot.figure`) are retained until explicitly closed and may consume too much memory. (To control this warning, see the rcParam `figure.max_open_warning`).\n"
     ]
    },
    {
     "name": "stdout",
     "output_type": "stream",
     "text": [
      "Saving figure:\n",
      "/allen/programs/braintv/workgroups/nc-ophys/Farzaneh/ICA_crossTalk/session_852794141/neuropil_corrected_manual_853363747/neuropil_correction.pdf\n"
     ]
    },
    {
     "name": "stderr",
     "output_type": "stream",
     "text": [
      "/home/nataliao/miniconda3/envs/mesoscope/lib/python3.6/site-packages/ipykernel_launcher.py:44: RuntimeWarning: More than 20 figures have been opened. Figures created through the pyplot interface (`matplotlib.pyplot.figure`) are retained until explicitly closed and may consume too much memory. (To control this warning, see the rcParam `figure.max_open_warning`).\n"
     ]
    },
    {
     "name": "stdout",
     "output_type": "stream",
     "text": [
      "Saving figure:\n",
      "/allen/programs/braintv/workgroups/nc-ophys/Farzaneh/ICA_crossTalk/session_852794141/neuropil_corrected_manual_853363753/neuropil_correction.pdf\n"
     ]
    },
    {
     "name": "stderr",
     "output_type": "stream",
     "text": [
      "/home/nataliao/miniconda3/envs/mesoscope/lib/python3.6/site-packages/ipykernel_launcher.py:44: RuntimeWarning: More than 20 figures have been opened. Figures created through the pyplot interface (`matplotlib.pyplot.figure`) are retained until explicitly closed and may consume too much memory. (To control this warning, see the rcParam `figure.max_open_warning`).\n"
     ]
    },
    {
     "name": "stdout",
     "output_type": "stream",
     "text": [
      "Saving figure:\n",
      "/allen/programs/braintv/workgroups/nc-ophys/Farzaneh/ICA_crossTalk/session_852794141/neuropil_corrected_manual_853363756/neuropil_correction.pdf\n",
      "\n",
      "\n",
      "Session 17/66: /allen/programs/braintv/workgroups/nc-ophys/Farzaneh/ICA_crossTalk/session_853416532/\n",
      "['853988437', '853988444', '853988450', '853988454', '853988446', '853988448', '853988430', '853988435']\n"
     ]
    },
    {
     "name": "stderr",
     "output_type": "stream",
     "text": [
      "/home/nataliao/miniconda3/envs/mesoscope/lib/python3.6/site-packages/ipykernel_launcher.py:44: RuntimeWarning: More than 20 figures have been opened. Figures created through the pyplot interface (`matplotlib.pyplot.figure`) are retained until explicitly closed and may consume too much memory. (To control this warning, see the rcParam `figure.max_open_warning`).\n"
     ]
    },
    {
     "name": "stdout",
     "output_type": "stream",
     "text": [
      "Saving figure:\n",
      "/allen/programs/braintv/workgroups/nc-ophys/Farzaneh/ICA_crossTalk/session_853416532/neuropil_corrected_manual_853988437/neuropil_correction.pdf\n"
     ]
    },
    {
     "name": "stderr",
     "output_type": "stream",
     "text": [
      "/home/nataliao/miniconda3/envs/mesoscope/lib/python3.6/site-packages/ipykernel_launcher.py:44: RuntimeWarning: More than 20 figures have been opened. Figures created through the pyplot interface (`matplotlib.pyplot.figure`) are retained until explicitly closed and may consume too much memory. (To control this warning, see the rcParam `figure.max_open_warning`).\n"
     ]
    },
    {
     "name": "stdout",
     "output_type": "stream",
     "text": [
      "Saving figure:\n",
      "/allen/programs/braintv/workgroups/nc-ophys/Farzaneh/ICA_crossTalk/session_853416532/neuropil_corrected_manual_853988444/neuropil_correction.pdf\n"
     ]
    },
    {
     "name": "stderr",
     "output_type": "stream",
     "text": [
      "/home/nataliao/miniconda3/envs/mesoscope/lib/python3.6/site-packages/ipykernel_launcher.py:44: RuntimeWarning: More than 20 figures have been opened. Figures created through the pyplot interface (`matplotlib.pyplot.figure`) are retained until explicitly closed and may consume too much memory. (To control this warning, see the rcParam `figure.max_open_warning`).\n"
     ]
    },
    {
     "name": "stdout",
     "output_type": "stream",
     "text": [
      "Saving figure:\n",
      "/allen/programs/braintv/workgroups/nc-ophys/Farzaneh/ICA_crossTalk/session_853416532/neuropil_corrected_manual_853988450/neuropil_correction.pdf\n"
     ]
    },
    {
     "name": "stderr",
     "output_type": "stream",
     "text": [
      "/home/nataliao/miniconda3/envs/mesoscope/lib/python3.6/site-packages/ipykernel_launcher.py:44: RuntimeWarning: More than 20 figures have been opened. Figures created through the pyplot interface (`matplotlib.pyplot.figure`) are retained until explicitly closed and may consume too much memory. (To control this warning, see the rcParam `figure.max_open_warning`).\n"
     ]
    },
    {
     "name": "stdout",
     "output_type": "stream",
     "text": [
      "Saving figure:\n",
      "/allen/programs/braintv/workgroups/nc-ophys/Farzaneh/ICA_crossTalk/session_853416532/neuropil_corrected_manual_853988454/neuropil_correction.pdf\n"
     ]
    },
    {
     "name": "stderr",
     "output_type": "stream",
     "text": [
      "/home/nataliao/miniconda3/envs/mesoscope/lib/python3.6/site-packages/ipykernel_launcher.py:44: RuntimeWarning: More than 20 figures have been opened. Figures created through the pyplot interface (`matplotlib.pyplot.figure`) are retained until explicitly closed and may consume too much memory. (To control this warning, see the rcParam `figure.max_open_warning`).\n"
     ]
    },
    {
     "name": "stdout",
     "output_type": "stream",
     "text": [
      "Saving figure:\n",
      "/allen/programs/braintv/workgroups/nc-ophys/Farzaneh/ICA_crossTalk/session_853416532/neuropil_corrected_manual_853988446/neuropil_correction.pdf\n"
     ]
    },
    {
     "name": "stderr",
     "output_type": "stream",
     "text": [
      "/home/nataliao/miniconda3/envs/mesoscope/lib/python3.6/site-packages/ipykernel_launcher.py:44: RuntimeWarning: More than 20 figures have been opened. Figures created through the pyplot interface (`matplotlib.pyplot.figure`) are retained until explicitly closed and may consume too much memory. (To control this warning, see the rcParam `figure.max_open_warning`).\n"
     ]
    },
    {
     "name": "stdout",
     "output_type": "stream",
     "text": [
      "Saving figure:\n",
      "/allen/programs/braintv/workgroups/nc-ophys/Farzaneh/ICA_crossTalk/session_853416532/neuropil_corrected_manual_853988448/neuropil_correction.pdf\n"
     ]
    },
    {
     "name": "stderr",
     "output_type": "stream",
     "text": [
      "/home/nataliao/miniconda3/envs/mesoscope/lib/python3.6/site-packages/ipykernel_launcher.py:44: RuntimeWarning: More than 20 figures have been opened. Figures created through the pyplot interface (`matplotlib.pyplot.figure`) are retained until explicitly closed and may consume too much memory. (To control this warning, see the rcParam `figure.max_open_warning`).\n"
     ]
    },
    {
     "name": "stdout",
     "output_type": "stream",
     "text": [
      "Saving figure:\n",
      "/allen/programs/braintv/workgroups/nc-ophys/Farzaneh/ICA_crossTalk/session_853416532/neuropil_corrected_manual_853988430/neuropil_correction.pdf\n"
     ]
    },
    {
     "name": "stderr",
     "output_type": "stream",
     "text": [
      "/home/nataliao/miniconda3/envs/mesoscope/lib/python3.6/site-packages/ipykernel_launcher.py:44: RuntimeWarning: More than 20 figures have been opened. Figures created through the pyplot interface (`matplotlib.pyplot.figure`) are retained until explicitly closed and may consume too much memory. (To control this warning, see the rcParam `figure.max_open_warning`).\n"
     ]
    },
    {
     "name": "stdout",
     "output_type": "stream",
     "text": [
      "Saving figure:\n",
      "/allen/programs/braintv/workgroups/nc-ophys/Farzaneh/ICA_crossTalk/session_853416532/neuropil_corrected_manual_853988435/neuropil_correction.pdf\n",
      "\n",
      "\n",
      "Session 18/66: /allen/programs/braintv/workgroups/nc-ophys/Farzaneh/ICA_crossTalk/session_855711263/\n",
      "['856123126', '856123130', '856123117', '856123119', '856123122', '856123124', '856123132', '856123134']\n"
     ]
    },
    {
     "name": "stderr",
     "output_type": "stream",
     "text": [
      "/home/nataliao/miniconda3/envs/mesoscope/lib/python3.6/site-packages/ipykernel_launcher.py:44: RuntimeWarning: More than 20 figures have been opened. Figures created through the pyplot interface (`matplotlib.pyplot.figure`) are retained until explicitly closed and may consume too much memory. (To control this warning, see the rcParam `figure.max_open_warning`).\n"
     ]
    },
    {
     "name": "stdout",
     "output_type": "stream",
     "text": [
      "Saving figure:\n",
      "/allen/programs/braintv/workgroups/nc-ophys/Farzaneh/ICA_crossTalk/session_855711263/neuropil_corrected_manual_856123126/neuropil_correction.pdf\n"
     ]
    },
    {
     "name": "stderr",
     "output_type": "stream",
     "text": [
      "/home/nataliao/miniconda3/envs/mesoscope/lib/python3.6/site-packages/ipykernel_launcher.py:44: RuntimeWarning: More than 20 figures have been opened. Figures created through the pyplot interface (`matplotlib.pyplot.figure`) are retained until explicitly closed and may consume too much memory. (To control this warning, see the rcParam `figure.max_open_warning`).\n"
     ]
    },
    {
     "name": "stdout",
     "output_type": "stream",
     "text": [
      "Saving figure:\n",
      "/allen/programs/braintv/workgroups/nc-ophys/Farzaneh/ICA_crossTalk/session_855711263/neuropil_corrected_manual_856123130/neuropil_correction.pdf\n"
     ]
    },
    {
     "name": "stderr",
     "output_type": "stream",
     "text": [
      "/home/nataliao/miniconda3/envs/mesoscope/lib/python3.6/site-packages/ipykernel_launcher.py:44: RuntimeWarning: More than 20 figures have been opened. Figures created through the pyplot interface (`matplotlib.pyplot.figure`) are retained until explicitly closed and may consume too much memory. (To control this warning, see the rcParam `figure.max_open_warning`).\n"
     ]
    },
    {
     "name": "stdout",
     "output_type": "stream",
     "text": [
      "Saving figure:\n",
      "/allen/programs/braintv/workgroups/nc-ophys/Farzaneh/ICA_crossTalk/session_855711263/neuropil_corrected_manual_856123117/neuropil_correction.pdf\n"
     ]
    },
    {
     "name": "stderr",
     "output_type": "stream",
     "text": [
      "/home/nataliao/miniconda3/envs/mesoscope/lib/python3.6/site-packages/ipykernel_launcher.py:44: RuntimeWarning: More than 20 figures have been opened. Figures created through the pyplot interface (`matplotlib.pyplot.figure`) are retained until explicitly closed and may consume too much memory. (To control this warning, see the rcParam `figure.max_open_warning`).\n"
     ]
    },
    {
     "name": "stdout",
     "output_type": "stream",
     "text": [
      "Saving figure:\n",
      "/allen/programs/braintv/workgroups/nc-ophys/Farzaneh/ICA_crossTalk/session_855711263/neuropil_corrected_manual_856123119/neuropil_correction.pdf\n"
     ]
    },
    {
     "name": "stderr",
     "output_type": "stream",
     "text": [
      "/home/nataliao/miniconda3/envs/mesoscope/lib/python3.6/site-packages/ipykernel_launcher.py:44: RuntimeWarning: More than 20 figures have been opened. Figures created through the pyplot interface (`matplotlib.pyplot.figure`) are retained until explicitly closed and may consume too much memory. (To control this warning, see the rcParam `figure.max_open_warning`).\n"
     ]
    },
    {
     "name": "stdout",
     "output_type": "stream",
     "text": [
      "Saving figure:\n",
      "/allen/programs/braintv/workgroups/nc-ophys/Farzaneh/ICA_crossTalk/session_855711263/neuropil_corrected_manual_856123122/neuropil_correction.pdf\n"
     ]
    },
    {
     "name": "stderr",
     "output_type": "stream",
     "text": [
      "/home/nataliao/miniconda3/envs/mesoscope/lib/python3.6/site-packages/ipykernel_launcher.py:44: RuntimeWarning: More than 20 figures have been opened. Figures created through the pyplot interface (`matplotlib.pyplot.figure`) are retained until explicitly closed and may consume too much memory. (To control this warning, see the rcParam `figure.max_open_warning`).\n"
     ]
    },
    {
     "name": "stdout",
     "output_type": "stream",
     "text": [
      "Saving figure:\n",
      "/allen/programs/braintv/workgroups/nc-ophys/Farzaneh/ICA_crossTalk/session_855711263/neuropil_corrected_manual_856123124/neuropil_correction.pdf\n"
     ]
    },
    {
     "name": "stderr",
     "output_type": "stream",
     "text": [
      "/home/nataliao/miniconda3/envs/mesoscope/lib/python3.6/site-packages/ipykernel_launcher.py:44: RuntimeWarning: More than 20 figures have been opened. Figures created through the pyplot interface (`matplotlib.pyplot.figure`) are retained until explicitly closed and may consume too much memory. (To control this warning, see the rcParam `figure.max_open_warning`).\n"
     ]
    },
    {
     "name": "stdout",
     "output_type": "stream",
     "text": [
      "Saving figure:\n",
      "/allen/programs/braintv/workgroups/nc-ophys/Farzaneh/ICA_crossTalk/session_855711263/neuropil_corrected_manual_856123132/neuropil_correction.pdf\n"
     ]
    },
    {
     "name": "stderr",
     "output_type": "stream",
     "text": [
      "/home/nataliao/miniconda3/envs/mesoscope/lib/python3.6/site-packages/ipykernel_launcher.py:44: RuntimeWarning: More than 20 figures have been opened. Figures created through the pyplot interface (`matplotlib.pyplot.figure`) are retained until explicitly closed and may consume too much memory. (To control this warning, see the rcParam `figure.max_open_warning`).\n"
     ]
    },
    {
     "name": "stdout",
     "output_type": "stream",
     "text": [
      "Saving figure:\n",
      "/allen/programs/braintv/workgroups/nc-ophys/Farzaneh/ICA_crossTalk/session_855711263/neuropil_corrected_manual_856123134/neuropil_correction.pdf\n",
      "\n",
      "\n",
      "Session 19/66: /allen/programs/braintv/workgroups/nc-ophys/Farzaneh/ICA_crossTalk/session_863815473/\n",
      "['864430675', '864430678', '864430668', '864430671', '864430664', '864430666', '864430680', '864430682']\n"
     ]
    },
    {
     "name": "stderr",
     "output_type": "stream",
     "text": [
      "/home/nataliao/miniconda3/envs/mesoscope/lib/python3.6/site-packages/ipykernel_launcher.py:44: RuntimeWarning: More than 20 figures have been opened. Figures created through the pyplot interface (`matplotlib.pyplot.figure`) are retained until explicitly closed and may consume too much memory. (To control this warning, see the rcParam `figure.max_open_warning`).\n"
     ]
    },
    {
     "name": "stdout",
     "output_type": "stream",
     "text": [
      "Saving figure:\n",
      "/allen/programs/braintv/workgroups/nc-ophys/Farzaneh/ICA_crossTalk/session_863815473/neuropil_corrected_manual_864430675/neuropil_correction.pdf\n"
     ]
    },
    {
     "name": "stderr",
     "output_type": "stream",
     "text": [
      "/home/nataliao/miniconda3/envs/mesoscope/lib/python3.6/site-packages/ipykernel_launcher.py:44: RuntimeWarning: More than 20 figures have been opened. Figures created through the pyplot interface (`matplotlib.pyplot.figure`) are retained until explicitly closed and may consume too much memory. (To control this warning, see the rcParam `figure.max_open_warning`).\n"
     ]
    },
    {
     "name": "stdout",
     "output_type": "stream",
     "text": [
      "Saving figure:\n",
      "/allen/programs/braintv/workgroups/nc-ophys/Farzaneh/ICA_crossTalk/session_863815473/neuropil_corrected_manual_864430678/neuropil_correction.pdf\n"
     ]
    },
    {
     "name": "stderr",
     "output_type": "stream",
     "text": [
      "/home/nataliao/miniconda3/envs/mesoscope/lib/python3.6/site-packages/ipykernel_launcher.py:44: RuntimeWarning: More than 20 figures have been opened. Figures created through the pyplot interface (`matplotlib.pyplot.figure`) are retained until explicitly closed and may consume too much memory. (To control this warning, see the rcParam `figure.max_open_warning`).\n"
     ]
    },
    {
     "name": "stdout",
     "output_type": "stream",
     "text": [
      "Saving figure:\n",
      "/allen/programs/braintv/workgroups/nc-ophys/Farzaneh/ICA_crossTalk/session_863815473/neuropil_corrected_manual_864430668/neuropil_correction.pdf\n"
     ]
    },
    {
     "name": "stderr",
     "output_type": "stream",
     "text": [
      "/home/nataliao/miniconda3/envs/mesoscope/lib/python3.6/site-packages/ipykernel_launcher.py:44: RuntimeWarning: More than 20 figures have been opened. Figures created through the pyplot interface (`matplotlib.pyplot.figure`) are retained until explicitly closed and may consume too much memory. (To control this warning, see the rcParam `figure.max_open_warning`).\n"
     ]
    },
    {
     "name": "stdout",
     "output_type": "stream",
     "text": [
      "Saving figure:\n",
      "/allen/programs/braintv/workgroups/nc-ophys/Farzaneh/ICA_crossTalk/session_863815473/neuropil_corrected_manual_864430671/neuropil_correction.pdf\n"
     ]
    },
    {
     "name": "stderr",
     "output_type": "stream",
     "text": [
      "/home/nataliao/miniconda3/envs/mesoscope/lib/python3.6/site-packages/ipykernel_launcher.py:44: RuntimeWarning: More than 20 figures have been opened. Figures created through the pyplot interface (`matplotlib.pyplot.figure`) are retained until explicitly closed and may consume too much memory. (To control this warning, see the rcParam `figure.max_open_warning`).\n"
     ]
    },
    {
     "name": "stdout",
     "output_type": "stream",
     "text": [
      "Saving figure:\n",
      "/allen/programs/braintv/workgroups/nc-ophys/Farzaneh/ICA_crossTalk/session_863815473/neuropil_corrected_manual_864430664/neuropil_correction.pdf\n"
     ]
    },
    {
     "name": "stderr",
     "output_type": "stream",
     "text": [
      "/home/nataliao/miniconda3/envs/mesoscope/lib/python3.6/site-packages/ipykernel_launcher.py:44: RuntimeWarning: More than 20 figures have been opened. Figures created through the pyplot interface (`matplotlib.pyplot.figure`) are retained until explicitly closed and may consume too much memory. (To control this warning, see the rcParam `figure.max_open_warning`).\n"
     ]
    },
    {
     "name": "stdout",
     "output_type": "stream",
     "text": [
      "Saving figure:\n",
      "/allen/programs/braintv/workgroups/nc-ophys/Farzaneh/ICA_crossTalk/session_863815473/neuropil_corrected_manual_864430666/neuropil_correction.pdf\n"
     ]
    },
    {
     "name": "stderr",
     "output_type": "stream",
     "text": [
      "/home/nataliao/miniconda3/envs/mesoscope/lib/python3.6/site-packages/ipykernel_launcher.py:44: RuntimeWarning: More than 20 figures have been opened. Figures created through the pyplot interface (`matplotlib.pyplot.figure`) are retained until explicitly closed and may consume too much memory. (To control this warning, see the rcParam `figure.max_open_warning`).\n"
     ]
    },
    {
     "name": "stdout",
     "output_type": "stream",
     "text": [
      "Saving figure:\n",
      "/allen/programs/braintv/workgroups/nc-ophys/Farzaneh/ICA_crossTalk/session_863815473/neuropil_corrected_manual_864430680/neuropil_correction.pdf\n"
     ]
    },
    {
     "name": "stderr",
     "output_type": "stream",
     "text": [
      "/home/nataliao/miniconda3/envs/mesoscope/lib/python3.6/site-packages/ipykernel_launcher.py:44: RuntimeWarning: More than 20 figures have been opened. Figures created through the pyplot interface (`matplotlib.pyplot.figure`) are retained until explicitly closed and may consume too much memory. (To control this warning, see the rcParam `figure.max_open_warning`).\n"
     ]
    },
    {
     "name": "stdout",
     "output_type": "stream",
     "text": [
      "Saving figure:\n",
      "/allen/programs/braintv/workgroups/nc-ophys/Farzaneh/ICA_crossTalk/session_863815473/neuropil_corrected_manual_864430682/neuropil_correction.pdf\n",
      "\n",
      "\n",
      "Session 20/66: /allen/programs/braintv/workgroups/nc-ophys/Farzaneh/ICA_crossTalk/session_864458864/\n",
      "['864967094', '864967096', '864967106', '864967108', '864967102', '864967104', '864967098', '864967100']\n"
     ]
    },
    {
     "name": "stderr",
     "output_type": "stream",
     "text": [
      "/home/nataliao/miniconda3/envs/mesoscope/lib/python3.6/site-packages/ipykernel_launcher.py:44: RuntimeWarning: More than 20 figures have been opened. Figures created through the pyplot interface (`matplotlib.pyplot.figure`) are retained until explicitly closed and may consume too much memory. (To control this warning, see the rcParam `figure.max_open_warning`).\n"
     ]
    },
    {
     "name": "stdout",
     "output_type": "stream",
     "text": [
      "Saving figure:\n",
      "/allen/programs/braintv/workgroups/nc-ophys/Farzaneh/ICA_crossTalk/session_864458864/neuropil_corrected_manual_864967094/neuropil_correction.pdf\n"
     ]
    },
    {
     "name": "stderr",
     "output_type": "stream",
     "text": [
      "/home/nataliao/miniconda3/envs/mesoscope/lib/python3.6/site-packages/ipykernel_launcher.py:44: RuntimeWarning: More than 20 figures have been opened. Figures created through the pyplot interface (`matplotlib.pyplot.figure`) are retained until explicitly closed and may consume too much memory. (To control this warning, see the rcParam `figure.max_open_warning`).\n"
     ]
    },
    {
     "name": "stdout",
     "output_type": "stream",
     "text": [
      "Saving figure:\n",
      "/allen/programs/braintv/workgroups/nc-ophys/Farzaneh/ICA_crossTalk/session_864458864/neuropil_corrected_manual_864967096/neuropil_correction.pdf\n"
     ]
    },
    {
     "name": "stderr",
     "output_type": "stream",
     "text": [
      "/home/nataliao/miniconda3/envs/mesoscope/lib/python3.6/site-packages/ipykernel_launcher.py:44: RuntimeWarning: More than 20 figures have been opened. Figures created through the pyplot interface (`matplotlib.pyplot.figure`) are retained until explicitly closed and may consume too much memory. (To control this warning, see the rcParam `figure.max_open_warning`).\n"
     ]
    },
    {
     "name": "stdout",
     "output_type": "stream",
     "text": [
      "Saving figure:\n",
      "/allen/programs/braintv/workgroups/nc-ophys/Farzaneh/ICA_crossTalk/session_864458864/neuropil_corrected_manual_864967106/neuropil_correction.pdf\n"
     ]
    },
    {
     "name": "stderr",
     "output_type": "stream",
     "text": [
      "/home/nataliao/miniconda3/envs/mesoscope/lib/python3.6/site-packages/ipykernel_launcher.py:44: RuntimeWarning: More than 20 figures have been opened. Figures created through the pyplot interface (`matplotlib.pyplot.figure`) are retained until explicitly closed and may consume too much memory. (To control this warning, see the rcParam `figure.max_open_warning`).\n"
     ]
    },
    {
     "name": "stdout",
     "output_type": "stream",
     "text": [
      "Saving figure:\n",
      "/allen/programs/braintv/workgroups/nc-ophys/Farzaneh/ICA_crossTalk/session_864458864/neuropil_corrected_manual_864967108/neuropil_correction.pdf\n"
     ]
    },
    {
     "name": "stderr",
     "output_type": "stream",
     "text": [
      "/home/nataliao/miniconda3/envs/mesoscope/lib/python3.6/site-packages/ipykernel_launcher.py:44: RuntimeWarning: More than 20 figures have been opened. Figures created through the pyplot interface (`matplotlib.pyplot.figure`) are retained until explicitly closed and may consume too much memory. (To control this warning, see the rcParam `figure.max_open_warning`).\n"
     ]
    },
    {
     "name": "stdout",
     "output_type": "stream",
     "text": [
      "Saving figure:\n",
      "/allen/programs/braintv/workgroups/nc-ophys/Farzaneh/ICA_crossTalk/session_864458864/neuropil_corrected_manual_864967102/neuropil_correction.pdf\n"
     ]
    },
    {
     "name": "stderr",
     "output_type": "stream",
     "text": [
      "/home/nataliao/miniconda3/envs/mesoscope/lib/python3.6/site-packages/ipykernel_launcher.py:44: RuntimeWarning: More than 20 figures have been opened. Figures created through the pyplot interface (`matplotlib.pyplot.figure`) are retained until explicitly closed and may consume too much memory. (To control this warning, see the rcParam `figure.max_open_warning`).\n"
     ]
    },
    {
     "name": "stdout",
     "output_type": "stream",
     "text": [
      "Saving figure:\n",
      "/allen/programs/braintv/workgroups/nc-ophys/Farzaneh/ICA_crossTalk/session_864458864/neuropil_corrected_manual_864967104/neuropil_correction.pdf\n"
     ]
    },
    {
     "name": "stderr",
     "output_type": "stream",
     "text": [
      "/home/nataliao/miniconda3/envs/mesoscope/lib/python3.6/site-packages/ipykernel_launcher.py:44: RuntimeWarning: More than 20 figures have been opened. Figures created through the pyplot interface (`matplotlib.pyplot.figure`) are retained until explicitly closed and may consume too much memory. (To control this warning, see the rcParam `figure.max_open_warning`).\n"
     ]
    },
    {
     "name": "stdout",
     "output_type": "stream",
     "text": [
      "Saving figure:\n",
      "/allen/programs/braintv/workgroups/nc-ophys/Farzaneh/ICA_crossTalk/session_864458864/neuropil_corrected_manual_864967098/neuropil_correction.pdf\n"
     ]
    },
    {
     "name": "stderr",
     "output_type": "stream",
     "text": [
      "/home/nataliao/miniconda3/envs/mesoscope/lib/python3.6/site-packages/ipykernel_launcher.py:44: RuntimeWarning: More than 20 figures have been opened. Figures created through the pyplot interface (`matplotlib.pyplot.figure`) are retained until explicitly closed and may consume too much memory. (To control this warning, see the rcParam `figure.max_open_warning`).\n"
     ]
    },
    {
     "name": "stdout",
     "output_type": "stream",
     "text": [
      "Saving figure:\n",
      "/allen/programs/braintv/workgroups/nc-ophys/Farzaneh/ICA_crossTalk/session_864458864/neuropil_corrected_manual_864967100/neuropil_correction.pdf\n",
      "\n",
      "\n",
      "Session 21/66: /allen/programs/braintv/workgroups/nc-ophys/Farzaneh/ICA_crossTalk/session_865024413/\n",
      "['865798235', '865798237', '865798249', '865798251', '865798239', '865798241', '865798245', '865798247']\n"
     ]
    },
    {
     "name": "stderr",
     "output_type": "stream",
     "text": [
      "/home/nataliao/miniconda3/envs/mesoscope/lib/python3.6/site-packages/ipykernel_launcher.py:44: RuntimeWarning: More than 20 figures have been opened. Figures created through the pyplot interface (`matplotlib.pyplot.figure`) are retained until explicitly closed and may consume too much memory. (To control this warning, see the rcParam `figure.max_open_warning`).\n"
     ]
    },
    {
     "name": "stdout",
     "output_type": "stream",
     "text": [
      "Saving figure:\n",
      "/allen/programs/braintv/workgroups/nc-ophys/Farzaneh/ICA_crossTalk/session_865024413/neuropil_corrected_manual_865798235/neuropil_correction.pdf\n"
     ]
    },
    {
     "name": "stderr",
     "output_type": "stream",
     "text": [
      "/home/nataliao/miniconda3/envs/mesoscope/lib/python3.6/site-packages/ipykernel_launcher.py:44: RuntimeWarning: More than 20 figures have been opened. Figures created through the pyplot interface (`matplotlib.pyplot.figure`) are retained until explicitly closed and may consume too much memory. (To control this warning, see the rcParam `figure.max_open_warning`).\n"
     ]
    },
    {
     "name": "stdout",
     "output_type": "stream",
     "text": [
      "Saving figure:\n",
      "/allen/programs/braintv/workgroups/nc-ophys/Farzaneh/ICA_crossTalk/session_865024413/neuropil_corrected_manual_865798237/neuropil_correction.pdf\n"
     ]
    },
    {
     "name": "stderr",
     "output_type": "stream",
     "text": [
      "/home/nataliao/miniconda3/envs/mesoscope/lib/python3.6/site-packages/ipykernel_launcher.py:44: RuntimeWarning: More than 20 figures have been opened. Figures created through the pyplot interface (`matplotlib.pyplot.figure`) are retained until explicitly closed and may consume too much memory. (To control this warning, see the rcParam `figure.max_open_warning`).\n"
     ]
    },
    {
     "name": "stdout",
     "output_type": "stream",
     "text": [
      "Saving figure:\n",
      "/allen/programs/braintv/workgroups/nc-ophys/Farzaneh/ICA_crossTalk/session_865024413/neuropil_corrected_manual_865798249/neuropil_correction.pdf\n"
     ]
    },
    {
     "name": "stderr",
     "output_type": "stream",
     "text": [
      "/home/nataliao/miniconda3/envs/mesoscope/lib/python3.6/site-packages/ipykernel_launcher.py:44: RuntimeWarning: More than 20 figures have been opened. Figures created through the pyplot interface (`matplotlib.pyplot.figure`) are retained until explicitly closed and may consume too much memory. (To control this warning, see the rcParam `figure.max_open_warning`).\n"
     ]
    },
    {
     "name": "stdout",
     "output_type": "stream",
     "text": [
      "Saving figure:\n",
      "/allen/programs/braintv/workgroups/nc-ophys/Farzaneh/ICA_crossTalk/session_865024413/neuropil_corrected_manual_865798251/neuropil_correction.pdf\n"
     ]
    },
    {
     "name": "stderr",
     "output_type": "stream",
     "text": [
      "/home/nataliao/miniconda3/envs/mesoscope/lib/python3.6/site-packages/ipykernel_launcher.py:44: RuntimeWarning: More than 20 figures have been opened. Figures created through the pyplot interface (`matplotlib.pyplot.figure`) are retained until explicitly closed and may consume too much memory. (To control this warning, see the rcParam `figure.max_open_warning`).\n"
     ]
    },
    {
     "name": "stdout",
     "output_type": "stream",
     "text": [
      "Saving figure:\n",
      "/allen/programs/braintv/workgroups/nc-ophys/Farzaneh/ICA_crossTalk/session_865024413/neuropil_corrected_manual_865798239/neuropil_correction.pdf\n"
     ]
    },
    {
     "name": "stderr",
     "output_type": "stream",
     "text": [
      "/home/nataliao/miniconda3/envs/mesoscope/lib/python3.6/site-packages/ipykernel_launcher.py:44: RuntimeWarning: More than 20 figures have been opened. Figures created through the pyplot interface (`matplotlib.pyplot.figure`) are retained until explicitly closed and may consume too much memory. (To control this warning, see the rcParam `figure.max_open_warning`).\n"
     ]
    },
    {
     "name": "stdout",
     "output_type": "stream",
     "text": [
      "Saving figure:\n",
      "/allen/programs/braintv/workgroups/nc-ophys/Farzaneh/ICA_crossTalk/session_865024413/neuropil_corrected_manual_865798241/neuropil_correction.pdf\n"
     ]
    },
    {
     "name": "stderr",
     "output_type": "stream",
     "text": [
      "/home/nataliao/miniconda3/envs/mesoscope/lib/python3.6/site-packages/ipykernel_launcher.py:44: RuntimeWarning: More than 20 figures have been opened. Figures created through the pyplot interface (`matplotlib.pyplot.figure`) are retained until explicitly closed and may consume too much memory. (To control this warning, see the rcParam `figure.max_open_warning`).\n"
     ]
    },
    {
     "name": "stdout",
     "output_type": "stream",
     "text": [
      "Saving figure:\n",
      "/allen/programs/braintv/workgroups/nc-ophys/Farzaneh/ICA_crossTalk/session_865024413/neuropil_corrected_manual_865798245/neuropil_correction.pdf\n"
     ]
    },
    {
     "name": "stderr",
     "output_type": "stream",
     "text": [
      "/home/nataliao/miniconda3/envs/mesoscope/lib/python3.6/site-packages/ipykernel_launcher.py:44: RuntimeWarning: More than 20 figures have been opened. Figures created through the pyplot interface (`matplotlib.pyplot.figure`) are retained until explicitly closed and may consume too much memory. (To control this warning, see the rcParam `figure.max_open_warning`).\n"
     ]
    },
    {
     "name": "stdout",
     "output_type": "stream",
     "text": [
      "Saving figure:\n",
      "/allen/programs/braintv/workgroups/nc-ophys/Farzaneh/ICA_crossTalk/session_865024413/neuropil_corrected_manual_865798247/neuropil_correction.pdf\n",
      "\n",
      "\n",
      "Session 22/66: /allen/programs/braintv/workgroups/nc-ophys/Farzaneh/ICA_crossTalk/session_865854762/\n",
      "['866518293', '866518296', '866518305', '866518307', '866518309', '866518311', '866518298', '866518303']\n"
     ]
    },
    {
     "name": "stderr",
     "output_type": "stream",
     "text": [
      "/home/nataliao/miniconda3/envs/mesoscope/lib/python3.6/site-packages/ipykernel_launcher.py:44: RuntimeWarning: More than 20 figures have been opened. Figures created through the pyplot interface (`matplotlib.pyplot.figure`) are retained until explicitly closed and may consume too much memory. (To control this warning, see the rcParam `figure.max_open_warning`).\n"
     ]
    },
    {
     "name": "stdout",
     "output_type": "stream",
     "text": [
      "Saving figure:\n",
      "/allen/programs/braintv/workgroups/nc-ophys/Farzaneh/ICA_crossTalk/session_865854762/neuropil_corrected_manual_866518293/neuropil_correction.pdf\n"
     ]
    },
    {
     "name": "stderr",
     "output_type": "stream",
     "text": [
      "/home/nataliao/miniconda3/envs/mesoscope/lib/python3.6/site-packages/ipykernel_launcher.py:44: RuntimeWarning: More than 20 figures have been opened. Figures created through the pyplot interface (`matplotlib.pyplot.figure`) are retained until explicitly closed and may consume too much memory. (To control this warning, see the rcParam `figure.max_open_warning`).\n"
     ]
    },
    {
     "name": "stdout",
     "output_type": "stream",
     "text": [
      "Saving figure:\n",
      "/allen/programs/braintv/workgroups/nc-ophys/Farzaneh/ICA_crossTalk/session_865854762/neuropil_corrected_manual_866518296/neuropil_correction.pdf\n"
     ]
    },
    {
     "name": "stderr",
     "output_type": "stream",
     "text": [
      "/home/nataliao/miniconda3/envs/mesoscope/lib/python3.6/site-packages/ipykernel_launcher.py:44: RuntimeWarning: More than 20 figures have been opened. Figures created through the pyplot interface (`matplotlib.pyplot.figure`) are retained until explicitly closed and may consume too much memory. (To control this warning, see the rcParam `figure.max_open_warning`).\n"
     ]
    },
    {
     "name": "stdout",
     "output_type": "stream",
     "text": [
      "Saving figure:\n",
      "/allen/programs/braintv/workgroups/nc-ophys/Farzaneh/ICA_crossTalk/session_865854762/neuropil_corrected_manual_866518305/neuropil_correction.pdf\n"
     ]
    },
    {
     "name": "stderr",
     "output_type": "stream",
     "text": [
      "/home/nataliao/miniconda3/envs/mesoscope/lib/python3.6/site-packages/ipykernel_launcher.py:44: RuntimeWarning: More than 20 figures have been opened. Figures created through the pyplot interface (`matplotlib.pyplot.figure`) are retained until explicitly closed and may consume too much memory. (To control this warning, see the rcParam `figure.max_open_warning`).\n"
     ]
    },
    {
     "name": "stdout",
     "output_type": "stream",
     "text": [
      "Saving figure:\n",
      "/allen/programs/braintv/workgroups/nc-ophys/Farzaneh/ICA_crossTalk/session_865854762/neuropil_corrected_manual_866518307/neuropil_correction.pdf\n"
     ]
    },
    {
     "name": "stderr",
     "output_type": "stream",
     "text": [
      "/home/nataliao/miniconda3/envs/mesoscope/lib/python3.6/site-packages/ipykernel_launcher.py:44: RuntimeWarning: More than 20 figures have been opened. Figures created through the pyplot interface (`matplotlib.pyplot.figure`) are retained until explicitly closed and may consume too much memory. (To control this warning, see the rcParam `figure.max_open_warning`).\n"
     ]
    },
    {
     "name": "stdout",
     "output_type": "stream",
     "text": [
      "Saving figure:\n",
      "/allen/programs/braintv/workgroups/nc-ophys/Farzaneh/ICA_crossTalk/session_865854762/neuropil_corrected_manual_866518309/neuropil_correction.pdf\n"
     ]
    },
    {
     "name": "stderr",
     "output_type": "stream",
     "text": [
      "/home/nataliao/miniconda3/envs/mesoscope/lib/python3.6/site-packages/ipykernel_launcher.py:44: RuntimeWarning: More than 20 figures have been opened. Figures created through the pyplot interface (`matplotlib.pyplot.figure`) are retained until explicitly closed and may consume too much memory. (To control this warning, see the rcParam `figure.max_open_warning`).\n"
     ]
    },
    {
     "name": "stdout",
     "output_type": "stream",
     "text": [
      "Saving figure:\n",
      "/allen/programs/braintv/workgroups/nc-ophys/Farzaneh/ICA_crossTalk/session_865854762/neuropil_corrected_manual_866518311/neuropil_correction.pdf\n"
     ]
    },
    {
     "name": "stderr",
     "output_type": "stream",
     "text": [
      "/home/nataliao/miniconda3/envs/mesoscope/lib/python3.6/site-packages/ipykernel_launcher.py:44: RuntimeWarning: More than 20 figures have been opened. Figures created through the pyplot interface (`matplotlib.pyplot.figure`) are retained until explicitly closed and may consume too much memory. (To control this warning, see the rcParam `figure.max_open_warning`).\n"
     ]
    },
    {
     "name": "stdout",
     "output_type": "stream",
     "text": [
      "Saving figure:\n",
      "/allen/programs/braintv/workgroups/nc-ophys/Farzaneh/ICA_crossTalk/session_865854762/neuropil_corrected_manual_866518298/neuropil_correction.pdf\n"
     ]
    },
    {
     "name": "stderr",
     "output_type": "stream",
     "text": [
      "/home/nataliao/miniconda3/envs/mesoscope/lib/python3.6/site-packages/ipykernel_launcher.py:44: RuntimeWarning: More than 20 figures have been opened. Figures created through the pyplot interface (`matplotlib.pyplot.figure`) are retained until explicitly closed and may consume too much memory. (To control this warning, see the rcParam `figure.max_open_warning`).\n"
     ]
    },
    {
     "name": "stdout",
     "output_type": "stream",
     "text": [
      "Saving figure:\n",
      "/allen/programs/braintv/workgroups/nc-ophys/Farzaneh/ICA_crossTalk/session_865854762/neuropil_corrected_manual_866518303/neuropil_correction.pdf\n",
      "\n",
      "\n",
      "Session 23/66: /allen/programs/braintv/workgroups/nc-ophys/Farzaneh/ICA_crossTalk/session_866197765/\n",
      "['866518314', '866518316', '866518318', '866518320', '866518326', '866518328', '866518322', '866518324']\n"
     ]
    },
    {
     "name": "stderr",
     "output_type": "stream",
     "text": [
      "/home/nataliao/miniconda3/envs/mesoscope/lib/python3.6/site-packages/ipykernel_launcher.py:44: RuntimeWarning: More than 20 figures have been opened. Figures created through the pyplot interface (`matplotlib.pyplot.figure`) are retained until explicitly closed and may consume too much memory. (To control this warning, see the rcParam `figure.max_open_warning`).\n"
     ]
    },
    {
     "name": "stdout",
     "output_type": "stream",
     "text": [
      "Saving figure:\n",
      "/allen/programs/braintv/workgroups/nc-ophys/Farzaneh/ICA_crossTalk/session_866197765/neuropil_corrected_manual_866518314/neuropil_correction.pdf\n"
     ]
    },
    {
     "name": "stderr",
     "output_type": "stream",
     "text": [
      "/home/nataliao/miniconda3/envs/mesoscope/lib/python3.6/site-packages/ipykernel_launcher.py:44: RuntimeWarning: More than 20 figures have been opened. Figures created through the pyplot interface (`matplotlib.pyplot.figure`) are retained until explicitly closed and may consume too much memory. (To control this warning, see the rcParam `figure.max_open_warning`).\n"
     ]
    },
    {
     "name": "stdout",
     "output_type": "stream",
     "text": [
      "Saving figure:\n",
      "/allen/programs/braintv/workgroups/nc-ophys/Farzaneh/ICA_crossTalk/session_866197765/neuropil_corrected_manual_866518316/neuropil_correction.pdf\n"
     ]
    },
    {
     "name": "stderr",
     "output_type": "stream",
     "text": [
      "/home/nataliao/miniconda3/envs/mesoscope/lib/python3.6/site-packages/ipykernel_launcher.py:44: RuntimeWarning: More than 20 figures have been opened. Figures created through the pyplot interface (`matplotlib.pyplot.figure`) are retained until explicitly closed and may consume too much memory. (To control this warning, see the rcParam `figure.max_open_warning`).\n"
     ]
    },
    {
     "name": "stdout",
     "output_type": "stream",
     "text": [
      "Saving figure:\n",
      "/allen/programs/braintv/workgroups/nc-ophys/Farzaneh/ICA_crossTalk/session_866197765/neuropil_corrected_manual_866518318/neuropil_correction.pdf\n"
     ]
    },
    {
     "name": "stderr",
     "output_type": "stream",
     "text": [
      "/home/nataliao/miniconda3/envs/mesoscope/lib/python3.6/site-packages/ipykernel_launcher.py:44: RuntimeWarning: More than 20 figures have been opened. Figures created through the pyplot interface (`matplotlib.pyplot.figure`) are retained until explicitly closed and may consume too much memory. (To control this warning, see the rcParam `figure.max_open_warning`).\n"
     ]
    },
    {
     "name": "stdout",
     "output_type": "stream",
     "text": [
      "Saving figure:\n",
      "/allen/programs/braintv/workgroups/nc-ophys/Farzaneh/ICA_crossTalk/session_866197765/neuropil_corrected_manual_866518320/neuropil_correction.pdf\n"
     ]
    },
    {
     "name": "stderr",
     "output_type": "stream",
     "text": [
      "/home/nataliao/miniconda3/envs/mesoscope/lib/python3.6/site-packages/ipykernel_launcher.py:44: RuntimeWarning: More than 20 figures have been opened. Figures created through the pyplot interface (`matplotlib.pyplot.figure`) are retained until explicitly closed and may consume too much memory. (To control this warning, see the rcParam `figure.max_open_warning`).\n"
     ]
    },
    {
     "name": "stdout",
     "output_type": "stream",
     "text": [
      "Saving figure:\n",
      "/allen/programs/braintv/workgroups/nc-ophys/Farzaneh/ICA_crossTalk/session_866197765/neuropil_corrected_manual_866518326/neuropil_correction.pdf\n"
     ]
    },
    {
     "name": "stderr",
     "output_type": "stream",
     "text": [
      "/home/nataliao/miniconda3/envs/mesoscope/lib/python3.6/site-packages/ipykernel_launcher.py:44: RuntimeWarning: More than 20 figures have been opened. Figures created through the pyplot interface (`matplotlib.pyplot.figure`) are retained until explicitly closed and may consume too much memory. (To control this warning, see the rcParam `figure.max_open_warning`).\n"
     ]
    },
    {
     "name": "stdout",
     "output_type": "stream",
     "text": [
      "Saving figure:\n",
      "/allen/programs/braintv/workgroups/nc-ophys/Farzaneh/ICA_crossTalk/session_866197765/neuropil_corrected_manual_866518328/neuropil_correction.pdf\n"
     ]
    },
    {
     "name": "stderr",
     "output_type": "stream",
     "text": [
      "/home/nataliao/miniconda3/envs/mesoscope/lib/python3.6/site-packages/ipykernel_launcher.py:44: RuntimeWarning: More than 20 figures have been opened. Figures created through the pyplot interface (`matplotlib.pyplot.figure`) are retained until explicitly closed and may consume too much memory. (To control this warning, see the rcParam `figure.max_open_warning`).\n"
     ]
    },
    {
     "name": "stdout",
     "output_type": "stream",
     "text": [
      "Saving figure:\n",
      "/allen/programs/braintv/workgroups/nc-ophys/Farzaneh/ICA_crossTalk/session_866197765/neuropil_corrected_manual_866518322/neuropil_correction.pdf\n"
     ]
    },
    {
     "name": "stderr",
     "output_type": "stream",
     "text": [
      "/home/nataliao/miniconda3/envs/mesoscope/lib/python3.6/site-packages/ipykernel_launcher.py:44: RuntimeWarning: More than 20 figures have been opened. Figures created through the pyplot interface (`matplotlib.pyplot.figure`) are retained until explicitly closed and may consume too much memory. (To control this warning, see the rcParam `figure.max_open_warning`).\n"
     ]
    },
    {
     "name": "stdout",
     "output_type": "stream",
     "text": [
      "Saving figure:\n",
      "/allen/programs/braintv/workgroups/nc-ophys/Farzaneh/ICA_crossTalk/session_866197765/neuropil_corrected_manual_866518324/neuropil_correction.pdf\n",
      "\n",
      "\n",
      "Session 24/66: /allen/programs/braintv/workgroups/nc-ophys/Farzaneh/ICA_crossTalk/session_867027875/\n",
      "['867410514', '867410516', '867410522', '867410524', '867410518', '867410520', '867410509', '867410512']\n"
     ]
    },
    {
     "name": "stderr",
     "output_type": "stream",
     "text": [
      "/home/nataliao/miniconda3/envs/mesoscope/lib/python3.6/site-packages/ipykernel_launcher.py:44: RuntimeWarning: More than 20 figures have been opened. Figures created through the pyplot interface (`matplotlib.pyplot.figure`) are retained until explicitly closed and may consume too much memory. (To control this warning, see the rcParam `figure.max_open_warning`).\n"
     ]
    },
    {
     "name": "stdout",
     "output_type": "stream",
     "text": [
      "Saving figure:\n",
      "/allen/programs/braintv/workgroups/nc-ophys/Farzaneh/ICA_crossTalk/session_867027875/neuropil_corrected_manual_867410514/neuropil_correction.pdf\n"
     ]
    },
    {
     "name": "stderr",
     "output_type": "stream",
     "text": [
      "/home/nataliao/miniconda3/envs/mesoscope/lib/python3.6/site-packages/ipykernel_launcher.py:44: RuntimeWarning: More than 20 figures have been opened. Figures created through the pyplot interface (`matplotlib.pyplot.figure`) are retained until explicitly closed and may consume too much memory. (To control this warning, see the rcParam `figure.max_open_warning`).\n"
     ]
    },
    {
     "name": "stdout",
     "output_type": "stream",
     "text": [
      "Saving figure:\n",
      "/allen/programs/braintv/workgroups/nc-ophys/Farzaneh/ICA_crossTalk/session_867027875/neuropil_corrected_manual_867410516/neuropil_correction.pdf\n"
     ]
    },
    {
     "name": "stderr",
     "output_type": "stream",
     "text": [
      "/home/nataliao/miniconda3/envs/mesoscope/lib/python3.6/site-packages/ipykernel_launcher.py:44: RuntimeWarning: More than 20 figures have been opened. Figures created through the pyplot interface (`matplotlib.pyplot.figure`) are retained until explicitly closed and may consume too much memory. (To control this warning, see the rcParam `figure.max_open_warning`).\n"
     ]
    },
    {
     "name": "stdout",
     "output_type": "stream",
     "text": [
      "Saving figure:\n",
      "/allen/programs/braintv/workgroups/nc-ophys/Farzaneh/ICA_crossTalk/session_867027875/neuropil_corrected_manual_867410522/neuropil_correction.pdf\n"
     ]
    },
    {
     "name": "stderr",
     "output_type": "stream",
     "text": [
      "/home/nataliao/miniconda3/envs/mesoscope/lib/python3.6/site-packages/ipykernel_launcher.py:44: RuntimeWarning: More than 20 figures have been opened. Figures created through the pyplot interface (`matplotlib.pyplot.figure`) are retained until explicitly closed and may consume too much memory. (To control this warning, see the rcParam `figure.max_open_warning`).\n"
     ]
    },
    {
     "name": "stdout",
     "output_type": "stream",
     "text": [
      "Saving figure:\n",
      "/allen/programs/braintv/workgroups/nc-ophys/Farzaneh/ICA_crossTalk/session_867027875/neuropil_corrected_manual_867410524/neuropil_correction.pdf\n"
     ]
    },
    {
     "name": "stderr",
     "output_type": "stream",
     "text": [
      "/home/nataliao/miniconda3/envs/mesoscope/lib/python3.6/site-packages/ipykernel_launcher.py:44: RuntimeWarning: More than 20 figures have been opened. Figures created through the pyplot interface (`matplotlib.pyplot.figure`) are retained until explicitly closed and may consume too much memory. (To control this warning, see the rcParam `figure.max_open_warning`).\n"
     ]
    },
    {
     "name": "stdout",
     "output_type": "stream",
     "text": [
      "Saving figure:\n",
      "/allen/programs/braintv/workgroups/nc-ophys/Farzaneh/ICA_crossTalk/session_867027875/neuropil_corrected_manual_867410518/neuropil_correction.pdf\n"
     ]
    },
    {
     "name": "stderr",
     "output_type": "stream",
     "text": [
      "/home/nataliao/miniconda3/envs/mesoscope/lib/python3.6/site-packages/ipykernel_launcher.py:44: RuntimeWarning: More than 20 figures have been opened. Figures created through the pyplot interface (`matplotlib.pyplot.figure`) are retained until explicitly closed and may consume too much memory. (To control this warning, see the rcParam `figure.max_open_warning`).\n"
     ]
    },
    {
     "name": "stdout",
     "output_type": "stream",
     "text": [
      "Saving figure:\n",
      "/allen/programs/braintv/workgroups/nc-ophys/Farzaneh/ICA_crossTalk/session_867027875/neuropil_corrected_manual_867410520/neuropil_correction.pdf\n"
     ]
    },
    {
     "name": "stderr",
     "output_type": "stream",
     "text": [
      "/home/nataliao/miniconda3/envs/mesoscope/lib/python3.6/site-packages/ipykernel_launcher.py:44: RuntimeWarning: More than 20 figures have been opened. Figures created through the pyplot interface (`matplotlib.pyplot.figure`) are retained until explicitly closed and may consume too much memory. (To control this warning, see the rcParam `figure.max_open_warning`).\n"
     ]
    },
    {
     "name": "stdout",
     "output_type": "stream",
     "text": [
      "Saving figure:\n",
      "/allen/programs/braintv/workgroups/nc-ophys/Farzaneh/ICA_crossTalk/session_867027875/neuropil_corrected_manual_867410509/neuropil_correction.pdf\n"
     ]
    },
    {
     "name": "stderr",
     "output_type": "stream",
     "text": [
      "/home/nataliao/miniconda3/envs/mesoscope/lib/python3.6/site-packages/ipykernel_launcher.py:44: RuntimeWarning: More than 20 figures have been opened. Figures created through the pyplot interface (`matplotlib.pyplot.figure`) are retained until explicitly closed and may consume too much memory. (To control this warning, see the rcParam `figure.max_open_warning`).\n"
     ]
    },
    {
     "name": "stdout",
     "output_type": "stream",
     "text": [
      "Saving figure:\n",
      "/allen/programs/braintv/workgroups/nc-ophys/Farzaneh/ICA_crossTalk/session_867027875/neuropil_corrected_manual_867410512/neuropil_correction.pdf\n",
      "\n",
      "\n",
      "Session 25/66: /allen/programs/braintv/workgroups/nc-ophys/Farzaneh/ICA_crossTalk/session_868688430/\n",
      "['868870094', '868870097', '868870100', '868870102', '868870104', '868870106', '868870085', '868870092']\n"
     ]
    },
    {
     "name": "stderr",
     "output_type": "stream",
     "text": [
      "/home/nataliao/miniconda3/envs/mesoscope/lib/python3.6/site-packages/ipykernel_launcher.py:44: RuntimeWarning: More than 20 figures have been opened. Figures created through the pyplot interface (`matplotlib.pyplot.figure`) are retained until explicitly closed and may consume too much memory. (To control this warning, see the rcParam `figure.max_open_warning`).\n"
     ]
    },
    {
     "name": "stdout",
     "output_type": "stream",
     "text": [
      "Saving figure:\n",
      "/allen/programs/braintv/workgroups/nc-ophys/Farzaneh/ICA_crossTalk/session_868688430/neuropil_corrected_manual_868870094/neuropil_correction.pdf\n"
     ]
    },
    {
     "name": "stderr",
     "output_type": "stream",
     "text": [
      "/home/nataliao/miniconda3/envs/mesoscope/lib/python3.6/site-packages/ipykernel_launcher.py:44: RuntimeWarning: More than 20 figures have been opened. Figures created through the pyplot interface (`matplotlib.pyplot.figure`) are retained until explicitly closed and may consume too much memory. (To control this warning, see the rcParam `figure.max_open_warning`).\n"
     ]
    },
    {
     "name": "stdout",
     "output_type": "stream",
     "text": [
      "Saving figure:\n",
      "/allen/programs/braintv/workgroups/nc-ophys/Farzaneh/ICA_crossTalk/session_868688430/neuropil_corrected_manual_868870097/neuropil_correction.pdf\n"
     ]
    },
    {
     "name": "stderr",
     "output_type": "stream",
     "text": [
      "/home/nataliao/miniconda3/envs/mesoscope/lib/python3.6/site-packages/ipykernel_launcher.py:44: RuntimeWarning: More than 20 figures have been opened. Figures created through the pyplot interface (`matplotlib.pyplot.figure`) are retained until explicitly closed and may consume too much memory. (To control this warning, see the rcParam `figure.max_open_warning`).\n"
     ]
    },
    {
     "name": "stdout",
     "output_type": "stream",
     "text": [
      "Saving figure:\n",
      "/allen/programs/braintv/workgroups/nc-ophys/Farzaneh/ICA_crossTalk/session_868688430/neuropil_corrected_manual_868870100/neuropil_correction.pdf\n"
     ]
    },
    {
     "name": "stderr",
     "output_type": "stream",
     "text": [
      "/home/nataliao/miniconda3/envs/mesoscope/lib/python3.6/site-packages/ipykernel_launcher.py:44: RuntimeWarning: More than 20 figures have been opened. Figures created through the pyplot interface (`matplotlib.pyplot.figure`) are retained until explicitly closed and may consume too much memory. (To control this warning, see the rcParam `figure.max_open_warning`).\n"
     ]
    },
    {
     "name": "stdout",
     "output_type": "stream",
     "text": [
      "Saving figure:\n",
      "/allen/programs/braintv/workgroups/nc-ophys/Farzaneh/ICA_crossTalk/session_868688430/neuropil_corrected_manual_868870102/neuropil_correction.pdf\n"
     ]
    },
    {
     "name": "stderr",
     "output_type": "stream",
     "text": [
      "/home/nataliao/miniconda3/envs/mesoscope/lib/python3.6/site-packages/ipykernel_launcher.py:44: RuntimeWarning: More than 20 figures have been opened. Figures created through the pyplot interface (`matplotlib.pyplot.figure`) are retained until explicitly closed and may consume too much memory. (To control this warning, see the rcParam `figure.max_open_warning`).\n"
     ]
    },
    {
     "name": "stdout",
     "output_type": "stream",
     "text": [
      "Saving figure:\n",
      "/allen/programs/braintv/workgroups/nc-ophys/Farzaneh/ICA_crossTalk/session_868688430/neuropil_corrected_manual_868870104/neuropil_correction.pdf\n"
     ]
    },
    {
     "name": "stderr",
     "output_type": "stream",
     "text": [
      "/home/nataliao/miniconda3/envs/mesoscope/lib/python3.6/site-packages/ipykernel_launcher.py:44: RuntimeWarning: More than 20 figures have been opened. Figures created through the pyplot interface (`matplotlib.pyplot.figure`) are retained until explicitly closed and may consume too much memory. (To control this warning, see the rcParam `figure.max_open_warning`).\n"
     ]
    },
    {
     "name": "stdout",
     "output_type": "stream",
     "text": [
      "Saving figure:\n",
      "/allen/programs/braintv/workgroups/nc-ophys/Farzaneh/ICA_crossTalk/session_868688430/neuropil_corrected_manual_868870106/neuropil_correction.pdf\n"
     ]
    },
    {
     "name": "stderr",
     "output_type": "stream",
     "text": [
      "/home/nataliao/miniconda3/envs/mesoscope/lib/python3.6/site-packages/ipykernel_launcher.py:44: RuntimeWarning: More than 20 figures have been opened. Figures created through the pyplot interface (`matplotlib.pyplot.figure`) are retained until explicitly closed and may consume too much memory. (To control this warning, see the rcParam `figure.max_open_warning`).\n"
     ]
    },
    {
     "name": "stdout",
     "output_type": "stream",
     "text": [
      "Saving figure:\n",
      "/allen/programs/braintv/workgroups/nc-ophys/Farzaneh/ICA_crossTalk/session_868688430/neuropil_corrected_manual_868870085/neuropil_correction.pdf\n"
     ]
    },
    {
     "name": "stderr",
     "output_type": "stream",
     "text": [
      "/home/nataliao/miniconda3/envs/mesoscope/lib/python3.6/site-packages/ipykernel_launcher.py:44: RuntimeWarning: More than 20 figures have been opened. Figures created through the pyplot interface (`matplotlib.pyplot.figure`) are retained until explicitly closed and may consume too much memory. (To control this warning, see the rcParam `figure.max_open_warning`).\n"
     ]
    },
    {
     "name": "stdout",
     "output_type": "stream",
     "text": [
      "Saving figure:\n",
      "/allen/programs/braintv/workgroups/nc-ophys/Farzaneh/ICA_crossTalk/session_868688430/neuropil_corrected_manual_868870092/neuropil_correction.pdf\n",
      "\n",
      "\n",
      "Session 26/66: /allen/programs/braintv/workgroups/nc-ophys/Farzaneh/ICA_crossTalk/session_869117575/\n",
      "['870142232', '870142236', '870142214', '870142218', '870142184', '870142189', '870142223', '870142227']\n"
     ]
    },
    {
     "name": "stderr",
     "output_type": "stream",
     "text": [
      "/home/nataliao/miniconda3/envs/mesoscope/lib/python3.6/site-packages/ipykernel_launcher.py:44: RuntimeWarning: More than 20 figures have been opened. Figures created through the pyplot interface (`matplotlib.pyplot.figure`) are retained until explicitly closed and may consume too much memory. (To control this warning, see the rcParam `figure.max_open_warning`).\n"
     ]
    },
    {
     "name": "stdout",
     "output_type": "stream",
     "text": [
      "Saving figure:\n",
      "/allen/programs/braintv/workgroups/nc-ophys/Farzaneh/ICA_crossTalk/session_869117575/neuropil_corrected_manual_870142232/neuropil_correction.pdf\n"
     ]
    },
    {
     "name": "stderr",
     "output_type": "stream",
     "text": [
      "/home/nataliao/miniconda3/envs/mesoscope/lib/python3.6/site-packages/ipykernel_launcher.py:44: RuntimeWarning: More than 20 figures have been opened. Figures created through the pyplot interface (`matplotlib.pyplot.figure`) are retained until explicitly closed and may consume too much memory. (To control this warning, see the rcParam `figure.max_open_warning`).\n"
     ]
    },
    {
     "name": "stdout",
     "output_type": "stream",
     "text": [
      "Saving figure:\n",
      "/allen/programs/braintv/workgroups/nc-ophys/Farzaneh/ICA_crossTalk/session_869117575/neuropil_corrected_manual_870142236/neuropil_correction.pdf\n"
     ]
    },
    {
     "name": "stderr",
     "output_type": "stream",
     "text": [
      "/home/nataliao/miniconda3/envs/mesoscope/lib/python3.6/site-packages/ipykernel_launcher.py:44: RuntimeWarning: More than 20 figures have been opened. Figures created through the pyplot interface (`matplotlib.pyplot.figure`) are retained until explicitly closed and may consume too much memory. (To control this warning, see the rcParam `figure.max_open_warning`).\n"
     ]
    },
    {
     "name": "stdout",
     "output_type": "stream",
     "text": [
      "Saving figure:\n",
      "/allen/programs/braintv/workgroups/nc-ophys/Farzaneh/ICA_crossTalk/session_869117575/neuropil_corrected_manual_870142214/neuropil_correction.pdf\n"
     ]
    },
    {
     "name": "stderr",
     "output_type": "stream",
     "text": [
      "/home/nataliao/miniconda3/envs/mesoscope/lib/python3.6/site-packages/ipykernel_launcher.py:44: RuntimeWarning: More than 20 figures have been opened. Figures created through the pyplot interface (`matplotlib.pyplot.figure`) are retained until explicitly closed and may consume too much memory. (To control this warning, see the rcParam `figure.max_open_warning`).\n"
     ]
    },
    {
     "name": "stdout",
     "output_type": "stream",
     "text": [
      "Saving figure:\n",
      "/allen/programs/braintv/workgroups/nc-ophys/Farzaneh/ICA_crossTalk/session_869117575/neuropil_corrected_manual_870142218/neuropil_correction.pdf\n"
     ]
    },
    {
     "name": "stderr",
     "output_type": "stream",
     "text": [
      "/home/nataliao/miniconda3/envs/mesoscope/lib/python3.6/site-packages/ipykernel_launcher.py:44: RuntimeWarning: More than 20 figures have been opened. Figures created through the pyplot interface (`matplotlib.pyplot.figure`) are retained until explicitly closed and may consume too much memory. (To control this warning, see the rcParam `figure.max_open_warning`).\n"
     ]
    },
    {
     "name": "stdout",
     "output_type": "stream",
     "text": [
      "Saving figure:\n",
      "/allen/programs/braintv/workgroups/nc-ophys/Farzaneh/ICA_crossTalk/session_869117575/neuropil_corrected_manual_870142184/neuropil_correction.pdf\n"
     ]
    },
    {
     "name": "stderr",
     "output_type": "stream",
     "text": [
      "/home/nataliao/miniconda3/envs/mesoscope/lib/python3.6/site-packages/ipykernel_launcher.py:44: RuntimeWarning: More than 20 figures have been opened. Figures created through the pyplot interface (`matplotlib.pyplot.figure`) are retained until explicitly closed and may consume too much memory. (To control this warning, see the rcParam `figure.max_open_warning`).\n"
     ]
    },
    {
     "name": "stdout",
     "output_type": "stream",
     "text": [
      "Saving figure:\n",
      "/allen/programs/braintv/workgroups/nc-ophys/Farzaneh/ICA_crossTalk/session_869117575/neuropil_corrected_manual_870142189/neuropil_correction.pdf\n"
     ]
    },
    {
     "name": "stderr",
     "output_type": "stream",
     "text": [
      "/home/nataliao/miniconda3/envs/mesoscope/lib/python3.6/site-packages/ipykernel_launcher.py:44: RuntimeWarning: More than 20 figures have been opened. Figures created through the pyplot interface (`matplotlib.pyplot.figure`) are retained until explicitly closed and may consume too much memory. (To control this warning, see the rcParam `figure.max_open_warning`).\n"
     ]
    },
    {
     "name": "stdout",
     "output_type": "stream",
     "text": [
      "Saving figure:\n",
      "/allen/programs/braintv/workgroups/nc-ophys/Farzaneh/ICA_crossTalk/session_869117575/neuropil_corrected_manual_870142223/neuropil_correction.pdf\n"
     ]
    },
    {
     "name": "stderr",
     "output_type": "stream",
     "text": [
      "/home/nataliao/miniconda3/envs/mesoscope/lib/python3.6/site-packages/ipykernel_launcher.py:44: RuntimeWarning: More than 20 figures have been opened. Figures created through the pyplot interface (`matplotlib.pyplot.figure`) are retained until explicitly closed and may consume too much memory. (To control this warning, see the rcParam `figure.max_open_warning`).\n"
     ]
    },
    {
     "name": "stdout",
     "output_type": "stream",
     "text": [
      "Saving figure:\n",
      "/allen/programs/braintv/workgroups/nc-ophys/Farzaneh/ICA_crossTalk/session_869117575/neuropil_corrected_manual_870142227/neuropil_correction.pdf\n",
      "\n",
      "\n",
      "Session 27/66: /allen/programs/braintv/workgroups/nc-ophys/Farzaneh/ICA_crossTalk/session_870352564/\n",
      "['875564408', '875564411', '875564370', '875564388', '875564398', '875564401', '875564417', '875564420']\n"
     ]
    },
    {
     "name": "stderr",
     "output_type": "stream",
     "text": [
      "/home/nataliao/miniconda3/envs/mesoscope/lib/python3.6/site-packages/ipykernel_launcher.py:44: RuntimeWarning: More than 20 figures have been opened. Figures created through the pyplot interface (`matplotlib.pyplot.figure`) are retained until explicitly closed and may consume too much memory. (To control this warning, see the rcParam `figure.max_open_warning`).\n"
     ]
    },
    {
     "name": "stdout",
     "output_type": "stream",
     "text": [
      "Saving figure:\n",
      "/allen/programs/braintv/workgroups/nc-ophys/Farzaneh/ICA_crossTalk/session_870352564/neuropil_corrected_manual_875564408/neuropil_correction.pdf\n"
     ]
    },
    {
     "name": "stderr",
     "output_type": "stream",
     "text": [
      "/home/nataliao/miniconda3/envs/mesoscope/lib/python3.6/site-packages/ipykernel_launcher.py:44: RuntimeWarning: More than 20 figures have been opened. Figures created through the pyplot interface (`matplotlib.pyplot.figure`) are retained until explicitly closed and may consume too much memory. (To control this warning, see the rcParam `figure.max_open_warning`).\n"
     ]
    },
    {
     "name": "stdout",
     "output_type": "stream",
     "text": [
      "Saving figure:\n",
      "/allen/programs/braintv/workgroups/nc-ophys/Farzaneh/ICA_crossTalk/session_870352564/neuropil_corrected_manual_875564411/neuropil_correction.pdf\n"
     ]
    },
    {
     "name": "stderr",
     "output_type": "stream",
     "text": [
      "/home/nataliao/miniconda3/envs/mesoscope/lib/python3.6/site-packages/ipykernel_launcher.py:44: RuntimeWarning: More than 20 figures have been opened. Figures created through the pyplot interface (`matplotlib.pyplot.figure`) are retained until explicitly closed and may consume too much memory. (To control this warning, see the rcParam `figure.max_open_warning`).\n"
     ]
    },
    {
     "name": "stdout",
     "output_type": "stream",
     "text": [
      "Saving figure:\n",
      "/allen/programs/braintv/workgroups/nc-ophys/Farzaneh/ICA_crossTalk/session_870352564/neuropil_corrected_manual_875564370/neuropil_correction.pdf\n"
     ]
    },
    {
     "name": "stderr",
     "output_type": "stream",
     "text": [
      "/home/nataliao/miniconda3/envs/mesoscope/lib/python3.6/site-packages/ipykernel_launcher.py:44: RuntimeWarning: More than 20 figures have been opened. Figures created through the pyplot interface (`matplotlib.pyplot.figure`) are retained until explicitly closed and may consume too much memory. (To control this warning, see the rcParam `figure.max_open_warning`).\n"
     ]
    },
    {
     "name": "stdout",
     "output_type": "stream",
     "text": [
      "Saving figure:\n",
      "/allen/programs/braintv/workgroups/nc-ophys/Farzaneh/ICA_crossTalk/session_870352564/neuropil_corrected_manual_875564388/neuropil_correction.pdf\n"
     ]
    },
    {
     "name": "stderr",
     "output_type": "stream",
     "text": [
      "/home/nataliao/miniconda3/envs/mesoscope/lib/python3.6/site-packages/ipykernel_launcher.py:44: RuntimeWarning: More than 20 figures have been opened. Figures created through the pyplot interface (`matplotlib.pyplot.figure`) are retained until explicitly closed and may consume too much memory. (To control this warning, see the rcParam `figure.max_open_warning`).\n"
     ]
    },
    {
     "name": "stdout",
     "output_type": "stream",
     "text": [
      "Saving figure:\n",
      "/allen/programs/braintv/workgroups/nc-ophys/Farzaneh/ICA_crossTalk/session_870352564/neuropil_corrected_manual_875564398/neuropil_correction.pdf\n"
     ]
    },
    {
     "name": "stderr",
     "output_type": "stream",
     "text": [
      "/home/nataliao/miniconda3/envs/mesoscope/lib/python3.6/site-packages/ipykernel_launcher.py:44: RuntimeWarning: More than 20 figures have been opened. Figures created through the pyplot interface (`matplotlib.pyplot.figure`) are retained until explicitly closed and may consume too much memory. (To control this warning, see the rcParam `figure.max_open_warning`).\n"
     ]
    },
    {
     "name": "stdout",
     "output_type": "stream",
     "text": [
      "Saving figure:\n",
      "/allen/programs/braintv/workgroups/nc-ophys/Farzaneh/ICA_crossTalk/session_870352564/neuropil_corrected_manual_875564401/neuropil_correction.pdf\n"
     ]
    },
    {
     "name": "stderr",
     "output_type": "stream",
     "text": [
      "/home/nataliao/miniconda3/envs/mesoscope/lib/python3.6/site-packages/ipykernel_launcher.py:44: RuntimeWarning: More than 20 figures have been opened. Figures created through the pyplot interface (`matplotlib.pyplot.figure`) are retained until explicitly closed and may consume too much memory. (To control this warning, see the rcParam `figure.max_open_warning`).\n"
     ]
    },
    {
     "name": "stdout",
     "output_type": "stream",
     "text": [
      "Saving figure:\n",
      "/allen/programs/braintv/workgroups/nc-ophys/Farzaneh/ICA_crossTalk/session_870352564/neuropil_corrected_manual_875564417/neuropil_correction.pdf\n"
     ]
    },
    {
     "name": "stderr",
     "output_type": "stream",
     "text": [
      "/home/nataliao/miniconda3/envs/mesoscope/lib/python3.6/site-packages/ipykernel_launcher.py:44: RuntimeWarning: More than 20 figures have been opened. Figures created through the pyplot interface (`matplotlib.pyplot.figure`) are retained until explicitly closed and may consume too much memory. (To control this warning, see the rcParam `figure.max_open_warning`).\n"
     ]
    },
    {
     "name": "stdout",
     "output_type": "stream",
     "text": [
      "Saving figure:\n",
      "/allen/programs/braintv/workgroups/nc-ophys/Farzaneh/ICA_crossTalk/session_870352564/neuropil_corrected_manual_875564420/neuropil_correction.pdf\n",
      "\n",
      "\n",
      "Session 28/66: /allen/programs/braintv/workgroups/nc-ophys/Farzaneh/ICA_crossTalk/session_870762788/\n",
      "['871196377', '871196379', '871196365', '871196367', '871196369', '871196371', '871196373', '871196375']\n"
     ]
    },
    {
     "name": "stderr",
     "output_type": "stream",
     "text": [
      "/home/nataliao/miniconda3/envs/mesoscope/lib/python3.6/site-packages/ipykernel_launcher.py:44: RuntimeWarning: More than 20 figures have been opened. Figures created through the pyplot interface (`matplotlib.pyplot.figure`) are retained until explicitly closed and may consume too much memory. (To control this warning, see the rcParam `figure.max_open_warning`).\n"
     ]
    },
    {
     "name": "stdout",
     "output_type": "stream",
     "text": [
      "Saving figure:\n",
      "/allen/programs/braintv/workgroups/nc-ophys/Farzaneh/ICA_crossTalk/session_870762788/neuropil_corrected_manual_871196377/neuropil_correction.pdf\n"
     ]
    },
    {
     "name": "stderr",
     "output_type": "stream",
     "text": [
      "/home/nataliao/miniconda3/envs/mesoscope/lib/python3.6/site-packages/ipykernel_launcher.py:44: RuntimeWarning: More than 20 figures have been opened. Figures created through the pyplot interface (`matplotlib.pyplot.figure`) are retained until explicitly closed and may consume too much memory. (To control this warning, see the rcParam `figure.max_open_warning`).\n"
     ]
    },
    {
     "name": "stdout",
     "output_type": "stream",
     "text": [
      "Saving figure:\n",
      "/allen/programs/braintv/workgroups/nc-ophys/Farzaneh/ICA_crossTalk/session_870762788/neuropil_corrected_manual_871196379/neuropil_correction.pdf\n"
     ]
    },
    {
     "name": "stderr",
     "output_type": "stream",
     "text": [
      "/home/nataliao/miniconda3/envs/mesoscope/lib/python3.6/site-packages/ipykernel_launcher.py:44: RuntimeWarning: More than 20 figures have been opened. Figures created through the pyplot interface (`matplotlib.pyplot.figure`) are retained until explicitly closed and may consume too much memory. (To control this warning, see the rcParam `figure.max_open_warning`).\n"
     ]
    },
    {
     "name": "stdout",
     "output_type": "stream",
     "text": [
      "Saving figure:\n",
      "/allen/programs/braintv/workgroups/nc-ophys/Farzaneh/ICA_crossTalk/session_870762788/neuropil_corrected_manual_871196365/neuropil_correction.pdf\n"
     ]
    },
    {
     "name": "stderr",
     "output_type": "stream",
     "text": [
      "/home/nataliao/miniconda3/envs/mesoscope/lib/python3.6/site-packages/ipykernel_launcher.py:44: RuntimeWarning: More than 20 figures have been opened. Figures created through the pyplot interface (`matplotlib.pyplot.figure`) are retained until explicitly closed and may consume too much memory. (To control this warning, see the rcParam `figure.max_open_warning`).\n"
     ]
    },
    {
     "name": "stdout",
     "output_type": "stream",
     "text": [
      "Saving figure:\n",
      "/allen/programs/braintv/workgroups/nc-ophys/Farzaneh/ICA_crossTalk/session_870762788/neuropil_corrected_manual_871196367/neuropil_correction.pdf\n"
     ]
    },
    {
     "name": "stderr",
     "output_type": "stream",
     "text": [
      "/home/nataliao/miniconda3/envs/mesoscope/lib/python3.6/site-packages/ipykernel_launcher.py:44: RuntimeWarning: More than 20 figures have been opened. Figures created through the pyplot interface (`matplotlib.pyplot.figure`) are retained until explicitly closed and may consume too much memory. (To control this warning, see the rcParam `figure.max_open_warning`).\n"
     ]
    },
    {
     "name": "stdout",
     "output_type": "stream",
     "text": [
      "Saving figure:\n",
      "/allen/programs/braintv/workgroups/nc-ophys/Farzaneh/ICA_crossTalk/session_870762788/neuropil_corrected_manual_871196369/neuropil_correction.pdf\n"
     ]
    },
    {
     "name": "stderr",
     "output_type": "stream",
     "text": [
      "/home/nataliao/miniconda3/envs/mesoscope/lib/python3.6/site-packages/ipykernel_launcher.py:44: RuntimeWarning: More than 20 figures have been opened. Figures created through the pyplot interface (`matplotlib.pyplot.figure`) are retained until explicitly closed and may consume too much memory. (To control this warning, see the rcParam `figure.max_open_warning`).\n"
     ]
    },
    {
     "name": "stdout",
     "output_type": "stream",
     "text": [
      "Saving figure:\n",
      "/allen/programs/braintv/workgroups/nc-ophys/Farzaneh/ICA_crossTalk/session_870762788/neuropil_corrected_manual_871196371/neuropil_correction.pdf\n"
     ]
    },
    {
     "name": "stderr",
     "output_type": "stream",
     "text": [
      "/home/nataliao/miniconda3/envs/mesoscope/lib/python3.6/site-packages/ipykernel_launcher.py:44: RuntimeWarning: More than 20 figures have been opened. Figures created through the pyplot interface (`matplotlib.pyplot.figure`) are retained until explicitly closed and may consume too much memory. (To control this warning, see the rcParam `figure.max_open_warning`).\n"
     ]
    },
    {
     "name": "stdout",
     "output_type": "stream",
     "text": [
      "Saving figure:\n",
      "/allen/programs/braintv/workgroups/nc-ophys/Farzaneh/ICA_crossTalk/session_870762788/neuropil_corrected_manual_871196373/neuropil_correction.pdf\n"
     ]
    },
    {
     "name": "stderr",
     "output_type": "stream",
     "text": [
      "/home/nataliao/miniconda3/envs/mesoscope/lib/python3.6/site-packages/ipykernel_launcher.py:44: RuntimeWarning: More than 20 figures have been opened. Figures created through the pyplot interface (`matplotlib.pyplot.figure`) are retained until explicitly closed and may consume too much memory. (To control this warning, see the rcParam `figure.max_open_warning`).\n"
     ]
    },
    {
     "name": "stdout",
     "output_type": "stream",
     "text": [
      "Saving figure:\n",
      "/allen/programs/braintv/workgroups/nc-ophys/Farzaneh/ICA_crossTalk/session_870762788/neuropil_corrected_manual_871196375/neuropil_correction.pdf\n",
      "\n",
      "\n",
      "Session 29/66: /allen/programs/braintv/workgroups/nc-ophys/Farzaneh/ICA_crossTalk/session_871526950/\n",
      "['872499144', '872499146', '872499150', '872499152', '872499154', '872499156', '872499158', '872499160']\n"
     ]
    },
    {
     "name": "stderr",
     "output_type": "stream",
     "text": [
      "/home/nataliao/miniconda3/envs/mesoscope/lib/python3.6/site-packages/ipykernel_launcher.py:44: RuntimeWarning: More than 20 figures have been opened. Figures created through the pyplot interface (`matplotlib.pyplot.figure`) are retained until explicitly closed and may consume too much memory. (To control this warning, see the rcParam `figure.max_open_warning`).\n"
     ]
    },
    {
     "name": "stdout",
     "output_type": "stream",
     "text": [
      "Saving figure:\n",
      "/allen/programs/braintv/workgroups/nc-ophys/Farzaneh/ICA_crossTalk/session_871526950/neuropil_corrected_manual_872499144/neuropil_correction.pdf\n"
     ]
    },
    {
     "name": "stderr",
     "output_type": "stream",
     "text": [
      "/home/nataliao/miniconda3/envs/mesoscope/lib/python3.6/site-packages/ipykernel_launcher.py:44: RuntimeWarning: More than 20 figures have been opened. Figures created through the pyplot interface (`matplotlib.pyplot.figure`) are retained until explicitly closed and may consume too much memory. (To control this warning, see the rcParam `figure.max_open_warning`).\n"
     ]
    },
    {
     "name": "stdout",
     "output_type": "stream",
     "text": [
      "Saving figure:\n",
      "/allen/programs/braintv/workgroups/nc-ophys/Farzaneh/ICA_crossTalk/session_871526950/neuropil_corrected_manual_872499146/neuropil_correction.pdf\n"
     ]
    },
    {
     "name": "stderr",
     "output_type": "stream",
     "text": [
      "/home/nataliao/miniconda3/envs/mesoscope/lib/python3.6/site-packages/ipykernel_launcher.py:44: RuntimeWarning: More than 20 figures have been opened. Figures created through the pyplot interface (`matplotlib.pyplot.figure`) are retained until explicitly closed and may consume too much memory. (To control this warning, see the rcParam `figure.max_open_warning`).\n"
     ]
    },
    {
     "name": "stdout",
     "output_type": "stream",
     "text": [
      "Saving figure:\n",
      "/allen/programs/braintv/workgroups/nc-ophys/Farzaneh/ICA_crossTalk/session_871526950/neuropil_corrected_manual_872499150/neuropil_correction.pdf\n"
     ]
    },
    {
     "name": "stderr",
     "output_type": "stream",
     "text": [
      "/home/nataliao/miniconda3/envs/mesoscope/lib/python3.6/site-packages/ipykernel_launcher.py:44: RuntimeWarning: More than 20 figures have been opened. Figures created through the pyplot interface (`matplotlib.pyplot.figure`) are retained until explicitly closed and may consume too much memory. (To control this warning, see the rcParam `figure.max_open_warning`).\n"
     ]
    },
    {
     "name": "stdout",
     "output_type": "stream",
     "text": [
      "Saving figure:\n",
      "/allen/programs/braintv/workgroups/nc-ophys/Farzaneh/ICA_crossTalk/session_871526950/neuropil_corrected_manual_872499152/neuropil_correction.pdf\n"
     ]
    },
    {
     "name": "stderr",
     "output_type": "stream",
     "text": [
      "/home/nataliao/miniconda3/envs/mesoscope/lib/python3.6/site-packages/ipykernel_launcher.py:44: RuntimeWarning: More than 20 figures have been opened. Figures created through the pyplot interface (`matplotlib.pyplot.figure`) are retained until explicitly closed and may consume too much memory. (To control this warning, see the rcParam `figure.max_open_warning`).\n"
     ]
    },
    {
     "name": "stdout",
     "output_type": "stream",
     "text": [
      "Saving figure:\n",
      "/allen/programs/braintv/workgroups/nc-ophys/Farzaneh/ICA_crossTalk/session_871526950/neuropil_corrected_manual_872499154/neuropil_correction.pdf\n"
     ]
    },
    {
     "name": "stderr",
     "output_type": "stream",
     "text": [
      "/home/nataliao/miniconda3/envs/mesoscope/lib/python3.6/site-packages/ipykernel_launcher.py:44: RuntimeWarning: More than 20 figures have been opened. Figures created through the pyplot interface (`matplotlib.pyplot.figure`) are retained until explicitly closed and may consume too much memory. (To control this warning, see the rcParam `figure.max_open_warning`).\n"
     ]
    },
    {
     "name": "stdout",
     "output_type": "stream",
     "text": [
      "Saving figure:\n",
      "/allen/programs/braintv/workgroups/nc-ophys/Farzaneh/ICA_crossTalk/session_871526950/neuropil_corrected_manual_872499156/neuropil_correction.pdf\n"
     ]
    },
    {
     "name": "stderr",
     "output_type": "stream",
     "text": [
      "/home/nataliao/miniconda3/envs/mesoscope/lib/python3.6/site-packages/ipykernel_launcher.py:44: RuntimeWarning: More than 20 figures have been opened. Figures created through the pyplot interface (`matplotlib.pyplot.figure`) are retained until explicitly closed and may consume too much memory. (To control this warning, see the rcParam `figure.max_open_warning`).\n"
     ]
    },
    {
     "name": "stdout",
     "output_type": "stream",
     "text": [
      "Saving figure:\n",
      "/allen/programs/braintv/workgroups/nc-ophys/Farzaneh/ICA_crossTalk/session_871526950/neuropil_corrected_manual_872499158/neuropil_correction.pdf\n"
     ]
    },
    {
     "name": "stderr",
     "output_type": "stream",
     "text": [
      "/home/nataliao/miniconda3/envs/mesoscope/lib/python3.6/site-packages/ipykernel_launcher.py:44: RuntimeWarning: More than 20 figures have been opened. Figures created through the pyplot interface (`matplotlib.pyplot.figure`) are retained until explicitly closed and may consume too much memory. (To control this warning, see the rcParam `figure.max_open_warning`).\n"
     ]
    },
    {
     "name": "stdout",
     "output_type": "stream",
     "text": [
      "Saving figure:\n",
      "/allen/programs/braintv/workgroups/nc-ophys/Farzaneh/ICA_crossTalk/session_871526950/neuropil_corrected_manual_872499160/neuropil_correction.pdf\n",
      "\n",
      "\n",
      "Session 30/66: /allen/programs/braintv/workgroups/nc-ophys/Farzaneh/ICA_crossTalk/session_872592724/\n",
      "['873970525', '873970527', '873970529', '873970531', '873970533', '873970535', '873970521', '873970523']\n"
     ]
    },
    {
     "name": "stderr",
     "output_type": "stream",
     "text": [
      "/home/nataliao/miniconda3/envs/mesoscope/lib/python3.6/site-packages/ipykernel_launcher.py:44: RuntimeWarning: More than 20 figures have been opened. Figures created through the pyplot interface (`matplotlib.pyplot.figure`) are retained until explicitly closed and may consume too much memory. (To control this warning, see the rcParam `figure.max_open_warning`).\n"
     ]
    },
    {
     "name": "stdout",
     "output_type": "stream",
     "text": [
      "Saving figure:\n",
      "/allen/programs/braintv/workgroups/nc-ophys/Farzaneh/ICA_crossTalk/session_872592724/neuropil_corrected_manual_873970525/neuropil_correction.pdf\n"
     ]
    },
    {
     "name": "stderr",
     "output_type": "stream",
     "text": [
      "/home/nataliao/miniconda3/envs/mesoscope/lib/python3.6/site-packages/ipykernel_launcher.py:44: RuntimeWarning: More than 20 figures have been opened. Figures created through the pyplot interface (`matplotlib.pyplot.figure`) are retained until explicitly closed and may consume too much memory. (To control this warning, see the rcParam `figure.max_open_warning`).\n"
     ]
    },
    {
     "name": "stdout",
     "output_type": "stream",
     "text": [
      "Saving figure:\n",
      "/allen/programs/braintv/workgroups/nc-ophys/Farzaneh/ICA_crossTalk/session_872592724/neuropil_corrected_manual_873970527/neuropil_correction.pdf\n"
     ]
    },
    {
     "name": "stderr",
     "output_type": "stream",
     "text": [
      "/home/nataliao/miniconda3/envs/mesoscope/lib/python3.6/site-packages/ipykernel_launcher.py:44: RuntimeWarning: More than 20 figures have been opened. Figures created through the pyplot interface (`matplotlib.pyplot.figure`) are retained until explicitly closed and may consume too much memory. (To control this warning, see the rcParam `figure.max_open_warning`).\n"
     ]
    },
    {
     "name": "stdout",
     "output_type": "stream",
     "text": [
      "Saving figure:\n",
      "/allen/programs/braintv/workgroups/nc-ophys/Farzaneh/ICA_crossTalk/session_872592724/neuropil_corrected_manual_873970529/neuropil_correction.pdf\n"
     ]
    },
    {
     "name": "stderr",
     "output_type": "stream",
     "text": [
      "/home/nataliao/miniconda3/envs/mesoscope/lib/python3.6/site-packages/ipykernel_launcher.py:44: RuntimeWarning: More than 20 figures have been opened. Figures created through the pyplot interface (`matplotlib.pyplot.figure`) are retained until explicitly closed and may consume too much memory. (To control this warning, see the rcParam `figure.max_open_warning`).\n"
     ]
    },
    {
     "name": "stdout",
     "output_type": "stream",
     "text": [
      "Saving figure:\n",
      "/allen/programs/braintv/workgroups/nc-ophys/Farzaneh/ICA_crossTalk/session_872592724/neuropil_corrected_manual_873970531/neuropil_correction.pdf\n"
     ]
    },
    {
     "name": "stderr",
     "output_type": "stream",
     "text": [
      "/home/nataliao/miniconda3/envs/mesoscope/lib/python3.6/site-packages/ipykernel_launcher.py:44: RuntimeWarning: More than 20 figures have been opened. Figures created through the pyplot interface (`matplotlib.pyplot.figure`) are retained until explicitly closed and may consume too much memory. (To control this warning, see the rcParam `figure.max_open_warning`).\n"
     ]
    },
    {
     "name": "stdout",
     "output_type": "stream",
     "text": [
      "Saving figure:\n",
      "/allen/programs/braintv/workgroups/nc-ophys/Farzaneh/ICA_crossTalk/session_872592724/neuropil_corrected_manual_873970533/neuropil_correction.pdf\n"
     ]
    },
    {
     "name": "stderr",
     "output_type": "stream",
     "text": [
      "/home/nataliao/miniconda3/envs/mesoscope/lib/python3.6/site-packages/ipykernel_launcher.py:44: RuntimeWarning: More than 20 figures have been opened. Figures created through the pyplot interface (`matplotlib.pyplot.figure`) are retained until explicitly closed and may consume too much memory. (To control this warning, see the rcParam `figure.max_open_warning`).\n"
     ]
    },
    {
     "name": "stdout",
     "output_type": "stream",
     "text": [
      "Saving figure:\n",
      "/allen/programs/braintv/workgroups/nc-ophys/Farzaneh/ICA_crossTalk/session_872592724/neuropil_corrected_manual_873970535/neuropil_correction.pdf\n"
     ]
    },
    {
     "name": "stderr",
     "output_type": "stream",
     "text": [
      "/home/nataliao/miniconda3/envs/mesoscope/lib/python3.6/site-packages/ipykernel_launcher.py:44: RuntimeWarning: More than 20 figures have been opened. Figures created through the pyplot interface (`matplotlib.pyplot.figure`) are retained until explicitly closed and may consume too much memory. (To control this warning, see the rcParam `figure.max_open_warning`).\n"
     ]
    },
    {
     "name": "stdout",
     "output_type": "stream",
     "text": [
      "Saving figure:\n",
      "/allen/programs/braintv/workgroups/nc-ophys/Farzaneh/ICA_crossTalk/session_872592724/neuropil_corrected_manual_873970521/neuropil_correction.pdf\n"
     ]
    },
    {
     "name": "stderr",
     "output_type": "stream",
     "text": [
      "/home/nataliao/miniconda3/envs/mesoscope/lib/python3.6/site-packages/ipykernel_launcher.py:44: RuntimeWarning: More than 20 figures have been opened. Figures created through the pyplot interface (`matplotlib.pyplot.figure`) are retained until explicitly closed and may consume too much memory. (To control this warning, see the rcParam `figure.max_open_warning`).\n"
     ]
    },
    {
     "name": "stdout",
     "output_type": "stream",
     "text": [
      "Saving figure:\n",
      "/allen/programs/braintv/workgroups/nc-ophys/Farzaneh/ICA_crossTalk/session_872592724/neuropil_corrected_manual_873970523/neuropil_correction.pdf\n",
      "\n",
      "\n",
      "Session 31/66: /allen/programs/braintv/workgroups/nc-ophys/Farzaneh/ICA_crossTalk/session_873720614/\n",
      "['873963893', '873963895', '873963889', '873963891', '873963897', '873963899', '873963903', '873963905']\n"
     ]
    },
    {
     "name": "stderr",
     "output_type": "stream",
     "text": [
      "/home/nataliao/miniconda3/envs/mesoscope/lib/python3.6/site-packages/ipykernel_launcher.py:44: RuntimeWarning: More than 20 figures have been opened. Figures created through the pyplot interface (`matplotlib.pyplot.figure`) are retained until explicitly closed and may consume too much memory. (To control this warning, see the rcParam `figure.max_open_warning`).\n"
     ]
    },
    {
     "name": "stdout",
     "output_type": "stream",
     "text": [
      "Saving figure:\n",
      "/allen/programs/braintv/workgroups/nc-ophys/Farzaneh/ICA_crossTalk/session_873720614/neuropil_corrected_manual_873963893/neuropil_correction.pdf\n"
     ]
    },
    {
     "name": "stderr",
     "output_type": "stream",
     "text": [
      "/home/nataliao/miniconda3/envs/mesoscope/lib/python3.6/site-packages/ipykernel_launcher.py:44: RuntimeWarning: More than 20 figures have been opened. Figures created through the pyplot interface (`matplotlib.pyplot.figure`) are retained until explicitly closed and may consume too much memory. (To control this warning, see the rcParam `figure.max_open_warning`).\n"
     ]
    },
    {
     "name": "stdout",
     "output_type": "stream",
     "text": [
      "Saving figure:\n",
      "/allen/programs/braintv/workgroups/nc-ophys/Farzaneh/ICA_crossTalk/session_873720614/neuropil_corrected_manual_873963895/neuropil_correction.pdf\n"
     ]
    },
    {
     "name": "stderr",
     "output_type": "stream",
     "text": [
      "/home/nataliao/miniconda3/envs/mesoscope/lib/python3.6/site-packages/ipykernel_launcher.py:44: RuntimeWarning: More than 20 figures have been opened. Figures created through the pyplot interface (`matplotlib.pyplot.figure`) are retained until explicitly closed and may consume too much memory. (To control this warning, see the rcParam `figure.max_open_warning`).\n"
     ]
    },
    {
     "name": "stdout",
     "output_type": "stream",
     "text": [
      "Saving figure:\n",
      "/allen/programs/braintv/workgroups/nc-ophys/Farzaneh/ICA_crossTalk/session_873720614/neuropil_corrected_manual_873963889/neuropil_correction.pdf\n"
     ]
    },
    {
     "name": "stderr",
     "output_type": "stream",
     "text": [
      "/home/nataliao/miniconda3/envs/mesoscope/lib/python3.6/site-packages/ipykernel_launcher.py:44: RuntimeWarning: More than 20 figures have been opened. Figures created through the pyplot interface (`matplotlib.pyplot.figure`) are retained until explicitly closed and may consume too much memory. (To control this warning, see the rcParam `figure.max_open_warning`).\n"
     ]
    },
    {
     "name": "stdout",
     "output_type": "stream",
     "text": [
      "Saving figure:\n",
      "/allen/programs/braintv/workgroups/nc-ophys/Farzaneh/ICA_crossTalk/session_873720614/neuropil_corrected_manual_873963891/neuropil_correction.pdf\n"
     ]
    },
    {
     "name": "stderr",
     "output_type": "stream",
     "text": [
      "/home/nataliao/miniconda3/envs/mesoscope/lib/python3.6/site-packages/ipykernel_launcher.py:44: RuntimeWarning: More than 20 figures have been opened. Figures created through the pyplot interface (`matplotlib.pyplot.figure`) are retained until explicitly closed and may consume too much memory. (To control this warning, see the rcParam `figure.max_open_warning`).\n"
     ]
    },
    {
     "name": "stdout",
     "output_type": "stream",
     "text": [
      "Saving figure:\n",
      "/allen/programs/braintv/workgroups/nc-ophys/Farzaneh/ICA_crossTalk/session_873720614/neuropil_corrected_manual_873963897/neuropil_correction.pdf\n"
     ]
    },
    {
     "name": "stderr",
     "output_type": "stream",
     "text": [
      "/home/nataliao/miniconda3/envs/mesoscope/lib/python3.6/site-packages/ipykernel_launcher.py:44: RuntimeWarning: More than 20 figures have been opened. Figures created through the pyplot interface (`matplotlib.pyplot.figure`) are retained until explicitly closed and may consume too much memory. (To control this warning, see the rcParam `figure.max_open_warning`).\n"
     ]
    },
    {
     "name": "stdout",
     "output_type": "stream",
     "text": [
      "Saving figure:\n",
      "/allen/programs/braintv/workgroups/nc-ophys/Farzaneh/ICA_crossTalk/session_873720614/neuropil_corrected_manual_873963899/neuropil_correction.pdf\n"
     ]
    },
    {
     "name": "stderr",
     "output_type": "stream",
     "text": [
      "/home/nataliao/miniconda3/envs/mesoscope/lib/python3.6/site-packages/ipykernel_launcher.py:44: RuntimeWarning: More than 20 figures have been opened. Figures created through the pyplot interface (`matplotlib.pyplot.figure`) are retained until explicitly closed and may consume too much memory. (To control this warning, see the rcParam `figure.max_open_warning`).\n"
     ]
    },
    {
     "name": "stdout",
     "output_type": "stream",
     "text": [
      "Saving figure:\n",
      "/allen/programs/braintv/workgroups/nc-ophys/Farzaneh/ICA_crossTalk/session_873720614/neuropil_corrected_manual_873963903/neuropil_correction.pdf\n"
     ]
    },
    {
     "name": "stderr",
     "output_type": "stream",
     "text": [
      "/home/nataliao/miniconda3/envs/mesoscope/lib/python3.6/site-packages/ipykernel_launcher.py:44: RuntimeWarning: More than 20 figures have been opened. Figures created through the pyplot interface (`matplotlib.pyplot.figure`) are retained until explicitly closed and may consume too much memory. (To control this warning, see the rcParam `figure.max_open_warning`).\n"
     ]
    },
    {
     "name": "stdout",
     "output_type": "stream",
     "text": [
      "Saving figure:\n",
      "/allen/programs/braintv/workgroups/nc-ophys/Farzaneh/ICA_crossTalk/session_873720614/neuropil_corrected_manual_873963905/neuropil_correction.pdf\n",
      "\n",
      "\n",
      "Session 32/66: /allen/programs/braintv/workgroups/nc-ophys/Farzaneh/ICA_crossTalk/session_874070091/\n",
      "['875587431', '875587439', '875587417', '875587425', '875587459', '875587466', '875587447', '875587453']\n"
     ]
    },
    {
     "name": "stderr",
     "output_type": "stream",
     "text": [
      "/home/nataliao/miniconda3/envs/mesoscope/lib/python3.6/site-packages/ipykernel_launcher.py:44: RuntimeWarning: More than 20 figures have been opened. Figures created through the pyplot interface (`matplotlib.pyplot.figure`) are retained until explicitly closed and may consume too much memory. (To control this warning, see the rcParam `figure.max_open_warning`).\n"
     ]
    },
    {
     "name": "stdout",
     "output_type": "stream",
     "text": [
      "Saving figure:\n",
      "/allen/programs/braintv/workgroups/nc-ophys/Farzaneh/ICA_crossTalk/session_874070091/neuropil_corrected_manual_875587431/neuropil_correction.pdf\n"
     ]
    },
    {
     "name": "stderr",
     "output_type": "stream",
     "text": [
      "/home/nataliao/miniconda3/envs/mesoscope/lib/python3.6/site-packages/ipykernel_launcher.py:44: RuntimeWarning: More than 20 figures have been opened. Figures created through the pyplot interface (`matplotlib.pyplot.figure`) are retained until explicitly closed and may consume too much memory. (To control this warning, see the rcParam `figure.max_open_warning`).\n"
     ]
    },
    {
     "name": "stdout",
     "output_type": "stream",
     "text": [
      "Saving figure:\n",
      "/allen/programs/braintv/workgroups/nc-ophys/Farzaneh/ICA_crossTalk/session_874070091/neuropil_corrected_manual_875587439/neuropil_correction.pdf\n"
     ]
    },
    {
     "name": "stderr",
     "output_type": "stream",
     "text": [
      "/home/nataliao/miniconda3/envs/mesoscope/lib/python3.6/site-packages/ipykernel_launcher.py:44: RuntimeWarning: More than 20 figures have been opened. Figures created through the pyplot interface (`matplotlib.pyplot.figure`) are retained until explicitly closed and may consume too much memory. (To control this warning, see the rcParam `figure.max_open_warning`).\n"
     ]
    },
    {
     "name": "stdout",
     "output_type": "stream",
     "text": [
      "Saving figure:\n",
      "/allen/programs/braintv/workgroups/nc-ophys/Farzaneh/ICA_crossTalk/session_874070091/neuropil_corrected_manual_875587417/neuropil_correction.pdf\n"
     ]
    },
    {
     "name": "stderr",
     "output_type": "stream",
     "text": [
      "/home/nataliao/miniconda3/envs/mesoscope/lib/python3.6/site-packages/ipykernel_launcher.py:44: RuntimeWarning: More than 20 figures have been opened. Figures created through the pyplot interface (`matplotlib.pyplot.figure`) are retained until explicitly closed and may consume too much memory. (To control this warning, see the rcParam `figure.max_open_warning`).\n"
     ]
    },
    {
     "name": "stdout",
     "output_type": "stream",
     "text": [
      "Saving figure:\n",
      "/allen/programs/braintv/workgroups/nc-ophys/Farzaneh/ICA_crossTalk/session_874070091/neuropil_corrected_manual_875587425/neuropil_correction.pdf\n"
     ]
    },
    {
     "name": "stderr",
     "output_type": "stream",
     "text": [
      "/home/nataliao/miniconda3/envs/mesoscope/lib/python3.6/site-packages/ipykernel_launcher.py:44: RuntimeWarning: More than 20 figures have been opened. Figures created through the pyplot interface (`matplotlib.pyplot.figure`) are retained until explicitly closed and may consume too much memory. (To control this warning, see the rcParam `figure.max_open_warning`).\n"
     ]
    },
    {
     "name": "stdout",
     "output_type": "stream",
     "text": [
      "Saving figure:\n",
      "/allen/programs/braintv/workgroups/nc-ophys/Farzaneh/ICA_crossTalk/session_874070091/neuropil_corrected_manual_875587459/neuropil_correction.pdf\n"
     ]
    },
    {
     "name": "stderr",
     "output_type": "stream",
     "text": [
      "/home/nataliao/miniconda3/envs/mesoscope/lib/python3.6/site-packages/ipykernel_launcher.py:44: RuntimeWarning: More than 20 figures have been opened. Figures created through the pyplot interface (`matplotlib.pyplot.figure`) are retained until explicitly closed and may consume too much memory. (To control this warning, see the rcParam `figure.max_open_warning`).\n"
     ]
    },
    {
     "name": "stdout",
     "output_type": "stream",
     "text": [
      "Saving figure:\n",
      "/allen/programs/braintv/workgroups/nc-ophys/Farzaneh/ICA_crossTalk/session_874070091/neuropil_corrected_manual_875587466/neuropil_correction.pdf\n"
     ]
    },
    {
     "name": "stderr",
     "output_type": "stream",
     "text": [
      "/home/nataliao/miniconda3/envs/mesoscope/lib/python3.6/site-packages/ipykernel_launcher.py:44: RuntimeWarning: More than 20 figures have been opened. Figures created through the pyplot interface (`matplotlib.pyplot.figure`) are retained until explicitly closed and may consume too much memory. (To control this warning, see the rcParam `figure.max_open_warning`).\n"
     ]
    },
    {
     "name": "stdout",
     "output_type": "stream",
     "text": [
      "Saving figure:\n",
      "/allen/programs/braintv/workgroups/nc-ophys/Farzaneh/ICA_crossTalk/session_874070091/neuropil_corrected_manual_875587447/neuropil_correction.pdf\n"
     ]
    },
    {
     "name": "stderr",
     "output_type": "stream",
     "text": [
      "/home/nataliao/miniconda3/envs/mesoscope/lib/python3.6/site-packages/ipykernel_launcher.py:44: RuntimeWarning: More than 20 figures have been opened. Figures created through the pyplot interface (`matplotlib.pyplot.figure`) are retained until explicitly closed and may consume too much memory. (To control this warning, see the rcParam `figure.max_open_warning`).\n"
     ]
    },
    {
     "name": "stdout",
     "output_type": "stream",
     "text": [
      "Saving figure:\n",
      "/allen/programs/braintv/workgroups/nc-ophys/Farzaneh/ICA_crossTalk/session_874070091/neuropil_corrected_manual_875587453/neuropil_correction.pdf\n",
      "\n",
      "\n",
      "Session 33/66: /allen/programs/braintv/workgroups/nc-ophys/Farzaneh/ICA_crossTalk/session_874616920/\n",
      "['875587493', '875587495', '875587502', '875587505', '875587489', '875587491', '875587497', '875587499']\n"
     ]
    },
    {
     "name": "stderr",
     "output_type": "stream",
     "text": [
      "/home/nataliao/miniconda3/envs/mesoscope/lib/python3.6/site-packages/ipykernel_launcher.py:44: RuntimeWarning: More than 20 figures have been opened. Figures created through the pyplot interface (`matplotlib.pyplot.figure`) are retained until explicitly closed and may consume too much memory. (To control this warning, see the rcParam `figure.max_open_warning`).\n"
     ]
    },
    {
     "name": "stdout",
     "output_type": "stream",
     "text": [
      "Saving figure:\n",
      "/allen/programs/braintv/workgroups/nc-ophys/Farzaneh/ICA_crossTalk/session_874616920/neuropil_corrected_manual_875587493/neuropil_correction.pdf\n"
     ]
    },
    {
     "name": "stderr",
     "output_type": "stream",
     "text": [
      "/home/nataliao/miniconda3/envs/mesoscope/lib/python3.6/site-packages/ipykernel_launcher.py:44: RuntimeWarning: More than 20 figures have been opened. Figures created through the pyplot interface (`matplotlib.pyplot.figure`) are retained until explicitly closed and may consume too much memory. (To control this warning, see the rcParam `figure.max_open_warning`).\n"
     ]
    },
    {
     "name": "stdout",
     "output_type": "stream",
     "text": [
      "Saving figure:\n",
      "/allen/programs/braintv/workgroups/nc-ophys/Farzaneh/ICA_crossTalk/session_874616920/neuropil_corrected_manual_875587495/neuropil_correction.pdf\n"
     ]
    },
    {
     "name": "stderr",
     "output_type": "stream",
     "text": [
      "/home/nataliao/miniconda3/envs/mesoscope/lib/python3.6/site-packages/ipykernel_launcher.py:44: RuntimeWarning: More than 20 figures have been opened. Figures created through the pyplot interface (`matplotlib.pyplot.figure`) are retained until explicitly closed and may consume too much memory. (To control this warning, see the rcParam `figure.max_open_warning`).\n"
     ]
    },
    {
     "name": "stdout",
     "output_type": "stream",
     "text": [
      "Saving figure:\n",
      "/allen/programs/braintv/workgroups/nc-ophys/Farzaneh/ICA_crossTalk/session_874616920/neuropil_corrected_manual_875587502/neuropil_correction.pdf\n"
     ]
    },
    {
     "name": "stderr",
     "output_type": "stream",
     "text": [
      "/home/nataliao/miniconda3/envs/mesoscope/lib/python3.6/site-packages/ipykernel_launcher.py:44: RuntimeWarning: More than 20 figures have been opened. Figures created through the pyplot interface (`matplotlib.pyplot.figure`) are retained until explicitly closed and may consume too much memory. (To control this warning, see the rcParam `figure.max_open_warning`).\n"
     ]
    },
    {
     "name": "stdout",
     "output_type": "stream",
     "text": [
      "Saving figure:\n",
      "/allen/programs/braintv/workgroups/nc-ophys/Farzaneh/ICA_crossTalk/session_874616920/neuropil_corrected_manual_875587505/neuropil_correction.pdf\n"
     ]
    },
    {
     "name": "stderr",
     "output_type": "stream",
     "text": [
      "/home/nataliao/miniconda3/envs/mesoscope/lib/python3.6/site-packages/ipykernel_launcher.py:44: RuntimeWarning: More than 20 figures have been opened. Figures created through the pyplot interface (`matplotlib.pyplot.figure`) are retained until explicitly closed and may consume too much memory. (To control this warning, see the rcParam `figure.max_open_warning`).\n"
     ]
    },
    {
     "name": "stdout",
     "output_type": "stream",
     "text": [
      "Saving figure:\n",
      "/allen/programs/braintv/workgroups/nc-ophys/Farzaneh/ICA_crossTalk/session_874616920/neuropil_corrected_manual_875587489/neuropil_correction.pdf\n"
     ]
    },
    {
     "name": "stderr",
     "output_type": "stream",
     "text": [
      "/home/nataliao/miniconda3/envs/mesoscope/lib/python3.6/site-packages/ipykernel_launcher.py:44: RuntimeWarning: More than 20 figures have been opened. Figures created through the pyplot interface (`matplotlib.pyplot.figure`) are retained until explicitly closed and may consume too much memory. (To control this warning, see the rcParam `figure.max_open_warning`).\n"
     ]
    },
    {
     "name": "stdout",
     "output_type": "stream",
     "text": [
      "Saving figure:\n",
      "/allen/programs/braintv/workgroups/nc-ophys/Farzaneh/ICA_crossTalk/session_874616920/neuropil_corrected_manual_875587491/neuropil_correction.pdf\n"
     ]
    },
    {
     "name": "stderr",
     "output_type": "stream",
     "text": [
      "/home/nataliao/miniconda3/envs/mesoscope/lib/python3.6/site-packages/ipykernel_launcher.py:44: RuntimeWarning: More than 20 figures have been opened. Figures created through the pyplot interface (`matplotlib.pyplot.figure`) are retained until explicitly closed and may consume too much memory. (To control this warning, see the rcParam `figure.max_open_warning`).\n"
     ]
    },
    {
     "name": "stdout",
     "output_type": "stream",
     "text": [
      "Saving figure:\n",
      "/allen/programs/braintv/workgroups/nc-ophys/Farzaneh/ICA_crossTalk/session_874616920/neuropil_corrected_manual_875587497/neuropil_correction.pdf\n"
     ]
    },
    {
     "name": "stderr",
     "output_type": "stream",
     "text": [
      "/home/nataliao/miniconda3/envs/mesoscope/lib/python3.6/site-packages/ipykernel_launcher.py:44: RuntimeWarning: More than 20 figures have been opened. Figures created through the pyplot interface (`matplotlib.pyplot.figure`) are retained until explicitly closed and may consume too much memory. (To control this warning, see the rcParam `figure.max_open_warning`).\n"
     ]
    },
    {
     "name": "stdout",
     "output_type": "stream",
     "text": [
      "Saving figure:\n",
      "/allen/programs/braintv/workgroups/nc-ophys/Farzaneh/ICA_crossTalk/session_874616920/neuropil_corrected_manual_875587499/neuropil_correction.pdf\n",
      "\n",
      "\n",
      "Session 34/66: /allen/programs/braintv/workgroups/nc-ophys/Farzaneh/ICA_crossTalk/session_875259383/\n",
      "['875808253', '875808255', '875808238', '875808240', '875808249', '875808251', '875808245', '875808247']\n"
     ]
    },
    {
     "name": "stderr",
     "output_type": "stream",
     "text": [
      "/home/nataliao/miniconda3/envs/mesoscope/lib/python3.6/site-packages/ipykernel_launcher.py:44: RuntimeWarning: More than 20 figures have been opened. Figures created through the pyplot interface (`matplotlib.pyplot.figure`) are retained until explicitly closed and may consume too much memory. (To control this warning, see the rcParam `figure.max_open_warning`).\n"
     ]
    },
    {
     "name": "stdout",
     "output_type": "stream",
     "text": [
      "Saving figure:\n",
      "/allen/programs/braintv/workgroups/nc-ophys/Farzaneh/ICA_crossTalk/session_875259383/neuropil_corrected_manual_875808253/neuropil_correction.pdf\n"
     ]
    },
    {
     "name": "stderr",
     "output_type": "stream",
     "text": [
      "/home/nataliao/miniconda3/envs/mesoscope/lib/python3.6/site-packages/ipykernel_launcher.py:44: RuntimeWarning: More than 20 figures have been opened. Figures created through the pyplot interface (`matplotlib.pyplot.figure`) are retained until explicitly closed and may consume too much memory. (To control this warning, see the rcParam `figure.max_open_warning`).\n"
     ]
    },
    {
     "name": "stdout",
     "output_type": "stream",
     "text": [
      "Saving figure:\n",
      "/allen/programs/braintv/workgroups/nc-ophys/Farzaneh/ICA_crossTalk/session_875259383/neuropil_corrected_manual_875808255/neuropil_correction.pdf\n"
     ]
    },
    {
     "name": "stderr",
     "output_type": "stream",
     "text": [
      "/home/nataliao/miniconda3/envs/mesoscope/lib/python3.6/site-packages/ipykernel_launcher.py:44: RuntimeWarning: More than 20 figures have been opened. Figures created through the pyplot interface (`matplotlib.pyplot.figure`) are retained until explicitly closed and may consume too much memory. (To control this warning, see the rcParam `figure.max_open_warning`).\n"
     ]
    },
    {
     "name": "stdout",
     "output_type": "stream",
     "text": [
      "Saving figure:\n",
      "/allen/programs/braintv/workgroups/nc-ophys/Farzaneh/ICA_crossTalk/session_875259383/neuropil_corrected_manual_875808238/neuropil_correction.pdf\n"
     ]
    },
    {
     "name": "stderr",
     "output_type": "stream",
     "text": [
      "/home/nataliao/miniconda3/envs/mesoscope/lib/python3.6/site-packages/ipykernel_launcher.py:44: RuntimeWarning: More than 20 figures have been opened. Figures created through the pyplot interface (`matplotlib.pyplot.figure`) are retained until explicitly closed and may consume too much memory. (To control this warning, see the rcParam `figure.max_open_warning`).\n"
     ]
    },
    {
     "name": "stdout",
     "output_type": "stream",
     "text": [
      "Saving figure:\n",
      "/allen/programs/braintv/workgroups/nc-ophys/Farzaneh/ICA_crossTalk/session_875259383/neuropil_corrected_manual_875808240/neuropil_correction.pdf\n"
     ]
    },
    {
     "name": "stderr",
     "output_type": "stream",
     "text": [
      "/home/nataliao/miniconda3/envs/mesoscope/lib/python3.6/site-packages/ipykernel_launcher.py:44: RuntimeWarning: More than 20 figures have been opened. Figures created through the pyplot interface (`matplotlib.pyplot.figure`) are retained until explicitly closed and may consume too much memory. (To control this warning, see the rcParam `figure.max_open_warning`).\n"
     ]
    },
    {
     "name": "stdout",
     "output_type": "stream",
     "text": [
      "Saving figure:\n",
      "/allen/programs/braintv/workgroups/nc-ophys/Farzaneh/ICA_crossTalk/session_875259383/neuropil_corrected_manual_875808249/neuropil_correction.pdf\n"
     ]
    },
    {
     "name": "stderr",
     "output_type": "stream",
     "text": [
      "/home/nataliao/miniconda3/envs/mesoscope/lib/python3.6/site-packages/ipykernel_launcher.py:44: RuntimeWarning: More than 20 figures have been opened. Figures created through the pyplot interface (`matplotlib.pyplot.figure`) are retained until explicitly closed and may consume too much memory. (To control this warning, see the rcParam `figure.max_open_warning`).\n"
     ]
    },
    {
     "name": "stdout",
     "output_type": "stream",
     "text": [
      "Saving figure:\n",
      "/allen/programs/braintv/workgroups/nc-ophys/Farzaneh/ICA_crossTalk/session_875259383/neuropil_corrected_manual_875808251/neuropil_correction.pdf\n"
     ]
    },
    {
     "name": "stderr",
     "output_type": "stream",
     "text": [
      "/home/nataliao/miniconda3/envs/mesoscope/lib/python3.6/site-packages/ipykernel_launcher.py:44: RuntimeWarning: More than 20 figures have been opened. Figures created through the pyplot interface (`matplotlib.pyplot.figure`) are retained until explicitly closed and may consume too much memory. (To control this warning, see the rcParam `figure.max_open_warning`).\n"
     ]
    },
    {
     "name": "stdout",
     "output_type": "stream",
     "text": [
      "Saving figure:\n",
      "/allen/programs/braintv/workgroups/nc-ophys/Farzaneh/ICA_crossTalk/session_875259383/neuropil_corrected_manual_875808245/neuropil_correction.pdf\n"
     ]
    },
    {
     "name": "stderr",
     "output_type": "stream",
     "text": [
      "/home/nataliao/miniconda3/envs/mesoscope/lib/python3.6/site-packages/ipykernel_launcher.py:44: RuntimeWarning: More than 20 figures have been opened. Figures created through the pyplot interface (`matplotlib.pyplot.figure`) are retained until explicitly closed and may consume too much memory. (To control this warning, see the rcParam `figure.max_open_warning`).\n"
     ]
    },
    {
     "name": "stdout",
     "output_type": "stream",
     "text": [
      "Saving figure:\n",
      "/allen/programs/braintv/workgroups/nc-ophys/Farzaneh/ICA_crossTalk/session_875259383/neuropil_corrected_manual_875808247/neuropil_correction.pdf\n",
      "\n",
      "\n",
      "Session 35/66: /allen/programs/braintv/workgroups/nc-ophys/Farzaneh/ICA_crossTalk/session_876303107/\n",
      "['877057349', '877057351', '877057341', '877057344', '877057354', '877057357', '877057336', '877057338']\n"
     ]
    },
    {
     "name": "stderr",
     "output_type": "stream",
     "text": [
      "/home/nataliao/miniconda3/envs/mesoscope/lib/python3.6/site-packages/ipykernel_launcher.py:44: RuntimeWarning: More than 20 figures have been opened. Figures created through the pyplot interface (`matplotlib.pyplot.figure`) are retained until explicitly closed and may consume too much memory. (To control this warning, see the rcParam `figure.max_open_warning`).\n"
     ]
    },
    {
     "name": "stdout",
     "output_type": "stream",
     "text": [
      "Saving figure:\n",
      "/allen/programs/braintv/workgroups/nc-ophys/Farzaneh/ICA_crossTalk/session_876303107/neuropil_corrected_manual_877057349/neuropil_correction.pdf\n"
     ]
    },
    {
     "name": "stderr",
     "output_type": "stream",
     "text": [
      "/home/nataliao/miniconda3/envs/mesoscope/lib/python3.6/site-packages/ipykernel_launcher.py:44: RuntimeWarning: More than 20 figures have been opened. Figures created through the pyplot interface (`matplotlib.pyplot.figure`) are retained until explicitly closed and may consume too much memory. (To control this warning, see the rcParam `figure.max_open_warning`).\n"
     ]
    },
    {
     "name": "stdout",
     "output_type": "stream",
     "text": [
      "Saving figure:\n",
      "/allen/programs/braintv/workgroups/nc-ophys/Farzaneh/ICA_crossTalk/session_876303107/neuropil_corrected_manual_877057351/neuropil_correction.pdf\n"
     ]
    },
    {
     "name": "stderr",
     "output_type": "stream",
     "text": [
      "/home/nataliao/miniconda3/envs/mesoscope/lib/python3.6/site-packages/ipykernel_launcher.py:44: RuntimeWarning: More than 20 figures have been opened. Figures created through the pyplot interface (`matplotlib.pyplot.figure`) are retained until explicitly closed and may consume too much memory. (To control this warning, see the rcParam `figure.max_open_warning`).\n"
     ]
    },
    {
     "name": "stdout",
     "output_type": "stream",
     "text": [
      "Saving figure:\n",
      "/allen/programs/braintv/workgroups/nc-ophys/Farzaneh/ICA_crossTalk/session_876303107/neuropil_corrected_manual_877057341/neuropil_correction.pdf\n"
     ]
    },
    {
     "name": "stderr",
     "output_type": "stream",
     "text": [
      "/home/nataliao/miniconda3/envs/mesoscope/lib/python3.6/site-packages/ipykernel_launcher.py:44: RuntimeWarning: More than 20 figures have been opened. Figures created through the pyplot interface (`matplotlib.pyplot.figure`) are retained until explicitly closed and may consume too much memory. (To control this warning, see the rcParam `figure.max_open_warning`).\n"
     ]
    },
    {
     "name": "stdout",
     "output_type": "stream",
     "text": [
      "Saving figure:\n",
      "/allen/programs/braintv/workgroups/nc-ophys/Farzaneh/ICA_crossTalk/session_876303107/neuropil_corrected_manual_877057344/neuropil_correction.pdf\n"
     ]
    },
    {
     "name": "stderr",
     "output_type": "stream",
     "text": [
      "/home/nataliao/miniconda3/envs/mesoscope/lib/python3.6/site-packages/ipykernel_launcher.py:44: RuntimeWarning: More than 20 figures have been opened. Figures created through the pyplot interface (`matplotlib.pyplot.figure`) are retained until explicitly closed and may consume too much memory. (To control this warning, see the rcParam `figure.max_open_warning`).\n"
     ]
    },
    {
     "name": "stdout",
     "output_type": "stream",
     "text": [
      "Saving figure:\n",
      "/allen/programs/braintv/workgroups/nc-ophys/Farzaneh/ICA_crossTalk/session_876303107/neuropil_corrected_manual_877057354/neuropil_correction.pdf\n"
     ]
    },
    {
     "name": "stderr",
     "output_type": "stream",
     "text": [
      "/home/nataliao/miniconda3/envs/mesoscope/lib/python3.6/site-packages/ipykernel_launcher.py:44: RuntimeWarning: More than 20 figures have been opened. Figures created through the pyplot interface (`matplotlib.pyplot.figure`) are retained until explicitly closed and may consume too much memory. (To control this warning, see the rcParam `figure.max_open_warning`).\n"
     ]
    },
    {
     "name": "stdout",
     "output_type": "stream",
     "text": [
      "Saving figure:\n",
      "/allen/programs/braintv/workgroups/nc-ophys/Farzaneh/ICA_crossTalk/session_876303107/neuropil_corrected_manual_877057357/neuropil_correction.pdf\n"
     ]
    },
    {
     "name": "stderr",
     "output_type": "stream",
     "text": [
      "/home/nataliao/miniconda3/envs/mesoscope/lib/python3.6/site-packages/ipykernel_launcher.py:44: RuntimeWarning: More than 20 figures have been opened. Figures created through the pyplot interface (`matplotlib.pyplot.figure`) are retained until explicitly closed and may consume too much memory. (To control this warning, see the rcParam `figure.max_open_warning`).\n"
     ]
    },
    {
     "name": "stdout",
     "output_type": "stream",
     "text": [
      "Saving figure:\n",
      "/allen/programs/braintv/workgroups/nc-ophys/Farzaneh/ICA_crossTalk/session_876303107/neuropil_corrected_manual_877057336/neuropil_correction.pdf\n"
     ]
    },
    {
     "name": "stderr",
     "output_type": "stream",
     "text": [
      "/home/nataliao/miniconda3/envs/mesoscope/lib/python3.6/site-packages/ipykernel_launcher.py:44: RuntimeWarning: More than 20 figures have been opened. Figures created through the pyplot interface (`matplotlib.pyplot.figure`) are retained until explicitly closed and may consume too much memory. (To control this warning, see the rcParam `figure.max_open_warning`).\n"
     ]
    },
    {
     "name": "stdout",
     "output_type": "stream",
     "text": [
      "Saving figure:\n",
      "/allen/programs/braintv/workgroups/nc-ophys/Farzaneh/ICA_crossTalk/session_876303107/neuropil_corrected_manual_877057338/neuropil_correction.pdf\n",
      "\n",
      "\n",
      "Session 36/66: /allen/programs/braintv/workgroups/nc-ophys/Farzaneh/ICA_crossTalk/session_880498009/\n",
      "['881001210', '881001212', '881001216', '881001218', '881001224', '881001226', '881001220', '881001222']\n"
     ]
    },
    {
     "name": "stderr",
     "output_type": "stream",
     "text": [
      "/home/nataliao/miniconda3/envs/mesoscope/lib/python3.6/site-packages/ipykernel_launcher.py:44: RuntimeWarning: More than 20 figures have been opened. Figures created through the pyplot interface (`matplotlib.pyplot.figure`) are retained until explicitly closed and may consume too much memory. (To control this warning, see the rcParam `figure.max_open_warning`).\n"
     ]
    },
    {
     "name": "stdout",
     "output_type": "stream",
     "text": [
      "Saving figure:\n",
      "/allen/programs/braintv/workgroups/nc-ophys/Farzaneh/ICA_crossTalk/session_880498009/neuropil_corrected_manual_881001210/neuropil_correction.pdf\n"
     ]
    },
    {
     "name": "stderr",
     "output_type": "stream",
     "text": [
      "/home/nataliao/miniconda3/envs/mesoscope/lib/python3.6/site-packages/ipykernel_launcher.py:44: RuntimeWarning: More than 20 figures have been opened. Figures created through the pyplot interface (`matplotlib.pyplot.figure`) are retained until explicitly closed and may consume too much memory. (To control this warning, see the rcParam `figure.max_open_warning`).\n"
     ]
    },
    {
     "name": "stdout",
     "output_type": "stream",
     "text": [
      "Saving figure:\n",
      "/allen/programs/braintv/workgroups/nc-ophys/Farzaneh/ICA_crossTalk/session_880498009/neuropil_corrected_manual_881001212/neuropil_correction.pdf\n"
     ]
    },
    {
     "name": "stderr",
     "output_type": "stream",
     "text": [
      "/home/nataliao/miniconda3/envs/mesoscope/lib/python3.6/site-packages/ipykernel_launcher.py:44: RuntimeWarning: More than 20 figures have been opened. Figures created through the pyplot interface (`matplotlib.pyplot.figure`) are retained until explicitly closed and may consume too much memory. (To control this warning, see the rcParam `figure.max_open_warning`).\n"
     ]
    },
    {
     "name": "stdout",
     "output_type": "stream",
     "text": [
      "Saving figure:\n",
      "/allen/programs/braintv/workgroups/nc-ophys/Farzaneh/ICA_crossTalk/session_880498009/neuropil_corrected_manual_881001216/neuropil_correction.pdf\n"
     ]
    },
    {
     "name": "stderr",
     "output_type": "stream",
     "text": [
      "/home/nataliao/miniconda3/envs/mesoscope/lib/python3.6/site-packages/ipykernel_launcher.py:44: RuntimeWarning: More than 20 figures have been opened. Figures created through the pyplot interface (`matplotlib.pyplot.figure`) are retained until explicitly closed and may consume too much memory. (To control this warning, see the rcParam `figure.max_open_warning`).\n"
     ]
    },
    {
     "name": "stdout",
     "output_type": "stream",
     "text": [
      "Saving figure:\n",
      "/allen/programs/braintv/workgroups/nc-ophys/Farzaneh/ICA_crossTalk/session_880498009/neuropil_corrected_manual_881001218/neuropil_correction.pdf\n"
     ]
    },
    {
     "name": "stderr",
     "output_type": "stream",
     "text": [
      "/home/nataliao/miniconda3/envs/mesoscope/lib/python3.6/site-packages/ipykernel_launcher.py:44: RuntimeWarning: More than 20 figures have been opened. Figures created through the pyplot interface (`matplotlib.pyplot.figure`) are retained until explicitly closed and may consume too much memory. (To control this warning, see the rcParam `figure.max_open_warning`).\n"
     ]
    },
    {
     "name": "stdout",
     "output_type": "stream",
     "text": [
      "Saving figure:\n",
      "/allen/programs/braintv/workgroups/nc-ophys/Farzaneh/ICA_crossTalk/session_880498009/neuropil_corrected_manual_881001224/neuropil_correction.pdf\n"
     ]
    },
    {
     "name": "stderr",
     "output_type": "stream",
     "text": [
      "/home/nataliao/miniconda3/envs/mesoscope/lib/python3.6/site-packages/ipykernel_launcher.py:44: RuntimeWarning: More than 20 figures have been opened. Figures created through the pyplot interface (`matplotlib.pyplot.figure`) are retained until explicitly closed and may consume too much memory. (To control this warning, see the rcParam `figure.max_open_warning`).\n"
     ]
    },
    {
     "name": "stdout",
     "output_type": "stream",
     "text": [
      "Saving figure:\n",
      "/allen/programs/braintv/workgroups/nc-ophys/Farzaneh/ICA_crossTalk/session_880498009/neuropil_corrected_manual_881001226/neuropil_correction.pdf\n"
     ]
    },
    {
     "name": "stderr",
     "output_type": "stream",
     "text": [
      "/home/nataliao/miniconda3/envs/mesoscope/lib/python3.6/site-packages/ipykernel_launcher.py:44: RuntimeWarning: More than 20 figures have been opened. Figures created through the pyplot interface (`matplotlib.pyplot.figure`) are retained until explicitly closed and may consume too much memory. (To control this warning, see the rcParam `figure.max_open_warning`).\n"
     ]
    },
    {
     "name": "stdout",
     "output_type": "stream",
     "text": [
      "Saving figure:\n",
      "/allen/programs/braintv/workgroups/nc-ophys/Farzaneh/ICA_crossTalk/session_880498009/neuropil_corrected_manual_881001220/neuropil_correction.pdf\n"
     ]
    },
    {
     "name": "stderr",
     "output_type": "stream",
     "text": [
      "/home/nataliao/miniconda3/envs/mesoscope/lib/python3.6/site-packages/ipykernel_launcher.py:44: RuntimeWarning: More than 20 figures have been opened. Figures created through the pyplot interface (`matplotlib.pyplot.figure`) are retained until explicitly closed and may consume too much memory. (To control this warning, see the rcParam `figure.max_open_warning`).\n"
     ]
    },
    {
     "name": "stdout",
     "output_type": "stream",
     "text": [
      "Saving figure:\n",
      "/allen/programs/braintv/workgroups/nc-ophys/Farzaneh/ICA_crossTalk/session_880498009/neuropil_corrected_manual_881001222/neuropil_correction.pdf\n",
      "\n",
      "\n",
      "Session 37/66: /allen/programs/braintv/workgroups/nc-ophys/Farzaneh/ICA_crossTalk/session_886130638/\n",
      "['886587160', '886587162', '886587164', '886587166', '886587172', '886587174', '886587168', '886587170']\n"
     ]
    },
    {
     "name": "stderr",
     "output_type": "stream",
     "text": [
      "/home/nataliao/miniconda3/envs/mesoscope/lib/python3.6/site-packages/ipykernel_launcher.py:44: RuntimeWarning: More than 20 figures have been opened. Figures created through the pyplot interface (`matplotlib.pyplot.figure`) are retained until explicitly closed and may consume too much memory. (To control this warning, see the rcParam `figure.max_open_warning`).\n"
     ]
    },
    {
     "name": "stdout",
     "output_type": "stream",
     "text": [
      "Saving figure:\n",
      "/allen/programs/braintv/workgroups/nc-ophys/Farzaneh/ICA_crossTalk/session_886130638/neuropil_corrected_manual_886587160/neuropil_correction.pdf\n"
     ]
    },
    {
     "name": "stderr",
     "output_type": "stream",
     "text": [
      "/home/nataliao/miniconda3/envs/mesoscope/lib/python3.6/site-packages/ipykernel_launcher.py:44: RuntimeWarning: More than 20 figures have been opened. Figures created through the pyplot interface (`matplotlib.pyplot.figure`) are retained until explicitly closed and may consume too much memory. (To control this warning, see the rcParam `figure.max_open_warning`).\n"
     ]
    },
    {
     "name": "stdout",
     "output_type": "stream",
     "text": [
      "Saving figure:\n",
      "/allen/programs/braintv/workgroups/nc-ophys/Farzaneh/ICA_crossTalk/session_886130638/neuropil_corrected_manual_886587162/neuropil_correction.pdf\n"
     ]
    },
    {
     "name": "stderr",
     "output_type": "stream",
     "text": [
      "/home/nataliao/miniconda3/envs/mesoscope/lib/python3.6/site-packages/ipykernel_launcher.py:44: RuntimeWarning: More than 20 figures have been opened. Figures created through the pyplot interface (`matplotlib.pyplot.figure`) are retained until explicitly closed and may consume too much memory. (To control this warning, see the rcParam `figure.max_open_warning`).\n"
     ]
    },
    {
     "name": "stdout",
     "output_type": "stream",
     "text": [
      "Saving figure:\n",
      "/allen/programs/braintv/workgroups/nc-ophys/Farzaneh/ICA_crossTalk/session_886130638/neuropil_corrected_manual_886587164/neuropil_correction.pdf\n"
     ]
    },
    {
     "name": "stderr",
     "output_type": "stream",
     "text": [
      "/home/nataliao/miniconda3/envs/mesoscope/lib/python3.6/site-packages/ipykernel_launcher.py:44: RuntimeWarning: More than 20 figures have been opened. Figures created through the pyplot interface (`matplotlib.pyplot.figure`) are retained until explicitly closed and may consume too much memory. (To control this warning, see the rcParam `figure.max_open_warning`).\n"
     ]
    },
    {
     "name": "stdout",
     "output_type": "stream",
     "text": [
      "Saving figure:\n",
      "/allen/programs/braintv/workgroups/nc-ophys/Farzaneh/ICA_crossTalk/session_886130638/neuropil_corrected_manual_886587166/neuropil_correction.pdf\n"
     ]
    },
    {
     "name": "stderr",
     "output_type": "stream",
     "text": [
      "/home/nataliao/miniconda3/envs/mesoscope/lib/python3.6/site-packages/ipykernel_launcher.py:44: RuntimeWarning: More than 20 figures have been opened. Figures created through the pyplot interface (`matplotlib.pyplot.figure`) are retained until explicitly closed and may consume too much memory. (To control this warning, see the rcParam `figure.max_open_warning`).\n"
     ]
    },
    {
     "name": "stdout",
     "output_type": "stream",
     "text": [
      "Saving figure:\n",
      "/allen/programs/braintv/workgroups/nc-ophys/Farzaneh/ICA_crossTalk/session_886130638/neuropil_corrected_manual_886587172/neuropil_correction.pdf\n"
     ]
    },
    {
     "name": "stderr",
     "output_type": "stream",
     "text": [
      "/home/nataliao/miniconda3/envs/mesoscope/lib/python3.6/site-packages/ipykernel_launcher.py:44: RuntimeWarning: More than 20 figures have been opened. Figures created through the pyplot interface (`matplotlib.pyplot.figure`) are retained until explicitly closed and may consume too much memory. (To control this warning, see the rcParam `figure.max_open_warning`).\n"
     ]
    },
    {
     "name": "stdout",
     "output_type": "stream",
     "text": [
      "Saving figure:\n",
      "/allen/programs/braintv/workgroups/nc-ophys/Farzaneh/ICA_crossTalk/session_886130638/neuropil_corrected_manual_886587174/neuropil_correction.pdf\n"
     ]
    },
    {
     "name": "stderr",
     "output_type": "stream",
     "text": [
      "/home/nataliao/miniconda3/envs/mesoscope/lib/python3.6/site-packages/ipykernel_launcher.py:44: RuntimeWarning: More than 20 figures have been opened. Figures created through the pyplot interface (`matplotlib.pyplot.figure`) are retained until explicitly closed and may consume too much memory. (To control this warning, see the rcParam `figure.max_open_warning`).\n"
     ]
    },
    {
     "name": "stdout",
     "output_type": "stream",
     "text": [
      "Saving figure:\n",
      "/allen/programs/braintv/workgroups/nc-ophys/Farzaneh/ICA_crossTalk/session_886130638/neuropil_corrected_manual_886587168/neuropil_correction.pdf\n"
     ]
    },
    {
     "name": "stderr",
     "output_type": "stream",
     "text": [
      "/home/nataliao/miniconda3/envs/mesoscope/lib/python3.6/site-packages/ipykernel_launcher.py:44: RuntimeWarning: More than 20 figures have been opened. Figures created through the pyplot interface (`matplotlib.pyplot.figure`) are retained until explicitly closed and may consume too much memory. (To control this warning, see the rcParam `figure.max_open_warning`).\n"
     ]
    },
    {
     "name": "stdout",
     "output_type": "stream",
     "text": [
      "Saving figure:\n",
      "/allen/programs/braintv/workgroups/nc-ophys/Farzaneh/ICA_crossTalk/session_886130638/neuropil_corrected_manual_886587170/neuropil_correction.pdf\n",
      "\n",
      "\n",
      "Session 38/66: /allen/programs/braintv/workgroups/nc-ophys/Farzaneh/ICA_crossTalk/session_886806800/\n",
      "['887386989', '887386991', '887386974', '887386977', '887386979', '887386981', '887386983', '887386985']\n"
     ]
    },
    {
     "name": "stderr",
     "output_type": "stream",
     "text": [
      "/home/nataliao/miniconda3/envs/mesoscope/lib/python3.6/site-packages/ipykernel_launcher.py:44: RuntimeWarning: More than 20 figures have been opened. Figures created through the pyplot interface (`matplotlib.pyplot.figure`) are retained until explicitly closed and may consume too much memory. (To control this warning, see the rcParam `figure.max_open_warning`).\n"
     ]
    },
    {
     "name": "stdout",
     "output_type": "stream",
     "text": [
      "Saving figure:\n",
      "/allen/programs/braintv/workgroups/nc-ophys/Farzaneh/ICA_crossTalk/session_886806800/neuropil_corrected_manual_887386989/neuropil_correction.pdf\n"
     ]
    },
    {
     "name": "stderr",
     "output_type": "stream",
     "text": [
      "/home/nataliao/miniconda3/envs/mesoscope/lib/python3.6/site-packages/ipykernel_launcher.py:44: RuntimeWarning: More than 20 figures have been opened. Figures created through the pyplot interface (`matplotlib.pyplot.figure`) are retained until explicitly closed and may consume too much memory. (To control this warning, see the rcParam `figure.max_open_warning`).\n"
     ]
    },
    {
     "name": "stdout",
     "output_type": "stream",
     "text": [
      "Saving figure:\n",
      "/allen/programs/braintv/workgroups/nc-ophys/Farzaneh/ICA_crossTalk/session_886806800/neuropil_corrected_manual_887386991/neuropil_correction.pdf\n"
     ]
    },
    {
     "name": "stderr",
     "output_type": "stream",
     "text": [
      "/home/nataliao/miniconda3/envs/mesoscope/lib/python3.6/site-packages/ipykernel_launcher.py:44: RuntimeWarning: More than 20 figures have been opened. Figures created through the pyplot interface (`matplotlib.pyplot.figure`) are retained until explicitly closed and may consume too much memory. (To control this warning, see the rcParam `figure.max_open_warning`).\n"
     ]
    },
    {
     "name": "stdout",
     "output_type": "stream",
     "text": [
      "Saving figure:\n",
      "/allen/programs/braintv/workgroups/nc-ophys/Farzaneh/ICA_crossTalk/session_886806800/neuropil_corrected_manual_887386974/neuropil_correction.pdf\n"
     ]
    },
    {
     "name": "stderr",
     "output_type": "stream",
     "text": [
      "/home/nataliao/miniconda3/envs/mesoscope/lib/python3.6/site-packages/ipykernel_launcher.py:44: RuntimeWarning: More than 20 figures have been opened. Figures created through the pyplot interface (`matplotlib.pyplot.figure`) are retained until explicitly closed and may consume too much memory. (To control this warning, see the rcParam `figure.max_open_warning`).\n"
     ]
    },
    {
     "name": "stdout",
     "output_type": "stream",
     "text": [
      "Saving figure:\n",
      "/allen/programs/braintv/workgroups/nc-ophys/Farzaneh/ICA_crossTalk/session_886806800/neuropil_corrected_manual_887386977/neuropil_correction.pdf\n"
     ]
    },
    {
     "name": "stderr",
     "output_type": "stream",
     "text": [
      "/home/nataliao/miniconda3/envs/mesoscope/lib/python3.6/site-packages/ipykernel_launcher.py:44: RuntimeWarning: More than 20 figures have been opened. Figures created through the pyplot interface (`matplotlib.pyplot.figure`) are retained until explicitly closed and may consume too much memory. (To control this warning, see the rcParam `figure.max_open_warning`).\n"
     ]
    },
    {
     "name": "stdout",
     "output_type": "stream",
     "text": [
      "Saving figure:\n",
      "/allen/programs/braintv/workgroups/nc-ophys/Farzaneh/ICA_crossTalk/session_886806800/neuropil_corrected_manual_887386979/neuropil_correction.pdf\n"
     ]
    },
    {
     "name": "stderr",
     "output_type": "stream",
     "text": [
      "/home/nataliao/miniconda3/envs/mesoscope/lib/python3.6/site-packages/ipykernel_launcher.py:44: RuntimeWarning: More than 20 figures have been opened. Figures created through the pyplot interface (`matplotlib.pyplot.figure`) are retained until explicitly closed and may consume too much memory. (To control this warning, see the rcParam `figure.max_open_warning`).\n"
     ]
    },
    {
     "name": "stdout",
     "output_type": "stream",
     "text": [
      "Saving figure:\n",
      "/allen/programs/braintv/workgroups/nc-ophys/Farzaneh/ICA_crossTalk/session_886806800/neuropil_corrected_manual_887386981/neuropil_correction.pdf\n"
     ]
    },
    {
     "name": "stderr",
     "output_type": "stream",
     "text": [
      "/home/nataliao/miniconda3/envs/mesoscope/lib/python3.6/site-packages/ipykernel_launcher.py:44: RuntimeWarning: More than 20 figures have been opened. Figures created through the pyplot interface (`matplotlib.pyplot.figure`) are retained until explicitly closed and may consume too much memory. (To control this warning, see the rcParam `figure.max_open_warning`).\n"
     ]
    },
    {
     "name": "stdout",
     "output_type": "stream",
     "text": [
      "Saving figure:\n",
      "/allen/programs/braintv/workgroups/nc-ophys/Farzaneh/ICA_crossTalk/session_886806800/neuropil_corrected_manual_887386983/neuropil_correction.pdf\n"
     ]
    },
    {
     "name": "stderr",
     "output_type": "stream",
     "text": [
      "/home/nataliao/miniconda3/envs/mesoscope/lib/python3.6/site-packages/ipykernel_launcher.py:44: RuntimeWarning: More than 20 figures have been opened. Figures created through the pyplot interface (`matplotlib.pyplot.figure`) are retained until explicitly closed and may consume too much memory. (To control this warning, see the rcParam `figure.max_open_warning`).\n"
     ]
    },
    {
     "name": "stdout",
     "output_type": "stream",
     "text": [
      "Saving figure:\n",
      "/allen/programs/braintv/workgroups/nc-ophys/Farzaneh/ICA_crossTalk/session_886806800/neuropil_corrected_manual_887386985/neuropil_correction.pdf\n",
      "\n",
      "\n",
      "Session 39/66: /allen/programs/braintv/workgroups/nc-ophys/Farzaneh/ICA_crossTalk/session_888009781/\n",
      "['888876943', '888876945', '888876947', '888876949', '888876939', '888876941', '888876951', '888876953']\n"
     ]
    },
    {
     "name": "stderr",
     "output_type": "stream",
     "text": [
      "/home/nataliao/miniconda3/envs/mesoscope/lib/python3.6/site-packages/ipykernel_launcher.py:44: RuntimeWarning: More than 20 figures have been opened. Figures created through the pyplot interface (`matplotlib.pyplot.figure`) are retained until explicitly closed and may consume too much memory. (To control this warning, see the rcParam `figure.max_open_warning`).\n"
     ]
    },
    {
     "name": "stdout",
     "output_type": "stream",
     "text": [
      "Saving figure:\n",
      "/allen/programs/braintv/workgroups/nc-ophys/Farzaneh/ICA_crossTalk/session_888009781/neuropil_corrected_manual_888876943/neuropil_correction.pdf\n"
     ]
    },
    {
     "name": "stderr",
     "output_type": "stream",
     "text": [
      "/home/nataliao/miniconda3/envs/mesoscope/lib/python3.6/site-packages/ipykernel_launcher.py:44: RuntimeWarning: More than 20 figures have been opened. Figures created through the pyplot interface (`matplotlib.pyplot.figure`) are retained until explicitly closed and may consume too much memory. (To control this warning, see the rcParam `figure.max_open_warning`).\n"
     ]
    },
    {
     "name": "stdout",
     "output_type": "stream",
     "text": [
      "Saving figure:\n",
      "/allen/programs/braintv/workgroups/nc-ophys/Farzaneh/ICA_crossTalk/session_888009781/neuropil_corrected_manual_888876945/neuropil_correction.pdf\n"
     ]
    },
    {
     "name": "stderr",
     "output_type": "stream",
     "text": [
      "/home/nataliao/miniconda3/envs/mesoscope/lib/python3.6/site-packages/ipykernel_launcher.py:44: RuntimeWarning: More than 20 figures have been opened. Figures created through the pyplot interface (`matplotlib.pyplot.figure`) are retained until explicitly closed and may consume too much memory. (To control this warning, see the rcParam `figure.max_open_warning`).\n"
     ]
    },
    {
     "name": "stdout",
     "output_type": "stream",
     "text": [
      "Saving figure:\n",
      "/allen/programs/braintv/workgroups/nc-ophys/Farzaneh/ICA_crossTalk/session_888009781/neuropil_corrected_manual_888876947/neuropil_correction.pdf\n"
     ]
    },
    {
     "name": "stderr",
     "output_type": "stream",
     "text": [
      "/home/nataliao/miniconda3/envs/mesoscope/lib/python3.6/site-packages/ipykernel_launcher.py:44: RuntimeWarning: More than 20 figures have been opened. Figures created through the pyplot interface (`matplotlib.pyplot.figure`) are retained until explicitly closed and may consume too much memory. (To control this warning, see the rcParam `figure.max_open_warning`).\n"
     ]
    },
    {
     "name": "stdout",
     "output_type": "stream",
     "text": [
      "Saving figure:\n",
      "/allen/programs/braintv/workgroups/nc-ophys/Farzaneh/ICA_crossTalk/session_888009781/neuropil_corrected_manual_888876949/neuropil_correction.pdf\n"
     ]
    },
    {
     "name": "stderr",
     "output_type": "stream",
     "text": [
      "/home/nataliao/miniconda3/envs/mesoscope/lib/python3.6/site-packages/ipykernel_launcher.py:44: RuntimeWarning: More than 20 figures have been opened. Figures created through the pyplot interface (`matplotlib.pyplot.figure`) are retained until explicitly closed and may consume too much memory. (To control this warning, see the rcParam `figure.max_open_warning`).\n"
     ]
    },
    {
     "name": "stdout",
     "output_type": "stream",
     "text": [
      "Saving figure:\n",
      "/allen/programs/braintv/workgroups/nc-ophys/Farzaneh/ICA_crossTalk/session_888009781/neuropil_corrected_manual_888876939/neuropil_correction.pdf\n"
     ]
    },
    {
     "name": "stderr",
     "output_type": "stream",
     "text": [
      "/home/nataliao/miniconda3/envs/mesoscope/lib/python3.6/site-packages/ipykernel_launcher.py:44: RuntimeWarning: More than 20 figures have been opened. Figures created through the pyplot interface (`matplotlib.pyplot.figure`) are retained until explicitly closed and may consume too much memory. (To control this warning, see the rcParam `figure.max_open_warning`).\n"
     ]
    },
    {
     "name": "stdout",
     "output_type": "stream",
     "text": [
      "Saving figure:\n",
      "/allen/programs/braintv/workgroups/nc-ophys/Farzaneh/ICA_crossTalk/session_888009781/neuropil_corrected_manual_888876941/neuropil_correction.pdf\n"
     ]
    },
    {
     "name": "stderr",
     "output_type": "stream",
     "text": [
      "/home/nataliao/miniconda3/envs/mesoscope/lib/python3.6/site-packages/ipykernel_launcher.py:44: RuntimeWarning: More than 20 figures have been opened. Figures created through the pyplot interface (`matplotlib.pyplot.figure`) are retained until explicitly closed and may consume too much memory. (To control this warning, see the rcParam `figure.max_open_warning`).\n"
     ]
    },
    {
     "name": "stdout",
     "output_type": "stream",
     "text": [
      "Saving figure:\n",
      "/allen/programs/braintv/workgroups/nc-ophys/Farzaneh/ICA_crossTalk/session_888009781/neuropil_corrected_manual_888876951/neuropil_correction.pdf\n"
     ]
    },
    {
     "name": "stderr",
     "output_type": "stream",
     "text": [
      "/home/nataliao/miniconda3/envs/mesoscope/lib/python3.6/site-packages/ipykernel_launcher.py:44: RuntimeWarning: More than 20 figures have been opened. Figures created through the pyplot interface (`matplotlib.pyplot.figure`) are retained until explicitly closed and may consume too much memory. (To control this warning, see the rcParam `figure.max_open_warning`).\n"
     ]
    },
    {
     "name": "stdout",
     "output_type": "stream",
     "text": [
      "Saving figure:\n",
      "/allen/programs/braintv/workgroups/nc-ophys/Farzaneh/ICA_crossTalk/session_888009781/neuropil_corrected_manual_888876953/neuropil_correction.pdf\n",
      "\n",
      "\n",
      "Session 40/66: /allen/programs/braintv/workgroups/nc-ophys/Farzaneh/ICA_crossTalk/session_889944877/\n",
      "['891108763', '891108765', '891108771', '891108773', '891108758', '891108760', '891108767', '891108769']\n"
     ]
    },
    {
     "name": "stderr",
     "output_type": "stream",
     "text": [
      "/home/nataliao/miniconda3/envs/mesoscope/lib/python3.6/site-packages/ipykernel_launcher.py:44: RuntimeWarning: More than 20 figures have been opened. Figures created through the pyplot interface (`matplotlib.pyplot.figure`) are retained until explicitly closed and may consume too much memory. (To control this warning, see the rcParam `figure.max_open_warning`).\n"
     ]
    },
    {
     "name": "stdout",
     "output_type": "stream",
     "text": [
      "Saving figure:\n",
      "/allen/programs/braintv/workgroups/nc-ophys/Farzaneh/ICA_crossTalk/session_889944877/neuropil_corrected_manual_891108763/neuropil_correction.pdf\n"
     ]
    },
    {
     "name": "stderr",
     "output_type": "stream",
     "text": [
      "/home/nataliao/miniconda3/envs/mesoscope/lib/python3.6/site-packages/ipykernel_launcher.py:44: RuntimeWarning: More than 20 figures have been opened. Figures created through the pyplot interface (`matplotlib.pyplot.figure`) are retained until explicitly closed and may consume too much memory. (To control this warning, see the rcParam `figure.max_open_warning`).\n"
     ]
    },
    {
     "name": "stdout",
     "output_type": "stream",
     "text": [
      "Saving figure:\n",
      "/allen/programs/braintv/workgroups/nc-ophys/Farzaneh/ICA_crossTalk/session_889944877/neuropil_corrected_manual_891108765/neuropil_correction.pdf\n"
     ]
    },
    {
     "name": "stderr",
     "output_type": "stream",
     "text": [
      "/home/nataliao/miniconda3/envs/mesoscope/lib/python3.6/site-packages/ipykernel_launcher.py:44: RuntimeWarning: More than 20 figures have been opened. Figures created through the pyplot interface (`matplotlib.pyplot.figure`) are retained until explicitly closed and may consume too much memory. (To control this warning, see the rcParam `figure.max_open_warning`).\n"
     ]
    },
    {
     "name": "stdout",
     "output_type": "stream",
     "text": [
      "Saving figure:\n",
      "/allen/programs/braintv/workgroups/nc-ophys/Farzaneh/ICA_crossTalk/session_889944877/neuropil_corrected_manual_891108771/neuropil_correction.pdf\n"
     ]
    },
    {
     "name": "stderr",
     "output_type": "stream",
     "text": [
      "/home/nataliao/miniconda3/envs/mesoscope/lib/python3.6/site-packages/ipykernel_launcher.py:44: RuntimeWarning: More than 20 figures have been opened. Figures created through the pyplot interface (`matplotlib.pyplot.figure`) are retained until explicitly closed and may consume too much memory. (To control this warning, see the rcParam `figure.max_open_warning`).\n"
     ]
    },
    {
     "name": "stdout",
     "output_type": "stream",
     "text": [
      "Saving figure:\n",
      "/allen/programs/braintv/workgroups/nc-ophys/Farzaneh/ICA_crossTalk/session_889944877/neuropil_corrected_manual_891108773/neuropil_correction.pdf\n"
     ]
    },
    {
     "name": "stderr",
     "output_type": "stream",
     "text": [
      "/home/nataliao/miniconda3/envs/mesoscope/lib/python3.6/site-packages/ipykernel_launcher.py:44: RuntimeWarning: More than 20 figures have been opened. Figures created through the pyplot interface (`matplotlib.pyplot.figure`) are retained until explicitly closed and may consume too much memory. (To control this warning, see the rcParam `figure.max_open_warning`).\n"
     ]
    },
    {
     "name": "stdout",
     "output_type": "stream",
     "text": [
      "Saving figure:\n",
      "/allen/programs/braintv/workgroups/nc-ophys/Farzaneh/ICA_crossTalk/session_889944877/neuropil_corrected_manual_891108758/neuropil_correction.pdf\n"
     ]
    },
    {
     "name": "stderr",
     "output_type": "stream",
     "text": [
      "/home/nataliao/miniconda3/envs/mesoscope/lib/python3.6/site-packages/ipykernel_launcher.py:44: RuntimeWarning: More than 20 figures have been opened. Figures created through the pyplot interface (`matplotlib.pyplot.figure`) are retained until explicitly closed and may consume too much memory. (To control this warning, see the rcParam `figure.max_open_warning`).\n"
     ]
    },
    {
     "name": "stdout",
     "output_type": "stream",
     "text": [
      "Saving figure:\n",
      "/allen/programs/braintv/workgroups/nc-ophys/Farzaneh/ICA_crossTalk/session_889944877/neuropil_corrected_manual_891108760/neuropil_correction.pdf\n"
     ]
    },
    {
     "name": "stderr",
     "output_type": "stream",
     "text": [
      "/home/nataliao/miniconda3/envs/mesoscope/lib/python3.6/site-packages/ipykernel_launcher.py:44: RuntimeWarning: More than 20 figures have been opened. Figures created through the pyplot interface (`matplotlib.pyplot.figure`) are retained until explicitly closed and may consume too much memory. (To control this warning, see the rcParam `figure.max_open_warning`).\n"
     ]
    },
    {
     "name": "stdout",
     "output_type": "stream",
     "text": [
      "Saving figure:\n",
      "/allen/programs/braintv/workgroups/nc-ophys/Farzaneh/ICA_crossTalk/session_889944877/neuropil_corrected_manual_891108767/neuropil_correction.pdf\n"
     ]
    },
    {
     "name": "stderr",
     "output_type": "stream",
     "text": [
      "/home/nataliao/miniconda3/envs/mesoscope/lib/python3.6/site-packages/ipykernel_launcher.py:44: RuntimeWarning: More than 20 figures have been opened. Figures created through the pyplot interface (`matplotlib.pyplot.figure`) are retained until explicitly closed and may consume too much memory. (To control this warning, see the rcParam `figure.max_open_warning`).\n"
     ]
    },
    {
     "name": "stdout",
     "output_type": "stream",
     "text": [
      "Saving figure:\n",
      "/allen/programs/braintv/workgroups/nc-ophys/Farzaneh/ICA_crossTalk/session_889944877/neuropil_corrected_manual_891108769/neuropil_correction.pdf\n",
      "\n",
      "\n",
      "Session 41/66: /allen/programs/braintv/workgroups/nc-ophys/Farzaneh/ICA_crossTalk/session_902884228/\n",
      "['903485705', '903485708', '903485714', '903485716', '903485710', '903485712', '903485718', '903485720']\n"
     ]
    },
    {
     "name": "stderr",
     "output_type": "stream",
     "text": [
      "/home/nataliao/miniconda3/envs/mesoscope/lib/python3.6/site-packages/ipykernel_launcher.py:44: RuntimeWarning: More than 20 figures have been opened. Figures created through the pyplot interface (`matplotlib.pyplot.figure`) are retained until explicitly closed and may consume too much memory. (To control this warning, see the rcParam `figure.max_open_warning`).\n"
     ]
    },
    {
     "name": "stdout",
     "output_type": "stream",
     "text": [
      "Saving figure:\n",
      "/allen/programs/braintv/workgroups/nc-ophys/Farzaneh/ICA_crossTalk/session_902884228/neuropil_corrected_manual_903485705/neuropil_correction.pdf\n"
     ]
    },
    {
     "name": "stderr",
     "output_type": "stream",
     "text": [
      "/home/nataliao/miniconda3/envs/mesoscope/lib/python3.6/site-packages/ipykernel_launcher.py:44: RuntimeWarning: More than 20 figures have been opened. Figures created through the pyplot interface (`matplotlib.pyplot.figure`) are retained until explicitly closed and may consume too much memory. (To control this warning, see the rcParam `figure.max_open_warning`).\n"
     ]
    },
    {
     "name": "stdout",
     "output_type": "stream",
     "text": [
      "Saving figure:\n",
      "/allen/programs/braintv/workgroups/nc-ophys/Farzaneh/ICA_crossTalk/session_902884228/neuropil_corrected_manual_903485708/neuropil_correction.pdf\n"
     ]
    },
    {
     "name": "stderr",
     "output_type": "stream",
     "text": [
      "/home/nataliao/miniconda3/envs/mesoscope/lib/python3.6/site-packages/ipykernel_launcher.py:44: RuntimeWarning: More than 20 figures have been opened. Figures created through the pyplot interface (`matplotlib.pyplot.figure`) are retained until explicitly closed and may consume too much memory. (To control this warning, see the rcParam `figure.max_open_warning`).\n"
     ]
    },
    {
     "name": "stdout",
     "output_type": "stream",
     "text": [
      "Saving figure:\n",
      "/allen/programs/braintv/workgroups/nc-ophys/Farzaneh/ICA_crossTalk/session_902884228/neuropil_corrected_manual_903485714/neuropil_correction.pdf\n"
     ]
    },
    {
     "name": "stderr",
     "output_type": "stream",
     "text": [
      "/home/nataliao/miniconda3/envs/mesoscope/lib/python3.6/site-packages/ipykernel_launcher.py:44: RuntimeWarning: More than 20 figures have been opened. Figures created through the pyplot interface (`matplotlib.pyplot.figure`) are retained until explicitly closed and may consume too much memory. (To control this warning, see the rcParam `figure.max_open_warning`).\n"
     ]
    },
    {
     "name": "stdout",
     "output_type": "stream",
     "text": [
      "Saving figure:\n",
      "/allen/programs/braintv/workgroups/nc-ophys/Farzaneh/ICA_crossTalk/session_902884228/neuropil_corrected_manual_903485716/neuropil_correction.pdf\n"
     ]
    },
    {
     "name": "stderr",
     "output_type": "stream",
     "text": [
      "/home/nataliao/miniconda3/envs/mesoscope/lib/python3.6/site-packages/ipykernel_launcher.py:44: RuntimeWarning: More than 20 figures have been opened. Figures created through the pyplot interface (`matplotlib.pyplot.figure`) are retained until explicitly closed and may consume too much memory. (To control this warning, see the rcParam `figure.max_open_warning`).\n"
     ]
    },
    {
     "name": "stdout",
     "output_type": "stream",
     "text": [
      "Saving figure:\n",
      "/allen/programs/braintv/workgroups/nc-ophys/Farzaneh/ICA_crossTalk/session_902884228/neuropil_corrected_manual_903485710/neuropil_correction.pdf\n"
     ]
    },
    {
     "name": "stderr",
     "output_type": "stream",
     "text": [
      "/home/nataliao/miniconda3/envs/mesoscope/lib/python3.6/site-packages/ipykernel_launcher.py:44: RuntimeWarning: More than 20 figures have been opened. Figures created through the pyplot interface (`matplotlib.pyplot.figure`) are retained until explicitly closed and may consume too much memory. (To control this warning, see the rcParam `figure.max_open_warning`).\n"
     ]
    },
    {
     "name": "stdout",
     "output_type": "stream",
     "text": [
      "Saving figure:\n",
      "/allen/programs/braintv/workgroups/nc-ophys/Farzaneh/ICA_crossTalk/session_902884228/neuropil_corrected_manual_903485712/neuropil_correction.pdf\n"
     ]
    },
    {
     "name": "stderr",
     "output_type": "stream",
     "text": [
      "/home/nataliao/miniconda3/envs/mesoscope/lib/python3.6/site-packages/ipykernel_launcher.py:44: RuntimeWarning: More than 20 figures have been opened. Figures created through the pyplot interface (`matplotlib.pyplot.figure`) are retained until explicitly closed and may consume too much memory. (To control this warning, see the rcParam `figure.max_open_warning`).\n"
     ]
    },
    {
     "name": "stdout",
     "output_type": "stream",
     "text": [
      "Saving figure:\n",
      "/allen/programs/braintv/workgroups/nc-ophys/Farzaneh/ICA_crossTalk/session_902884228/neuropil_corrected_manual_903485718/neuropil_correction.pdf\n"
     ]
    },
    {
     "name": "stderr",
     "output_type": "stream",
     "text": [
      "/home/nataliao/miniconda3/envs/mesoscope/lib/python3.6/site-packages/ipykernel_launcher.py:44: RuntimeWarning: More than 20 figures have been opened. Figures created through the pyplot interface (`matplotlib.pyplot.figure`) are retained until explicitly closed and may consume too much memory. (To control this warning, see the rcParam `figure.max_open_warning`).\n"
     ]
    },
    {
     "name": "stdout",
     "output_type": "stream",
     "text": [
      "Saving figure:\n",
      "/allen/programs/braintv/workgroups/nc-ophys/Farzaneh/ICA_crossTalk/session_902884228/neuropil_corrected_manual_903485720/neuropil_correction.pdf\n",
      "\n",
      "\n",
      "Session 42/66: /allen/programs/braintv/workgroups/nc-ophys/Farzaneh/ICA_crossTalk/session_903621170/\n",
      "['904363938', '904363940', '904363921', '904363923', '904363928', '904363930', '904363932', '904363934']\n"
     ]
    },
    {
     "name": "stderr",
     "output_type": "stream",
     "text": [
      "/home/nataliao/miniconda3/envs/mesoscope/lib/python3.6/site-packages/ipykernel_launcher.py:44: RuntimeWarning: More than 20 figures have been opened. Figures created through the pyplot interface (`matplotlib.pyplot.figure`) are retained until explicitly closed and may consume too much memory. (To control this warning, see the rcParam `figure.max_open_warning`).\n"
     ]
    },
    {
     "name": "stdout",
     "output_type": "stream",
     "text": [
      "Saving figure:\n",
      "/allen/programs/braintv/workgroups/nc-ophys/Farzaneh/ICA_crossTalk/session_903621170/neuropil_corrected_manual_904363938/neuropil_correction.pdf\n"
     ]
    },
    {
     "name": "stderr",
     "output_type": "stream",
     "text": [
      "/home/nataliao/miniconda3/envs/mesoscope/lib/python3.6/site-packages/ipykernel_launcher.py:44: RuntimeWarning: More than 20 figures have been opened. Figures created through the pyplot interface (`matplotlib.pyplot.figure`) are retained until explicitly closed and may consume too much memory. (To control this warning, see the rcParam `figure.max_open_warning`).\n"
     ]
    },
    {
     "name": "stdout",
     "output_type": "stream",
     "text": [
      "Saving figure:\n",
      "/allen/programs/braintv/workgroups/nc-ophys/Farzaneh/ICA_crossTalk/session_903621170/neuropil_corrected_manual_904363940/neuropil_correction.pdf\n"
     ]
    },
    {
     "name": "stderr",
     "output_type": "stream",
     "text": [
      "/home/nataliao/miniconda3/envs/mesoscope/lib/python3.6/site-packages/ipykernel_launcher.py:44: RuntimeWarning: More than 20 figures have been opened. Figures created through the pyplot interface (`matplotlib.pyplot.figure`) are retained until explicitly closed and may consume too much memory. (To control this warning, see the rcParam `figure.max_open_warning`).\n"
     ]
    },
    {
     "name": "stdout",
     "output_type": "stream",
     "text": [
      "Saving figure:\n",
      "/allen/programs/braintv/workgroups/nc-ophys/Farzaneh/ICA_crossTalk/session_903621170/neuropil_corrected_manual_904363921/neuropil_correction.pdf\n"
     ]
    },
    {
     "name": "stderr",
     "output_type": "stream",
     "text": [
      "/home/nataliao/miniconda3/envs/mesoscope/lib/python3.6/site-packages/ipykernel_launcher.py:44: RuntimeWarning: More than 20 figures have been opened. Figures created through the pyplot interface (`matplotlib.pyplot.figure`) are retained until explicitly closed and may consume too much memory. (To control this warning, see the rcParam `figure.max_open_warning`).\n"
     ]
    },
    {
     "name": "stdout",
     "output_type": "stream",
     "text": [
      "Saving figure:\n",
      "/allen/programs/braintv/workgroups/nc-ophys/Farzaneh/ICA_crossTalk/session_903621170/neuropil_corrected_manual_904363923/neuropil_correction.pdf\n"
     ]
    },
    {
     "name": "stderr",
     "output_type": "stream",
     "text": [
      "/home/nataliao/miniconda3/envs/mesoscope/lib/python3.6/site-packages/ipykernel_launcher.py:44: RuntimeWarning: More than 20 figures have been opened. Figures created through the pyplot interface (`matplotlib.pyplot.figure`) are retained until explicitly closed and may consume too much memory. (To control this warning, see the rcParam `figure.max_open_warning`).\n"
     ]
    },
    {
     "name": "stdout",
     "output_type": "stream",
     "text": [
      "Saving figure:\n",
      "/allen/programs/braintv/workgroups/nc-ophys/Farzaneh/ICA_crossTalk/session_903621170/neuropil_corrected_manual_904363928/neuropil_correction.pdf\n"
     ]
    },
    {
     "name": "stderr",
     "output_type": "stream",
     "text": [
      "/home/nataliao/miniconda3/envs/mesoscope/lib/python3.6/site-packages/ipykernel_launcher.py:44: RuntimeWarning: More than 20 figures have been opened. Figures created through the pyplot interface (`matplotlib.pyplot.figure`) are retained until explicitly closed and may consume too much memory. (To control this warning, see the rcParam `figure.max_open_warning`).\n"
     ]
    },
    {
     "name": "stdout",
     "output_type": "stream",
     "text": [
      "Saving figure:\n",
      "/allen/programs/braintv/workgroups/nc-ophys/Farzaneh/ICA_crossTalk/session_903621170/neuropil_corrected_manual_904363930/neuropil_correction.pdf\n"
     ]
    },
    {
     "name": "stderr",
     "output_type": "stream",
     "text": [
      "/home/nataliao/miniconda3/envs/mesoscope/lib/python3.6/site-packages/ipykernel_launcher.py:44: RuntimeWarning: More than 20 figures have been opened. Figures created through the pyplot interface (`matplotlib.pyplot.figure`) are retained until explicitly closed and may consume too much memory. (To control this warning, see the rcParam `figure.max_open_warning`).\n"
     ]
    },
    {
     "name": "stdout",
     "output_type": "stream",
     "text": [
      "Saving figure:\n",
      "/allen/programs/braintv/workgroups/nc-ophys/Farzaneh/ICA_crossTalk/session_903621170/neuropil_corrected_manual_904363932/neuropil_correction.pdf\n"
     ]
    },
    {
     "name": "stderr",
     "output_type": "stream",
     "text": [
      "/home/nataliao/miniconda3/envs/mesoscope/lib/python3.6/site-packages/ipykernel_launcher.py:44: RuntimeWarning: More than 20 figures have been opened. Figures created through the pyplot interface (`matplotlib.pyplot.figure`) are retained until explicitly closed and may consume too much memory. (To control this warning, see the rcParam `figure.max_open_warning`).\n"
     ]
    },
    {
     "name": "stdout",
     "output_type": "stream",
     "text": [
      "Saving figure:\n",
      "/allen/programs/braintv/workgroups/nc-ophys/Farzaneh/ICA_crossTalk/session_903621170/neuropil_corrected_manual_904363934/neuropil_correction.pdf\n",
      "\n",
      "\n",
      "Session 43/66: /allen/programs/braintv/workgroups/nc-ophys/Farzaneh/ICA_crossTalk/session_903813946/\n",
      "['904352686', '904352688', '904352698', '904352700', '904352690', '904352692', '904352694', '904352696']\n"
     ]
    },
    {
     "name": "stderr",
     "output_type": "stream",
     "text": [
      "/home/nataliao/miniconda3/envs/mesoscope/lib/python3.6/site-packages/ipykernel_launcher.py:44: RuntimeWarning: More than 20 figures have been opened. Figures created through the pyplot interface (`matplotlib.pyplot.figure`) are retained until explicitly closed and may consume too much memory. (To control this warning, see the rcParam `figure.max_open_warning`).\n"
     ]
    },
    {
     "name": "stdout",
     "output_type": "stream",
     "text": [
      "Saving figure:\n",
      "/allen/programs/braintv/workgroups/nc-ophys/Farzaneh/ICA_crossTalk/session_903813946/neuropil_corrected_manual_904352686/neuropil_correction.pdf\n"
     ]
    },
    {
     "name": "stderr",
     "output_type": "stream",
     "text": [
      "/home/nataliao/miniconda3/envs/mesoscope/lib/python3.6/site-packages/ipykernel_launcher.py:44: RuntimeWarning: More than 20 figures have been opened. Figures created through the pyplot interface (`matplotlib.pyplot.figure`) are retained until explicitly closed and may consume too much memory. (To control this warning, see the rcParam `figure.max_open_warning`).\n"
     ]
    },
    {
     "name": "stdout",
     "output_type": "stream",
     "text": [
      "Saving figure:\n",
      "/allen/programs/braintv/workgroups/nc-ophys/Farzaneh/ICA_crossTalk/session_903813946/neuropil_corrected_manual_904352688/neuropil_correction.pdf\n"
     ]
    },
    {
     "name": "stderr",
     "output_type": "stream",
     "text": [
      "/home/nataliao/miniconda3/envs/mesoscope/lib/python3.6/site-packages/ipykernel_launcher.py:44: RuntimeWarning: More than 20 figures have been opened. Figures created through the pyplot interface (`matplotlib.pyplot.figure`) are retained until explicitly closed and may consume too much memory. (To control this warning, see the rcParam `figure.max_open_warning`).\n"
     ]
    },
    {
     "name": "stdout",
     "output_type": "stream",
     "text": [
      "Saving figure:\n",
      "/allen/programs/braintv/workgroups/nc-ophys/Farzaneh/ICA_crossTalk/session_903813946/neuropil_corrected_manual_904352698/neuropil_correction.pdf\n"
     ]
    },
    {
     "name": "stderr",
     "output_type": "stream",
     "text": [
      "/home/nataliao/miniconda3/envs/mesoscope/lib/python3.6/site-packages/ipykernel_launcher.py:44: RuntimeWarning: More than 20 figures have been opened. Figures created through the pyplot interface (`matplotlib.pyplot.figure`) are retained until explicitly closed and may consume too much memory. (To control this warning, see the rcParam `figure.max_open_warning`).\n"
     ]
    },
    {
     "name": "stdout",
     "output_type": "stream",
     "text": [
      "Saving figure:\n",
      "/allen/programs/braintv/workgroups/nc-ophys/Farzaneh/ICA_crossTalk/session_903813946/neuropil_corrected_manual_904352700/neuropil_correction.pdf\n"
     ]
    },
    {
     "name": "stderr",
     "output_type": "stream",
     "text": [
      "/home/nataliao/miniconda3/envs/mesoscope/lib/python3.6/site-packages/ipykernel_launcher.py:44: RuntimeWarning: More than 20 figures have been opened. Figures created through the pyplot interface (`matplotlib.pyplot.figure`) are retained until explicitly closed and may consume too much memory. (To control this warning, see the rcParam `figure.max_open_warning`).\n"
     ]
    },
    {
     "name": "stdout",
     "output_type": "stream",
     "text": [
      "Saving figure:\n",
      "/allen/programs/braintv/workgroups/nc-ophys/Farzaneh/ICA_crossTalk/session_903813946/neuropil_corrected_manual_904352690/neuropil_correction.pdf\n"
     ]
    },
    {
     "name": "stderr",
     "output_type": "stream",
     "text": [
      "/home/nataliao/miniconda3/envs/mesoscope/lib/python3.6/site-packages/ipykernel_launcher.py:44: RuntimeWarning: More than 20 figures have been opened. Figures created through the pyplot interface (`matplotlib.pyplot.figure`) are retained until explicitly closed and may consume too much memory. (To control this warning, see the rcParam `figure.max_open_warning`).\n"
     ]
    },
    {
     "name": "stdout",
     "output_type": "stream",
     "text": [
      "Saving figure:\n",
      "/allen/programs/braintv/workgroups/nc-ophys/Farzaneh/ICA_crossTalk/session_903813946/neuropil_corrected_manual_904352692/neuropil_correction.pdf\n"
     ]
    },
    {
     "name": "stderr",
     "output_type": "stream",
     "text": [
      "/home/nataliao/miniconda3/envs/mesoscope/lib/python3.6/site-packages/ipykernel_launcher.py:44: RuntimeWarning: More than 20 figures have been opened. Figures created through the pyplot interface (`matplotlib.pyplot.figure`) are retained until explicitly closed and may consume too much memory. (To control this warning, see the rcParam `figure.max_open_warning`).\n"
     ]
    },
    {
     "name": "stdout",
     "output_type": "stream",
     "text": [
      "Saving figure:\n",
      "/allen/programs/braintv/workgroups/nc-ophys/Farzaneh/ICA_crossTalk/session_903813946/neuropil_corrected_manual_904352694/neuropil_correction.pdf\n"
     ]
    },
    {
     "name": "stderr",
     "output_type": "stream",
     "text": [
      "/home/nataliao/miniconda3/envs/mesoscope/lib/python3.6/site-packages/ipykernel_launcher.py:44: RuntimeWarning: More than 20 figures have been opened. Figures created through the pyplot interface (`matplotlib.pyplot.figure`) are retained until explicitly closed and may consume too much memory. (To control this warning, see the rcParam `figure.max_open_warning`).\n"
     ]
    },
    {
     "name": "stdout",
     "output_type": "stream",
     "text": [
      "Saving figure:\n",
      "/allen/programs/braintv/workgroups/nc-ophys/Farzaneh/ICA_crossTalk/session_903813946/neuropil_corrected_manual_904352696/neuropil_correction.pdf\n",
      "\n",
      "\n",
      "Session 44/66: /allen/programs/braintv/workgroups/nc-ophys/Farzaneh/ICA_crossTalk/session_904418381/\n",
      "['905955236', '905955238', '905955230', '905955232', '905955240', '905955242', '905955226', '905955228']\n"
     ]
    },
    {
     "name": "stderr",
     "output_type": "stream",
     "text": [
      "/home/nataliao/miniconda3/envs/mesoscope/lib/python3.6/site-packages/ipykernel_launcher.py:44: RuntimeWarning: More than 20 figures have been opened. Figures created through the pyplot interface (`matplotlib.pyplot.figure`) are retained until explicitly closed and may consume too much memory. (To control this warning, see the rcParam `figure.max_open_warning`).\n"
     ]
    },
    {
     "name": "stdout",
     "output_type": "stream",
     "text": [
      "Saving figure:\n",
      "/allen/programs/braintv/workgroups/nc-ophys/Farzaneh/ICA_crossTalk/session_904418381/neuropil_corrected_manual_905955236/neuropil_correction.pdf\n"
     ]
    },
    {
     "name": "stderr",
     "output_type": "stream",
     "text": [
      "/home/nataliao/miniconda3/envs/mesoscope/lib/python3.6/site-packages/ipykernel_launcher.py:44: RuntimeWarning: More than 20 figures have been opened. Figures created through the pyplot interface (`matplotlib.pyplot.figure`) are retained until explicitly closed and may consume too much memory. (To control this warning, see the rcParam `figure.max_open_warning`).\n"
     ]
    },
    {
     "name": "stdout",
     "output_type": "stream",
     "text": [
      "Saving figure:\n",
      "/allen/programs/braintv/workgroups/nc-ophys/Farzaneh/ICA_crossTalk/session_904418381/neuropil_corrected_manual_905955238/neuropil_correction.pdf\n"
     ]
    },
    {
     "name": "stderr",
     "output_type": "stream",
     "text": [
      "/home/nataliao/miniconda3/envs/mesoscope/lib/python3.6/site-packages/ipykernel_launcher.py:44: RuntimeWarning: More than 20 figures have been opened. Figures created through the pyplot interface (`matplotlib.pyplot.figure`) are retained until explicitly closed and may consume too much memory. (To control this warning, see the rcParam `figure.max_open_warning`).\n"
     ]
    },
    {
     "name": "stdout",
     "output_type": "stream",
     "text": [
      "Saving figure:\n",
      "/allen/programs/braintv/workgroups/nc-ophys/Farzaneh/ICA_crossTalk/session_904418381/neuropil_corrected_manual_905955230/neuropil_correction.pdf\n"
     ]
    },
    {
     "name": "stderr",
     "output_type": "stream",
     "text": [
      "/home/nataliao/miniconda3/envs/mesoscope/lib/python3.6/site-packages/ipykernel_launcher.py:44: RuntimeWarning: More than 20 figures have been opened. Figures created through the pyplot interface (`matplotlib.pyplot.figure`) are retained until explicitly closed and may consume too much memory. (To control this warning, see the rcParam `figure.max_open_warning`).\n"
     ]
    },
    {
     "name": "stdout",
     "output_type": "stream",
     "text": [
      "Saving figure:\n",
      "/allen/programs/braintv/workgroups/nc-ophys/Farzaneh/ICA_crossTalk/session_904418381/neuropil_corrected_manual_905955232/neuropil_correction.pdf\n"
     ]
    },
    {
     "name": "stderr",
     "output_type": "stream",
     "text": [
      "/home/nataliao/miniconda3/envs/mesoscope/lib/python3.6/site-packages/ipykernel_launcher.py:44: RuntimeWarning: More than 20 figures have been opened. Figures created through the pyplot interface (`matplotlib.pyplot.figure`) are retained until explicitly closed and may consume too much memory. (To control this warning, see the rcParam `figure.max_open_warning`).\n"
     ]
    },
    {
     "name": "stdout",
     "output_type": "stream",
     "text": [
      "Saving figure:\n",
      "/allen/programs/braintv/workgroups/nc-ophys/Farzaneh/ICA_crossTalk/session_904418381/neuropil_corrected_manual_905955240/neuropil_correction.pdf\n"
     ]
    },
    {
     "name": "stderr",
     "output_type": "stream",
     "text": [
      "/home/nataliao/miniconda3/envs/mesoscope/lib/python3.6/site-packages/ipykernel_launcher.py:44: RuntimeWarning: More than 20 figures have been opened. Figures created through the pyplot interface (`matplotlib.pyplot.figure`) are retained until explicitly closed and may consume too much memory. (To control this warning, see the rcParam `figure.max_open_warning`).\n"
     ]
    },
    {
     "name": "stdout",
     "output_type": "stream",
     "text": [
      "Saving figure:\n",
      "/allen/programs/braintv/workgroups/nc-ophys/Farzaneh/ICA_crossTalk/session_904418381/neuropil_corrected_manual_905955242/neuropil_correction.pdf\n"
     ]
    },
    {
     "name": "stderr",
     "output_type": "stream",
     "text": [
      "/home/nataliao/miniconda3/envs/mesoscope/lib/python3.6/site-packages/ipykernel_launcher.py:44: RuntimeWarning: More than 20 figures have been opened. Figures created through the pyplot interface (`matplotlib.pyplot.figure`) are retained until explicitly closed and may consume too much memory. (To control this warning, see the rcParam `figure.max_open_warning`).\n"
     ]
    },
    {
     "name": "stdout",
     "output_type": "stream",
     "text": [
      "Saving figure:\n",
      "/allen/programs/braintv/workgroups/nc-ophys/Farzaneh/ICA_crossTalk/session_904418381/neuropil_corrected_manual_905955226/neuropil_correction.pdf\n"
     ]
    },
    {
     "name": "stderr",
     "output_type": "stream",
     "text": [
      "/home/nataliao/miniconda3/envs/mesoscope/lib/python3.6/site-packages/ipykernel_launcher.py:44: RuntimeWarning: More than 20 figures have been opened. Figures created through the pyplot interface (`matplotlib.pyplot.figure`) are retained until explicitly closed and may consume too much memory. (To control this warning, see the rcParam `figure.max_open_warning`).\n"
     ]
    },
    {
     "name": "stdout",
     "output_type": "stream",
     "text": [
      "Saving figure:\n",
      "/allen/programs/braintv/workgroups/nc-ophys/Farzaneh/ICA_crossTalk/session_904418381/neuropil_corrected_manual_905955228/neuropil_correction.pdf\n",
      "\n",
      "\n",
      "Session 45/66: /allen/programs/braintv/workgroups/nc-ophys/Farzaneh/ICA_crossTalk/session_925478114/\n",
      "['925843756', '925843758', '925843771', '925843773', '925843765', '925843769', '925843761', '925843763']\n"
     ]
    },
    {
     "name": "stderr",
     "output_type": "stream",
     "text": [
      "/home/nataliao/miniconda3/envs/mesoscope/lib/python3.6/site-packages/ipykernel_launcher.py:44: RuntimeWarning: More than 20 figures have been opened. Figures created through the pyplot interface (`matplotlib.pyplot.figure`) are retained until explicitly closed and may consume too much memory. (To control this warning, see the rcParam `figure.max_open_warning`).\n"
     ]
    },
    {
     "name": "stdout",
     "output_type": "stream",
     "text": [
      "Saving figure:\n",
      "/allen/programs/braintv/workgroups/nc-ophys/Farzaneh/ICA_crossTalk/session_925478114/neuropil_corrected_manual_925843756/neuropil_correction.pdf\n"
     ]
    },
    {
     "name": "stderr",
     "output_type": "stream",
     "text": [
      "/home/nataliao/miniconda3/envs/mesoscope/lib/python3.6/site-packages/ipykernel_launcher.py:44: RuntimeWarning: More than 20 figures have been opened. Figures created through the pyplot interface (`matplotlib.pyplot.figure`) are retained until explicitly closed and may consume too much memory. (To control this warning, see the rcParam `figure.max_open_warning`).\n"
     ]
    },
    {
     "name": "stdout",
     "output_type": "stream",
     "text": [
      "Saving figure:\n",
      "/allen/programs/braintv/workgroups/nc-ophys/Farzaneh/ICA_crossTalk/session_925478114/neuropil_corrected_manual_925843758/neuropil_correction.pdf\n"
     ]
    },
    {
     "name": "stderr",
     "output_type": "stream",
     "text": [
      "/home/nataliao/miniconda3/envs/mesoscope/lib/python3.6/site-packages/ipykernel_launcher.py:44: RuntimeWarning: More than 20 figures have been opened. Figures created through the pyplot interface (`matplotlib.pyplot.figure`) are retained until explicitly closed and may consume too much memory. (To control this warning, see the rcParam `figure.max_open_warning`).\n"
     ]
    },
    {
     "name": "stdout",
     "output_type": "stream",
     "text": [
      "Saving figure:\n",
      "/allen/programs/braintv/workgroups/nc-ophys/Farzaneh/ICA_crossTalk/session_925478114/neuropil_corrected_manual_925843771/neuropil_correction.pdf\n"
     ]
    },
    {
     "name": "stderr",
     "output_type": "stream",
     "text": [
      "/home/nataliao/miniconda3/envs/mesoscope/lib/python3.6/site-packages/ipykernel_launcher.py:44: RuntimeWarning: More than 20 figures have been opened. Figures created through the pyplot interface (`matplotlib.pyplot.figure`) are retained until explicitly closed and may consume too much memory. (To control this warning, see the rcParam `figure.max_open_warning`).\n"
     ]
    },
    {
     "name": "stdout",
     "output_type": "stream",
     "text": [
      "Saving figure:\n",
      "/allen/programs/braintv/workgroups/nc-ophys/Farzaneh/ICA_crossTalk/session_925478114/neuropil_corrected_manual_925843773/neuropil_correction.pdf\n"
     ]
    },
    {
     "name": "stderr",
     "output_type": "stream",
     "text": [
      "/home/nataliao/miniconda3/envs/mesoscope/lib/python3.6/site-packages/ipykernel_launcher.py:44: RuntimeWarning: More than 20 figures have been opened. Figures created through the pyplot interface (`matplotlib.pyplot.figure`) are retained until explicitly closed and may consume too much memory. (To control this warning, see the rcParam `figure.max_open_warning`).\n"
     ]
    },
    {
     "name": "stdout",
     "output_type": "stream",
     "text": [
      "Saving figure:\n",
      "/allen/programs/braintv/workgroups/nc-ophys/Farzaneh/ICA_crossTalk/session_925478114/neuropil_corrected_manual_925843765/neuropil_correction.pdf\n"
     ]
    },
    {
     "name": "stderr",
     "output_type": "stream",
     "text": [
      "/home/nataliao/miniconda3/envs/mesoscope/lib/python3.6/site-packages/ipykernel_launcher.py:44: RuntimeWarning: More than 20 figures have been opened. Figures created through the pyplot interface (`matplotlib.pyplot.figure`) are retained until explicitly closed and may consume too much memory. (To control this warning, see the rcParam `figure.max_open_warning`).\n"
     ]
    },
    {
     "name": "stdout",
     "output_type": "stream",
     "text": [
      "Saving figure:\n",
      "/allen/programs/braintv/workgroups/nc-ophys/Farzaneh/ICA_crossTalk/session_925478114/neuropil_corrected_manual_925843769/neuropil_correction.pdf\n"
     ]
    },
    {
     "name": "stderr",
     "output_type": "stream",
     "text": [
      "/home/nataliao/miniconda3/envs/mesoscope/lib/python3.6/site-packages/ipykernel_launcher.py:44: RuntimeWarning: More than 20 figures have been opened. Figures created through the pyplot interface (`matplotlib.pyplot.figure`) are retained until explicitly closed and may consume too much memory. (To control this warning, see the rcParam `figure.max_open_warning`).\n"
     ]
    },
    {
     "name": "stdout",
     "output_type": "stream",
     "text": [
      "Saving figure:\n",
      "/allen/programs/braintv/workgroups/nc-ophys/Farzaneh/ICA_crossTalk/session_925478114/neuropil_corrected_manual_925843761/neuropil_correction.pdf\n"
     ]
    },
    {
     "name": "stderr",
     "output_type": "stream",
     "text": [
      "/home/nataliao/miniconda3/envs/mesoscope/lib/python3.6/site-packages/ipykernel_launcher.py:44: RuntimeWarning: More than 20 figures have been opened. Figures created through the pyplot interface (`matplotlib.pyplot.figure`) are retained until explicitly closed and may consume too much memory. (To control this warning, see the rcParam `figure.max_open_warning`).\n"
     ]
    },
    {
     "name": "stdout",
     "output_type": "stream",
     "text": [
      "Saving figure:\n",
      "/allen/programs/braintv/workgroups/nc-ophys/Farzaneh/ICA_crossTalk/session_925478114/neuropil_corrected_manual_925843763/neuropil_correction.pdf\n",
      "\n",
      "\n",
      "Session 46/66: /allen/programs/braintv/workgroups/nc-ophys/Farzaneh/ICA_crossTalk/session_926488384/\n",
      "['927102644', '927102646', '927102632', '927102634', '927102640', '927102642', '927102636', '927102638']\n"
     ]
    },
    {
     "name": "stderr",
     "output_type": "stream",
     "text": [
      "/home/nataliao/miniconda3/envs/mesoscope/lib/python3.6/site-packages/ipykernel_launcher.py:44: RuntimeWarning: More than 20 figures have been opened. Figures created through the pyplot interface (`matplotlib.pyplot.figure`) are retained until explicitly closed and may consume too much memory. (To control this warning, see the rcParam `figure.max_open_warning`).\n"
     ]
    },
    {
     "name": "stdout",
     "output_type": "stream",
     "text": [
      "Saving figure:\n",
      "/allen/programs/braintv/workgroups/nc-ophys/Farzaneh/ICA_crossTalk/session_926488384/neuropil_corrected_manual_927102644/neuropil_correction.pdf\n"
     ]
    },
    {
     "name": "stderr",
     "output_type": "stream",
     "text": [
      "/home/nataliao/miniconda3/envs/mesoscope/lib/python3.6/site-packages/ipykernel_launcher.py:44: RuntimeWarning: More than 20 figures have been opened. Figures created through the pyplot interface (`matplotlib.pyplot.figure`) are retained until explicitly closed and may consume too much memory. (To control this warning, see the rcParam `figure.max_open_warning`).\n"
     ]
    },
    {
     "name": "stdout",
     "output_type": "stream",
     "text": [
      "Saving figure:\n",
      "/allen/programs/braintv/workgroups/nc-ophys/Farzaneh/ICA_crossTalk/session_926488384/neuropil_corrected_manual_927102646/neuropil_correction.pdf\n"
     ]
    },
    {
     "name": "stderr",
     "output_type": "stream",
     "text": [
      "/home/nataliao/miniconda3/envs/mesoscope/lib/python3.6/site-packages/ipykernel_launcher.py:44: RuntimeWarning: More than 20 figures have been opened. Figures created through the pyplot interface (`matplotlib.pyplot.figure`) are retained until explicitly closed and may consume too much memory. (To control this warning, see the rcParam `figure.max_open_warning`).\n"
     ]
    },
    {
     "name": "stdout",
     "output_type": "stream",
     "text": [
      "Saving figure:\n",
      "/allen/programs/braintv/workgroups/nc-ophys/Farzaneh/ICA_crossTalk/session_926488384/neuropil_corrected_manual_927102632/neuropil_correction.pdf\n"
     ]
    },
    {
     "name": "stderr",
     "output_type": "stream",
     "text": [
      "/home/nataliao/miniconda3/envs/mesoscope/lib/python3.6/site-packages/ipykernel_launcher.py:44: RuntimeWarning: More than 20 figures have been opened. Figures created through the pyplot interface (`matplotlib.pyplot.figure`) are retained until explicitly closed and may consume too much memory. (To control this warning, see the rcParam `figure.max_open_warning`).\n"
     ]
    },
    {
     "name": "stdout",
     "output_type": "stream",
     "text": [
      "Saving figure:\n",
      "/allen/programs/braintv/workgroups/nc-ophys/Farzaneh/ICA_crossTalk/session_926488384/neuropil_corrected_manual_927102634/neuropil_correction.pdf\n"
     ]
    },
    {
     "name": "stderr",
     "output_type": "stream",
     "text": [
      "/home/nataliao/miniconda3/envs/mesoscope/lib/python3.6/site-packages/ipykernel_launcher.py:44: RuntimeWarning: More than 20 figures have been opened. Figures created through the pyplot interface (`matplotlib.pyplot.figure`) are retained until explicitly closed and may consume too much memory. (To control this warning, see the rcParam `figure.max_open_warning`).\n"
     ]
    },
    {
     "name": "stdout",
     "output_type": "stream",
     "text": [
      "Saving figure:\n",
      "/allen/programs/braintv/workgroups/nc-ophys/Farzaneh/ICA_crossTalk/session_926488384/neuropil_corrected_manual_927102640/neuropil_correction.pdf\n"
     ]
    },
    {
     "name": "stderr",
     "output_type": "stream",
     "text": [
      "/home/nataliao/miniconda3/envs/mesoscope/lib/python3.6/site-packages/ipykernel_launcher.py:44: RuntimeWarning: More than 20 figures have been opened. Figures created through the pyplot interface (`matplotlib.pyplot.figure`) are retained until explicitly closed and may consume too much memory. (To control this warning, see the rcParam `figure.max_open_warning`).\n"
     ]
    },
    {
     "name": "stdout",
     "output_type": "stream",
     "text": [
      "Saving figure:\n",
      "/allen/programs/braintv/workgroups/nc-ophys/Farzaneh/ICA_crossTalk/session_926488384/neuropil_corrected_manual_927102642/neuropil_correction.pdf\n"
     ]
    },
    {
     "name": "stderr",
     "output_type": "stream",
     "text": [
      "/home/nataliao/miniconda3/envs/mesoscope/lib/python3.6/site-packages/ipykernel_launcher.py:44: RuntimeWarning: More than 20 figures have been opened. Figures created through the pyplot interface (`matplotlib.pyplot.figure`) are retained until explicitly closed and may consume too much memory. (To control this warning, see the rcParam `figure.max_open_warning`).\n"
     ]
    },
    {
     "name": "stdout",
     "output_type": "stream",
     "text": [
      "Saving figure:\n",
      "/allen/programs/braintv/workgroups/nc-ophys/Farzaneh/ICA_crossTalk/session_926488384/neuropil_corrected_manual_927102636/neuropil_correction.pdf\n"
     ]
    },
    {
     "name": "stderr",
     "output_type": "stream",
     "text": [
      "/home/nataliao/miniconda3/envs/mesoscope/lib/python3.6/site-packages/ipykernel_launcher.py:44: RuntimeWarning: More than 20 figures have been opened. Figures created through the pyplot interface (`matplotlib.pyplot.figure`) are retained until explicitly closed and may consume too much memory. (To control this warning, see the rcParam `figure.max_open_warning`).\n"
     ]
    },
    {
     "name": "stdout",
     "output_type": "stream",
     "text": [
      "Saving figure:\n",
      "/allen/programs/braintv/workgroups/nc-ophys/Farzaneh/ICA_crossTalk/session_926488384/neuropil_corrected_manual_927102638/neuropil_correction.pdf\n",
      "\n",
      "\n",
      "Session 47/66: /allen/programs/braintv/workgroups/nc-ophys/Farzaneh/ICA_crossTalk/session_927787876/\n",
      "['929653474', '929653479', '929653466', '929653468', '929653481', '929653483', '929653470', '929653472']\n"
     ]
    },
    {
     "name": "stderr",
     "output_type": "stream",
     "text": [
      "/home/nataliao/miniconda3/envs/mesoscope/lib/python3.6/site-packages/ipykernel_launcher.py:44: RuntimeWarning: More than 20 figures have been opened. Figures created through the pyplot interface (`matplotlib.pyplot.figure`) are retained until explicitly closed and may consume too much memory. (To control this warning, see the rcParam `figure.max_open_warning`).\n"
     ]
    },
    {
     "name": "stdout",
     "output_type": "stream",
     "text": [
      "Saving figure:\n",
      "/allen/programs/braintv/workgroups/nc-ophys/Farzaneh/ICA_crossTalk/session_927787876/neuropil_corrected_manual_929653474/neuropil_correction.pdf\n"
     ]
    },
    {
     "name": "stderr",
     "output_type": "stream",
     "text": [
      "/home/nataliao/miniconda3/envs/mesoscope/lib/python3.6/site-packages/ipykernel_launcher.py:44: RuntimeWarning: More than 20 figures have been opened. Figures created through the pyplot interface (`matplotlib.pyplot.figure`) are retained until explicitly closed and may consume too much memory. (To control this warning, see the rcParam `figure.max_open_warning`).\n"
     ]
    },
    {
     "name": "stdout",
     "output_type": "stream",
     "text": [
      "Saving figure:\n",
      "/allen/programs/braintv/workgroups/nc-ophys/Farzaneh/ICA_crossTalk/session_927787876/neuropil_corrected_manual_929653479/neuropil_correction.pdf\n"
     ]
    },
    {
     "name": "stderr",
     "output_type": "stream",
     "text": [
      "/home/nataliao/miniconda3/envs/mesoscope/lib/python3.6/site-packages/ipykernel_launcher.py:44: RuntimeWarning: More than 20 figures have been opened. Figures created through the pyplot interface (`matplotlib.pyplot.figure`) are retained until explicitly closed and may consume too much memory. (To control this warning, see the rcParam `figure.max_open_warning`).\n"
     ]
    },
    {
     "name": "stdout",
     "output_type": "stream",
     "text": [
      "Saving figure:\n",
      "/allen/programs/braintv/workgroups/nc-ophys/Farzaneh/ICA_crossTalk/session_927787876/neuropil_corrected_manual_929653466/neuropil_correction.pdf\n"
     ]
    },
    {
     "name": "stderr",
     "output_type": "stream",
     "text": [
      "/home/nataliao/miniconda3/envs/mesoscope/lib/python3.6/site-packages/ipykernel_launcher.py:44: RuntimeWarning: More than 20 figures have been opened. Figures created through the pyplot interface (`matplotlib.pyplot.figure`) are retained until explicitly closed and may consume too much memory. (To control this warning, see the rcParam `figure.max_open_warning`).\n"
     ]
    },
    {
     "name": "stdout",
     "output_type": "stream",
     "text": [
      "Saving figure:\n",
      "/allen/programs/braintv/workgroups/nc-ophys/Farzaneh/ICA_crossTalk/session_927787876/neuropil_corrected_manual_929653468/neuropil_correction.pdf\n"
     ]
    },
    {
     "name": "stderr",
     "output_type": "stream",
     "text": [
      "/home/nataliao/miniconda3/envs/mesoscope/lib/python3.6/site-packages/ipykernel_launcher.py:44: RuntimeWarning: More than 20 figures have been opened. Figures created through the pyplot interface (`matplotlib.pyplot.figure`) are retained until explicitly closed and may consume too much memory. (To control this warning, see the rcParam `figure.max_open_warning`).\n"
     ]
    },
    {
     "name": "stdout",
     "output_type": "stream",
     "text": [
      "Saving figure:\n",
      "/allen/programs/braintv/workgroups/nc-ophys/Farzaneh/ICA_crossTalk/session_927787876/neuropil_corrected_manual_929653481/neuropil_correction.pdf\n"
     ]
    },
    {
     "name": "stderr",
     "output_type": "stream",
     "text": [
      "/home/nataliao/miniconda3/envs/mesoscope/lib/python3.6/site-packages/ipykernel_launcher.py:44: RuntimeWarning: More than 20 figures have been opened. Figures created through the pyplot interface (`matplotlib.pyplot.figure`) are retained until explicitly closed and may consume too much memory. (To control this warning, see the rcParam `figure.max_open_warning`).\n"
     ]
    },
    {
     "name": "stdout",
     "output_type": "stream",
     "text": [
      "Saving figure:\n",
      "/allen/programs/braintv/workgroups/nc-ophys/Farzaneh/ICA_crossTalk/session_927787876/neuropil_corrected_manual_929653483/neuropil_correction.pdf\n"
     ]
    },
    {
     "name": "stderr",
     "output_type": "stream",
     "text": [
      "/home/nataliao/miniconda3/envs/mesoscope/lib/python3.6/site-packages/ipykernel_launcher.py:44: RuntimeWarning: More than 20 figures have been opened. Figures created through the pyplot interface (`matplotlib.pyplot.figure`) are retained until explicitly closed and may consume too much memory. (To control this warning, see the rcParam `figure.max_open_warning`).\n"
     ]
    },
    {
     "name": "stdout",
     "output_type": "stream",
     "text": [
      "Saving figure:\n",
      "/allen/programs/braintv/workgroups/nc-ophys/Farzaneh/ICA_crossTalk/session_927787876/neuropil_corrected_manual_929653470/neuropil_correction.pdf\n"
     ]
    },
    {
     "name": "stderr",
     "output_type": "stream",
     "text": [
      "/home/nataliao/miniconda3/envs/mesoscope/lib/python3.6/site-packages/ipykernel_launcher.py:44: RuntimeWarning: More than 20 figures have been opened. Figures created through the pyplot interface (`matplotlib.pyplot.figure`) are retained until explicitly closed and may consume too much memory. (To control this warning, see the rcParam `figure.max_open_warning`).\n"
     ]
    },
    {
     "name": "stdout",
     "output_type": "stream",
     "text": [
      "Saving figure:\n",
      "/allen/programs/braintv/workgroups/nc-ophys/Farzaneh/ICA_crossTalk/session_927787876/neuropil_corrected_manual_929653472/neuropil_correction.pdf\n",
      "\n",
      "\n",
      "Session 48/66: /allen/programs/braintv/workgroups/nc-ophys/Farzaneh/ICA_crossTalk/session_928414538/\n",
      "['929604324', '929604327', '929604329', '929604331', '929604316', '929604318', '929604320', '929604322']\n"
     ]
    },
    {
     "name": "stderr",
     "output_type": "stream",
     "text": [
      "/home/nataliao/miniconda3/envs/mesoscope/lib/python3.6/site-packages/ipykernel_launcher.py:44: RuntimeWarning: More than 20 figures have been opened. Figures created through the pyplot interface (`matplotlib.pyplot.figure`) are retained until explicitly closed and may consume too much memory. (To control this warning, see the rcParam `figure.max_open_warning`).\n"
     ]
    },
    {
     "name": "stdout",
     "output_type": "stream",
     "text": [
      "Saving figure:\n",
      "/allen/programs/braintv/workgroups/nc-ophys/Farzaneh/ICA_crossTalk/session_928414538/neuropil_corrected_manual_929604324/neuropil_correction.pdf\n"
     ]
    },
    {
     "name": "stderr",
     "output_type": "stream",
     "text": [
      "/home/nataliao/miniconda3/envs/mesoscope/lib/python3.6/site-packages/ipykernel_launcher.py:44: RuntimeWarning: More than 20 figures have been opened. Figures created through the pyplot interface (`matplotlib.pyplot.figure`) are retained until explicitly closed and may consume too much memory. (To control this warning, see the rcParam `figure.max_open_warning`).\n"
     ]
    },
    {
     "name": "stdout",
     "output_type": "stream",
     "text": [
      "Saving figure:\n",
      "/allen/programs/braintv/workgroups/nc-ophys/Farzaneh/ICA_crossTalk/session_928414538/neuropil_corrected_manual_929604327/neuropil_correction.pdf\n"
     ]
    },
    {
     "name": "stderr",
     "output_type": "stream",
     "text": [
      "/home/nataliao/miniconda3/envs/mesoscope/lib/python3.6/site-packages/ipykernel_launcher.py:44: RuntimeWarning: More than 20 figures have been opened. Figures created through the pyplot interface (`matplotlib.pyplot.figure`) are retained until explicitly closed and may consume too much memory. (To control this warning, see the rcParam `figure.max_open_warning`).\n"
     ]
    },
    {
     "name": "stdout",
     "output_type": "stream",
     "text": [
      "Saving figure:\n",
      "/allen/programs/braintv/workgroups/nc-ophys/Farzaneh/ICA_crossTalk/session_928414538/neuropil_corrected_manual_929604329/neuropil_correction.pdf\n"
     ]
    },
    {
     "name": "stderr",
     "output_type": "stream",
     "text": [
      "/home/nataliao/miniconda3/envs/mesoscope/lib/python3.6/site-packages/ipykernel_launcher.py:44: RuntimeWarning: More than 20 figures have been opened. Figures created through the pyplot interface (`matplotlib.pyplot.figure`) are retained until explicitly closed and may consume too much memory. (To control this warning, see the rcParam `figure.max_open_warning`).\n"
     ]
    },
    {
     "name": "stdout",
     "output_type": "stream",
     "text": [
      "Saving figure:\n",
      "/allen/programs/braintv/workgroups/nc-ophys/Farzaneh/ICA_crossTalk/session_928414538/neuropil_corrected_manual_929604331/neuropil_correction.pdf\n"
     ]
    },
    {
     "name": "stderr",
     "output_type": "stream",
     "text": [
      "/home/nataliao/miniconda3/envs/mesoscope/lib/python3.6/site-packages/ipykernel_launcher.py:44: RuntimeWarning: More than 20 figures have been opened. Figures created through the pyplot interface (`matplotlib.pyplot.figure`) are retained until explicitly closed and may consume too much memory. (To control this warning, see the rcParam `figure.max_open_warning`).\n"
     ]
    },
    {
     "name": "stdout",
     "output_type": "stream",
     "text": [
      "Saving figure:\n",
      "/allen/programs/braintv/workgroups/nc-ophys/Farzaneh/ICA_crossTalk/session_928414538/neuropil_corrected_manual_929604316/neuropil_correction.pdf\n"
     ]
    },
    {
     "name": "stderr",
     "output_type": "stream",
     "text": [
      "/home/nataliao/miniconda3/envs/mesoscope/lib/python3.6/site-packages/ipykernel_launcher.py:44: RuntimeWarning: More than 20 figures have been opened. Figures created through the pyplot interface (`matplotlib.pyplot.figure`) are retained until explicitly closed and may consume too much memory. (To control this warning, see the rcParam `figure.max_open_warning`).\n"
     ]
    },
    {
     "name": "stdout",
     "output_type": "stream",
     "text": [
      "Saving figure:\n",
      "/allen/programs/braintv/workgroups/nc-ophys/Farzaneh/ICA_crossTalk/session_928414538/neuropil_corrected_manual_929604318/neuropil_correction.pdf\n"
     ]
    },
    {
     "name": "stderr",
     "output_type": "stream",
     "text": [
      "/home/nataliao/miniconda3/envs/mesoscope/lib/python3.6/site-packages/ipykernel_launcher.py:44: RuntimeWarning: More than 20 figures have been opened. Figures created through the pyplot interface (`matplotlib.pyplot.figure`) are retained until explicitly closed and may consume too much memory. (To control this warning, see the rcParam `figure.max_open_warning`).\n"
     ]
    },
    {
     "name": "stdout",
     "output_type": "stream",
     "text": [
      "Saving figure:\n",
      "/allen/programs/braintv/workgroups/nc-ophys/Farzaneh/ICA_crossTalk/session_928414538/neuropil_corrected_manual_929604320/neuropil_correction.pdf\n"
     ]
    },
    {
     "name": "stderr",
     "output_type": "stream",
     "text": [
      "/home/nataliao/miniconda3/envs/mesoscope/lib/python3.6/site-packages/ipykernel_launcher.py:44: RuntimeWarning: More than 20 figures have been opened. Figures created through the pyplot interface (`matplotlib.pyplot.figure`) are retained until explicitly closed and may consume too much memory. (To control this warning, see the rcParam `figure.max_open_warning`).\n"
     ]
    },
    {
     "name": "stdout",
     "output_type": "stream",
     "text": [
      "Saving figure:\n",
      "/allen/programs/braintv/workgroups/nc-ophys/Farzaneh/ICA_crossTalk/session_928414538/neuropil_corrected_manual_929604322/neuropil_correction.pdf\n",
      "\n",
      "\n",
      "Session 49/66: /allen/programs/braintv/workgroups/nc-ophys/Farzaneh/ICA_crossTalk/session_929255311/\n",
      "['929655730', '929655732', '929655724', '929655728', '929655735', '929655737', '929655720', '929655722']\n"
     ]
    },
    {
     "name": "stderr",
     "output_type": "stream",
     "text": [
      "/home/nataliao/miniconda3/envs/mesoscope/lib/python3.6/site-packages/ipykernel_launcher.py:44: RuntimeWarning: More than 20 figures have been opened. Figures created through the pyplot interface (`matplotlib.pyplot.figure`) are retained until explicitly closed and may consume too much memory. (To control this warning, see the rcParam `figure.max_open_warning`).\n"
     ]
    },
    {
     "name": "stdout",
     "output_type": "stream",
     "text": [
      "Saving figure:\n",
      "/allen/programs/braintv/workgroups/nc-ophys/Farzaneh/ICA_crossTalk/session_929255311/neuropil_corrected_manual_929655730/neuropil_correction.pdf\n"
     ]
    },
    {
     "name": "stderr",
     "output_type": "stream",
     "text": [
      "/home/nataliao/miniconda3/envs/mesoscope/lib/python3.6/site-packages/ipykernel_launcher.py:44: RuntimeWarning: More than 20 figures have been opened. Figures created through the pyplot interface (`matplotlib.pyplot.figure`) are retained until explicitly closed and may consume too much memory. (To control this warning, see the rcParam `figure.max_open_warning`).\n"
     ]
    },
    {
     "name": "stdout",
     "output_type": "stream",
     "text": [
      "Saving figure:\n",
      "/allen/programs/braintv/workgroups/nc-ophys/Farzaneh/ICA_crossTalk/session_929255311/neuropil_corrected_manual_929655732/neuropil_correction.pdf\n"
     ]
    },
    {
     "name": "stderr",
     "output_type": "stream",
     "text": [
      "/home/nataliao/miniconda3/envs/mesoscope/lib/python3.6/site-packages/ipykernel_launcher.py:44: RuntimeWarning: More than 20 figures have been opened. Figures created through the pyplot interface (`matplotlib.pyplot.figure`) are retained until explicitly closed and may consume too much memory. (To control this warning, see the rcParam `figure.max_open_warning`).\n"
     ]
    },
    {
     "name": "stdout",
     "output_type": "stream",
     "text": [
      "Saving figure:\n",
      "/allen/programs/braintv/workgroups/nc-ophys/Farzaneh/ICA_crossTalk/session_929255311/neuropil_corrected_manual_929655724/neuropil_correction.pdf\n"
     ]
    },
    {
     "name": "stderr",
     "output_type": "stream",
     "text": [
      "/home/nataliao/miniconda3/envs/mesoscope/lib/python3.6/site-packages/ipykernel_launcher.py:44: RuntimeWarning: More than 20 figures have been opened. Figures created through the pyplot interface (`matplotlib.pyplot.figure`) are retained until explicitly closed and may consume too much memory. (To control this warning, see the rcParam `figure.max_open_warning`).\n"
     ]
    },
    {
     "name": "stdout",
     "output_type": "stream",
     "text": [
      "Saving figure:\n",
      "/allen/programs/braintv/workgroups/nc-ophys/Farzaneh/ICA_crossTalk/session_929255311/neuropil_corrected_manual_929655728/neuropil_correction.pdf\n"
     ]
    },
    {
     "name": "stderr",
     "output_type": "stream",
     "text": [
      "/home/nataliao/miniconda3/envs/mesoscope/lib/python3.6/site-packages/ipykernel_launcher.py:44: RuntimeWarning: More than 20 figures have been opened. Figures created through the pyplot interface (`matplotlib.pyplot.figure`) are retained until explicitly closed and may consume too much memory. (To control this warning, see the rcParam `figure.max_open_warning`).\n"
     ]
    },
    {
     "name": "stdout",
     "output_type": "stream",
     "text": [
      "Saving figure:\n",
      "/allen/programs/braintv/workgroups/nc-ophys/Farzaneh/ICA_crossTalk/session_929255311/neuropil_corrected_manual_929655735/neuropil_correction.pdf\n"
     ]
    },
    {
     "name": "stderr",
     "output_type": "stream",
     "text": [
      "/home/nataliao/miniconda3/envs/mesoscope/lib/python3.6/site-packages/ipykernel_launcher.py:44: RuntimeWarning: More than 20 figures have been opened. Figures created through the pyplot interface (`matplotlib.pyplot.figure`) are retained until explicitly closed and may consume too much memory. (To control this warning, see the rcParam `figure.max_open_warning`).\n"
     ]
    },
    {
     "name": "stdout",
     "output_type": "stream",
     "text": [
      "Saving figure:\n",
      "/allen/programs/braintv/workgroups/nc-ophys/Farzaneh/ICA_crossTalk/session_929255311/neuropil_corrected_manual_929655737/neuropil_correction.pdf\n"
     ]
    },
    {
     "name": "stderr",
     "output_type": "stream",
     "text": [
      "/home/nataliao/miniconda3/envs/mesoscope/lib/python3.6/site-packages/ipykernel_launcher.py:44: RuntimeWarning: More than 20 figures have been opened. Figures created through the pyplot interface (`matplotlib.pyplot.figure`) are retained until explicitly closed and may consume too much memory. (To control this warning, see the rcParam `figure.max_open_warning`).\n"
     ]
    },
    {
     "name": "stdout",
     "output_type": "stream",
     "text": [
      "Saving figure:\n",
      "/allen/programs/braintv/workgroups/nc-ophys/Farzaneh/ICA_crossTalk/session_929255311/neuropil_corrected_manual_929655720/neuropil_correction.pdf\n"
     ]
    },
    {
     "name": "stderr",
     "output_type": "stream",
     "text": [
      "/home/nataliao/miniconda3/envs/mesoscope/lib/python3.6/site-packages/ipykernel_launcher.py:44: RuntimeWarning: More than 20 figures have been opened. Figures created through the pyplot interface (`matplotlib.pyplot.figure`) are retained until explicitly closed and may consume too much memory. (To control this warning, see the rcParam `figure.max_open_warning`).\n"
     ]
    },
    {
     "name": "stdout",
     "output_type": "stream",
     "text": [
      "Saving figure:\n",
      "/allen/programs/braintv/workgroups/nc-ophys/Farzaneh/ICA_crossTalk/session_929255311/neuropil_corrected_manual_929655722/neuropil_correction.pdf\n",
      "\n",
      "\n",
      "Session 50/66: /allen/programs/braintv/workgroups/nc-ophys/Farzaneh/ICA_crossTalk/session_929686773/\n",
      "['930996076', '930996078', '930996080', '930996082', '930996067', '930996069', '930996071', '930996073']\n"
     ]
    },
    {
     "name": "stderr",
     "output_type": "stream",
     "text": [
      "/home/nataliao/miniconda3/envs/mesoscope/lib/python3.6/site-packages/ipykernel_launcher.py:44: RuntimeWarning: More than 20 figures have been opened. Figures created through the pyplot interface (`matplotlib.pyplot.figure`) are retained until explicitly closed and may consume too much memory. (To control this warning, see the rcParam `figure.max_open_warning`).\n"
     ]
    },
    {
     "name": "stdout",
     "output_type": "stream",
     "text": [
      "Saving figure:\n",
      "/allen/programs/braintv/workgroups/nc-ophys/Farzaneh/ICA_crossTalk/session_929686773/neuropil_corrected_manual_930996076/neuropil_correction.pdf\n"
     ]
    },
    {
     "name": "stderr",
     "output_type": "stream",
     "text": [
      "/home/nataliao/miniconda3/envs/mesoscope/lib/python3.6/site-packages/ipykernel_launcher.py:44: RuntimeWarning: More than 20 figures have been opened. Figures created through the pyplot interface (`matplotlib.pyplot.figure`) are retained until explicitly closed and may consume too much memory. (To control this warning, see the rcParam `figure.max_open_warning`).\n"
     ]
    },
    {
     "name": "stdout",
     "output_type": "stream",
     "text": [
      "Saving figure:\n",
      "/allen/programs/braintv/workgroups/nc-ophys/Farzaneh/ICA_crossTalk/session_929686773/neuropil_corrected_manual_930996078/neuropil_correction.pdf\n"
     ]
    },
    {
     "name": "stderr",
     "output_type": "stream",
     "text": [
      "/home/nataliao/miniconda3/envs/mesoscope/lib/python3.6/site-packages/ipykernel_launcher.py:44: RuntimeWarning: More than 20 figures have been opened. Figures created through the pyplot interface (`matplotlib.pyplot.figure`) are retained until explicitly closed and may consume too much memory. (To control this warning, see the rcParam `figure.max_open_warning`).\n"
     ]
    },
    {
     "name": "stdout",
     "output_type": "stream",
     "text": [
      "Saving figure:\n",
      "/allen/programs/braintv/workgroups/nc-ophys/Farzaneh/ICA_crossTalk/session_929686773/neuropil_corrected_manual_930996080/neuropil_correction.pdf\n"
     ]
    },
    {
     "name": "stderr",
     "output_type": "stream",
     "text": [
      "/home/nataliao/miniconda3/envs/mesoscope/lib/python3.6/site-packages/ipykernel_launcher.py:44: RuntimeWarning: More than 20 figures have been opened. Figures created through the pyplot interface (`matplotlib.pyplot.figure`) are retained until explicitly closed and may consume too much memory. (To control this warning, see the rcParam `figure.max_open_warning`).\n"
     ]
    },
    {
     "name": "stdout",
     "output_type": "stream",
     "text": [
      "Saving figure:\n",
      "/allen/programs/braintv/workgroups/nc-ophys/Farzaneh/ICA_crossTalk/session_929686773/neuropil_corrected_manual_930996082/neuropil_correction.pdf\n"
     ]
    },
    {
     "name": "stderr",
     "output_type": "stream",
     "text": [
      "/home/nataliao/miniconda3/envs/mesoscope/lib/python3.6/site-packages/ipykernel_launcher.py:44: RuntimeWarning: More than 20 figures have been opened. Figures created through the pyplot interface (`matplotlib.pyplot.figure`) are retained until explicitly closed and may consume too much memory. (To control this warning, see the rcParam `figure.max_open_warning`).\n"
     ]
    },
    {
     "name": "stdout",
     "output_type": "stream",
     "text": [
      "Saving figure:\n",
      "/allen/programs/braintv/workgroups/nc-ophys/Farzaneh/ICA_crossTalk/session_929686773/neuropil_corrected_manual_930996067/neuropil_correction.pdf\n"
     ]
    },
    {
     "name": "stderr",
     "output_type": "stream",
     "text": [
      "/home/nataliao/miniconda3/envs/mesoscope/lib/python3.6/site-packages/ipykernel_launcher.py:44: RuntimeWarning: More than 20 figures have been opened. Figures created through the pyplot interface (`matplotlib.pyplot.figure`) are retained until explicitly closed and may consume too much memory. (To control this warning, see the rcParam `figure.max_open_warning`).\n"
     ]
    },
    {
     "name": "stdout",
     "output_type": "stream",
     "text": [
      "Saving figure:\n",
      "/allen/programs/braintv/workgroups/nc-ophys/Farzaneh/ICA_crossTalk/session_929686773/neuropil_corrected_manual_930996069/neuropil_correction.pdf\n"
     ]
    },
    {
     "name": "stderr",
     "output_type": "stream",
     "text": [
      "/home/nataliao/miniconda3/envs/mesoscope/lib/python3.6/site-packages/ipykernel_launcher.py:44: RuntimeWarning: More than 20 figures have been opened. Figures created through the pyplot interface (`matplotlib.pyplot.figure`) are retained until explicitly closed and may consume too much memory. (To control this warning, see the rcParam `figure.max_open_warning`).\n"
     ]
    },
    {
     "name": "stdout",
     "output_type": "stream",
     "text": [
      "Saving figure:\n",
      "/allen/programs/braintv/workgroups/nc-ophys/Farzaneh/ICA_crossTalk/session_929686773/neuropil_corrected_manual_930996071/neuropil_correction.pdf\n"
     ]
    },
    {
     "name": "stderr",
     "output_type": "stream",
     "text": [
      "/home/nataliao/miniconda3/envs/mesoscope/lib/python3.6/site-packages/ipykernel_launcher.py:44: RuntimeWarning: More than 20 figures have been opened. Figures created through the pyplot interface (`matplotlib.pyplot.figure`) are retained until explicitly closed and may consume too much memory. (To control this warning, see the rcParam `figure.max_open_warning`).\n"
     ]
    },
    {
     "name": "stdout",
     "output_type": "stream",
     "text": [
      "Saving figure:\n",
      "/allen/programs/braintv/workgroups/nc-ophys/Farzaneh/ICA_crossTalk/session_929686773/neuropil_corrected_manual_930996073/neuropil_correction.pdf\n",
      "\n",
      "\n",
      "Session 51/66: /allen/programs/braintv/workgroups/nc-ophys/Farzaneh/ICA_crossTalk/session_931326814/\n",
      "['932372699', '932372701', '932372703', '932372705', '932372707', '932372709', '932372711', '932372713']\n"
     ]
    },
    {
     "name": "stderr",
     "output_type": "stream",
     "text": [
      "/home/nataliao/miniconda3/envs/mesoscope/lib/python3.6/site-packages/ipykernel_launcher.py:44: RuntimeWarning: More than 20 figures have been opened. Figures created through the pyplot interface (`matplotlib.pyplot.figure`) are retained until explicitly closed and may consume too much memory. (To control this warning, see the rcParam `figure.max_open_warning`).\n"
     ]
    },
    {
     "name": "stdout",
     "output_type": "stream",
     "text": [
      "Saving figure:\n",
      "/allen/programs/braintv/workgroups/nc-ophys/Farzaneh/ICA_crossTalk/session_931326814/neuropil_corrected_manual_932372699/neuropil_correction.pdf\n"
     ]
    },
    {
     "name": "stderr",
     "output_type": "stream",
     "text": [
      "/home/nataliao/miniconda3/envs/mesoscope/lib/python3.6/site-packages/ipykernel_launcher.py:44: RuntimeWarning: More than 20 figures have been opened. Figures created through the pyplot interface (`matplotlib.pyplot.figure`) are retained until explicitly closed and may consume too much memory. (To control this warning, see the rcParam `figure.max_open_warning`).\n"
     ]
    },
    {
     "name": "stdout",
     "output_type": "stream",
     "text": [
      "Saving figure:\n",
      "/allen/programs/braintv/workgroups/nc-ophys/Farzaneh/ICA_crossTalk/session_931326814/neuropil_corrected_manual_932372701/neuropil_correction.pdf\n"
     ]
    },
    {
     "name": "stderr",
     "output_type": "stream",
     "text": [
      "/home/nataliao/miniconda3/envs/mesoscope/lib/python3.6/site-packages/ipykernel_launcher.py:44: RuntimeWarning: More than 20 figures have been opened. Figures created through the pyplot interface (`matplotlib.pyplot.figure`) are retained until explicitly closed and may consume too much memory. (To control this warning, see the rcParam `figure.max_open_warning`).\n"
     ]
    },
    {
     "name": "stdout",
     "output_type": "stream",
     "text": [
      "Saving figure:\n",
      "/allen/programs/braintv/workgroups/nc-ophys/Farzaneh/ICA_crossTalk/session_931326814/neuropil_corrected_manual_932372703/neuropil_correction.pdf\n"
     ]
    },
    {
     "name": "stderr",
     "output_type": "stream",
     "text": [
      "/home/nataliao/miniconda3/envs/mesoscope/lib/python3.6/site-packages/ipykernel_launcher.py:44: RuntimeWarning: More than 20 figures have been opened. Figures created through the pyplot interface (`matplotlib.pyplot.figure`) are retained until explicitly closed and may consume too much memory. (To control this warning, see the rcParam `figure.max_open_warning`).\n"
     ]
    },
    {
     "name": "stdout",
     "output_type": "stream",
     "text": [
      "Saving figure:\n",
      "/allen/programs/braintv/workgroups/nc-ophys/Farzaneh/ICA_crossTalk/session_931326814/neuropil_corrected_manual_932372705/neuropil_correction.pdf\n"
     ]
    },
    {
     "name": "stderr",
     "output_type": "stream",
     "text": [
      "/home/nataliao/miniconda3/envs/mesoscope/lib/python3.6/site-packages/ipykernel_launcher.py:44: RuntimeWarning: More than 20 figures have been opened. Figures created through the pyplot interface (`matplotlib.pyplot.figure`) are retained until explicitly closed and may consume too much memory. (To control this warning, see the rcParam `figure.max_open_warning`).\n"
     ]
    },
    {
     "name": "stdout",
     "output_type": "stream",
     "text": [
      "Saving figure:\n",
      "/allen/programs/braintv/workgroups/nc-ophys/Farzaneh/ICA_crossTalk/session_931326814/neuropil_corrected_manual_932372707/neuropil_correction.pdf\n"
     ]
    },
    {
     "name": "stderr",
     "output_type": "stream",
     "text": [
      "/home/nataliao/miniconda3/envs/mesoscope/lib/python3.6/site-packages/ipykernel_launcher.py:44: RuntimeWarning: More than 20 figures have been opened. Figures created through the pyplot interface (`matplotlib.pyplot.figure`) are retained until explicitly closed and may consume too much memory. (To control this warning, see the rcParam `figure.max_open_warning`).\n"
     ]
    },
    {
     "name": "stdout",
     "output_type": "stream",
     "text": [
      "Saving figure:\n",
      "/allen/programs/braintv/workgroups/nc-ophys/Farzaneh/ICA_crossTalk/session_931326814/neuropil_corrected_manual_932372709/neuropil_correction.pdf\n"
     ]
    },
    {
     "name": "stderr",
     "output_type": "stream",
     "text": [
      "/home/nataliao/miniconda3/envs/mesoscope/lib/python3.6/site-packages/ipykernel_launcher.py:44: RuntimeWarning: More than 20 figures have been opened. Figures created through the pyplot interface (`matplotlib.pyplot.figure`) are retained until explicitly closed and may consume too much memory. (To control this warning, see the rcParam `figure.max_open_warning`).\n"
     ]
    },
    {
     "name": "stdout",
     "output_type": "stream",
     "text": [
      "Saving figure:\n",
      "/allen/programs/braintv/workgroups/nc-ophys/Farzaneh/ICA_crossTalk/session_931326814/neuropil_corrected_manual_932372711/neuropil_correction.pdf\n"
     ]
    },
    {
     "name": "stderr",
     "output_type": "stream",
     "text": [
      "/home/nataliao/miniconda3/envs/mesoscope/lib/python3.6/site-packages/ipykernel_launcher.py:44: RuntimeWarning: More than 20 figures have been opened. Figures created through the pyplot interface (`matplotlib.pyplot.figure`) are retained until explicitly closed and may consume too much memory. (To control this warning, see the rcParam `figure.max_open_warning`).\n"
     ]
    },
    {
     "name": "stdout",
     "output_type": "stream",
     "text": [
      "Saving figure:\n",
      "/allen/programs/braintv/workgroups/nc-ophys/Farzaneh/ICA_crossTalk/session_931326814/neuropil_corrected_manual_932372713/neuropil_correction.pdf\n",
      "\n",
      "\n",
      "Session 52/66: /allen/programs/braintv/workgroups/nc-ophys/Farzaneh/ICA_crossTalk/session_931687751/\n",
      "['932381890', '932381892', '932381894', '932381896', '932381900', '932381902', '932381886', '932381888']\n"
     ]
    },
    {
     "name": "stderr",
     "output_type": "stream",
     "text": [
      "/home/nataliao/miniconda3/envs/mesoscope/lib/python3.6/site-packages/ipykernel_launcher.py:44: RuntimeWarning: More than 20 figures have been opened. Figures created through the pyplot interface (`matplotlib.pyplot.figure`) are retained until explicitly closed and may consume too much memory. (To control this warning, see the rcParam `figure.max_open_warning`).\n"
     ]
    },
    {
     "name": "stdout",
     "output_type": "stream",
     "text": [
      "Saving figure:\n",
      "/allen/programs/braintv/workgroups/nc-ophys/Farzaneh/ICA_crossTalk/session_931687751/neuropil_corrected_manual_932381890/neuropil_correction.pdf\n"
     ]
    },
    {
     "name": "stderr",
     "output_type": "stream",
     "text": [
      "/home/nataliao/miniconda3/envs/mesoscope/lib/python3.6/site-packages/ipykernel_launcher.py:44: RuntimeWarning: More than 20 figures have been opened. Figures created through the pyplot interface (`matplotlib.pyplot.figure`) are retained until explicitly closed and may consume too much memory. (To control this warning, see the rcParam `figure.max_open_warning`).\n"
     ]
    },
    {
     "name": "stdout",
     "output_type": "stream",
     "text": [
      "Saving figure:\n",
      "/allen/programs/braintv/workgroups/nc-ophys/Farzaneh/ICA_crossTalk/session_931687751/neuropil_corrected_manual_932381892/neuropil_correction.pdf\n"
     ]
    },
    {
     "name": "stderr",
     "output_type": "stream",
     "text": [
      "/home/nataliao/miniconda3/envs/mesoscope/lib/python3.6/site-packages/ipykernel_launcher.py:44: RuntimeWarning: More than 20 figures have been opened. Figures created through the pyplot interface (`matplotlib.pyplot.figure`) are retained until explicitly closed and may consume too much memory. (To control this warning, see the rcParam `figure.max_open_warning`).\n"
     ]
    },
    {
     "name": "stdout",
     "output_type": "stream",
     "text": [
      "Saving figure:\n",
      "/allen/programs/braintv/workgroups/nc-ophys/Farzaneh/ICA_crossTalk/session_931687751/neuropil_corrected_manual_932381894/neuropil_correction.pdf\n"
     ]
    },
    {
     "name": "stderr",
     "output_type": "stream",
     "text": [
      "/home/nataliao/miniconda3/envs/mesoscope/lib/python3.6/site-packages/ipykernel_launcher.py:44: RuntimeWarning: More than 20 figures have been opened. Figures created through the pyplot interface (`matplotlib.pyplot.figure`) are retained until explicitly closed and may consume too much memory. (To control this warning, see the rcParam `figure.max_open_warning`).\n"
     ]
    },
    {
     "name": "stdout",
     "output_type": "stream",
     "text": [
      "Saving figure:\n",
      "/allen/programs/braintv/workgroups/nc-ophys/Farzaneh/ICA_crossTalk/session_931687751/neuropil_corrected_manual_932381896/neuropil_correction.pdf\n"
     ]
    },
    {
     "name": "stderr",
     "output_type": "stream",
     "text": [
      "/home/nataliao/miniconda3/envs/mesoscope/lib/python3.6/site-packages/ipykernel_launcher.py:44: RuntimeWarning: More than 20 figures have been opened. Figures created through the pyplot interface (`matplotlib.pyplot.figure`) are retained until explicitly closed and may consume too much memory. (To control this warning, see the rcParam `figure.max_open_warning`).\n"
     ]
    },
    {
     "name": "stdout",
     "output_type": "stream",
     "text": [
      "Saving figure:\n",
      "/allen/programs/braintv/workgroups/nc-ophys/Farzaneh/ICA_crossTalk/session_931687751/neuropil_corrected_manual_932381900/neuropil_correction.pdf\n"
     ]
    },
    {
     "name": "stderr",
     "output_type": "stream",
     "text": [
      "/home/nataliao/miniconda3/envs/mesoscope/lib/python3.6/site-packages/ipykernel_launcher.py:44: RuntimeWarning: More than 20 figures have been opened. Figures created through the pyplot interface (`matplotlib.pyplot.figure`) are retained until explicitly closed and may consume too much memory. (To control this warning, see the rcParam `figure.max_open_warning`).\n"
     ]
    },
    {
     "name": "stdout",
     "output_type": "stream",
     "text": [
      "Saving figure:\n",
      "/allen/programs/braintv/workgroups/nc-ophys/Farzaneh/ICA_crossTalk/session_931687751/neuropil_corrected_manual_932381902/neuropil_correction.pdf\n"
     ]
    },
    {
     "name": "stderr",
     "output_type": "stream",
     "text": [
      "/home/nataliao/miniconda3/envs/mesoscope/lib/python3.6/site-packages/ipykernel_launcher.py:44: RuntimeWarning: More than 20 figures have been opened. Figures created through the pyplot interface (`matplotlib.pyplot.figure`) are retained until explicitly closed and may consume too much memory. (To control this warning, see the rcParam `figure.max_open_warning`).\n"
     ]
    },
    {
     "name": "stdout",
     "output_type": "stream",
     "text": [
      "Saving figure:\n",
      "/allen/programs/braintv/workgroups/nc-ophys/Farzaneh/ICA_crossTalk/session_931687751/neuropil_corrected_manual_932381886/neuropil_correction.pdf\n"
     ]
    },
    {
     "name": "stderr",
     "output_type": "stream",
     "text": [
      "/home/nataliao/miniconda3/envs/mesoscope/lib/python3.6/site-packages/ipykernel_launcher.py:44: RuntimeWarning: More than 20 figures have been opened. Figures created through the pyplot interface (`matplotlib.pyplot.figure`) are retained until explicitly closed and may consume too much memory. (To control this warning, see the rcParam `figure.max_open_warning`).\n"
     ]
    },
    {
     "name": "stdout",
     "output_type": "stream",
     "text": [
      "Saving figure:\n",
      "/allen/programs/braintv/workgroups/nc-ophys/Farzaneh/ICA_crossTalk/session_931687751/neuropil_corrected_manual_932381888/neuropil_correction.pdf\n",
      "\n",
      "\n",
      "Session 53/66: /allen/programs/braintv/workgroups/nc-ophys/Farzaneh/ICA_crossTalk/session_940145217/\n",
      "['940433497', '940433499', '940433493', '940433495', '940433483', '940433486', '940433488', '940433490']\n"
     ]
    },
    {
     "name": "stderr",
     "output_type": "stream",
     "text": [
      "/home/nataliao/miniconda3/envs/mesoscope/lib/python3.6/site-packages/ipykernel_launcher.py:44: RuntimeWarning: More than 20 figures have been opened. Figures created through the pyplot interface (`matplotlib.pyplot.figure`) are retained until explicitly closed and may consume too much memory. (To control this warning, see the rcParam `figure.max_open_warning`).\n"
     ]
    },
    {
     "name": "stdout",
     "output_type": "stream",
     "text": [
      "Saving figure:\n",
      "/allen/programs/braintv/workgroups/nc-ophys/Farzaneh/ICA_crossTalk/session_940145217/neuropil_corrected_manual_940433497/neuropil_correction.pdf\n"
     ]
    },
    {
     "name": "stderr",
     "output_type": "stream",
     "text": [
      "/home/nataliao/miniconda3/envs/mesoscope/lib/python3.6/site-packages/ipykernel_launcher.py:44: RuntimeWarning: More than 20 figures have been opened. Figures created through the pyplot interface (`matplotlib.pyplot.figure`) are retained until explicitly closed and may consume too much memory. (To control this warning, see the rcParam `figure.max_open_warning`).\n"
     ]
    },
    {
     "name": "stdout",
     "output_type": "stream",
     "text": [
      "Saving figure:\n",
      "/allen/programs/braintv/workgroups/nc-ophys/Farzaneh/ICA_crossTalk/session_940145217/neuropil_corrected_manual_940433499/neuropil_correction.pdf\n"
     ]
    },
    {
     "name": "stderr",
     "output_type": "stream",
     "text": [
      "/home/nataliao/miniconda3/envs/mesoscope/lib/python3.6/site-packages/ipykernel_launcher.py:44: RuntimeWarning: More than 20 figures have been opened. Figures created through the pyplot interface (`matplotlib.pyplot.figure`) are retained until explicitly closed and may consume too much memory. (To control this warning, see the rcParam `figure.max_open_warning`).\n"
     ]
    },
    {
     "name": "stdout",
     "output_type": "stream",
     "text": [
      "Saving figure:\n",
      "/allen/programs/braintv/workgroups/nc-ophys/Farzaneh/ICA_crossTalk/session_940145217/neuropil_corrected_manual_940433493/neuropil_correction.pdf\n"
     ]
    },
    {
     "name": "stderr",
     "output_type": "stream",
     "text": [
      "/home/nataliao/miniconda3/envs/mesoscope/lib/python3.6/site-packages/ipykernel_launcher.py:44: RuntimeWarning: More than 20 figures have been opened. Figures created through the pyplot interface (`matplotlib.pyplot.figure`) are retained until explicitly closed and may consume too much memory. (To control this warning, see the rcParam `figure.max_open_warning`).\n"
     ]
    },
    {
     "name": "stdout",
     "output_type": "stream",
     "text": [
      "Saving figure:\n",
      "/allen/programs/braintv/workgroups/nc-ophys/Farzaneh/ICA_crossTalk/session_940145217/neuropil_corrected_manual_940433495/neuropil_correction.pdf\n"
     ]
    },
    {
     "name": "stderr",
     "output_type": "stream",
     "text": [
      "/home/nataliao/miniconda3/envs/mesoscope/lib/python3.6/site-packages/ipykernel_launcher.py:44: RuntimeWarning: More than 20 figures have been opened. Figures created through the pyplot interface (`matplotlib.pyplot.figure`) are retained until explicitly closed and may consume too much memory. (To control this warning, see the rcParam `figure.max_open_warning`).\n"
     ]
    },
    {
     "name": "stdout",
     "output_type": "stream",
     "text": [
      "Saving figure:\n",
      "/allen/programs/braintv/workgroups/nc-ophys/Farzaneh/ICA_crossTalk/session_940145217/neuropil_corrected_manual_940433483/neuropil_correction.pdf\n"
     ]
    },
    {
     "name": "stderr",
     "output_type": "stream",
     "text": [
      "/home/nataliao/miniconda3/envs/mesoscope/lib/python3.6/site-packages/ipykernel_launcher.py:44: RuntimeWarning: More than 20 figures have been opened. Figures created through the pyplot interface (`matplotlib.pyplot.figure`) are retained until explicitly closed and may consume too much memory. (To control this warning, see the rcParam `figure.max_open_warning`).\n"
     ]
    },
    {
     "name": "stdout",
     "output_type": "stream",
     "text": [
      "Saving figure:\n",
      "/allen/programs/braintv/workgroups/nc-ophys/Farzaneh/ICA_crossTalk/session_940145217/neuropil_corrected_manual_940433486/neuropil_correction.pdf\n"
     ]
    },
    {
     "name": "stderr",
     "output_type": "stream",
     "text": [
      "/home/nataliao/miniconda3/envs/mesoscope/lib/python3.6/site-packages/ipykernel_launcher.py:44: RuntimeWarning: More than 20 figures have been opened. Figures created through the pyplot interface (`matplotlib.pyplot.figure`) are retained until explicitly closed and may consume too much memory. (To control this warning, see the rcParam `figure.max_open_warning`).\n"
     ]
    },
    {
     "name": "stdout",
     "output_type": "stream",
     "text": [
      "Saving figure:\n",
      "/allen/programs/braintv/workgroups/nc-ophys/Farzaneh/ICA_crossTalk/session_940145217/neuropil_corrected_manual_940433488/neuropil_correction.pdf\n"
     ]
    },
    {
     "name": "stderr",
     "output_type": "stream",
     "text": [
      "/home/nataliao/miniconda3/envs/mesoscope/lib/python3.6/site-packages/ipykernel_launcher.py:44: RuntimeWarning: More than 20 figures have been opened. Figures created through the pyplot interface (`matplotlib.pyplot.figure`) are retained until explicitly closed and may consume too much memory. (To control this warning, see the rcParam `figure.max_open_warning`).\n"
     ]
    },
    {
     "name": "stdout",
     "output_type": "stream",
     "text": [
      "Saving figure:\n",
      "/allen/programs/braintv/workgroups/nc-ophys/Farzaneh/ICA_crossTalk/session_940145217/neuropil_corrected_manual_940433490/neuropil_correction.pdf\n",
      "\n",
      "\n",
      "Session 54/66: /allen/programs/braintv/workgroups/nc-ophys/Farzaneh/ICA_crossTalk/session_940775208/\n",
      "['944115825', '944115831', '944115814', '944115820', '944115792', '944115799', '944115804', '944115808']\n"
     ]
    },
    {
     "name": "stderr",
     "output_type": "stream",
     "text": [
      "/home/nataliao/miniconda3/envs/mesoscope/lib/python3.6/site-packages/ipykernel_launcher.py:44: RuntimeWarning: More than 20 figures have been opened. Figures created through the pyplot interface (`matplotlib.pyplot.figure`) are retained until explicitly closed and may consume too much memory. (To control this warning, see the rcParam `figure.max_open_warning`).\n"
     ]
    },
    {
     "name": "stdout",
     "output_type": "stream",
     "text": [
      "Saving figure:\n",
      "/allen/programs/braintv/workgroups/nc-ophys/Farzaneh/ICA_crossTalk/session_940775208/neuropil_corrected_manual_944115825/neuropil_correction.pdf\n"
     ]
    },
    {
     "name": "stderr",
     "output_type": "stream",
     "text": [
      "/home/nataliao/miniconda3/envs/mesoscope/lib/python3.6/site-packages/ipykernel_launcher.py:44: RuntimeWarning: More than 20 figures have been opened. Figures created through the pyplot interface (`matplotlib.pyplot.figure`) are retained until explicitly closed and may consume too much memory. (To control this warning, see the rcParam `figure.max_open_warning`).\n"
     ]
    },
    {
     "name": "stdout",
     "output_type": "stream",
     "text": [
      "Saving figure:\n",
      "/allen/programs/braintv/workgroups/nc-ophys/Farzaneh/ICA_crossTalk/session_940775208/neuropil_corrected_manual_944115831/neuropil_correction.pdf\n"
     ]
    },
    {
     "name": "stderr",
     "output_type": "stream",
     "text": [
      "/home/nataliao/miniconda3/envs/mesoscope/lib/python3.6/site-packages/ipykernel_launcher.py:44: RuntimeWarning: More than 20 figures have been opened. Figures created through the pyplot interface (`matplotlib.pyplot.figure`) are retained until explicitly closed and may consume too much memory. (To control this warning, see the rcParam `figure.max_open_warning`).\n"
     ]
    },
    {
     "name": "stdout",
     "output_type": "stream",
     "text": [
      "Saving figure:\n",
      "/allen/programs/braintv/workgroups/nc-ophys/Farzaneh/ICA_crossTalk/session_940775208/neuropil_corrected_manual_944115814/neuropil_correction.pdf\n"
     ]
    },
    {
     "name": "stderr",
     "output_type": "stream",
     "text": [
      "/home/nataliao/miniconda3/envs/mesoscope/lib/python3.6/site-packages/ipykernel_launcher.py:44: RuntimeWarning: More than 20 figures have been opened. Figures created through the pyplot interface (`matplotlib.pyplot.figure`) are retained until explicitly closed and may consume too much memory. (To control this warning, see the rcParam `figure.max_open_warning`).\n"
     ]
    },
    {
     "name": "stdout",
     "output_type": "stream",
     "text": [
      "Saving figure:\n",
      "/allen/programs/braintv/workgroups/nc-ophys/Farzaneh/ICA_crossTalk/session_940775208/neuropil_corrected_manual_944115820/neuropil_correction.pdf\n"
     ]
    },
    {
     "name": "stderr",
     "output_type": "stream",
     "text": [
      "/home/nataliao/miniconda3/envs/mesoscope/lib/python3.6/site-packages/ipykernel_launcher.py:44: RuntimeWarning: More than 20 figures have been opened. Figures created through the pyplot interface (`matplotlib.pyplot.figure`) are retained until explicitly closed and may consume too much memory. (To control this warning, see the rcParam `figure.max_open_warning`).\n"
     ]
    },
    {
     "name": "stdout",
     "output_type": "stream",
     "text": [
      "Saving figure:\n",
      "/allen/programs/braintv/workgroups/nc-ophys/Farzaneh/ICA_crossTalk/session_940775208/neuropil_corrected_manual_944115792/neuropil_correction.pdf\n"
     ]
    },
    {
     "name": "stderr",
     "output_type": "stream",
     "text": [
      "/home/nataliao/miniconda3/envs/mesoscope/lib/python3.6/site-packages/ipykernel_launcher.py:44: RuntimeWarning: More than 20 figures have been opened. Figures created through the pyplot interface (`matplotlib.pyplot.figure`) are retained until explicitly closed and may consume too much memory. (To control this warning, see the rcParam `figure.max_open_warning`).\n"
     ]
    },
    {
     "name": "stdout",
     "output_type": "stream",
     "text": [
      "Saving figure:\n",
      "/allen/programs/braintv/workgroups/nc-ophys/Farzaneh/ICA_crossTalk/session_940775208/neuropil_corrected_manual_944115799/neuropil_correction.pdf\n"
     ]
    },
    {
     "name": "stderr",
     "output_type": "stream",
     "text": [
      "/home/nataliao/miniconda3/envs/mesoscope/lib/python3.6/site-packages/ipykernel_launcher.py:44: RuntimeWarning: More than 20 figures have been opened. Figures created through the pyplot interface (`matplotlib.pyplot.figure`) are retained until explicitly closed and may consume too much memory. (To control this warning, see the rcParam `figure.max_open_warning`).\n"
     ]
    },
    {
     "name": "stdout",
     "output_type": "stream",
     "text": [
      "Saving figure:\n",
      "/allen/programs/braintv/workgroups/nc-ophys/Farzaneh/ICA_crossTalk/session_940775208/neuropil_corrected_manual_944115804/neuropil_correction.pdf\n"
     ]
    },
    {
     "name": "stderr",
     "output_type": "stream",
     "text": [
      "/home/nataliao/miniconda3/envs/mesoscope/lib/python3.6/site-packages/ipykernel_launcher.py:44: RuntimeWarning: More than 20 figures have been opened. Figures created through the pyplot interface (`matplotlib.pyplot.figure`) are retained until explicitly closed and may consume too much memory. (To control this warning, see the rcParam `figure.max_open_warning`).\n"
     ]
    },
    {
     "name": "stdout",
     "output_type": "stream",
     "text": [
      "Saving figure:\n",
      "/allen/programs/braintv/workgroups/nc-ophys/Farzaneh/ICA_crossTalk/session_940775208/neuropil_corrected_manual_944115808/neuropil_correction.pdf\n",
      "\n",
      "\n",
      "Session 55/66: /allen/programs/braintv/workgroups/nc-ophys/Farzaneh/ICA_crossTalk/session_941676716/\n",
      "['942596353', '942596355', '942596357', '942596359', '942596361', '942596363', '942596349', '942596351']\n"
     ]
    },
    {
     "name": "stderr",
     "output_type": "stream",
     "text": [
      "/home/nataliao/miniconda3/envs/mesoscope/lib/python3.6/site-packages/ipykernel_launcher.py:44: RuntimeWarning: More than 20 figures have been opened. Figures created through the pyplot interface (`matplotlib.pyplot.figure`) are retained until explicitly closed and may consume too much memory. (To control this warning, see the rcParam `figure.max_open_warning`).\n"
     ]
    },
    {
     "name": "stdout",
     "output_type": "stream",
     "text": [
      "Saving figure:\n",
      "/allen/programs/braintv/workgroups/nc-ophys/Farzaneh/ICA_crossTalk/session_941676716/neuropil_corrected_manual_942596353/neuropil_correction.pdf\n"
     ]
    },
    {
     "name": "stderr",
     "output_type": "stream",
     "text": [
      "/home/nataliao/miniconda3/envs/mesoscope/lib/python3.6/site-packages/ipykernel_launcher.py:44: RuntimeWarning: More than 20 figures have been opened. Figures created through the pyplot interface (`matplotlib.pyplot.figure`) are retained until explicitly closed and may consume too much memory. (To control this warning, see the rcParam `figure.max_open_warning`).\n"
     ]
    },
    {
     "name": "stdout",
     "output_type": "stream",
     "text": [
      "Saving figure:\n",
      "/allen/programs/braintv/workgroups/nc-ophys/Farzaneh/ICA_crossTalk/session_941676716/neuropil_corrected_manual_942596355/neuropil_correction.pdf\n"
     ]
    },
    {
     "name": "stderr",
     "output_type": "stream",
     "text": [
      "/home/nataliao/miniconda3/envs/mesoscope/lib/python3.6/site-packages/ipykernel_launcher.py:44: RuntimeWarning: More than 20 figures have been opened. Figures created through the pyplot interface (`matplotlib.pyplot.figure`) are retained until explicitly closed and may consume too much memory. (To control this warning, see the rcParam `figure.max_open_warning`).\n"
     ]
    },
    {
     "name": "stdout",
     "output_type": "stream",
     "text": [
      "Saving figure:\n",
      "/allen/programs/braintv/workgroups/nc-ophys/Farzaneh/ICA_crossTalk/session_941676716/neuropil_corrected_manual_942596357/neuropil_correction.pdf\n"
     ]
    },
    {
     "name": "stderr",
     "output_type": "stream",
     "text": [
      "/home/nataliao/miniconda3/envs/mesoscope/lib/python3.6/site-packages/ipykernel_launcher.py:44: RuntimeWarning: More than 20 figures have been opened. Figures created through the pyplot interface (`matplotlib.pyplot.figure`) are retained until explicitly closed and may consume too much memory. (To control this warning, see the rcParam `figure.max_open_warning`).\n"
     ]
    },
    {
     "name": "stdout",
     "output_type": "stream",
     "text": [
      "Saving figure:\n",
      "/allen/programs/braintv/workgroups/nc-ophys/Farzaneh/ICA_crossTalk/session_941676716/neuropil_corrected_manual_942596359/neuropil_correction.pdf\n"
     ]
    },
    {
     "name": "stderr",
     "output_type": "stream",
     "text": [
      "/home/nataliao/miniconda3/envs/mesoscope/lib/python3.6/site-packages/ipykernel_launcher.py:44: RuntimeWarning: More than 20 figures have been opened. Figures created through the pyplot interface (`matplotlib.pyplot.figure`) are retained until explicitly closed and may consume too much memory. (To control this warning, see the rcParam `figure.max_open_warning`).\n"
     ]
    },
    {
     "name": "stdout",
     "output_type": "stream",
     "text": [
      "Saving figure:\n",
      "/allen/programs/braintv/workgroups/nc-ophys/Farzaneh/ICA_crossTalk/session_941676716/neuropil_corrected_manual_942596361/neuropil_correction.pdf\n"
     ]
    },
    {
     "name": "stderr",
     "output_type": "stream",
     "text": [
      "/home/nataliao/miniconda3/envs/mesoscope/lib/python3.6/site-packages/ipykernel_launcher.py:44: RuntimeWarning: More than 20 figures have been opened. Figures created through the pyplot interface (`matplotlib.pyplot.figure`) are retained until explicitly closed and may consume too much memory. (To control this warning, see the rcParam `figure.max_open_warning`).\n"
     ]
    },
    {
     "name": "stdout",
     "output_type": "stream",
     "text": [
      "Saving figure:\n",
      "/allen/programs/braintv/workgroups/nc-ophys/Farzaneh/ICA_crossTalk/session_941676716/neuropil_corrected_manual_942596363/neuropil_correction.pdf\n"
     ]
    },
    {
     "name": "stderr",
     "output_type": "stream",
     "text": [
      "/home/nataliao/miniconda3/envs/mesoscope/lib/python3.6/site-packages/ipykernel_launcher.py:44: RuntimeWarning: More than 20 figures have been opened. Figures created through the pyplot interface (`matplotlib.pyplot.figure`) are retained until explicitly closed and may consume too much memory. (To control this warning, see the rcParam `figure.max_open_warning`).\n"
     ]
    },
    {
     "name": "stdout",
     "output_type": "stream",
     "text": [
      "Saving figure:\n",
      "/allen/programs/braintv/workgroups/nc-ophys/Farzaneh/ICA_crossTalk/session_941676716/neuropil_corrected_manual_942596349/neuropil_correction.pdf\n"
     ]
    },
    {
     "name": "stderr",
     "output_type": "stream",
     "text": [
      "/home/nataliao/miniconda3/envs/mesoscope/lib/python3.6/site-packages/ipykernel_launcher.py:44: RuntimeWarning: More than 20 figures have been opened. Figures created through the pyplot interface (`matplotlib.pyplot.figure`) are retained until explicitly closed and may consume too much memory. (To control this warning, see the rcParam `figure.max_open_warning`).\n"
     ]
    },
    {
     "name": "stdout",
     "output_type": "stream",
     "text": [
      "Saving figure:\n",
      "/allen/programs/braintv/workgroups/nc-ophys/Farzaneh/ICA_crossTalk/session_941676716/neuropil_corrected_manual_942596351/neuropil_correction.pdf\n",
      "\n",
      "\n",
      "Session 56/66: /allen/programs/braintv/workgroups/nc-ophys/Farzaneh/ICA_crossTalk/session_944888114/\n",
      "['945586429', '945586431', '945586438', '945586440', '945586425', '945586427', '945586433', '945586435']\n"
     ]
    },
    {
     "name": "stderr",
     "output_type": "stream",
     "text": [
      "/home/nataliao/miniconda3/envs/mesoscope/lib/python3.6/site-packages/ipykernel_launcher.py:44: RuntimeWarning: More than 20 figures have been opened. Figures created through the pyplot interface (`matplotlib.pyplot.figure`) are retained until explicitly closed and may consume too much memory. (To control this warning, see the rcParam `figure.max_open_warning`).\n"
     ]
    },
    {
     "name": "stdout",
     "output_type": "stream",
     "text": [
      "Saving figure:\n",
      "/allen/programs/braintv/workgroups/nc-ophys/Farzaneh/ICA_crossTalk/session_944888114/neuropil_corrected_manual_945586429/neuropil_correction.pdf\n"
     ]
    },
    {
     "name": "stderr",
     "output_type": "stream",
     "text": [
      "/home/nataliao/miniconda3/envs/mesoscope/lib/python3.6/site-packages/ipykernel_launcher.py:44: RuntimeWarning: More than 20 figures have been opened. Figures created through the pyplot interface (`matplotlib.pyplot.figure`) are retained until explicitly closed and may consume too much memory. (To control this warning, see the rcParam `figure.max_open_warning`).\n"
     ]
    },
    {
     "name": "stdout",
     "output_type": "stream",
     "text": [
      "Saving figure:\n",
      "/allen/programs/braintv/workgroups/nc-ophys/Farzaneh/ICA_crossTalk/session_944888114/neuropil_corrected_manual_945586431/neuropil_correction.pdf\n"
     ]
    },
    {
     "name": "stderr",
     "output_type": "stream",
     "text": [
      "/home/nataliao/miniconda3/envs/mesoscope/lib/python3.6/site-packages/ipykernel_launcher.py:44: RuntimeWarning: More than 20 figures have been opened. Figures created through the pyplot interface (`matplotlib.pyplot.figure`) are retained until explicitly closed and may consume too much memory. (To control this warning, see the rcParam `figure.max_open_warning`).\n"
     ]
    },
    {
     "name": "stdout",
     "output_type": "stream",
     "text": [
      "Saving figure:\n",
      "/allen/programs/braintv/workgroups/nc-ophys/Farzaneh/ICA_crossTalk/session_944888114/neuropil_corrected_manual_945586438/neuropil_correction.pdf\n"
     ]
    },
    {
     "name": "stderr",
     "output_type": "stream",
     "text": [
      "/home/nataliao/miniconda3/envs/mesoscope/lib/python3.6/site-packages/ipykernel_launcher.py:44: RuntimeWarning: More than 20 figures have been opened. Figures created through the pyplot interface (`matplotlib.pyplot.figure`) are retained until explicitly closed and may consume too much memory. (To control this warning, see the rcParam `figure.max_open_warning`).\n"
     ]
    },
    {
     "name": "stdout",
     "output_type": "stream",
     "text": [
      "Saving figure:\n",
      "/allen/programs/braintv/workgroups/nc-ophys/Farzaneh/ICA_crossTalk/session_944888114/neuropil_corrected_manual_945586440/neuropil_correction.pdf\n"
     ]
    },
    {
     "name": "stderr",
     "output_type": "stream",
     "text": [
      "/home/nataliao/miniconda3/envs/mesoscope/lib/python3.6/site-packages/ipykernel_launcher.py:44: RuntimeWarning: More than 20 figures have been opened. Figures created through the pyplot interface (`matplotlib.pyplot.figure`) are retained until explicitly closed and may consume too much memory. (To control this warning, see the rcParam `figure.max_open_warning`).\n"
     ]
    },
    {
     "name": "stdout",
     "output_type": "stream",
     "text": [
      "Saving figure:\n",
      "/allen/programs/braintv/workgroups/nc-ophys/Farzaneh/ICA_crossTalk/session_944888114/neuropil_corrected_manual_945586425/neuropil_correction.pdf\n"
     ]
    },
    {
     "name": "stderr",
     "output_type": "stream",
     "text": [
      "/home/nataliao/miniconda3/envs/mesoscope/lib/python3.6/site-packages/ipykernel_launcher.py:44: RuntimeWarning: More than 20 figures have been opened. Figures created through the pyplot interface (`matplotlib.pyplot.figure`) are retained until explicitly closed and may consume too much memory. (To control this warning, see the rcParam `figure.max_open_warning`).\n"
     ]
    },
    {
     "name": "stdout",
     "output_type": "stream",
     "text": [
      "Saving figure:\n",
      "/allen/programs/braintv/workgroups/nc-ophys/Farzaneh/ICA_crossTalk/session_944888114/neuropil_corrected_manual_945586427/neuropil_correction.pdf\n"
     ]
    },
    {
     "name": "stderr",
     "output_type": "stream",
     "text": [
      "/home/nataliao/miniconda3/envs/mesoscope/lib/python3.6/site-packages/ipykernel_launcher.py:44: RuntimeWarning: More than 20 figures have been opened. Figures created through the pyplot interface (`matplotlib.pyplot.figure`) are retained until explicitly closed and may consume too much memory. (To control this warning, see the rcParam `figure.max_open_warning`).\n"
     ]
    },
    {
     "name": "stdout",
     "output_type": "stream",
     "text": [
      "Saving figure:\n",
      "/allen/programs/braintv/workgroups/nc-ophys/Farzaneh/ICA_crossTalk/session_944888114/neuropil_corrected_manual_945586433/neuropil_correction.pdf\n"
     ]
    },
    {
     "name": "stderr",
     "output_type": "stream",
     "text": [
      "/home/nataliao/miniconda3/envs/mesoscope/lib/python3.6/site-packages/ipykernel_launcher.py:44: RuntimeWarning: More than 20 figures have been opened. Figures created through the pyplot interface (`matplotlib.pyplot.figure`) are retained until explicitly closed and may consume too much memory. (To control this warning, see the rcParam `figure.max_open_warning`).\n"
     ]
    },
    {
     "name": "stdout",
     "output_type": "stream",
     "text": [
      "Saving figure:\n",
      "/allen/programs/braintv/workgroups/nc-ophys/Farzaneh/ICA_crossTalk/session_944888114/neuropil_corrected_manual_945586435/neuropil_correction.pdf\n",
      "\n",
      "\n",
      "Session 57/66: /allen/programs/braintv/workgroups/nc-ophys/Farzaneh/ICA_crossTalk/session_946015345/\n",
      "['946513780', '946513782', '946513788', '946513790', '946513784', '946513786', '946513776', '946513778']\n"
     ]
    },
    {
     "name": "stderr",
     "output_type": "stream",
     "text": [
      "/home/nataliao/miniconda3/envs/mesoscope/lib/python3.6/site-packages/ipykernel_launcher.py:44: RuntimeWarning: More than 20 figures have been opened. Figures created through the pyplot interface (`matplotlib.pyplot.figure`) are retained until explicitly closed and may consume too much memory. (To control this warning, see the rcParam `figure.max_open_warning`).\n"
     ]
    },
    {
     "name": "stdout",
     "output_type": "stream",
     "text": [
      "Saving figure:\n",
      "/allen/programs/braintv/workgroups/nc-ophys/Farzaneh/ICA_crossTalk/session_946015345/neuropil_corrected_manual_946513780/neuropil_correction.pdf\n"
     ]
    },
    {
     "name": "stderr",
     "output_type": "stream",
     "text": [
      "/home/nataliao/miniconda3/envs/mesoscope/lib/python3.6/site-packages/ipykernel_launcher.py:44: RuntimeWarning: More than 20 figures have been opened. Figures created through the pyplot interface (`matplotlib.pyplot.figure`) are retained until explicitly closed and may consume too much memory. (To control this warning, see the rcParam `figure.max_open_warning`).\n"
     ]
    },
    {
     "name": "stdout",
     "output_type": "stream",
     "text": [
      "Saving figure:\n",
      "/allen/programs/braintv/workgroups/nc-ophys/Farzaneh/ICA_crossTalk/session_946015345/neuropil_corrected_manual_946513782/neuropil_correction.pdf\n"
     ]
    },
    {
     "name": "stderr",
     "output_type": "stream",
     "text": [
      "/home/nataliao/miniconda3/envs/mesoscope/lib/python3.6/site-packages/ipykernel_launcher.py:44: RuntimeWarning: More than 20 figures have been opened. Figures created through the pyplot interface (`matplotlib.pyplot.figure`) are retained until explicitly closed and may consume too much memory. (To control this warning, see the rcParam `figure.max_open_warning`).\n"
     ]
    },
    {
     "name": "stdout",
     "output_type": "stream",
     "text": [
      "Saving figure:\n",
      "/allen/programs/braintv/workgroups/nc-ophys/Farzaneh/ICA_crossTalk/session_946015345/neuropil_corrected_manual_946513788/neuropil_correction.pdf\n"
     ]
    },
    {
     "name": "stderr",
     "output_type": "stream",
     "text": [
      "/home/nataliao/miniconda3/envs/mesoscope/lib/python3.6/site-packages/ipykernel_launcher.py:44: RuntimeWarning: More than 20 figures have been opened. Figures created through the pyplot interface (`matplotlib.pyplot.figure`) are retained until explicitly closed and may consume too much memory. (To control this warning, see the rcParam `figure.max_open_warning`).\n"
     ]
    },
    {
     "name": "stdout",
     "output_type": "stream",
     "text": [
      "Saving figure:\n",
      "/allen/programs/braintv/workgroups/nc-ophys/Farzaneh/ICA_crossTalk/session_946015345/neuropil_corrected_manual_946513790/neuropil_correction.pdf\n"
     ]
    },
    {
     "name": "stderr",
     "output_type": "stream",
     "text": [
      "/home/nataliao/miniconda3/envs/mesoscope/lib/python3.6/site-packages/ipykernel_launcher.py:44: RuntimeWarning: More than 20 figures have been opened. Figures created through the pyplot interface (`matplotlib.pyplot.figure`) are retained until explicitly closed and may consume too much memory. (To control this warning, see the rcParam `figure.max_open_warning`).\n"
     ]
    },
    {
     "name": "stdout",
     "output_type": "stream",
     "text": [
      "Saving figure:\n",
      "/allen/programs/braintv/workgroups/nc-ophys/Farzaneh/ICA_crossTalk/session_946015345/neuropil_corrected_manual_946513784/neuropil_correction.pdf\n"
     ]
    },
    {
     "name": "stderr",
     "output_type": "stream",
     "text": [
      "/home/nataliao/miniconda3/envs/mesoscope/lib/python3.6/site-packages/ipykernel_launcher.py:44: RuntimeWarning: More than 20 figures have been opened. Figures created through the pyplot interface (`matplotlib.pyplot.figure`) are retained until explicitly closed and may consume too much memory. (To control this warning, see the rcParam `figure.max_open_warning`).\n"
     ]
    },
    {
     "name": "stdout",
     "output_type": "stream",
     "text": [
      "Saving figure:\n",
      "/allen/programs/braintv/workgroups/nc-ophys/Farzaneh/ICA_crossTalk/session_946015345/neuropil_corrected_manual_946513786/neuropil_correction.pdf\n"
     ]
    },
    {
     "name": "stderr",
     "output_type": "stream",
     "text": [
      "/home/nataliao/miniconda3/envs/mesoscope/lib/python3.6/site-packages/ipykernel_launcher.py:44: RuntimeWarning: More than 20 figures have been opened. Figures created through the pyplot interface (`matplotlib.pyplot.figure`) are retained until explicitly closed and may consume too much memory. (To control this warning, see the rcParam `figure.max_open_warning`).\n"
     ]
    },
    {
     "name": "stdout",
     "output_type": "stream",
     "text": [
      "Saving figure:\n",
      "/allen/programs/braintv/workgroups/nc-ophys/Farzaneh/ICA_crossTalk/session_946015345/neuropil_corrected_manual_946513776/neuropil_correction.pdf\n"
     ]
    },
    {
     "name": "stderr",
     "output_type": "stream",
     "text": [
      "/home/nataliao/miniconda3/envs/mesoscope/lib/python3.6/site-packages/ipykernel_launcher.py:44: RuntimeWarning: More than 20 figures have been opened. Figures created through the pyplot interface (`matplotlib.pyplot.figure`) are retained until explicitly closed and may consume too much memory. (To control this warning, see the rcParam `figure.max_open_warning`).\n"
     ]
    },
    {
     "name": "stdout",
     "output_type": "stream",
     "text": [
      "Saving figure:\n",
      "/allen/programs/braintv/workgroups/nc-ophys/Farzaneh/ICA_crossTalk/session_946015345/neuropil_corrected_manual_946513778/neuropil_correction.pdf\n",
      "\n",
      "\n",
      "Session 58/66: /allen/programs/braintv/workgroups/nc-ophys/Farzaneh/ICA_crossTalk/session_947199653/\n",
      "['947798779', '947798781', '947798783', '947798785', '947798775', '947798777', '947798771', '947798773']\n"
     ]
    },
    {
     "name": "stderr",
     "output_type": "stream",
     "text": [
      "/home/nataliao/miniconda3/envs/mesoscope/lib/python3.6/site-packages/ipykernel_launcher.py:44: RuntimeWarning: More than 20 figures have been opened. Figures created through the pyplot interface (`matplotlib.pyplot.figure`) are retained until explicitly closed and may consume too much memory. (To control this warning, see the rcParam `figure.max_open_warning`).\n"
     ]
    },
    {
     "name": "stdout",
     "output_type": "stream",
     "text": [
      "Saving figure:\n",
      "/allen/programs/braintv/workgroups/nc-ophys/Farzaneh/ICA_crossTalk/session_947199653/neuropil_corrected_manual_947798779/neuropil_correction.pdf\n"
     ]
    },
    {
     "name": "stderr",
     "output_type": "stream",
     "text": [
      "/home/nataliao/miniconda3/envs/mesoscope/lib/python3.6/site-packages/ipykernel_launcher.py:44: RuntimeWarning: More than 20 figures have been opened. Figures created through the pyplot interface (`matplotlib.pyplot.figure`) are retained until explicitly closed and may consume too much memory. (To control this warning, see the rcParam `figure.max_open_warning`).\n"
     ]
    },
    {
     "name": "stdout",
     "output_type": "stream",
     "text": [
      "Saving figure:\n",
      "/allen/programs/braintv/workgroups/nc-ophys/Farzaneh/ICA_crossTalk/session_947199653/neuropil_corrected_manual_947798781/neuropil_correction.pdf\n"
     ]
    },
    {
     "name": "stderr",
     "output_type": "stream",
     "text": [
      "/home/nataliao/miniconda3/envs/mesoscope/lib/python3.6/site-packages/ipykernel_launcher.py:44: RuntimeWarning: More than 20 figures have been opened. Figures created through the pyplot interface (`matplotlib.pyplot.figure`) are retained until explicitly closed and may consume too much memory. (To control this warning, see the rcParam `figure.max_open_warning`).\n"
     ]
    },
    {
     "name": "stdout",
     "output_type": "stream",
     "text": [
      "Saving figure:\n",
      "/allen/programs/braintv/workgroups/nc-ophys/Farzaneh/ICA_crossTalk/session_947199653/neuropil_corrected_manual_947798783/neuropil_correction.pdf\n"
     ]
    },
    {
     "name": "stderr",
     "output_type": "stream",
     "text": [
      "/home/nataliao/miniconda3/envs/mesoscope/lib/python3.6/site-packages/ipykernel_launcher.py:44: RuntimeWarning: More than 20 figures have been opened. Figures created through the pyplot interface (`matplotlib.pyplot.figure`) are retained until explicitly closed and may consume too much memory. (To control this warning, see the rcParam `figure.max_open_warning`).\n"
     ]
    },
    {
     "name": "stdout",
     "output_type": "stream",
     "text": [
      "Saving figure:\n",
      "/allen/programs/braintv/workgroups/nc-ophys/Farzaneh/ICA_crossTalk/session_947199653/neuropil_corrected_manual_947798785/neuropil_correction.pdf\n"
     ]
    },
    {
     "name": "stderr",
     "output_type": "stream",
     "text": [
      "/home/nataliao/miniconda3/envs/mesoscope/lib/python3.6/site-packages/ipykernel_launcher.py:44: RuntimeWarning: More than 20 figures have been opened. Figures created through the pyplot interface (`matplotlib.pyplot.figure`) are retained until explicitly closed and may consume too much memory. (To control this warning, see the rcParam `figure.max_open_warning`).\n"
     ]
    },
    {
     "name": "stdout",
     "output_type": "stream",
     "text": [
      "Saving figure:\n",
      "/allen/programs/braintv/workgroups/nc-ophys/Farzaneh/ICA_crossTalk/session_947199653/neuropil_corrected_manual_947798775/neuropil_correction.pdf\n"
     ]
    },
    {
     "name": "stderr",
     "output_type": "stream",
     "text": [
      "/home/nataliao/miniconda3/envs/mesoscope/lib/python3.6/site-packages/ipykernel_launcher.py:44: RuntimeWarning: More than 20 figures have been opened. Figures created through the pyplot interface (`matplotlib.pyplot.figure`) are retained until explicitly closed and may consume too much memory. (To control this warning, see the rcParam `figure.max_open_warning`).\n"
     ]
    },
    {
     "name": "stdout",
     "output_type": "stream",
     "text": [
      "Saving figure:\n",
      "/allen/programs/braintv/workgroups/nc-ophys/Farzaneh/ICA_crossTalk/session_947199653/neuropil_corrected_manual_947798777/neuropil_correction.pdf\n"
     ]
    },
    {
     "name": "stderr",
     "output_type": "stream",
     "text": [
      "/home/nataliao/miniconda3/envs/mesoscope/lib/python3.6/site-packages/ipykernel_launcher.py:44: RuntimeWarning: More than 20 figures have been opened. Figures created through the pyplot interface (`matplotlib.pyplot.figure`) are retained until explicitly closed and may consume too much memory. (To control this warning, see the rcParam `figure.max_open_warning`).\n"
     ]
    },
    {
     "name": "stdout",
     "output_type": "stream",
     "text": [
      "Saving figure:\n",
      "/allen/programs/braintv/workgroups/nc-ophys/Farzaneh/ICA_crossTalk/session_947199653/neuropil_corrected_manual_947798771/neuropil_correction.pdf\n"
     ]
    },
    {
     "name": "stderr",
     "output_type": "stream",
     "text": [
      "/home/nataliao/miniconda3/envs/mesoscope/lib/python3.6/site-packages/ipykernel_launcher.py:44: RuntimeWarning: More than 20 figures have been opened. Figures created through the pyplot interface (`matplotlib.pyplot.figure`) are retained until explicitly closed and may consume too much memory. (To control this warning, see the rcParam `figure.max_open_warning`).\n"
     ]
    },
    {
     "name": "stdout",
     "output_type": "stream",
     "text": [
      "Saving figure:\n",
      "/allen/programs/braintv/workgroups/nc-ophys/Farzaneh/ICA_crossTalk/session_947199653/neuropil_corrected_manual_947798773/neuropil_correction.pdf\n",
      "\n",
      "\n",
      "Session 59/66: /allen/programs/braintv/workgroups/nc-ophys/Farzaneh/ICA_crossTalk/session_948252173/\n",
      "['948704864', '948704866', '948704856', '948704858', '948704868', '948704870', '948704860', '948704862']\n"
     ]
    },
    {
     "name": "stderr",
     "output_type": "stream",
     "text": [
      "/home/nataliao/miniconda3/envs/mesoscope/lib/python3.6/site-packages/ipykernel_launcher.py:44: RuntimeWarning: More than 20 figures have been opened. Figures created through the pyplot interface (`matplotlib.pyplot.figure`) are retained until explicitly closed and may consume too much memory. (To control this warning, see the rcParam `figure.max_open_warning`).\n"
     ]
    },
    {
     "name": "stdout",
     "output_type": "stream",
     "text": [
      "Saving figure:\n",
      "/allen/programs/braintv/workgroups/nc-ophys/Farzaneh/ICA_crossTalk/session_948252173/neuropil_corrected_manual_948704864/neuropil_correction.pdf\n"
     ]
    },
    {
     "name": "stderr",
     "output_type": "stream",
     "text": [
      "/home/nataliao/miniconda3/envs/mesoscope/lib/python3.6/site-packages/ipykernel_launcher.py:44: RuntimeWarning: More than 20 figures have been opened. Figures created through the pyplot interface (`matplotlib.pyplot.figure`) are retained until explicitly closed and may consume too much memory. (To control this warning, see the rcParam `figure.max_open_warning`).\n"
     ]
    },
    {
     "name": "stdout",
     "output_type": "stream",
     "text": [
      "Saving figure:\n",
      "/allen/programs/braintv/workgroups/nc-ophys/Farzaneh/ICA_crossTalk/session_948252173/neuropil_corrected_manual_948704866/neuropil_correction.pdf\n"
     ]
    },
    {
     "name": "stderr",
     "output_type": "stream",
     "text": [
      "/home/nataliao/miniconda3/envs/mesoscope/lib/python3.6/site-packages/ipykernel_launcher.py:44: RuntimeWarning: More than 20 figures have been opened. Figures created through the pyplot interface (`matplotlib.pyplot.figure`) are retained until explicitly closed and may consume too much memory. (To control this warning, see the rcParam `figure.max_open_warning`).\n"
     ]
    },
    {
     "name": "stdout",
     "output_type": "stream",
     "text": [
      "Saving figure:\n",
      "/allen/programs/braintv/workgroups/nc-ophys/Farzaneh/ICA_crossTalk/session_948252173/neuropil_corrected_manual_948704856/neuropil_correction.pdf\n"
     ]
    },
    {
     "name": "stderr",
     "output_type": "stream",
     "text": [
      "/home/nataliao/miniconda3/envs/mesoscope/lib/python3.6/site-packages/ipykernel_launcher.py:44: RuntimeWarning: More than 20 figures have been opened. Figures created through the pyplot interface (`matplotlib.pyplot.figure`) are retained until explicitly closed and may consume too much memory. (To control this warning, see the rcParam `figure.max_open_warning`).\n"
     ]
    },
    {
     "name": "stdout",
     "output_type": "stream",
     "text": [
      "Saving figure:\n",
      "/allen/programs/braintv/workgroups/nc-ophys/Farzaneh/ICA_crossTalk/session_948252173/neuropil_corrected_manual_948704858/neuropil_correction.pdf\n"
     ]
    },
    {
     "name": "stderr",
     "output_type": "stream",
     "text": [
      "/home/nataliao/miniconda3/envs/mesoscope/lib/python3.6/site-packages/ipykernel_launcher.py:44: RuntimeWarning: More than 20 figures have been opened. Figures created through the pyplot interface (`matplotlib.pyplot.figure`) are retained until explicitly closed and may consume too much memory. (To control this warning, see the rcParam `figure.max_open_warning`).\n"
     ]
    },
    {
     "name": "stdout",
     "output_type": "stream",
     "text": [
      "Saving figure:\n",
      "/allen/programs/braintv/workgroups/nc-ophys/Farzaneh/ICA_crossTalk/session_948252173/neuropil_corrected_manual_948704868/neuropil_correction.pdf\n"
     ]
    },
    {
     "name": "stderr",
     "output_type": "stream",
     "text": [
      "/home/nataliao/miniconda3/envs/mesoscope/lib/python3.6/site-packages/ipykernel_launcher.py:44: RuntimeWarning: More than 20 figures have been opened. Figures created through the pyplot interface (`matplotlib.pyplot.figure`) are retained until explicitly closed and may consume too much memory. (To control this warning, see the rcParam `figure.max_open_warning`).\n"
     ]
    },
    {
     "name": "stdout",
     "output_type": "stream",
     "text": [
      "Saving figure:\n",
      "/allen/programs/braintv/workgroups/nc-ophys/Farzaneh/ICA_crossTalk/session_948252173/neuropil_corrected_manual_948704870/neuropil_correction.pdf\n"
     ]
    },
    {
     "name": "stderr",
     "output_type": "stream",
     "text": [
      "/home/nataliao/miniconda3/envs/mesoscope/lib/python3.6/site-packages/ipykernel_launcher.py:44: RuntimeWarning: More than 20 figures have been opened. Figures created through the pyplot interface (`matplotlib.pyplot.figure`) are retained until explicitly closed and may consume too much memory. (To control this warning, see the rcParam `figure.max_open_warning`).\n"
     ]
    },
    {
     "name": "stdout",
     "output_type": "stream",
     "text": [
      "Saving figure:\n",
      "/allen/programs/braintv/workgroups/nc-ophys/Farzaneh/ICA_crossTalk/session_948252173/neuropil_corrected_manual_948704860/neuropil_correction.pdf\n"
     ]
    },
    {
     "name": "stderr",
     "output_type": "stream",
     "text": [
      "/home/nataliao/miniconda3/envs/mesoscope/lib/python3.6/site-packages/ipykernel_launcher.py:44: RuntimeWarning: More than 20 figures have been opened. Figures created through the pyplot interface (`matplotlib.pyplot.figure`) are retained until explicitly closed and may consume too much memory. (To control this warning, see the rcParam `figure.max_open_warning`).\n"
     ]
    },
    {
     "name": "stdout",
     "output_type": "stream",
     "text": [
      "Saving figure:\n",
      "/allen/programs/braintv/workgroups/nc-ophys/Farzaneh/ICA_crossTalk/session_948252173/neuropil_corrected_manual_948704862/neuropil_correction.pdf\n",
      "\n",
      "\n",
      "Session 60/66: /allen/programs/braintv/workgroups/nc-ophys/Farzaneh/ICA_crossTalk/session_950031363/\n",
      "['951213215', '951213217', '951213211', '951213213', '951213203', '951213205', '951213207', '951213209']\n"
     ]
    },
    {
     "name": "stderr",
     "output_type": "stream",
     "text": [
      "/home/nataliao/miniconda3/envs/mesoscope/lib/python3.6/site-packages/ipykernel_launcher.py:44: RuntimeWarning: More than 20 figures have been opened. Figures created through the pyplot interface (`matplotlib.pyplot.figure`) are retained until explicitly closed and may consume too much memory. (To control this warning, see the rcParam `figure.max_open_warning`).\n"
     ]
    },
    {
     "name": "stdout",
     "output_type": "stream",
     "text": [
      "Saving figure:\n",
      "/allen/programs/braintv/workgroups/nc-ophys/Farzaneh/ICA_crossTalk/session_950031363/neuropil_corrected_manual_951213215/neuropil_correction.pdf\n"
     ]
    },
    {
     "name": "stderr",
     "output_type": "stream",
     "text": [
      "/home/nataliao/miniconda3/envs/mesoscope/lib/python3.6/site-packages/ipykernel_launcher.py:44: RuntimeWarning: More than 20 figures have been opened. Figures created through the pyplot interface (`matplotlib.pyplot.figure`) are retained until explicitly closed and may consume too much memory. (To control this warning, see the rcParam `figure.max_open_warning`).\n"
     ]
    },
    {
     "name": "stdout",
     "output_type": "stream",
     "text": [
      "Saving figure:\n",
      "/allen/programs/braintv/workgroups/nc-ophys/Farzaneh/ICA_crossTalk/session_950031363/neuropil_corrected_manual_951213217/neuropil_correction.pdf\n"
     ]
    },
    {
     "name": "stderr",
     "output_type": "stream",
     "text": [
      "/home/nataliao/miniconda3/envs/mesoscope/lib/python3.6/site-packages/ipykernel_launcher.py:44: RuntimeWarning: More than 20 figures have been opened. Figures created through the pyplot interface (`matplotlib.pyplot.figure`) are retained until explicitly closed and may consume too much memory. (To control this warning, see the rcParam `figure.max_open_warning`).\n"
     ]
    },
    {
     "name": "stdout",
     "output_type": "stream",
     "text": [
      "Saving figure:\n",
      "/allen/programs/braintv/workgroups/nc-ophys/Farzaneh/ICA_crossTalk/session_950031363/neuropil_corrected_manual_951213211/neuropil_correction.pdf\n"
     ]
    },
    {
     "name": "stderr",
     "output_type": "stream",
     "text": [
      "/home/nataliao/miniconda3/envs/mesoscope/lib/python3.6/site-packages/ipykernel_launcher.py:44: RuntimeWarning: More than 20 figures have been opened. Figures created through the pyplot interface (`matplotlib.pyplot.figure`) are retained until explicitly closed and may consume too much memory. (To control this warning, see the rcParam `figure.max_open_warning`).\n"
     ]
    },
    {
     "name": "stdout",
     "output_type": "stream",
     "text": [
      "Saving figure:\n",
      "/allen/programs/braintv/workgroups/nc-ophys/Farzaneh/ICA_crossTalk/session_950031363/neuropil_corrected_manual_951213213/neuropil_correction.pdf\n"
     ]
    },
    {
     "name": "stderr",
     "output_type": "stream",
     "text": [
      "/home/nataliao/miniconda3/envs/mesoscope/lib/python3.6/site-packages/ipykernel_launcher.py:44: RuntimeWarning: More than 20 figures have been opened. Figures created through the pyplot interface (`matplotlib.pyplot.figure`) are retained until explicitly closed and may consume too much memory. (To control this warning, see the rcParam `figure.max_open_warning`).\n"
     ]
    },
    {
     "name": "stdout",
     "output_type": "stream",
     "text": [
      "Saving figure:\n",
      "/allen/programs/braintv/workgroups/nc-ophys/Farzaneh/ICA_crossTalk/session_950031363/neuropil_corrected_manual_951213203/neuropil_correction.pdf\n"
     ]
    },
    {
     "name": "stderr",
     "output_type": "stream",
     "text": [
      "/home/nataliao/miniconda3/envs/mesoscope/lib/python3.6/site-packages/ipykernel_launcher.py:44: RuntimeWarning: More than 20 figures have been opened. Figures created through the pyplot interface (`matplotlib.pyplot.figure`) are retained until explicitly closed and may consume too much memory. (To control this warning, see the rcParam `figure.max_open_warning`).\n"
     ]
    },
    {
     "name": "stdout",
     "output_type": "stream",
     "text": [
      "Saving figure:\n",
      "/allen/programs/braintv/workgroups/nc-ophys/Farzaneh/ICA_crossTalk/session_950031363/neuropil_corrected_manual_951213205/neuropil_correction.pdf\n"
     ]
    },
    {
     "name": "stderr",
     "output_type": "stream",
     "text": [
      "/home/nataliao/miniconda3/envs/mesoscope/lib/python3.6/site-packages/ipykernel_launcher.py:44: RuntimeWarning: More than 20 figures have been opened. Figures created through the pyplot interface (`matplotlib.pyplot.figure`) are retained until explicitly closed and may consume too much memory. (To control this warning, see the rcParam `figure.max_open_warning`).\n"
     ]
    },
    {
     "name": "stdout",
     "output_type": "stream",
     "text": [
      "Saving figure:\n",
      "/allen/programs/braintv/workgroups/nc-ophys/Farzaneh/ICA_crossTalk/session_950031363/neuropil_corrected_manual_951213207/neuropil_correction.pdf\n"
     ]
    },
    {
     "name": "stderr",
     "output_type": "stream",
     "text": [
      "/home/nataliao/miniconda3/envs/mesoscope/lib/python3.6/site-packages/ipykernel_launcher.py:44: RuntimeWarning: More than 20 figures have been opened. Figures created through the pyplot interface (`matplotlib.pyplot.figure`) are retained until explicitly closed and may consume too much memory. (To control this warning, see the rcParam `figure.max_open_warning`).\n"
     ]
    },
    {
     "name": "stdout",
     "output_type": "stream",
     "text": [
      "Saving figure:\n",
      "/allen/programs/braintv/workgroups/nc-ophys/Farzaneh/ICA_crossTalk/session_950031363/neuropil_corrected_manual_951213209/neuropil_correction.pdf\n",
      "\n",
      "\n",
      "Session 61/66: /allen/programs/braintv/workgroups/nc-ophys/Farzaneh/ICA_crossTalk/session_952430817/\n",
      "['953659741', '953659743', '953659749', '953659752', '953659754', '953659756', '953659745', '953659747']\n"
     ]
    },
    {
     "name": "stderr",
     "output_type": "stream",
     "text": [
      "/home/nataliao/miniconda3/envs/mesoscope/lib/python3.6/site-packages/ipykernel_launcher.py:44: RuntimeWarning: More than 20 figures have been opened. Figures created through the pyplot interface (`matplotlib.pyplot.figure`) are retained until explicitly closed and may consume too much memory. (To control this warning, see the rcParam `figure.max_open_warning`).\n"
     ]
    },
    {
     "name": "stdout",
     "output_type": "stream",
     "text": [
      "Saving figure:\n",
      "/allen/programs/braintv/workgroups/nc-ophys/Farzaneh/ICA_crossTalk/session_952430817/neuropil_corrected_manual_953659741/neuropil_correction.pdf\n"
     ]
    },
    {
     "name": "stderr",
     "output_type": "stream",
     "text": [
      "/home/nataliao/miniconda3/envs/mesoscope/lib/python3.6/site-packages/ipykernel_launcher.py:44: RuntimeWarning: More than 20 figures have been opened. Figures created through the pyplot interface (`matplotlib.pyplot.figure`) are retained until explicitly closed and may consume too much memory. (To control this warning, see the rcParam `figure.max_open_warning`).\n"
     ]
    },
    {
     "name": "stdout",
     "output_type": "stream",
     "text": [
      "Saving figure:\n",
      "/allen/programs/braintv/workgroups/nc-ophys/Farzaneh/ICA_crossTalk/session_952430817/neuropil_corrected_manual_953659743/neuropil_correction.pdf\n"
     ]
    },
    {
     "name": "stderr",
     "output_type": "stream",
     "text": [
      "/home/nataliao/miniconda3/envs/mesoscope/lib/python3.6/site-packages/ipykernel_launcher.py:44: RuntimeWarning: More than 20 figures have been opened. Figures created through the pyplot interface (`matplotlib.pyplot.figure`) are retained until explicitly closed and may consume too much memory. (To control this warning, see the rcParam `figure.max_open_warning`).\n"
     ]
    },
    {
     "name": "stdout",
     "output_type": "stream",
     "text": [
      "Saving figure:\n",
      "/allen/programs/braintv/workgroups/nc-ophys/Farzaneh/ICA_crossTalk/session_952430817/neuropil_corrected_manual_953659749/neuropil_correction.pdf\n"
     ]
    },
    {
     "name": "stderr",
     "output_type": "stream",
     "text": [
      "/home/nataliao/miniconda3/envs/mesoscope/lib/python3.6/site-packages/ipykernel_launcher.py:44: RuntimeWarning: More than 20 figures have been opened. Figures created through the pyplot interface (`matplotlib.pyplot.figure`) are retained until explicitly closed and may consume too much memory. (To control this warning, see the rcParam `figure.max_open_warning`).\n"
     ]
    },
    {
     "name": "stdout",
     "output_type": "stream",
     "text": [
      "Saving figure:\n",
      "/allen/programs/braintv/workgroups/nc-ophys/Farzaneh/ICA_crossTalk/session_952430817/neuropil_corrected_manual_953659752/neuropil_correction.pdf\n"
     ]
    },
    {
     "name": "stderr",
     "output_type": "stream",
     "text": [
      "/home/nataliao/miniconda3/envs/mesoscope/lib/python3.6/site-packages/ipykernel_launcher.py:44: RuntimeWarning: More than 20 figures have been opened. Figures created through the pyplot interface (`matplotlib.pyplot.figure`) are retained until explicitly closed and may consume too much memory. (To control this warning, see the rcParam `figure.max_open_warning`).\n"
     ]
    },
    {
     "name": "stdout",
     "output_type": "stream",
     "text": [
      "Saving figure:\n",
      "/allen/programs/braintv/workgroups/nc-ophys/Farzaneh/ICA_crossTalk/session_952430817/neuropil_corrected_manual_953659754/neuropil_correction.pdf\n"
     ]
    },
    {
     "name": "stderr",
     "output_type": "stream",
     "text": [
      "/home/nataliao/miniconda3/envs/mesoscope/lib/python3.6/site-packages/ipykernel_launcher.py:44: RuntimeWarning: More than 20 figures have been opened. Figures created through the pyplot interface (`matplotlib.pyplot.figure`) are retained until explicitly closed and may consume too much memory. (To control this warning, see the rcParam `figure.max_open_warning`).\n"
     ]
    },
    {
     "name": "stdout",
     "output_type": "stream",
     "text": [
      "Saving figure:\n",
      "/allen/programs/braintv/workgroups/nc-ophys/Farzaneh/ICA_crossTalk/session_952430817/neuropil_corrected_manual_953659756/neuropil_correction.pdf\n"
     ]
    },
    {
     "name": "stderr",
     "output_type": "stream",
     "text": [
      "/home/nataliao/miniconda3/envs/mesoscope/lib/python3.6/site-packages/ipykernel_launcher.py:44: RuntimeWarning: More than 20 figures have been opened. Figures created through the pyplot interface (`matplotlib.pyplot.figure`) are retained until explicitly closed and may consume too much memory. (To control this warning, see the rcParam `figure.max_open_warning`).\n"
     ]
    },
    {
     "name": "stdout",
     "output_type": "stream",
     "text": [
      "Saving figure:\n",
      "/allen/programs/braintv/workgroups/nc-ophys/Farzaneh/ICA_crossTalk/session_952430817/neuropil_corrected_manual_953659745/neuropil_correction.pdf\n"
     ]
    },
    {
     "name": "stderr",
     "output_type": "stream",
     "text": [
      "/home/nataliao/miniconda3/envs/mesoscope/lib/python3.6/site-packages/ipykernel_launcher.py:44: RuntimeWarning: More than 20 figures have been opened. Figures created through the pyplot interface (`matplotlib.pyplot.figure`) are retained until explicitly closed and may consume too much memory. (To control this warning, see the rcParam `figure.max_open_warning`).\n"
     ]
    },
    {
     "name": "stdout",
     "output_type": "stream",
     "text": [
      "Saving figure:\n",
      "/allen/programs/braintv/workgroups/nc-ophys/Farzaneh/ICA_crossTalk/session_952430817/neuropil_corrected_manual_953659747/neuropil_correction.pdf\n",
      "\n",
      "\n",
      "Session 62/66: /allen/programs/braintv/workgroups/nc-ophys/Farzaneh/ICA_crossTalk/session_954954402/\n",
      "['958527485', '958527488', '958527474', '958527477', '958527479', '958527481', '958527464', '958527471']\n"
     ]
    },
    {
     "name": "stderr",
     "output_type": "stream",
     "text": [
      "/home/nataliao/miniconda3/envs/mesoscope/lib/python3.6/site-packages/ipykernel_launcher.py:44: RuntimeWarning: More than 20 figures have been opened. Figures created through the pyplot interface (`matplotlib.pyplot.figure`) are retained until explicitly closed and may consume too much memory. (To control this warning, see the rcParam `figure.max_open_warning`).\n"
     ]
    },
    {
     "name": "stdout",
     "output_type": "stream",
     "text": [
      "Saving figure:\n",
      "/allen/programs/braintv/workgroups/nc-ophys/Farzaneh/ICA_crossTalk/session_954954402/neuropil_corrected_manual_958527485/neuropil_correction.pdf\n"
     ]
    },
    {
     "name": "stderr",
     "output_type": "stream",
     "text": [
      "/home/nataliao/miniconda3/envs/mesoscope/lib/python3.6/site-packages/ipykernel_launcher.py:44: RuntimeWarning: More than 20 figures have been opened. Figures created through the pyplot interface (`matplotlib.pyplot.figure`) are retained until explicitly closed and may consume too much memory. (To control this warning, see the rcParam `figure.max_open_warning`).\n"
     ]
    },
    {
     "name": "stdout",
     "output_type": "stream",
     "text": [
      "Saving figure:\n",
      "/allen/programs/braintv/workgroups/nc-ophys/Farzaneh/ICA_crossTalk/session_954954402/neuropil_corrected_manual_958527488/neuropil_correction.pdf\n"
     ]
    },
    {
     "name": "stderr",
     "output_type": "stream",
     "text": [
      "/home/nataliao/miniconda3/envs/mesoscope/lib/python3.6/site-packages/ipykernel_launcher.py:44: RuntimeWarning: More than 20 figures have been opened. Figures created through the pyplot interface (`matplotlib.pyplot.figure`) are retained until explicitly closed and may consume too much memory. (To control this warning, see the rcParam `figure.max_open_warning`).\n"
     ]
    },
    {
     "name": "stdout",
     "output_type": "stream",
     "text": [
      "Saving figure:\n",
      "/allen/programs/braintv/workgroups/nc-ophys/Farzaneh/ICA_crossTalk/session_954954402/neuropil_corrected_manual_958527474/neuropil_correction.pdf\n"
     ]
    },
    {
     "name": "stderr",
     "output_type": "stream",
     "text": [
      "/home/nataliao/miniconda3/envs/mesoscope/lib/python3.6/site-packages/ipykernel_launcher.py:44: RuntimeWarning: More than 20 figures have been opened. Figures created through the pyplot interface (`matplotlib.pyplot.figure`) are retained until explicitly closed and may consume too much memory. (To control this warning, see the rcParam `figure.max_open_warning`).\n"
     ]
    },
    {
     "name": "stdout",
     "output_type": "stream",
     "text": [
      "Saving figure:\n",
      "/allen/programs/braintv/workgroups/nc-ophys/Farzaneh/ICA_crossTalk/session_954954402/neuropil_corrected_manual_958527477/neuropil_correction.pdf\n"
     ]
    },
    {
     "name": "stderr",
     "output_type": "stream",
     "text": [
      "/home/nataliao/miniconda3/envs/mesoscope/lib/python3.6/site-packages/ipykernel_launcher.py:44: RuntimeWarning: More than 20 figures have been opened. Figures created through the pyplot interface (`matplotlib.pyplot.figure`) are retained until explicitly closed and may consume too much memory. (To control this warning, see the rcParam `figure.max_open_warning`).\n"
     ]
    },
    {
     "name": "stdout",
     "output_type": "stream",
     "text": [
      "Saving figure:\n",
      "/allen/programs/braintv/workgroups/nc-ophys/Farzaneh/ICA_crossTalk/session_954954402/neuropil_corrected_manual_958527479/neuropil_correction.pdf\n"
     ]
    },
    {
     "name": "stderr",
     "output_type": "stream",
     "text": [
      "/home/nataliao/miniconda3/envs/mesoscope/lib/python3.6/site-packages/ipykernel_launcher.py:44: RuntimeWarning: More than 20 figures have been opened. Figures created through the pyplot interface (`matplotlib.pyplot.figure`) are retained until explicitly closed and may consume too much memory. (To control this warning, see the rcParam `figure.max_open_warning`).\n"
     ]
    },
    {
     "name": "stdout",
     "output_type": "stream",
     "text": [
      "Saving figure:\n",
      "/allen/programs/braintv/workgroups/nc-ophys/Farzaneh/ICA_crossTalk/session_954954402/neuropil_corrected_manual_958527481/neuropil_correction.pdf\n"
     ]
    },
    {
     "name": "stderr",
     "output_type": "stream",
     "text": [
      "/home/nataliao/miniconda3/envs/mesoscope/lib/python3.6/site-packages/ipykernel_launcher.py:44: RuntimeWarning: More than 20 figures have been opened. Figures created through the pyplot interface (`matplotlib.pyplot.figure`) are retained until explicitly closed and may consume too much memory. (To control this warning, see the rcParam `figure.max_open_warning`).\n"
     ]
    },
    {
     "name": "stdout",
     "output_type": "stream",
     "text": [
      "Saving figure:\n",
      "/allen/programs/braintv/workgroups/nc-ophys/Farzaneh/ICA_crossTalk/session_954954402/neuropil_corrected_manual_958527464/neuropil_correction.pdf\n"
     ]
    },
    {
     "name": "stderr",
     "output_type": "stream",
     "text": [
      "/home/nataliao/miniconda3/envs/mesoscope/lib/python3.6/site-packages/ipykernel_launcher.py:44: RuntimeWarning: More than 20 figures have been opened. Figures created through the pyplot interface (`matplotlib.pyplot.figure`) are retained until explicitly closed and may consume too much memory. (To control this warning, see the rcParam `figure.max_open_warning`).\n"
     ]
    },
    {
     "name": "stdout",
     "output_type": "stream",
     "text": [
      "Saving figure:\n",
      "/allen/programs/braintv/workgroups/nc-ophys/Farzaneh/ICA_crossTalk/session_954954402/neuropil_corrected_manual_958527471/neuropil_correction.pdf\n",
      "\n",
      "\n",
      "Session 63/66: /allen/programs/braintv/workgroups/nc-ophys/Farzaneh/ICA_crossTalk/session_955775716/\n",
      "['956941841', '956941844', '956941851', '956941853', '956941856', '956941858', '956941846', '956941848']\n"
     ]
    },
    {
     "name": "stderr",
     "output_type": "stream",
     "text": [
      "/home/nataliao/miniconda3/envs/mesoscope/lib/python3.6/site-packages/ipykernel_launcher.py:44: RuntimeWarning: More than 20 figures have been opened. Figures created through the pyplot interface (`matplotlib.pyplot.figure`) are retained until explicitly closed and may consume too much memory. (To control this warning, see the rcParam `figure.max_open_warning`).\n"
     ]
    },
    {
     "name": "stdout",
     "output_type": "stream",
     "text": [
      "Saving figure:\n",
      "/allen/programs/braintv/workgroups/nc-ophys/Farzaneh/ICA_crossTalk/session_955775716/neuropil_corrected_manual_956941841/neuropil_correction.pdf\n"
     ]
    },
    {
     "name": "stderr",
     "output_type": "stream",
     "text": [
      "/home/nataliao/miniconda3/envs/mesoscope/lib/python3.6/site-packages/ipykernel_launcher.py:44: RuntimeWarning: More than 20 figures have been opened. Figures created through the pyplot interface (`matplotlib.pyplot.figure`) are retained until explicitly closed and may consume too much memory. (To control this warning, see the rcParam `figure.max_open_warning`).\n"
     ]
    },
    {
     "name": "stdout",
     "output_type": "stream",
     "text": [
      "Saving figure:\n",
      "/allen/programs/braintv/workgroups/nc-ophys/Farzaneh/ICA_crossTalk/session_955775716/neuropil_corrected_manual_956941844/neuropil_correction.pdf\n"
     ]
    },
    {
     "name": "stderr",
     "output_type": "stream",
     "text": [
      "/home/nataliao/miniconda3/envs/mesoscope/lib/python3.6/site-packages/ipykernel_launcher.py:44: RuntimeWarning: More than 20 figures have been opened. Figures created through the pyplot interface (`matplotlib.pyplot.figure`) are retained until explicitly closed and may consume too much memory. (To control this warning, see the rcParam `figure.max_open_warning`).\n"
     ]
    },
    {
     "name": "stdout",
     "output_type": "stream",
     "text": [
      "Saving figure:\n",
      "/allen/programs/braintv/workgroups/nc-ophys/Farzaneh/ICA_crossTalk/session_955775716/neuropil_corrected_manual_956941851/neuropil_correction.pdf\n"
     ]
    },
    {
     "name": "stderr",
     "output_type": "stream",
     "text": [
      "/home/nataliao/miniconda3/envs/mesoscope/lib/python3.6/site-packages/ipykernel_launcher.py:44: RuntimeWarning: More than 20 figures have been opened. Figures created through the pyplot interface (`matplotlib.pyplot.figure`) are retained until explicitly closed and may consume too much memory. (To control this warning, see the rcParam `figure.max_open_warning`).\n"
     ]
    },
    {
     "name": "stdout",
     "output_type": "stream",
     "text": [
      "Saving figure:\n",
      "/allen/programs/braintv/workgroups/nc-ophys/Farzaneh/ICA_crossTalk/session_955775716/neuropil_corrected_manual_956941853/neuropil_correction.pdf\n"
     ]
    },
    {
     "name": "stderr",
     "output_type": "stream",
     "text": [
      "/home/nataliao/miniconda3/envs/mesoscope/lib/python3.6/site-packages/ipykernel_launcher.py:44: RuntimeWarning: More than 20 figures have been opened. Figures created through the pyplot interface (`matplotlib.pyplot.figure`) are retained until explicitly closed and may consume too much memory. (To control this warning, see the rcParam `figure.max_open_warning`).\n"
     ]
    },
    {
     "name": "stdout",
     "output_type": "stream",
     "text": [
      "Saving figure:\n",
      "/allen/programs/braintv/workgroups/nc-ophys/Farzaneh/ICA_crossTalk/session_955775716/neuropil_corrected_manual_956941856/neuropil_correction.pdf\n"
     ]
    },
    {
     "name": "stderr",
     "output_type": "stream",
     "text": [
      "/home/nataliao/miniconda3/envs/mesoscope/lib/python3.6/site-packages/ipykernel_launcher.py:44: RuntimeWarning: More than 20 figures have been opened. Figures created through the pyplot interface (`matplotlib.pyplot.figure`) are retained until explicitly closed and may consume too much memory. (To control this warning, see the rcParam `figure.max_open_warning`).\n"
     ]
    },
    {
     "name": "stdout",
     "output_type": "stream",
     "text": [
      "Saving figure:\n",
      "/allen/programs/braintv/workgroups/nc-ophys/Farzaneh/ICA_crossTalk/session_955775716/neuropil_corrected_manual_956941858/neuropil_correction.pdf\n"
     ]
    },
    {
     "name": "stderr",
     "output_type": "stream",
     "text": [
      "/home/nataliao/miniconda3/envs/mesoscope/lib/python3.6/site-packages/ipykernel_launcher.py:44: RuntimeWarning: More than 20 figures have been opened. Figures created through the pyplot interface (`matplotlib.pyplot.figure`) are retained until explicitly closed and may consume too much memory. (To control this warning, see the rcParam `figure.max_open_warning`).\n"
     ]
    },
    {
     "name": "stdout",
     "output_type": "stream",
     "text": [
      "Saving figure:\n",
      "/allen/programs/braintv/workgroups/nc-ophys/Farzaneh/ICA_crossTalk/session_955775716/neuropil_corrected_manual_956941846/neuropil_correction.pdf\n"
     ]
    },
    {
     "name": "stderr",
     "output_type": "stream",
     "text": [
      "/home/nataliao/miniconda3/envs/mesoscope/lib/python3.6/site-packages/ipykernel_launcher.py:44: RuntimeWarning: More than 20 figures have been opened. Figures created through the pyplot interface (`matplotlib.pyplot.figure`) are retained until explicitly closed and may consume too much memory. (To control this warning, see the rcParam `figure.max_open_warning`).\n"
     ]
    },
    {
     "name": "stdout",
     "output_type": "stream",
     "text": [
      "Saving figure:\n",
      "/allen/programs/braintv/workgroups/nc-ophys/Farzaneh/ICA_crossTalk/session_955775716/neuropil_corrected_manual_956941848/neuropil_correction.pdf\n",
      "\n",
      "\n",
      "Session 64/66: /allen/programs/braintv/workgroups/nc-ophys/Farzaneh/ICA_crossTalk/session_958105827/\n",
      "['958741219', '958741222', '958741224', '958741226', '958741228', '958741230', '958741232', '958741234']\n"
     ]
    },
    {
     "name": "stderr",
     "output_type": "stream",
     "text": [
      "/home/nataliao/miniconda3/envs/mesoscope/lib/python3.6/site-packages/ipykernel_launcher.py:44: RuntimeWarning: More than 20 figures have been opened. Figures created through the pyplot interface (`matplotlib.pyplot.figure`) are retained until explicitly closed and may consume too much memory. (To control this warning, see the rcParam `figure.max_open_warning`).\n"
     ]
    },
    {
     "name": "stdout",
     "output_type": "stream",
     "text": [
      "Saving figure:\n",
      "/allen/programs/braintv/workgroups/nc-ophys/Farzaneh/ICA_crossTalk/session_958105827/neuropil_corrected_manual_958741219/neuropil_correction.pdf\n"
     ]
    },
    {
     "name": "stderr",
     "output_type": "stream",
     "text": [
      "/home/nataliao/miniconda3/envs/mesoscope/lib/python3.6/site-packages/ipykernel_launcher.py:44: RuntimeWarning: More than 20 figures have been opened. Figures created through the pyplot interface (`matplotlib.pyplot.figure`) are retained until explicitly closed and may consume too much memory. (To control this warning, see the rcParam `figure.max_open_warning`).\n"
     ]
    },
    {
     "name": "stdout",
     "output_type": "stream",
     "text": [
      "Saving figure:\n",
      "/allen/programs/braintv/workgroups/nc-ophys/Farzaneh/ICA_crossTalk/session_958105827/neuropil_corrected_manual_958741222/neuropil_correction.pdf\n"
     ]
    },
    {
     "name": "stderr",
     "output_type": "stream",
     "text": [
      "/home/nataliao/miniconda3/envs/mesoscope/lib/python3.6/site-packages/ipykernel_launcher.py:44: RuntimeWarning: More than 20 figures have been opened. Figures created through the pyplot interface (`matplotlib.pyplot.figure`) are retained until explicitly closed and may consume too much memory. (To control this warning, see the rcParam `figure.max_open_warning`).\n"
     ]
    },
    {
     "name": "stdout",
     "output_type": "stream",
     "text": [
      "Saving figure:\n",
      "/allen/programs/braintv/workgroups/nc-ophys/Farzaneh/ICA_crossTalk/session_958105827/neuropil_corrected_manual_958741224/neuropil_correction.pdf\n"
     ]
    },
    {
     "name": "stderr",
     "output_type": "stream",
     "text": [
      "/home/nataliao/miniconda3/envs/mesoscope/lib/python3.6/site-packages/ipykernel_launcher.py:44: RuntimeWarning: More than 20 figures have been opened. Figures created through the pyplot interface (`matplotlib.pyplot.figure`) are retained until explicitly closed and may consume too much memory. (To control this warning, see the rcParam `figure.max_open_warning`).\n"
     ]
    },
    {
     "name": "stdout",
     "output_type": "stream",
     "text": [
      "Saving figure:\n",
      "/allen/programs/braintv/workgroups/nc-ophys/Farzaneh/ICA_crossTalk/session_958105827/neuropil_corrected_manual_958741226/neuropil_correction.pdf\n"
     ]
    },
    {
     "name": "stderr",
     "output_type": "stream",
     "text": [
      "/home/nataliao/miniconda3/envs/mesoscope/lib/python3.6/site-packages/ipykernel_launcher.py:44: RuntimeWarning: More than 20 figures have been opened. Figures created through the pyplot interface (`matplotlib.pyplot.figure`) are retained until explicitly closed and may consume too much memory. (To control this warning, see the rcParam `figure.max_open_warning`).\n"
     ]
    },
    {
     "name": "stdout",
     "output_type": "stream",
     "text": [
      "Saving figure:\n",
      "/allen/programs/braintv/workgroups/nc-ophys/Farzaneh/ICA_crossTalk/session_958105827/neuropil_corrected_manual_958741228/neuropil_correction.pdf\n"
     ]
    },
    {
     "name": "stderr",
     "output_type": "stream",
     "text": [
      "/home/nataliao/miniconda3/envs/mesoscope/lib/python3.6/site-packages/ipykernel_launcher.py:44: RuntimeWarning: More than 20 figures have been opened. Figures created through the pyplot interface (`matplotlib.pyplot.figure`) are retained until explicitly closed and may consume too much memory. (To control this warning, see the rcParam `figure.max_open_warning`).\n"
     ]
    },
    {
     "name": "stdout",
     "output_type": "stream",
     "text": [
      "Saving figure:\n",
      "/allen/programs/braintv/workgroups/nc-ophys/Farzaneh/ICA_crossTalk/session_958105827/neuropil_corrected_manual_958741230/neuropil_correction.pdf\n"
     ]
    },
    {
     "name": "stderr",
     "output_type": "stream",
     "text": [
      "/home/nataliao/miniconda3/envs/mesoscope/lib/python3.6/site-packages/ipykernel_launcher.py:44: RuntimeWarning: More than 20 figures have been opened. Figures created through the pyplot interface (`matplotlib.pyplot.figure`) are retained until explicitly closed and may consume too much memory. (To control this warning, see the rcParam `figure.max_open_warning`).\n"
     ]
    },
    {
     "name": "stdout",
     "output_type": "stream",
     "text": [
      "Saving figure:\n",
      "/allen/programs/braintv/workgroups/nc-ophys/Farzaneh/ICA_crossTalk/session_958105827/neuropil_corrected_manual_958741232/neuropil_correction.pdf\n"
     ]
    },
    {
     "name": "stderr",
     "output_type": "stream",
     "text": [
      "/home/nataliao/miniconda3/envs/mesoscope/lib/python3.6/site-packages/ipykernel_launcher.py:44: RuntimeWarning: More than 20 figures have been opened. Figures created through the pyplot interface (`matplotlib.pyplot.figure`) are retained until explicitly closed and may consume too much memory. (To control this warning, see the rcParam `figure.max_open_warning`).\n"
     ]
    },
    {
     "name": "stdout",
     "output_type": "stream",
     "text": [
      "Saving figure:\n",
      "/allen/programs/braintv/workgroups/nc-ophys/Farzaneh/ICA_crossTalk/session_958105827/neuropil_corrected_manual_958741234/neuropil_correction.pdf\n",
      "\n",
      "\n",
      "Session 65/66: /allen/programs/braintv/workgroups/nc-ophys/Farzaneh/ICA_crossTalk/session_971922380/\n",
      "['972233187', '972233189', '972233193', '972233195', '972233173', '972233175', '972233181', '972233183']\n"
     ]
    },
    {
     "name": "stderr",
     "output_type": "stream",
     "text": [
      "/home/nataliao/miniconda3/envs/mesoscope/lib/python3.6/site-packages/ipykernel_launcher.py:44: RuntimeWarning: More than 20 figures have been opened. Figures created through the pyplot interface (`matplotlib.pyplot.figure`) are retained until explicitly closed and may consume too much memory. (To control this warning, see the rcParam `figure.max_open_warning`).\n"
     ]
    },
    {
     "name": "stdout",
     "output_type": "stream",
     "text": [
      "Saving figure:\n",
      "/allen/programs/braintv/workgroups/nc-ophys/Farzaneh/ICA_crossTalk/session_971922380/neuropil_corrected_manual_972233187/neuropil_correction.pdf\n"
     ]
    },
    {
     "name": "stderr",
     "output_type": "stream",
     "text": [
      "/home/nataliao/miniconda3/envs/mesoscope/lib/python3.6/site-packages/ipykernel_launcher.py:44: RuntimeWarning: More than 20 figures have been opened. Figures created through the pyplot interface (`matplotlib.pyplot.figure`) are retained until explicitly closed and may consume too much memory. (To control this warning, see the rcParam `figure.max_open_warning`).\n"
     ]
    },
    {
     "name": "stdout",
     "output_type": "stream",
     "text": [
      "Saving figure:\n",
      "/allen/programs/braintv/workgroups/nc-ophys/Farzaneh/ICA_crossTalk/session_971922380/neuropil_corrected_manual_972233189/neuropil_correction.pdf\n"
     ]
    }
   ],
   "source": [
    "# Read the np subtracted files and plot/save the figures\n",
    "\n",
    "do_plots = 0\n",
    "\n",
    "if do_plots:\n",
    "    \n",
    "    for isct in range(len(sessions_ctDone)): # isct=0\n",
    "\n",
    "        dest_ct = f'/allen/programs/braintv/workgroups/nc-ophys/Farzaneh/ICA_crossTalk/session_{sessions_ctDone[isct]}/'\n",
    "\n",
    "\n",
    "        print(f'\\n\\nSession {isct}/{len(sessions_ctDone)}: {dest_ct}')\n",
    "        list_files = os.listdir(dest_ct) # list of files in session_xxxx\n",
    "\n",
    "\n",
    "        # set experiment ids\n",
    "        regex = re.compile(f'ica_traces_(.*)') # valid_{839716139}.json        \n",
    "        ica_traces_folders = [string for string in list_files if re.match(regex, string)]\n",
    "    #     print(ica_traces_folders)\n",
    "\n",
    "        exp_ids = []\n",
    "        for ipp in range(len(ica_traces_folders)):\n",
    "            f = ica_traces_folders[ipp]\n",
    "            # print(f)\n",
    "            tokens = [m.start() for m in re.finditer('_', f)]\n",
    "            exp0 = f[tokens[1]+1 : tokens[2]]\n",
    "            exp1 = f[tokens[2]+1:]\n",
    "\n",
    "            exp_ids.append(exp0)\n",
    "            exp_ids.append(exp1)\n",
    "        print(exp_ids)    \n",
    "\n",
    "\n",
    "        # read the np_corr files for each experiment. Make plots to compare the np subtracted files for r_fact=1 vs. 0.7\n",
    "        for exp_id in exp_ids:\n",
    "\n",
    "\n",
    "            tnam = os.path.join(dest_ct, f'traces_out_{exp_id}.h5')\n",
    "            nnam = os.path.join(dest_ct, f'neuropil_out_{exp_id}.h5')\n",
    "\n",
    "            # load the traces and np files\n",
    "            tf = np.array(h5py.File(tnam, 'r')['data'])\n",
    "            nf = np.array(h5py.File(nnam, 'r')['data'])                    \n",
    "\n",
    "\n",
    "    #         r_all = []\n",
    "\n",
    "            plt.figure(figsize=(11,8))\n",
    "            plt.suptitle(f'sess{sessions_ctDone[isct]} - exp{exp_id}')\n",
    "            ra = np.random.randint(0, tf[0].shape[1])        \n",
    "\n",
    "            plt.subplot(411)            \n",
    "            plt.plot(tf[0].T)\n",
    "            plt.title('soma trace')\n",
    "            plt.xlim([ra, ra+500]);            \n",
    "\n",
    "            plt.subplot(412)            \n",
    "            plt.plot(nf[0].T)\n",
    "            plt.title('np trace')\n",
    "            plt.xlim([ra, ra+500]);            \n",
    "\n",
    "            isp = 3\n",
    "            for r_fact in [.7]: #, 1]: #.7 # what fraction of np signal to subtract from soma.\n",
    "\n",
    "                np_corr_fold = os.path.join(dest_ct, f'neuropil_corrected_manual_{exp_id}')\n",
    "\n",
    "                np_corr_file = os.path.join(np_corr_fold, f'neuropil_correction_r{r_fact}.h5')\n",
    "    #             np_corr_ct_file = os.path.join(np_corr_fold, f'neuropil_correction_ct_r{r_fact}.h5')\n",
    "\n",
    "                f = h5py.File(np_corr_file, 'r')\n",
    "                r = np.array(f['data']).T            \n",
    "    #             r_all.append(r)\n",
    "\n",
    "\n",
    "                # make plots\n",
    "                plt.subplot(4,1,isp)\n",
    "                plt.plot(r)\n",
    "\n",
    "                plt.xlim([ra, ra+500]);\n",
    "                plt.title(r_fact)\n",
    "                isp = isp+1\n",
    "\n",
    "            plt.subplots_adjust(hspace=0.7)            \n",
    "\n",
    "            # save the figure\n",
    "            fign = os.path.join(np_corr_fold, f'neuropil_correction.pdf')\n",
    "            print(f'Saving figure:\\n{fign}')\n",
    "            plt.savefig(fign, bbox_inches='tight') # , bbox_extra_artists=(lgd,)\n"
   ]
  },
  {
   "cell_type": "code",
   "execution_count": null,
   "metadata": {},
   "outputs": [
    {
     "name": "stdout",
     "output_type": "stream",
     "text": [
      "\n",
      "\n",
      "Session 54/143: /allen/programs/braintv/workgroups/nc-ophys/Farzaneh/ICA_crossTalk/session_907177554/\n",
      "['908381672', '908381674', '908381684', '908381686', '908381676', '908381678', '908381680', '908381682']\n",
      "\n",
      "/allen/programs/braintv/workgroups/nc-ophys/Farzaneh/ICA_crossTalk/session_907177554/ica_traces_908381672_908381674/908381672_valid_ct.json\n",
      "361 325\n",
      "0.9002770083102493 : fraction valid_ct ROIs\n",
      "ATTENTION: we need to apply valid ROIs onto np subtracted traces\n",
      "Computing median filter\n",
      "/allen/programs/braintv/workgroups/nc-ophys/Farzaneh/ICA_crossTalk/session_907177554/neuropil_correction_r0.7_dff_908381672.h5\n",
      "/allen/programs/braintv/workgroups/nc-ophys/Farzaneh/ICA_crossTalk/session_907177554/traces_out_dff_908381672.h5\n",
      "\n",
      "/allen/programs/braintv/workgroups/nc-ophys/Farzaneh/ICA_crossTalk/session_907177554/ica_traces_908381672_908381674/908381674_valid_ct.json\n",
      "408 366\n",
      "0.8970588235294118 : fraction valid_ct ROIs\n",
      "ATTENTION: we need to apply valid ROIs onto np subtracted traces\n",
      "Computing median filter\n"
     ]
    }
   ],
   "source": [
    "# Read soma traces from traces_out, and the neuropil (maunally) corrected traces. \n",
    "# Then take care of valid ROIs if needed (ie only use traces from valid ROIs). \n",
    "# Finally compute dff on soma and np subtracted traces; and save the dff files in the session folder\n",
    "\n",
    "set_dff = 1 # if 1, compute dff (median filter will be used to compute F0; it will take time.) \n",
    "\n",
    "r_fact  = .7  # 1 # what fraction of np signal to subtract from soma.\n",
    "    \n",
    "import scipy\n",
    "\n",
    "errors_sess_exp = []    \n",
    "errors_log = []\n",
    "\n",
    "for isct in np.arange(54, len(sessions_ctDone)): # isct=0\n",
    "\n",
    "    dest_ct = f'/allen/programs/braintv/workgroups/nc-ophys/Farzaneh/ICA_crossTalk/session_{sessions_ctDone[isct]}/'\n",
    "\n",
    "\n",
    "    print(f'\\n\\nSession {isct}/{len(sessions_ctDone)}: {dest_ct}')\n",
    "    list_files = os.listdir(dest_ct) # list of files in session_xxxx\n",
    "\n",
    "\n",
    "    # set experiment ids\n",
    "    regex = re.compile(f'ica_traces_(.*)') # valid_{839716139}.json        \n",
    "    ica_traces_folders = [string for string in list_files if re.match(regex, string)]\n",
    "#     print(ica_traces_folders)\n",
    "\n",
    "    exp_ids = []\n",
    "    for ipp in range(len(ica_traces_folders)):\n",
    "        f = ica_traces_folders[ipp]\n",
    "        # print(f)\n",
    "        tokens = [m.start() for m in re.finditer('_', f)]\n",
    "        exp0 = f[tokens[1]+1 : tokens[2]]\n",
    "        exp1 = f[tokens[2]+1:]\n",
    "\n",
    "        exp_ids.append(exp0)\n",
    "        exp_ids.append(exp1)\n",
    "    print(exp_ids)    \n",
    "\n",
    "    \n",
    "    ################### read the soma traces (traces_out) for each experiment. \n",
    "    for exp_id in exp_ids:\n",
    "        \n",
    "        tnam = os.path.join(dest_ct, f'traces_out_{exp_id}.h5')\n",
    "#         nnam = os.path.join(dest_ct, f'neuropil_out_{exp_id}.h5')\n",
    "\n",
    "        tfo = h5py.File(tnam, 'r') # <KeysViewHDF5 ['data', 'mixing_matrix', 'mixing_matrix_adjusted', 'roi_names']>\n",
    "#         nfo = h5py.File(nnam, 'r')\n",
    "        \n",
    "        # load the traces and np files\n",
    "        tfd = np.array(tfo['data'])\n",
    "#         nfd = np.array(nfo['data'])                    \n",
    "        \n",
    "        # get the signal traces\n",
    "        tf = tfd[0].T\n",
    "#         nf = nfd[0].T\n",
    "        \n",
    "        \n",
    "        ############ load valid_ct file \n",
    "        regex = re.compile(f'ica_traces_(.*)') # valid_{839716139}.json        \n",
    "        list_files = os.listdir(dest_ct) # list of files in session_xxxx\n",
    "        ica_traces_folders = [string for string in list_files if re.match(regex, string)]\n",
    "#         print(ica_traces_folders)\n",
    "\n",
    "        # find the ica_traces folder that belongs to experiment indiv_id; the correct file name will have an output other than -1 when we run str.find()\n",
    "        ica_traces_ind = np.argwhere([-1!=ica_traces_folders[ifo].find(exp_id) for ifo in range(len(ica_traces_folders))]).squeeze()\n",
    "        ica_traces_dir = ica_traces_folders[ica_traces_ind]\n",
    "#         print(ica_traces_dir)\n",
    "\n",
    "        # ica traces : json filename\n",
    "        # valid_json_dir = os.path.join(dest_ct, ica_traces_dir, f'{exp_id}_valid.json')\n",
    "        valid_json_dir = os.path.join(dest_ct, ica_traces_dir, f'{exp_id}_valid_ct.json')\n",
    "        print(f'\\n{valid_json_dir}')\n",
    "\n",
    "\n",
    "        ############## read the valid_xx.json file to get the list of valid ROIs (from ica traces)  \n",
    "        err_occurred = False\n",
    "        \n",
    "        try: # we do this because not all experiments have valid_ct file saved.\n",
    "            rois = ju.read(valid_json_dir)\n",
    "            # set the roi ids for true ROIs in the json file\n",
    "            ra = np.array(list(rois.keys())) # all ROIs\n",
    "            rv = np.array(list(rois.values())) # array of False and True\n",
    "            roi_ids_ct = ra[rv].astype(int) # only valid ROIs\n",
    "            print(len(ra), len(roi_ids_ct))\n",
    "            # print(roi_ids_ct)\n",
    "            print(f'{np.mean(rv)} : fraction valid_ct ROIs')\n",
    "\n",
    "        except Exception as e:\n",
    "            print(e)\n",
    "            err_occurred = True \n",
    "            errors_sess_exp.append([sessions_ctDone[isct], exp_id])\n",
    "            errors_log.append(e)\n",
    "\n",
    "\n",
    "        ############### read the np corrected traces h5 file\n",
    "        if err_occurred == False:            \n",
    "            np_corr_fold = os.path.join(dest_ct, f'neuropil_corrected_manual_{exp_id}')\n",
    "            np_corr_file = os.path.join(np_corr_fold, f'neuropil_correction_r{r_fact}.h5')\n",
    "    #             np_corr_ct_file = os.path.join(np_corr_fold, f'neuropil_correction_ct_r{r_fact}.h5')\n",
    "\n",
    "            f = h5py.File(np_corr_file, 'r')\n",
    "            r = np.array(f['data']).T            \n",
    "\n",
    "#             print(f'Note the shapes: {r.shape, tf.shape, nf.shape}')\n",
    "\n",
    "        \n",
    "        ###################### if needed apply valid_ct onto np subtracted        \n",
    "        if r.shape[1] != len(roi_ids_ct): # then we need to apply valid ROIs onto np subtracted traces\n",
    "            print(f'ATTENTION: we need to apply valid ROIs onto np subtracted traces')\n",
    "\n",
    "            try:\n",
    "                \n",
    "                traces_rois = np.array(tfo['roi_names']) # roi_names in traces_out file\n",
    "                common_rois = np.in1d(traces_rois, roi_ids_ct) # those rois of traces_out that also exist in valid_ct file.\n",
    "                # if the number of rois in valid_ct and traces_out is the same common_rois will be the same as \"rv\".\n",
    "\n",
    "                r = r[:, common_rois]\n",
    "                tf = tf[:, common_rois]\n",
    "#                 nf = nf[:, common_rois]\n",
    "                \n",
    "                # the problem with below is that sometimes the number of rois is not the same in traces_out and valid_ct\n",
    "#                 r = r[:, rv]\n",
    "#                 tf = tf[:, rv]\n",
    "#                 nf = nf[:, rv]\n",
    "\n",
    "#                 print(f'Note the shapes: {r.shape, tf.shape, nf.shape}')\n",
    "                \n",
    "            except Exception as e:\n",
    "                print(e)\n",
    "                err_occurred = True \n",
    "                errors_sess_exp.append([sessions_ctDone[isct], exp_id])\n",
    "                errors_log.append(e)\n",
    "            \n",
    "            \n",
    "        \n",
    "        \n",
    "        ##########################################################################################\n",
    "        ############### now compute dff on the soma trace (tf) and on the np subtracted trace (r)\n",
    "        ##########################################################################################\n",
    "        \n",
    "        if np.logical_and(set_dff, err_occurred == False):\n",
    "            print('Computing median filter')\n",
    "\n",
    "            # np subtracted trace\n",
    "            f0 = scipy.signal.medfilt2d(r, (1801,1))\n",
    "    #         print(f0.shape)\n",
    "\n",
    "            n = np.std(r, axis=0)\n",
    "            n = np.full(f0.shape, 1)*n\n",
    "\n",
    "            f0 = np.max([f0,n], axis=0)\n",
    "\n",
    "            r_dff = (r-f0)/f0\n",
    "\n",
    "\n",
    "            # original soma trace\n",
    "            f0 = scipy.signal.medfilt2d(tf, (1801,1))\n",
    "    #         print(f0.shape)\n",
    "\n",
    "            n = np.std(tf, axis=0)\n",
    "            n = np.full(f0.shape, 1)*n\n",
    "\n",
    "            f0 = np.max([f0,n], axis=0)\n",
    "\n",
    "            tf_dff = (tf-f0)/f0\n",
    "\n",
    "\n",
    "\n",
    "            ################ save the dff traces\n",
    "\n",
    "            # save the np corr dff\n",
    "            r_dff_dir = os.path.join(dest_ct, f'neuropil_correction_r{r_fact}_dff_{exp_id}.h5')\n",
    "            print(r_dff_dir)\n",
    "            f = h5py.File(r_dff_dir, 'w')\n",
    "            dset = f.create_dataset(\"data\", data=r_dff) \n",
    "            f.close()\n",
    "\n",
    "\n",
    "            # save the soma trace dff\n",
    "            t_dff_dir = os.path.join(dest_ct, f'traces_out_dff_{exp_id}.h5')\n",
    "            print(t_dff_dir)\n",
    "            f = h5py.File(t_dff_dir, 'w')\n",
    "            dset = f.create_dataset(\"data\", data=tf_dff) \n",
    "            f.close()\n",
    "\n",
    "        "
   ]
  },
  {
   "cell_type": "code",
   "execution_count": 10,
   "metadata": {},
   "outputs": [
    {
     "data": {
      "text/plain": [
       "(142, 143)"
      ]
     },
     "execution_count": 10,
     "metadata": {},
     "output_type": "execute_result"
    }
   ],
   "source": [
    "isct, len(sessions_ctDone)"
   ]
  },
  {
   "cell_type": "code",
   "execution_count": 234,
   "metadata": {},
   "outputs": [
    {
     "name": "stdout",
     "output_type": "stream",
     "text": [
      "289 528\n",
      "52 416\n",
      "[['782107878' '783477307']\n",
      " ['782107878' '783477287']\n",
      " ['782107878' '783477311']\n",
      " ['782107878' '783477325']\n",
      " ['782107878' '783477276']\n",
      " ['786144371' '787282676']\n",
      " ['786144371' '787282685']\n",
      " ['786144371' '787282643']\n",
      " ['786144371' '787282662']\n",
      " ['786144371' '787282617']\n",
      " ['786144371' '787282625']\n",
      " ['786144371' '787282699']\n",
      " ['786144371' '787282708']\n",
      " ['788253110' '790002022']\n",
      " ['788253110' '790002034']\n",
      " ['788253110' '790002038']\n",
      " ['788253110' '790002026']\n",
      " ['788253110' '790002030']\n",
      " ['788253110' '790002040']\n",
      " ['850894918' '851085092']\n",
      " ['850894918' '851085095']\n",
      " ['850894918' '851085098']\n",
      " ['850894918' '851085109']\n",
      " ['850894918' '851085105']\n",
      " ['851428829' '851959331']\n",
      " ['851428829' '851959329']\n",
      " ['851428829' '851959322']\n",
      " ['863815473' '864430675']\n",
      " ['863815473' '864430680']\n",
      " ['864458864' '864967096']\n",
      " ['864458864' '864967106']\n",
      " ['864458864' '864967098']\n",
      " ['864458864' '864967100']\n",
      " ['865024413' '865798235']\n",
      " ['865024413' '865798249']\n",
      " ['865024413' '865798239']\n",
      " ['865024413' '865798247']\n",
      " ['865854762' '866518293']\n",
      " ['865854762' '866518305']\n",
      " ['865854762' '866518309']\n",
      " ['865854762' '866518298']\n",
      " ['866197765' '866518316']\n",
      " ['866197765' '866518318']\n",
      " ['866197765' '866518320']\n",
      " ['866197765' '866518326']\n",
      " ['866197765' '866518328']\n",
      " ['866197765' '866518322']\n",
      " ['866197765' '866518324']\n",
      " ['867027875' '867410514']\n",
      " ['867027875' '867410516']\n",
      " ['867027875' '867410522']\n",
      " ['867027875' '867410518']\n",
      " ['867027875' '867410509']\n",
      " ['868688430' '868870094']\n",
      " ['868688430' '868870097']\n",
      " ['868688430' '868870100']\n",
      " ['868688430' '868870104']\n",
      " ['868688430' '868870106']\n",
      " ['868688430' '868870085']\n",
      " ['869117575' '870142232']\n",
      " ['869117575' '870142236']\n",
      " ['869117575' '870142214']\n",
      " ['869117575' '870142218']\n",
      " ['869117575' '870142189']\n",
      " ['869117575' '870142223']\n",
      " ['870352564' '875564408']\n",
      " ['870352564' '875564411']\n",
      " ['870352564' '875564370']\n",
      " ['870352564' '875564388']\n",
      " ['870352564' '875564398']\n",
      " ['870762788' '871196379']\n",
      " ['870762788' '871196365']\n",
      " ['870762788' '871196367']\n",
      " ['870762788' '871196369']\n",
      " ['870762788' '871196371']\n",
      " ['870762788' '871196373']\n",
      " ['870762788' '871196375']\n",
      " ['871526950' '872499144']\n",
      " ['871526950' '872499146']\n",
      " ['871526950' '872499152']\n",
      " ['871526950' '872499154']\n",
      " ['871526950' '872499156']\n",
      " ['871526950' '872499158']\n",
      " ['871526950' '872499160']\n",
      " ['872592724' '873970525']\n",
      " ['872592724' '873970527']\n",
      " ['872592724' '873970529']\n",
      " ['872592724' '873970531']\n",
      " ['872592724' '873970533']\n",
      " ['872592724' '873970535']\n",
      " ['872592724' '873970523']\n",
      " ['873720614' '873963893']\n",
      " ['873720614' '873963895']\n",
      " ['873720614' '873963889']\n",
      " ['873720614' '873963897']\n",
      " ['873720614' '873963903']\n",
      " ['874070091' '875587431']\n",
      " ['874070091' '875587439']\n",
      " ['874070091' '875587417']\n",
      " ['874070091' '875587425']\n",
      " ['874070091' '875587466']\n",
      " ['874070091' '875587447']\n",
      " ['874070091' '875587453']\n",
      " ['874616920' '875587493']\n",
      " ['874616920' '875587495']\n",
      " ['874616920' '875587505']\n",
      " ['874616920' '875587489']\n",
      " ['874616920' '875587497']\n",
      " ['874616920' '875587499']\n",
      " ['875259383' '875808253']\n",
      " ['875259383' '875808238']\n",
      " ['875259383' '875808240']\n",
      " ['875259383' '875808249']\n",
      " ['875259383' '875808251']\n",
      " ['875259383' '875808245']\n",
      " ['876303107' '877057349']\n",
      " ['876303107' '877057341']\n",
      " ['876303107' '877057344']\n",
      " ['876303107' '877057354']\n",
      " ['876303107' '877057357']\n",
      " ['876303107' '877057336']\n",
      " ['876303107' '877057338']\n",
      " ['880498009' '881001210']\n",
      " ['880498009' '881001212']\n",
      " ['880498009' '881001216']\n",
      " ['880498009' '881001218']\n",
      " ['880498009' '881001226']\n",
      " ['886130638' '886587160']\n",
      " ['886130638' '886587162']\n",
      " ['886130638' '886587164']\n",
      " ['886130638' '886587166']\n",
      " ['886130638' '886587172']\n",
      " ['886130638' '886587174']\n",
      " ['886130638' '886587168']\n",
      " ['886130638' '886587170']\n",
      " ['886806800' '887386989']\n",
      " ['886806800' '887386991']\n",
      " ['886806800' '887386974']\n",
      " ['886806800' '887386977']\n",
      " ['886806800' '887386979']\n",
      " ['886806800' '887386981']\n",
      " ['886806800' '887386983']\n",
      " ['886806800' '887386985']\n",
      " ['888009781' '888876943']\n",
      " ['888009781' '888876945']\n",
      " ['888009781' '888876947']\n",
      " ['888009781' '888876949']\n",
      " ['888009781' '888876939']\n",
      " ['888009781' '888876941']\n",
      " ['888009781' '888876951']\n",
      " ['889944877' '891108763']\n",
      " ['889944877' '891108765']\n",
      " ['889944877' '891108773']\n",
      " ['889944877' '891108758']\n",
      " ['889944877' '891108760']\n",
      " ['889944877' '891108767']\n",
      " ['889944877' '891108769']\n",
      " ['902884228' '903485705']\n",
      " ['902884228' '903485716']\n",
      " ['902884228' '903485710']\n",
      " ['902884228' '903485712']\n",
      " ['902884228' '903485718']\n",
      " ['903621170' '904363938']\n",
      " ['903621170' '904363940']\n",
      " ['903621170' '904363921']\n",
      " ['903621170' '904363923']\n",
      " ['903621170' '904363928']\n",
      " ['903621170' '904363932']\n",
      " ['903813946' '904352686']\n",
      " ['903813946' '904352688']\n",
      " ['903813946' '904352698']\n",
      " ['903813946' '904352690']\n",
      " ['903813946' '904352696']\n",
      " ['904418381' '905955236']\n",
      " ['904418381' '905955230']\n",
      " ['925478114' '925843756']\n",
      " ['925478114' '925843758']\n",
      " ['925478114' '925843771']\n",
      " ['925478114' '925843769']\n",
      " ['925478114' '925843761']\n",
      " ['926488384' '927102644']\n",
      " ['926488384' '927102646']\n",
      " ['926488384' '927102632']\n",
      " ['926488384' '927102634']\n",
      " ['926488384' '927102640']\n",
      " ['926488384' '927102642']\n",
      " ['926488384' '927102636']\n",
      " ['927787876' '929653466']\n",
      " ['927787876' '929653468']\n",
      " ['927787876' '929653481']\n",
      " ['928414538' '929604324']\n",
      " ['928414538' '929604327']\n",
      " ['928414538' '929604329']\n",
      " ['928414538' '929604316']\n",
      " ['928414538' '929604318']\n",
      " ['928414538' '929604320']\n",
      " ['929255311' '929655730']\n",
      " ['929255311' '929655732']\n",
      " ['929255311' '929655724']\n",
      " ['929255311' '929655735']\n",
      " ['929255311' '929655720']\n",
      " ['929686773' '930996076']\n",
      " ['929686773' '930996078']\n",
      " ['929686773' '930996080']\n",
      " ['929686773' '930996067']\n",
      " ['929686773' '930996071']\n",
      " ['929686773' '930996073']\n",
      " ['931326814' '932372699']\n",
      " ['931326814' '932372701']\n",
      " ['931326814' '932372703']\n",
      " ['931326814' '932372707']\n",
      " ['931326814' '932372709']\n",
      " ['931326814' '932372711']\n",
      " ['931326814' '932372713']\n",
      " ['931687751' '932381890']\n",
      " ['931687751' '932381896']\n",
      " ['931687751' '932381900']\n",
      " ['931687751' '932381886']\n",
      " ['931687751' '932381888']\n",
      " ['940145217' '940433495']\n",
      " ['940145217' '940433490']\n",
      " ['940775208' '944115820']\n",
      " ['940775208' '944115808']\n",
      " ['941676716' '942596353']\n",
      " ['941676716' '942596355']\n",
      " ['941676716' '942596359']\n",
      " ['941676716' '942596363']\n",
      " ['941676716' '942596349']\n",
      " ['941676716' '942596351']\n",
      " ['944888114' '945586429']\n",
      " ['944888114' '945586431']\n",
      " ['944888114' '945586438']\n",
      " ['944888114' '945586440']\n",
      " ['944888114' '945586425']\n",
      " ['944888114' '945586427']\n",
      " ['944888114' '945586433']\n",
      " ['944888114' '945586435']\n",
      " ['946015345' '946513780']\n",
      " ['946015345' '946513790']\n",
      " ['947199653' '947798779']\n",
      " ['947199653' '947798781']\n",
      " ['947199653' '947798783']\n",
      " ['947199653' '947798785']\n",
      " ['947199653' '947798775']\n",
      " ['947199653' '947798777']\n",
      " ['947199653' '947798771']\n",
      " ['947199653' '947798773']\n",
      " ['948252173' '948704860']\n",
      " ['948252173' '948704862']\n",
      " ['950031363' '951213215']\n",
      " ['950031363' '951213217']\n",
      " ['950031363' '951213211']\n",
      " ['950031363' '951213213']\n",
      " ['950031363' '951213203']\n",
      " ['950031363' '951213205']\n",
      " ['950031363' '951213207']\n",
      " ['950031363' '951213209']\n",
      " ['952430817' '953659749']\n",
      " ['952430817' '953659754']\n",
      " ['952430817' '953659756']\n",
      " ['952430817' '953659745']\n",
      " ['954954402' '958527485']\n",
      " ['954954402' '958527477']\n",
      " ['954954402' '958527479']\n",
      " ['954954402' '958527481']\n",
      " ['954954402' '958527464']\n",
      " ['954954402' '958527471']\n",
      " ['955775716' '956941841']\n",
      " ['955775716' '956941844']\n",
      " ['955775716' '956941851']\n",
      " ['955775716' '956941853']\n",
      " ['955775716' '956941856']\n",
      " ['955775716' '956941858']\n",
      " ['955775716' '956941848']\n",
      " ['958105827' '958741219']\n",
      " ['958105827' '958741222']\n",
      " ['958105827' '958741224']\n",
      " ['958105827' '958741226']\n",
      " ['958105827' '958741228']\n",
      " ['958105827' '958741232']\n",
      " ['958105827' '958741234']\n",
      " ['971922380' '972233187']\n",
      " ['971922380' '972233189']\n",
      " ['971922380' '972233193']\n",
      " ['971922380' '972233195']\n",
      " ['971922380' '972233173']\n",
      " ['971922380' '972233175']\n",
      " ['971922380' '972233181']\n",
      " ['971922380' '972233183']]\n",
      "[IndexError('boolean index did not match indexed array along dimension 1; dimension is 15 but corresponding boolean dimension is 16',), IndexError('boolean index did not match indexed array along dimension 1; dimension is 28 but corresponding boolean dimension is 29',), IndexError('boolean index did not match indexed array along dimension 1; dimension is 40 but corresponding boolean dimension is 41',), IndexError('boolean index did not match indexed array along dimension 1; dimension is 35 but corresponding boolean dimension is 37',), IndexError('boolean index did not match indexed array along dimension 1; dimension is 15 but corresponding boolean dimension is 16',), FileNotFoundError(2, 'No such file or directory'), FileNotFoundError(2, 'No such file or directory'), FileNotFoundError(2, 'No such file or directory'), FileNotFoundError(2, 'No such file or directory'), FileNotFoundError(2, 'No such file or directory'), FileNotFoundError(2, 'No such file or directory'), FileNotFoundError(2, 'No such file or directory'), FileNotFoundError(2, 'No such file or directory'), IndexError('boolean index did not match indexed array along dimension 1; dimension is 22 but corresponding boolean dimension is 28',), IndexError('boolean index did not match indexed array along dimension 1; dimension is 21 but corresponding boolean dimension is 23',), IndexError('boolean index did not match indexed array along dimension 1; dimension is 20 but corresponding boolean dimension is 27',), IndexError('boolean index did not match indexed array along dimension 1; dimension is 30 but corresponding boolean dimension is 49',), IndexError('boolean index did not match indexed array along dimension 1; dimension is 22 but corresponding boolean dimension is 26',), IndexError('boolean index did not match indexed array along dimension 1; dimension is 12 but corresponding boolean dimension is 21',), IndexError('boolean index did not match indexed array along dimension 1; dimension is 20 but corresponding boolean dimension is 21',), IndexError('boolean index did not match indexed array along dimension 1; dimension is 35 but corresponding boolean dimension is 41',), IndexError('boolean index did not match indexed array along dimension 1; dimension is 7 but corresponding boolean dimension is 11',), IndexError('boolean index did not match indexed array along dimension 1; dimension is 44 but corresponding boolean dimension is 47',), IndexError('boolean index did not match indexed array along dimension 1; dimension is 30 but corresponding boolean dimension is 34',), IndexError('boolean index did not match indexed array along dimension 1; dimension is 19 but corresponding boolean dimension is 22',), IndexError('boolean index did not match indexed array along dimension 1; dimension is 20 but corresponding boolean dimension is 22',), IndexError('boolean index did not match indexed array along dimension 1; dimension is 12 but corresponding boolean dimension is 14',), IndexError('boolean index did not match indexed array along dimension 1; dimension is 8 but corresponding boolean dimension is 9',), IndexError('boolean index did not match indexed array along dimension 1; dimension is 12 but corresponding boolean dimension is 14',), IndexError('boolean index did not match indexed array along dimension 1; dimension is 11 but corresponding boolean dimension is 12',), IndexError('boolean index did not match indexed array along dimension 1; dimension is 21 but corresponding boolean dimension is 22',), IndexError('boolean index did not match indexed array along dimension 1; dimension is 12 but corresponding boolean dimension is 19',), IndexError('boolean index did not match indexed array along dimension 1; dimension is 21 but corresponding boolean dimension is 25',), IndexError('boolean index did not match indexed array along dimension 1; dimension is 11 but corresponding boolean dimension is 12',), IndexError('boolean index did not match indexed array along dimension 1; dimension is 10 but corresponding boolean dimension is 11',), IndexError('boolean index did not match indexed array along dimension 1; dimension is 7 but corresponding boolean dimension is 9',), IndexError('boolean index did not match indexed array along dimension 1; dimension is 18 but corresponding boolean dimension is 28',), IndexError('boolean index did not match indexed array along dimension 1; dimension is 16 but corresponding boolean dimension is 17',), IndexError('boolean index did not match indexed array along dimension 1; dimension is 8 but corresponding boolean dimension is 9',), IndexError('boolean index did not match indexed array along dimension 1; dimension is 13 but corresponding boolean dimension is 16',), IndexError('boolean index did not match indexed array along dimension 1; dimension is 9 but corresponding boolean dimension is 10',), IndexError('boolean index did not match indexed array along dimension 1; dimension is 17 but corresponding boolean dimension is 23',), IndexError('boolean index did not match indexed array along dimension 1; dimension is 21 but corresponding boolean dimension is 22',), IndexError('boolean index did not match indexed array along dimension 1; dimension is 24 but corresponding boolean dimension is 26',), IndexError('boolean index did not match indexed array along dimension 1; dimension is 15 but corresponding boolean dimension is 16',), IndexError('boolean index did not match indexed array along dimension 1; dimension is 32 but corresponding boolean dimension is 35',), IndexError('boolean index did not match indexed array along dimension 1; dimension is 14 but corresponding boolean dimension is 15',), IndexError('boolean index did not match indexed array along dimension 1; dimension is 25 but corresponding boolean dimension is 27',), IndexError('boolean index did not match indexed array along dimension 1; dimension is 13 but corresponding boolean dimension is 14',), IndexError('boolean index did not match indexed array along dimension 1; dimension is 17 but corresponding boolean dimension is 18',), IndexError('boolean index did not match indexed array along dimension 1; dimension is 14 but corresponding boolean dimension is 15',), IndexError('boolean index did not match indexed array along dimension 1; dimension is 16 but corresponding boolean dimension is 17',), IndexError('boolean index did not match indexed array along dimension 1; dimension is 7 but corresponding boolean dimension is 9',), IndexError('boolean index did not match indexed array along dimension 1; dimension is 22 but corresponding boolean dimension is 26',), IndexError('boolean index did not match indexed array along dimension 1; dimension is 27 but corresponding boolean dimension is 30',), IndexError('boolean index did not match indexed array along dimension 1; dimension is 26 but corresponding boolean dimension is 29',), IndexError('boolean index did not match indexed array along dimension 1; dimension is 25 but corresponding boolean dimension is 30',), IndexError('boolean index did not match indexed array along dimension 1; dimension is 28 but corresponding boolean dimension is 32',), IndexError('boolean index did not match indexed array along dimension 1; dimension is 14 but corresponding boolean dimension is 20',), IndexError('boolean index did not match indexed array along dimension 1; dimension is 16 but corresponding boolean dimension is 17',), IndexError('boolean index did not match indexed array along dimension 1; dimension is 23 but corresponding boolean dimension is 27',), IndexError('boolean index did not match indexed array along dimension 1; dimension is 18 but corresponding boolean dimension is 22',), IndexError('boolean index did not match indexed array along dimension 1; dimension is 41 but corresponding boolean dimension is 52',), IndexError('boolean index did not match indexed array along dimension 1; dimension is 36 but corresponding boolean dimension is 47',), IndexError('boolean index did not match indexed array along dimension 1; dimension is 33 but corresponding boolean dimension is 38',), IndexError('boolean index did not match indexed array along dimension 1; dimension is 30 but corresponding boolean dimension is 31',), IndexError('boolean index did not match indexed array along dimension 1; dimension is 46 but corresponding boolean dimension is 53',), IndexError('boolean index did not match indexed array along dimension 1; dimension is 23 but corresponding boolean dimension is 27',), IndexError('boolean index did not match indexed array along dimension 1; dimension is 53 but corresponding boolean dimension is 57',), IndexError('boolean index did not match indexed array along dimension 1; dimension is 16 but corresponding boolean dimension is 19',), IndexError('boolean index did not match indexed array along dimension 1; dimension is 30 but corresponding boolean dimension is 35',), IndexError('boolean index did not match indexed array along dimension 1; dimension is 15 but corresponding boolean dimension is 18',), IndexError('boolean index did not match indexed array along dimension 1; dimension is 18 but corresponding boolean dimension is 37',), IndexError('boolean index did not match indexed array along dimension 1; dimension is 22 but corresponding boolean dimension is 25',), IndexError('boolean index did not match indexed array along dimension 1; dimension is 31 but corresponding boolean dimension is 35',), IndexError('boolean index did not match indexed array along dimension 1; dimension is 25 but corresponding boolean dimension is 29',), IndexError('boolean index did not match indexed array along dimension 1; dimension is 27 but corresponding boolean dimension is 28',), IndexError('boolean index did not match indexed array along dimension 1; dimension is 21 but corresponding boolean dimension is 22',), IndexError('boolean index did not match indexed array along dimension 1; dimension is 33 but corresponding boolean dimension is 38',), IndexError('boolean index did not match indexed array along dimension 1; dimension is 17 but corresponding boolean dimension is 26',), IndexError('boolean index did not match indexed array along dimension 1; dimension is 27 but corresponding boolean dimension is 29',), IndexError('boolean index did not match indexed array along dimension 1; dimension is 23 but corresponding boolean dimension is 31',), IndexError('boolean index did not match indexed array along dimension 1; dimension is 9 but corresponding boolean dimension is 12',), IndexError('boolean index did not match indexed array along dimension 1; dimension is 15 but corresponding boolean dimension is 20',), IndexError('boolean index did not match indexed array along dimension 1; dimension is 18 but corresponding boolean dimension is 21',), IndexError('boolean index did not match indexed array along dimension 1; dimension is 39 but corresponding boolean dimension is 44',), IndexError('boolean index did not match indexed array along dimension 1; dimension is 26 but corresponding boolean dimension is 32',), IndexError('boolean index did not match indexed array along dimension 1; dimension is 46 but corresponding boolean dimension is 54',), IndexError('boolean index did not match indexed array along dimension 1; dimension is 13 but corresponding boolean dimension is 15',), IndexError('boolean index did not match indexed array along dimension 1; dimension is 34 but corresponding boolean dimension is 36',), IndexError('boolean index did not match indexed array along dimension 1; dimension is 35 but corresponding boolean dimension is 43',), IndexError('boolean index did not match indexed array along dimension 1; dimension is 21 but corresponding boolean dimension is 22',), IndexError('boolean index did not match indexed array along dimension 1; dimension is 14 but corresponding boolean dimension is 16',), IndexError('boolean index did not match indexed array along dimension 1; dimension is 20 but corresponding boolean dimension is 22',), IndexError('boolean index did not match indexed array along dimension 1; dimension is 13 but corresponding boolean dimension is 15',), IndexError('boolean index did not match indexed array along dimension 1; dimension is 12 but corresponding boolean dimension is 13',), IndexError('boolean index did not match indexed array along dimension 1; dimension is 14 but corresponding boolean dimension is 18',), IndexError('boolean index did not match indexed array along dimension 1; dimension is 78 but corresponding boolean dimension is 88',), IndexError('boolean index did not match indexed array along dimension 1; dimension is 31 but corresponding boolean dimension is 34',), IndexError('boolean index did not match indexed array along dimension 1; dimension is 44 but corresponding boolean dimension is 49',), IndexError('boolean index did not match indexed array along dimension 1; dimension is 55 but corresponding boolean dimension is 57',), IndexError('boolean index did not match indexed array along dimension 1; dimension is 45 but corresponding boolean dimension is 48',), IndexError('boolean index did not match indexed array along dimension 1; dimension is 34 but corresponding boolean dimension is 39',), IndexError('boolean index did not match indexed array along dimension 1; dimension is 22 but corresponding boolean dimension is 26',), IndexError('boolean index did not match indexed array along dimension 1; dimension is 40 but corresponding boolean dimension is 44',), IndexError('boolean index did not match indexed array along dimension 1; dimension is 52 but corresponding boolean dimension is 59',), IndexError('boolean index did not match indexed array along dimension 1; dimension is 21 but corresponding boolean dimension is 25',), IndexError('boolean index did not match indexed array along dimension 1; dimension is 25 but corresponding boolean dimension is 28',), IndexError('boolean index did not match indexed array along dimension 1; dimension is 39 but corresponding boolean dimension is 42',), IndexError('boolean index did not match indexed array along dimension 1; dimension is 11 but corresponding boolean dimension is 14',), IndexError('boolean index did not match indexed array along dimension 1; dimension is 18 but corresponding boolean dimension is 21',), IndexError('boolean index did not match indexed array along dimension 1; dimension is 29 but corresponding boolean dimension is 33',), IndexError('boolean index did not match indexed array along dimension 1; dimension is 36 but corresponding boolean dimension is 38',), IndexError('boolean index did not match indexed array along dimension 1; dimension is 18 but corresponding boolean dimension is 24',), IndexError('boolean index did not match indexed array along dimension 1; dimension is 14 but corresponding boolean dimension is 16',), IndexError('boolean index did not match indexed array along dimension 1; dimension is 36 but corresponding boolean dimension is 45',), IndexError('boolean index did not match indexed array along dimension 1; dimension is 17 but corresponding boolean dimension is 18',), IndexError('boolean index did not match indexed array along dimension 1; dimension is 71 but corresponding boolean dimension is 81',), IndexError('boolean index did not match indexed array along dimension 1; dimension is 15 but corresponding boolean dimension is 16',), IndexError('boolean index did not match indexed array along dimension 1; dimension is 49 but corresponding boolean dimension is 56',), IndexError('boolean index did not match indexed array along dimension 1; dimension is 21 but corresponding boolean dimension is 23',), IndexError('boolean index did not match indexed array along dimension 1; dimension is 29 but corresponding boolean dimension is 34',), IndexError('boolean index did not match indexed array along dimension 1; dimension is 33 but corresponding boolean dimension is 35',), IndexError('boolean index did not match indexed array along dimension 1; dimension is 42 but corresponding boolean dimension is 46',), IndexError('boolean index did not match indexed array along dimension 1; dimension is 17 but corresponding boolean dimension is 20',), IndexError('boolean index did not match indexed array along dimension 1; dimension is 135 but corresponding boolean dimension is 167',), IndexError('boolean index did not match indexed array along dimension 1; dimension is 64 but corresponding boolean dimension is 73',), IndexError('boolean index did not match indexed array along dimension 1; dimension is 28 but corresponding boolean dimension is 31',), IndexError('boolean index did not match indexed array along dimension 1; dimension is 42 but corresponding boolean dimension is 48',), IndexError('boolean index did not match indexed array along dimension 1; dimension is 16 but corresponding boolean dimension is 21',), IndexError('boolean index did not match indexed array along dimension 1; dimension is 53 but corresponding boolean dimension is 63',), IndexError('boolean index did not match indexed array along dimension 1; dimension is 19 but corresponding boolean dimension is 20',), IndexError('boolean index did not match indexed array along dimension 1; dimension is 53 but corresponding boolean dimension is 64',), IndexError('boolean index did not match indexed array along dimension 1; dimension is 24 but corresponding boolean dimension is 25',), IndexError('boolean index did not match indexed array along dimension 1; dimension is 40 but corresponding boolean dimension is 47',), IndexError('boolean index did not match indexed array along dimension 1; dimension is 19 but corresponding boolean dimension is 21',), IndexError('boolean index did not match indexed array along dimension 1; dimension is 76 but corresponding boolean dimension is 87',), IndexError('boolean index did not match indexed array along dimension 1; dimension is 29 but corresponding boolean dimension is 32',), IndexError('boolean index did not match indexed array along dimension 1; dimension is 40 but corresponding boolean dimension is 49',), IndexError('boolean index did not match indexed array along dimension 1; dimension is 14 but corresponding boolean dimension is 16',), IndexError('boolean index did not match indexed array along dimension 1; dimension is 68 but corresponding boolean dimension is 85',), IndexError('boolean index did not match indexed array along dimension 1; dimension is 28 but corresponding boolean dimension is 29',), IndexError('boolean index did not match indexed array along dimension 1; dimension is 41 but corresponding boolean dimension is 49',), IndexError('boolean index did not match indexed array along dimension 1; dimension is 12 but corresponding boolean dimension is 14',), IndexError('boolean index did not match indexed array along dimension 1; dimension is 32 but corresponding boolean dimension is 37',), IndexError('boolean index did not match indexed array along dimension 1; dimension is 19 but corresponding boolean dimension is 20',), IndexError('boolean index did not match indexed array along dimension 1; dimension is 28 but corresponding boolean dimension is 34',), IndexError('boolean index did not match indexed array along dimension 1; dimension is 26 but corresponding boolean dimension is 28',), IndexError('boolean index did not match indexed array along dimension 1; dimension is 42 but corresponding boolean dimension is 51',), IndexError('boolean index did not match indexed array along dimension 1; dimension is 25 but corresponding boolean dimension is 28',), IndexError('boolean index did not match indexed array along dimension 1; dimension is 25 but corresponding boolean dimension is 28',), IndexError('boolean index did not match indexed array along dimension 1; dimension is 143 but corresponding boolean dimension is 157',), IndexError('boolean index did not match indexed array along dimension 1; dimension is 38 but corresponding boolean dimension is 41',), IndexError('boolean index did not match indexed array along dimension 1; dimension is 34 but corresponding boolean dimension is 37',), IndexError('boolean index did not match indexed array along dimension 1; dimension is 44 but corresponding boolean dimension is 51',), IndexError('boolean index did not match indexed array along dimension 1; dimension is 22 but corresponding boolean dimension is 24',), IndexError('boolean index did not match indexed array along dimension 1; dimension is 27 but corresponding boolean dimension is 28',), IndexError('boolean index did not match indexed array along dimension 1; dimension is 239 but corresponding boolean dimension is 276',), IndexError('boolean index did not match indexed array along dimension 1; dimension is 209 but corresponding boolean dimension is 228',), IndexError('boolean index did not match indexed array along dimension 1; dimension is 34 but corresponding boolean dimension is 48',), IndexError('boolean index did not match indexed array along dimension 1; dimension is 123 but corresponding boolean dimension is 138',), IndexError('boolean index did not match indexed array along dimension 1; dimension is 31 but corresponding boolean dimension is 37',), IndexError('boolean index did not match indexed array along dimension 1; dimension is 119 but corresponding boolean dimension is 150',), IndexError('boolean index did not match indexed array along dimension 1; dimension is 44 but corresponding boolean dimension is 57',), IndexError('boolean index did not match indexed array along dimension 1; dimension is 218 but corresponding boolean dimension is 233',), IndexError('boolean index did not match indexed array along dimension 1; dimension is 135 but corresponding boolean dimension is 143',), IndexError('boolean index did not match indexed array along dimension 1; dimension is 157 but corresponding boolean dimension is 176',), IndexError('boolean index did not match indexed array along dimension 1; dimension is 124 but corresponding boolean dimension is 142',), IndexError('boolean index did not match indexed array along dimension 1; dimension is 257 but corresponding boolean dimension is 291',), IndexError('boolean index did not match indexed array along dimension 1; dimension is 368 but corresponding boolean dimension is 406',), IndexError('boolean index did not match indexed array along dimension 1; dimension is 45 but corresponding boolean dimension is 59',), IndexError('boolean index did not match indexed array along dimension 1; dimension is 76 but corresponding boolean dimension is 91',), IndexError('boolean index did not match indexed array along dimension 1; dimension is 211 but corresponding boolean dimension is 220',), IndexError('boolean index did not match indexed array along dimension 1; dimension is 132 but corresponding boolean dimension is 151',), IndexError('boolean index did not match indexed array along dimension 1; dimension is 76 but corresponding boolean dimension is 81',), IndexError('boolean index did not match indexed array along dimension 1; dimension is 16 but corresponding boolean dimension is 18',), IndexError('boolean index did not match indexed array along dimension 1; dimension is 18 but corresponding boolean dimension is 19',), IndexError('boolean index did not match indexed array along dimension 1; dimension is 6 but corresponding boolean dimension is 7',), IndexError('boolean index did not match indexed array along dimension 1; dimension is 23 but corresponding boolean dimension is 27',), IndexError('boolean index did not match indexed array along dimension 1; dimension is 6 but corresponding boolean dimension is 7',), IndexError('boolean index did not match indexed array along dimension 1; dimension is 57 but corresponding boolean dimension is 67',), IndexError('boolean index did not match indexed array along dimension 1; dimension is 56 but corresponding boolean dimension is 62',), IndexError('boolean index did not match indexed array along dimension 1; dimension is 141 but corresponding boolean dimension is 149',), IndexError('boolean index did not match indexed array along dimension 1; dimension is 170 but corresponding boolean dimension is 180',), IndexError('boolean index did not match indexed array along dimension 1; dimension is 167 but corresponding boolean dimension is 197',), IndexError('boolean index did not match indexed array along dimension 1; dimension is 156 but corresponding boolean dimension is 169',), IndexError('boolean index did not match indexed array along dimension 1; dimension is 17 but corresponding boolean dimension is 19',), IndexError('boolean index did not match indexed array along dimension 1; dimension is 28 but corresponding boolean dimension is 29',), IndexError('boolean index did not match indexed array along dimension 1; dimension is 20 but corresponding boolean dimension is 21',), IndexError('boolean index did not match indexed array along dimension 1; dimension is 8 but corresponding boolean dimension is 9',), IndexError('boolean index did not match indexed array along dimension 1; dimension is 134 but corresponding boolean dimension is 154',), IndexError('boolean index did not match indexed array along dimension 1; dimension is 163 but corresponding boolean dimension is 176',), IndexError('boolean index did not match indexed array along dimension 1; dimension is 42 but corresponding boolean dimension is 47',), IndexError('boolean index did not match indexed array along dimension 1; dimension is 127 but corresponding boolean dimension is 134',), IndexError('boolean index did not match indexed array along dimension 1; dimension is 143 but corresponding boolean dimension is 157',), IndexError('boolean index did not match indexed array along dimension 1; dimension is 41 but corresponding boolean dimension is 53',), IndexError('boolean index did not match indexed array along dimension 1; dimension is 18 but corresponding boolean dimension is 20',), IndexError('boolean index did not match indexed array along dimension 1; dimension is 29 but corresponding boolean dimension is 42',), IndexError('boolean index did not match indexed array along dimension 1; dimension is 10 but corresponding boolean dimension is 17',), IndexError('boolean index did not match indexed array along dimension 1; dimension is 14 but corresponding boolean dimension is 20',), IndexError('boolean index did not match indexed array along dimension 1; dimension is 16 but corresponding boolean dimension is 20',), IndexError('boolean index did not match indexed array along dimension 1; dimension is 12 but corresponding boolean dimension is 14',), IndexError('boolean index did not match indexed array along dimension 1; dimension is 15 but corresponding boolean dimension is 20',), IndexError('boolean index did not match indexed array along dimension 1; dimension is 12 but corresponding boolean dimension is 15',), IndexError('boolean index did not match indexed array along dimension 1; dimension is 11 but corresponding boolean dimension is 16',), IndexError('boolean index did not match indexed array along dimension 1; dimension is 13 but corresponding boolean dimension is 16',), IndexError('boolean index did not match indexed array along dimension 1; dimension is 31 but corresponding boolean dimension is 42',), IndexError('boolean index did not match indexed array along dimension 1; dimension is 14 but corresponding boolean dimension is 21',), IndexError('boolean index did not match indexed array along dimension 1; dimension is 63 but corresponding boolean dimension is 69',), IndexError('boolean index did not match indexed array along dimension 1; dimension is 13 but corresponding boolean dimension is 14',), IndexError('boolean index did not match indexed array along dimension 1; dimension is 24 but corresponding boolean dimension is 26',), IndexError('boolean index did not match indexed array along dimension 1; dimension is 29 but corresponding boolean dimension is 36',), IndexError('boolean index did not match indexed array along dimension 1; dimension is 19 but corresponding boolean dimension is 22',), IndexError('boolean index did not match indexed array along dimension 1; dimension is 54 but corresponding boolean dimension is 60',), IndexError('boolean index did not match indexed array along dimension 1; dimension is 35 but corresponding boolean dimension is 51',), IndexError('boolean index did not match indexed array along dimension 1; dimension is 100 but corresponding boolean dimension is 117',), IndexError('boolean index did not match indexed array along dimension 1; dimension is 53 but corresponding boolean dimension is 60',), IndexError('boolean index did not match indexed array along dimension 1; dimension is 116 but corresponding boolean dimension is 130',), IndexError('boolean index did not match indexed array along dimension 1; dimension is 120 but corresponding boolean dimension is 136',), IndexError('boolean index did not match indexed array along dimension 1; dimension is 7 but corresponding boolean dimension is 10',), IndexError('boolean index did not match indexed array along dimension 1; dimension is 8 but corresponding boolean dimension is 9',), IndexError('boolean index did not match indexed array along dimension 1; dimension is 9 but corresponding boolean dimension is 13',), IndexError('boolean index did not match indexed array along dimension 1; dimension is 21 but corresponding boolean dimension is 24',), IndexError('boolean index did not match indexed array along dimension 1; dimension is 54 but corresponding boolean dimension is 60',), IndexError('boolean index did not match indexed array along dimension 1; dimension is 63 but corresponding boolean dimension is 70',), IndexError('boolean index did not match indexed array along dimension 1; dimension is 26 but corresponding boolean dimension is 30',), IndexError('boolean index did not match indexed array along dimension 1; dimension is 29 but corresponding boolean dimension is 35',), IndexError('boolean index did not match indexed array along dimension 1; dimension is 58 but corresponding boolean dimension is 68',), IndexError('boolean index did not match indexed array along dimension 1; dimension is 29 but corresponding boolean dimension is 35',), IndexError('boolean index did not match indexed array along dimension 1; dimension is 50 but corresponding boolean dimension is 51',), IndexError('boolean index did not match indexed array along dimension 1; dimension is 46 but corresponding boolean dimension is 47',), IndexError('boolean index did not match indexed array along dimension 1; dimension is 41 but corresponding boolean dimension is 49',), IndexError('boolean index did not match indexed array along dimension 1; dimension is 38 but corresponding boolean dimension is 39',), IndexError('boolean index did not match indexed array along dimension 1; dimension is 72 but corresponding boolean dimension is 75',), IndexError('boolean index did not match indexed array along dimension 1; dimension is 39 but corresponding boolean dimension is 42',), IndexError('boolean index did not match indexed array along dimension 1; dimension is 75 but corresponding boolean dimension is 81',), IndexError('boolean index did not match indexed array along dimension 1; dimension is 47 but corresponding boolean dimension is 57',), IndexError('boolean index did not match indexed array along dimension 1; dimension is 16 but corresponding boolean dimension is 17',), IndexError('boolean index did not match indexed array along dimension 1; dimension is 16 but corresponding boolean dimension is 17',), IndexError('boolean index did not match indexed array along dimension 1; dimension is 43 but corresponding boolean dimension is 45',), IndexError('boolean index did not match indexed array along dimension 1; dimension is 36 but corresponding boolean dimension is 42',), IndexError('boolean index did not match indexed array along dimension 1; dimension is 50 but corresponding boolean dimension is 56',), IndexError('boolean index did not match indexed array along dimension 1; dimension is 39 but corresponding boolean dimension is 42',), IndexError('boolean index did not match indexed array along dimension 1; dimension is 70 but corresponding boolean dimension is 74',), IndexError('boolean index did not match indexed array along dimension 1; dimension is 75 but corresponding boolean dimension is 83',), IndexError('boolean index did not match indexed array along dimension 1; dimension is 46 but corresponding boolean dimension is 48',), IndexError('boolean index did not match indexed array along dimension 1; dimension is 50 but corresponding boolean dimension is 53',), IndexError('boolean index did not match indexed array along dimension 1; dimension is 19 but corresponding boolean dimension is 20',), IndexError('boolean index did not match indexed array along dimension 1; dimension is 18 but corresponding boolean dimension is 20',), IndexError('boolean index did not match indexed array along dimension 1; dimension is 26 but corresponding boolean dimension is 30',), IndexError('boolean index did not match indexed array along dimension 1; dimension is 19 but corresponding boolean dimension is 20',), IndexError('boolean index did not match indexed array along dimension 1; dimension is 54 but corresponding boolean dimension is 57',), IndexError('boolean index did not match indexed array along dimension 1; dimension is 44 but corresponding boolean dimension is 47',), IndexError('boolean index did not match indexed array along dimension 1; dimension is 52 but corresponding boolean dimension is 54',), IndexError('boolean index did not match indexed array along dimension 1; dimension is 49 but corresponding boolean dimension is 54',), IndexError('boolean index did not match indexed array along dimension 1; dimension is 63 but corresponding boolean dimension is 75',), IndexError('boolean index did not match indexed array along dimension 1; dimension is 40 but corresponding boolean dimension is 41',), IndexError('boolean index did not match indexed array along dimension 1; dimension is 30 but corresponding boolean dimension is 33',), IndexError('boolean index did not match indexed array along dimension 1; dimension is 15 but corresponding boolean dimension is 17',), IndexError('boolean index did not match indexed array along dimension 1; dimension is 20 but corresponding boolean dimension is 21',), IndexError('boolean index did not match indexed array along dimension 1; dimension is 25 but corresponding boolean dimension is 26',), IndexError('boolean index did not match indexed array along dimension 1; dimension is 17 but corresponding boolean dimension is 18',), IndexError('boolean index did not match indexed array along dimension 1; dimension is 19 but corresponding boolean dimension is 24',), IndexError('boolean index did not match indexed array along dimension 1; dimension is 25 but corresponding boolean dimension is 27',), IndexError('boolean index did not match indexed array along dimension 1; dimension is 25 but corresponding boolean dimension is 26',), IndexError('boolean index did not match indexed array along dimension 1; dimension is 20 but corresponding boolean dimension is 27',), IndexError('boolean index did not match indexed array along dimension 1; dimension is 24 but corresponding boolean dimension is 26',), IndexError('boolean index did not match indexed array along dimension 1; dimension is 13 but corresponding boolean dimension is 20',), IndexError('boolean index did not match indexed array along dimension 1; dimension is 28 but corresponding boolean dimension is 30',), IndexError('boolean index did not match indexed array along dimension 1; dimension is 26 but corresponding boolean dimension is 28',), IndexError('boolean index did not match indexed array along dimension 1; dimension is 21 but corresponding boolean dimension is 22',), IndexError('boolean index did not match indexed array along dimension 1; dimension is 17 but corresponding boolean dimension is 19',), IndexError('boolean index did not match indexed array along dimension 1; dimension is 26 but corresponding boolean dimension is 28',), IndexError('boolean index did not match indexed array along dimension 1; dimension is 22 but corresponding boolean dimension is 26',), IndexError('boolean index did not match indexed array along dimension 1; dimension is 20 but corresponding boolean dimension is 29',), IndexError('boolean index did not match indexed array along dimension 1; dimension is 31 but corresponding boolean dimension is 36',), IndexError('boolean index did not match indexed array along dimension 1; dimension is 13 but corresponding boolean dimension is 16',), IndexError('boolean index did not match indexed array along dimension 1; dimension is 24 but corresponding boolean dimension is 25',), IndexError('boolean index did not match indexed array along dimension 1; dimension is 30 but corresponding boolean dimension is 31',), IndexError('boolean index did not match indexed array along dimension 1; dimension is 15 but corresponding boolean dimension is 18',), IndexError('boolean index did not match indexed array along dimension 1; dimension is 15 but corresponding boolean dimension is 16',), IndexError('boolean index did not match indexed array along dimension 1; dimension is 40 but corresponding boolean dimension is 41',), IndexError('boolean index did not match indexed array along dimension 1; dimension is 61 but corresponding boolean dimension is 75',), IndexError('boolean index did not match indexed array along dimension 1; dimension is 164 but corresponding boolean dimension is 174',), IndexError('boolean index did not match indexed array along dimension 1; dimension is 118 but corresponding boolean dimension is 134',), IndexError('boolean index did not match indexed array along dimension 1; dimension is 99 but corresponding boolean dimension is 110',), IndexError('boolean index did not match indexed array along dimension 1; dimension is 125 but corresponding boolean dimension is 156',), IndexError('boolean index did not match indexed array along dimension 1; dimension is 218 but corresponding boolean dimension is 258',), IndexError('boolean index did not match indexed array along dimension 1; dimension is 397 but corresponding boolean dimension is 429',)]\n"
     ]
    }
   ],
   "source": [
    "print(len(errors_sess_exp), len(sessions_ctDone)*8)\n",
    "errors_sess_exp = np.array(errors_sess_exp)\n",
    "print(len(np.unique(errors_sess_exp[:,0])), len(np.unique(errors_sess_exp[:,0]))*8) #, np.unique(errors_sess_exp[:,0]))\n",
    "print(errors_sess_exp)\n",
    "print(errors_log)"
   ]
  },
  {
   "cell_type": "code",
   "execution_count": 212,
   "metadata": {},
   "outputs": [
    {
     "data": {
      "text/plain": [
       "(782107878, '783477307', (51533, 15), (16,), (51533, 15), 14)"
      ]
     },
     "execution_count": 212,
     "metadata": {},
     "output_type": "execute_result"
    }
   ],
   "source": [
    "sessions_ctDone[isct], exp_id, r.shape, rv.shape, tf.shape, sum(rv)"
   ]
  },
  {
   "cell_type": "code",
   "execution_count": 201,
   "metadata": {},
   "outputs": [
    {
     "name": "stdout",
     "output_type": "stream",
     "text": [
      "/allen/programs/braintv/workgroups/nc-ophys/Farzaneh/ICA_crossTalk/session_782107878/ica_traces_783477300_783477307/783477307_valid_ct.json\n",
      "16\n"
     ]
    },
    {
     "data": {
      "text/plain": [
       "{'795014145': True,\n",
       " '795014147': True,\n",
       " '795014149': False,\n",
       " '795014151': True,\n",
       " '795014154': True,\n",
       " '795014156': True,\n",
       " '795014158': True,\n",
       " '795014160': True,\n",
       " '795014162': True,\n",
       " '795014164': True,\n",
       " '795014166': True,\n",
       " '795014168': True,\n",
       " '795014170': True,\n",
       " '795014172': False,\n",
       " '795014174': True,\n",
       " '795014176': True}"
      ]
     },
     "execution_count": 201,
     "metadata": {},
     "output_type": "execute_result"
    }
   ],
   "source": [
    "# ica traces : read the valid_xx.json file to get the list of valid ROIs   \n",
    "print(valid_json_dir)\n",
    "rois = ju.read(valid_json_dir)\n",
    "# # set the roi ids for true ROIs in the json file\n",
    "# ra = np.array(list(rois.keys())) # all ROIs\n",
    "# rv = np.array(list(rois.values()))\n",
    "# roi_ids_ct = ra[rv].astype(int) # only valid ROIs\n",
    "# print(len(ra), len(roi_ids_ct))\n",
    "\n",
    "print(len(rois))\n",
    "rois\n",
    "\n",
    "# print(tnam)\n",
    "# tff = h5py.File(tnam, 'r') # ['data']\n",
    "# tff.keys()\n",
    "# # tff['data']"
   ]
  },
  {
   "cell_type": "code",
   "execution_count": null,
   "metadata": {},
   "outputs": [],
   "source": []
  }
 ],
 "metadata": {
  "kernelspec": {
   "display_name": "Python 3",
   "language": "python",
   "name": "python3"
  },
  "language_info": {
   "codemirror_mode": {
    "name": "ipython",
    "version": 3
   },
   "file_extension": ".py",
   "mimetype": "text/x-python",
   "name": "python",
   "nbconvert_exporter": "python",
   "pygments_lexer": "ipython3",
   "version": "3.6.9"
  }
 },
 "nbformat": 4,
 "nbformat_minor": 2
}
