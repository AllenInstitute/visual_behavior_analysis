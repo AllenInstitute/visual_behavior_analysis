{
 "cells": [
  {
   "cell_type": "code",
   "execution_count": 1,
   "metadata": {},
   "outputs": [],
   "source": [
    "import os\n",
    "import numpy as np\n",
    "import pandas as pd\n",
    "import matplotlib.pyplot as plt\n",
    "\n",
    "import seaborn as sns\n",
    "sns.set_context('notebook', font_scale=1.5, rc={'lines.markeredgewidth': 2})"
   ]
  },
  {
   "cell_type": "code",
   "execution_count": 2,
   "metadata": {},
   "outputs": [],
   "source": [
    "%load_ext autoreload\n",
    "%autoreload 2\n",
    "\n",
    "%matplotlib inline"
   ]
  },
  {
   "cell_type": "code",
   "execution_count": 3,
   "metadata": {},
   "outputs": [],
   "source": [
    "import visual_behavior.data_access.loading as loading"
   ]
  },
  {
   "cell_type": "markdown",
   "metadata": {},
   "source": [
    "### get experiments to analyze"
   ]
  },
  {
   "cell_type": "code",
   "execution_count": 4,
   "metadata": {},
   "outputs": [],
   "source": [
    "experiments_table = loading.get_filtered_ophys_experiment_table() "
   ]
  },
  {
   "cell_type": "code",
   "execution_count": 5,
   "metadata": {},
   "outputs": [
    {
     "name": "stdout",
     "output_type": "stream",
     "text": [
      "322\n"
     ]
    }
   ],
   "source": [
    "# limit to experiments that have behavior model outputs (to predict strategy) and event detection\n",
    "\n",
    "experiments_table = experiments_table[(experiments_table.model_outputs_available==True)&\n",
    "                                      (experiments_table.has_events==True)]\n",
    "print(len(experiments_table))"
   ]
  },
  {
   "cell_type": "code",
   "execution_count": 6,
   "metadata": {},
   "outputs": [
    {
     "data": {
      "text/html": [
       "<div>\n",
       "<style scoped>\n",
       "    .dataframe tbody tr th:only-of-type {\n",
       "        vertical-align: middle;\n",
       "    }\n",
       "\n",
       "    .dataframe tbody tr th {\n",
       "        vertical-align: top;\n",
       "    }\n",
       "\n",
       "    .dataframe thead th {\n",
       "        text-align: right;\n",
       "    }\n",
       "</style>\n",
       "<table border=\"1\" class=\"dataframe\">\n",
       "  <thead>\n",
       "    <tr style=\"text-align: right;\">\n",
       "      <th></th>\n",
       "      <th>ophys_session_id</th>\n",
       "      <th>behavior_session_id</th>\n",
       "      <th>container_id</th>\n",
       "      <th>project_code</th>\n",
       "      <th>container_workflow_state</th>\n",
       "      <th>experiment_workflow_state</th>\n",
       "      <th>session_name</th>\n",
       "      <th>session_type</th>\n",
       "      <th>equipment_name</th>\n",
       "      <th>date_of_acquisition</th>\n",
       "      <th>...</th>\n",
       "      <th>published_at</th>\n",
       "      <th>super_container_id</th>\n",
       "      <th>cre_line</th>\n",
       "      <th>session_tags</th>\n",
       "      <th>failure_tags</th>\n",
       "      <th>exposure_number</th>\n",
       "      <th>model_outputs_available</th>\n",
       "      <th>location</th>\n",
       "      <th>has_events</th>\n",
       "      <th>session_number</th>\n",
       "    </tr>\n",
       "    <tr>\n",
       "      <th>ophys_experiment_id</th>\n",
       "      <th></th>\n",
       "      <th></th>\n",
       "      <th></th>\n",
       "      <th></th>\n",
       "      <th></th>\n",
       "      <th></th>\n",
       "      <th></th>\n",
       "      <th></th>\n",
       "      <th></th>\n",
       "      <th></th>\n",
       "      <th></th>\n",
       "      <th></th>\n",
       "      <th></th>\n",
       "      <th></th>\n",
       "      <th></th>\n",
       "      <th></th>\n",
       "      <th></th>\n",
       "      <th></th>\n",
       "      <th></th>\n",
       "      <th></th>\n",
       "      <th></th>\n",
       "    </tr>\n",
       "  </thead>\n",
       "  <tbody>\n",
       "    <tr>\n",
       "      <td>958527474</td>\n",
       "      <td>954954402</td>\n",
       "      <td>953982960</td>\n",
       "      <td>1018028339</td>\n",
       "      <td>VisualBehaviorMultiscope</td>\n",
       "      <td>completed</td>\n",
       "      <td>passed</td>\n",
       "      <td>20190924_457841_3imagesA</td>\n",
       "      <td>OPHYS_3_images_A</td>\n",
       "      <td>MESO.1</td>\n",
       "      <td>2019-09-24 16:00:00.000000</td>\n",
       "      <td>...</td>\n",
       "      <td>NaN</td>\n",
       "      <td>850862430</td>\n",
       "      <td>Sst-IRES-Cre</td>\n",
       "      <td>NaN</td>\n",
       "      <td>NaN</td>\n",
       "      <td>0</td>\n",
       "      <td>True</td>\n",
       "      <td>Sst_VISp_75</td>\n",
       "      <td>True</td>\n",
       "      <td>3</td>\n",
       "    </tr>\n",
       "    <tr>\n",
       "      <td>958527464</td>\n",
       "      <td>954954402</td>\n",
       "      <td>953982960</td>\n",
       "      <td>1018028342</td>\n",
       "      <td>VisualBehaviorMultiscope</td>\n",
       "      <td>completed</td>\n",
       "      <td>passed</td>\n",
       "      <td>20190924_457841_3imagesA</td>\n",
       "      <td>OPHYS_3_images_A</td>\n",
       "      <td>MESO.1</td>\n",
       "      <td>2019-09-24 16:00:00.000000</td>\n",
       "      <td>...</td>\n",
       "      <td>NaN</td>\n",
       "      <td>850862430</td>\n",
       "      <td>Sst-IRES-Cre</td>\n",
       "      <td>NaN</td>\n",
       "      <td>NaN</td>\n",
       "      <td>0</td>\n",
       "      <td>True</td>\n",
       "      <td>Sst_VISp_150</td>\n",
       "      <td>True</td>\n",
       "      <td>3</td>\n",
       "    </tr>\n",
       "    <tr>\n",
       "      <td>958527471</td>\n",
       "      <td>954954402</td>\n",
       "      <td>953982960</td>\n",
       "      <td>1018028345</td>\n",
       "      <td>VisualBehaviorMultiscope</td>\n",
       "      <td>completed</td>\n",
       "      <td>passed</td>\n",
       "      <td>20190924_457841_3imagesA</td>\n",
       "      <td>OPHYS_3_images_A</td>\n",
       "      <td>MESO.1</td>\n",
       "      <td>2019-09-24 16:00:00.000000</td>\n",
       "      <td>...</td>\n",
       "      <td>NaN</td>\n",
       "      <td>850862430</td>\n",
       "      <td>Sst-IRES-Cre</td>\n",
       "      <td>NaN</td>\n",
       "      <td>NaN</td>\n",
       "      <td>0</td>\n",
       "      <td>True</td>\n",
       "      <td>Sst_VISp_225</td>\n",
       "      <td>True</td>\n",
       "      <td>3</td>\n",
       "    </tr>\n",
       "    <tr>\n",
       "      <td>958527477</td>\n",
       "      <td>954954402</td>\n",
       "      <td>953982960</td>\n",
       "      <td>1018028348</td>\n",
       "      <td>VisualBehaviorMultiscope</td>\n",
       "      <td>completed</td>\n",
       "      <td>passed</td>\n",
       "      <td>20190924_457841_3imagesA</td>\n",
       "      <td>OPHYS_3_images_A</td>\n",
       "      <td>MESO.1</td>\n",
       "      <td>2019-09-24 16:00:00.000000</td>\n",
       "      <td>...</td>\n",
       "      <td>NaN</td>\n",
       "      <td>850862430</td>\n",
       "      <td>Sst-IRES-Cre</td>\n",
       "      <td>NaN</td>\n",
       "      <td>NaN</td>\n",
       "      <td>0</td>\n",
       "      <td>True</td>\n",
       "      <td>Sst_VISp_300</td>\n",
       "      <td>True</td>\n",
       "      <td>3</td>\n",
       "    </tr>\n",
       "    <tr>\n",
       "      <td>958527479</td>\n",
       "      <td>954954402</td>\n",
       "      <td>953982960</td>\n",
       "      <td>1018028354</td>\n",
       "      <td>VisualBehaviorMultiscope</td>\n",
       "      <td>completed</td>\n",
       "      <td>passed</td>\n",
       "      <td>20190924_457841_3imagesA</td>\n",
       "      <td>OPHYS_3_images_A</td>\n",
       "      <td>MESO.1</td>\n",
       "      <td>2019-09-24 16:00:00.000000</td>\n",
       "      <td>...</td>\n",
       "      <td>NaN</td>\n",
       "      <td>850862430</td>\n",
       "      <td>Sst-IRES-Cre</td>\n",
       "      <td>NaN</td>\n",
       "      <td>NaN</td>\n",
       "      <td>0</td>\n",
       "      <td>True</td>\n",
       "      <td>Sst_VISl_150</td>\n",
       "      <td>True</td>\n",
       "      <td>3</td>\n",
       "    </tr>\n",
       "  </tbody>\n",
       "</table>\n",
       "<p>5 rows × 29 columns</p>\n",
       "</div>"
      ],
      "text/plain": [
       "                     ophys_session_id  behavior_session_id  container_id  \\\n",
       "ophys_experiment_id                                                        \n",
       "958527474                   954954402            953982960    1018028339   \n",
       "958527464                   954954402            953982960    1018028342   \n",
       "958527471                   954954402            953982960    1018028345   \n",
       "958527477                   954954402            953982960    1018028348   \n",
       "958527479                   954954402            953982960    1018028354   \n",
       "\n",
       "                                 project_code container_workflow_state  \\\n",
       "ophys_experiment_id                                                      \n",
       "958527474            VisualBehaviorMultiscope                completed   \n",
       "958527464            VisualBehaviorMultiscope                completed   \n",
       "958527471            VisualBehaviorMultiscope                completed   \n",
       "958527477            VisualBehaviorMultiscope                completed   \n",
       "958527479            VisualBehaviorMultiscope                completed   \n",
       "\n",
       "                    experiment_workflow_state              session_name  \\\n",
       "ophys_experiment_id                                                       \n",
       "958527474                              passed  20190924_457841_3imagesA   \n",
       "958527464                              passed  20190924_457841_3imagesA   \n",
       "958527471                              passed  20190924_457841_3imagesA   \n",
       "958527477                              passed  20190924_457841_3imagesA   \n",
       "958527479                              passed  20190924_457841_3imagesA   \n",
       "\n",
       "                         session_type equipment_name  \\\n",
       "ophys_experiment_id                                    \n",
       "958527474            OPHYS_3_images_A         MESO.1   \n",
       "958527464            OPHYS_3_images_A         MESO.1   \n",
       "958527471            OPHYS_3_images_A         MESO.1   \n",
       "958527477            OPHYS_3_images_A         MESO.1   \n",
       "958527479            OPHYS_3_images_A         MESO.1   \n",
       "\n",
       "                            date_of_acquisition  ...  published_at  \\\n",
       "ophys_experiment_id                              ...                 \n",
       "958527474            2019-09-24 16:00:00.000000  ...           NaN   \n",
       "958527464            2019-09-24 16:00:00.000000  ...           NaN   \n",
       "958527471            2019-09-24 16:00:00.000000  ...           NaN   \n",
       "958527477            2019-09-24 16:00:00.000000  ...           NaN   \n",
       "958527479            2019-09-24 16:00:00.000000  ...           NaN   \n",
       "\n",
       "                     super_container_id      cre_line  session_tags  \\\n",
       "ophys_experiment_id                                                   \n",
       "958527474                     850862430  Sst-IRES-Cre           NaN   \n",
       "958527464                     850862430  Sst-IRES-Cre           NaN   \n",
       "958527471                     850862430  Sst-IRES-Cre           NaN   \n",
       "958527477                     850862430  Sst-IRES-Cre           NaN   \n",
       "958527479                     850862430  Sst-IRES-Cre           NaN   \n",
       "\n",
       "                    failure_tags exposure_number model_outputs_available  \\\n",
       "ophys_experiment_id                                                        \n",
       "958527474                    NaN               0                    True   \n",
       "958527464                    NaN               0                    True   \n",
       "958527471                    NaN               0                    True   \n",
       "958527477                    NaN               0                    True   \n",
       "958527479                    NaN               0                    True   \n",
       "\n",
       "                         location has_events  session_number  \n",
       "ophys_experiment_id                                           \n",
       "958527474             Sst_VISp_75       True               3  \n",
       "958527464            Sst_VISp_150       True               3  \n",
       "958527471            Sst_VISp_225       True               3  \n",
       "958527477            Sst_VISp_300       True               3  \n",
       "958527479            Sst_VISl_150       True               3  \n",
       "\n",
       "[5 rows x 29 columns]"
      ]
     },
     "execution_count": 6,
     "metadata": {},
     "output_type": "execute_result"
    }
   ],
   "source": [
    "experiments_table.head()"
   ]
  },
  {
   "cell_type": "code",
   "execution_count": 7,
   "metadata": {},
   "outputs": [],
   "source": [
    "# get some experiment\n",
    "aribtrary_index = 50\n",
    "ophys_experiment_id = experiments_table.index.values[aribtrary_index]"
   ]
  },
  {
   "cell_type": "code",
   "execution_count": 8,
   "metadata": {},
   "outputs": [
    {
     "data": {
      "text/plain": [
       "ophys_session_id                                                     994137503\n",
       "behavior_session_id                                                  994174745\n",
       "container_id                                                         991913064\n",
       "project_code                                              VisualBehaviorTask1B\n",
       "container_workflow_state                                               holding\n",
       "experiment_workflow_state                                               passed\n",
       "session_name                                          20191213_491060_4ImagesA\n",
       "session_type                                                  OPHYS_4_images_A\n",
       "equipment_name                                                         CAM2P.3\n",
       "date_of_acquisition                                 2019-12-13 16:43:20.000000\n",
       "isi_experiment_id                                                    972064221\n",
       "specimen_id                                                          962177507\n",
       "sex                                                                          M\n",
       "age_in_days                                                                120\n",
       "full_genotype                Slc17a7-IRES2-Cre/wt;Camk2a-tTA/wt;Ai93(TITL-G...\n",
       "reporter_line                                           ['Ai93(TITL-GCaMP6f)']\n",
       "driver_line                                ['Camk2a-tTA', 'Slc17a7-IRES2-Cre']\n",
       "imaging_depth                                                              175\n",
       "targeted_structure                                                        VISp\n",
       "published_at                                                               NaN\n",
       "super_container_id                                                   962177507\n",
       "cre_line                                                     Slc17a7-IRES2-Cre\n",
       "session_tags                                                               NaN\n",
       "failure_tags                                                               NaN\n",
       "exposure_number                                                              0\n",
       "model_outputs_available                                                   True\n",
       "location                                                      Slc17a7_VISp_175\n",
       "has_events                                                                True\n",
       "session_number                                                               4\n",
       "Name: 994278291, dtype: object"
      ]
     },
     "execution_count": 8,
     "metadata": {},
     "output_type": "execute_result"
    }
   ],
   "source": [
    "# see what metadata is available\n",
    "experiments_table.iloc[aribtrary_index]"
   ]
  },
  {
   "cell_type": "code",
   "execution_count": null,
   "metadata": {},
   "outputs": [],
   "source": []
  },
  {
   "cell_type": "markdown",
   "metadata": {},
   "source": [
    "### get SDK dataset through VBA loading function"
   ]
  },
  {
   "cell_type": "markdown",
   "metadata": {},
   "source": [
    "The <code>get_ophys_dataset</code> function in <code>data_access.loading</code> returns an AllenSDK session object for a single imaging plane."
   ]
  },
  {
   "cell_type": "code",
   "execution_count": 9,
   "metadata": {
    "scrolled": false
   },
   "outputs": [],
   "source": [
    "# this function gets an SDK session object then does a bunch of reformatting to fix things\n",
    "dataset = loading.get_ophys_dataset(ophys_experiment_id, include_invalid_rois=False)"
   ]
  },
  {
   "cell_type": "code",
   "execution_count": 10,
   "metadata": {},
   "outputs": [
    {
     "data": {
      "text/html": [
       "<div>\n",
       "<style scoped>\n",
       "    .dataframe tbody tr th:only-of-type {\n",
       "        vertical-align: middle;\n",
       "    }\n",
       "\n",
       "    .dataframe tbody tr th {\n",
       "        vertical-align: top;\n",
       "    }\n",
       "\n",
       "    .dataframe thead th {\n",
       "        text-align: right;\n",
       "    }\n",
       "</style>\n",
       "<table border=\"1\" class=\"dataframe\">\n",
       "  <thead>\n",
       "    <tr style=\"text-align: right;\">\n",
       "      <th></th>\n",
       "      <th>cell_roi_id</th>\n",
       "      <th>dff</th>\n",
       "    </tr>\n",
       "    <tr>\n",
       "      <th>cell_specimen_id</th>\n",
       "      <th></th>\n",
       "      <th></th>\n",
       "    </tr>\n",
       "  </thead>\n",
       "  <tbody>\n",
       "    <tr>\n",
       "      <td>993886641</td>\n",
       "      <td>994314818</td>\n",
       "      <td>[0.16197838993683678, 0.16457093528327663, 0.1...</td>\n",
       "    </tr>\n",
       "    <tr>\n",
       "      <td>993887302</td>\n",
       "      <td>994314829</td>\n",
       "      <td>[0.11921226629252767, 0.14018226458426583, 0.0...</td>\n",
       "    </tr>\n",
       "    <tr>\n",
       "      <td>993887408</td>\n",
       "      <td>994314831</td>\n",
       "      <td>[0.09718272253277177, 0.10388580195641796, 0.0...</td>\n",
       "    </tr>\n",
       "    <tr>\n",
       "      <td>993886697</td>\n",
       "      <td>994314832</td>\n",
       "      <td>[0.09681519293945859, 0.13219729385473775, 0.0...</td>\n",
       "    </tr>\n",
       "    <tr>\n",
       "      <td>993887401</td>\n",
       "      <td>994314833</td>\n",
       "      <td>[0.21791118144473498, 0.16569621220840824, 0.0...</td>\n",
       "    </tr>\n",
       "  </tbody>\n",
       "</table>\n",
       "</div>"
      ],
      "text/plain": [
       "                  cell_roi_id  \\\n",
       "cell_specimen_id                \n",
       "993886641           994314818   \n",
       "993887302           994314829   \n",
       "993887408           994314831   \n",
       "993886697           994314832   \n",
       "993887401           994314833   \n",
       "\n",
       "                                                                dff  \n",
       "cell_specimen_id                                                     \n",
       "993886641         [0.16197838993683678, 0.16457093528327663, 0.1...  \n",
       "993887302         [0.11921226629252767, 0.14018226458426583, 0.0...  \n",
       "993887408         [0.09718272253277177, 0.10388580195641796, 0.0...  \n",
       "993886697         [0.09681519293945859, 0.13219729385473775, 0.0...  \n",
       "993887401         [0.21791118144473498, 0.16569621220840824, 0.0...  "
      ]
     },
     "execution_count": 10,
     "metadata": {},
     "output_type": "execute_result"
    }
   ],
   "source": [
    "# get traces \n",
    "dataset.dff_traces.head()"
   ]
  },
  {
   "cell_type": "code",
   "execution_count": 11,
   "metadata": {},
   "outputs": [
    {
     "data": {
      "text/plain": [
       "(237, 140296)"
      ]
     },
     "execution_count": 11,
     "metadata": {},
     "output_type": "execute_result"
    }
   ],
   "source": [
    "# as an array if you prefer\n",
    "dff_array = np.vstack(dataset.dff_traces.dff.values)\n",
    "dff_array.shape"
   ]
  },
  {
   "cell_type": "code",
   "execution_count": 12,
   "metadata": {},
   "outputs": [
    {
     "name": "stdout",
     "output_type": "stream",
     "text": [
      "getting L0 events\n"
     ]
    },
    {
     "data": {
      "text/html": [
       "<div>\n",
       "<style scoped>\n",
       "    .dataframe tbody tr th:only-of-type {\n",
       "        vertical-align: middle;\n",
       "    }\n",
       "\n",
       "    .dataframe tbody tr th {\n",
       "        vertical-align: top;\n",
       "    }\n",
       "\n",
       "    .dataframe thead th {\n",
       "        text-align: right;\n",
       "    }\n",
       "</style>\n",
       "<table border=\"1\" class=\"dataframe\">\n",
       "  <thead>\n",
       "    <tr style=\"text-align: right;\">\n",
       "      <th></th>\n",
       "      <th>events</th>\n",
       "    </tr>\n",
       "    <tr>\n",
       "      <th>cell_specimen_id</th>\n",
       "      <th></th>\n",
       "    </tr>\n",
       "  </thead>\n",
       "  <tbody>\n",
       "    <tr>\n",
       "      <td>993886631</td>\n",
       "      <td>[0.0, 0.0, 0.0, 0.0, 0.0, 0.0, 0.0, 0.0, 0.0, ...</td>\n",
       "    </tr>\n",
       "    <tr>\n",
       "      <td>993886634</td>\n",
       "      <td>[0.0, 0.0, 0.0, 0.0, 0.0, 0.07787400861796406,...</td>\n",
       "    </tr>\n",
       "    <tr>\n",
       "      <td>993886641</td>\n",
       "      <td>[0.0, 0.0, 0.0, 0.0, 0.0, 0.0, 0.0, 0.0, 0.0, ...</td>\n",
       "    </tr>\n",
       "    <tr>\n",
       "      <td>993886651</td>\n",
       "      <td>[0.0, 0.0, 0.0, 0.0, 0.0, 0.0, 0.0, 0.0, 0.0, ...</td>\n",
       "    </tr>\n",
       "    <tr>\n",
       "      <td>993886654</td>\n",
       "      <td>[0.0, 0.0, 0.0, 0.0, 0.0, 0.0, 0.0, 0.0, 0.0, ...</td>\n",
       "    </tr>\n",
       "    <tr>\n",
       "      <td>...</td>\n",
       "      <td>...</td>\n",
       "    </tr>\n",
       "    <tr>\n",
       "      <td>994810850</td>\n",
       "      <td>[0.0, 0.0, 0.0, 0.0, 0.0, 0.0, 0.0, 0.05019031...</td>\n",
       "    </tr>\n",
       "    <tr>\n",
       "      <td>994810853</td>\n",
       "      <td>[0.0, 0.0, 0.0, 0.0, 0.0, 0.0, 0.0, 0.0, 0.0, ...</td>\n",
       "    </tr>\n",
       "    <tr>\n",
       "      <td>994810859</td>\n",
       "      <td>[0.0, 0.0, 0.0, 0.0, 0.0, 0.0, 0.0, 0.0, 0.0, ...</td>\n",
       "    </tr>\n",
       "    <tr>\n",
       "      <td>994810869</td>\n",
       "      <td>[0.0, 0.0, 0.0, 0.0, 0.0, 0.0, 0.0, 0.0, 0.0, ...</td>\n",
       "    </tr>\n",
       "    <tr>\n",
       "      <td>994810872</td>\n",
       "      <td>[0.0, 0.0, 0.0, 0.0, 0.0, 0.0, 0.0, 0.0, 0.0, ...</td>\n",
       "    </tr>\n",
       "  </tbody>\n",
       "</table>\n",
       "<p>237 rows × 1 columns</p>\n",
       "</div>"
      ],
      "text/plain": [
       "                                                             events\n",
       "cell_specimen_id                                                   \n",
       "993886631         [0.0, 0.0, 0.0, 0.0, 0.0, 0.0, 0.0, 0.0, 0.0, ...\n",
       "993886634         [0.0, 0.0, 0.0, 0.0, 0.0, 0.07787400861796406,...\n",
       "993886641         [0.0, 0.0, 0.0, 0.0, 0.0, 0.0, 0.0, 0.0, 0.0, ...\n",
       "993886651         [0.0, 0.0, 0.0, 0.0, 0.0, 0.0, 0.0, 0.0, 0.0, ...\n",
       "993886654         [0.0, 0.0, 0.0, 0.0, 0.0, 0.0, 0.0, 0.0, 0.0, ...\n",
       "...                                                             ...\n",
       "994810850         [0.0, 0.0, 0.0, 0.0, 0.0, 0.0, 0.0, 0.05019031...\n",
       "994810853         [0.0, 0.0, 0.0, 0.0, 0.0, 0.0, 0.0, 0.0, 0.0, ...\n",
       "994810859         [0.0, 0.0, 0.0, 0.0, 0.0, 0.0, 0.0, 0.0, 0.0, ...\n",
       "994810869         [0.0, 0.0, 0.0, 0.0, 0.0, 0.0, 0.0, 0.0, 0.0, ...\n",
       "994810872         [0.0, 0.0, 0.0, 0.0, 0.0, 0.0, 0.0, 0.0, 0.0, ...\n",
       "\n",
       "[237 rows x 1 columns]"
      ]
     },
     "execution_count": 12,
     "metadata": {},
     "output_type": "execute_result"
    }
   ],
   "source": [
    "# get events \n",
    "dataset.events"
   ]
  },
  {
   "cell_type": "code",
   "execution_count": 13,
   "metadata": {},
   "outputs": [
    {
     "data": {
      "text/plain": [
       "(237, 140296)"
      ]
     },
     "execution_count": 13,
     "metadata": {},
     "output_type": "execute_result"
    }
   ],
   "source": [
    "# as an array\n",
    "dataset.events_array.shape"
   ]
  },
  {
   "cell_type": "code",
   "execution_count": 14,
   "metadata": {},
   "outputs": [
    {
     "name": "stderr",
     "output_type": "stream",
     "text": [
      "C:\\Users\\marinag\\Documents\\Code\\AllenSDK\\allensdk\\brain_observatory\\sync_dataset.py:109: UserWarning: The loaded sync file contains the following deprecated line label keys: {'cam1_exposure', 'cam2_exposure'}. Consider updating the sync file line labels.\n",
      "  self._check_line_labels()\n",
      "C:\\Users\\marinag\\Documents\\Code\\AllenSDK\\allensdk\\brain_observatory\\sync_dataset.py:109: UserWarning: The loaded sync file contains the following deprecated line label keys: {'cam1_exposure', 'cam2_exposure'}. Consider updating the sync file line labels.\n",
      "  self._check_line_labels()\n",
      "WARNING:root:Could not find valid lines for the following data sources\n",
      "WARNING:root:acquiring (valid line label(s) = ['2p_acquiring']\n"
     ]
    },
    {
     "data": {
      "text/plain": [
       "array([2.22034000e+00, 2.25265000e+00, 2.28495000e+00, ...,\n",
       "       4.53540673e+03, 4.53543904e+03, 4.53547136e+03])"
      ]
     },
     "execution_count": 14,
     "metadata": {},
     "output_type": "execute_result"
    }
   ],
   "source": [
    "# ophys timestamps\n",
    "dataset.ophys_timestamps"
   ]
  },
  {
   "cell_type": "code",
   "execution_count": 15,
   "metadata": {},
   "outputs": [
    {
     "data": {
      "text/html": [
       "<div>\n",
       "<style scoped>\n",
       "    .dataframe tbody tr th:only-of-type {\n",
       "        vertical-align: middle;\n",
       "    }\n",
       "\n",
       "    .dataframe tbody tr th {\n",
       "        vertical-align: top;\n",
       "    }\n",
       "\n",
       "    .dataframe thead th {\n",
       "        text-align: right;\n",
       "    }\n",
       "</style>\n",
       "<table border=\"1\" class=\"dataframe\">\n",
       "  <thead>\n",
       "    <tr style=\"text-align: right;\">\n",
       "      <th></th>\n",
       "      <th>duration</th>\n",
       "      <th>end_frame</th>\n",
       "      <th>image_index</th>\n",
       "      <th>image_name</th>\n",
       "      <th>omitted</th>\n",
       "      <th>start_frame</th>\n",
       "      <th>start_time</th>\n",
       "      <th>stop_time</th>\n",
       "      <th>change</th>\n",
       "      <th>epoch</th>\n",
       "    </tr>\n",
       "    <tr>\n",
       "      <th>stimulus_presentations_id</th>\n",
       "      <th></th>\n",
       "      <th></th>\n",
       "      <th></th>\n",
       "      <th></th>\n",
       "      <th></th>\n",
       "      <th></th>\n",
       "      <th></th>\n",
       "      <th></th>\n",
       "      <th></th>\n",
       "      <th></th>\n",
       "    </tr>\n",
       "  </thead>\n",
       "  <tbody>\n",
       "    <tr>\n",
       "      <td>0</td>\n",
       "      <td>0.25019</td>\n",
       "      <td>18002.0</td>\n",
       "      <td>0</td>\n",
       "      <td>im065</td>\n",
       "      <td>False</td>\n",
       "      <td>17987</td>\n",
       "      <td>307.444499</td>\n",
       "      <td>307.694689</td>\n",
       "      <td>False</td>\n",
       "      <td>0</td>\n",
       "    </tr>\n",
       "    <tr>\n",
       "      <td>1</td>\n",
       "      <td>0.25023</td>\n",
       "      <td>18047.0</td>\n",
       "      <td>0</td>\n",
       "      <td>im065</td>\n",
       "      <td>False</td>\n",
       "      <td>18032</td>\n",
       "      <td>308.195369</td>\n",
       "      <td>308.445599</td>\n",
       "      <td>False</td>\n",
       "      <td>0</td>\n",
       "    </tr>\n",
       "    <tr>\n",
       "      <td>2</td>\n",
       "      <td>0.25021</td>\n",
       "      <td>18092.0</td>\n",
       "      <td>0</td>\n",
       "      <td>im065</td>\n",
       "      <td>False</td>\n",
       "      <td>18077</td>\n",
       "      <td>308.945719</td>\n",
       "      <td>309.195929</td>\n",
       "      <td>False</td>\n",
       "      <td>0</td>\n",
       "    </tr>\n",
       "    <tr>\n",
       "      <td>3</td>\n",
       "      <td>0.25020</td>\n",
       "      <td>18137.0</td>\n",
       "      <td>0</td>\n",
       "      <td>im065</td>\n",
       "      <td>False</td>\n",
       "      <td>18122</td>\n",
       "      <td>309.696339</td>\n",
       "      <td>309.946539</td>\n",
       "      <td>False</td>\n",
       "      <td>0</td>\n",
       "    </tr>\n",
       "    <tr>\n",
       "      <td>4</td>\n",
       "      <td>0.25018</td>\n",
       "      <td>18182.0</td>\n",
       "      <td>0</td>\n",
       "      <td>im065</td>\n",
       "      <td>False</td>\n",
       "      <td>18167</td>\n",
       "      <td>310.446949</td>\n",
       "      <td>310.697129</td>\n",
       "      <td>False</td>\n",
       "      <td>0</td>\n",
       "    </tr>\n",
       "  </tbody>\n",
       "</table>\n",
       "</div>"
      ],
      "text/plain": [
       "                           duration  end_frame  image_index image_name  \\\n",
       "stimulus_presentations_id                                                \n",
       "0                           0.25019    18002.0            0      im065   \n",
       "1                           0.25023    18047.0            0      im065   \n",
       "2                           0.25021    18092.0            0      im065   \n",
       "3                           0.25020    18137.0            0      im065   \n",
       "4                           0.25018    18182.0            0      im065   \n",
       "\n",
       "                           omitted  start_frame  start_time   stop_time  \\\n",
       "stimulus_presentations_id                                                 \n",
       "0                            False        17987  307.444499  307.694689   \n",
       "1                            False        18032  308.195369  308.445599   \n",
       "2                            False        18077  308.945719  309.195929   \n",
       "3                            False        18122  309.696339  309.946539   \n",
       "4                            False        18167  310.446949  310.697129   \n",
       "\n",
       "                           change  epoch  \n",
       "stimulus_presentations_id                 \n",
       "0                           False      0  \n",
       "1                           False      0  \n",
       "2                           False      0  \n",
       "3                           False      0  \n",
       "4                           False      0  "
      ]
     },
     "execution_count": 15,
     "metadata": {},
     "output_type": "execute_result"
    }
   ],
   "source": [
    "# basic stimulus information\n",
    "dataset.stimulus_presentations.head(5)"
   ]
  },
  {
   "cell_type": "code",
   "execution_count": 16,
   "metadata": {},
   "outputs": [
    {
     "data": {
      "text/plain": [
       "Index(['duration', 'end_frame', 'image_index', 'image_name', 'omitted',\n",
       "       'start_frame', 'start_time', 'stop_time', 'change', 'epoch'],\n",
       "      dtype='object')"
      ]
     },
     "execution_count": 16,
     "metadata": {},
     "output_type": "execute_result"
    }
   ],
   "source": [
    "dataset.stimulus_presentations.keys()"
   ]
  },
  {
   "cell_type": "code",
   "execution_count": 17,
   "metadata": {},
   "outputs": [
    {
     "data": {
      "text/html": [
       "<div>\n",
       "<style scoped>\n",
       "    .dataframe tbody tr th:only-of-type {\n",
       "        vertical-align: middle;\n",
       "    }\n",
       "\n",
       "    .dataframe tbody tr th {\n",
       "        vertical-align: top;\n",
       "    }\n",
       "\n",
       "    .dataframe thead th {\n",
       "        text-align: right;\n",
       "    }\n",
       "</style>\n",
       "<table border=\"1\" class=\"dataframe\">\n",
       "  <thead>\n",
       "    <tr style=\"text-align: right;\">\n",
       "      <th></th>\n",
       "      <th>duration</th>\n",
       "      <th>end_frame</th>\n",
       "      <th>image_index</th>\n",
       "      <th>image_name</th>\n",
       "      <th>omitted</th>\n",
       "      <th>start_frame</th>\n",
       "      <th>start_time</th>\n",
       "      <th>stop_time</th>\n",
       "      <th>change</th>\n",
       "      <th>epoch</th>\n",
       "      <th>...</th>\n",
       "      <th>in_bout</th>\n",
       "      <th>bias</th>\n",
       "      <th>omissions1</th>\n",
       "      <th>task0</th>\n",
       "      <th>timing1D</th>\n",
       "      <th>engagement_state</th>\n",
       "      <th>lick_on_next_flash</th>\n",
       "      <th>lick_rate_next_flash</th>\n",
       "      <th>lick_on_previous_flash</th>\n",
       "      <th>lick_rate_previous_flash</th>\n",
       "    </tr>\n",
       "    <tr>\n",
       "      <th>stimulus_presentations_id</th>\n",
       "      <th></th>\n",
       "      <th></th>\n",
       "      <th></th>\n",
       "      <th></th>\n",
       "      <th></th>\n",
       "      <th></th>\n",
       "      <th></th>\n",
       "      <th></th>\n",
       "      <th></th>\n",
       "      <th></th>\n",
       "      <th></th>\n",
       "      <th></th>\n",
       "      <th></th>\n",
       "      <th></th>\n",
       "      <th></th>\n",
       "      <th></th>\n",
       "      <th></th>\n",
       "      <th></th>\n",
       "      <th></th>\n",
       "      <th></th>\n",
       "      <th></th>\n",
       "    </tr>\n",
       "  </thead>\n",
       "  <tbody>\n",
       "    <tr>\n",
       "      <td>0</td>\n",
       "      <td>0.25019</td>\n",
       "      <td>18002.0</td>\n",
       "      <td>0</td>\n",
       "      <td>im065</td>\n",
       "      <td>False</td>\n",
       "      <td>17987</td>\n",
       "      <td>307.444499</td>\n",
       "      <td>307.694689</td>\n",
       "      <td>False</td>\n",
       "      <td>0</td>\n",
       "      <td>...</td>\n",
       "      <td>0</td>\n",
       "      <td>-2.661675</td>\n",
       "      <td>1.854301</td>\n",
       "      <td>3.305929</td>\n",
       "      <td>0.542491</td>\n",
       "      <td>engaged</td>\n",
       "      <td>0.0</td>\n",
       "      <td>1.000000</td>\n",
       "      <td>NaN</td>\n",
       "      <td>NaN</td>\n",
       "    </tr>\n",
       "    <tr>\n",
       "      <td>1</td>\n",
       "      <td>0.25023</td>\n",
       "      <td>18047.0</td>\n",
       "      <td>0</td>\n",
       "      <td>im065</td>\n",
       "      <td>False</td>\n",
       "      <td>18032</td>\n",
       "      <td>308.195369</td>\n",
       "      <td>308.445599</td>\n",
       "      <td>False</td>\n",
       "      <td>0</td>\n",
       "      <td>...</td>\n",
       "      <td>0</td>\n",
       "      <td>-2.661942</td>\n",
       "      <td>1.854346</td>\n",
       "      <td>3.305940</td>\n",
       "      <td>0.542808</td>\n",
       "      <td>engaged</td>\n",
       "      <td>0.0</td>\n",
       "      <td>0.740741</td>\n",
       "      <td>1.0</td>\n",
       "      <td>1.333333</td>\n",
       "    </tr>\n",
       "    <tr>\n",
       "      <td>2</td>\n",
       "      <td>0.25021</td>\n",
       "      <td>18092.0</td>\n",
       "      <td>0</td>\n",
       "      <td>im065</td>\n",
       "      <td>False</td>\n",
       "      <td>18077</td>\n",
       "      <td>308.945719</td>\n",
       "      <td>309.195929</td>\n",
       "      <td>False</td>\n",
       "      <td>0</td>\n",
       "      <td>...</td>\n",
       "      <td>0</td>\n",
       "      <td>-2.662199</td>\n",
       "      <td>1.854390</td>\n",
       "      <td>3.305950</td>\n",
       "      <td>0.543114</td>\n",
       "      <td>engaged</td>\n",
       "      <td>0.0</td>\n",
       "      <td>0.583333</td>\n",
       "      <td>0.0</td>\n",
       "      <td>1.000000</td>\n",
       "    </tr>\n",
       "    <tr>\n",
       "      <td>3</td>\n",
       "      <td>0.25020</td>\n",
       "      <td>18137.0</td>\n",
       "      <td>0</td>\n",
       "      <td>im065</td>\n",
       "      <td>False</td>\n",
       "      <td>18122</td>\n",
       "      <td>309.696339</td>\n",
       "      <td>309.946539</td>\n",
       "      <td>False</td>\n",
       "      <td>0</td>\n",
       "      <td>...</td>\n",
       "      <td>0</td>\n",
       "      <td>-2.662449</td>\n",
       "      <td>1.854433</td>\n",
       "      <td>3.305960</td>\n",
       "      <td>0.543411</td>\n",
       "      <td>engaged</td>\n",
       "      <td>0.0</td>\n",
       "      <td>0.480000</td>\n",
       "      <td>0.0</td>\n",
       "      <td>0.740741</td>\n",
       "    </tr>\n",
       "    <tr>\n",
       "      <td>4</td>\n",
       "      <td>0.25018</td>\n",
       "      <td>18182.0</td>\n",
       "      <td>0</td>\n",
       "      <td>im065</td>\n",
       "      <td>False</td>\n",
       "      <td>18167</td>\n",
       "      <td>310.446949</td>\n",
       "      <td>310.697129</td>\n",
       "      <td>False</td>\n",
       "      <td>0</td>\n",
       "      <td>...</td>\n",
       "      <td>0</td>\n",
       "      <td>-2.662689</td>\n",
       "      <td>1.854474</td>\n",
       "      <td>3.305970</td>\n",
       "      <td>0.543698</td>\n",
       "      <td>engaged</td>\n",
       "      <td>0.0</td>\n",
       "      <td>0.407407</td>\n",
       "      <td>0.0</td>\n",
       "      <td>0.583333</td>\n",
       "    </tr>\n",
       "  </tbody>\n",
       "</table>\n",
       "<p>5 rows × 41 columns</p>\n",
       "</div>"
      ],
      "text/plain": [
       "                           duration  end_frame  image_index image_name  \\\n",
       "stimulus_presentations_id                                                \n",
       "0                           0.25019    18002.0            0      im065   \n",
       "1                           0.25023    18047.0            0      im065   \n",
       "2                           0.25021    18092.0            0      im065   \n",
       "3                           0.25020    18137.0            0      im065   \n",
       "4                           0.25018    18182.0            0      im065   \n",
       "\n",
       "                           omitted  start_frame  start_time   stop_time  \\\n",
       "stimulus_presentations_id                                                 \n",
       "0                            False        17987  307.444499  307.694689   \n",
       "1                            False        18032  308.195369  308.445599   \n",
       "2                            False        18077  308.945719  309.195929   \n",
       "3                            False        18122  309.696339  309.946539   \n",
       "4                            False        18167  310.446949  310.697129   \n",
       "\n",
       "                           change  epoch  ...  in_bout      bias omissions1  \\\n",
       "stimulus_presentations_id                 ...                                 \n",
       "0                           False      0  ...        0 -2.661675   1.854301   \n",
       "1                           False      0  ...        0 -2.661942   1.854346   \n",
       "2                           False      0  ...        0 -2.662199   1.854390   \n",
       "3                           False      0  ...        0 -2.662449   1.854433   \n",
       "4                           False      0  ...        0 -2.662689   1.854474   \n",
       "\n",
       "                              task0  timing1D  engagement_state  \\\n",
       "stimulus_presentations_id                                         \n",
       "0                          3.305929  0.542491           engaged   \n",
       "1                          3.305940  0.542808           engaged   \n",
       "2                          3.305950  0.543114           engaged   \n",
       "3                          3.305960  0.543411           engaged   \n",
       "4                          3.305970  0.543698           engaged   \n",
       "\n",
       "                           lick_on_next_flash  lick_rate_next_flash  \\\n",
       "stimulus_presentations_id                                             \n",
       "0                                         0.0              1.000000   \n",
       "1                                         0.0              0.740741   \n",
       "2                                         0.0              0.583333   \n",
       "3                                         0.0              0.480000   \n",
       "4                                         0.0              0.407407   \n",
       "\n",
       "                           lick_on_previous_flash  lick_rate_previous_flash  \n",
       "stimulus_presentations_id                                                    \n",
       "0                                             NaN                       NaN  \n",
       "1                                             1.0                  1.333333  \n",
       "2                                             0.0                  1.000000  \n",
       "3                                             0.0                  0.740741  \n",
       "4                                             0.0                  0.583333  \n",
       "\n",
       "[5 rows x 41 columns]"
      ]
     },
     "execution_count": 17,
     "metadata": {},
     "output_type": "execute_result"
    }
   ],
   "source": [
    "# stimulus information with many extra columns including behavior model outputs (slower to load)\n",
    "# This is what you want to use - see next step below\n",
    "dataset.extended_stimulus_presentations.head(5)"
   ]
  },
  {
   "cell_type": "code",
   "execution_count": 18,
   "metadata": {},
   "outputs": [
    {
     "data": {
      "text/plain": [
       "Index(['duration', 'end_frame', 'image_index', 'image_name', 'omitted',\n",
       "       'start_frame', 'start_time', 'stop_time', 'change', 'epoch',\n",
       "       'mean_running_speed', 'licks', 'rewards', 'time_from_last_lick',\n",
       "       'time_from_last_reward', 'time_from_last_change',\n",
       "       'time_from_last_omission', 'flash_after_omitted', 'flash_after_change',\n",
       "       'licked', 'lick_rate', 'rewarded', 'reward_rate', 'running_rate',\n",
       "       'bout_rate', 'hit_bout', 'hit_fraction', 'high_lick', 'high_reward',\n",
       "       'flash_metrics_epochs', 'flash_metrics_labels', 'in_bout', 'bias',\n",
       "       'omissions1', 'task0', 'timing1D', 'engagement_state',\n",
       "       'lick_on_next_flash', 'lick_rate_next_flash', 'lick_on_previous_flash',\n",
       "       'lick_rate_previous_flash'],\n",
       "      dtype='object')"
      ]
     },
     "execution_count": 18,
     "metadata": {},
     "output_type": "execute_result"
    }
   ],
   "source": [
    "dataset.extended_stimulus_presentations.keys()"
   ]
  },
  {
   "cell_type": "markdown",
   "metadata": {},
   "source": [
    "### ResponseAnalysis class provides access to time aligned cell responses "
   ]
  },
  {
   "cell_type": "code",
   "execution_count": 19,
   "metadata": {},
   "outputs": [],
   "source": [
    "from visual_behavior.ophys.response_analysis.response_analysis import ResponseAnalysis"
   ]
  },
  {
   "cell_type": "code",
   "execution_count": 20,
   "metadata": {},
   "outputs": [],
   "source": [
    "analysis = ResponseAnalysis(dataset, \n",
    "                            use_events=True, \n",
    "                            use_extended_stimulus_presentations=True) # this gives you the model weight columns"
   ]
  },
  {
   "cell_type": "markdown",
   "metadata": {},
   "source": [
    "### Get cell traces for all stimulus presentations "
   ]
  },
  {
   "cell_type": "code",
   "execution_count": 21,
   "metadata": {},
   "outputs": [
    {
     "name": "stdout",
     "output_type": "stream",
     "text": [
      "getting L0 events\n"
     ]
    },
    {
     "name": "stderr",
     "output_type": "stream",
     "text": [
      "C:\\Users\\marinag\\AppData\\Roaming\\Python\\Python37\\site-packages\\pandas\\core\\indexing.py:494: SettingWithCopyWarning: \n",
      "A value is trying to be set on a copy of a slice from a DataFrame.\n",
      "Try using .loc[row_indexer,col_indexer] = value instead\n",
      "\n",
      "See the caveats in the documentation: http://pandas.pydata.org/pandas-docs/stable/user_guide/indexing.html#returning-a-view-versus-a-copy\n",
      "  self.obj[item] = s\n"
     ]
    }
   ],
   "source": [
    "# this creates a dataframe with the response of every cell for every stimulus presentation\n",
    "# cell response is a snippet of the trace in a [-.5, 0.75] second window around stim onset\n",
    "\n",
    "stim_response_df = analysis.get_response_df(df_name='stimulus_response_df')\n",
    "\n",
    "# if you set use_events and use_extended_stimulus_presentations to True when initializing the class above, \n",
    "# that is what will be used to create this dataframe\n",
    "# i.e. the 'trace' column will be either dF/F or event magnitude \n",
    "# and you will either have extra columns for behavior model output or not"
   ]
  },
  {
   "cell_type": "code",
   "execution_count": 22,
   "metadata": {
    "scrolled": true
   },
   "outputs": [
    {
     "data": {
      "text/html": [
       "<div>\n",
       "<style scoped>\n",
       "    .dataframe tbody tr th:only-of-type {\n",
       "        vertical-align: middle;\n",
       "    }\n",
       "\n",
       "    .dataframe tbody tr th {\n",
       "        vertical-align: top;\n",
       "    }\n",
       "\n",
       "    .dataframe thead th {\n",
       "        text-align: right;\n",
       "    }\n",
       "</style>\n",
       "<table border=\"1\" class=\"dataframe\">\n",
       "  <thead>\n",
       "    <tr style=\"text-align: right;\">\n",
       "      <th></th>\n",
       "      <th>stimulus_presentations_id</th>\n",
       "      <th>cell_specimen_id</th>\n",
       "      <th>trace</th>\n",
       "      <th>trace_timestamps</th>\n",
       "      <th>mean_response</th>\n",
       "      <th>baseline_response</th>\n",
       "      <th>p_value_gray_screen</th>\n",
       "      <th>p_value_omission</th>\n",
       "      <th>p_value_stimulus</th>\n",
       "      <th>duration</th>\n",
       "      <th>...</th>\n",
       "      <th>in_bout</th>\n",
       "      <th>bias</th>\n",
       "      <th>omissions1</th>\n",
       "      <th>task0</th>\n",
       "      <th>timing1D</th>\n",
       "      <th>engagement_state</th>\n",
       "      <th>lick_on_next_flash</th>\n",
       "      <th>lick_rate_next_flash</th>\n",
       "      <th>lick_on_previous_flash</th>\n",
       "      <th>lick_rate_previous_flash</th>\n",
       "    </tr>\n",
       "  </thead>\n",
       "  <tbody>\n",
       "    <tr>\n",
       "      <td>0</td>\n",
       "      <td>0</td>\n",
       "      <td>993886641</td>\n",
       "      <td>[0.0, 0.0, 0.0, 0.0, 0.0, 0.0, 0.0, 0.0, 0.0, ...</td>\n",
       "      <td>[-0.48468416764674427, -0.452371889803628, -0....</td>\n",
       "      <td>0.003297</td>\n",
       "      <td>0.000000</td>\n",
       "      <td>0.0058</td>\n",
       "      <td>0.0000</td>\n",
       "      <td>0.0791</td>\n",
       "      <td>0.25019</td>\n",
       "      <td>...</td>\n",
       "      <td>0</td>\n",
       "      <td>-2.661675</td>\n",
       "      <td>1.854301</td>\n",
       "      <td>3.305929</td>\n",
       "      <td>0.542491</td>\n",
       "      <td>engaged</td>\n",
       "      <td>0.0</td>\n",
       "      <td>1.0</td>\n",
       "      <td>NaN</td>\n",
       "      <td>NaN</td>\n",
       "    </tr>\n",
       "    <tr>\n",
       "      <td>1</td>\n",
       "      <td>0</td>\n",
       "      <td>993887302</td>\n",
       "      <td>[0.0, 0.0, 0.0, 0.0, 0.0, 0.0, 0.0, 0.0, 0.0, ...</td>\n",
       "      <td>[-0.48468416764674427, -0.452371889803628, -0....</td>\n",
       "      <td>0.003472</td>\n",
       "      <td>0.000000</td>\n",
       "      <td>0.0265</td>\n",
       "      <td>0.0042</td>\n",
       "      <td>0.0867</td>\n",
       "      <td>0.25019</td>\n",
       "      <td>...</td>\n",
       "      <td>0</td>\n",
       "      <td>-2.661675</td>\n",
       "      <td>1.854301</td>\n",
       "      <td>3.305929</td>\n",
       "      <td>0.542491</td>\n",
       "      <td>engaged</td>\n",
       "      <td>0.0</td>\n",
       "      <td>1.0</td>\n",
       "      <td>NaN</td>\n",
       "      <td>NaN</td>\n",
       "    </tr>\n",
       "    <tr>\n",
       "      <td>2</td>\n",
       "      <td>0</td>\n",
       "      <td>993887408</td>\n",
       "      <td>[0.0, 0.0, 0.0, 0.0, 0.0, 0.0, 0.0, 0.0, 0.0, ...</td>\n",
       "      <td>[-0.48468416764674427, -0.452371889803628, -0....</td>\n",
       "      <td>0.000820</td>\n",
       "      <td>0.003630</td>\n",
       "      <td>0.0457</td>\n",
       "      <td>0.0230</td>\n",
       "      <td>0.0922</td>\n",
       "      <td>0.25019</td>\n",
       "      <td>...</td>\n",
       "      <td>0</td>\n",
       "      <td>-2.661675</td>\n",
       "      <td>1.854301</td>\n",
       "      <td>3.305929</td>\n",
       "      <td>0.542491</td>\n",
       "      <td>engaged</td>\n",
       "      <td>0.0</td>\n",
       "      <td>1.0</td>\n",
       "      <td>NaN</td>\n",
       "      <td>NaN</td>\n",
       "    </tr>\n",
       "    <tr>\n",
       "      <td>3</td>\n",
       "      <td>0</td>\n",
       "      <td>993886697</td>\n",
       "      <td>[0.0, 0.0, 0.0, 0.0, 0.0, 0.0, 0.0, 0.0, 0.0, ...</td>\n",
       "      <td>[-0.48468416764674427, -0.452371889803628, -0....</td>\n",
       "      <td>0.002341</td>\n",
       "      <td>0.004393</td>\n",
       "      <td>0.0415</td>\n",
       "      <td>0.0000</td>\n",
       "      <td>0.0749</td>\n",
       "      <td>0.25019</td>\n",
       "      <td>...</td>\n",
       "      <td>0</td>\n",
       "      <td>-2.661675</td>\n",
       "      <td>1.854301</td>\n",
       "      <td>3.305929</td>\n",
       "      <td>0.542491</td>\n",
       "      <td>engaged</td>\n",
       "      <td>0.0</td>\n",
       "      <td>1.0</td>\n",
       "      <td>NaN</td>\n",
       "      <td>NaN</td>\n",
       "    </tr>\n",
       "    <tr>\n",
       "      <td>4</td>\n",
       "      <td>0</td>\n",
       "      <td>993887401</td>\n",
       "      <td>[0.0, 0.0, 0.0, 0.0, 0.0, 0.0, 0.0, 0.0, 0.0, ...</td>\n",
       "      <td>[-0.48468416764674427, -0.452371889803628, -0....</td>\n",
       "      <td>0.003977</td>\n",
       "      <td>0.000000</td>\n",
       "      <td>0.0096</td>\n",
       "      <td>0.0000</td>\n",
       "      <td>0.0275</td>\n",
       "      <td>0.25019</td>\n",
       "      <td>...</td>\n",
       "      <td>0</td>\n",
       "      <td>-2.661675</td>\n",
       "      <td>1.854301</td>\n",
       "      <td>3.305929</td>\n",
       "      <td>0.542491</td>\n",
       "      <td>engaged</td>\n",
       "      <td>0.0</td>\n",
       "      <td>1.0</td>\n",
       "      <td>NaN</td>\n",
       "      <td>NaN</td>\n",
       "    </tr>\n",
       "  </tbody>\n",
       "</table>\n",
       "<p>5 rows × 50 columns</p>\n",
       "</div>"
      ],
      "text/plain": [
       "   stimulus_presentations_id  cell_specimen_id  \\\n",
       "0                          0         993886641   \n",
       "1                          0         993887302   \n",
       "2                          0         993887408   \n",
       "3                          0         993886697   \n",
       "4                          0         993887401   \n",
       "\n",
       "                                               trace  \\\n",
       "0  [0.0, 0.0, 0.0, 0.0, 0.0, 0.0, 0.0, 0.0, 0.0, ...   \n",
       "1  [0.0, 0.0, 0.0, 0.0, 0.0, 0.0, 0.0, 0.0, 0.0, ...   \n",
       "2  [0.0, 0.0, 0.0, 0.0, 0.0, 0.0, 0.0, 0.0, 0.0, ...   \n",
       "3  [0.0, 0.0, 0.0, 0.0, 0.0, 0.0, 0.0, 0.0, 0.0, ...   \n",
       "4  [0.0, 0.0, 0.0, 0.0, 0.0, 0.0, 0.0, 0.0, 0.0, ...   \n",
       "\n",
       "                                    trace_timestamps  mean_response  \\\n",
       "0  [-0.48468416764674427, -0.452371889803628, -0....       0.003297   \n",
       "1  [-0.48468416764674427, -0.452371889803628, -0....       0.003472   \n",
       "2  [-0.48468416764674427, -0.452371889803628, -0....       0.000820   \n",
       "3  [-0.48468416764674427, -0.452371889803628, -0....       0.002341   \n",
       "4  [-0.48468416764674427, -0.452371889803628, -0....       0.003977   \n",
       "\n",
       "   baseline_response  p_value_gray_screen  p_value_omission  p_value_stimulus  \\\n",
       "0           0.000000               0.0058            0.0000            0.0791   \n",
       "1           0.000000               0.0265            0.0042            0.0867   \n",
       "2           0.003630               0.0457            0.0230            0.0922   \n",
       "3           0.004393               0.0415            0.0000            0.0749   \n",
       "4           0.000000               0.0096            0.0000            0.0275   \n",
       "\n",
       "   duration  ...  in_bout      bias omissions1     task0  timing1D  \\\n",
       "0   0.25019  ...        0 -2.661675   1.854301  3.305929  0.542491   \n",
       "1   0.25019  ...        0 -2.661675   1.854301  3.305929  0.542491   \n",
       "2   0.25019  ...        0 -2.661675   1.854301  3.305929  0.542491   \n",
       "3   0.25019  ...        0 -2.661675   1.854301  3.305929  0.542491   \n",
       "4   0.25019  ...        0 -2.661675   1.854301  3.305929  0.542491   \n",
       "\n",
       "   engagement_state  lick_on_next_flash  lick_rate_next_flash  \\\n",
       "0           engaged                 0.0                   1.0   \n",
       "1           engaged                 0.0                   1.0   \n",
       "2           engaged                 0.0                   1.0   \n",
       "3           engaged                 0.0                   1.0   \n",
       "4           engaged                 0.0                   1.0   \n",
       "\n",
       "   lick_on_previous_flash  lick_rate_previous_flash  \n",
       "0                     NaN                       NaN  \n",
       "1                     NaN                       NaN  \n",
       "2                     NaN                       NaN  \n",
       "3                     NaN                       NaN  \n",
       "4                     NaN                       NaN  \n",
       "\n",
       "[5 rows x 50 columns]"
      ]
     },
     "execution_count": 22,
     "metadata": {},
     "output_type": "execute_result"
    }
   ],
   "source": [
    "stim_response_df.head()"
   ]
  },
  {
   "cell_type": "code",
   "execution_count": 23,
   "metadata": {},
   "outputs": [
    {
     "data": {
      "text/plain": [
       "Index(['stimulus_presentations_id', 'cell_specimen_id', 'trace',\n",
       "       'trace_timestamps', 'mean_response', 'baseline_response',\n",
       "       'p_value_gray_screen', 'p_value_omission', 'p_value_stimulus',\n",
       "       'duration', 'end_frame', 'image_index', 'image_name', 'omitted',\n",
       "       'start_frame', 'start_time', 'stop_time', 'change', 'epoch',\n",
       "       'mean_running_speed', 'licks', 'rewards', 'time_from_last_lick',\n",
       "       'time_from_last_reward', 'time_from_last_change',\n",
       "       'time_from_last_omission', 'flash_after_omitted', 'flash_after_change',\n",
       "       'licked', 'lick_rate', 'rewarded', 'reward_rate', 'running_rate',\n",
       "       'bout_rate', 'hit_bout', 'hit_fraction', 'high_lick', 'high_reward',\n",
       "       'flash_metrics_epochs', 'flash_metrics_labels', 'in_bout', 'bias',\n",
       "       'omissions1', 'task0', 'timing1D', 'engagement_state',\n",
       "       'lick_on_next_flash', 'lick_rate_next_flash', 'lick_on_previous_flash',\n",
       "       'lick_rate_previous_flash'],\n",
       "      dtype='object')"
      ]
     },
     "execution_count": 23,
     "metadata": {},
     "output_type": "execute_result"
    }
   ],
   "source": [
    "stim_response_df.keys() "
   ]
  },
  {
   "cell_type": "markdown",
   "metadata": {},
   "source": [
    "### what stuff to predict? "
   ]
  },
  {
   "cell_type": "markdown",
   "metadata": {},
   "source": [
    "#### continuous variables - model weights"
   ]
  },
  {
   "cell_type": "code",
   "execution_count": 24,
   "metadata": {},
   "outputs": [],
   "source": [
    "ep = dataset.extended_stimulus_presentations.copy()"
   ]
  },
  {
   "cell_type": "code",
   "execution_count": 25,
   "metadata": {},
   "outputs": [
    {
     "data": {
      "text/plain": [
       "Text(0.5, 1.0, 'task weight over the session')"
      ]
     },
     "execution_count": 25,
     "metadata": {},
     "output_type": "execute_result"
    },
    {
     "data": {
      "image/png": "[encoded data removed]",
      "text/plain": [
       "<Figure size 432x288 with 1 Axes>"
      ]
     },
     "metadata": {
      "needs_background": "light"
     },
     "output_type": "display_data"
    }
   ],
   "source": [
    "# task weight\n",
    "plt.plot(ep.task0.values)\n",
    "plt.xlabel('stimulus_presentation_id')\n",
    "plt.ylabel('weight')\n",
    "plt.title('task weight over the session')"
   ]
  },
  {
   "cell_type": "code",
   "execution_count": 26,
   "metadata": {},
   "outputs": [
    {
     "data": {
      "text/plain": [
       "Text(0.5, 1.0, 'timing weight over the session')"
      ]
     },
     "execution_count": 26,
     "metadata": {},
     "output_type": "execute_result"
    },
    {
     "data": {
      "image/png": "[encoded data removed]",
      "text/plain": [
       "<Figure size 432x288 with 1 Axes>"
      ]
     },
     "metadata": {
      "needs_background": "light"
     },
     "output_type": "display_data"
    }
   ],
   "source": [
    "# timing weight\n",
    "plt.plot(ep.timing1D.values)\n",
    "plt.xlabel('stimulus_presentation_id')\n",
    "plt.ylabel('weight')\n",
    "plt.title('timing weight over the session')"
   ]
  },
  {
   "cell_type": "markdown",
   "metadata": {},
   "source": [
    "#### population vector & timing weight for some trial"
   ]
  },
  {
   "cell_type": "code",
   "execution_count": 27,
   "metadata": {
    "scrolled": true
   },
   "outputs": [
    {
     "data": {
      "text/html": [
       "<div>\n",
       "<style scoped>\n",
       "    .dataframe tbody tr th:only-of-type {\n",
       "        vertical-align: middle;\n",
       "    }\n",
       "\n",
       "    .dataframe tbody tr th {\n",
       "        vertical-align: top;\n",
       "    }\n",
       "\n",
       "    .dataframe thead th {\n",
       "        text-align: right;\n",
       "    }\n",
       "</style>\n",
       "<table border=\"1\" class=\"dataframe\">\n",
       "  <thead>\n",
       "    <tr style=\"text-align: right;\">\n",
       "      <th></th>\n",
       "      <th>stimulus_presentations_id</th>\n",
       "      <th>cell_specimen_id</th>\n",
       "      <th>trace</th>\n",
       "      <th>trace_timestamps</th>\n",
       "      <th>mean_response</th>\n",
       "      <th>baseline_response</th>\n",
       "      <th>p_value_gray_screen</th>\n",
       "      <th>p_value_omission</th>\n",
       "      <th>p_value_stimulus</th>\n",
       "      <th>duration</th>\n",
       "      <th>...</th>\n",
       "      <th>in_bout</th>\n",
       "      <th>bias</th>\n",
       "      <th>omissions1</th>\n",
       "      <th>task0</th>\n",
       "      <th>timing1D</th>\n",
       "      <th>engagement_state</th>\n",
       "      <th>lick_on_next_flash</th>\n",
       "      <th>lick_rate_next_flash</th>\n",
       "      <th>lick_on_previous_flash</th>\n",
       "      <th>lick_rate_previous_flash</th>\n",
       "    </tr>\n",
       "  </thead>\n",
       "  <tbody>\n",
       "    <tr>\n",
       "      <td>1185</td>\n",
       "      <td>5</td>\n",
       "      <td>993886641</td>\n",
       "      <td>[0.0, 0.0, 0.0, 0.0, 0.0, 0.0, 0.0, 0.0, 0.0, ...</td>\n",
       "      <td>[-0.48468416764674427, -0.452371889803628, -0....</td>\n",
       "      <td>0.000000</td>\n",
       "      <td>0.0</td>\n",
       "      <td>1.0000</td>\n",
       "      <td>1.0</td>\n",
       "      <td>1.0000</td>\n",
       "      <td>0.25019</td>\n",
       "      <td>...</td>\n",
       "      <td>0</td>\n",
       "      <td>-2.662918</td>\n",
       "      <td>1.854514</td>\n",
       "      <td>3.305979</td>\n",
       "      <td>0.543981</td>\n",
       "      <td>engaged</td>\n",
       "      <td>0.0</td>\n",
       "      <td>0.353741</td>\n",
       "      <td>0.0</td>\n",
       "      <td>0.48</td>\n",
       "    </tr>\n",
       "    <tr>\n",
       "      <td>1186</td>\n",
       "      <td>5</td>\n",
       "      <td>993887302</td>\n",
       "      <td>[0.0, 0.0, 0.0, 0.0, 0.0, 0.0, 0.0, 0.0, 0.0, ...</td>\n",
       "      <td>[-0.48468416764674427, -0.452371889803628, -0....</td>\n",
       "      <td>0.005035</td>\n",
       "      <td>0.0</td>\n",
       "      <td>0.0016</td>\n",
       "      <td>0.0</td>\n",
       "      <td>0.0298</td>\n",
       "      <td>0.25019</td>\n",
       "      <td>...</td>\n",
       "      <td>0</td>\n",
       "      <td>-2.662918</td>\n",
       "      <td>1.854514</td>\n",
       "      <td>3.305979</td>\n",
       "      <td>0.543981</td>\n",
       "      <td>engaged</td>\n",
       "      <td>0.0</td>\n",
       "      <td>0.353741</td>\n",
       "      <td>0.0</td>\n",
       "      <td>0.48</td>\n",
       "    </tr>\n",
       "  </tbody>\n",
       "</table>\n",
       "<p>2 rows × 50 columns</p>\n",
       "</div>"
      ],
      "text/plain": [
       "      stimulus_presentations_id  cell_specimen_id  \\\n",
       "1185                          5         993886641   \n",
       "1186                          5         993887302   \n",
       "\n",
       "                                                  trace  \\\n",
       "1185  [0.0, 0.0, 0.0, 0.0, 0.0, 0.0, 0.0, 0.0, 0.0, ...   \n",
       "1186  [0.0, 0.0, 0.0, 0.0, 0.0, 0.0, 0.0, 0.0, 0.0, ...   \n",
       "\n",
       "                                       trace_timestamps  mean_response  \\\n",
       "1185  [-0.48468416764674427, -0.452371889803628, -0....       0.000000   \n",
       "1186  [-0.48468416764674427, -0.452371889803628, -0....       0.005035   \n",
       "\n",
       "      baseline_response  p_value_gray_screen  p_value_omission  \\\n",
       "1185                0.0               1.0000               1.0   \n",
       "1186                0.0               0.0016               0.0   \n",
       "\n",
       "      p_value_stimulus  duration  ...  in_bout      bias omissions1     task0  \\\n",
       "1185            1.0000   0.25019  ...        0 -2.662918   1.854514  3.305979   \n",
       "1186            0.0298   0.25019  ...        0 -2.662918   1.854514  3.305979   \n",
       "\n",
       "      timing1D  engagement_state  lick_on_next_flash  lick_rate_next_flash  \\\n",
       "1185  0.543981           engaged                 0.0              0.353741   \n",
       "1186  0.543981           engaged                 0.0              0.353741   \n",
       "\n",
       "      lick_on_previous_flash  lick_rate_previous_flash  \n",
       "1185                     0.0                      0.48  \n",
       "1186                     0.0                      0.48  \n",
       "\n",
       "[2 rows x 50 columns]"
      ]
     },
     "execution_count": 27,
     "metadata": {},
     "output_type": "execute_result"
    }
   ],
   "source": [
    "trial_data = stim_response_df[stim_response_df.stimulus_presentations_id==5]\n",
    "trial_data.head(2)"
   ]
  },
  {
   "cell_type": "code",
   "execution_count": 28,
   "metadata": {},
   "outputs": [
    {
     "data": {
      "text/plain": [
       "Text(0, 0.5, 'mean event magnitude')"
      ]
     },
     "execution_count": 28,
     "metadata": {},
     "output_type": "execute_result"
    },
    {
     "data": {
      "image/png": "[encoded data removed]",
      "text/plain": [
       "<Figure size 432x288 with 1 Axes>"
      ]
     },
     "metadata": {
      "needs_background": "light"
     },
     "output_type": "display_data"
    }
   ],
   "source": [
    "population_responses = trial_data.mean_response.values\n",
    "plt.plot(population_responses)\n",
    "plt.xlabel('cell')\n",
    "plt.ylabel('mean event magnitude')"
   ]
  },
  {
   "cell_type": "code",
   "execution_count": 29,
   "metadata": {},
   "outputs": [
    {
     "data": {
      "text/plain": [
       "0.5439808034819147"
      ]
     },
     "execution_count": 29,
     "metadata": {},
     "output_type": "execute_result"
    }
   ],
   "source": [
    "# all values for this stimulus_presentation should be the same, so just take the first one\n",
    "model_weight = trial_data.timing1D.values[0]\n",
    "model_weight"
   ]
  },
  {
   "cell_type": "markdown",
   "metadata": {},
   "source": [
    "#### hit fraction - a measure of 'engagement' - the fraction of flashes that are hit trials with licks "
   ]
  },
  {
   "cell_type": "code",
   "execution_count": 30,
   "metadata": {},
   "outputs": [],
   "source": [
    "# at least i believe thats the definition, need to check with Alex to be sure"
   ]
  },
  {
   "cell_type": "code",
   "execution_count": 31,
   "metadata": {},
   "outputs": [
    {
     "data": {
      "text/plain": [
       "Text(0, 0.5, 'hit_fraction')"
      ]
     },
     "execution_count": 31,
     "metadata": {},
     "output_type": "execute_result"
    },
    {
     "data": {
      "image/png": "[encoded data removed]",
      "text/plain": [
       "<Figure size 432x288 with 1 Axes>"
      ]
     },
     "metadata": {
      "needs_background": "light"
     },
     "output_type": "display_data"
    }
   ],
   "source": [
    "plt.plot(ep.hit_fraction.values)\n",
    "plt.xlabel('stimulus_presentation_id')\n",
    "plt.ylabel('hit_fraction')"
   ]
  },
  {
   "cell_type": "code",
   "execution_count": 32,
   "metadata": {},
   "outputs": [
    {
     "data": {
      "text/plain": [
       "0.0"
      ]
     },
     "execution_count": 32,
     "metadata": {},
     "output_type": "execute_result"
    }
   ],
   "source": [
    "# for the selected trial\n",
    "trial_data.hit_fraction.values[0]"
   ]
  },
  {
   "cell_type": "markdown",
   "metadata": {},
   "source": [
    "#### could also use lick rate or reward rate\n"
   ]
  },
  {
   "cell_type": "code",
   "execution_count": 33,
   "metadata": {},
   "outputs": [
    {
     "data": {
      "text/plain": [
       "<matplotlib.legend.Legend at 0x12c74ac7898>"
      ]
     },
     "execution_count": 33,
     "metadata": {},
     "output_type": "execute_result"
    },
    {
     "data": {
      "image/png": "[encoded data removed]",
      "text/plain": [
       "<Figure size 432x288 with 1 Axes>"
      ]
     },
     "metadata": {
      "needs_background": "light"
     },
     "output_type": "display_data"
    }
   ],
   "source": [
    "plt.plot(ep.lick_rate.values)\n",
    "plt.xlabel('stimulus_presentation_id')\n",
    "plt.ylabel('rate')\n",
    "\n",
    "plt.plot(ep.reward_rate.values)\n",
    "plt.xlabel('stimulus_presentation_id')\n",
    "\n",
    "plt.legend(['lick_rate', 'reward_rate'])"
   ]
  },
  {
   "cell_type": "markdown",
   "metadata": {},
   "source": [
    "#### categorical version of engagement "
   ]
  },
  {
   "cell_type": "code",
   "execution_count": 34,
   "metadata": {},
   "outputs": [
    {
     "data": {
      "text/plain": [
       "stimulus_presentations_id\n",
       "0       high-lick,low-reward\n",
       "1       high-lick,low-reward\n",
       "2       high-lick,low-reward\n",
       "3       high-lick,low-reward\n",
       "4       high-lick,low-reward\n",
       "                ...         \n",
       "4793     low-lick,low-reward\n",
       "4794     low-lick,low-reward\n",
       "4795     low-lick,low-reward\n",
       "4796     low-lick,low-reward\n",
       "4797     low-lick,low-reward\n",
       "Name: flash_metrics_labels, Length: 4798, dtype: object"
      ]
     },
     "execution_count": 34,
     "metadata": {},
     "output_type": "execute_result"
    }
   ],
   "source": [
    "# get session level measure of task vs timing strategy\n",
    "ep.flash_metrics_labels"
   ]
  },
  {
   "cell_type": "markdown",
   "metadata": {},
   "source": [
    "### session level metrics"
   ]
  },
  {
   "cell_type": "code",
   "execution_count": 35,
   "metadata": {},
   "outputs": [
    {
     "name": "stderr",
     "output_type": "stream",
     "text": [
      "C:\\Users\\marinag\\AppData\\Roaming\\Python\\Python37\\site-packages\\pandas\\core\\frame.py:7123: FutureWarning: Sorting because non-concatenation axis is not aligned. A future version\n",
      "of pandas will change to not sort by default.\n",
      "\n",
      "To accept the future behavior, pass 'sort=False'.\n",
      "\n",
      "To retain the current behavior and silence the warning, pass 'sort=True'.\n",
      "\n",
      "  sort=sort,\n"
     ]
    }
   ],
   "source": [
    "# get session level metrics for model output\n",
    "model_summary = loading.get_behavior_model_summary_table()"
   ]
  },
  {
   "cell_type": "code",
   "execution_count": 36,
   "metadata": {},
   "outputs": [
    {
     "data": {
      "text/plain": [
       "Index(['active', 'age_in_days', 'avg_weight_bias', 'avg_weight_bias_1st',\n",
       "       'avg_weight_bias_2nd', 'avg_weight_omissions1',\n",
       "       'avg_weight_omissions1_1st', 'avg_weight_omissions1_2nd',\n",
       "       'avg_weight_task0', 'avg_weight_task0_1st', 'avg_weight_task0_2nd',\n",
       "       'avg_weight_timing1D', 'avg_weight_timing1D_1st',\n",
       "       'avg_weight_timing1D_2nd', 'behavior_session_id', 'container_id',\n",
       "       'container_in_order', 'cre_line', 'date_of_acquisition', 'donor_id',\n",
       "       'driver_line', 'equipment_name', 'full_container', 'full_genotype',\n",
       "       'good', 'image_set', 'imaging_depth', 'lick_fraction',\n",
       "       'lick_fraction_1st', 'lick_fraction_2nd', 'lick_hit_fraction',\n",
       "       'lick_hit_fraction_1st', 'lick_hit_fraction_2nd', 'meso', 'num_aborts',\n",
       "       'num_cr', 'num_fa', 'num_hits', 'num_miss', 'ophys_experiment_id',\n",
       "       'ophys_session_id', 'prior_bias', 'prior_omissions1', 'prior_task0',\n",
       "       'prior_timing1D', 'project_code', 'reporter_line', 'session_roc',\n",
       "       'session_type', 'sex', 'specimen_id', 'stage', 'task_dropout_index',\n",
       "       'task_only_dropout_index', 'task_session', 'task_weight_index',\n",
       "       'task_weight_index_1st', 'task_weight_index_2nd',\n",
       "       'timing_only_dropout_index', 'trained_A', 'trained_B',\n",
       "       'trial_hit_fraction', 'trial_hit_fraction_1st',\n",
       "       'trial_hit_fraction_2nd'],\n",
       "      dtype='object')"
      ]
     },
     "execution_count": 36,
     "metadata": {},
     "output_type": "execute_result"
    }
   ],
   "source": [
    "# get it for this session\n",
    "# need to go from experiment_id (single plane) to session_id (behavior for all planes in a session)\n",
    "ophys_session_id = experiments_table.loc[ophys_experiment_id].ophys_session_id\n",
    "session_metrics = model_summary[model_summary.ophys_session_id==ophys_session_id]\n",
    "session_metrics.keys()"
   ]
  },
  {
   "cell_type": "code",
   "execution_count": 37,
   "metadata": {},
   "outputs": [
    {
     "data": {
      "text/plain": [
       "16    20.966378\n",
       "Name: task_dropout_index, dtype: float64"
      ]
     },
     "execution_count": 37,
     "metadata": {},
     "output_type": "execute_result"
    }
   ],
   "source": [
    "# get session level measure of task vs timing strategy\n",
    "session_metrics.task_dropout_index"
   ]
  },
  {
   "cell_type": "code",
   "execution_count": null,
   "metadata": {},
   "outputs": [],
   "source": []
  },
  {
   "cell_type": "code",
   "execution_count": null,
   "metadata": {},
   "outputs": [],
   "source": []
  },
  {
   "cell_type": "code",
   "execution_count": null,
   "metadata": {},
   "outputs": [],
   "source": []
  }
 ],
 "metadata": {
  "kernelspec": {
   "display_name": "visual_behavior_sdk",
   "language": "python",
   "name": "visual_behavior_sdk"
  },
  "language_info": {
   "codemirror_mode": {
    "name": "ipython",
    "version": 3
   },
   "file_extension": ".py",
   "mimetype": "text/x-python",
   "name": "python",
   "nbconvert_exporter": "python",
   "pygments_lexer": "ipython3",
   "version": "3.7.3"
  }
 },
 "nbformat": 4,
 "nbformat_minor": 2
}
