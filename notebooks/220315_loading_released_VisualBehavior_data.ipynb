{
 "cells": [
  {
   "cell_type": "code",
   "execution_count": 1,
   "metadata": {},
   "outputs": [],
   "source": [
    "import os\n",
    "import numpy as np\n",
    "import pandas as pd\n",
    "import matplotlib.pyplot as plt\n",
    "\n",
    "import seaborn as sns\n",
    "sns.set_context('notebook', font_scale=1.5, rc={'lines.markeredgewidth': 2})"
   ]
  },
  {
   "cell_type": "code",
   "execution_count": 2,
   "metadata": {},
   "outputs": [],
   "source": [
    "%load_ext autoreload\n",
    "%autoreload 2\n",
    "\n",
    "%matplotlib inline"
   ]
  },
  {
   "cell_type": "markdown",
   "metadata": {},
   "source": [
    "Using master branch of `visual_behavior_analysis`:\n",
    "    \n",
    "    https://github.com/AllenInstitute/visual_behavior_analysis"
   ]
  },
  {
   "cell_type": "code",
   "execution_count": 3,
   "metadata": {},
   "outputs": [],
   "source": [
    "import visual_behavior.data_access.loading as loading"
   ]
  },
  {
   "cell_type": "markdown",
   "metadata": {},
   "source": [
    "### get data cache using `from_s3_cache` method"
   ]
  },
  {
   "cell_type": "markdown",
   "metadata": {},
   "source": [
    "Use cache directory on the network containing NWB files saved from AWS "
   ]
  },
  {
   "cell_type": "code",
   "execution_count": 4,
   "metadata": {},
   "outputs": [
    {
     "name": "stdout",
     "output_type": "stream",
     "text": [
      "//allen/programs/braintv/workgroups/nc-ophys/visual_behavior/platform_paper_cache\n"
     ]
    }
   ],
   "source": [
    "cache_dir = loading.get_platform_analysis_cache_dir()\n",
    "print(cache_dir)"
   ]
  },
  {
   "cell_type": "code",
   "execution_count": 5,
   "metadata": {},
   "outputs": [],
   "source": [
    "from allensdk.brain_observatory.behavior.behavior_project_cache import VisualBehaviorOphysProjectCache\n",
    "\n",
    "cache = VisualBehaviorOphysProjectCache.from_s3_cache(cache_dir=cache_dir)"
   ]
  },
  {
   "cell_type": "markdown",
   "metadata": {},
   "source": [
    "### get experiments table for learning mFISH pilot experiments"
   ]
  },
  {
   "cell_type": "markdown",
   "metadata": {},
   "source": [
    "`ophys_experiment_table` contains a record of each unique 2P field of view recorded in each session. \n",
    "One `ophys_session_id` can have 8 imaging planes, corresonding to 8 `ophys_experiment_ids`. \n",
    "A given imaging plane that is recorded across multiple sessions is linked by its `ophys_container_id`. "
   ]
  },
  {
   "cell_type": "code",
   "execution_count": 6,
   "metadata": {},
   "outputs": [
    {
     "data": {
      "text/plain": [
       "array(['VisualBehaviorMultiscope', 'VisualBehaviorTask1B',\n",
       "       'VisualBehavior', 'VisualBehaviorMultiscope4areasx2d'],\n",
       "      dtype=object)"
      ]
     },
     "execution_count": 6,
     "metadata": {},
     "output_type": "execute_result"
    }
   ],
   "source": [
    "experiments_table = cache.get_ophys_experiment_table()\n",
    "\n",
    "# should only include data from project codes associated with visual behavior data release\n",
    "experiments_table.project_code.unique()"
   ]
  },
  {
   "cell_type": "code",
   "execution_count": 9,
   "metadata": {},
   "outputs": [
    {
     "name": "stdout",
     "output_type": "stream",
     "text": [
      "107\n"
     ]
    }
   ],
   "source": [
    "print(len(experiments_table.mouse_id.unique()))"
   ]
  },
  {
   "cell_type": "markdown",
   "metadata": {},
   "source": [
    "### get behavior sessions for some mouse"
   ]
  },
  {
   "cell_type": "code",
   "execution_count": 11,
   "metadata": {},
   "outputs": [],
   "source": [
    "behavior_sessions = cache.get_behavior_session_table()"
   ]
  },
  {
   "cell_type": "code",
   "execution_count": 26,
   "metadata": {},
   "outputs": [
    {
     "data": {
      "text/html": [
       "<div>\n",
       "<style scoped>\n",
       "    .dataframe tbody tr th:only-of-type {\n",
       "        vertical-align: middle;\n",
       "    }\n",
       "\n",
       "    .dataframe tbody tr th {\n",
       "        vertical-align: top;\n",
       "    }\n",
       "\n",
       "    .dataframe thead th {\n",
       "        text-align: right;\n",
       "    }\n",
       "</style>\n",
       "<table border=\"1\" class=\"dataframe\">\n",
       "  <thead>\n",
       "    <tr style=\"text-align: right;\">\n",
       "      <th></th>\n",
       "      <th>mouse_id</th>\n",
       "      <th>session_type</th>\n",
       "      <th>ophys_experiment_id</th>\n",
       "    </tr>\n",
       "    <tr>\n",
       "      <th>behavior_session_id</th>\n",
       "      <th></th>\n",
       "      <th></th>\n",
       "      <th></th>\n",
       "    </tr>\n",
       "  </thead>\n",
       "  <tbody>\n",
       "    <tr>\n",
       "      <td>827312851</td>\n",
       "      <td>438912</td>\n",
       "      <td>TRAINING_0_gratings_autorewards_15min</td>\n",
       "      <td>NaN</td>\n",
       "    </tr>\n",
       "    <tr>\n",
       "      <td>828646634</td>\n",
       "      <td>438912</td>\n",
       "      <td>TRAINING_1_gratings</td>\n",
       "      <td>NaN</td>\n",
       "    </tr>\n",
       "    <tr>\n",
       "      <td>829128279</td>\n",
       "      <td>438912</td>\n",
       "      <td>TRAINING_1_gratings</td>\n",
       "      <td>NaN</td>\n",
       "    </tr>\n",
       "    <tr>\n",
       "      <td>829591790</td>\n",
       "      <td>438912</td>\n",
       "      <td>TRAINING_1_gratings</td>\n",
       "      <td>NaN</td>\n",
       "    </tr>\n",
       "    <tr>\n",
       "      <td>830201482</td>\n",
       "      <td>438912</td>\n",
       "      <td>TRAINING_1_gratings</td>\n",
       "      <td>NaN</td>\n",
       "    </tr>\n",
       "    <tr>\n",
       "      <td>830867799</td>\n",
       "      <td>438912</td>\n",
       "      <td>TRAINING_1_gratings</td>\n",
       "      <td>NaN</td>\n",
       "    </tr>\n",
       "    <tr>\n",
       "      <td>831834820</td>\n",
       "      <td>438912</td>\n",
       "      <td>TRAINING_1_gratings</td>\n",
       "      <td>NaN</td>\n",
       "    </tr>\n",
       "    <tr>\n",
       "      <td>832325815</td>\n",
       "      <td>438912</td>\n",
       "      <td>TRAINING_2_gratings_flashed</td>\n",
       "      <td>NaN</td>\n",
       "    </tr>\n",
       "    <tr>\n",
       "      <td>832990071</td>\n",
       "      <td>438912</td>\n",
       "      <td>TRAINING_2_gratings_flashed</td>\n",
       "      <td>NaN</td>\n",
       "    </tr>\n",
       "    <tr>\n",
       "      <td>833780803</td>\n",
       "      <td>438912</td>\n",
       "      <td>TRAINING_3_images_A_10uL_reward</td>\n",
       "      <td>NaN</td>\n",
       "    </tr>\n",
       "    <tr>\n",
       "      <td>834573980</td>\n",
       "      <td>438912</td>\n",
       "      <td>TRAINING_3_images_A_10uL_reward</td>\n",
       "      <td>NaN</td>\n",
       "    </tr>\n",
       "    <tr>\n",
       "      <td>835448132</td>\n",
       "      <td>438912</td>\n",
       "      <td>TRAINING_3_images_A_10uL_reward</td>\n",
       "      <td>NaN</td>\n",
       "    </tr>\n",
       "    <tr>\n",
       "      <td>835865722</td>\n",
       "      <td>438912</td>\n",
       "      <td>TRAINING_4_images_A_training</td>\n",
       "      <td>NaN</td>\n",
       "    </tr>\n",
       "    <tr>\n",
       "      <td>836522259</td>\n",
       "      <td>438912</td>\n",
       "      <td>TRAINING_4_images_A_training</td>\n",
       "      <td>NaN</td>\n",
       "    </tr>\n",
       "    <tr>\n",
       "      <td>837083666</td>\n",
       "      <td>438912</td>\n",
       "      <td>TRAINING_4_images_A_training</td>\n",
       "      <td>NaN</td>\n",
       "    </tr>\n",
       "    <tr>\n",
       "      <td>837443225</td>\n",
       "      <td>438912</td>\n",
       "      <td>TRAINING_4_images_A_training</td>\n",
       "      <td>NaN</td>\n",
       "    </tr>\n",
       "    <tr>\n",
       "      <td>838236165</td>\n",
       "      <td>438912</td>\n",
       "      <td>TRAINING_5_images_A_epilogue</td>\n",
       "      <td>NaN</td>\n",
       "    </tr>\n",
       "    <tr>\n",
       "      <td>839014738</td>\n",
       "      <td>438912</td>\n",
       "      <td>TRAINING_5_images_A_handoff_ready</td>\n",
       "      <td>NaN</td>\n",
       "    </tr>\n",
       "    <tr>\n",
       "      <td>839479248</td>\n",
       "      <td>438912</td>\n",
       "      <td>TRAINING_5_images_A_handoff_ready</td>\n",
       "      <td>NaN</td>\n",
       "    </tr>\n",
       "    <tr>\n",
       "      <td>839854553</td>\n",
       "      <td>438912</td>\n",
       "      <td>TRAINING_5_images_A_handoff_ready</td>\n",
       "      <td>NaN</td>\n",
       "    </tr>\n",
       "    <tr>\n",
       "      <td>840330509</td>\n",
       "      <td>438912</td>\n",
       "      <td>TRAINING_5_images_A_handoff_ready</td>\n",
       "      <td>NaN</td>\n",
       "    </tr>\n",
       "    <tr>\n",
       "      <td>841185520</td>\n",
       "      <td>438912</td>\n",
       "      <td>TRAINING_5_images_A_handoff_ready</td>\n",
       "      <td>NaN</td>\n",
       "    </tr>\n",
       "    <tr>\n",
       "      <td>841730873</td>\n",
       "      <td>438912</td>\n",
       "      <td>TRAINING_5_images_A_handoff_ready</td>\n",
       "      <td>NaN</td>\n",
       "    </tr>\n",
       "    <tr>\n",
       "      <td>842139320</td>\n",
       "      <td>438912</td>\n",
       "      <td>TRAINING_5_images_A_handoff_ready</td>\n",
       "      <td>NaN</td>\n",
       "    </tr>\n",
       "    <tr>\n",
       "      <td>842792100</td>\n",
       "      <td>438912</td>\n",
       "      <td>TRAINING_5_images_A_handoff_ready</td>\n",
       "      <td>NaN</td>\n",
       "    </tr>\n",
       "    <tr>\n",
       "      <td>843166865</td>\n",
       "      <td>438912</td>\n",
       "      <td>TRAINING_5_images_A_handoff_ready</td>\n",
       "      <td>NaN</td>\n",
       "    </tr>\n",
       "    <tr>\n",
       "      <td>844234790</td>\n",
       "      <td>438912</td>\n",
       "      <td>OPHYS_0_images_A_habituation</td>\n",
       "      <td>NaN</td>\n",
       "    </tr>\n",
       "    <tr>\n",
       "      <td>844875410</td>\n",
       "      <td>438912</td>\n",
       "      <td>OPHYS_0_images_A_habituation</td>\n",
       "      <td>NaN</td>\n",
       "    </tr>\n",
       "    <tr>\n",
       "      <td>846248008</td>\n",
       "      <td>438912</td>\n",
       "      <td>OPHYS_0_images_A_habituation</td>\n",
       "      <td>NaN</td>\n",
       "    </tr>\n",
       "    <tr>\n",
       "      <td>847048485</td>\n",
       "      <td>438912</td>\n",
       "      <td>OPHYS_1_images_A</td>\n",
       "      <td>[847267616, 847267622, 847267624, 847267626, 8...</td>\n",
       "    </tr>\n",
       "    <tr>\n",
       "      <td>847867029</td>\n",
       "      <td>438912</td>\n",
       "      <td>OPHYS_2_images_A_passive</td>\n",
       "      <td>[848039121, 848039123, 848039125]</td>\n",
       "    </tr>\n",
       "    <tr>\n",
       "      <td>848575992</td>\n",
       "      <td>438912</td>\n",
       "      <td>OPHYS_3_images_A</td>\n",
       "      <td>[848760983, 848760985, 848760988, 848760990]</td>\n",
       "    </tr>\n",
       "    <tr>\n",
       "      <td>849098851</td>\n",
       "      <td>438912</td>\n",
       "      <td>OPHYS_4_images_B</td>\n",
       "      <td>[849233390, 849233396, 849233398, 849233400, 8...</td>\n",
       "    </tr>\n",
       "    <tr>\n",
       "      <td>850976604</td>\n",
       "      <td>438912</td>\n",
       "      <td>OPHYS_6_images_B</td>\n",
       "      <td>[851085092, 851085100, 851085103, 851085105, 8...</td>\n",
       "    </tr>\n",
       "    <tr>\n",
       "      <td>853266283</td>\n",
       "      <td>438912</td>\n",
       "      <td>OPHYS_5_images_B_passive</td>\n",
       "      <td>[853362765, 853362771, 853362773, 853362775, 8...</td>\n",
       "    </tr>\n",
       "  </tbody>\n",
       "</table>\n",
       "</div>"
      ],
      "text/plain": [
       "                     mouse_id                           session_type  \\\n",
       "behavior_session_id                                                    \n",
       "827312851              438912  TRAINING_0_gratings_autorewards_15min   \n",
       "828646634              438912                    TRAINING_1_gratings   \n",
       "829128279              438912                    TRAINING_1_gratings   \n",
       "829591790              438912                    TRAINING_1_gratings   \n",
       "830201482              438912                    TRAINING_1_gratings   \n",
       "830867799              438912                    TRAINING_1_gratings   \n",
       "831834820              438912                    TRAINING_1_gratings   \n",
       "832325815              438912            TRAINING_2_gratings_flashed   \n",
       "832990071              438912            TRAINING_2_gratings_flashed   \n",
       "833780803              438912        TRAINING_3_images_A_10uL_reward   \n",
       "834573980              438912        TRAINING_3_images_A_10uL_reward   \n",
       "835448132              438912        TRAINING_3_images_A_10uL_reward   \n",
       "835865722              438912           TRAINING_4_images_A_training   \n",
       "836522259              438912           TRAINING_4_images_A_training   \n",
       "837083666              438912           TRAINING_4_images_A_training   \n",
       "837443225              438912           TRAINING_4_images_A_training   \n",
       "838236165              438912           TRAINING_5_images_A_epilogue   \n",
       "839014738              438912      TRAINING_5_images_A_handoff_ready   \n",
       "839479248              438912      TRAINING_5_images_A_handoff_ready   \n",
       "839854553              438912      TRAINING_5_images_A_handoff_ready   \n",
       "840330509              438912      TRAINING_5_images_A_handoff_ready   \n",
       "841185520              438912      TRAINING_5_images_A_handoff_ready   \n",
       "841730873              438912      TRAINING_5_images_A_handoff_ready   \n",
       "842139320              438912      TRAINING_5_images_A_handoff_ready   \n",
       "842792100              438912      TRAINING_5_images_A_handoff_ready   \n",
       "843166865              438912      TRAINING_5_images_A_handoff_ready   \n",
       "844234790              438912           OPHYS_0_images_A_habituation   \n",
       "844875410              438912           OPHYS_0_images_A_habituation   \n",
       "846248008              438912           OPHYS_0_images_A_habituation   \n",
       "847048485              438912                       OPHYS_1_images_A   \n",
       "847867029              438912               OPHYS_2_images_A_passive   \n",
       "848575992              438912                       OPHYS_3_images_A   \n",
       "849098851              438912                       OPHYS_4_images_B   \n",
       "850976604              438912                       OPHYS_6_images_B   \n",
       "853266283              438912               OPHYS_5_images_B_passive   \n",
       "\n",
       "                                                   ophys_experiment_id  \n",
       "behavior_session_id                                                     \n",
       "827312851                                                          NaN  \n",
       "828646634                                                          NaN  \n",
       "829128279                                                          NaN  \n",
       "829591790                                                          NaN  \n",
       "830201482                                                          NaN  \n",
       "830867799                                                          NaN  \n",
       "831834820                                                          NaN  \n",
       "832325815                                                          NaN  \n",
       "832990071                                                          NaN  \n",
       "833780803                                                          NaN  \n",
       "834573980                                                          NaN  \n",
       "835448132                                                          NaN  \n",
       "835865722                                                          NaN  \n",
       "836522259                                                          NaN  \n",
       "837083666                                                          NaN  \n",
       "837443225                                                          NaN  \n",
       "838236165                                                          NaN  \n",
       "839014738                                                          NaN  \n",
       "839479248                                                          NaN  \n",
       "839854553                                                          NaN  \n",
       "840330509                                                          NaN  \n",
       "841185520                                                          NaN  \n",
       "841730873                                                          NaN  \n",
       "842139320                                                          NaN  \n",
       "842792100                                                          NaN  \n",
       "843166865                                                          NaN  \n",
       "844234790                                                          NaN  \n",
       "844875410                                                          NaN  \n",
       "846248008                                                          NaN  \n",
       "847048485            [847267616, 847267622, 847267624, 847267626, 8...  \n",
       "847867029                            [848039121, 848039123, 848039125]  \n",
       "848575992                 [848760983, 848760985, 848760988, 848760990]  \n",
       "849098851            [849233390, 849233396, 849233398, 849233400, 8...  \n",
       "850976604            [851085092, 851085100, 851085103, 851085105, 8...  \n",
       "853266283            [853362765, 853362771, 853362773, 853362775, 8...  "
      ]
     },
     "execution_count": 26,
     "metadata": {},
     "output_type": "execute_result"
    }
   ],
   "source": [
    "mouse_id = experiments_table.mouse_id.unique()[50]\n",
    "            \n",
    "# look at training history for this mouse\n",
    "mouse_beh_data = behavior_sessions[behavior_sessions.mouse_id==mouse_id].sort_values(by='date_of_acquisition')\n",
    "mouse_beh_data[['mouse_id', 'session_type', 'ophys_experiment_id']]"
   ]
  },
  {
   "cell_type": "markdown",
   "metadata": {},
   "source": [
    "### get ophys_containers for this mouse "
   ]
  },
  {
   "cell_type": "code",
   "execution_count": 27,
   "metadata": {},
   "outputs": [
    {
     "data": {
      "text/plain": [
       "6"
      ]
     },
     "execution_count": 27,
     "metadata": {},
     "output_type": "execute_result"
    }
   ],
   "source": [
    "mouse_data = experiments_table[experiments_table.mouse_id==mouse_id].sort_values(by='date_of_acquisition')\n",
    "ophys_container_ids = mouse_data.ophys_container_id.unique()\n",
    "len(ophys_container_ids)"
   ]
  },
  {
   "cell_type": "markdown",
   "metadata": {},
   "source": [
    "### pick a container and experiment"
   ]
  },
  {
   "cell_type": "code",
   "execution_count": 28,
   "metadata": {},
   "outputs": [
    {
     "data": {
      "text/plain": [
       "847267624"
      ]
     },
     "execution_count": 28,
     "metadata": {},
     "output_type": "execute_result"
    }
   ],
   "source": [
    "ophys_container_id = ophys_container_ids[0]\n",
    "experiment_id = experiments_table[experiments_table.ophys_container_id==ophys_container_id].index.values[0]\n",
    "experiment_id"
   ]
  },
  {
   "cell_type": "markdown",
   "metadata": {},
   "source": [
    "### load ophys dataset for this experiment"
   ]
  },
  {
   "cell_type": "code",
   "execution_count": 29,
   "metadata": {
    "scrolled": true
   },
   "outputs": [],
   "source": [
    "dataset = cache.get_behavior_ophys_experiment(experiment_id)"
   ]
  },
  {
   "cell_type": "code",
   "execution_count": 30,
   "metadata": {},
   "outputs": [
    {
     "data": {
      "text/plain": [
       "<matplotlib.image.AxesImage at 0x218b2576c50>"
      ]
     },
     "execution_count": 30,
     "metadata": {},
     "output_type": "execute_result"
    },
    {
     "data": {
      "image/png": "[encoded data removed]",
      "text/plain": [
       "<Figure size 432x288 with 1 Axes>"
      ]
     },
     "metadata": {
      "needs_background": "light"
     },
     "output_type": "display_data"
    }
   ],
   "source": [
    "plt.imshow(dataset.max_projection, cmap='gray')"
   ]
  },
  {
   "cell_type": "code",
   "execution_count": 31,
   "metadata": {},
   "outputs": [
    {
     "data": {
      "text/plain": [
       "<matplotlib.image.AxesImage at 0x218c374cd30>"
      ]
     },
     "execution_count": 31,
     "metadata": {},
     "output_type": "execute_result"
    },
    {
     "data": {
      "image/png": "[encoded data removed]",
      "text/plain": [
       "<Figure size 432x288 with 1 Axes>"
      ]
     },
     "metadata": {
      "needs_background": "light"
     },
     "output_type": "display_data"
    }
   ],
   "source": [
    "plt.imshow(dataset.segmentation_mask_image, cmap='gray')"
   ]
  },
  {
   "cell_type": "code",
   "execution_count": 32,
   "metadata": {},
   "outputs": [
    {
     "data": {
      "text/html": [
       "<div>\n",
       "<style scoped>\n",
       "    .dataframe tbody tr th:only-of-type {\n",
       "        vertical-align: middle;\n",
       "    }\n",
       "\n",
       "    .dataframe tbody tr th {\n",
       "        vertical-align: top;\n",
       "    }\n",
       "\n",
       "    .dataframe thead th {\n",
       "        text-align: right;\n",
       "    }\n",
       "</style>\n",
       "<table border=\"1\" class=\"dataframe\">\n",
       "  <thead>\n",
       "    <tr style=\"text-align: right;\">\n",
       "      <th></th>\n",
       "      <th>cell_roi_id</th>\n",
       "      <th>dff</th>\n",
       "    </tr>\n",
       "    <tr>\n",
       "      <th>cell_specimen_id</th>\n",
       "      <th></th>\n",
       "      <th></th>\n",
       "    </tr>\n",
       "  </thead>\n",
       "  <tbody>\n",
       "    <tr>\n",
       "      <td>1086512261</td>\n",
       "      <td>1080854740</td>\n",
       "      <td>[19.712932586669922, 17.267105102539062, 16.28...</td>\n",
       "    </tr>\n",
       "    <tr>\n",
       "      <td>1086512470</td>\n",
       "      <td>1080854747</td>\n",
       "      <td>[0.9266295433044434, 1.1095601320266724, 1.500...</td>\n",
       "    </tr>\n",
       "    <tr>\n",
       "      <td>1086517629</td>\n",
       "      <td>1080854764</td>\n",
       "      <td>[6.427168369293213, 6.252079963684082, 7.32800...</td>\n",
       "    </tr>\n",
       "    <tr>\n",
       "      <td>1086512613</td>\n",
       "      <td>1080854787</td>\n",
       "      <td>[3.692857027053833, 4.920130252838135, 2.92668...</td>\n",
       "    </tr>\n",
       "    <tr>\n",
       "      <td>1086512699</td>\n",
       "      <td>1080854813</td>\n",
       "      <td>[3.9970669746398926, 2.5939831733703613, 2.423...</td>\n",
       "    </tr>\n",
       "    <tr>\n",
       "      <td>1086516047</td>\n",
       "      <td>1080854856</td>\n",
       "      <td>[0.4880005419254303, 0.5942140221595764, 0.141...</td>\n",
       "    </tr>\n",
       "    <tr>\n",
       "      <td>1086513015</td>\n",
       "      <td>1080854860</td>\n",
       "      <td>[5.67019510269165, 2.952738046646118, 1.693332...</td>\n",
       "    </tr>\n",
       "    <tr>\n",
       "      <td>1086516106</td>\n",
       "      <td>1080854864</td>\n",
       "      <td>[1.7547324895858765, 3.012686014175415, 2.1593...</td>\n",
       "    </tr>\n",
       "    <tr>\n",
       "      <td>1086513277</td>\n",
       "      <td>1080854869</td>\n",
       "      <td>[2.9231276512145996, 1.0498965978622437, 1.450...</td>\n",
       "    </tr>\n",
       "    <tr>\n",
       "      <td>1086513513</td>\n",
       "      <td>1080854877</td>\n",
       "      <td>[2.640711545944214, 1.9056509733200073, 2.4181...</td>\n",
       "    </tr>\n",
       "    <tr>\n",
       "      <td>1086513586</td>\n",
       "      <td>1080854881</td>\n",
       "      <td>[11.3364839553833, 6.805245399475098, 4.530278...</td>\n",
       "    </tr>\n",
       "    <tr>\n",
       "      <td>1086518259</td>\n",
       "      <td>1080854893</td>\n",
       "      <td>[3.9961159229278564, 4.345517635345459, 4.6294...</td>\n",
       "    </tr>\n",
       "    <tr>\n",
       "      <td>1086513969</td>\n",
       "      <td>1080854911</td>\n",
       "      <td>[0.8288633823394775, 0.4129435420036316, 0.472...</td>\n",
       "    </tr>\n",
       "    <tr>\n",
       "      <td>1086514148</td>\n",
       "      <td>1080854914</td>\n",
       "      <td>[1.4928838014602661, 1.169880986213684, 0.9347...</td>\n",
       "    </tr>\n",
       "    <tr>\n",
       "      <td>1086514382</td>\n",
       "      <td>1080854917</td>\n",
       "      <td>[40.556884765625, 35.54414367675781, 28.061134...</td>\n",
       "    </tr>\n",
       "    <tr>\n",
       "      <td>1086514771</td>\n",
       "      <td>1080854940</td>\n",
       "      <td>[0.0, 0.3208465576171875, 0.5007851719856262, ...</td>\n",
       "    </tr>\n",
       "    <tr>\n",
       "      <td>1086514997</td>\n",
       "      <td>1080854944</td>\n",
       "      <td>[8.081732749938965, 5.771487712860107, 4.90359...</td>\n",
       "    </tr>\n",
       "    <tr>\n",
       "      <td>1086515236</td>\n",
       "      <td>1080854953</td>\n",
       "      <td>[2.098666191101074, 1.8006759881973267, 1.6454...</td>\n",
       "    </tr>\n",
       "  </tbody>\n",
       "</table>\n",
       "</div>"
      ],
      "text/plain": [
       "                  cell_roi_id  \\\n",
       "cell_specimen_id                \n",
       "1086512261         1080854740   \n",
       "1086512470         1080854747   \n",
       "1086517629         1080854764   \n",
       "1086512613         1080854787   \n",
       "1086512699         1080854813   \n",
       "1086516047         1080854856   \n",
       "1086513015         1080854860   \n",
       "1086516106         1080854864   \n",
       "1086513277         1080854869   \n",
       "1086513513         1080854877   \n",
       "1086513586         1080854881   \n",
       "1086518259         1080854893   \n",
       "1086513969         1080854911   \n",
       "1086514148         1080854914   \n",
       "1086514382         1080854917   \n",
       "1086514771         1080854940   \n",
       "1086514997         1080854944   \n",
       "1086515236         1080854953   \n",
       "\n",
       "                                                                dff  \n",
       "cell_specimen_id                                                     \n",
       "1086512261        [19.712932586669922, 17.267105102539062, 16.28...  \n",
       "1086512470        [0.9266295433044434, 1.1095601320266724, 1.500...  \n",
       "1086517629        [6.427168369293213, 6.252079963684082, 7.32800...  \n",
       "1086512613        [3.692857027053833, 4.920130252838135, 2.92668...  \n",
       "1086512699        [3.9970669746398926, 2.5939831733703613, 2.423...  \n",
       "1086516047        [0.4880005419254303, 0.5942140221595764, 0.141...  \n",
       "1086513015        [5.67019510269165, 2.952738046646118, 1.693332...  \n",
       "1086516106        [1.7547324895858765, 3.012686014175415, 2.1593...  \n",
       "1086513277        [2.9231276512145996, 1.0498965978622437, 1.450...  \n",
       "1086513513        [2.640711545944214, 1.9056509733200073, 2.4181...  \n",
       "1086513586        [11.3364839553833, 6.805245399475098, 4.530278...  \n",
       "1086518259        [3.9961159229278564, 4.345517635345459, 4.6294...  \n",
       "1086513969        [0.8288633823394775, 0.4129435420036316, 0.472...  \n",
       "1086514148        [1.4928838014602661, 1.169880986213684, 0.9347...  \n",
       "1086514382        [40.556884765625, 35.54414367675781, 28.061134...  \n",
       "1086514771        [0.0, 0.3208465576171875, 0.5007851719856262, ...  \n",
       "1086514997        [8.081732749938965, 5.771487712860107, 4.90359...  \n",
       "1086515236        [2.098666191101074, 1.8006759881973267, 1.6454...  "
      ]
     },
     "execution_count": 32,
     "metadata": {},
     "output_type": "execute_result"
    }
   ],
   "source": [
    "dataset.dff_traces"
   ]
  },
  {
   "cell_type": "markdown",
   "metadata": {},
   "source": [
    "### plot max projections for this container using `visual_behavior_analysis` plotting functions "
   ]
  },
  {
   "cell_type": "markdown",
   "metadata": {},
   "source": [
    "Note: this only works for Visual Behavior released data if you are on the `master` branch of `visual_behavior_analysis`"
   ]
  },
  {
   "cell_type": "code",
   "execution_count": 33,
   "metadata": {},
   "outputs": [],
   "source": [
    "import visual_behavior.visualization.qc.container_plots as cp"
   ]
  },
  {
   "cell_type": "code",
   "execution_count": null,
   "metadata": {},
   "outputs": [
    {
     "name": "stdout",
     "output_type": "stream",
     "text": [
      "getting experiment table for March and August releases from lims\n"
     ]
    },
    {
     "name": "stderr",
     "output_type": "stream",
     "text": [
      "C:\\Users\\marinag\\Anaconda3\\envs\\visual_behavior_sdk\\lib\\site-packages\\numpy\\core\\fromnumeric.py:87: VisibleDeprecationWarning:\n",
      "\n",
      "Creating an ndarray from ragged nested sequences (which is a list-or-tuple of lists-or-tuples-or ndarrays with different lengths or shapes) is deprecated. If you meant to do this, you must specify 'dtype=object' when creating the ndarray\n",
      "\n",
      "C:\\Users\\marinag\\Anaconda3\\envs\\visual_behavior_sdk\\lib\\site-packages\\numpy\\core\\fromnumeric.py:87: VisibleDeprecationWarning:\n",
      "\n",
      "Creating an ndarray from ragged nested sequences (which is a list-or-tuple of lists-or-tuples-or ndarrays with different lengths or shapes) is deprecated. If you meant to do this, you must specify 'dtype=object' when creating the ndarray\n",
      "\n",
      "C:\\Users\\marinag\\Anaconda3\\envs\\visual_behavior_sdk\\lib\\site-packages\\numpy\\core\\fromnumeric.py:87: VisibleDeprecationWarning:\n",
      "\n",
      "Creating an ndarray from ragged nested sequences (which is a list-or-tuple of lists-or-tuples-or ndarrays with different lengths or shapes) is deprecated. If you meant to do this, you must specify 'dtype=object' when creating the ndarray\n",
      "\n"
     ]
    },
    {
     "name": "stdout",
     "output_type": "stream",
     "text": [
      "excluding Ai94 data\n",
      "getting experiment table for March and August releases from lims\n"
     ]
    },
    {
     "name": "stderr",
     "output_type": "stream",
     "text": [
      "C:\\Users\\marinag\\Anaconda3\\envs\\visual_behavior_sdk\\lib\\site-packages\\numpy\\core\\fromnumeric.py:87: VisibleDeprecationWarning:\n",
      "\n",
      "Creating an ndarray from ragged nested sequences (which is a list-or-tuple of lists-or-tuples-or ndarrays with different lengths or shapes) is deprecated. If you meant to do this, you must specify 'dtype=object' when creating the ndarray\n",
      "\n",
      "C:\\Users\\marinag\\Anaconda3\\envs\\visual_behavior_sdk\\lib\\site-packages\\numpy\\core\\fromnumeric.py:87: VisibleDeprecationWarning:\n",
      "\n",
      "Creating an ndarray from ragged nested sequences (which is a list-or-tuple of lists-or-tuples-or ndarrays with different lengths or shapes) is deprecated. If you meant to do this, you must specify 'dtype=object' when creating the ndarray\n",
      "\n",
      "C:\\Users\\marinag\\Anaconda3\\envs\\visual_behavior_sdk\\lib\\site-packages\\numpy\\core\\fromnumeric.py:87: VisibleDeprecationWarning:\n",
      "\n",
      "Creating an ndarray from ragged nested sequences (which is a list-or-tuple of lists-or-tuples-or ndarrays with different lengths or shapes) is deprecated. If you meant to do this, you must specify 'dtype=object' when creating the ndarray\n",
      "\n"
     ]
    },
    {
     "name": "stdout",
     "output_type": "stream",
     "text": [
      "excluding Ai94 data\n"
     ]
    }
   ],
   "source": [
    "cp.plot_sdk_max_projection_images_for_container(ophys_container_id, save_figure=False)"
   ]
  },
  {
   "cell_type": "code",
   "execution_count": null,
   "metadata": {},
   "outputs": [],
   "source": [
    "cp.plot_trials_population_average_across_sessions(ophys_container_id, save_figure=True)"
   ]
  },
  {
   "cell_type": "code",
   "execution_count": null,
   "metadata": {
    "scrolled": true
   },
   "outputs": [],
   "source": [
    "cp.plot_running_speed_for_container(ophys_container_id, save_figure=True)"
   ]
  },
  {
   "cell_type": "code",
   "execution_count": null,
   "metadata": {
    "scrolled": true
   },
   "outputs": [],
   "source": []
  },
  {
   "cell_type": "code",
   "execution_count": null,
   "metadata": {},
   "outputs": [],
   "source": []
  },
  {
   "cell_type": "code",
   "execution_count": null,
   "metadata": {},
   "outputs": [],
   "source": []
  },
  {
   "cell_type": "code",
   "execution_count": null,
   "metadata": {},
   "outputs": [],
   "source": []
  },
  {
   "cell_type": "code",
   "execution_count": null,
   "metadata": {},
   "outputs": [],
   "source": []
  },
  {
   "cell_type": "code",
   "execution_count": null,
   "metadata": {},
   "outputs": [],
   "source": []
  },
  {
   "cell_type": "code",
   "execution_count": null,
   "metadata": {},
   "outputs": [],
   "source": []
  },
  {
   "cell_type": "code",
   "execution_count": null,
   "metadata": {},
   "outputs": [],
   "source": []
  },
  {
   "cell_type": "code",
   "execution_count": null,
   "metadata": {},
   "outputs": [],
   "source": []
  }
 ],
 "metadata": {
  "kernelspec": {
   "display_name": "visual_behavior_sdk",
   "language": "python",
   "name": "visual_behavior_sdk"
  },
  "language_info": {
   "codemirror_mode": {
    "name": "ipython",
    "version": 3
   },
   "file_extension": ".py",
   "mimetype": "text/x-python",
   "name": "python",
   "nbconvert_exporter": "python",
   "pygments_lexer": "ipython3",
   "version": "3.7.3"
  }
 },
 "nbformat": 4,
 "nbformat_minor": 2
}
