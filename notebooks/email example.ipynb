{
 "cells": [
  {
   "cell_type": "code",
   "execution_count": 1,
   "metadata": {},
   "outputs": [
    {
     "name": "stderr",
     "output_type": "stream",
     "text": [
      "/local1/miniconda2/envs/braintv_behav/lib/python2.7/site-packages/mouse_info/__init__.py:10: UserWarning: API 'QString' has already been set to version 1\n",
      "  warn( UserWarning(e) )\n"
     ]
    }
   ],
   "source": [
    "from visual_behavior import utilities as vbu"
   ]
  },
  {
   "cell_type": "code",
   "execution_count": 4,
   "metadata": {},
   "outputs": [],
   "source": [
    "vbu.send_email(\n",
    "    subject='testing vbu.send_email again',\n",
    "    message='This is the message\\n',\n",
    "    sender='justink@alleninstitute.org',\n",
    "    recipients=['justink@alleninstitute.org','dougo@alleninstitute.org']\n",
    ")"
   ]
  }
 ],
 "metadata": {
  "kernelspec": {
   "display_name": "Python [conda env:braintv_behav]",
   "language": "python",
   "name": "conda-env-braintv_behav-py"
  },
  "language_info": {
   "codemirror_mode": {
    "name": "ipython",
    "version": 2
   },
   "file_extension": ".py",
   "mimetype": "text/x-python",
   "name": "python",
   "nbconvert_exporter": "python",
   "pygments_lexer": "ipython2",
   "version": "2.7.13"
  }
 },
 "nbformat": 4,
 "nbformat_minor": 2
}
