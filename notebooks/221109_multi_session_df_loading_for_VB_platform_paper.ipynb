{
 "cells": [
  {
   "cell_type": "code",
   "execution_count": 1,
   "metadata": {},
   "outputs": [
    {
     "name": "stderr",
     "output_type": "stream",
     "text": [
      "C:\\Users\\marinag\\Anaconda3\\envs\\visual_behavior_sdk\\lib\\site-packages\\numpy\\_distributor_init.py:32: UserWarning: loaded more than 1 DLL from .libs:\n",
      "C:\\Users\\marinag\\Anaconda3\\envs\\visual_behavior_sdk\\lib\\site-packages\\numpy\\.libs\\libopenblas.GK7GX5KEQ4F6UYO3P26ULGBQYHGQO7J4.gfortran-win_amd64.dll\n",
      "C:\\Users\\marinag\\Anaconda3\\envs\\visual_behavior_sdk\\lib\\site-packages\\numpy\\.libs\\libopenblas.PYQHXLVVQ7VESDPUVUADXEVJOBGHJPAY.gfortran-win_amd64.dll\n",
      "  stacklevel=1)\n"
     ]
    }
   ],
   "source": [
    "import os\n",
    "import numpy as np\n",
    "import pandas as pd\n",
    "import matplotlib.pyplot as plt\n",
    "\n",
    "import seaborn as sns\n",
    "sns.set_context('notebook', font_scale=1.5, rc={'lines.markeredgewidth': 2})"
   ]
  },
  {
   "cell_type": "code",
   "execution_count": 2,
   "metadata": {},
   "outputs": [],
   "source": [
    "%load_ext autoreload\n",
    "%autoreload 2\n",
    "\n",
    "%matplotlib inline"
   ]
  },
  {
   "cell_type": "code",
   "execution_count": 3,
   "metadata": {},
   "outputs": [],
   "source": [
    "import visual_behavior.data_access.utilities as utilities\n",
    "from visual_behavior.data_access import loading as loading\n",
    "\n",
    "import visual_behavior.visualization.utils as utils\n",
    "import visual_behavior.visualization.ophys.platform_paper_figures as ppf\n",
    "\n",
    "from allensdk.brain_observatory.behavior.behavior_project_cache import VisualBehaviorOphysProjectCache"
   ]
  },
  {
   "cell_type": "markdown",
   "metadata": {},
   "source": [
    "### load experiments table"
   ]
  },
  {
   "cell_type": "code",
   "execution_count": 4,
   "metadata": {},
   "outputs": [],
   "source": [
    "cache_dir = loading.get_platform_analysis_cache_dir()\n",
    "cache = VisualBehaviorOphysProjectCache.from_s3_cache(cache_dir=cache_dir)\n",
    "# experiments_table = cache.get_ophys_experiments()\n",
    "# print(cache_dir)"
   ]
  },
  {
   "cell_type": "code",
   "execution_count": 5,
   "metadata": {},
   "outputs": [
    {
     "name": "stdout",
     "output_type": "stream",
     "text": [
      "1248\n"
     ]
    }
   ],
   "source": [
    "experiments_table = loading.get_platform_paper_experiment_table()\n",
    "print(len(experiments_table))"
   ]
  },
  {
   "cell_type": "code",
   "execution_count": 6,
   "metadata": {},
   "outputs": [],
   "source": [
    "# cells_table = loading.get_cell_table()\n",
    "# print(len(cells_table.cell_specimen_id.unique()))"
   ]
  },
  {
   "cell_type": "code",
   "execution_count": 7,
   "metadata": {},
   "outputs": [
    {
     "data": {
      "text/plain": [
       "402"
      ]
     },
     "execution_count": 7,
     "metadata": {},
     "output_type": "execute_result"
    }
   ],
   "source": [
    "platform_expts = loading.get_platform_paper_experiment_table(limit_to_closest_active=True)\n",
    "len(platform_expts)"
   ]
  },
  {
   "cell_type": "markdown",
   "metadata": {},
   "source": [
    "### get useful info"
   ]
  },
  {
   "cell_type": "code",
   "execution_count": 8,
   "metadata": {},
   "outputs": [],
   "source": [
    "experience_levels = np.sort(experiments_table.experience_level.unique())\n",
    "cell_types = np.sort(experiments_table.cell_type.unique())[::-1]\n",
    "palette = utilities.get_experience_level_colors()"
   ]
  },
  {
   "cell_type": "code",
   "execution_count": 9,
   "metadata": {},
   "outputs": [],
   "source": [
    "save_dir = r'\\\\allen\\programs\\braintv\\workgroups\\nc-ophys\\visual_behavior\\platform_paper_plots\\figure_2'\n",
    "\n",
    "folder = 'population_averages'"
   ]
  },
  {
   "cell_type": "markdown",
   "metadata": {},
   "source": [
    "### load multi_session_mean_df"
   ]
  },
  {
   "cell_type": "code",
   "execution_count": 12,
   "metadata": {},
   "outputs": [
    {
     "name": "stdout",
     "output_type": "stream",
     "text": [
      "there are 1249 experiments in the full multi_session_df\n",
      "getting experiment table for March and August releases from lims\n",
      "excluding Ai94 data\n",
      "there are 402 experiments in the multi_session_df after limiting to platform experiments\n",
      "there are 402 experiments after filtering for inclusion criteria -  platform_experiment_table\n"
     ]
    }
   ],
   "source": [
    "data_type = 'filtered_events'\n",
    "\n",
    "interpolate = True\n",
    "output_sampling_rate = 30\n",
    "\n",
    "# set inclusion criteria\n",
    "# options: ['active_only', 'closest_familiar_and_novel', 'containers_with_all_levels']\n",
    "inclusion_criteria = 'platform_experiment_table'\n",
    "\n",
    "# params for stim response df creation\n",
    "event_type = 'all'\n",
    "\n",
    "# params for mean response df creation\n",
    "conditions = ['cell_specimen_id', 'omitted']\n",
    "\n",
    "# suffix = '_'+utils.get_conditions_string(data_type, conditions)+'_'+inclusion_criteria\n",
    "\n",
    "multi_session_df = loading.get_multi_session_df_for_conditions(data_type, event_type, conditions, inclusion_criteria, \n",
    "                                                        interpolate=interpolate, output_sampling_rate=output_sampling_rate, \n",
    "                                                         epoch_duration_mins=None)\n",
    "\n",
    "all_images_mdf = multi_session_df[multi_session_df.omitted==False]"
   ]
  },
  {
   "cell_type": "markdown",
   "metadata": {},
   "source": [
    "### NOTE: if things dont load, make sure the paths are correct in: \n",
    "* `visual_behavior.data_access.loading.get_platform_analysis_cache_dir()`\n",
    "* `visual_behavior.data_access.loading.get_multi_session_df_dir()`"
   ]
  },
  {
   "cell_type": "code",
   "execution_count": null,
   "metadata": {},
   "outputs": [],
   "source": []
  },
  {
   "cell_type": "code",
   "execution_count": null,
   "metadata": {},
   "outputs": [],
   "source": []
  }
 ],
 "metadata": {
  "kernelspec": {
   "display_name": "visual_behavior_sdk",
   "language": "python",
   "name": "visual_behavior_sdk"
  },
  "language_info": {
   "codemirror_mode": {
    "name": "ipython",
    "version": 3
   },
   "file_extension": ".py",
   "mimetype": "text/x-python",
   "name": "python",
   "nbconvert_exporter": "python",
   "pygments_lexer": "ipython3",
   "version": "3.7.13"
  }
 },
 "nbformat": 4,
 "nbformat_minor": 2
}
