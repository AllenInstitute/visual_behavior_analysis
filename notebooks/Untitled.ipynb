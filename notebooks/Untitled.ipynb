{
 "cells": [
  {
   "cell_type": "code",
   "execution_count": 1,
   "metadata": {},
   "outputs": [],
   "source": [
    "# import necessary packages\n",
    "import numpy as np\n",
    "import pandas as pd\n",
    "import os\n",
    "\n",
    "import allensdk\n",
    "from allensdk.brain_observatory.behavior.behavior_project_cache import VisualBehaviorOphysProjectCache\n",
    "from visual_behavior.data_access import loading\n",
    "import visual_behavior.database as db\n",
    "from multiprocessing import Pool"
   ]
  },
  {
   "cell_type": "code",
   "execution_count": 2,
   "metadata": {},
   "outputs": [],
   "source": [
    "data_storage_directory = '/allen/programs/braintv/workgroups/nc-ophys/visual_behavior/production_cache'\n",
    "\n",
    "cache = VisualBehaviorOphysProjectCache.from_s3_cache(cache_dir=data_storage_directory)"
   ]
  },
  {
   "cell_type": "code",
   "execution_count": 3,
   "metadata": {},
   "outputs": [
    {
     "data": {
      "text/plain": [
       "1165"
      ]
     },
     "execution_count": 3,
     "metadata": {},
     "output_type": "execute_result"
    }
   ],
   "source": [
    "experiment_table = cache.get_ophys_experiment_table().reset_index()\n",
    "len(experiment_table)"
   ]
  },
  {
   "cell_type": "code",
   "execution_count": 13,
   "metadata": {},
   "outputs": [
    {
     "name": "stderr",
     "output_type": "stream",
     "text": [
      "<timed exec>:9: DeprecationWarning: count is deprecated. Use Collection.count_documents instead.\n"
     ]
    },
    {
     "name": "stdout",
     "output_type": "stream",
     "text": [
      "CPU times: user 20.2 ms, sys: 0 ns, total: 20.2 ms\n",
      "Wall time: 522 ms\n"
     ]
    },
    {
     "data": {
      "text/plain": [
       "20867"
      ]
     },
     "execution_count": 13,
     "metadata": {},
     "output_type": "execute_result"
    }
   ],
   "source": [
    "%%time\n",
    "conn = db.Database('visual_behavior_data')\n",
    "coll = conn['ophys_analysis']['cell_specimen_table']\n",
    "\n",
    "cell_table = coll.find({})\n",
    "# cell_table = pd.DataFrame(list(coll.find({})))\n",
    "\n",
    "conn.close()\n",
    "\n",
    "cell_table.count()"
   ]
  },
  {
   "cell_type": "code",
   "execution_count": 26,
   "metadata": {},
   "outputs": [
    {
     "name": "stdout",
     "output_type": "stream",
     "text": [
      "CPU times: user 75.3 ms, sys: 16.9 ms, total: 92.2 ms\n",
      "Wall time: 302 ms\n"
     ]
    }
   ],
   "source": [
    "%%time\n",
    "\n",
    "oeid = 989610987\n",
    "\n",
    "conn = db.Database('visual_behavior_data')\n",
    "coll = conn['ophys_analysis']['cell_specimen_table']\n",
    "\n",
    "# cell_table = coll.find({})\n",
    "# cell_table = pd.DataFrame(list(coll.find({'ophys_experiment_id':oeid})))\n",
    "csid = 1086510464\n",
    "cell_table = pd.DataFrame(list(coll.find({'cell_specimen_id':csid})))\n",
    "\n",
    "conn.close()"
   ]
  },
  {
   "cell_type": "code",
   "execution_count": 27,
   "metadata": {},
   "outputs": [
    {
     "data": {
      "text/html": [
       "<div>\n",
       "<style scoped>\n",
       "    .dataframe tbody tr th:only-of-type {\n",
       "        vertical-align: middle;\n",
       "    }\n",
       "\n",
       "    .dataframe tbody tr th {\n",
       "        vertical-align: top;\n",
       "    }\n",
       "\n",
       "    .dataframe thead th {\n",
       "        text-align: right;\n",
       "    }\n",
       "</style>\n",
       "<table border=\"1\" class=\"dataframe\">\n",
       "  <thead>\n",
       "    <tr style=\"text-align: right;\">\n",
       "      <th></th>\n",
       "      <th>_id</th>\n",
       "      <th>ophys_experiment_id</th>\n",
       "      <th>ophys_session_id</th>\n",
       "      <th>cell_specimen_id</th>\n",
       "      <th>cell_roi_id</th>\n",
       "      <th>height</th>\n",
       "      <th>mask_image_plane</th>\n",
       "      <th>max_correction_down</th>\n",
       "      <th>max_correction_left</th>\n",
       "      <th>max_correction_right</th>\n",
       "      <th>max_correction_up</th>\n",
       "      <th>roi_mask</th>\n",
       "      <th>valid_roi</th>\n",
       "      <th>width</th>\n",
       "      <th>x</th>\n",
       "      <th>y</th>\n",
       "      <th>entry_time_utc</th>\n",
       "    </tr>\n",
       "  </thead>\n",
       "  <tbody>\n",
       "    <tr>\n",
       "      <th>0</th>\n",
       "      <td>60a2a347824918f87facb13f</td>\n",
       "      <td>986518880</td>\n",
       "      <td>985609503</td>\n",
       "      <td>1086510464</td>\n",
       "      <td>1080694475</td>\n",
       "      <td>26</td>\n",
       "      <td>1</td>\n",
       "      <td>19.0</td>\n",
       "      <td>5.0</td>\n",
       "      <td>9.0</td>\n",
       "      <td>4.0</td>\n",
       "      <td>[[0, 0, 0, 0, 0, 0, 0, 0, 0, 0, 0, 0, 0, 0, 0,...</td>\n",
       "      <td>1</td>\n",
       "      <td>17</td>\n",
       "      <td>156</td>\n",
       "      <td>98</td>\n",
       "      <td>2021-05-17 17:09:27.735082</td>\n",
       "    </tr>\n",
       "    <tr>\n",
       "      <th>1</th>\n",
       "      <td>60a2a3eda9c71a9f77acb22f</td>\n",
       "      <td>990400778</td>\n",
       "      <td>990139534</td>\n",
       "      <td>1086510464</td>\n",
       "      <td>1080671345</td>\n",
       "      <td>18</td>\n",
       "      <td>1</td>\n",
       "      <td>17.0</td>\n",
       "      <td>5.0</td>\n",
       "      <td>4.0</td>\n",
       "      <td>8.0</td>\n",
       "      <td>[[0, 0, 0, 0, 0, 0, 0, 0, 0, 0, 0, 0, 0, 0, 0,...</td>\n",
       "      <td>1</td>\n",
       "      <td>17</td>\n",
       "      <td>154</td>\n",
       "      <td>100</td>\n",
       "      <td>2021-05-17 17:12:13.224450</td>\n",
       "    </tr>\n",
       "    <tr>\n",
       "      <th>2</th>\n",
       "      <td>60a2aa1d7e3e209024acb32b</td>\n",
       "      <td>989610987</td>\n",
       "      <td>989267296</td>\n",
       "      <td>1086510464</td>\n",
       "      <td>1080708745</td>\n",
       "      <td>14</td>\n",
       "      <td>1</td>\n",
       "      <td>7.0</td>\n",
       "      <td>3.0</td>\n",
       "      <td>6.0</td>\n",
       "      <td>3.0</td>\n",
       "      <td>[[0, 0, 0, 0, 0, 0, 0, 0, 0, 0, 0, 0, 0, 0, 0,...</td>\n",
       "      <td>1</td>\n",
       "      <td>16</td>\n",
       "      <td>135</td>\n",
       "      <td>76</td>\n",
       "      <td>2021-05-17 17:38:24.303942</td>\n",
       "    </tr>\n",
       "  </tbody>\n",
       "</table>\n",
       "</div>"
      ],
      "text/plain": [
       "                        _id  ophys_experiment_id  ophys_session_id  \\\n",
       "0  60a2a347824918f87facb13f            986518880         985609503   \n",
       "1  60a2a3eda9c71a9f77acb22f            990400778         990139534   \n",
       "2  60a2aa1d7e3e209024acb32b            989610987         989267296   \n",
       "\n",
       "   cell_specimen_id  cell_roi_id  height  mask_image_plane  \\\n",
       "0        1086510464   1080694475      26                 1   \n",
       "1        1086510464   1080671345      18                 1   \n",
       "2        1086510464   1080708745      14                 1   \n",
       "\n",
       "   max_correction_down  max_correction_left  max_correction_right  \\\n",
       "0                 19.0                  5.0                   9.0   \n",
       "1                 17.0                  5.0                   4.0   \n",
       "2                  7.0                  3.0                   6.0   \n",
       "\n",
       "   max_correction_up                                           roi_mask  \\\n",
       "0                4.0  [[0, 0, 0, 0, 0, 0, 0, 0, 0, 0, 0, 0, 0, 0, 0,...   \n",
       "1                8.0  [[0, 0, 0, 0, 0, 0, 0, 0, 0, 0, 0, 0, 0, 0, 0,...   \n",
       "2                3.0  [[0, 0, 0, 0, 0, 0, 0, 0, 0, 0, 0, 0, 0, 0, 0,...   \n",
       "\n",
       "   valid_roi  width    x    y              entry_time_utc  \n",
       "0          1     17  156   98  2021-05-17 17:09:27.735082  \n",
       "1          1     17  154  100  2021-05-17 17:12:13.224450  \n",
       "2          1     16  135   76  2021-05-17 17:38:24.303942  "
      ]
     },
     "execution_count": 27,
     "metadata": {},
     "output_type": "execute_result"
    }
   ],
   "source": [
    "cell_table"
   ]
  },
  {
   "cell_type": "code",
   "execution_count": 18,
   "metadata": {},
   "outputs": [
    {
     "name": "stdout",
     "output_type": "stream",
     "text": [
      "index response: ophys_experiment_id_-1\n"
     ]
    }
   ],
   "source": [
    "conn = db.Database('visual_behavior_data')\n",
    "coll = conn['ophys_analysis']['cell_specimen_table']\n",
    "resp = coll.create_index([ (\"ophys_experiment_id\", -1) ])\n",
    "print (\"index response:\", resp)"
   ]
  },
  {
   "cell_type": "code",
   "execution_count": 22,
   "metadata": {},
   "outputs": [
    {
     "name": "stdout",
     "output_type": "stream",
     "text": [
      "index response: cell_specimen_id_-1\n"
     ]
    }
   ],
   "source": [
    "conn = db.Database('visual_behavior_data')\n",
    "coll = conn['ophys_analysis']['cell_specimen_table']\n",
    "resp = coll.create_index([ (\"cell_specimen_id\", -1) ])\n",
    "print (\"index response:\", resp)"
   ]
  },
  {
   "cell_type": "code",
   "execution_count": 41,
   "metadata": {},
   "outputs": [
    {
     "name": "stderr",
     "output_type": "stream",
     "text": [
      "<timed exec>:13: DeprecationWarning: count is deprecated. Use Collection.count_documents instead.\n"
     ]
    },
    {
     "name": "stdout",
     "output_type": "stream",
     "text": [
      "CPU times: user 20.4 ms, sys: 3.54 ms, total: 23.9 ms\n",
      "Wall time: 551 ms\n"
     ]
    },
    {
     "data": {
      "text/plain": [
       "92209"
      ]
     },
     "execution_count": 41,
     "metadata": {},
     "output_type": "execute_result"
    }
   ],
   "source": [
    "%%time\n",
    "\n",
    "oeid = 989610987\n",
    "\n",
    "conn = db.Database('visual_behavior_data')\n",
    "coll = conn['ophys_analysis']['cell_specimen_table']\n",
    "\n",
    "# cell_table = coll.find({})\n",
    "# cell_table = pd.DataFrame(list(coll.find({'ophys_experiment_id':oeid})))\n",
    "csid = 1086510464\n",
    "cell_table_cursor = coll.find({})\n",
    "\n",
    "conn.close()\n",
    "\n",
    "cell_table_cursor.count()"
   ]
  },
  {
   "cell_type": "code",
   "execution_count": null,
   "metadata": {},
   "outputs": [],
   "source": [
    "%%time\n",
    "\n",
    "oeid = 989610987\n",
    "\n",
    "conn = db.Database('visual_behavior_data')\n",
    "coll = conn['ophys_analysis']['cell_specimen_table']\n",
    "\n",
    "cell_table_cursor = pd.DataFrame(list(coll.find({})))\n",
    "\n",
    "conn.close()\n",
    "\n",
    "cell_table_cursor.count()"
   ]
  },
  {
   "cell_type": "code",
   "execution_count": null,
   "metadata": {},
   "outputs": [],
   "source": []
  }
 ],
 "metadata": {
  "kernelspec": {
   "display_name": "vba",
   "language": "python",
   "name": "vba"
  },
  "language_info": {
   "codemirror_mode": {
    "name": "ipython",
    "version": 3
   },
   "file_extension": ".py",
   "mimetype": "text/x-python",
   "name": "python",
   "nbconvert_exporter": "python",
   "pygments_lexer": "ipython3",
   "version": "3.8.8"
  }
 },
 "nbformat": 4,
 "nbformat_minor": 4
}
