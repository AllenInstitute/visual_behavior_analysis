{
 "cells": [
  {
   "cell_type": "markdown",
   "metadata": {},
   "source": [
    "# The folllowing notebook builds a summary of data for the 3/25 release using the experiment table from AWS combined with the associated cells from LIMS"
   ]
  },
  {
   "cell_type": "code",
   "execution_count": 1,
   "metadata": {},
   "outputs": [],
   "source": [
    "from allensdk.brain_observatory.behavior.behavior_project_cache import VisualBehaviorOphysProjectCache\n",
    "import visual_behavior.database as db\n",
    "import pandas as pd\n",
    "import numpy as np\n",
    "import itertools"
   ]
  },
  {
   "cell_type": "code",
   "execution_count": 2,
   "metadata": {},
   "outputs": [
    {
     "data": {
      "text/html": [
       "<style>.container { width:100% !important; }</style>"
      ],
      "text/plain": [
       "<IPython.core.display.HTML object>"
      ]
     },
     "metadata": {},
     "output_type": "display_data"
    }
   ],
   "source": [
    "from IPython.core.display import display, HTML\n",
    "display(HTML(\"<style>.container { width:100% !important; }</style>\"))"
   ]
  },
  {
   "cell_type": "markdown",
   "metadata": {},
   "source": [
    "## get the experiment table from S3"
   ]
  },
  {
   "cell_type": "code",
   "execution_count": 3,
   "metadata": {},
   "outputs": [],
   "source": [
    "data_storage_directory = '/allen/programs/braintv/workgroups/nc-ophys/visual_behavior/production_cache'\n",
    "cache = VisualBehaviorOphysProjectCache.from_s3_cache(cache_dir=data_storage_directory)\n",
    "\n",
    "experiment_table = cache.get_ophys_experiment_table().reset_index()"
   ]
  },
  {
   "cell_type": "code",
   "execution_count": 4,
   "metadata": {},
   "outputs": [
    {
     "data": {
      "text/plain": [
       "1165"
      ]
     },
     "execution_count": 4,
     "metadata": {},
     "output_type": "execute_result"
    }
   ],
   "source": [
    "len(experiment_table)"
   ]
  },
  {
   "cell_type": "markdown",
   "metadata": {},
   "source": [
    "## get all of the corresponding entries in the LIMS `cell_rois` table"
   ]
  },
  {
   "cell_type": "code",
   "execution_count": 5,
   "metadata": {},
   "outputs": [],
   "source": [
    "oeids = experiment_table['ophys_experiment_id'].unique()\n",
    "query = 'select * from cell_rois where ophys_experiment_id in {}'.format(tuple(oeids))\n",
    "lims_rois = db.lims_query(query)"
   ]
  },
  {
   "cell_type": "markdown",
   "metadata": {},
   "source": [
    "## get the number of valid ROIs as those with non-null `cell_specimen_id` and `valid_roi == True`"
   ]
  },
  {
   "cell_type": "code",
   "execution_count": 6,
   "metadata": {},
   "outputs": [
    {
     "name": "stdout",
     "output_type": "stream",
     "text": [
      "there are 92209 valid ROIS across 1165 experiments\n"
     ]
    }
   ],
   "source": [
    "valid_rois = lims_rois[pd.notnull(lims_rois['cell_specimen_id'])].query('valid_roi').copy()\n",
    "print('there are {} valid ROIS across {} experiments'.format(len(valid_rois), len(valid_rois['ophys_experiment_id'].unique())))"
   ]
  },
  {
   "cell_type": "markdown",
   "metadata": {},
   "source": [
    "## get the number of unique `cell_specimen_id` values"
   ]
  },
  {
   "cell_type": "code",
   "execution_count": 7,
   "metadata": {},
   "outputs": [
    {
     "data": {
      "text/plain": [
       "34681"
      ]
     },
     "execution_count": 7,
     "metadata": {},
     "output_type": "execute_result"
    }
   ],
   "source": [
    "len(valid_rois['cell_specimen_id'].unique())"
   ]
  },
  {
   "cell_type": "markdown",
   "metadata": {},
   "source": [
    "## merge in the experiment table to get identifying info about the experiment for each valid ROI\n",
    "check that the length is the same before and after the merge"
   ]
  },
  {
   "cell_type": "code",
   "execution_count": 8,
   "metadata": {},
   "outputs": [
    {
     "name": "stdout",
     "output_type": "stream",
     "text": [
      "len(valid_rois) before merge = 92209\n",
      "len(valid_rois) after merge = 92209\n"
     ]
    }
   ],
   "source": [
    "print('len(valid_rois) before merge = {}'.format(len(valid_rois)))\n",
    "valid_rois = valid_rois.merge(\n",
    "    experiment_table,\n",
    "    left_on = ['ophys_experiment_id'],\n",
    "    right_on = ['ophys_experiment_id'],\n",
    ")\n",
    "print('len(valid_rois) after merge = {}'.format(len(valid_rois)))"
   ]
  },
  {
   "cell_type": "markdown",
   "metadata": {},
   "source": [
    "## add a column with the transgenic line"
   ]
  },
  {
   "cell_type": "code",
   "execution_count": 9,
   "metadata": {},
   "outputs": [],
   "source": [
    "def make_transgenic_line(row):\n",
    "    return row['cre_line'] + ';' + row['reporter_line'].split('(')[0]\n",
    "valid_rois['transgenic_line'] = valid_rois.apply(make_transgenic_line, axis=1)"
   ]
  },
  {
   "cell_type": "markdown",
   "metadata": {},
   "source": [
    "## Now get counts for various attributes, grouped by project code and transgenic line"
   ]
  },
  {
   "cell_type": "code",
   "execution_count": 10,
   "metadata": {},
   "outputs": [],
   "source": [
    "mouse_count = pd.DataFrame(\n",
    "    valid_rois.groupby(['project_code', 'transgenic_line'])['mouse_id'].nunique()\n",
    ").rename(columns = {'mouse_id': 'number of mice'})"
   ]
  },
  {
   "cell_type": "code",
   "execution_count": 11,
   "metadata": {},
   "outputs": [],
   "source": [
    "session_count = pd.DataFrame(\n",
    "    valid_rois.groupby(['project_code', 'transgenic_line'])['ophys_session_id'].nunique()\n",
    ").rename(columns = {'ophys_session_id': 'number of sessions'})"
   ]
  },
  {
   "cell_type": "code",
   "execution_count": 12,
   "metadata": {},
   "outputs": [],
   "source": [
    "experiment_count = pd.DataFrame(\n",
    "    valid_rois.groupby(['project_code', 'transgenic_line'])['ophys_experiment_id'].nunique()\n",
    ").rename(columns = {'ophys_experiment_id': 'number of experiments'})"
   ]
  },
  {
   "cell_type": "code",
   "execution_count": 13,
   "metadata": {},
   "outputs": [],
   "source": [
    "roi_count = pd.DataFrame(\n",
    "    valid_rois.groupby(['project_code', 'transgenic_line'])['id'].nunique()\n",
    ").rename(columns = {'id': 'number of ROIs'})"
   ]
  },
  {
   "cell_type": "code",
   "execution_count": 14,
   "metadata": {},
   "outputs": [],
   "source": [
    "cell_specimen_count = pd.DataFrame(\n",
    "    valid_rois.groupby(['project_code', 'transgenic_line'])['cell_specimen_id'].nunique()\n",
    ").rename(columns = {'cell_specimen_id': 'number of cells'})"
   ]
  },
  {
   "cell_type": "markdown",
   "metadata": {},
   "source": [
    "## build a combined table"
   ]
  },
  {
   "cell_type": "code",
   "execution_count": 15,
   "metadata": {},
   "outputs": [],
   "source": [
    "combined_table = mouse_count.merge(\n",
    "    session_count,\n",
    "    left_on = ['project_code','transgenic_line'],\n",
    "    right_on = ['project_code','transgenic_line'],\n",
    ").merge(\n",
    "    experiment_count,\n",
    "    left_on = ['project_code','transgenic_line'],\n",
    "    right_on = ['project_code','transgenic_line'],\n",
    ").merge(\n",
    "    roi_count,\n",
    "    left_on = ['project_code','transgenic_line'],\n",
    "    right_on = ['project_code','transgenic_line'],\n",
    ").merge(\n",
    "    cell_specimen_count,\n",
    "    left_on = ['project_code','transgenic_line'],\n",
    "    right_on = ['project_code','transgenic_line'],\n",
    ")"
   ]
  },
  {
   "cell_type": "markdown",
   "metadata": {},
   "source": [
    "## get the totals of each column"
   ]
  },
  {
   "cell_type": "code",
   "execution_count": 16,
   "metadata": {},
   "outputs": [],
   "source": [
    "totals = combined_table.sum()\n",
    "totals = pd.DataFrame(\n",
    "    {key:value for key, value in zip(totals.index, totals.values)},\n",
    "    index = ['Total']\n",
    ")\n",
    "totals.index.name = 'project_code'\n",
    "totals['transgenic_line'] = ''\n",
    "totals = totals.reset_index().set_index(['project_code','transgenic_line'])"
   ]
  },
  {
   "cell_type": "markdown",
   "metadata": {},
   "source": [
    "## display the final table"
   ]
  },
  {
   "cell_type": "code",
   "execution_count": 23,
   "metadata": {},
   "outputs": [
    {
     "data": {
      "text/html": [
       "<div>\n",
       "<style scoped>\n",
       "    .dataframe tbody tr th:only-of-type {\n",
       "        vertical-align: middle;\n",
       "    }\n",
       "\n",
       "    .dataframe tbody tr th {\n",
       "        vertical-align: top;\n",
       "    }\n",
       "\n",
       "    .dataframe thead th {\n",
       "        text-align: right;\n",
       "    }\n",
       "</style>\n",
       "<table border=\"1\" class=\"dataframe\">\n",
       "  <thead>\n",
       "    <tr style=\"text-align: right;\">\n",
       "      <th></th>\n",
       "      <th></th>\n",
       "      <th>number of mice</th>\n",
       "      <th>number of sessions</th>\n",
       "      <th>number of experiments</th>\n",
       "      <th>number of ROIs</th>\n",
       "      <th>number of cells</th>\n",
       "    </tr>\n",
       "    <tr>\n",
       "      <th>project_code</th>\n",
       "      <th>transgenic_line</th>\n",
       "      <th></th>\n",
       "      <th></th>\n",
       "      <th></th>\n",
       "      <th></th>\n",
       "      <th></th>\n",
       "    </tr>\n",
       "  </thead>\n",
       "  <tbody>\n",
       "    <tr>\n",
       "      <th rowspan=\"4\" valign=\"top\">VisualBehavior</th>\n",
       "      <th>Slc17a7-IRES2-Cre;Ai93</th>\n",
       "      <td>17</td>\n",
       "      <td>103</td>\n",
       "      <td>103</td>\n",
       "      <td>15588</td>\n",
       "      <td>5921</td>\n",
       "    </tr>\n",
       "    <tr>\n",
       "      <th>Slc17a7-IRES2-Cre;Ai94</th>\n",
       "      <td>7</td>\n",
       "      <td>50</td>\n",
       "      <td>50</td>\n",
       "      <td>24340</td>\n",
       "      <td>9742</td>\n",
       "    </tr>\n",
       "    <tr>\n",
       "      <th>Sst-IRES-Cre;Ai148</th>\n",
       "      <td>4</td>\n",
       "      <td>26</td>\n",
       "      <td>26</td>\n",
       "      <td>327</td>\n",
       "      <td>84</td>\n",
       "    </tr>\n",
       "    <tr>\n",
       "      <th>Vip-IRES-Cre;Ai148</th>\n",
       "      <td>7</td>\n",
       "      <td>46</td>\n",
       "      <td>46</td>\n",
       "      <td>1176</td>\n",
       "      <td>379</td>\n",
       "    </tr>\n",
       "    <tr>\n",
       "      <th rowspan=\"3\" valign=\"top\">VisualBehaviorMultiscope</th>\n",
       "      <th>Slc17a7-IRES2-Cre;Ai93</th>\n",
       "      <td>6</td>\n",
       "      <td>43</td>\n",
       "      <td>265</td>\n",
       "      <td>26813</td>\n",
       "      <td>10459</td>\n",
       "    </tr>\n",
       "    <tr>\n",
       "      <th>Sst-IRES-Cre;Ai148</th>\n",
       "      <td>4</td>\n",
       "      <td>30</td>\n",
       "      <td>149</td>\n",
       "      <td>1788</td>\n",
       "      <td>560</td>\n",
       "    </tr>\n",
       "    <tr>\n",
       "      <th>Vip-IRES-Cre;Ai148</th>\n",
       "      <td>9</td>\n",
       "      <td>60</td>\n",
       "      <td>333</td>\n",
       "      <td>5353</td>\n",
       "      <td>1834</td>\n",
       "    </tr>\n",
       "    <tr>\n",
       "      <th rowspan=\"4\" valign=\"top\">VisualBehaviorTask1B</th>\n",
       "      <th>Slc17a7-IRES2-Cre;Ai93</th>\n",
       "      <td>14</td>\n",
       "      <td>95</td>\n",
       "      <td>95</td>\n",
       "      <td>13938</td>\n",
       "      <td>4718</td>\n",
       "    </tr>\n",
       "    <tr>\n",
       "      <th>Slc17a7-IRES2-Cre;Ai94</th>\n",
       "      <td>1</td>\n",
       "      <td>6</td>\n",
       "      <td>6</td>\n",
       "      <td>1593</td>\n",
       "      <td>653</td>\n",
       "    </tr>\n",
       "    <tr>\n",
       "      <th>Sst-IRES-Cre;Ai148</th>\n",
       "      <td>7</td>\n",
       "      <td>50</td>\n",
       "      <td>50</td>\n",
       "      <td>577</td>\n",
       "      <td>142</td>\n",
       "    </tr>\n",
       "    <tr>\n",
       "      <th>Vip-IRES-Cre;Ai148</th>\n",
       "      <td>6</td>\n",
       "      <td>42</td>\n",
       "      <td>42</td>\n",
       "      <td>716</td>\n",
       "      <td>189</td>\n",
       "    </tr>\n",
       "    <tr>\n",
       "      <th>Total</th>\n",
       "      <th></th>\n",
       "      <td>82</td>\n",
       "      <td>551</td>\n",
       "      <td>1165</td>\n",
       "      <td>92209</td>\n",
       "      <td>34681</td>\n",
       "    </tr>\n",
       "  </tbody>\n",
       "</table>\n",
       "</div>"
      ],
      "text/plain": [
       "                                                 number of mice  \\\n",
       "project_code             transgenic_line                          \n",
       "VisualBehavior           Slc17a7-IRES2-Cre;Ai93              17   \n",
       "                         Slc17a7-IRES2-Cre;Ai94               7   \n",
       "                         Sst-IRES-Cre;Ai148                   4   \n",
       "                         Vip-IRES-Cre;Ai148                   7   \n",
       "VisualBehaviorMultiscope Slc17a7-IRES2-Cre;Ai93               6   \n",
       "                         Sst-IRES-Cre;Ai148                   4   \n",
       "                         Vip-IRES-Cre;Ai148                   9   \n",
       "VisualBehaviorTask1B     Slc17a7-IRES2-Cre;Ai93              14   \n",
       "                         Slc17a7-IRES2-Cre;Ai94               1   \n",
       "                         Sst-IRES-Cre;Ai148                   7   \n",
       "                         Vip-IRES-Cre;Ai148                   6   \n",
       "Total                                                        82   \n",
       "\n",
       "                                                 number of sessions  \\\n",
       "project_code             transgenic_line                              \n",
       "VisualBehavior           Slc17a7-IRES2-Cre;Ai93                 103   \n",
       "                         Slc17a7-IRES2-Cre;Ai94                  50   \n",
       "                         Sst-IRES-Cre;Ai148                      26   \n",
       "                         Vip-IRES-Cre;Ai148                      46   \n",
       "VisualBehaviorMultiscope Slc17a7-IRES2-Cre;Ai93                  43   \n",
       "                         Sst-IRES-Cre;Ai148                      30   \n",
       "                         Vip-IRES-Cre;Ai148                      60   \n",
       "VisualBehaviorTask1B     Slc17a7-IRES2-Cre;Ai93                  95   \n",
       "                         Slc17a7-IRES2-Cre;Ai94                   6   \n",
       "                         Sst-IRES-Cre;Ai148                      50   \n",
       "                         Vip-IRES-Cre;Ai148                      42   \n",
       "Total                                                           551   \n",
       "\n",
       "                                                 number of experiments  \\\n",
       "project_code             transgenic_line                                 \n",
       "VisualBehavior           Slc17a7-IRES2-Cre;Ai93                    103   \n",
       "                         Slc17a7-IRES2-Cre;Ai94                     50   \n",
       "                         Sst-IRES-Cre;Ai148                         26   \n",
       "                         Vip-IRES-Cre;Ai148                         46   \n",
       "VisualBehaviorMultiscope Slc17a7-IRES2-Cre;Ai93                    265   \n",
       "                         Sst-IRES-Cre;Ai148                        149   \n",
       "                         Vip-IRES-Cre;Ai148                        333   \n",
       "VisualBehaviorTask1B     Slc17a7-IRES2-Cre;Ai93                     95   \n",
       "                         Slc17a7-IRES2-Cre;Ai94                      6   \n",
       "                         Sst-IRES-Cre;Ai148                         50   \n",
       "                         Vip-IRES-Cre;Ai148                         42   \n",
       "Total                                                             1165   \n",
       "\n",
       "                                                 number of ROIs  \\\n",
       "project_code             transgenic_line                          \n",
       "VisualBehavior           Slc17a7-IRES2-Cre;Ai93           15588   \n",
       "                         Slc17a7-IRES2-Cre;Ai94           24340   \n",
       "                         Sst-IRES-Cre;Ai148                 327   \n",
       "                         Vip-IRES-Cre;Ai148                1176   \n",
       "VisualBehaviorMultiscope Slc17a7-IRES2-Cre;Ai93           26813   \n",
       "                         Sst-IRES-Cre;Ai148                1788   \n",
       "                         Vip-IRES-Cre;Ai148                5353   \n",
       "VisualBehaviorTask1B     Slc17a7-IRES2-Cre;Ai93           13938   \n",
       "                         Slc17a7-IRES2-Cre;Ai94            1593   \n",
       "                         Sst-IRES-Cre;Ai148                 577   \n",
       "                         Vip-IRES-Cre;Ai148                 716   \n",
       "Total                                                     92209   \n",
       "\n",
       "                                                 number of cells  \n",
       "project_code             transgenic_line                          \n",
       "VisualBehavior           Slc17a7-IRES2-Cre;Ai93             5921  \n",
       "                         Slc17a7-IRES2-Cre;Ai94             9742  \n",
       "                         Sst-IRES-Cre;Ai148                   84  \n",
       "                         Vip-IRES-Cre;Ai148                  379  \n",
       "VisualBehaviorMultiscope Slc17a7-IRES2-Cre;Ai93            10459  \n",
       "                         Sst-IRES-Cre;Ai148                  560  \n",
       "                         Vip-IRES-Cre;Ai148                 1834  \n",
       "VisualBehaviorTask1B     Slc17a7-IRES2-Cre;Ai93             4718  \n",
       "                         Slc17a7-IRES2-Cre;Ai94              653  \n",
       "                         Sst-IRES-Cre;Ai148                  142  \n",
       "                         Vip-IRES-Cre;Ai148                  189  \n",
       "Total                                                      34681  "
      ]
     },
     "execution_count": 23,
     "metadata": {},
     "output_type": "execute_result"
    }
   ],
   "source": [
    "final_table = pd.concat((combined_table, totals))\n",
    "final_table"
   ]
  },
  {
   "cell_type": "code",
   "execution_count": null,
   "metadata": {},
   "outputs": [],
   "source": []
  }
 ],
 "metadata": {
  "kernelspec": {
   "display_name": "vba",
   "language": "python",
   "name": "vba"
  },
  "language_info": {
   "codemirror_mode": {
    "name": "ipython",
    "version": 3
   },
   "file_extension": ".py",
   "mimetype": "text/x-python",
   "name": "python",
   "nbconvert_exporter": "python",
   "pygments_lexer": "ipython3",
   "version": "3.8.8"
  }
 },
 "nbformat": 4,
 "nbformat_minor": 4
}
