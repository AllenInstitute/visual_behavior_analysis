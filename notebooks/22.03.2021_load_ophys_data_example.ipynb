{
 "cells": [
  {
   "cell_type": "code",
   "execution_count": 1,
   "metadata": {},
   "outputs": [],
   "source": [
    "import os\n",
    "import numpy as np\n",
    "import pandas as pd\n",
    "import matplotlib.pyplot as plt\n",
    "import seaborn as sns\n",
    "sns.set_context('notebook', font_scale=1.5, rc={'lines.markeredgewidth': 2})"
   ]
  },
  {
   "cell_type": "code",
   "execution_count": 2,
   "metadata": {},
   "outputs": [],
   "source": [
    "%load_ext autoreload\n",
    "%autoreload 2\n",
    "%matplotlib inline"
   ]
  },
  {
   "cell_type": "code",
   "execution_count": 3,
   "metadata": {},
   "outputs": [
    {
     "data": {
      "text/plain": [
       "'2.10.0'"
      ]
     },
     "execution_count": 3,
     "metadata": {},
     "output_type": "execute_result"
    }
   ],
   "source": [
    "# confirm that you are currently using the newest version of SDK (2.10.0 for now)\n",
    "import allensdk\n",
    "allensdk.__version__"
   ]
  },
  {
   "cell_type": "code",
   "execution_count": 4,
   "metadata": {},
   "outputs": [],
   "source": [
    "# import behavior projet cache class from SDK to be able to load the data\n",
    "import allensdk.brain_observatory.behavior.behavior_project_cache as bpc"
   ]
  },
  {
   "cell_type": "markdown",
   "metadata": {},
   "source": [
    "### Load data tables "
   ]
  },
  {
   "cell_type": "markdown",
   "metadata": {},
   "source": [
    "This code block allows you to use behavior project cache (bpc) class to get behavior and ophys tables."
   ]
  },
  {
   "cell_type": "code",
   "execution_count": 5,
   "metadata": {
    "scrolled": false
   },
   "outputs": [
    {
     "name": "stdout",
     "output_type": "stream",
     "text": [
      "Number of behavior sessions = 3572\n",
      "Number of ophys sessions = 551\n",
      "Number of ophys experiments = 1165\n",
      "Number of behavior sessions with Mesoscope = 133\n",
      "Number of ophys sessions with Mesoscope = 133\n",
      "Number of ophys experiments with Mesoscope = 747\n"
     ]
    }
   ],
   "source": [
    "\n",
    "my_cache_dir = \"/home/iryna.yavorska/tmp\"\n",
    "bc = bpc.VisualBehaviorOphysProjectCache.from_s3_cache(cache_dir=my_cache_dir)\n",
    "\n",
    "# the production bucket is set as default:\n",
    "# bucket_name=\"visual_behavior_ophys_data\"\n",
    "# project_name=\"visual-behavior-ophys\"\n",
    "\n",
    "behavior_session_table = bc.get_behavior_session_table()  \n",
    "session_table = bc.get_session_table()   \n",
    "experiment_table = bc.get_experiment_table()                         \n",
    "\n",
    "#print number of items in each table for all imaging and behavioral sessions\n",
    "print('Number of behavior sessions = {}'.format(len(behavior_session_table)))\n",
    "print('Number of ophys sessions = {}'.format(len(session_table)))\n",
    "print('Number of ophys experiments = {}'.format(len(experiment_table)))\n",
    "\n",
    "\n",
    "#print number of items in each table with Mesoscope imaging\n",
    "print('Number of behavior sessions with Mesoscope = {}'.format(len(behavior_session_table[behavior_session_table.project_code.isin(['VisualBehaviorMultiscope'])])))\n",
    "print('Number of ophys sessions with Mesoscope = {}'.format(len(session_table[session_table.project_code.isin(['VisualBehaviorMultiscope'])])))\n",
    "print('Number of ophys experiments with Mesoscope = {}'.format(len(experiment_table[experiment_table.project_code.isin(['VisualBehaviorMultiscope'])])))\n",
    "\n"
   ]
  },
  {
   "cell_type": "markdown",
   "metadata": {},
   "source": [
    "Let's see expriment table and pick one to look at"
   ]
  },
  {
   "cell_type": "code",
   "execution_count": 6,
   "metadata": {
    "scrolled": false
   },
   "outputs": [
    {
     "data": {
      "text/html": [
       "<div>\n",
       "<style scoped>\n",
       "    .dataframe tbody tr th:only-of-type {\n",
       "        vertical-align: middle;\n",
       "    }\n",
       "\n",
       "    .dataframe tbody tr th {\n",
       "        vertical-align: top;\n",
       "    }\n",
       "\n",
       "    .dataframe thead th {\n",
       "        text-align: right;\n",
       "    }\n",
       "</style>\n",
       "<table border=\"1\" class=\"dataframe\">\n",
       "  <thead>\n",
       "    <tr style=\"text-align: right;\">\n",
       "      <th></th>\n",
       "      <th>equipment_name</th>\n",
       "      <th>full_genotype</th>\n",
       "      <th>mouse_id</th>\n",
       "      <th>reporter_line</th>\n",
       "      <th>driver_line</th>\n",
       "      <th>sex</th>\n",
       "      <th>age_in_days</th>\n",
       "      <th>session_type</th>\n",
       "      <th>cre_line</th>\n",
       "      <th>indicator</th>\n",
       "      <th>...</th>\n",
       "      <th>prior_exposures_to_image_set</th>\n",
       "      <th>prior_exposures_to_omissions</th>\n",
       "      <th>ophys_session_id</th>\n",
       "      <th>behavior_session_id</th>\n",
       "      <th>ophys_container_id</th>\n",
       "      <th>project_code</th>\n",
       "      <th>imaging_depth</th>\n",
       "      <th>targeted_structure</th>\n",
       "      <th>date_of_acquisition</th>\n",
       "      <th>file_id</th>\n",
       "    </tr>\n",
       "    <tr>\n",
       "      <th>ophys_experiment_id</th>\n",
       "      <th></th>\n",
       "      <th></th>\n",
       "      <th></th>\n",
       "      <th></th>\n",
       "      <th></th>\n",
       "      <th></th>\n",
       "      <th></th>\n",
       "      <th></th>\n",
       "      <th></th>\n",
       "      <th></th>\n",
       "      <th></th>\n",
       "      <th></th>\n",
       "      <th></th>\n",
       "      <th></th>\n",
       "      <th></th>\n",
       "      <th></th>\n",
       "      <th></th>\n",
       "      <th></th>\n",
       "      <th></th>\n",
       "      <th></th>\n",
       "      <th></th>\n",
       "    </tr>\n",
       "  </thead>\n",
       "  <tbody>\n",
       "    <tr>\n",
       "      <th>951980471</th>\n",
       "      <td>MESO.1</td>\n",
       "      <td>Sst-IRES-Cre/wt;Ai148(TIT2L-GC6f-ICL-tTA2)/wt</td>\n",
       "      <td>457841</td>\n",
       "      <td>Ai148(TIT2L-GC6f-ICL-tTA2)</td>\n",
       "      <td>[Sst-IRES-Cre]</td>\n",
       "      <td>F</td>\n",
       "      <td>206.0</td>\n",
       "      <td>OPHYS_1_images_A</td>\n",
       "      <td>Sst-IRES-Cre</td>\n",
       "      <td>GCaMP6f</td>\n",
       "      <td>...</td>\n",
       "      <td>3.0</td>\n",
       "      <td>0</td>\n",
       "      <td>951410079</td>\n",
       "      <td>951520319</td>\n",
       "      <td>1018028342</td>\n",
       "      <td>VisualBehaviorMultiscope</td>\n",
       "      <td>150</td>\n",
       "      <td>VISp</td>\n",
       "      <td>2019-09-20 09:45:29.897856</td>\n",
       "      <td>1085394308</td>\n",
       "    </tr>\n",
       "    <tr>\n",
       "      <th>951980484</th>\n",
       "      <td>MESO.1</td>\n",
       "      <td>Sst-IRES-Cre/wt;Ai148(TIT2L-GC6f-ICL-tTA2)/wt</td>\n",
       "      <td>457841</td>\n",
       "      <td>Ai148(TIT2L-GC6f-ICL-tTA2)</td>\n",
       "      <td>[Sst-IRES-Cre]</td>\n",
       "      <td>F</td>\n",
       "      <td>206.0</td>\n",
       "      <td>OPHYS_1_images_A</td>\n",
       "      <td>Sst-IRES-Cre</td>\n",
       "      <td>GCaMP6f</td>\n",
       "      <td>...</td>\n",
       "      <td>3.0</td>\n",
       "      <td>0</td>\n",
       "      <td>951410079</td>\n",
       "      <td>951520319</td>\n",
       "      <td>1018028351</td>\n",
       "      <td>VisualBehaviorMultiscope</td>\n",
       "      <td>75</td>\n",
       "      <td>VISl</td>\n",
       "      <td>2019-09-20 09:45:29.897856</td>\n",
       "      <td>1085400876</td>\n",
       "    </tr>\n",
       "    <tr>\n",
       "      <th>951980473</th>\n",
       "      <td>MESO.1</td>\n",
       "      <td>Sst-IRES-Cre/wt;Ai148(TIT2L-GC6f-ICL-tTA2)/wt</td>\n",
       "      <td>457841</td>\n",
       "      <td>Ai148(TIT2L-GC6f-ICL-tTA2)</td>\n",
       "      <td>[Sst-IRES-Cre]</td>\n",
       "      <td>F</td>\n",
       "      <td>206.0</td>\n",
       "      <td>OPHYS_1_images_A</td>\n",
       "      <td>Sst-IRES-Cre</td>\n",
       "      <td>GCaMP6f</td>\n",
       "      <td>...</td>\n",
       "      <td>3.0</td>\n",
       "      <td>0</td>\n",
       "      <td>951410079</td>\n",
       "      <td>951520319</td>\n",
       "      <td>1018028345</td>\n",
       "      <td>VisualBehaviorMultiscope</td>\n",
       "      <td>225</td>\n",
       "      <td>VISp</td>\n",
       "      <td>2019-09-20 09:45:29.897856</td>\n",
       "      <td>1085400919</td>\n",
       "    </tr>\n",
       "    <tr>\n",
       "      <th>951980479</th>\n",
       "      <td>MESO.1</td>\n",
       "      <td>Sst-IRES-Cre/wt;Ai148(TIT2L-GC6f-ICL-tTA2)/wt</td>\n",
       "      <td>457841</td>\n",
       "      <td>Ai148(TIT2L-GC6f-ICL-tTA2)</td>\n",
       "      <td>[Sst-IRES-Cre]</td>\n",
       "      <td>F</td>\n",
       "      <td>206.0</td>\n",
       "      <td>OPHYS_1_images_A</td>\n",
       "      <td>Sst-IRES-Cre</td>\n",
       "      <td>GCaMP6f</td>\n",
       "      <td>...</td>\n",
       "      <td>3.0</td>\n",
       "      <td>0</td>\n",
       "      <td>951410079</td>\n",
       "      <td>951520319</td>\n",
       "      <td>1018028354</td>\n",
       "      <td>VisualBehaviorMultiscope</td>\n",
       "      <td>150</td>\n",
       "      <td>VISl</td>\n",
       "      <td>2019-09-20 09:45:29.897856</td>\n",
       "      <td>1085400977</td>\n",
       "    </tr>\n",
       "    <tr>\n",
       "      <th>951980475</th>\n",
       "      <td>MESO.1</td>\n",
       "      <td>Sst-IRES-Cre/wt;Ai148(TIT2L-GC6f-ICL-tTA2)/wt</td>\n",
       "      <td>457841</td>\n",
       "      <td>Ai148(TIT2L-GC6f-ICL-tTA2)</td>\n",
       "      <td>[Sst-IRES-Cre]</td>\n",
       "      <td>F</td>\n",
       "      <td>206.0</td>\n",
       "      <td>OPHYS_1_images_A</td>\n",
       "      <td>Sst-IRES-Cre</td>\n",
       "      <td>GCaMP6f</td>\n",
       "      <td>...</td>\n",
       "      <td>3.0</td>\n",
       "      <td>0</td>\n",
       "      <td>951410079</td>\n",
       "      <td>951520319</td>\n",
       "      <td>1018028339</td>\n",
       "      <td>VisualBehaviorMultiscope</td>\n",
       "      <td>75</td>\n",
       "      <td>VISp</td>\n",
       "      <td>2019-09-20 09:45:29.897856</td>\n",
       "      <td>1085400920</td>\n",
       "    </tr>\n",
       "  </tbody>\n",
       "</table>\n",
       "<p>5 rows × 22 columns</p>\n",
       "</div>"
      ],
      "text/plain": [
       "                    equipment_name  \\\n",
       "ophys_experiment_id                  \n",
       "951980471                   MESO.1   \n",
       "951980484                   MESO.1   \n",
       "951980473                   MESO.1   \n",
       "951980479                   MESO.1   \n",
       "951980475                   MESO.1   \n",
       "\n",
       "                                                     full_genotype  mouse_id  \\\n",
       "ophys_experiment_id                                                            \n",
       "951980471            Sst-IRES-Cre/wt;Ai148(TIT2L-GC6f-ICL-tTA2)/wt    457841   \n",
       "951980484            Sst-IRES-Cre/wt;Ai148(TIT2L-GC6f-ICL-tTA2)/wt    457841   \n",
       "951980473            Sst-IRES-Cre/wt;Ai148(TIT2L-GC6f-ICL-tTA2)/wt    457841   \n",
       "951980479            Sst-IRES-Cre/wt;Ai148(TIT2L-GC6f-ICL-tTA2)/wt    457841   \n",
       "951980475            Sst-IRES-Cre/wt;Ai148(TIT2L-GC6f-ICL-tTA2)/wt    457841   \n",
       "\n",
       "                                  reporter_line     driver_line sex  \\\n",
       "ophys_experiment_id                                                   \n",
       "951980471            Ai148(TIT2L-GC6f-ICL-tTA2)  [Sst-IRES-Cre]   F   \n",
       "951980484            Ai148(TIT2L-GC6f-ICL-tTA2)  [Sst-IRES-Cre]   F   \n",
       "951980473            Ai148(TIT2L-GC6f-ICL-tTA2)  [Sst-IRES-Cre]   F   \n",
       "951980479            Ai148(TIT2L-GC6f-ICL-tTA2)  [Sst-IRES-Cre]   F   \n",
       "951980475            Ai148(TIT2L-GC6f-ICL-tTA2)  [Sst-IRES-Cre]   F   \n",
       "\n",
       "                     age_in_days      session_type      cre_line indicator  \\\n",
       "ophys_experiment_id                                                          \n",
       "951980471                  206.0  OPHYS_1_images_A  Sst-IRES-Cre   GCaMP6f   \n",
       "951980484                  206.0  OPHYS_1_images_A  Sst-IRES-Cre   GCaMP6f   \n",
       "951980473                  206.0  OPHYS_1_images_A  Sst-IRES-Cre   GCaMP6f   \n",
       "951980479                  206.0  OPHYS_1_images_A  Sst-IRES-Cre   GCaMP6f   \n",
       "951980475                  206.0  OPHYS_1_images_A  Sst-IRES-Cre   GCaMP6f   \n",
       "\n",
       "                     ...  prior_exposures_to_image_set  \\\n",
       "ophys_experiment_id  ...                                 \n",
       "951980471            ...                           3.0   \n",
       "951980484            ...                           3.0   \n",
       "951980473            ...                           3.0   \n",
       "951980479            ...                           3.0   \n",
       "951980475            ...                           3.0   \n",
       "\n",
       "                     prior_exposures_to_omissions  ophys_session_id  \\\n",
       "ophys_experiment_id                                                   \n",
       "951980471                                       0         951410079   \n",
       "951980484                                       0         951410079   \n",
       "951980473                                       0         951410079   \n",
       "951980479                                       0         951410079   \n",
       "951980475                                       0         951410079   \n",
       "\n",
       "                     behavior_session_id  ophys_container_id  \\\n",
       "ophys_experiment_id                                            \n",
       "951980471                      951520319          1018028342   \n",
       "951980484                      951520319          1018028351   \n",
       "951980473                      951520319          1018028345   \n",
       "951980479                      951520319          1018028354   \n",
       "951980475                      951520319          1018028339   \n",
       "\n",
       "                                 project_code  imaging_depth  \\\n",
       "ophys_experiment_id                                            \n",
       "951980471            VisualBehaviorMultiscope            150   \n",
       "951980484            VisualBehaviorMultiscope             75   \n",
       "951980473            VisualBehaviorMultiscope            225   \n",
       "951980479            VisualBehaviorMultiscope            150   \n",
       "951980475            VisualBehaviorMultiscope             75   \n",
       "\n",
       "                    targeted_structure         date_of_acquisition     file_id  \n",
       "ophys_experiment_id                                                             \n",
       "951980471                         VISp  2019-09-20 09:45:29.897856  1085394308  \n",
       "951980484                         VISl  2019-09-20 09:45:29.897856  1085400876  \n",
       "951980473                         VISp  2019-09-20 09:45:29.897856  1085400919  \n",
       "951980479                         VISl  2019-09-20 09:45:29.897856  1085400977  \n",
       "951980475                         VISp  2019-09-20 09:45:29.897856  1085400920  \n",
       "\n",
       "[5 rows x 22 columns]"
      ]
     },
     "execution_count": 6,
     "metadata": {},
     "output_type": "execute_result"
    }
   ],
   "source": [
    "experiment_table.head(5)\n"
   ]
  },
  {
   "cell_type": "markdown",
   "metadata": {},
   "source": [
    "You can also get any other experiment ids from the experiment table. You can search by any columns in the table. Here, we can select experiments from Sst mice only, novel Ophys session 4, with 0 prior exposures to the stimulus (aka not a retake). "
   ]
  },
  {
   "cell_type": "code",
   "execution_count": 7,
   "metadata": {},
   "outputs": [
    {
     "name": "stdout",
     "output_type": "stream",
     "text": [
      "Number of experiments: 27\n"
     ]
    }
   ],
   "source": [
    "# get all Sst experiments for ophys session 4\n",
    "selected_experiment_table = experiment_table[(experiment_table.cre_line=='Sst-IRES-Cre')&\n",
    "                        (experiment_table.session_number==4) &\n",
    "                        (experiment_table.prior_exposures_to_image_set==0)]\n",
    "print('Number of experiments: {}'.format(len(selected_experiment_table)))"
   ]
  },
  {
   "cell_type": "markdown",
   "metadata": {},
   "source": [
    "Note that experiment = imaging plane. Some of these experiments come from the same imaging session. Here, we can check how many unique imaging sessions are associated with experiments selected above."
   ]
  },
  {
   "cell_type": "code",
   "execution_count": 8,
   "metadata": {},
   "outputs": [
    {
     "name": "stdout",
     "output_type": "stream",
     "text": [
      "Number of unique sessions: 11\n"
     ]
    }
   ],
   "source": [
    "print('Number of unique sessions: {}'.format(len(selected_experiment_table['ophys_session_id'].unique())))"
   ]
  },
  {
   "cell_type": "markdown",
   "metadata": {},
   "source": [
    "### Load an experiment"
   ]
  },
  {
   "cell_type": "code",
   "execution_count": 9,
   "metadata": {},
   "outputs": [],
   "source": [
    "# select first experiment from the table to look at in more detail. \n",
    "# Note that python enumeration starts at 0.\n",
    "ophys_experiment_id = selected_experiment_table.index[0]\n",
    "dataset = bc.get_behavior_ophys_experiment(ophys_experiment_id)"
   ]
  },
  {
   "cell_type": "code",
   "execution_count": 10,
   "metadata": {},
   "outputs": [
    {
     "data": {
      "text/plain": [
       "{'session_type': 'OPHYS_4_images_B',\n",
       " 'behavior_session_id': 957032492,\n",
       " 'imaging_depth': 150,\n",
       " 'ophys_session_id': 957020350,\n",
       " 'stimulus_frame_rate': 60.0,\n",
       " 'ophys_experiment_id': 957759562,\n",
       " 'experiment_container_id': 1018028342,\n",
       " 'field_of_view_width': 512,\n",
       " 'equipment_name': 'MESO.1',\n",
       " 'behavior_session_uuid': UUID('40897cd4-3279-4a2d-b65d-b3f984e34e17'),\n",
       " 'field_of_view_height': 512,\n",
       " 'imaging_plane_group': 0,\n",
       " 'imaging_plane_group_count': 4,\n",
       " 'mouse_id': 457841,\n",
       " 'sex': 'F',\n",
       " 'age_in_days': 233,\n",
       " 'full_genotype': 'Sst-IRES-Cre/wt;Ai148(TIT2L-GC6f-ICL-tTA2)/wt',\n",
       " 'reporter_line': 'Ai148(TIT2L-GC6f-ICL-tTA2)',\n",
       " 'driver_line': ['Sst-IRES-Cre'],\n",
       " 'cre_line': 'Sst-IRES-Cre',\n",
       " 'date_of_acquisition': datetime.datetime(2019, 9, 27, 8, 28, 5, tzinfo=tzutc()),\n",
       " 'ophys_frame_rate': 11.0,\n",
       " 'indicator': 'GCaMP6f',\n",
       " 'targeted_structure': 'VISp',\n",
       " 'excitation_lambda': 910.0,\n",
       " 'emission_lambda': 520.0}"
      ]
     },
     "execution_count": 10,
     "metadata": {},
     "output_type": "execute_result"
    }
   ],
   "source": [
    "# Show metadata for this experiment\n",
    "dataset.metadata"
   ]
  },
  {
   "cell_type": "markdown",
   "metadata": {},
   "source": [
    "You can get information about this experiment from the metadata. Here, you can see that this experiment was in Sst Cre line, in a female mouse at 233 days old, recorded using mesoscope (this is one of 4 imaging planes), at the depth os 150 microns, in primary visual cortex (VISp). This experiment is also also from OPHYS 1 session using image set A.  "
   ]
  },
  {
   "cell_type": "code",
   "execution_count": 11,
   "metadata": {},
   "outputs": [
    {
     "data": {
      "text/html": [
       "<div>\n",
       "<style scoped>\n",
       "    .dataframe tbody tr th:only-of-type {\n",
       "        vertical-align: middle;\n",
       "    }\n",
       "\n",
       "    .dataframe tbody tr th {\n",
       "        vertical-align: top;\n",
       "    }\n",
       "\n",
       "    .dataframe thead th {\n",
       "        text-align: right;\n",
       "    }\n",
       "</style>\n",
       "<table border=\"1\" class=\"dataframe\">\n",
       "  <thead>\n",
       "    <tr style=\"text-align: right;\">\n",
       "      <th></th>\n",
       "      <th>cell_roi_id</th>\n",
       "      <th>dff</th>\n",
       "    </tr>\n",
       "    <tr>\n",
       "      <th>cell_specimen_id</th>\n",
       "      <th></th>\n",
       "      <th></th>\n",
       "    </tr>\n",
       "  </thead>\n",
       "  <tbody>\n",
       "    <tr>\n",
       "      <th>1086614149</th>\n",
       "      <td>1080740882</td>\n",
       "      <td>[0.3417784869670868, 0.1917504370212555, 0.169...</td>\n",
       "    </tr>\n",
       "    <tr>\n",
       "      <th>1086614819</th>\n",
       "      <td>1080740886</td>\n",
       "      <td>[0.0, -2.010002374649048, -1.3567286729812622,...</td>\n",
       "    </tr>\n",
       "    <tr>\n",
       "      <th>1086614512</th>\n",
       "      <td>1080740888</td>\n",
       "      <td>[0.07121878117322922, 0.10929209738969803, 0.0...</td>\n",
       "    </tr>\n",
       "    <tr>\n",
       "      <th>1086613265</th>\n",
       "      <td>1080740947</td>\n",
       "      <td>[0.3090711534023285, 0.02156120352447033, -0.0...</td>\n",
       "    </tr>\n",
       "    <tr>\n",
       "      <th>1086616398</th>\n",
       "      <td>1080740952</td>\n",
       "      <td>[0.0, 0.15438319742679596, 0.37885594367980957...</td>\n",
       "    </tr>\n",
       "    <tr>\n",
       "      <th>1086615620</th>\n",
       "      <td>1080740955</td>\n",
       "      <td>[0.15867245197296143, 0.15752384066581726, 0.2...</td>\n",
       "    </tr>\n",
       "    <tr>\n",
       "      <th>1086615201</th>\n",
       "      <td>1080740967</td>\n",
       "      <td>[0.42869994044303894, 0.23723232746124268, -0....</td>\n",
       "    </tr>\n",
       "    <tr>\n",
       "      <th>1086616101</th>\n",
       "      <td>1080741008</td>\n",
       "      <td>[0.727859377861023, 0.20604123175144196, 0.333...</td>\n",
       "    </tr>\n",
       "  </tbody>\n",
       "</table>\n",
       "</div>"
      ],
      "text/plain": [
       "                  cell_roi_id  \\\n",
       "cell_specimen_id                \n",
       "1086614149         1080740882   \n",
       "1086614819         1080740886   \n",
       "1086614512         1080740888   \n",
       "1086613265         1080740947   \n",
       "1086616398         1080740952   \n",
       "1086615620         1080740955   \n",
       "1086615201         1080740967   \n",
       "1086616101         1080741008   \n",
       "\n",
       "                                                                dff  \n",
       "cell_specimen_id                                                     \n",
       "1086614149        [0.3417784869670868, 0.1917504370212555, 0.169...  \n",
       "1086614819        [0.0, -2.010002374649048, -1.3567286729812622,...  \n",
       "1086614512        [0.07121878117322922, 0.10929209738969803, 0.0...  \n",
       "1086613265        [0.3090711534023285, 0.02156120352447033, -0.0...  \n",
       "1086616398        [0.0, 0.15438319742679596, 0.37885594367980957...  \n",
       "1086615620        [0.15867245197296143, 0.15752384066581726, 0.2...  \n",
       "1086615201        [0.42869994044303894, 0.23723232746124268, -0....  \n",
       "1086616101        [0.727859377861023, 0.20604123175144196, 0.333...  "
      ]
     },
     "execution_count": 11,
     "metadata": {},
     "output_type": "execute_result"
    }
   ],
   "source": [
    "# show first 10 dff traces for this experiment \n",
    "dataset.dff_traces.head(10)"
   ]
  },
  {
   "cell_type": "code",
   "execution_count": 12,
   "metadata": {
    "scrolled": true
   },
   "outputs": [
    {
     "data": {
      "text/html": [
       "<div>\n",
       "<style scoped>\n",
       "    .dataframe tbody tr th:only-of-type {\n",
       "        vertical-align: middle;\n",
       "    }\n",
       "\n",
       "    .dataframe tbody tr th {\n",
       "        vertical-align: top;\n",
       "    }\n",
       "\n",
       "    .dataframe thead th {\n",
       "        text-align: right;\n",
       "    }\n",
       "</style>\n",
       "<table border=\"1\" class=\"dataframe\">\n",
       "  <thead>\n",
       "    <tr style=\"text-align: right;\">\n",
       "      <th></th>\n",
       "      <th>cell_roi_id</th>\n",
       "      <th>events</th>\n",
       "      <th>filtered_events</th>\n",
       "      <th>lambda</th>\n",
       "      <th>noise_std</th>\n",
       "    </tr>\n",
       "    <tr>\n",
       "      <th>cell_specimen_id</th>\n",
       "      <th></th>\n",
       "      <th></th>\n",
       "      <th></th>\n",
       "      <th></th>\n",
       "      <th></th>\n",
       "    </tr>\n",
       "  </thead>\n",
       "  <tbody>\n",
       "    <tr>\n",
       "      <th>1086614149</th>\n",
       "      <td>1080740882</td>\n",
       "      <td>[0.0, 0.0, 0.0, 0.0, 0.0, 0.0, 0.0, 0.0, 0.0, ...</td>\n",
       "      <td>[0.0, 0.0, 0.0, 0.0, 0.0, 0.0, 0.0, 0.0, 0.0, ...</td>\n",
       "      <td>0.0753</td>\n",
       "      <td>0.085235</td>\n",
       "    </tr>\n",
       "    <tr>\n",
       "      <th>1086614819</th>\n",
       "      <td>1080740886</td>\n",
       "      <td>[0.0, 0.0, 0.0, 0.0, 0.0, 0.0, 0.0, 0.0, 0.0, ...</td>\n",
       "      <td>[0.0, 0.0, 0.0, 0.0, 0.0, 0.0, 0.0, 0.0, 0.0, ...</td>\n",
       "      <td>5.3130</td>\n",
       "      <td>0.714571</td>\n",
       "    </tr>\n",
       "    <tr>\n",
       "      <th>1086614512</th>\n",
       "      <td>1080740888</td>\n",
       "      <td>[0.0, 0.0, 0.0, 0.0, 0.0, 0.0, 0.0, 0.0, 0.0, ...</td>\n",
       "      <td>[0.0, 0.0, 0.0, 0.0, 0.0, 0.0, 0.0, 0.0, 0.0, ...</td>\n",
       "      <td>0.0324</td>\n",
       "      <td>0.055955</td>\n",
       "    </tr>\n",
       "    <tr>\n",
       "      <th>1086613265</th>\n",
       "      <td>1080740947</td>\n",
       "      <td>[0.0, 0.0, 0.0, 0.0, 0.0, 0.0, 0.0, 0.0, 0.0, ...</td>\n",
       "      <td>[0.0, 0.0, 0.0, 0.0, 0.0, 0.0, 0.0, 0.0, 0.0, ...</td>\n",
       "      <td>0.0272</td>\n",
       "      <td>0.051073</td>\n",
       "    </tr>\n",
       "    <tr>\n",
       "      <th>1086616398</th>\n",
       "      <td>1080740952</td>\n",
       "      <td>[0.0, 0.0, 0.0, 0.0, 0.0, 0.0, 0.0, 0.0, 0.0, ...</td>\n",
       "      <td>[0.0, 0.0, 0.0, 0.0, 0.0, 0.0, 0.0, 0.0, 0.0, ...</td>\n",
       "      <td>0.0570</td>\n",
       "      <td>0.074011</td>\n",
       "    </tr>\n",
       "    <tr>\n",
       "      <th>1086615620</th>\n",
       "      <td>1080740955</td>\n",
       "      <td>[0.0, 0.0, 0.0, 0.0, 0.0, 0.0, 0.0, 0.0, 0.0, ...</td>\n",
       "      <td>[0.0, 0.0, 0.0, 0.0, 0.0, 0.0, 0.0, 0.0, 0.0, ...</td>\n",
       "      <td>0.0769</td>\n",
       "      <td>0.086979</td>\n",
       "    </tr>\n",
       "    <tr>\n",
       "      <th>1086615201</th>\n",
       "      <td>1080740967</td>\n",
       "      <td>[0.0, 0.0, 0.0, 0.0, 0.0, 0.0, 0.0, 0.0, 0.0, ...</td>\n",
       "      <td>[0.0, 0.0, 0.0, 0.0, 0.0, 0.0, 0.0, 0.0, 0.0, ...</td>\n",
       "      <td>0.0872</td>\n",
       "      <td>0.091952</td>\n",
       "    </tr>\n",
       "    <tr>\n",
       "      <th>1086616101</th>\n",
       "      <td>1080741008</td>\n",
       "      <td>[0.0, 0.0, 0.0, 0.0, 0.0, 0.0, 0.0, 0.0, 0.0, ...</td>\n",
       "      <td>[0.0, 0.0, 0.0, 0.0, 0.0, 0.0, 0.0, 0.0, 0.0, ...</td>\n",
       "      <td>0.1596</td>\n",
       "      <td>0.123868</td>\n",
       "    </tr>\n",
       "  </tbody>\n",
       "</table>\n",
       "</div>"
      ],
      "text/plain": [
       "                  cell_roi_id  \\\n",
       "cell_specimen_id                \n",
       "1086614149         1080740882   \n",
       "1086614819         1080740886   \n",
       "1086614512         1080740888   \n",
       "1086613265         1080740947   \n",
       "1086616398         1080740952   \n",
       "1086615620         1080740955   \n",
       "1086615201         1080740967   \n",
       "1086616101         1080741008   \n",
       "\n",
       "                                                             events  \\\n",
       "cell_specimen_id                                                      \n",
       "1086614149        [0.0, 0.0, 0.0, 0.0, 0.0, 0.0, 0.0, 0.0, 0.0, ...   \n",
       "1086614819        [0.0, 0.0, 0.0, 0.0, 0.0, 0.0, 0.0, 0.0, 0.0, ...   \n",
       "1086614512        [0.0, 0.0, 0.0, 0.0, 0.0, 0.0, 0.0, 0.0, 0.0, ...   \n",
       "1086613265        [0.0, 0.0, 0.0, 0.0, 0.0, 0.0, 0.0, 0.0, 0.0, ...   \n",
       "1086616398        [0.0, 0.0, 0.0, 0.0, 0.0, 0.0, 0.0, 0.0, 0.0, ...   \n",
       "1086615620        [0.0, 0.0, 0.0, 0.0, 0.0, 0.0, 0.0, 0.0, 0.0, ...   \n",
       "1086615201        [0.0, 0.0, 0.0, 0.0, 0.0, 0.0, 0.0, 0.0, 0.0, ...   \n",
       "1086616101        [0.0, 0.0, 0.0, 0.0, 0.0, 0.0, 0.0, 0.0, 0.0, ...   \n",
       "\n",
       "                                                    filtered_events  lambda  \\\n",
       "cell_specimen_id                                                              \n",
       "1086614149        [0.0, 0.0, 0.0, 0.0, 0.0, 0.0, 0.0, 0.0, 0.0, ...  0.0753   \n",
       "1086614819        [0.0, 0.0, 0.0, 0.0, 0.0, 0.0, 0.0, 0.0, 0.0, ...  5.3130   \n",
       "1086614512        [0.0, 0.0, 0.0, 0.0, 0.0, 0.0, 0.0, 0.0, 0.0, ...  0.0324   \n",
       "1086613265        [0.0, 0.0, 0.0, 0.0, 0.0, 0.0, 0.0, 0.0, 0.0, ...  0.0272   \n",
       "1086616398        [0.0, 0.0, 0.0, 0.0, 0.0, 0.0, 0.0, 0.0, 0.0, ...  0.0570   \n",
       "1086615620        [0.0, 0.0, 0.0, 0.0, 0.0, 0.0, 0.0, 0.0, 0.0, ...  0.0769   \n",
       "1086615201        [0.0, 0.0, 0.0, 0.0, 0.0, 0.0, 0.0, 0.0, 0.0, ...  0.0872   \n",
       "1086616101        [0.0, 0.0, 0.0, 0.0, 0.0, 0.0, 0.0, 0.0, 0.0, ...  0.1596   \n",
       "\n",
       "                  noise_std  \n",
       "cell_specimen_id             \n",
       "1086614149         0.085235  \n",
       "1086614819         0.714571  \n",
       "1086614512         0.055955  \n",
       "1086613265         0.051073  \n",
       "1086616398         0.074011  \n",
       "1086615620         0.086979  \n",
       "1086615201         0.091952  \n",
       "1086616101         0.123868  "
      ]
     },
     "execution_count": 12,
     "metadata": {},
     "output_type": "execute_result"
    }
   ],
   "source": [
    "# show first 10 events traces for this experiment \n",
    "dataset.events.head(10)"
   ]
  },
  {
   "cell_type": "code",
   "execution_count": 13,
   "metadata": {
    "scrolled": true
   },
   "outputs": [
    {
     "data": {
      "text/plain": [
       "<matplotlib.image.AxesImage at 0x2242d5fd948>"
      ]
     },
     "execution_count": 13,
     "metadata": {},
     "output_type": "execute_result"
    },
    {
     "data": {
      "image/png": "[encoded data removed]",
      "text/plain": [
       "<Figure size 432x288 with 1 Axes>"
      ]
     },
     "metadata": {
      "needs_background": "light"
     },
     "output_type": "display_data"
    }
   ],
   "source": [
    "# plot max projection from this experiment\n",
    "plt.imshow(dataset.max_projection, cmap='gray')"
   ]
  },
  {
   "cell_type": "code",
   "execution_count": 14,
   "metadata": {},
   "outputs": [
    {
     "data": {
      "text/plain": [
       "(8, 48284)"
      ]
     },
     "execution_count": 14,
     "metadata": {},
     "output_type": "execute_result"
    }
   ],
   "source": [
    "# if you don't want dff in a pandas table, you can load dataset dff traces as an array\n",
    "dff_array = np.vstack(dataset.dff_traces.dff.values)\n",
    "dff_array.shape"
   ]
  },
  {
   "cell_type": "code",
   "execution_count": 15,
   "metadata": {
    "scrolled": true
   },
   "outputs": [
    {
     "data": {
      "text/plain": [
       "array([   8.72468,    8.81788,    8.91108, ..., 4509.98089, 4510.07412,\n",
       "       4510.16735])"
      ]
     },
     "execution_count": 15,
     "metadata": {},
     "output_type": "execute_result"
    }
   ],
   "source": [
    "# load ophys timestamps. The timestamps are the same for dff traces and events, in seconds\n",
    "dataset.ophys_timestamps"
   ]
  },
  {
   "cell_type": "code",
   "execution_count": 16,
   "metadata": {
    "scrolled": true
   },
   "outputs": [
    {
     "data": {
      "text/html": [
       "<div>\n",
       "<style scoped>\n",
       "    .dataframe tbody tr th:only-of-type {\n",
       "        vertical-align: middle;\n",
       "    }\n",
       "\n",
       "    .dataframe tbody tr th {\n",
       "        vertical-align: top;\n",
       "    }\n",
       "\n",
       "    .dataframe thead th {\n",
       "        text-align: right;\n",
       "    }\n",
       "</style>\n",
       "<table border=\"1\" class=\"dataframe\">\n",
       "  <thead>\n",
       "    <tr style=\"text-align: right;\">\n",
       "      <th></th>\n",
       "      <th>cell_roi_id</th>\n",
       "      <th>height</th>\n",
       "      <th>mask_image_plane</th>\n",
       "      <th>max_correction_down</th>\n",
       "      <th>max_correction_left</th>\n",
       "      <th>max_correction_right</th>\n",
       "      <th>max_correction_up</th>\n",
       "      <th>valid_roi</th>\n",
       "      <th>width</th>\n",
       "      <th>x</th>\n",
       "      <th>y</th>\n",
       "      <th>roi_mask</th>\n",
       "    </tr>\n",
       "    <tr>\n",
       "      <th>cell_specimen_id</th>\n",
       "      <th></th>\n",
       "      <th></th>\n",
       "      <th></th>\n",
       "      <th></th>\n",
       "      <th></th>\n",
       "      <th></th>\n",
       "      <th></th>\n",
       "      <th></th>\n",
       "      <th></th>\n",
       "      <th></th>\n",
       "      <th></th>\n",
       "      <th></th>\n",
       "    </tr>\n",
       "  </thead>\n",
       "  <tbody>\n",
       "    <tr>\n",
       "      <th>1086614149</th>\n",
       "      <td>1080740882</td>\n",
       "      <td>16</td>\n",
       "      <td>0</td>\n",
       "      <td>5.0</td>\n",
       "      <td>25.0</td>\n",
       "      <td>3.0</td>\n",
       "      <td>30.0</td>\n",
       "      <td>True</td>\n",
       "      <td>17</td>\n",
       "      <td>216</td>\n",
       "      <td>456</td>\n",
       "      <td>[[False, False, False, False, False, False, Fa...</td>\n",
       "    </tr>\n",
       "    <tr>\n",
       "      <th>1086614819</th>\n",
       "      <td>1080740886</td>\n",
       "      <td>22</td>\n",
       "      <td>0</td>\n",
       "      <td>5.0</td>\n",
       "      <td>25.0</td>\n",
       "      <td>3.0</td>\n",
       "      <td>30.0</td>\n",
       "      <td>True</td>\n",
       "      <td>16</td>\n",
       "      <td>443</td>\n",
       "      <td>275</td>\n",
       "      <td>[[False, False, False, False, False, False, Fa...</td>\n",
       "    </tr>\n",
       "    <tr>\n",
       "      <th>1086614512</th>\n",
       "      <td>1080740888</td>\n",
       "      <td>19</td>\n",
       "      <td>0</td>\n",
       "      <td>5.0</td>\n",
       "      <td>25.0</td>\n",
       "      <td>3.0</td>\n",
       "      <td>30.0</td>\n",
       "      <td>True</td>\n",
       "      <td>22</td>\n",
       "      <td>248</td>\n",
       "      <td>294</td>\n",
       "      <td>[[False, False, False, False, False, False, Fa...</td>\n",
       "    </tr>\n",
       "    <tr>\n",
       "      <th>1086613265</th>\n",
       "      <td>1080740947</td>\n",
       "      <td>20</td>\n",
       "      <td>0</td>\n",
       "      <td>5.0</td>\n",
       "      <td>25.0</td>\n",
       "      <td>3.0</td>\n",
       "      <td>30.0</td>\n",
       "      <td>True</td>\n",
       "      <td>21</td>\n",
       "      <td>305</td>\n",
       "      <td>183</td>\n",
       "      <td>[[False, False, False, False, False, False, Fa...</td>\n",
       "    </tr>\n",
       "    <tr>\n",
       "      <th>1086616398</th>\n",
       "      <td>1080740952</td>\n",
       "      <td>20</td>\n",
       "      <td>0</td>\n",
       "      <td>5.0</td>\n",
       "      <td>25.0</td>\n",
       "      <td>3.0</td>\n",
       "      <td>30.0</td>\n",
       "      <td>True</td>\n",
       "      <td>19</td>\n",
       "      <td>220</td>\n",
       "      <td>161</td>\n",
       "      <td>[[False, False, False, False, False, False, Fa...</td>\n",
       "    </tr>\n",
       "  </tbody>\n",
       "</table>\n",
       "</div>"
      ],
      "text/plain": [
       "                  cell_roi_id  height  mask_image_plane  max_correction_down  \\\n",
       "cell_specimen_id                                                               \n",
       "1086614149         1080740882      16                 0                  5.0   \n",
       "1086614819         1080740886      22                 0                  5.0   \n",
       "1086614512         1080740888      19                 0                  5.0   \n",
       "1086613265         1080740947      20                 0                  5.0   \n",
       "1086616398         1080740952      20                 0                  5.0   \n",
       "\n",
       "                  max_correction_left  max_correction_right  \\\n",
       "cell_specimen_id                                              \n",
       "1086614149                       25.0                   3.0   \n",
       "1086614819                       25.0                   3.0   \n",
       "1086614512                       25.0                   3.0   \n",
       "1086613265                       25.0                   3.0   \n",
       "1086616398                       25.0                   3.0   \n",
       "\n",
       "                  max_correction_up  valid_roi  width    x    y  \\\n",
       "cell_specimen_id                                                  \n",
       "1086614149                     30.0       True     17  216  456   \n",
       "1086614819                     30.0       True     16  443  275   \n",
       "1086614512                     30.0       True     22  248  294   \n",
       "1086613265                     30.0       True     21  305  183   \n",
       "1086616398                     30.0       True     19  220  161   \n",
       "\n",
       "                                                           roi_mask  \n",
       "cell_specimen_id                                                     \n",
       "1086614149        [[False, False, False, False, False, False, Fa...  \n",
       "1086614819        [[False, False, False, False, False, False, Fa...  \n",
       "1086614512        [[False, False, False, False, False, False, Fa...  \n",
       "1086613265        [[False, False, False, False, False, False, Fa...  \n",
       "1086616398        [[False, False, False, False, False, False, Fa...  "
      ]
     },
     "execution_count": 16,
     "metadata": {},
     "output_type": "execute_result"
    }
   ],
   "source": [
    "# load cell specimen table with some of cell metrics \n",
    "dataset.cell_specimen_table.head(5)"
   ]
  },
  {
   "cell_type": "markdown",
   "metadata": {},
   "source": [
    "### Pick a cell and plot the traces"
   ]
  },
  {
   "cell_type": "code",
   "execution_count": 17,
   "metadata": {},
   "outputs": [
    {
     "name": "stdout",
     "output_type": "stream",
     "text": [
      "Cell specimen id = 1086615620\n"
     ]
    }
   ],
   "source": [
    "\n",
    "cell_specimen_ids = dataset.cell_specimen_table.index.values # a list of all cell ids\n",
    "cell_specimen_id = cell_specimen_ids[5] # let's pick 6th cell\n",
    "print('Cell specimen id = {}'.format(cell_specimen_id)) # print id"
   ]
  },
  {
   "cell_type": "code",
   "execution_count": 18,
   "metadata": {},
   "outputs": [
    {
     "data": {
      "text/plain": [
       "<matplotlib.legend.Legend at 0x2242dc6cb08>"
      ]
     },
     "execution_count": 18,
     "metadata": {},
     "output_type": "execute_result"
    },
    {
     "data": {
      "image/png": "[encoded data removed]",
      "text/plain": [
       "<Figure size 1440x720 with 1 Axes>"
      ]
     },
     "metadata": {
      "needs_background": "light"
     },
     "output_type": "display_data"
    }
   ],
   "source": [
    "# plot dff and events traces overlaid from the cell selected above\n",
    "fig, ax = plt.subplots(1,1, figsize = (20,10))\n",
    "ax.plot(dataset.ophys_timestamps, dataset.dff_traces.loc[cell_specimen_id, 'dff'])\n",
    "ax.plot(dataset.ophys_timestamps, dataset.events.loc[cell_specimen_id, 'events'])\n",
    "ax.set_xlabel('time (seconds)')\n",
    "ax.set_ylabel('trace magnitude')\n",
    "ax.set_title('Cell specimen id = {}'.format(cell_specimen_id), fontsize = 20)\n",
    "ax.legend(['dff', 'events'], fontsize = 20)\n"
   ]
  },
  {
   "cell_type": "code",
   "execution_count": 19,
   "metadata": {},
   "outputs": [
    {
     "data": {
      "text/plain": [
       "Text(0.5, 1.0, 'Ophys experiment 957759562')"
      ]
     },
     "execution_count": 19,
     "metadata": {},
     "output_type": "execute_result"
    },
    {
     "data": {
      "image/png": "[encoded data removed]",
      "text/plain": [
       "<Figure size 1440x360 with 1 Axes>"
      ]
     },
     "metadata": {
      "needs_background": "light"
     },
     "output_type": "display_data"
    }
   ],
   "source": [
    "# plot mouse running speed from this experiment\n",
    "fig, ax = plt.subplots(1,1, figsize = (20,5))\n",
    "ax.plot(dataset.stimulus_timestamps, dataset.running_speed['speed'])\n",
    "ax.set_xlabel('time (seconds)')\n",
    "ax.set_ylabel('running speed (cm/s)')\n",
    "ax.set_title('Ophys experiment {}'.format(ophys_experiment_id), fontsize = 20)"
   ]
  },
  {
   "cell_type": "code",
   "execution_count": 20,
   "metadata": {},
   "outputs": [
    {
     "name": "stderr",
     "output_type": "stream",
     "text": [
      "c:\\users\\iryna.yavorska\\documents\\github\\allensdk\\allensdk\\brain_observatory\\behavior\\session_apis\\data_io\\behavior_ophys_nwb_api.py:273: SettingWithCopyWarning: \n",
      "A value is trying to be set on a copy of a slice from a DataFrame\n",
      "\n",
      "See the caveats in the documentation: http://pandas.pydata.org/pandas-docs/stable/user_guide/indexing.html#returning-a-view-versus-a-copy\n",
      "  eye_tracking_data[\"eye_area\"][likely_blinks] = np.nan\n",
      "c:\\users\\iryna.yavorska\\documents\\github\\allensdk\\allensdk\\brain_observatory\\behavior\\session_apis\\data_io\\behavior_ophys_nwb_api.py:274: SettingWithCopyWarning: \n",
      "A value is trying to be set on a copy of a slice from a DataFrame\n",
      "\n",
      "See the caveats in the documentation: http://pandas.pydata.org/pandas-docs/stable/user_guide/indexing.html#returning-a-view-versus-a-copy\n",
      "  eye_tracking_data[\"pupil_area\"][likely_blinks] = np.nan\n",
      "c:\\users\\iryna.yavorska\\documents\\github\\allensdk\\allensdk\\brain_observatory\\behavior\\session_apis\\data_io\\behavior_ophys_nwb_api.py:275: SettingWithCopyWarning: \n",
      "A value is trying to be set on a copy of a slice from a DataFrame\n",
      "\n",
      "See the caveats in the documentation: http://pandas.pydata.org/pandas-docs/stable/user_guide/indexing.html#returning-a-view-versus-a-copy\n",
      "  eye_tracking_data[\"cr_area\"][likely_blinks] = np.nan\n"
     ]
    },
    {
     "data": {
      "text/plain": [
       "Text(0.5, 1.0, 'Ophys experiment 957759562')"
      ]
     },
     "execution_count": 20,
     "metadata": {},
     "output_type": "execute_result"
    },
    {
     "data": {
      "image/png": "[encoded data removed]",
      "text/plain": [
       "<Figure size 1440x360 with 1 Axes>"
      ]
     },
     "metadata": {
      "needs_background": "light"
     },
     "output_type": "display_data"
    }
   ],
   "source": [
    "# plot pupil diameter for the same experiment\n",
    "fig, ax = plt.subplots(1,1, figsize = (20,5))\n",
    "ax.plot(dataset.eye_tracking.timestamps, dataset.eye_tracking.pupil_width)\n",
    "ax.set_xlabel('time (seconds)')\n",
    "ax.set_ylabel('pupil diameter')\n",
    "ax.set_title('Ophys experiment {}'.format(ophys_experiment_id), fontsize = 20)"
   ]
  },
  {
   "cell_type": "markdown",
   "metadata": {},
   "source": [
    "Large spikes in the trace can be due to blinking. They can be smoothed or filtered."
   ]
  },
  {
   "cell_type": "code",
   "execution_count": 23,
   "metadata": {
    "scrolled": true
   },
   "outputs": [
    {
     "data": {
      "text/plain": [
       "Text(0.5, 1.0, 'Ophys experiment 957759562')"
      ]
     },
     "execution_count": 23,
     "metadata": {},
     "output_type": "execute_result"
    },
    {
     "data": {
      "image/png": "[encoded data removed]",
      "text/plain": [
       "<Figure size 1440x360 with 1 Axes>"
      ]
     },
     "metadata": {
      "needs_background": "light"
     },
     "output_type": "display_data"
    }
   ],
   "source": [
    "import scipy.signal as signal\n",
    "# you can smooth or filter signals with your choice of methods in scipy library. \n",
    "\n",
    "smoothed_pupil_diameter = signal.savgol_filter(dataset.eye_tracking.pupil_width, 51, 5, mode='nearest')\n",
    "\n",
    "fig, ax = plt.subplots(1,1, figsize = (20,5))\n",
    "ax.plot(dataset.eye_tracking.timestamps, smoothed_pupil_diameter)\n",
    "ax.set_xlabel('time (seconds)')\n",
    "ax.set_ylabel('pupil diameter, filtered')\n",
    "ax.set_title('Ophys experiment {}'.format(ophys_experiment_id), fontsize = 20)"
   ]
  },
  {
   "cell_type": "markdown",
   "metadata": {},
   "source": [
    "### Get information about stimuli presented on each trial"
   ]
  },
  {
   "cell_type": "code",
   "execution_count": 26,
   "metadata": {},
   "outputs": [
    {
     "data": {
      "text/html": [
       "<div>\n",
       "<style scoped>\n",
       "    .dataframe tbody tr th:only-of-type {\n",
       "        vertical-align: middle;\n",
       "    }\n",
       "\n",
       "    .dataframe tbody tr th {\n",
       "        vertical-align: top;\n",
       "    }\n",
       "\n",
       "    .dataframe thead th {\n",
       "        text-align: right;\n",
       "    }\n",
       "</style>\n",
       "<table border=\"1\" class=\"dataframe\">\n",
       "  <thead>\n",
       "    <tr style=\"text-align: right;\">\n",
       "      <th></th>\n",
       "      <th>duration</th>\n",
       "      <th>end_frame</th>\n",
       "      <th>image_index</th>\n",
       "      <th>image_name</th>\n",
       "      <th>image_set</th>\n",
       "      <th>index</th>\n",
       "      <th>omitted</th>\n",
       "      <th>start_frame</th>\n",
       "      <th>start_time</th>\n",
       "      <th>stop_time</th>\n",
       "    </tr>\n",
       "    <tr>\n",
       "      <th>stimulus_presentations_id</th>\n",
       "      <th></th>\n",
       "      <th></th>\n",
       "      <th></th>\n",
       "      <th></th>\n",
       "      <th></th>\n",
       "      <th></th>\n",
       "      <th></th>\n",
       "      <th></th>\n",
       "      <th></th>\n",
       "      <th></th>\n",
       "    </tr>\n",
       "  </thead>\n",
       "  <tbody>\n",
       "    <tr>\n",
       "      <th>1506</th>\n",
       "      <td>0.25000</td>\n",
       "      <td>NaN</td>\n",
       "      <td>8</td>\n",
       "      <td>omitted</td>\n",
       "      <td>omitted</td>\n",
       "      <td>47</td>\n",
       "      <td>True</td>\n",
       "      <td>85762</td>\n",
       "      <td>1439.27678</td>\n",
       "      <td>1439.52678</td>\n",
       "    </tr>\n",
       "    <tr>\n",
       "      <th>4356</th>\n",
       "      <td>0.25022</td>\n",
       "      <td>214050.0</td>\n",
       "      <td>0</td>\n",
       "      <td>im000</td>\n",
       "      <td>Natural_Images_Lum_Matched_set_ophys_6_2017.07.14</td>\n",
       "      <td>4209</td>\n",
       "      <td>False</td>\n",
       "      <td>214035</td>\n",
       "      <td>3578.90828</td>\n",
       "      <td>3579.15850</td>\n",
       "    </tr>\n",
       "    <tr>\n",
       "      <th>2628</th>\n",
       "      <td>0.25000</td>\n",
       "      <td>NaN</td>\n",
       "      <td>8</td>\n",
       "      <td>omitted</td>\n",
       "      <td>omitted</td>\n",
       "      <td>88</td>\n",
       "      <td>True</td>\n",
       "      <td>136260</td>\n",
       "      <td>2281.59834</td>\n",
       "      <td>2281.84834</td>\n",
       "    </tr>\n",
       "    <tr>\n",
       "      <th>1063</th>\n",
       "      <td>0.25018</td>\n",
       "      <td>65843.0</td>\n",
       "      <td>2</td>\n",
       "      <td>im075</td>\n",
       "      <td>Natural_Images_Lum_Matched_set_ophys_6_2017.07.14</td>\n",
       "      <td>1028</td>\n",
       "      <td>False</td>\n",
       "      <td>65828</td>\n",
       "      <td>1106.77178</td>\n",
       "      <td>1107.02196</td>\n",
       "    </tr>\n",
       "    <tr>\n",
       "      <th>2370</th>\n",
       "      <td>0.25020</td>\n",
       "      <td>124664.0</td>\n",
       "      <td>0</td>\n",
       "      <td>im000</td>\n",
       "      <td>Natural_Images_Lum_Matched_set_ophys_6_2017.07.14</td>\n",
       "      <td>2288</td>\n",
       "      <td>False</td>\n",
       "      <td>124649</td>\n",
       "      <td>2087.92343</td>\n",
       "      <td>2088.17363</td>\n",
       "    </tr>\n",
       "    <tr>\n",
       "      <th>4743</th>\n",
       "      <td>0.25021</td>\n",
       "      <td>231471.0</td>\n",
       "      <td>1</td>\n",
       "      <td>im106</td>\n",
       "      <td>Natural_Images_Lum_Matched_set_ophys_6_2017.07.14</td>\n",
       "      <td>4583</td>\n",
       "      <td>False</td>\n",
       "      <td>231456</td>\n",
       "      <td>3869.49569</td>\n",
       "      <td>3869.74590</td>\n",
       "    </tr>\n",
       "    <tr>\n",
       "      <th>3125</th>\n",
       "      <td>0.25025</td>\n",
       "      <td>158644.0</td>\n",
       "      <td>7</td>\n",
       "      <td>im035</td>\n",
       "      <td>Natural_Images_Lum_Matched_set_ophys_6_2017.07.14</td>\n",
       "      <td>3015</td>\n",
       "      <td>False</td>\n",
       "      <td>158629</td>\n",
       "      <td>2654.71989</td>\n",
       "      <td>2654.97014</td>\n",
       "    </tr>\n",
       "    <tr>\n",
       "      <th>846</th>\n",
       "      <td>0.25019</td>\n",
       "      <td>56076.0</td>\n",
       "      <td>5</td>\n",
       "      <td>im054</td>\n",
       "      <td>Natural_Images_Lum_Matched_set_ophys_6_2017.07.14</td>\n",
       "      <td>823</td>\n",
       "      <td>False</td>\n",
       "      <td>56061</td>\n",
       "      <td>943.85534</td>\n",
       "      <td>944.10553</td>\n",
       "    </tr>\n",
       "    <tr>\n",
       "      <th>587</th>\n",
       "      <td>0.25021</td>\n",
       "      <td>44420.0</td>\n",
       "      <td>7</td>\n",
       "      <td>im035</td>\n",
       "      <td>Natural_Images_Lum_Matched_set_ophys_6_2017.07.14</td>\n",
       "      <td>571</td>\n",
       "      <td>False</td>\n",
       "      <td>44405</td>\n",
       "      <td>749.42983</td>\n",
       "      <td>749.68004</td>\n",
       "    </tr>\n",
       "    <tr>\n",
       "      <th>2439</th>\n",
       "      <td>0.25022</td>\n",
       "      <td>127771.0</td>\n",
       "      <td>2</td>\n",
       "      <td>im075</td>\n",
       "      <td>Natural_Images_Lum_Matched_set_ophys_6_2017.07.14</td>\n",
       "      <td>2355</td>\n",
       "      <td>False</td>\n",
       "      <td>127756</td>\n",
       "      <td>2139.74907</td>\n",
       "      <td>2139.99929</td>\n",
       "    </tr>\n",
       "  </tbody>\n",
       "</table>\n",
       "</div>"
      ],
      "text/plain": [
       "                           duration  end_frame  image_index image_name  \\\n",
       "stimulus_presentations_id                                                \n",
       "1506                        0.25000        NaN            8    omitted   \n",
       "4356                        0.25022   214050.0            0      im000   \n",
       "2628                        0.25000        NaN            8    omitted   \n",
       "1063                        0.25018    65843.0            2      im075   \n",
       "2370                        0.25020   124664.0            0      im000   \n",
       "4743                        0.25021   231471.0            1      im106   \n",
       "3125                        0.25025   158644.0            7      im035   \n",
       "846                         0.25019    56076.0            5      im054   \n",
       "587                         0.25021    44420.0            7      im035   \n",
       "2439                        0.25022   127771.0            2      im075   \n",
       "\n",
       "                                                                   image_set  \\\n",
       "stimulus_presentations_id                                                      \n",
       "1506                                                                 omitted   \n",
       "4356                       Natural_Images_Lum_Matched_set_ophys_6_2017.07.14   \n",
       "2628                                                                 omitted   \n",
       "1063                       Natural_Images_Lum_Matched_set_ophys_6_2017.07.14   \n",
       "2370                       Natural_Images_Lum_Matched_set_ophys_6_2017.07.14   \n",
       "4743                       Natural_Images_Lum_Matched_set_ophys_6_2017.07.14   \n",
       "3125                       Natural_Images_Lum_Matched_set_ophys_6_2017.07.14   \n",
       "846                        Natural_Images_Lum_Matched_set_ophys_6_2017.07.14   \n",
       "587                        Natural_Images_Lum_Matched_set_ophys_6_2017.07.14   \n",
       "2439                       Natural_Images_Lum_Matched_set_ophys_6_2017.07.14   \n",
       "\n",
       "                           index  omitted  start_frame  start_time   stop_time  \n",
       "stimulus_presentations_id                                                       \n",
       "1506                          47     True        85762  1439.27678  1439.52678  \n",
       "4356                        4209    False       214035  3578.90828  3579.15850  \n",
       "2628                          88     True       136260  2281.59834  2281.84834  \n",
       "1063                        1028    False        65828  1106.77178  1107.02196  \n",
       "2370                        2288    False       124649  2087.92343  2088.17363  \n",
       "4743                        4583    False       231456  3869.49569  3869.74590  \n",
       "3125                        3015    False       158629  2654.71989  2654.97014  \n",
       "846                          823    False        56061   943.85534   944.10553  \n",
       "587                          571    False        44405   749.42983   749.68004  \n",
       "2439                        2355    False       127756  2139.74907  2139.99929  "
      ]
     },
     "execution_count": 26,
     "metadata": {},
     "output_type": "execute_result"
    }
   ],
   "source": [
    "# get stimulus information for this experiment and assign it to a table called \"stimulus_table\"\n",
    "stimulus_table = dataset.stimulus_presentations\n",
    "stimulus_table.sample(10)"
   ]
  },
  {
   "cell_type": "markdown",
   "metadata": {},
   "source": [
    "This table provides informationa bout image name, start, duration and stop of image presentation, and whether the image was omitted. "
   ]
  },
  {
   "cell_type": "code",
   "execution_count": 27,
   "metadata": {},
   "outputs": [
    {
     "name": "stdout",
     "output_type": "stream",
     "text": [
      "This experiment had 4797 stimuli.\n",
      "Out of all stimuli presented, 160 were omitted.\n"
     ]
    }
   ],
   "source": [
    "print('This experiment had {} stimuli.'.format(len(stimulus_table)))\n",
    "print('Out of all stimuli presented, {} were omitted.'.format(len(stimulus_table[stimulus_table['image_name']=='omitted'])))\n"
   ]
  },
  {
   "cell_type": "code",
   "execution_count": 28,
   "metadata": {
    "scrolled": true
   },
   "outputs": [
    {
     "data": {
      "text/plain": [
       "Index(['duration', 'end_frame', 'image_index', 'image_name', 'image_set',\n",
       "       'index', 'omitted', 'start_frame', 'start_time', 'stop_time'],\n",
       "      dtype='object')"
      ]
     },
     "execution_count": 28,
     "metadata": {},
     "output_type": "execute_result"
    }
   ],
   "source": [
    "# You can also use \"keys()\" method to see the names of the columns in the stimulus table\n",
    "stimulus_table.keys()"
   ]
  },
  {
   "cell_type": "markdown",
   "metadata": {},
   "source": [
    "### Get task and behavioral information for each trial"
   ]
  },
  {
   "cell_type": "code",
   "execution_count": 30,
   "metadata": {},
   "outputs": [
    {
     "data": {
      "text/html": [
       "<div>\n",
       "<style scoped>\n",
       "    .dataframe tbody tr th:only-of-type {\n",
       "        vertical-align: middle;\n",
       "    }\n",
       "\n",
       "    .dataframe tbody tr th {\n",
       "        vertical-align: top;\n",
       "    }\n",
       "\n",
       "    .dataframe thead th {\n",
       "        text-align: right;\n",
       "    }\n",
       "</style>\n",
       "<table border=\"1\" class=\"dataframe\">\n",
       "  <thead>\n",
       "    <tr style=\"text-align: right;\">\n",
       "      <th></th>\n",
       "      <th>start_time</th>\n",
       "      <th>stop_time</th>\n",
       "      <th>lick_times</th>\n",
       "      <th>reward_time</th>\n",
       "      <th>reward_volume</th>\n",
       "      <th>hit</th>\n",
       "      <th>false_alarm</th>\n",
       "      <th>miss</th>\n",
       "      <th>stimulus_change</th>\n",
       "      <th>aborted</th>\n",
       "      <th>...</th>\n",
       "      <th>catch</th>\n",
       "      <th>auto_rewarded</th>\n",
       "      <th>correct_reject</th>\n",
       "      <th>trial_length</th>\n",
       "      <th>response_time</th>\n",
       "      <th>change_frame</th>\n",
       "      <th>change_time</th>\n",
       "      <th>response_latency</th>\n",
       "      <th>initial_image_name</th>\n",
       "      <th>change_image_name</th>\n",
       "    </tr>\n",
       "    <tr>\n",
       "      <th>trials_id</th>\n",
       "      <th></th>\n",
       "      <th></th>\n",
       "      <th></th>\n",
       "      <th></th>\n",
       "      <th></th>\n",
       "      <th></th>\n",
       "      <th></th>\n",
       "      <th></th>\n",
       "      <th></th>\n",
       "      <th></th>\n",
       "      <th></th>\n",
       "      <th></th>\n",
       "      <th></th>\n",
       "      <th></th>\n",
       "      <th></th>\n",
       "      <th></th>\n",
       "      <th></th>\n",
       "      <th></th>\n",
       "      <th></th>\n",
       "      <th></th>\n",
       "      <th></th>\n",
       "    </tr>\n",
       "  </thead>\n",
       "  <tbody>\n",
       "    <tr>\n",
       "      <th>0</th>\n",
       "      <td>308.73646</td>\n",
       "      <td>309.85402</td>\n",
       "      <td>[309.12011, 309.30359, 309.53711]</td>\n",
       "      <td>NaN</td>\n",
       "      <td>0.000</td>\n",
       "      <td>False</td>\n",
       "      <td>False</td>\n",
       "      <td>False</td>\n",
       "      <td>False</td>\n",
       "      <td>True</td>\n",
       "      <td>...</td>\n",
       "      <td>False</td>\n",
       "      <td>False</td>\n",
       "      <td>False</td>\n",
       "      <td>1.11756</td>\n",
       "      <td>NaN</td>\n",
       "      <td>NaN</td>\n",
       "      <td>NaN</td>\n",
       "      <td>NaN</td>\n",
       "      <td>im000</td>\n",
       "      <td>im000</td>\n",
       "    </tr>\n",
       "    <tr>\n",
       "      <th>1</th>\n",
       "      <td>310.23770</td>\n",
       "      <td>318.26089</td>\n",
       "      <td>[314.37439, 314.50783, 314.64127, 314.79139, 3...</td>\n",
       "      <td>314.14086</td>\n",
       "      <td>0.005</td>\n",
       "      <td>False</td>\n",
       "      <td>False</td>\n",
       "      <td>False</td>\n",
       "      <td>True</td>\n",
       "      <td>False</td>\n",
       "      <td>...</td>\n",
       "      <td>False</td>\n",
       "      <td>True</td>\n",
       "      <td>False</td>\n",
       "      <td>8.02319</td>\n",
       "      <td>314.37439</td>\n",
       "      <td>18300.0</td>\n",
       "      <td>314.026728</td>\n",
       "      <td>0.347662</td>\n",
       "      <td>im000</td>\n",
       "      <td>im031</td>\n",
       "    </tr>\n",
       "    <tr>\n",
       "      <th>2</th>\n",
       "      <td>318.49442</td>\n",
       "      <td>319.37846</td>\n",
       "      <td>[318.6779, 318.86138, 319.06156, 319.39515, 31...</td>\n",
       "      <td>NaN</td>\n",
       "      <td>0.000</td>\n",
       "      <td>False</td>\n",
       "      <td>False</td>\n",
       "      <td>False</td>\n",
       "      <td>False</td>\n",
       "      <td>True</td>\n",
       "      <td>...</td>\n",
       "      <td>False</td>\n",
       "      <td>False</td>\n",
       "      <td>False</td>\n",
       "      <td>0.88404</td>\n",
       "      <td>NaN</td>\n",
       "      <td>NaN</td>\n",
       "      <td>NaN</td>\n",
       "      <td>NaN</td>\n",
       "      <td>im031</td>\n",
       "      <td>im031</td>\n",
       "    </tr>\n",
       "    <tr>\n",
       "      <th>3</th>\n",
       "      <td>319.99565</td>\n",
       "      <td>323.19826</td>\n",
       "      <td>[322.58109, 322.71452, 322.88134, 323.46514, 3...</td>\n",
       "      <td>NaN</td>\n",
       "      <td>0.000</td>\n",
       "      <td>False</td>\n",
       "      <td>False</td>\n",
       "      <td>False</td>\n",
       "      <td>False</td>\n",
       "      <td>True</td>\n",
       "      <td>...</td>\n",
       "      <td>False</td>\n",
       "      <td>False</td>\n",
       "      <td>False</td>\n",
       "      <td>3.20261</td>\n",
       "      <td>NaN</td>\n",
       "      <td>NaN</td>\n",
       "      <td>NaN</td>\n",
       "      <td>NaN</td>\n",
       "      <td>im031</td>\n",
       "      <td>im031</td>\n",
       "    </tr>\n",
       "    <tr>\n",
       "      <th>4</th>\n",
       "      <td>323.73205</td>\n",
       "      <td>331.02131</td>\n",
       "      <td>[327.1515, 327.26826, 327.38503, 327.51846, 32...</td>\n",
       "      <td>326.91797</td>\n",
       "      <td>0.005</td>\n",
       "      <td>False</td>\n",
       "      <td>False</td>\n",
       "      <td>False</td>\n",
       "      <td>True</td>\n",
       "      <td>False</td>\n",
       "      <td>...</td>\n",
       "      <td>False</td>\n",
       "      <td>True</td>\n",
       "      <td>False</td>\n",
       "      <td>7.28926</td>\n",
       "      <td>327.15150</td>\n",
       "      <td>19065.0</td>\n",
       "      <td>326.787158</td>\n",
       "      <td>0.364342</td>\n",
       "      <td>im031</td>\n",
       "      <td>im000</td>\n",
       "    </tr>\n",
       "  </tbody>\n",
       "</table>\n",
       "<p>5 rows × 21 columns</p>\n",
       "</div>"
      ],
      "text/plain": [
       "           start_time  stop_time  \\\n",
       "trials_id                          \n",
       "0           308.73646  309.85402   \n",
       "1           310.23770  318.26089   \n",
       "2           318.49442  319.37846   \n",
       "3           319.99565  323.19826   \n",
       "4           323.73205  331.02131   \n",
       "\n",
       "                                                  lick_times  reward_time  \\\n",
       "trials_id                                                                   \n",
       "0                          [309.12011, 309.30359, 309.53711]          NaN   \n",
       "1          [314.37439, 314.50783, 314.64127, 314.79139, 3...    314.14086   \n",
       "2          [318.6779, 318.86138, 319.06156, 319.39515, 31...          NaN   \n",
       "3          [322.58109, 322.71452, 322.88134, 323.46514, 3...          NaN   \n",
       "4          [327.1515, 327.26826, 327.38503, 327.51846, 32...    326.91797   \n",
       "\n",
       "           reward_volume    hit  false_alarm   miss  stimulus_change  aborted  \\\n",
       "trials_id                                                                       \n",
       "0                  0.000  False        False  False            False     True   \n",
       "1                  0.005  False        False  False             True    False   \n",
       "2                  0.000  False        False  False            False     True   \n",
       "3                  0.000  False        False  False            False     True   \n",
       "4                  0.005  False        False  False             True    False   \n",
       "\n",
       "           ...  catch  auto_rewarded  correct_reject  trial_length  \\\n",
       "trials_id  ...                                                       \n",
       "0          ...  False          False           False       1.11756   \n",
       "1          ...  False           True           False       8.02319   \n",
       "2          ...  False          False           False       0.88404   \n",
       "3          ...  False          False           False       3.20261   \n",
       "4          ...  False           True           False       7.28926   \n",
       "\n",
       "           response_time  change_frame  change_time  response_latency  \\\n",
       "trials_id                                                               \n",
       "0                    NaN           NaN          NaN               NaN   \n",
       "1              314.37439       18300.0   314.026728          0.347662   \n",
       "2                    NaN           NaN          NaN               NaN   \n",
       "3                    NaN           NaN          NaN               NaN   \n",
       "4              327.15150       19065.0   326.787158          0.364342   \n",
       "\n",
       "           initial_image_name change_image_name  \n",
       "trials_id                                        \n",
       "0                       im000             im000  \n",
       "1                       im000             im031  \n",
       "2                       im031             im031  \n",
       "3                       im031             im031  \n",
       "4                       im031             im000  \n",
       "\n",
       "[5 rows x 21 columns]"
      ]
     },
     "execution_count": 30,
     "metadata": {},
     "output_type": "execute_result"
    }
   ],
   "source": [
    "# get behavioral trial information and assign it to \"trials_table\"\n",
    "trials_table = dataset.trials\n",
    "trials_table.head(5)\n"
   ]
  },
  {
   "cell_type": "code",
   "execution_count": 31,
   "metadata": {},
   "outputs": [
    {
     "data": {
      "text/plain": [
       "Index(['start_time', 'stop_time', 'lick_times', 'reward_time', 'reward_volume',\n",
       "       'hit', 'false_alarm', 'miss', 'stimulus_change', 'aborted', 'go',\n",
       "       'catch', 'auto_rewarded', 'correct_reject', 'trial_length',\n",
       "       'response_time', 'change_frame', 'change_time', 'response_latency',\n",
       "       'initial_image_name', 'change_image_name'],\n",
       "      dtype='object')"
      ]
     },
     "execution_count": 31,
     "metadata": {},
     "output_type": "execute_result"
    }
   ],
   "source": [
    "trials_table.keys()"
   ]
  },
  {
   "cell_type": "markdown",
   "metadata": {},
   "source": [
    "This table has information about the trials. \"Go\" trials are change trials when the animal was supposed to lick. If the animal licked, \"hit\" is set to True for that trial. If the animal was rewarded, reward time will have time in seconds. If this was an auto_rewarded trial (regardless of whether the animal got it right), \"auto_rewarded\" is set to True. "
   ]
  },
  {
   "cell_type": "markdown",
   "metadata": {},
   "source": [
    "### Plot single trial response for a selected cell"
   ]
  },
  {
   "cell_type": "code",
   "execution_count": null,
   "metadata": {
    "scrolled": true
   },
   "outputs": [],
   "source": [
    "change_times = trials_table[~trials_table.change_time.isna()]['change_time'].values\n",
    "change_times"
   ]
  },
  {
   "cell_type": "code",
   "execution_count": null,
   "metadata": {},
   "outputs": [],
   "source": []
  },
  {
   "cell_type": "code",
   "execution_count": null,
   "metadata": {},
   "outputs": [],
   "source": [
    "even\n",
    "for change_time in change_times:\n",
    "    "
   ]
  },
  {
   "cell_type": "code",
   "execution_count": null,
   "metadata": {},
   "outputs": [],
   "source": []
  },
  {
   "cell_type": "code",
   "execution_count": null,
   "metadata": {},
   "outputs": [],
   "source": []
  },
  {
   "cell_type": "markdown",
   "metadata": {},
   "source": [
    "# Below is old code from VBA. Needs to be removed. "
   ]
  },
  {
   "cell_type": "code",
   "execution_count": null,
   "metadata": {},
   "outputs": [],
   "source": [
    "cell_specimen_id = stim_response_df.cell_specimen_id.unique()[0]\n",
    "\n",
    "trace = stim_response_df[stim_response_df.cell_specimen_id==cell_specimen_id].trace.values[0]\n",
    "times = stim_response_df[stim_response_df.cell_specimen_id==cell_specimen_id].trace_timestamps.values[0]\n",
    "\n",
    "plt.plot(times, trace)\n",
    "plt.xlabel('time after stim onset (s)')\n",
    "plt.ylabel('dF/F')"
   ]
  },
  {
   "cell_type": "markdown",
   "metadata": {},
   "source": [
    "#### plot trial averaged trace for some image"
   ]
  },
  {
   "cell_type": "code",
   "execution_count": null,
   "metadata": {},
   "outputs": [],
   "source": [
    "image_name = stim_response_df.image_name.unique()[6]\n",
    "mean_trace = stim_response_df[(stim_response_df.cell_specimen_id==cell_specimen_id)&\n",
    "                         (stim_response_df.image_name==image_name)].trace.mean()\n",
    "\n",
    "plt.plot(times, mean_trace)\n",
    "plt.xlabel('time after stim onset (sec)')\n",
    "plt.ylabel('dF/F')\n"
   ]
  },
  {
   "cell_type": "markdown",
   "metadata": {},
   "source": [
    "#### responsiveness"
   ]
  },
  {
   "cell_type": "markdown",
   "metadata": {},
   "source": [
    "Response dataframes include other useful columns including <code>p_value_gray_screen</code> which compares the mean response for each trial to a shuffled distribution of values from the 5 min gray screen periods at the beginning and end of the session."
   ]
  },
  {
   "cell_type": "code",
   "execution_count": null,
   "metadata": {},
   "outputs": [],
   "source": [
    "cell_data = stim_response_df[(stim_response_df.cell_specimen_id==cell_specimen_id)]\n",
    "fraction_responsive = cell_data.p_value_gray_screen.mean()\n",
    "print('this cell had a significant response for',fraction_responsive,'of all image presentations')"
   ]
  },
  {
   "cell_type": "markdown",
   "metadata": {},
   "source": [
    "<code>p_value_omission</code> compares the mean response for each trial to a shuffled distribution of all omission responses"
   ]
  },
  {
   "cell_type": "markdown",
   "metadata": {},
   "source": [
    "<code>p_value_stimulus</code> compares the mean response for each trial to a shuffled distribution of all other stimulus responses"
   ]
  },
  {
   "cell_type": "markdown",
   "metadata": {},
   "source": [
    "### Get cell responses around change times for behavioral trials"
   ]
  },
  {
   "cell_type": "code",
   "execution_count": null,
   "metadata": {},
   "outputs": [],
   "source": [
    "# this creates a dataframe with the response of every cell for every behavioral trial (change and catch)\n",
    "# cell response is a snippet of the trace in a [-5, 5] second window around change or catch time\n",
    "trials_response_df = analysis.get_response_df(df_name='trials_response_df')"
   ]
  },
  {
   "cell_type": "code",
   "execution_count": null,
   "metadata": {},
   "outputs": [],
   "source": [
    "trials_response_df.head()"
   ]
  },
  {
   "cell_type": "code",
   "execution_count": null,
   "metadata": {},
   "outputs": [],
   "source": [
    "trials_response_df.keys()"
   ]
  },
  {
   "cell_type": "code",
   "execution_count": null,
   "metadata": {},
   "outputs": [],
   "source": [
    "# popuation average response to image change\n",
    "times = trials_response_df.trace_timestamps.values[0]\n",
    "plt.plot(times, trials_response_df.trace.mean())\n",
    "plt.title('population average change response')\n",
    "plt.xlabel('time after change (s)')\n",
    "plt.ylabel('dF/F')"
   ]
  },
  {
   "cell_type": "markdown",
   "metadata": {},
   "source": [
    "### Get omission triggered responses "
   ]
  },
  {
   "cell_type": "code",
   "execution_count": null,
   "metadata": {},
   "outputs": [],
   "source": [
    "# this creates a dataframe with the response of every cell for every omission\n",
    "# cell response is a snippet of the trace in a [-.5, 0.75] second window around the omission time\n",
    "omission_response_df = analysis.get_response_df(df_name='omission_response_df')"
   ]
  },
  {
   "cell_type": "code",
   "execution_count": null,
   "metadata": {},
   "outputs": [],
   "source": [
    "omission_response_df.head()"
   ]
  },
  {
   "cell_type": "code",
   "execution_count": null,
   "metadata": {},
   "outputs": [],
   "source": [
    "omission_response_df.keys()"
   ]
  },
  {
   "cell_type": "code",
   "execution_count": null,
   "metadata": {},
   "outputs": [],
   "source": [
    "# popuation average response\n",
    "times = omission_response_df.trace_timestamps.values[0]\n",
    "plt.plot(times, omission_response_df.trace.mean())\n",
    "plt.title('population average omission response')\n",
    "plt.xlabel('time after change (s)')\n",
    "plt.ylabel('dF/F')"
   ]
  },
  {
   "cell_type": "markdown",
   "metadata": {},
   "source": [
    "### Get running behavior for omissions "
   ]
  },
  {
   "cell_type": "code",
   "execution_count": null,
   "metadata": {},
   "outputs": [],
   "source": [
    "# similar functionality exist for pupil area"
   ]
  },
  {
   "cell_type": "code",
   "execution_count": null,
   "metadata": {},
   "outputs": [],
   "source": [
    "# this creates a dataframe with the running speed for every stimulus presentation\n",
    "# trace is a snippet of the run speed in a [-.5, 0.75] second window around stim onset\n",
    "run_speed_df = analysis.get_response_df(df_name='omission_run_speed_df')"
   ]
  },
  {
   "cell_type": "code",
   "execution_count": null,
   "metadata": {},
   "outputs": [],
   "source": [
    "run_speed_df.head()"
   ]
  },
  {
   "cell_type": "code",
   "execution_count": null,
   "metadata": {},
   "outputs": [],
   "source": [
    "# running speed averaged across all omissions\n",
    "times = run_speed_df.trace_timestamps.values[0]\n",
    "plt.plot(times, run_speed_df.trace.mean())\n",
    "plt.title('average omission triggered running behavior')\n",
    "plt.xlabel('time after omission (s)')\n",
    "plt.ylabel('run speed (cm/s)')"
   ]
  },
  {
   "cell_type": "code",
   "execution_count": null,
   "metadata": {},
   "outputs": [],
   "source": []
  },
  {
   "cell_type": "markdown",
   "metadata": {},
   "source": [
    "## get trial averaged response dataframe for some set of conditions "
   ]
  },
  {
   "cell_type": "markdown",
   "metadata": {},
   "source": [
    "VBA <code>response_analysis.utilities</code> has a function for averaging across trials for a given set of conditions: the <code>get_mean_df()</code> function"
   ]
  },
  {
   "cell_type": "code",
   "execution_count": null,
   "metadata": {},
   "outputs": [],
   "source": [
    "import visual_behavior.ophys.response_analysis.utilities as utilities"
   ]
  },
  {
   "cell_type": "code",
   "execution_count": null,
   "metadata": {},
   "outputs": [],
   "source": [
    "help(utilities.get_mean_df) # needs documentation..."
   ]
  },
  {
   "cell_type": "code",
   "execution_count": null,
   "metadata": {},
   "outputs": [],
   "source": [
    "conditions = ['cell_specimen_id', 'image_name'] # conditions to groupby before averaging\n",
    "mean_df = utilities.get_mean_df(stim_response_df, conditions=conditions, flashes=True)"
   ]
  },
  {
   "cell_type": "code",
   "execution_count": null,
   "metadata": {},
   "outputs": [],
   "source": [
    "mean_df.head()"
   ]
  },
  {
   "cell_type": "markdown",
   "metadata": {},
   "source": [
    "The resulting dataframe includes useful columns such as <code>pref_stim</code> which indicates the stimulus that evoked the maximal response across conditions for that cell, or  <code>fraction_significant_p_value_gray_screen</code> which tells you the fraction of trials for the given condition that had a significant p_value compared to the gray screen periods, or <code>mean_responses</code> which has an array of the mean response value for all trials of a given condition (useful for things like computing variability or noise correlations)"
   ]
  },
  {
   "cell_type": "markdown",
   "metadata": {},
   "source": [
    "### plot mean trace for a cells preferred stimulus"
   ]
  },
  {
   "cell_type": "code",
   "execution_count": null,
   "metadata": {},
   "outputs": [],
   "source": [
    "mean_trace = mean_df[(mean_df.cell_specimen_id==cell_specimen_id)&(mean_df.pref_stim==True)].mean_trace.values[0]\n",
    "plt.plot(mean_trace)"
   ]
  },
  {
   "cell_type": "code",
   "execution_count": null,
   "metadata": {},
   "outputs": [],
   "source": []
  },
  {
   "cell_type": "code",
   "execution_count": null,
   "metadata": {},
   "outputs": [],
   "source": []
  },
  {
   "cell_type": "code",
   "execution_count": null,
   "metadata": {},
   "outputs": [],
   "source": []
  }
 ],
 "metadata": {
  "kernelspec": {
   "display_name": "visual_behavior_analysis",
   "language": "python",
   "name": "visual_behavior_analysis"
  },
  "language_info": {
   "codemirror_mode": {
    "name": "ipython",
    "version": 3
   },
   "file_extension": ".py",
   "mimetype": "text/x-python",
   "name": "python",
   "nbconvert_exporter": "python",
   "pygments_lexer": "ipython3",
   "version": "3.7.9"
  }
 },
 "nbformat": 4,
 "nbformat_minor": 4
}
