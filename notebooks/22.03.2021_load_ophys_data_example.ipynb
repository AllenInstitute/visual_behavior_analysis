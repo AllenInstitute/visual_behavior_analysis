{
 "cells": [
  {
   "cell_type": "code",
   "execution_count": 1,
   "metadata": {},
   "outputs": [],
   "source": [
    "import os\n",
    "import numpy as np\n",
    "import pandas as pd\n",
    "import matplotlib.pyplot as plt\n",
    "import seaborn as sns\n",
    "sns.set_context('notebook', font_scale=1.5, rc={'lines.markeredgewidth': 2})"
   ]
  },
  {
   "cell_type": "code",
   "execution_count": 2,
   "metadata": {},
   "outputs": [],
   "source": [
    "%load_ext autoreload\n",
    "%autoreload 2\n",
    "%matplotlib inline"
   ]
  },
  {
   "cell_type": "code",
   "execution_count": 3,
   "metadata": {},
   "outputs": [
    {
     "data": {
      "text/plain": [
       "'2.10.0'"
      ]
     },
     "execution_count": 3,
     "metadata": {},
     "output_type": "execute_result"
    }
   ],
   "source": [
    "# confirm that you are currently using the newest version of SDK (2.10.0 for now)\n",
    "import allensdk\n",
    "allensdk.__version__"
   ]
  },
  {
   "cell_type": "code",
   "execution_count": 4,
   "metadata": {},
   "outputs": [],
   "source": [
    "# import behavior projet cache class from SDK to be able to load the data\n",
    "import allensdk.brain_observatory.behavior.behavior_project_cache as bpc"
   ]
  },
  {
   "cell_type": "markdown",
   "metadata": {},
   "source": [
    "### Load data tables "
   ]
  },
  {
   "cell_type": "markdown",
   "metadata": {},
   "source": [
    "This code block allows you to use behavior project cache (bpc) class to get behavior and ophys tables."
   ]
  },
  {
   "cell_type": "code",
   "execution_count": 122,
   "metadata": {
    "scrolled": false
   },
   "outputs": [
    {
     "name": "stdout",
     "output_type": "stream",
     "text": [
      "Number of behavior sessions = 3572\n",
      "Number of ophys sessions = 551\n",
      "Number of ophys experiments = 1165\n",
      "Number of behavior sessions with Mesoscope = 133\n",
      "Number of ophys sessions with Mesoscope = 133\n",
      "Number of ophys experiments with Mesoscope = 747\n"
     ]
    }
   ],
   "source": [
    "\n",
    "my_cache_dir = \"/home/iryna.yavorska/tmp\"\n",
    "bc = bpc.VisualBehaviorOphysProjectCache.from_s3_cache(cache_dir=my_cache_dir)\n",
    "\n",
    "# the production bucket is set as default:\n",
    "# bucket_name=\"visual_behavior_ophys_data\"\n",
    "# project_name=\"visual-behavior-ophys\"\n",
    "\n",
    "behavior_session_table = bc.get_behavior_session_table()  \n",
    "session_table = bc.get_session_table()   \n",
    "experiment_table = bc.get_experiment_table()                         \n",
    "\n",
    "#print number of items in each table for all imaging and behavioral sessions\n",
    "print('Number of behavior sessions = {}'.format(len(behavior_session_table)))\n",
    "print('Number of ophys sessions = {}'.format(len(session_table)))\n",
    "print('Number of ophys experiments = {}'.format(len(experiment_table)))\n",
    "\n",
    "\n",
    "#print number of items in each table with Mesoscope imaging\n",
    "print('Number of behavior sessions with Mesoscope = {}'.format(len(behavior_session_table[behavior_session_table.project_code.isin(['VisualBehaviorMultiscope'])])))\n",
    "print('Number of ophys sessions with Mesoscope = {}'.format(len(session_table[session_table.project_code.isin(['VisualBehaviorMultiscope'])])))\n",
    "print('Number of ophys experiments with Mesoscope = {}'.format(len(experiment_table[experiment_table.project_code.isin(['VisualBehaviorMultiscope'])])))\n",
    "\n"
   ]
  },
  {
   "cell_type": "markdown",
   "metadata": {},
   "source": [
    "Let's see expriment table and pick one to look at"
   ]
  },
  {
   "cell_type": "code",
   "execution_count": 120,
   "metadata": {
    "scrolled": false
   },
   "outputs": [
    {
     "data": {
      "text/html": [
       "<div>\n",
       "<style scoped>\n",
       "    .dataframe tbody tr th:only-of-type {\n",
       "        vertical-align: middle;\n",
       "    }\n",
       "\n",
       "    .dataframe tbody tr th {\n",
       "        vertical-align: top;\n",
       "    }\n",
       "\n",
       "    .dataframe thead th {\n",
       "        text-align: right;\n",
       "    }\n",
       "</style>\n",
       "<table border=\"1\" class=\"dataframe\">\n",
       "  <thead>\n",
       "    <tr style=\"text-align: right;\">\n",
       "      <th></th>\n",
       "      <th>equipment_name</th>\n",
       "      <th>full_genotype</th>\n",
       "      <th>mouse_id</th>\n",
       "      <th>reporter_line</th>\n",
       "      <th>driver_line</th>\n",
       "      <th>sex</th>\n",
       "      <th>age_in_days</th>\n",
       "      <th>session_type</th>\n",
       "      <th>cre_line</th>\n",
       "      <th>indicator</th>\n",
       "      <th>...</th>\n",
       "      <th>prior_exposures_to_image_set</th>\n",
       "      <th>prior_exposures_to_omissions</th>\n",
       "      <th>ophys_session_id</th>\n",
       "      <th>behavior_session_id</th>\n",
       "      <th>ophys_container_id</th>\n",
       "      <th>project_code</th>\n",
       "      <th>imaging_depth</th>\n",
       "      <th>targeted_structure</th>\n",
       "      <th>date_of_acquisition</th>\n",
       "      <th>file_id</th>\n",
       "    </tr>\n",
       "    <tr>\n",
       "      <th>ophys_experiment_id</th>\n",
       "      <th></th>\n",
       "      <th></th>\n",
       "      <th></th>\n",
       "      <th></th>\n",
       "      <th></th>\n",
       "      <th></th>\n",
       "      <th></th>\n",
       "      <th></th>\n",
       "      <th></th>\n",
       "      <th></th>\n",
       "      <th></th>\n",
       "      <th></th>\n",
       "      <th></th>\n",
       "      <th></th>\n",
       "      <th></th>\n",
       "      <th></th>\n",
       "      <th></th>\n",
       "      <th></th>\n",
       "      <th></th>\n",
       "      <th></th>\n",
       "      <th></th>\n",
       "    </tr>\n",
       "  </thead>\n",
       "  <tbody>\n",
       "    <tr>\n",
       "      <th>951980471</th>\n",
       "      <td>MESO.1</td>\n",
       "      <td>Sst-IRES-Cre/wt;Ai148(TIT2L-GC6f-ICL-tTA2)/wt</td>\n",
       "      <td>457841</td>\n",
       "      <td>Ai148(TIT2L-GC6f-ICL-tTA2)</td>\n",
       "      <td>[Sst-IRES-Cre]</td>\n",
       "      <td>F</td>\n",
       "      <td>206.0</td>\n",
       "      <td>OPHYS_1_images_A</td>\n",
       "      <td>Sst-IRES-Cre</td>\n",
       "      <td>GCaMP6f</td>\n",
       "      <td>...</td>\n",
       "      <td>3.0</td>\n",
       "      <td>0</td>\n",
       "      <td>951410079</td>\n",
       "      <td>951520319</td>\n",
       "      <td>1018028342</td>\n",
       "      <td>VisualBehaviorMultiscope</td>\n",
       "      <td>150</td>\n",
       "      <td>VISp</td>\n",
       "      <td>2019-09-20 09:45:29.897856</td>\n",
       "      <td>1085394308</td>\n",
       "    </tr>\n",
       "    <tr>\n",
       "      <th>951980484</th>\n",
       "      <td>MESO.1</td>\n",
       "      <td>Sst-IRES-Cre/wt;Ai148(TIT2L-GC6f-ICL-tTA2)/wt</td>\n",
       "      <td>457841</td>\n",
       "      <td>Ai148(TIT2L-GC6f-ICL-tTA2)</td>\n",
       "      <td>[Sst-IRES-Cre]</td>\n",
       "      <td>F</td>\n",
       "      <td>206.0</td>\n",
       "      <td>OPHYS_1_images_A</td>\n",
       "      <td>Sst-IRES-Cre</td>\n",
       "      <td>GCaMP6f</td>\n",
       "      <td>...</td>\n",
       "      <td>3.0</td>\n",
       "      <td>0</td>\n",
       "      <td>951410079</td>\n",
       "      <td>951520319</td>\n",
       "      <td>1018028351</td>\n",
       "      <td>VisualBehaviorMultiscope</td>\n",
       "      <td>75</td>\n",
       "      <td>VISl</td>\n",
       "      <td>2019-09-20 09:45:29.897856</td>\n",
       "      <td>1085400876</td>\n",
       "    </tr>\n",
       "    <tr>\n",
       "      <th>951980473</th>\n",
       "      <td>MESO.1</td>\n",
       "      <td>Sst-IRES-Cre/wt;Ai148(TIT2L-GC6f-ICL-tTA2)/wt</td>\n",
       "      <td>457841</td>\n",
       "      <td>Ai148(TIT2L-GC6f-ICL-tTA2)</td>\n",
       "      <td>[Sst-IRES-Cre]</td>\n",
       "      <td>F</td>\n",
       "      <td>206.0</td>\n",
       "      <td>OPHYS_1_images_A</td>\n",
       "      <td>Sst-IRES-Cre</td>\n",
       "      <td>GCaMP6f</td>\n",
       "      <td>...</td>\n",
       "      <td>3.0</td>\n",
       "      <td>0</td>\n",
       "      <td>951410079</td>\n",
       "      <td>951520319</td>\n",
       "      <td>1018028345</td>\n",
       "      <td>VisualBehaviorMultiscope</td>\n",
       "      <td>225</td>\n",
       "      <td>VISp</td>\n",
       "      <td>2019-09-20 09:45:29.897856</td>\n",
       "      <td>1085400919</td>\n",
       "    </tr>\n",
       "    <tr>\n",
       "      <th>951980479</th>\n",
       "      <td>MESO.1</td>\n",
       "      <td>Sst-IRES-Cre/wt;Ai148(TIT2L-GC6f-ICL-tTA2)/wt</td>\n",
       "      <td>457841</td>\n",
       "      <td>Ai148(TIT2L-GC6f-ICL-tTA2)</td>\n",
       "      <td>[Sst-IRES-Cre]</td>\n",
       "      <td>F</td>\n",
       "      <td>206.0</td>\n",
       "      <td>OPHYS_1_images_A</td>\n",
       "      <td>Sst-IRES-Cre</td>\n",
       "      <td>GCaMP6f</td>\n",
       "      <td>...</td>\n",
       "      <td>3.0</td>\n",
       "      <td>0</td>\n",
       "      <td>951410079</td>\n",
       "      <td>951520319</td>\n",
       "      <td>1018028354</td>\n",
       "      <td>VisualBehaviorMultiscope</td>\n",
       "      <td>150</td>\n",
       "      <td>VISl</td>\n",
       "      <td>2019-09-20 09:45:29.897856</td>\n",
       "      <td>1085400977</td>\n",
       "    </tr>\n",
       "    <tr>\n",
       "      <th>951980475</th>\n",
       "      <td>MESO.1</td>\n",
       "      <td>Sst-IRES-Cre/wt;Ai148(TIT2L-GC6f-ICL-tTA2)/wt</td>\n",
       "      <td>457841</td>\n",
       "      <td>Ai148(TIT2L-GC6f-ICL-tTA2)</td>\n",
       "      <td>[Sst-IRES-Cre]</td>\n",
       "      <td>F</td>\n",
       "      <td>206.0</td>\n",
       "      <td>OPHYS_1_images_A</td>\n",
       "      <td>Sst-IRES-Cre</td>\n",
       "      <td>GCaMP6f</td>\n",
       "      <td>...</td>\n",
       "      <td>3.0</td>\n",
       "      <td>0</td>\n",
       "      <td>951410079</td>\n",
       "      <td>951520319</td>\n",
       "      <td>1018028339</td>\n",
       "      <td>VisualBehaviorMultiscope</td>\n",
       "      <td>75</td>\n",
       "      <td>VISp</td>\n",
       "      <td>2019-09-20 09:45:29.897856</td>\n",
       "      <td>1085400920</td>\n",
       "    </tr>\n",
       "  </tbody>\n",
       "</table>\n",
       "<p>5 rows × 22 columns</p>\n",
       "</div>"
      ],
      "text/plain": [
       "                    equipment_name  \\\n",
       "ophys_experiment_id                  \n",
       "951980471                   MESO.1   \n",
       "951980484                   MESO.1   \n",
       "951980473                   MESO.1   \n",
       "951980479                   MESO.1   \n",
       "951980475                   MESO.1   \n",
       "\n",
       "                                                     full_genotype  mouse_id  \\\n",
       "ophys_experiment_id                                                            \n",
       "951980471            Sst-IRES-Cre/wt;Ai148(TIT2L-GC6f-ICL-tTA2)/wt    457841   \n",
       "951980484            Sst-IRES-Cre/wt;Ai148(TIT2L-GC6f-ICL-tTA2)/wt    457841   \n",
       "951980473            Sst-IRES-Cre/wt;Ai148(TIT2L-GC6f-ICL-tTA2)/wt    457841   \n",
       "951980479            Sst-IRES-Cre/wt;Ai148(TIT2L-GC6f-ICL-tTA2)/wt    457841   \n",
       "951980475            Sst-IRES-Cre/wt;Ai148(TIT2L-GC6f-ICL-tTA2)/wt    457841   \n",
       "\n",
       "                                  reporter_line     driver_line sex  \\\n",
       "ophys_experiment_id                                                   \n",
       "951980471            Ai148(TIT2L-GC6f-ICL-tTA2)  [Sst-IRES-Cre]   F   \n",
       "951980484            Ai148(TIT2L-GC6f-ICL-tTA2)  [Sst-IRES-Cre]   F   \n",
       "951980473            Ai148(TIT2L-GC6f-ICL-tTA2)  [Sst-IRES-Cre]   F   \n",
       "951980479            Ai148(TIT2L-GC6f-ICL-tTA2)  [Sst-IRES-Cre]   F   \n",
       "951980475            Ai148(TIT2L-GC6f-ICL-tTA2)  [Sst-IRES-Cre]   F   \n",
       "\n",
       "                     age_in_days      session_type      cre_line indicator  \\\n",
       "ophys_experiment_id                                                          \n",
       "951980471                  206.0  OPHYS_1_images_A  Sst-IRES-Cre   GCaMP6f   \n",
       "951980484                  206.0  OPHYS_1_images_A  Sst-IRES-Cre   GCaMP6f   \n",
       "951980473                  206.0  OPHYS_1_images_A  Sst-IRES-Cre   GCaMP6f   \n",
       "951980479                  206.0  OPHYS_1_images_A  Sst-IRES-Cre   GCaMP6f   \n",
       "951980475                  206.0  OPHYS_1_images_A  Sst-IRES-Cre   GCaMP6f   \n",
       "\n",
       "                     ...  prior_exposures_to_image_set  \\\n",
       "ophys_experiment_id  ...                                 \n",
       "951980471            ...                           3.0   \n",
       "951980484            ...                           3.0   \n",
       "951980473            ...                           3.0   \n",
       "951980479            ...                           3.0   \n",
       "951980475            ...                           3.0   \n",
       "\n",
       "                     prior_exposures_to_omissions  ophys_session_id  \\\n",
       "ophys_experiment_id                                                   \n",
       "951980471                                       0         951410079   \n",
       "951980484                                       0         951410079   \n",
       "951980473                                       0         951410079   \n",
       "951980479                                       0         951410079   \n",
       "951980475                                       0         951410079   \n",
       "\n",
       "                     behavior_session_id  ophys_container_id  \\\n",
       "ophys_experiment_id                                            \n",
       "951980471                      951520319          1018028342   \n",
       "951980484                      951520319          1018028351   \n",
       "951980473                      951520319          1018028345   \n",
       "951980479                      951520319          1018028354   \n",
       "951980475                      951520319          1018028339   \n",
       "\n",
       "                                 project_code  imaging_depth  \\\n",
       "ophys_experiment_id                                            \n",
       "951980471            VisualBehaviorMultiscope            150   \n",
       "951980484            VisualBehaviorMultiscope             75   \n",
       "951980473            VisualBehaviorMultiscope            225   \n",
       "951980479            VisualBehaviorMultiscope            150   \n",
       "951980475            VisualBehaviorMultiscope             75   \n",
       "\n",
       "                    targeted_structure         date_of_acquisition     file_id  \n",
       "ophys_experiment_id                                                             \n",
       "951980471                         VISp  2019-09-20 09:45:29.897856  1085394308  \n",
       "951980484                         VISl  2019-09-20 09:45:29.897856  1085400876  \n",
       "951980473                         VISp  2019-09-20 09:45:29.897856  1085400919  \n",
       "951980479                         VISl  2019-09-20 09:45:29.897856  1085400977  \n",
       "951980475                         VISp  2019-09-20 09:45:29.897856  1085400920  \n",
       "\n",
       "[5 rows x 22 columns]"
      ]
     },
     "execution_count": 120,
     "metadata": {},
     "output_type": "execute_result"
    }
   ],
   "source": [
    "experiment_table.head(5)\n"
   ]
  },
  {
   "cell_type": "markdown",
   "metadata": {},
   "source": [
    "You can also get any other experiment ids from the experiment table. You can search by any columns in the table. Here, we can select experiments from Sst mice only, novel Ophys session 4, with 0 prior exposures to the stimulus (aka not a retake). "
   ]
  },
  {
   "cell_type": "code",
   "execution_count": 124,
   "metadata": {},
   "outputs": [
    {
     "name": "stdout",
     "output_type": "stream",
     "text": [
      "Number of experiments: 27\n"
     ]
    }
   ],
   "source": [
    "# get all Sst experiments for ophys session 4\n",
    "selected_experiment_table = experiment_table[(experiment_table.cre_line=='Sst-IRES-Cre')&\n",
    "                        (experiment_table.session_number==4) &\n",
    "                        (experiment_table.prior_exposures_to_image_set==0)]\n",
    "print('Number of experiments: {}'.format(len(selected_experiment_table)))"
   ]
  },
  {
   "cell_type": "markdown",
   "metadata": {},
   "source": [
    "Note that experiment = imaging plane. Some of these experiments come from the same imaging session. Here, we can check how many unique imaging sessions are associated with experiments selected above."
   ]
  },
  {
   "cell_type": "code",
   "execution_count": 127,
   "metadata": {},
   "outputs": [
    {
     "name": "stdout",
     "output_type": "stream",
     "text": [
      "Number of unique sessions: 11\n"
     ]
    }
   ],
   "source": [
    "print('Number of unique sessions: {}'.format(len(selected_experiment_table['ophys_session_id'].unique())))"
   ]
  },
  {
   "cell_type": "markdown",
   "metadata": {},
   "source": [
    "### Load an experiment"
   ]
  },
  {
   "cell_type": "code",
   "execution_count": 135,
   "metadata": {},
   "outputs": [
    {
     "name": "stderr",
     "output_type": "stream",
     "text": [
      "behavior_ophys_experiment_957759562.nwb: 100%|█████████████████████████████████████| 263M/263M [00:11<00:00, 23.1MMB/s]\n"
     ]
    }
   ],
   "source": [
    "# select first experiment from the table to look at in more detail. \n",
    "# Note that python enumeration starts at 0.\n",
    "ophys_experiment_id = selected_experiment_table.index[0]\n",
    "experiment_dataset = bc.get_behavior_ophys_experiment(ophys_experiment_id)"
   ]
  },
  {
   "cell_type": "code",
   "execution_count": 136,
   "metadata": {},
   "outputs": [
    {
     "data": {
      "text/plain": [
       "{'equipment_name': 'MESO.1',\n",
       " 'stimulus_frame_rate': 60.0,\n",
       " 'imaging_depth': 150,\n",
       " 'imaging_plane_group_count': 4,\n",
       " 'ophys_session_id': 957020350,\n",
       " 'behavior_session_id': 957032492,\n",
       " 'session_type': 'OPHYS_4_images_B',\n",
       " 'ophys_experiment_id': 957759562,\n",
       " 'experiment_container_id': 1018028342,\n",
       " 'field_of_view_height': 512,\n",
       " 'behavior_session_uuid': UUID('40897cd4-3279-4a2d-b65d-b3f984e34e17'),\n",
       " 'field_of_view_width': 512,\n",
       " 'imaging_plane_group': 0,\n",
       " 'mouse_id': 457841,\n",
       " 'sex': 'F',\n",
       " 'age_in_days': 233,\n",
       " 'full_genotype': 'Sst-IRES-Cre/wt;Ai148(TIT2L-GC6f-ICL-tTA2)/wt',\n",
       " 'reporter_line': 'Ai148(TIT2L-GC6f-ICL-tTA2)',\n",
       " 'driver_line': ['Sst-IRES-Cre'],\n",
       " 'cre_line': 'Sst-IRES-Cre',\n",
       " 'date_of_acquisition': datetime.datetime(2019, 9, 27, 8, 28, 5, tzinfo=tzutc()),\n",
       " 'ophys_frame_rate': 11.0,\n",
       " 'indicator': 'GCaMP6f',\n",
       " 'targeted_structure': 'VISp',\n",
       " 'excitation_lambda': 910.0,\n",
       " 'emission_lambda': 520.0}"
      ]
     },
     "execution_count": 136,
     "metadata": {},
     "output_type": "execute_result"
    }
   ],
   "source": [
    "# Show metadata for this experiment\n",
    "experiment_dataset.metadata"
   ]
  },
  {
   "cell_type": "markdown",
   "metadata": {},
   "source": [
    "You can get information about this experiment from the metadata. Here, you can see that this experiment was in Sst Cre line, in a female mouse at 233 days old, recorded using mesoscope (this is one of 4 imaging planes), at the depth os 150 microns, in primary visual cortex (VISp). This experiment is also also from OPHYS 1 session using image set A.  "
   ]
  },
  {
   "cell_type": "code",
   "execution_count": 139,
   "metadata": {},
   "outputs": [
    {
     "data": {
      "text/html": [
       "<div>\n",
       "<style scoped>\n",
       "    .dataframe tbody tr th:only-of-type {\n",
       "        vertical-align: middle;\n",
       "    }\n",
       "\n",
       "    .dataframe tbody tr th {\n",
       "        vertical-align: top;\n",
       "    }\n",
       "\n",
       "    .dataframe thead th {\n",
       "        text-align: right;\n",
       "    }\n",
       "</style>\n",
       "<table border=\"1\" class=\"dataframe\">\n",
       "  <thead>\n",
       "    <tr style=\"text-align: right;\">\n",
       "      <th></th>\n",
       "      <th>cell_roi_id</th>\n",
       "      <th>dff</th>\n",
       "    </tr>\n",
       "    <tr>\n",
       "      <th>cell_specimen_id</th>\n",
       "      <th></th>\n",
       "      <th></th>\n",
       "    </tr>\n",
       "  </thead>\n",
       "  <tbody>\n",
       "    <tr>\n",
       "      <th>1086614149</th>\n",
       "      <td>1080740882</td>\n",
       "      <td>[0.3417784869670868, 0.1917504370212555, 0.169...</td>\n",
       "    </tr>\n",
       "    <tr>\n",
       "      <th>1086614819</th>\n",
       "      <td>1080740886</td>\n",
       "      <td>[0.0, -2.010002374649048, -1.3567286729812622,...</td>\n",
       "    </tr>\n",
       "    <tr>\n",
       "      <th>1086614512</th>\n",
       "      <td>1080740888</td>\n",
       "      <td>[0.07121878117322922, 0.10929209738969803, 0.0...</td>\n",
       "    </tr>\n",
       "    <tr>\n",
       "      <th>1086613265</th>\n",
       "      <td>1080740947</td>\n",
       "      <td>[0.3090711534023285, 0.02156120352447033, -0.0...</td>\n",
       "    </tr>\n",
       "    <tr>\n",
       "      <th>1086616398</th>\n",
       "      <td>1080740952</td>\n",
       "      <td>[0.0, 0.15438319742679596, 0.37885594367980957...</td>\n",
       "    </tr>\n",
       "    <tr>\n",
       "      <th>1086615620</th>\n",
       "      <td>1080740955</td>\n",
       "      <td>[0.15867245197296143, 0.15752384066581726, 0.2...</td>\n",
       "    </tr>\n",
       "    <tr>\n",
       "      <th>1086615201</th>\n",
       "      <td>1080740967</td>\n",
       "      <td>[0.42869994044303894, 0.23723232746124268, -0....</td>\n",
       "    </tr>\n",
       "    <tr>\n",
       "      <th>1086616101</th>\n",
       "      <td>1080741008</td>\n",
       "      <td>[0.727859377861023, 0.20604123175144196, 0.333...</td>\n",
       "    </tr>\n",
       "  </tbody>\n",
       "</table>\n",
       "</div>"
      ],
      "text/plain": [
       "                  cell_roi_id  \\\n",
       "cell_specimen_id                \n",
       "1086614149         1080740882   \n",
       "1086614819         1080740886   \n",
       "1086614512         1080740888   \n",
       "1086613265         1080740947   \n",
       "1086616398         1080740952   \n",
       "1086615620         1080740955   \n",
       "1086615201         1080740967   \n",
       "1086616101         1080741008   \n",
       "\n",
       "                                                                dff  \n",
       "cell_specimen_id                                                     \n",
       "1086614149        [0.3417784869670868, 0.1917504370212555, 0.169...  \n",
       "1086614819        [0.0, -2.010002374649048, -1.3567286729812622,...  \n",
       "1086614512        [0.07121878117322922, 0.10929209738969803, 0.0...  \n",
       "1086613265        [0.3090711534023285, 0.02156120352447033, -0.0...  \n",
       "1086616398        [0.0, 0.15438319742679596, 0.37885594367980957...  \n",
       "1086615620        [0.15867245197296143, 0.15752384066581726, 0.2...  \n",
       "1086615201        [0.42869994044303894, 0.23723232746124268, -0....  \n",
       "1086616101        [0.727859377861023, 0.20604123175144196, 0.333...  "
      ]
     },
     "execution_count": 139,
     "metadata": {},
     "output_type": "execute_result"
    }
   ],
   "source": [
    "# show first 10 dff traces for this experiment \n",
    "experiment_dataset.dff_traces.head(10)"
   ]
  },
  {
   "cell_type": "code",
   "execution_count": 140,
   "metadata": {
    "scrolled": true
   },
   "outputs": [
    {
     "data": {
      "text/html": [
       "<div>\n",
       "<style scoped>\n",
       "    .dataframe tbody tr th:only-of-type {\n",
       "        vertical-align: middle;\n",
       "    }\n",
       "\n",
       "    .dataframe tbody tr th {\n",
       "        vertical-align: top;\n",
       "    }\n",
       "\n",
       "    .dataframe thead th {\n",
       "        text-align: right;\n",
       "    }\n",
       "</style>\n",
       "<table border=\"1\" class=\"dataframe\">\n",
       "  <thead>\n",
       "    <tr style=\"text-align: right;\">\n",
       "      <th></th>\n",
       "      <th>cell_roi_id</th>\n",
       "      <th>events</th>\n",
       "      <th>filtered_events</th>\n",
       "      <th>lambda</th>\n",
       "      <th>noise_std</th>\n",
       "    </tr>\n",
       "    <tr>\n",
       "      <th>cell_specimen_id</th>\n",
       "      <th></th>\n",
       "      <th></th>\n",
       "      <th></th>\n",
       "      <th></th>\n",
       "      <th></th>\n",
       "    </tr>\n",
       "  </thead>\n",
       "  <tbody>\n",
       "    <tr>\n",
       "      <th>1086614149</th>\n",
       "      <td>1080740882</td>\n",
       "      <td>[0.0, 0.0, 0.0, 0.0, 0.0, 0.0, 0.0, 0.0, 0.0, ...</td>\n",
       "      <td>[0.0, 0.0, 0.0, 0.0, 0.0, 0.0, 0.0, 0.0, 0.0, ...</td>\n",
       "      <td>0.0753</td>\n",
       "      <td>0.085235</td>\n",
       "    </tr>\n",
       "    <tr>\n",
       "      <th>1086614819</th>\n",
       "      <td>1080740886</td>\n",
       "      <td>[0.0, 0.0, 0.0, 0.0, 0.0, 0.0, 0.0, 0.0, 0.0, ...</td>\n",
       "      <td>[0.0, 0.0, 0.0, 0.0, 0.0, 0.0, 0.0, 0.0, 0.0, ...</td>\n",
       "      <td>5.3130</td>\n",
       "      <td>0.714571</td>\n",
       "    </tr>\n",
       "    <tr>\n",
       "      <th>1086614512</th>\n",
       "      <td>1080740888</td>\n",
       "      <td>[0.0, 0.0, 0.0, 0.0, 0.0, 0.0, 0.0, 0.0, 0.0, ...</td>\n",
       "      <td>[0.0, 0.0, 0.0, 0.0, 0.0, 0.0, 0.0, 0.0, 0.0, ...</td>\n",
       "      <td>0.0324</td>\n",
       "      <td>0.055955</td>\n",
       "    </tr>\n",
       "    <tr>\n",
       "      <th>1086613265</th>\n",
       "      <td>1080740947</td>\n",
       "      <td>[0.0, 0.0, 0.0, 0.0, 0.0, 0.0, 0.0, 0.0, 0.0, ...</td>\n",
       "      <td>[0.0, 0.0, 0.0, 0.0, 0.0, 0.0, 0.0, 0.0, 0.0, ...</td>\n",
       "      <td>0.0272</td>\n",
       "      <td>0.051073</td>\n",
       "    </tr>\n",
       "    <tr>\n",
       "      <th>1086616398</th>\n",
       "      <td>1080740952</td>\n",
       "      <td>[0.0, 0.0, 0.0, 0.0, 0.0, 0.0, 0.0, 0.0, 0.0, ...</td>\n",
       "      <td>[0.0, 0.0, 0.0, 0.0, 0.0, 0.0, 0.0, 0.0, 0.0, ...</td>\n",
       "      <td>0.0570</td>\n",
       "      <td>0.074011</td>\n",
       "    </tr>\n",
       "    <tr>\n",
       "      <th>1086615620</th>\n",
       "      <td>1080740955</td>\n",
       "      <td>[0.0, 0.0, 0.0, 0.0, 0.0, 0.0, 0.0, 0.0, 0.0, ...</td>\n",
       "      <td>[0.0, 0.0, 0.0, 0.0, 0.0, 0.0, 0.0, 0.0, 0.0, ...</td>\n",
       "      <td>0.0769</td>\n",
       "      <td>0.086979</td>\n",
       "    </tr>\n",
       "    <tr>\n",
       "      <th>1086615201</th>\n",
       "      <td>1080740967</td>\n",
       "      <td>[0.0, 0.0, 0.0, 0.0, 0.0, 0.0, 0.0, 0.0, 0.0, ...</td>\n",
       "      <td>[0.0, 0.0, 0.0, 0.0, 0.0, 0.0, 0.0, 0.0, 0.0, ...</td>\n",
       "      <td>0.0872</td>\n",
       "      <td>0.091952</td>\n",
       "    </tr>\n",
       "    <tr>\n",
       "      <th>1086616101</th>\n",
       "      <td>1080741008</td>\n",
       "      <td>[0.0, 0.0, 0.0, 0.0, 0.0, 0.0, 0.0, 0.0, 0.0, ...</td>\n",
       "      <td>[0.0, 0.0, 0.0, 0.0, 0.0, 0.0, 0.0, 0.0, 0.0, ...</td>\n",
       "      <td>0.1596</td>\n",
       "      <td>0.123868</td>\n",
       "    </tr>\n",
       "  </tbody>\n",
       "</table>\n",
       "</div>"
      ],
      "text/plain": [
       "                  cell_roi_id  \\\n",
       "cell_specimen_id                \n",
       "1086614149         1080740882   \n",
       "1086614819         1080740886   \n",
       "1086614512         1080740888   \n",
       "1086613265         1080740947   \n",
       "1086616398         1080740952   \n",
       "1086615620         1080740955   \n",
       "1086615201         1080740967   \n",
       "1086616101         1080741008   \n",
       "\n",
       "                                                             events  \\\n",
       "cell_specimen_id                                                      \n",
       "1086614149        [0.0, 0.0, 0.0, 0.0, 0.0, 0.0, 0.0, 0.0, 0.0, ...   \n",
       "1086614819        [0.0, 0.0, 0.0, 0.0, 0.0, 0.0, 0.0, 0.0, 0.0, ...   \n",
       "1086614512        [0.0, 0.0, 0.0, 0.0, 0.0, 0.0, 0.0, 0.0, 0.0, ...   \n",
       "1086613265        [0.0, 0.0, 0.0, 0.0, 0.0, 0.0, 0.0, 0.0, 0.0, ...   \n",
       "1086616398        [0.0, 0.0, 0.0, 0.0, 0.0, 0.0, 0.0, 0.0, 0.0, ...   \n",
       "1086615620        [0.0, 0.0, 0.0, 0.0, 0.0, 0.0, 0.0, 0.0, 0.0, ...   \n",
       "1086615201        [0.0, 0.0, 0.0, 0.0, 0.0, 0.0, 0.0, 0.0, 0.0, ...   \n",
       "1086616101        [0.0, 0.0, 0.0, 0.0, 0.0, 0.0, 0.0, 0.0, 0.0, ...   \n",
       "\n",
       "                                                    filtered_events  lambda  \\\n",
       "cell_specimen_id                                                              \n",
       "1086614149        [0.0, 0.0, 0.0, 0.0, 0.0, 0.0, 0.0, 0.0, 0.0, ...  0.0753   \n",
       "1086614819        [0.0, 0.0, 0.0, 0.0, 0.0, 0.0, 0.0, 0.0, 0.0, ...  5.3130   \n",
       "1086614512        [0.0, 0.0, 0.0, 0.0, 0.0, 0.0, 0.0, 0.0, 0.0, ...  0.0324   \n",
       "1086613265        [0.0, 0.0, 0.0, 0.0, 0.0, 0.0, 0.0, 0.0, 0.0, ...  0.0272   \n",
       "1086616398        [0.0, 0.0, 0.0, 0.0, 0.0, 0.0, 0.0, 0.0, 0.0, ...  0.0570   \n",
       "1086615620        [0.0, 0.0, 0.0, 0.0, 0.0, 0.0, 0.0, 0.0, 0.0, ...  0.0769   \n",
       "1086615201        [0.0, 0.0, 0.0, 0.0, 0.0, 0.0, 0.0, 0.0, 0.0, ...  0.0872   \n",
       "1086616101        [0.0, 0.0, 0.0, 0.0, 0.0, 0.0, 0.0, 0.0, 0.0, ...  0.1596   \n",
       "\n",
       "                  noise_std  \n",
       "cell_specimen_id             \n",
       "1086614149         0.085235  \n",
       "1086614819         0.714571  \n",
       "1086614512         0.055955  \n",
       "1086613265         0.051073  \n",
       "1086616398         0.074011  \n",
       "1086615620         0.086979  \n",
       "1086615201         0.091952  \n",
       "1086616101         0.123868  "
      ]
     },
     "execution_count": 140,
     "metadata": {},
     "output_type": "execute_result"
    }
   ],
   "source": [
    "# show first 10 events traces for this experiment \n",
    "experiment_dataset.events.head(10)"
   ]
  },
  {
   "cell_type": "code",
   "execution_count": 141,
   "metadata": {
    "scrolled": true
   },
   "outputs": [
    {
     "data": {
      "text/plain": [
       "<matplotlib.image.AxesImage at 0x23fb48ed7c8>"
      ]
     },
     "execution_count": 141,
     "metadata": {},
     "output_type": "execute_result"
    },
    {
     "data": {
      "image/png": "[encoded data removed]",
      "text/plain": [
       "<Figure size 432x288 with 1 Axes>"
      ]
     },
     "metadata": {
      "needs_background": "light"
     },
     "output_type": "display_data"
    }
   ],
   "source": [
    "# plot max projection from this experiment\n",
    "plt.imshow(experiment_dataset.max_projection, cmap='gray')"
   ]
  },
  {
   "cell_type": "code",
   "execution_count": 142,
   "metadata": {},
   "outputs": [
    {
     "data": {
      "text/plain": [
       "(23, 48332)"
      ]
     },
     "execution_count": 142,
     "metadata": {},
     "output_type": "execute_result"
    }
   ],
   "source": [
    "# if you don't want dff in a pandas table, you can load dataset dff traces as an array\n",
    "dff_array = np.vstack(dataset.dff_traces.dff.values)\n",
    "dff_array.shape"
   ]
  },
  {
   "cell_type": "code",
   "execution_count": 143,
   "metadata": {
    "scrolled": true
   },
   "outputs": [
    {
     "data": {
      "text/plain": [
       "array([   9.65504,    9.74825,    9.84147, ..., 4515.4854 , 4515.57863,\n",
       "       4515.67187])"
      ]
     },
     "execution_count": 143,
     "metadata": {},
     "output_type": "execute_result"
    }
   ],
   "source": [
    "# load ophys timestamps. The timestamps are the same for dff traces and events, in seconds\n",
    "dataset.ophys_timestamps"
   ]
  },
  {
   "cell_type": "code",
   "execution_count": 145,
   "metadata": {
    "scrolled": true
   },
   "outputs": [
    {
     "data": {
      "text/html": [
       "<div>\n",
       "<style scoped>\n",
       "    .dataframe tbody tr th:only-of-type {\n",
       "        vertical-align: middle;\n",
       "    }\n",
       "\n",
       "    .dataframe tbody tr th {\n",
       "        vertical-align: top;\n",
       "    }\n",
       "\n",
       "    .dataframe thead th {\n",
       "        text-align: right;\n",
       "    }\n",
       "</style>\n",
       "<table border=\"1\" class=\"dataframe\">\n",
       "  <thead>\n",
       "    <tr style=\"text-align: right;\">\n",
       "      <th></th>\n",
       "      <th>cell_roi_id</th>\n",
       "      <th>height</th>\n",
       "      <th>mask_image_plane</th>\n",
       "      <th>max_correction_down</th>\n",
       "      <th>max_correction_left</th>\n",
       "      <th>max_correction_right</th>\n",
       "      <th>max_correction_up</th>\n",
       "      <th>valid_roi</th>\n",
       "      <th>width</th>\n",
       "      <th>x</th>\n",
       "      <th>y</th>\n",
       "      <th>roi_mask</th>\n",
       "    </tr>\n",
       "    <tr>\n",
       "      <th>cell_specimen_id</th>\n",
       "      <th></th>\n",
       "      <th></th>\n",
       "      <th></th>\n",
       "      <th></th>\n",
       "      <th></th>\n",
       "      <th></th>\n",
       "      <th></th>\n",
       "      <th></th>\n",
       "      <th></th>\n",
       "      <th></th>\n",
       "      <th></th>\n",
       "      <th></th>\n",
       "    </tr>\n",
       "  </thead>\n",
       "  <tbody>\n",
       "    <tr>\n",
       "      <th>1086614149</th>\n",
       "      <td>1080740882</td>\n",
       "      <td>16</td>\n",
       "      <td>0</td>\n",
       "      <td>5.0</td>\n",
       "      <td>25.0</td>\n",
       "      <td>3.0</td>\n",
       "      <td>30.0</td>\n",
       "      <td>True</td>\n",
       "      <td>17</td>\n",
       "      <td>216</td>\n",
       "      <td>456</td>\n",
       "      <td>[[False, False, False, False, False, False, Fa...</td>\n",
       "    </tr>\n",
       "    <tr>\n",
       "      <th>1086614819</th>\n",
       "      <td>1080740886</td>\n",
       "      <td>22</td>\n",
       "      <td>0</td>\n",
       "      <td>5.0</td>\n",
       "      <td>25.0</td>\n",
       "      <td>3.0</td>\n",
       "      <td>30.0</td>\n",
       "      <td>True</td>\n",
       "      <td>16</td>\n",
       "      <td>443</td>\n",
       "      <td>275</td>\n",
       "      <td>[[False, False, False, False, False, False, Fa...</td>\n",
       "    </tr>\n",
       "    <tr>\n",
       "      <th>1086614512</th>\n",
       "      <td>1080740888</td>\n",
       "      <td>19</td>\n",
       "      <td>0</td>\n",
       "      <td>5.0</td>\n",
       "      <td>25.0</td>\n",
       "      <td>3.0</td>\n",
       "      <td>30.0</td>\n",
       "      <td>True</td>\n",
       "      <td>22</td>\n",
       "      <td>248</td>\n",
       "      <td>294</td>\n",
       "      <td>[[False, False, False, False, False, False, Fa...</td>\n",
       "    </tr>\n",
       "    <tr>\n",
       "      <th>1086613265</th>\n",
       "      <td>1080740947</td>\n",
       "      <td>20</td>\n",
       "      <td>0</td>\n",
       "      <td>5.0</td>\n",
       "      <td>25.0</td>\n",
       "      <td>3.0</td>\n",
       "      <td>30.0</td>\n",
       "      <td>True</td>\n",
       "      <td>21</td>\n",
       "      <td>305</td>\n",
       "      <td>183</td>\n",
       "      <td>[[False, False, False, False, False, False, Fa...</td>\n",
       "    </tr>\n",
       "    <tr>\n",
       "      <th>1086616398</th>\n",
       "      <td>1080740952</td>\n",
       "      <td>20</td>\n",
       "      <td>0</td>\n",
       "      <td>5.0</td>\n",
       "      <td>25.0</td>\n",
       "      <td>3.0</td>\n",
       "      <td>30.0</td>\n",
       "      <td>True</td>\n",
       "      <td>19</td>\n",
       "      <td>220</td>\n",
       "      <td>161</td>\n",
       "      <td>[[False, False, False, False, False, False, Fa...</td>\n",
       "    </tr>\n",
       "  </tbody>\n",
       "</table>\n",
       "</div>"
      ],
      "text/plain": [
       "                  cell_roi_id  height  mask_image_plane  max_correction_down  \\\n",
       "cell_specimen_id                                                               \n",
       "1086614149         1080740882      16                 0                  5.0   \n",
       "1086614819         1080740886      22                 0                  5.0   \n",
       "1086614512         1080740888      19                 0                  5.0   \n",
       "1086613265         1080740947      20                 0                  5.0   \n",
       "1086616398         1080740952      20                 0                  5.0   \n",
       "\n",
       "                  max_correction_left  max_correction_right  \\\n",
       "cell_specimen_id                                              \n",
       "1086614149                       25.0                   3.0   \n",
       "1086614819                       25.0                   3.0   \n",
       "1086614512                       25.0                   3.0   \n",
       "1086613265                       25.0                   3.0   \n",
       "1086616398                       25.0                   3.0   \n",
       "\n",
       "                  max_correction_up  valid_roi  width    x    y  \\\n",
       "cell_specimen_id                                                  \n",
       "1086614149                     30.0       True     17  216  456   \n",
       "1086614819                     30.0       True     16  443  275   \n",
       "1086614512                     30.0       True     22  248  294   \n",
       "1086613265                     30.0       True     21  305  183   \n",
       "1086616398                     30.0       True     19  220  161   \n",
       "\n",
       "                                                           roi_mask  \n",
       "cell_specimen_id                                                     \n",
       "1086614149        [[False, False, False, False, False, False, Fa...  \n",
       "1086614819        [[False, False, False, False, False, False, Fa...  \n",
       "1086614512        [[False, False, False, False, False, False, Fa...  \n",
       "1086613265        [[False, False, False, False, False, False, Fa...  \n",
       "1086616398        [[False, False, False, False, False, False, Fa...  "
      ]
     },
     "execution_count": 145,
     "metadata": {},
     "output_type": "execute_result"
    }
   ],
   "source": [
    "# load cell specimen table with some of cell metrics \n",
    "experiment_dataset.cell_specimen_table.head(5)"
   ]
  },
  {
   "cell_type": "markdown",
   "metadata": {},
   "source": [
    "### Pick a cell and plot the traces"
   ]
  },
  {
   "cell_type": "code",
   "execution_count": 147,
   "metadata": {},
   "outputs": [
    {
     "name": "stdout",
     "output_type": "stream",
     "text": [
      "Cell specimen id = 1086607431\n"
     ]
    }
   ],
   "source": [
    "\n",
    "cell_specimen_ids = dataset.cell_specimen_table.index.values # a list of all cell ids\n",
    "cell_specimen_id = cell_specimen_ids[5] # let's pick 6th cell\n",
    "print('Cell specimen id = {}'.format(cell_specimen_id)) # print id"
   ]
  },
  {
   "cell_type": "code",
   "execution_count": 148,
   "metadata": {},
   "outputs": [
    {
     "data": {
      "text/plain": [
       "<matplotlib.legend.Legend at 0x23fb5066cc8>"
      ]
     },
     "execution_count": 148,
     "metadata": {},
     "output_type": "execute_result"
    },
    {
     "data": {
      "image/png": "[encoded data removed]",
      "text/plain": [
       "<Figure size 1440x720 with 1 Axes>"
      ]
     },
     "metadata": {
      "needs_background": "light"
     },
     "output_type": "display_data"
    }
   ],
   "source": [
    "# plot dff and events traces overlaid from the cell selected above\n",
    "fig, ax = plt.subplots(1,1, figsize = (20,10))\n",
    "ax.plot(dataset.ophys_timestamps, dataset.dff_traces.loc[cell_specimen_id, 'dff'])\n",
    "ax.plot(dataset.ophys_timestamps, dataset.events.loc[cell_specimen_id, 'events'])\n",
    "ax.set_xlabel('time (seconds)')\n",
    "ax.set_ylabel('trace magnitude')\n",
    "ax.set_title('Cell specimen id = {}'.format(cell_specimen_id), fontsize = 20)\n",
    "ax.legend(['dff', 'events'], fontsize = 20)\n"
   ]
  },
  {
   "cell_type": "code",
   "execution_count": 149,
   "metadata": {},
   "outputs": [
    {
     "data": {
      "text/plain": [
       "Text(0.5, 1.0, 'Ophys experiment 957759562')"
      ]
     },
     "execution_count": 149,
     "metadata": {},
     "output_type": "execute_result"
    },
    {
     "data": {
      "image/png": "[encoded data removed]",
      "text/plain": [
       "<Figure size 1440x360 with 1 Axes>"
      ]
     },
     "metadata": {
      "needs_background": "light"
     },
     "output_type": "display_data"
    }
   ],
   "source": [
    "# plot mouse running speed from this experiment\n",
    "fig, ax = plt.subplots(1,1, figsize = (20,5))\n",
    "ax.plot(dataset.stimulus_timestamps, dataset.running_speed['speed'])\n",
    "ax.set_xlabel('time (seconds)')\n",
    "ax.set_ylabel('running speed (cm/s)')\n",
    "ax.set_title('Ophys experiment {}'.format(ophys_experiment_id), fontsize = 20)"
   ]
  },
  {
   "cell_type": "code",
   "execution_count": 150,
   "metadata": {},
   "outputs": [
    {
     "name": "stderr",
     "output_type": "stream",
     "text": [
      "c:\\users\\iryna.yavorska\\documents\\github\\allensdk\\allensdk\\brain_observatory\\behavior\\session_apis\\data_io\\behavior_ophys_nwb_api.py:273: SettingWithCopyWarning: \n",
      "A value is trying to be set on a copy of a slice from a DataFrame\n",
      "\n",
      "See the caveats in the documentation: http://pandas.pydata.org/pandas-docs/stable/user_guide/indexing.html#returning-a-view-versus-a-copy\n",
      "  eye_tracking_data[\"eye_area\"][likely_blinks] = np.nan\n",
      "c:\\users\\iryna.yavorska\\documents\\github\\allensdk\\allensdk\\brain_observatory\\behavior\\session_apis\\data_io\\behavior_ophys_nwb_api.py:274: SettingWithCopyWarning: \n",
      "A value is trying to be set on a copy of a slice from a DataFrame\n",
      "\n",
      "See the caveats in the documentation: http://pandas.pydata.org/pandas-docs/stable/user_guide/indexing.html#returning-a-view-versus-a-copy\n",
      "  eye_tracking_data[\"pupil_area\"][likely_blinks] = np.nan\n",
      "c:\\users\\iryna.yavorska\\documents\\github\\allensdk\\allensdk\\brain_observatory\\behavior\\session_apis\\data_io\\behavior_ophys_nwb_api.py:275: SettingWithCopyWarning: \n",
      "A value is trying to be set on a copy of a slice from a DataFrame\n",
      "\n",
      "See the caveats in the documentation: http://pandas.pydata.org/pandas-docs/stable/user_guide/indexing.html#returning-a-view-versus-a-copy\n",
      "  eye_tracking_data[\"cr_area\"][likely_blinks] = np.nan\n"
     ]
    },
    {
     "data": {
      "text/plain": [
       "Text(0.5, 1.0, 'Ophys experiment 957759562')"
      ]
     },
     "execution_count": 150,
     "metadata": {},
     "output_type": "execute_result"
    },
    {
     "data": {
      "image/png": "[encoded data removed]",
      "text/plain": [
       "<Figure size 1440x360 with 1 Axes>"
      ]
     },
     "metadata": {
      "needs_background": "light"
     },
     "output_type": "display_data"
    }
   ],
   "source": [
    "# plot pupil diameter for the same experiment\n",
    "fig, ax = plt.subplots(1,1, figsize = (20,5))\n",
    "ax.plot(experiment_dataset.eye_tracking.timestamps, experiment_dataset.eye_tracking.pupil_width)\n",
    "ax.set_xlabel('time (seconds)')\n",
    "ax.set_ylabel('pupil diameter')\n",
    "ax.set_title('Ophys experiment {}'.format(ophys_experiment_id), fontsize = 20)"
   ]
  },
  {
   "cell_type": "markdown",
   "metadata": {},
   "source": [
    "Large spikes in the trace can be due to blinking. They can be smoothed or filtered."
   ]
  },
  {
   "cell_type": "code",
   "execution_count": 173,
   "metadata": {
    "scrolled": true
   },
   "outputs": [
    {
     "data": {
      "text/plain": [
       "Text(0.5, 1.0, 'Ophys experiment 957759562')"
      ]
     },
     "execution_count": 173,
     "metadata": {},
     "output_type": "execute_result"
    },
    {
     "data": {
      "image/png": "[encoded data removed]",
      "text/plain": [
       "<Figure size 1440x360 with 1 Axes>"
      ]
     },
     "metadata": {
      "needs_background": "light"
     },
     "output_type": "display_data"
    }
   ],
   "source": [
    "import scipy.signal as signal\n",
    "# you can smooth or filter signals with your choice of methods in scipy library. \n",
    "\n",
    "smoothed_pupil_diameter = signal.savgol_filter(experiment_dataset.eye_tracking.pupil_width, 51, 5, mode='nearest')\n",
    "\n",
    "fig, ax = plt.subplots(1,1, figsize = (20,5))\n",
    "ax.plot(experiment_dataset.eye_tracking.timestamps, smoothed_pupil_diameter)\n",
    "ax.set_xlabel('time (seconds)')\n",
    "ax.set_ylabel('pupil diameter, filtered')\n",
    "ax.set_title('Ophys experiment {}'.format(ophys_experiment_id), fontsize = 20)"
   ]
  },
  {
   "cell_type": "markdown",
   "metadata": {},
   "source": [
    "### Get information about stimuli presented on each trial"
   ]
  },
  {
   "cell_type": "code",
   "execution_count": 153,
   "metadata": {},
   "outputs": [
    {
     "data": {
      "text/html": [
       "<div>\n",
       "<style scoped>\n",
       "    .dataframe tbody tr th:only-of-type {\n",
       "        vertical-align: middle;\n",
       "    }\n",
       "\n",
       "    .dataframe tbody tr th {\n",
       "        vertical-align: top;\n",
       "    }\n",
       "\n",
       "    .dataframe thead th {\n",
       "        text-align: right;\n",
       "    }\n",
       "</style>\n",
       "<table border=\"1\" class=\"dataframe\">\n",
       "  <thead>\n",
       "    <tr style=\"text-align: right;\">\n",
       "      <th></th>\n",
       "      <th>duration</th>\n",
       "      <th>end_frame</th>\n",
       "      <th>image_index</th>\n",
       "      <th>image_name</th>\n",
       "      <th>image_set</th>\n",
       "      <th>index</th>\n",
       "      <th>omitted</th>\n",
       "      <th>start_frame</th>\n",
       "      <th>start_time</th>\n",
       "      <th>stop_time</th>\n",
       "    </tr>\n",
       "    <tr>\n",
       "      <th>stimulus_presentations_id</th>\n",
       "      <th></th>\n",
       "      <th></th>\n",
       "      <th></th>\n",
       "      <th></th>\n",
       "      <th></th>\n",
       "      <th></th>\n",
       "      <th></th>\n",
       "      <th></th>\n",
       "      <th></th>\n",
       "      <th></th>\n",
       "    </tr>\n",
       "  </thead>\n",
       "  <tbody>\n",
       "    <tr>\n",
       "      <th>0</th>\n",
       "      <td>0.25020</td>\n",
       "      <td>18001.0</td>\n",
       "      <td>0</td>\n",
       "      <td>im000</td>\n",
       "      <td>Natural_Images_Lum_Matched_set_ophys_6_2017.07.14</td>\n",
       "      <td>0</td>\n",
       "      <td>False</td>\n",
       "      <td>17986</td>\n",
       "      <td>308.75313</td>\n",
       "      <td>309.00333</td>\n",
       "    </tr>\n",
       "    <tr>\n",
       "      <th>1</th>\n",
       "      <td>0.25020</td>\n",
       "      <td>18046.0</td>\n",
       "      <td>0</td>\n",
       "      <td>im000</td>\n",
       "      <td>Natural_Images_Lum_Matched_set_ophys_6_2017.07.14</td>\n",
       "      <td>1</td>\n",
       "      <td>False</td>\n",
       "      <td>18031</td>\n",
       "      <td>309.50374</td>\n",
       "      <td>309.75394</td>\n",
       "    </tr>\n",
       "    <tr>\n",
       "      <th>2</th>\n",
       "      <td>0.25017</td>\n",
       "      <td>18091.0</td>\n",
       "      <td>0</td>\n",
       "      <td>im000</td>\n",
       "      <td>Natural_Images_Lum_Matched_set_ophys_6_2017.07.14</td>\n",
       "      <td>2</td>\n",
       "      <td>False</td>\n",
       "      <td>18076</td>\n",
       "      <td>310.25441</td>\n",
       "      <td>310.50458</td>\n",
       "    </tr>\n",
       "    <tr>\n",
       "      <th>3</th>\n",
       "      <td>0.25026</td>\n",
       "      <td>18136.0</td>\n",
       "      <td>0</td>\n",
       "      <td>im000</td>\n",
       "      <td>Natural_Images_Lum_Matched_set_ophys_6_2017.07.14</td>\n",
       "      <td>3</td>\n",
       "      <td>False</td>\n",
       "      <td>18121</td>\n",
       "      <td>311.00496</td>\n",
       "      <td>311.25522</td>\n",
       "    </tr>\n",
       "    <tr>\n",
       "      <th>4</th>\n",
       "      <td>0.25020</td>\n",
       "      <td>18181.0</td>\n",
       "      <td>0</td>\n",
       "      <td>im000</td>\n",
       "      <td>Natural_Images_Lum_Matched_set_ophys_6_2017.07.14</td>\n",
       "      <td>4</td>\n",
       "      <td>False</td>\n",
       "      <td>18166</td>\n",
       "      <td>311.75558</td>\n",
       "      <td>312.00578</td>\n",
       "    </tr>\n",
       "    <tr>\n",
       "      <th>5</th>\n",
       "      <td>0.25021</td>\n",
       "      <td>18226.0</td>\n",
       "      <td>0</td>\n",
       "      <td>im000</td>\n",
       "      <td>Natural_Images_Lum_Matched_set_ophys_6_2017.07.14</td>\n",
       "      <td>5</td>\n",
       "      <td>False</td>\n",
       "      <td>18211</td>\n",
       "      <td>312.50620</td>\n",
       "      <td>312.75641</td>\n",
       "    </tr>\n",
       "    <tr>\n",
       "      <th>6</th>\n",
       "      <td>0.25022</td>\n",
       "      <td>18271.0</td>\n",
       "      <td>0</td>\n",
       "      <td>im000</td>\n",
       "      <td>Natural_Images_Lum_Matched_set_ophys_6_2017.07.14</td>\n",
       "      <td>6</td>\n",
       "      <td>False</td>\n",
       "      <td>18256</td>\n",
       "      <td>313.25681</td>\n",
       "      <td>313.50703</td>\n",
       "    </tr>\n",
       "    <tr>\n",
       "      <th>7</th>\n",
       "      <td>0.25020</td>\n",
       "      <td>18316.0</td>\n",
       "      <td>6</td>\n",
       "      <td>im031</td>\n",
       "      <td>Natural_Images_Lum_Matched_set_ophys_6_2017.07.14</td>\n",
       "      <td>7</td>\n",
       "      <td>False</td>\n",
       "      <td>18301</td>\n",
       "      <td>314.00741</td>\n",
       "      <td>314.25761</td>\n",
       "    </tr>\n",
       "    <tr>\n",
       "      <th>8</th>\n",
       "      <td>0.25020</td>\n",
       "      <td>18361.0</td>\n",
       "      <td>6</td>\n",
       "      <td>im031</td>\n",
       "      <td>Natural_Images_Lum_Matched_set_ophys_6_2017.07.14</td>\n",
       "      <td>8</td>\n",
       "      <td>False</td>\n",
       "      <td>18346</td>\n",
       "      <td>314.75803</td>\n",
       "      <td>315.00823</td>\n",
       "    </tr>\n",
       "    <tr>\n",
       "      <th>9</th>\n",
       "      <td>0.25019</td>\n",
       "      <td>18406.0</td>\n",
       "      <td>6</td>\n",
       "      <td>im031</td>\n",
       "      <td>Natural_Images_Lum_Matched_set_ophys_6_2017.07.14</td>\n",
       "      <td>9</td>\n",
       "      <td>False</td>\n",
       "      <td>18391</td>\n",
       "      <td>315.50864</td>\n",
       "      <td>315.75883</td>\n",
       "    </tr>\n",
       "  </tbody>\n",
       "</table>\n",
       "</div>"
      ],
      "text/plain": [
       "                           duration  end_frame  image_index image_name  \\\n",
       "stimulus_presentations_id                                                \n",
       "0                           0.25020    18001.0            0      im000   \n",
       "1                           0.25020    18046.0            0      im000   \n",
       "2                           0.25017    18091.0            0      im000   \n",
       "3                           0.25026    18136.0            0      im000   \n",
       "4                           0.25020    18181.0            0      im000   \n",
       "5                           0.25021    18226.0            0      im000   \n",
       "6                           0.25022    18271.0            0      im000   \n",
       "7                           0.25020    18316.0            6      im031   \n",
       "8                           0.25020    18361.0            6      im031   \n",
       "9                           0.25019    18406.0            6      im031   \n",
       "\n",
       "                                                                   image_set  \\\n",
       "stimulus_presentations_id                                                      \n",
       "0                          Natural_Images_Lum_Matched_set_ophys_6_2017.07.14   \n",
       "1                          Natural_Images_Lum_Matched_set_ophys_6_2017.07.14   \n",
       "2                          Natural_Images_Lum_Matched_set_ophys_6_2017.07.14   \n",
       "3                          Natural_Images_Lum_Matched_set_ophys_6_2017.07.14   \n",
       "4                          Natural_Images_Lum_Matched_set_ophys_6_2017.07.14   \n",
       "5                          Natural_Images_Lum_Matched_set_ophys_6_2017.07.14   \n",
       "6                          Natural_Images_Lum_Matched_set_ophys_6_2017.07.14   \n",
       "7                          Natural_Images_Lum_Matched_set_ophys_6_2017.07.14   \n",
       "8                          Natural_Images_Lum_Matched_set_ophys_6_2017.07.14   \n",
       "9                          Natural_Images_Lum_Matched_set_ophys_6_2017.07.14   \n",
       "\n",
       "                           index  omitted  start_frame  start_time  stop_time  \n",
       "stimulus_presentations_id                                                      \n",
       "0                              0    False        17986   308.75313  309.00333  \n",
       "1                              1    False        18031   309.50374  309.75394  \n",
       "2                              2    False        18076   310.25441  310.50458  \n",
       "3                              3    False        18121   311.00496  311.25522  \n",
       "4                              4    False        18166   311.75558  312.00578  \n",
       "5                              5    False        18211   312.50620  312.75641  \n",
       "6                              6    False        18256   313.25681  313.50703  \n",
       "7                              7    False        18301   314.00741  314.25761  \n",
       "8                              8    False        18346   314.75803  315.00823  \n",
       "9                              9    False        18391   315.50864  315.75883  "
      ]
     },
     "execution_count": 153,
     "metadata": {},
     "output_type": "execute_result"
    }
   ],
   "source": [
    "# get stimulus information for this experiment and assign it to a table called \"stimulus_table\"\n",
    "stimulus_table = experiment_dataset.stimulus_presentations\n",
    "stimulus_table.head(10)"
   ]
  },
  {
   "cell_type": "markdown",
   "metadata": {},
   "source": [
    "This table provides informationa bout image name, start, duration and stop of image presentation, and whether the image was omitted. "
   ]
  },
  {
   "cell_type": "code",
   "execution_count": 154,
   "metadata": {},
   "outputs": [
    {
     "name": "stdout",
     "output_type": "stream",
     "text": [
      "This experiment had 4797 stimuli.\n",
      "Out of all stimuli presented, 160 were omitted.\n"
     ]
    }
   ],
   "source": [
    "print('This experiment had {} stimuli.'.format(len(stimulus_table)))\n",
    "print('Out of all stimuli presented, {} were omitted.'.format(len(stimulus_table[stimulus_table['image_name']=='omitted'])))\n"
   ]
  },
  {
   "cell_type": "code",
   "execution_count": 155,
   "metadata": {
    "scrolled": true
   },
   "outputs": [
    {
     "data": {
      "text/plain": [
       "Index(['duration', 'end_frame', 'image_index', 'image_name', 'image_set',\n",
       "       'index', 'omitted', 'start_frame', 'start_time', 'stop_time'],\n",
       "      dtype='object')"
      ]
     },
     "execution_count": 155,
     "metadata": {},
     "output_type": "execute_result"
    }
   ],
   "source": [
    "# You can also use \"keys()\" method to see the names of the columns in the stimulus table\n",
    "stimulus_table.keys()"
   ]
  },
  {
   "cell_type": "markdown",
   "metadata": {},
   "source": [
    "### Get task and behavioral information for each trial"
   ]
  },
  {
   "cell_type": "code",
   "execution_count": 157,
   "metadata": {},
   "outputs": [
    {
     "data": {
      "text/html": [
       "<div>\n",
       "<style scoped>\n",
       "    .dataframe tbody tr th:only-of-type {\n",
       "        vertical-align: middle;\n",
       "    }\n",
       "\n",
       "    .dataframe tbody tr th {\n",
       "        vertical-align: top;\n",
       "    }\n",
       "\n",
       "    .dataframe thead th {\n",
       "        text-align: right;\n",
       "    }\n",
       "</style>\n",
       "<table border=\"1\" class=\"dataframe\">\n",
       "  <thead>\n",
       "    <tr style=\"text-align: right;\">\n",
       "      <th></th>\n",
       "      <th>start_time</th>\n",
       "      <th>stop_time</th>\n",
       "      <th>lick_times</th>\n",
       "      <th>reward_time</th>\n",
       "      <th>reward_volume</th>\n",
       "      <th>hit</th>\n",
       "      <th>false_alarm</th>\n",
       "      <th>miss</th>\n",
       "      <th>stimulus_change</th>\n",
       "      <th>aborted</th>\n",
       "      <th>...</th>\n",
       "      <th>catch</th>\n",
       "      <th>auto_rewarded</th>\n",
       "      <th>correct_reject</th>\n",
       "      <th>trial_length</th>\n",
       "      <th>response_time</th>\n",
       "      <th>change_frame</th>\n",
       "      <th>change_time</th>\n",
       "      <th>response_latency</th>\n",
       "      <th>initial_image_name</th>\n",
       "      <th>change_image_name</th>\n",
       "    </tr>\n",
       "    <tr>\n",
       "      <th>trials_id</th>\n",
       "      <th></th>\n",
       "      <th></th>\n",
       "      <th></th>\n",
       "      <th></th>\n",
       "      <th></th>\n",
       "      <th></th>\n",
       "      <th></th>\n",
       "      <th></th>\n",
       "      <th></th>\n",
       "      <th></th>\n",
       "      <th></th>\n",
       "      <th></th>\n",
       "      <th></th>\n",
       "      <th></th>\n",
       "      <th></th>\n",
       "      <th></th>\n",
       "      <th></th>\n",
       "      <th></th>\n",
       "      <th></th>\n",
       "      <th></th>\n",
       "      <th></th>\n",
       "    </tr>\n",
       "  </thead>\n",
       "  <tbody>\n",
       "    <tr>\n",
       "      <th>0</th>\n",
       "      <td>308.73646</td>\n",
       "      <td>309.85402</td>\n",
       "      <td>[309.12011, 309.30359, 309.53711]</td>\n",
       "      <td>NaN</td>\n",
       "      <td>0.000</td>\n",
       "      <td>False</td>\n",
       "      <td>False</td>\n",
       "      <td>False</td>\n",
       "      <td>False</td>\n",
       "      <td>True</td>\n",
       "      <td>...</td>\n",
       "      <td>False</td>\n",
       "      <td>False</td>\n",
       "      <td>False</td>\n",
       "      <td>1.11756</td>\n",
       "      <td>NaN</td>\n",
       "      <td>NaN</td>\n",
       "      <td>NaN</td>\n",
       "      <td>NaN</td>\n",
       "      <td>im000</td>\n",
       "      <td>im000</td>\n",
       "    </tr>\n",
       "    <tr>\n",
       "      <th>1</th>\n",
       "      <td>310.23770</td>\n",
       "      <td>318.26089</td>\n",
       "      <td>[314.37439, 314.50783, 314.64127, 314.79139, 3...</td>\n",
       "      <td>314.14086</td>\n",
       "      <td>0.005</td>\n",
       "      <td>False</td>\n",
       "      <td>False</td>\n",
       "      <td>False</td>\n",
       "      <td>True</td>\n",
       "      <td>False</td>\n",
       "      <td>...</td>\n",
       "      <td>False</td>\n",
       "      <td>True</td>\n",
       "      <td>False</td>\n",
       "      <td>8.02319</td>\n",
       "      <td>314.37439</td>\n",
       "      <td>18300.0</td>\n",
       "      <td>314.026728</td>\n",
       "      <td>0.347662</td>\n",
       "      <td>im000</td>\n",
       "      <td>im031</td>\n",
       "    </tr>\n",
       "    <tr>\n",
       "      <th>2</th>\n",
       "      <td>318.49442</td>\n",
       "      <td>319.37846</td>\n",
       "      <td>[318.6779, 318.86138, 319.06156, 319.39515, 31...</td>\n",
       "      <td>NaN</td>\n",
       "      <td>0.000</td>\n",
       "      <td>False</td>\n",
       "      <td>False</td>\n",
       "      <td>False</td>\n",
       "      <td>False</td>\n",
       "      <td>True</td>\n",
       "      <td>...</td>\n",
       "      <td>False</td>\n",
       "      <td>False</td>\n",
       "      <td>False</td>\n",
       "      <td>0.88404</td>\n",
       "      <td>NaN</td>\n",
       "      <td>NaN</td>\n",
       "      <td>NaN</td>\n",
       "      <td>NaN</td>\n",
       "      <td>im031</td>\n",
       "      <td>im031</td>\n",
       "    </tr>\n",
       "    <tr>\n",
       "      <th>3</th>\n",
       "      <td>319.99565</td>\n",
       "      <td>323.19826</td>\n",
       "      <td>[322.58109, 322.71452, 322.88134, 323.46514, 3...</td>\n",
       "      <td>NaN</td>\n",
       "      <td>0.000</td>\n",
       "      <td>False</td>\n",
       "      <td>False</td>\n",
       "      <td>False</td>\n",
       "      <td>False</td>\n",
       "      <td>True</td>\n",
       "      <td>...</td>\n",
       "      <td>False</td>\n",
       "      <td>False</td>\n",
       "      <td>False</td>\n",
       "      <td>3.20261</td>\n",
       "      <td>NaN</td>\n",
       "      <td>NaN</td>\n",
       "      <td>NaN</td>\n",
       "      <td>NaN</td>\n",
       "      <td>im031</td>\n",
       "      <td>im031</td>\n",
       "    </tr>\n",
       "    <tr>\n",
       "      <th>4</th>\n",
       "      <td>323.73205</td>\n",
       "      <td>331.02131</td>\n",
       "      <td>[327.1515, 327.26826, 327.38503, 327.51846, 32...</td>\n",
       "      <td>326.91797</td>\n",
       "      <td>0.005</td>\n",
       "      <td>False</td>\n",
       "      <td>False</td>\n",
       "      <td>False</td>\n",
       "      <td>True</td>\n",
       "      <td>False</td>\n",
       "      <td>...</td>\n",
       "      <td>False</td>\n",
       "      <td>True</td>\n",
       "      <td>False</td>\n",
       "      <td>7.28926</td>\n",
       "      <td>327.15150</td>\n",
       "      <td>19065.0</td>\n",
       "      <td>326.787158</td>\n",
       "      <td>0.364342</td>\n",
       "      <td>im031</td>\n",
       "      <td>im000</td>\n",
       "    </tr>\n",
       "  </tbody>\n",
       "</table>\n",
       "<p>5 rows × 21 columns</p>\n",
       "</div>"
      ],
      "text/plain": [
       "           start_time  stop_time  \\\n",
       "trials_id                          \n",
       "0           308.73646  309.85402   \n",
       "1           310.23770  318.26089   \n",
       "2           318.49442  319.37846   \n",
       "3           319.99565  323.19826   \n",
       "4           323.73205  331.02131   \n",
       "\n",
       "                                                  lick_times  reward_time  \\\n",
       "trials_id                                                                   \n",
       "0                          [309.12011, 309.30359, 309.53711]          NaN   \n",
       "1          [314.37439, 314.50783, 314.64127, 314.79139, 3...    314.14086   \n",
       "2          [318.6779, 318.86138, 319.06156, 319.39515, 31...          NaN   \n",
       "3          [322.58109, 322.71452, 322.88134, 323.46514, 3...          NaN   \n",
       "4          [327.1515, 327.26826, 327.38503, 327.51846, 32...    326.91797   \n",
       "\n",
       "           reward_volume    hit  false_alarm   miss  stimulus_change  aborted  \\\n",
       "trials_id                                                                       \n",
       "0                  0.000  False        False  False            False     True   \n",
       "1                  0.005  False        False  False             True    False   \n",
       "2                  0.000  False        False  False            False     True   \n",
       "3                  0.000  False        False  False            False     True   \n",
       "4                  0.005  False        False  False             True    False   \n",
       "\n",
       "           ...  catch  auto_rewarded  correct_reject  trial_length  \\\n",
       "trials_id  ...                                                       \n",
       "0          ...  False          False           False       1.11756   \n",
       "1          ...  False           True           False       8.02319   \n",
       "2          ...  False          False           False       0.88404   \n",
       "3          ...  False          False           False       3.20261   \n",
       "4          ...  False           True           False       7.28926   \n",
       "\n",
       "           response_time  change_frame  change_time  response_latency  \\\n",
       "trials_id                                                               \n",
       "0                    NaN           NaN          NaN               NaN   \n",
       "1              314.37439       18300.0   314.026728          0.347662   \n",
       "2                    NaN           NaN          NaN               NaN   \n",
       "3                    NaN           NaN          NaN               NaN   \n",
       "4              327.15150       19065.0   326.787158          0.364342   \n",
       "\n",
       "           initial_image_name change_image_name  \n",
       "trials_id                                        \n",
       "0                       im000             im000  \n",
       "1                       im000             im031  \n",
       "2                       im031             im031  \n",
       "3                       im031             im031  \n",
       "4                       im031             im000  \n",
       "\n",
       "[5 rows x 21 columns]"
      ]
     },
     "execution_count": 157,
     "metadata": {},
     "output_type": "execute_result"
    }
   ],
   "source": [
    "# get behavioral trial information and assign it to \"trials_table\"\n",
    "trials_table = experiment_dataset.trials\n",
    "trials_table.head(5)\n"
   ]
  },
  {
   "cell_type": "code",
   "execution_count": 158,
   "metadata": {},
   "outputs": [
    {
     "data": {
      "text/plain": [
       "Index(['start_time', 'stop_time', 'lick_times', 'reward_time', 'reward_volume',\n",
       "       'hit', 'false_alarm', 'miss', 'stimulus_change', 'aborted', 'go',\n",
       "       'catch', 'auto_rewarded', 'correct_reject', 'trial_length',\n",
       "       'response_time', 'change_frame', 'change_time', 'response_latency',\n",
       "       'initial_image_name', 'change_image_name'],\n",
       "      dtype='object')"
      ]
     },
     "execution_count": 158,
     "metadata": {},
     "output_type": "execute_result"
    }
   ],
   "source": [
    "trials_table.keys()"
   ]
  },
  {
   "cell_type": "markdown",
   "metadata": {},
   "source": [
    "This table has information about the trials. \"Go\" trials are change trials when the animal was supposed to lick. If the animal licked, \"hit\" is set to True for that trial. If the animal was rewarded, reward time will have time in seconds. If this was an auto_rewarded trial (regardless of whether the animal got it right), \"auto_rewarded\" is set to True. "
   ]
  },
  {
   "cell_type": "markdown",
   "metadata": {},
   "source": [
    "### Plot single trial response for a selected cell"
   ]
  },
  {
   "cell_type": "code",
   "execution_count": null,
   "metadata": {},
   "outputs": [],
   "source": []
  },
  {
   "cell_type": "code",
   "execution_count": null,
   "metadata": {},
   "outputs": [],
   "source": []
  },
  {
   "cell_type": "code",
   "execution_count": null,
   "metadata": {},
   "outputs": [],
   "source": []
  },
  {
   "cell_type": "code",
   "execution_count": null,
   "metadata": {},
   "outputs": [],
   "source": []
  },
  {
   "cell_type": "markdown",
   "metadata": {},
   "source": [
    "# Below is old code from VBA. Needs to be removed. "
   ]
  },
  {
   "cell_type": "code",
   "execution_count": 36,
   "metadata": {},
   "outputs": [
    {
     "data": {
      "text/plain": [
       "Text(0, 0.5, 'dF/F')"
      ]
     },
     "execution_count": 36,
     "metadata": {},
     "output_type": "execute_result"
    },
    {
     "data": {
      "image/png": "[encoded data removed]",
      "text/plain": [
       "<Figure size 432x288 with 1 Axes>"
      ]
     },
     "metadata": {
      "needs_background": "light"
     },
     "output_type": "display_data"
    }
   ],
   "source": [
    "cell_specimen_id = stim_response_df.cell_specimen_id.unique()[0]\n",
    "\n",
    "trace = stim_response_df[stim_response_df.cell_specimen_id==cell_specimen_id].trace.values[0]\n",
    "times = stim_response_df[stim_response_df.cell_specimen_id==cell_specimen_id].trace_timestamps.values[0]\n",
    "\n",
    "plt.plot(times, trace)\n",
    "plt.xlabel('time after stim onset (s)')\n",
    "plt.ylabel('dF/F')"
   ]
  },
  {
   "cell_type": "markdown",
   "metadata": {},
   "source": [
    "#### plot trial averaged trace for some image"
   ]
  },
  {
   "cell_type": "code",
   "execution_count": 37,
   "metadata": {},
   "outputs": [
    {
     "data": {
      "text/plain": [
       "Text(0, 0.5, 'dF/F')"
      ]
     },
     "execution_count": 37,
     "metadata": {},
     "output_type": "execute_result"
    },
    {
     "data": {
      "image/png": "[encoded data removed]",
      "text/plain": [
       "<Figure size 432x288 with 1 Axes>"
      ]
     },
     "metadata": {
      "needs_background": "light"
     },
     "output_type": "display_data"
    }
   ],
   "source": [
    "image_name = stim_response_df.image_name.unique()[6]\n",
    "mean_trace = stim_response_df[(stim_response_df.cell_specimen_id==cell_specimen_id)&\n",
    "                         (stim_response_df.image_name==image_name)].trace.mean()\n",
    "\n",
    "plt.plot(times, mean_trace)\n",
    "plt.xlabel('time after stim onset (sec)')\n",
    "plt.ylabel('dF/F')\n"
   ]
  },
  {
   "cell_type": "markdown",
   "metadata": {},
   "source": [
    "#### responsiveness"
   ]
  },
  {
   "cell_type": "markdown",
   "metadata": {},
   "source": [
    "Response dataframes include other useful columns including <code>p_value_gray_screen</code> which compares the mean response for each trial to a shuffled distribution of values from the 5 min gray screen periods at the beginning and end of the session."
   ]
  },
  {
   "cell_type": "code",
   "execution_count": 38,
   "metadata": {},
   "outputs": [
    {
     "name": "stdout",
     "output_type": "stream",
     "text": [
      "this cell had a significant response for 0.42011704521775367 of all image presentations\n"
     ]
    }
   ],
   "source": [
    "cell_data = stim_response_df[(stim_response_df.cell_specimen_id==cell_specimen_id)]\n",
    "fraction_responsive = cell_data.p_value_gray_screen.mean()\n",
    "print('this cell had a significant response for',fraction_responsive,'of all image presentations')"
   ]
  },
  {
   "cell_type": "markdown",
   "metadata": {},
   "source": [
    "<code>p_value_omission</code> compares the mean response for each trial to a shuffled distribution of all omission responses"
   ]
  },
  {
   "cell_type": "markdown",
   "metadata": {},
   "source": [
    "<code>p_value_stimulus</code> compares the mean response for each trial to a shuffled distribution of all other stimulus responses"
   ]
  },
  {
   "cell_type": "markdown",
   "metadata": {},
   "source": [
    "### Get cell responses around change times for behavioral trials"
   ]
  },
  {
   "cell_type": "code",
   "execution_count": 39,
   "metadata": {},
   "outputs": [],
   "source": [
    "# this creates a dataframe with the response of every cell for every behavioral trial (change and catch)\n",
    "# cell response is a snippet of the trace in a [-5, 5] second window around change or catch time\n",
    "trials_response_df = analysis.get_response_df(df_name='trials_response_df')"
   ]
  },
  {
   "cell_type": "code",
   "execution_count": 40,
   "metadata": {},
   "outputs": [
    {
     "data": {
      "text/html": [
       "<div>\n",
       "<style scoped>\n",
       "    .dataframe tbody tr th:only-of-type {\n",
       "        vertical-align: middle;\n",
       "    }\n",
       "\n",
       "    .dataframe tbody tr th {\n",
       "        vertical-align: top;\n",
       "    }\n",
       "\n",
       "    .dataframe thead th {\n",
       "        text-align: right;\n",
       "    }\n",
       "</style>\n",
       "<table border=\"1\" class=\"dataframe\">\n",
       "  <thead>\n",
       "    <tr style=\"text-align: right;\">\n",
       "      <th></th>\n",
       "      <th>trials_id</th>\n",
       "      <th>cell_specimen_id</th>\n",
       "      <th>trace</th>\n",
       "      <th>trace_timestamps</th>\n",
       "      <th>mean_response</th>\n",
       "      <th>baseline_response</th>\n",
       "      <th>p_value_gray_screen</th>\n",
       "      <th>p_value_omission</th>\n",
       "      <th>p_value_stimulus</th>\n",
       "      <th>lick_times</th>\n",
       "      <th>...</th>\n",
       "      <th>stop_time</th>\n",
       "      <th>trial_length</th>\n",
       "      <th>behavioral_response_time</th>\n",
       "      <th>change_frame</th>\n",
       "      <th>change_time</th>\n",
       "      <th>behavioral_response_latency</th>\n",
       "      <th>initial_image_name</th>\n",
       "      <th>change_image_name</th>\n",
       "      <th>epoch</th>\n",
       "      <th>trial_type</th>\n",
       "    </tr>\n",
       "  </thead>\n",
       "  <tbody>\n",
       "    <tr>\n",
       "      <td>0</td>\n",
       "      <td>1</td>\n",
       "      <td>992902634</td>\n",
       "      <td>[-0.03815074026421763, 0.003048901828476412, 0...</td>\n",
       "      <td>[-4.9768954704012, -4.944577967346647, -4.9122...</td>\n",
       "      <td>0.002761</td>\n",
       "      <td>-0.015726</td>\n",
       "      <td>0.4574</td>\n",
       "      <td>0.2387</td>\n",
       "      <td>0.5810</td>\n",
       "      <td>[312.93787406089467, 313.13803840090236, 313.2...</td>\n",
       "      <td>...</td>\n",
       "      <td>316.819476</td>\n",
       "      <td>8.757088</td>\n",
       "      <td>NaN</td>\n",
       "      <td>18390.0</td>\n",
       "      <td>312.625698</td>\n",
       "      <td>0.312176</td>\n",
       "      <td>im065</td>\n",
       "      <td>im077</td>\n",
       "      <td>0</td>\n",
       "      <td>auto_rewarded</td>\n",
       "    </tr>\n",
       "    <tr>\n",
       "      <td>1</td>\n",
       "      <td>1</td>\n",
       "      <td>992902619</td>\n",
       "      <td>[0.09641908108815547, 0.09690868402531017, -0....</td>\n",
       "      <td>[-4.9768954704012, -4.944577967346647, -4.9122...</td>\n",
       "      <td>0.025997</td>\n",
       "      <td>-0.005630</td>\n",
       "      <td>0.1735</td>\n",
       "      <td>0.1118</td>\n",
       "      <td>0.1658</td>\n",
       "      <td>[312.93787406089467, 313.13803840090236, 313.2...</td>\n",
       "      <td>...</td>\n",
       "      <td>316.819476</td>\n",
       "      <td>8.757088</td>\n",
       "      <td>NaN</td>\n",
       "      <td>18390.0</td>\n",
       "      <td>312.625698</td>\n",
       "      <td>0.312176</td>\n",
       "      <td>im065</td>\n",
       "      <td>im077</td>\n",
       "      <td>0</td>\n",
       "      <td>auto_rewarded</td>\n",
       "    </tr>\n",
       "    <tr>\n",
       "      <td>2</td>\n",
       "      <td>1</td>\n",
       "      <td>992902622</td>\n",
       "      <td>[0.17414409762475988, 0.007017562703841254, 0....</td>\n",
       "      <td>[-4.9768954704012, -4.944577967346647, -4.9122...</td>\n",
       "      <td>-0.031675</td>\n",
       "      <td>-0.036975</td>\n",
       "      <td>0.9626</td>\n",
       "      <td>0.6955</td>\n",
       "      <td>0.9094</td>\n",
       "      <td>[312.93787406089467, 313.13803840090236, 313.2...</td>\n",
       "      <td>...</td>\n",
       "      <td>316.819476</td>\n",
       "      <td>8.757088</td>\n",
       "      <td>NaN</td>\n",
       "      <td>18390.0</td>\n",
       "      <td>312.625698</td>\n",
       "      <td>0.312176</td>\n",
       "      <td>im065</td>\n",
       "      <td>im077</td>\n",
       "      <td>0</td>\n",
       "      <td>auto_rewarded</td>\n",
       "    </tr>\n",
       "    <tr>\n",
       "      <td>3</td>\n",
       "      <td>1</td>\n",
       "      <td>992902667</td>\n",
       "      <td>[-0.058920901998085515, 0.0751975029666949, 0....</td>\n",
       "      <td>[-4.9768954704012, -4.944577967346647, -4.9122...</td>\n",
       "      <td>0.035122</td>\n",
       "      <td>-0.012737</td>\n",
       "      <td>0.0053</td>\n",
       "      <td>0.0116</td>\n",
       "      <td>0.0520</td>\n",
       "      <td>[312.93787406089467, 313.13803840090236, 313.2...</td>\n",
       "      <td>...</td>\n",
       "      <td>316.819476</td>\n",
       "      <td>8.757088</td>\n",
       "      <td>NaN</td>\n",
       "      <td>18390.0</td>\n",
       "      <td>312.625698</td>\n",
       "      <td>0.312176</td>\n",
       "      <td>im065</td>\n",
       "      <td>im077</td>\n",
       "      <td>0</td>\n",
       "      <td>auto_rewarded</td>\n",
       "    </tr>\n",
       "    <tr>\n",
       "      <td>4</td>\n",
       "      <td>1</td>\n",
       "      <td>992902649</td>\n",
       "      <td>[0.03973257094488493, -0.011916020009636069, 0...</td>\n",
       "      <td>[-4.9768954704012, -4.944577967346647, -4.9122...</td>\n",
       "      <td>0.013749</td>\n",
       "      <td>-0.005252</td>\n",
       "      <td>0.2381</td>\n",
       "      <td>0.1305</td>\n",
       "      <td>0.3664</td>\n",
       "      <td>[312.93787406089467, 313.13803840090236, 313.2...</td>\n",
       "      <td>...</td>\n",
       "      <td>316.819476</td>\n",
       "      <td>8.757088</td>\n",
       "      <td>NaN</td>\n",
       "      <td>18390.0</td>\n",
       "      <td>312.625698</td>\n",
       "      <td>0.312176</td>\n",
       "      <td>im065</td>\n",
       "      <td>im077</td>\n",
       "      <td>0</td>\n",
       "      <td>auto_rewarded</td>\n",
       "    </tr>\n",
       "  </tbody>\n",
       "</table>\n",
       "<p>5 rows × 32 columns</p>\n",
       "</div>"
      ],
      "text/plain": [
       "   trials_id  cell_specimen_id  \\\n",
       "0          1         992902634   \n",
       "1          1         992902619   \n",
       "2          1         992902622   \n",
       "3          1         992902667   \n",
       "4          1         992902649   \n",
       "\n",
       "                                               trace  \\\n",
       "0  [-0.03815074026421763, 0.003048901828476412, 0...   \n",
       "1  [0.09641908108815547, 0.09690868402531017, -0....   \n",
       "2  [0.17414409762475988, 0.007017562703841254, 0....   \n",
       "3  [-0.058920901998085515, 0.0751975029666949, 0....   \n",
       "4  [0.03973257094488493, -0.011916020009636069, 0...   \n",
       "\n",
       "                                    trace_timestamps  mean_response  \\\n",
       "0  [-4.9768954704012, -4.944577967346647, -4.9122...       0.002761   \n",
       "1  [-4.9768954704012, -4.944577967346647, -4.9122...       0.025997   \n",
       "2  [-4.9768954704012, -4.944577967346647, -4.9122...      -0.031675   \n",
       "3  [-4.9768954704012, -4.944577967346647, -4.9122...       0.035122   \n",
       "4  [-4.9768954704012, -4.944577967346647, -4.9122...       0.013749   \n",
       "\n",
       "   baseline_response  p_value_gray_screen  p_value_omission  p_value_stimulus  \\\n",
       "0          -0.015726               0.4574            0.2387            0.5810   \n",
       "1          -0.005630               0.1735            0.1118            0.1658   \n",
       "2          -0.036975               0.9626            0.6955            0.9094   \n",
       "3          -0.012737               0.0053            0.0116            0.0520   \n",
       "4          -0.005252               0.2381            0.1305            0.3664   \n",
       "\n",
       "                                          lick_times  ...   stop_time  \\\n",
       "0  [312.93787406089467, 313.13803840090236, 313.2...  ...  316.819476   \n",
       "1  [312.93787406089467, 313.13803840090236, 313.2...  ...  316.819476   \n",
       "2  [312.93787406089467, 313.13803840090236, 313.2...  ...  316.819476   \n",
       "3  [312.93787406089467, 313.13803840090236, 313.2...  ...  316.819476   \n",
       "4  [312.93787406089467, 313.13803840090236, 313.2...  ...  316.819476   \n",
       "\n",
       "   trial_length  behavioral_response_time  change_frame  change_time  \\\n",
       "0      8.757088                       NaN       18390.0   312.625698   \n",
       "1      8.757088                       NaN       18390.0   312.625698   \n",
       "2      8.757088                       NaN       18390.0   312.625698   \n",
       "3      8.757088                       NaN       18390.0   312.625698   \n",
       "4      8.757088                       NaN       18390.0   312.625698   \n",
       "\n",
       "   behavioral_response_latency  initial_image_name  change_image_name  epoch  \\\n",
       "0                     0.312176               im065              im077      0   \n",
       "1                     0.312176               im065              im077      0   \n",
       "2                     0.312176               im065              im077      0   \n",
       "3                     0.312176               im065              im077      0   \n",
       "4                     0.312176               im065              im077      0   \n",
       "\n",
       "      trial_type  \n",
       "0  auto_rewarded  \n",
       "1  auto_rewarded  \n",
       "2  auto_rewarded  \n",
       "3  auto_rewarded  \n",
       "4  auto_rewarded  \n",
       "\n",
       "[5 rows x 32 columns]"
      ]
     },
     "execution_count": 40,
     "metadata": {},
     "output_type": "execute_result"
    }
   ],
   "source": [
    "trials_response_df.head()"
   ]
  },
  {
   "cell_type": "code",
   "execution_count": 41,
   "metadata": {},
   "outputs": [
    {
     "data": {
      "text/plain": [
       "Index(['trials_id', 'cell_specimen_id', 'trace', 'trace_timestamps',\n",
       "       'mean_response', 'baseline_response', 'p_value_gray_screen',\n",
       "       'p_value_omission', 'p_value_stimulus', 'lick_times', 'reward_time',\n",
       "       'reward_volume', 'hit', 'false_alarm', 'miss', 'stimulus_change',\n",
       "       'aborted', 'go', 'catch', 'auto_rewarded', 'correct_reject',\n",
       "       'start_time', 'stop_time', 'trial_length', 'behavioral_response_time',\n",
       "       'change_frame', 'change_time', 'behavioral_response_latency',\n",
       "       'initial_image_name', 'change_image_name', 'epoch', 'trial_type'],\n",
       "      dtype='object')"
      ]
     },
     "execution_count": 41,
     "metadata": {},
     "output_type": "execute_result"
    }
   ],
   "source": [
    "trials_response_df.keys()"
   ]
  },
  {
   "cell_type": "code",
   "execution_count": 42,
   "metadata": {},
   "outputs": [
    {
     "data": {
      "text/plain": [
       "Text(0, 0.5, 'dF/F')"
      ]
     },
     "execution_count": 42,
     "metadata": {},
     "output_type": "execute_result"
    },
    {
     "data": {
      "image/png": "[encoded data removed]",
      "text/plain": [
       "<Figure size 432x288 with 1 Axes>"
      ]
     },
     "metadata": {
      "needs_background": "light"
     },
     "output_type": "display_data"
    }
   ],
   "source": [
    "# popuation average response to image change\n",
    "times = trials_response_df.trace_timestamps.values[0]\n",
    "plt.plot(times, trials_response_df.trace.mean())\n",
    "plt.title('population average change response')\n",
    "plt.xlabel('time after change (s)')\n",
    "plt.ylabel('dF/F')"
   ]
  },
  {
   "cell_type": "markdown",
   "metadata": {},
   "source": [
    "### Get omission triggered responses "
   ]
  },
  {
   "cell_type": "code",
   "execution_count": 43,
   "metadata": {},
   "outputs": [],
   "source": [
    "# this creates a dataframe with the response of every cell for every omission\n",
    "# cell response is a snippet of the trace in a [-.5, 0.75] second window around the omission time\n",
    "omission_response_df = analysis.get_response_df(df_name='omission_response_df')"
   ]
  },
  {
   "cell_type": "code",
   "execution_count": 44,
   "metadata": {},
   "outputs": [
    {
     "data": {
      "text/html": [
       "<div>\n",
       "<style scoped>\n",
       "    .dataframe tbody tr th:only-of-type {\n",
       "        vertical-align: middle;\n",
       "    }\n",
       "\n",
       "    .dataframe tbody tr th {\n",
       "        vertical-align: top;\n",
       "    }\n",
       "\n",
       "    .dataframe thead th {\n",
       "        text-align: right;\n",
       "    }\n",
       "</style>\n",
       "<table border=\"1\" class=\"dataframe\">\n",
       "  <thead>\n",
       "    <tr style=\"text-align: right;\">\n",
       "      <th></th>\n",
       "      <th>stimulus_presentations_id</th>\n",
       "      <th>cell_specimen_id</th>\n",
       "      <th>trace</th>\n",
       "      <th>trace_timestamps</th>\n",
       "      <th>mean_response</th>\n",
       "      <th>baseline_response</th>\n",
       "      <th>p_value_gray_screen</th>\n",
       "      <th>p_value_omission</th>\n",
       "      <th>p_value_stimulus</th>\n",
       "      <th>duration</th>\n",
       "      <th>end_frame</th>\n",
       "      <th>image_index</th>\n",
       "      <th>image_name</th>\n",
       "      <th>omitted</th>\n",
       "      <th>start_frame</th>\n",
       "      <th>start_time</th>\n",
       "      <th>stop_time</th>\n",
       "      <th>change</th>\n",
       "      <th>epoch</th>\n",
       "    </tr>\n",
       "  </thead>\n",
       "  <tbody>\n",
       "    <tr>\n",
       "      <td>0</td>\n",
       "      <td>13</td>\n",
       "      <td>992902634</td>\n",
       "      <td>[0.06147743803837265, 0.09811394600566481, -0....</td>\n",
       "      <td>[-4.9768954704012, -4.944577967346647, -4.9122...</td>\n",
       "      <td>-0.022100</td>\n",
       "      <td>0.081356</td>\n",
       "      <td>0.9397</td>\n",
       "      <td>0.6861</td>\n",
       "      <td>0.8978</td>\n",
       "      <td>NaN</td>\n",
       "      <td>NaN</td>\n",
       "      <td>8</td>\n",
       "      <td>omitted</td>\n",
       "      <td>True</td>\n",
       "      <td>18570</td>\n",
       "      <td>315.611458</td>\n",
       "      <td>NaN</td>\n",
       "      <td>False</td>\n",
       "      <td>0</td>\n",
       "    </tr>\n",
       "    <tr>\n",
       "      <td>1</td>\n",
       "      <td>13</td>\n",
       "      <td>992902619</td>\n",
       "      <td>[0.035646207486238396, 0.09467837212364097, -0...</td>\n",
       "      <td>[-4.9768954704012, -4.944577967346647, -4.9122...</td>\n",
       "      <td>0.004468</td>\n",
       "      <td>0.022521</td>\n",
       "      <td>0.4312</td>\n",
       "      <td>0.3168</td>\n",
       "      <td>0.4275</td>\n",
       "      <td>NaN</td>\n",
       "      <td>NaN</td>\n",
       "      <td>8</td>\n",
       "      <td>omitted</td>\n",
       "      <td>True</td>\n",
       "      <td>18570</td>\n",
       "      <td>315.611458</td>\n",
       "      <td>NaN</td>\n",
       "      <td>False</td>\n",
       "      <td>0</td>\n",
       "    </tr>\n",
       "    <tr>\n",
       "      <td>2</td>\n",
       "      <td>13</td>\n",
       "      <td>992902622</td>\n",
       "      <td>[0.03751269891512046, 0.031581023467236055, -0...</td>\n",
       "      <td>[-4.9768954704012, -4.944577967346647, -4.9122...</td>\n",
       "      <td>-0.045896</td>\n",
       "      <td>0.105504</td>\n",
       "      <td>0.9986</td>\n",
       "      <td>0.7910</td>\n",
       "      <td>0.9679</td>\n",
       "      <td>NaN</td>\n",
       "      <td>NaN</td>\n",
       "      <td>8</td>\n",
       "      <td>omitted</td>\n",
       "      <td>True</td>\n",
       "      <td>18570</td>\n",
       "      <td>315.611458</td>\n",
       "      <td>NaN</td>\n",
       "      <td>False</td>\n",
       "      <td>0</td>\n",
       "    </tr>\n",
       "    <tr>\n",
       "      <td>3</td>\n",
       "      <td>13</td>\n",
       "      <td>992902667</td>\n",
       "      <td>[0.0965439604768864, 0.08151458477178207, -0.0...</td>\n",
       "      <td>[-4.9768954704012, -4.944577967346647, -4.9122...</td>\n",
       "      <td>-0.010811</td>\n",
       "      <td>0.012836</td>\n",
       "      <td>0.8854</td>\n",
       "      <td>0.5734</td>\n",
       "      <td>0.8752</td>\n",
       "      <td>NaN</td>\n",
       "      <td>NaN</td>\n",
       "      <td>8</td>\n",
       "      <td>omitted</td>\n",
       "      <td>True</td>\n",
       "      <td>18570</td>\n",
       "      <td>315.611458</td>\n",
       "      <td>NaN</td>\n",
       "      <td>False</td>\n",
       "      <td>0</td>\n",
       "    </tr>\n",
       "    <tr>\n",
       "      <td>4</td>\n",
       "      <td>13</td>\n",
       "      <td>992902649</td>\n",
       "      <td>[0.01413418952678909, 0.017499694952640088, -0...</td>\n",
       "      <td>[-4.9768954704012, -4.944577967346647, -4.9122...</td>\n",
       "      <td>-0.050514</td>\n",
       "      <td>-0.007053</td>\n",
       "      <td>0.9996</td>\n",
       "      <td>0.9497</td>\n",
       "      <td>0.9986</td>\n",
       "      <td>NaN</td>\n",
       "      <td>NaN</td>\n",
       "      <td>8</td>\n",
       "      <td>omitted</td>\n",
       "      <td>True</td>\n",
       "      <td>18570</td>\n",
       "      <td>315.611458</td>\n",
       "      <td>NaN</td>\n",
       "      <td>False</td>\n",
       "      <td>0</td>\n",
       "    </tr>\n",
       "  </tbody>\n",
       "</table>\n",
       "</div>"
      ],
      "text/plain": [
       "   stimulus_presentations_id  cell_specimen_id  \\\n",
       "0                         13         992902634   \n",
       "1                         13         992902619   \n",
       "2                         13         992902622   \n",
       "3                         13         992902667   \n",
       "4                         13         992902649   \n",
       "\n",
       "                                               trace  \\\n",
       "0  [0.06147743803837265, 0.09811394600566481, -0....   \n",
       "1  [0.035646207486238396, 0.09467837212364097, -0...   \n",
       "2  [0.03751269891512046, 0.031581023467236055, -0...   \n",
       "3  [0.0965439604768864, 0.08151458477178207, -0.0...   \n",
       "4  [0.01413418952678909, 0.017499694952640088, -0...   \n",
       "\n",
       "                                    trace_timestamps  mean_response  \\\n",
       "0  [-4.9768954704012, -4.944577967346647, -4.9122...      -0.022100   \n",
       "1  [-4.9768954704012, -4.944577967346647, -4.9122...       0.004468   \n",
       "2  [-4.9768954704012, -4.944577967346647, -4.9122...      -0.045896   \n",
       "3  [-4.9768954704012, -4.944577967346647, -4.9122...      -0.010811   \n",
       "4  [-4.9768954704012, -4.944577967346647, -4.9122...      -0.050514   \n",
       "\n",
       "   baseline_response  p_value_gray_screen  p_value_omission  p_value_stimulus  \\\n",
       "0           0.081356               0.9397            0.6861            0.8978   \n",
       "1           0.022521               0.4312            0.3168            0.4275   \n",
       "2           0.105504               0.9986            0.7910            0.9679   \n",
       "3           0.012836               0.8854            0.5734            0.8752   \n",
       "4          -0.007053               0.9996            0.9497            0.9986   \n",
       "\n",
       "   duration  end_frame  image_index image_name  omitted  start_frame  \\\n",
       "0       NaN        NaN            8    omitted     True        18570   \n",
       "1       NaN        NaN            8    omitted     True        18570   \n",
       "2       NaN        NaN            8    omitted     True        18570   \n",
       "3       NaN        NaN            8    omitted     True        18570   \n",
       "4       NaN        NaN            8    omitted     True        18570   \n",
       "\n",
       "   start_time  stop_time  change  epoch  \n",
       "0  315.611458        NaN   False      0  \n",
       "1  315.611458        NaN   False      0  \n",
       "2  315.611458        NaN   False      0  \n",
       "3  315.611458        NaN   False      0  \n",
       "4  315.611458        NaN   False      0  "
      ]
     },
     "execution_count": 44,
     "metadata": {},
     "output_type": "execute_result"
    }
   ],
   "source": [
    "omission_response_df.head()"
   ]
  },
  {
   "cell_type": "code",
   "execution_count": 45,
   "metadata": {},
   "outputs": [
    {
     "data": {
      "text/plain": [
       "Index(['stimulus_presentations_id', 'cell_specimen_id', 'trace',\n",
       "       'trace_timestamps', 'mean_response', 'baseline_response',\n",
       "       'p_value_gray_screen', 'p_value_omission', 'p_value_stimulus',\n",
       "       'duration', 'end_frame', 'image_index', 'image_name', 'omitted',\n",
       "       'start_frame', 'start_time', 'stop_time', 'change', 'epoch'],\n",
       "      dtype='object')"
      ]
     },
     "execution_count": 45,
     "metadata": {},
     "output_type": "execute_result"
    }
   ],
   "source": [
    "omission_response_df.keys()"
   ]
  },
  {
   "cell_type": "code",
   "execution_count": 46,
   "metadata": {},
   "outputs": [
    {
     "data": {
      "text/plain": [
       "Text(0, 0.5, 'dF/F')"
      ]
     },
     "execution_count": 46,
     "metadata": {},
     "output_type": "execute_result"
    },
    {
     "data": {
      "image/png": "[encoded data removed]",
      "text/plain": [
       "<Figure size 432x288 with 1 Axes>"
      ]
     },
     "metadata": {
      "needs_background": "light"
     },
     "output_type": "display_data"
    }
   ],
   "source": [
    "# popuation average response\n",
    "times = omission_response_df.trace_timestamps.values[0]\n",
    "plt.plot(times, omission_response_df.trace.mean())\n",
    "plt.title('population average omission response')\n",
    "plt.xlabel('time after change (s)')\n",
    "plt.ylabel('dF/F')"
   ]
  },
  {
   "cell_type": "markdown",
   "metadata": {},
   "source": [
    "### Get running behavior for omissions "
   ]
  },
  {
   "cell_type": "code",
   "execution_count": 47,
   "metadata": {},
   "outputs": [],
   "source": [
    "# similar functionality exist for pupil area"
   ]
  },
  {
   "cell_type": "code",
   "execution_count": 48,
   "metadata": {},
   "outputs": [],
   "source": [
    "# this creates a dataframe with the running speed for every stimulus presentation\n",
    "# trace is a snippet of the run speed in a [-.5, 0.75] second window around stim onset\n",
    "run_speed_df = analysis.get_response_df(df_name='omission_run_speed_df')"
   ]
  },
  {
   "cell_type": "code",
   "execution_count": 49,
   "metadata": {},
   "outputs": [
    {
     "data": {
      "text/html": [
       "<div>\n",
       "<style scoped>\n",
       "    .dataframe tbody tr th:only-of-type {\n",
       "        vertical-align: middle;\n",
       "    }\n",
       "\n",
       "    .dataframe tbody tr th {\n",
       "        vertical-align: top;\n",
       "    }\n",
       "\n",
       "    .dataframe thead th {\n",
       "        text-align: right;\n",
       "    }\n",
       "</style>\n",
       "<table border=\"1\" class=\"dataframe\">\n",
       "  <thead>\n",
       "    <tr style=\"text-align: right;\">\n",
       "      <th></th>\n",
       "      <th>index</th>\n",
       "      <th>stimulus_presentations_id</th>\n",
       "      <th>trace</th>\n",
       "      <th>trace_timestamps</th>\n",
       "      <th>mean_response</th>\n",
       "      <th>baseline_response</th>\n",
       "      <th>p_value_gray_screen</th>\n",
       "      <th>p_value_omission</th>\n",
       "      <th>p_value_stimulus</th>\n",
       "      <th>duration</th>\n",
       "      <th>end_frame</th>\n",
       "      <th>image_index</th>\n",
       "      <th>image_name</th>\n",
       "      <th>omitted</th>\n",
       "      <th>start_frame</th>\n",
       "      <th>start_time</th>\n",
       "      <th>stop_time</th>\n",
       "      <th>change</th>\n",
       "      <th>epoch</th>\n",
       "    </tr>\n",
       "  </thead>\n",
       "  <tbody>\n",
       "    <tr>\n",
       "      <td>0</td>\n",
       "      <td>0</td>\n",
       "      <td>13</td>\n",
       "      <td>[-0.00016060630793646145, 0.5354614350559986, ...</td>\n",
       "      <td>[-4.987550032383085, -4.970869263044011, -4.95...</td>\n",
       "      <td>0.534435</td>\n",
       "      <td>0.103630</td>\n",
       "      <td>0.4292</td>\n",
       "      <td>0.4599</td>\n",
       "      <td>0.4350</td>\n",
       "      <td>NaN</td>\n",
       "      <td>NaN</td>\n",
       "      <td>8</td>\n",
       "      <td>omitted</td>\n",
       "      <td>True</td>\n",
       "      <td>18570</td>\n",
       "      <td>315.611458</td>\n",
       "      <td>NaN</td>\n",
       "      <td>False</td>\n",
       "      <td>0</td>\n",
       "    </tr>\n",
       "    <tr>\n",
       "      <td>1</td>\n",
       "      <td>2</td>\n",
       "      <td>16</td>\n",
       "      <td>[-0.3437265019526322, 0.0, -1.032246505591008,...</td>\n",
       "      <td>[-4.987550032383085, -4.970869263044011, -4.95...</td>\n",
       "      <td>0.878759</td>\n",
       "      <td>0.606875</td>\n",
       "      <td>0.3966</td>\n",
       "      <td>0.3750</td>\n",
       "      <td>0.3477</td>\n",
       "      <td>NaN</td>\n",
       "      <td>NaN</td>\n",
       "      <td>8</td>\n",
       "      <td>omitted</td>\n",
       "      <td>True</td>\n",
       "      <td>18705</td>\n",
       "      <td>317.863278</td>\n",
       "      <td>NaN</td>\n",
       "      <td>False</td>\n",
       "      <td>0</td>\n",
       "    </tr>\n",
       "    <tr>\n",
       "      <td>2</td>\n",
       "      <td>4</td>\n",
       "      <td>65</td>\n",
       "      <td>[-0.5682678530338965, 0.0, 0.26821311521739294...</td>\n",
       "      <td>[-4.987550032383085, -4.970869263044011, -4.95...</td>\n",
       "      <td>0.418636</td>\n",
       "      <td>0.565243</td>\n",
       "      <td>0.4499</td>\n",
       "      <td>0.4840</td>\n",
       "      <td>0.4823</td>\n",
       "      <td>NaN</td>\n",
       "      <td>NaN</td>\n",
       "      <td>8</td>\n",
       "      <td>omitted</td>\n",
       "      <td>True</td>\n",
       "      <td>20910</td>\n",
       "      <td>354.643648</td>\n",
       "      <td>NaN</td>\n",
       "      <td>False</td>\n",
       "      <td>0</td>\n",
       "    </tr>\n",
       "    <tr>\n",
       "      <td>3</td>\n",
       "      <td>6</td>\n",
       "      <td>83</td>\n",
       "      <td>[4.498058470411964, 4.494026760860603, 4.67906...</td>\n",
       "      <td>[-4.987550032383085, -4.970869263044011, -4.95...</td>\n",
       "      <td>0.140254</td>\n",
       "      <td>0.278003</td>\n",
       "      <td>0.5925</td>\n",
       "      <td>0.6905</td>\n",
       "      <td>0.6702</td>\n",
       "      <td>NaN</td>\n",
       "      <td>NaN</td>\n",
       "      <td>8</td>\n",
       "      <td>omitted</td>\n",
       "      <td>True</td>\n",
       "      <td>21720</td>\n",
       "      <td>368.154328</td>\n",
       "      <td>NaN</td>\n",
       "      <td>False</td>\n",
       "      <td>0</td>\n",
       "    </tr>\n",
       "    <tr>\n",
       "      <td>4</td>\n",
       "      <td>8</td>\n",
       "      <td>112</td>\n",
       "      <td>[-0.4557277514262342, -1.4477480731869061, -0....</td>\n",
       "      <td>[-4.987550032383085, -4.970869263044011, -4.95...</td>\n",
       "      <td>0.332757</td>\n",
       "      <td>-0.103283</td>\n",
       "      <td>0.4704</td>\n",
       "      <td>0.5363</td>\n",
       "      <td>0.5254</td>\n",
       "      <td>NaN</td>\n",
       "      <td>NaN</td>\n",
       "      <td>8</td>\n",
       "      <td>omitted</td>\n",
       "      <td>True</td>\n",
       "      <td>23025</td>\n",
       "      <td>389.922088</td>\n",
       "      <td>NaN</td>\n",
       "      <td>False</td>\n",
       "      <td>0</td>\n",
       "    </tr>\n",
       "  </tbody>\n",
       "</table>\n",
       "</div>"
      ],
      "text/plain": [
       "   index  stimulus_presentations_id  \\\n",
       "0      0                         13   \n",
       "1      2                         16   \n",
       "2      4                         65   \n",
       "3      6                         83   \n",
       "4      8                        112   \n",
       "\n",
       "                                               trace  \\\n",
       "0  [-0.00016060630793646145, 0.5354614350559986, ...   \n",
       "1  [-0.3437265019526322, 0.0, -1.032246505591008,...   \n",
       "2  [-0.5682678530338965, 0.0, 0.26821311521739294...   \n",
       "3  [4.498058470411964, 4.494026760860603, 4.67906...   \n",
       "4  [-0.4557277514262342, -1.4477480731869061, -0....   \n",
       "\n",
       "                                    trace_timestamps  mean_response  \\\n",
       "0  [-4.987550032383085, -4.970869263044011, -4.95...       0.534435   \n",
       "1  [-4.987550032383085, -4.970869263044011, -4.95...       0.878759   \n",
       "2  [-4.987550032383085, -4.970869263044011, -4.95...       0.418636   \n",
       "3  [-4.987550032383085, -4.970869263044011, -4.95...       0.140254   \n",
       "4  [-4.987550032383085, -4.970869263044011, -4.95...       0.332757   \n",
       "\n",
       "   baseline_response  p_value_gray_screen  p_value_omission  p_value_stimulus  \\\n",
       "0           0.103630               0.4292            0.4599            0.4350   \n",
       "1           0.606875               0.3966            0.3750            0.3477   \n",
       "2           0.565243               0.4499            0.4840            0.4823   \n",
       "3           0.278003               0.5925            0.6905            0.6702   \n",
       "4          -0.103283               0.4704            0.5363            0.5254   \n",
       "\n",
       "   duration  end_frame  image_index image_name  omitted  start_frame  \\\n",
       "0       NaN        NaN            8    omitted     True        18570   \n",
       "1       NaN        NaN            8    omitted     True        18705   \n",
       "2       NaN        NaN            8    omitted     True        20910   \n",
       "3       NaN        NaN            8    omitted     True        21720   \n",
       "4       NaN        NaN            8    omitted     True        23025   \n",
       "\n",
       "   start_time  stop_time  change  epoch  \n",
       "0  315.611458        NaN   False      0  \n",
       "1  317.863278        NaN   False      0  \n",
       "2  354.643648        NaN   False      0  \n",
       "3  368.154328        NaN   False      0  \n",
       "4  389.922088        NaN   False      0  "
      ]
     },
     "execution_count": 49,
     "metadata": {},
     "output_type": "execute_result"
    }
   ],
   "source": [
    "run_speed_df.head()"
   ]
  },
  {
   "cell_type": "code",
   "execution_count": 50,
   "metadata": {},
   "outputs": [
    {
     "data": {
      "text/plain": [
       "Text(0, 0.5, 'run speed (cm/s)')"
      ]
     },
     "execution_count": 50,
     "metadata": {},
     "output_type": "execute_result"
    },
    {
     "data": {
      "image/png": "[encoded data removed]",
      "text/plain": [
       "<Figure size 432x288 with 1 Axes>"
      ]
     },
     "metadata": {
      "needs_background": "light"
     },
     "output_type": "display_data"
    }
   ],
   "source": [
    "# running speed averaged across all omissions\n",
    "times = run_speed_df.trace_timestamps.values[0]\n",
    "plt.plot(times, run_speed_df.trace.mean())\n",
    "plt.title('average omission triggered running behavior')\n",
    "plt.xlabel('time after omission (s)')\n",
    "plt.ylabel('run speed (cm/s)')"
   ]
  },
  {
   "cell_type": "code",
   "execution_count": null,
   "metadata": {},
   "outputs": [],
   "source": []
  },
  {
   "cell_type": "markdown",
   "metadata": {},
   "source": [
    "## get trial averaged response dataframe for some set of conditions "
   ]
  },
  {
   "cell_type": "markdown",
   "metadata": {},
   "source": [
    "VBA <code>response_analysis.utilities</code> has a function for averaging across trials for a given set of conditions: the <code>get_mean_df()</code> function"
   ]
  },
  {
   "cell_type": "code",
   "execution_count": 51,
   "metadata": {},
   "outputs": [],
   "source": [
    "import visual_behavior.ophys.response_analysis.utilities as utilities"
   ]
  },
  {
   "cell_type": "code",
   "execution_count": 52,
   "metadata": {},
   "outputs": [
    {
     "name": "stdout",
     "output_type": "stream",
     "text": [
      "Help on function get_mean_df in module visual_behavior.ophys.response_analysis.utilities:\n",
      "\n",
      "get_mean_df(response_df, analysis=None, conditions=['cell', 'change_image_name'], flashes=False, omitted=False, get_reliability=True, get_pref_stim=True, exclude_omitted_from_pref_stim=True)\n",
      "\n"
     ]
    }
   ],
   "source": [
    "help(utilities.get_mean_df) # needs documentation..."
   ]
  },
  {
   "cell_type": "code",
   "execution_count": 53,
   "metadata": {},
   "outputs": [
    {
     "name": "stdout",
     "output_type": "stream",
     "text": [
      "must provide analysis object to get_mean_df to compute reliability\n"
     ]
    }
   ],
   "source": [
    "conditions = ['cell_specimen_id', 'image_name'] # conditions to groupby before averaging\n",
    "mean_df = utilities.get_mean_df(stim_response_df, conditions=conditions, flashes=True)"
   ]
  },
  {
   "cell_type": "code",
   "execution_count": 54,
   "metadata": {},
   "outputs": [
    {
     "data": {
      "text/html": [
       "<div>\n",
       "<style scoped>\n",
       "    .dataframe tbody tr th:only-of-type {\n",
       "        vertical-align: middle;\n",
       "    }\n",
       "\n",
       "    .dataframe tbody tr th {\n",
       "        vertical-align: top;\n",
       "    }\n",
       "\n",
       "    .dataframe thead th {\n",
       "        text-align: right;\n",
       "    }\n",
       "</style>\n",
       "<table border=\"1\" class=\"dataframe\">\n",
       "  <thead>\n",
       "    <tr style=\"text-align: right;\">\n",
       "      <th></th>\n",
       "      <th>cell_specimen_id</th>\n",
       "      <th>image_name</th>\n",
       "      <th>mean_response</th>\n",
       "      <th>sem_response</th>\n",
       "      <th>mean_trace</th>\n",
       "      <th>sem_trace</th>\n",
       "      <th>mean_responses</th>\n",
       "      <th>mean_baseline</th>\n",
       "      <th>sem_baseline</th>\n",
       "      <th>pref_stim</th>\n",
       "      <th>fraction_significant_p_value_gray_screen</th>\n",
       "      <th>fraction_significant_p_value_omission</th>\n",
       "      <th>fraction_significant_p_value_stimulus</th>\n",
       "    </tr>\n",
       "  </thead>\n",
       "  <tbody>\n",
       "    <tr>\n",
       "      <td>0</td>\n",
       "      <td>992902610</td>\n",
       "      <td>im061</td>\n",
       "      <td>0.018958</td>\n",
       "      <td>0.001573</td>\n",
       "      <td>[0.058872061780354444, 0.05138391212826471, 0....</td>\n",
       "      <td>[0.00370197924587146, 0.0034974144274466123, 0...</td>\n",
       "      <td>[0.0036268214358501734, 0.13944951742997472, 0...</td>\n",
       "      <td>-0.021492</td>\n",
       "      <td>0.001324</td>\n",
       "      <td>False</td>\n",
       "      <td>0.273345</td>\n",
       "      <td>0.421053</td>\n",
       "      <td>0.037351</td>\n",
       "    </tr>\n",
       "    <tr>\n",
       "      <td>1</td>\n",
       "      <td>992902610</td>\n",
       "      <td>im062</td>\n",
       "      <td>0.033404</td>\n",
       "      <td>0.002743</td>\n",
       "      <td>[0.08306927150626427, 0.08526279749068161, 0.0...</td>\n",
       "      <td>[0.005519338900810428, 0.005177066580588507, 0...</td>\n",
       "      <td>[-0.02392596034673746, 0.00845526016713901, 0....</td>\n",
       "      <td>-0.019322</td>\n",
       "      <td>0.001996</td>\n",
       "      <td>True</td>\n",
       "      <td>0.379245</td>\n",
       "      <td>0.484906</td>\n",
       "      <td>0.133962</td>\n",
       "    </tr>\n",
       "    <tr>\n",
       "      <td>2</td>\n",
       "      <td>992902610</td>\n",
       "      <td>im063</td>\n",
       "      <td>0.007894</td>\n",
       "      <td>0.000866</td>\n",
       "      <td>[0.027186728000039476, 0.018352709413017133, 0...</td>\n",
       "      <td>[0.002772098306642578, 0.0026699980707104933, ...</td>\n",
       "      <td>[0.008744712535756797, 0.020758640342032657, 0...</td>\n",
       "      <td>-0.011394</td>\n",
       "      <td>0.001081</td>\n",
       "      <td>False</td>\n",
       "      <td>0.114679</td>\n",
       "      <td>0.292049</td>\n",
       "      <td>0.001529</td>\n",
       "    </tr>\n",
       "    <tr>\n",
       "      <td>3</td>\n",
       "      <td>992902610</td>\n",
       "      <td>im065</td>\n",
       "      <td>0.022101</td>\n",
       "      <td>0.002025</td>\n",
       "      <td>[0.0455716524699372, 0.04208194785666107, 0.04...</td>\n",
       "      <td>[0.004074824042247801, 0.00389590430182417, 0....</td>\n",
       "      <td>[0.006816229003447735, 0.034424611020797295, 0...</td>\n",
       "      <td>-0.020504</td>\n",
       "      <td>0.002048</td>\n",
       "      <td>False</td>\n",
       "      <td>0.310000</td>\n",
       "      <td>0.438333</td>\n",
       "      <td>0.048333</td>\n",
       "    </tr>\n",
       "    <tr>\n",
       "      <td>4</td>\n",
       "      <td>992902610</td>\n",
       "      <td>im066</td>\n",
       "      <td>0.018859</td>\n",
       "      <td>0.001694</td>\n",
       "      <td>[0.0490406622024347, 0.0468189239810095, 0.037...</td>\n",
       "      <td>[0.003905212882222808, 0.003986599834452291, 0...</td>\n",
       "      <td>[0.00705282651318867, 0.11928168150913265, 0.0...</td>\n",
       "      <td>-0.018818</td>\n",
       "      <td>0.001688</td>\n",
       "      <td>False</td>\n",
       "      <td>0.298077</td>\n",
       "      <td>0.463462</td>\n",
       "      <td>0.036538</td>\n",
       "    </tr>\n",
       "  </tbody>\n",
       "</table>\n",
       "</div>"
      ],
      "text/plain": [
       "   cell_specimen_id image_name  mean_response  sem_response  \\\n",
       "0         992902610      im061       0.018958      0.001573   \n",
       "1         992902610      im062       0.033404      0.002743   \n",
       "2         992902610      im063       0.007894      0.000866   \n",
       "3         992902610      im065       0.022101      0.002025   \n",
       "4         992902610      im066       0.018859      0.001694   \n",
       "\n",
       "                                          mean_trace  \\\n",
       "0  [0.058872061780354444, 0.05138391212826471, 0....   \n",
       "1  [0.08306927150626427, 0.08526279749068161, 0.0...   \n",
       "2  [0.027186728000039476, 0.018352709413017133, 0...   \n",
       "3  [0.0455716524699372, 0.04208194785666107, 0.04...   \n",
       "4  [0.0490406622024347, 0.0468189239810095, 0.037...   \n",
       "\n",
       "                                           sem_trace  \\\n",
       "0  [0.00370197924587146, 0.0034974144274466123, 0...   \n",
       "1  [0.005519338900810428, 0.005177066580588507, 0...   \n",
       "2  [0.002772098306642578, 0.0026699980707104933, ...   \n",
       "3  [0.004074824042247801, 0.00389590430182417, 0....   \n",
       "4  [0.003905212882222808, 0.003986599834452291, 0...   \n",
       "\n",
       "                                      mean_responses  mean_baseline  \\\n",
       "0  [0.0036268214358501734, 0.13944951742997472, 0...      -0.021492   \n",
       "1  [-0.02392596034673746, 0.00845526016713901, 0....      -0.019322   \n",
       "2  [0.008744712535756797, 0.020758640342032657, 0...      -0.011394   \n",
       "3  [0.006816229003447735, 0.034424611020797295, 0...      -0.020504   \n",
       "4  [0.00705282651318867, 0.11928168150913265, 0.0...      -0.018818   \n",
       "\n",
       "   sem_baseline  pref_stim  fraction_significant_p_value_gray_screen  \\\n",
       "0      0.001324      False                                  0.273345   \n",
       "1      0.001996       True                                  0.379245   \n",
       "2      0.001081      False                                  0.114679   \n",
       "3      0.002048      False                                  0.310000   \n",
       "4      0.001688      False                                  0.298077   \n",
       "\n",
       "   fraction_significant_p_value_omission  \\\n",
       "0                               0.421053   \n",
       "1                               0.484906   \n",
       "2                               0.292049   \n",
       "3                               0.438333   \n",
       "4                               0.463462   \n",
       "\n",
       "   fraction_significant_p_value_stimulus  \n",
       "0                               0.037351  \n",
       "1                               0.133962  \n",
       "2                               0.001529  \n",
       "3                               0.048333  \n",
       "4                               0.036538  "
      ]
     },
     "execution_count": 54,
     "metadata": {},
     "output_type": "execute_result"
    }
   ],
   "source": [
    "mean_df.head()"
   ]
  },
  {
   "cell_type": "markdown",
   "metadata": {},
   "source": [
    "The resulting dataframe includes useful columns such as <code>pref_stim</code> which indicates the stimulus that evoked the maximal response across conditions for that cell, or  <code>fraction_significant_p_value_gray_screen</code> which tells you the fraction of trials for the given condition that had a significant p_value compared to the gray screen periods, or <code>mean_responses</code> which has an array of the mean response value for all trials of a given condition (useful for things like computing variability or noise correlations)"
   ]
  },
  {
   "cell_type": "markdown",
   "metadata": {},
   "source": [
    "### plot mean trace for a cells preferred stimulus"
   ]
  },
  {
   "cell_type": "code",
   "execution_count": 57,
   "metadata": {},
   "outputs": [
    {
     "data": {
      "text/plain": [
       "[<matplotlib.lines.Line2D at 0x1892c785438>]"
      ]
     },
     "execution_count": 57,
     "metadata": {},
     "output_type": "execute_result"
    },
    {
     "data": {
      "image/png": "[encoded data removed]",
      "text/plain": [
       "<Figure size 432x288 with 1 Axes>"
      ]
     },
     "metadata": {
      "needs_background": "light"
     },
     "output_type": "display_data"
    }
   ],
   "source": [
    "mean_trace = mean_df[(mean_df.cell_specimen_id==cell_specimen_id)&(mean_df.pref_stim==True)].mean_trace.values[0]\n",
    "plt.plot(mean_trace)"
   ]
  },
  {
   "cell_type": "code",
   "execution_count": null,
   "metadata": {},
   "outputs": [],
   "source": []
  },
  {
   "cell_type": "code",
   "execution_count": null,
   "metadata": {},
   "outputs": [],
   "source": []
  },
  {
   "cell_type": "code",
   "execution_count": null,
   "metadata": {},
   "outputs": [],
   "source": []
  }
 ],
 "metadata": {
  "kernelspec": {
   "display_name": "visual_behavior_analysis",
   "language": "python",
   "name": "visual_behavior_analysis"
  },
  "language_info": {
   "codemirror_mode": {
    "name": "ipython",
    "version": 3
   },
   "file_extension": ".py",
   "mimetype": "text/x-python",
   "name": "python",
   "nbconvert_exporter": "python",
   "pygments_lexer": "ipython3",
   "version": "3.7.9"
  }
 },
 "nbformat": 4,
 "nbformat_minor": 4
}
