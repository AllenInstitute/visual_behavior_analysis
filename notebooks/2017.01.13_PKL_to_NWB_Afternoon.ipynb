{
 "cells": [
  {
   "cell_type": "code",
   "execution_count": null,
   "metadata": {
    "collapsed": true
   },
   "outputs": [],
   "source": []
  },
  {
   "cell_type": "code",
   "execution_count": 1,
   "metadata": {
    "collapsed": false
   },
   "outputs": [],
   "source": [
    "import nwb"
   ]
  },
  {
   "cell_type": "markdown",
   "metadata": {},
   "source": [
    "# run the nwb example\n",
    "\n",
    "this will create `sample_behavior.nwb` in the current folder"
   ]
  },
  {
   "cell_type": "code",
   "execution_count": 2,
   "metadata": {
    "collapsed": false
   },
   "outputs": [
    {
     "name": "stdout",
     "output_type": "stream",
     "text": [
      "Creating sample_behavior.nwb\n"
     ]
    }
   ],
   "source": [
    "########################################################################\n",
    "# create a new NWB file\n",
    "# several settings are specified when doing so. these can be supplied within\n",
    "#   the NWB constructor or defined in a dict, as in in this example\n",
    "settings = {}\n",
    "settings[\"filename\"] = \"sample_behavior.nwb\"\n",
    "\n",
    "# each file should have a descriptive globally unique identifier \n",
    "#   that specifies the lab and this experiment session\n",
    "# the function nwb.create_identifier() is recommended to use as it takes\n",
    "#   the string and appends the present date and time\n",
    "settings[\"identifier\"] = nwb.create_identifier(\"behavioral interval example\")\n",
    "\n",
    "# indicate that it's OK to overwrite exting file\n",
    "settings[\"overwrite\"] = True\n",
    "\n",
    "# specify the start time of the experiment. all times in the NWB file\n",
    "#   are relative to experiment start time\n",
    "# if the start time is not specified the present time will be used\n",
    "settings[\"start_time\"] = \"Sat Jul 04 2015 3:14:16\"\n",
    "\n",
    "# provide one or two sentences that describe the experiment and what\n",
    "#   data is in the file\n",
    "settings[\"description\"] = \"Test file demonstrating use of the BehavioralEpochs module interface\"\n",
    "\n",
    "# create the NWB object. this manages the file\n",
    "print \"Creating \" + settings[\"filename\"]\n",
    "neurodata = nwb.NWB(**settings)\n",
    "\n",
    "\n",
    "########################################################################\n",
    "# processed information is stored in modules, with each module publishing\n",
    "#   one or more 'interfaces'. an interface is like a contract, promising\n",
    "#   that the module will provide a specific and defined set of data.\n",
    "# this module will publish 'BehavioralEpochs' interface, which promises\n",
    "#   that it will publish IntervalSeries (a type of time series storing\n",
    "#   experimental intervals)\n",
    "#\n",
    "# create the module\n",
    "mod = neurodata.create_module(\"my behavioral module\")\n",
    "mod.set_description(\"sample module that stores behavioral interval data\")\n",
    "\n",
    "# add an interface\n",
    "iface_1 = mod.create_interface(\"BehavioralEpochs\")\n",
    "iface_1.set_source(\"a description of the original data that these intervals were calculated from \")\n",
    "\n",
    "# interval data is stored in an interval time series -- IntervalSeries\n",
    "# create it\n",
    "interval = neurodata.create_timeseries(\"IntervalSeries\", \"intervals\")\n",
    "interval.set_description(\"Sample interval series -- two series are overlaid here, one with a code '1' and another with the code '2'\")\n",
    "interval.set_comment(\"For example, '1' represents sound on(+1)/off(-1) and '2' represents light on(+2)/off(-2)\")\n",
    "\n",
    "# create \n",
    "evts = [ 1, -1, 2, -2, 1, -1, 2, 1, -1, -2, 1, 2, -1, -2 ]\n",
    "interval.set_data(evts)\n",
    "\n",
    "# note: some timestamps will be duplicated if two different events start \n",
    "#   and/or stop at the same time\n",
    "t = [ 1, 2, 2, 3, 5, 6, 6, 7, 8, 8, 10, 10, 11, 15 ]\n",
    "interval.set_time(t)\n",
    "\n",
    "# add the time series to the module interface. the interface will manage\n",
    "#   storing the time series in the file. it will be stored in the hdf5\n",
    "#   location: processing/my behavioral module/BehavioralEpoch/\n",
    "iface_1.add_timeseries(interval)\n",
    "\n",
    "# finalize the interface -- this writes pending data to disk and allows\n",
    "#   freeing of resources\n",
    "iface_1.finalize()\n",
    "\n",
    "# multiple interfaces can be added to a module, and multiple time series\n",
    "#   can be added to an interface using the same approach. this example\n",
    "#   only imports one\n",
    "\n",
    "# once all interfaces are added to the module and finalized, finish off\n",
    "#   the module itself\n",
    "mod.finalize()\n",
    "\n",
    "########################################################################\n",
    "# it can sometimes be useful to import documenting data from a file\n",
    "# in this case, we'll store this script in the metadata section of the\n",
    "#   file, for a record of how the file was created\n",
    "# neurodata.set_metadata_from_file(\"source_script\", __file__)\n",
    "\n",
    "# when all data is entered, close the file\n",
    "neurodata.close()"
   ]
  },
  {
   "cell_type": "code",
   "execution_count": 3,
   "metadata": {
    "collapsed": false
   },
   "outputs": [],
   "source": [
    "import pandas as pd\n",
    "pkl = '/data/neuralcoding/Behavior/Data/M258173/output/170105150329-task=DoC_MNIST_stage=0v1_probes_n=3_mouse=M258173.pkl'\n",
    "data = pd.read_pickle(pkl)"
   ]
  },
  {
   "cell_type": "code",
   "execution_count": 4,
   "metadata": {
    "collapsed": false
   },
   "outputs": [
    {
     "data": {
      "text/plain": [
       "'2017-01-05 14:03:27.850000'"
      ]
     },
     "execution_count": 4,
     "metadata": {},
     "output_type": "execute_result"
    }
   ],
   "source": [
    "data['startdatetime']"
   ]
  },
  {
   "cell_type": "code",
   "execution_count": 5,
   "metadata": {
    "collapsed": false
   },
   "outputs": [
    {
     "name": "stdout",
     "output_type": "stream",
     "text": [
      "{'start_time': '2017-01-05 14:03:27.850000', 'identifier': '170105150329-task=DoC_MNIST_stage=0v1_probes_n=3_mouse=M258173.nwb; NWB-1.0.5; Wed Jan 18 10:03:56 2017', 'description': 'Sample NWB file for testing saving Detection of Change trials as epochs.', 'overwrite': True, 'filename': '170105150329-task=DoC_MNIST_stage=0v1_probes_n=3_mouse=M258173.nwb'}\n"
     ]
    }
   ],
   "source": [
    "import os\n",
    "\n",
    "filename = os.path.split(pkl)[-1][:-4]+'.nwb'\n",
    "identifier = nwb.create_identifier(filename)\n",
    "\n",
    "description = \"Sample NWB file for testing saving Detection of Change trials as epochs.\"\n",
    "\n",
    "start_time = data['startdatetime'] # ISO 8601? or other standard?\n",
    "\n",
    "settings = dict(\n",
    "    filename = filename,\n",
    "    identifier = identifier,\n",
    "    description = description,\n",
    "    start_time = start_time,\n",
    "    overwrite = True,\n",
    ")\n",
    "print settings"
   ]
  },
  {
   "cell_type": "code",
   "execution_count": 6,
   "metadata": {
    "collapsed": false
   },
   "outputs": [],
   "source": [
    "borg = nwb.NWB(\n",
    "    **settings\n",
    ")\n",
    "# behavdata.close()"
   ]
  },
  {
   "cell_type": "code",
   "execution_count": 7,
   "metadata": {
    "collapsed": false
   },
   "outputs": [
    {
     "data": {
      "text/plain": [
       "215996"
      ]
     },
     "execution_count": 7,
     "metadata": {},
     "output_type": "execute_result"
    }
   ],
   "source": [
    "len(data['vsyncintervals'])"
   ]
  },
  {
   "cell_type": "code",
   "execution_count": 8,
   "metadata": {
    "collapsed": true
   },
   "outputs": [],
   "source": [
    "stimdf = pd.DataFrame(data['stimuluslog'])"
   ]
  },
  {
   "cell_type": "code",
   "execution_count": 9,
   "metadata": {
    "collapsed": false
   },
   "outputs": [],
   "source": [
    "template_df = (\n",
    "    stimdf[['image_category','image_name']]\n",
    "    .drop_duplicates()\n",
    "    .reset_index()\n",
    "    .sort_values(['image_category','image_name'])\n",
    ")\n",
    "del template_df['index']"
   ]
  },
  {
   "cell_type": "code",
   "execution_count": 10,
   "metadata": {
    "collapsed": false,
    "scrolled": true
   },
   "outputs": [
    {
     "data": {
      "text/html": [
       "<div>\n",
       "<table border=\"1\" class=\"dataframe\">\n",
       "  <thead>\n",
       "    <tr style=\"text-align: right;\">\n",
       "      <th></th>\n",
       "      <th>image_category</th>\n",
       "      <th>image_name</th>\n",
       "    </tr>\n",
       "  </thead>\n",
       "  <tbody>\n",
       "    <tr>\n",
       "      <th>49</th>\n",
       "      <td>0</td>\n",
       "      <td>13726</td>\n",
       "    </tr>\n",
       "    <tr>\n",
       "      <th>17</th>\n",
       "      <td>0</td>\n",
       "      <td>1578</td>\n",
       "    </tr>\n",
       "    <tr>\n",
       "      <th>43</th>\n",
       "      <td>0</td>\n",
       "      <td>16439</td>\n",
       "    </tr>\n",
       "    <tr>\n",
       "      <th>0</th>\n",
       "      <td>0</td>\n",
       "      <td>17122</td>\n",
       "    </tr>\n",
       "    <tr>\n",
       "      <th>57</th>\n",
       "      <td>0</td>\n",
       "      <td>19930</td>\n",
       "    </tr>\n",
       "    <tr>\n",
       "      <th>1</th>\n",
       "      <td>0</td>\n",
       "      <td>25512</td>\n",
       "    </tr>\n",
       "    <tr>\n",
       "      <th>58</th>\n",
       "      <td>0</td>\n",
       "      <td>30555</td>\n",
       "    </tr>\n",
       "    <tr>\n",
       "      <th>48</th>\n",
       "      <td>0</td>\n",
       "      <td>31677</td>\n",
       "    </tr>\n",
       "    <tr>\n",
       "      <th>47</th>\n",
       "      <td>0</td>\n",
       "      <td>36440</td>\n",
       "    </tr>\n",
       "    <tr>\n",
       "      <th>2</th>\n",
       "      <td>0</td>\n",
       "      <td>37653</td>\n",
       "    </tr>\n",
       "    <tr>\n",
       "      <th>38</th>\n",
       "      <td>0</td>\n",
       "      <td>45349</td>\n",
       "    </tr>\n",
       "    <tr>\n",
       "      <th>22</th>\n",
       "      <td>0</td>\n",
       "      <td>526</td>\n",
       "    </tr>\n",
       "    <tr>\n",
       "      <th>26</th>\n",
       "      <td>0</td>\n",
       "      <td>57053</td>\n",
       "    </tr>\n",
       "    <tr>\n",
       "      <th>35</th>\n",
       "      <td>0</td>\n",
       "      <td>787</td>\n",
       "    </tr>\n",
       "    <tr>\n",
       "      <th>36</th>\n",
       "      <td>0</td>\n",
       "      <td>9823</td>\n",
       "    </tr>\n",
       "    <tr>\n",
       "      <th>52</th>\n",
       "      <td>1</td>\n",
       "      <td>15380</td>\n",
       "    </tr>\n",
       "    <tr>\n",
       "      <th>39</th>\n",
       "      <td>1</td>\n",
       "      <td>15809</td>\n",
       "    </tr>\n",
       "    <tr>\n",
       "      <th>40</th>\n",
       "      <td>1</td>\n",
       "      <td>18384</td>\n",
       "    </tr>\n",
       "    <tr>\n",
       "      <th>45</th>\n",
       "      <td>1</td>\n",
       "      <td>24183</td>\n",
       "    </tr>\n",
       "    <tr>\n",
       "      <th>55</th>\n",
       "      <td>1</td>\n",
       "      <td>25910</td>\n",
       "    </tr>\n",
       "    <tr>\n",
       "      <th>44</th>\n",
       "      <td>1</td>\n",
       "      <td>26746</td>\n",
       "    </tr>\n",
       "    <tr>\n",
       "      <th>15</th>\n",
       "      <td>1</td>\n",
       "      <td>26905</td>\n",
       "    </tr>\n",
       "    <tr>\n",
       "      <th>25</th>\n",
       "      <td>1</td>\n",
       "      <td>36451</td>\n",
       "    </tr>\n",
       "    <tr>\n",
       "      <th>10</th>\n",
       "      <td>1</td>\n",
       "      <td>39268</td>\n",
       "    </tr>\n",
       "    <tr>\n",
       "      <th>6</th>\n",
       "      <td>1</td>\n",
       "      <td>39560</td>\n",
       "    </tr>\n",
       "    <tr>\n",
       "      <th>16</th>\n",
       "      <td>1</td>\n",
       "      <td>447</td>\n",
       "    </tr>\n",
       "    <tr>\n",
       "      <th>8</th>\n",
       "      <td>1</td>\n",
       "      <td>45677</td>\n",
       "    </tr>\n",
       "    <tr>\n",
       "      <th>32</th>\n",
       "      <td>1</td>\n",
       "      <td>48044</td>\n",
       "    </tr>\n",
       "    <tr>\n",
       "      <th>33</th>\n",
       "      <td>1</td>\n",
       "      <td>4810</td>\n",
       "    </tr>\n",
       "    <tr>\n",
       "      <th>9</th>\n",
       "      <td>1</td>\n",
       "      <td>48931</td>\n",
       "    </tr>\n",
       "    <tr>\n",
       "      <th>14</th>\n",
       "      <td>1</td>\n",
       "      <td>53351</td>\n",
       "    </tr>\n",
       "    <tr>\n",
       "      <th>7</th>\n",
       "      <td>1</td>\n",
       "      <td>53577</td>\n",
       "    </tr>\n",
       "    <tr>\n",
       "      <th>11</th>\n",
       "      <td>1</td>\n",
       "      <td>54579</td>\n",
       "    </tr>\n",
       "    <tr>\n",
       "      <th>29</th>\n",
       "      <td>1</td>\n",
       "      <td>57473</td>\n",
       "    </tr>\n",
       "    <tr>\n",
       "      <th>41</th>\n",
       "      <td>1</td>\n",
       "      <td>59373</td>\n",
       "    </tr>\n",
       "    <tr>\n",
       "      <th>54</th>\n",
       "      <td>1</td>\n",
       "      <td>59545</td>\n",
       "    </tr>\n",
       "    <tr>\n",
       "      <th>24</th>\n",
       "      <td>1</td>\n",
       "      <td>711</td>\n",
       "    </tr>\n",
       "    <tr>\n",
       "      <th>12</th>\n",
       "      <td>1</td>\n",
       "      <td>7533</td>\n",
       "    </tr>\n",
       "    <tr>\n",
       "      <th>13</th>\n",
       "      <td>1</td>\n",
       "      <td>9796</td>\n",
       "    </tr>\n",
       "    <tr>\n",
       "      <th>4</th>\n",
       "      <td>4</td>\n",
       "      <td>11144</td>\n",
       "    </tr>\n",
       "    <tr>\n",
       "      <th>31</th>\n",
       "      <td>4</td>\n",
       "      <td>12726</td>\n",
       "    </tr>\n",
       "    <tr>\n",
       "      <th>19</th>\n",
       "      <td>4</td>\n",
       "      <td>17565</td>\n",
       "    </tr>\n",
       "    <tr>\n",
       "      <th>42</th>\n",
       "      <td>4</td>\n",
       "      <td>19121</td>\n",
       "    </tr>\n",
       "    <tr>\n",
       "      <th>37</th>\n",
       "      <td>4</td>\n",
       "      <td>19875</td>\n",
       "    </tr>\n",
       "    <tr>\n",
       "      <th>46</th>\n",
       "      <td>4</td>\n",
       "      <td>23644</td>\n",
       "    </tr>\n",
       "    <tr>\n",
       "      <th>21</th>\n",
       "      <td>4</td>\n",
       "      <td>24316</td>\n",
       "    </tr>\n",
       "    <tr>\n",
       "      <th>5</th>\n",
       "      <td>4</td>\n",
       "      <td>25188</td>\n",
       "    </tr>\n",
       "    <tr>\n",
       "      <th>27</th>\n",
       "      <td>4</td>\n",
       "      <td>31549</td>\n",
       "    </tr>\n",
       "    <tr>\n",
       "      <th>3</th>\n",
       "      <td>4</td>\n",
       "      <td>34823</td>\n",
       "    </tr>\n",
       "    <tr>\n",
       "      <th>18</th>\n",
       "      <td>4</td>\n",
       "      <td>36790</td>\n",
       "    </tr>\n",
       "    <tr>\n",
       "      <th>53</th>\n",
       "      <td>4</td>\n",
       "      <td>37958</td>\n",
       "    </tr>\n",
       "    <tr>\n",
       "      <th>28</th>\n",
       "      <td>4</td>\n",
       "      <td>38363</td>\n",
       "    </tr>\n",
       "    <tr>\n",
       "      <th>30</th>\n",
       "      <td>4</td>\n",
       "      <td>40548</td>\n",
       "    </tr>\n",
       "    <tr>\n",
       "      <th>34</th>\n",
       "      <td>4</td>\n",
       "      <td>42139</td>\n",
       "    </tr>\n",
       "    <tr>\n",
       "      <th>20</th>\n",
       "      <td>4</td>\n",
       "      <td>42750</td>\n",
       "    </tr>\n",
       "    <tr>\n",
       "      <th>51</th>\n",
       "      <td>4</td>\n",
       "      <td>48514</td>\n",
       "    </tr>\n",
       "    <tr>\n",
       "      <th>56</th>\n",
       "      <td>4</td>\n",
       "      <td>51312</td>\n",
       "    </tr>\n",
       "    <tr>\n",
       "      <th>23</th>\n",
       "      <td>4</td>\n",
       "      <td>58627</td>\n",
       "    </tr>\n",
       "    <tr>\n",
       "      <th>50</th>\n",
       "      <td>4</td>\n",
       "      <td>8914</td>\n",
       "    </tr>\n",
       "  </tbody>\n",
       "</table>\n",
       "</div>"
      ],
      "text/plain": [
       "   image_category image_name\n",
       "49              0      13726\n",
       "17              0       1578\n",
       "43              0      16439\n",
       "0               0      17122\n",
       "57              0      19930\n",
       "1               0      25512\n",
       "58              0      30555\n",
       "48              0      31677\n",
       "47              0      36440\n",
       "2               0      37653\n",
       "38              0      45349\n",
       "22              0        526\n",
       "26              0      57053\n",
       "35              0        787\n",
       "36              0       9823\n",
       "52              1      15380\n",
       "39              1      15809\n",
       "40              1      18384\n",
       "45              1      24183\n",
       "55              1      25910\n",
       "44              1      26746\n",
       "15              1      26905\n",
       "25              1      36451\n",
       "10              1      39268\n",
       "6               1      39560\n",
       "16              1        447\n",
       "8               1      45677\n",
       "32              1      48044\n",
       "33              1       4810\n",
       "9               1      48931\n",
       "14              1      53351\n",
       "7               1      53577\n",
       "11              1      54579\n",
       "29              1      57473\n",
       "41              1      59373\n",
       "54              1      59545\n",
       "24              1        711\n",
       "12              1       7533\n",
       "13              1       9796\n",
       "4               4      11144\n",
       "31              4      12726\n",
       "19              4      17565\n",
       "42              4      19121\n",
       "37              4      19875\n",
       "46              4      23644\n",
       "21              4      24316\n",
       "5               4      25188\n",
       "27              4      31549\n",
       "3               4      34823\n",
       "18              4      36790\n",
       "53              4      37958\n",
       "28              4      38363\n",
       "30              4      40548\n",
       "34              4      42139\n",
       "20              4      42750\n",
       "51              4      48514\n",
       "56              4      51312\n",
       "23              4      58627\n",
       "50              4       8914"
      ]
     },
     "execution_count": 10,
     "metadata": {},
     "output_type": "execute_result"
    }
   ],
   "source": [
    "template_df"
   ]
  },
  {
   "cell_type": "code",
   "execution_count": 11,
   "metadata": {
    "collapsed": false
   },
   "outputs": [
    {
     "name": "stdout",
     "output_type": "stream",
     "text": [
      "//aibsdata2/nc-ophys/Doug/Stimulus_Code/image_dictionaries\\mnist_014_n3.pkl\n",
      "/data/nc-ophys/Doug/Stimulus_Code/image_dictionaries/mnist_014_n3.pkl\n",
      "/data/nc-ophys/Doug/Stimulus_Code/image_dictionaries/mnist_014_n3.pkl\n"
     ]
    }
   ],
   "source": [
    "print data['image_dict_path']\n",
    "print (\n",
    "    data['image_dict_path']\n",
    "    .replace('/',os.path.sep)\n",
    "    .replace('\\\\',os.path.sep)\n",
    "    .replace('//aibsdata2','/data')\n",
    "    .replace('//aibsdata','/data')\n",
    ")\n",
    "\n",
    "def scrub_path(aibsdata_path):\n",
    "    return (\n",
    "        aibsdata_path\n",
    "        .replace('/',os.path.sep)\n",
    "        .replace('\\\\',os.path.sep)\n",
    "        .replace('//aibsdata2','/data')\n",
    "        .replace('//aibsdata','/data')\n",
    "    )\n",
    "\n",
    "print scrub_path(data['image_dict_path'])"
   ]
  },
  {
   "cell_type": "code",
   "execution_count": 12,
   "metadata": {
    "collapsed": false
   },
   "outputs": [
    {
     "data": {
      "text/plain": [
       "['probe_image_dict',\n",
       " 'probe_image_dict_path',\n",
       " 'mnist_probes',\n",
       " 'mnist_probe_frequency']"
      ]
     },
     "execution_count": 12,
     "metadata": {},
     "output_type": "execute_result"
    }
   ],
   "source": [
    "[key for key in data.keys() if 'probe' in key]"
   ]
  },
  {
   "cell_type": "code",
   "execution_count": 13,
   "metadata": {
    "collapsed": false
   },
   "outputs": [],
   "source": [
    "image_dict = pd.read_pickle(scrub_path(data['image_dict_path']))"
   ]
  },
  {
   "cell_type": "code",
   "execution_count": 14,
   "metadata": {
    "collapsed": false
   },
   "outputs": [],
   "source": [
    "try:\n",
    "    probe_dict = pd.read_pickle(scrub_path(data['probe_image_dict_path']))\n",
    "    for cat,cat_dict in image_dict.iteritems():\n",
    "        cat_dict.update(probe_dict[cat])\n",
    "except KeyError:\n",
    "    pass"
   ]
  },
  {
   "cell_type": "code",
   "execution_count": 15,
   "metadata": {
    "collapsed": false,
    "scrolled": true
   },
   "outputs": [
    {
     "data": {
      "text/plain": [
       "True"
      ]
     },
     "execution_count": 15,
     "metadata": {},
     "output_type": "execute_result"
    }
   ],
   "source": [
    "'17122' in image_dict['0'].keys()"
   ]
  },
  {
   "cell_type": "code",
   "execution_count": 16,
   "metadata": {
    "collapsed": false
   },
   "outputs": [],
   "source": [
    "import numpy as np"
   ]
  },
  {
   "cell_type": "code",
   "execution_count": 17,
   "metadata": {
    "collapsed": false,
    "scrolled": true
   },
   "outputs": [],
   "source": [
    "sample_image = image_dict[template_df.iloc[0]['image_category']][template_df.iloc[0]['image_name']]\n",
    "\n",
    "width,height = sample_image.shape\n",
    "shape = (\n",
    "    len(template_df),width, height\n",
    ")\n",
    "image_templates = np.empty(shape,sample_image.dtype)"
   ]
  },
  {
   "cell_type": "code",
   "execution_count": 18,
   "metadata": {
    "collapsed": false
   },
   "outputs": [],
   "source": [
    "for rr,row in template_df.iterrows():\n",
    "    image_templates[rr,:,:] = image_dict[row['image_category']][row['image_name']]"
   ]
  },
  {
   "cell_type": "code",
   "execution_count": 19,
   "metadata": {
    "collapsed": false
   },
   "outputs": [],
   "source": [
    "import matplotlib.pyplot as plt\n",
    "%matplotlib inline"
   ]
  },
  {
   "cell_type": "code",
   "execution_count": 20,
   "metadata": {
    "collapsed": false
   },
   "outputs": [
    {
     "data": {
      "text/plain": [
       "<matplotlib.image.AxesImage at 0x7f4d2b1e9a90>"
      ]
     },
     "execution_count": 20,
     "metadata": {},
     "output_type": "execute_result"
    },
    {
     "data": {
      "image/png": "[encoded data removed]",
      "text/plain": [
       "<matplotlib.figure.Figure at 0x7f4d2d87c610>"
      ]
     },
     "metadata": {},
     "output_type": "display_data"
    }
   ],
   "source": [
    "plt.imshow(image_templates[2,:,:],interpolation='none',cmap='gray')"
   ]
  },
  {
   "cell_type": "code",
   "execution_count": 21,
   "metadata": {
    "collapsed": true
   },
   "outputs": [],
   "source": [
    "template = borg.create_timeseries(\"TimeSeries\", \"categorical_image_stack\", \"template\")\n",
    "\n",
    "template.set_description('images that were presented in this session')\n",
    "template.set_comments('this is a comment')\n",
    "\n",
    "## what is the 'correct' shape?\n",
    "# template = np.swapaxes(natural_images_template,0,2)\n",
    "# template = np.swapaxes(natural_images_template,1,2)\n",
    "\n",
    "# template.set_data(image_templates, unit='frame', conversion=1.0, resolution=1.0)\n",
    "# template.ignore_time()\n",
    "\n",
    "# template.set_value('field_of_view', self.field_of_view)\n",
    "# template.set_value('dimension', self.corr_dimension)\n",
    "# template.set_value('format', 'raw')\n",
    "# template.set_value('bits_per_pixel', 8)\n",
    "\n",
    "# template.finalize()"
   ]
  },
  {
   "cell_type": "code",
   "execution_count": 22,
   "metadata": {
    "collapsed": true
   },
   "outputs": [],
   "source": [
    "template.set_data(image_templates, unit='frame', conversion=1.0, resolution=1.0)\n",
    "template.ignore_time()\n",
    "\n",
    "# template.set_value('field_of_view', self.field_of_view)\n",
    "template.set_value('dimension', image_templates.shape)\n",
    "template.set_value('format', 'raw')\n",
    "template.set_value('bits_per_pixel', 8)"
   ]
  },
  {
   "cell_type": "code",
   "execution_count": 23,
   "metadata": {
    "collapsed": false
   },
   "outputs": [
    {
     "name": "stdout",
     "output_type": "stream",
     "text": [
      "Warning -- '/stimulus/templates/categorical_image_stack' is missing the following:\n",
      "\tnum_samples\n"
     ]
    }
   ],
   "source": [
    "template.set_value('category',template_df['image_category'].values.astype('S1'))\n",
    "template.set_value('name',template_df['image_name'].values.astype('S5'))\n",
    "\n",
    "template.finalize()"
   ]
  },
  {
   "cell_type": "code",
   "execution_count": 24,
   "metadata": {
    "collapsed": false,
    "scrolled": true
   },
   "outputs": [
    {
     "name": "stdout",
     "output_type": "stream",
     "text": [
      "Trial_0 0.000344969332218 4.0019906871\n"
     ]
    },
    {
     "ename": "TypeError",
     "evalue": "object of type 'float' has no len()",
     "output_type": "error",
     "traceback": [
      "\u001b[0;31m---------------------------------------------------------------------------\u001b[0m",
      "\u001b[0;31mTypeError\u001b[0m                                 Traceback (most recent call last)",
      "\u001b[0;32m<ipython-input-24-e9325dd58615>\u001b[0m in \u001b[0;36m<module>\u001b[0;34m()\u001b[0m\n\u001b[1;32m     27\u001b[0m         \u001b[0;32mif\u001b[0m \u001b[0mv\u001b[0m \u001b[0;32mis\u001b[0m \u001b[0mNone\u001b[0m\u001b[0;34m:\u001b[0m\u001b[0;34m\u001b[0m\u001b[0m\n\u001b[1;32m     28\u001b[0m             \u001b[0;32mcontinue\u001b[0m\u001b[0;34m\u001b[0m\u001b[0m\n\u001b[0;32m---> 29\u001b[0;31m         \u001b[0;32mif\u001b[0m \u001b[0mlen\u001b[0m\u001b[0;34m(\u001b[0m\u001b[0mv\u001b[0m\u001b[0;34m)\u001b[0m\u001b[0;34m==\u001b[0m\u001b[0;36m0\u001b[0m\u001b[0;34m:\u001b[0m\u001b[0;34m\u001b[0m\u001b[0m\n\u001b[0m\u001b[1;32m     30\u001b[0m             \u001b[0;32mcontinue\u001b[0m\u001b[0;34m\u001b[0m\u001b[0m\n\u001b[1;32m     31\u001b[0m \u001b[0;34m\u001b[0m\u001b[0m\n",
      "\u001b[0;31mTypeError\u001b[0m: object of type 'float' has no len()"
     ]
    }
   ],
   "source": [
    "from itertools import tee, izip_longest\n",
    "\n",
    "\n",
    "def pairwise(iterable):\n",
    "    \"s -> (s0,s1), (s1,s2), (s2, s3), ...\"\n",
    "    a, b = tee(iterable)\n",
    "    next(b, None)\n",
    "    return izip_longest(a, b)\n",
    "\n",
    "for tr,next_tr in pairwise(data['triallog']):\n",
    "    name = 'Trial_{}'.format(tr['index']) \n",
    "#     print tr,next_tr\n",
    "    start = tr['starttime']\n",
    "    try:\n",
    "        stop = next_tr['starttime']\n",
    "    except TypeError:\n",
    "        stop = data['stoptime']\n",
    "    print name,start,stop\n",
    "    \n",
    "    \n",
    "    epoch = borg.create_epoch(name,start,stop)\n",
    "    \n",
    "    for k,v in tr.iteritems():\n",
    "        \n",
    "        if k in ('lick_times','stim_on_frames','reward_frames','reward_times'):\n",
    "            continue\n",
    "        if v is None:\n",
    "            continue\n",
    "        if len(v)==0:\n",
    "            continue\n",
    "            \n",
    "        epoch.set_value(k,v)\n",
    "    epoch.finalize()\n",
    "    assert epoch.finalized\n",
    "#     assert False"
   ]
  },
  {
   "cell_type": "code",
   "execution_count": null,
   "metadata": {
    "collapsed": false
   },
   "outputs": [],
   "source": [
    "all([ep.finalized for ep in borg.epoch_list])"
   ]
  },
  {
   "cell_type": "code",
   "execution_count": 25,
   "metadata": {
    "collapsed": false
   },
   "outputs": [],
   "source": [
    "borg.close()"
   ]
  },
  {
   "cell_type": "markdown",
   "metadata": {},
   "source": [
    "## questions\n",
    "\n",
    "- is there an existing convention for allen institute NWB file identifier that we need to conform to?\n",
    "  - `\"Brain Observatory Visual Coding Experiment \" + str(self.meta_data.get_attribute('ophys_experiment_id'))`\n",
    "- feature request: can the api return exceptions instead of SystemExit?\n",
    "  - how to represent transformations of stimuli (for example, stretching or warping)?\n",
    "\n",
    "\n",
    "## notes\n",
    "- cumulative sum of vsync intervals is \"master\" clock for behavior-only\n",
    "  - this means \"frames\" in triallog is \"truth\" and time gets recomputed\n",
    "- to annotate image information (e.g. image category & name), we are using set_value to add new arrays to hdf file under /stimulus/templates/<template_name>/\n",
    "\n",
    "## todo\n",
    "- add timeseries data (licks, encoder (or computed velocity?))\n",
    "  - split licks according to spout by indexing on unique values in second column of `lickData` array\n",
    "  - trim lick times to onsets\n",
    "- add key:value pairs for each trial\n",
    "- add tags for each trial (trial_type, others?)\n",
    "- link epochs to timeseries\n",
    "- add session parameters to wherever they need to go. (/general?)\n",
    "- populate /stimulus\n",
    "  - use `stimuluslog` to build stimulus presentation array\n",
    "- link epochs to /stimulus\n",
    "- add reward frames to /stimulus\n",
    "\n"
   ]
  },
  {
   "cell_type": "code",
   "execution_count": null,
   "metadata": {
    "collapsed": true
   },
   "outputs": [],
   "source": []
  }
 ],
 "metadata": {
  "kernelspec": {
   "display_name": "Python [conda env:braintv_behav]",
   "language": "python",
   "name": "conda-env-braintv_behav-py"
  },
  "language_info": {
   "codemirror_mode": {
    "name": "ipython",
    "version": 2
   },
   "file_extension": ".py",
   "mimetype": "text/x-python",
   "name": "python",
   "nbconvert_exporter": "python",
   "pygments_lexer": "ipython2",
   "version": "2.7.13"
  }
 },
 "nbformat": 4,
 "nbformat_minor": 1
}
