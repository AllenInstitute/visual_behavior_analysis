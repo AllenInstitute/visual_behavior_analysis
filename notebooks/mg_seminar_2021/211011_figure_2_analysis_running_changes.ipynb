{
 "cells": [
  {
   "cell_type": "code",
   "execution_count": 1,
   "metadata": {},
   "outputs": [],
   "source": [
    "import os\n",
    "import numpy as np\n",
    "import pandas as pd\n",
    "import matplotlib.pyplot as plt\n",
    "\n",
    "import seaborn as sns\n",
    "sns.set_context('notebook', font_scale=1.5, rc={'lines.markeredgewidth': 2})"
   ]
  },
  {
   "cell_type": "code",
   "execution_count": 2,
   "metadata": {},
   "outputs": [],
   "source": [
    "%load_ext autoreload\n",
    "%autoreload 2\n",
    "\n",
    "%matplotlib inline"
   ]
  },
  {
   "cell_type": "code",
   "execution_count": 3,
   "metadata": {},
   "outputs": [],
   "source": [
    "from visual_behavior.data_access import loading as loading\n",
    "\n",
    "from allensdk.brain_observatory.behavior.behavior_project_cache import VisualBehaviorOphysProjectCache"
   ]
  },
  {
   "cell_type": "code",
   "execution_count": 4,
   "metadata": {},
   "outputs": [],
   "source": [
    "import visual_behavior.data_access.utilities as utilities\n",
    "\n",
    "import visual_behavior.visualization.ophys.platform_paper_figures as ppf"
   ]
  },
  {
   "cell_type": "markdown",
   "metadata": {},
   "source": [
    "### load experiments_table from cache"
   ]
  },
  {
   "cell_type": "code",
   "execution_count": 5,
   "metadata": {},
   "outputs": [
    {
     "name": "stdout",
     "output_type": "stream",
     "text": [
      "//allen/programs/braintv/workgroups/nc-ophys/visual_behavior/platform_paper_cache\n"
     ]
    }
   ],
   "source": [
    "cache_dir = loading.get_platform_analysis_cache_dir()\n",
    "cache = VisualBehaviorOphysProjectCache.from_s3_cache(cache_dir=cache_dir)\n",
    "print(cache_dir)\n"
   ]
  },
  {
   "cell_type": "code",
   "execution_count": 6,
   "metadata": {},
   "outputs": [
    {
     "name": "stdout",
     "output_type": "stream",
     "text": [
      "1249\n"
     ]
    }
   ],
   "source": [
    "experiments_table = loading.get_platform_paper_experiment_table()\n",
    "print(len(experiments_table))"
   ]
  },
  {
   "cell_type": "markdown",
   "metadata": {},
   "source": [
    "### limit to containers with all 3 experience levels"
   ]
  },
  {
   "cell_type": "code",
   "execution_count": 7,
   "metadata": {},
   "outputs": [],
   "source": [
    "experiments_table = utilities.limit_to_containers_with_all_experience_levels(experiments_table)"
   ]
  },
  {
   "cell_type": "code",
   "execution_count": 8,
   "metadata": {},
   "outputs": [
    {
     "name": "stdout",
     "output_type": "stream",
     "text": [
      "955\n"
     ]
    }
   ],
   "source": [
    "print(len(experiments_table))"
   ]
  },
  {
   "cell_type": "markdown",
   "metadata": {},
   "source": [
    "#### add useful columns"
   ]
  },
  {
   "cell_type": "code",
   "execution_count": 9,
   "metadata": {},
   "outputs": [],
   "source": [
    "# experiments_table = utilities.add_cell_type_column(experiments_table)\n",
    "# experiments_table = utilities.add_experience_exposure_column(experiments_table)\n",
    "# experiments_table = utilities.add_binned_depth_column(experiments_table)"
   ]
  },
  {
   "cell_type": "markdown",
   "metadata": {},
   "source": [
    "### get useful info"
   ]
  },
  {
   "cell_type": "code",
   "execution_count": 10,
   "metadata": {},
   "outputs": [
    {
     "name": "stdout",
     "output_type": "stream",
     "text": [
      "['Familiar' 'Novel 1' 'Novel >1']\n"
     ]
    }
   ],
   "source": [
    "experience_level = np.sort(experiments_table.experience_level.unique())\n",
    "print(experience_level)"
   ]
  },
  {
   "cell_type": "code",
   "execution_count": 11,
   "metadata": {},
   "outputs": [
    {
     "name": "stdout",
     "output_type": "stream",
     "text": [
      "['Familiar 0' 'Familiar 1' 'Familiar 2' 'Familiar 3' 'Familiar > 3'\n",
      " 'Novel 0' 'Novel 1' 'Novel 2' 'Novel 3' 'Novel > 3']\n"
     ]
    }
   ],
   "source": [
    "exposures = np.sort(experiments_table.experience_exposure.unique())\n",
    "print(exposures)"
   ]
  },
  {
   "cell_type": "code",
   "execution_count": 12,
   "metadata": {},
   "outputs": [
    {
     "name": "stdout",
     "output_type": "stream",
     "text": [
      "['Excitatory' 'Sst Inhibitory' 'Vip Inhibitory']\n"
     ]
    }
   ],
   "source": [
    "cell_types = np.sort(experiments_table.cell_type.unique() )\n",
    "print(cell_types)"
   ]
  },
  {
   "cell_type": "markdown",
   "metadata": {},
   "source": [
    "### get some experiment"
   ]
  },
  {
   "cell_type": "code",
   "execution_count": 13,
   "metadata": {},
   "outputs": [],
   "source": [
    "# experiment_id = experiments_table.index.values[0]\n",
    "# dataset = cache.get_behavior_ophys_experiment(experiment_id)"
   ]
  },
  {
   "cell_type": "markdown",
   "metadata": {},
   "source": [
    "### get multi_session_df"
   ]
  },
  {
   "cell_type": "code",
   "execution_count": 14,
   "metadata": {
    "scrolled": true
   },
   "outputs": [
    {
     "name": "stdout",
     "output_type": "stream",
     "text": [
      "1941\n",
      "955\n",
      "955\n",
      "Wall time: 2.93 s\n"
     ]
    }
   ],
   "source": [
    "%%time\n",
    "\n",
    "# set various params\n",
    "df_name = 'trials_run_speed_df'\n",
    "conditions = ['ophys_experiment_id', 'stimulus_change']\n",
    "use_events = False\n",
    "filter_events = False\n",
    "\n",
    "# load multi_session_df\n",
    "multi_session_df = loading.get_multi_session_df(cache_dir, df_name, conditions, experiments_table, \n",
    "                                                use_events=use_events, filter_events=filter_events)\n",
    "print(len(multi_session_df.ophys_experiment_id.unique()))\n",
    "\n",
    "# keep changes only\n",
    "multi_session_df = multi_session_df[multi_session_df.stimulus_change==True]\n",
    "\n",
    "# limit to platform paper dataset\n",
    "multi_session_df = multi_session_df[multi_session_df.ophys_experiment_id.isin(experiments_table.index.values)]\n",
    "print(len(multi_session_df.ophys_experiment_id.unique()))\n",
    "\n",
    "# merge with metadata\n",
    "multi_session_df = multi_session_df.merge(experiments_table, on='ophys_experiment_id')\n",
    "print(len(multi_session_df.ophys_experiment_id.unique()))\n",
    "\n",
    "original_multi_session_df = multi_session_df.copy()\n"
   ]
  },
  {
   "cell_type": "code",
   "execution_count": 15,
   "metadata": {},
   "outputs": [],
   "source": [
    "# multi_session_df = original_multi_session_df.copy()"
   ]
  },
  {
   "cell_type": "code",
   "execution_count": 16,
   "metadata": {},
   "outputs": [],
   "source": [
    "# drop duplicates for sessions\n",
    "multi_session_df = multi_session_df.drop_duplicates(subset=['ophys_session_id'])"
   ]
  },
  {
   "cell_type": "code",
   "execution_count": 17,
   "metadata": {},
   "outputs": [],
   "source": [
    "# remove weird 7th epoch\n",
    "# multi_session_df = multi_session_df[multi_session_df.epoch!=6]"
   ]
  },
  {
   "cell_type": "code",
   "execution_count": 18,
   "metadata": {},
   "outputs": [],
   "source": [
    "# def merge_experience_epoch(row):\n",
    "#     return row.experience_level+' epoch '+str(int(row.epoch))\n",
    "\n",
    "# multi_session_df['experience_epoch'] = multi_session_df[['experience_level', 'epoch']].apply(axis=1, func=merge_experience_epoch)\n",
    "\n",
    "# experience_epoch = np.sort(multi_session_df.experience_epoch.unique())"
   ]
  },
  {
   "cell_type": "code",
   "execution_count": 19,
   "metadata": {},
   "outputs": [
    {
     "data": {
      "text/plain": [
       "Index(['ophys_experiment_id', 'stimulus_change', 'mean_response',\n",
       "       'sem_response', 'mean_trace', 'sem_trace', 'trace_timestamps',\n",
       "       'mean_responses', 'mean_baseline', 'sem_baseline', 'peak_response',\n",
       "       'time_to_peak', 'fano_factor',\n",
       "       'fraction_significant_p_value_gray_screen',\n",
       "       'fraction_significant_p_value_omission',\n",
       "       'fraction_significant_p_value_stimulus', 'reliability',\n",
       "       'equipment_name', 'full_genotype', 'mouse_id', 'reporter_line',\n",
       "       'driver_line', 'sex', 'age_in_days', 'cre_line', 'indicator',\n",
       "       'session_number', 'prior_exposures_to_session_type',\n",
       "       'prior_exposures_to_image_set', 'prior_exposures_to_omissions',\n",
       "       'ophys_session_id', 'behavior_session_id', 'ophys_container_id',\n",
       "       'project_code', 'imaging_depth', 'targeted_structure',\n",
       "       'date_of_acquisition', 'session_type', 'experience_level', 'passive',\n",
       "       'image_set', 'file_id', 'cell_type', 'depth', 'binned_depth',\n",
       "       'area_depth', 'area_binned_depth', 'date', 'first_novel',\n",
       "       'n_relative_to_first_novel', 'last_familiar', 'last_familiar_active',\n",
       "       'second_novel', 'second_novel_active', 'experience_exposure'],\n",
       "      dtype='object')"
      ]
     },
     "execution_count": 19,
     "metadata": {},
     "output_type": "execute_result"
    }
   ],
   "source": [
    "multi_session_df.keys()"
   ]
  },
  {
   "cell_type": "code",
   "execution_count": 20,
   "metadata": {},
   "outputs": [
    {
     "data": {
      "image/png": "[encoded data removed]",
      "text/plain": [
       "<Figure size 1080x288 with 3 Axes>"
      ]
     },
     "metadata": {},
     "output_type": "display_data"
    }
   ],
   "source": [
    "df = multi_session_df.copy()\n",
    "df = df[df.passive==False]\n",
    "df['prior_exposures_to_image_set'] = [int(x) for x in df.prior_exposures_to_image_set.values]\n",
    "\n",
    "fig, ax = plt.subplots(1,3, figsize=(15,4))\n",
    "for i, cell_type in enumerate(cell_types):\n",
    "    ax[i] = sns.pointplot(data=df[(df.cell_type==cell_type)&(df.experience_level!='Familiar')],\n",
    "                  x='prior_exposures_to_image_set', y='mean_response', \n",
    "                       join=False, dodge=0.5, ax=ax[i])\n",
    "    ax[i].set_title(cell_type)\n",
    "#     ax[i].legend(title='', fontsize='small', bbox_to_anchor=(1,1))\n",
    "fig.tight_layout()"
   ]
  },
  {
   "cell_type": "code",
   "execution_count": null,
   "metadata": {},
   "outputs": [],
   "source": []
  },
  {
   "cell_type": "markdown",
   "metadata": {},
   "source": [
    "### limit to containers with all exp levels, most recent familiar and second novel active"
   ]
  },
  {
   "cell_type": "code",
   "execution_count": 21,
   "metadata": {},
   "outputs": [],
   "source": [
    "multi_session_df = utilities.limit_to_last_familiar_second_novel_active(multi_session_df)\n",
    "multi_session_df = utilities.limit_to_containers_with_all_experience_levels(multi_session_df)"
   ]
  },
  {
   "cell_type": "markdown",
   "metadata": {},
   "source": [
    "### look at averages"
   ]
  },
  {
   "cell_type": "code",
   "execution_count": 22,
   "metadata": {},
   "outputs": [],
   "source": [
    "import visual_behavior.visualization.utils as utils"
   ]
  },
  {
   "cell_type": "code",
   "execution_count": 23,
   "metadata": {},
   "outputs": [
    {
     "data": {
      "text/plain": [
       "(0, 27.18980570952592)"
      ]
     },
     "execution_count": 23,
     "metadata": {},
     "output_type": "execute_result"
    },
    {
     "data": {
      "image/png": "[encoded data removed]",
      "text/plain": [
       "<Figure size 432x288 with 1 Axes>"
      ]
     },
     "metadata": {},
     "output_type": "display_data"
    }
   ],
   "source": [
    "palette = utils.get_experience_level_colors()\n",
    "experience_levels = np.sort(multi_session_df.experience_level.unique())\n",
    "\n",
    "fig, ax = plt.subplots()\n",
    "ax = sns.pointplot(data=multi_session_df, x='cell_type', y='mean_response', hue='experience_level', \n",
    "             hue_order=experience_levels, palette=palette, join=False, dodge=0.4, ax=ax)\n",
    "ax.legend(loc='lower right', fontsize='small', title='')\n",
    "ax.set_xlabel('')\n",
    "ax.set_ylabel('mean running speed (cm/s)')\n",
    "ax.set_ylim(ymin=0)"
   ]
  },
  {
   "cell_type": "code",
   "execution_count": null,
   "metadata": {},
   "outputs": [],
   "source": []
  },
  {
   "cell_type": "code",
   "execution_count": null,
   "metadata": {},
   "outputs": [],
   "source": []
  },
  {
   "cell_type": "code",
   "execution_count": null,
   "metadata": {},
   "outputs": [],
   "source": []
  }
 ],
 "metadata": {
  "kernelspec": {
   "display_name": "visual_behavior_sdk",
   "language": "python",
   "name": "visual_behavior_sdk"
  },
  "language_info": {
   "codemirror_mode": {
    "name": "ipython",
    "version": 3
   },
   "file_extension": ".py",
   "mimetype": "text/x-python",
   "name": "python",
   "nbconvert_exporter": "python",
   "pygments_lexer": "ipython3",
   "version": "3.7.3"
  }
 },
 "nbformat": 4,
 "nbformat_minor": 2
}
