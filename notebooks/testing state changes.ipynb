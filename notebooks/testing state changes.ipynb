{
 "cells": [
  {
   "cell_type": "code",
   "execution_count": 1,
   "metadata": {
    "collapsed": false
   },
   "outputs": [
    {
     "name": "stdout",
     "output_type": "stream",
     "text": [
      "failed to import CV2 in core.utilities\n",
      "failed to import mask in core.jcamdata.py\n",
      "failed to import get_mask_dict_gui in core.epoch.py\n",
      "failed to import aibs.Analysis.Core.smooth\n",
      "failed to import mask relalated functions in __init__.py\n"
     ]
    },
    {
     "name": "stderr",
     "output_type": "stream",
     "text": [
      "/home/justink/Code/mouse_info/mouse_info/__init__.py:10: UserWarning: API 'QString' has already been set to version 1\n",
      "  warn( UserWarning(e) )\n"
     ]
    }
   ],
   "source": [
    "from braintv_pilot import daily"
   ]
  },
  {
   "cell_type": "code",
   "execution_count": 2,
   "metadata": {
    "collapsed": false,
    "scrolled": true
   },
   "outputs": [],
   "source": [
    "mouse = daily.Mouse('M278460')"
   ]
  },
  {
   "cell_type": "code",
   "execution_count": 3,
   "metadata": {
    "collapsed": false
   },
   "outputs": [
    {
     "data": {
      "text/plain": [
       "{'baselineweight': 24.7,\n",
       " 'birthdate': '2016-09-06',\n",
       " 'dayonescript': '',\n",
       " 'driver1': None,\n",
       " 'driver2': None,\n",
       " 'group': 'EMX-Cre-Ai35',\n",
       " 'iacuc_protocol': 1406,\n",
       " 'minweight': 80,\n",
       " 'mousenotes': 'Additional information...',\n",
       " 'owner': 'sissyc',\n",
       " 'reporter': 'GCaMP6+',\n",
       " 'sex': 'Female',\n",
       " 'tasktype': 'Virtual Foraging',\n",
       " 'training_location': None,\n",
       " 'userid': 'sissyc',\n",
       " 'waterrestrictionstartdate': '2017-02-02'}"
      ]
     },
     "execution_count": 3,
     "metadata": {},
     "output_type": "execute_result"
    }
   ],
   "source": [
    "mouse.info_txt"
   ]
  },
  {
   "cell_type": "code",
   "execution_count": 4,
   "metadata": {
    "collapsed": false
   },
   "outputs": [
    {
     "data": {
      "text/plain": [
       "{'Duration': 60,\n",
       " 'SF': 0.04,\n",
       " 'blank_duration_range': [0.0, 0.0],\n",
       " 'blankscreen_duration': 1,\n",
       " 'blankscreen_on_timeout': False,\n",
       " 'catch_frequency': 0.5,\n",
       " 'delta_minimum': 2,\n",
       " 'delta_oris': [90],\n",
       " 'frame_interval_plot': 'none',\n",
       " 'initial_blank': 0,\n",
       " 'lick_detect_training_block_length': [8, 12],\n",
       " 'lick_detect_training_enabled': True,\n",
       " 'lick_detect_training_mode': 'single',\n",
       " 'max_number_trial_repeats': 5,\n",
       " 'response_window': [0.15, 1],\n",
       " 'rewardvol': 0.01,\n",
       " 'stage': 'static_full_field_gratings',\n",
       " 'stim_duration': 0.2,\n",
       " 'stimulus': 'full_screen_square_wave',\n",
       " 'stimulus_distribution': 'uniform',\n",
       " 'task_mode': 'training',\n",
       " 'trial_duration': 4.5,\n",
       " 'volumelimit': 1.5,\n",
       " 'warmup_trials': 5,\n",
       " 'whitenoise_on_timeout': False}"
      ]
     },
     "execution_count": 4,
     "metadata": {},
     "output_type": "execute_result"
    }
   ],
   "source": [
    "mouse.active_parameters"
   ]
  },
  {
   "cell_type": "code",
   "execution_count": 11,
   "metadata": {
    "collapsed": false
   },
   "outputs": [
    {
     "name": "stdout",
     "output_type": "stream",
     "text": [
      "uh oh! IOError: [Errno 13] Permission denied: '/data/neuralcoding/Behavior/Data/M278460/adjustment/daily-20170213095821.json'\n"
     ]
    }
   ],
   "source": [
    "mouse.save_params()"
   ]
  },
  {
   "cell_type": "code",
   "execution_count": 6,
   "metadata": {
    "collapsed": false
   },
   "outputs": [],
   "source": [
    "# mouse.progress()"
   ]
  },
  {
   "cell_type": "code",
   "execution_count": 7,
   "metadata": {
    "collapsed": false
   },
   "outputs": [],
   "source": [
    "import json"
   ]
  },
  {
   "cell_type": "code",
   "execution_count": 10,
   "metadata": {
    "collapsed": false
   },
   "outputs": [],
   "source": [
    "parameter_file = '/data/neuralcoding/Justin/Outbox/daily-20170210164007.json'\n",
    "\n",
    "with open(parameter_file,'w') as f:\n",
    "    json.dump(mouse.active_parameters,f,sort_keys=True,indent=4)"
   ]
  }
 ],
 "metadata": {
  "kernelspec": {
   "display_name": "Python [conda env:braintv_behav]",
   "language": "python",
   "name": "conda-env-braintv_behav-py"
  },
  "language_info": {
   "codemirror_mode": {
    "name": "ipython",
    "version": 2
   },
   "file_extension": ".py",
   "mimetype": "text/x-python",
   "name": "python",
   "nbconvert_exporter": "python",
   "pygments_lexer": "ipython2",
   "version": "2.7.13"
  }
 },
 "nbformat": 4,
 "nbformat_minor": 1
}
