{
 "cells": [
  {
   "cell_type": "code",
   "execution_count": 1,
   "metadata": {
    "collapsed": false
   },
   "outputs": [
    {
     "name": "stdout",
     "output_type": "stream",
     "text": [
      "failed to import CV2 in core.utilities\n",
      "failed to import mask in core.jcamdata.py\n",
      "failed to import get_mask_dict_gui in core.epoch.py\n",
      "failed to import aibs.Analysis.Core.smooth\n",
      "failed to import mask relalated functions in __init__.py\n"
     ]
    },
    {
     "name": "stderr",
     "output_type": "stream",
     "text": [
      "/home/justink/Code/mouse_info/mouse_info/__init__.py:10: UserWarning: API 'QString' has already been set to version 1\n",
      "  warn( UserWarning(e) )\n"
     ]
    }
   ],
   "source": [
    "from braintv_pilot import daily"
   ]
  },
  {
   "cell_type": "code",
   "execution_count": 2,
   "metadata": {
    "collapsed": false,
    "scrolled": true
   },
   "outputs": [],
   "source": [
    "mouse = daily.Mouse('M278332')"
   ]
  },
  {
   "cell_type": "code",
   "execution_count": 3,
   "metadata": {
    "collapsed": false
   },
   "outputs": [
    {
     "data": {
      "text/plain": [
       "{'baselineweight': 23.2,\n",
       " 'birthdate': '2016-09-05',\n",
       " 'dayonescript': '',\n",
       " 'driver1': None,\n",
       " 'driver2': None,\n",
       " 'group': 'Rorb-IRES2-Cre; Camk2a-tTA; Ai93 (NC)',\n",
       " 'iacuc_protocol': 1506,\n",
       " 'minweight': 80,\n",
       " 'mousenotes': 'Additional information...',\n",
       " 'owner': 'sissyc',\n",
       " 'reporter': None,\n",
       " 'sex': 'Female',\n",
       " 'tasktype': None,\n",
       " 'training_location': None,\n",
       " 'userid': 'sissyc',\n",
       " 'waterrestrictionstartdate': '2017-01-03'}"
      ]
     },
     "execution_count": 3,
     "metadata": {},
     "output_type": "execute_result"
    }
   ],
   "source": [
    "mouse.info_txt"
   ]
  },
  {
   "cell_type": "code",
   "execution_count": 4,
   "metadata": {
    "collapsed": false
   },
   "outputs": [
    {
     "data": {
      "text/plain": [
       "{'Duration': 60,\n",
       " 'SF': 0.04,\n",
       " 'blank_duration_range': [0.0, 0.0],\n",
       " 'blankscreen_duration': 1,\n",
       " 'blankscreen_on_timeout': False,\n",
       " 'catch_frequency': 0.5,\n",
       " 'delta_minimum': 2,\n",
       " 'delta_oris': [90],\n",
       " 'frame_interval_plot': 'none',\n",
       " 'initial_blank': 0,\n",
       " 'lick_detect_training_block_length': [8, 12],\n",
       " 'lick_detect_training_enabled': True,\n",
       " 'lick_detect_training_mode': 'single',\n",
       " 'max_number_trial_repeats': 5,\n",
       " 'response_window': [0.15, 1],\n",
       " 'rewardvol': 0.01,\n",
       " 'stage': 'static_full_field_gratings',\n",
       " 'stim_duration': 0.2,\n",
       " 'stimulus': 'full_screen_square_wave',\n",
       " 'stimulus_distribution': 'uniform',\n",
       " 'task_mode': 'training',\n",
       " 'trial_duration': 4.5,\n",
       " 'volumelimit': 1.5,\n",
       " 'warmup_trials': 5,\n",
       " 'whitenoise_on_timeout': False}"
      ]
     },
     "execution_count": 4,
     "metadata": {},
     "output_type": "execute_result"
    }
   ],
   "source": [
    "mouse.active_parameters"
   ]
  },
  {
   "cell_type": "code",
   "execution_count": 5,
   "metadata": {
    "collapsed": false
   },
   "outputs": [
    {
     "name": "stdout",
     "output_type": "stream",
     "text": [
      "uh oh! IOError: [Errno 13] Permission denied: '/data/neuralcoding/Behavior/Data/M278332/adjustment/daily-20170210154923.json'\n"
     ]
    }
   ],
   "source": [
    "mouse.save_params()"
   ]
  },
  {
   "cell_type": "code",
   "execution_count": 7,
   "metadata": {
    "collapsed": false
   },
   "outputs": [
    {
     "name": "stdout",
     "output_type": "stream",
     "text": [
      "Loading /data/neuralcoding/Behavior/Data/M278332/output/170116111935-task=DetectionOfChange_General_stage=1_AutoRewards_fixed_duration_mouse=M278332.pkl\n",
      "Loading /data/neuralcoding/Behavior/Data/M278332/output/170116120723-task=DetectionOfChange_General_stage=1_AutoRewards_fixed_duration_mouse=M278332.pkl\n",
      "Loading /data/neuralcoding/Behavior/Data/M278332/output/170117141411-task=DetectionOfChange_General_stage=1_AutoRewards_fixed_duration_mouse=M278332.pkl\n",
      "Loading /data/neuralcoding/Behavior/Data/M278332/output/170118135706-task=DetectionOfChange_General_stage=1_AutoRewards_fixed_duration_mouse=M278332.pkl\n",
      "Loading /data/neuralcoding/Behavior/Data/M278332/output/170119140712-task=DetectionOfChange_General_stage=1_AutoRewards_fixed_duration_mouse=M278332.pkl\n",
      "Loading /data/neuralcoding/Behavior/Data/M278332/output/170123122319-task=DetectionOfChange_General_stage=1_AutoRewards_fixed_duration_mouse=M278332.pkl\n",
      "Loading /data/neuralcoding/Behavior/Data/M278332/output/170124100045-task=DetectionOfChange_General_stage=1_AutoRewards_fixed_duration_mouse=M278332.pkl\n",
      "Loading /data/neuralcoding/Behavior/Data/M278332/output/170125143747-task=DetectionOfChange_General_stage=1_AutoRewards_fixed_duration_mouse=M278332.pkl\n",
      "Loading /data/neuralcoding/Behavior/Data/M278332/output/170126141742-task=DetectionOfChange_General_stage=1_AutoRewards_fixed_duration_mouse=M278332.pkl\n",
      "Loading /data/neuralcoding/Behavior/Data/M278332/output/170127134852-task=DetectionOfChange_General_stage=1_AutoRewards_fixed_duration_mouse=M278332.pkl\n",
      "Loading /data/neuralcoding/Behavior/Data/M278332/output/170130145709-task=DetectionOfChange_General_stage=1_AutoRewards_fixed_duration_mouse=M278332.pkl\n",
      "Loading /data/neuralcoding/Behavior/Data/M278332/output/170131134626-task=DetectionOfChange_General_stage=1_AutoRewards_fixed_duration_mouse=M278332.pkl\n",
      "Loading /data/neuralcoding/Behavior/Data/M278332/output/170201110943-task=DetectionOfChange_General_stage=1_AutoRewards_fixed_duration_mouse=M278332.pkl\n",
      "Loading /data/neuralcoding/Behavior/Data/M278332/output/170202154652-task=DetectionOfChange_General_stage=1_AutoRewards_fixed_duration_mouse=M278332.pkl\n",
      "Loading /data/neuralcoding/Behavior/Data/M278332/output/170203110139-task=DetectionOfChange_General_stage=1_AutoRewards_fixed_duration_mouse=M278332.pkl\n",
      "Loading /data/neuralcoding/Behavior/Data/M278332/output/170206153337-task=DetectionOfChange_General_stage=2_SolicitRewards_fixed_duration_mouse=M278332.pkl\n",
      "Loading /data/neuralcoding/Behavior/Data/M278332/output/170207141735-task=DetectionOfChange_General_stage=2_SolicitRewards_fixed_duration_mouse=M278332.pkl\n",
      "Loading /data/neuralcoding/Behavior/Data/M278332/output/170208141525-task=DetectionOfChange_General_stage=2_SolicitRewards_fixed_duration_mouse=M278332.pkl\n"
     ]
    },
    {
     "name": "stderr",
     "output_type": "stream",
     "text": [
      "/home/justink/Code/dro/dro/utilities.py:137: VisibleDeprecationWarning: boolean index did not match indexed array along dimension 0; dimension is 14 but corresponding boolean dimension is 13\n",
      "/home/justink/Code/dro/dro/utilities.py:137: VisibleDeprecationWarning: boolean index did not match indexed array along dimension 0; dimension is 7 but corresponding boolean dimension is 6\n",
      "/home/justink/Code/dro/dro/utilities.py:137: VisibleDeprecationWarning: boolean index did not match indexed array along dimension 0; dimension is 3 but corresponding boolean dimension is 2\n"
     ]
    },
    {
     "name": "stdout",
     "output_type": "stream",
     "text": [
      "Loading /data/neuralcoding/Behavior/Data/M278332/output/170209150504-task=DetectionOfChange_General_stage=2_SolicitRewards_fixed_duration_mouse=M278332.pkl\n",
      "day zero not found for M278332\n",
      "0\n",
      "M278332 ['2017-01-16' '2017-01-17' '2017-01-18' '2017-01-19' '2017-01-23'\n",
      " '2017-01-24' '2017-01-25' '2017-01-26' '2017-01-27' '2017-01-30'\n",
      " '2017-01-31' '2017-02-01' '2017-02-02' '2017-02-03' '2017-02-06'\n",
      " '2017-02-07' '2017-02-08' '2017-02-09']\n",
      "oops, AttributeError: 'Mouse' object has no attribute 'session_summary'\n"
     ]
    },
    {
     "name": "stderr",
     "output_type": "stream",
     "text": [
      "/home/justink/Code/dro/dro/utilities.py:516: RuntimeWarning: invalid value encountered in greater\n",
      "/home/justink/Code/dro/dro/utilities.py:517: RuntimeWarning: invalid value encountered in less\n",
      "/home/justink/.conda/envs/braintv_behav/lib/python2.7/site-packages/scipy/stats/_distn_infrastructure.py:1897: RuntimeWarning: invalid value encountered in greater\n",
      "  cond1 = (0 < q) & (q < 1)\n",
      "/home/justink/.conda/envs/braintv_behav/lib/python2.7/site-packages/scipy/stats/_distn_infrastructure.py:1897: RuntimeWarning: invalid value encountered in less\n",
      "  cond1 = (0 < q) & (q < 1)\n",
      "/home/justink/.conda/envs/braintv_behav/lib/python2.7/site-packages/numpy/lib/nanfunctions.py:343: RuntimeWarning: All-NaN slice encountered\n",
      "  warnings.warn(\"All-NaN slice encountered\", RuntimeWarning)\n"
     ]
    },
    {
     "name": "stdout",
     "output_type": "stream",
     "text": [
      "calculating criteria\n"
     ]
    },
    {
     "data": {
      "text/plain": [
       "False"
      ]
     },
     "execution_count": 7,
     "metadata": {},
     "output_type": "execute_result"
    }
   ],
   "source": [
    "mouse.progress()"
   ]
  },
  {
   "cell_type": "code",
   "execution_count": 9,
   "metadata": {
    "collapsed": false
   },
   "outputs": [
    {
     "data": {
      "text/plain": [
       "{'Duration': 60,\n",
       " 'SF': 0.04,\n",
       " 'blank_duration_range': [0.0, 0.0],\n",
       " 'blankscreen_duration': 1,\n",
       " 'blankscreen_on_timeout': False,\n",
       " 'catch_frequency': 0.5,\n",
       " 'delta_minimum': 2,\n",
       " 'delta_oris': [90],\n",
       " 'frame_interval_plot': 'none',\n",
       " 'initial_blank': 0,\n",
       " 'lick_detect_training_block_length': [8, 12],\n",
       " 'lick_detect_training_enabled': True,\n",
       " 'lick_detect_training_mode': 'single',\n",
       " 'max_number_trial_repeats': 5,\n",
       " 'response_window': [0.15, 1],\n",
       " 'rewardvol': 0.01,\n",
       " 'stage': 'static_full_field_gratings',\n",
       " 'stim_duration': 0.2,\n",
       " 'stimulus': 'full_screen_square_wave',\n",
       " 'stimulus_distribution': 'uniform',\n",
       " 'task_mode': 'training',\n",
       " 'trial_duration': 4.5,\n",
       " 'volumelimit': 1.5,\n",
       " 'warmup_trials': 5,\n",
       " 'whitenoise_on_timeout': False}"
      ]
     },
     "execution_count": 9,
     "metadata": {},
     "output_type": "execute_result"
    }
   ],
   "source": [
    "mouse.active_parameters"
   ]
  }
 ],
 "metadata": {
  "kernelspec": {
   "display_name": "Python [conda env:braintv_behav]",
   "language": "python",
   "name": "conda-env-braintv_behav-py"
  },
  "language_info": {
   "codemirror_mode": {
    "name": "ipython",
    "version": 2
   },
   "file_extension": ".py",
   "mimetype": "text/x-python",
   "name": "python",
   "nbconvert_exporter": "python",
   "pygments_lexer": "ipython2",
   "version": "2.7.13"
  }
 },
 "nbformat": 4,
 "nbformat_minor": 1
}
