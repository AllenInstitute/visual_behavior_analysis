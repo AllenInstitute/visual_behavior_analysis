{
 "cells": [
  {
   "cell_type": "code",
   "execution_count": 1,
   "metadata": {},
   "outputs": [],
   "source": [
    "import os\n",
    "import numpy as np\n",
    "import pandas as pd\n",
    "import matplotlib.pyplot as plt\n",
    "\n",
    "import seaborn as sns\n",
    "sns.set_context('notebook', font_scale=1.5, rc={'lines.markeredgewidth': 2})"
   ]
  },
  {
   "cell_type": "code",
   "execution_count": 2,
   "metadata": {},
   "outputs": [],
   "source": [
    "%load_ext autoreload\n",
    "%autoreload 2\n",
    "\n",
    "%matplotlib inline"
   ]
  },
  {
   "cell_type": "code",
   "execution_count": 3,
   "metadata": {},
   "outputs": [],
   "source": [
    "import visual_behavior.data_access.loading as loading\n",
    "import visual_behavior.ophys.response_analysis.utilities as ut\n",
    "from visual_behavior.ophys.response_analysis.response_analysis import ResponseAnalysis"
   ]
  },
  {
   "cell_type": "code",
   "execution_count": 4,
   "metadata": {},
   "outputs": [],
   "source": [
    "experiments_table = loading.get_filtered_ophys_experiment_table() "
   ]
  },
  {
   "cell_type": "code",
   "execution_count": 5,
   "metadata": {},
   "outputs": [
    {
     "data": {
      "text/html": [
       "<div>\n",
       "<style scoped>\n",
       "    .dataframe tbody tr th:only-of-type {\n",
       "        vertical-align: middle;\n",
       "    }\n",
       "\n",
       "    .dataframe tbody tr th {\n",
       "        vertical-align: top;\n",
       "    }\n",
       "\n",
       "    .dataframe thead th {\n",
       "        text-align: right;\n",
       "    }\n",
       "</style>\n",
       "<table border=\"1\" class=\"dataframe\">\n",
       "  <thead>\n",
       "    <tr style=\"text-align: right;\">\n",
       "      <th></th>\n",
       "      <th>ophys_session_id</th>\n",
       "      <th>behavior_session_id</th>\n",
       "      <th>container_id</th>\n",
       "      <th>project_code</th>\n",
       "      <th>container_workflow_state</th>\n",
       "      <th>experiment_workflow_state</th>\n",
       "      <th>session_name</th>\n",
       "      <th>session_type</th>\n",
       "      <th>equipment_name</th>\n",
       "      <th>date_of_acquisition</th>\n",
       "      <th>...</th>\n",
       "      <th>imaging_depth</th>\n",
       "      <th>targeted_structure</th>\n",
       "      <th>published_at</th>\n",
       "      <th>super_container_id</th>\n",
       "      <th>cre_line</th>\n",
       "      <th>session_tags</th>\n",
       "      <th>failure_tags</th>\n",
       "      <th>exposure_number</th>\n",
       "      <th>model_outputs_available</th>\n",
       "      <th>location</th>\n",
       "    </tr>\n",
       "    <tr>\n",
       "      <th>ophys_experiment_id</th>\n",
       "      <th></th>\n",
       "      <th></th>\n",
       "      <th></th>\n",
       "      <th></th>\n",
       "      <th></th>\n",
       "      <th></th>\n",
       "      <th></th>\n",
       "      <th></th>\n",
       "      <th></th>\n",
       "      <th></th>\n",
       "      <th></th>\n",
       "      <th></th>\n",
       "      <th></th>\n",
       "      <th></th>\n",
       "      <th></th>\n",
       "      <th></th>\n",
       "      <th></th>\n",
       "      <th></th>\n",
       "      <th></th>\n",
       "      <th></th>\n",
       "      <th></th>\n",
       "    </tr>\n",
       "  </thead>\n",
       "  <tbody>\n",
       "    <tr>\n",
       "      <td>953659745</td>\n",
       "      <td>952430817</td>\n",
       "      <td>952554548</td>\n",
       "      <td>1018028339</td>\n",
       "      <td>VisualBehaviorMultiscope</td>\n",
       "      <td>completed</td>\n",
       "      <td>passed</td>\n",
       "      <td>20190923_457841_2imagesA</td>\n",
       "      <td>OPHYS_2_images_A_passive</td>\n",
       "      <td>MESO.1</td>\n",
       "      <td>2019-09-23 08:13:07.627573</td>\n",
       "      <td>...</td>\n",
       "      <td>75</td>\n",
       "      <td>VISp</td>\n",
       "      <td>NaN</td>\n",
       "      <td>850862430</td>\n",
       "      <td>Sst-IRES-Cre</td>\n",
       "      <td>NaN</td>\n",
       "      <td>z_drift_corr_um_diff,z_drift_corr_um_diff,z_dr...</td>\n",
       "      <td>0</td>\n",
       "      <td>False</td>\n",
       "      <td>Sst_VISp_75</td>\n",
       "    </tr>\n",
       "    <tr>\n",
       "      <td>953659749</td>\n",
       "      <td>952430817</td>\n",
       "      <td>952554548</td>\n",
       "      <td>1018028354</td>\n",
       "      <td>VisualBehaviorMultiscope</td>\n",
       "      <td>completed</td>\n",
       "      <td>passed</td>\n",
       "      <td>20190923_457841_2imagesA</td>\n",
       "      <td>OPHYS_2_images_A_passive</td>\n",
       "      <td>MESO.1</td>\n",
       "      <td>2019-09-23 08:13:07.627573</td>\n",
       "      <td>...</td>\n",
       "      <td>150</td>\n",
       "      <td>VISl</td>\n",
       "      <td>NaN</td>\n",
       "      <td>850862430</td>\n",
       "      <td>Sst-IRES-Cre</td>\n",
       "      <td>NaN</td>\n",
       "      <td>z_drift_corr_um_diff,z_drift_corr_um_diff,z_dr...</td>\n",
       "      <td>0</td>\n",
       "      <td>False</td>\n",
       "      <td>Sst_VISl_150</td>\n",
       "    </tr>\n",
       "    <tr>\n",
       "      <td>953659752</td>\n",
       "      <td>952430817</td>\n",
       "      <td>952554548</td>\n",
       "      <td>1018028357</td>\n",
       "      <td>VisualBehaviorMultiscope</td>\n",
       "      <td>completed</td>\n",
       "      <td>passed</td>\n",
       "      <td>20190923_457841_2imagesA</td>\n",
       "      <td>OPHYS_2_images_A_passive</td>\n",
       "      <td>MESO.1</td>\n",
       "      <td>2019-09-23 08:13:07.627573</td>\n",
       "      <td>...</td>\n",
       "      <td>225</td>\n",
       "      <td>VISl</td>\n",
       "      <td>NaN</td>\n",
       "      <td>850862430</td>\n",
       "      <td>Sst-IRES-Cre</td>\n",
       "      <td>NaN</td>\n",
       "      <td>z_drift_corr_um_diff,z_drift_corr_um_diff,z_dr...</td>\n",
       "      <td>0</td>\n",
       "      <td>False</td>\n",
       "      <td>Sst_VISl_225</td>\n",
       "    </tr>\n",
       "    <tr>\n",
       "      <td>953659743</td>\n",
       "      <td>952430817</td>\n",
       "      <td>952554548</td>\n",
       "      <td>1018028345</td>\n",
       "      <td>VisualBehaviorMultiscope</td>\n",
       "      <td>completed</td>\n",
       "      <td>passed</td>\n",
       "      <td>20190923_457841_2imagesA</td>\n",
       "      <td>OPHYS_2_images_A_passive</td>\n",
       "      <td>MESO.1</td>\n",
       "      <td>2019-09-23 08:13:07.627573</td>\n",
       "      <td>...</td>\n",
       "      <td>225</td>\n",
       "      <td>VISp</td>\n",
       "      <td>NaN</td>\n",
       "      <td>850862430</td>\n",
       "      <td>Sst-IRES-Cre</td>\n",
       "      <td>NaN</td>\n",
       "      <td>z_drift_corr_um_diff,z_drift_corr_um_diff,z_dr...</td>\n",
       "      <td>0</td>\n",
       "      <td>False</td>\n",
       "      <td>Sst_VISp_225</td>\n",
       "    </tr>\n",
       "    <tr>\n",
       "      <td>958527474</td>\n",
       "      <td>954954402</td>\n",
       "      <td>953982960</td>\n",
       "      <td>1018028339</td>\n",
       "      <td>VisualBehaviorMultiscope</td>\n",
       "      <td>completed</td>\n",
       "      <td>passed</td>\n",
       "      <td>20190924_457841_3imagesA</td>\n",
       "      <td>OPHYS_3_images_A</td>\n",
       "      <td>MESO.1</td>\n",
       "      <td>2019-09-24 16:00:00.000000</td>\n",
       "      <td>...</td>\n",
       "      <td>75</td>\n",
       "      <td>VISp</td>\n",
       "      <td>NaN</td>\n",
       "      <td>850862430</td>\n",
       "      <td>Sst-IRES-Cre</td>\n",
       "      <td>NaN</td>\n",
       "      <td>NaN</td>\n",
       "      <td>0</td>\n",
       "      <td>True</td>\n",
       "      <td>Sst_VISp_75</td>\n",
       "    </tr>\n",
       "  </tbody>\n",
       "</table>\n",
       "<p>5 rows × 27 columns</p>\n",
       "</div>"
      ],
      "text/plain": [
       "                     ophys_session_id  behavior_session_id  container_id  \\\n",
       "ophys_experiment_id                                                        \n",
       "953659745                   952430817            952554548    1018028339   \n",
       "953659749                   952430817            952554548    1018028354   \n",
       "953659752                   952430817            952554548    1018028357   \n",
       "953659743                   952430817            952554548    1018028345   \n",
       "958527474                   954954402            953982960    1018028339   \n",
       "\n",
       "                                 project_code container_workflow_state  \\\n",
       "ophys_experiment_id                                                      \n",
       "953659745            VisualBehaviorMultiscope                completed   \n",
       "953659749            VisualBehaviorMultiscope                completed   \n",
       "953659752            VisualBehaviorMultiscope                completed   \n",
       "953659743            VisualBehaviorMultiscope                completed   \n",
       "958527474            VisualBehaviorMultiscope                completed   \n",
       "\n",
       "                    experiment_workflow_state              session_name  \\\n",
       "ophys_experiment_id                                                       \n",
       "953659745                              passed  20190923_457841_2imagesA   \n",
       "953659749                              passed  20190923_457841_2imagesA   \n",
       "953659752                              passed  20190923_457841_2imagesA   \n",
       "953659743                              passed  20190923_457841_2imagesA   \n",
       "958527474                              passed  20190924_457841_3imagesA   \n",
       "\n",
       "                                 session_type equipment_name  \\\n",
       "ophys_experiment_id                                            \n",
       "953659745            OPHYS_2_images_A_passive         MESO.1   \n",
       "953659749            OPHYS_2_images_A_passive         MESO.1   \n",
       "953659752            OPHYS_2_images_A_passive         MESO.1   \n",
       "953659743            OPHYS_2_images_A_passive         MESO.1   \n",
       "958527474                    OPHYS_3_images_A         MESO.1   \n",
       "\n",
       "                            date_of_acquisition  ...  imaging_depth  \\\n",
       "ophys_experiment_id                              ...                  \n",
       "953659745            2019-09-23 08:13:07.627573  ...             75   \n",
       "953659749            2019-09-23 08:13:07.627573  ...            150   \n",
       "953659752            2019-09-23 08:13:07.627573  ...            225   \n",
       "953659743            2019-09-23 08:13:07.627573  ...            225   \n",
       "958527474            2019-09-24 16:00:00.000000  ...             75   \n",
       "\n",
       "                     targeted_structure published_at  super_container_id  \\\n",
       "ophys_experiment_id                                                        \n",
       "953659745                          VISp          NaN           850862430   \n",
       "953659749                          VISl          NaN           850862430   \n",
       "953659752                          VISl          NaN           850862430   \n",
       "953659743                          VISp          NaN           850862430   \n",
       "958527474                          VISp          NaN           850862430   \n",
       "\n",
       "                         cre_line session_tags  \\\n",
       "ophys_experiment_id                              \n",
       "953659745            Sst-IRES-Cre          NaN   \n",
       "953659749            Sst-IRES-Cre          NaN   \n",
       "953659752            Sst-IRES-Cre          NaN   \n",
       "953659743            Sst-IRES-Cre          NaN   \n",
       "958527474            Sst-IRES-Cre          NaN   \n",
       "\n",
       "                                                          failure_tags  \\\n",
       "ophys_experiment_id                                                      \n",
       "953659745            z_drift_corr_um_diff,z_drift_corr_um_diff,z_dr...   \n",
       "953659749            z_drift_corr_um_diff,z_drift_corr_um_diff,z_dr...   \n",
       "953659752            z_drift_corr_um_diff,z_drift_corr_um_diff,z_dr...   \n",
       "953659743            z_drift_corr_um_diff,z_drift_corr_um_diff,z_dr...   \n",
       "958527474                                                          NaN   \n",
       "\n",
       "                     exposure_number model_outputs_available      location  \n",
       "ophys_experiment_id                                                         \n",
       "953659745                          0                   False   Sst_VISp_75  \n",
       "953659749                          0                   False  Sst_VISl_150  \n",
       "953659752                          0                   False  Sst_VISl_225  \n",
       "953659743                          0                   False  Sst_VISp_225  \n",
       "958527474                          0                    True   Sst_VISp_75  \n",
       "\n",
       "[5 rows x 27 columns]"
      ]
     },
     "execution_count": 5,
     "metadata": {},
     "output_type": "execute_result"
    }
   ],
   "source": [
    "experiments_table.head()"
   ]
  },
  {
   "cell_type": "code",
   "execution_count": 6,
   "metadata": {},
   "outputs": [
    {
     "data": {
      "text/plain": [
       "ophys_session_id                                                     882386411\n",
       "behavior_session_id                                                  882446265\n",
       "container_id                                                        1018027561\n",
       "project_code                                          VisualBehaviorMultiscope\n",
       "container_workflow_state                                             completed\n",
       "experiment_workflow_state                                               passed\n",
       "session_name                                        20190606_451787_3imagesA_2\n",
       "session_type                                                  OPHYS_3_images_A\n",
       "equipment_name                                                          MESO.1\n",
       "date_of_acquisition                                 2019-06-06 13:37:46.000000\n",
       "isi_experiment_id                                                    846136902\n",
       "specimen_id                                                          837581585\n",
       "sex                                                                          M\n",
       "age_in_days                                                                127\n",
       "full_genotype                Slc17a7-IRES2-Cre/wt;Camk2a-tTA/wt;Ai93(TITL-G...\n",
       "reporter_line                                           ['Ai93(TITL-GCaMP6f)']\n",
       "driver_line                                ['Camk2a-tTA', 'Slc17a7-IRES2-Cre']\n",
       "imaging_depth                                                              225\n",
       "targeted_structure                                                        VISl\n",
       "published_at                                                               NaN\n",
       "super_container_id                                                   837581585\n",
       "cre_line                                                     Slc17a7-IRES2-Cre\n",
       "session_tags                                                               NaN\n",
       "failure_tags                                                               NaN\n",
       "exposure_number                                                              0\n",
       "model_outputs_available                                                   True\n",
       "location                                                      Slc17a7_VISl_225\n",
       "Name: 882551962, dtype: object"
      ]
     },
     "execution_count": 6,
     "metadata": {},
     "output_type": "execute_result"
    }
   ],
   "source": [
    "arbitrary_index = 650\n",
    "experiments_table.iloc[arbitrary_index]"
   ]
  },
  {
   "cell_type": "markdown",
   "metadata": {},
   "source": [
    "### get metrics for one experiment "
   ]
  },
  {
   "cell_type": "code",
   "execution_count": 7,
   "metadata": {},
   "outputs": [],
   "source": [
    "ophys_experiment_id = experiments_table.index.values[arbitrary_index]\n",
    "\n",
    "dataset = loading.get_ophys_dataset(ophys_experiment_id)"
   ]
  },
  {
   "cell_type": "code",
   "execution_count": 8,
   "metadata": {},
   "outputs": [
    {
     "name": "stderr",
     "output_type": "stream",
     "text": [
      "C:\\Users\\marinag\\Documents\\Code\\AllenSDK\\allensdk\\brain_observatory\\sync_dataset.py:109: UserWarning: The loaded sync file contains the following deprecated line label keys: {'cam2_exposure', 'cam1_exposure'}. Consider updating the sync file line labels.\n",
      "  self._check_line_labels()\n",
      "C:\\Users\\marinag\\Documents\\Code\\AllenSDK\\allensdk\\brain_observatory\\sync_dataset.py:109: UserWarning: The loaded sync file contains the following deprecated line label keys: {'cam2_exposure', 'cam1_exposure'}. Consider updating the sync file line labels.\n",
      "  self._check_line_labels()\n",
      "WARNING:root:Could not find valid lines for the following data sources\n",
      "WARNING:root:acquiring (valid line label(s) = ['2p_acquiring']\n",
      "ERROR:visual_behavior.ophys.io.lims_database:cannot query specimen driver line: can't adapt type 'numpy.int64'\n",
      "ERROR:visual_behavior.ophys.io.lims_database:cannot query specimen reporter line: can't adapt type 'numpy.int64'\n",
      "ERROR:visual_behavior.ophys.sync.process_sync:Sync photodiode error needs to be fixed. Using assumed monitor delay: 0.0351\n"
     ]
    },
    {
     "name": "stdout",
     "output_type": "stream",
     "text": [
      "resampling mesoscope 2P frame times\n"
     ]
    },
    {
     "name": "stderr",
     "output_type": "stream",
     "text": [
      "ERROR:visual_behavior.ophys.io.lims_database:cannot query specimen driver line: can't adapt type 'numpy.int64'\n",
      "ERROR:visual_behavior.ophys.io.lims_database:cannot query specimen reporter line: can't adapt type 'numpy.int64'\n",
      "ERROR:visual_behavior.ophys.sync.process_sync:Sync photodiode error needs to be fixed. Using assumed monitor delay: 0.0351\n",
      "ERROR:visual_behavior.ophys.io.lims_database:cannot query specimen driver line: can't adapt type 'numpy.int64'\n",
      "ERROR:visual_behavior.ophys.io.lims_database:cannot query specimen reporter line: can't adapt type 'numpy.int64'\n"
     ]
    },
    {
     "name": "stdout",
     "output_type": "stream",
     "text": [
      "resampling mesoscope 2P frame times\n"
     ]
    },
    {
     "name": "stderr",
     "output_type": "stream",
     "text": [
      "ERROR:visual_behavior.ophys.sync.process_sync:Sync photodiode error needs to be fixed. Using assumed monitor delay: 0.0351\n"
     ]
    },
    {
     "name": "stdout",
     "output_type": "stream",
     "text": [
      "resampling mesoscope 2P frame times\n"
     ]
    }
   ],
   "source": [
    "analysis = ResponseAnalysis(dataset) "
   ]
  },
  {
   "cell_type": "code",
   "execution_count": 9,
   "metadata": {},
   "outputs": [
    {
     "name": "stderr",
     "output_type": "stream",
     "text": [
      "ERROR:visual_behavior.ophys.io.lims_database:cannot query specimen driver line: can't adapt type 'numpy.int64'\n",
      "ERROR:visual_behavior.ophys.io.lims_database:cannot query specimen reporter line: can't adapt type 'numpy.int64'\n",
      "ERROR:visual_behavior.ophys.sync.process_sync:Sync photodiode error needs to be fixed. Using assumed monitor delay: 0.0351\n"
     ]
    },
    {
     "name": "stdout",
     "output_type": "stream",
     "text": [
      "resampling mesoscope 2P frame times\n"
     ]
    },
    {
     "name": "stderr",
     "output_type": "stream",
     "text": [
      "C:\\Users\\marinag\\AppData\\Roaming\\Python\\Python37\\site-packages\\pandas\\core\\indexing.py:494: SettingWithCopyWarning: \n",
      "A value is trying to be set on a copy of a slice from a DataFrame.\n",
      "Try using .loc[row_indexer,col_indexer] = value instead\n",
      "\n",
      "See the caveats in the documentation: http://pandas.pydata.org/pandas-docs/stable/user_guide/indexing.html#returning-a-view-versus-a-copy\n",
      "  self.obj[item] = s\n",
      "ERROR:visual_behavior.ophys.io.lims_database:cannot query specimen driver line: can't adapt type 'numpy.int64'\n",
      "ERROR:visual_behavior.ophys.io.lims_database:cannot query specimen reporter line: can't adapt type 'numpy.int64'\n",
      "ERROR:visual_behavior.ophys.sync.process_sync:Sync photodiode error needs to be fixed. Using assumed monitor delay: 0.0351\n"
     ]
    },
    {
     "name": "stdout",
     "output_type": "stream",
     "text": [
      "resampling mesoscope 2P frame times\n"
     ]
    },
    {
     "name": "stderr",
     "output_type": "stream",
     "text": [
      "C:\\Users\\marinag\\AppData\\Roaming\\Python\\Python37\\site-packages\\pandas\\core\\indexing.py:494: SettingWithCopyWarning: \n",
      "A value is trying to be set on a copy of a slice from a DataFrame.\n",
      "Try using .loc[row_indexer,col_indexer] = value instead\n",
      "\n",
      "See the caveats in the documentation: http://pandas.pydata.org/pandas-docs/stable/user_guide/indexing.html#returning-a-view-versus-a-copy\n",
      "  self.obj[item] = s\n"
     ]
    }
   ],
   "source": [
    "sdf = analysis.get_response_df(df_name='stimulus_response_df')\n",
    "tdf = analysis.get_response_df(df_name='trials_response_df')"
   ]
  },
  {
   "cell_type": "code",
   "execution_count": 10,
   "metadata": {
    "scrolled": true
   },
   "outputs": [],
   "source": [
    "msdf = ut.get_mean_df(sdf, conditions=['cell_specimen_id', 'omitted', 'image_name'], flashes=True)\n",
    "mtdf = ut.get_mean_df(tdf, conditions=['cell_specimen_id', 'go', 'change_image_name'])\n",
    "\n",
    "# pooled images and image changes\n",
    "msdf_p = ut.get_mean_df(sdf, conditions=['cell_specimen_id', 'omitted'], flashes=True)\n",
    "mtdf_p = ut.get_mean_df(tdf, conditions=['cell_specimen_id', 'go'])"
   ]
  },
  {
   "cell_type": "code",
   "execution_count": 11,
   "metadata": {},
   "outputs": [
    {
     "name": "stderr",
     "output_type": "stream",
     "text": [
      "ERROR:visual_behavior.ophys.io.lims_database:cannot query specimen driver line: can't adapt type 'numpy.int64'\n",
      "ERROR:visual_behavior.ophys.io.lims_database:cannot query specimen reporter line: can't adapt type 'numpy.int64'\n",
      "ERROR:visual_behavior.ophys.sync.process_sync:Sync photodiode error needs to be fixed. Using assumed monitor delay: 0.0351\n"
     ]
    },
    {
     "name": "stdout",
     "output_type": "stream",
     "text": [
      "resampling mesoscope 2P frame times\n"
     ]
    }
   ],
   "source": [
    "session_type = dataset.metadata['session_type']"
   ]
  },
  {
   "cell_type": "code",
   "execution_count": 12,
   "metadata": {
    "scrolled": true
   },
   "outputs": [],
   "source": [
    "df_list = []\n",
    "for cell_specimen_id in msdf.cell_specimen_id.unique():\n",
    "    \n",
    "    cdf = msdf[msdf.cell_specimen_id==cell_specimen_id]\n",
    "    for omitted in cdf.omitted.unique():\n",
    "        if omitted: \n",
    "            condition = 'omitted_post'\n",
    "            mean_response = cdf[cdf.omitted==True].mean_response.values[0]\n",
    "            df_list.append([cell_specimen_id, condition, mean_response])\n",
    "            \n",
    "            condition = 'omitted_pre'\n",
    "            mean_response = cdf[cdf.omitted==True].mean_baseline.values[0]\n",
    "            df_list.append([cell_specimen_id, condition, mean_response])\n",
    "        else: \n",
    "            for i, image_name in enumerate(cdf.image_name.unique()): \n",
    "                if 'images_B' in session_type: \n",
    "                    i = i+8\n",
    "                condition = 'im'+str(i)+'_post'\n",
    "                mean_response = cdf[cdf.image_name==image_name].mean_response.values[0]\n",
    "                df_list.append([cell_specimen_id, condition, mean_response])\n",
    "                condition = 'im'+str(i)+'_pre'\n",
    "                mean_response = cdf[cdf.image_name==image_name].mean_baseline.values[0]\n",
    "                df_list.append([cell_specimen_id, condition, mean_response])\n",
    "                \n",
    "                \n",
    "    cdf = mtdf[mtdf.cell_specimen_id==cell_specimen_id]\n",
    "    cdf = cdf[cdf.go]\n",
    "    for i, change_image_name in enumerate(cdf.change_image_name.unique()): \n",
    "        if 'images_B' in session_type: \n",
    "            i = i+8\n",
    "        condition = 'change_im'+str(i)+'_post'\n",
    "        mean_response = cdf[cdf.change_image_name==change_image_name].mean_response.values[0]\n",
    "        df_list.append([cell_specimen_id, condition, mean_response])\n",
    "        \n",
    "        condition = 'change_im'+str(i)+'_pre'\n",
    "        mean_response = cdf[cdf.change_image_name==change_image_name].mean_baseline.values[0]\n",
    "        df_list.append([cell_specimen_id, condition, mean_response])\n",
    "        \n",
    "        \n",
    "    # pooled images        \n",
    "    cdf = msdf_p[msdf_p.cell_specimen_id==cell_specimen_id]\n",
    "    cdf = cdf[cdf.omitted]\n",
    "\n",
    "    condition = 'im_pooled_post'\n",
    "    mean_response = cdf.mean_response.values[0]\n",
    "    df_list.append([cell_specimen_id, condition, mean_response])\n",
    "\n",
    "    condition = 'im_pooled_pre'\n",
    "    mean_response = cdf.mean_baseline.values[0]\n",
    "    df_list.append([cell_specimen_id, condition, mean_response])\n",
    "    \n",
    "    # pooled image changes\n",
    "    cdf = mtdf_p[mtdf_p.cell_specimen_id==cell_specimen_id]\n",
    "    cdf = cdf[cdf.go]\n",
    "    \n",
    "    condition = 'change_im_pooled_post'\n",
    "    mean_response = cdf.mean_response.values[0]\n",
    "    df_list.append([cell_specimen_id, condition, mean_response])\n",
    "\n",
    "    condition = 'change_im_pooled_pre'\n",
    "    mean_response = cdf.mean_baseline.values[0]\n",
    "    df_list.append([cell_specimen_id, condition, mean_response])\n",
    "    \n",
    "    "
   ]
  },
  {
   "cell_type": "code",
   "execution_count": 13,
   "metadata": {},
   "outputs": [],
   "source": [
    "metrics_df = pd.DataFrame(data=df_list, columns=['cell_specimen_id','condition','mean_response'])"
   ]
  },
  {
   "cell_type": "code",
   "execution_count": 14,
   "metadata": {},
   "outputs": [],
   "source": [
    "metrics_df = metrics_df.set_index(['cell_specimen_id', 'condition'])"
   ]
  },
  {
   "cell_type": "code",
   "execution_count": 15,
   "metadata": {},
   "outputs": [
    {
     "data": {
      "text/html": [
       "<div>\n",
       "<style scoped>\n",
       "    .dataframe tbody tr th:only-of-type {\n",
       "        vertical-align: middle;\n",
       "    }\n",
       "\n",
       "    .dataframe tbody tr th {\n",
       "        vertical-align: top;\n",
       "    }\n",
       "\n",
       "    .dataframe thead th {\n",
       "        text-align: right;\n",
       "    }\n",
       "</style>\n",
       "<table border=\"1\" class=\"dataframe\">\n",
       "  <thead>\n",
       "    <tr style=\"text-align: right;\">\n",
       "      <th></th>\n",
       "      <th></th>\n",
       "      <th>mean_response</th>\n",
       "    </tr>\n",
       "    <tr>\n",
       "      <th>cell_specimen_id</th>\n",
       "      <th>condition</th>\n",
       "      <th></th>\n",
       "    </tr>\n",
       "  </thead>\n",
       "  <tbody>\n",
       "    <tr>\n",
       "      <td rowspan=\"5\" valign=\"top\">1028768480</td>\n",
       "      <td>im0_post</td>\n",
       "      <td>0.000419</td>\n",
       "    </tr>\n",
       "    <tr>\n",
       "      <td>im0_pre</td>\n",
       "      <td>-0.002450</td>\n",
       "    </tr>\n",
       "    <tr>\n",
       "      <td>im1_post</td>\n",
       "      <td>-0.000753</td>\n",
       "    </tr>\n",
       "    <tr>\n",
       "      <td>im1_pre</td>\n",
       "      <td>-0.000518</td>\n",
       "    </tr>\n",
       "    <tr>\n",
       "      <td>im2_post</td>\n",
       "      <td>0.001859</td>\n",
       "    </tr>\n",
       "    <tr>\n",
       "      <td>...</td>\n",
       "      <td>...</td>\n",
       "      <td>...</td>\n",
       "    </tr>\n",
       "    <tr>\n",
       "      <td rowspan=\"5\" valign=\"top\">1028772542</td>\n",
       "      <td>change_im7_pre</td>\n",
       "      <td>0.017372</td>\n",
       "    </tr>\n",
       "    <tr>\n",
       "      <td>im_pooled_post</td>\n",
       "      <td>-0.004091</td>\n",
       "    </tr>\n",
       "    <tr>\n",
       "      <td>im_pooled_pre</td>\n",
       "      <td>-0.006202</td>\n",
       "    </tr>\n",
       "    <tr>\n",
       "      <td>change_im_pooled_post</td>\n",
       "      <td>0.024975</td>\n",
       "    </tr>\n",
       "    <tr>\n",
       "      <td>change_im_pooled_pre</td>\n",
       "      <td>0.010802</td>\n",
       "    </tr>\n",
       "  </tbody>\n",
       "</table>\n",
       "<p>2120 rows × 1 columns</p>\n",
       "</div>"
      ],
      "text/plain": [
       "                                        mean_response\n",
       "cell_specimen_id condition                           \n",
       "1028768480       im0_post                    0.000419\n",
       "                 im0_pre                    -0.002450\n",
       "                 im1_post                   -0.000753\n",
       "                 im1_pre                    -0.000518\n",
       "                 im2_post                    0.001859\n",
       "...                                               ...\n",
       "1028772542       change_im7_pre              0.017372\n",
       "                 im_pooled_post             -0.004091\n",
       "                 im_pooled_pre              -0.006202\n",
       "                 change_im_pooled_post       0.024975\n",
       "                 change_im_pooled_pre        0.010802\n",
       "\n",
       "[2120 rows x 1 columns]"
      ]
     },
     "execution_count": 15,
     "metadata": {},
     "output_type": "execute_result"
    }
   ],
   "source": [
    "metrics_df"
   ]
  },
  {
   "cell_type": "code",
   "execution_count": 16,
   "metadata": {
    "scrolled": true
   },
   "outputs": [],
   "source": [
    "unstacked_metrics = metrics_df.unstack(level=-1)"
   ]
  },
  {
   "cell_type": "code",
   "execution_count": 17,
   "metadata": {
    "scrolled": true
   },
   "outputs": [
    {
     "data": {
      "text/html": [
       "<div>\n",
       "<style scoped>\n",
       "    .dataframe tbody tr th:only-of-type {\n",
       "        vertical-align: middle;\n",
       "    }\n",
       "\n",
       "    .dataframe tbody tr th {\n",
       "        vertical-align: top;\n",
       "    }\n",
       "\n",
       "    .dataframe thead tr th {\n",
       "        text-align: left;\n",
       "    }\n",
       "\n",
       "    .dataframe thead tr:last-of-type th {\n",
       "        text-align: right;\n",
       "    }\n",
       "</style>\n",
       "<table border=\"1\" class=\"dataframe\">\n",
       "  <thead>\n",
       "    <tr>\n",
       "      <th></th>\n",
       "      <th colspan=\"21\" halign=\"left\">mean_response</th>\n",
       "    </tr>\n",
       "    <tr>\n",
       "      <th>condition</th>\n",
       "      <th>change_im0_post</th>\n",
       "      <th>change_im0_pre</th>\n",
       "      <th>change_im1_post</th>\n",
       "      <th>change_im1_pre</th>\n",
       "      <th>change_im2_post</th>\n",
       "      <th>change_im2_pre</th>\n",
       "      <th>change_im3_post</th>\n",
       "      <th>change_im3_pre</th>\n",
       "      <th>change_im4_post</th>\n",
       "      <th>change_im4_pre</th>\n",
       "      <th>...</th>\n",
       "      <th>im6_post</th>\n",
       "      <th>im6_pre</th>\n",
       "      <th>im7_post</th>\n",
       "      <th>im7_pre</th>\n",
       "      <th>im8_post</th>\n",
       "      <th>im8_pre</th>\n",
       "      <th>im_pooled_post</th>\n",
       "      <th>im_pooled_pre</th>\n",
       "      <th>omitted_post</th>\n",
       "      <th>omitted_pre</th>\n",
       "    </tr>\n",
       "    <tr>\n",
       "      <th>cell_specimen_id</th>\n",
       "      <th></th>\n",
       "      <th></th>\n",
       "      <th></th>\n",
       "      <th></th>\n",
       "      <th></th>\n",
       "      <th></th>\n",
       "      <th></th>\n",
       "      <th></th>\n",
       "      <th></th>\n",
       "      <th></th>\n",
       "      <th></th>\n",
       "      <th></th>\n",
       "      <th></th>\n",
       "      <th></th>\n",
       "      <th></th>\n",
       "      <th></th>\n",
       "      <th></th>\n",
       "      <th></th>\n",
       "      <th></th>\n",
       "      <th></th>\n",
       "      <th></th>\n",
       "    </tr>\n",
       "  </thead>\n",
       "  <tbody>\n",
       "    <tr>\n",
       "      <td>1028768480</td>\n",
       "      <td>-0.002508</td>\n",
       "      <td>0.010885</td>\n",
       "      <td>0.000733</td>\n",
       "      <td>0.015663</td>\n",
       "      <td>-0.003659</td>\n",
       "      <td>-0.002380</td>\n",
       "      <td>0.010927</td>\n",
       "      <td>0.028608</td>\n",
       "      <td>0.092709</td>\n",
       "      <td>-0.055401</td>\n",
       "      <td>...</td>\n",
       "      <td>0.001369</td>\n",
       "      <td>-0.000937</td>\n",
       "      <td>0.004199</td>\n",
       "      <td>-0.000932</td>\n",
       "      <td>-0.007145</td>\n",
       "      <td>-0.003984</td>\n",
       "      <td>-0.007145</td>\n",
       "      <td>-0.003984</td>\n",
       "      <td>-0.007145</td>\n",
       "      <td>-0.003984</td>\n",
       "    </tr>\n",
       "    <tr>\n",
       "      <td>1028768607</td>\n",
       "      <td>0.009732</td>\n",
       "      <td>0.017473</td>\n",
       "      <td>0.004840</td>\n",
       "      <td>0.017956</td>\n",
       "      <td>0.012603</td>\n",
       "      <td>0.009841</td>\n",
       "      <td>0.019604</td>\n",
       "      <td>0.022247</td>\n",
       "      <td>0.037741</td>\n",
       "      <td>0.033929</td>\n",
       "      <td>...</td>\n",
       "      <td>0.038102</td>\n",
       "      <td>0.023532</td>\n",
       "      <td>0.000967</td>\n",
       "      <td>0.001851</td>\n",
       "      <td>0.017712</td>\n",
       "      <td>0.007160</td>\n",
       "      <td>0.017712</td>\n",
       "      <td>0.007160</td>\n",
       "      <td>0.017712</td>\n",
       "      <td>0.007160</td>\n",
       "    </tr>\n",
       "    <tr>\n",
       "      <td>1028768626</td>\n",
       "      <td>0.035414</td>\n",
       "      <td>0.013918</td>\n",
       "      <td>0.026619</td>\n",
       "      <td>0.019831</td>\n",
       "      <td>0.011897</td>\n",
       "      <td>-0.002531</td>\n",
       "      <td>0.019622</td>\n",
       "      <td>0.005438</td>\n",
       "      <td>0.023111</td>\n",
       "      <td>0.050005</td>\n",
       "      <td>...</td>\n",
       "      <td>0.003714</td>\n",
       "      <td>0.003345</td>\n",
       "      <td>0.001545</td>\n",
       "      <td>0.002229</td>\n",
       "      <td>0.004650</td>\n",
       "      <td>0.005421</td>\n",
       "      <td>0.004650</td>\n",
       "      <td>0.005421</td>\n",
       "      <td>0.004650</td>\n",
       "      <td>0.005421</td>\n",
       "    </tr>\n",
       "    <tr>\n",
       "      <td>1028768716</td>\n",
       "      <td>0.032951</td>\n",
       "      <td>0.000379</td>\n",
       "      <td>0.004358</td>\n",
       "      <td>-0.002934</td>\n",
       "      <td>0.013827</td>\n",
       "      <td>-0.004445</td>\n",
       "      <td>0.013971</td>\n",
       "      <td>0.014848</td>\n",
       "      <td>0.016971</td>\n",
       "      <td>-0.006414</td>\n",
       "      <td>...</td>\n",
       "      <td>0.003977</td>\n",
       "      <td>0.001564</td>\n",
       "      <td>0.005108</td>\n",
       "      <td>0.000522</td>\n",
       "      <td>0.004696</td>\n",
       "      <td>-0.003533</td>\n",
       "      <td>0.004696</td>\n",
       "      <td>-0.003533</td>\n",
       "      <td>0.004696</td>\n",
       "      <td>-0.003533</td>\n",
       "    </tr>\n",
       "    <tr>\n",
       "      <td>1028768871</td>\n",
       "      <td>0.012340</td>\n",
       "      <td>0.007120</td>\n",
       "      <td>0.015825</td>\n",
       "      <td>0.003335</td>\n",
       "      <td>0.021601</td>\n",
       "      <td>-0.008425</td>\n",
       "      <td>0.017551</td>\n",
       "      <td>0.003660</td>\n",
       "      <td>0.015535</td>\n",
       "      <td>0.006574</td>\n",
       "      <td>...</td>\n",
       "      <td>0.002560</td>\n",
       "      <td>-0.001140</td>\n",
       "      <td>0.003315</td>\n",
       "      <td>0.000880</td>\n",
       "      <td>-0.000052</td>\n",
       "      <td>-0.003911</td>\n",
       "      <td>-0.000052</td>\n",
       "      <td>-0.003911</td>\n",
       "      <td>-0.000052</td>\n",
       "      <td>-0.003911</td>\n",
       "    </tr>\n",
       "  </tbody>\n",
       "</table>\n",
       "<p>5 rows × 40 columns</p>\n",
       "</div>"
      ],
      "text/plain": [
       "                   mean_response                                 \\\n",
       "condition        change_im0_post change_im0_pre change_im1_post   \n",
       "cell_specimen_id                                                  \n",
       "1028768480             -0.002508       0.010885        0.000733   \n",
       "1028768607              0.009732       0.017473        0.004840   \n",
       "1028768626              0.035414       0.013918        0.026619   \n",
       "1028768716              0.032951       0.000379        0.004358   \n",
       "1028768871              0.012340       0.007120        0.015825   \n",
       "\n",
       "                                                                \\\n",
       "condition        change_im1_pre change_im2_post change_im2_pre   \n",
       "cell_specimen_id                                                 \n",
       "1028768480             0.015663       -0.003659      -0.002380   \n",
       "1028768607             0.017956        0.012603       0.009841   \n",
       "1028768626             0.019831        0.011897      -0.002531   \n",
       "1028768716            -0.002934        0.013827      -0.004445   \n",
       "1028768871             0.003335        0.021601      -0.008425   \n",
       "\n",
       "                                                                 \\\n",
       "condition        change_im3_post change_im3_pre change_im4_post   \n",
       "cell_specimen_id                                                  \n",
       "1028768480              0.010927       0.028608        0.092709   \n",
       "1028768607              0.019604       0.022247        0.037741   \n",
       "1028768626              0.019622       0.005438        0.023111   \n",
       "1028768716              0.013971       0.014848        0.016971   \n",
       "1028768871              0.017551       0.003660        0.015535   \n",
       "\n",
       "                                 ...                                          \\\n",
       "condition        change_im4_pre  ...  im6_post   im6_pre  im7_post   im7_pre   \n",
       "cell_specimen_id                 ...                                           \n",
       "1028768480            -0.055401  ...  0.001369 -0.000937  0.004199 -0.000932   \n",
       "1028768607             0.033929  ...  0.038102  0.023532  0.000967  0.001851   \n",
       "1028768626             0.050005  ...  0.003714  0.003345  0.001545  0.002229   \n",
       "1028768716            -0.006414  ...  0.003977  0.001564  0.005108  0.000522   \n",
       "1028768871             0.006574  ...  0.002560 -0.001140  0.003315  0.000880   \n",
       "\n",
       "                                                                   \\\n",
       "condition         im8_post   im8_pre im_pooled_post im_pooled_pre   \n",
       "cell_specimen_id                                                    \n",
       "1028768480       -0.007145 -0.003984      -0.007145     -0.003984   \n",
       "1028768607        0.017712  0.007160       0.017712      0.007160   \n",
       "1028768626        0.004650  0.005421       0.004650      0.005421   \n",
       "1028768716        0.004696 -0.003533       0.004696     -0.003533   \n",
       "1028768871       -0.000052 -0.003911      -0.000052     -0.003911   \n",
       "\n",
       "                                           \n",
       "condition        omitted_post omitted_pre  \n",
       "cell_specimen_id                           \n",
       "1028768480          -0.007145   -0.003984  \n",
       "1028768607           0.017712    0.007160  \n",
       "1028768626           0.004650    0.005421  \n",
       "1028768716           0.004696   -0.003533  \n",
       "1028768871          -0.000052   -0.003911  \n",
       "\n",
       "[5 rows x 40 columns]"
      ]
     },
     "execution_count": 17,
     "metadata": {},
     "output_type": "execute_result"
    }
   ],
   "source": [
    "unstacked_metrics.head()"
   ]
  },
  {
   "cell_type": "code",
   "execution_count": 18,
   "metadata": {},
   "outputs": [
    {
     "data": {
      "text/plain": [
       "(53, 40)"
      ]
     },
     "execution_count": 18,
     "metadata": {},
     "output_type": "execute_result"
    }
   ],
   "source": [
    "metrics_array = unstacked_metrics.values\n",
    "metrics_array.shape"
   ]
  },
  {
   "cell_type": "markdown",
   "metadata": {},
   "source": [
    "### for a bunch of experiments"
   ]
  },
  {
   "cell_type": "code",
   "execution_count": 19,
   "metadata": {},
   "outputs": [],
   "source": [
    "def get_metrics_df(mean_stim_df, mean_trials_df, mean_stim_pooled_df, mean_trials_pooled_df, session_type, experiment_id, session_id): \n",
    "    msdf = mean_stim_df.copy()\n",
    "    mtdf = mean_trials_df.copy()\n",
    "    msdf_p = mean_stim_pooled_df.copy()\n",
    "    mtdf_p = mean_trials_pooled_df.copy()\n",
    "    \n",
    "    df_list = []\n",
    "    for cell_specimen_id in msdf.cell_specimen_id.unique():\n",
    "        cdf = msdf[msdf.cell_specimen_id==cell_specimen_id]\n",
    "        for omitted in cdf.omitted.unique():\n",
    "            if omitted: \n",
    "                condition = 'omitted_post'\n",
    "                mean_response = cdf[cdf.omitted==True].mean_response.values[0]\n",
    "                df_list.append([cell_specimen_id, condition, mean_response])\n",
    "                \n",
    "                condition = 'omitted_pre'\n",
    "                mean_response = cdf[cdf.omitted==True].mean_baseline.values[0]\n",
    "                df_list.append([cell_specimen_id, condition, mean_response])\n",
    "            else: \n",
    "                for i, image_name in enumerate(cdf.image_name.unique()): \n",
    "                    if 'images_B' in session_type: \n",
    "                        i = i+8\n",
    "                    condition = 'im'+str(i)+'_post'\n",
    "                    mean_response = cdf[cdf.image_name==image_name].mean_response.values[0]\n",
    "                    df_list.append([cell_specimen_id, condition, mean_response])\n",
    "                    \n",
    "                    condition = 'im'+str(i)+'_pre'\n",
    "                    mean_response = cdf[cdf.image_name==image_name].mean_baseline.values[0]\n",
    "                    df_list.append([cell_specimen_id, condition, mean_response])\n",
    "                    \n",
    "                    \n",
    "        cdf = mtdf[mtdf.cell_specimen_id==cell_specimen_id]\n",
    "        cdf = cdf[cdf.go]\n",
    "        for i, change_image_name in enumerate(cdf.change_image_name.unique()): \n",
    "            if 'images_B' in session_type: \n",
    "                i = i+8\n",
    "            condition = 'change_im'+str(i)+'_post'\n",
    "            mean_response = cdf[cdf.change_image_name==change_image_name].mean_response.values[0]\n",
    "            df_list.append([cell_specimen_id, condition, mean_response])\n",
    "            \n",
    "            condition = 'change_im'+str(i)+'_pre'\n",
    "            mean_response = cdf[cdf.change_image_name==change_image_name].mean_baseline.values[0]\n",
    "            df_list.append([cell_specimen_id, condition, mean_response])\n",
    "            \n",
    "            \n",
    "        # pooled images        \n",
    "        cdf = msdf_p[msdf_p.cell_specimen_id==cell_specimen_id]\n",
    "        cdf = cdf[cdf.omitted]\n",
    "\n",
    "        condition = 'im_pooled_post'\n",
    "        mean_response = cdf.mean_response.values[0]\n",
    "        df_list.append([cell_specimen_id, condition, mean_response])\n",
    "\n",
    "        condition = 'im_pooled_pre'\n",
    "        mean_response = cdf.mean_baseline.values[0]\n",
    "        df_list.append([cell_specimen_id, condition, mean_response])\n",
    "\n",
    "\n",
    "        # pooled image changes\n",
    "        cdf = mtdf_p[mtdf_p.cell_specimen_id==cell_specimen_id]\n",
    "        cdf = cdf[cdf.go]\n",
    "\n",
    "        condition = 'change_im_pooled_post'\n",
    "        mean_response = cdf.mean_response.values[0]\n",
    "        df_list.append([cell_specimen_id, condition, mean_response])\n",
    "\n",
    "        condition = 'change_im_pooled_pre'\n",
    "        mean_response = cdf.mean_baseline.values[0]\n",
    "        df_list.append([cell_specimen_id, condition, mean_response])\n",
    "\n",
    "\n",
    "    metrics_df = pd.DataFrame(data=df_list, columns=['cell_specimen_id','condition','mean_response'])\n",
    "    metrics_df['experiment_id'] = experiment_id\n",
    "    metrics_df['session_id'] = session_id\n",
    "    \n",
    "    return metrics_df"
   ]
  },
  {
   "cell_type": "code",
   "execution_count": null,
   "metadata": {
    "scrolled": true
   },
   "outputs": [
    {
     "name": "stdout",
     "output_type": "stream",
     "text": [
      "Experiment 1 / 750\n"
     ]
    },
    {
     "name": "stderr",
     "output_type": "stream",
     "text": [
      "C:\\Users\\marinag\\Documents\\Code\\AllenSDK\\allensdk\\brain_observatory\\sync_dataset.py:109: UserWarning: The loaded sync file contains the following deprecated line label keys: {'cam2_exposure', 'cam1_exposure'}. Consider updating the sync file line labels.\n",
      "  self._check_line_labels()\n",
      "C:\\Users\\marinag\\Documents\\Code\\AllenSDK\\allensdk\\brain_observatory\\sync_dataset.py:109: UserWarning: The loaded sync file contains the following deprecated line label keys: {'cam2_exposure', 'cam1_exposure'}. Consider updating the sync file line labels.\n",
      "  self._check_line_labels()\n",
      "WARNING:root:Could not find valid lines for the following data sources\n",
      "WARNING:root:acquiring (valid line label(s) = ['2p_acquiring']\n"
     ]
    },
    {
     "name": "stdout",
     "output_type": "stream",
     "text": [
      "problem for 945586450\n",
      "Experiment 2 / 750\n"
     ]
    },
    {
     "name": "stderr",
     "output_type": "stream",
     "text": [
      "C:\\Users\\marinag\\Documents\\Code\\AllenSDK\\allensdk\\brain_observatory\\sync_dataset.py:109: UserWarning: The loaded sync file contains the following deprecated line label keys: {'cam2_exposure', 'cam1_exposure'}. Consider updating the sync file line labels.\n",
      "  self._check_line_labels()\n",
      "C:\\Users\\marinag\\Documents\\Code\\AllenSDK\\allensdk\\brain_observatory\\sync_dataset.py:109: UserWarning: The loaded sync file contains the following deprecated line label keys: {'cam2_exposure', 'cam1_exposure'}. Consider updating the sync file line labels.\n",
      "  self._check_line_labels()\n",
      "WARNING:root:Could not find valid lines for the following data sources\n",
      "WARNING:root:acquiring (valid line label(s) = ['2p_acquiring']\n"
     ]
    },
    {
     "name": "stdout",
     "output_type": "stream",
     "text": [
      "problem for 945586458\n",
      "Experiment 3 / 750\n"
     ]
    },
    {
     "name": "stderr",
     "output_type": "stream",
     "text": [
      "C:\\Users\\marinag\\Documents\\Code\\AllenSDK\\allensdk\\brain_observatory\\sync_dataset.py:109: UserWarning: The loaded sync file contains the following deprecated line label keys: {'cam2_exposure', 'cam1_exposure'}. Consider updating the sync file line labels.\n",
      "  self._check_line_labels()\n",
      "C:\\Users\\marinag\\Documents\\Code\\AllenSDK\\allensdk\\brain_observatory\\sync_dataset.py:109: UserWarning: The loaded sync file contains the following deprecated line label keys: {'cam2_exposure', 'cam1_exposure'}. Consider updating the sync file line labels.\n",
      "  self._check_line_labels()\n",
      "WARNING:root:Could not find valid lines for the following data sources\n",
      "WARNING:root:acquiring (valid line label(s) = ['2p_acquiring']\n"
     ]
    },
    {
     "name": "stdout",
     "output_type": "stream",
     "text": [
      "problem for 945586456\n",
      "Experiment 4 / 750\n"
     ]
    },
    {
     "name": "stderr",
     "output_type": "stream",
     "text": [
      "C:\\Users\\marinag\\Documents\\Code\\AllenSDK\\allensdk\\brain_observatory\\sync_dataset.py:109: UserWarning: The loaded sync file contains the following deprecated line label keys: {'cam2_exposure', 'cam1_exposure'}. Consider updating the sync file line labels.\n",
      "  self._check_line_labels()\n",
      "C:\\Users\\marinag\\Documents\\Code\\AllenSDK\\allensdk\\brain_observatory\\sync_dataset.py:109: UserWarning: The loaded sync file contains the following deprecated line label keys: {'cam2_exposure', 'cam1_exposure'}. Consider updating the sync file line labels.\n",
      "  self._check_line_labels()\n",
      "WARNING:root:Could not find valid lines for the following data sources\n",
      "WARNING:root:acquiring (valid line label(s) = ['2p_acquiring']\n"
     ]
    },
    {
     "name": "stdout",
     "output_type": "stream",
     "text": [
      "problem for 945586454\n",
      "Experiment 5 / 750\n"
     ]
    },
    {
     "name": "stderr",
     "output_type": "stream",
     "text": [
      "C:\\Users\\marinag\\Documents\\Code\\AllenSDK\\allensdk\\brain_observatory\\sync_dataset.py:109: UserWarning: The loaded sync file contains the following deprecated line label keys: {'cam2_exposure', 'cam1_exposure'}. Consider updating the sync file line labels.\n",
      "  self._check_line_labels()\n",
      "C:\\Users\\marinag\\Documents\\Code\\AllenSDK\\allensdk\\brain_observatory\\sync_dataset.py:109: UserWarning: The loaded sync file contains the following deprecated line label keys: {'cam2_exposure', 'cam1_exposure'}. Consider updating the sync file line labels.\n",
      "  self._check_line_labels()\n",
      "WARNING:root:Could not find valid lines for the following data sources\n",
      "WARNING:root:acquiring (valid line label(s) = ['2p_acquiring']\n"
     ]
    },
    {
     "name": "stdout",
     "output_type": "stream",
     "text": [
      "problem for 945586452\n",
      "Experiment 6 / 750\n"
     ]
    },
    {
     "name": "stderr",
     "output_type": "stream",
     "text": [
      "C:\\Users\\marinag\\Documents\\Code\\AllenSDK\\allensdk\\brain_observatory\\sync_dataset.py:109: UserWarning: The loaded sync file contains the following deprecated line label keys: {'cam2_exposure', 'cam1_exposure'}. Consider updating the sync file line labels.\n",
      "  self._check_line_labels()\n",
      "C:\\Users\\marinag\\Documents\\Code\\AllenSDK\\allensdk\\brain_observatory\\sync_dataset.py:109: UserWarning: The loaded sync file contains the following deprecated line label keys: {'cam2_exposure', 'cam1_exposure'}. Consider updating the sync file line labels.\n",
      "  self._check_line_labels()\n",
      "WARNING:root:Could not find valid lines for the following data sources\n",
      "WARNING:root:acquiring (valid line label(s) = ['2p_acquiring']\n"
     ]
    },
    {
     "name": "stdout",
     "output_type": "stream",
     "text": [
      "problem for 945586448\n",
      "Experiment 7 / 750\n"
     ]
    },
    {
     "name": "stderr",
     "output_type": "stream",
     "text": [
      "C:\\Users\\marinag\\Documents\\Code\\AllenSDK\\allensdk\\brain_observatory\\sync_dataset.py:109: UserWarning: The loaded sync file contains the following deprecated line label keys: {'cam2_exposure', 'cam1_exposure'}. Consider updating the sync file line labels.\n",
      "  self._check_line_labels()\n",
      "C:\\Users\\marinag\\Documents\\Code\\AllenSDK\\allensdk\\brain_observatory\\sync_dataset.py:109: UserWarning: The loaded sync file contains the following deprecated line label keys: {'cam2_exposure', 'cam1_exposure'}. Consider updating the sync file line labels.\n",
      "  self._check_line_labels()\n",
      "WARNING:root:Could not find valid lines for the following data sources\n",
      "WARNING:root:acquiring (valid line label(s) = ['2p_acquiring']\n"
     ]
    },
    {
     "name": "stdout",
     "output_type": "stream",
     "text": [
      "problem for 945586446\n",
      "Experiment 8 / 750\n"
     ]
    },
    {
     "name": "stderr",
     "output_type": "stream",
     "text": [
      "C:\\Users\\marinag\\Documents\\Code\\AllenSDK\\allensdk\\brain_observatory\\sync_dataset.py:109: UserWarning: The loaded sync file contains the following deprecated line label keys: {'cam2_exposure', 'cam1_exposure'}. Consider updating the sync file line labels.\n",
      "  self._check_line_labels()\n",
      "C:\\Users\\marinag\\Documents\\Code\\AllenSDK\\allensdk\\brain_observatory\\sync_dataset.py:109: UserWarning: The loaded sync file contains the following deprecated line label keys: {'cam2_exposure', 'cam1_exposure'}. Consider updating the sync file line labels.\n",
      "  self._check_line_labels()\n",
      "WARNING:root:Could not find valid lines for the following data sources\n",
      "WARNING:root:acquiring (valid line label(s) = ['2p_acquiring']\n"
     ]
    },
    {
     "name": "stdout",
     "output_type": "stream",
     "text": [
      "problem for 945586444\n",
      "Experiment 9 / 750\n"
     ]
    },
    {
     "name": "stderr",
     "output_type": "stream",
     "text": [
      "C:\\Users\\marinag\\Documents\\Code\\AllenSDK\\allensdk\\brain_observatory\\sync_dataset.py:109: UserWarning: The loaded sync file contains the following deprecated line label keys: {'cam2_exposure', 'cam1_exposure'}. Consider updating the sync file line labels.\n",
      "  self._check_line_labels()\n",
      "C:\\Users\\marinag\\Documents\\Code\\AllenSDK\\allensdk\\brain_observatory\\sync_dataset.py:109: UserWarning: The loaded sync file contains the following deprecated line label keys: {'cam2_exposure', 'cam1_exposure'}. Consider updating the sync file line labels.\n",
      "  self._check_line_labels()\n",
      "WARNING:root:Could not find valid lines for the following data sources\n",
      "WARNING:root:acquiring (valid line label(s) = ['2p_acquiring']\n",
      "ERROR:visual_behavior.ophys.io.lims_database:cannot query specimen driver line: can't adapt type 'numpy.int64'\n",
      "ERROR:visual_behavior.ophys.io.lims_database:cannot query specimen reporter line: can't adapt type 'numpy.int64'\n",
      "ERROR:visual_behavior.ophys.sync.process_sync:Sync photodiode error needs to be fixed. Using assumed monitor delay: 0.0351\n"
     ]
    },
    {
     "name": "stdout",
     "output_type": "stream",
     "text": [
      "resampling mesoscope 2P frame times\n"
     ]
    },
    {
     "name": "stderr",
     "output_type": "stream",
     "text": [
      "ERROR:visual_behavior.ophys.io.lims_database:cannot query specimen driver line: can't adapt type 'numpy.int64'\n",
      "ERROR:visual_behavior.ophys.io.lims_database:cannot query specimen reporter line: can't adapt type 'numpy.int64'\n",
      "ERROR:visual_behavior.ophys.sync.process_sync:Sync photodiode error needs to be fixed. Using assumed monitor delay: 0.0351\n",
      "ERROR:visual_behavior.ophys.io.lims_database:cannot query specimen driver line: can't adapt type 'numpy.int64'\n",
      "ERROR:visual_behavior.ophys.io.lims_database:cannot query specimen reporter line: can't adapt type 'numpy.int64'\n"
     ]
    },
    {
     "name": "stdout",
     "output_type": "stream",
     "text": [
      "resampling mesoscope 2P frame times\n"
     ]
    },
    {
     "name": "stderr",
     "output_type": "stream",
     "text": [
      "ERROR:visual_behavior.ophys.sync.process_sync:Sync photodiode error needs to be fixed. Using assumed monitor delay: 0.0351\n"
     ]
    },
    {
     "name": "stdout",
     "output_type": "stream",
     "text": [
      "resampling mesoscope 2P frame times\n"
     ]
    },
    {
     "name": "stderr",
     "output_type": "stream",
     "text": [
      "ERROR:visual_behavior.ophys.io.lims_database:cannot query specimen driver line: can't adapt type 'numpy.int64'\n",
      "ERROR:visual_behavior.ophys.io.lims_database:cannot query specimen reporter line: can't adapt type 'numpy.int64'\n",
      "ERROR:visual_behavior.ophys.sync.process_sync:Sync photodiode error needs to be fixed. Using assumed monitor delay: 0.0351\n"
     ]
    },
    {
     "name": "stdout",
     "output_type": "stream",
     "text": [
      "resampling mesoscope 2P frame times\n"
     ]
    },
    {
     "name": "stderr",
     "output_type": "stream",
     "text": [
      "C:\\Users\\marinag\\AppData\\Roaming\\Python\\Python37\\site-packages\\pandas\\core\\indexing.py:494: SettingWithCopyWarning: \n",
      "A value is trying to be set on a copy of a slice from a DataFrame.\n",
      "Try using .loc[row_indexer,col_indexer] = value instead\n",
      "\n",
      "See the caveats in the documentation: http://pandas.pydata.org/pandas-docs/stable/user_guide/indexing.html#returning-a-view-versus-a-copy\n",
      "  self.obj[item] = s\n",
      "ERROR:visual_behavior.ophys.io.lims_database:cannot query specimen driver line: can't adapt type 'numpy.int64'\n",
      "ERROR:visual_behavior.ophys.io.lims_database:cannot query specimen reporter line: can't adapt type 'numpy.int64'\n",
      "ERROR:visual_behavior.ophys.sync.process_sync:Sync photodiode error needs to be fixed. Using assumed monitor delay: 0.0351\n"
     ]
    },
    {
     "name": "stdout",
     "output_type": "stream",
     "text": [
      "resampling mesoscope 2P frame times\n"
     ]
    },
    {
     "name": "stderr",
     "output_type": "stream",
     "text": [
      "C:\\Users\\marinag\\AppData\\Roaming\\Python\\Python37\\site-packages\\pandas\\core\\indexing.py:494: SettingWithCopyWarning: \n",
      "A value is trying to be set on a copy of a slice from a DataFrame.\n",
      "Try using .loc[row_indexer,col_indexer] = value instead\n",
      "\n",
      "See the caveats in the documentation: http://pandas.pydata.org/pandas-docs/stable/user_guide/indexing.html#returning-a-view-versus-a-copy\n",
      "  self.obj[item] = s\n"
     ]
    },
    {
     "name": "stdout",
     "output_type": "stream",
     "text": [
      "must provide analysis object to get_mean_df to compute reliability\n",
      "must provide analysis object to get_mean_df to compute reliability\n"
     ]
    },
    {
     "name": "stderr",
     "output_type": "stream",
     "text": [
      "ERROR:visual_behavior.ophys.io.lims_database:cannot query specimen driver line: can't adapt type 'numpy.int64'\n",
      "ERROR:visual_behavior.ophys.io.lims_database:cannot query specimen reporter line: can't adapt type 'numpy.int64'\n"
     ]
    },
    {
     "name": "stdout",
     "output_type": "stream",
     "text": [
      "must provide analysis object to get_mean_df to compute reliability\n",
      "must provide analysis object to get_mean_df to compute reliability\n"
     ]
    },
    {
     "name": "stderr",
     "output_type": "stream",
     "text": [
      "ERROR:visual_behavior.ophys.sync.process_sync:Sync photodiode error needs to be fixed. Using assumed monitor delay: 0.0351\n"
     ]
    },
    {
     "name": "stdout",
     "output_type": "stream",
     "text": [
      "resampling mesoscope 2P frame times\n",
      "Experiment 10 / 750\n"
     ]
    },
    {
     "name": "stderr",
     "output_type": "stream",
     "text": [
      "C:\\Users\\marinag\\Documents\\Code\\AllenSDK\\allensdk\\brain_observatory\\sync_dataset.py:109: UserWarning: The loaded sync file contains the following deprecated line label keys: {'cam2_exposure', 'cam1_exposure'}. Consider updating the sync file line labels.\n",
      "  self._check_line_labels()\n",
      "C:\\Users\\marinag\\Documents\\Code\\AllenSDK\\allensdk\\brain_observatory\\sync_dataset.py:109: UserWarning: The loaded sync file contains the following deprecated line label keys: {'cam2_exposure', 'cam1_exposure'}. Consider updating the sync file line labels.\n",
      "  self._check_line_labels()\n",
      "WARNING:root:Could not find valid lines for the following data sources\n",
      "WARNING:root:acquiring (valid line label(s) = ['2p_acquiring']\n",
      "ERROR:visual_behavior.ophys.io.lims_database:cannot query specimen driver line: can't adapt type 'numpy.int64'\n",
      "ERROR:visual_behavior.ophys.io.lims_database:cannot query specimen reporter line: can't adapt type 'numpy.int64'\n",
      "ERROR:visual_behavior.ophys.sync.process_sync:Sync photodiode error needs to be fixed. Using assumed monitor delay: 0.0351\n"
     ]
    },
    {
     "name": "stdout",
     "output_type": "stream",
     "text": [
      "resampling mesoscope 2P frame times\n"
     ]
    },
    {
     "name": "stderr",
     "output_type": "stream",
     "text": [
      "ERROR:visual_behavior.ophys.io.lims_database:cannot query specimen driver line: can't adapt type 'numpy.int64'\n",
      "ERROR:visual_behavior.ophys.io.lims_database:cannot query specimen reporter line: can't adapt type 'numpy.int64'\n",
      "ERROR:visual_behavior.ophys.sync.process_sync:Sync photodiode error needs to be fixed. Using assumed monitor delay: 0.0351\n",
      "ERROR:visual_behavior.ophys.io.lims_database:cannot query specimen driver line: can't adapt type 'numpy.int64'\n",
      "ERROR:visual_behavior.ophys.io.lims_database:cannot query specimen reporter line: can't adapt type 'numpy.int64'\n"
     ]
    },
    {
     "name": "stdout",
     "output_type": "stream",
     "text": [
      "resampling mesoscope 2P frame times\n"
     ]
    },
    {
     "name": "stderr",
     "output_type": "stream",
     "text": [
      "ERROR:visual_behavior.ophys.sync.process_sync:Sync photodiode error needs to be fixed. Using assumed monitor delay: 0.0351\n"
     ]
    },
    {
     "name": "stdout",
     "output_type": "stream",
     "text": [
      "resampling mesoscope 2P frame times\n"
     ]
    },
    {
     "name": "stderr",
     "output_type": "stream",
     "text": [
      "ERROR:visual_behavior.ophys.io.lims_database:cannot query specimen driver line: can't adapt type 'numpy.int64'\n",
      "ERROR:visual_behavior.ophys.io.lims_database:cannot query specimen reporter line: can't adapt type 'numpy.int64'\n",
      "ERROR:visual_behavior.ophys.sync.process_sync:Sync photodiode error needs to be fixed. Using assumed monitor delay: 0.0351\n"
     ]
    },
    {
     "name": "stdout",
     "output_type": "stream",
     "text": [
      "resampling mesoscope 2P frame times\n"
     ]
    },
    {
     "name": "stderr",
     "output_type": "stream",
     "text": [
      "C:\\Users\\marinag\\AppData\\Roaming\\Python\\Python37\\site-packages\\pandas\\core\\indexing.py:494: SettingWithCopyWarning: \n",
      "A value is trying to be set on a copy of a slice from a DataFrame.\n",
      "Try using .loc[row_indexer,col_indexer] = value instead\n",
      "\n",
      "See the caveats in the documentation: http://pandas.pydata.org/pandas-docs/stable/user_guide/indexing.html#returning-a-view-versus-a-copy\n",
      "  self.obj[item] = s\n",
      "ERROR:visual_behavior.ophys.io.lims_database:cannot query specimen driver line: can't adapt type 'numpy.int64'\n",
      "ERROR:visual_behavior.ophys.io.lims_database:cannot query specimen reporter line: can't adapt type 'numpy.int64'\n",
      "ERROR:visual_behavior.ophys.sync.process_sync:Sync photodiode error needs to be fixed. Using assumed monitor delay: 0.0351\n"
     ]
    },
    {
     "name": "stdout",
     "output_type": "stream",
     "text": [
      "resampling mesoscope 2P frame times\n"
     ]
    },
    {
     "name": "stderr",
     "output_type": "stream",
     "text": [
      "C:\\Users\\marinag\\AppData\\Roaming\\Python\\Python37\\site-packages\\pandas\\core\\indexing.py:494: SettingWithCopyWarning: \n",
      "A value is trying to be set on a copy of a slice from a DataFrame.\n",
      "Try using .loc[row_indexer,col_indexer] = value instead\n",
      "\n",
      "See the caveats in the documentation: http://pandas.pydata.org/pandas-docs/stable/user_guide/indexing.html#returning-a-view-versus-a-copy\n",
      "  self.obj[item] = s\n"
     ]
    },
    {
     "name": "stdout",
     "output_type": "stream",
     "text": [
      "must provide analysis object to get_mean_df to compute reliability\n",
      "must provide analysis object to get_mean_df to compute reliability\n",
      "must provide analysis object to get_mean_df to compute reliability"
     ]
    },
    {
     "name": "stderr",
     "output_type": "stream",
     "text": [
      "ERROR:visual_behavior.ophys.io.lims_database:cannot query specimen driver line: can't adapt type 'numpy.int64'\n",
      "ERROR:visual_behavior.ophys.io.lims_database:cannot query specimen reporter line: can't adapt type 'numpy.int64'\n"
     ]
    },
    {
     "name": "stdout",
     "output_type": "stream",
     "text": [
      "\n",
      "must provide analysis object to get_mean_df to compute reliability\n"
     ]
    },
    {
     "name": "stderr",
     "output_type": "stream",
     "text": [
      "ERROR:visual_behavior.ophys.sync.process_sync:Sync photodiode error needs to be fixed. Using assumed monitor delay: 0.0351\n"
     ]
    },
    {
     "name": "stdout",
     "output_type": "stream",
     "text": [
      "resampling mesoscope 2P frame times\n",
      "Experiment 11 / 750\n"
     ]
    },
    {
     "name": "stderr",
     "output_type": "stream",
     "text": [
      "C:\\Users\\marinag\\Documents\\Code\\AllenSDK\\allensdk\\brain_observatory\\sync_dataset.py:109: UserWarning: The loaded sync file contains the following deprecated line label keys: {'cam2_exposure', 'cam1_exposure'}. Consider updating the sync file line labels.\n",
      "  self._check_line_labels()\n",
      "C:\\Users\\marinag\\Documents\\Code\\AllenSDK\\allensdk\\brain_observatory\\sync_dataset.py:109: UserWarning: The loaded sync file contains the following deprecated line label keys: {'cam2_exposure', 'cam1_exposure'}. Consider updating the sync file line labels.\n",
      "  self._check_line_labels()\n",
      "WARNING:root:Could not find valid lines for the following data sources\n",
      "WARNING:root:acquiring (valid line label(s) = ['2p_acquiring']\n",
      "ERROR:visual_behavior.ophys.io.lims_database:cannot query specimen driver line: can't adapt type 'numpy.int64'\n",
      "ERROR:visual_behavior.ophys.io.lims_database:cannot query specimen reporter line: can't adapt type 'numpy.int64'\n",
      "ERROR:visual_behavior.ophys.sync.process_sync:Sync photodiode error needs to be fixed. Using assumed monitor delay: 0.0351\n"
     ]
    },
    {
     "name": "stdout",
     "output_type": "stream",
     "text": [
      "resampling mesoscope 2P frame times\n"
     ]
    },
    {
     "name": "stderr",
     "output_type": "stream",
     "text": [
      "ERROR:visual_behavior.ophys.io.lims_database:cannot query specimen driver line: can't adapt type 'numpy.int64'\n",
      "ERROR:visual_behavior.ophys.io.lims_database:cannot query specimen reporter line: can't adapt type 'numpy.int64'\n",
      "ERROR:visual_behavior.ophys.sync.process_sync:Sync photodiode error needs to be fixed. Using assumed monitor delay: 0.0351\n",
      "ERROR:visual_behavior.ophys.io.lims_database:cannot query specimen driver line: can't adapt type 'numpy.int64'\n",
      "ERROR:visual_behavior.ophys.io.lims_database:cannot query specimen reporter line: can't adapt type 'numpy.int64'\n"
     ]
    },
    {
     "name": "stdout",
     "output_type": "stream",
     "text": [
      "resampling mesoscope 2P frame times\n"
     ]
    },
    {
     "name": "stderr",
     "output_type": "stream",
     "text": [
      "ERROR:visual_behavior.ophys.sync.process_sync:Sync photodiode error needs to be fixed. Using assumed monitor delay: 0.0351\n"
     ]
    },
    {
     "name": "stdout",
     "output_type": "stream",
     "text": [
      "resampling mesoscope 2P frame times\n"
     ]
    },
    {
     "name": "stderr",
     "output_type": "stream",
     "text": [
      "ERROR:visual_behavior.ophys.io.lims_database:cannot query specimen driver line: can't adapt type 'numpy.int64'\n",
      "ERROR:visual_behavior.ophys.io.lims_database:cannot query specimen reporter line: can't adapt type 'numpy.int64'\n",
      "ERROR:visual_behavior.ophys.sync.process_sync:Sync photodiode error needs to be fixed. Using assumed monitor delay: 0.0351\n"
     ]
    },
    {
     "name": "stdout",
     "output_type": "stream",
     "text": [
      "resampling mesoscope 2P frame times\n"
     ]
    },
    {
     "name": "stderr",
     "output_type": "stream",
     "text": [
      "C:\\Users\\marinag\\AppData\\Roaming\\Python\\Python37\\site-packages\\pandas\\core\\indexing.py:494: SettingWithCopyWarning: \n",
      "A value is trying to be set on a copy of a slice from a DataFrame.\n",
      "Try using .loc[row_indexer,col_indexer] = value instead\n",
      "\n",
      "See the caveats in the documentation: http://pandas.pydata.org/pandas-docs/stable/user_guide/indexing.html#returning-a-view-versus-a-copy\n",
      "  self.obj[item] = s\n",
      "ERROR:visual_behavior.ophys.io.lims_database:cannot query specimen driver line: can't adapt type 'numpy.int64'\n",
      "ERROR:visual_behavior.ophys.io.lims_database:cannot query specimen reporter line: can't adapt type 'numpy.int64'\n",
      "ERROR:visual_behavior.ophys.sync.process_sync:Sync photodiode error needs to be fixed. Using assumed monitor delay: 0.0351\n"
     ]
    },
    {
     "name": "stdout",
     "output_type": "stream",
     "text": [
      "resampling mesoscope 2P frame times\n"
     ]
    },
    {
     "name": "stderr",
     "output_type": "stream",
     "text": [
      "C:\\Users\\marinag\\AppData\\Roaming\\Python\\Python37\\site-packages\\pandas\\core\\indexing.py:494: SettingWithCopyWarning: \n",
      "A value is trying to be set on a copy of a slice from a DataFrame.\n",
      "Try using .loc[row_indexer,col_indexer] = value instead\n",
      "\n",
      "See the caveats in the documentation: http://pandas.pydata.org/pandas-docs/stable/user_guide/indexing.html#returning-a-view-versus-a-copy\n",
      "  self.obj[item] = s\n"
     ]
    },
    {
     "name": "stdout",
     "output_type": "stream",
     "text": [
      "must provide analysis object to get_mean_df to compute reliability\n",
      "must provide analysis object to get_mean_df to compute reliability\n"
     ]
    },
    {
     "name": "stderr",
     "output_type": "stream",
     "text": [
      "ERROR:visual_behavior.ophys.io.lims_database:cannot query specimen driver line: can't adapt type 'numpy.int64'\n",
      "ERROR:visual_behavior.ophys.io.lims_database:cannot query specimen reporter line: can't adapt type 'numpy.int64'\n"
     ]
    },
    {
     "name": "stdout",
     "output_type": "stream",
     "text": [
      "must provide analysis object to get_mean_df to compute reliability\n",
      "must provide analysis object to get_mean_df to compute reliability\n"
     ]
    },
    {
     "name": "stderr",
     "output_type": "stream",
     "text": [
      "ERROR:visual_behavior.ophys.sync.process_sync:Sync photodiode error needs to be fixed. Using assumed monitor delay: 0.0351\n"
     ]
    },
    {
     "name": "stdout",
     "output_type": "stream",
     "text": [
      "resampling mesoscope 2P frame times\n",
      "Experiment 12 / 750\n"
     ]
    },
    {
     "name": "stderr",
     "output_type": "stream",
     "text": [
      "C:\\Users\\marinag\\Documents\\Code\\AllenSDK\\allensdk\\brain_observatory\\sync_dataset.py:109: UserWarning: The loaded sync file contains the following deprecated line label keys: {'cam2_exposure', 'cam1_exposure'}. Consider updating the sync file line labels.\n",
      "  self._check_line_labels()\n",
      "C:\\Users\\marinag\\Documents\\Code\\AllenSDK\\allensdk\\brain_observatory\\sync_dataset.py:109: UserWarning: The loaded sync file contains the following deprecated line label keys: {'cam2_exposure', 'cam1_exposure'}. Consider updating the sync file line labels.\n",
      "  self._check_line_labels()\n",
      "WARNING:root:Could not find valid lines for the following data sources\n",
      "WARNING:root:acquiring (valid line label(s) = ['2p_acquiring']\n",
      "ERROR:visual_behavior.ophys.io.lims_database:cannot query specimen driver line: can't adapt type 'numpy.int64'\n",
      "ERROR:visual_behavior.ophys.io.lims_database:cannot query specimen reporter line: can't adapt type 'numpy.int64'\n",
      "ERROR:visual_behavior.ophys.sync.process_sync:Sync photodiode error needs to be fixed. Using assumed monitor delay: 0.0351\n"
     ]
    },
    {
     "name": "stdout",
     "output_type": "stream",
     "text": [
      "resampling mesoscope 2P frame times\n"
     ]
    },
    {
     "name": "stderr",
     "output_type": "stream",
     "text": [
      "ERROR:visual_behavior.ophys.io.lims_database:cannot query specimen driver line: can't adapt type 'numpy.int64'\n",
      "ERROR:visual_behavior.ophys.io.lims_database:cannot query specimen reporter line: can't adapt type 'numpy.int64'\n",
      "ERROR:visual_behavior.ophys.sync.process_sync:Sync photodiode error needs to be fixed. Using assumed monitor delay: 0.0351\n",
      "ERROR:visual_behavior.ophys.io.lims_database:cannot query specimen driver line: can't adapt type 'numpy.int64'\n",
      "ERROR:visual_behavior.ophys.io.lims_database:cannot query specimen reporter line: can't adapt type 'numpy.int64'\n"
     ]
    },
    {
     "name": "stdout",
     "output_type": "stream",
     "text": [
      "resampling mesoscope 2P frame times\n"
     ]
    },
    {
     "name": "stderr",
     "output_type": "stream",
     "text": [
      "ERROR:visual_behavior.ophys.sync.process_sync:Sync photodiode error needs to be fixed. Using assumed monitor delay: 0.0351\n"
     ]
    },
    {
     "name": "stdout",
     "output_type": "stream",
     "text": [
      "resampling mesoscope 2P frame times\n"
     ]
    },
    {
     "name": "stderr",
     "output_type": "stream",
     "text": [
      "ERROR:visual_behavior.ophys.io.lims_database:cannot query specimen driver line: can't adapt type 'numpy.int64'\n",
      "ERROR:visual_behavior.ophys.io.lims_database:cannot query specimen reporter line: can't adapt type 'numpy.int64'\n",
      "ERROR:visual_behavior.ophys.sync.process_sync:Sync photodiode error needs to be fixed. Using assumed monitor delay: 0.0351\n"
     ]
    },
    {
     "name": "stdout",
     "output_type": "stream",
     "text": [
      "resampling mesoscope 2P frame times\n"
     ]
    },
    {
     "name": "stderr",
     "output_type": "stream",
     "text": [
      "C:\\Users\\marinag\\AppData\\Roaming\\Python\\Python37\\site-packages\\pandas\\core\\indexing.py:494: SettingWithCopyWarning: \n",
      "A value is trying to be set on a copy of a slice from a DataFrame.\n",
      "Try using .loc[row_indexer,col_indexer] = value instead\n",
      "\n",
      "See the caveats in the documentation: http://pandas.pydata.org/pandas-docs/stable/user_guide/indexing.html#returning-a-view-versus-a-copy\n",
      "  self.obj[item] = s\n",
      "ERROR:visual_behavior.ophys.io.lims_database:cannot query specimen driver line: can't adapt type 'numpy.int64'\n",
      "ERROR:visual_behavior.ophys.io.lims_database:cannot query specimen reporter line: can't adapt type 'numpy.int64'\n",
      "ERROR:visual_behavior.ophys.sync.process_sync:Sync photodiode error needs to be fixed. Using assumed monitor delay: 0.0351\n"
     ]
    },
    {
     "name": "stdout",
     "output_type": "stream",
     "text": [
      "resampling mesoscope 2P frame times\n"
     ]
    },
    {
     "name": "stderr",
     "output_type": "stream",
     "text": [
      "C:\\Users\\marinag\\AppData\\Roaming\\Python\\Python37\\site-packages\\pandas\\core\\indexing.py:494: SettingWithCopyWarning: \n",
      "A value is trying to be set on a copy of a slice from a DataFrame.\n",
      "Try using .loc[row_indexer,col_indexer] = value instead\n",
      "\n",
      "See the caveats in the documentation: http://pandas.pydata.org/pandas-docs/stable/user_guide/indexing.html#returning-a-view-versus-a-copy\n",
      "  self.obj[item] = s\n"
     ]
    },
    {
     "name": "stdout",
     "output_type": "stream",
     "text": [
      "must provide analysis object to get_mean_df to compute reliability\n",
      "must provide analysis object to get_mean_df to compute reliability\n",
      "must provide analysis object to get_mean_df to compute reliability\n",
      "must provide analysis object to get_mean_df to compute reliability"
     ]
    },
    {
     "name": "stderr",
     "output_type": "stream",
     "text": [
      "ERROR:visual_behavior.ophys.io.lims_database:cannot query specimen driver line: can't adapt type 'numpy.int64'\n",
      "ERROR:visual_behavior.ophys.io.lims_database:cannot query specimen reporter line: can't adapt type 'numpy.int64'\n"
     ]
    },
    {
     "name": "stdout",
     "output_type": "stream",
     "text": [
      "\n"
     ]
    },
    {
     "name": "stderr",
     "output_type": "stream",
     "text": [
      "ERROR:visual_behavior.ophys.sync.process_sync:Sync photodiode error needs to be fixed. Using assumed monitor delay: 0.0351\n"
     ]
    },
    {
     "name": "stdout",
     "output_type": "stream",
     "text": [
      "resampling mesoscope 2P frame times\n",
      "Experiment 13 / 750\n"
     ]
    },
    {
     "name": "stderr",
     "output_type": "stream",
     "text": [
      "C:\\Users\\marinag\\Documents\\Code\\AllenSDK\\allensdk\\brain_observatory\\sync_dataset.py:109: UserWarning: The loaded sync file contains the following deprecated line label keys: {'cam2_exposure', 'cam1_exposure'}. Consider updating the sync file line labels.\n",
      "  self._check_line_labels()\n",
      "C:\\Users\\marinag\\Documents\\Code\\AllenSDK\\allensdk\\brain_observatory\\sync_dataset.py:109: UserWarning: The loaded sync file contains the following deprecated line label keys: {'cam2_exposure', 'cam1_exposure'}. Consider updating the sync file line labels.\n",
      "  self._check_line_labels()\n",
      "WARNING:root:Could not find valid lines for the following data sources\n",
      "WARNING:root:acquiring (valid line label(s) = ['2p_acquiring']\n",
      "ERROR:visual_behavior.ophys.io.lims_database:cannot query specimen driver line: can't adapt type 'numpy.int64'\n",
      "ERROR:visual_behavior.ophys.io.lims_database:cannot query specimen reporter line: can't adapt type 'numpy.int64'\n",
      "ERROR:visual_behavior.ophys.sync.process_sync:Sync photodiode error needs to be fixed. Using assumed monitor delay: 0.0351\n"
     ]
    },
    {
     "name": "stdout",
     "output_type": "stream",
     "text": [
      "resampling mesoscope 2P frame times\n"
     ]
    },
    {
     "name": "stderr",
     "output_type": "stream",
     "text": [
      "ERROR:visual_behavior.ophys.io.lims_database:cannot query specimen driver line: can't adapt type 'numpy.int64'\n",
      "ERROR:visual_behavior.ophys.io.lims_database:cannot query specimen reporter line: can't adapt type 'numpy.int64'\n",
      "ERROR:visual_behavior.ophys.sync.process_sync:Sync photodiode error needs to be fixed. Using assumed monitor delay: 0.0351\n",
      "ERROR:visual_behavior.ophys.io.lims_database:cannot query specimen driver line: can't adapt type 'numpy.int64'\n",
      "ERROR:visual_behavior.ophys.io.lims_database:cannot query specimen reporter line: can't adapt type 'numpy.int64'\n"
     ]
    },
    {
     "name": "stdout",
     "output_type": "stream",
     "text": [
      "resampling mesoscope 2P frame times\n"
     ]
    },
    {
     "name": "stderr",
     "output_type": "stream",
     "text": [
      "ERROR:visual_behavior.ophys.sync.process_sync:Sync photodiode error needs to be fixed. Using assumed monitor delay: 0.0351\n"
     ]
    },
    {
     "name": "stdout",
     "output_type": "stream",
     "text": [
      "resampling mesoscope 2P frame times\n"
     ]
    },
    {
     "name": "stderr",
     "output_type": "stream",
     "text": [
      "ERROR:visual_behavior.ophys.io.lims_database:cannot query specimen driver line: can't adapt type 'numpy.int64'\n",
      "ERROR:visual_behavior.ophys.io.lims_database:cannot query specimen reporter line: can't adapt type 'numpy.int64'\n",
      "ERROR:visual_behavior.ophys.sync.process_sync:Sync photodiode error needs to be fixed. Using assumed monitor delay: 0.0351\n"
     ]
    },
    {
     "name": "stdout",
     "output_type": "stream",
     "text": [
      "resampling mesoscope 2P frame times\n"
     ]
    },
    {
     "name": "stderr",
     "output_type": "stream",
     "text": [
      "C:\\Users\\marinag\\AppData\\Roaming\\Python\\Python37\\site-packages\\pandas\\core\\indexing.py:494: SettingWithCopyWarning: \n",
      "A value is trying to be set on a copy of a slice from a DataFrame.\n",
      "Try using .loc[row_indexer,col_indexer] = value instead\n",
      "\n",
      "See the caveats in the documentation: http://pandas.pydata.org/pandas-docs/stable/user_guide/indexing.html#returning-a-view-versus-a-copy\n",
      "  self.obj[item] = s\n",
      "ERROR:visual_behavior.ophys.io.lims_database:cannot query specimen driver line: can't adapt type 'numpy.int64'\n",
      "ERROR:visual_behavior.ophys.io.lims_database:cannot query specimen reporter line: can't adapt type 'numpy.int64'\n",
      "ERROR:visual_behavior.ophys.sync.process_sync:Sync photodiode error needs to be fixed. Using assumed monitor delay: 0.0351\n"
     ]
    },
    {
     "name": "stdout",
     "output_type": "stream",
     "text": [
      "resampling mesoscope 2P frame times\n"
     ]
    },
    {
     "name": "stderr",
     "output_type": "stream",
     "text": [
      "C:\\Users\\marinag\\AppData\\Roaming\\Python\\Python37\\site-packages\\pandas\\core\\indexing.py:494: SettingWithCopyWarning: \n",
      "A value is trying to be set on a copy of a slice from a DataFrame.\n",
      "Try using .loc[row_indexer,col_indexer] = value instead\n",
      "\n",
      "See the caveats in the documentation: http://pandas.pydata.org/pandas-docs/stable/user_guide/indexing.html#returning-a-view-versus-a-copy\n",
      "  self.obj[item] = s\n"
     ]
    },
    {
     "name": "stdout",
     "output_type": "stream",
     "text": [
      "must provide analysis object to get_mean_df to compute reliability\n",
      "must provide analysis object to get_mean_df to compute reliability\n",
      "must provide analysis object to get_mean_df to compute reliability\n",
      "must provide analysis object to get_mean_df to compute reliability\n"
     ]
    },
    {
     "name": "stderr",
     "output_type": "stream",
     "text": [
      "ERROR:visual_behavior.ophys.io.lims_database:cannot query specimen driver line: can't adapt type 'numpy.int64'\n",
      "ERROR:visual_behavior.ophys.io.lims_database:cannot query specimen reporter line: can't adapt type 'numpy.int64'\n",
      "ERROR:visual_behavior.ophys.sync.process_sync:Sync photodiode error needs to be fixed. Using assumed monitor delay: 0.0351\n"
     ]
    },
    {
     "name": "stdout",
     "output_type": "stream",
     "text": [
      "resampling mesoscope 2P frame times\n",
      "Experiment 14 / 750\n"
     ]
    },
    {
     "name": "stderr",
     "output_type": "stream",
     "text": [
      "C:\\Users\\marinag\\Documents\\Code\\AllenSDK\\allensdk\\brain_observatory\\sync_dataset.py:109: UserWarning: The loaded sync file contains the following deprecated line label keys: {'cam2_exposure', 'cam1_exposure'}. Consider updating the sync file line labels.\n",
      "  self._check_line_labels()\n",
      "C:\\Users\\marinag\\Documents\\Code\\AllenSDK\\allensdk\\brain_observatory\\sync_dataset.py:109: UserWarning: The loaded sync file contains the following deprecated line label keys: {'cam2_exposure', 'cam1_exposure'}. Consider updating the sync file line labels.\n",
      "  self._check_line_labels()\n",
      "WARNING:root:Could not find valid lines for the following data sources\n",
      "WARNING:root:acquiring (valid line label(s) = ['2p_acquiring']\n",
      "ERROR:visual_behavior.ophys.io.lims_database:cannot query specimen driver line: can't adapt type 'numpy.int64'\n",
      "ERROR:visual_behavior.ophys.io.lims_database:cannot query specimen reporter line: can't adapt type 'numpy.int64'\n",
      "ERROR:visual_behavior.ophys.sync.process_sync:Sync photodiode error needs to be fixed. Using assumed monitor delay: 0.0351\n"
     ]
    },
    {
     "name": "stdout",
     "output_type": "stream",
     "text": [
      "resampling mesoscope 2P frame times\n"
     ]
    },
    {
     "name": "stderr",
     "output_type": "stream",
     "text": [
      "ERROR:visual_behavior.ophys.io.lims_database:cannot query specimen driver line: can't adapt type 'numpy.int64'\n",
      "ERROR:visual_behavior.ophys.io.lims_database:cannot query specimen reporter line: can't adapt type 'numpy.int64'\n",
      "ERROR:visual_behavior.ophys.sync.process_sync:Sync photodiode error needs to be fixed. Using assumed monitor delay: 0.0351\n",
      "ERROR:visual_behavior.ophys.io.lims_database:cannot query specimen driver line: can't adapt type 'numpy.int64'\n",
      "ERROR:visual_behavior.ophys.io.lims_database:cannot query specimen reporter line: can't adapt type 'numpy.int64'\n"
     ]
    },
    {
     "name": "stdout",
     "output_type": "stream",
     "text": [
      "resampling mesoscope 2P frame times\n"
     ]
    },
    {
     "name": "stderr",
     "output_type": "stream",
     "text": [
      "ERROR:visual_behavior.ophys.sync.process_sync:Sync photodiode error needs to be fixed. Using assumed monitor delay: 0.0351\n"
     ]
    },
    {
     "name": "stdout",
     "output_type": "stream",
     "text": [
      "resampling mesoscope 2P frame times\n"
     ]
    },
    {
     "name": "stderr",
     "output_type": "stream",
     "text": [
      "ERROR:visual_behavior.ophys.io.lims_database:cannot query specimen driver line: can't adapt type 'numpy.int64'\n",
      "ERROR:visual_behavior.ophys.io.lims_database:cannot query specimen reporter line: can't adapt type 'numpy.int64'\n",
      "ERROR:visual_behavior.ophys.sync.process_sync:Sync photodiode error needs to be fixed. Using assumed monitor delay: 0.0351\n"
     ]
    },
    {
     "name": "stdout",
     "output_type": "stream",
     "text": [
      "resampling mesoscope 2P frame times\n"
     ]
    },
    {
     "name": "stderr",
     "output_type": "stream",
     "text": [
      "C:\\Users\\marinag\\AppData\\Roaming\\Python\\Python37\\site-packages\\pandas\\core\\indexing.py:494: SettingWithCopyWarning: \n",
      "A value is trying to be set on a copy of a slice from a DataFrame.\n",
      "Try using .loc[row_indexer,col_indexer] = value instead\n",
      "\n",
      "See the caveats in the documentation: http://pandas.pydata.org/pandas-docs/stable/user_guide/indexing.html#returning-a-view-versus-a-copy\n",
      "  self.obj[item] = s\n",
      "ERROR:visual_behavior.ophys.io.lims_database:cannot query specimen driver line: can't adapt type 'numpy.int64'\n",
      "ERROR:visual_behavior.ophys.io.lims_database:cannot query specimen reporter line: can't adapt type 'numpy.int64'\n",
      "ERROR:visual_behavior.ophys.sync.process_sync:Sync photodiode error needs to be fixed. Using assumed monitor delay: 0.0351\n"
     ]
    },
    {
     "name": "stdout",
     "output_type": "stream",
     "text": [
      "resampling mesoscope 2P frame times\n"
     ]
    },
    {
     "name": "stderr",
     "output_type": "stream",
     "text": [
      "C:\\Users\\marinag\\AppData\\Roaming\\Python\\Python37\\site-packages\\pandas\\core\\indexing.py:494: SettingWithCopyWarning: \n",
      "A value is trying to be set on a copy of a slice from a DataFrame.\n",
      "Try using .loc[row_indexer,col_indexer] = value instead\n",
      "\n",
      "See the caveats in the documentation: http://pandas.pydata.org/pandas-docs/stable/user_guide/indexing.html#returning-a-view-versus-a-copy\n",
      "  self.obj[item] = s\n"
     ]
    },
    {
     "name": "stdout",
     "output_type": "stream",
     "text": [
      "must provide analysis object to get_mean_df to compute reliability\n",
      "must provide analysis object to get_mean_df to compute reliability\n"
     ]
    },
    {
     "name": "stderr",
     "output_type": "stream",
     "text": [
      "ERROR:visual_behavior.ophys.io.lims_database:cannot query specimen driver line: can't adapt type 'numpy.int64'\n",
      "ERROR:visual_behavior.ophys.io.lims_database:cannot query specimen reporter line: can't adapt type 'numpy.int64'\n"
     ]
    },
    {
     "name": "stdout",
     "output_type": "stream",
     "text": [
      "must provide analysis object to get_mean_df to compute reliability\n",
      "must provide analysis object to get_mean_df to compute reliability\n"
     ]
    },
    {
     "name": "stderr",
     "output_type": "stream",
     "text": [
      "ERROR:visual_behavior.ophys.sync.process_sync:Sync photodiode error needs to be fixed. Using assumed monitor delay: 0.0351\n"
     ]
    },
    {
     "name": "stdout",
     "output_type": "stream",
     "text": [
      "resampling mesoscope 2P frame times\n",
      "Experiment 15 / 750\n"
     ]
    },
    {
     "name": "stderr",
     "output_type": "stream",
     "text": [
      "C:\\Users\\marinag\\Documents\\Code\\AllenSDK\\allensdk\\brain_observatory\\sync_dataset.py:109: UserWarning: The loaded sync file contains the following deprecated line label keys: {'cam2_exposure', 'cam1_exposure'}. Consider updating the sync file line labels.\n",
      "  self._check_line_labels()\n",
      "C:\\Users\\marinag\\Documents\\Code\\AllenSDK\\allensdk\\brain_observatory\\sync_dataset.py:109: UserWarning: The loaded sync file contains the following deprecated line label keys: {'cam2_exposure', 'cam1_exposure'}. Consider updating the sync file line labels.\n",
      "  self._check_line_labels()\n",
      "WARNING:root:Could not find valid lines for the following data sources\n",
      "WARNING:root:acquiring (valid line label(s) = ['2p_acquiring']\n",
      "ERROR:visual_behavior.ophys.io.lims_database:cannot query specimen driver line: can't adapt type 'numpy.int64'\n",
      "ERROR:visual_behavior.ophys.io.lims_database:cannot query specimen reporter line: can't adapt type 'numpy.int64'\n",
      "ERROR:visual_behavior.ophys.sync.process_sync:Sync photodiode error needs to be fixed. Using assumed monitor delay: 0.0351\n"
     ]
    },
    {
     "name": "stdout",
     "output_type": "stream",
     "text": [
      "resampling mesoscope 2P frame times\n"
     ]
    },
    {
     "name": "stderr",
     "output_type": "stream",
     "text": [
      "ERROR:visual_behavior.ophys.io.lims_database:cannot query specimen driver line: can't adapt type 'numpy.int64'\n",
      "ERROR:visual_behavior.ophys.io.lims_database:cannot query specimen reporter line: can't adapt type 'numpy.int64'\n",
      "ERROR:visual_behavior.ophys.sync.process_sync:Sync photodiode error needs to be fixed. Using assumed monitor delay: 0.0351\n",
      "ERROR:visual_behavior.ophys.io.lims_database:cannot query specimen driver line: can't adapt type 'numpy.int64'\n",
      "ERROR:visual_behavior.ophys.io.lims_database:cannot query specimen reporter line: can't adapt type 'numpy.int64'\n"
     ]
    },
    {
     "name": "stdout",
     "output_type": "stream",
     "text": [
      "resampling mesoscope 2P frame times\n"
     ]
    },
    {
     "name": "stderr",
     "output_type": "stream",
     "text": [
      "ERROR:visual_behavior.ophys.sync.process_sync:Sync photodiode error needs to be fixed. Using assumed monitor delay: 0.0351\n"
     ]
    },
    {
     "name": "stdout",
     "output_type": "stream",
     "text": [
      "resampling mesoscope 2P frame times\n"
     ]
    },
    {
     "name": "stderr",
     "output_type": "stream",
     "text": [
      "ERROR:visual_behavior.ophys.io.lims_database:cannot query specimen driver line: can't adapt type 'numpy.int64'\n",
      "ERROR:visual_behavior.ophys.io.lims_database:cannot query specimen reporter line: can't adapt type 'numpy.int64'\n",
      "ERROR:visual_behavior.ophys.sync.process_sync:Sync photodiode error needs to be fixed. Using assumed monitor delay: 0.0351\n"
     ]
    },
    {
     "name": "stdout",
     "output_type": "stream",
     "text": [
      "resampling mesoscope 2P frame times\n"
     ]
    },
    {
     "name": "stderr",
     "output_type": "stream",
     "text": [
      "C:\\Users\\marinag\\AppData\\Roaming\\Python\\Python37\\site-packages\\pandas\\core\\indexing.py:494: SettingWithCopyWarning: \n",
      "A value is trying to be set on a copy of a slice from a DataFrame.\n",
      "Try using .loc[row_indexer,col_indexer] = value instead\n",
      "\n",
      "See the caveats in the documentation: http://pandas.pydata.org/pandas-docs/stable/user_guide/indexing.html#returning-a-view-versus-a-copy\n",
      "  self.obj[item] = s\n",
      "ERROR:visual_behavior.ophys.io.lims_database:cannot query specimen driver line: can't adapt type 'numpy.int64'\n",
      "ERROR:visual_behavior.ophys.io.lims_database:cannot query specimen reporter line: can't adapt type 'numpy.int64'\n",
      "ERROR:visual_behavior.ophys.sync.process_sync:Sync photodiode error needs to be fixed. Using assumed monitor delay: 0.0351\n"
     ]
    },
    {
     "name": "stdout",
     "output_type": "stream",
     "text": [
      "resampling mesoscope 2P frame times\n"
     ]
    },
    {
     "name": "stderr",
     "output_type": "stream",
     "text": [
      "C:\\Users\\marinag\\AppData\\Roaming\\Python\\Python37\\site-packages\\pandas\\core\\indexing.py:494: SettingWithCopyWarning: \n",
      "A value is trying to be set on a copy of a slice from a DataFrame.\n",
      "Try using .loc[row_indexer,col_indexer] = value instead\n",
      "\n",
      "See the caveats in the documentation: http://pandas.pydata.org/pandas-docs/stable/user_guide/indexing.html#returning-a-view-versus-a-copy\n",
      "  self.obj[item] = s\n"
     ]
    },
    {
     "name": "stdout",
     "output_type": "stream",
     "text": [
      "must provide analysis object to get_mean_df to compute reliability\n",
      "must provide analysis object to get_mean_df to compute reliability\n"
     ]
    },
    {
     "name": "stderr",
     "output_type": "stream",
     "text": [
      "ERROR:visual_behavior.ophys.io.lims_database:cannot query specimen driver line: can't adapt type 'numpy.int64'\n",
      "ERROR:visual_behavior.ophys.io.lims_database:cannot query specimen reporter line: can't adapt type 'numpy.int64'\n"
     ]
    },
    {
     "name": "stdout",
     "output_type": "stream",
     "text": [
      "must provide analysis object to get_mean_df to compute reliability\n",
      "must provide analysis object to get_mean_df to compute reliability\n"
     ]
    },
    {
     "name": "stderr",
     "output_type": "stream",
     "text": [
      "ERROR:visual_behavior.ophys.sync.process_sync:Sync photodiode error needs to be fixed. Using assumed monitor delay: 0.0351\n"
     ]
    },
    {
     "name": "stdout",
     "output_type": "stream",
     "text": [
      "resampling mesoscope 2P frame times\n",
      "Experiment 16 / 750\n"
     ]
    },
    {
     "name": "stderr",
     "output_type": "stream",
     "text": [
      "C:\\Users\\marinag\\Documents\\Code\\AllenSDK\\allensdk\\brain_observatory\\sync_dataset.py:109: UserWarning: The loaded sync file contains the following deprecated line label keys: {'cam2_exposure', 'cam1_exposure'}. Consider updating the sync file line labels.\n",
      "  self._check_line_labels()\n",
      "C:\\Users\\marinag\\Documents\\Code\\AllenSDK\\allensdk\\brain_observatory\\sync_dataset.py:109: UserWarning: The loaded sync file contains the following deprecated line label keys: {'cam2_exposure', 'cam1_exposure'}. Consider updating the sync file line labels.\n",
      "  self._check_line_labels()\n",
      "WARNING:root:Could not find valid lines for the following data sources\n",
      "WARNING:root:acquiring (valid line label(s) = ['2p_acquiring']\n",
      "ERROR:visual_behavior.ophys.io.lims_database:cannot query specimen driver line: can't adapt type 'numpy.int64'\n",
      "ERROR:visual_behavior.ophys.io.lims_database:cannot query specimen reporter line: can't adapt type 'numpy.int64'\n",
      "ERROR:visual_behavior.ophys.sync.process_sync:Sync photodiode error needs to be fixed. Using assumed monitor delay: 0.0351\n"
     ]
    },
    {
     "name": "stdout",
     "output_type": "stream",
     "text": [
      "resampling mesoscope 2P frame times\n"
     ]
    },
    {
     "name": "stderr",
     "output_type": "stream",
     "text": [
      "ERROR:visual_behavior.ophys.io.lims_database:cannot query specimen driver line: can't adapt type 'numpy.int64'\n",
      "ERROR:visual_behavior.ophys.io.lims_database:cannot query specimen reporter line: can't adapt type 'numpy.int64'\n",
      "ERROR:visual_behavior.ophys.sync.process_sync:Sync photodiode error needs to be fixed. Using assumed monitor delay: 0.0351\n",
      "ERROR:visual_behavior.ophys.io.lims_database:cannot query specimen driver line: can't adapt type 'numpy.int64'\n",
      "ERROR:visual_behavior.ophys.io.lims_database:cannot query specimen reporter line: can't adapt type 'numpy.int64'\n"
     ]
    },
    {
     "name": "stdout",
     "output_type": "stream",
     "text": [
      "resampling mesoscope 2P frame times\n"
     ]
    },
    {
     "name": "stderr",
     "output_type": "stream",
     "text": [
      "ERROR:visual_behavior.ophys.sync.process_sync:Sync photodiode error needs to be fixed. Using assumed monitor delay: 0.0351\n"
     ]
    },
    {
     "name": "stdout",
     "output_type": "stream",
     "text": [
      "resampling mesoscope 2P frame times\n"
     ]
    },
    {
     "name": "stderr",
     "output_type": "stream",
     "text": [
      "ERROR:visual_behavior.ophys.io.lims_database:cannot query specimen driver line: can't adapt type 'numpy.int64'\n",
      "ERROR:visual_behavior.ophys.io.lims_database:cannot query specimen reporter line: can't adapt type 'numpy.int64'\n",
      "ERROR:visual_behavior.ophys.sync.process_sync:Sync photodiode error needs to be fixed. Using assumed monitor delay: 0.0351\n"
     ]
    },
    {
     "name": "stdout",
     "output_type": "stream",
     "text": [
      "resampling mesoscope 2P frame times\n"
     ]
    },
    {
     "name": "stderr",
     "output_type": "stream",
     "text": [
      "C:\\Users\\marinag\\AppData\\Roaming\\Python\\Python37\\site-packages\\pandas\\core\\indexing.py:494: SettingWithCopyWarning: \n",
      "A value is trying to be set on a copy of a slice from a DataFrame.\n",
      "Try using .loc[row_indexer,col_indexer] = value instead\n",
      "\n",
      "See the caveats in the documentation: http://pandas.pydata.org/pandas-docs/stable/user_guide/indexing.html#returning-a-view-versus-a-copy\n",
      "  self.obj[item] = s\n",
      "ERROR:visual_behavior.ophys.io.lims_database:cannot query specimen driver line: can't adapt type 'numpy.int64'\n",
      "ERROR:visual_behavior.ophys.io.lims_database:cannot query specimen reporter line: can't adapt type 'numpy.int64'\n",
      "ERROR:visual_behavior.ophys.sync.process_sync:Sync photodiode error needs to be fixed. Using assumed monitor delay: 0.0351\n"
     ]
    },
    {
     "name": "stdout",
     "output_type": "stream",
     "text": [
      "resampling mesoscope 2P frame times\n"
     ]
    },
    {
     "name": "stderr",
     "output_type": "stream",
     "text": [
      "C:\\Users\\marinag\\AppData\\Roaming\\Python\\Python37\\site-packages\\pandas\\core\\indexing.py:494: SettingWithCopyWarning: \n",
      "A value is trying to be set on a copy of a slice from a DataFrame.\n",
      "Try using .loc[row_indexer,col_indexer] = value instead\n",
      "\n",
      "See the caveats in the documentation: http://pandas.pydata.org/pandas-docs/stable/user_guide/indexing.html#returning-a-view-versus-a-copy\n",
      "  self.obj[item] = s\n"
     ]
    },
    {
     "name": "stdout",
     "output_type": "stream",
     "text": [
      "must provide analysis object to get_mean_df to compute reliability\n",
      "must provide analysis object to get_mean_df to compute reliability\n",
      "must provide analysis object to get_mean_df to compute reliability\n",
      "must provide analysis object to get_mean_df to compute reliability\n"
     ]
    },
    {
     "name": "stderr",
     "output_type": "stream",
     "text": [
      "ERROR:visual_behavior.ophys.io.lims_database:cannot query specimen driver line: can't adapt type 'numpy.int64'\n",
      "ERROR:visual_behavior.ophys.io.lims_database:cannot query specimen reporter line: can't adapt type 'numpy.int64'\n",
      "ERROR:visual_behavior.ophys.sync.process_sync:Sync photodiode error needs to be fixed. Using assumed monitor delay: 0.0351\n"
     ]
    },
    {
     "name": "stdout",
     "output_type": "stream",
     "text": [
      "resampling mesoscope 2P frame times\n",
      "Experiment 17 / 750\n"
     ]
    },
    {
     "name": "stderr",
     "output_type": "stream",
     "text": [
      "C:\\Users\\marinag\\Documents\\Code\\AllenSDK\\allensdk\\brain_observatory\\sync_dataset.py:109: UserWarning: The loaded sync file contains the following deprecated line label keys: {'cam2_exposure', 'cam1_exposure'}. Consider updating the sync file line labels.\n",
      "  self._check_line_labels()\n",
      "C:\\Users\\marinag\\Documents\\Code\\AllenSDK\\allensdk\\brain_observatory\\sync_dataset.py:109: UserWarning: The loaded sync file contains the following deprecated line label keys: {'cam2_exposure', 'cam1_exposure'}. Consider updating the sync file line labels.\n",
      "  self._check_line_labels()\n",
      "WARNING:root:Could not find valid lines for the following data sources\n",
      "WARNING:root:acquiring (valid line label(s) = ['2p_acquiring']\n",
      "ERROR:visual_behavior.ophys.io.lims_database:cannot query specimen driver line: can't adapt type 'numpy.int64'\n",
      "ERROR:visual_behavior.ophys.io.lims_database:cannot query specimen reporter line: can't adapt type 'numpy.int64'\n"
     ]
    },
    {
     "name": "stdout",
     "output_type": "stream",
     "text": [
      "resampling mesoscope 2P frame times\n"
     ]
    },
    {
     "name": "stderr",
     "output_type": "stream",
     "text": [
      "ERROR:visual_behavior.ophys.io.lims_database:cannot query specimen driver line: can't adapt type 'numpy.int64'\n",
      "ERROR:visual_behavior.ophys.io.lims_database:cannot query specimen reporter line: can't adapt type 'numpy.int64'\n",
      "ERROR:visual_behavior.ophys.io.lims_database:cannot query specimen driver line: can't adapt type 'numpy.int64'\n",
      "ERROR:visual_behavior.ophys.io.lims_database:cannot query specimen reporter line: can't adapt type 'numpy.int64'\n"
     ]
    },
    {
     "name": "stdout",
     "output_type": "stream",
     "text": [
      "resampling mesoscope 2P frame times\n",
      "resampling mesoscope 2P frame times\n"
     ]
    },
    {
     "name": "stderr",
     "output_type": "stream",
     "text": [
      "ERROR:visual_behavior.ophys.io.lims_database:cannot query specimen driver line: can't adapt type 'numpy.int64'\n",
      "ERROR:visual_behavior.ophys.io.lims_database:cannot query specimen reporter line: can't adapt type 'numpy.int64'\n"
     ]
    },
    {
     "name": "stdout",
     "output_type": "stream",
     "text": [
      "resampling mesoscope 2P frame times\n"
     ]
    },
    {
     "name": "stderr",
     "output_type": "stream",
     "text": [
      "C:\\Users\\marinag\\AppData\\Roaming\\Python\\Python37\\site-packages\\pandas\\core\\indexing.py:494: SettingWithCopyWarning: \n",
      "A value is trying to be set on a copy of a slice from a DataFrame.\n",
      "Try using .loc[row_indexer,col_indexer] = value instead\n",
      "\n",
      "See the caveats in the documentation: http://pandas.pydata.org/pandas-docs/stable/user_guide/indexing.html#returning-a-view-versus-a-copy\n",
      "  self.obj[item] = s\n",
      "ERROR:visual_behavior.ophys.io.lims_database:cannot query specimen driver line: can't adapt type 'numpy.int64'\n",
      "ERROR:visual_behavior.ophys.io.lims_database:cannot query specimen reporter line: can't adapt type 'numpy.int64'\n"
     ]
    },
    {
     "name": "stdout",
     "output_type": "stream",
     "text": [
      "resampling mesoscope 2P frame times\n"
     ]
    },
    {
     "name": "stderr",
     "output_type": "stream",
     "text": [
      "C:\\Users\\marinag\\AppData\\Roaming\\Python\\Python37\\site-packages\\pandas\\core\\indexing.py:494: SettingWithCopyWarning: \n",
      "A value is trying to be set on a copy of a slice from a DataFrame.\n",
      "Try using .loc[row_indexer,col_indexer] = value instead\n",
      "\n",
      "See the caveats in the documentation: http://pandas.pydata.org/pandas-docs/stable/user_guide/indexing.html#returning-a-view-versus-a-copy\n",
      "  self.obj[item] = s\n"
     ]
    },
    {
     "name": "stdout",
     "output_type": "stream",
     "text": [
      "must provide analysis object to get_mean_df to compute reliability\n",
      "must provide analysis object to get_mean_df to compute reliability\n",
      "must provide analysis object to get_mean_df to compute reliability\n",
      "must provide analysis object to get_mean_df to compute reliability\n"
     ]
    },
    {
     "name": "stderr",
     "output_type": "stream",
     "text": [
      "ERROR:visual_behavior.ophys.io.lims_database:cannot query specimen driver line: can't adapt type 'numpy.int64'\n",
      "ERROR:visual_behavior.ophys.io.lims_database:cannot query specimen reporter line: can't adapt type 'numpy.int64'\n"
     ]
    },
    {
     "name": "stdout",
     "output_type": "stream",
     "text": [
      "resampling mesoscope 2P frame times\n",
      "Experiment 18 / 750\n"
     ]
    },
    {
     "name": "stderr",
     "output_type": "stream",
     "text": [
      "C:\\Users\\marinag\\Documents\\Code\\AllenSDK\\allensdk\\brain_observatory\\sync_dataset.py:109: UserWarning: The loaded sync file contains the following deprecated line label keys: {'cam2_exposure', 'cam1_exposure'}. Consider updating the sync file line labels.\n",
      "  self._check_line_labels()\n",
      "C:\\Users\\marinag\\Documents\\Code\\AllenSDK\\allensdk\\brain_observatory\\sync_dataset.py:109: UserWarning: The loaded sync file contains the following deprecated line label keys: {'cam2_exposure', 'cam1_exposure'}. Consider updating the sync file line labels.\n",
      "  self._check_line_labels()\n",
      "WARNING:root:Could not find valid lines for the following data sources\n",
      "WARNING:root:acquiring (valid line label(s) = ['2p_acquiring']\n",
      "ERROR:visual_behavior.ophys.io.lims_database:cannot query specimen driver line: can't adapt type 'numpy.int64'\n",
      "ERROR:visual_behavior.ophys.io.lims_database:cannot query specimen reporter line: can't adapt type 'numpy.int64'\n"
     ]
    },
    {
     "name": "stdout",
     "output_type": "stream",
     "text": [
      "resampling mesoscope 2P frame times\n"
     ]
    },
    {
     "name": "stderr",
     "output_type": "stream",
     "text": [
      "ERROR:visual_behavior.ophys.io.lims_database:cannot query specimen driver line: can't adapt type 'numpy.int64'\n",
      "ERROR:visual_behavior.ophys.io.lims_database:cannot query specimen reporter line: can't adapt type 'numpy.int64'\n",
      "ERROR:visual_behavior.ophys.io.lims_database:cannot query specimen driver line: can't adapt type 'numpy.int64'\n",
      "ERROR:visual_behavior.ophys.io.lims_database:cannot query specimen reporter line: can't adapt type 'numpy.int64'\n"
     ]
    },
    {
     "name": "stdout",
     "output_type": "stream",
     "text": [
      "resampling mesoscope 2P frame times\n",
      "resampling mesoscope 2P frame times\n"
     ]
    },
    {
     "name": "stderr",
     "output_type": "stream",
     "text": [
      "ERROR:visual_behavior.ophys.io.lims_database:cannot query specimen driver line: can't adapt type 'numpy.int64'\n",
      "ERROR:visual_behavior.ophys.io.lims_database:cannot query specimen reporter line: can't adapt type 'numpy.int64'\n"
     ]
    },
    {
     "name": "stdout",
     "output_type": "stream",
     "text": [
      "resampling mesoscope 2P frame times\n"
     ]
    },
    {
     "name": "stderr",
     "output_type": "stream",
     "text": [
      "C:\\Users\\marinag\\AppData\\Roaming\\Python\\Python37\\site-packages\\pandas\\core\\indexing.py:494: SettingWithCopyWarning: \n",
      "A value is trying to be set on a copy of a slice from a DataFrame.\n",
      "Try using .loc[row_indexer,col_indexer] = value instead\n",
      "\n",
      "See the caveats in the documentation: http://pandas.pydata.org/pandas-docs/stable/user_guide/indexing.html#returning-a-view-versus-a-copy\n",
      "  self.obj[item] = s\n",
      "ERROR:visual_behavior.ophys.io.lims_database:cannot query specimen driver line: can't adapt type 'numpy.int64'\n",
      "ERROR:visual_behavior.ophys.io.lims_database:cannot query specimen reporter line: can't adapt type 'numpy.int64'\n"
     ]
    },
    {
     "name": "stdout",
     "output_type": "stream",
     "text": [
      "resampling mesoscope 2P frame times\n"
     ]
    },
    {
     "name": "stderr",
     "output_type": "stream",
     "text": [
      "C:\\Users\\marinag\\AppData\\Roaming\\Python\\Python37\\site-packages\\pandas\\core\\indexing.py:494: SettingWithCopyWarning: \n",
      "A value is trying to be set on a copy of a slice from a DataFrame.\n",
      "Try using .loc[row_indexer,col_indexer] = value instead\n",
      "\n",
      "See the caveats in the documentation: http://pandas.pydata.org/pandas-docs/stable/user_guide/indexing.html#returning-a-view-versus-a-copy\n",
      "  self.obj[item] = s\n"
     ]
    },
    {
     "name": "stdout",
     "output_type": "stream",
     "text": [
      "must provide analysis object to get_mean_df to compute reliability\n",
      "must provide analysis object to get_mean_df to compute reliability\n",
      "must provide analysis object to get_mean_df to compute reliability"
     ]
    },
    {
     "name": "stderr",
     "output_type": "stream",
     "text": [
      "ERROR:visual_behavior.ophys.io.lims_database:cannot query specimen driver line: can't adapt type 'numpy.int64'\n",
      "ERROR:visual_behavior.ophys.io.lims_database:cannot query specimen reporter line: can't adapt type 'numpy.int64'\n"
     ]
    },
    {
     "name": "stdout",
     "output_type": "stream",
     "text": [
      "\n",
      "must provide analysis object to get_mean_df to compute reliability\n",
      "resampling mesoscope 2P frame times\n",
      "Experiment 19 / 750\n"
     ]
    },
    {
     "name": "stderr",
     "output_type": "stream",
     "text": [
      "C:\\Users\\marinag\\Documents\\Code\\AllenSDK\\allensdk\\brain_observatory\\sync_dataset.py:109: UserWarning: The loaded sync file contains the following deprecated line label keys: {'cam2_exposure', 'cam1_exposure'}. Consider updating the sync file line labels.\n",
      "  self._check_line_labels()\n",
      "C:\\Users\\marinag\\Documents\\Code\\AllenSDK\\allensdk\\brain_observatory\\sync_dataset.py:109: UserWarning: The loaded sync file contains the following deprecated line label keys: {'cam2_exposure', 'cam1_exposure'}. Consider updating the sync file line labels.\n",
      "  self._check_line_labels()\n",
      "WARNING:root:Could not find valid lines for the following data sources\n",
      "WARNING:root:acquiring (valid line label(s) = ['2p_acquiring']\n",
      "ERROR:visual_behavior.ophys.io.lims_database:cannot query specimen driver line: can't adapt type 'numpy.int64'\n",
      "ERROR:visual_behavior.ophys.io.lims_database:cannot query specimen reporter line: can't adapt type 'numpy.int64'\n"
     ]
    },
    {
     "name": "stdout",
     "output_type": "stream",
     "text": [
      "resampling mesoscope 2P frame times\n"
     ]
    },
    {
     "name": "stderr",
     "output_type": "stream",
     "text": [
      "ERROR:visual_behavior.ophys.io.lims_database:cannot query specimen driver line: can't adapt type 'numpy.int64'\n",
      "ERROR:visual_behavior.ophys.io.lims_database:cannot query specimen reporter line: can't adapt type 'numpy.int64'\n",
      "ERROR:visual_behavior.ophys.io.lims_database:cannot query specimen driver line: can't adapt type 'numpy.int64'\n",
      "ERROR:visual_behavior.ophys.io.lims_database:cannot query specimen reporter line: can't adapt type 'numpy.int64'\n"
     ]
    },
    {
     "name": "stdout",
     "output_type": "stream",
     "text": [
      "resampling mesoscope 2P frame times\n",
      "resampling mesoscope 2P frame times\n"
     ]
    },
    {
     "name": "stderr",
     "output_type": "stream",
     "text": [
      "ERROR:visual_behavior.ophys.io.lims_database:cannot query specimen driver line: can't adapt type 'numpy.int64'\n",
      "ERROR:visual_behavior.ophys.io.lims_database:cannot query specimen reporter line: can't adapt type 'numpy.int64'\n"
     ]
    },
    {
     "name": "stdout",
     "output_type": "stream",
     "text": [
      "resampling mesoscope 2P frame times\n"
     ]
    },
    {
     "name": "stderr",
     "output_type": "stream",
     "text": [
      "C:\\Users\\marinag\\AppData\\Roaming\\Python\\Python37\\site-packages\\pandas\\core\\indexing.py:494: SettingWithCopyWarning: \n",
      "A value is trying to be set on a copy of a slice from a DataFrame.\n",
      "Try using .loc[row_indexer,col_indexer] = value instead\n",
      "\n",
      "See the caveats in the documentation: http://pandas.pydata.org/pandas-docs/stable/user_guide/indexing.html#returning-a-view-versus-a-copy\n",
      "  self.obj[item] = s\n"
     ]
    }
   ],
   "source": [
    "# ophys_experiment_ids = experiments_table[experiments_table.project_code=='VisualBehaviorMultiscope'].index.values\n",
    "# print(ophys_experiment_ids.shape)\n",
    "\n",
    "# multi_session_metrics_df = pd.DataFrame()\n",
    "\n",
    "count = 0\n",
    "for ophys_experiment_id in ophys_experiment_ids[165:]:\n",
    "    try: \n",
    "        count = count+1\n",
    "        print(f'Experiment {count} / {len(ophys_experiment_ids)}')\n",
    "        session_id = experiments_table[experiments_table.index.values==ophys_experiment_id].iloc[0]['ophys_session_id']\n",
    "\n",
    "        dataset = loading.get_ophys_dataset(ophys_experiment_id)\n",
    "\n",
    "        analysis = ResponseAnalysis(dataset)\n",
    "\n",
    "        sdf = analysis.get_response_df(df_name='stimulus_response_df')\n",
    "        tdf = analysis.get_response_df(df_name='trials_response_df')\n",
    "\n",
    "        mean_stim_df = ut.get_mean_df(sdf, conditions=['cell_specimen_id', 'omitted', 'image_name'], flashes=True)\n",
    "        mean_trials_df = ut.get_mean_df(tdf, conditions=['cell_specimen_id', 'go', 'change_image_name'])\n",
    "        # pooled images and image changes\n",
    "        mean_stim_pooled_df = ut.get_mean_df(sdf, conditions=['cell_specimen_id', 'omitted'], flashes=True)\n",
    "        mean_trials_pooled_df = ut.get_mean_df(tdf, conditions=['cell_specimen_id', 'go'])\n",
    "\n",
    "        session_type = dataset.metadata['session_type']\n",
    "        experiment_id = dataset.ophys_experiment_id\n",
    "\n",
    "        metrics_df = get_metrics_df(mean_stim_df, mean_trials_df, mean_stim_pooled_df, mean_trials_pooled_df, session_type, experiment_id, session_id)\n",
    "\n",
    "        multi_session_metrics_df = pd.concat([multi_session_metrics_df, metrics_df])\n",
    "    except: \n",
    "        print('problem for',ophys_experiment_id)"
   ]
  },
  {
   "cell_type": "code",
   "execution_count": null,
   "metadata": {},
   "outputs": [],
   "source": [
    "# problem experiment 945586450 - from a mesoscope session so need to get the other 7 experiments too"
   ]
  },
  {
   "cell_type": "code",
   "execution_count": null,
   "metadata": {},
   "outputs": [],
   "source": [
    "len(multi_session_metrics.experiment_id.unique())"
   ]
  },
  {
   "cell_type": "code",
   "execution_count": null,
   "metadata": {},
   "outputs": [],
   "source": []
  },
  {
   "cell_type": "code",
   "execution_count": null,
   "metadata": {},
   "outputs": [],
   "source": [
    "multi_session_metrics_df.head()"
   ]
  },
  {
   "cell_type": "code",
   "execution_count": null,
   "metadata": {},
   "outputs": [],
   "source": [
    "## unstack to make metrics columns, then be able to extract the metrics as an array\n",
    "multi_session_metrics_df = multi_session_metrics_df.set_index(['cell_specimen_id', 'experiment_id', 'session_id', 'condition'])\n",
    "unstacked_metrics = multi_session_metrics_df.unstack(level=-1)"
   ]
  },
  {
   "cell_type": "code",
   "execution_count": null,
   "metadata": {
    "scrolled": true
   },
   "outputs": [],
   "source": [
    "unstacked_metrics.head()"
   ]
  },
  {
   "cell_type": "code",
   "execution_count": null,
   "metadata": {
    "scrolled": false
   },
   "outputs": [],
   "source": [
    "# get rid of unecessary 'mean_response' column multi-index and set rows multi-index to columns with reset_index\n",
    "unstacked_metrics = unstacked_metrics.droplevel(axis=1, level=0).reset_index()\n",
    "unstacked_metrics.head()"
   ]
  },
  {
   "cell_type": "code",
   "execution_count": null,
   "metadata": {},
   "outputs": [],
   "source": [
    "# merge unstacked_metrics with metadata from experiments_table\n",
    "expts = experiments_table.reset_index().rename(columns={'ophys_experiment_id':'experiment_id'})\n",
    "unstacked_metrics = unstacked_metrics.merge(expts, on='experiment_id')\n",
    "unstacked_metrics.head()"
   ]
  },
  {
   "cell_type": "code",
   "execution_count": null,
   "metadata": {},
   "outputs": [],
   "source": []
  },
  {
   "cell_type": "markdown",
   "metadata": {},
   "source": [
    "### save data"
   ]
  },
  {
   "cell_type": "code",
   "execution_count": null,
   "metadata": {},
   "outputs": [],
   "source": [
    "# there is an easy function to get the default path for the 'visual_behavior_production_analysis' folder:\n",
    "# loading.get_analysis_cache_dir()\n",
    "\n",
    "multi_session_metrics_df.to_hdf(os.path.join(loading.get_analysis_cache_dir(), 'multi_session_summary_dfs', 'response_metrics_feature_matrix.h5'), key='df')\n",
    "\n",
    "unstacked_metrics.to_hdf(os.path.join(loading.get_analysis_cache_dir(), 'multi_session_summary_dfs', 'response_metrics_feature_matrix_unstacked.h5'), key='df')"
   ]
  },
  {
   "cell_type": "code",
   "execution_count": null,
   "metadata": {},
   "outputs": [],
   "source": []
  },
  {
   "cell_type": "markdown",
   "metadata": {},
   "source": [
    "### load previously saved data"
   ]
  },
  {
   "cell_type": "code",
   "execution_count": null,
   "metadata": {},
   "outputs": [],
   "source": [
    "# there is an easy function to get the default path for the 'visual_behavior_production_analysis' folder:\n",
    "# loading.get_analysis_cache_dir()\n",
    "\n",
    "multi_session_metrics_df = pd.read_hdf(os.path.join(loading.get_analysis_cache_dir(), 'multi_session_summary_dfs', 'response_metrics_feature_matrix.h5'), key='df')\n",
    "\n",
    "unstacked_metrics = pd.read_hdf(os.path.join(loading.get_analysis_cache_dir(), 'multi_session_summary_dfs', 'response_metrics_feature_matrix_unstacked.h5'), key='df')"
   ]
  },
  {
   "cell_type": "code",
   "execution_count": null,
   "metadata": {},
   "outputs": [],
   "source": []
  },
  {
   "cell_type": "markdown",
   "metadata": {},
   "source": [
    "### get the metrics array without all the metadata columns "
   ]
  },
  {
   "cell_type": "markdown",
   "metadata": {},
   "source": [
    "#### i assume this array is what goes into PCA or UMAP"
   ]
  },
  {
   "cell_type": "code",
   "execution_count": null,
   "metadata": {
    "scrolled": true
   },
   "outputs": [],
   "source": [
    "metrics_array = unstacked_metrics.drop(columns=experiments_table.columns)\n",
    "metrics_array = metrics_array.set_index(['cell_specimen_id','experiment_id','session_id'])\n",
    "metrics_array.values"
   ]
  },
  {
   "cell_type": "markdown",
   "metadata": {},
   "source": [
    "### to get just the metadata columns (corresponding to the rows in metrics_array)"
   ]
  },
  {
   "cell_type": "markdown",
   "metadata": {},
   "source": [
    "#### can then use this metadata to label points in umap or split by cre line, etc"
   ]
  },
  {
   "cell_type": "code",
   "execution_count": null,
   "metadata": {},
   "outputs": [],
   "source": [
    "expts = experiments_table.reset_index().rename(columns={'ophys_experiment_id':'experiment_id'})"
   ]
  },
  {
   "cell_type": "code",
   "execution_count": null,
   "metadata": {},
   "outputs": [],
   "source": [
    "metadata_df = metrics_array.reset_index()[['cell_specimen_id','experiment_id','session_id']]\n",
    "metadata_df = metadata_df.merge(expts, on='experiment_id')"
   ]
  },
  {
   "cell_type": "code",
   "execution_count": null,
   "metadata": {
    "scrolled": true
   },
   "outputs": [],
   "source": [
    "metadata_df"
   ]
  },
  {
   "cell_type": "code",
   "execution_count": null,
   "metadata": {},
   "outputs": [],
   "source": []
  },
  {
   "cell_type": "code",
   "execution_count": null,
   "metadata": {},
   "outputs": [],
   "source": []
  },
  {
   "cell_type": "code",
   "execution_count": null,
   "metadata": {},
   "outputs": [],
   "source": []
  }
 ],
 "metadata": {
  "kernelspec": {
   "display_name": "visual_behavior_sdk",
   "language": "python",
   "name": "visual_behavior_sdk"
  },
  "language_info": {
   "codemirror_mode": {
    "name": "ipython",
    "version": 3
   },
   "file_extension": ".py",
   "mimetype": "text/x-python",
   "name": "python",
   "nbconvert_exporter": "python",
   "pygments_lexer": "ipython3",
   "version": "3.7.3"
  }
 },
 "nbformat": 4,
 "nbformat_minor": 4
}
