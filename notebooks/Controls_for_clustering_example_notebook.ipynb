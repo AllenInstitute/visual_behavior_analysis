{
 "cells": [
  {
   "cell_type": "code",
   "execution_count": null,
   "id": "731893be-a4cd-40a9-8924-eae987a1540d",
   "metadata": {},
   "outputs": [],
   "source": []
  },
  {
   "cell_type": "code",
   "execution_count": 1,
   "id": "58f49426-a8be-4bee-9ee5-4779235b2d78",
   "metadata": {},
   "outputs": [],
   "source": [
    "import os\n",
    "import numpy as np\n",
    "import pandas as pd\n",
    "import matplotlib.pyplot as plt\n",
    "import pickle\n",
    "\n",
    "\n",
    "# import visual_behavior.data_access.loading as loading # Files should be saved in a clear location\n",
    "# import visual_behavior.data_access.utilities as utilities\n",
    "import visual_behavior.visualization.utils as utils\n",
    "\n",
    "import seaborn as sns\n",
    "import jetplot\n",
    "import matplotlib.colors\n",
    "sns.set_context('notebook', font_scale=1.5, rc={'lines.markeredgewidth': 1})"
   ]
  },
  {
   "cell_type": "code",
   "execution_count": 2,
   "id": "8b3332b1-441a-46c6-ae61-38a5c2a711f5",
   "metadata": {},
   "outputs": [],
   "source": [
    "%load_ext autoreload\n",
    "%autoreload 2\n",
    "%matplotlib inline"
   ]
  },
  {
   "cell_type": "code",
   "execution_count": 3,
   "id": "58d6a3cb-612a-4c8d-a3cd-9d3d33308768",
   "metadata": {},
   "outputs": [],
   "source": [
    "from visual_behavior.dimensionality_reduction.clustering import plotting # functions to plot clusters\n",
    "from visual_behavior.dimensionality_reduction.clustering import processing # function for computing and validating clusters\n",
    "\n",
    "import visual_behavior.visualization.ophys.platform_paper_figures as ppf"
   ]
  },
  {
   "cell_type": "code",
   "execution_count": 4,
   "id": "f067dc5d-370d-41e8-ae86-4c0aa9f4ce75",
   "metadata": {},
   "outputs": [],
   "source": [
    "import visual_behavior_glm.GLM_fit_dev as gfd\n",
    "import visual_behavior_glm.GLM_analysis_tools as gat\n",
    "import visual_behavior_glm.GLM_across_session as gas"
   ]
  },
  {
   "cell_type": "markdown",
   "id": "419f3c48-55b8-4597-9cac-c15ca5370b28",
   "metadata": {},
   "source": [
    "# Cell ID shuffle control"
   ]
  },
  {
   "cell_type": "markdown",
   "id": "edadc3ca-35a2-4f15-b040-309b25481fd2",
   "metadata": {},
   "source": [
    "## Supplemental figure 20"
   ]
  },
  {
   "cell_type": "markdown",
   "id": "7e0dfb64-496d-448e-a865-c59e3c0e04e5",
   "metadata": {},
   "source": [
    "#### Load data"
   ]
  },
  {
   "cell_type": "code",
   "execution_count": null,
   "id": "0230c9e2-2387-4a8c-b42c-84584d4c2428",
   "metadata": {},
   "outputs": [],
   "source": [
    "experience_level_colors = utils.get_experience_level_colors()\n",
    "cre_line_colors = utils.get_cre_line_colors()\n",
    "\n",
    "experience_levels = utils.get_new_experience_levels()\n",
    "cell_types = utils.get_cell_types()"
   ]
  },
  {
   "cell_type": "code",
   "execution_count": 6,
   "id": "db2097ed-07d8-44e0-a0aa-c9cfd47956d1",
   "metadata": {},
   "outputs": [],
   "source": [
    "# path to data file\n",
    "path = r'C:\\Users\\iryna.yavorska\\Documents\\github\\visual_behavior_platform_paper\\data_cache'\n",
    "base_path = os.path.abspath(path)"
   ]
  },
  {
   "cell_type": "code",
   "execution_count": 9,
   "id": "1a8111f6-8964-460a-a8bc-904482a77214",
   "metadata": {},
   "outputs": [],
   "source": [
    "# create folder to load and save to\n",
    "folder = 'cluster_controls'\n",
    "save_dir = os.path.join(base_path, folder)\n"
   ]
  },
  {
   "cell_type": "code",
   "execution_count": 10,
   "id": "4bea011d-a04e-4629-a655-c099e9dad221",
   "metadata": {},
   "outputs": [],
   "source": [
    "# get GLM output, filter and reshape\n",
    "glm_version = '24_events_all_L2_optimize_by_session'\n"
   ]
  },
  {
   "cell_type": "markdown",
   "id": "e8064f89-6e33-4ea6-85d8-a3bda7eb25ea",
   "metadata": {},
   "source": [
    "#### Load original feature matrix, meta data and cluster labels"
   ]
  },
  {
   "cell_type": "code",
   "execution_count": 12,
   "id": "e1c5ed85-6544-4ceb-b923-5646f2ab8afe",
   "metadata": {},
   "outputs": [],
   "source": [
    "filename = 'feature_matrix.h5'\n",
    "feature_matrix = pd.read_hdf(os.path.join(save_dir, filename), key='df')"
   ]
  },
  {
   "cell_type": "code",
   "execution_count": 18,
   "id": "217bbe54-e097-4870-b9ee-5eef811e3a35",
   "metadata": {},
   "outputs": [
    {
     "data": {
      "text/html": [
       "<div>\n",
       "<style scoped>\n",
       "    .dataframe tbody tr th:only-of-type {\n",
       "        vertical-align: middle;\n",
       "    }\n",
       "\n",
       "    .dataframe tbody tr th {\n",
       "        vertical-align: top;\n",
       "    }\n",
       "\n",
       "    .dataframe thead th {\n",
       "        text-align: right;\n",
       "    }\n",
       "</style>\n",
       "<table border=\"1\" class=\"dataframe\">\n",
       "  <thead>\n",
       "    <tr style=\"text-align: right;\">\n",
       "      <th></th>\n",
       "      <th>cluster_id</th>\n",
       "      <th>labels</th>\n",
       "      <th>ophys_experiment_id</th>\n",
       "      <th>equipment_name</th>\n",
       "      <th>full_genotype</th>\n",
       "      <th>mouse_id</th>\n",
       "      <th>reporter_line</th>\n",
       "      <th>driver_line</th>\n",
       "      <th>sex</th>\n",
       "      <th>age_in_days</th>\n",
       "      <th>...</th>\n",
       "      <th>layer</th>\n",
       "      <th>area_layer</th>\n",
       "      <th>date</th>\n",
       "      <th>first_novel</th>\n",
       "      <th>n_relative_to_first_novel</th>\n",
       "      <th>last_familiar</th>\n",
       "      <th>last_familiar_active</th>\n",
       "      <th>second_novel</th>\n",
       "      <th>second_novel_active</th>\n",
       "      <th>experience_exposure</th>\n",
       "    </tr>\n",
       "    <tr>\n",
       "      <th>cell_specimen_id</th>\n",
       "      <th></th>\n",
       "      <th></th>\n",
       "      <th></th>\n",
       "      <th></th>\n",
       "      <th></th>\n",
       "      <th></th>\n",
       "      <th></th>\n",
       "      <th></th>\n",
       "      <th></th>\n",
       "      <th></th>\n",
       "      <th></th>\n",
       "      <th></th>\n",
       "      <th></th>\n",
       "      <th></th>\n",
       "      <th></th>\n",
       "      <th></th>\n",
       "      <th></th>\n",
       "      <th></th>\n",
       "      <th></th>\n",
       "      <th></th>\n",
       "      <th></th>\n",
       "    </tr>\n",
       "  </thead>\n",
       "  <tbody>\n",
       "    <tr>\n",
       "      <th>1086489847</th>\n",
       "      <td>9</td>\n",
       "      <td>0</td>\n",
       "      <td>1003771765</td>\n",
       "      <td>CAM2P.3</td>\n",
       "      <td>Vip-IRES-Cre/wt;Ai148(TIT2L-GC6f-ICL-tTA2)/wt</td>\n",
       "      <td>486737</td>\n",
       "      <td>Ai148(TIT2L-GC6f-ICL-tTA2)</td>\n",
       "      <td>[Vip-IRES-Cre]</td>\n",
       "      <td>F</td>\n",
       "      <td>192.0</td>\n",
       "      <td>...</td>\n",
       "      <td>upper</td>\n",
       "      <td>VISp_upper</td>\n",
       "      <td>20200129</td>\n",
       "      <td>False</td>\n",
       "      <td>-2.0</td>\n",
       "      <td>False</td>\n",
       "      <td>True</td>\n",
       "      <td>False</td>\n",
       "      <td>False</td>\n",
       "      <td>Familiar &gt; 3</td>\n",
       "    </tr>\n",
       "    <tr>\n",
       "      <th>1086489860</th>\n",
       "      <td>2</td>\n",
       "      <td>4</td>\n",
       "      <td>1003771765</td>\n",
       "      <td>CAM2P.3</td>\n",
       "      <td>Vip-IRES-Cre/wt;Ai148(TIT2L-GC6f-ICL-tTA2)/wt</td>\n",
       "      <td>486737</td>\n",
       "      <td>Ai148(TIT2L-GC6f-ICL-tTA2)</td>\n",
       "      <td>[Vip-IRES-Cre]</td>\n",
       "      <td>F</td>\n",
       "      <td>192.0</td>\n",
       "      <td>...</td>\n",
       "      <td>upper</td>\n",
       "      <td>VISp_upper</td>\n",
       "      <td>20200129</td>\n",
       "      <td>False</td>\n",
       "      <td>-2.0</td>\n",
       "      <td>False</td>\n",
       "      <td>True</td>\n",
       "      <td>False</td>\n",
       "      <td>False</td>\n",
       "      <td>Familiar &gt; 3</td>\n",
       "    </tr>\n",
       "    <tr>\n",
       "      <th>1086489891</th>\n",
       "      <td>9</td>\n",
       "      <td>0</td>\n",
       "      <td>1003771765</td>\n",
       "      <td>CAM2P.3</td>\n",
       "      <td>Vip-IRES-Cre/wt;Ai148(TIT2L-GC6f-ICL-tTA2)/wt</td>\n",
       "      <td>486737</td>\n",
       "      <td>Ai148(TIT2L-GC6f-ICL-tTA2)</td>\n",
       "      <td>[Vip-IRES-Cre]</td>\n",
       "      <td>F</td>\n",
       "      <td>192.0</td>\n",
       "      <td>...</td>\n",
       "      <td>upper</td>\n",
       "      <td>VISp_upper</td>\n",
       "      <td>20200129</td>\n",
       "      <td>False</td>\n",
       "      <td>-2.0</td>\n",
       "      <td>False</td>\n",
       "      <td>True</td>\n",
       "      <td>False</td>\n",
       "      <td>False</td>\n",
       "      <td>Familiar &gt; 3</td>\n",
       "    </tr>\n",
       "    <tr>\n",
       "      <th>1086489976</th>\n",
       "      <td>4</td>\n",
       "      <td>9</td>\n",
       "      <td>962471831</td>\n",
       "      <td>CAM2P.5</td>\n",
       "      <td>Sst-IRES-Cre/wt;Ai148(TIT2L-GC6f-ICL-tTA2)/wt</td>\n",
       "      <td>467302</td>\n",
       "      <td>Ai148(TIT2L-GC6f-ICL-tTA2)</td>\n",
       "      <td>[Sst-IRES-Cre]</td>\n",
       "      <td>M</td>\n",
       "      <td>177.0</td>\n",
       "      <td>...</td>\n",
       "      <td>lower</td>\n",
       "      <td>VISp_lower</td>\n",
       "      <td>20191007</td>\n",
       "      <td>False</td>\n",
       "      <td>-1.0</td>\n",
       "      <td>True</td>\n",
       "      <td>True</td>\n",
       "      <td>False</td>\n",
       "      <td>False</td>\n",
       "      <td>Familiar 3</td>\n",
       "    </tr>\n",
       "    <tr>\n",
       "      <th>1086490002</th>\n",
       "      <td>4</td>\n",
       "      <td>9</td>\n",
       "      <td>962471831</td>\n",
       "      <td>CAM2P.5</td>\n",
       "      <td>Sst-IRES-Cre/wt;Ai148(TIT2L-GC6f-ICL-tTA2)/wt</td>\n",
       "      <td>467302</td>\n",
       "      <td>Ai148(TIT2L-GC6f-ICL-tTA2)</td>\n",
       "      <td>[Sst-IRES-Cre]</td>\n",
       "      <td>M</td>\n",
       "      <td>177.0</td>\n",
       "      <td>...</td>\n",
       "      <td>lower</td>\n",
       "      <td>VISp_lower</td>\n",
       "      <td>20191007</td>\n",
       "      <td>False</td>\n",
       "      <td>-1.0</td>\n",
       "      <td>True</td>\n",
       "      <td>True</td>\n",
       "      <td>False</td>\n",
       "      <td>False</td>\n",
       "      <td>Familiar 3</td>\n",
       "    </tr>\n",
       "  </tbody>\n",
       "</table>\n",
       "<p>5 rows × 43 columns</p>\n",
       "</div>"
      ],
      "text/plain": [
       "                  cluster_id  labels  ophys_experiment_id equipment_name  \\\n",
       "cell_specimen_id                                                           \n",
       "1086489847                 9       0           1003771765        CAM2P.3   \n",
       "1086489860                 2       4           1003771765        CAM2P.3   \n",
       "1086489891                 9       0           1003771765        CAM2P.3   \n",
       "1086489976                 4       9            962471831        CAM2P.5   \n",
       "1086490002                 4       9            962471831        CAM2P.5   \n",
       "\n",
       "                                                  full_genotype mouse_id  \\\n",
       "cell_specimen_id                                                           \n",
       "1086489847        Vip-IRES-Cre/wt;Ai148(TIT2L-GC6f-ICL-tTA2)/wt   486737   \n",
       "1086489860        Vip-IRES-Cre/wt;Ai148(TIT2L-GC6f-ICL-tTA2)/wt   486737   \n",
       "1086489891        Vip-IRES-Cre/wt;Ai148(TIT2L-GC6f-ICL-tTA2)/wt   486737   \n",
       "1086489976        Sst-IRES-Cre/wt;Ai148(TIT2L-GC6f-ICL-tTA2)/wt   467302   \n",
       "1086490002        Sst-IRES-Cre/wt;Ai148(TIT2L-GC6f-ICL-tTA2)/wt   467302   \n",
       "\n",
       "                               reporter_line     driver_line sex  age_in_days  \\\n",
       "cell_specimen_id                                                                \n",
       "1086489847        Ai148(TIT2L-GC6f-ICL-tTA2)  [Vip-IRES-Cre]   F        192.0   \n",
       "1086489860        Ai148(TIT2L-GC6f-ICL-tTA2)  [Vip-IRES-Cre]   F        192.0   \n",
       "1086489891        Ai148(TIT2L-GC6f-ICL-tTA2)  [Vip-IRES-Cre]   F        192.0   \n",
       "1086489976        Ai148(TIT2L-GC6f-ICL-tTA2)  [Sst-IRES-Cre]   M        177.0   \n",
       "1086490002        Ai148(TIT2L-GC6f-ICL-tTA2)  [Sst-IRES-Cre]   M        177.0   \n",
       "\n",
       "                  ...  layer  area_layer      date  first_novel  \\\n",
       "cell_specimen_id  ...                                             \n",
       "1086489847        ...  upper  VISp_upper  20200129        False   \n",
       "1086489860        ...  upper  VISp_upper  20200129        False   \n",
       "1086489891        ...  upper  VISp_upper  20200129        False   \n",
       "1086489976        ...  lower  VISp_lower  20191007        False   \n",
       "1086490002        ...  lower  VISp_lower  20191007        False   \n",
       "\n",
       "                  n_relative_to_first_novel  last_familiar  \\\n",
       "cell_specimen_id                                             \n",
       "1086489847                             -2.0          False   \n",
       "1086489860                             -2.0          False   \n",
       "1086489891                             -2.0          False   \n",
       "1086489976                             -1.0           True   \n",
       "1086490002                             -1.0           True   \n",
       "\n",
       "                  last_familiar_active  second_novel  second_novel_active  \\\n",
       "cell_specimen_id                                                            \n",
       "1086489847                        True         False                False   \n",
       "1086489860                        True         False                False   \n",
       "1086489891                        True         False                False   \n",
       "1086489976                        True         False                False   \n",
       "1086490002                        True         False                False   \n",
       "\n",
       "                 experience_exposure  \n",
       "cell_specimen_id                      \n",
       "1086489847              Familiar > 3  \n",
       "1086489860              Familiar > 3  \n",
       "1086489891              Familiar > 3  \n",
       "1086489976                Familiar 3  \n",
       "1086490002                Familiar 3  \n",
       "\n",
       "[5 rows x 43 columns]"
      ]
     },
     "execution_count": 18,
     "metadata": {},
     "output_type": "execute_result"
    }
   ],
   "source": [
    "filename = 'cluster_meta_14_clusters.h5'\n",
    "cluster_meta = pd.read_hdf(os.path.join(save_dir, filename))\n",
    "cluster_meta.head()"
   ]
  },
  {
   "cell_type": "code",
   "execution_count": 19,
   "id": "d489a776-58b9-4402-b662-488800e629a1",
   "metadata": {},
   "outputs": [],
   "source": [
    "original_mean_dropout_scores = processing.get_mean_dropout_scores_per_cluster(feature_matrix, \n",
    "                                                  cluster_df = cluster_meta.reset_index(), sort=True)"
   ]
  },
  {
   "cell_type": "code",
   "execution_count": 22,
   "id": "587676fa-7249-49e0-9c59-2371c9386f16",
   "metadata": {},
   "outputs": [
    {
     "data": {
      "text/plain": [
       "3921"
      ]
     },
     "execution_count": 22,
     "metadata": {},
     "output_type": "execute_result"
    }
   ],
   "source": [
    "len(feature_matrix)"
   ]
  },
  {
   "cell_type": "code",
   "execution_count": 24,
   "id": "62feda5a-01cf-4071-8af3-8b642393c95e",
   "metadata": {},
   "outputs": [],
   "source": [
    "# split cell specimen ids by cre lines\n",
    "cre_ids = {}\n",
    "cre_lines = np.sort(cluster_meta.cre_line.unique())\n",
    "for cre_line in cre_lines:\n",
    "    cre_ids[cre_line]=cluster_meta[cluster_meta.cre_line==cre_line].index.values\n",
    "    "
   ]
  },
  {
   "cell_type": "code",
   "execution_count": 27,
   "id": "2ae2975b-d56e-4f8c-a9a5-26b4732b5773",
   "metadata": {},
   "outputs": [
    {
     "data": {
      "image/png": "[encoded data removed]",
      "text/plain": [
       "<Figure size 3024x144 with 12 Axes>"
      ]
     },
     "metadata": {},
     "output_type": "display_data"
    },
    {
     "data": {
      "image/png": "[encoded data removed]",
      "text/plain": [
       "<Figure size 2016x144 with 8 Axes>"
      ]
     },
     "metadata": {},
     "output_type": "display_data"
    },
    {
     "data": {
      "image/png": "[encoded data removed]",
      "text/plain": [
       "<Figure size 2520x144 with 10 Axes>"
      ]
     },
     "metadata": {},
     "output_type": "display_data"
    }
   ],
   "source": [
    "\n",
    "for cre_line in cre_lines:\n",
    "    feature_matrix_cre = feature_matrix.loc[cre_ids[cre_line]]\n",
    "    cluster_meta_cre = cluster_meta[cluster_meta.cre_line == cre_line]\n",
    "    sort_order = {cre_line: processing.get_sorted_cluster_ids(cluster_meta_cre)}\n",
    "    plotting.plot_clusters_row(cluster_meta_cre, feature_matrix_cre, cre_line,\n",
    "                               sort_order=sort_order, save_dir=None, folder='', suffix='_original',)"
   ]
  },
  {
   "cell_type": "markdown",
   "id": "e7fff3dd-d263-452b-8dee-e4d4cfbb7192",
   "metadata": {},
   "source": [
    "#### Load shuffled data"
   ]
  },
  {
   "cell_type": "code",
   "execution_count": 29,
   "id": "32340019-250b-45a4-8c8d-5e8dc086e2e6",
   "metadata": {},
   "outputs": [],
   "source": [
    "shuffle_dir = os.path.join(save_dir, 'shuffled_files')\n",
    "n_boots=np.arange(500)\n",
    "shuffle_type = 'experience'\n",
    "nb_shuffled = {}\n",
    "for n_boot in n_boots:\n",
    "    nb_filename ='all_cells_{}_nb{}.h5'.format(shuffle_type, n_boot)\n",
    "    nb_shuffled[n_boot] = pd.read_hdf(os.path.join(shuffle_dir,nb_filename), key = 'df')\n",
    "shuffled_feature_matrices = nb_shuffled"
   ]
  },
  {
   "cell_type": "code",
   "execution_count": 31,
   "id": "48ded687-20e9-4d4d-9ce4-f691c0020a45",
   "metadata": {},
   "outputs": [
    {
     "name": "stdout",
     "output_type": "stream",
     "text": [
      "shuffling data across experience fully (cell id and experience level)\n"
     ]
    },
    {
     "name": "stderr",
     "output_type": "stream",
     "text": [
      "C:\\Users\\iryna.yavorska\\Anaconda3\\envs\\vba\\lib\\site-packages\\numpy\\core\\fromnumeric.py:1970: VisibleDeprecationWarning: Creating an ndarray from ragged nested sequences (which is a list-or-tuple of lists-or-tuples-or ndarrays with different lengths or shapes) is deprecated. If you meant to do this, you must specify 'dtype=object' when creating the ndarray.\n",
      "  result = asarray(a).shape\n"
     ]
    }
   ],
   "source": [
    "# to create new shuffled data:\n",
    "shuffled_matrix_example = processing.shuffle_dropout_score(feature_matrix, shuffle_type='experience', separate_cre_lines=False)"
   ]
  },
  {
   "cell_type": "markdown",
   "id": "796e040d-f279-4ec8-b5b8-53e3d305730d",
   "metadata": {},
   "source": [
    "#### Cluster shuffled data"
   ]
  },
  {
   "cell_type": "code",
   "execution_count": null,
   "id": "4b32402e-64c7-4e4b-8109-83fdfa535b1f",
   "metadata": {},
   "outputs": [],
   "source": []
  },
  {
   "cell_type": "code",
   "execution_count": null,
   "id": "314a1570-aece-4447-b2af-3177b2c93983",
   "metadata": {},
   "outputs": [],
   "source": []
  },
  {
   "cell_type": "code",
   "execution_count": null,
   "id": "cde08fcb-9458-4432-a0ac-dcb83d35cb4b",
   "metadata": {},
   "outputs": [],
   "source": []
  },
  {
   "cell_type": "markdown",
   "id": "205165d5-39d6-40a0-bfd1-bdd1460684a9",
   "metadata": {},
   "source": [
    "#### Load cluster labels"
   ]
  },
  {
   "cell_type": "code",
   "execution_count": null,
   "id": "1941645b-e789-4a83-96f7-fbf52c92f7c6",
   "metadata": {},
   "outputs": [],
   "source": [
    "%%time\n",
    "## Load shuffled cluster labels\n",
    "\n",
    "shuffle_type_labels = {}\n",
    "for shuffle_type in shuffle_types:\n",
    "    nb_labels_shuffled = {}                       \n",
    "    for n, n_boot in enumerate(n_boots):\n",
    "        nb_filename ='all_cells_{}_nb{}_cluster_labels.h5'.format(shuffle_type, n_boot) \n",
    "        full_filename = os.path.join(filedir, nb_filename)\n",
    "        nb_labels_shuffled[n] = pd.read_hdf(full_filename, key = 'clustered_df')\n",
    "    shuffle_type_labels[shuffle_type] = nb_labels_shuffled"
   ]
  },
  {
   "cell_type": "code",
   "execution_count": null,
   "id": "20adb6ff-f21a-41d5-ad59-94dfbe1acf7d",
   "metadata": {},
   "outputs": [],
   "source": []
  },
  {
   "cell_type": "code",
   "execution_count": null,
   "id": "86cd056c-073e-4c6d-bc58-928a82a48d41",
   "metadata": {},
   "outputs": [],
   "source": []
  },
  {
   "cell_type": "code",
   "execution_count": null,
   "id": "1900414f-6e18-4496-95a7-6337aa7ecf38",
   "metadata": {},
   "outputs": [],
   "source": []
  },
  {
   "cell_type": "code",
   "execution_count": null,
   "id": "4824125f-fcba-41d0-b5a5-ddd388533d4d",
   "metadata": {},
   "outputs": [],
   "source": []
  },
  {
   "cell_type": "code",
   "execution_count": null,
   "id": "a50a5e72-1a65-418a-a06d-5fd6def2d073",
   "metadata": {},
   "outputs": [],
   "source": []
  },
  {
   "cell_type": "code",
   "execution_count": null,
   "id": "f81ea426-a3cf-4618-812a-eb4fa2f20da5",
   "metadata": {},
   "outputs": [],
   "source": []
  },
  {
   "cell_type": "markdown",
   "id": "371f1d69-881f-4885-812a-3536e9e30b81",
   "metadata": {},
   "source": [
    "### panel c and d - SSE matching heatmap \n",
    "change color of cluster heatmap"
   ]
  },
  {
   "cell_type": "markdown",
   "id": "cd6299b3-7dd2-408f-b01c-d030e03e496e",
   "metadata": {},
   "source": [
    "## panels e and f probability of clusters in shuffled data"
   ]
  },
  {
   "cell_type": "code",
   "execution_count": null,
   "id": "0af68d3e-bba2-480b-8ab4-20661fcd43a0",
   "metadata": {},
   "outputs": [],
   "source": []
  },
  {
   "cell_type": "code",
   "execution_count": null,
   "id": "494cb8c0-d458-4fe1-8458-9b4624b89828",
   "metadata": {},
   "outputs": [],
   "source": []
  },
  {
   "cell_type": "code",
   "execution_count": null,
   "id": "67e6be81-bef1-4faf-8171-f75da878cfed",
   "metadata": {},
   "outputs": [],
   "source": []
  },
  {
   "cell_type": "markdown",
   "id": "8821d82c-1533-469b-84bf-03720037f74e",
   "metadata": {},
   "source": [
    "# Familiar control"
   ]
  },
  {
   "cell_type": "markdown",
   "id": "0cfa8346-2465-4a09-a565-6f9503b2b5ea",
   "metadata": {},
   "source": [
    "## Supplemental figure 24"
   ]
  },
  {
   "cell_type": "markdown",
   "id": "b01ff8ac-d8e3-40f0-ae99-0c749a644a39",
   "metadata": {},
   "source": [
    "### panel b and c - coclustering matrix"
   ]
  },
  {
   "cell_type": "code",
   "execution_count": null,
   "id": "b4d1f1de-555e-4e33-9ec6-b36ec2e072e0",
   "metadata": {},
   "outputs": [],
   "source": []
  },
  {
   "cell_type": "markdown",
   "id": "f399e647-e9ec-4f52-82bf-6c5b2affa696",
   "metadata": {},
   "source": [
    "### panel d and f - cluster heatmaps"
   ]
  },
  {
   "cell_type": "code",
   "execution_count": null,
   "id": "31bcf1d4-45c9-44df-95e0-bb0a0eebd311",
   "metadata": {},
   "outputs": [],
   "source": []
  },
  {
   "cell_type": "code",
   "execution_count": null,
   "id": "5a24402c-e67f-49e2-84c0-dfc47e677146",
   "metadata": {},
   "outputs": [],
   "source": [
    "### panel e - distribution "
   ]
  },
  {
   "cell_type": "markdown",
   "id": "c28b3868-e006-4b44-b3b3-99fedb7452d2",
   "metadata": {},
   "source": [
    "#### Coclustering matrix"
   ]
  }
 ],
 "metadata": {
  "kernelspec": {
   "display_name": "vba",
   "language": "python",
   "name": "vba"
  },
  "language_info": {
   "codemirror_mode": {
    "name": "ipython",
    "version": 3
   },
   "file_extension": ".py",
   "mimetype": "text/x-python",
   "name": "python",
   "nbconvert_exporter": "python",
   "pygments_lexer": "ipython3",
   "version": "3.7.9"
  }
 },
 "nbformat": 4,
 "nbformat_minor": 5
}
