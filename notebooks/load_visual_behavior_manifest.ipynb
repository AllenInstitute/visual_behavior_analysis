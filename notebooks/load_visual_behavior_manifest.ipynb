{
 "cells": [
  {
   "cell_type": "markdown",
   "metadata": {},
   "source": [
    "#### Requires up to date version of AllenSDK on master branch and up to date version of VBA on master branch"
   ]
  },
  {
   "cell_type": "code",
   "execution_count": 1,
   "metadata": {},
   "outputs": [],
   "source": [
    "import os\n",
    "import numpy as np\n",
    "import pandas as pd"
   ]
  },
  {
   "cell_type": "code",
   "execution_count": 2,
   "metadata": {},
   "outputs": [],
   "source": [
    "%load_ext autoreload\n",
    "%autoreload 2"
   ]
  },
  {
   "cell_type": "markdown",
   "metadata": {},
   "source": [
    "### load visual behavior project cache "
   ]
  },
  {
   "cell_type": "code",
   "execution_count": 3,
   "metadata": {},
   "outputs": [],
   "source": [
    "from visual_behavior.data_access import loading "
   ]
  },
  {
   "cell_type": "code",
   "execution_count": 4,
   "metadata": {},
   "outputs": [],
   "source": [
    "cache = loading.get_visual_behavior_cache()"
   ]
  },
  {
   "cell_type": "markdown",
   "metadata": {},
   "source": [
    "### the cache contains a manifest of all Visual Behavior datasets in lims, and describes the data using 3 tables: \n",
    "#### behavior sessions table\n",
    "#### ophys sessions table\n",
    "#### ophys experiments table\n",
    "\n",
    "Note: These tables include experiments that failed QC as well as some pilot data. Filtering is required to get to the datasets of interest. "
   ]
  },
  {
   "cell_type": "code",
   "execution_count": 5,
   "metadata": {},
   "outputs": [
    {
     "data": {
      "text/plain": [
       "Index(['ophys_session_id', 'behavior_training_id', 'equipment_name',\n",
       "       'donor_id', 'full_genotype', 'reporter_line', 'driver_line', 'sex',\n",
       "       'foraging_id', 'session_type'],\n",
       "      dtype='object')"
      ]
     },
     "execution_count": 5,
     "metadata": {},
     "output_type": "execute_result"
    }
   ],
   "source": [
    "# behavior sessions - includes training sessions (with no corresponding ophys sessions) and ophys sessions \n",
    "all_behavior_sessions = cache.get_behavior_session_table() \n",
    "all_behavior_sessions.keys()"
   ]
  },
  {
   "cell_type": "code",
   "execution_count": 6,
   "metadata": {},
   "outputs": [
    {
     "data": {
      "text/html": [
       "<div>\n",
       "<style scoped>\n",
       "    .dataframe tbody tr th:only-of-type {\n",
       "        vertical-align: middle;\n",
       "    }\n",
       "\n",
       "    .dataframe tbody tr th {\n",
       "        vertical-align: top;\n",
       "    }\n",
       "\n",
       "    .dataframe thead th {\n",
       "        text-align: right;\n",
       "    }\n",
       "</style>\n",
       "<table border=\"1\" class=\"dataframe\">\n",
       "  <thead>\n",
       "    <tr style=\"text-align: right;\">\n",
       "      <th></th>\n",
       "      <th>ophys_session_id</th>\n",
       "      <th>behavior_training_id</th>\n",
       "      <th>equipment_name</th>\n",
       "      <th>donor_id</th>\n",
       "      <th>full_genotype</th>\n",
       "      <th>reporter_line</th>\n",
       "      <th>driver_line</th>\n",
       "      <th>sex</th>\n",
       "      <th>foraging_id</th>\n",
       "      <th>session_type</th>\n",
       "    </tr>\n",
       "    <tr>\n",
       "      <th>behavior_session_id</th>\n",
       "      <th></th>\n",
       "      <th></th>\n",
       "      <th></th>\n",
       "      <th></th>\n",
       "      <th></th>\n",
       "      <th></th>\n",
       "      <th></th>\n",
       "      <th></th>\n",
       "      <th></th>\n",
       "      <th></th>\n",
       "    </tr>\n",
       "  </thead>\n",
       "  <tbody>\n",
       "    <tr>\n",
       "      <td>846710859</td>\n",
       "      <td>846605051.0</td>\n",
       "      <td>NaN</td>\n",
       "      <td>CAM2P.4</td>\n",
       "      <td>814111925</td>\n",
       "      <td>Slc17a7-IRES2-Cre/wt;Camk2a-tTA/wt;Ai94(TITL-G...</td>\n",
       "      <td>[Ai94(TITL-GCaMP6s)]</td>\n",
       "      <td>[Camk2a-tTA, Slc17a7-IRES2-Cre]</td>\n",
       "      <td>F</td>\n",
       "      <td>b183a85b-6a29-4054-9d3c-915a0408a10a</td>\n",
       "      <td>OPHYS_5_images_B_passive</td>\n",
       "    </tr>\n",
       "    <tr>\n",
       "      <td>820627398</td>\n",
       "      <td>NaN</td>\n",
       "      <td>NaN</td>\n",
       "      <td>MESO.1</td>\n",
       "      <td>703198154</td>\n",
       "      <td>Slc17a7-IRES2-Cre/wt;Camk2a-tTA/wt;Ai93(TITL-G...</td>\n",
       "      <td>[Ai93(TITL-GCaMP6f)]</td>\n",
       "      <td>[Camk2a-tTA, Slc17a7-IRES2-Cre]</td>\n",
       "      <td>M</td>\n",
       "      <td>e3bc6a4b-3477-41bc-966b-ef8e3d35b6cd</td>\n",
       "      <td>OPHYS_1_images_A</td>\n",
       "    </tr>\n",
       "    <tr>\n",
       "      <td>767197943</td>\n",
       "      <td>NaN</td>\n",
       "      <td>NaN</td>\n",
       "      <td>CAM2P.3</td>\n",
       "      <td>642238406</td>\n",
       "      <td>Slc17a7-IRES2-Cre/wt;Ai162(TIT2L-GC6s-ICL-tTA2...</td>\n",
       "      <td>[Ai162(TIT2L-GC6s-ICL-tTA2)]</td>\n",
       "      <td>[Slc17a7-IRES2-Cre]</td>\n",
       "      <td>M</td>\n",
       "      <td>7a1d6674-df2c-53e7-ad85-9065a520634d</td>\n",
       "      <td>0_gratings_autorewards_15min</td>\n",
       "    </tr>\n",
       "    <tr>\n",
       "      <td>768638583</td>\n",
       "      <td>768434190.0</td>\n",
       "      <td>NaN</td>\n",
       "      <td>CAM2P.4</td>\n",
       "      <td>703210569</td>\n",
       "      <td>Slc17a7-IRES2-Cre/wt;Camk2a-tTA/wt;Ai93(TITL-G...</td>\n",
       "      <td>[Ai93(TITL-GCaMP6f)]</td>\n",
       "      <td>[Camk2a-tTA, Slc17a7-IRES2-Cre]</td>\n",
       "      <td>F</td>\n",
       "      <td>cf1769ef-623e-4bb9-a698-a82986e91727</td>\n",
       "      <td>5_images_a_ophys</td>\n",
       "    </tr>\n",
       "    <tr>\n",
       "      <td>768879508</td>\n",
       "      <td>NaN</td>\n",
       "      <td>NaN</td>\n",
       "      <td>CAM2P.3</td>\n",
       "      <td>642238406</td>\n",
       "      <td>Slc17a7-IRES2-Cre/wt;Ai162(TIT2L-GC6s-ICL-tTA2...</td>\n",
       "      <td>[Ai162(TIT2L-GC6s-ICL-tTA2)]</td>\n",
       "      <td>[Slc17a7-IRES2-Cre]</td>\n",
       "      <td>M</td>\n",
       "      <td>3e2e0696-70f9-5839-888a-a90668e66a4d</td>\n",
       "      <td>1_gratings</td>\n",
       "    </tr>\n",
       "  </tbody>\n",
       "</table>\n",
       "</div>"
      ],
      "text/plain": [
       "                     ophys_session_id  behavior_training_id equipment_name  \\\n",
       "behavior_session_id                                                          \n",
       "846710859                 846605051.0                   NaN        CAM2P.4   \n",
       "820627398                         NaN                   NaN         MESO.1   \n",
       "767197943                         NaN                   NaN        CAM2P.3   \n",
       "768638583                 768434190.0                   NaN        CAM2P.4   \n",
       "768879508                         NaN                   NaN        CAM2P.3   \n",
       "\n",
       "                      donor_id  \\\n",
       "behavior_session_id              \n",
       "846710859            814111925   \n",
       "820627398            703198154   \n",
       "767197943            642238406   \n",
       "768638583            703210569   \n",
       "768879508            642238406   \n",
       "\n",
       "                                                         full_genotype  \\\n",
       "behavior_session_id                                                      \n",
       "846710859            Slc17a7-IRES2-Cre/wt;Camk2a-tTA/wt;Ai94(TITL-G...   \n",
       "820627398            Slc17a7-IRES2-Cre/wt;Camk2a-tTA/wt;Ai93(TITL-G...   \n",
       "767197943            Slc17a7-IRES2-Cre/wt;Ai162(TIT2L-GC6s-ICL-tTA2...   \n",
       "768638583            Slc17a7-IRES2-Cre/wt;Camk2a-tTA/wt;Ai93(TITL-G...   \n",
       "768879508            Slc17a7-IRES2-Cre/wt;Ai162(TIT2L-GC6s-ICL-tTA2...   \n",
       "\n",
       "                                    reporter_line  \\\n",
       "behavior_session_id                                 \n",
       "846710859                    [Ai94(TITL-GCaMP6s)]   \n",
       "820627398                    [Ai93(TITL-GCaMP6f)]   \n",
       "767197943            [Ai162(TIT2L-GC6s-ICL-tTA2)]   \n",
       "768638583                    [Ai93(TITL-GCaMP6f)]   \n",
       "768879508            [Ai162(TIT2L-GC6s-ICL-tTA2)]   \n",
       "\n",
       "                                         driver_line sex  \\\n",
       "behavior_session_id                                        \n",
       "846710859            [Camk2a-tTA, Slc17a7-IRES2-Cre]   F   \n",
       "820627398            [Camk2a-tTA, Slc17a7-IRES2-Cre]   M   \n",
       "767197943                        [Slc17a7-IRES2-Cre]   M   \n",
       "768638583            [Camk2a-tTA, Slc17a7-IRES2-Cre]   F   \n",
       "768879508                        [Slc17a7-IRES2-Cre]   M   \n",
       "\n",
       "                                              foraging_id  \\\n",
       "behavior_session_id                                         \n",
       "846710859            b183a85b-6a29-4054-9d3c-915a0408a10a   \n",
       "820627398            e3bc6a4b-3477-41bc-966b-ef8e3d35b6cd   \n",
       "767197943            7a1d6674-df2c-53e7-ad85-9065a520634d   \n",
       "768638583            cf1769ef-623e-4bb9-a698-a82986e91727   \n",
       "768879508            3e2e0696-70f9-5839-888a-a90668e66a4d   \n",
       "\n",
       "                                     session_type  \n",
       "behavior_session_id                                \n",
       "846710859                OPHYS_5_images_B_passive  \n",
       "820627398                        OPHYS_1_images_A  \n",
       "767197943            0_gratings_autorewards_15min  \n",
       "768638583                        5_images_a_ophys  \n",
       "768879508                              1_gratings  "
      ]
     },
     "execution_count": 6,
     "metadata": {},
     "output_type": "execute_result"
    }
   ],
   "source": [
    "all_behavior_sessions.head(5)"
   ]
  },
  {
   "cell_type": "code",
   "execution_count": 7,
   "metadata": {},
   "outputs": [
    {
     "data": {
      "text/plain": [
       "Index(['behavior_session_id', 'ophys_experiment_id', 'project_code',\n",
       "       'session_name', 'session_type', 'equipment_name', 'date_of_acquisition',\n",
       "       'specimen_id', 'sex', 'age_in_days', 'full_genotype', 'reporter_line',\n",
       "       'driver_line'],\n",
       "      dtype='object')"
      ]
     },
     "execution_count": 7,
     "metadata": {},
     "output_type": "execute_result"
    }
   ],
   "source": [
    "# ophys sessions - can be multiple imaging planes (with unique experiment_ids) per session for Multiscope\n",
    "all_sessions = cache.get_session_table() \n",
    "all_sessions.keys()"
   ]
  },
  {
   "cell_type": "code",
   "execution_count": 8,
   "metadata": {},
   "outputs": [
    {
     "data": {
      "text/html": [
       "<div>\n",
       "<style scoped>\n",
       "    .dataframe tbody tr th:only-of-type {\n",
       "        vertical-align: middle;\n",
       "    }\n",
       "\n",
       "    .dataframe tbody tr th {\n",
       "        vertical-align: top;\n",
       "    }\n",
       "\n",
       "    .dataframe thead th {\n",
       "        text-align: right;\n",
       "    }\n",
       "</style>\n",
       "<table border=\"1\" class=\"dataframe\">\n",
       "  <thead>\n",
       "    <tr style=\"text-align: right;\">\n",
       "      <th></th>\n",
       "      <th>behavior_session_id</th>\n",
       "      <th>ophys_experiment_id</th>\n",
       "      <th>project_code</th>\n",
       "      <th>session_name</th>\n",
       "      <th>session_type</th>\n",
       "      <th>equipment_name</th>\n",
       "      <th>date_of_acquisition</th>\n",
       "      <th>specimen_id</th>\n",
       "      <th>sex</th>\n",
       "      <th>age_in_days</th>\n",
       "      <th>full_genotype</th>\n",
       "      <th>reporter_line</th>\n",
       "      <th>driver_line</th>\n",
       "    </tr>\n",
       "    <tr>\n",
       "      <th>ophys_session_id</th>\n",
       "      <th></th>\n",
       "      <th></th>\n",
       "      <th></th>\n",
       "      <th></th>\n",
       "      <th></th>\n",
       "      <th></th>\n",
       "      <th></th>\n",
       "      <th></th>\n",
       "      <th></th>\n",
       "      <th></th>\n",
       "      <th></th>\n",
       "      <th></th>\n",
       "      <th></th>\n",
       "    </tr>\n",
       "  </thead>\n",
       "  <tbody>\n",
       "    <tr>\n",
       "      <td>952430817</td>\n",
       "      <td>952554548</td>\n",
       "      <td>[953659741, 953659743, 953659745, 953659747, 9...</td>\n",
       "      <td>VisualBehaviorMultiscope</td>\n",
       "      <td>20190923_457841_2imagesA</td>\n",
       "      <td>OPHYS_2_images_A_passive</td>\n",
       "      <td>MESO.1</td>\n",
       "      <td>2019-09-23 08:13:07.627573</td>\n",
       "      <td>850862430</td>\n",
       "      <td>F</td>\n",
       "      <td>209.0</td>\n",
       "      <td>Sst-IRES-Cre/wt;Ai148(TIT2L-GC6f-ICL-tTA2)/wt</td>\n",
       "      <td>[Ai148(TIT2L-GC6f-ICL-tTA2)]</td>\n",
       "      <td>[Sst-IRES-Cre]</td>\n",
       "    </tr>\n",
       "    <tr>\n",
       "      <td>954954402</td>\n",
       "      <td>953982960</td>\n",
       "      <td>[958527464, 958527471, 958527474, 958527477, 9...</td>\n",
       "      <td>VisualBehaviorMultiscope</td>\n",
       "      <td>20190924_457841_3imagesA</td>\n",
       "      <td>OPHYS_3_images_A</td>\n",
       "      <td>MESO.1</td>\n",
       "      <td>2019-09-24 16:00:00.000000</td>\n",
       "      <td>850862430</td>\n",
       "      <td>F</td>\n",
       "      <td>210.0</td>\n",
       "      <td>Sst-IRES-Cre/wt;Ai148(TIT2L-GC6f-ICL-tTA2)/wt</td>\n",
       "      <td>[Ai148(TIT2L-GC6f-ICL-tTA2)]</td>\n",
       "      <td>[Sst-IRES-Cre]</td>\n",
       "    </tr>\n",
       "    <tr>\n",
       "      <td>955775716</td>\n",
       "      <td>956010809</td>\n",
       "      <td>[956941841, 956941844, 956941846, 956941848, 9...</td>\n",
       "      <td>VisualBehaviorMultiscope</td>\n",
       "      <td>20190926_457841_3imagesA</td>\n",
       "      <td>OPHYS_3_images_A</td>\n",
       "      <td>MESO.1</td>\n",
       "      <td>2019-09-26 08:44:37.199778</td>\n",
       "      <td>850862430</td>\n",
       "      <td>F</td>\n",
       "      <td>212.0</td>\n",
       "      <td>Sst-IRES-Cre/wt;Ai148(TIT2L-GC6f-ICL-tTA2)/wt</td>\n",
       "      <td>[Ai148(TIT2L-GC6f-ICL-tTA2)]</td>\n",
       "      <td>[Sst-IRES-Cre]</td>\n",
       "    </tr>\n",
       "    <tr>\n",
       "      <td>957020350</td>\n",
       "      <td>957032492</td>\n",
       "      <td>[957759562, 957759564, 957759566, 957759568, 9...</td>\n",
       "      <td>VisualBehaviorMultiscope</td>\n",
       "      <td>20190927_457841_4imagesB</td>\n",
       "      <td>OPHYS_4_images_B</td>\n",
       "      <td>MESO.1</td>\n",
       "      <td>2019-09-27 08:28:05.415005</td>\n",
       "      <td>850862430</td>\n",
       "      <td>F</td>\n",
       "      <td>213.0</td>\n",
       "      <td>Sst-IRES-Cre/wt;Ai148(TIT2L-GC6f-ICL-tTA2)/wt</td>\n",
       "      <td>[Ai148(TIT2L-GC6f-ICL-tTA2)]</td>\n",
       "      <td>[Sst-IRES-Cre]</td>\n",
       "    </tr>\n",
       "    <tr>\n",
       "      <td>958105827</td>\n",
       "      <td>958234742</td>\n",
       "      <td>[958741219, 958741222, 958741224, 958741226, 9...</td>\n",
       "      <td>VisualBehaviorMultiscope</td>\n",
       "      <td>20190930_457841_3imagesA</td>\n",
       "      <td>OPHYS_3_images_A</td>\n",
       "      <td>MESO.1</td>\n",
       "      <td>2019-09-30 08:24:24.860599</td>\n",
       "      <td>850862430</td>\n",
       "      <td>F</td>\n",
       "      <td>216.0</td>\n",
       "      <td>Sst-IRES-Cre/wt;Ai148(TIT2L-GC6f-ICL-tTA2)/wt</td>\n",
       "      <td>[Ai148(TIT2L-GC6f-ICL-tTA2)]</td>\n",
       "      <td>[Sst-IRES-Cre]</td>\n",
       "    </tr>\n",
       "  </tbody>\n",
       "</table>\n",
       "</div>"
      ],
      "text/plain": [
       "                  behavior_session_id  \\\n",
       "ophys_session_id                        \n",
       "952430817                   952554548   \n",
       "954954402                   953982960   \n",
       "955775716                   956010809   \n",
       "957020350                   957032492   \n",
       "958105827                   958234742   \n",
       "\n",
       "                                                ophys_experiment_id  \\\n",
       "ophys_session_id                                                      \n",
       "952430817         [953659741, 953659743, 953659745, 953659747, 9...   \n",
       "954954402         [958527464, 958527471, 958527474, 958527477, 9...   \n",
       "955775716         [956941841, 956941844, 956941846, 956941848, 9...   \n",
       "957020350         [957759562, 957759564, 957759566, 957759568, 9...   \n",
       "958105827         [958741219, 958741222, 958741224, 958741226, 9...   \n",
       "\n",
       "                              project_code              session_name  \\\n",
       "ophys_session_id                                                       \n",
       "952430817         VisualBehaviorMultiscope  20190923_457841_2imagesA   \n",
       "954954402         VisualBehaviorMultiscope  20190924_457841_3imagesA   \n",
       "955775716         VisualBehaviorMultiscope  20190926_457841_3imagesA   \n",
       "957020350         VisualBehaviorMultiscope  20190927_457841_4imagesB   \n",
       "958105827         VisualBehaviorMultiscope  20190930_457841_3imagesA   \n",
       "\n",
       "                              session_type equipment_name  \\\n",
       "ophys_session_id                                            \n",
       "952430817         OPHYS_2_images_A_passive         MESO.1   \n",
       "954954402                 OPHYS_3_images_A         MESO.1   \n",
       "955775716                 OPHYS_3_images_A         MESO.1   \n",
       "957020350                 OPHYS_4_images_B         MESO.1   \n",
       "958105827                 OPHYS_3_images_A         MESO.1   \n",
       "\n",
       "                         date_of_acquisition  specimen_id sex  age_in_days  \\\n",
       "ophys_session_id                                                             \n",
       "952430817         2019-09-23 08:13:07.627573    850862430   F        209.0   \n",
       "954954402         2019-09-24 16:00:00.000000    850862430   F        210.0   \n",
       "955775716         2019-09-26 08:44:37.199778    850862430   F        212.0   \n",
       "957020350         2019-09-27 08:28:05.415005    850862430   F        213.0   \n",
       "958105827         2019-09-30 08:24:24.860599    850862430   F        216.0   \n",
       "\n",
       "                                                  full_genotype  \\\n",
       "ophys_session_id                                                  \n",
       "952430817         Sst-IRES-Cre/wt;Ai148(TIT2L-GC6f-ICL-tTA2)/wt   \n",
       "954954402         Sst-IRES-Cre/wt;Ai148(TIT2L-GC6f-ICL-tTA2)/wt   \n",
       "955775716         Sst-IRES-Cre/wt;Ai148(TIT2L-GC6f-ICL-tTA2)/wt   \n",
       "957020350         Sst-IRES-Cre/wt;Ai148(TIT2L-GC6f-ICL-tTA2)/wt   \n",
       "958105827         Sst-IRES-Cre/wt;Ai148(TIT2L-GC6f-ICL-tTA2)/wt   \n",
       "\n",
       "                                 reporter_line     driver_line  \n",
       "ophys_session_id                                                \n",
       "952430817         [Ai148(TIT2L-GC6f-ICL-tTA2)]  [Sst-IRES-Cre]  \n",
       "954954402         [Ai148(TIT2L-GC6f-ICL-tTA2)]  [Sst-IRES-Cre]  \n",
       "955775716         [Ai148(TIT2L-GC6f-ICL-tTA2)]  [Sst-IRES-Cre]  \n",
       "957020350         [Ai148(TIT2L-GC6f-ICL-tTA2)]  [Sst-IRES-Cre]  \n",
       "958105827         [Ai148(TIT2L-GC6f-ICL-tTA2)]  [Sst-IRES-Cre]  "
      ]
     },
     "execution_count": 8,
     "metadata": {},
     "output_type": "execute_result"
    }
   ],
   "source": [
    "all_sessions.head(5)"
   ]
  },
  {
   "cell_type": "code",
   "execution_count": 9,
   "metadata": {},
   "outputs": [
    {
     "data": {
      "text/plain": [
       "Index(['ophys_session_id', 'behavior_session_id', 'container_id',\n",
       "       'project_code', 'container_workflow_state', 'experiment_workflow_state',\n",
       "       'session_name', 'session_type', 'equipment_name', 'date_of_acquisition',\n",
       "       'isi_experiment_id', 'specimen_id', 'sex', 'age_in_days',\n",
       "       'full_genotype', 'reporter_line', 'driver_line', 'imaging_depth',\n",
       "       'targeted_structure', 'published_at'],\n",
       "      dtype='object')"
      ]
     },
     "execution_count": 9,
     "metadata": {},
     "output_type": "execute_result"
    }
   ],
   "source": [
    "# ophys experiments - each unique imaging plane for Scientifica and Mesoscope\n",
    "all_experiments = cache.get_experiment_table() \n",
    "all_experiments.keys()"
   ]
  },
  {
   "cell_type": "code",
   "execution_count": 10,
   "metadata": {},
   "outputs": [
    {
     "data": {
      "text/html": [
       "<div>\n",
       "<style scoped>\n",
       "    .dataframe tbody tr th:only-of-type {\n",
       "        vertical-align: middle;\n",
       "    }\n",
       "\n",
       "    .dataframe tbody tr th {\n",
       "        vertical-align: top;\n",
       "    }\n",
       "\n",
       "    .dataframe thead th {\n",
       "        text-align: right;\n",
       "    }\n",
       "</style>\n",
       "<table border=\"1\" class=\"dataframe\">\n",
       "  <thead>\n",
       "    <tr style=\"text-align: right;\">\n",
       "      <th></th>\n",
       "      <th>ophys_session_id</th>\n",
       "      <th>behavior_session_id</th>\n",
       "      <th>container_id</th>\n",
       "      <th>project_code</th>\n",
       "      <th>container_workflow_state</th>\n",
       "      <th>experiment_workflow_state</th>\n",
       "      <th>session_name</th>\n",
       "      <th>session_type</th>\n",
       "      <th>equipment_name</th>\n",
       "      <th>date_of_acquisition</th>\n",
       "      <th>isi_experiment_id</th>\n",
       "      <th>specimen_id</th>\n",
       "      <th>sex</th>\n",
       "      <th>age_in_days</th>\n",
       "      <th>full_genotype</th>\n",
       "      <th>reporter_line</th>\n",
       "      <th>driver_line</th>\n",
       "      <th>imaging_depth</th>\n",
       "      <th>targeted_structure</th>\n",
       "      <th>published_at</th>\n",
       "    </tr>\n",
       "    <tr>\n",
       "      <th>ophys_experiment_id</th>\n",
       "      <th></th>\n",
       "      <th></th>\n",
       "      <th></th>\n",
       "      <th></th>\n",
       "      <th></th>\n",
       "      <th></th>\n",
       "      <th></th>\n",
       "      <th></th>\n",
       "      <th></th>\n",
       "      <th></th>\n",
       "      <th></th>\n",
       "      <th></th>\n",
       "      <th></th>\n",
       "      <th></th>\n",
       "      <th></th>\n",
       "      <th></th>\n",
       "      <th></th>\n",
       "      <th></th>\n",
       "      <th></th>\n",
       "      <th></th>\n",
       "    </tr>\n",
       "  </thead>\n",
       "  <tbody>\n",
       "    <tr>\n",
       "      <td>953659743</td>\n",
       "      <td>952430817</td>\n",
       "      <td>952554548</td>\n",
       "      <td>1018028345</td>\n",
       "      <td>VisualBehaviorMultiscope</td>\n",
       "      <td>holding</td>\n",
       "      <td>passed</td>\n",
       "      <td>20190923_457841_2imagesA</td>\n",
       "      <td>OPHYS_2_images_A_passive</td>\n",
       "      <td>MESO.1</td>\n",
       "      <td>2019-09-23 08:13:07.627573</td>\n",
       "      <td>858992726</td>\n",
       "      <td>850862430</td>\n",
       "      <td>F</td>\n",
       "      <td>209.0</td>\n",
       "      <td>Sst-IRES-Cre/wt;Ai148(TIT2L-GC6f-ICL-tTA2)/wt</td>\n",
       "      <td>[Ai148(TIT2L-GC6f-ICL-tTA2)]</td>\n",
       "      <td>[Sst-IRES-Cre]</td>\n",
       "      <td>225</td>\n",
       "      <td>VISp</td>\n",
       "      <td>NaN</td>\n",
       "    </tr>\n",
       "    <tr>\n",
       "      <td>953659747</td>\n",
       "      <td>952430817</td>\n",
       "      <td>952554548</td>\n",
       "      <td>1018028348</td>\n",
       "      <td>VisualBehaviorMultiscope</td>\n",
       "      <td>holding</td>\n",
       "      <td>failed</td>\n",
       "      <td>20190923_457841_2imagesA</td>\n",
       "      <td>OPHYS_2_images_A_passive</td>\n",
       "      <td>MESO.1</td>\n",
       "      <td>2019-09-23 08:13:07.627573</td>\n",
       "      <td>858992726</td>\n",
       "      <td>850862430</td>\n",
       "      <td>F</td>\n",
       "      <td>209.0</td>\n",
       "      <td>Sst-IRES-Cre/wt;Ai148(TIT2L-GC6f-ICL-tTA2)/wt</td>\n",
       "      <td>[Ai148(TIT2L-GC6f-ICL-tTA2)]</td>\n",
       "      <td>[Sst-IRES-Cre]</td>\n",
       "      <td>300</td>\n",
       "      <td>VISp</td>\n",
       "      <td>NaN</td>\n",
       "    </tr>\n",
       "    <tr>\n",
       "      <td>953659756</td>\n",
       "      <td>952430817</td>\n",
       "      <td>952554548</td>\n",
       "      <td>1018028360</td>\n",
       "      <td>VisualBehaviorMultiscope</td>\n",
       "      <td>holding</td>\n",
       "      <td>failed</td>\n",
       "      <td>20190923_457841_2imagesA</td>\n",
       "      <td>OPHYS_2_images_A_passive</td>\n",
       "      <td>MESO.1</td>\n",
       "      <td>2019-09-23 08:13:07.627573</td>\n",
       "      <td>858992726</td>\n",
       "      <td>850862430</td>\n",
       "      <td>F</td>\n",
       "      <td>209.0</td>\n",
       "      <td>Sst-IRES-Cre/wt;Ai148(TIT2L-GC6f-ICL-tTA2)/wt</td>\n",
       "      <td>[Ai148(TIT2L-GC6f-ICL-tTA2)]</td>\n",
       "      <td>[Sst-IRES-Cre]</td>\n",
       "      <td>300</td>\n",
       "      <td>VISl</td>\n",
       "      <td>NaN</td>\n",
       "    </tr>\n",
       "    <tr>\n",
       "      <td>953659749</td>\n",
       "      <td>952430817</td>\n",
       "      <td>952554548</td>\n",
       "      <td>1018028354</td>\n",
       "      <td>VisualBehaviorMultiscope</td>\n",
       "      <td>holding</td>\n",
       "      <td>passed</td>\n",
       "      <td>20190923_457841_2imagesA</td>\n",
       "      <td>OPHYS_2_images_A_passive</td>\n",
       "      <td>MESO.1</td>\n",
       "      <td>2019-09-23 08:13:07.627573</td>\n",
       "      <td>858992726</td>\n",
       "      <td>850862430</td>\n",
       "      <td>F</td>\n",
       "      <td>209.0</td>\n",
       "      <td>Sst-IRES-Cre/wt;Ai148(TIT2L-GC6f-ICL-tTA2)/wt</td>\n",
       "      <td>[Ai148(TIT2L-GC6f-ICL-tTA2)]</td>\n",
       "      <td>[Sst-IRES-Cre]</td>\n",
       "      <td>150</td>\n",
       "      <td>VISl</td>\n",
       "      <td>NaN</td>\n",
       "    </tr>\n",
       "    <tr>\n",
       "      <td>953659752</td>\n",
       "      <td>952430817</td>\n",
       "      <td>952554548</td>\n",
       "      <td>1018028357</td>\n",
       "      <td>VisualBehaviorMultiscope</td>\n",
       "      <td>holding</td>\n",
       "      <td>passed</td>\n",
       "      <td>20190923_457841_2imagesA</td>\n",
       "      <td>OPHYS_2_images_A_passive</td>\n",
       "      <td>MESO.1</td>\n",
       "      <td>2019-09-23 08:13:07.627573</td>\n",
       "      <td>858992726</td>\n",
       "      <td>850862430</td>\n",
       "      <td>F</td>\n",
       "      <td>209.0</td>\n",
       "      <td>Sst-IRES-Cre/wt;Ai148(TIT2L-GC6f-ICL-tTA2)/wt</td>\n",
       "      <td>[Ai148(TIT2L-GC6f-ICL-tTA2)]</td>\n",
       "      <td>[Sst-IRES-Cre]</td>\n",
       "      <td>225</td>\n",
       "      <td>VISl</td>\n",
       "      <td>NaN</td>\n",
       "    </tr>\n",
       "  </tbody>\n",
       "</table>\n",
       "</div>"
      ],
      "text/plain": [
       "                     ophys_session_id  behavior_session_id  container_id  \\\n",
       "ophys_experiment_id                                                        \n",
       "953659743                   952430817            952554548    1018028345   \n",
       "953659747                   952430817            952554548    1018028348   \n",
       "953659756                   952430817            952554548    1018028360   \n",
       "953659749                   952430817            952554548    1018028354   \n",
       "953659752                   952430817            952554548    1018028357   \n",
       "\n",
       "                                 project_code container_workflow_state  \\\n",
       "ophys_experiment_id                                                      \n",
       "953659743            VisualBehaviorMultiscope                  holding   \n",
       "953659747            VisualBehaviorMultiscope                  holding   \n",
       "953659756            VisualBehaviorMultiscope                  holding   \n",
       "953659749            VisualBehaviorMultiscope                  holding   \n",
       "953659752            VisualBehaviorMultiscope                  holding   \n",
       "\n",
       "                    experiment_workflow_state              session_name  \\\n",
       "ophys_experiment_id                                                       \n",
       "953659743                              passed  20190923_457841_2imagesA   \n",
       "953659747                              failed  20190923_457841_2imagesA   \n",
       "953659756                              failed  20190923_457841_2imagesA   \n",
       "953659749                              passed  20190923_457841_2imagesA   \n",
       "953659752                              passed  20190923_457841_2imagesA   \n",
       "\n",
       "                                 session_type equipment_name  \\\n",
       "ophys_experiment_id                                            \n",
       "953659743            OPHYS_2_images_A_passive         MESO.1   \n",
       "953659747            OPHYS_2_images_A_passive         MESO.1   \n",
       "953659756            OPHYS_2_images_A_passive         MESO.1   \n",
       "953659749            OPHYS_2_images_A_passive         MESO.1   \n",
       "953659752            OPHYS_2_images_A_passive         MESO.1   \n",
       "\n",
       "                            date_of_acquisition  isi_experiment_id  \\\n",
       "ophys_experiment_id                                                  \n",
       "953659743            2019-09-23 08:13:07.627573          858992726   \n",
       "953659747            2019-09-23 08:13:07.627573          858992726   \n",
       "953659756            2019-09-23 08:13:07.627573          858992726   \n",
       "953659749            2019-09-23 08:13:07.627573          858992726   \n",
       "953659752            2019-09-23 08:13:07.627573          858992726   \n",
       "\n",
       "                     specimen_id sex  age_in_days  \\\n",
       "ophys_experiment_id                                 \n",
       "953659743              850862430   F        209.0   \n",
       "953659747              850862430   F        209.0   \n",
       "953659756              850862430   F        209.0   \n",
       "953659749              850862430   F        209.0   \n",
       "953659752              850862430   F        209.0   \n",
       "\n",
       "                                                     full_genotype  \\\n",
       "ophys_experiment_id                                                  \n",
       "953659743            Sst-IRES-Cre/wt;Ai148(TIT2L-GC6f-ICL-tTA2)/wt   \n",
       "953659747            Sst-IRES-Cre/wt;Ai148(TIT2L-GC6f-ICL-tTA2)/wt   \n",
       "953659756            Sst-IRES-Cre/wt;Ai148(TIT2L-GC6f-ICL-tTA2)/wt   \n",
       "953659749            Sst-IRES-Cre/wt;Ai148(TIT2L-GC6f-ICL-tTA2)/wt   \n",
       "953659752            Sst-IRES-Cre/wt;Ai148(TIT2L-GC6f-ICL-tTA2)/wt   \n",
       "\n",
       "                                    reporter_line     driver_line  \\\n",
       "ophys_experiment_id                                                 \n",
       "953659743            [Ai148(TIT2L-GC6f-ICL-tTA2)]  [Sst-IRES-Cre]   \n",
       "953659747            [Ai148(TIT2L-GC6f-ICL-tTA2)]  [Sst-IRES-Cre]   \n",
       "953659756            [Ai148(TIT2L-GC6f-ICL-tTA2)]  [Sst-IRES-Cre]   \n",
       "953659749            [Ai148(TIT2L-GC6f-ICL-tTA2)]  [Sst-IRES-Cre]   \n",
       "953659752            [Ai148(TIT2L-GC6f-ICL-tTA2)]  [Sst-IRES-Cre]   \n",
       "\n",
       "                     imaging_depth targeted_structure  published_at  \n",
       "ophys_experiment_id                                                  \n",
       "953659743                      225               VISp           NaN  \n",
       "953659747                      300               VISp           NaN  \n",
       "953659756                      300               VISl           NaN  \n",
       "953659749                      150               VISl           NaN  \n",
       "953659752                      225               VISl           NaN  "
      ]
     },
     "execution_count": 10,
     "metadata": {},
     "output_type": "execute_result"
    }
   ],
   "source": [
    "all_experiments.head(5)"
   ]
  },
  {
   "cell_type": "code",
   "execution_count": 11,
   "metadata": {},
   "outputs": [
    {
     "data": {
      "text/plain": [
       "array(['VisualBehaviorMultiscope', 'VisualBehavior',\n",
       "       'VisBIntTestDatacube', 'VisualBehaviorTask1B',\n",
       "       'VisualBehaviorMultiscope4areasx2d',\n",
       "       'VisualBehaviorIntegrationTest'], dtype=object)"
      ]
     },
     "execution_count": 11,
     "metadata": {},
     "output_type": "execute_result"
    }
   ],
   "source": [
    "# this table includes multiple project codes, including development work\n",
    "all_experiments.project_code.unique()"
   ]
  },
  {
   "cell_type": "code",
   "execution_count": 12,
   "metadata": {},
   "outputs": [
    {
     "data": {
      "text/plain": [
       "array(['passed', 'failed', 'qc', 'processing', 'created'], dtype=object)"
      ]
     },
     "execution_count": 12,
     "metadata": {},
     "output_type": "execute_result"
    }
   ],
   "source": [
    "# this table includes experiments that failed QC\n",
    "all_experiments.experiment_workflow_state.unique()"
   ]
  },
  {
   "cell_type": "markdown",
   "metadata": {},
   "source": [
    "### get filtered experiments list for analysis "
   ]
  },
  {
   "cell_type": "markdown",
   "metadata": {},
   "source": [
    "#### The <c>get_filtered_ophys_experiment_table()</c> function in VBA returns a version of the experiments table after filtering out unwanted project codes and failed experiments"
   ]
  },
  {
   "cell_type": "code",
   "execution_count": 13,
   "metadata": {},
   "outputs": [],
   "source": [
    "experiments = loading.get_filtered_ophys_experiment_table()"
   ]
  },
  {
   "cell_type": "code",
   "execution_count": 14,
   "metadata": {},
   "outputs": [
    {
     "data": {
      "text/plain": [
       "array(['VisualBehaviorMultiscope', 'VisualBehaviorTask1B',\n",
       "       'VisualBehavior', 'VisualBehaviorMultiscope4areasx2d'],\n",
       "      dtype=object)"
      ]
     },
     "execution_count": 14,
     "metadata": {},
     "output_type": "execute_result"
    }
   ],
   "source": [
    "# this table only includes project codes we want to analyze\n",
    "experiments.project_code.unique()"
   ]
  },
  {
   "cell_type": "code",
   "execution_count": 15,
   "metadata": {},
   "outputs": [
    {
     "data": {
      "text/plain": [
       "array(['passed'], dtype=object)"
      ]
     },
     "execution_count": 15,
     "metadata": {},
     "output_type": "execute_result"
    }
   ],
   "source": [
    "# this table only inclues experiments that passed QC \n",
    "experiments.experiment_workflow_state.unique()"
   ]
  },
  {
   "cell_type": "code",
   "execution_count": 16,
   "metadata": {},
   "outputs": [
    {
     "data": {
      "text/plain": [
       "Index(['ophys_session_id', 'behavior_session_id', 'container_id',\n",
       "       'project_code', 'container_workflow_state', 'experiment_workflow_state',\n",
       "       'session_name', 'session_type', 'equipment_name', 'date_of_acquisition',\n",
       "       'isi_experiment_id', 'specimen_id', 'sex', 'age_in_days',\n",
       "       'full_genotype', 'reporter_line', 'driver_line', 'imaging_depth',\n",
       "       'targeted_structure', 'published_at', 'super_container_id', 'cre_line',\n",
       "       'session_tags', 'failure_tags', 'exposure_number', 'location'],\n",
       "      dtype='object')"
      ]
     },
     "execution_count": 16,
     "metadata": {},
     "output_type": "execute_result"
    }
   ],
   "source": [
    "# information available in the experiments table\n",
    "experiments.keys()"
   ]
  },
  {
   "cell_type": "markdown",
   "metadata": {},
   "source": [
    "### get passing Multiscope experiments only"
   ]
  },
  {
   "cell_type": "markdown",
   "metadata": {},
   "source": [
    "#### filter by project code to get Multiscope experiments only"
   ]
  },
  {
   "cell_type": "code",
   "execution_count": 17,
   "metadata": {},
   "outputs": [],
   "source": [
    "expts = loading.get_filtered_ophys_experiment_table()"
   ]
  },
  {
   "cell_type": "code",
   "execution_count": 18,
   "metadata": {},
   "outputs": [],
   "source": [
    "multiscope_experiments = expts[expts.project_code.isin(['VisualBehaviorMultiscope','VisualBehaviorMultiscope4areasx2d'])]"
   ]
  },
  {
   "cell_type": "code",
   "execution_count": 19,
   "metadata": {},
   "outputs": [
    {
     "data": {
      "text/plain": [
       "array(['VisualBehaviorMultiscope', 'VisualBehaviorMultiscope4areasx2d'],\n",
       "      dtype=object)"
      ]
     },
     "execution_count": 19,
     "metadata": {},
     "output_type": "execute_result"
    }
   ],
   "source": [
    "# this table only includes project codes we want to analyze\n",
    "multiscope_experiments.project_code.unique()"
   ]
  },
  {
   "cell_type": "code",
   "execution_count": 20,
   "metadata": {},
   "outputs": [
    {
     "data": {
      "text/plain": [
       "array(['holding'], dtype=object)"
      ]
     },
     "execution_count": 20,
     "metadata": {},
     "output_type": "execute_result"
    }
   ],
   "source": [
    "# most multiscope experiments have not had final container QC yet \n",
    "multiscope_experiments.container_workflow_state.unique()"
   ]
  },
  {
   "cell_type": "markdown",
   "metadata": {},
   "source": [
    "### describe the dataset - how many containers or mice per cre line and area?"
   ]
  },
  {
   "cell_type": "code",
   "execution_count": 21,
   "metadata": {},
   "outputs": [],
   "source": [
    "# production project codes\n",
    "project_codes = ['VisualBehavior','VisualBehaviorTask1B','VisualBehaviorMultiscope','VisualBehaviorMultiscope4areasx2d']"
   ]
  },
  {
   "cell_type": "markdown",
   "metadata": {},
   "source": [
    "#### get all containers, including ones in 'holding' (no final container QC, but individual experiments have passed QC)"
   ]
  },
  {
   "cell_type": "code",
   "execution_count": 22,
   "metadata": {
    "scrolled": true
   },
   "outputs": [],
   "source": [
    "# handy function in VBA to get a container summary dataframe\n",
    "container_df = loading.build_container_df()"
   ]
  },
  {
   "cell_type": "code",
   "execution_count": 23,
   "metadata": {},
   "outputs": [
    {
     "data": {
      "text/html": [
       "<div>\n",
       "<style scoped>\n",
       "    .dataframe tbody tr th:only-of-type {\n",
       "        vertical-align: middle;\n",
       "    }\n",
       "\n",
       "    .dataframe tbody tr th {\n",
       "        vertical-align: top;\n",
       "    }\n",
       "\n",
       "    .dataframe thead th {\n",
       "        text-align: right;\n",
       "    }\n",
       "</style>\n",
       "<table border=\"1\" class=\"dataframe\">\n",
       "  <thead>\n",
       "    <tr style=\"text-align: right;\">\n",
       "      <th></th>\n",
       "      <th></th>\n",
       "      <th></th>\n",
       "      <th>n_containers</th>\n",
       "    </tr>\n",
       "    <tr>\n",
       "      <th>project_code</th>\n",
       "      <th>cre_line</th>\n",
       "      <th>targeted_structure</th>\n",
       "      <th></th>\n",
       "    </tr>\n",
       "  </thead>\n",
       "  <tbody>\n",
       "    <tr>\n",
       "      <td rowspan=\"3\" valign=\"top\">VisualBehavior</td>\n",
       "      <td>Slc17a7-IRES2-Cre</td>\n",
       "      <td>VISp</td>\n",
       "      <td>25</td>\n",
       "    </tr>\n",
       "    <tr>\n",
       "      <td>Sst-IRES-Cre</td>\n",
       "      <td>VISp</td>\n",
       "      <td>2</td>\n",
       "    </tr>\n",
       "    <tr>\n",
       "      <td>Vip-IRES-Cre</td>\n",
       "      <td>VISp</td>\n",
       "      <td>4</td>\n",
       "    </tr>\n",
       "    <tr>\n",
       "      <td rowspan=\"3\" valign=\"top\">VisualBehaviorTask1B</td>\n",
       "      <td>Slc17a7-IRES2-Cre</td>\n",
       "      <td>VISp</td>\n",
       "      <td>9</td>\n",
       "    </tr>\n",
       "    <tr>\n",
       "      <td>Sst-IRES-Cre</td>\n",
       "      <td>VISp</td>\n",
       "      <td>7</td>\n",
       "    </tr>\n",
       "    <tr>\n",
       "      <td>Vip-IRES-Cre</td>\n",
       "      <td>VISp</td>\n",
       "      <td>6</td>\n",
       "    </tr>\n",
       "    <tr>\n",
       "      <td rowspan=\"6\" valign=\"top\">VisualBehaviorMultiscope</td>\n",
       "      <td rowspan=\"2\" valign=\"top\">Slc17a7-IRES2-Cre</td>\n",
       "      <td>VISl</td>\n",
       "      <td>35</td>\n",
       "    </tr>\n",
       "    <tr>\n",
       "      <td>VISp</td>\n",
       "      <td>35</td>\n",
       "    </tr>\n",
       "    <tr>\n",
       "      <td rowspan=\"2\" valign=\"top\">Sst-IRES-Cre</td>\n",
       "      <td>VISl</td>\n",
       "      <td>20</td>\n",
       "    </tr>\n",
       "    <tr>\n",
       "      <td>VISp</td>\n",
       "      <td>20</td>\n",
       "    </tr>\n",
       "    <tr>\n",
       "      <td rowspan=\"2\" valign=\"top\">Vip-IRES-Cre</td>\n",
       "      <td>VISl</td>\n",
       "      <td>35</td>\n",
       "    </tr>\n",
       "    <tr>\n",
       "      <td>VISp</td>\n",
       "      <td>35</td>\n",
       "    </tr>\n",
       "    <tr>\n",
       "      <td rowspan=\"12\" valign=\"top\">VisualBehaviorMultiscope4areasx2d</td>\n",
       "      <td rowspan=\"4\" valign=\"top\">Slc17a7-IRES2-Cre</td>\n",
       "      <td>VISal</td>\n",
       "      <td>10</td>\n",
       "    </tr>\n",
       "    <tr>\n",
       "      <td>VISam</td>\n",
       "      <td>10</td>\n",
       "    </tr>\n",
       "    <tr>\n",
       "      <td>VISl</td>\n",
       "      <td>10</td>\n",
       "    </tr>\n",
       "    <tr>\n",
       "      <td>VISp</td>\n",
       "      <td>10</td>\n",
       "    </tr>\n",
       "    <tr>\n",
       "      <td rowspan=\"4\" valign=\"top\">Sst-IRES-Cre</td>\n",
       "      <td>VISal</td>\n",
       "      <td>2</td>\n",
       "    </tr>\n",
       "    <tr>\n",
       "      <td>VISam</td>\n",
       "      <td>2</td>\n",
       "    </tr>\n",
       "    <tr>\n",
       "      <td>VISl</td>\n",
       "      <td>2</td>\n",
       "    </tr>\n",
       "    <tr>\n",
       "      <td>VISp</td>\n",
       "      <td>2</td>\n",
       "    </tr>\n",
       "    <tr>\n",
       "      <td rowspan=\"4\" valign=\"top\">Vip-IRES-Cre</td>\n",
       "      <td>VISal</td>\n",
       "      <td>5</td>\n",
       "    </tr>\n",
       "    <tr>\n",
       "      <td>VISam</td>\n",
       "      <td>5</td>\n",
       "    </tr>\n",
       "    <tr>\n",
       "      <td>VISl</td>\n",
       "      <td>6</td>\n",
       "    </tr>\n",
       "    <tr>\n",
       "      <td>VISp</td>\n",
       "      <td>6</td>\n",
       "    </tr>\n",
       "  </tbody>\n",
       "</table>\n",
       "</div>"
      ],
      "text/plain": [
       "                                                                        n_containers\n",
       "project_code                      cre_line          targeted_structure              \n",
       "VisualBehavior                    Slc17a7-IRES2-Cre VISp                          25\n",
       "                                  Sst-IRES-Cre      VISp                           2\n",
       "                                  Vip-IRES-Cre      VISp                           4\n",
       "VisualBehaviorTask1B              Slc17a7-IRES2-Cre VISp                           9\n",
       "                                  Sst-IRES-Cre      VISp                           7\n",
       "                                  Vip-IRES-Cre      VISp                           6\n",
       "VisualBehaviorMultiscope          Slc17a7-IRES2-Cre VISl                          35\n",
       "                                                    VISp                          35\n",
       "                                  Sst-IRES-Cre      VISl                          20\n",
       "                                                    VISp                          20\n",
       "                                  Vip-IRES-Cre      VISl                          35\n",
       "                                                    VISp                          35\n",
       "VisualBehaviorMultiscope4areasx2d Slc17a7-IRES2-Cre VISal                         10\n",
       "                                                    VISam                         10\n",
       "                                                    VISl                          10\n",
       "                                                    VISp                          10\n",
       "                                  Sst-IRES-Cre      VISal                          2\n",
       "                                                    VISam                          2\n",
       "                                                    VISl                           2\n",
       "                                                    VISp                           2\n",
       "                                  Vip-IRES-Cre      VISal                          5\n",
       "                                                    VISam                          5\n",
       "                                                    VISl                           6\n",
       "                                                    VISp                           6"
      ]
     },
     "execution_count": 23,
     "metadata": {},
     "output_type": "execute_result"
    }
   ],
   "source": [
    "df = container_df.groupby(['project_code','cre_line','targeted_structure'], sort=True).count()[['container_id']].rename(columns={'container_id':'n_containers'})\n",
    "df = df.reindex(project_codes, level=0)\n",
    "df"
   ]
  },
  {
   "cell_type": "markdown",
   "metadata": {},
   "source": [
    "#### how many mice per condition? "
   ]
  },
  {
   "cell_type": "code",
   "execution_count": 24,
   "metadata": {},
   "outputs": [
    {
     "data": {
      "text/html": [
       "<div>\n",
       "<style scoped>\n",
       "    .dataframe tbody tr th:only-of-type {\n",
       "        vertical-align: middle;\n",
       "    }\n",
       "\n",
       "    .dataframe tbody tr th {\n",
       "        vertical-align: top;\n",
       "    }\n",
       "\n",
       "    .dataframe thead th {\n",
       "        text-align: right;\n",
       "    }\n",
       "</style>\n",
       "<table border=\"1\" class=\"dataframe\">\n",
       "  <thead>\n",
       "    <tr style=\"text-align: right;\">\n",
       "      <th></th>\n",
       "      <th></th>\n",
       "      <th>n_mice</th>\n",
       "    </tr>\n",
       "    <tr>\n",
       "      <th>project_code</th>\n",
       "      <th>cre_line</th>\n",
       "      <th></th>\n",
       "    </tr>\n",
       "  </thead>\n",
       "  <tbody>\n",
       "    <tr>\n",
       "      <td rowspan=\"3\" valign=\"top\">VisualBehavior</td>\n",
       "      <td>Slc17a7-IRES2-Cre</td>\n",
       "      <td>25</td>\n",
       "    </tr>\n",
       "    <tr>\n",
       "      <td>Sst-IRES-Cre</td>\n",
       "      <td>2</td>\n",
       "    </tr>\n",
       "    <tr>\n",
       "      <td>Vip-IRES-Cre</td>\n",
       "      <td>4</td>\n",
       "    </tr>\n",
       "    <tr>\n",
       "      <td rowspan=\"3\" valign=\"top\">VisualBehaviorTask1B</td>\n",
       "      <td>Slc17a7-IRES2-Cre</td>\n",
       "      <td>9</td>\n",
       "    </tr>\n",
       "    <tr>\n",
       "      <td>Sst-IRES-Cre</td>\n",
       "      <td>7</td>\n",
       "    </tr>\n",
       "    <tr>\n",
       "      <td>Vip-IRES-Cre</td>\n",
       "      <td>6</td>\n",
       "    </tr>\n",
       "    <tr>\n",
       "      <td rowspan=\"3\" valign=\"top\">VisualBehaviorMultiscope</td>\n",
       "      <td>Slc17a7-IRES2-Cre</td>\n",
       "      <td>9</td>\n",
       "    </tr>\n",
       "    <tr>\n",
       "      <td>Sst-IRES-Cre</td>\n",
       "      <td>5</td>\n",
       "    </tr>\n",
       "    <tr>\n",
       "      <td>Vip-IRES-Cre</td>\n",
       "      <td>9</td>\n",
       "    </tr>\n",
       "    <tr>\n",
       "      <td rowspan=\"3\" valign=\"top\">VisualBehaviorMultiscope4areasx2d</td>\n",
       "      <td>Slc17a7-IRES2-Cre</td>\n",
       "      <td>5</td>\n",
       "    </tr>\n",
       "    <tr>\n",
       "      <td>Sst-IRES-Cre</td>\n",
       "      <td>1</td>\n",
       "    </tr>\n",
       "    <tr>\n",
       "      <td>Vip-IRES-Cre</td>\n",
       "      <td>3</td>\n",
       "    </tr>\n",
       "  </tbody>\n",
       "</table>\n",
       "</div>"
      ],
      "text/plain": [
       "                                                     n_mice\n",
       "project_code                      cre_line                 \n",
       "VisualBehavior                    Slc17a7-IRES2-Cre      25\n",
       "                                  Sst-IRES-Cre            2\n",
       "                                  Vip-IRES-Cre            4\n",
       "VisualBehaviorTask1B              Slc17a7-IRES2-Cre       9\n",
       "                                  Sst-IRES-Cre            7\n",
       "                                  Vip-IRES-Cre            6\n",
       "VisualBehaviorMultiscope          Slc17a7-IRES2-Cre       9\n",
       "                                  Sst-IRES-Cre            5\n",
       "                                  Vip-IRES-Cre            9\n",
       "VisualBehaviorMultiscope4areasx2d Slc17a7-IRES2-Cre       5\n",
       "                                  Sst-IRES-Cre            1\n",
       "                                  Vip-IRES-Cre            3"
      ]
     },
     "execution_count": 24,
     "metadata": {},
     "output_type": "execute_result"
    }
   ],
   "source": [
    "mouse_summary = container_df.groupby(['project_code','cre_line','specimen_id'], sort=True).count().reset_index()\n",
    "df = mouse_summary.groupby(['project_code','cre_line']).count()[['specimen_id']].rename(columns={'specimen_id':'n_mice'})\n",
    "df = df.reindex(project_codes, level=0)\n",
    "df"
   ]
  },
  {
   "cell_type": "markdown",
   "metadata": {},
   "source": [
    "### how many containers & mice have had final container QC completed? "
   ]
  },
  {
   "cell_type": "code",
   "execution_count": 25,
   "metadata": {},
   "outputs": [],
   "source": [
    "# QC'd containers have container_workflow_state of completed or container_qc\n",
    "container_df = container_df[container_df.container_workflow_state.isin(['completed','container_qc'])]"
   ]
  },
  {
   "cell_type": "code",
   "execution_count": 26,
   "metadata": {
    "scrolled": true
   },
   "outputs": [
    {
     "data": {
      "text/html": [
       "<div>\n",
       "<style scoped>\n",
       "    .dataframe tbody tr th:only-of-type {\n",
       "        vertical-align: middle;\n",
       "    }\n",
       "\n",
       "    .dataframe tbody tr th {\n",
       "        vertical-align: top;\n",
       "    }\n",
       "\n",
       "    .dataframe thead th {\n",
       "        text-align: right;\n",
       "    }\n",
       "</style>\n",
       "<table border=\"1\" class=\"dataframe\">\n",
       "  <thead>\n",
       "    <tr style=\"text-align: right;\">\n",
       "      <th></th>\n",
       "      <th></th>\n",
       "      <th></th>\n",
       "      <th>n_containers</th>\n",
       "    </tr>\n",
       "    <tr>\n",
       "      <th>project_code</th>\n",
       "      <th>cre_line</th>\n",
       "      <th>targeted_structure</th>\n",
       "      <th></th>\n",
       "    </tr>\n",
       "  </thead>\n",
       "  <tbody>\n",
       "    <tr>\n",
       "      <td rowspan=\"3\" valign=\"top\">VisualBehavior</td>\n",
       "      <td>Slc17a7-IRES2-Cre</td>\n",
       "      <td>VISp</td>\n",
       "      <td>25</td>\n",
       "    </tr>\n",
       "    <tr>\n",
       "      <td>Sst-IRES-Cre</td>\n",
       "      <td>VISp</td>\n",
       "      <td>1</td>\n",
       "    </tr>\n",
       "    <tr>\n",
       "      <td>Vip-IRES-Cre</td>\n",
       "      <td>VISp</td>\n",
       "      <td>4</td>\n",
       "    </tr>\n",
       "    <tr>\n",
       "      <td rowspan=\"3\" valign=\"top\">VisualBehaviorTask1B</td>\n",
       "      <td>Slc17a7-IRES2-Cre</td>\n",
       "      <td>VISp</td>\n",
       "      <td>8</td>\n",
       "    </tr>\n",
       "    <tr>\n",
       "      <td>Sst-IRES-Cre</td>\n",
       "      <td>VISp</td>\n",
       "      <td>4</td>\n",
       "    </tr>\n",
       "    <tr>\n",
       "      <td>Vip-IRES-Cre</td>\n",
       "      <td>VISp</td>\n",
       "      <td>3</td>\n",
       "    </tr>\n",
       "  </tbody>\n",
       "</table>\n",
       "</div>"
      ],
      "text/plain": [
       "                                                           n_containers\n",
       "project_code         cre_line          targeted_structure              \n",
       "VisualBehavior       Slc17a7-IRES2-Cre VISp                          25\n",
       "                     Sst-IRES-Cre      VISp                           1\n",
       "                     Vip-IRES-Cre      VISp                           4\n",
       "VisualBehaviorTask1B Slc17a7-IRES2-Cre VISp                           8\n",
       "                     Sst-IRES-Cre      VISp                           4\n",
       "                     Vip-IRES-Cre      VISp                           3"
      ]
     },
     "execution_count": 26,
     "metadata": {},
     "output_type": "execute_result"
    }
   ],
   "source": [
    "df = container_df.groupby(['project_code','cre_line','targeted_structure'], sort=True).count()[['container_id']].rename(columns={'container_id':'n_containers'})\n",
    "df = df.reindex(project_codes, level=0)\n",
    "df"
   ]
  },
  {
   "cell_type": "markdown",
   "metadata": {},
   "source": [
    "#### how many mice per condition?"
   ]
  },
  {
   "cell_type": "code",
   "execution_count": 27,
   "metadata": {},
   "outputs": [
    {
     "data": {
      "text/html": [
       "<div>\n",
       "<style scoped>\n",
       "    .dataframe tbody tr th:only-of-type {\n",
       "        vertical-align: middle;\n",
       "    }\n",
       "\n",
       "    .dataframe tbody tr th {\n",
       "        vertical-align: top;\n",
       "    }\n",
       "\n",
       "    .dataframe thead th {\n",
       "        text-align: right;\n",
       "    }\n",
       "</style>\n",
       "<table border=\"1\" class=\"dataframe\">\n",
       "  <thead>\n",
       "    <tr style=\"text-align: right;\">\n",
       "      <th></th>\n",
       "      <th></th>\n",
       "      <th>n_mice</th>\n",
       "    </tr>\n",
       "    <tr>\n",
       "      <th>project_code</th>\n",
       "      <th>cre_line</th>\n",
       "      <th></th>\n",
       "    </tr>\n",
       "  </thead>\n",
       "  <tbody>\n",
       "    <tr>\n",
       "      <td rowspan=\"3\" valign=\"top\">VisualBehavior</td>\n",
       "      <td>Slc17a7-IRES2-Cre</td>\n",
       "      <td>25</td>\n",
       "    </tr>\n",
       "    <tr>\n",
       "      <td>Sst-IRES-Cre</td>\n",
       "      <td>1</td>\n",
       "    </tr>\n",
       "    <tr>\n",
       "      <td>Vip-IRES-Cre</td>\n",
       "      <td>4</td>\n",
       "    </tr>\n",
       "    <tr>\n",
       "      <td rowspan=\"3\" valign=\"top\">VisualBehaviorTask1B</td>\n",
       "      <td>Slc17a7-IRES2-Cre</td>\n",
       "      <td>8</td>\n",
       "    </tr>\n",
       "    <tr>\n",
       "      <td>Sst-IRES-Cre</td>\n",
       "      <td>4</td>\n",
       "    </tr>\n",
       "    <tr>\n",
       "      <td>Vip-IRES-Cre</td>\n",
       "      <td>3</td>\n",
       "    </tr>\n",
       "  </tbody>\n",
       "</table>\n",
       "</div>"
      ],
      "text/plain": [
       "                                        n_mice\n",
       "project_code         cre_line                 \n",
       "VisualBehavior       Slc17a7-IRES2-Cre      25\n",
       "                     Sst-IRES-Cre            1\n",
       "                     Vip-IRES-Cre            4\n",
       "VisualBehaviorTask1B Slc17a7-IRES2-Cre       8\n",
       "                     Sst-IRES-Cre            4\n",
       "                     Vip-IRES-Cre            3"
      ]
     },
     "execution_count": 27,
     "metadata": {},
     "output_type": "execute_result"
    }
   ],
   "source": [
    "mouse_summary = container_df.groupby(['project_code','cre_line','specimen_id'], sort=True).count().reset_index()\n",
    "df = mouse_summary.groupby(['project_code','cre_line']).count()[['specimen_id']].rename(columns={'specimen_id':'n_mice'})\n",
    "df = df.reindex(project_codes, level=0)\n",
    "df"
   ]
  },
  {
   "cell_type": "code",
   "execution_count": null,
   "metadata": {},
   "outputs": [],
   "source": []
  },
  {
   "cell_type": "code",
   "execution_count": null,
   "metadata": {},
   "outputs": [],
   "source": []
  },
  {
   "cell_type": "code",
   "execution_count": null,
   "metadata": {},
   "outputs": [],
   "source": []
  },
  {
   "cell_type": "code",
   "execution_count": null,
   "metadata": {},
   "outputs": [],
   "source": []
  }
 ],
 "metadata": {
  "kernelspec": {
   "display_name": "visual_behavior_sdk",
   "language": "python",
   "name": "visual_behavior_sdk"
  },
  "language_info": {
   "codemirror_mode": {
    "name": "ipython",
    "version": 3
   },
   "file_extension": ".py",
   "mimetype": "text/x-python",
   "name": "python",
   "nbconvert_exporter": "python",
   "pygments_lexer": "ipython3",
   "version": "3.7.3"
  }
 },
 "nbformat": 4,
 "nbformat_minor": 2
}
