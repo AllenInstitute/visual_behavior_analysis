{
 "cells": [
  {
   "cell_type": "code",
   "execution_count": 1,
   "metadata": {},
   "outputs": [],
   "source": [
    "import os\n",
    "import numpy as np\n",
    "import pandas as pd\n",
    "from tqdm import tqdm\n",
    "import matplotlib.pyplot as plt\n",
    "\n",
    "import seaborn as sns\n",
    "sns.set_context('notebook', font_scale=1.5, rc={'lines.markeredgewidth': 2})"
   ]
  },
  {
   "cell_type": "code",
   "execution_count": 2,
   "metadata": {},
   "outputs": [],
   "source": [
    "%load_ext autoreload\n",
    "%autoreload 2\n",
    "\n",
    "%matplotlib inline"
   ]
  },
  {
   "cell_type": "code",
   "execution_count": 3,
   "metadata": {},
   "outputs": [],
   "source": [
    "from visual_behavior.data_access import loading as loading\n",
    "from allensdk.brain_observatory.behavior.behavior_project_cache import VisualBehaviorOphysProjectCache\n"
   ]
  },
  {
   "cell_type": "code",
   "execution_count": 4,
   "metadata": {},
   "outputs": [],
   "source": [
    "import visual_behavior.utilities as vbu\n",
    "import visual_behavior.visualization.utils as utils\n",
    "import visual_behavior.data_access.utilities as utilities\n",
    "\n",
    "import visual_behavior.visualization.ophys.platform_paper_figures as ppf\n",
    "import visual_behavior.visualization.ophys.summary_figures as sf\n",
    "import visual_behavior.visualization.ophys.experiment_summary_figures as df"
   ]
  },
  {
   "cell_type": "markdown",
   "metadata": {},
   "source": [
    "### load behavior_sessions "
   ]
  },
  {
   "cell_type": "code",
   "execution_count": 5,
   "metadata": {},
   "outputs": [
    {
     "name": "stdout",
     "output_type": "stream",
     "text": [
      "1249\n"
     ]
    }
   ],
   "source": [
    "experiments_table = loading.get_platform_paper_experiment_table()\n",
    "print(len(experiments_table))"
   ]
  },
  {
   "cell_type": "code",
   "execution_count": 6,
   "metadata": {},
   "outputs": [],
   "source": [
    "cells_table = loading.get_cell_table()"
   ]
  },
  {
   "cell_type": "code",
   "execution_count": 7,
   "metadata": {},
   "outputs": [
    {
     "name": "stdout",
     "output_type": "stream",
     "text": [
      "4345\n",
      "1249\n"
     ]
    }
   ],
   "source": [
    "original_behavior_sessions = loading.get_platform_paper_behavior_session_table()\n",
    "print(len(original_behavior_sessions.index.unique()))\n",
    "print(len(original_behavior_sessions.loc[experiments_table.behavior_session_id.values]))"
   ]
  },
  {
   "cell_type": "markdown",
   "metadata": {},
   "source": [
    "### add experience level and limit to training 4&5"
   ]
  },
  {
   "cell_type": "code",
   "execution_count": 8,
   "metadata": {},
   "outputs": [],
   "source": [
    "session_types = ['TRAINING_4_images_A_handoff_ready',\n",
    "                   'TRAINING_5_images_A_epilogue',\n",
    "                   'TRAINING_5_images_A_handoff_ready',\n",
    "                   'TRAINING_5_images_B_epilogue',\n",
    "                   'TRAINING_5_images_B_handoff_ready',]"
   ]
  },
  {
   "cell_type": "code",
   "execution_count": 9,
   "metadata": {},
   "outputs": [
    {
     "name": "stdout",
     "output_type": "stream",
     "text": [
      "4345\n",
      "[nan 'Familiar' 'Novel 1' 'Novel >1']\n",
      "4345\n",
      "[nan 'Familiar' 'Novel 1' 'Novel >1']\n",
      "4345\n",
      "[nan 'Training' 'Familiar' 'Novel 1' 'Novel >1']\n",
      "1472\n"
     ]
    }
   ],
   "source": [
    "# add experience level\n",
    "behavior_sessions = original_behavior_sessions.merge(experiments_table[['behavior_session_id', 'experience_level']], on='behavior_session_id', how='left')\n",
    "# drop duplicates\n",
    "behavior_sessions = behavior_sessions.drop_duplicates(subset='behavior_session_id')\n",
    "print(len(behavior_sessions.behavior_session_id.unique()))\n",
    "print(behavior_sessions.experience_level.unique())\n",
    "# reset index\n",
    "behavior_sessions = behavior_sessions.set_index('behavior_session_id')\n",
    "print(len(behavior_sessions.index.unique()))\n",
    "print(behavior_sessions.experience_level.unique())\n",
    "# set sessions 4 & 5 to 'Training'\n",
    "indices = behavior_sessions[behavior_sessions.session_type.isin(session_types)].index.values\n",
    "behavior_sessions.loc[indices, 'experience_level'] = 'Training'\n",
    "print(len(behavior_sessions.index.unique()))\n",
    "print(behavior_sessions.experience_level.unique())\n",
    "# drop NA\n",
    "behavior_sessions = behavior_sessions[behavior_sessions.experience_level.isnull()==False]\n",
    "print(len(behavior_sessions.index.unique()))\n"
   ]
  },
  {
   "cell_type": "code",
   "execution_count": 10,
   "metadata": {},
   "outputs": [
    {
     "name": "stdout",
     "output_type": "stream",
     "text": [
      "1249\n",
      "545\n"
     ]
    }
   ],
   "source": [
    "# all behavior sessions in expts table are in behavior_sessions\n",
    "print(len(behavior_sessions.loc[experiments_table.behavior_session_id.values]))\n",
    "# but there are multiple behavior sessions per experiment ID, \n",
    "# so the actual number of ophys sessions in behavior_sessions is less\n",
    "# number of ophys sessions\n",
    "print(len(behavior_sessions[behavior_sessions.session_type.str.contains('OPHYS')==True]))"
   ]
  },
  {
   "cell_type": "code",
   "execution_count": 11,
   "metadata": {},
   "outputs": [
    {
     "data": {
      "text/plain": [
       "927"
      ]
     },
     "execution_count": 11,
     "metadata": {},
     "output_type": "execute_result"
    }
   ],
   "source": [
    "# number of behavior sessions\n",
    "len(behavior_sessions[behavior_sessions.session_type.str.contains('OPHYS')==False])"
   ]
  },
  {
   "cell_type": "markdown",
   "metadata": {},
   "source": [
    "### load metrics data"
   ]
  },
  {
   "cell_type": "code",
   "execution_count": 12,
   "metadata": {
    "scrolled": true
   },
   "outputs": [
    {
     "name": "stderr",
     "output_type": "stream",
     "text": [
      "  2%|█▊                                                                              | 33/1472 [00:01<01:02, 23.06it/s]"
     ]
    },
    {
     "name": "stdout",
     "output_type": "stream",
     "text": [
      "cant load stats for 952554548\n",
      "cant load stats for 958888263\n"
     ]
    },
    {
     "name": "stderr",
     "output_type": "stream",
     "text": [
      "  4%|██▊                                                                             | 52/1472 [00:02<00:48, 29.35it/s]"
     ]
    },
    {
     "name": "stdout",
     "output_type": "stream",
     "text": [
      "cant load stats for 993995204\n"
     ]
    },
    {
     "name": "stderr",
     "output_type": "stream",
     "text": [
      "  4%|███▎                                                                            | 60/1472 [00:02<00:48, 29.37it/s]"
     ]
    },
    {
     "name": "stdout",
     "output_type": "stream",
     "text": [
      "cant load stats for 995570835\n"
     ]
    },
    {
     "name": "stderr",
     "output_type": "stream",
     "text": [
      "\r",
      "  4%|███▍                                                                            | 64/1472 [00:02<00:51, 27.20it/s]"
     ]
    },
    {
     "name": "stdout",
     "output_type": "stream",
     "text": [
      "cant load stats for 796052844\n"
     ]
    },
    {
     "name": "stderr",
     "output_type": "stream",
     "text": [
      "C:\\Users\\marinag\\Anaconda3\\envs\\visual_behavior_sdk\\lib\\site-packages\\ipykernel_launcher.py:8: FutureWarning:\n",
      "\n",
      "Sorting because non-concatenation axis is not aligned. A future version\n",
      "of pandas will change to not sort by default.\n",
      "\n",
      "To accept the future behavior, pass 'sort=False'.\n",
      "\n",
      "To retain the current behavior and silence the warning, pass 'sort=True'.\n",
      "\n",
      "\n",
      "  5%|████▏                                                                           | 77/1472 [00:03<00:59, 23.38it/s]"
     ]
    },
    {
     "name": "stdout",
     "output_type": "stream",
     "text": [
      "cant load stats for 830255592\n",
      "cant load stats for 836399024\n"
     ]
    },
    {
     "name": "stderr",
     "output_type": "stream",
     "text": [
      "  6%|████▉                                                                           | 91/1472 [00:03<00:52, 26.11it/s]"
     ]
    },
    {
     "name": "stdout",
     "output_type": "stream",
     "text": [
      "cant load stats for 993706715\n",
      "cant load stats for 994880774\n"
     ]
    },
    {
     "name": "stderr",
     "output_type": "stream",
     "text": [
      "  7%|█████▊                                                                         | 108/1472 [00:04<00:50, 27.27it/s]"
     ]
    },
    {
     "name": "stdout",
     "output_type": "stream",
     "text": [
      "cant load stats for 876678452\n",
      "cant load stats for 880046522\n"
     ]
    },
    {
     "name": "stderr",
     "output_type": "stream",
     "text": [
      " 11%|████████▌                                                                      | 159/1472 [00:06<01:14, 17.70it/s]"
     ]
    },
    {
     "name": "stdout",
     "output_type": "stream",
     "text": [
      "cant load stats for 939537734\n",
      "cant load stats for 942329079\n"
     ]
    },
    {
     "name": "stderr",
     "output_type": "stream",
     "text": [
      " 13%|██████████                                                                     | 187/1472 [00:07<00:47, 27.31it/s]"
     ]
    },
    {
     "name": "stdout",
     "output_type": "stream",
     "text": [
      "cant load stats for 932884713\n",
      "cant load stats for 938745166\n"
     ]
    },
    {
     "name": "stderr",
     "output_type": "stream",
     "text": [
      " 14%|███████████▏                                                                   | 208/1472 [00:08<00:54, 23.32it/s]"
     ]
    },
    {
     "name": "stdout",
     "output_type": "stream",
     "text": [
      "cant load stats for 989340717\n",
      "cant load stats for 990520288\n"
     ]
    },
    {
     "name": "stderr",
     "output_type": "stream",
     "text": [
      " 15%|███████████▋                                                                   | 218/1472 [00:09<01:04, 19.57it/s]"
     ]
    },
    {
     "name": "stdout",
     "output_type": "stream",
     "text": [
      "cant load stats for 966735404\n"
     ]
    },
    {
     "name": "stderr",
     "output_type": "stream",
     "text": [
      "\r",
      " 15%|███████████▊                                                                   | 221/1472 [00:10<02:19,  8.99it/s]"
     ]
    },
    {
     "name": "stdout",
     "output_type": "stream",
     "text": [
      "cant load stats for 969339750\n"
     ]
    },
    {
     "name": "stderr",
     "output_type": "stream",
     "text": [
      " 19%|██████████████▊                                                                | 276/1472 [00:13<00:41, 28.51it/s]"
     ]
    },
    {
     "name": "stdout",
     "output_type": "stream",
     "text": [
      "cant load stats for 938339083\n",
      "cant load stats for 942350598\n"
     ]
    },
    {
     "name": "stderr",
     "output_type": "stream",
     "text": [
      " 20%|███████████████▋                                                               | 293/1472 [00:14<00:39, 30.17it/s]"
     ]
    },
    {
     "name": "stdout",
     "output_type": "stream",
     "text": [
      "cant load stats for 919485101\n",
      "cant load stats for 923417336\n"
     ]
    },
    {
     "name": "stderr",
     "output_type": "stream",
     "text": [
      " 21%|████████████████▍                                                              | 306/1472 [00:14<00:38, 30.60it/s]"
     ]
    },
    {
     "name": "stdout",
     "output_type": "stream",
     "text": [
      "cant load stats for 1042312802\n",
      "cant load stats for 1044393407\n"
     ]
    },
    {
     "name": "stderr",
     "output_type": "stream",
     "text": [
      " 22%|█████████████████▎                                                             | 322/1472 [00:15<00:35, 32.02it/s]"
     ]
    },
    {
     "name": "stdout",
     "output_type": "stream",
     "text": [
      "cant load stats for 854621677\n",
      "cant load stats for 863610582\n"
     ]
    },
    {
     "name": "stderr",
     "output_type": "stream",
     "text": [
      " 24%|███████████████████▏                                                           | 358/1472 [00:17<00:42, 26.37it/s]"
     ]
    },
    {
     "name": "stdout",
     "output_type": "stream",
     "text": [
      "cant load stats for 1049260803\n"
     ]
    },
    {
     "name": "stderr",
     "output_type": "stream",
     "text": [
      " 25%|████████████████████▏                                                          | 375/1472 [00:17<00:38, 28.56it/s]"
     ]
    },
    {
     "name": "stdout",
     "output_type": "stream",
     "text": [
      "cant load stats for 1047537125\n",
      "cant load stats for 1049263847\n"
     ]
    },
    {
     "name": "stderr",
     "output_type": "stream",
     "text": [
      " 26%|████████████████████▌                                                          | 383/1472 [00:18<00:37, 29.07it/s]"
     ]
    },
    {
     "name": "stdout",
     "output_type": "stream",
     "text": [
      "cant load stats for 848943191\n",
      "cant load stats for 855446545\n"
     ]
    },
    {
     "name": "stderr",
     "output_type": "stream",
     "text": [
      " 28%|██████████████████████▍                                                        | 417/1472 [00:19<00:43, 24.26it/s]"
     ]
    },
    {
     "name": "stdout",
     "output_type": "stream",
     "text": [
      "cant load stats for 938991494\n",
      "cant load stats for 946172858\n"
     ]
    },
    {
     "name": "stderr",
     "output_type": "stream",
     "text": [
      " 31%|████████████████████████▋                                                      | 461/1472 [00:21<00:57, 17.58it/s]"
     ]
    },
    {
     "name": "stdout",
     "output_type": "stream",
     "text": [
      "cant load stats for 931566300\n",
      "cant load stats for 938377224\n",
      "cant load stats for 939538572\n"
     ]
    },
    {
     "name": "stderr",
     "output_type": "stream",
     "text": [
      " 32%|█████████████████████████▌                                                     | 476/1472 [00:22<00:58, 16.89it/s]"
     ]
    },
    {
     "name": "stdout",
     "output_type": "stream",
     "text": [
      "cant load stats for 961246494\n",
      "cant load stats for 965727499\n"
     ]
    },
    {
     "name": "stderr",
     "output_type": "stream",
     "text": [
      " 33%|██████████████████████████▏                                                    | 489/1472 [00:23<00:49, 19.74it/s]"
     ]
    },
    {
     "name": "stdout",
     "output_type": "stream",
     "text": [
      "cant load stats for 1069254185\n"
     ]
    },
    {
     "name": "stderr",
     "output_type": "stream",
     "text": [
      " 34%|██████████████████████████▊                                                    | 500/1472 [00:24<00:59, 16.39it/s]"
     ]
    },
    {
     "name": "stdout",
     "output_type": "stream",
     "text": [
      "cant load stats for 778166125\n",
      "cant load stats for 796032489\n"
     ]
    },
    {
     "name": "stderr",
     "output_type": "stream",
     "text": [
      " 35%|███████████████████████████▎                                                   | 509/1472 [00:24<00:53, 17.88it/s]"
     ]
    },
    {
     "name": "stdout",
     "output_type": "stream",
     "text": [
      "cant load stats for 1050640525\n",
      "cant load stats for 1051910175\n"
     ]
    },
    {
     "name": "stderr",
     "output_type": "stream",
     "text": [
      " 35%|███████████████████████████▊                                                   | 519/1472 [00:25<00:50, 19.01it/s]"
     ]
    },
    {
     "name": "stdout",
     "output_type": "stream",
     "text": [
      "cant load stats for 1066064565\n",
      "cant load stats for 1067818154\n"
     ]
    },
    {
     "name": "stderr",
     "output_type": "stream",
     "text": [
      " 37%|█████████████████████████████▍                                                 | 548/1472 [00:27<01:06, 13.88it/s]"
     ]
    },
    {
     "name": "stdout",
     "output_type": "stream",
     "text": [
      "cant load stats for 1081053903\n",
      "cant load stats for 1082281601\n"
     ]
    },
    {
     "name": "stderr",
     "output_type": "stream",
     "text": [
      " 39%|██████████████████████████████▋                                                | 571/1472 [00:29<01:33,  9.63it/s]"
     ]
    },
    {
     "name": "stdout",
     "output_type": "stream",
     "text": [
      "cant load stats for 1053736358\n",
      "cant load stats for 1054133730\n"
     ]
    },
    {
     "name": "stderr",
     "output_type": "stream",
     "text": [
      " 39%|███████████████████████████████▏                                               | 580/1472 [00:30<01:13, 12.10it/s]"
     ]
    },
    {
     "name": "stdout",
     "output_type": "stream",
     "text": [
      "cant load stats for 993537991\n",
      "cant load stats for 993959724\n",
      "cant load stats for 994882261\n"
     ]
    },
    {
     "name": "stderr",
     "output_type": "stream",
     "text": [
      " 41%|████████████████████████████████                                               | 598/1472 [00:32<01:24, 10.29it/s]"
     ]
    },
    {
     "name": "stdout",
     "output_type": "stream",
     "text": [
      "cant load stats for 890625596\n",
      "cant load stats for 893488330\n"
     ]
    },
    {
     "name": "stderr",
     "output_type": "stream",
     "text": [
      " 41%|████████████████████████████████▋                                              | 610/1472 [00:33<01:14, 11.52it/s]"
     ]
    },
    {
     "name": "stdout",
     "output_type": "stream",
     "text": [
      "cant load stats for 918436840\n",
      "cant load stats for 928809619\n"
     ]
    },
    {
     "name": "stderr",
     "output_type": "stream",
     "text": [
      " 42%|█████████████████████████████████▏                                             | 619/1472 [00:33<01:02, 13.74it/s]"
     ]
    },
    {
     "name": "stdout",
     "output_type": "stream",
     "text": [
      "cant load stats for 1007744712\n",
      "cant load stats for 1008535747\n"
     ]
    },
    {
     "name": "stderr",
     "output_type": "stream",
     "text": [
      " 44%|██████████████████████████████████▉                                            | 652/1472 [00:37<01:14, 10.96it/s]"
     ]
    },
    {
     "name": "stdout",
     "output_type": "stream",
     "text": [
      "cant load stats for 1085947730\n",
      "cant load stats for 1087316574\n"
     ]
    },
    {
     "name": "stderr",
     "output_type": "stream",
     "text": [
      " 46%|████████████████████████████████████▏                                          | 675/1472 [00:40<01:25,  9.33it/s]"
     ]
    },
    {
     "name": "stdout",
     "output_type": "stream",
     "text": [
      "cant load stats for 1052351763\n",
      "cant load stats for 1056084114\n"
     ]
    },
    {
     "name": "stderr",
     "output_type": "stream",
     "text": [
      " 47%|█████████████████████████████████████▍                                         | 698/1472 [00:43<01:12, 10.62it/s]"
     ]
    },
    {
     "name": "stdout",
     "output_type": "stream",
     "text": [
      "cant load stats for 1038793248\n",
      "cant load stats for 1039543061\n"
     ]
    },
    {
     "name": "stderr",
     "output_type": "stream",
     "text": [
      " 48%|██████████████████████████████████████                                         | 709/1472 [00:43<01:03, 12.04it/s]"
     ]
    },
    {
     "name": "stdout",
     "output_type": "stream",
     "text": [
      "cant load stats for 956213722\n",
      "cant load stats for 959893902\n"
     ]
    },
    {
     "name": "stderr",
     "output_type": "stream",
     "text": [
      " 49%|██████████████████████████████████████▉                                        | 725/1472 [00:45<00:59, 12.52it/s]"
     ]
    },
    {
     "name": "stdout",
     "output_type": "stream",
     "text": [
      "cant load stats for 886440437\n",
      "cant load stats for 888282547\n"
     ]
    },
    {
     "name": "stderr",
     "output_type": "stream",
     "text": [
      " 50%|███████████████████████████████████████▋                                       | 740/1472 [00:47<01:21,  8.97it/s]"
     ]
    },
    {
     "name": "stdout",
     "output_type": "stream",
     "text": [
      "cant load stats for 1081773193\n",
      "cant load stats for 1083458354\n"
     ]
    },
    {
     "name": "stderr",
     "output_type": "stream",
     "text": [
      " 51%|████████████████████████████████████████▋                                      | 757/1472 [00:49<01:19,  9.03it/s]"
     ]
    },
    {
     "name": "stdout",
     "output_type": "stream",
     "text": [
      "cant load stats for 992414875\n",
      "cant load stats for 993496240\n"
     ]
    },
    {
     "name": "stderr",
     "output_type": "stream",
     "text": [
      " 53%|█████████████████████████████████████████▍                                     | 773/1472 [00:50<01:15,  9.21it/s]"
     ]
    },
    {
     "name": "stdout",
     "output_type": "stream",
     "text": [
      "cant load stats for 847867029\n",
      "cant load stats for 853266283\n"
     ]
    },
    {
     "name": "stderr",
     "output_type": "stream",
     "text": [
      " 53%|█████████████████████████████████████████▉                                     | 782/1472 [00:51<01:03, 10.81it/s]"
     ]
    },
    {
     "name": "stdout",
     "output_type": "stream",
     "text": [
      "cant load stats for 890033129\n",
      "cant load stats for 898440124\n"
     ]
    },
    {
     "name": "stderr",
     "output_type": "stream",
     "text": [
      " 54%|██████████████████████████████████████████▋                                    | 795/1472 [00:52<00:45, 14.92it/s]"
     ]
    },
    {
     "name": "stdout",
     "output_type": "stream",
     "text": [
      "cant load stats for 980102697\n",
      "cant load stats for 982722856\n"
     ]
    },
    {
     "name": "stderr",
     "output_type": "stream",
     "text": [
      " 55%|███████████████████████████████████████████▏                                   | 805/1472 [00:52<00:37, 17.69it/s]"
     ]
    },
    {
     "name": "stdout",
     "output_type": "stream",
     "text": [
      "cant load stats for 1059661558\n",
      "cant load stats for 1061244184\n"
     ]
    },
    {
     "name": "stderr",
     "output_type": "stream",
     "text": [
      " 56%|████████████████████████████████████████████▎                                  | 825/1472 [00:55<01:02, 10.35it/s]"
     ]
    },
    {
     "name": "stdout",
     "output_type": "stream",
     "text": [
      "cant load stats for 881278000\n"
     ]
    },
    {
     "name": "stderr",
     "output_type": "stream",
     "text": [
      "\r",
      " 56%|████████████████████████████████████████████▍                                  | 829/1472 [00:55<00:54, 11.71it/s]"
     ]
    },
    {
     "name": "stdout",
     "output_type": "stream",
     "text": [
      "cant load stats for 890157940\n"
     ]
    },
    {
     "name": "stderr",
     "output_type": "stream",
     "text": [
      " 57%|████████████████████████████████████████████▉                                  | 838/1472 [00:56<00:56, 11.24it/s]"
     ]
    },
    {
     "name": "stdout",
     "output_type": "stream",
     "text": [
      "cant load stats for 1043099283\n",
      "cant load stats for 1044396778\n"
     ]
    },
    {
     "name": "stderr",
     "output_type": "stream",
     "text": [
      " 58%|█████████████████████████████████████████████▍                                 | 847/1472 [00:56<00:43, 14.40it/s]"
     ]
    },
    {
     "name": "stdout",
     "output_type": "stream",
     "text": [
      "cant load stats for 811303680\n"
     ]
    },
    {
     "name": "stderr",
     "output_type": "stream",
     "text": [
      " 59%|██████████████████████████████████████████████▉                                | 874/1472 [01:00<01:15,  7.94it/s]"
     ]
    },
    {
     "name": "stdout",
     "output_type": "stream",
     "text": [
      "cant load stats for 947336783\n",
      "cant load stats for 949348713\n"
     ]
    },
    {
     "name": "stderr",
     "output_type": "stream",
     "text": [
      " 61%|███████████████████████████████████████████████▊                               | 891/1472 [01:02<01:07,  8.61it/s]"
     ]
    },
    {
     "name": "stdout",
     "output_type": "stream",
     "text": [
      "cant load stats for 1003922111\n"
     ]
    },
    {
     "name": "stderr",
     "output_type": "stream",
     "text": [
      " 61%|████████████████████████████████████████████████▏                              | 898/1472 [01:02<00:46, 12.23it/s]"
     ]
    },
    {
     "name": "stdout",
     "output_type": "stream",
     "text": [
      "cant load stats for 815521974\n"
     ]
    },
    {
     "name": "stderr",
     "output_type": "stream",
     "text": [
      " 62%|████████████████████████████████████████████████▌                              | 906/1472 [01:03<00:47, 11.97it/s]"
     ]
    },
    {
     "name": "stdout",
     "output_type": "stream",
     "text": [
      "cant load stats for 963923531\n",
      "cant load stats for 967460086\n"
     ]
    },
    {
     "name": "stderr",
     "output_type": "stream",
     "text": [
      " 62%|█████████████████████████████████████████████████                              | 915/1472 [01:04<00:44, 12.46it/s]"
     ]
    },
    {
     "name": "stdout",
     "output_type": "stream",
     "text": [
      "cant load stats for 1010433346\n",
      "cant load stats for 1011921821\n"
     ]
    },
    {
     "name": "stderr",
     "output_type": "stream",
     "text": [
      " 63%|██████████████████████████████████████████████████                             | 933/1472 [01:05<00:49, 10.83it/s]"
     ]
    },
    {
     "name": "stdout",
     "output_type": "stream",
     "text": [
      "cant load stats for 993471955\n"
     ]
    },
    {
     "name": "stderr",
     "output_type": "stream",
     "text": [
      " 66%|████████████████████████████████████████████████████▎                          | 974/1472 [01:11<00:45, 10.86it/s]"
     ]
    },
    {
     "name": "stdout",
     "output_type": "stream",
     "text": [
      "cant load stats for 1077877836\n"
     ]
    },
    {
     "name": "stderr",
     "output_type": "stream",
     "text": [
      " 67%|████████████████████████████████████████████████████▉                          | 987/1472 [01:12<00:53,  9.10it/s]"
     ]
    },
    {
     "name": "stdout",
     "output_type": "stream",
     "text": [
      "cant load stats for 849136474\n",
      "cant load stats for 851757903\n"
     ]
    },
    {
     "name": "stderr",
     "output_type": "stream",
     "text": [
      " 69%|█████████████████████████████████████████████████████▊                        | 1015/1472 [01:16<00:57,  7.99it/s]"
     ]
    },
    {
     "name": "stdout",
     "output_type": "stream",
     "text": [
      "cant load stats for 1001417592\n",
      "cant load stats for 1003302686\n"
     ]
    },
    {
     "name": "stderr",
     "output_type": "stream",
     "text": [
      " 70%|██████████████████████████████████████████████████████▌                       | 1030/1472 [01:17<00:37, 11.92it/s]"
     ]
    },
    {
     "name": "stdout",
     "output_type": "stream",
     "text": [
      "cant load stats for 1004058414\n"
     ]
    },
    {
     "name": "stderr",
     "output_type": "stream",
     "text": [
      " 70%|██████████████████████████████████████████████████████▊                       | 1035/1472 [01:17<00:30, 14.31it/s]"
     ]
    },
    {
     "name": "stdout",
     "output_type": "stream",
     "text": [
      "cant load stats for 1006754246\n"
     ]
    },
    {
     "name": "stderr",
     "output_type": "stream",
     "text": [
      " 71%|███████████████████████████████████████████████████████▎                      | 1043/1472 [01:18<00:38, 11.17it/s]"
     ]
    },
    {
     "name": "stdout",
     "output_type": "stream",
     "text": [
      "cant load stats for 870660821\n"
     ]
    },
    {
     "name": "stderr",
     "output_type": "stream",
     "text": [
      " 74%|█████████████████████████████████████████████████████████▌                    | 1087/1472 [01:24<00:50,  7.70it/s]"
     ]
    },
    {
     "name": "stdout",
     "output_type": "stream",
     "text": [
      "cant load stats for 1077900668\n"
     ]
    },
    {
     "name": "stderr",
     "output_type": "stream",
     "text": [
      " 75%|██████████████████████████████████████████████████████████▏                   | 1099/1472 [01:25<00:38,  9.63it/s]"
     ]
    },
    {
     "name": "stdout",
     "output_type": "stream",
     "text": [
      "cant load stats for 843203333\n",
      "cant load stats for 848503804\n"
     ]
    },
    {
     "name": "stderr",
     "output_type": "stream",
     "text": [
      " 75%|██████████████████████████████████████████████████████████▋                   | 1108/1472 [01:26<00:28, 12.70it/s]"
     ]
    },
    {
     "name": "stdout",
     "output_type": "stream",
     "text": [
      "cant load stats for 964137490\n",
      "cant load stats for 967660435\n"
     ]
    },
    {
     "name": "stderr",
     "output_type": "stream",
     "text": [
      " 77%|███████████████████████████████████████████████████████████▋                  | 1127/1472 [01:28<00:35,  9.75it/s]"
     ]
    },
    {
     "name": "stdout",
     "output_type": "stream",
     "text": [
      "cant load stats for 1076274259\n",
      "cant load stats for 1077739803\n"
     ]
    },
    {
     "name": "stderr",
     "output_type": "stream",
     "text": [
      " 77%|████████████████████████████████████████████████████████████▏                 | 1135/1472 [01:29<00:28, 11.99it/s]"
     ]
    },
    {
     "name": "stdout",
     "output_type": "stream",
     "text": [
      "cant load stats for 959675291\n",
      "cant load stats for 963694974\n"
     ]
    },
    {
     "name": "stderr",
     "output_type": "stream",
     "text": [
      " 78%|█████████████████████████████████████████████████████████████▏                | 1154/1472 [01:31<00:30, 10.55it/s]"
     ]
    },
    {
     "name": "stdout",
     "output_type": "stream",
     "text": [
      "cant load stats for 837108110\n"
     ]
    },
    {
     "name": "stderr",
     "output_type": "stream",
     "text": [
      " 79%|█████████████████████████████████████████████████████████████▌                | 1162/1472 [01:32<00:30, 10.18it/s]"
     ]
    },
    {
     "name": "stdout",
     "output_type": "stream",
     "text": [
      "cant load stats for 972018960\n",
      "cant load stats for 974282914\n"
     ]
    },
    {
     "name": "stderr",
     "output_type": "stream",
     "text": [
      " 81%|███████████████████████████████████████████████████████████████               | 1191/1472 [01:35<00:31,  9.06it/s]"
     ]
    },
    {
     "name": "stdout",
     "output_type": "stream",
     "text": [
      "cant load stats for 903977177\n",
      "cant load stats for 907327499\n"
     ]
    },
    {
     "name": "stderr",
     "output_type": "stream",
     "text": [
      " 82%|███████████████████████████████████████████████████████████████▋              | 1202/1472 [01:36<00:30,  8.85it/s]"
     ]
    },
    {
     "name": "stdout",
     "output_type": "stream",
     "text": [
      "cant load stats for 911527254\n",
      "cant load stats for 915667469\n"
     ]
    },
    {
     "name": "stderr",
     "output_type": "stream",
     "text": [
      " 83%|████████████████████████████████████████████████████████████████▌             | 1219/1472 [01:38<00:28,  8.72it/s]"
     ]
    },
    {
     "name": "stdout",
     "output_type": "stream",
     "text": [
      "cant load stats for 882434675\n",
      "cant load stats for 890374401\n"
     ]
    },
    {
     "name": "stderr",
     "output_type": "stream",
     "text": [
      " 84%|█████████████████████████████████████████████████████████████████▏            | 1230/1472 [01:39<00:21, 11.38it/s]"
     ]
    },
    {
     "name": "stdout",
     "output_type": "stream",
     "text": [
      "cant load stats for 795431009\n",
      "cant load stats for 797170547\n"
     ]
    },
    {
     "name": "stderr",
     "output_type": "stream",
     "text": [
      " 84%|█████████████████████████████████████████████████████████████████▍            | 1235/1472 [01:39<00:18, 12.80it/s]"
     ]
    },
    {
     "name": "stdout",
     "output_type": "stream",
     "text": [
      "cant load stats for 867098393\n",
      "cant load stats for 873813922\n"
     ]
    },
    {
     "name": "stderr",
     "output_type": "stream",
     "text": [
      " 85%|█████████████████████████████████████████████████████████████████▉            | 1245/1472 [01:40<00:15, 15.06it/s]"
     ]
    },
    {
     "name": "stdout",
     "output_type": "stream",
     "text": [
      "cant load stats for 1056990700\n",
      "cant load stats for 1057802395\n"
     ]
    },
    {
     "name": "stderr",
     "output_type": "stream",
     "text": [
      " 86%|███████████████████████████████████████████████████████████████████▏          | 1267/1472 [01:43<00:18, 10.97it/s]"
     ]
    },
    {
     "name": "stdout",
     "output_type": "stream",
     "text": [
      "cant load stats for 976558967\n"
     ]
    },
    {
     "name": "stderr",
     "output_type": "stream",
     "text": [
      "\r",
      " 86%|███████████████████████████████████████████████████████████████████▎          | 1271/1472 [01:43<00:16, 12.18it/s]"
     ]
    },
    {
     "name": "stdout",
     "output_type": "stream",
     "text": [
      "cant load stats for 986234827\n"
     ]
    },
    {
     "name": "stderr",
     "output_type": "stream",
     "text": [
      " 88%|████████████████████████████████████████████████████████████████████▋         | 1297/1472 [01:46<00:21,  8.13it/s]"
     ]
    },
    {
     "name": "stdout",
     "output_type": "stream",
     "text": [
      "cant load stats for 917595407\n",
      "cant load stats for 922012422\n"
     ]
    },
    {
     "name": "stderr",
     "output_type": "stream",
     "text": [
      " 89%|█████████████████████████████████████████████████████████████████████         | 1303/1472 [01:47<00:14, 11.37it/s]"
     ]
    },
    {
     "name": "stdout",
     "output_type": "stream",
     "text": [
      "cant load stats for 927905748\n"
     ]
    },
    {
     "name": "stderr",
     "output_type": "stream",
     "text": [
      " 89%|█████████████████████████████████████████████████████████████████████▌        | 1312/1472 [01:47<00:13, 11.64it/s]"
     ]
    },
    {
     "name": "stdout",
     "output_type": "stream",
     "text": [
      "cant load stats for 807198458\n",
      "cant load stats for 809321253\n"
     ]
    },
    {
     "name": "stderr",
     "output_type": "stream",
     "text": [
      " 89%|█████████████████████████████████████████████████████████████████████▊        | 1317/1472 [01:48<00:14, 10.33it/s]"
     ]
    },
    {
     "name": "stdout",
     "output_type": "stream",
     "text": [
      "cant load stats for 806841326\n",
      "cant load stats for 811355443\n"
     ]
    },
    {
     "name": "stderr",
     "output_type": "stream",
     "text": [
      " 91%|██████████████████████████████████████████████████████████████████████▊       | 1336/1472 [01:50<00:20,  6.56it/s]"
     ]
    },
    {
     "name": "stdout",
     "output_type": "stream",
     "text": [
      "cant load stats for 850817466\n",
      "cant load stats for 853505213\n",
      "cant load stats for 857230827\n"
     ]
    },
    {
     "name": "stderr",
     "output_type": "stream",
     "text": [
      " 91%|███████████████████████████████████████████████████████████████████████▎      | 1346/1472 [01:51<00:12, 10.24it/s]"
     ]
    },
    {
     "name": "stdout",
     "output_type": "stream",
     "text": [
      "cant load stats for 849147676\n",
      "cant load stats for 855200229\n"
     ]
    },
    {
     "name": "stderr",
     "output_type": "stream",
     "text": [
      " 93%|████████████████████████████████████████████████████████████████████████▎     | 1364/1472 [01:53<00:13,  7.85it/s]"
     ]
    },
    {
     "name": "stdout",
     "output_type": "stream",
     "text": [
      "cant load stats for 983268644\n"
     ]
    },
    {
     "name": "stderr",
     "output_type": "stream",
     "text": [
      " 93%|████████████████████████████████████████████████████████████████████████▌     | 1369/1472 [01:53<00:09, 10.59it/s]"
     ]
    },
    {
     "name": "stdout",
     "output_type": "stream",
     "text": [
      "cant load stats for 990207794\n"
     ]
    },
    {
     "name": "stderr",
     "output_type": "stream",
     "text": [
      " 94%|█████████████████████████████████████████████████████████████████████████     | 1378/1472 [01:54<00:07, 12.02it/s]"
     ]
    },
    {
     "name": "stdout",
     "output_type": "stream",
     "text": [
      "cant load stats for 902135840\n",
      "cant load stats for 903842232\n"
     ]
    },
    {
     "name": "stderr",
     "output_type": "stream",
     "text": [
      " 95%|██████████████████████████████████████████████████████████████████████████▏   | 1401/1472 [01:57<00:09,  7.33it/s]"
     ]
    },
    {
     "name": "stdout",
     "output_type": "stream",
     "text": [
      "cant load stats for 904574580\n",
      "cant load stats for 907900077\n"
     ]
    },
    {
     "name": "stderr",
     "output_type": "stream",
     "text": [
      " 96%|██████████████████████████████████████████████████████████████████████████▌   | 1407/1472 [01:57<00:06, 10.69it/s]"
     ]
    },
    {
     "name": "stdout",
     "output_type": "stream",
     "text": [
      "cant load stats for 914211263\n",
      "cant load stats for 915418411\n"
     ]
    },
    {
     "name": "stderr",
     "output_type": "stream",
     "text": [
      " 96%|███████████████████████████████████████████████████████████████████████████▏  | 1419/1472 [01:59<00:04, 11.94it/s]"
     ]
    },
    {
     "name": "stdout",
     "output_type": "stream",
     "text": [
      "cant load stats for 1083433827\n",
      "cant load stats for 1085106649\n"
     ]
    },
    {
     "name": "stderr",
     "output_type": "stream",
     "text": [
      " 98%|████████████████████████████████████████████████████████████████████████████▏ | 1437/1472 [02:01<00:05,  5.88it/s]"
     ]
    },
    {
     "name": "stdout",
     "output_type": "stream",
     "text": [
      "cant load stats for 1083463510\n",
      "cant load stats for 1085143107\n"
     ]
    },
    {
     "name": "stderr",
     "output_type": "stream",
     "text": [
      " 98%|████████████████████████████████████████████████████████████████████████████▋ | 1447/1472 [02:02<00:02,  9.34it/s]"
     ]
    },
    {
     "name": "stdout",
     "output_type": "stream",
     "text": [
      "cant load stats for 1047958394\n",
      "cant load stats for 1050651840\n"
     ]
    },
    {
     "name": "stderr",
     "output_type": "stream",
     "text": [
      " 99%|█████████████████████████████████████████████████████████████████████████████ | 1454/1472 [02:02<00:01,  9.37it/s]"
     ]
    },
    {
     "name": "stdout",
     "output_type": "stream",
     "text": [
      "cant load stats for 962922731\n",
      "cant load stats for 964871967\n"
     ]
    },
    {
     "name": "stderr",
     "output_type": "stream",
     "text": [
      "100%|██████████████████████████████████████████████████████████████████████████████| 1472/1472 [02:04<00:00, 11.86it/s]"
     ]
    },
    {
     "name": "stdout",
     "output_type": "stream",
     "text": [
      "cant load stats for 942562699\n",
      "cant load stats for 954120560\n",
      "Wall time: 2min 4s\n"
     ]
    },
    {
     "name": "stderr",
     "output_type": "stream",
     "text": [
      "\n"
     ]
    }
   ],
   "source": [
    "%%time \n",
    "\n",
    "behavior_session_ids = behavior_sessions.index.values\n",
    "\n",
    "behavior_stats = pd.DataFrame()\n",
    "problem_sessions = []\n",
    "for behavior_session_id in tqdm(behavior_session_ids):\n",
    "    try:\n",
    "        stats = vbu.get_cached_behavior_stats(behavior_session_id, engaged_only=True, method='stimulus_based')\n",
    "        behavior_stats = pd.concat([behavior_stats, stats])\n",
    "    except:\n",
    "        print('cant load stats for', behavior_session_id)\n",
    "        problem_sessions.append(behavior_session_id)"
   ]
  },
  {
   "cell_type": "code",
   "execution_count": 13,
   "metadata": {},
   "outputs": [
    {
     "data": {
      "text/plain": [
       "159"
      ]
     },
     "execution_count": 13,
     "metadata": {},
     "output_type": "execute_result"
    }
   ],
   "source": [
    "len(problem_sessions)"
   ]
  },
  {
   "cell_type": "code",
   "execution_count": 14,
   "metadata": {
    "scrolled": true
   },
   "outputs": [
    {
     "name": "stdout",
     "output_type": "stream",
     "text": [
      "1472\n",
      "['Training' 'Familiar' 'Novel 1' 'Novel >1']\n"
     ]
    }
   ],
   "source": [
    "print(len(behavior_sessions))\n",
    "print(behavior_sessions.experience_level.unique())"
   ]
  },
  {
   "cell_type": "markdown",
   "metadata": {},
   "source": [
    "### merge behavior session metadata into stats table"
   ]
  },
  {
   "cell_type": "code",
   "execution_count": 15,
   "metadata": {},
   "outputs": [
    {
     "name": "stdout",
     "output_type": "stream",
     "text": [
      "1472\n",
      "['Training' 'Familiar' 'Novel 1' 'Novel >1']\n"
     ]
    }
   ],
   "source": [
    "behavior_stats = behavior_stats.merge(behavior_sessions, on='behavior_session_id')\n",
    "print(len(behavior_sessions))\n",
    "print(behavior_sessions.experience_level.unique())"
   ]
  },
  {
   "cell_type": "code",
   "execution_count": 16,
   "metadata": {},
   "outputs": [
    {
     "name": "stdout",
     "output_type": "stream",
     "text": [
      "['Training', 'Familiar', 'Novel 1', 'Novel >1']\n"
     ]
    }
   ],
   "source": [
    "# useful info\n",
    "experience_levels = ['Training', 'Familiar', 'Novel 1', 'Novel >1']\n",
    "print(experience_levels)\n",
    "cell_types = np.sort(behavior_sessions.cell_type.unique())"
   ]
  },
  {
   "cell_type": "code",
   "execution_count": null,
   "metadata": {},
   "outputs": [],
   "source": []
  },
  {
   "cell_type": "markdown",
   "metadata": {},
   "source": [
    "### plot stuff by cre line"
   ]
  },
  {
   "cell_type": "code",
   "execution_count": 17,
   "metadata": {},
   "outputs": [
    {
     "data": {
      "image/png": "[encoded data removed]",
      "text/plain": [
       "<Figure size 576x288 with 1 Axes>"
      ]
     },
     "metadata": {},
     "output_type": "display_data"
    }
   ],
   "source": [
    "metric = 'dprime_trial_corrected'\n",
    "# colors = utils.get_experience_level_colors()\n",
    "colors = utils.get_cre_line_colors()\n",
    "\n",
    "fig, ax = plt.subplots(figsize=(8,4))\n",
    "ax = sns.boxplot(data=behavior_stats, x='experience_level', y=metric, order=experience_levels, \n",
    "                  hue='cell_type', hue_order=cell_types, palette=colors)\n",
    "ax.legend(fontsize='small', title='', bbox_to_anchor=(1,1))\n",
    "ax.set_xlabel('')\n",
    "\n",
    "fig.tight_layout()"
   ]
  },
  {
   "cell_type": "markdown",
   "metadata": {},
   "source": [
    "### color by exp level per cre line"
   ]
  },
  {
   "cell_type": "code",
   "execution_count": 18,
   "metadata": {},
   "outputs": [
    {
     "data": {
      "image/png": "[encoded data removed]",
      "text/plain": [
       "<Figure size 576x288 with 1 Axes>"
      ]
     },
     "metadata": {},
     "output_type": "display_data"
    }
   ],
   "source": [
    "metric = 'dprime_trial_corrected'\n",
    "colors = utils.get_experience_level_colors()\n",
    "colors = [(0.5, 0.5, 0.5)]+colors\n",
    "\n",
    "fig, ax = plt.subplots(figsize=(8,4))\n",
    "ax = sns.boxplot(data=behavior_stats, x='cell_type', y=metric, order=cell_types, \n",
    "                  hue='experience_level', hue_order=experience_levels, palette=colors, width=0.5, dodge=True)\n",
    "ax.legend(fontsize='small', title='', bbox_to_anchor=(1,1))\n",
    "ax.set_xlabel('')\n",
    "ax.set_ylabel('d-prime')\n",
    "fig.tight_layout()"
   ]
  },
  {
   "cell_type": "code",
   "execution_count": 19,
   "metadata": {},
   "outputs": [
    {
     "data": {
      "image/png": "[encoded data removed]",
      "text/plain": [
       "<Figure size 288x288 with 1 Axes>"
      ]
     },
     "metadata": {},
     "output_type": "display_data"
    }
   ],
   "source": [
    "metric = 'dprime_trial_corrected'\n",
    "colors = utils.get_experience_level_colors()\n",
    "\n",
    "data = behavior_stats[behavior_stats.experience_level.isin(['Training', 'Novel >1'])==False]\n",
    "familiar_novel = ['Familiar', 'Novel 1']\n",
    "\n",
    "fig, ax = plt.subplots(figsize=(4,4))\n",
    "ax = sns.boxplot(data=data, x='experience_level', y=metric, order=familiar_novel, \n",
    "                  hue='experience_level', hue_order=familiar_novel, palette=colors, width=0.5, dodge=False)\n",
    "ax.legend(fontsize='small', title='', bbox_to_anchor=(1,1))\n",
    "ax.set_xlabel('')\n",
    "ax.set_xticklabels(familiar_novel, rotation=45)\n",
    "ax.set_ylabel('d-prime')\n",
    "fig.tight_layout()"
   ]
  },
  {
   "cell_type": "markdown",
   "metadata": {},
   "source": [
    "### plot d-prime for familiar and novel sessions, just for the ophys sessions included in subsequent ophys analysis"
   ]
  },
  {
   "cell_type": "code",
   "execution_count": 21,
   "metadata": {},
   "outputs": [],
   "source": [
    "save_dir = r'\\\\allen\\programs\\braintv\\workgroups\\nc-ophys\\visual_behavior\\platform_paper_plots\\figure_1'"
   ]
  },
  {
   "cell_type": "code",
   "execution_count": 22,
   "metadata": {},
   "outputs": [
    {
     "data": {
      "image/png": "[encoded data removed]",
      "text/plain": [
       "<Figure size 216x288 with 1 Axes>"
      ]
     },
     "metadata": {},
     "output_type": "display_data"
    }
   ],
   "source": [
    "metric = 'dprime_trial_corrected'\n",
    "colors = utils.get_experience_level_colors()\n",
    "\n",
    "data = behavior_stats[behavior_stats.experience_level.isin(['Training', 'Novel >1'])==False]\n",
    "familiar_novel = ['Familiar', 'Novel 1']\n",
    "\n",
    "ophys_expts = utilities.limit_to_last_familiar_second_novel_active(experiments_table)\n",
    "ophys_expts = utilities.limit_to_containers_with_all_experience_levels(ophys_expts)\n",
    "ophys_beh_sessions = ophys_expts.behavior_session_id.unique()\n",
    "data = data[data.behavior_session_id.isin(ophys_beh_sessions)]\n",
    "\n",
    "figsize = (3,4)\n",
    "fig, ax = plt.subplots(figsize=figsize)\n",
    "for mouse_id in data.mouse_id.unique():\n",
    "    ax = sns.pointplot(data=data[data.mouse_id==mouse_id], x='experience_level', y=metric, markers='',\n",
    "                       order=familiar_novel, color='gray', join=True, dodge=False)\n",
    "plt.setp(ax.lines, linewidth=0.5)  \n",
    "ax = sns.boxplot(data=data, x='experience_level', y=metric, order=familiar_novel, \n",
    "                  hue='experience_level', hue_order=familiar_novel, palette=colors, width=0.5, dodge=False)\n",
    "# ax.legend(fontsize='small', title='', bbox_to_anchor=(1,1))\n",
    "ax.get_legend().remove()\n",
    "ax.set_xlabel('')\n",
    "ax.set_xticklabels(familiar_novel, rotation=45)\n",
    "ax.set_ylabel('d-prime')\n",
    "fig.tight_layout()\n",
    "utils.save_figure(fig, figsize, save_dir, 'behavior_metrics', 'd_prime_dist_and_individ_mice')"
   ]
  },
  {
   "cell_type": "code",
   "execution_count": null,
   "metadata": {},
   "outputs": [],
   "source": []
  },
  {
   "cell_type": "code",
   "execution_count": 25,
   "metadata": {},
   "outputs": [
    {
     "data": {
      "image/png": "[encoded data removed]",
      "text/plain": [
       "<Figure size 288x288 with 1 Axes>"
      ]
     },
     "metadata": {},
     "output_type": "display_data"
    }
   ],
   "source": [
    "metric = 'dprime_trial_corrected'\n",
    "colors = utils.get_experience_level_colors()\n",
    "\n",
    "data = behavior_stats[behavior_stats.experience_level.isin(['Training', 'Novel >1'])==False]\n",
    "familiar_novel = ['Familiar', 'Novel 1']\n",
    "\n",
    "fig, ax = plt.subplots(figsize=(4,4))\n",
    "ax = sns.pointplot(data=data, x='experience_level', y=metric, order=familiar_novel, \n",
    "                  hue='experience_level', hue_order=familiar_novel, palette=colors, join=False, dodge=False)\n",
    "ax.legend(fontsize='small', title='', bbox_to_anchor=(1,1))\n",
    "ax.set_xlabel('')\n",
    "ax.set_xticklabels(familiar_novel, rotation=45)\n",
    "ax.set_ylabel('d-prime')\n",
    "fig.tight_layout()"
   ]
  },
  {
   "cell_type": "code",
   "execution_count": null,
   "metadata": {},
   "outputs": [],
   "source": []
  },
  {
   "cell_type": "code",
   "execution_count": null,
   "metadata": {},
   "outputs": [],
   "source": []
  },
  {
   "cell_type": "code",
   "execution_count": null,
   "metadata": {},
   "outputs": [],
   "source": []
  },
  {
   "cell_type": "code",
   "execution_count": 19,
   "metadata": {
    "scrolled": true
   },
   "outputs": [
    {
     "data": {
      "text/html": [
       "<div>\n",
       "<style scoped>\n",
       "    .dataframe tbody tr th:only-of-type {\n",
       "        vertical-align: middle;\n",
       "    }\n",
       "\n",
       "    .dataframe tbody tr th {\n",
       "        vertical-align: top;\n",
       "    }\n",
       "\n",
       "    .dataframe thead th {\n",
       "        text-align: right;\n",
       "    }\n",
       "</style>\n",
       "<table border=\"1\" class=\"dataframe\">\n",
       "  <thead>\n",
       "    <tr style=\"text-align: right;\">\n",
       "      <th></th>\n",
       "      <th>behavior_session_id</th>\n",
       "      <th>dprime_non_trial_corrected</th>\n",
       "      <th>dprime_trial_corrected</th>\n",
       "      <th>error</th>\n",
       "      <th>fa_rate</th>\n",
       "      <th>fraction_engaged</th>\n",
       "      <th>hit_rate</th>\n",
       "      <th>number_of_engaged_catch_trials</th>\n",
       "      <th>number_of_engaged_false_alarms</th>\n",
       "      <th>number_of_engaged_go_trials</th>\n",
       "      <th>...</th>\n",
       "      <th>ophys_session_id</th>\n",
       "      <th>ophys_experiment_id</th>\n",
       "      <th>ophys_container_id</th>\n",
       "      <th>project_code</th>\n",
       "      <th>date_of_acquisition</th>\n",
       "      <th>session_type</th>\n",
       "      <th>file_id</th>\n",
       "      <th>passive</th>\n",
       "      <th>cell_type</th>\n",
       "      <th>experience_level</th>\n",
       "    </tr>\n",
       "  </thead>\n",
       "  <tbody>\n",
       "    <tr>\n",
       "      <td>0</td>\n",
       "      <td>884776248</td>\n",
       "      <td>0.923742</td>\n",
       "      <td>0.923742</td>\n",
       "      <td>NaN</td>\n",
       "      <td>0.445255</td>\n",
       "      <td>1.0</td>\n",
       "      <td>0.784091</td>\n",
       "      <td>411.0</td>\n",
       "      <td>183.0</td>\n",
       "      <td>88.0</td>\n",
       "      <td>...</td>\n",
       "      <td>NaN</td>\n",
       "      <td>NaN</td>\n",
       "      <td>NaN</td>\n",
       "      <td>NaN</td>\n",
       "      <td>2019-06-11 11:51:02.415</td>\n",
       "      <td>TRAINING_5_images_A_epilogue</td>\n",
       "      <td>1.081630e+09</td>\n",
       "      <td>False</td>\n",
       "      <td>Sst Inhibitory</td>\n",
       "      <td>Training</td>\n",
       "    </tr>\n",
       "    <tr>\n",
       "      <td>1</td>\n",
       "      <td>885540237</td>\n",
       "      <td>0.623553</td>\n",
       "      <td>0.623553</td>\n",
       "      <td>NaN</td>\n",
       "      <td>0.173585</td>\n",
       "      <td>1.0</td>\n",
       "      <td>0.375796</td>\n",
       "      <td>1060.0</td>\n",
       "      <td>184.0</td>\n",
       "      <td>157.0</td>\n",
       "      <td>...</td>\n",
       "      <td>NaN</td>\n",
       "      <td>NaN</td>\n",
       "      <td>NaN</td>\n",
       "      <td>NaN</td>\n",
       "      <td>2019-06-12 11:10:55.978</td>\n",
       "      <td>TRAINING_5_images_A_handoff_ready</td>\n",
       "      <td>1.081631e+09</td>\n",
       "      <td>False</td>\n",
       "      <td>Sst Inhibitory</td>\n",
       "      <td>Training</td>\n",
       "    </tr>\n",
       "    <tr>\n",
       "      <td>2</td>\n",
       "      <td>886442346</td>\n",
       "      <td>0.956242</td>\n",
       "      <td>0.956242</td>\n",
       "      <td>NaN</td>\n",
       "      <td>0.415344</td>\n",
       "      <td>1.0</td>\n",
       "      <td>0.771084</td>\n",
       "      <td>378.0</td>\n",
       "      <td>157.0</td>\n",
       "      <td>83.0</td>\n",
       "      <td>...</td>\n",
       "      <td>NaN</td>\n",
       "      <td>NaN</td>\n",
       "      <td>NaN</td>\n",
       "      <td>NaN</td>\n",
       "      <td>2019-06-13 13:13:29.587</td>\n",
       "      <td>TRAINING_5_images_A_handoff_ready</td>\n",
       "      <td>1.081632e+09</td>\n",
       "      <td>False</td>\n",
       "      <td>Sst Inhibitory</td>\n",
       "      <td>Training</td>\n",
       "    </tr>\n",
       "    <tr>\n",
       "      <td>3</td>\n",
       "      <td>892510304</td>\n",
       "      <td>0.614751</td>\n",
       "      <td>0.614751</td>\n",
       "      <td>NaN</td>\n",
       "      <td>0.250871</td>\n",
       "      <td>1.0</td>\n",
       "      <td>0.477273</td>\n",
       "      <td>861.0</td>\n",
       "      <td>216.0</td>\n",
       "      <td>132.0</td>\n",
       "      <td>...</td>\n",
       "      <td>NaN</td>\n",
       "      <td>NaN</td>\n",
       "      <td>NaN</td>\n",
       "      <td>NaN</td>\n",
       "      <td>2019-06-21 10:48:46.019</td>\n",
       "      <td>TRAINING_5_images_A_handoff_ready</td>\n",
       "      <td>1.081641e+09</td>\n",
       "      <td>False</td>\n",
       "      <td>Sst Inhibitory</td>\n",
       "      <td>Training</td>\n",
       "    </tr>\n",
       "    <tr>\n",
       "      <td>4</td>\n",
       "      <td>893560763</td>\n",
       "      <td>1.713756</td>\n",
       "      <td>1.553515</td>\n",
       "      <td>NaN</td>\n",
       "      <td>0.729927</td>\n",
       "      <td>1.0</td>\n",
       "      <td>1.000000</td>\n",
       "      <td>137.0</td>\n",
       "      <td>100.0</td>\n",
       "      <td>33.0</td>\n",
       "      <td>...</td>\n",
       "      <td>NaN</td>\n",
       "      <td>NaN</td>\n",
       "      <td>NaN</td>\n",
       "      <td>NaN</td>\n",
       "      <td>2019-06-24 13:10:41.640</td>\n",
       "      <td>TRAINING_5_images_A_handoff_ready</td>\n",
       "      <td>1.081642e+09</td>\n",
       "      <td>False</td>\n",
       "      <td>Sst Inhibitory</td>\n",
       "      <td>Training</td>\n",
       "    </tr>\n",
       "    <tr>\n",
       "      <td>...</td>\n",
       "      <td>...</td>\n",
       "      <td>...</td>\n",
       "      <td>...</td>\n",
       "      <td>...</td>\n",
       "      <td>...</td>\n",
       "      <td>...</td>\n",
       "      <td>...</td>\n",
       "      <td>...</td>\n",
       "      <td>...</td>\n",
       "      <td>...</td>\n",
       "      <td>...</td>\n",
       "      <td>...</td>\n",
       "      <td>...</td>\n",
       "      <td>...</td>\n",
       "      <td>...</td>\n",
       "      <td>...</td>\n",
       "      <td>...</td>\n",
       "      <td>...</td>\n",
       "      <td>...</td>\n",
       "      <td>...</td>\n",
       "      <td>...</td>\n",
       "    </tr>\n",
       "    <tr>\n",
       "      <td>1308</td>\n",
       "      <td>944950609</td>\n",
       "      <td>0.766016</td>\n",
       "      <td>0.766016</td>\n",
       "      <td>NaN</td>\n",
       "      <td>0.546875</td>\n",
       "      <td>1.0</td>\n",
       "      <td>0.811594</td>\n",
       "      <td>256.0</td>\n",
       "      <td>140.0</td>\n",
       "      <td>69.0</td>\n",
       "      <td>...</td>\n",
       "      <td>944810835.0</td>\n",
       "      <td>[945473009]</td>\n",
       "      <td>[929913236]</td>\n",
       "      <td>VisualBehavior</td>\n",
       "      <td>2019-09-12 10:57:08.386</td>\n",
       "      <td>OPHYS_3_images_A</td>\n",
       "      <td>NaN</td>\n",
       "      <td>False</td>\n",
       "      <td>Vip Inhibitory</td>\n",
       "      <td>Familiar</td>\n",
       "    </tr>\n",
       "    <tr>\n",
       "      <td>1309</td>\n",
       "      <td>947311015</td>\n",
       "      <td>0.580280</td>\n",
       "      <td>0.580280</td>\n",
       "      <td>NaN</td>\n",
       "      <td>0.371859</td>\n",
       "      <td>1.0</td>\n",
       "      <td>0.600000</td>\n",
       "      <td>597.0</td>\n",
       "      <td>222.0</td>\n",
       "      <td>90.0</td>\n",
       "      <td>...</td>\n",
       "      <td>946951902.0</td>\n",
       "      <td>[947716576]</td>\n",
       "      <td>[929913236]</td>\n",
       "      <td>VisualBehavior</td>\n",
       "      <td>2019-09-16 11:58:09.088</td>\n",
       "      <td>OPHYS_3_images_A</td>\n",
       "      <td>NaN</td>\n",
       "      <td>False</td>\n",
       "      <td>Vip Inhibitory</td>\n",
       "      <td>Familiar</td>\n",
       "    </tr>\n",
       "    <tr>\n",
       "      <td>1310</td>\n",
       "      <td>948206919</td>\n",
       "      <td>0.829001</td>\n",
       "      <td>0.829001</td>\n",
       "      <td>NaN</td>\n",
       "      <td>0.386824</td>\n",
       "      <td>1.0</td>\n",
       "      <td>0.705882</td>\n",
       "      <td>592.0</td>\n",
       "      <td>229.0</td>\n",
       "      <td>102.0</td>\n",
       "      <td>...</td>\n",
       "      <td>948090163.0</td>\n",
       "      <td>[948507789]</td>\n",
       "      <td>[929913236]</td>\n",
       "      <td>VisualBehavior</td>\n",
       "      <td>2019-09-17 10:57:00.923</td>\n",
       "      <td>OPHYS_3_images_A</td>\n",
       "      <td>NaN</td>\n",
       "      <td>False</td>\n",
       "      <td>Vip Inhibitory</td>\n",
       "      <td>Familiar</td>\n",
       "    </tr>\n",
       "    <tr>\n",
       "      <td>1311</td>\n",
       "      <td>950157787</td>\n",
       "      <td>0.747872</td>\n",
       "      <td>0.747872</td>\n",
       "      <td>NaN</td>\n",
       "      <td>0.144817</td>\n",
       "      <td>1.0</td>\n",
       "      <td>0.377880</td>\n",
       "      <td>1312.0</td>\n",
       "      <td>190.0</td>\n",
       "      <td>217.0</td>\n",
       "      <td>...</td>\n",
       "      <td>949209988.0</td>\n",
       "      <td>[950833329]</td>\n",
       "      <td>[929913236]</td>\n",
       "      <td>VisualBehavior</td>\n",
       "      <td>2019-09-19 11:24:18.459</td>\n",
       "      <td>OPHYS_4_images_B</td>\n",
       "      <td>NaN</td>\n",
       "      <td>False</td>\n",
       "      <td>Vip Inhibitory</td>\n",
       "      <td>Novel 1</td>\n",
       "    </tr>\n",
       "    <tr>\n",
       "      <td>1312</td>\n",
       "      <td>952746230</td>\n",
       "      <td>0.636675</td>\n",
       "      <td>0.636675</td>\n",
       "      <td>NaN</td>\n",
       "      <td>0.103160</td>\n",
       "      <td>1.0</td>\n",
       "      <td>0.265306</td>\n",
       "      <td>1677.0</td>\n",
       "      <td>173.0</td>\n",
       "      <td>245.0</td>\n",
       "      <td>...</td>\n",
       "      <td>952434025.0</td>\n",
       "      <td>[953443028]</td>\n",
       "      <td>[929913236]</td>\n",
       "      <td>VisualBehavior</td>\n",
       "      <td>2019-09-23 10:25:09.751</td>\n",
       "      <td>OPHYS_6_images_B</td>\n",
       "      <td>NaN</td>\n",
       "      <td>False</td>\n",
       "      <td>Vip Inhibitory</td>\n",
       "      <td>Novel &gt;1</td>\n",
       "    </tr>\n",
       "  </tbody>\n",
       "</table>\n",
       "<p>1313 rows × 42 columns</p>\n",
       "</div>"
      ],
      "text/plain": [
       "      behavior_session_id  dprime_non_trial_corrected  dprime_trial_corrected  \\\n",
       "0               884776248                    0.923742                0.923742   \n",
       "1               885540237                    0.623553                0.623553   \n",
       "2               886442346                    0.956242                0.956242   \n",
       "3               892510304                    0.614751                0.614751   \n",
       "4               893560763                    1.713756                1.553515   \n",
       "...                   ...                         ...                     ...   \n",
       "1308            944950609                    0.766016                0.766016   \n",
       "1309            947311015                    0.580280                0.580280   \n",
       "1310            948206919                    0.829001                0.829001   \n",
       "1311            950157787                    0.747872                0.747872   \n",
       "1312            952746230                    0.636675                0.636675   \n",
       "\n",
       "     error   fa_rate  fraction_engaged  hit_rate  \\\n",
       "0      NaN  0.445255               1.0  0.784091   \n",
       "1      NaN  0.173585               1.0  0.375796   \n",
       "2      NaN  0.415344               1.0  0.771084   \n",
       "3      NaN  0.250871               1.0  0.477273   \n",
       "4      NaN  0.729927               1.0  1.000000   \n",
       "...    ...       ...               ...       ...   \n",
       "1308   NaN  0.546875               1.0  0.811594   \n",
       "1309   NaN  0.371859               1.0  0.600000   \n",
       "1310   NaN  0.386824               1.0  0.705882   \n",
       "1311   NaN  0.144817               1.0  0.377880   \n",
       "1312   NaN  0.103160               1.0  0.265306   \n",
       "\n",
       "      number_of_engaged_catch_trials  number_of_engaged_false_alarms  \\\n",
       "0                              411.0                           183.0   \n",
       "1                             1060.0                           184.0   \n",
       "2                              378.0                           157.0   \n",
       "3                              861.0                           216.0   \n",
       "4                              137.0                           100.0   \n",
       "...                              ...                             ...   \n",
       "1308                           256.0                           140.0   \n",
       "1309                           597.0                           222.0   \n",
       "1310                           592.0                           229.0   \n",
       "1311                          1312.0                           190.0   \n",
       "1312                          1677.0                           173.0   \n",
       "\n",
       "      number_of_engaged_go_trials  ...  ophys_session_id  ophys_experiment_id  \\\n",
       "0                            88.0  ...               NaN                  NaN   \n",
       "1                           157.0  ...               NaN                  NaN   \n",
       "2                            83.0  ...               NaN                  NaN   \n",
       "3                           132.0  ...               NaN                  NaN   \n",
       "4                            33.0  ...               NaN                  NaN   \n",
       "...                           ...  ...               ...                  ...   \n",
       "1308                         69.0  ...       944810835.0          [945473009]   \n",
       "1309                         90.0  ...       946951902.0          [947716576]   \n",
       "1310                        102.0  ...       948090163.0          [948507789]   \n",
       "1311                        217.0  ...       949209988.0          [950833329]   \n",
       "1312                        245.0  ...       952434025.0          [953443028]   \n",
       "\n",
       "      ophys_container_id    project_code      date_of_acquisition  \\\n",
       "0                    NaN             NaN  2019-06-11 11:51:02.415   \n",
       "1                    NaN             NaN  2019-06-12 11:10:55.978   \n",
       "2                    NaN             NaN  2019-06-13 13:13:29.587   \n",
       "3                    NaN             NaN  2019-06-21 10:48:46.019   \n",
       "4                    NaN             NaN  2019-06-24 13:10:41.640   \n",
       "...                  ...             ...                      ...   \n",
       "1308         [929913236]  VisualBehavior  2019-09-12 10:57:08.386   \n",
       "1309         [929913236]  VisualBehavior  2019-09-16 11:58:09.088   \n",
       "1310         [929913236]  VisualBehavior  2019-09-17 10:57:00.923   \n",
       "1311         [929913236]  VisualBehavior  2019-09-19 11:24:18.459   \n",
       "1312         [929913236]  VisualBehavior  2019-09-23 10:25:09.751   \n",
       "\n",
       "                           session_type       file_id  passive  \\\n",
       "0          TRAINING_5_images_A_epilogue  1.081630e+09    False   \n",
       "1     TRAINING_5_images_A_handoff_ready  1.081631e+09    False   \n",
       "2     TRAINING_5_images_A_handoff_ready  1.081632e+09    False   \n",
       "3     TRAINING_5_images_A_handoff_ready  1.081641e+09    False   \n",
       "4     TRAINING_5_images_A_handoff_ready  1.081642e+09    False   \n",
       "...                                 ...           ...      ...   \n",
       "1308                   OPHYS_3_images_A           NaN    False   \n",
       "1309                   OPHYS_3_images_A           NaN    False   \n",
       "1310                   OPHYS_3_images_A           NaN    False   \n",
       "1311                   OPHYS_4_images_B           NaN    False   \n",
       "1312                   OPHYS_6_images_B           NaN    False   \n",
       "\n",
       "           cell_type experience_level  \n",
       "0     Sst Inhibitory         Training  \n",
       "1     Sst Inhibitory         Training  \n",
       "2     Sst Inhibitory         Training  \n",
       "3     Sst Inhibitory         Training  \n",
       "4     Sst Inhibitory         Training  \n",
       "...              ...              ...  \n",
       "1308  Vip Inhibitory         Familiar  \n",
       "1309  Vip Inhibitory         Familiar  \n",
       "1310  Vip Inhibitory         Familiar  \n",
       "1311  Vip Inhibitory          Novel 1  \n",
       "1312  Vip Inhibitory         Novel >1  \n",
       "\n",
       "[1313 rows x 42 columns]"
      ]
     },
     "execution_count": 19,
     "metadata": {},
     "output_type": "execute_result"
    }
   ],
   "source": []
  },
  {
   "cell_type": "code",
   "execution_count": null,
   "metadata": {},
   "outputs": [],
   "source": []
  },
  {
   "cell_type": "code",
   "execution_count": null,
   "metadata": {},
   "outputs": [],
   "source": [
    "metric = 'dprime_trial_corrected'\n",
    "colors = utils.get_experience_level_colors()\n",
    "colors = utils.get_experience_level_colors()\n",
    "colors = [(0.5, 0.5, 0.5)]+colors\n",
    "\n",
    "metrics = ['dprime_non_trial_corrected',\n",
    "       'dprime_trial_corrected', 'error', 'fa_rate', 'fraction_engaged',\n",
    "       'hit_rate', 'number_of_engaged_catch_trials',\n",
    "       'number_of_engaged_false_alarms', 'number_of_engaged_go_trials',\n",
    "       'number_of_engaged_hits', 'response_latency_25%',\n",
    "       'response_latency_50%', 'response_latency_75%',\n",
    "       'response_latency_count', 'response_latency_max',\n",
    "       'response_latency_mean', 'response_latency_min', 'response_latency_std',]\n",
    "\n",
    "for metric in metrics: \n",
    "    fig, ax = plt.subplots(figsize=(8,4))\n",
    "    ax = sns.boxplot(data=behavior_stats, x='cell_type', y=metric, order=cell_types, \n",
    "                      hue='experience_level', hue_order=experience_levels, palette=colors, width=0.5, dodge=True)\n",
    "    ax.legend(fontsize='small', title='', bbox_to_anchor=(1,1))\n",
    "    ax.set_xlabel('')\n",
    "    fig.tight_layout()"
   ]
  },
  {
   "cell_type": "code",
   "execution_count": null,
   "metadata": {},
   "outputs": [],
   "source": []
  },
  {
   "cell_type": "code",
   "execution_count": null,
   "metadata": {},
   "outputs": [],
   "source": [
    "metric = 'dprime_trial_corrected'\n",
    "colors = utils.get_experience_level_colors()\n",
    "# colors = utils.get_cre_line_colors()\n",
    "\n",
    "fig, ax = plt.subplots(figsize=(6,5))\n",
    "ax = sns.boxplot(data=behavior_stats, x='experience_level', y=metric, order=experience_levels, \n",
    "                  hue='experience_level', hue_order=experience_levels, palette=colors)"
   ]
  },
  {
   "cell_type": "code",
   "execution_count": 38,
   "metadata": {},
   "outputs": [
    {
     "ename": "ValueError",
     "evalue": "Could not interpret input 'd_prime_trial_corrected'",
     "output_type": "error",
     "traceback": [
      "\u001b[1;31m---------------------------------------------------------------------------\u001b[0m",
      "\u001b[1;31mValueError\u001b[0m                                Traceback (most recent call last)",
      "\u001b[1;32m<ipython-input-38-11b6134f3566>\u001b[0m in \u001b[0;36m<module>\u001b[1;34m\u001b[0m\n\u001b[0;32m      5\u001b[0m \u001b[0mfig\u001b[0m\u001b[1;33m,\u001b[0m \u001b[0max\u001b[0m \u001b[1;33m=\u001b[0m \u001b[0mplt\u001b[0m\u001b[1;33m.\u001b[0m\u001b[0msubplots\u001b[0m\u001b[1;33m(\u001b[0m\u001b[0mfigsize\u001b[0m\u001b[1;33m=\u001b[0m\u001b[1;33m(\u001b[0m\u001b[1;36m6\u001b[0m\u001b[1;33m,\u001b[0m\u001b[1;36m5\u001b[0m\u001b[1;33m)\u001b[0m\u001b[1;33m)\u001b[0m\u001b[1;33m\u001b[0m\u001b[1;33m\u001b[0m\u001b[0m\n\u001b[0;32m      6\u001b[0m ax = sns.pointplot(data=behavior_stats, x='experience_level', y=metric, order=experience_levels, \n\u001b[1;32m----> 7\u001b[1;33m                   hue='experience_level', hue_order=experience_levels)\n\u001b[0m",
      "\u001b[1;32m~\\Anaconda3\\envs\\visual_behavior_sdk\\lib\\site-packages\\seaborn\\_decorators.py\u001b[0m in \u001b[0;36minner_f\u001b[1;34m(*args, **kwargs)\u001b[0m\n\u001b[0;32m     44\u001b[0m             )\n\u001b[0;32m     45\u001b[0m         \u001b[0mkwargs\u001b[0m\u001b[1;33m.\u001b[0m\u001b[0mupdate\u001b[0m\u001b[1;33m(\u001b[0m\u001b[1;33m{\u001b[0m\u001b[0mk\u001b[0m\u001b[1;33m:\u001b[0m \u001b[0marg\u001b[0m \u001b[1;32mfor\u001b[0m \u001b[0mk\u001b[0m\u001b[1;33m,\u001b[0m \u001b[0marg\u001b[0m \u001b[1;32min\u001b[0m \u001b[0mzip\u001b[0m\u001b[1;33m(\u001b[0m\u001b[0msig\u001b[0m\u001b[1;33m.\u001b[0m\u001b[0mparameters\u001b[0m\u001b[1;33m,\u001b[0m \u001b[0margs\u001b[0m\u001b[1;33m)\u001b[0m\u001b[1;33m}\u001b[0m\u001b[1;33m)\u001b[0m\u001b[1;33m\u001b[0m\u001b[1;33m\u001b[0m\u001b[0m\n\u001b[1;32m---> 46\u001b[1;33m         \u001b[1;32mreturn\u001b[0m \u001b[0mf\u001b[0m\u001b[1;33m(\u001b[0m\u001b[1;33m**\u001b[0m\u001b[0mkwargs\u001b[0m\u001b[1;33m)\u001b[0m\u001b[1;33m\u001b[0m\u001b[1;33m\u001b[0m\u001b[0m\n\u001b[0m\u001b[0;32m     47\u001b[0m     \u001b[1;32mreturn\u001b[0m \u001b[0minner_f\u001b[0m\u001b[1;33m\u001b[0m\u001b[1;33m\u001b[0m\u001b[0m\n\u001b[0;32m     48\u001b[0m \u001b[1;33m\u001b[0m\u001b[0m\n",
      "\u001b[1;32m~\\Anaconda3\\envs\\visual_behavior_sdk\\lib\\site-packages\\seaborn\\categorical.py\u001b[0m in \u001b[0;36mpointplot\u001b[1;34m(x, y, hue, data, order, hue_order, estimator, ci, n_boot, units, seed, markers, linestyles, dodge, join, scale, orient, color, palette, errwidth, capsize, ax, **kwargs)\u001b[0m\n\u001b[0;32m   3373\u001b[0m                             \u001b[0mestimator\u001b[0m\u001b[1;33m,\u001b[0m \u001b[0mci\u001b[0m\u001b[1;33m,\u001b[0m \u001b[0mn_boot\u001b[0m\u001b[1;33m,\u001b[0m \u001b[0munits\u001b[0m\u001b[1;33m,\u001b[0m \u001b[0mseed\u001b[0m\u001b[1;33m,\u001b[0m\u001b[1;33m\u001b[0m\u001b[1;33m\u001b[0m\u001b[0m\n\u001b[0;32m   3374\u001b[0m                             \u001b[0mmarkers\u001b[0m\u001b[1;33m,\u001b[0m \u001b[0mlinestyles\u001b[0m\u001b[1;33m,\u001b[0m \u001b[0mdodge\u001b[0m\u001b[1;33m,\u001b[0m \u001b[0mjoin\u001b[0m\u001b[1;33m,\u001b[0m \u001b[0mscale\u001b[0m\u001b[1;33m,\u001b[0m\u001b[1;33m\u001b[0m\u001b[1;33m\u001b[0m\u001b[0m\n\u001b[1;32m-> 3375\u001b[1;33m                             orient, color, palette, errwidth, capsize)\n\u001b[0m\u001b[0;32m   3376\u001b[0m \u001b[1;33m\u001b[0m\u001b[0m\n\u001b[0;32m   3377\u001b[0m     \u001b[1;32mif\u001b[0m \u001b[0max\u001b[0m \u001b[1;32mis\u001b[0m \u001b[1;32mNone\u001b[0m\u001b[1;33m:\u001b[0m\u001b[1;33m\u001b[0m\u001b[1;33m\u001b[0m\u001b[0m\n",
      "\u001b[1;32m~\\Anaconda3\\envs\\visual_behavior_sdk\\lib\\site-packages\\seaborn\\categorical.py\u001b[0m in \u001b[0;36m__init__\u001b[1;34m(self, x, y, hue, data, order, hue_order, estimator, ci, n_boot, units, seed, markers, linestyles, dodge, join, scale, orient, color, palette, errwidth, capsize)\u001b[0m\n\u001b[0;32m   1654\u001b[0m         \u001b[1;34m\"\"\"Initialize the plotter.\"\"\"\u001b[0m\u001b[1;33m\u001b[0m\u001b[1;33m\u001b[0m\u001b[0m\n\u001b[0;32m   1655\u001b[0m         self.establish_variables(x, y, hue, data, orient,\n\u001b[1;32m-> 1656\u001b[1;33m                                  order, hue_order, units)\n\u001b[0m\u001b[0;32m   1657\u001b[0m         \u001b[0mself\u001b[0m\u001b[1;33m.\u001b[0m\u001b[0mestablish_colors\u001b[0m\u001b[1;33m(\u001b[0m\u001b[0mcolor\u001b[0m\u001b[1;33m,\u001b[0m \u001b[0mpalette\u001b[0m\u001b[1;33m,\u001b[0m \u001b[1;36m1\u001b[0m\u001b[1;33m)\u001b[0m\u001b[1;33m\u001b[0m\u001b[1;33m\u001b[0m\u001b[0m\n\u001b[0;32m   1658\u001b[0m         \u001b[0mself\u001b[0m\u001b[1;33m.\u001b[0m\u001b[0mestimate_statistic\u001b[0m\u001b[1;33m(\u001b[0m\u001b[0mestimator\u001b[0m\u001b[1;33m,\u001b[0m \u001b[0mci\u001b[0m\u001b[1;33m,\u001b[0m \u001b[0mn_boot\u001b[0m\u001b[1;33m,\u001b[0m \u001b[0mseed\u001b[0m\u001b[1;33m)\u001b[0m\u001b[1;33m\u001b[0m\u001b[1;33m\u001b[0m\u001b[0m\n",
      "\u001b[1;32m~\\Anaconda3\\envs\\visual_behavior_sdk\\lib\\site-packages\\seaborn\\categorical.py\u001b[0m in \u001b[0;36mestablish_variables\u001b[1;34m(self, x, y, hue, data, orient, order, hue_order, units)\u001b[0m\n\u001b[0;32m    151\u001b[0m                 \u001b[1;32mif\u001b[0m \u001b[0misinstance\u001b[0m\u001b[1;33m(\u001b[0m\u001b[0mvar\u001b[0m\u001b[1;33m,\u001b[0m \u001b[0mstr\u001b[0m\u001b[1;33m)\u001b[0m\u001b[1;33m:\u001b[0m\u001b[1;33m\u001b[0m\u001b[1;33m\u001b[0m\u001b[0m\n\u001b[0;32m    152\u001b[0m                     \u001b[0merr\u001b[0m \u001b[1;33m=\u001b[0m \u001b[1;34m\"Could not interpret input '{}'\"\u001b[0m\u001b[1;33m.\u001b[0m\u001b[0mformat\u001b[0m\u001b[1;33m(\u001b[0m\u001b[0mvar\u001b[0m\u001b[1;33m)\u001b[0m\u001b[1;33m\u001b[0m\u001b[1;33m\u001b[0m\u001b[0m\n\u001b[1;32m--> 153\u001b[1;33m                     \u001b[1;32mraise\u001b[0m \u001b[0mValueError\u001b[0m\u001b[1;33m(\u001b[0m\u001b[0merr\u001b[0m\u001b[1;33m)\u001b[0m\u001b[1;33m\u001b[0m\u001b[1;33m\u001b[0m\u001b[0m\n\u001b[0m\u001b[0;32m    154\u001b[0m \u001b[1;33m\u001b[0m\u001b[0m\n\u001b[0;32m    155\u001b[0m             \u001b[1;31m# Figure out the plotting orientation\u001b[0m\u001b[1;33m\u001b[0m\u001b[1;33m\u001b[0m\u001b[1;33m\u001b[0m\u001b[0m\n",
      "\u001b[1;31mValueError\u001b[0m: Could not interpret input 'd_prime_trial_corrected'"
     ]
    },
    {
     "data": {
      "image/png": "[encoded data removed]",
      "text/plain": [
       "<Figure size 432x360 with 1 Axes>"
      ]
     },
     "metadata": {},
     "output_type": "display_data"
    }
   ],
   "source": [
    "metric = 'dprime_trial_corrected'\n",
    "colors = utils.get_experience_level_colors()\n",
    "# colors = utils.get_cre_line_colors()\n",
    "\n",
    "fig, ax = plt.subplots(figsize=(6,5))\n",
    "ax = sns.pointplot(data=behavior_stats, x='experience_level', y=metric, order=experience_levels, \n",
    "                  hue='experience_level', hue_order=experience_levels, palette=colors)\n",
    "\n",
    "fig, ax = plt.subplots(figsize=(6,5))\n",
    "ax = sns.boxplot(data=behavior_stats, x='experience_level', y=metric, order=experience_levels, \n",
    "                  hue='experience_level', hue_order=experience_levels, palette=colors)\n",
    "\n",
    "fig, ax = plt.subplots(figsize=(6,5))\n",
    "ax = sns.swarmplot(data=behavior_stats, x='experience_level', y=metric, order=experience_levels, \n",
    "                  hue='experience_level', hue_order=experience_levels, palette=colors)"
   ]
  },
  {
   "cell_type": "code",
   "execution_count": null,
   "metadata": {},
   "outputs": [],
   "source": []
  },
  {
   "cell_type": "code",
   "execution_count": null,
   "metadata": {},
   "outputs": [],
   "source": []
  }
 ],
 "metadata": {
  "kernelspec": {
   "display_name": "visual_behavior_sdk",
   "language": "python",
   "name": "visual_behavior_sdk"
  },
  "language_info": {
   "codemirror_mode": {
    "name": "ipython",
    "version": 3
   },
   "file_extension": ".py",
   "mimetype": "text/x-python",
   "name": "python",
   "nbconvert_exporter": "python",
   "pygments_lexer": "ipython3",
   "version": "3.7.3"
  }
 },
 "nbformat": 4,
 "nbformat_minor": 2
}
