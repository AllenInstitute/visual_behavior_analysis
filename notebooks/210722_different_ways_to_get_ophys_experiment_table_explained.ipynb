{
 "cells": [
  {
   "cell_type": "markdown",
   "metadata": {},
   "source": [
    "This notebook demonstrates various ways of accessing the ophys_experiment_table for the Visual Behavior project"
   ]
  },
  {
   "cell_type": "markdown",
   "metadata": {},
   "source": [
    "## using allenSDK"
   ]
  },
  {
   "cell_type": "code",
   "execution_count": 1,
   "metadata": {},
   "outputs": [
    {
     "name": "stderr",
     "output_type": "stream",
     "text": [
      "C:\\Users\\marinag\\Anaconda3\\envs\\visual_behavior_sdk\\lib\\site-packages\\requests\\__init__.py:91: RequestsDependencyWarning: urllib3 (1.26.4) or chardet (3.0.4) doesn't match a supported version!\n",
      "  RequestsDependencyWarning)\n"
     ]
    }
   ],
   "source": [
    "from allensdk.brain_observatory.behavior.behavior_project_cache import VisualBehaviorOphysProjectCache as bpc"
   ]
  },
  {
   "cell_type": "markdown",
   "metadata": {},
   "source": [
    "#### get only experiments released on March 25th (including Ai94)\n"
   ]
  },
  {
   "cell_type": "code",
   "execution_count": 2,
   "metadata": {},
   "outputs": [],
   "source": [
    "cache = bpc.from_lims(data_release_date='2021-03-25')\n",
    "released_experiments = cache.get_ophys_experiment_table()"
   ]
  },
  {
   "cell_type": "code",
   "execution_count": 3,
   "metadata": {},
   "outputs": [
    {
     "name": "stdout",
     "output_type": "stream",
     "text": [
      "1165 experiments \n",
      "\n",
      "project_codes: ['VisualBehaviorMultiscope' 'VisualBehaviorTask1B' 'VisualBehavior'] \n",
      "\n",
      "full_genotypes: ['Sst-IRES-Cre/wt;Ai148(TIT2L-GC6f-ICL-tTA2)/wt'\n",
      " 'Vip-IRES-Cre/wt;Ai148(TIT2L-GC6f-ICL-tTA2)/wt'\n",
      " 'Slc17a7-IRES2-Cre/wt;Camk2a-tTA/wt;Ai94(TITL-GCaMP6s)/wt'\n",
      " 'Slc17a7-IRES2-Cre/wt;Camk2a-tTA/wt;Ai93(TITL-GCaMP6f)/wt'] \n",
      "\n",
      "experiment_workflow_states: ['passed'] \n",
      "\n",
      "container_workflow_states: ['published'] \n",
      "\n",
      "last acquisition date: 2020-12-17T18:01:12.000000000\n"
     ]
    }
   ],
   "source": [
    "print(len(released_experiments), 'experiments', '\\n')\n",
    "print('project_codes:', released_experiments.project_code.unique(), '\\n')\n",
    "print('full_genotypes:', released_experiments.full_genotype.unique(), '\\n')\n",
    "print('experiment_workflow_states:', released_experiments.experiment_workflow_state.unique(), '\\n')\n",
    "print('container_workflow_states:', released_experiments.container_workflow_state.unique(), '\\n')\n",
    "print('last acquisition date:', released_experiments.sort_values(by='date_of_acquisition', ascending=True).date_of_acquisition.values[-1])"
   ]
  },
  {
   "cell_type": "markdown",
   "metadata": {},
   "source": [
    "#### get ALL experiments in lims up to the current date, even ones with non-VB project codes (i.e. lots of irrrelevant stuff)\n"
   ]
  },
  {
   "cell_type": "code",
   "execution_count": 4,
   "metadata": {},
   "outputs": [
    {
     "data": {
      "text/plain": [
       "5167"
      ]
     },
     "execution_count": 4,
     "metadata": {},
     "output_type": "execute_result"
    }
   ],
   "source": [
    "cache = bpc.from_lims()\n",
    "all_experiments = cache.get_ophys_experiment_table()\n",
    "len(all_experiments)"
   ]
  },
  {
   "cell_type": "code",
   "execution_count": 5,
   "metadata": {},
   "outputs": [
    {
     "name": "stdout",
     "output_type": "stream",
     "text": [
      "5167 experiments \n",
      "\n",
      "project_codes: ['VisualBehaviorMultiscope' 'VisualBehavior' 'VisBIntTestDatacube'\n",
      " 'VisualBehaviorTask1B' 'MultiscopeSignalNoise'\n",
      " 'VisualBehaviorMultiscope4areasx2d' 'VisualBehaviorIntegrationTest'] \n",
      "\n",
      "full_genotypes: ['Sst-IRES-Cre/wt;Ai148(TIT2L-GC6f-ICL-tTA2)/wt'\n",
      " 'Slc17a7-IRES2-Cre/wt;Camk2a-tTA/wt;Ai94(TITL-GCaMP6s)/wt'\n",
      " 'Slc17a7-IRES2-Cre/wt;Camk2a-tTA/wt;Ai93(TITL-GCaMP6f)/wt'\n",
      " 'Vip-IRES-Cre/wt;Ai148(TIT2L-GC6f-ICL-tTA2)/wt'\n",
      " 'Cux2-CreERT2/wt;Camk2a-tTA/wt;Ai93(TITL-GCaMP6f)/wt'] \n",
      "\n",
      "experiment_workflow_states: ['passed' 'failed' 'qc' 'processing' 'created'] \n",
      "\n",
      "container_workflow_states: ['published' 'failed' 'holding' 'completed' 'container_qc'\n",
      " 'postprocessing'] \n",
      "\n",
      "last acquisition date: 2021-07-19T09:19:31.190371000\n"
     ]
    }
   ],
   "source": [
    "print(len(all_experiments), 'experiments', '\\n')\n",
    "print('project_codes:', all_experiments.project_code.unique(), '\\n')\n",
    "print('full_genotypes:', all_experiments.full_genotype.unique(), '\\n')\n",
    "print('experiment_workflow_states:', all_experiments.experiment_workflow_state.unique(), '\\n')\n",
    "print('container_workflow_states:', all_experiments.container_workflow_state.unique(), '\\n')\n",
    "print('last acquisition date:', all_experiments.sort_values(by='date_of_acquisition', ascending=True).date_of_acquisition.values[-1])"
   ]
  },
  {
   "cell_type": "markdown",
   "metadata": {},
   "source": [
    "## using visual_behavior_analysis "
   ]
  },
  {
   "cell_type": "markdown",
   "metadata": {},
   "source": [
    "### because the SDK only provides either a maximally permissive (all expts in lims) or maximally restrictive (only released data) list of experiments, we have a function in VBA that allows for various kinds of filtering "
   ]
  },
  {
   "cell_type": "code",
   "execution_count": 6,
   "metadata": {},
   "outputs": [],
   "source": [
    "import visual_behavior.data_access.loading as loading"
   ]
  },
  {
   "cell_type": "markdown",
   "metadata": {},
   "source": [
    "### released data only"
   ]
  },
  {
   "cell_type": "markdown",
   "metadata": {},
   "source": [
    "#### The equivalent of the SDK method above, to get all experiments released on March 25th (including Ai94), using VBA is this:\n"
   ]
  },
  {
   "cell_type": "code",
   "execution_count": 7,
   "metadata": {},
   "outputs": [
    {
     "name": "stdout",
     "output_type": "stream",
     "text": [
      "getting experiment table for March 25th release from lims\n"
     ]
    }
   ],
   "source": [
    "# note that Ai94 is excluded by default, need to set exclude_ai94 to False to include it\n",
    "vb_experiments = loading.get_filtered_ophys_experiment_table(release_data_only=True, \n",
    "                                                             exclude_ai94=False)"
   ]
  },
  {
   "cell_type": "code",
   "execution_count": 8,
   "metadata": {},
   "outputs": [
    {
     "name": "stdout",
     "output_type": "stream",
     "text": [
      "1165 experiments \n",
      "\n",
      "project_codes: ['VisualBehaviorMultiscope' 'VisualBehaviorTask1B' 'VisualBehavior'] \n",
      "\n",
      "full_genotypes: ['Sst-IRES-Cre/wt;Ai148(TIT2L-GC6f-ICL-tTA2)/wt'\n",
      " 'Vip-IRES-Cre/wt;Ai148(TIT2L-GC6f-ICL-tTA2)/wt'\n",
      " 'Slc17a7-IRES2-Cre/wt;Camk2a-tTA/wt;Ai94(TITL-GCaMP6s)/wt'\n",
      " 'Slc17a7-IRES2-Cre/wt;Camk2a-tTA/wt;Ai93(TITL-GCaMP6f)/wt'] \n",
      "\n",
      "experiment_workflow_states: ['passed'] \n",
      "\n",
      "container_workflow_states: ['published'] \n",
      "\n",
      "last acquisition date: 2020-12-17T18:01:12.000000000\n"
     ]
    }
   ],
   "source": [
    "print(len(vb_experiments), 'experiments', '\\n')\n",
    "print('project_codes:', vb_experiments.project_code.unique(), '\\n')\n",
    "print('full_genotypes:', vb_experiments.full_genotype.unique(), '\\n')\n",
    "print('experiment_workflow_states:', vb_experiments.experiment_workflow_state.unique(), '\\n')\n",
    "print('container_workflow_states:', vb_experiments.container_workflow_state.unique(), '\\n')\n",
    "print('last acquisition date:', vb_experiments.sort_values(by='date_of_acquisition', ascending=True).date_of_acquisition.values[-1])"
   ]
  },
  {
   "cell_type": "markdown",
   "metadata": {},
   "source": [
    "#### To get the released experiments, excluding Ai94, which is what we are using for the platform paper: "
   ]
  },
  {
   "cell_type": "code",
   "execution_count": 9,
   "metadata": {},
   "outputs": [
    {
     "name": "stdout",
     "output_type": "stream",
     "text": [
      "getting experiment table for March 25th release from lims\n",
      "excluding Ai94 data\n"
     ]
    }
   ],
   "source": [
    "# Ai94 is excluded by default,\n",
    "vb_experiments = loading.get_filtered_ophys_experiment_table(release_data_only=True)"
   ]
  },
  {
   "cell_type": "code",
   "execution_count": 10,
   "metadata": {},
   "outputs": [
    {
     "name": "stdout",
     "output_type": "stream",
     "text": [
      "1109 experiments \n",
      "\n",
      "project_codes: ['VisualBehaviorMultiscope' 'VisualBehaviorTask1B' 'VisualBehavior'] \n",
      "\n",
      "full_genotypes: ['Sst-IRES-Cre/wt;Ai148(TIT2L-GC6f-ICL-tTA2)/wt'\n",
      " 'Vip-IRES-Cre/wt;Ai148(TIT2L-GC6f-ICL-tTA2)/wt'\n",
      " 'Slc17a7-IRES2-Cre/wt;Camk2a-tTA/wt;Ai93(TITL-GCaMP6f)/wt'] \n",
      "\n",
      "experiment_workflow_states: ['passed'] \n",
      "\n",
      "container_workflow_states: ['published'] \n",
      "\n",
      "last acquisition date: 2020-12-17T18:01:12.000000000\n"
     ]
    }
   ],
   "source": [
    "print(len(vb_experiments), 'experiments', '\\n')\n",
    "print('project_codes:', vb_experiments.project_code.unique(), '\\n')\n",
    "print('full_genotypes:', vb_experiments.full_genotype.unique(), '\\n')\n",
    "print('experiment_workflow_states:', vb_experiments.experiment_workflow_state.unique(), '\\n')\n",
    "print('container_workflow_states:', vb_experiments.container_workflow_state.unique(), '\\n')\n",
    "print('last acquisition date:', vb_experiments.sort_values(by='date_of_acquisition', ascending=True).date_of_acquisition.values[-1])"
   ]
  },
  {
   "cell_type": "markdown",
   "metadata": {},
   "source": [
    "### all VB experiments, including failed ones"
   ]
  },
  {
   "cell_type": "markdown",
   "metadata": {},
   "source": [
    "#### this VBA function will get ALL experiments in lims, up to the current date\n",
    "#### it then limits to VB related project codes, valid session types, and adds some extra useful columns (QC fail tags for example)\n",
    "#### It is very slow! Do not use unless necessary. It is commented out here for that reason"
   ]
  },
  {
   "cell_type": "code",
   "execution_count": 11,
   "metadata": {},
   "outputs": [],
   "source": [
    "# vb_experiments = loading.get_filtered_ophys_experiment_table(include_failed_data=True, \n",
    "#                                                              release_data_only=False, \n",
    "#                                                              exclude_ai94=False,\n",
    "#                                                              from_cached_file=False)"
   ]
  },
  {
   "cell_type": "code",
   "execution_count": 12,
   "metadata": {},
   "outputs": [],
   "source": [
    "# print(len(vb_experiments), 'experiments', '\\n')\n",
    "# print('project_codes:', vb_experiments.project_code.unique(), '\\n')\n",
    "# print('full_genotypes:', vb_experiments.full_genotype.unique(), '\\n')\n",
    "# print('experiment_workflow_states:', vb_experiments.experiment_workflow_state.unique(), '\\n')\n",
    "# print('container_workflow_states:', vb_experiments.container_workflow_state.unique(), '\\n')\n",
    "# print('last acquisition date:', vb_experiments.sort_values(by='date_of_acquisition', ascending=True).date_of_acquisition.values[-1])"
   ]
  },
  {
   "cell_type": "markdown",
   "metadata": {},
   "source": [
    "#### This VBA function will use a cached version of the experiments table and is much faster to load\n",
    "#### It is equivalent to the table returned by the method above, but only up to a certain date (the last time it was saved)\n",
    "#### It includes failed data, limits to VB project codes and session types, and has the extra columns\n",
    "#### This is the recommended way to load the experiment_table for routine analysis (unless you only want released data)"
   ]
  },
  {
   "cell_type": "code",
   "execution_count": 13,
   "metadata": {},
   "outputs": [
    {
     "name": "stdout",
     "output_type": "stream",
     "text": [
      "loading cached experiment_table\n",
      "last updated on:\n",
      "Thu Jul 22 14:22:39 2021\n",
      "including failed data\n"
     ]
    }
   ],
   "source": [
    "vb_experiments = loading.get_filtered_ophys_experiment_table(include_failed_data=True, \n",
    "                                                             release_data_only=False, \n",
    "                                                             exclude_ai94=False,\n",
    "                                                             from_cached_file=True)"
   ]
  },
  {
   "cell_type": "code",
   "execution_count": 14,
   "metadata": {},
   "outputs": [
    {
     "name": "stdout",
     "output_type": "stream",
     "text": [
      "4541 experiments \n",
      "\n",
      "project_codes: ['VisualBehaviorMultiscope' 'VisualBehavior' 'VisualBehaviorTask1B'\n",
      " 'VisualBehaviorMultiscope4areasx2d'] \n",
      "\n",
      "full_genotypes: ['Sst-IRES-Cre/wt;Ai148(TIT2L-GC6f-ICL-tTA2)/wt'\n",
      " 'Slc17a7-IRES2-Cre/wt;Camk2a-tTA/wt;Ai94(TITL-GCaMP6s)/wt'\n",
      " 'Vip-IRES-Cre/wt;Ai148(TIT2L-GC6f-ICL-tTA2)/wt'\n",
      " 'Slc17a7-IRES2-Cre/wt;Camk2a-tTA/wt;Ai93(TITL-GCaMP6f)/wt'] \n",
      "\n",
      "experiment_workflow_states: ['passed' 'failed' 'qc' 'processing' 'created'] \n",
      "\n",
      "container_workflow_states: ['published' 'failed' 'container_qc' 'completed' 'holding'\n",
      " 'postprocessing'] \n",
      "\n",
      "last acquisition date: 2021-07-19 09:19:31.190371\n"
     ]
    }
   ],
   "source": [
    "print(len(vb_experiments), 'experiments', '\\n')\n",
    "print('project_codes:', vb_experiments.project_code.unique(), '\\n')\n",
    "print('full_genotypes:', vb_experiments.full_genotype.unique(), '\\n')\n",
    "print('experiment_workflow_states:', vb_experiments.experiment_workflow_state.unique(), '\\n')\n",
    "print('container_workflow_states:', vb_experiments.container_workflow_state.unique(), '\\n')\n",
    "print('last acquisition date:', vb_experiments.sort_values(by='date_of_acquisition', ascending=True).date_of_acquisition.values[-1])"
   ]
  },
  {
   "cell_type": "markdown",
   "metadata": {},
   "source": [
    "### default behavior\n"
   ]
  },
  {
   "cell_type": "markdown",
   "metadata": {},
   "source": [
    "#### by default, this function loads the experiments_table from the cached file (for speed),\n",
    "#### limits to VB project codes and session types,\n",
    "#### limits to passed experiments, \n",
    "#### and excludes Ai94"
   ]
  },
  {
   "cell_type": "markdown",
   "metadata": {},
   "source": [
    "#### the default, with no arguments:\n"
   ]
  },
  {
   "cell_type": "code",
   "execution_count": 15,
   "metadata": {},
   "outputs": [
    {
     "name": "stdout",
     "output_type": "stream",
     "text": [
      "loading cached experiment_table\n",
      "last updated on:\n",
      "Thu Jul 22 14:22:39 2021\n",
      "limiting to passed experiments\n",
      "limiting to sessions that start with OPHYS\n",
      "excluding Ai94 data\n"
     ]
    }
   ],
   "source": [
    "vb_experiments = loading.get_filtered_ophys_experiment_table()"
   ]
  },
  {
   "cell_type": "code",
   "execution_count": 16,
   "metadata": {},
   "outputs": [
    {
     "name": "stdout",
     "output_type": "stream",
     "text": [
      "1901 experiments \n",
      "\n",
      "project_codes: ['VisualBehaviorMultiscope' 'VisualBehaviorTask1B' 'VisualBehavior'\n",
      " 'VisualBehaviorMultiscope4areasx2d'] \n",
      "\n",
      "full_genotypes: ['Sst-IRES-Cre/wt;Ai148(TIT2L-GC6f-ICL-tTA2)/wt'\n",
      " 'Vip-IRES-Cre/wt;Ai148(TIT2L-GC6f-ICL-tTA2)/wt'\n",
      " 'Slc17a7-IRES2-Cre/wt;Camk2a-tTA/wt;Ai93(TITL-GCaMP6f)/wt'] \n",
      "\n",
      "experiment_workflow_states: ['passed'] \n",
      "\n",
      "container_workflow_states: ['published' 'container_qc' 'completed'] \n",
      "\n",
      "last acquisition date: 2021-06-22 08:22:01.643464\n"
     ]
    }
   ],
   "source": [
    "print(len(vb_experiments), 'experiments', '\\n')\n",
    "print('project_codes:', vb_experiments.project_code.unique(), '\\n')\n",
    "print('full_genotypes:', vb_experiments.full_genotype.unique(), '\\n')\n",
    "print('experiment_workflow_states:', vb_experiments.experiment_workflow_state.unique(), '\\n')\n",
    "print('container_workflow_states:', vb_experiments.container_workflow_state.unique(), '\\n')\n",
    "print('last acquisition date:', vb_experiments.sort_values(by='date_of_acquisition', ascending=True).date_of_acquisition.values[-1])"
   ]
  },
  {
   "cell_type": "markdown",
   "metadata": {},
   "source": [
    "#### The default with no arguments is equivalent to this (i.e. these are the default values of the arguments):\n"
   ]
  },
  {
   "cell_type": "code",
   "execution_count": 17,
   "metadata": {},
   "outputs": [
    {
     "name": "stdout",
     "output_type": "stream",
     "text": [
      "loading cached experiment_table\n",
      "last updated on:\n",
      "Thu Jul 22 14:22:39 2021\n",
      "limiting to passed experiments\n",
      "limiting to sessions that start with OPHYS\n",
      "excluding Ai94 data\n"
     ]
    }
   ],
   "source": [
    "vb_experiments = loading.get_filtered_ophys_experiment_table(include_failed_data=False, \n",
    "                                                             release_data_only=False, \n",
    "                                                             exclude_ai94=True,\n",
    "                                                             from_cached_file=True)"
   ]
  },
  {
   "cell_type": "code",
   "execution_count": 18,
   "metadata": {},
   "outputs": [
    {
     "name": "stdout",
     "output_type": "stream",
     "text": [
      "1901 experiments \n",
      "\n",
      "project_codes: ['VisualBehaviorMultiscope' 'VisualBehaviorTask1B' 'VisualBehavior'\n",
      " 'VisualBehaviorMultiscope4areasx2d'] \n",
      "\n",
      "full_genotypes: ['Sst-IRES-Cre/wt;Ai148(TIT2L-GC6f-ICL-tTA2)/wt'\n",
      " 'Vip-IRES-Cre/wt;Ai148(TIT2L-GC6f-ICL-tTA2)/wt'\n",
      " 'Slc17a7-IRES2-Cre/wt;Camk2a-tTA/wt;Ai93(TITL-GCaMP6f)/wt'] \n",
      "\n",
      "experiment_workflow_states: ['passed'] \n",
      "\n",
      "container_workflow_states: ['published' 'container_qc' 'completed'] \n",
      "\n",
      "last acquisition date: 2021-06-22 08:22:01.643464\n"
     ]
    }
   ],
   "source": [
    "print(len(vb_experiments), 'experiments', '\\n')\n",
    "print('project_codes:', vb_experiments.project_code.unique(), '\\n')\n",
    "print('full_genotypes:', vb_experiments.full_genotype.unique(), '\\n')\n",
    "print('experiment_workflow_states:', vb_experiments.experiment_workflow_state.unique(), '\\n')\n",
    "print('container_workflow_states:', vb_experiments.container_workflow_state.unique(), '\\n')\n",
    "print('last acquisition date:', vb_experiments.sort_values(by='date_of_acquisition', ascending=True).date_of_acquisition.values[-1])"
   ]
  },
  {
   "cell_type": "code",
   "execution_count": null,
   "metadata": {},
   "outputs": [],
   "source": []
  }
 ],
 "metadata": {
  "kernelspec": {
   "display_name": "visual_behavior_sdk",
   "language": "python",
   "name": "visual_behavior_sdk"
  },
  "language_info": {
   "codemirror_mode": {
    "name": "ipython",
    "version": 3
   },
   "file_extension": ".py",
   "mimetype": "text/x-python",
   "name": "python",
   "nbconvert_exporter": "python",
   "pygments_lexer": "ipython3",
   "version": "3.7.3"
  }
 },
 "nbformat": 4,
 "nbformat_minor": 2
}
