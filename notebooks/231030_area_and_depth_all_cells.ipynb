{
 "cells": [
  {
   "cell_type": "code",
   "execution_count": 1,
   "id": "5eef5015-e67e-4bef-b297-9be9d9ac0d16",
   "metadata": {},
   "outputs": [],
   "source": [
    "import numpy as np\n",
    "import pandas as pd\n",
    "import matplotlib.pyplot as plt\n",
    "import os\n",
    "import seaborn as sns\n",
    "import glob\n",
    "import h5py\n",
    "import re"
   ]
  },
  {
   "cell_type": "code",
   "execution_count": 2,
   "id": "f388f920-f782-4965-a931-ffcfd3f9cc9a",
   "metadata": {},
   "outputs": [
    {
     "data": {
      "text/plain": [
       "'1.21.6'"
      ]
     },
     "execution_count": 2,
     "metadata": {},
     "output_type": "execute_result"
    }
   ],
   "source": [
    "np.__version__"
   ]
  },
  {
   "cell_type": "code",
   "execution_count": 3,
   "id": "3359ec7b-89cb-4dcc-bddd-64450eeb5b6e",
   "metadata": {},
   "outputs": [],
   "source": [
    "directory = '//allen/programs/braintv/workgroups/nc-ophys/visual_behavior/platform_paper_plots/figure_4/all_cre_clustering_090923_select_k/'\n",
    "\n",
    "# Regular expression to match the desired file names\n",
    "pattern = r'cluster_meta_n_(\\d+)_clusters\\.h5'\n",
    "\n",
    "# Function to extract the number from the file name\n",
    "def extract_number(filename):\n",
    "    match = re.search(pattern, filename)\n",
    "    if match:\n",
    "        return int(match.group(1))\n",
    "    return -1\n",
    "\n",
    "# Get a list of all files in the directory\n",
    "all_files = os.listdir(directory)"
   ]
  },
  {
   "cell_type": "code",
   "execution_count": 4,
   "id": "d1441e52-fe32-4103-82fd-cbd81b76eab0",
   "metadata": {},
   "outputs": [],
   "source": [
    "%load_ext autoreload\n",
    "%autoreload 2\n",
    "%matplotlib inline\n"
   ]
  },
  {
   "cell_type": "code",
   "execution_count": 5,
   "id": "766905ba-cb30-47d2-befd-5977edb97e5a",
   "metadata": {},
   "outputs": [],
   "source": [
    "filename = 'cluster_meta_n_14_clusters.h5'"
   ]
  },
  {
   "cell_type": "code",
   "execution_count": 6,
   "id": "ab61febb-8845-4e79-b0be-0bb2104f7b10",
   "metadata": {},
   "outputs": [],
   "source": [
    "file_path = os.path.join(directory, filename)\n",
    "cluster_df = pd.read_hdf(file_path, key='df')"
   ]
  },
  {
   "cell_type": "code",
   "execution_count": 36,
   "id": "410ee2fe-beca-4aeb-b5fc-aa3743b9d98b",
   "metadata": {},
   "outputs": [],
   "source": [
    "### functions\n",
    "def get_table_long(cluster_df_all, location='area_layer', cluster_range = range(0, 12)):\n",
    "    cluster_df_all['location'] = cluster_df_all[location].copy()\n",
    "    table_cre = pd.DataFrame()\n",
    "    \n",
    "    for i,cre in enumerate(np.sort(cluster_df_all.cre_line.unique())):\n",
    "        areas = locations[location]\n",
    "    \n",
    "        # compute the table of proportions\n",
    "        table = glm_clust.compute_proportion_cre(df=cluster_df_all, cre=cre, areas=areas)\n",
    "    \n",
    "        # make sure that there are 12 clusters for all\n",
    "        table = table.reindex(cluster_range).reset_index()\n",
    "   \n",
    "        # add cre line\n",
    "        table['cre_line'] = cre\n",
    "        if i == 0:\n",
    "            table_cre=table.copy()\n",
    "        else:\n",
    "            # concatinate tables with all cre\n",
    "            table_cre = pd.concat([table_cre, table], ignore_index=True)\n",
    "\n",
    "    # start with 1\n",
    "    table_cre['cluster_id'] = table_cre['cluster_id'].copy()+1\n",
    "\n",
    "    # convert to long format\n",
    "    table_long = pd.melt(table_cre, id_vars=['cluster_id', 'cre_line'], var_name='location', value_name='proportion')\n",
    "\n",
    "    return table_long"
   ]
  },
  {
   "cell_type": "markdown",
   "id": "77409b94-8cbf-4466-9379-bae8b22cc6de",
   "metadata": {},
   "source": [
    "#### load cell table to find area and depth"
   ]
  },
  {
   "cell_type": "code",
   "execution_count": 7,
   "id": "6bf73a62-29fe-4127-829a-2ea22425f073",
   "metadata": {},
   "outputs": [
    {
     "name": "stderr",
     "output_type": "stream",
     "text": [
      "c:\\users\\iryna.yavorska\\documents\\github\\allensdk\\allensdk\\api\\cloud_cache\\cloud_cache.py:521: OutdatedManifestWarning: You are loading visual-behavior-ophys_project_manifest_v1.0.1.json. A more up to date version of the dataset -- visual-behavior-ophys_project_manifest_v1.1.0.json -- exists online. To see the changes between the two versions of the dataset, run\n",
      "VisualBehaviorOphysProjectCache.compare_manifests('visual-behavior-ophys_project_manifest_v1.0.1.json', 'visual-behavior-ophys_project_manifest_v1.1.0.json')\n",
      "To load another version of the dataset, run\n",
      "VisualBehaviorOphysProjectCache.load_manifest('visual-behavior-ophys_project_manifest_v1.1.0.json')\n",
      "  warnings.warn(msg, OutdatedManifestWarning)\n"
     ]
    }
   ],
   "source": [
    "import visual_behavior.data_access.loading as loading\n",
    "cell_table = loading.get_cell_table()"
   ]
  },
  {
   "cell_type": "code",
   "execution_count": 8,
   "id": "04193518-4ca2-4dbc-b703-0449268c503d",
   "metadata": {},
   "outputs": [],
   "source": [
    "cell_specimen_ids = cluster_df.cell_specimen_id.values"
   ]
  },
  {
   "cell_type": "code",
   "execution_count": 9,
   "id": "02eb64cf-02a3-48d2-a879-b501a1fcefcd",
   "metadata": {},
   "outputs": [],
   "source": [
    "cell_table2 = cell_table[cell_table.cell_specimen_id.isin(cell_specimen_ids)]"
   ]
  },
  {
   "cell_type": "code",
   "execution_count": 10,
   "id": "6b37f0f1-cf21-455f-b459-9c9ebfd8f607",
   "metadata": {},
   "outputs": [
    {
     "data": {
      "text/plain": [
       "Index(['cell_specimen_id', 'ophys_experiment_id', 'equipment_name',\n",
       "       'full_genotype', 'mouse_id', 'reporter_line', 'driver_line', 'sex',\n",
       "       'age_in_days', 'cre_line', 'indicator', 'session_number',\n",
       "       'prior_exposures_to_session_type', 'prior_exposures_to_image_set',\n",
       "       'prior_exposures_to_omissions', 'ophys_session_id',\n",
       "       'behavior_session_id', 'ophys_container_id', 'project_code',\n",
       "       'imaging_depth', 'targeted_structure', 'date_of_acquisition',\n",
       "       'session_type', 'experience_level', 'passive', 'image_set', 'file_id',\n",
       "       'cell_type', 'depth', 'binned_depth', 'area_depth', 'area_binned_depth',\n",
       "       'layer', 'area_layer', 'date', 'first_novel',\n",
       "       'n_relative_to_first_novel', 'last_familiar', 'last_familiar_active',\n",
       "       'second_novel', 'second_novel_active', 'experience_exposure'],\n",
       "      dtype='object')"
      ]
     },
     "execution_count": 10,
     "metadata": {},
     "output_type": "execute_result"
    }
   ],
   "source": [
    "cell_table2.keys()"
   ]
  },
  {
   "cell_type": "code",
   "execution_count": 11,
   "id": "261fe5f2-ac9c-4d0c-81a0-5aff035f4277",
   "metadata": {},
   "outputs": [],
   "source": [
    "cell_table3 = cell_table2[['cell_specimen_id','cell_type', 'depth', 'binned_depth', 'area_depth', 'area_binned_depth',\n",
    "       'layer', 'area_layer', 'targeted_structure']]\n",
    "cell_table4 = cell_table3.drop_duplicates('cell_specimen_id')"
   ]
  },
  {
   "cell_type": "code",
   "execution_count": 12,
   "id": "6c10f88f-f3aa-4d5d-9897-2442b76402a2",
   "metadata": {},
   "outputs": [],
   "source": [
    "cluster_df_all = pd.merge(cluster_df, cell_table4, on='cell_specimen_id', how='inner')"
   ]
  },
  {
   "cell_type": "code",
   "execution_count": 13,
   "id": "aeaa6385-e524-4a6d-af49-f329fdeccc85",
   "metadata": {},
   "outputs": [],
   "source": [
    "cluster_df_all['location'] = cluster_df_all['area_layer'].copy()"
   ]
  },
  {
   "cell_type": "markdown",
   "id": "0facec91-c97a-48b0-85a3-2a51583a53da",
   "metadata": {},
   "source": [
    "#### use GLM clustering code to generate the area/depth analysis"
   ]
  },
  {
   "cell_type": "code",
   "execution_count": 14,
   "id": "3a9defc9-df3b-4345-ab08-a3917213144d",
   "metadata": {},
   "outputs": [],
   "source": [
    "import visual_behavior_glm.GLM_clustering as glm_clust"
   ]
  },
  {
   "cell_type": "code",
   "execution_count": 15,
   "id": "dc4bd01c-d9d0-4d87-97ff-061aac630f70",
   "metadata": {},
   "outputs": [
    {
     "data": {
      "text/plain": [
       "array(['VISp_upper', 'VISp_lower', 'VISl_upper', 'VISl_lower'],\n",
       "      dtype=object)"
      ]
     },
     "execution_count": 15,
     "metadata": {},
     "output_type": "execute_result"
    }
   ],
   "source": [
    "cluster_df_all.location.unique()"
   ]
  },
  {
   "cell_type": "code",
   "execution_count": 16,
   "id": "a66dee2a-f84d-4ba5-b5ae-794afab3c4c0",
   "metadata": {},
   "outputs": [
    {
     "data": {
      "image/png": "[encoded data removed]",
      "text/plain": [
       "<Figure size 504x720 with 2 Axes>"
      ]
     },
     "metadata": {
      "needs_background": "light"
     },
     "output_type": "display_data"
    }
   ],
   "source": [
    "areas = ['VISp_upper', 'VISp_lower', 'VISl_upper', 'VISl_lower']\n",
    "cre = 'none'\n",
    "fig, ax = plt.subplots(1,1, figsize = (7,10))\n",
    "glm_clust.plot_proportion_cre(df=cluster_df_all, areas=areas, fig=fig, ax=ax, cre=cre,test='chi_squared_')"
   ]
  },
  {
   "cell_type": "markdown",
   "id": "338f27f4-0f25-4cec-955b-bd7401e94af0",
   "metadata": {},
   "source": [
    "#### Use cre lines"
   ]
  },
  {
   "cell_type": "code",
   "execution_count": 17,
   "id": "2732514e-61c4-41bd-819b-a616dcb7c65c",
   "metadata": {},
   "outputs": [
    {
     "data": {
      "image/png": "[encoded data removed]",
      "text/plain": [
       "<Figure size 720x504 with 6 Axes>"
      ]
     },
     "metadata": {
      "needs_background": "light"
     },
     "output_type": "display_data"
    }
   ],
   "source": [
    "areas = ['VISp_upper', 'VISp_lower', 'VISl_upper', 'VISl_lower']\n",
    "\n",
    "fig, ax = plt.subplots(1,3, figsize = (10,7))\n",
    "for i,cre in enumerate(np.sort(cluster_df_all.cre_line.unique())):\n",
    "    glm_clust.plot_proportion_cre(df=cluster_df_all, areas=areas, fig=fig, ax=ax[i], cre=cre,test='g_test_')\n",
    "\n",
    "plt.tight_layout()"
   ]
  },
  {
   "cell_type": "markdown",
   "id": "11ada2fc-083d-4ed3-80ab-b5860d7486b7",
   "metadata": {},
   "source": [
    "Primary visual cortex:\n",
    "- Overrepresentation of cluster 10 that is modulated by task during novelty. This is super interesting cause you would expect higher visual areas to integrate task related behaviors. This may be related to stronger modulation by movement or licking in the novel session. \n",
    "\n",
    "- When using g test, we do not see significant difference in areas for beahvioral cluster 9, which often pops up more LM based.\n",
    "\n",
    "- non responsive cells are likely to be in superficial layers.\n",
    "\n",
    "- Novelty cells are prominent in superficial V1.\n",
    "\n",
    "- Deep layers are more consistently responding to all images, including familiar only. \n",
    "\n",
    "- Suppression by novelty excitatory cells are more common in deep layers, while SST are in superficial layers."
   ]
  },
  {
   "cell_type": "markdown",
   "id": "7f7a31b6-47b6-43f6-8923-cdb8f8927a2a",
   "metadata": {},
   "source": [
    "#### Bar plot of area and depth representation"
   ]
  },
  {
   "cell_type": "code",
   "execution_count": 18,
   "id": "b974ae59-a2b6-45db-9ef9-da42ce4f7610",
   "metadata": {},
   "outputs": [
    {
     "data": {
      "image/png": "[encoded data removed]",
      "text/plain": [
       "<Figure size 504x288 with 2 Axes>"
      ]
     },
     "metadata": {
      "needs_background": "light"
     },
     "output_type": "display_data"
    },
    {
     "data": {
      "image/png": "[encoded data removed]",
      "text/plain": [
       "<Figure size 504x288 with 2 Axes>"
      ]
     },
     "metadata": {
      "needs_background": "light"
     },
     "output_type": "display_data"
    },
    {
     "data": {
      "image/png": "[encoded data removed]",
      "text/plain": [
       "<Figure size 504x288 with 2 Axes>"
      ]
     },
     "metadata": {
      "needs_background": "light"
     },
     "output_type": "display_data"
    }
   ],
   "source": [
    "\n",
    "grey_palette = sns.color_palette(\"gray\")\n",
    "legend=True\n",
    "for i,cre in enumerate(np.sort(cluster_df_all.cre_line.unique())):\n",
    "   \n",
    "    fig, ax = plt.subplots(2,1, figsize = (7,4), sharex=True)\n",
    "    table = glm_clust.compute_proportion_cre(df=cluster_df_all, cre=cre, areas=areas)\n",
    "    cluster_range = range(0, 12)\n",
    "    table = table.reindex(cluster_range).reset_index()\n",
    "    table['cluster_id'] = table['cluster_id'].copy()+1\n",
    "    table_VISp = table[['cluster_id', 'VISp_upper', 'VISp_lower']]\n",
    "    table_VISl = table[['cluster_id', 'VISl_upper', 'VISl_lower']]\n",
    "    df_visp = pd.melt(table_VISp, id_vars=['cluster_id'], var_name='location', value_name='proportion')\n",
    "    df_visl = pd.melt(table_VISl, id_vars=['cluster_id'], var_name='location', value_name='proportion')\n",
    "\n",
    "    sns.barplot(data=df_visp, x='cluster_id', y='proportion', hue='location', palette=grey_palette, ax=ax[0])\n",
    "    sns.barplot(data=df_visl, x='cluster_id', y='proportion', hue='location', palette=grey_palette, ax=ax[1])\n",
    "    # if legend is True:\n",
    "    #     legend=False\n",
    "    # else:\n",
    "    #     ax[1].legend('')\n",
    "    \n",
    "    # stats\n",
    "    test='g_test_'\n",
    "    table2 = glm_clust.stats(df=cluster_df_all, cre=cre, areas=areas, test=test)\n",
    "    \n",
    "    ax[0].set_ylim([0, 0.4])\n",
    "    ax[0].set_title('V1')\n",
    "    ax[0].legend('')\n",
    "    ax[0].set_xlabel('')\n",
    "    ax[1].set_ylim([0, 0.4])\n",
    "    ax[1].set_title('LM')\n",
    "    ax[1].legend('')\n",
    "    plt.suptitle(cre)\n",
    "    plt.tight_layout()\n"
   ]
  },
  {
   "cell_type": "code",
   "execution_count": 19,
   "id": "77fc2957-6eeb-4a2b-af16-dac1ef9ce3d4",
   "metadata": {},
   "outputs": [
    {
     "data": {
      "image/png": "[encoded data removed]",
      "text/plain": [
       "<Figure size 504x288 with 3 Axes>"
      ]
     },
     "metadata": {
      "needs_background": "light"
     },
     "output_type": "display_data"
    }
   ],
   "source": [
    "\n",
    "### plot on one bar plot\n",
    "\n",
    "grey_palette = sns.color_palette(\"gray\")\n",
    "legend=True\n",
    "fig, ax = plt.subplots(3,1, figsize = (7,4), sharex=True)\n",
    "\n",
    "for i,cre in enumerate(np.sort(cluster_df_all.cre_line.unique())):\n",
    "   \n",
    "    table = glm_clust.compute_proportion_cre(df=cluster_df_all, cre=cre, areas=areas)\n",
    "    cluster_range = range(0, 12)\n",
    "    table = table.reindex(cluster_range).reset_index()\n",
    "    \n",
    "    table_long = pd.melt(table, id_vars=['cluster_id'], var_name='location', value_name='proportion')\n",
    "\n",
    "    sns.barplot(data=table_long, x='cluster_id', y='proportion', hue='location', palette='Paired', ax=ax[i])\n",
    "    # if legend is True:\n",
    "    #     legend=False\n",
    "    # else:\n",
    "    #     ax[1].legend('')\n",
    "    \n",
    "    # stats\n",
    "    test='g_test_'\n",
    "    table2 = glm_clust.stats(df=cluster_df_all, cre=cre, areas=areas, test=test)\n",
    "    \n",
    "    ax[i].set_ylim([0, 0.4])\n",
    "    ax[i].set_title(cre)\n",
    "    if i > 0:\n",
    "        ax[i].legend('')\n",
    "    ax[i].set_xlabel('')\n",
    "   \n",
    "    plt.tight_layout()\n"
   ]
  },
  {
   "cell_type": "code",
   "execution_count": 20,
   "id": "f9af38c6-2ac3-4232-9ec3-c224dcda43da",
   "metadata": {},
   "outputs": [],
   "source": [
    "locations = {'targeted_structure': ['VISp', 'VISl'],\n",
    "            'layer': ['upper', 'lower'],\n",
    "            'area_layer':['VISp_upper', 'VISp_lower', 'VISl_upper', 'VISl_lower']}\n"
   ]
  },
  {
   "cell_type": "code",
   "execution_count": 21,
   "id": "5464fd82-9b4e-4e81-aa48-6d2360cbe98a",
   "metadata": {},
   "outputs": [],
   "source": [
    "# table_cre = table_cre[['cluster_id', 'cre_line', *locations[location]]]"
   ]
  },
  {
   "cell_type": "markdown",
   "id": "533ead01-3d0e-4763-8b85-d4a63ae54522",
   "metadata": {},
   "source": [
    "### By different location per cluster"
   ]
  },
  {
   "cell_type": "markdown",
   "id": "49f68d41-5263-4f6c-a6ba-b27fab87661b",
   "metadata": {},
   "source": [
    "#### area"
   ]
  },
  {
   "cell_type": "code",
   "execution_count": 22,
   "id": "bffa2551-f804-45f6-aff9-681137b75688",
   "metadata": {},
   "outputs": [],
   "source": [
    "#get cluster df for specific location\n",
    "location = 'targeted_structure'\n",
    "cluster_df_all['location'] = cluster_df_all[location].copy()\n",
    "table_cre = pd.DataFrame()\n",
    "cluster_range = range(0, 12)\n",
    "for i,cre in enumerate(np.sort(cluster_df_all.cre_line.unique())):\n",
    "    areas = locations[location]\n",
    "    \n",
    "    # compute the table of proportions\n",
    "    table = glm_clust.compute_proportion_cre(df=cluster_df_all, cre=cre, areas=areas)\n",
    "    \n",
    "    # make sure that there are 12 clusters for all\n",
    "    table = table.reindex(cluster_range).reset_index()\n",
    "   \n",
    "    # add cre line\n",
    "    table['cre_line'] = cre\n",
    "    if i == 0:\n",
    "        table_cre=table.copy()\n",
    "    else:\n",
    "        # concatinate tables with all cre\n",
    "        table_cre = pd.concat([table_cre, table], ignore_index=True)\n",
    "\n",
    "# start with 1\n",
    "table_cre['cluster_id'] = table_cre['cluster_id'].copy()+1\n",
    "\n",
    "# convert to long format\n",
    "table_long = pd.melt(table_cre, id_vars=['cluster_id', 'cre_line'], var_name='location', value_name='proportion')\n",
    "\n"
   ]
  },
  {
   "cell_type": "code",
   "execution_count": 23,
   "id": "7262d865-54bb-40fb-bbd0-dccf6dc48b30",
   "metadata": {},
   "outputs": [],
   "source": [
    "for i,cre in enumerate(np.sort(cluster_df_all.cre_line.unique())):\n",
    "    table2 = glm_clust.stats(df=cluster_df_all, cre=cre, areas=areas, test=test)\n",
    "    table2 = table2.reset_index()\n",
    "    table2['cre_line'] = cre\n",
    "    if i == 0:\n",
    "        table2_cre=table2.copy()\n",
    "    else:\n",
    "        # concatinate tables with all cre\n",
    "        table2_cre = pd.concat([table2_cre, table2], ignore_index=True)\n",
    "table2_cre['cluster_id'] = table2_cre['cluster_id'].copy()+1\n"
   ]
  },
  {
   "cell_type": "code",
   "execution_count": 24,
   "id": "d76d3eb9-487b-4738-8162-23e1f39f869f",
   "metadata": {},
   "outputs": [
    {
     "data": {
      "text/html": [
       "<div>\n",
       "<style scoped>\n",
       "    .dataframe tbody tr th:only-of-type {\n",
       "        vertical-align: middle;\n",
       "    }\n",
       "\n",
       "    .dataframe tbody tr th {\n",
       "        vertical-align: top;\n",
       "    }\n",
       "\n",
       "    .dataframe thead th {\n",
       "        text-align: right;\n",
       "    }\n",
       "</style>\n",
       "<table border=\"1\" class=\"dataframe\">\n",
       "  <thead>\n",
       "    <tr style=\"text-align: right;\">\n",
       "      <th>location</th>\n",
       "      <th>cluster_id</th>\n",
       "      <th>VISp</th>\n",
       "      <th>VISl</th>\n",
       "      <th>VISp_chance_count</th>\n",
       "      <th>VISl_chance_count</th>\n",
       "      <th>g_test_pvalue</th>\n",
       "      <th>significant</th>\n",
       "      <th>imq</th>\n",
       "      <th>bh_significant</th>\n",
       "      <th>cre_line</th>\n",
       "    </tr>\n",
       "  </thead>\n",
       "  <tbody>\n",
       "    <tr>\n",
       "      <th>11</th>\n",
       "      <td>12</td>\n",
       "      <td>23.0</td>\n",
       "      <td>6.0</td>\n",
       "      <td>23.812007</td>\n",
       "      <td>5.187993</td>\n",
       "      <td>0.699544</td>\n",
       "      <td>False</td>\n",
       "      <td>0.045833</td>\n",
       "      <td>False</td>\n",
       "      <td>Slc17a7-IRES2-Cre</td>\n",
       "    </tr>\n",
       "  </tbody>\n",
       "</table>\n",
       "</div>"
      ],
      "text/plain": [
       "location  cluster_id  VISp  VISl  VISp_chance_count  VISl_chance_count  \\\n",
       "11                12  23.0   6.0          23.812007           5.187993   \n",
       "\n",
       "location  g_test_pvalue significant       imq bh_significant  \\\n",
       "11             0.699544       False  0.045833          False   \n",
       "\n",
       "location           cre_line  \n",
       "11        Slc17a7-IRES2-Cre  "
      ]
     },
     "execution_count": 24,
     "metadata": {},
     "output_type": "execute_result"
    }
   ],
   "source": [
    "table2_cre.sample()"
   ]
  },
  {
   "cell_type": "code",
   "execution_count": 29,
   "id": "dd2adb62-024e-4f4d-b826-c07225544a69",
   "metadata": {},
   "outputs": [
    {
     "data": {
      "image/png": "[encoded data removed]",
      "text/plain": [
       "<Figure size 720x576 with 12 Axes>"
      ]
     },
     "metadata": {
      "needs_background": "light"
     },
     "output_type": "display_data"
    }
   ],
   "source": [
    "grey_palette = sns.color_palette(\"gray\")\n",
    "legend=True\n",
    "fig, axes = plt.subplots(4,3, figsize = (10,8), sharex=True, sharey=True)\n",
    "axes = axes.ravel()\n",
    "for j, ax in enumerate(axes):\n",
    "    sns.barplot(data=table_long[table_long['cluster_id']==j+1], \n",
    "                    x='cre_line', y ='proportion', hue = 'location', palette='gray', ax=ax)\n",
    "    ax.set_xticklabels(['Exc', 'SST', 'VIP'])\n",
    "    ax.set_title(f'cluster {j+1}')\n",
    "    if j > 0:\n",
    "        ax.legend('')\n",
    "    # plot stats\n",
    "    table2_cluster = table2_cre[table2_cre['cluster_id']==j+1][['cre_line', 'bh_significant']].reset_index(drop=True)\n",
    "    for index in table2_cluster.index.values:\n",
    "        if table2_cluster.loc[index]['bh_significant'] is True:\n",
    "            ax.plot(index, 0.3,'r*', markersize = 10)\n",
    "plt.tight_layout()  "
   ]
  },
  {
   "cell_type": "markdown",
   "id": "fc5c8bb1-bff2-41fb-9a87-873a288b85f0",
   "metadata": {},
   "source": [
    "#### layer"
   ]
  },
  {
   "cell_type": "code",
   "execution_count": 30,
   "id": "45804ea8-b697-459d-a65c-440d8e7df39b",
   "metadata": {},
   "outputs": [],
   "source": [
    "#get cluster df for specific location\n",
    "location = 'layer'\n",
    "cluster_df_all['location'] = cluster_df_all[location].copy()\n",
    "table_cre = pd.DataFrame()\n",
    "cluster_range = range(0, 12)\n",
    "for i,cre in enumerate(np.sort(cluster_df_all.cre_line.unique())):\n",
    "    areas = locations[location]\n",
    "    \n",
    "    # compute the table of proportions\n",
    "    table = glm_clust.compute_proportion_cre(df=cluster_df_all, cre=cre, areas=areas)\n",
    "    \n",
    "    # make sure that there are 12 clusters for all\n",
    "    table = table.reindex(cluster_range).reset_index()\n",
    "   \n",
    "    # add cre line\n",
    "    table['cre_line'] = cre\n",
    "    if i == 0:\n",
    "        table_cre=table.copy()\n",
    "    else:\n",
    "        # concatinate tables with all cre\n",
    "        table_cre = pd.concat([table_cre, table], ignore_index=True)\n",
    "\n",
    "# start with 1\n",
    "table_cre['cluster_id'] = table_cre['cluster_id'].copy()+1\n",
    "\n",
    "# convert to long format\n",
    "table_long = pd.melt(table_cre, id_vars=['cluster_id', 'cre_line'], var_name='location', value_name='proportion')\n",
    "\n"
   ]
  },
  {
   "cell_type": "code",
   "execution_count": 31,
   "id": "492170cf-0b83-4433-80b0-26c095b730b7",
   "metadata": {},
   "outputs": [],
   "source": [
    "for i,cre in enumerate(np.sort(cluster_df_all.cre_line.unique())):\n",
    "    areas = locations[location]\n",
    "    table2 = glm_clust.stats(df=cluster_df_all, cre=cre, areas=areas, test=test)\n",
    "    table2 = table2.reset_index()\n",
    "    table2['cre_line'] = cre\n",
    "    if i == 0:\n",
    "        table2_cre=table2.copy()\n",
    "    else:\n",
    "        # concatinate tables with all cre\n",
    "        table2_cre = pd.concat([table2_cre, table2], ignore_index=True)\n",
    "table2_cre['cluster_id'] = table2_cre['cluster_id'].copy()+1\n",
    "\n"
   ]
  },
  {
   "cell_type": "code",
   "execution_count": 32,
   "id": "61187086-2d9d-439b-8301-52d3476c2785",
   "metadata": {},
   "outputs": [
    {
     "data": {
      "text/html": [
       "<div>\n",
       "<style scoped>\n",
       "    .dataframe tbody tr th:only-of-type {\n",
       "        vertical-align: middle;\n",
       "    }\n",
       "\n",
       "    .dataframe tbody tr th {\n",
       "        vertical-align: top;\n",
       "    }\n",
       "\n",
       "    .dataframe thead th {\n",
       "        text-align: right;\n",
       "    }\n",
       "</style>\n",
       "<table border=\"1\" class=\"dataframe\">\n",
       "  <thead>\n",
       "    <tr style=\"text-align: right;\">\n",
       "      <th>location</th>\n",
       "      <th>cre_line</th>\n",
       "      <th>bh_significant</th>\n",
       "    </tr>\n",
       "  </thead>\n",
       "  <tbody>\n",
       "    <tr>\n",
       "      <th>0</th>\n",
       "      <td>Slc17a7-IRES2-Cre</td>\n",
       "      <td>True</td>\n",
       "    </tr>\n",
       "    <tr>\n",
       "      <th>1</th>\n",
       "      <td>Sst-IRES-Cre</td>\n",
       "      <td>NaN</td>\n",
       "    </tr>\n",
       "    <tr>\n",
       "      <th>2</th>\n",
       "      <td>Vip-IRES-Cre</td>\n",
       "      <td>False</td>\n",
       "    </tr>\n",
       "  </tbody>\n",
       "</table>\n",
       "</div>"
      ],
      "text/plain": [
       "location           cre_line bh_significant\n",
       "0         Slc17a7-IRES2-Cre           True\n",
       "1              Sst-IRES-Cre            NaN\n",
       "2              Vip-IRES-Cre          False"
      ]
     },
     "execution_count": 32,
     "metadata": {},
     "output_type": "execute_result"
    }
   ],
   "source": [
    "table2_cluster = table2_cre[table2_cre['cluster_id']==2][['cre_line', 'bh_significant']].reset_index(drop=True)\n",
    "table2_cluster "
   ]
  },
  {
   "cell_type": "code",
   "execution_count": 33,
   "id": "cddf95da-68f6-4d43-a8e9-16c99d81ed14",
   "metadata": {},
   "outputs": [
    {
     "data": {
      "image/png": "[encoded data removed]",
      "text/plain": [
       "<Figure size 720x576 with 12 Axes>"
      ]
     },
     "metadata": {
      "needs_background": "light"
     },
     "output_type": "display_data"
    }
   ],
   "source": [
    "grey_palette = sns.color_palette(\"gray\")\n",
    "legend=True\n",
    "fig, axes = plt.subplots(4,3, figsize = (10,8), sharex=True, sharey=True)\n",
    "axes = axes.ravel()\n",
    "for j, ax in enumerate(axes):\n",
    "    sns.barplot(data=table_long[table_long['cluster_id']==j+1], \n",
    "                    x='cre_line', y ='proportion', hue = 'location', palette='gray', ax=ax)\n",
    "    ax.set_xticklabels(['Exc', 'SST', 'VIP'])\n",
    "    ax.set_title(f'cluster {j+1}')\n",
    "    if j > 0:\n",
    "        ax.legend('')\n",
    "     # plot stats\n",
    "    table2_cluster = table2_cre[table2_cre['cluster_id']==j+1][['cre_line', 'bh_significant']].reset_index(drop=True)\n",
    "    for index in table2_cluster.index.values:\n",
    "        if table2_cluster.loc[index]['bh_significant'] is True:\n",
    "            ax.plot(index, 0.3,'r*', markersize = 10)\n",
    "plt.tight_layout()  "
   ]
  },
  {
   "cell_type": "markdown",
   "id": "dcd6ea7e-b9aa-4a24-90f2-d5f14512201f",
   "metadata": {},
   "source": [
    "#### area and depth"
   ]
  },
  {
   "cell_type": "code",
   "execution_count": 37,
   "id": "0e3c9cec-dab9-4873-b779-feb227588fd4",
   "metadata": {},
   "outputs": [],
   "source": [
    "#get cluster df for specific location\n",
    "location = 'area_layer'\n",
    "cluster_df_all['location'] = cluster_df_all[location].copy()\n",
    "table_cre = pd.DataFrame()\n",
    "cluster_range = range(0, 12)\n",
    "for i,cre in enumerate(np.sort(cluster_df_all.cre_line.unique())):\n",
    "    areas = locations[location]\n",
    "    \n",
    "    # compute the table of proportions\n",
    "    table = glm_clust.compute_proportion_cre(df=cluster_df_all, cre=cre, areas=areas)\n",
    "    \n",
    "    # make sure that there are 12 clusters for all\n",
    "    table = table.reindex(cluster_range).reset_index()\n",
    "   \n",
    "    # add cre line\n",
    "    table['cre_line'] = cre\n",
    "    if i == 0:\n",
    "        table_cre=table.copy()\n",
    "    else:\n",
    "        # concatinate tables with all cre\n",
    "        table_cre = pd.concat([table_cre, table], ignore_index=True)\n",
    "\n",
    "# start with 1\n",
    "table_cre['cluster_id'] = table_cre['cluster_id'].copy()+1\n",
    "\n",
    "# convert to long format\n",
    "table_long = pd.melt(table_cre, id_vars=['cluster_id', 'cre_line'], var_name='location', value_name='proportion')\n"
   ]
  },
  {
   "cell_type": "code",
   "execution_count": 38,
   "id": "275ef06a-56ac-4f05-a0f0-607e22ade688",
   "metadata": {},
   "outputs": [],
   "source": [
    "test = 'g_test_'\n",
    "for i,cre in enumerate(np.sort(cluster_df_all.cre_line.unique())):\n",
    "    table2 = glm_clust.stats(df=cluster_df_all, cre=cre, areas=areas, test=test)\n",
    "    table2 = table2.reindex(cluster_range).reset_index()\n",
    "    table2['cre_line'] = cre\n",
    "    if i == 0:\n",
    "        table2_cre=table2.copy()\n",
    "    else:\n",
    "        # concatinate tables with all cre\n",
    "        table2_cre = pd.concat([table2_cre, table2], ignore_index=True)\n",
    "table2_cre['cluster_id'] = table2_cre['cluster_id'].copy()+1"
   ]
  },
  {
   "cell_type": "code",
   "execution_count": 39,
   "id": "bd1d7df0-61f3-4ada-8b8c-07a77d5133cb",
   "metadata": {},
   "outputs": [
    {
     "data": {
      "image/png": "[encoded data removed]",
      "text/plain": [
       "<Figure size 720x576 with 12 Axes>"
      ]
     },
     "metadata": {
      "needs_background": "light"
     },
     "output_type": "display_data"
    }
   ],
   "source": [
    "grey_palette = sns.color_palette(\"gray\")\n",
    "legend=True\n",
    "fig, axes = plt.subplots(4,3, figsize = (10,8), sharex=True, sharey=True)\n",
    "axes = axes.ravel()\n",
    "for j, ax in enumerate(axes):\n",
    "    sns.barplot(data=table_long[table_long['cluster_id']==j+1], \n",
    "                    x='cre_line', y ='proportion', hue = 'location', palette='gray', ax=ax)\n",
    "    ax.set_xticklabels(['Exc', 'SST', 'VIP'])\n",
    "    ax.set_title(f'cluster {j+1}')\n",
    "     # plot stats\n",
    "    table2_cluster = table2_cre[table2_cre['cluster_id']==j+1][['cre_line', 'bh_significant']].reset_index(drop=True)\n",
    "    for index in table2_cluster.index.values:\n",
    "        if table2_cluster.loc[index]['bh_significant'] is True:\n",
    "            ax.plot(index, 0.3,'r*', markersize = 10)\n",
    "    if j != 11:\n",
    "        ax.legend('')\n",
    "plt.tight_layout()  \n",
    "\n"
   ]
  },
  {
   "cell_type": "code",
   "execution_count": 40,
   "id": "fefde35a-b87a-473a-91d6-35a02c1c39d9",
   "metadata": {},
   "outputs": [
    {
     "data": {
      "text/html": [
       "<div>\n",
       "<style scoped>\n",
       "    .dataframe tbody tr th:only-of-type {\n",
       "        vertical-align: middle;\n",
       "    }\n",
       "\n",
       "    .dataframe tbody tr th {\n",
       "        vertical-align: top;\n",
       "    }\n",
       "\n",
       "    .dataframe thead th {\n",
       "        text-align: right;\n",
       "    }\n",
       "</style>\n",
       "<table border=\"1\" class=\"dataframe\">\n",
       "  <thead>\n",
       "    <tr style=\"text-align: right;\">\n",
       "      <th>location</th>\n",
       "      <th>cre_line</th>\n",
       "      <th>bh_significant</th>\n",
       "    </tr>\n",
       "  </thead>\n",
       "  <tbody>\n",
       "    <tr>\n",
       "      <th>0</th>\n",
       "      <td>Slc17a7-IRES2-Cre</td>\n",
       "      <td>False</td>\n",
       "    </tr>\n",
       "    <tr>\n",
       "      <th>1</th>\n",
       "      <td>Sst-IRES-Cre</td>\n",
       "      <td>NaN</td>\n",
       "    </tr>\n",
       "    <tr>\n",
       "      <th>2</th>\n",
       "      <td>Vip-IRES-Cre</td>\n",
       "      <td>False</td>\n",
       "    </tr>\n",
       "  </tbody>\n",
       "</table>\n",
       "</div>"
      ],
      "text/plain": [
       "location           cre_line bh_significant\n",
       "0         Slc17a7-IRES2-Cre          False\n",
       "1              Sst-IRES-Cre            NaN\n",
       "2              Vip-IRES-Cre          False"
      ]
     },
     "execution_count": 40,
     "metadata": {},
     "output_type": "execute_result"
    }
   ],
   "source": [
    "table2_cluster"
   ]
  },
  {
   "cell_type": "code",
   "execution_count": 41,
   "id": "a265fb0e-6986-46f4-b384-104c99f9b6bc",
   "metadata": {},
   "outputs": [],
   "source": [
    "table_long[['area', 'layer']] = table_long['location'].str.split('_', expand=True)\n"
   ]
  },
  {
   "cell_type": "code",
   "execution_count": 42,
   "id": "c2d15a9c-70c4-4238-b9de-eb44c95fcd0c",
   "metadata": {},
   "outputs": [],
   "source": [
    "table_layer = table_long.copy()"
   ]
  },
  {
   "cell_type": "code",
   "execution_count": 43,
   "id": "ce544e06-a830-4e3c-a8a9-3fc1e9ad3e19",
   "metadata": {},
   "outputs": [],
   "source": [
    "# Create new columns 'upper' and 'lower' based on 'layer' column\n",
    "table_layer['upper'] = table_long['proportion'][table_long['layer'] == 'upper']\n",
    "table_layer['lower'] = table_long['proportion'][table_long['layer'] == 'lower']\n",
    "\n",
    "# Drop the 'layer' column\n",
    "table_layer = table_layer.drop(columns=['layer'])"
   ]
  },
  {
   "cell_type": "code",
   "execution_count": 44,
   "id": "0acbaa66-62f4-44e1-bba9-d3bbe44954a0",
   "metadata": {},
   "outputs": [],
   "source": [
    "table2_layer = table_layer.groupby(['cluster_id', 'cre_line','area']).mean().reset_index()"
   ]
  },
  {
   "cell_type": "code",
   "execution_count": 45,
   "id": "f3565d8b-358b-40dd-a89d-56bb1aea2ef2",
   "metadata": {},
   "outputs": [
    {
     "data": {
      "text/html": [
       "<div>\n",
       "<style scoped>\n",
       "    .dataframe tbody tr th:only-of-type {\n",
       "        vertical-align: middle;\n",
       "    }\n",
       "\n",
       "    .dataframe tbody tr th {\n",
       "        vertical-align: top;\n",
       "    }\n",
       "\n",
       "    .dataframe thead th {\n",
       "        text-align: right;\n",
       "    }\n",
       "</style>\n",
       "<table border=\"1\" class=\"dataframe\">\n",
       "  <thead>\n",
       "    <tr style=\"text-align: right;\">\n",
       "      <th></th>\n",
       "      <th>cluster_id</th>\n",
       "      <th>cre_line</th>\n",
       "      <th>area</th>\n",
       "      <th>proportion</th>\n",
       "      <th>upper</th>\n",
       "      <th>lower</th>\n",
       "    </tr>\n",
       "  </thead>\n",
       "  <tbody>\n",
       "    <tr>\n",
       "      <th>0</th>\n",
       "      <td>1</td>\n",
       "      <td>Slc17a7-IRES2-Cre</td>\n",
       "      <td>VISl</td>\n",
       "      <td>0.292305</td>\n",
       "      <td>0.394495</td>\n",
       "      <td>0.190114</td>\n",
       "    </tr>\n",
       "    <tr>\n",
       "      <th>1</th>\n",
       "      <td>1</td>\n",
       "      <td>Slc17a7-IRES2-Cre</td>\n",
       "      <td>VISp</td>\n",
       "      <td>0.218255</td>\n",
       "      <td>0.315884</td>\n",
       "      <td>0.120625</td>\n",
       "    </tr>\n",
       "    <tr>\n",
       "      <th>2</th>\n",
       "      <td>1</td>\n",
       "      <td>Sst-IRES-Cre</td>\n",
       "      <td>VISl</td>\n",
       "      <td>0.020000</td>\n",
       "      <td>0.040000</td>\n",
       "      <td>0.000000</td>\n",
       "    </tr>\n",
       "    <tr>\n",
       "      <th>3</th>\n",
       "      <td>1</td>\n",
       "      <td>Sst-IRES-Cre</td>\n",
       "      <td>VISp</td>\n",
       "      <td>0.030833</td>\n",
       "      <td>0.020000</td>\n",
       "      <td>0.041667</td>\n",
       "    </tr>\n",
       "    <tr>\n",
       "      <th>4</th>\n",
       "      <td>1</td>\n",
       "      <td>Vip-IRES-Cre</td>\n",
       "      <td>VISl</td>\n",
       "      <td>0.075304</td>\n",
       "      <td>0.073684</td>\n",
       "      <td>0.076923</td>\n",
       "    </tr>\n",
       "    <tr>\n",
       "      <th>...</th>\n",
       "      <td>...</td>\n",
       "      <td>...</td>\n",
       "      <td>...</td>\n",
       "      <td>...</td>\n",
       "      <td>...</td>\n",
       "      <td>...</td>\n",
       "    </tr>\n",
       "    <tr>\n",
       "      <th>67</th>\n",
       "      <td>12</td>\n",
       "      <td>Slc17a7-IRES2-Cre</td>\n",
       "      <td>VISp</td>\n",
       "      <td>0.008020</td>\n",
       "      <td>0.005415</td>\n",
       "      <td>0.010625</td>\n",
       "    </tr>\n",
       "    <tr>\n",
       "      <th>68</th>\n",
       "      <td>12</td>\n",
       "      <td>Sst-IRES-Cre</td>\n",
       "      <td>VISl</td>\n",
       "      <td>NaN</td>\n",
       "      <td>NaN</td>\n",
       "      <td>NaN</td>\n",
       "    </tr>\n",
       "    <tr>\n",
       "      <th>69</th>\n",
       "      <td>12</td>\n",
       "      <td>Sst-IRES-Cre</td>\n",
       "      <td>VISp</td>\n",
       "      <td>NaN</td>\n",
       "      <td>NaN</td>\n",
       "      <td>NaN</td>\n",
       "    </tr>\n",
       "    <tr>\n",
       "      <th>70</th>\n",
       "      <td>12</td>\n",
       "      <td>Vip-IRES-Cre</td>\n",
       "      <td>VISl</td>\n",
       "      <td>0.124291</td>\n",
       "      <td>0.094737</td>\n",
       "      <td>0.153846</td>\n",
       "    </tr>\n",
       "    <tr>\n",
       "      <th>71</th>\n",
       "      <td>12</td>\n",
       "      <td>Vip-IRES-Cre</td>\n",
       "      <td>VISp</td>\n",
       "      <td>0.089655</td>\n",
       "      <td>0.179310</td>\n",
       "      <td>0.000000</td>\n",
       "    </tr>\n",
       "  </tbody>\n",
       "</table>\n",
       "<p>72 rows × 6 columns</p>\n",
       "</div>"
      ],
      "text/plain": [
       "    cluster_id           cre_line  area  proportion     upper     lower\n",
       "0            1  Slc17a7-IRES2-Cre  VISl    0.292305  0.394495  0.190114\n",
       "1            1  Slc17a7-IRES2-Cre  VISp    0.218255  0.315884  0.120625\n",
       "2            1       Sst-IRES-Cre  VISl    0.020000  0.040000  0.000000\n",
       "3            1       Sst-IRES-Cre  VISp    0.030833  0.020000  0.041667\n",
       "4            1       Vip-IRES-Cre  VISl    0.075304  0.073684  0.076923\n",
       "..         ...                ...   ...         ...       ...       ...\n",
       "67          12  Slc17a7-IRES2-Cre  VISp    0.008020  0.005415  0.010625\n",
       "68          12       Sst-IRES-Cre  VISl         NaN       NaN       NaN\n",
       "69          12       Sst-IRES-Cre  VISp         NaN       NaN       NaN\n",
       "70          12       Vip-IRES-Cre  VISl    0.124291  0.094737  0.153846\n",
       "71          12       Vip-IRES-Cre  VISp    0.089655  0.179310  0.000000\n",
       "\n",
       "[72 rows x 6 columns]"
      ]
     },
     "execution_count": 45,
     "metadata": {},
     "output_type": "execute_result"
    }
   ],
   "source": [
    "table2_layer "
   ]
  },
  {
   "cell_type": "code",
   "execution_count": 46,
   "id": "9b0b0865-e79a-4001-981e-aed03d2cd326",
   "metadata": {},
   "outputs": [
    {
     "data": {
      "image/png": "[encoded data removed]",
      "text/plain": [
       "<Figure size 360x360 with 1 Axes>"
      ]
     },
     "metadata": {
      "needs_background": "light"
     },
     "output_type": "display_data"
    }
   ],
   "source": [
    "fig, ax = plt.subplots(1,1, figsize = (5,5))\n",
    "markers = ['D', 's', '8']\n",
    "for c, cre in enumerate(table2_layer.cre_line.unique()):\n",
    "    sns.scatterplot(data=table2_layer[table2_layer.cre_line==cre] , x = 'lower', y = 'upper', \n",
    "                    hue = 'cluster_id', palette = 'Set3', s=100, marker=markers[c], ax=ax)\n",
    "    ax.legend('')\n",
    "    plt.plot([0, 0.4], [0,0.4], '--', color='gray')"
   ]
  },
  {
   "cell_type": "markdown",
   "id": "9363748e-e93c-498e-998d-dfb99b61ffa2",
   "metadata": {},
   "source": [
    "### Modulation index by layer (table2_layer)"
   ]
  },
  {
   "cell_type": "code",
   "execution_count": 47,
   "id": "570b163d-5313-4463-944d-5817d3570f4b",
   "metadata": {},
   "outputs": [],
   "source": [
    "table2_layer['modulation_index'] = (table2_layer['upper'] - table2_layer['lower']) / (table2_layer['lower'] + table2_layer['upper'])\n"
   ]
  },
  {
   "cell_type": "code",
   "execution_count": 48,
   "id": "e29b3246-38de-4084-921e-687e47c6cd67",
   "metadata": {},
   "outputs": [
    {
     "data": {
      "text/plain": [
       "Text(0.5, 1.0, 'compbined across areas')"
      ]
     },
     "execution_count": 48,
     "metadata": {},
     "output_type": "execute_result"
    },
    {
     "data": {
      "image/png": "[encoded data removed]",
      "text/plain": [
       "<Figure size 504x216 with 1 Axes>"
      ]
     },
     "metadata": {
      "needs_background": "light"
     },
     "output_type": "display_data"
    }
   ],
   "source": [
    "fig, ax= plt.subplots(1,1,figsize = (7,3))\n",
    "ax=sns.barplot(data=table2_layer, x='cluster_id', y='modulation_index', hue='cre_line', ax=ax)\n",
    "ax.set_ylabel('Mod Index of layer \\n(u-l)/(u+l)')\n",
    "ax.set_title('compbined across areas')"
   ]
  },
  {
   "cell_type": "markdown",
   "id": "e32abad7-7c52-435e-8268-f34edba60568",
   "metadata": {},
   "source": [
    "### Modulation index by area"
   ]
  },
  {
   "cell_type": "code",
   "execution_count": 49,
   "id": "40ad14ed-2dc9-46dd-8523-e59c31947e33",
   "metadata": {},
   "outputs": [
    {
     "data": {
      "text/html": [
       "<div>\n",
       "<style scoped>\n",
       "    .dataframe tbody tr th:only-of-type {\n",
       "        vertical-align: middle;\n",
       "    }\n",
       "\n",
       "    .dataframe tbody tr th {\n",
       "        vertical-align: top;\n",
       "    }\n",
       "\n",
       "    .dataframe thead th {\n",
       "        text-align: right;\n",
       "    }\n",
       "</style>\n",
       "<table border=\"1\" class=\"dataframe\">\n",
       "  <thead>\n",
       "    <tr style=\"text-align: right;\">\n",
       "      <th></th>\n",
       "      <th>cluster_id</th>\n",
       "      <th>cre_line</th>\n",
       "      <th>location</th>\n",
       "      <th>proportion</th>\n",
       "    </tr>\n",
       "  </thead>\n",
       "  <tbody>\n",
       "    <tr>\n",
       "      <th>0</th>\n",
       "      <td>1</td>\n",
       "      <td>Slc17a7-IRES2-Cre</td>\n",
       "      <td>VISp_upper</td>\n",
       "      <td>0.315884</td>\n",
       "    </tr>\n",
       "    <tr>\n",
       "      <th>1</th>\n",
       "      <td>2</td>\n",
       "      <td>Slc17a7-IRES2-Cre</td>\n",
       "      <td>VISp_upper</td>\n",
       "      <td>0.222022</td>\n",
       "    </tr>\n",
       "    <tr>\n",
       "      <th>2</th>\n",
       "      <td>3</td>\n",
       "      <td>Slc17a7-IRES2-Cre</td>\n",
       "      <td>VISp_upper</td>\n",
       "      <td>0.113718</td>\n",
       "    </tr>\n",
       "    <tr>\n",
       "      <th>3</th>\n",
       "      <td>4</td>\n",
       "      <td>Slc17a7-IRES2-Cre</td>\n",
       "      <td>VISp_upper</td>\n",
       "      <td>0.065884</td>\n",
       "    </tr>\n",
       "    <tr>\n",
       "      <th>4</th>\n",
       "      <td>5</td>\n",
       "      <td>Slc17a7-IRES2-Cre</td>\n",
       "      <td>VISp_upper</td>\n",
       "      <td>0.095668</td>\n",
       "    </tr>\n",
       "  </tbody>\n",
       "</table>\n",
       "</div>"
      ],
      "text/plain": [
       "   cluster_id           cre_line    location  proportion\n",
       "0           1  Slc17a7-IRES2-Cre  VISp_upper    0.315884\n",
       "1           2  Slc17a7-IRES2-Cre  VISp_upper    0.222022\n",
       "2           3  Slc17a7-IRES2-Cre  VISp_upper    0.113718\n",
       "3           4  Slc17a7-IRES2-Cre  VISp_upper    0.065884\n",
       "4           5  Slc17a7-IRES2-Cre  VISp_upper    0.095668"
      ]
     },
     "execution_count": 49,
     "metadata": {},
     "output_type": "execute_result"
    }
   ],
   "source": [
    "table_long= get_table_long(cluster_df_all)\n",
    "table_long.head()"
   ]
  },
  {
   "cell_type": "code",
   "execution_count": 50,
   "id": "d8956623-a16b-4f25-88f2-b825b9c51aa7",
   "metadata": {},
   "outputs": [],
   "source": [
    "table_long[['targeted_structure', 'layer']] = table_long['location'].str.split('_', expand=True)\n",
    "table_area = table_long.copy()\n",
    "table_area['VISp'] = table_long['proportion'][table_long['targeted_structure'] == 'VISp']\n",
    "table_area['VISl'] = table_long['proportion'][table_long['targeted_structure'] == 'VISl']\n",
    "\n",
    "# Drop the 'layer' column\n",
    "table_area = table_area.drop(columns=['targeted_structure'])"
   ]
  },
  {
   "cell_type": "code",
   "execution_count": 51,
   "id": "e9b6c165-2b16-42e8-b02a-59bb0464ce17",
   "metadata": {},
   "outputs": [
    {
     "data": {
      "text/html": [
       "<div>\n",
       "<style scoped>\n",
       "    .dataframe tbody tr th:only-of-type {\n",
       "        vertical-align: middle;\n",
       "    }\n",
       "\n",
       "    .dataframe tbody tr th {\n",
       "        vertical-align: top;\n",
       "    }\n",
       "\n",
       "    .dataframe thead th {\n",
       "        text-align: right;\n",
       "    }\n",
       "</style>\n",
       "<table border=\"1\" class=\"dataframe\">\n",
       "  <thead>\n",
       "    <tr style=\"text-align: right;\">\n",
       "      <th></th>\n",
       "      <th>cluster_id</th>\n",
       "      <th>cre_line</th>\n",
       "      <th>location</th>\n",
       "      <th>proportion</th>\n",
       "      <th>layer</th>\n",
       "      <th>VISp</th>\n",
       "      <th>VISl</th>\n",
       "    </tr>\n",
       "  </thead>\n",
       "  <tbody>\n",
       "    <tr>\n",
       "      <th>0</th>\n",
       "      <td>1</td>\n",
       "      <td>Slc17a7-IRES2-Cre</td>\n",
       "      <td>VISp_upper</td>\n",
       "      <td>0.315884</td>\n",
       "      <td>upper</td>\n",
       "      <td>0.315884</td>\n",
       "      <td>NaN</td>\n",
       "    </tr>\n",
       "    <tr>\n",
       "      <th>1</th>\n",
       "      <td>2</td>\n",
       "      <td>Slc17a7-IRES2-Cre</td>\n",
       "      <td>VISp_upper</td>\n",
       "      <td>0.222022</td>\n",
       "      <td>upper</td>\n",
       "      <td>0.222022</td>\n",
       "      <td>NaN</td>\n",
       "    </tr>\n",
       "    <tr>\n",
       "      <th>2</th>\n",
       "      <td>3</td>\n",
       "      <td>Slc17a7-IRES2-Cre</td>\n",
       "      <td>VISp_upper</td>\n",
       "      <td>0.113718</td>\n",
       "      <td>upper</td>\n",
       "      <td>0.113718</td>\n",
       "      <td>NaN</td>\n",
       "    </tr>\n",
       "    <tr>\n",
       "      <th>3</th>\n",
       "      <td>4</td>\n",
       "      <td>Slc17a7-IRES2-Cre</td>\n",
       "      <td>VISp_upper</td>\n",
       "      <td>0.065884</td>\n",
       "      <td>upper</td>\n",
       "      <td>0.065884</td>\n",
       "      <td>NaN</td>\n",
       "    </tr>\n",
       "    <tr>\n",
       "      <th>4</th>\n",
       "      <td>5</td>\n",
       "      <td>Slc17a7-IRES2-Cre</td>\n",
       "      <td>VISp_upper</td>\n",
       "      <td>0.095668</td>\n",
       "      <td>upper</td>\n",
       "      <td>0.095668</td>\n",
       "      <td>NaN</td>\n",
       "    </tr>\n",
       "    <tr>\n",
       "      <th>...</th>\n",
       "      <td>...</td>\n",
       "      <td>...</td>\n",
       "      <td>...</td>\n",
       "      <td>...</td>\n",
       "      <td>...</td>\n",
       "      <td>...</td>\n",
       "      <td>...</td>\n",
       "    </tr>\n",
       "    <tr>\n",
       "      <th>139</th>\n",
       "      <td>8</td>\n",
       "      <td>Vip-IRES-Cre</td>\n",
       "      <td>VISl_lower</td>\n",
       "      <td>NaN</td>\n",
       "      <td>lower</td>\n",
       "      <td>NaN</td>\n",
       "      <td>NaN</td>\n",
       "    </tr>\n",
       "    <tr>\n",
       "      <th>140</th>\n",
       "      <td>9</td>\n",
       "      <td>Vip-IRES-Cre</td>\n",
       "      <td>VISl_lower</td>\n",
       "      <td>0.307692</td>\n",
       "      <td>lower</td>\n",
       "      <td>NaN</td>\n",
       "      <td>0.307692</td>\n",
       "    </tr>\n",
       "    <tr>\n",
       "      <th>141</th>\n",
       "      <td>10</td>\n",
       "      <td>Vip-IRES-Cre</td>\n",
       "      <td>VISl_lower</td>\n",
       "      <td>0.000000</td>\n",
       "      <td>lower</td>\n",
       "      <td>NaN</td>\n",
       "      <td>0.000000</td>\n",
       "    </tr>\n",
       "    <tr>\n",
       "      <th>142</th>\n",
       "      <td>11</td>\n",
       "      <td>Vip-IRES-Cre</td>\n",
       "      <td>VISl_lower</td>\n",
       "      <td>0.384615</td>\n",
       "      <td>lower</td>\n",
       "      <td>NaN</td>\n",
       "      <td>0.384615</td>\n",
       "    </tr>\n",
       "    <tr>\n",
       "      <th>143</th>\n",
       "      <td>12</td>\n",
       "      <td>Vip-IRES-Cre</td>\n",
       "      <td>VISl_lower</td>\n",
       "      <td>0.153846</td>\n",
       "      <td>lower</td>\n",
       "      <td>NaN</td>\n",
       "      <td>0.153846</td>\n",
       "    </tr>\n",
       "  </tbody>\n",
       "</table>\n",
       "<p>144 rows × 7 columns</p>\n",
       "</div>"
      ],
      "text/plain": [
       "     cluster_id           cre_line    location  proportion  layer      VISp  \\\n",
       "0             1  Slc17a7-IRES2-Cre  VISp_upper    0.315884  upper  0.315884   \n",
       "1             2  Slc17a7-IRES2-Cre  VISp_upper    0.222022  upper  0.222022   \n",
       "2             3  Slc17a7-IRES2-Cre  VISp_upper    0.113718  upper  0.113718   \n",
       "3             4  Slc17a7-IRES2-Cre  VISp_upper    0.065884  upper  0.065884   \n",
       "4             5  Slc17a7-IRES2-Cre  VISp_upper    0.095668  upper  0.095668   \n",
       "..          ...                ...         ...         ...    ...       ...   \n",
       "139           8       Vip-IRES-Cre  VISl_lower         NaN  lower       NaN   \n",
       "140           9       Vip-IRES-Cre  VISl_lower    0.307692  lower       NaN   \n",
       "141          10       Vip-IRES-Cre  VISl_lower    0.000000  lower       NaN   \n",
       "142          11       Vip-IRES-Cre  VISl_lower    0.384615  lower       NaN   \n",
       "143          12       Vip-IRES-Cre  VISl_lower    0.153846  lower       NaN   \n",
       "\n",
       "         VISl  \n",
       "0         NaN  \n",
       "1         NaN  \n",
       "2         NaN  \n",
       "3         NaN  \n",
       "4         NaN  \n",
       "..        ...  \n",
       "139       NaN  \n",
       "140  0.307692  \n",
       "141  0.000000  \n",
       "142  0.384615  \n",
       "143  0.153846  \n",
       "\n",
       "[144 rows x 7 columns]"
      ]
     },
     "execution_count": 51,
     "metadata": {},
     "output_type": "execute_result"
    }
   ],
   "source": [
    "table_area "
   ]
  },
  {
   "cell_type": "code",
   "execution_count": 52,
   "id": "aa275be5-ee0f-4fa7-9bf1-21840e1332b9",
   "metadata": {},
   "outputs": [],
   "source": [
    "table2_area = table_area.groupby(['cluster_id', 'cre_line','layer']).mean().reset_index()\n",
    "\n",
    "table2_area['modulation_index'] = (table2_area['VISp'] - table2_area['VISl']) / (table2_area['VISp'] + table2_area['VISl'])\n"
   ]
  },
  {
   "cell_type": "code",
   "execution_count": 53,
   "id": "06646dcb-8ac6-4f6f-9864-c87ef12c337f",
   "metadata": {},
   "outputs": [
    {
     "data": {
      "text/plain": [
       "Text(0.5, 1.0, 'compbined across layers')"
      ]
     },
     "execution_count": 53,
     "metadata": {},
     "output_type": "execute_result"
    },
    {
     "data": {
      "image/png": "[encoded data removed]",
      "text/plain": [
       "<Figure size 504x216 with 1 Axes>"
      ]
     },
     "metadata": {
      "needs_background": "light"
     },
     "output_type": "display_data"
    }
   ],
   "source": [
    "fig, ax= plt.subplots(1,1,figsize = (7,3))\n",
    "ax=sns.barplot(data=table2_area, x='cluster_id', y='modulation_index', hue='cre_line', ax=ax)\n",
    "ax.set_ylabel('Mod Index of areas \\n(u-l)/(u+l)')\n",
    "ax.set_title('compbined across layers')"
   ]
  },
  {
   "cell_type": "code",
   "execution_count": 54,
   "id": "a29e0234-d638-4b4e-90e5-62d931870b53",
   "metadata": {},
   "outputs": [],
   "source": [
    "combiend_table = table2_layer.copy()"
   ]
  },
  {
   "cell_type": "code",
   "execution_count": 55,
   "id": "a325125c-57a3-4d88-ad3b-a80128ffb259",
   "metadata": {},
   "outputs": [],
   "source": [
    "combiend_table = combiend_table.join(table2_area[['modulation_index']], lsuffix= '_layer', rsuffix='_area')"
   ]
  },
  {
   "cell_type": "code",
   "execution_count": 56,
   "id": "d75dd016-c811-4661-a61e-215666bbfad1",
   "metadata": {},
   "outputs": [
    {
     "data": {
      "text/html": [
       "<div>\n",
       "<style scoped>\n",
       "    .dataframe tbody tr th:only-of-type {\n",
       "        vertical-align: middle;\n",
       "    }\n",
       "\n",
       "    .dataframe tbody tr th {\n",
       "        vertical-align: top;\n",
       "    }\n",
       "\n",
       "    .dataframe thead th {\n",
       "        text-align: right;\n",
       "    }\n",
       "</style>\n",
       "<table border=\"1\" class=\"dataframe\">\n",
       "  <thead>\n",
       "    <tr style=\"text-align: right;\">\n",
       "      <th></th>\n",
       "      <th>cluster_id</th>\n",
       "      <th>cre_line</th>\n",
       "      <th>area</th>\n",
       "      <th>proportion</th>\n",
       "      <th>upper</th>\n",
       "      <th>lower</th>\n",
       "      <th>modulation_index_layer</th>\n",
       "      <th>modulation_index_area</th>\n",
       "    </tr>\n",
       "  </thead>\n",
       "  <tbody>\n",
       "    <tr>\n",
       "      <th>0</th>\n",
       "      <td>1</td>\n",
       "      <td>Slc17a7-IRES2-Cre</td>\n",
       "      <td>VISl</td>\n",
       "      <td>0.292305</td>\n",
       "      <td>0.394495</td>\n",
       "      <td>0.190114</td>\n",
       "      <td>0.349603</td>\n",
       "      <td>-0.223625</td>\n",
       "    </tr>\n",
       "    <tr>\n",
       "      <th>1</th>\n",
       "      <td>1</td>\n",
       "      <td>Slc17a7-IRES2-Cre</td>\n",
       "      <td>VISp</td>\n",
       "      <td>0.218255</td>\n",
       "      <td>0.315884</td>\n",
       "      <td>0.120625</td>\n",
       "      <td>0.447320</td>\n",
       "      <td>-0.110660</td>\n",
       "    </tr>\n",
       "    <tr>\n",
       "      <th>2</th>\n",
       "      <td>1</td>\n",
       "      <td>Sst-IRES-Cre</td>\n",
       "      <td>VISl</td>\n",
       "      <td>0.020000</td>\n",
       "      <td>0.040000</td>\n",
       "      <td>0.000000</td>\n",
       "      <td>1.000000</td>\n",
       "      <td>1.000000</td>\n",
       "    </tr>\n",
       "    <tr>\n",
       "      <th>3</th>\n",
       "      <td>1</td>\n",
       "      <td>Sst-IRES-Cre</td>\n",
       "      <td>VISp</td>\n",
       "      <td>0.030833</td>\n",
       "      <td>0.020000</td>\n",
       "      <td>0.041667</td>\n",
       "      <td>-0.351351</td>\n",
       "      <td>-0.333333</td>\n",
       "    </tr>\n",
       "    <tr>\n",
       "      <th>4</th>\n",
       "      <td>1</td>\n",
       "      <td>Vip-IRES-Cre</td>\n",
       "      <td>VISl</td>\n",
       "      <td>0.075304</td>\n",
       "      <td>0.073684</td>\n",
       "      <td>0.076923</td>\n",
       "      <td>-0.021505</td>\n",
       "      <td>0.560000</td>\n",
       "    </tr>\n",
       "  </tbody>\n",
       "</table>\n",
       "</div>"
      ],
      "text/plain": [
       "   cluster_id           cre_line  area  proportion     upper     lower  \\\n",
       "0           1  Slc17a7-IRES2-Cre  VISl    0.292305  0.394495  0.190114   \n",
       "1           1  Slc17a7-IRES2-Cre  VISp    0.218255  0.315884  0.120625   \n",
       "2           1       Sst-IRES-Cre  VISl    0.020000  0.040000  0.000000   \n",
       "3           1       Sst-IRES-Cre  VISp    0.030833  0.020000  0.041667   \n",
       "4           1       Vip-IRES-Cre  VISl    0.075304  0.073684  0.076923   \n",
       "\n",
       "   modulation_index_layer  modulation_index_area  \n",
       "0                0.349603              -0.223625  \n",
       "1                0.447320              -0.110660  \n",
       "2                1.000000               1.000000  \n",
       "3               -0.351351              -0.333333  \n",
       "4               -0.021505               0.560000  "
      ]
     },
     "execution_count": 56,
     "metadata": {},
     "output_type": "execute_result"
    }
   ],
   "source": [
    "combiend_table.head()"
   ]
  },
  {
   "cell_type": "code",
   "execution_count": 57,
   "id": "60535b80-a4e3-4633-b811-aa567b71c0a8",
   "metadata": {},
   "outputs": [
    {
     "data": {
      "text/plain": [
       "[<matplotlib.lines.Line2D at 0x1eb8803ea88>]"
      ]
     },
     "execution_count": 57,
     "metadata": {},
     "output_type": "execute_result"
    },
    {
     "data": {
      "image/png": "[encoded data removed]",
      "text/plain": [
       "<Figure size 360x360 with 1 Axes>"
      ]
     },
     "metadata": {
      "needs_background": "light"
     },
     "output_type": "display_data"
    }
   ],
   "source": [
    "fig, ax = plt.subplots(1,1, figsize = (5,5))\n",
    "sns.scatterplot(data=combiend_table, x='modulation_index_layer', y = 'modulation_index_area', hue = 'cre_line')\n",
    "plt.plot([0, 0], [-1,1], '--', color='gray')\n",
    "plt.plot([-1, 1], [0,0], '--', color='gray')"
   ]
  },
  {
   "cell_type": "code",
   "execution_count": 58,
   "id": "959366f7-7706-489c-adb7-8f655d943747",
   "metadata": {},
   "outputs": [
    {
     "data": {
      "image/png": "[encoded data removed]",
      "text/plain": [
       "<Figure size 360x360 with 1 Axes>"
      ]
     },
     "metadata": {
      "needs_background": "light"
     },
     "output_type": "display_data"
    }
   ],
   "source": [
    "fig, ax = plt.subplots(1,1, figsize = (5,5))\n",
    "markers = ['D', 's', '8']\n",
    "for c, cre in enumerate(combiend_table.cre_line.unique()):\n",
    "    sns.scatterplot(data=combiend_table[combiend_table.cre_line==cre], x='modulation_index_layer', y = 'modulation_index_area', hue = 'cluster_id',\n",
    "         palette = 'Set3', s=100, marker=markers[c], ax=ax)\n",
    "    ax.legend('')\n",
    "    plt.plot([0, 0], [-1,1], '--', color='gray')\n",
    "    plt.plot([-1, 1], [0,0], '--', color='gray')\n",
    "    \n",
    "    \n",
    "    ### take a mean!!! "
   ]
  },
  {
   "cell_type": "code",
   "execution_count": 59,
   "id": "a1fddbfc-ef9c-47c8-ac06-ad69d6506334",
   "metadata": {},
   "outputs": [
    {
     "name": "stderr",
     "output_type": "stream",
     "text": [
      "posx and posy should be finite values\n",
      "posx and posy should be finite values\n",
      "posx and posy should be finite values\n",
      "posx and posy should be finite values\n",
      "posx and posy should be finite values\n",
      "posx and posy should be finite values\n",
      "posx and posy should be finite values\n",
      "posx and posy should be finite values\n",
      "posx and posy should be finite values\n",
      "posx and posy should be finite values\n",
      "posx and posy should be finite values\n",
      "posx and posy should be finite values\n"
     ]
    },
    {
     "data": {
      "image/png": "[encoded data removed]",
      "text/plain": [
       "<Figure size 360x360 with 1 Axes>"
      ]
     },
     "metadata": {
      "needs_background": "light"
     },
     "output_type": "display_data"
    }
   ],
   "source": [
    "combined_mean_table = combiend_table.groupby(['cluster_id', 'cre_line']).mean().reset_index()\n",
    "fig, ax = plt.subplots(1,1, figsize = (5,5))\n",
    "markers = ['D', 's', '8']\n",
    "for c, cre in enumerate(combined_mean_table.cre_line.unique()):\n",
    "    sns.scatterplot(data=combined_mean_table[combined_mean_table.cre_line==cre], x='modulation_index_layer', y = 'modulation_index_area', hue = 'cluster_id',\n",
    "         palette = 'Set3', s=100, marker=markers[c], ax=ax)\n",
    "    for cluster_id in range(1,13):\n",
    "        cluster_table = combined_mean_table[(combined_mean_table.cre_line==cre) &\n",
    "                                           (combined_mean_table.cluster_id==cluster_id)]\n",
    "        plt.text(cluster_table['modulation_index_layer'], cluster_table['modulation_index_area'], str(cluster_id), ha='right', va='bottom')\n",
    "    ax.legend('')\n",
    "    plt.plot([0, 0], [-1,1], '--', color='gray')\n",
    "    plt.plot([-1, 1], [0,0], '--', color='gray')\n",
    "    \n",
    "    "
   ]
  },
  {
   "cell_type": "code",
   "execution_count": null,
   "id": "d942aff3-7af1-4f17-ad78-fef0b7200844",
   "metadata": {},
   "outputs": [],
   "source": []
  },
  {
   "cell_type": "code",
   "execution_count": 60,
   "id": "64f01b89-68e7-4126-bad1-f3a29c1fcf10",
   "metadata": {},
   "outputs": [
    {
     "ename": "SyntaxError",
     "evalue": "invalid syntax (3754268287.py, line 13)",
     "output_type": "error",
     "traceback": [
      "\u001b[1;36m  File \u001b[1;32m\"C:\\Users\\iryna.yavorska\\AppData\\Local\\Temp\\ipykernel_5160\\3754268287.py\"\u001b[1;36m, line \u001b[1;32m13\u001b[0m\n\u001b[1;33m    33ax.set_ylabel( '<- LM --- V1 ->')\u001b[0m\n\u001b[1;37m       ^\u001b[0m\n\u001b[1;31mSyntaxError\u001b[0m\u001b[1;31m:\u001b[0m invalid syntax\n"
     ]
    }
   ],
   "source": [
    "fig, ax = plt.subplots(1,1, figsize = (5,5))\n",
    "\n",
    "sns.scatterplot(data=combined_mean_table, x='modulation_index_layer', y = 'modulation_index_area', hue = 'cre_line',\n",
    "              s=100, ax=ax)\n",
    "for c, cre in enumerate(combined_mean_table.cre_line.unique()):\n",
    "    for cluster_id in range(1,13):\n",
    "        cluster_table = combined_mean_table[(combined_mean_table.cre_line==cre) &\n",
    "                                           (combined_mean_table.cluster_id==cluster_id)]    \n",
    "        plt.text(cluster_table['modulation_index_layer'], cluster_table['modulation_index_area'], str(cluster_id), ha='right', va='bottom')\n",
    "#     ax.legend('')\n",
    "plt.plot([0, 0], [-1,1], '--', color='gray')\n",
    "plt.plot([-1, 1], [0,0], '--', color='gray')\n",
    "33ax.set_ylabel( '<- LM --- V1 ->')\n",
    "ax.set_xlabel( '<- lower --- upper ->')\n",
    "   "
   ]
  },
  {
   "cell_type": "markdown",
   "id": "e6339b94-6cca-4b18-824c-5d68634dcebd",
   "metadata": {},
   "source": [
    "### Change dot size"
   ]
  },
  {
   "cell_type": "code",
   "execution_count": 61,
   "id": "5b96b429-51bb-4abd-b5cd-2b559b6bbc75",
   "metadata": {},
   "outputs": [],
   "source": [
    "combined_mean_table['size_col'] = combined_mean_table['proportion'].copy()"
   ]
  },
  {
   "cell_type": "code",
   "execution_count": 62,
   "id": "fac8860e-7923-4cd9-8841-3344c0b25a6c",
   "metadata": {},
   "outputs": [],
   "source": [
    "from visual_behavior_glm import GLM_visualization_tools as gvt"
   ]
  },
  {
   "cell_type": "code",
   "execution_count": 63,
   "id": "1707ae97-45be-4acb-8b4c-dc6becccce37",
   "metadata": {},
   "outputs": [],
   "source": [
    "color_map = []\n",
    "for c, cre in enumerate(combined_mean_table.cre_line.unique()):\n",
    "    color_map.append(gvt.project_colors()[cre])"
   ]
  },
  {
   "cell_type": "code",
   "execution_count": 64,
   "id": "38bf06e2-4c75-4f55-9cea-ed5c152a39e0",
   "metadata": {},
   "outputs": [
    {
     "name": "stderr",
     "output_type": "stream",
     "text": [
      "posx and posy should be finite values\n",
      "posx and posy should be finite values\n",
      "posx and posy should be finite values\n",
      "posx and posy should be finite values\n",
      "posx and posy should be finite values\n",
      "posx and posy should be finite values\n",
      "posx and posy should be finite values\n",
      "posx and posy should be finite values\n",
      "posx and posy should be finite values\n",
      "posx and posy should be finite values\n",
      "posx and posy should be finite values\n",
      "posx and posy should be finite values\n"
     ]
    },
    {
     "data": {
      "image/png": "[encoded data removed]",
      "text/plain": [
       "<Figure size 576x324 with 1 Axes>"
      ]
     },
     "metadata": {
      "needs_background": "light"
     },
     "output_type": "display_data"
    }
   ],
   "source": [
    "fig, ax = plt.subplots(1,1, figsize = (8,4.5))\n",
    "plt.rcParams['font.size'] = 14\n",
    "sns.scatterplot(data=combined_mean_table, y='modulation_index_layer', x = 'modulation_index_area', hue = 'cre_line',\n",
    "              size='size_col', palette = color_map, sizes=(50, 500), alpha=0.7, ax=ax)\n",
    "legend = plt.legend(bbox_to_anchor=(1.05, 1), loc='upper left')\n",
    "text = legend.get_texts()\n",
    "for c, cre in enumerate(combined_mean_table.cre_line.unique()):\n",
    "    for cluster_id in range(1,13):\n",
    "        cluster_table = combined_mean_table[(combined_mean_table.cre_line==cre) &\n",
    "                                           (combined_mean_table.cluster_id==cluster_id)]    \n",
    "        plt.text(cluster_table['modulation_index_area'], cluster_table['modulation_index_layer'], str(cluster_id), ha='right', va='bottom')\n",
    "#     ax.legend('')\n",
    "plt.plot([0, 0], [-1.2,1.4], '--', color='gray')\n",
    "plt.plot([-1.1, 1.1], [0,0], '--', color='gray')\n",
    "ax.set_xlabel( '<- LM      V1 ->', fontsize=20)\n",
    "ax.set_xticks([-1, -.5, 0, .5, 1])\n",
    "ax.set_xlim([-1.1, 1.1])\n",
    "ax.set_xticklabels(['-1.0', '-0.5', '0.0', '0.5', '1.0']) \n",
    "ax.set_ylabel( '<- lower    upper ->', fontsize=20)\n",
    "ax.set_yticks([-1, -.5, 0, .5, 1])\n",
    "ax.set_ylim([-1.2, 1.2])\n",
    "ax.set_yticklabels(['-1.0', '-0.5', '0.0', '0.5', '1.0']) \n",
    "text[0].set_text('cell type')\n",
    "text[1].set_text('Excitatory')\n",
    "text[2].set_text('Sst Inhibitory')\n",
    "text[3].set_text('Vip Inhibitory')\n",
    "text[4].set_text('cluster size \\n(cre proportion)')\n",
    "plt.tight_layout()\n",
    "   "
   ]
  },
  {
   "cell_type": "markdown",
   "id": "3220db97-b28e-47a7-9061-41d5c78a86b7",
   "metadata": {},
   "source": [
    "### Cell metrics\n",
    "                 "
   ]
  },
  {
   "cell_type": "code",
   "execution_count": 67,
   "id": "bea58872-7516-442d-9c7d-a4ed17423580",
   "metadata": {},
   "outputs": [
    {
     "name": "stderr",
     "output_type": "stream",
     "text": [
      "c:\\users\\iryna.yavorska\\documents\\github\\allensdk\\allensdk\\api\\cloud_cache\\cloud_cache.py:521: OutdatedManifestWarning: You are loading visual-behavior-ophys_project_manifest_v1.0.1.json. A more up to date version of the dataset -- visual-behavior-ophys_project_manifest_v1.1.0.json -- exists online. To see the changes between the two versions of the dataset, run\n",
      "VisualBehaviorOphysProjectCache.compare_manifests('visual-behavior-ophys_project_manifest_v1.0.1.json', 'visual-behavior-ophys_project_manifest_v1.1.0.json')\n",
      "To load another version of the dataset, run\n",
      "VisualBehaviorOphysProjectCache.load_manifest('visual-behavior-ophys_project_manifest_v1.1.0.json')\n",
      "  warnings.warn(msg, OutdatedManifestWarning)\n"
     ]
    },
    {
     "name": "stdout",
     "output_type": "stream",
     "text": [
      "there are 402 experiments after filtering for inclusion criteria -  platform_experiment_table\n"
     ]
    },
    {
     "name": "stderr",
     "output_type": "stream",
     "text": [
      "  9%|███████                                                                          | 35/402 [00:03<00:28, 12.87it/s]"
     ]
    },
    {
     "name": "stdout",
     "output_type": "stream",
     "text": [
      "problem for experiment 891994418\n"
     ]
    },
    {
     "name": "stderr",
     "output_type": "stream",
     "text": [
      " 12%|██████████                                                                       | 50/402 [00:04<00:26, 13.16it/s]"
     ]
    },
    {
     "name": "stdout",
     "output_type": "stream",
     "text": [
      "problem for experiment 948507789\n"
     ]
    },
    {
     "name": "stderr",
     "output_type": "stream",
     "text": [
      " 23%|██████████████████▋                                                              | 93/402 [00:08<00:23, 13.28it/s]"
     ]
    },
    {
     "name": "stdout",
     "output_type": "stream",
     "text": [
      "problem for experiment 994790561\n"
     ]
    },
    {
     "name": "stderr",
     "output_type": "stream",
     "text": [
      " 35%|███████████████████████████▊                                                    | 140/402 [00:12<00:19, 13.10it/s]"
     ]
    },
    {
     "name": "stdout",
     "output_type": "stream",
     "text": [
      "problem for experiment 993369859\n"
     ]
    },
    {
     "name": "stderr",
     "output_type": "stream",
     "text": [
      " 36%|████████████████████████████▋                                                   | 144/402 [00:13<00:25, 10.32it/s]"
     ]
    },
    {
     "name": "stdout",
     "output_type": "stream",
     "text": [
      "problem for experiment 993891845\n"
     ]
    },
    {
     "name": "stderr",
     "output_type": "stream",
     "text": [
      " 39%|██████████████████████████████▊                                                 | 155/402 [00:14<00:21, 11.42it/s]"
     ]
    },
    {
     "name": "stdout",
     "output_type": "stream",
     "text": [
      "problem for experiment 994082680\n"
     ]
    },
    {
     "name": "stderr",
     "output_type": "stream",
     "text": [
      " 46%|████████████████████████████████████▊                                           | 185/402 [00:17<00:19, 11.27it/s]"
     ]
    },
    {
     "name": "stdout",
     "output_type": "stream",
     "text": [
      "problem for experiment 851085100\n"
     ]
    },
    {
     "name": "stderr",
     "output_type": "stream",
     "text": [
      " 47%|█████████████████████████████████████▌                                          | 189/402 [00:17<00:19, 10.77it/s]"
     ]
    },
    {
     "name": "stdout",
     "output_type": "stream",
     "text": [
      "problem for experiment 851085109\n"
     ]
    },
    {
     "name": "stderr",
     "output_type": "stream",
     "text": [
      " 48%|██████████████████████████████████████▍                                         | 193/402 [00:17<00:18, 11.51it/s]"
     ]
    },
    {
     "name": "stdout",
     "output_type": "stream",
     "text": [
      "problem for experiment 851085105\n"
     ]
    },
    {
     "name": "stderr",
     "output_type": "stream",
     "text": [
      " 51%|████████████████████████████████████████▊                                       | 205/402 [00:18<00:14, 13.70it/s]"
     ]
    },
    {
     "name": "stdout",
     "output_type": "stream",
     "text": [
      "problem for experiment 991852002\n"
     ]
    },
    {
     "name": "stderr",
     "output_type": "stream",
     "text": [
      " 52%|█████████████████████████████████████████▉                                      | 211/402 [00:19<00:15, 12.72it/s]"
     ]
    },
    {
     "name": "stdout",
     "output_type": "stream",
     "text": [
      "problem for experiment 991852001\n"
     ]
    },
    {
     "name": "stderr",
     "output_type": "stream",
     "text": [
      " 55%|███████████████████████████████████████████▊                                    | 220/402 [00:20<00:15, 11.93it/s]"
     ]
    },
    {
     "name": "stdout",
     "output_type": "stream",
     "text": [
      "problem for experiment 991852004\n"
     ]
    },
    {
     "name": "stderr",
     "output_type": "stream",
     "text": [
      " 55%|████████████████████████████████████████████▍                                   | 223/402 [00:20<00:13, 12.90it/s]"
     ]
    },
    {
     "name": "stdout",
     "output_type": "stream",
     "text": [
      "problem for experiment 991852005\n"
     ]
    },
    {
     "name": "stderr",
     "output_type": "stream",
     "text": [
      " 65%|███████████████████████████████████████████████████▋                            | 260/402 [00:23<00:13, 10.72it/s]"
     ]
    },
    {
     "name": "stdout",
     "output_type": "stream",
     "text": [
      "problem for experiment 977978321\n"
     ]
    },
    {
     "name": "stderr",
     "output_type": "stream",
     "text": [
      " 68%|██████████████████████████████████████████████████████▌                         | 274/402 [00:24<00:09, 13.26it/s]"
     ]
    },
    {
     "name": "stdout",
     "output_type": "stream",
     "text": [
      "problem for experiment 981178537\n"
     ]
    },
    {
     "name": "stderr",
     "output_type": "stream",
     "text": [
      " 70%|███████████████████████████████████████████████████████▋                        | 280/402 [00:25<00:09, 13.25it/s]"
     ]
    },
    {
     "name": "stdout",
     "output_type": "stream",
     "text": [
      "problem for experiment 882551935\n"
     ]
    },
    {
     "name": "stderr",
     "output_type": "stream",
     "text": [
      " 71%|█████████████████████████████████████████████████████████                       | 287/402 [00:26<00:09, 12.69it/s]"
     ]
    },
    {
     "name": "stdout",
     "output_type": "stream",
     "text": [
      "problem for experiment 882551937\n"
     ]
    },
    {
     "name": "stderr",
     "output_type": "stream",
     "text": [
      " 72%|█████████████████████████████████████████████████████████▉                      | 291/402 [00:26<00:08, 12.92it/s]"
     ]
    },
    {
     "name": "stdout",
     "output_type": "stream",
     "text": [
      "problem for experiment 882551947\n"
     ]
    },
    {
     "name": "stderr",
     "output_type": "stream",
     "text": [
      " 74%|██████████████████████████████████████████████████████████▉                     | 296/402 [00:26<00:07, 15.06it/s]"
     ]
    },
    {
     "name": "stdout",
     "output_type": "stream",
     "text": [
      "problem for experiment 951213203\n"
     ]
    },
    {
     "name": "stderr",
     "output_type": "stream",
     "text": [
      " 81%|████████████████████████████████████████████████████████████████▍               | 324/402 [00:29<00:06, 11.65it/s]"
     ]
    },
    {
     "name": "stdout",
     "output_type": "stream",
     "text": [
      "problem for experiment 1050762972\n"
     ]
    },
    {
     "name": "stderr",
     "output_type": "stream",
     "text": [
      " 82%|█████████████████████████████████████████████████████████████████▎              | 328/402 [00:29<00:06, 10.84it/s]"
     ]
    },
    {
     "name": "stdout",
     "output_type": "stream",
     "text": [
      "problem for experiment 1051249031\n",
      "problem for experiment 1051423446\n"
     ]
    },
    {
     "name": "stderr",
     "output_type": "stream",
     "text": [
      " 87%|█████████████████████████████████████████████████████████████████████▎          | 348/402 [00:31<00:04, 12.28it/s]"
     ]
    },
    {
     "name": "stdout",
     "output_type": "stream",
     "text": [
      "problem for experiment 1076776838\n"
     ]
    },
    {
     "name": "stderr",
     "output_type": "stream",
     "text": [
      " 90%|████████████████████████████████████████████████████████████████████████        | 362/402 [00:32<00:04,  9.81it/s]"
     ]
    },
    {
     "name": "stdout",
     "output_type": "stream",
     "text": [
      "problem for experiment 1078904675\n"
     ]
    },
    {
     "name": "stderr",
     "output_type": "stream",
     "text": [
      " 93%|██████████████████████████████████████████████████████████████████████████▏     | 373/402 [00:33<00:02, 11.48it/s]"
     ]
    },
    {
     "name": "stdout",
     "output_type": "stream",
     "text": [
      "problem for experiment 1077597082\n",
      "problem for experiment 1082841182\n"
     ]
    },
    {
     "name": "stderr",
     "output_type": "stream",
     "text": [
      "100%|████████████████████████████████████████████████████████████████████████████████| 402/402 [00:36<00:00, 10.97it/s]\n",
      "C:\\Users\\iryna.yavorska\\Anaconda3\\envs\\vba\\lib\\site-packages\\pandas\\core\\generic.py:2718: PerformanceWarning: \n",
      "your performance may suffer as PyTables will pickle object types that it cannot\n",
      "map directly to c-types [inferred_type->mixed,key->block1_values] [items->Index(['condition', 'data_type', 'exception', 'filter_events', 'interpolate',\n",
      "       'ophys_experiment_id', 'session_subset', 'stimuli', 'use_events'],\n",
      "      dtype='object')]\n",
      "\n",
      "  encoding=encoding,\n"
     ]
    },
    {
     "name": "stdout",
     "output_type": "stream",
     "text": [
      "there are 376 experiments in the returned cell_metrics table\n"
     ]
    }
   ],
   "source": [
    "%%time\n",
    "data_type = 'filtered_events'\n",
    "\n",
    "condition = 'images'\n",
    "stimuli = 'all_images'\n",
    "session_subset = 'full_session'\n",
    "\n",
    "inclusion_criteria = 'platform_experiment_table'\n",
    "    \n",
    "import visual_behavior.ophys.response_analysis.cell_metrics as cm \n",
    "\n",
    "response_metrics = cm.get_cell_metrics_for_conditions(data_type, condition, stimuli, session_subset, inclusion_criteria)"
   ]
  },
  {
   "cell_type": "code",
   "execution_count": 70,
   "id": "3962bc40-63d0-4d50-8c0a-468c8e8ea272",
   "metadata": {},
   "outputs": [
    {
     "data": {
      "text/plain": [
       "Index(['cell_specimen_id', 'pref_image', 'non_pref_image',\n",
       "       'image_selectivity_index', 'image_selectivity_index_one_vs_all',\n",
       "       'lifetime_sparseness', 'mean_response',\n",
       "       'fraction_significant_p_value_gray_screen', 'fano_factor',\n",
       "       'reliability', 'running_modulation_index', 'ophys_experiment_id',\n",
       "       'condition', 'session_subset', 'stimuli', 'data_type', 'interpolate',\n",
       "       'output_sampling_rate', 'response_window', 'use_events',\n",
       "       'filter_events', 'equipment_name', 'full_genotype', 'mouse_id',\n",
       "       'reporter_line', 'driver_line', 'sex', 'age_in_days', 'cre_line',\n",
       "       'indicator', 'session_number', 'prior_exposures_to_session_type',\n",
       "       'prior_exposures_to_image_set', 'prior_exposures_to_omissions',\n",
       "       'ophys_session_id', 'behavior_session_id', 'ophys_container_id',\n",
       "       'project_code', 'imaging_depth', 'targeted_structure',\n",
       "       'date_of_acquisition', 'session_type', 'experience_level', 'passive',\n",
       "       'image_set', 'file_id', 'cell_type', 'depth', 'binned_depth',\n",
       "       'area_depth', 'area_binned_depth', 'layer', 'area_layer', 'date',\n",
       "       'first_novel', 'n_relative_to_first_novel', 'last_familiar',\n",
       "       'last_familiar_active', 'second_novel', 'second_novel_active',\n",
       "       'experience_exposure'],\n",
       "      dtype='object')"
      ]
     },
     "execution_count": 70,
     "metadata": {},
     "output_type": "execute_result"
    }
   ],
   "source": [
    "response_metrics.keys()"
   ]
  },
  {
   "cell_type": "code",
   "execution_count": 78,
   "id": "6a25b011-71b4-4398-ad6f-89b87a7ccefa",
   "metadata": {},
   "outputs": [],
   "source": [
    "base_dir = r'\\\\allen\\programs\\braintv\\workgroups\\nc-ophys\\visual_behavior\\platform_paper_plots\\figure_4'\n",
    "\n",
    "save_dir = os.path.join(base_dir, 'all_cre_clustering_082823_n_14')\n",
    "n_clusters = 14 # arbitrary choice that happens to pull out similar clusters to within cre clustering\n",
    "\n",
    "cluster_meta_save_path = os.path.join(save_dir, 'cluster_meta_n_'+str(n_clusters)+'_clusters.h5')\n",
    "\n",
    "# if clustering output exists, load it\n",
    "if os.path.exists(cluster_meta_save_path):\n",
    "    cluster_meta = pd.read_hdf(cluster_meta_save_path, key='df')\n",
    "\n",
    "\n",
    "filename = '24_events_all_L2_optimize_by_session_feature_matrix.h5'\n",
    "feature_matrix = pd.read_hdf(os.path.join(save_dir, filename), key='df')\n",
    "   "
   ]
  },
  {
   "cell_type": "code",
   "execution_count": 88,
   "id": "02b0d445-45f7-43e0-afac-e125276e9c9f",
   "metadata": {},
   "outputs": [],
   "source": [
    "## get pivoted results\n",
    "import visual_behavior_glm.GLM_fit_dev as gfd\n",
    "import visual_behavior_glm.GLM_analysis_tools as gat\n",
    "import visual_behavior_glm.GLM_across_session as gas\n",
    "import visual_behavior.data_access.utilities as utilities\n",
    "import visual_behavior.data_access.loading as loading\n"
   ]
  },
  {
   "cell_type": "code",
   "execution_count": 86,
   "id": "9933ce9f-f801-46e3-99d7-1bcea2128c15",
   "metadata": {},
   "outputs": [
    {
     "name": "stdout",
     "output_type": "stream",
     "text": [
      "loading run_params\n",
      "loading results df\n",
      "loading results_pivoted df\n",
      "loading weights_df\n",
      "Loading list of matched cells\n"
     ]
    },
    {
     "name": "stderr",
     "output_type": "stream",
     "text": [
      "c:\\users\\iryna.yavorska\\documents\\github\\allensdk\\allensdk\\api\\cloud_cache\\cloud_cache.py:521: OutdatedManifestWarning: You are loading visual-behavior-ophys_project_manifest_v1.0.1.json. A more up to date version of the dataset -- visual-behavior-ophys_project_manifest_v1.1.0.json -- exists online. To see the changes between the two versions of the dataset, run\n",
      "VisualBehaviorOphysProjectCache.compare_manifests('visual-behavior-ophys_project_manifest_v1.0.1.json', 'visual-behavior-ophys_project_manifest_v1.1.0.json')\n",
      "To load another version of the dataset, run\n",
      "VisualBehaviorOphysProjectCache.load_manifest('visual-behavior-ophys_project_manifest_v1.1.0.json')\n",
      "  warnings.warn(msg, OutdatedManifestWarning)\n"
     ]
    },
    {
     "name": "stdout",
     "output_type": "stream",
     "text": [
      "Loading across session normalized dropout scores\n"
     ]
    },
    {
     "name": "stderr",
     "output_type": "stream",
     "text": [
      "100%|██████████████████████████████████████████████████████████████████████████████| 3921/3921 [03:05<00:00, 21.14it/s]\n"
     ]
    },
    {
     "name": "stdout",
     "output_type": "stream",
     "text": [
      "0 cells could not be loaded\n"
     ]
    }
   ],
   "source": [
    "glm_version = '24_events_all_L2_optimize_by_session'\n",
    "\n",
    "run_params, results, results_pivoted, weights_df = gfd.load_analysis_dfs(version)\n",
    "\n",
    "# get across session normalized dropout scores\n",
    "df, failed_cells = gas.load_cells(glm_version, clean_df=True)\n",
    "df = df.set_index('identifier')"
   ]
  },
  {
   "cell_type": "code",
   "execution_count": 89,
   "id": "a6b42a85-ecf2-428c-b51d-8bd307a1a665",
   "metadata": {},
   "outputs": [
    {
     "name": "stdout",
     "output_type": "stream",
     "text": [
      "11763 len(results_pivoted)\n",
      "11763 len(results_pivoted)\n"
     ]
    }
   ],
   "source": [
    "# only use across session values\n",
    "across = df[[key for key in df.keys() if '_across' in key] + ['cell_specimen_id', 'ophys_experiment_id', 'experience_level']]\n",
    "results_pivoted = across.copy()\n",
    "# rename across session columns \n",
    "results_pivoted = results_pivoted.rename(\n",
    "    columns={'omissions_across': 'omissions', 'all-images_across': 'all-images',\n",
    "             'behavioral_across': 'behavioral', 'task_across': 'task'})\n",
    "print(len(results_pivoted), 'len(results_pivoted)')\n",
    "\n",
    "\n",
    "# only use across session values\n",
    "across = df[[key for key in df.keys() if '_across' in key] + ['cell_specimen_id', 'ophys_experiment_id', 'experience_level']]\n",
    "results_pivoted = across.copy()\n",
    "# rename across session columns \n",
    "results_pivoted = results_pivoted.rename(\n",
    "    columns={'omissions_across': 'omissions', 'all-images_across': 'all-images',\n",
    "             'behavioral_across': 'behavioral', 'task_across': 'task'})\n",
    "print(len(results_pivoted), 'len(results_pivoted)')\n"
   ]
  },
  {
   "cell_type": "code",
   "execution_count": 90,
   "id": "455d0417-0c2c-4c5c-b2dd-b7442c42a569",
   "metadata": {},
   "outputs": [
    {
     "name": "stdout",
     "output_type": "stream",
     "text": [
      "3921 cells in matched cells table\n"
     ]
    }
   ],
   "source": [
    "# load experiments table\n",
    "experiments_table = loading.get_platform_paper_experiment_table(limit_to_closest_active=True)\n",
    "# limit to closest familiar and novel active\n",
    "experiments_table = utilities.limit_to_last_familiar_second_novel_active(experiments_table)\n",
    "experiments_table = utilities.limit_to_containers_with_all_experience_levels(experiments_table)\n",
    "\n",
    "# load matched cells table\n",
    "cells_table = loading.get_cell_table()\n",
    "cells_table = loading.get_matched_cells_table(cells_table)\n",
    "matched_cells = cells_table.cell_specimen_id.unique()\n",
    "matched_experiments = cells_table.ophys_experiment_id.unique()\n",
    "\n",
    "# get cre_lines and cell types for plot labels\n",
    "cre_lines = np.sort(cells_table.cre_line.unique())\n",
    "cell_types = utilities.get_cell_types_dict(cre_lines, experiments_table)"
   ]
  },
  {
   "cell_type": "code",
   "execution_count": 91,
   "id": "24a8b24c-bc98-40b7-9063-764d3889c0d6",
   "metadata": {},
   "outputs": [
    {
     "name": "stdout",
     "output_type": "stream",
     "text": [
      "11763 len(results_pivoted) after dropping duplicates\n",
      "3921 cells in results_pivoted after limiting to strictly matched cells\n"
     ]
    }
   ],
   "source": [
    "# limit to matched cells \n",
    "results_pivoted = results_pivoted[results_pivoted.ophys_experiment_id.isin(matched_experiments)]\n",
    "results_pivoted = results_pivoted[results_pivoted.cell_specimen_id.isin(matched_cells)]\n",
    "\n",
    "# drop duplicates\n",
    "results_pivoted = results_pivoted.drop_duplicates(subset=['cell_specimen_id', 'experience_level'])\n",
    "print(len(results_pivoted), 'len(results_pivoted) after dropping duplicates')\n",
    "        \n",
    "print(len(results_pivoted.cell_specimen_id.unique()),\n",
    "      'cells in results_pivoted after limiting to strictly matched cells')"
   ]
  },
  {
   "cell_type": "code",
   "execution_count": 92,
   "id": "90847347-829e-46ef-88c2-049cd6c1ea0e",
   "metadata": {},
   "outputs": [],
   "source": [
    "# limit to features used for clustering\n",
    "features = processing.get_features_for_clustering()\n",
    "features = [*features, 'ophys_experiment_id']\n",
    "results_pivoted = processing.limit_results_pivoted_to_features_for_clustering(results_pivoted, features)\n",
    "\n",
    "# flip sign so coding scores are positive\n",
    "results_pivoted = processing.flip_sign_of_dropouts(results_pivoted, processing.get_features_for_clustering(), use_signed_weights=False)\n",
    "\n",
    "# now drop ophys_experiment_id\n",
    "results_pivoted = results_pivoted.drop(columns=['ophys_experiment_id'])"
   ]
  },
  {
   "cell_type": "code",
   "execution_count": 77,
   "id": "3fc9e3f6-56e1-4a64-b7f2-2729500ba194",
   "metadata": {},
   "outputs": [
    {
     "data": {
      "text/html": [
       "<div>\n",
       "<style scoped>\n",
       "    .dataframe tbody tr th:only-of-type {\n",
       "        vertical-align: middle;\n",
       "    }\n",
       "\n",
       "    .dataframe tbody tr th {\n",
       "        vertical-align: top;\n",
       "    }\n",
       "\n",
       "    .dataframe thead tr th {\n",
       "        text-align: left;\n",
       "    }\n",
       "\n",
       "    .dataframe thead tr:last-of-type th {\n",
       "        text-align: right;\n",
       "    }\n",
       "</style>\n",
       "<table border=\"1\" class=\"dataframe\">\n",
       "  <thead>\n",
       "    <tr>\n",
       "      <th></th>\n",
       "      <th colspan=\"3\" halign=\"left\">all-images</th>\n",
       "      <th colspan=\"3\" halign=\"left\">omissions</th>\n",
       "      <th colspan=\"3\" halign=\"left\">behavioral</th>\n",
       "      <th colspan=\"3\" halign=\"left\">task</th>\n",
       "    </tr>\n",
       "    <tr>\n",
       "      <th>experience_level</th>\n",
       "      <th>Familiar</th>\n",
       "      <th>Novel 1</th>\n",
       "      <th>Novel &gt;1</th>\n",
       "      <th>Familiar</th>\n",
       "      <th>Novel 1</th>\n",
       "      <th>Novel &gt;1</th>\n",
       "      <th>Familiar</th>\n",
       "      <th>Novel 1</th>\n",
       "      <th>Novel &gt;1</th>\n",
       "      <th>Familiar</th>\n",
       "      <th>Novel 1</th>\n",
       "      <th>Novel &gt;1</th>\n",
       "    </tr>\n",
       "    <tr>\n",
       "      <th>cell_specimen_id</th>\n",
       "      <th></th>\n",
       "      <th></th>\n",
       "      <th></th>\n",
       "      <th></th>\n",
       "      <th></th>\n",
       "      <th></th>\n",
       "      <th></th>\n",
       "      <th></th>\n",
       "      <th></th>\n",
       "      <th></th>\n",
       "      <th></th>\n",
       "      <th></th>\n",
       "    </tr>\n",
       "  </thead>\n",
       "  <tbody>\n",
       "    <tr>\n",
       "      <th>1086489847</th>\n",
       "      <td>0.000000</td>\n",
       "      <td>0.060457</td>\n",
       "      <td>0.017832</td>\n",
       "      <td>0.000000</td>\n",
       "      <td>0.000000</td>\n",
       "      <td>0.000000</td>\n",
       "      <td>0.000000</td>\n",
       "      <td>0.084897</td>\n",
       "      <td>0.971563</td>\n",
       "      <td>0.000000</td>\n",
       "      <td>0.004045</td>\n",
       "      <td>0.009827</td>\n",
       "    </tr>\n",
       "    <tr>\n",
       "      <th>1086489860</th>\n",
       "      <td>0.000000</td>\n",
       "      <td>0.910349</td>\n",
       "      <td>0.000000</td>\n",
       "      <td>0.000000</td>\n",
       "      <td>0.109417</td>\n",
       "      <td>0.000000</td>\n",
       "      <td>0.000000</td>\n",
       "      <td>0.000000</td>\n",
       "      <td>0.000000</td>\n",
       "      <td>0.000000</td>\n",
       "      <td>0.000000</td>\n",
       "      <td>0.000000</td>\n",
       "    </tr>\n",
       "    <tr>\n",
       "      <th>1086489891</th>\n",
       "      <td>0.000000</td>\n",
       "      <td>0.279929</td>\n",
       "      <td>0.000000</td>\n",
       "      <td>0.524089</td>\n",
       "      <td>0.000000</td>\n",
       "      <td>0.000000</td>\n",
       "      <td>0.168301</td>\n",
       "      <td>0.008724</td>\n",
       "      <td>1.000000</td>\n",
       "      <td>0.000000</td>\n",
       "      <td>0.025777</td>\n",
       "      <td>0.000000</td>\n",
       "    </tr>\n",
       "    <tr>\n",
       "      <th>1086489976</th>\n",
       "      <td>0.817370</td>\n",
       "      <td>0.000000</td>\n",
       "      <td>0.000000</td>\n",
       "      <td>0.000000</td>\n",
       "      <td>0.000000</td>\n",
       "      <td>0.000000</td>\n",
       "      <td>0.000000</td>\n",
       "      <td>0.000000</td>\n",
       "      <td>0.000000</td>\n",
       "      <td>0.000000</td>\n",
       "      <td>0.000000</td>\n",
       "      <td>0.000000</td>\n",
       "    </tr>\n",
       "    <tr>\n",
       "      <th>1086490002</th>\n",
       "      <td>0.852927</td>\n",
       "      <td>0.000000</td>\n",
       "      <td>0.355870</td>\n",
       "      <td>0.000000</td>\n",
       "      <td>0.000000</td>\n",
       "      <td>0.000000</td>\n",
       "      <td>0.000000</td>\n",
       "      <td>0.000000</td>\n",
       "      <td>0.000000</td>\n",
       "      <td>0.021871</td>\n",
       "      <td>0.000000</td>\n",
       "      <td>0.000000</td>\n",
       "    </tr>\n",
       "    <tr>\n",
       "      <th>...</th>\n",
       "      <td>...</td>\n",
       "      <td>...</td>\n",
       "      <td>...</td>\n",
       "      <td>...</td>\n",
       "      <td>...</td>\n",
       "      <td>...</td>\n",
       "      <td>...</td>\n",
       "      <td>...</td>\n",
       "      <td>...</td>\n",
       "      <td>...</td>\n",
       "      <td>...</td>\n",
       "      <td>...</td>\n",
       "    </tr>\n",
       "    <tr>\n",
       "      <th>1120133342</th>\n",
       "      <td>0.000000</td>\n",
       "      <td>0.000000</td>\n",
       "      <td>0.000000</td>\n",
       "      <td>0.000000</td>\n",
       "      <td>0.000000</td>\n",
       "      <td>0.000000</td>\n",
       "      <td>0.000000</td>\n",
       "      <td>0.000000</td>\n",
       "      <td>0.000000</td>\n",
       "      <td>0.000000</td>\n",
       "      <td>0.000000</td>\n",
       "      <td>0.000000</td>\n",
       "    </tr>\n",
       "    <tr>\n",
       "      <th>1120133375</th>\n",
       "      <td>0.000000</td>\n",
       "      <td>0.614797</td>\n",
       "      <td>0.000000</td>\n",
       "      <td>0.000000</td>\n",
       "      <td>0.000000</td>\n",
       "      <td>0.000000</td>\n",
       "      <td>0.000000</td>\n",
       "      <td>0.319157</td>\n",
       "      <td>0.000000</td>\n",
       "      <td>0.000000</td>\n",
       "      <td>0.012979</td>\n",
       "      <td>0.000000</td>\n",
       "    </tr>\n",
       "    <tr>\n",
       "      <th>1120133471</th>\n",
       "      <td>0.959608</td>\n",
       "      <td>0.000000</td>\n",
       "      <td>0.000000</td>\n",
       "      <td>0.056069</td>\n",
       "      <td>0.000000</td>\n",
       "      <td>0.000000</td>\n",
       "      <td>0.000000</td>\n",
       "      <td>0.000000</td>\n",
       "      <td>0.000000</td>\n",
       "      <td>0.054291</td>\n",
       "      <td>0.000000</td>\n",
       "      <td>0.000000</td>\n",
       "    </tr>\n",
       "    <tr>\n",
       "      <th>1120133515</th>\n",
       "      <td>0.000000</td>\n",
       "      <td>0.962836</td>\n",
       "      <td>0.813388</td>\n",
       "      <td>0.000000</td>\n",
       "      <td>0.000000</td>\n",
       "      <td>0.000000</td>\n",
       "      <td>0.000000</td>\n",
       "      <td>0.000000</td>\n",
       "      <td>0.232246</td>\n",
       "      <td>0.000000</td>\n",
       "      <td>0.000000</td>\n",
       "      <td>0.000000</td>\n",
       "    </tr>\n",
       "    <tr>\n",
       "      <th>1120133649</th>\n",
       "      <td>0.165861</td>\n",
       "      <td>0.454973</td>\n",
       "      <td>0.196244</td>\n",
       "      <td>0.000000</td>\n",
       "      <td>0.091243</td>\n",
       "      <td>0.051029</td>\n",
       "      <td>0.078284</td>\n",
       "      <td>0.376749</td>\n",
       "      <td>0.350971</td>\n",
       "      <td>0.020329</td>\n",
       "      <td>0.065492</td>\n",
       "      <td>0.068512</td>\n",
       "    </tr>\n",
       "  </tbody>\n",
       "</table>\n",
       "<p>3921 rows × 12 columns</p>\n",
       "</div>"
      ],
      "text/plain": [
       "                 all-images                     omissions                      \\\n",
       "experience_level   Familiar   Novel 1  Novel >1  Familiar   Novel 1  Novel >1   \n",
       "cell_specimen_id                                                                \n",
       "1086489847         0.000000  0.060457  0.017832  0.000000  0.000000  0.000000   \n",
       "1086489860         0.000000  0.910349  0.000000  0.000000  0.109417  0.000000   \n",
       "1086489891         0.000000  0.279929  0.000000  0.524089  0.000000  0.000000   \n",
       "1086489976         0.817370  0.000000  0.000000  0.000000  0.000000  0.000000   \n",
       "1086490002         0.852927  0.000000  0.355870  0.000000  0.000000  0.000000   \n",
       "...                     ...       ...       ...       ...       ...       ...   \n",
       "1120133342         0.000000  0.000000  0.000000  0.000000  0.000000  0.000000   \n",
       "1120133375         0.000000  0.614797  0.000000  0.000000  0.000000  0.000000   \n",
       "1120133471         0.959608  0.000000  0.000000  0.056069  0.000000  0.000000   \n",
       "1120133515         0.000000  0.962836  0.813388  0.000000  0.000000  0.000000   \n",
       "1120133649         0.165861  0.454973  0.196244  0.000000  0.091243  0.051029   \n",
       "\n",
       "                 behavioral                          task                      \n",
       "experience_level   Familiar   Novel 1  Novel >1  Familiar   Novel 1  Novel >1  \n",
       "cell_specimen_id                                                               \n",
       "1086489847         0.000000  0.084897  0.971563  0.000000  0.004045  0.009827  \n",
       "1086489860         0.000000  0.000000  0.000000  0.000000  0.000000  0.000000  \n",
       "1086489891         0.168301  0.008724  1.000000  0.000000  0.025777  0.000000  \n",
       "1086489976         0.000000  0.000000  0.000000  0.000000  0.000000  0.000000  \n",
       "1086490002         0.000000  0.000000  0.000000  0.021871  0.000000  0.000000  \n",
       "...                     ...       ...       ...       ...       ...       ...  \n",
       "1120133342         0.000000  0.000000  0.000000  0.000000  0.000000  0.000000  \n",
       "1120133375         0.000000  0.319157  0.000000  0.000000  0.012979  0.000000  \n",
       "1120133471         0.000000  0.000000  0.000000  0.054291  0.000000  0.000000  \n",
       "1120133515         0.000000  0.000000  0.232246  0.000000  0.000000  0.000000  \n",
       "1120133649         0.078284  0.376749  0.350971  0.020329  0.065492  0.068512  \n",
       "\n",
       "[3921 rows x 12 columns]"
      ]
     },
     "execution_count": 77,
     "metadata": {},
     "output_type": "execute_result"
    }
   ],
   "source": [
    "feature_matrix"
   ]
  },
  {
   "cell_type": "code",
   "execution_count": 94,
   "id": "01d12b87-2a69-492d-82a2-835f6fa050f4",
   "metadata": {},
   "outputs": [
    {
     "ename": "ValueError",
     "evalue": "attempt to get argmax of an empty sequence",
     "output_type": "error",
     "traceback": [
      "\u001b[1;31m---------------------------------------------------------------------------\u001b[0m",
      "\u001b[1;31mValueError\u001b[0m                                Traceback (most recent call last)",
      "\u001b[1;32m~\\AppData\\Local\\Temp\\ipykernel_5160\\953872466.py\u001b[0m in \u001b[0;36m<module>\u001b[1;34m\u001b[0m\n\u001b[1;32m----> 1\u001b[1;33m \u001b[0mcoding_score_metrics\u001b[0m \u001b[1;33m=\u001b[0m \u001b[0mprocessing\u001b[0m\u001b[1;33m.\u001b[0m\u001b[0mget_cell_metrics\u001b[0m\u001b[1;33m(\u001b[0m\u001b[0mcluster_meta\u001b[0m\u001b[1;33m,\u001b[0m \u001b[0mresults_pivoted\u001b[0m\u001b[1;33m)\u001b[0m\u001b[1;33m\u001b[0m\u001b[1;33m\u001b[0m\u001b[0m\n\u001b[0m",
      "\u001b[1;32mc:\\users\\iryna.yavorska\\documents\\github\\visual_behavior_analysis\\visual_behavior\\dimensionality_reduction\\clustering\\processing.py\u001b[0m in \u001b[0;36mget_cell_metrics\u001b[1;34m(cluster_meta, results_pivoted)\u001b[0m\n\u001b[0;32m   1468\u001b[0m     \u001b[1;32mfor\u001b[0m \u001b[0mi\u001b[0m\u001b[1;33m,\u001b[0m \u001b[0mcell_specimen_id\u001b[0m \u001b[1;32min\u001b[0m \u001b[0menumerate\u001b[0m\u001b[1;33m(\u001b[0m\u001b[0mcluster_meta\u001b[0m\u001b[1;33m.\u001b[0m\u001b[0mindex\u001b[0m\u001b[1;33m.\u001b[0m\u001b[0mvalues\u001b[0m\u001b[1;33m)\u001b[0m\u001b[1;33m:\u001b[0m\u001b[1;33m\u001b[0m\u001b[1;33m\u001b[0m\u001b[0m\n\u001b[0;32m   1469\u001b[0m         \u001b[0mcell_dropouts\u001b[0m \u001b[1;33m=\u001b[0m \u001b[0mresults_pivoted\u001b[0m\u001b[1;33m[\u001b[0m\u001b[0mresults_pivoted\u001b[0m\u001b[1;33m.\u001b[0m\u001b[0mcell_specimen_id\u001b[0m \u001b[1;33m==\u001b[0m \u001b[0mcell_specimen_id\u001b[0m\u001b[1;33m]\u001b[0m\u001b[1;33m.\u001b[0m\u001b[0mgroupby\u001b[0m\u001b[1;33m(\u001b[0m\u001b[1;34m'experience_level'\u001b[0m\u001b[1;33m)\u001b[0m\u001b[1;33m.\u001b[0m\u001b[0mmean\u001b[0m\u001b[1;33m(\u001b[0m\u001b[1;33m)\u001b[0m\u001b[1;33m[\u001b[0m\u001b[0mget_features_for_clustering\u001b[0m\u001b[1;33m(\u001b[0m\u001b[1;33m)\u001b[0m\u001b[1;33m]\u001b[0m\u001b[1;33m\u001b[0m\u001b[1;33m\u001b[0m\u001b[0m\n\u001b[1;32m-> 1470\u001b[1;33m         \u001b[0mstats\u001b[0m \u001b[1;33m=\u001b[0m \u001b[0mget_coding_metrics\u001b[0m\u001b[1;33m(\u001b[0m\u001b[0mindex_dropouts\u001b[0m\u001b[1;33m=\u001b[0m\u001b[0mcell_dropouts\u001b[0m\u001b[1;33m,\u001b[0m \u001b[0mindex_value\u001b[0m\u001b[1;33m=\u001b[0m\u001b[0mcell_specimen_id\u001b[0m\u001b[1;33m,\u001b[0m \u001b[0mindex_name\u001b[0m\u001b[1;33m=\u001b[0m\u001b[1;34m'cell_specimen_id'\u001b[0m\u001b[1;33m)\u001b[0m\u001b[1;33m\u001b[0m\u001b[1;33m\u001b[0m\u001b[0m\n\u001b[0m\u001b[0;32m   1471\u001b[0m         \u001b[0mcell_metrics\u001b[0m \u001b[1;33m=\u001b[0m \u001b[0mpd\u001b[0m\u001b[1;33m.\u001b[0m\u001b[0mconcat\u001b[0m\u001b[1;33m(\u001b[0m\u001b[1;33m[\u001b[0m\u001b[0mcell_metrics\u001b[0m\u001b[1;33m,\u001b[0m \u001b[0mstats\u001b[0m\u001b[1;33m]\u001b[0m\u001b[1;33m,\u001b[0m \u001b[0msort\u001b[0m\u001b[1;33m=\u001b[0m\u001b[1;32mFalse\u001b[0m\u001b[1;33m)\u001b[0m\u001b[1;33m\u001b[0m\u001b[1;33m\u001b[0m\u001b[0m\n\u001b[0;32m   1472\u001b[0m     \u001b[0mcell_metrics\u001b[0m \u001b[1;33m=\u001b[0m \u001b[0mcell_metrics\u001b[0m\u001b[1;33m.\u001b[0m\u001b[0mmerge\u001b[0m\u001b[1;33m(\u001b[0m\u001b[0mcluster_meta\u001b[0m\u001b[1;33m,\u001b[0m \u001b[0mon\u001b[0m\u001b[1;33m=\u001b[0m\u001b[1;34m'cell_specimen_id'\u001b[0m\u001b[1;33m)\u001b[0m\u001b[1;33m\u001b[0m\u001b[1;33m\u001b[0m\u001b[0m\n",
      "\u001b[1;32mc:\\users\\iryna.yavorska\\documents\\github\\visual_behavior_analysis\\visual_behavior\\dimensionality_reduction\\clustering\\processing.py\u001b[0m in \u001b[0;36mget_coding_metrics\u001b[1;34m(index_dropouts, index_value, index_name)\u001b[0m\n\u001b[0;32m   1405\u001b[0m     \u001b[1;31m# get dropout scores per cell\u001b[0m\u001b[1;33m\u001b[0m\u001b[1;33m\u001b[0m\u001b[1;33m\u001b[0m\u001b[0m\n\u001b[0;32m   1406\u001b[0m     \u001b[1;31m# get preferred regressor and experience level and save\u001b[0m\u001b[1;33m\u001b[0m\u001b[1;33m\u001b[0m\u001b[1;33m\u001b[0m\u001b[0m\n\u001b[1;32m-> 1407\u001b[1;33m     \u001b[0mdominant_feature\u001b[0m \u001b[1;33m=\u001b[0m \u001b[0mindex_dropouts\u001b[0m\u001b[1;33m.\u001b[0m\u001b[0mstack\u001b[0m\u001b[1;33m(\u001b[0m\u001b[1;33m)\u001b[0m\u001b[1;33m.\u001b[0m\u001b[0midxmax\u001b[0m\u001b[1;33m(\u001b[0m\u001b[1;33m)\u001b[0m\u001b[1;33m[\u001b[0m\u001b[1;36m1\u001b[0m\u001b[1;33m]\u001b[0m\u001b[1;33m\u001b[0m\u001b[1;33m\u001b[0m\u001b[0m\n\u001b[0m\u001b[0;32m   1408\u001b[0m     \u001b[0mdominant_experience_level\u001b[0m \u001b[1;33m=\u001b[0m \u001b[0mindex_dropouts\u001b[0m\u001b[1;33m.\u001b[0m\u001b[0mstack\u001b[0m\u001b[1;33m(\u001b[0m\u001b[1;33m)\u001b[0m\u001b[1;33m.\u001b[0m\u001b[0midxmax\u001b[0m\u001b[1;33m(\u001b[0m\u001b[1;33m)\u001b[0m\u001b[1;33m[\u001b[0m\u001b[1;36m0\u001b[0m\u001b[1;33m]\u001b[0m\u001b[1;33m\u001b[0m\u001b[1;33m\u001b[0m\u001b[0m\n\u001b[0;32m   1409\u001b[0m     \u001b[0mstats\u001b[0m\u001b[1;33m.\u001b[0m\u001b[0mloc\u001b[0m\u001b[1;33m[\u001b[0m\u001b[0mindex_value\u001b[0m\u001b[1;33m,\u001b[0m \u001b[1;34m'dominant_feature'\u001b[0m\u001b[1;33m]\u001b[0m \u001b[1;33m=\u001b[0m \u001b[0mdominant_feature\u001b[0m\u001b[1;33m\u001b[0m\u001b[1;33m\u001b[0m\u001b[0m\n",
      "\u001b[1;32m~\\Anaconda3\\envs\\vba\\lib\\site-packages\\pandas\\core\\series.py\u001b[0m in \u001b[0;36midxmax\u001b[1;34m(self, axis, skipna, *args, **kwargs)\u001b[0m\n\u001b[0;32m   2353\u001b[0m         \u001b[0mnan\u001b[0m\u001b[1;33m\u001b[0m\u001b[1;33m\u001b[0m\u001b[0m\n\u001b[0;32m   2354\u001b[0m         \"\"\"\n\u001b[1;32m-> 2355\u001b[1;33m         \u001b[0mi\u001b[0m \u001b[1;33m=\u001b[0m \u001b[0mself\u001b[0m\u001b[1;33m.\u001b[0m\u001b[0margmax\u001b[0m\u001b[1;33m(\u001b[0m\u001b[0maxis\u001b[0m\u001b[1;33m,\u001b[0m \u001b[0mskipna\u001b[0m\u001b[1;33m,\u001b[0m \u001b[1;33m*\u001b[0m\u001b[0margs\u001b[0m\u001b[1;33m,\u001b[0m \u001b[1;33m**\u001b[0m\u001b[0mkwargs\u001b[0m\u001b[1;33m)\u001b[0m\u001b[1;33m\u001b[0m\u001b[1;33m\u001b[0m\u001b[0m\n\u001b[0m\u001b[0;32m   2356\u001b[0m         \u001b[1;32mif\u001b[0m \u001b[0mi\u001b[0m \u001b[1;33m==\u001b[0m \u001b[1;33m-\u001b[0m\u001b[1;36m1\u001b[0m\u001b[1;33m:\u001b[0m\u001b[1;33m\u001b[0m\u001b[1;33m\u001b[0m\u001b[0m\n\u001b[0;32m   2357\u001b[0m             \u001b[1;32mreturn\u001b[0m \u001b[0mnp\u001b[0m\u001b[1;33m.\u001b[0m\u001b[0mnan\u001b[0m\u001b[1;33m\u001b[0m\u001b[1;33m\u001b[0m\u001b[0m\n",
      "\u001b[1;32m~\\Anaconda3\\envs\\vba\\lib\\site-packages\\pandas\\core\\base.py\u001b[0m in \u001b[0;36margmax\u001b[1;34m(self, axis, skipna, *args, **kwargs)\u001b[0m\n\u001b[0;32m    646\u001b[0m             \u001b[1;31m# \"int\")\u001b[0m\u001b[1;33m\u001b[0m\u001b[1;33m\u001b[0m\u001b[1;33m\u001b[0m\u001b[0m\n\u001b[0;32m    647\u001b[0m             return nanops.nanargmax(  # type: ignore[return-value]\n\u001b[1;32m--> 648\u001b[1;33m                 \u001b[0mdelegate\u001b[0m\u001b[1;33m,\u001b[0m \u001b[0mskipna\u001b[0m\u001b[1;33m=\u001b[0m\u001b[0mskipna\u001b[0m\u001b[1;33m\u001b[0m\u001b[1;33m\u001b[0m\u001b[0m\n\u001b[0m\u001b[0;32m    649\u001b[0m             )\n\u001b[0;32m    650\u001b[0m \u001b[1;33m\u001b[0m\u001b[0m\n",
      "\u001b[1;32m~\\Anaconda3\\envs\\vba\\lib\\site-packages\\pandas\\core\\nanops.py\u001b[0m in \u001b[0;36m_f\u001b[1;34m(*args, **kwargs)\u001b[0m\n\u001b[0;32m     92\u001b[0m             \u001b[1;32mtry\u001b[0m\u001b[1;33m:\u001b[0m\u001b[1;33m\u001b[0m\u001b[1;33m\u001b[0m\u001b[0m\n\u001b[0;32m     93\u001b[0m                 \u001b[1;32mwith\u001b[0m \u001b[0mnp\u001b[0m\u001b[1;33m.\u001b[0m\u001b[0merrstate\u001b[0m\u001b[1;33m(\u001b[0m\u001b[0minvalid\u001b[0m\u001b[1;33m=\u001b[0m\u001b[1;34m\"ignore\"\u001b[0m\u001b[1;33m)\u001b[0m\u001b[1;33m:\u001b[0m\u001b[1;33m\u001b[0m\u001b[1;33m\u001b[0m\u001b[0m\n\u001b[1;32m---> 94\u001b[1;33m                     \u001b[1;32mreturn\u001b[0m \u001b[0mf\u001b[0m\u001b[1;33m(\u001b[0m\u001b[1;33m*\u001b[0m\u001b[0margs\u001b[0m\u001b[1;33m,\u001b[0m \u001b[1;33m**\u001b[0m\u001b[0mkwargs\u001b[0m\u001b[1;33m)\u001b[0m\u001b[1;33m\u001b[0m\u001b[1;33m\u001b[0m\u001b[0m\n\u001b[0m\u001b[0;32m     95\u001b[0m             \u001b[1;32mexcept\u001b[0m \u001b[0mValueError\u001b[0m \u001b[1;32mas\u001b[0m \u001b[0me\u001b[0m\u001b[1;33m:\u001b[0m\u001b[1;33m\u001b[0m\u001b[1;33m\u001b[0m\u001b[0m\n\u001b[0;32m     96\u001b[0m                 \u001b[1;31m# we want to transform an object array\u001b[0m\u001b[1;33m\u001b[0m\u001b[1;33m\u001b[0m\u001b[1;33m\u001b[0m\u001b[0m\n",
      "\u001b[1;32m~\\Anaconda3\\envs\\vba\\lib\\site-packages\\pandas\\core\\nanops.py\u001b[0m in \u001b[0;36mnanargmax\u001b[1;34m(values, axis, skipna, mask)\u001b[0m\n\u001b[0;32m   1069\u001b[0m     \u001b[0mvalues\u001b[0m\u001b[1;33m,\u001b[0m \u001b[0mmask\u001b[0m\u001b[1;33m,\u001b[0m \u001b[0m_\u001b[0m\u001b[1;33m,\u001b[0m \u001b[0m_\u001b[0m\u001b[1;33m,\u001b[0m \u001b[0m_\u001b[0m \u001b[1;33m=\u001b[0m \u001b[0m_get_values\u001b[0m\u001b[1;33m(\u001b[0m\u001b[0mvalues\u001b[0m\u001b[1;33m,\u001b[0m \u001b[1;32mTrue\u001b[0m\u001b[1;33m,\u001b[0m \u001b[0mfill_value_typ\u001b[0m\u001b[1;33m=\u001b[0m\u001b[1;34m\"-inf\"\u001b[0m\u001b[1;33m,\u001b[0m \u001b[0mmask\u001b[0m\u001b[1;33m=\u001b[0m\u001b[0mmask\u001b[0m\u001b[1;33m)\u001b[0m\u001b[1;33m\u001b[0m\u001b[1;33m\u001b[0m\u001b[0m\n\u001b[0;32m   1070\u001b[0m     \u001b[1;31m# error: Need type annotation for 'result'\u001b[0m\u001b[1;33m\u001b[0m\u001b[1;33m\u001b[0m\u001b[1;33m\u001b[0m\u001b[0m\n\u001b[1;32m-> 1071\u001b[1;33m     \u001b[0mresult\u001b[0m \u001b[1;33m=\u001b[0m \u001b[0mvalues\u001b[0m\u001b[1;33m.\u001b[0m\u001b[0margmax\u001b[0m\u001b[1;33m(\u001b[0m\u001b[0maxis\u001b[0m\u001b[1;33m)\u001b[0m  \u001b[1;31m# type: ignore[var-annotated]\u001b[0m\u001b[1;33m\u001b[0m\u001b[1;33m\u001b[0m\u001b[0m\n\u001b[0m\u001b[0;32m   1072\u001b[0m     \u001b[0mresult\u001b[0m \u001b[1;33m=\u001b[0m \u001b[0m_maybe_arg_null_out\u001b[0m\u001b[1;33m(\u001b[0m\u001b[0mresult\u001b[0m\u001b[1;33m,\u001b[0m \u001b[0maxis\u001b[0m\u001b[1;33m,\u001b[0m \u001b[0mmask\u001b[0m\u001b[1;33m,\u001b[0m \u001b[0mskipna\u001b[0m\u001b[1;33m)\u001b[0m\u001b[1;33m\u001b[0m\u001b[1;33m\u001b[0m\u001b[0m\n\u001b[0;32m   1073\u001b[0m     \u001b[1;32mreturn\u001b[0m \u001b[0mresult\u001b[0m\u001b[1;33m\u001b[0m\u001b[1;33m\u001b[0m\u001b[0m\n",
      "\u001b[1;31mValueError\u001b[0m: attempt to get argmax of an empty sequence"
     ]
    }
   ],
   "source": [
    "coding_score_metrics = processing.get_cell_metrics(cluster_meta, results_pivoted)"
   ]
  },
  {
   "cell_type": "code",
   "execution_count": null,
   "id": "2c2016ae-a297-4917-b58f-264fb69d70bc",
   "metadata": {},
   "outputs": [],
   "source": []
  },
  {
   "cell_type": "code",
   "execution_count": 407,
   "id": "dddf144f-4572-48d2-b71b-0a87bf484a48",
   "metadata": {},
   "outputs": [],
   "source": []
  },
  {
   "cell_type": "code",
   "execution_count": null,
   "id": "f0cfaa04-2c15-442a-9814-9e3c92c8a49f",
   "metadata": {},
   "outputs": [],
   "source": []
  }
 ],
 "metadata": {
  "kernelspec": {
   "display_name": "vba",
   "language": "python",
   "name": "vba"
  },
  "language_info": {
   "codemirror_mode": {
    "name": "ipython",
    "version": 3
   },
   "file_extension": ".py",
   "mimetype": "text/x-python",
   "name": "python",
   "nbconvert_exporter": "python",
   "pygments_lexer": "ipython3",
   "version": "3.7.9"
  }
 },
 "nbformat": 4,
 "nbformat_minor": 5
}
