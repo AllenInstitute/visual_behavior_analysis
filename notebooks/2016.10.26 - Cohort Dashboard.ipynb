{
 "cells": [
  {
   "cell_type": "markdown",
   "metadata": {
    "extensions": {
     "jupyter_dashboards": {
      "version": 1,
      "views": {
       "grid_default": {
        "col": 0,
        "height": 13,
        "hidden": false,
        "row": 0,
        "width": 5
       },
       "report_default": {}
      }
     }
    }
   },
   "source": [
    "Justin Kiggins\n",
    "\n",
    "Oct 24, 2016\n",
    "\n",
    "[justink@alleninstitute.org](mailto:justink@alleninstitute.org)\n",
    "\n",
    "Summary of learning on cohorts 1-3 on the Detection of Change task."
   ]
  },
  {
   "cell_type": "code",
   "execution_count": 1,
   "metadata": {
    "collapsed": false,
    "extensions": {
     "jupyter_dashboards": {
      "version": 1,
      "views": {
       "grid_default": {
        "col": 0,
        "height": 4,
        "hidden": true,
        "row": 0,
        "width": 4
       },
       "report_default": {}
      }
     }
    }
   },
   "outputs": [
    {
     "name": "stderr",
     "output_type": "stream",
     "text": [
      "/home/justink/.conda/envs/braintv_behav/lib/python2.7/site-packages/matplotlib/font_manager.py:273: UserWarning: Matplotlib is building the font cache using fc-list. This may take a moment.\n",
      "  warnings.warn('Matplotlib is building the font cache using fc-list. This may take a moment.')\n"
     ]
    },
    {
     "name": "stdout",
     "output_type": "stream",
     "text": [
      "failed to import CV2 in core.utilities\n",
      "failed to import mask in core.jcamdata.py\n",
      "failed to import get_mask_dict_gui in core.epoch.py\n",
      "failed to import aibs.Analysis.Core.smooth\n",
      "failed to import mask relalated functions in __init__.py\n"
     ]
    },
    {
     "name": "stderr",
     "output_type": "stream",
     "text": [
      "/home/justink/.conda/envs/braintv_behav/lib/python2.7/site-packages/IPython/html.py:14: ShimWarning: The `IPython.html` package has been deprecated. You should import from `notebook` instead. `IPython.html.widgets` has moved to `ipywidgets`.\n",
      "  \"`IPython.html.widgets` has moved to `ipywidgets`.\", ShimWarning)\n"
     ]
    }
   ],
   "source": [
    "%matplotlib inline\n",
    "\n",
    "import pandas as pd\n",
    "import numpy as np\n",
    "import matplotlib.pyplot as plt\n",
    "import seaborn as sns\n",
    "sns.set_style('white')\n",
    "\n",
    "from braintv_behav import utilities as dro\n",
    "# from dro import plotting_functions as dro_plots"
   ]
  },
  {
   "cell_type": "code",
   "execution_count": 2,
   "metadata": {
    "collapsed": false,
    "extensions": {
     "jupyter_dashboards": {
      "version": 1,
      "views": {
       "grid_default": {
        "hidden": true
       },
       "report_default": {}
      }
     }
    }
   },
   "outputs": [
    {
     "name": "stderr",
     "output_type": "stream",
     "text": [
      "/home/justink/Code/mouse_info/mouse_info/__init__.py:10: UserWarning: API 'QString' has already been set to version 1\n",
      "  warn( UserWarning(e) )\n"
     ]
    },
    {
     "data": {
      "text/html": [
       "<div>\n",
       "<table border=\"1\" class=\"dataframe\">\n",
       "  <thead>\n",
       "    <tr style=\"text-align: right;\">\n",
       "      <th></th>\n",
       "      <th>mouse</th>\n",
       "      <th>experiment</th>\n",
       "      <th>cohort</th>\n",
       "      <th>day_zero</th>\n",
       "      <th>mtrain_regimen</th>\n",
       "    </tr>\n",
       "  </thead>\n",
       "  <tbody>\n",
       "    <tr>\n",
       "      <th>0</th>\n",
       "      <td>M272464</td>\n",
       "      <td>visual_behavior_development</td>\n",
       "      <td>4</td>\n",
       "      <td>2016-10-31</td>\n",
       "      <td>NaN</td>\n",
       "    </tr>\n",
       "    <tr>\n",
       "      <th>1</th>\n",
       "      <td>M271733</td>\n",
       "      <td>visual_behavior_development</td>\n",
       "      <td>4</td>\n",
       "      <td>2016-10-31</td>\n",
       "      <td>NaN</td>\n",
       "    </tr>\n",
       "    <tr>\n",
       "      <th>2</th>\n",
       "      <td>M271728</td>\n",
       "      <td>visual_behavior_development</td>\n",
       "      <td>4</td>\n",
       "      <td>2016-10-31</td>\n",
       "      <td>NaN</td>\n",
       "    </tr>\n",
       "    <tr>\n",
       "      <th>3</th>\n",
       "      <td>M276951</td>\n",
       "      <td>visual_behavior_development</td>\n",
       "      <td>4</td>\n",
       "      <td>2016-10-31</td>\n",
       "      <td>NaN</td>\n",
       "    </tr>\n",
       "    <tr>\n",
       "      <th>4</th>\n",
       "      <td>M276950</td>\n",
       "      <td>visual_behavior_development</td>\n",
       "      <td>4</td>\n",
       "      <td>2016-10-31</td>\n",
       "      <td>NaN</td>\n",
       "    </tr>\n",
       "    <tr>\n",
       "      <th>5</th>\n",
       "      <td>M276600</td>\n",
       "      <td>visual_behavior_development</td>\n",
       "      <td>4</td>\n",
       "      <td>2016-10-31</td>\n",
       "      <td>NaN</td>\n",
       "    </tr>\n",
       "    <tr>\n",
       "      <th>6</th>\n",
       "      <td>M272465</td>\n",
       "      <td>visual_behavior_development</td>\n",
       "      <td>3</td>\n",
       "      <td>2016-10-10</td>\n",
       "      <td>NaN</td>\n",
       "    </tr>\n",
       "    <tr>\n",
       "      <th>7</th>\n",
       "      <td>M265158</td>\n",
       "      <td>visual_behavior_development</td>\n",
       "      <td>3</td>\n",
       "      <td>2016-10-10</td>\n",
       "      <td>NaN</td>\n",
       "    </tr>\n",
       "    <tr>\n",
       "      <th>8</th>\n",
       "      <td>M271966</td>\n",
       "      <td>visual_behavior_development</td>\n",
       "      <td>3</td>\n",
       "      <td>2016-10-10</td>\n",
       "      <td>NaN</td>\n",
       "    </tr>\n",
       "    <tr>\n",
       "      <th>9</th>\n",
       "      <td>M265154</td>\n",
       "      <td>visual_behavior_development</td>\n",
       "      <td>3</td>\n",
       "      <td>2016-10-10</td>\n",
       "      <td>NaN</td>\n",
       "    </tr>\n",
       "    <tr>\n",
       "      <th>10</th>\n",
       "      <td>M258194</td>\n",
       "      <td>visual_behavior_development</td>\n",
       "      <td>3</td>\n",
       "      <td>2016-10-10</td>\n",
       "      <td>NaN</td>\n",
       "    </tr>\n",
       "    <tr>\n",
       "      <th>11</th>\n",
       "      <td>M265166</td>\n",
       "      <td>visual_behavior_development</td>\n",
       "      <td>3</td>\n",
       "      <td>2016-10-10</td>\n",
       "      <td>NaN</td>\n",
       "    </tr>\n",
       "    <tr>\n",
       "      <th>12</th>\n",
       "      <td>M258173</td>\n",
       "      <td>visual_behavior_development</td>\n",
       "      <td>2</td>\n",
       "      <td>2016-09-19</td>\n",
       "      <td>NaN</td>\n",
       "    </tr>\n",
       "    <tr>\n",
       "      <th>13</th>\n",
       "      <td>M258089</td>\n",
       "      <td>visual_behavior_development</td>\n",
       "      <td>2</td>\n",
       "      <td>2016-09-19</td>\n",
       "      <td>NaN</td>\n",
       "    </tr>\n",
       "    <tr>\n",
       "      <th>14</th>\n",
       "      <td>M258276</td>\n",
       "      <td>visual_behavior_development</td>\n",
       "      <td>2</td>\n",
       "      <td>2016-09-19</td>\n",
       "      <td>NaN</td>\n",
       "    </tr>\n",
       "    <tr>\n",
       "      <th>15</th>\n",
       "      <td>M261584</td>\n",
       "      <td>visual_behavior_development</td>\n",
       "      <td>2</td>\n",
       "      <td>2016-09-19</td>\n",
       "      <td>NaN</td>\n",
       "    </tr>\n",
       "    <tr>\n",
       "      <th>16</th>\n",
       "      <td>M258274</td>\n",
       "      <td>visual_behavior_development</td>\n",
       "      <td>2</td>\n",
       "      <td>2016-09-19</td>\n",
       "      <td>NaN</td>\n",
       "    </tr>\n",
       "    <tr>\n",
       "      <th>17</th>\n",
       "      <td>M258275</td>\n",
       "      <td>visual_behavior_development</td>\n",
       "      <td>2</td>\n",
       "      <td>2016-09-19</td>\n",
       "      <td>NaN</td>\n",
       "    </tr>\n",
       "    <tr>\n",
       "      <th>18</th>\n",
       "      <td>M246782</td>\n",
       "      <td>visual_behavior_development</td>\n",
       "      <td>1</td>\n",
       "      <td>2016-08-22</td>\n",
       "      <td>NaN</td>\n",
       "    </tr>\n",
       "    <tr>\n",
       "      <th>19</th>\n",
       "      <td>M249123</td>\n",
       "      <td>visual_behavior_development</td>\n",
       "      <td>1</td>\n",
       "      <td>2016-08-22</td>\n",
       "      <td>NaN</td>\n",
       "    </tr>\n",
       "    <tr>\n",
       "      <th>20</th>\n",
       "      <td>M258174</td>\n",
       "      <td>visual_behavior_development</td>\n",
       "      <td>1</td>\n",
       "      <td>2016-08-22</td>\n",
       "      <td>NaN</td>\n",
       "    </tr>\n",
       "    <tr>\n",
       "      <th>21</th>\n",
       "      <td>M250783</td>\n",
       "      <td>visual_behavior_development</td>\n",
       "      <td>1</td>\n",
       "      <td>2016-08-22</td>\n",
       "      <td>NaN</td>\n",
       "    </tr>\n",
       "    <tr>\n",
       "      <th>22</th>\n",
       "      <td>M250786</td>\n",
       "      <td>visual_behavior_development</td>\n",
       "      <td>1</td>\n",
       "      <td>2016-08-22</td>\n",
       "      <td>NaN</td>\n",
       "    </tr>\n",
       "    <tr>\n",
       "      <th>23</th>\n",
       "      <td>M258196</td>\n",
       "      <td>visual_behavior_development</td>\n",
       "      <td>1</td>\n",
       "      <td>2016-08-22</td>\n",
       "      <td>NaN</td>\n",
       "    </tr>\n",
       "    <tr>\n",
       "      <th>24</th>\n",
       "      <td>M273577</td>\n",
       "      <td>visual_behavior_development</td>\n",
       "      <td>5</td>\n",
       "      <td>2016-11-28</td>\n",
       "      <td>NaN</td>\n",
       "    </tr>\n",
       "    <tr>\n",
       "      <th>25</th>\n",
       "      <td>M273578</td>\n",
       "      <td>visual_behavior_development</td>\n",
       "      <td>5</td>\n",
       "      <td>2016-11-28</td>\n",
       "      <td>NaN</td>\n",
       "    </tr>\n",
       "    <tr>\n",
       "      <th>26</th>\n",
       "      <td>M278229</td>\n",
       "      <td>visual_behavior_development</td>\n",
       "      <td>5</td>\n",
       "      <td>2016-11-28</td>\n",
       "      <td>NaN</td>\n",
       "    </tr>\n",
       "    <tr>\n",
       "      <th>27</th>\n",
       "      <td>M276444</td>\n",
       "      <td>visual_behavior_development</td>\n",
       "      <td>5</td>\n",
       "      <td>2016-11-28</td>\n",
       "      <td>NaN</td>\n",
       "    </tr>\n",
       "    <tr>\n",
       "      <th>28</th>\n",
       "      <td>M275962</td>\n",
       "      <td>visual_behavior_development</td>\n",
       "      <td>5</td>\n",
       "      <td>2016-11-28</td>\n",
       "      <td>NaN</td>\n",
       "    </tr>\n",
       "    <tr>\n",
       "      <th>29</th>\n",
       "      <td>M276445</td>\n",
       "      <td>visual_behavior_development</td>\n",
       "      <td>5</td>\n",
       "      <td>2016-11-28</td>\n",
       "      <td>NaN</td>\n",
       "    </tr>\n",
       "    <tr>\n",
       "      <th>30</th>\n",
       "      <td>M275965</td>\n",
       "      <td>visual_behavior_development</td>\n",
       "      <td>6</td>\n",
       "      <td>2017-01-16</td>\n",
       "      <td>NaN</td>\n",
       "    </tr>\n",
       "    <tr>\n",
       "      <th>31</th>\n",
       "      <td>M275963</td>\n",
       "      <td>visual_behavior_development</td>\n",
       "      <td>6</td>\n",
       "      <td>2017-01-16</td>\n",
       "      <td>NaN</td>\n",
       "    </tr>\n",
       "    <tr>\n",
       "      <th>32</th>\n",
       "      <td>M277931</td>\n",
       "      <td>visual_behavior_development</td>\n",
       "      <td>6</td>\n",
       "      <td>2017-01-16</td>\n",
       "      <td>NaN</td>\n",
       "    </tr>\n",
       "    <tr>\n",
       "      <th>33</th>\n",
       "      <td>M278329</td>\n",
       "      <td>visual_behavior_development</td>\n",
       "      <td>6</td>\n",
       "      <td>2017-01-16</td>\n",
       "      <td>NaN</td>\n",
       "    </tr>\n",
       "    <tr>\n",
       "      <th>34</th>\n",
       "      <td>M278463</td>\n",
       "      <td>visual_behavior_development</td>\n",
       "      <td>6</td>\n",
       "      <td>2017-01-16</td>\n",
       "      <td>NaN</td>\n",
       "    </tr>\n",
       "    <tr>\n",
       "      <th>35</th>\n",
       "      <td>M278332</td>\n",
       "      <td>visual_behavior_development</td>\n",
       "      <td>6</td>\n",
       "      <td>2017-01-16</td>\n",
       "      <td>NaN</td>\n",
       "    </tr>\n",
       "    <tr>\n",
       "      <th>36</th>\n",
       "      <td>M278460</td>\n",
       "      <td>visual_behavior_development</td>\n",
       "      <td>7</td>\n",
       "      <td>2017-02-13</td>\n",
       "      <td>cohort7</td>\n",
       "    </tr>\n",
       "    <tr>\n",
       "      <th>37</th>\n",
       "      <td>M276953</td>\n",
       "      <td>visual_behavior_development</td>\n",
       "      <td>7</td>\n",
       "      <td>2017-02-13</td>\n",
       "      <td>cohort7</td>\n",
       "    </tr>\n",
       "    <tr>\n",
       "      <th>38</th>\n",
       "      <td>M274438</td>\n",
       "      <td>visual_behavior_development</td>\n",
       "      <td>7</td>\n",
       "      <td>2017-02-13</td>\n",
       "      <td>cohort7</td>\n",
       "    </tr>\n",
       "    <tr>\n",
       "      <th>39</th>\n",
       "      <td>M274439</td>\n",
       "      <td>visual_behavior_development</td>\n",
       "      <td>7</td>\n",
       "      <td>2017-02-13</td>\n",
       "      <td>cohort7</td>\n",
       "    </tr>\n",
       "    <tr>\n",
       "      <th>40</th>\n",
       "      <td>M294753</td>\n",
       "      <td>visual_behavior_development</td>\n",
       "      <td>7</td>\n",
       "      <td>2017-02-13</td>\n",
       "      <td>cohort7</td>\n",
       "    </tr>\n",
       "    <tr>\n",
       "      <th>41</th>\n",
       "      <td>M294759</td>\n",
       "      <td>visual_behavior_development</td>\n",
       "      <td>7</td>\n",
       "      <td>2017-02-13</td>\n",
       "      <td>cohort7</td>\n",
       "    </tr>\n",
       "    <tr>\n",
       "      <th>42</th>\n",
       "      <td>M289734</td>\n",
       "      <td>rylan</td>\n",
       "      <td>7</td>\n",
       "      <td>2017-02-27</td>\n",
       "      <td>cohort7habit</td>\n",
       "    </tr>\n",
       "    <tr>\n",
       "      <th>43</th>\n",
       "      <td>M289737</td>\n",
       "      <td>rylan</td>\n",
       "      <td>7</td>\n",
       "      <td>2017-02-27</td>\n",
       "      <td>cohort7habit</td>\n",
       "    </tr>\n",
       "    <tr>\n",
       "      <th>44</th>\n",
       "      <td>M289738</td>\n",
       "      <td>rylan</td>\n",
       "      <td>7</td>\n",
       "      <td>2017-02-27</td>\n",
       "      <td>cohort7habit</td>\n",
       "    </tr>\n",
       "    <tr>\n",
       "      <th>45</th>\n",
       "      <td>M278461</td>\n",
       "      <td>visual_behavior_development</td>\n",
       "      <td>7</td>\n",
       "      <td>2017-03-06</td>\n",
       "      <td>cohort7habit</td>\n",
       "    </tr>\n",
       "    <tr>\n",
       "      <th>46</th>\n",
       "      <td>M278465</td>\n",
       "      <td>visual_behavior_development</td>\n",
       "      <td>7</td>\n",
       "      <td>2017-03-06</td>\n",
       "      <td>cohort7habit</td>\n",
       "    </tr>\n",
       "    <tr>\n",
       "      <th>47</th>\n",
       "      <td>M278710</td>\n",
       "      <td>visual_behavior_development</td>\n",
       "      <td>7</td>\n",
       "      <td>2017-03-06</td>\n",
       "      <td>cohort7habit</td>\n",
       "    </tr>\n",
       "    <tr>\n",
       "      <th>48</th>\n",
       "      <td>M279219</td>\n",
       "      <td>visual_behavior_development</td>\n",
       "      <td>7</td>\n",
       "      <td>2017-03-06</td>\n",
       "      <td>cohort7habit</td>\n",
       "    </tr>\n",
       "    <tr>\n",
       "      <th>49</th>\n",
       "      <td>M279220</td>\n",
       "      <td>visual_behavior_development</td>\n",
       "      <td>7</td>\n",
       "      <td>2017-03-06</td>\n",
       "      <td>cohort7habit</td>\n",
       "    </tr>\n",
       "    <tr>\n",
       "      <th>50</th>\n",
       "      <td>M279222</td>\n",
       "      <td>visual_behavior_development</td>\n",
       "      <td>7</td>\n",
       "      <td>2017-03-06</td>\n",
       "      <td>cohort7habit</td>\n",
       "    </tr>\n",
       "    <tr>\n",
       "      <th>51</th>\n",
       "      <td>M282821</td>\n",
       "      <td>visual_behavior_development</td>\n",
       "      <td>8</td>\n",
       "      <td>2017-03-20</td>\n",
       "      <td>cohort8</td>\n",
       "    </tr>\n",
       "    <tr>\n",
       "      <th>52</th>\n",
       "      <td>M282822</td>\n",
       "      <td>visual_behavior_development</td>\n",
       "      <td>8</td>\n",
       "      <td>2017-03-20</td>\n",
       "      <td>cohort8</td>\n",
       "    </tr>\n",
       "    <tr>\n",
       "      <th>53</th>\n",
       "      <td>M284728</td>\n",
       "      <td>visual_behavior_development</td>\n",
       "      <td>8</td>\n",
       "      <td>2017-03-20</td>\n",
       "      <td>cohort8</td>\n",
       "    </tr>\n",
       "    <tr>\n",
       "      <th>54</th>\n",
       "      <td>M297953</td>\n",
       "      <td>visual_behavior_development</td>\n",
       "      <td>8</td>\n",
       "      <td>2017-03-20</td>\n",
       "      <td>cohort8</td>\n",
       "    </tr>\n",
       "    <tr>\n",
       "      <th>55</th>\n",
       "      <td>M293817</td>\n",
       "      <td>visual_behavior_development</td>\n",
       "      <td>8</td>\n",
       "      <td>2017-03-20</td>\n",
       "      <td>cohort8</td>\n",
       "    </tr>\n",
       "    <tr>\n",
       "      <th>56</th>\n",
       "      <td>M293818</td>\n",
       "      <td>visual_behavior_development</td>\n",
       "      <td>8</td>\n",
       "      <td>2017-03-20</td>\n",
       "      <td>cohort8</td>\n",
       "    </tr>\n",
       "  </tbody>\n",
       "</table>\n",
       "</div>"
      ],
      "text/plain": [
       "      mouse                   experiment  cohort   day_zero mtrain_regimen\n",
       "0   M272464  visual_behavior_development       4 2016-10-31            NaN\n",
       "1   M271733  visual_behavior_development       4 2016-10-31            NaN\n",
       "2   M271728  visual_behavior_development       4 2016-10-31            NaN\n",
       "3   M276951  visual_behavior_development       4 2016-10-31            NaN\n",
       "4   M276950  visual_behavior_development       4 2016-10-31            NaN\n",
       "5   M276600  visual_behavior_development       4 2016-10-31            NaN\n",
       "6   M272465  visual_behavior_development       3 2016-10-10            NaN\n",
       "7   M265158  visual_behavior_development       3 2016-10-10            NaN\n",
       "8   M271966  visual_behavior_development       3 2016-10-10            NaN\n",
       "9   M265154  visual_behavior_development       3 2016-10-10            NaN\n",
       "10  M258194  visual_behavior_development       3 2016-10-10            NaN\n",
       "11  M265166  visual_behavior_development       3 2016-10-10            NaN\n",
       "12  M258173  visual_behavior_development       2 2016-09-19            NaN\n",
       "13  M258089  visual_behavior_development       2 2016-09-19            NaN\n",
       "14  M258276  visual_behavior_development       2 2016-09-19            NaN\n",
       "15  M261584  visual_behavior_development       2 2016-09-19            NaN\n",
       "16  M258274  visual_behavior_development       2 2016-09-19            NaN\n",
       "17  M258275  visual_behavior_development       2 2016-09-19            NaN\n",
       "18  M246782  visual_behavior_development       1 2016-08-22            NaN\n",
       "19  M249123  visual_behavior_development       1 2016-08-22            NaN\n",
       "20  M258174  visual_behavior_development       1 2016-08-22            NaN\n",
       "21  M250783  visual_behavior_development       1 2016-08-22            NaN\n",
       "22  M250786  visual_behavior_development       1 2016-08-22            NaN\n",
       "23  M258196  visual_behavior_development       1 2016-08-22            NaN\n",
       "24  M273577  visual_behavior_development       5 2016-11-28            NaN\n",
       "25  M273578  visual_behavior_development       5 2016-11-28            NaN\n",
       "26  M278229  visual_behavior_development       5 2016-11-28            NaN\n",
       "27  M276444  visual_behavior_development       5 2016-11-28            NaN\n",
       "28  M275962  visual_behavior_development       5 2016-11-28            NaN\n",
       "29  M276445  visual_behavior_development       5 2016-11-28            NaN\n",
       "30  M275965  visual_behavior_development       6 2017-01-16            NaN\n",
       "31  M275963  visual_behavior_development       6 2017-01-16            NaN\n",
       "32  M277931  visual_behavior_development       6 2017-01-16            NaN\n",
       "33  M278329  visual_behavior_development       6 2017-01-16            NaN\n",
       "34  M278463  visual_behavior_development       6 2017-01-16            NaN\n",
       "35  M278332  visual_behavior_development       6 2017-01-16            NaN\n",
       "36  M278460  visual_behavior_development       7 2017-02-13        cohort7\n",
       "37  M276953  visual_behavior_development       7 2017-02-13        cohort7\n",
       "38  M274438  visual_behavior_development       7 2017-02-13        cohort7\n",
       "39  M274439  visual_behavior_development       7 2017-02-13        cohort7\n",
       "40  M294753  visual_behavior_development       7 2017-02-13        cohort7\n",
       "41  M294759  visual_behavior_development       7 2017-02-13        cohort7\n",
       "42  M289734                        rylan       7 2017-02-27   cohort7habit\n",
       "43  M289737                        rylan       7 2017-02-27   cohort7habit\n",
       "44  M289738                        rylan       7 2017-02-27   cohort7habit\n",
       "45  M278461  visual_behavior_development       7 2017-03-06   cohort7habit\n",
       "46  M278465  visual_behavior_development       7 2017-03-06   cohort7habit\n",
       "47  M278710  visual_behavior_development       7 2017-03-06   cohort7habit\n",
       "48  M279219  visual_behavior_development       7 2017-03-06   cohort7habit\n",
       "49  M279220  visual_behavior_development       7 2017-03-06   cohort7habit\n",
       "50  M279222  visual_behavior_development       7 2017-03-06   cohort7habit\n",
       "51  M282821  visual_behavior_development       8 2017-03-20        cohort8\n",
       "52  M282822  visual_behavior_development       8 2017-03-20        cohort8\n",
       "53  M284728  visual_behavior_development       8 2017-03-20        cohort8\n",
       "54  M297953  visual_behavior_development       8 2017-03-20        cohort8\n",
       "55  M293817  visual_behavior_development       8 2017-03-20        cohort8\n",
       "56  M293818  visual_behavior_development       8 2017-03-20        cohort8"
      ]
     },
     "execution_count": 2,
     "metadata": {},
     "output_type": "execute_result"
    }
   ],
   "source": [
    "from braintv_behav.cohorts import cohort_assignment\n",
    "cohort_assignment"
   ]
  },
  {
   "cell_type": "code",
   "execution_count": 3,
   "metadata": {
    "collapsed": true
   },
   "outputs": [],
   "source": [
    "from braintv_behav import latest"
   ]
  },
  {
   "cell_type": "code",
   "execution_count": 4,
   "metadata": {
    "collapsed": false
   },
   "outputs": [
    {
     "data": {
      "text/plain": [
       "'/local1/Projects/braintv_behavior_piloting/braintv_behav/../data/raw'"
      ]
     },
     "execution_count": 4,
     "metadata": {},
     "output_type": "execute_result"
    }
   ],
   "source": [
    "latest.local_dir"
   ]
  },
  {
   "cell_type": "code",
   "execution_count": 5,
   "metadata": {
    "collapsed": false
   },
   "outputs": [],
   "source": [
    "from braintv_behav.cohorts import mouse_info\n",
    "mouse_df = cohort_assignment['mouse'].apply(lambda mouse: pd.Series(mouse_info(mouse)))\n",
    "cohort_assignment = cohort_assignment.merge(\n",
    "    mouse_df,\n",
    "    how='left',\n",
    "    left_on='mouse',\n",
    "    right_on='mouse_id'\n",
    ")"
   ]
  },
  {
   "cell_type": "code",
   "execution_count": 6,
   "metadata": {
    "collapsed": false
   },
   "outputs": [
    {
     "data": {
      "text/html": [
       "<div>\n",
       "<table border=\"1\" class=\"dataframe\">\n",
       "  <thead>\n",
       "    <tr style=\"text-align: right;\">\n",
       "      <th></th>\n",
       "      <th>mouse</th>\n",
       "      <th>experiment</th>\n",
       "      <th>cohort</th>\n",
       "      <th>day_zero</th>\n",
       "      <th>mtrain_regimen</th>\n",
       "      <th>baselineweight</th>\n",
       "      <th>birthdate</th>\n",
       "      <th>dayonescript</th>\n",
       "      <th>driver1</th>\n",
       "      <th>driver2</th>\n",
       "      <th>...</th>\n",
       "      <th>minweight</th>\n",
       "      <th>mouse_id</th>\n",
       "      <th>mousenotes</th>\n",
       "      <th>owner</th>\n",
       "      <th>reporter</th>\n",
       "      <th>sex</th>\n",
       "      <th>tasktype</th>\n",
       "      <th>training_location</th>\n",
       "      <th>userid</th>\n",
       "      <th>waterrestrictionstartdate</th>\n",
       "    </tr>\n",
       "  </thead>\n",
       "  <tbody>\n",
       "    <tr>\n",
       "      <th>0</th>\n",
       "      <td>M272464</td>\n",
       "      <td>visual_behavior_development</td>\n",
       "      <td>4</td>\n",
       "      <td>2016-10-31</td>\n",
       "      <td>NaN</td>\n",
       "      <td>20.2</td>\n",
       "      <td>2016-08-24</td>\n",
       "      <td></td>\n",
       "      <td>None</td>\n",
       "      <td>None</td>\n",
       "      <td>...</td>\n",
       "      <td>85</td>\n",
       "      <td>M272464</td>\n",
       "      <td>Additional information...</td>\n",
       "      <td>sissyc</td>\n",
       "      <td>None</td>\n",
       "      <td>Male</td>\n",
       "      <td>None</td>\n",
       "      <td>None</td>\n",
       "      <td>sissyc</td>\n",
       "      <td>2016-10-21</td>\n",
       "    </tr>\n",
       "    <tr>\n",
       "      <th>1</th>\n",
       "      <td>M271733</td>\n",
       "      <td>visual_behavior_development</td>\n",
       "      <td>4</td>\n",
       "      <td>2016-10-31</td>\n",
       "      <td>NaN</td>\n",
       "      <td>20.4</td>\n",
       "      <td>2016-08-01</td>\n",
       "      <td></td>\n",
       "      <td>None</td>\n",
       "      <td>None</td>\n",
       "      <td>...</td>\n",
       "      <td>85</td>\n",
       "      <td>M271733</td>\n",
       "      <td>Additional information...</td>\n",
       "      <td>sissyc</td>\n",
       "      <td>None</td>\n",
       "      <td>Female</td>\n",
       "      <td>None</td>\n",
       "      <td>None</td>\n",
       "      <td>sissyc</td>\n",
       "      <td>2016-10-21</td>\n",
       "    </tr>\n",
       "    <tr>\n",
       "      <th>2</th>\n",
       "      <td>M271728</td>\n",
       "      <td>visual_behavior_development</td>\n",
       "      <td>4</td>\n",
       "      <td>2016-10-31</td>\n",
       "      <td>NaN</td>\n",
       "      <td>23.0</td>\n",
       "      <td>2016-08-01</td>\n",
       "      <td></td>\n",
       "      <td>None</td>\n",
       "      <td>None</td>\n",
       "      <td>...</td>\n",
       "      <td>85</td>\n",
       "      <td>M271728</td>\n",
       "      <td>Additional information...</td>\n",
       "      <td>sissyc</td>\n",
       "      <td>None</td>\n",
       "      <td>Male</td>\n",
       "      <td>None</td>\n",
       "      <td>None</td>\n",
       "      <td>sissyc</td>\n",
       "      <td>2016-10-21</td>\n",
       "    </tr>\n",
       "    <tr>\n",
       "      <th>3</th>\n",
       "      <td>M276951</td>\n",
       "      <td>visual_behavior_development</td>\n",
       "      <td>4</td>\n",
       "      <td>2016-10-31</td>\n",
       "      <td>NaN</td>\n",
       "      <td>20.8</td>\n",
       "      <td>2016-08-27</td>\n",
       "      <td></td>\n",
       "      <td>None</td>\n",
       "      <td>None</td>\n",
       "      <td>...</td>\n",
       "      <td>81</td>\n",
       "      <td>M276951</td>\n",
       "      <td>Additional information...</td>\n",
       "      <td>sissyc</td>\n",
       "      <td>None</td>\n",
       "      <td>Female</td>\n",
       "      <td>None</td>\n",
       "      <td>None</td>\n",
       "      <td>sissyc</td>\n",
       "      <td>2016-10-21</td>\n",
       "    </tr>\n",
       "    <tr>\n",
       "      <th>4</th>\n",
       "      <td>M276950</td>\n",
       "      <td>visual_behavior_development</td>\n",
       "      <td>4</td>\n",
       "      <td>2016-10-31</td>\n",
       "      <td>NaN</td>\n",
       "      <td>20.4</td>\n",
       "      <td>2016-08-27</td>\n",
       "      <td></td>\n",
       "      <td>None</td>\n",
       "      <td>None</td>\n",
       "      <td>...</td>\n",
       "      <td>85</td>\n",
       "      <td>M276950</td>\n",
       "      <td>Additional information...</td>\n",
       "      <td>sissyc</td>\n",
       "      <td>None</td>\n",
       "      <td>Female</td>\n",
       "      <td>None</td>\n",
       "      <td>None</td>\n",
       "      <td>sissyc</td>\n",
       "      <td>2016-10-21</td>\n",
       "    </tr>\n",
       "  </tbody>\n",
       "</table>\n",
       "<p>5 rows × 22 columns</p>\n",
       "</div>"
      ],
      "text/plain": [
       "     mouse                   experiment  cohort   day_zero mtrain_regimen  \\\n",
       "0  M272464  visual_behavior_development       4 2016-10-31            NaN   \n",
       "1  M271733  visual_behavior_development       4 2016-10-31            NaN   \n",
       "2  M271728  visual_behavior_development       4 2016-10-31            NaN   \n",
       "3  M276951  visual_behavior_development       4 2016-10-31            NaN   \n",
       "4  M276950  visual_behavior_development       4 2016-10-31            NaN   \n",
       "\n",
       "   baselineweight   birthdate dayonescript driver1 driver2  \\\n",
       "0            20.2  2016-08-24                 None    None   \n",
       "1            20.4  2016-08-01                 None    None   \n",
       "2            23.0  2016-08-01                 None    None   \n",
       "3            20.8  2016-08-27                 None    None   \n",
       "4            20.4  2016-08-27                 None    None   \n",
       "\n",
       "             ...            minweight  mouse_id                 mousenotes  \\\n",
       "0            ...                   85   M272464  Additional information...   \n",
       "1            ...                   85   M271733  Additional information...   \n",
       "2            ...                   85   M271728  Additional information...   \n",
       "3            ...                   81   M276951  Additional information...   \n",
       "4            ...                   85   M276950  Additional information...   \n",
       "\n",
       "    owner reporter     sex tasktype training_location  userid  \\\n",
       "0  sissyc     None    Male     None              None  sissyc   \n",
       "1  sissyc     None  Female     None              None  sissyc   \n",
       "2  sissyc     None    Male     None              None  sissyc   \n",
       "3  sissyc     None  Female     None              None  sissyc   \n",
       "4  sissyc     None  Female     None              None  sissyc   \n",
       "\n",
       "  waterrestrictionstartdate  \n",
       "0                2016-10-21  \n",
       "1                2016-10-21  \n",
       "2                2016-10-21  \n",
       "3                2016-10-21  \n",
       "4                2016-10-21  \n",
       "\n",
       "[5 rows x 22 columns]"
      ]
     },
     "execution_count": 6,
     "metadata": {},
     "output_type": "execute_result"
    }
   ],
   "source": [
    "cohort_assignment.head()"
   ]
  },
  {
   "cell_type": "markdown",
   "metadata": {
    "extensions": {
     "jupyter_dashboards": {
      "version": 1,
      "views": {
       "grid_default": {
        "col": 4,
        "height": 4,
        "hidden": true,
        "row": 0,
        "width": 4
       },
       "report_default": {}
      }
     }
    }
   },
   "source": [
    "## Load data"
   ]
  },
  {
   "cell_type": "code",
   "execution_count": 7,
   "metadata": {
    "collapsed": false
   },
   "outputs": [
    {
     "data": {
      "text/plain": [
       "cohort  group                                \n",
       "1       Scnn1a-Tg3-Cre; Camk2a-tTa; Ai93 (NC)    3\n",
       "        Rorb-IRES2-Cre; Camk2a-tTA; Ai93 (NC)    2\n",
       "        Sim1-Cre                                 1\n",
       "2       Rasgrf                                   2\n",
       "        Ai93                                     1\n",
       "        Gnb4                                     1\n",
       "        Rasgrf2                                  1\n",
       "        Sim1-Cre                                 1\n",
       "3       Rorb-IRES2-Cre; Camk2a-tTA; Ai93 (NC)    3\n",
       "        EMX-Cre-Ai35                             2\n",
       "        Scnn1a-Tg3-Cre; Camk2a-tTa; Ai93 (NC)    1\n",
       "4       EMX-Cre-Ai35                             3\n",
       "        Nr5a1                                    2\n",
       "        Emx-IRES-Cre;Ai95(NC)                    1\n",
       "5       Cux2-CreERT2                             1\n",
       "        Cux2-CreERT2; Camk2a-tTA;Ai93            1\n",
       "        EmX-IRES-Cre                             1\n",
       "        Nr5a1                                    1\n",
       "        Nr5a1-Cre                                1\n",
       "        Ntsr1-Cre                                1\n",
       "6       Ntsr1-Cre; Camk2a-tTa; Ai93 (NC)         2\n",
       "        Rorb-IRES2-Cre; Camk2a-tTA; Ai93 (NC)    2\n",
       "        Emx1-IRES-Cre; Camk2a-tTA; Ai93          1\n",
       "        nr5a1                                    1\n",
       "7       Chat-IRES-Cre-neo,Ai148                  3\n",
       "        EMX-Cre-Ai35                             3\n",
       "        VGAT ChR2                                3\n",
       "        Emx1-IRES-Cre; Camk2a-tTA; Ai93          1\n",
       "        TetO                                     1\n",
       "8       Cux2-CreERT2; Camk2a-tTA;Ai93            2\n",
       "        Emx1-IRES-Cre; Camk2a-tTA; Ai93          2\n",
       "        VGAT ChR2                                2\n",
       "Name: group, dtype: int64"
      ]
     },
     "execution_count": 7,
     "metadata": {},
     "output_type": "execute_result"
    }
   ],
   "source": [
    "cohort_assignment.groupby('cohort')['group'].value_counts()"
   ]
  },
  {
   "cell_type": "code",
   "execution_count": 8,
   "metadata": {
    "collapsed": false
   },
   "outputs": [
    {
     "name": "stdout",
     "output_type": "stream",
     "text": [
      "copying 170323101523-task=DoC_NaturalImages_LuminanceMatched_TestImages_n=8_stage=Testing_mouse=M271733.pkl\n",
      "copying 170324102535-task=DoC_NaturalImages_LuminanceMatched_TestImages_n=8_stage=Testing_mouse=M271733.pkl\n",
      "copying 170327101524-task=DoC_NaturalImages_LuminanceMatched_TestImages_n=8_stage=Testing_mouse=M271733.pkl\n",
      "copying 170323095945-task=DoC_NaturalImages_LuminanceMatched_TestImages_n=8_stage=Testing_mouse=M276950.pkl\n",
      "copying 170324102908-task=DoC_NaturalImages_LuminanceMatched_TestImages_n=8_stage=Testing_mouse=M276950.pkl\n",
      "copying 170327101327-task=DoC_NaturalImages_LuminanceMatched_TestImages_n=8_stage=Testing_mouse=M276950.pkl\n",
      "copying 170323101918-task=DoC_NaturalImages_LuminanceMatched_TestImages_n=8_stage=Testing_mouse=M276600.pkl\n",
      "copying 170324102904-task=DoC_NaturalImages_LuminanceMatched_TestImages_n=8_stage=Testing_mouse=M276600.pkl\n",
      "copying 170327101837-task=DoC_NaturalImages_LuminanceMatched_TestImages_n=8_stage=Testing_mouse=M276600.pkl\n",
      "copying 170323101203-task=DoC_NaturalImages_LuminanceMatched_TestImages_n=8_stage=Testing_mouse=M271966.pkl\n",
      "copying 170324102222-task=DoC_NaturalImages_LuminanceMatched_TestImages_n=8_stage=Testing_mouse=M271966.pkl\n",
      "copying 170327101204-task=DoC_NaturalImages_LuminanceMatched_TestImages_n=8_stage=Testing_mouse=M271966.pkl\n",
      "copying 170323101711-task=DoC_NaturalImages_LuminanceMatched_TestImages_n=8_stage=Testing_mouse=M258194.pkl\n",
      "copying 170324102711-task=DoC_NaturalImages_LuminanceMatched_TestImages_n=8_stage=Testing_mouse=M258194.pkl\n",
      "copying 170327101639-task=DoC_NaturalImages_LuminanceMatched_TestImages_n=8_stage=Testing_mouse=M258194.pkl\n",
      "copying 170322144213-task=DoC_NaturalImages_LuminanceMatched_TestImages_n=8_stage=Testing_mouse=M273577.pkl\n",
      "copying 170324150321-task=DoC_NaturalImages_LuminanceMatched_TestImages_n=8_stage=Testing_mouse=M273577.pkl\n",
      "copying 170322144031-task=DoC_NaturalImages_LuminanceMatched_TestImages_n=8_stage=Testing_mouse=M273578.pkl\n",
      "copying 170323143515-task=DoC_NaturalImages_LuminanceMatched_TestImages_n=8_stage=Testing_mouse=M273578.pkl\n",
      "copying 170324145458-task=DoC_NaturalImages_LuminanceMatched_TestImages_n=8_stage=Testing_mouse=M273578.pkl\n",
      "copying 170322144032-task=DoC_NaturalImages_LuminanceMatched_TestImages_n=8_stage=Testing_mouse=M276444.pkl\n",
      "copying 170323143445-task=DoC_NaturalImages_LuminanceMatched_TestImages_n=8_stage=Testing_mouse=M276444.pkl\n",
      "copying 170324145433-task=DoC_NaturalImages_LuminanceMatched_TestImages_n=8_stage=Testing_mouse=M276444.pkl\n",
      "copying 170322150534-task=DoC_NaturalImages_CAMMatched_n=8_stage=natural_images_mouse=M278460.pkl\n",
      "copying 170323120025-task=DoC_NaturalImages_CAMMatched_n=8_stage=natural_images_mouse=M278460.pkl\n",
      "copying 170324102135-task=DoC_NaturalImages_CAMMatched_n=8_stage=natural_images_mouse=M278460.pkl\n",
      "copying 170322150632-task=DoC_NaturalImages_CAMMatched_n=8_stage=natural_images_mouse=M276953.pkl\n",
      "copying 170323115922-task=DoC_NaturalImages_CAMMatched_n=8_stage=natural_images_mouse=M276953.pkl\n",
      "copying 170322145613-task=DetectionOfChange_General_stage=static_windowed_gratings_flash_500ms_mouse=M274438.pkl\n",
      "copying 170323115808-task=DetectionOfChange_General_stage=preopto_gratings_mouse=M274438.pkl\n",
      "copying 170324113831-task=DetectionOfChange_General_stage=preopto_gratings_mouse=M274438.pkl\n",
      "copying 170322150348-task=DoC_NaturalImages_CAMMatched_n=8_stage=natural_images_mouse=M274439.pkl\n",
      "copying 170323115334-task=DoC_NaturalImages_CAMMatched_n=3_stage=natural_images_mouse=M274439.pkl\n",
      "copying 170324114103-task=DoC_NaturalImages_CAMMatched_n=3_stage=natural_images_mouse=M274439.pkl\n",
      "copying 170322150440-task=DoC_NaturalImages_CAMMatched_n=8_stage=natural_images_mouse=M294753.pkl\n",
      "copying 170323120105-task=DoC_NaturalImages_CAMMatched_n=8_stage=natural_images_mouse=M294753.pkl\n",
      "copying 170324114020-task=DoC_NaturalImages_CAMMatched_n=8_stage=natural_images_mouse=M294753.pkl\n",
      "copying 170322150736-task=DoC_NaturalImages_CAMMatched_n=8_stage=natural_images_mouse=M294759.pkl\n",
      "copying 170323115844-task=DoC_NaturalImages_CAMMatched_n=8_stage=natural_images_mouse=M294759.pkl\n",
      "copying 170324113914-task=DoC_NaturalImages_CAMMatched_n=8_stage=natural_images_mouse=M294759.pkl\n",
      "copying 170323111948-task=DoC_NaturalImages_CAMMatched_n=8_stage=natural_images_mouse=M289734.pkl\n",
      "copying 170324113006-task=DoC_NaturalImages_CAMMatched_n=8_stage=natural_images_mouse=M289734.pkl\n",
      "copying 170323112324-task=DoC_NaturalImages_CAMMatched_n=8_stage=natural_images_mouse=M289737.pkl\n",
      "copying 170324113301-task=DoC_NaturalImages_CAMMatched_n=8_stage=natural_images_mouse=M289737.pkl\n",
      "copying 170323112639-task=DoC_NaturalImages_CAMMatched_n=8_stage=natural_images_mouse=M289738.pkl\n",
      "copying 170323143639-task=DoC_NaturalImages_CAMMatched_n=8_stage=natural_images_mouse=M289738.pkl\n",
      "copying 170324113630-task=DoC_NaturalImages_CAMMatched_n=8_stage=natural_images_mouse=M289738.pkl\n",
      "copying 170322134028-task=DoC_NaturalImages_CAMMatched_n=8_stage=natural_images_mouse=M278461.pkl\n",
      "copying 170323132106-task=DoC_NaturalImages_CAMMatched_n=8_stage=natural_images_mouse=M278461.pkl\n",
      "copying 170324145312-task=DoC_NaturalImages_CAMMatched_n=8_stage=natural_images_mouse=M278461.pkl\n",
      "copying 170322132431-task=DetectionOfChange_General_stage=static_windowed_gratings_flash_500ms_mouse=M278465.pkl\n",
      "copying 170323132245-task=DetectionOfChange_General_stage=static_windowed_gratings_flash_500ms_mouse=M278465.pkl\n",
      "copying 170324145455-task=DetectionOfChange_General_stage=static_windowed_gratings_flash_500ms_mouse=M278465.pkl\n",
      "copying 170322133923-task=DoC_NaturalImages_CAMMatched_n=8_stage=natural_images_mouse=M278710.pkl\n",
      "copying 170323131928-task=DoC_NaturalImages_CAMMatched_n=8_stage=natural_images_mouse=M278710.pkl\n",
      "copying 170324145308-task=DoC_NaturalImages_CAMMatched_n=8_stage=natural_images_mouse=M278710.pkl\n",
      "copying 170322133750-task=DetectionOfChange_General_stage=static_full_field_gratings_mouse=M279219.pkl\n",
      "copying 170323131755-task=DetectionOfChange_General_stage=static_full_field_gratings_mouse=M279219.pkl\n",
      "copying 170324145031-task=DetectionOfChange_General_stage=static_full_field_gratings_mouse=M279219.pkl\n",
      "copying 170322133640-task=DetectionOfChange_General_stage=static_full_field_gratings_mouse=M279220.pkl\n",
      "copying 170323131559-task=DetectionOfChange_General_stage=static_full_field_gratings_mouse=M279220.pkl\n",
      "copying 170324144902-task=DetectionOfChange_General_stage=static_full_field_gratings_mouse=M279220.pkl\n",
      "copying 170322133523-task=DetectionOfChange_General_stage=static_full_field_gratings_mouse=M279222.pkl\n",
      "copying 170323131440-task=DetectionOfChange_General_stage=static_full_field_gratings_mouse=M279222.pkl\n",
      "copying 170324144902-task=DetectionOfChange_General_stage=static_full_field_gratings_mouse=M279222.pkl\n",
      "copying 170323095631-task=DetectionOfChange_General_stage=static_full_field_gratings_mouse=M282821.pkl\n",
      "copying 170324102235-task=DetectionOfChange_General_stage=static_full_field_gratings_mouse=M282821.pkl\n",
      "copying 170323094542-task=DetectionOfChange_General_stage=static_full_field_gratings_mouse=M284728.pkl\n",
      "copying 170324102327-task=DetectionOfChange_General_stage=static_windowed_gratings_flash_500ms_mouse=M284728.pkl\n",
      "copying 170323095540-task=DetectionOfChange_General_stage=static_full_field_gratings_mouse=M297953.pkl\n",
      "copying 170324102000-task=DetectionOfChange_General_stage=static_full_field_gratings_mouse=M297953.pkl\n",
      "copying 170323095437-task=DetectionOfChange_General_stage=static_full_field_gratings_mouse=M293817.pkl\n",
      "copying 170324101921-task=DetectionOfChange_General_stage=static_full_field_gratings_mouse=M293817.pkl\n",
      "copying 170323095344-task=DetectionOfChange_General_stage=static_full_field_gratings_mouse=M293818.pkl\n",
      "copying 170324101851-task=DetectionOfChange_General_stage=static_full_field_gratings_mouse=M293818.pkl\n"
     ]
    }
   ],
   "source": [
    "from braintv_behav import latest\n",
    "latest.copy_latest()"
   ]
  },
  {
   "cell_type": "code",
   "execution_count": 9,
   "metadata": {
    "collapsed": false,
    "extensions": {
     "jupyter_dashboards": {
      "version": 1,
      "views": {
       "grid_default": {
        "hidden": true
       },
       "report_default": {}
      }
     }
    },
    "scrolled": true
   },
   "outputs": [
    {
     "name": "stdout",
     "output_type": "stream",
     "text": [
      "Loading /local1/Projects/braintv_behavior_piloting/braintv_behav/../data/raw/170324145433-task=DoC_NaturalImages_LuminanceMatched_TestImages_n=8_stage=Testing_mouse=M276444.pkl\n",
      "Loading /local1/Projects/braintv_behavior_piloting/braintv_behav/../data/raw/170324113630-task=DoC_NaturalImages_CAMMatched_n=8_stage=natural_images_mouse=M289738.pkl\n"
     ]
    },
    {
     "name": "stderr",
     "output_type": "stream",
     "text": [
      "/local1/Projects/braintv_behavior_piloting/braintv_behav/utilities.py:184: VisibleDeprecationWarning: boolean index did not match indexed array along dimension 0; dimension is 3 but corresponding boolean dimension is 2\n",
      "  lt.append(list(np.array(lick_times_on_this_trial)[lick_intervals[:len(lick_times_on_this_trial)]>1]))\n",
      "/local1/Projects/braintv_behavior_piloting/braintv_behav/utilities.py:184: VisibleDeprecationWarning: boolean index did not match indexed array along dimension 0; dimension is 15 but corresponding boolean dimension is 14\n",
      "  lt.append(list(np.array(lick_times_on_this_trial)[lick_intervals[:len(lick_times_on_this_trial)]>1]))\n"
     ]
    },
    {
     "name": "stdout",
     "output_type": "stream",
     "text": [
      "Loading /local1/Projects/braintv_behavior_piloting/braintv_behav/../data/raw/170324113301-task=DoC_NaturalImages_CAMMatched_n=8_stage=natural_images_mouse=M289737.pkl\n"
     ]
    },
    {
     "name": "stderr",
     "output_type": "stream",
     "text": [
      "/local1/Projects/braintv_behavior_piloting/braintv_behav/utilities.py:184: VisibleDeprecationWarning: boolean index did not match indexed array along dimension 0; dimension is 2 but corresponding boolean dimension is 1\n",
      "  lt.append(list(np.array(lick_times_on_this_trial)[lick_intervals[:len(lick_times_on_this_trial)]>1]))\n",
      "/local1/Projects/braintv_behavior_piloting/braintv_behav/utilities.py:184: VisibleDeprecationWarning: boolean index did not match indexed array along dimension 0; dimension is 27 but corresponding boolean dimension is 26\n",
      "  lt.append(list(np.array(lick_times_on_this_trial)[lick_intervals[:len(lick_times_on_this_trial)]>1]))\n"
     ]
    },
    {
     "name": "stdout",
     "output_type": "stream",
     "text": [
      "error loading file 161107125855-task=DetectionOfChange_Gratings_stage=2_LickDetectTraining_mouse=M276600.pkl: \n",
      "Loading /local1/Projects/braintv_behavior_piloting/braintv_behav/../data/raw/170324145458-task=DoC_NaturalImages_LuminanceMatched_TestImages_n=8_stage=Testing_mouse=M273578.pkl\n"
     ]
    },
    {
     "name": "stderr",
     "output_type": "stream",
     "text": [
      "/local1/Projects/braintv_behavior_piloting/braintv_behav/utilities.py:184: VisibleDeprecationWarning: boolean index did not match indexed array along dimension 0; dimension is 4 but corresponding boolean dimension is 3\n",
      "  lt.append(list(np.array(lick_times_on_this_trial)[lick_intervals[:len(lick_times_on_this_trial)]>1]))\n",
      "/local1/Projects/braintv_behavior_piloting/braintv_behav/utilities.py:184: VisibleDeprecationWarning: boolean index did not match indexed array along dimension 0; dimension is 10 but corresponding boolean dimension is 9\n",
      "  lt.append(list(np.array(lick_times_on_this_trial)[lick_intervals[:len(lick_times_on_this_trial)]>1]))\n",
      "/local1/Projects/braintv_behavior_piloting/braintv_behav/utilities.py:184: VisibleDeprecationWarning: boolean index did not match indexed array along dimension 0; dimension is 17 but corresponding boolean dimension is 16\n",
      "  lt.append(list(np.array(lick_times_on_this_trial)[lick_intervals[:len(lick_times_on_this_trial)]>1]))\n"
     ]
    },
    {
     "name": "stdout",
     "output_type": "stream",
     "text": [
      "Loading /local1/Projects/braintv_behavior_piloting/braintv_behav/../data/raw/170322150440-task=DoC_NaturalImages_CAMMatched_n=8_stage=natural_images_mouse=M294753.pkl\n"
     ]
    },
    {
     "name": "stderr",
     "output_type": "stream",
     "text": [
      "/local1/Projects/braintv_behavior_piloting/braintv_behav/utilities.py:184: VisibleDeprecationWarning: boolean index did not match indexed array along dimension 0; dimension is 29 but corresponding boolean dimension is 28\n",
      "  lt.append(list(np.array(lick_times_on_this_trial)[lick_intervals[:len(lick_times_on_this_trial)]>1]))\n",
      "/local1/Projects/braintv_behavior_piloting/braintv_behav/utilities.py:184: VisibleDeprecationWarning: boolean index did not match indexed array along dimension 0; dimension is 34 but corresponding boolean dimension is 33\n",
      "  lt.append(list(np.array(lick_times_on_this_trial)[lick_intervals[:len(lick_times_on_this_trial)]>1]))\n",
      "/local1/Projects/braintv_behavior_piloting/braintv_behav/utilities.py:184: VisibleDeprecationWarning: boolean index did not match indexed array along dimension 0; dimension is 5 but corresponding boolean dimension is 4\n",
      "  lt.append(list(np.array(lick_times_on_this_trial)[lick_intervals[:len(lick_times_on_this_trial)]>1]))\n",
      "/local1/Projects/braintv_behavior_piloting/braintv_behav/utilities.py:184: VisibleDeprecationWarning: boolean index did not match indexed array along dimension 0; dimension is 8 but corresponding boolean dimension is 7\n",
      "  lt.append(list(np.array(lick_times_on_this_trial)[lick_intervals[:len(lick_times_on_this_trial)]>1]))\n",
      "/local1/Projects/braintv_behavior_piloting/braintv_behav/utilities.py:184: VisibleDeprecationWarning: boolean index did not match indexed array along dimension 0; dimension is 75 but corresponding boolean dimension is 74\n",
      "  lt.append(list(np.array(lick_times_on_this_trial)[lick_intervals[:len(lick_times_on_this_trial)]>1]))\n"
     ]
    },
    {
     "name": "stdout",
     "output_type": "stream",
     "text": [
      "Loading /local1/Projects/braintv_behavior_piloting/braintv_behav/../data/raw/170322134028-task=DoC_NaturalImages_CAMMatched_n=8_stage=natural_images_mouse=M278461.pkl\n",
      "Loading /local1/Projects/braintv_behavior_piloting/braintv_behav/../data/raw/170322144032-task=DoC_NaturalImages_LuminanceMatched_TestImages_n=8_stage=Testing_mouse=M276444.pkl\n",
      "Loading /local1/Projects/braintv_behavior_piloting/braintv_behav/../data/raw/170323095540-task=DetectionOfChange_General_stage=static_full_field_gratings_mouse=M297953.pkl\n"
     ]
    },
    {
     "name": "stderr",
     "output_type": "stream",
     "text": [
      "/local1/Projects/braintv_behavior_piloting/braintv_behav/utilities.py:184: VisibleDeprecationWarning: boolean index did not match indexed array along dimension 0; dimension is 12 but corresponding boolean dimension is 11\n",
      "  lt.append(list(np.array(lick_times_on_this_trial)[lick_intervals[:len(lick_times_on_this_trial)]>1]))\n"
     ]
    },
    {
     "name": "stdout",
     "output_type": "stream",
     "text": [
      "Loading /local1/Projects/braintv_behavior_piloting/braintv_behav/../data/raw/170322133750-task=DetectionOfChange_General_stage=static_full_field_gratings_mouse=M279219.pkl\n"
     ]
    },
    {
     "name": "stderr",
     "output_type": "stream",
     "text": [
      "/local1/Projects/braintv_behavior_piloting/braintv_behav/utilities.py:184: VisibleDeprecationWarning: boolean index did not match indexed array along dimension 0; dimension is 22 but corresponding boolean dimension is 21\n",
      "  lt.append(list(np.array(lick_times_on_this_trial)[lick_intervals[:len(lick_times_on_this_trial)]>1]))\n"
     ]
    },
    {
     "name": "stdout",
     "output_type": "stream",
     "text": [
      "Loading /local1/Projects/braintv_behavior_piloting/braintv_behav/../data/raw/170323131928-task=DoC_NaturalImages_CAMMatched_n=8_stage=natural_images_mouse=M278710.pkl\n"
     ]
    },
    {
     "name": "stderr",
     "output_type": "stream",
     "text": [
      "/local1/Projects/braintv_behavior_piloting/braintv_behav/utilities.py:184: VisibleDeprecationWarning: boolean index did not match indexed array along dimension 0; dimension is 25 but corresponding boolean dimension is 24\n",
      "  lt.append(list(np.array(lick_times_on_this_trial)[lick_intervals[:len(lick_times_on_this_trial)]>1]))\n"
     ]
    },
    {
     "name": "stdout",
     "output_type": "stream",
     "text": [
      "Loading /local1/Projects/braintv_behavior_piloting/braintv_behav/../data/raw/170327101524-task=DoC_NaturalImages_LuminanceMatched_TestImages_n=8_stage=Testing_mouse=M271733.pkl\n"
     ]
    },
    {
     "name": "stderr",
     "output_type": "stream",
     "text": [
      "/local1/Projects/braintv_behavior_piloting/braintv_behav/utilities.py:184: VisibleDeprecationWarning: boolean index did not match indexed array along dimension 0; dimension is 13 but corresponding boolean dimension is 12\n",
      "  lt.append(list(np.array(lick_times_on_this_trial)[lick_intervals[:len(lick_times_on_this_trial)]>1]))\n",
      "/local1/Projects/braintv_behavior_piloting/braintv_behav/utilities.py:184: VisibleDeprecationWarning: boolean index did not match indexed array along dimension 0; dimension is 6 but corresponding boolean dimension is 5\n",
      "  lt.append(list(np.array(lick_times_on_this_trial)[lick_intervals[:len(lick_times_on_this_trial)]>1]))\n"
     ]
    },
    {
     "name": "stdout",
     "output_type": "stream",
     "text": [
      "Loading /local1/Projects/braintv_behavior_piloting/braintv_behav/../data/raw/170323143445-task=DoC_NaturalImages_LuminanceMatched_TestImages_n=8_stage=Testing_mouse=M276444.pkl\n",
      "Loading /local1/Projects/braintv_behavior_piloting/braintv_behav/../data/raw/170324102000-task=DetectionOfChange_General_stage=static_full_field_gratings_mouse=M297953.pkl\n",
      "Loading /local1/Projects/braintv_behavior_piloting/braintv_behav/../data/raw/170324113006-task=DoC_NaturalImages_CAMMatched_n=8_stage=natural_images_mouse=M289734.pkl\n",
      "Loading /local1/Projects/braintv_behavior_piloting/braintv_behav/../data/raw/170323112639-task=DoC_NaturalImages_CAMMatched_n=8_stage=natural_images_mouse=M289738.pkl\n",
      "Loading /local1/Projects/braintv_behavior_piloting/braintv_behav/../data/raw/170324145031-task=DetectionOfChange_General_stage=static_full_field_gratings_mouse=M279219.pkl\n"
     ]
    },
    {
     "name": "stderr",
     "output_type": "stream",
     "text": [
      "/local1/Projects/braintv_behavior_piloting/braintv_behav/utilities.py:184: VisibleDeprecationWarning: boolean index did not match indexed array along dimension 0; dimension is 9 but corresponding boolean dimension is 8\n",
      "  lt.append(list(np.array(lick_times_on_this_trial)[lick_intervals[:len(lick_times_on_this_trial)]>1]))\n"
     ]
    },
    {
     "name": "stdout",
     "output_type": "stream",
     "text": [
      "Loading /local1/Projects/braintv_behavior_piloting/braintv_behav/../data/raw/170324113831-task=DetectionOfChange_General_stage=preopto_gratings_mouse=M274438.pkl\n",
      "Loading /local1/Projects/braintv_behavior_piloting/braintv_behav/../data/raw/170322144213-task=DoC_NaturalImages_LuminanceMatched_TestImages_n=8_stage=Testing_mouse=M273577.pkl\n",
      "Loading /local1/Projects/braintv_behavior_piloting/braintv_behav/../data/raw/170323095945-task=DoC_NaturalImages_LuminanceMatched_TestImages_n=8_stage=Testing_mouse=M276950.pkl\n",
      "Loading /local1/Projects/braintv_behavior_piloting/braintv_behav/../data/raw/170323143515-task=DoC_NaturalImages_LuminanceMatched_TestImages_n=8_stage=Testing_mouse=M273578.pkl\n",
      "Loading /local1/Projects/braintv_behavior_piloting/braintv_behav/../data/raw/170322150632-task=DoC_NaturalImages_CAMMatched_n=8_stage=natural_images_mouse=M276953.pkl\n",
      "Loading /local1/Projects/braintv_behavior_piloting/braintv_behav/../data/raw/170323132106-task=DoC_NaturalImages_CAMMatched_n=8_stage=natural_images_mouse=M278461.pkl\n",
      "Loading /local1/Projects/braintv_behavior_piloting/braintv_behav/../data/raw/170323120105-task=DoC_NaturalImages_CAMMatched_n=8_stage=natural_images_mouse=M294753.pkl\n",
      "Loading /local1/Projects/braintv_behavior_piloting/braintv_behav/../data/raw/170322133640-task=DetectionOfChange_General_stage=static_full_field_gratings_mouse=M279220.pkl\n",
      "Loading /local1/Projects/braintv_behavior_piloting/braintv_behav/../data/raw/170322133523-task=DetectionOfChange_General_stage=static_full_field_gratings_mouse=M279222.pkl\n"
     ]
    },
    {
     "name": "stderr",
     "output_type": "stream",
     "text": [
      "/local1/Projects/braintv_behavior_piloting/braintv_behav/utilities.py:184: VisibleDeprecationWarning: boolean index did not match indexed array along dimension 0; dimension is 19 but corresponding boolean dimension is 18\n",
      "  lt.append(list(np.array(lick_times_on_this_trial)[lick_intervals[:len(lick_times_on_this_trial)]>1]))\n"
     ]
    },
    {
     "name": "stdout",
     "output_type": "stream",
     "text": [
      "Loading /local1/Projects/braintv_behavior_piloting/braintv_behav/../data/raw/170324145455-task=DetectionOfChange_General_stage=static_windowed_gratings_flash_500ms_mouse=M278465.pkl\n",
      "Loading /local1/Projects/braintv_behavior_piloting/braintv_behav/../data/raw/170323095437-task=DetectionOfChange_General_stage=static_full_field_gratings_mouse=M293817.pkl\n",
      "error loading file .161107103018-task=DetectionOfChange_Gratings_stage=2_LickDetectTraining_mouse=M261584.pkl.CtyC9d: \n",
      "Loading /local1/Projects/braintv_behavior_piloting/braintv_behav/../data/raw/170324102222-task=DoC_NaturalImages_LuminanceMatched_TestImages_n=8_stage=Testing_mouse=M271966.pkl\n"
     ]
    },
    {
     "name": "stderr",
     "output_type": "stream",
     "text": [
      "/local1/Projects/braintv_behavior_piloting/braintv_behav/utilities.py:184: VisibleDeprecationWarning: boolean index did not match indexed array along dimension 0; dimension is 11 but corresponding boolean dimension is 10\n",
      "  lt.append(list(np.array(lick_times_on_this_trial)[lick_intervals[:len(lick_times_on_this_trial)]>1]))\n"
     ]
    },
    {
     "name": "stdout",
     "output_type": "stream",
     "text": [
      "Loading /local1/Projects/braintv_behavior_piloting/braintv_behav/../data/raw/170324102327-task=DetectionOfChange_General_stage=static_windowed_gratings_flash_500ms_mouse=M284728.pkl\n"
     ]
    },
    {
     "name": "stderr",
     "output_type": "stream",
     "text": [
      "/local1/Projects/braintv_behavior_piloting/braintv_behav/utilities.py:184: VisibleDeprecationWarning: boolean index did not match indexed array along dimension 0; dimension is 14 but corresponding boolean dimension is 13\n",
      "  lt.append(list(np.array(lick_times_on_this_trial)[lick_intervals[:len(lick_times_on_this_trial)]>1]))\n"
     ]
    },
    {
     "name": "stdout",
     "output_type": "stream",
     "text": [
      "Loading /local1/Projects/braintv_behavior_piloting/braintv_behav/../data/raw/170327101837-task=DoC_NaturalImages_LuminanceMatched_TestImages_n=8_stage=Testing_mouse=M276600.pkl\n"
     ]
    },
    {
     "name": "stderr",
     "output_type": "stream",
     "text": [
      "/local1/Projects/braintv_behavior_piloting/braintv_behav/utilities.py:184: VisibleDeprecationWarning: boolean index did not match indexed array along dimension 0; dimension is 16 but corresponding boolean dimension is 15\n",
      "  lt.append(list(np.array(lick_times_on_this_trial)[lick_intervals[:len(lick_times_on_this_trial)]>1]))\n",
      "/local1/Projects/braintv_behavior_piloting/braintv_behav/utilities.py:184: VisibleDeprecationWarning: boolean index did not match indexed array along dimension 0; dimension is 38 but corresponding boolean dimension is 37\n",
      "  lt.append(list(np.array(lick_times_on_this_trial)[lick_intervals[:len(lick_times_on_this_trial)]>1]))\n",
      "/local1/Projects/braintv_behavior_piloting/braintv_behav/utilities.py:184: VisibleDeprecationWarning: boolean index did not match indexed array along dimension 0; dimension is 62 but corresponding boolean dimension is 61\n",
      "  lt.append(list(np.array(lick_times_on_this_trial)[lick_intervals[:len(lick_times_on_this_trial)]>1]))\n",
      "/local1/Projects/braintv_behavior_piloting/braintv_behav/utilities.py:184: VisibleDeprecationWarning: boolean index did not match indexed array along dimension 0; dimension is 33 but corresponding boolean dimension is 32\n",
      "  lt.append(list(np.array(lick_times_on_this_trial)[lick_intervals[:len(lick_times_on_this_trial)]>1]))\n",
      "/local1/Projects/braintv_behavior_piloting/braintv_behav/utilities.py:184: VisibleDeprecationWarning: boolean index did not match indexed array along dimension 0; dimension is 31 but corresponding boolean dimension is 30\n",
      "  lt.append(list(np.array(lick_times_on_this_trial)[lick_intervals[:len(lick_times_on_this_trial)]>1]))\n",
      "/local1/Projects/braintv_behavior_piloting/braintv_behav/utilities.py:184: VisibleDeprecationWarning: boolean index did not match indexed array along dimension 0; dimension is 47 but corresponding boolean dimension is 46\n",
      "  lt.append(list(np.array(lick_times_on_this_trial)[lick_intervals[:len(lick_times_on_this_trial)]>1]))\n",
      "/local1/Projects/braintv_behavior_piloting/braintv_behav/utilities.py:184: VisibleDeprecationWarning: boolean index did not match indexed array along dimension 0; dimension is 87 but corresponding boolean dimension is 86\n",
      "  lt.append(list(np.array(lick_times_on_this_trial)[lick_intervals[:len(lick_times_on_this_trial)]>1]))\n",
      "/local1/Projects/braintv_behavior_piloting/braintv_behav/utilities.py:184: VisibleDeprecationWarning: boolean index did not match indexed array along dimension 0; dimension is 30 but corresponding boolean dimension is 29\n",
      "  lt.append(list(np.array(lick_times_on_this_trial)[lick_intervals[:len(lick_times_on_this_trial)]>1]))\n"
     ]
    },
    {
     "name": "stdout",
     "output_type": "stream",
     "text": [
      "Loading /local1/Projects/braintv_behavior_piloting/braintv_behav/../data/raw/170323131559-task=DetectionOfChange_General_stage=static_full_field_gratings_mouse=M279220.pkl\n",
      "Loading /local1/Projects/braintv_behavior_piloting/braintv_behav/../data/raw/170322150736-task=DoC_NaturalImages_CAMMatched_n=8_stage=natural_images_mouse=M294759.pkl\n"
     ]
    },
    {
     "name": "stderr",
     "output_type": "stream",
     "text": [
      "/local1/Projects/braintv_behavior_piloting/braintv_behav/utilities.py:184: VisibleDeprecationWarning: boolean index did not match indexed array along dimension 0; dimension is 68 but corresponding boolean dimension is 67\n",
      "  lt.append(list(np.array(lick_times_on_this_trial)[lick_intervals[:len(lick_times_on_this_trial)]>1]))\n",
      "/local1/Projects/braintv_behavior_piloting/braintv_behav/utilities.py:184: VisibleDeprecationWarning: boolean index did not match indexed array along dimension 0; dimension is 83 but corresponding boolean dimension is 82\n",
      "  lt.append(list(np.array(lick_times_on_this_trial)[lick_intervals[:len(lick_times_on_this_trial)]>1]))\n",
      "/local1/Projects/braintv_behavior_piloting/braintv_behav/utilities.py:184: VisibleDeprecationWarning: boolean index did not match indexed array along dimension 0; dimension is 50 but corresponding boolean dimension is 49\n",
      "  lt.append(list(np.array(lick_times_on_this_trial)[lick_intervals[:len(lick_times_on_this_trial)]>1]))\n"
     ]
    },
    {
     "name": "stdout",
     "output_type": "stream",
     "text": [
      "Loading /local1/Projects/braintv_behavior_piloting/braintv_behav/../data/raw/170324145312-task=DoC_NaturalImages_CAMMatched_n=8_stage=natural_images_mouse=M278461.pkl\n",
      "Loading /local1/Projects/braintv_behavior_piloting/braintv_behav/../data/raw/170324101921-task=DetectionOfChange_General_stage=static_full_field_gratings_mouse=M293817.pkl\n",
      "Loading /local1/Projects/braintv_behavior_piloting/braintv_behav/../data/raw/170323115922-task=DoC_NaturalImages_CAMMatched_n=8_stage=natural_images_mouse=M276953.pkl\n",
      "Loading /local1/Projects/braintv_behavior_piloting/braintv_behav/../data/raw/170324102908-task=DoC_NaturalImages_LuminanceMatched_TestImages_n=8_stage=Testing_mouse=M276950.pkl\n",
      "Loading /local1/Projects/braintv_behavior_piloting/braintv_behav/../data/raw/170324102235-task=DetectionOfChange_General_stage=static_full_field_gratings_mouse=M282821.pkl\n",
      "Loading /local1/Projects/braintv_behavior_piloting/braintv_behav/../data/raw/170323132245-task=DetectionOfChange_General_stage=static_windowed_gratings_flash_500ms_mouse=M278465.pkl\n",
      "Loading /local1/Projects/braintv_behavior_piloting/braintv_behav/../data/raw/170323143639-task=DoC_NaturalImages_CAMMatched_n=8_stage=natural_images_mouse=M289738.pkl\n"
     ]
    },
    {
     "name": "stderr",
     "output_type": "stream",
     "text": [
      "/local1/Projects/braintv_behavior_piloting/braintv_behav/utilities.py:184: VisibleDeprecationWarning: boolean index did not match indexed array along dimension 0; dimension is 24 but corresponding boolean dimension is 23\n",
      "  lt.append(list(np.array(lick_times_on_this_trial)[lick_intervals[:len(lick_times_on_this_trial)]>1]))\n"
     ]
    },
    {
     "name": "stdout",
     "output_type": "stream",
     "text": [
      "Loading /local1/Projects/braintv_behavior_piloting/braintv_behav/../data/raw/170323095344-task=DetectionOfChange_General_stage=static_full_field_gratings_mouse=M293818.pkl\n"
     ]
    },
    {
     "name": "stderr",
     "output_type": "stream",
     "text": [
      "/local1/Projects/braintv_behavior_piloting/braintv_behav/utilities.py:184: VisibleDeprecationWarning: boolean index did not match indexed array along dimension 0; dimension is 21 but corresponding boolean dimension is 20\n",
      "  lt.append(list(np.array(lick_times_on_this_trial)[lick_intervals[:len(lick_times_on_this_trial)]>1]))\n"
     ]
    },
    {
     "name": "stdout",
     "output_type": "stream",
     "text": [
      "Loading /local1/Projects/braintv_behavior_piloting/braintv_behav/../data/raw/170322150348-task=DoC_NaturalImages_CAMMatched_n=8_stage=natural_images_mouse=M274439.pkl\n",
      "Loading /local1/Projects/braintv_behavior_piloting/braintv_behav/../data/raw/170323115844-task=DoC_NaturalImages_CAMMatched_n=8_stage=natural_images_mouse=M294759.pkl\n"
     ]
    },
    {
     "name": "stderr",
     "output_type": "stream",
     "text": [
      "/local1/Projects/braintv_behavior_piloting/braintv_behav/utilities.py:184: VisibleDeprecationWarning: boolean index did not match indexed array along dimension 0; dimension is 32 but corresponding boolean dimension is 31\n",
      "  lt.append(list(np.array(lick_times_on_this_trial)[lick_intervals[:len(lick_times_on_this_trial)]>1]))\n",
      "/local1/Projects/braintv_behavior_piloting/braintv_behav/utilities.py:184: VisibleDeprecationWarning: boolean index did not match indexed array along dimension 0; dimension is 42 but corresponding boolean dimension is 41\n",
      "  lt.append(list(np.array(lick_times_on_this_trial)[lick_intervals[:len(lick_times_on_this_trial)]>1]))\n",
      "/local1/Projects/braintv_behavior_piloting/braintv_behav/utilities.py:184: VisibleDeprecationWarning: boolean index did not match indexed array along dimension 0; dimension is 20 but corresponding boolean dimension is 19\n",
      "  lt.append(list(np.array(lick_times_on_this_trial)[lick_intervals[:len(lick_times_on_this_trial)]>1]))\n"
     ]
    },
    {
     "name": "stdout",
     "output_type": "stream",
     "text": [
      "Loading /local1/Projects/braintv_behavior_piloting/braintv_behav/../data/raw/170322133923-task=DoC_NaturalImages_CAMMatched_n=8_stage=natural_images_mouse=M278710.pkl\n",
      "Loading /local1/Projects/braintv_behavior_piloting/braintv_behav/../data/raw/170324114020-task=DoC_NaturalImages_CAMMatched_n=8_stage=natural_images_mouse=M294753.pkl\n",
      "Loading /local1/Projects/braintv_behavior_piloting/braintv_behav/../data/raw/170323101203-task=DoC_NaturalImages_LuminanceMatched_TestImages_n=8_stage=Testing_mouse=M271966.pkl\n",
      "Loading /local1/Projects/braintv_behavior_piloting/braintv_behav/../data/raw/170324144902-task=DetectionOfChange_General_stage=static_full_field_gratings_mouse=M279220.pkl\n",
      "Loading /local1/Projects/braintv_behavior_piloting/braintv_behav/../data/raw/170324102904-task=DoC_NaturalImages_LuminanceMatched_TestImages_n=8_stage=Testing_mouse=M276600.pkl\n"
     ]
    },
    {
     "name": "stderr",
     "output_type": "stream",
     "text": [
      "/local1/Projects/braintv_behavior_piloting/braintv_behav/utilities.py:184: VisibleDeprecationWarning: boolean index did not match indexed array along dimension 0; dimension is 28 but corresponding boolean dimension is 27\n",
      "  lt.append(list(np.array(lick_times_on_this_trial)[lick_intervals[:len(lick_times_on_this_trial)]>1]))\n",
      "/local1/Projects/braintv_behavior_piloting/braintv_behav/utilities.py:184: VisibleDeprecationWarning: boolean index did not match indexed array along dimension 0; dimension is 45 but corresponding boolean dimension is 44\n",
      "  lt.append(list(np.array(lick_times_on_this_trial)[lick_intervals[:len(lick_times_on_this_trial)]>1]))\n",
      "/local1/Projects/braintv_behavior_piloting/braintv_behav/utilities.py:184: VisibleDeprecationWarning: boolean index did not match indexed array along dimension 0; dimension is 18 but corresponding boolean dimension is 17\n",
      "  lt.append(list(np.array(lick_times_on_this_trial)[lick_intervals[:len(lick_times_on_this_trial)]>1]))\n",
      "/local1/Projects/braintv_behavior_piloting/braintv_behav/utilities.py:184: VisibleDeprecationWarning: boolean index did not match indexed array along dimension 0; dimension is 40 but corresponding boolean dimension is 39\n",
      "  lt.append(list(np.array(lick_times_on_this_trial)[lick_intervals[:len(lick_times_on_this_trial)]>1]))\n",
      "/local1/Projects/braintv_behavior_piloting/braintv_behav/utilities.py:184: VisibleDeprecationWarning: boolean index did not match indexed array along dimension 0; dimension is 23 but corresponding boolean dimension is 22\n",
      "  lt.append(list(np.array(lick_times_on_this_trial)[lick_intervals[:len(lick_times_on_this_trial)]>1]))\n"
     ]
    },
    {
     "name": "stdout",
     "output_type": "stream",
     "text": [
      "Loading /local1/Projects/braintv_behavior_piloting/braintv_behav/../data/raw/170323111948-task=DoC_NaturalImages_CAMMatched_n=8_stage=natural_images_mouse=M289734.pkl\n"
     ]
    },
    {
     "name": "stderr",
     "output_type": "stream",
     "text": [
      "/local1/Projects/braintv_behavior_piloting/braintv_behav/utilities.py:184: VisibleDeprecationWarning: boolean index did not match indexed array along dimension 0; dimension is 103 but corresponding boolean dimension is 102\n",
      "  lt.append(list(np.array(lick_times_on_this_trial)[lick_intervals[:len(lick_times_on_this_trial)]>1]))\n"
     ]
    },
    {
     "name": "stdout",
     "output_type": "stream",
     "text": [
      "Loading /local1/Projects/braintv_behavior_piloting/braintv_behav/../data/raw/170323101711-task=DoC_NaturalImages_LuminanceMatched_TestImages_n=8_stage=Testing_mouse=M258194.pkl\n",
      "Loading /local1/Projects/braintv_behavior_piloting/braintv_behav/../data/raw/170327101327-task=DoC_NaturalImages_LuminanceMatched_TestImages_n=8_stage=Testing_mouse=M276950.pkl\n",
      "Loading /local1/Projects/braintv_behavior_piloting/braintv_behav/../data/raw/170324102135-task=DoC_NaturalImages_CAMMatched_n=8_stage=natural_images_mouse=M278460.pkl\n",
      "Loading /local1/Projects/braintv_behavior_piloting/braintv_behav/../data/raw/170322144031-task=DoC_NaturalImages_LuminanceMatched_TestImages_n=8_stage=Testing_mouse=M273578.pkl\n",
      "Loading /local1/Projects/braintv_behavior_piloting/braintv_behav/../data/raw/170324102535-task=DoC_NaturalImages_LuminanceMatched_TestImages_n=8_stage=Testing_mouse=M271733.pkl\n",
      "Loading /local1/Projects/braintv_behavior_piloting/braintv_behav/../data/raw/170323131755-task=DetectionOfChange_General_stage=static_full_field_gratings_mouse=M279219.pkl\n",
      "Loading /local1/Projects/braintv_behavior_piloting/braintv_behav/../data/raw/170323112324-task=DoC_NaturalImages_CAMMatched_n=8_stage=natural_images_mouse=M289737.pkl\n",
      "Loading /local1/Projects/braintv_behavior_piloting/braintv_behav/../data/raw/170324144902-task=DetectionOfChange_General_stage=static_full_field_gratings_mouse=M279222.pkl\n",
      "Loading /local1/Projects/braintv_behavior_piloting/braintv_behav/../data/raw/170327101639-task=DoC_NaturalImages_LuminanceMatched_TestImages_n=8_stage=Testing_mouse=M258194.pkl\n",
      "Loading /local1/Projects/braintv_behavior_piloting/braintv_behav/../data/raw/170323120025-task=DoC_NaturalImages_CAMMatched_n=8_stage=natural_images_mouse=M278460.pkl\n",
      "Loading /local1/Projects/braintv_behavior_piloting/braintv_behav/../data/raw/170324102711-task=DoC_NaturalImages_LuminanceMatched_TestImages_n=8_stage=Testing_mouse=M258194.pkl\n",
      "Loading /local1/Projects/braintv_behavior_piloting/braintv_behav/../data/raw/170323115334-task=DoC_NaturalImages_CAMMatched_n=3_stage=natural_images_mouse=M274439.pkl\n",
      "Loading /local1/Projects/braintv_behavior_piloting/braintv_behav/../data/raw/170324145308-task=DoC_NaturalImages_CAMMatched_n=8_stage=natural_images_mouse=M278710.pkl\n"
     ]
    },
    {
     "name": "stderr",
     "output_type": "stream",
     "text": [
      "/local1/Projects/braintv_behavior_piloting/braintv_behav/utilities.py:184: VisibleDeprecationWarning: boolean index did not match indexed array along dimension 0; dimension is 181 but corresponding boolean dimension is 180\n",
      "  lt.append(list(np.array(lick_times_on_this_trial)[lick_intervals[:len(lick_times_on_this_trial)]>1]))\n"
     ]
    },
    {
     "name": "stdout",
     "output_type": "stream",
     "text": [
      "Loading /local1/Projects/braintv_behavior_piloting/braintv_behav/../data/raw/170323094542-task=DetectionOfChange_General_stage=static_full_field_gratings_mouse=M284728.pkl\n"
     ]
    },
    {
     "name": "stderr",
     "output_type": "stream",
     "text": [
      "/local1/Projects/braintv_behavior_piloting/braintv_behav/utilities.py:184: VisibleDeprecationWarning: boolean index did not match indexed array along dimension 0; dimension is 49 but corresponding boolean dimension is 48\n",
      "  lt.append(list(np.array(lick_times_on_this_trial)[lick_intervals[:len(lick_times_on_this_trial)]>1]))\n"
     ]
    },
    {
     "name": "stdout",
     "output_type": "stream",
     "text": [
      "Loading /local1/Projects/braintv_behavior_piloting/braintv_behav/../data/raw/170323115808-task=DetectionOfChange_General_stage=preopto_gratings_mouse=M274438.pkl\n",
      "Loading /local1/Projects/braintv_behavior_piloting/braintv_behav/../data/raw/170323101523-task=DoC_NaturalImages_LuminanceMatched_TestImages_n=8_stage=Testing_mouse=M271733.pkl\n"
     ]
    },
    {
     "name": "stderr",
     "output_type": "stream",
     "text": [
      "/local1/Projects/braintv_behavior_piloting/braintv_behav/utilities.py:184: VisibleDeprecationWarning: boolean index did not match indexed array along dimension 0; dimension is 53 but corresponding boolean dimension is 52\n",
      "  lt.append(list(np.array(lick_times_on_this_trial)[lick_intervals[:len(lick_times_on_this_trial)]>1]))\n"
     ]
    },
    {
     "name": "stdout",
     "output_type": "stream",
     "text": [
      "Loading /local1/Projects/braintv_behavior_piloting/braintv_behav/../data/raw/170323095631-task=DetectionOfChange_General_stage=static_full_field_gratings_mouse=M282821.pkl\n",
      "Loading /local1/Projects/braintv_behavior_piloting/braintv_behav/../data/raw/170324150321-task=DoC_NaturalImages_LuminanceMatched_TestImages_n=8_stage=Testing_mouse=M273577.pkl\n",
      "Loading /local1/Projects/braintv_behavior_piloting/braintv_behav/../data/raw/170323101918-task=DoC_NaturalImages_LuminanceMatched_TestImages_n=8_stage=Testing_mouse=M276600.pkl\n"
     ]
    },
    {
     "name": "stderr",
     "output_type": "stream",
     "text": [
      "/local1/Projects/braintv_behavior_piloting/braintv_behav/utilities.py:184: VisibleDeprecationWarning: boolean index did not match indexed array along dimension 0; dimension is 26 but corresponding boolean dimension is 25\n",
      "  lt.append(list(np.array(lick_times_on_this_trial)[lick_intervals[:len(lick_times_on_this_trial)]>1]))\n",
      "/local1/Projects/braintv_behavior_piloting/braintv_behav/utilities.py:184: VisibleDeprecationWarning: boolean index did not match indexed array along dimension 0; dimension is 52 but corresponding boolean dimension is 51\n",
      "  lt.append(list(np.array(lick_times_on_this_trial)[lick_intervals[:len(lick_times_on_this_trial)]>1]))\n",
      "/local1/Projects/braintv_behavior_piloting/braintv_behav/utilities.py:184: VisibleDeprecationWarning: boolean index did not match indexed array along dimension 0; dimension is 36 but corresponding boolean dimension is 35\n",
      "  lt.append(list(np.array(lick_times_on_this_trial)[lick_intervals[:len(lick_times_on_this_trial)]>1]))\n"
     ]
    },
    {
     "name": "stdout",
     "output_type": "stream",
     "text": [
      "Loading /local1/Projects/braintv_behavior_piloting/braintv_behav/../data/raw/170323131440-task=DetectionOfChange_General_stage=static_full_field_gratings_mouse=M279222.pkl\n"
     ]
    },
    {
     "name": "stderr",
     "output_type": "stream",
     "text": [
      "/local1/Projects/braintv_behavior_piloting/braintv_behav/utilities.py:184: VisibleDeprecationWarning: boolean index did not match indexed array along dimension 0; dimension is 7 but corresponding boolean dimension is 6\n",
      "  lt.append(list(np.array(lick_times_on_this_trial)[lick_intervals[:len(lick_times_on_this_trial)]>1]))\n"
     ]
    },
    {
     "name": "stdout",
     "output_type": "stream",
     "text": [
      "Loading /local1/Projects/braintv_behavior_piloting/braintv_behav/../data/raw/170322150534-task=DoC_NaturalImages_CAMMatched_n=8_stage=natural_images_mouse=M278460.pkl\n",
      "Loading /local1/Projects/braintv_behavior_piloting/braintv_behav/../data/raw/170327101204-task=DoC_NaturalImages_LuminanceMatched_TestImages_n=8_stage=Testing_mouse=M271966.pkl\n",
      "Loading /local1/Projects/braintv_behavior_piloting/braintv_behav/../data/raw/170324101851-task=DetectionOfChange_General_stage=static_full_field_gratings_mouse=M293818.pkl\n",
      "Loading /local1/Projects/braintv_behavior_piloting/braintv_behav/../data/raw/170322145613-task=DetectionOfChange_General_stage=static_windowed_gratings_flash_500ms_mouse=M274438.pkl\n",
      "Loading /local1/Projects/braintv_behavior_piloting/braintv_behav/../data/raw/170324113914-task=DoC_NaturalImages_CAMMatched_n=8_stage=natural_images_mouse=M294759.pkl\n"
     ]
    },
    {
     "name": "stderr",
     "output_type": "stream",
     "text": [
      "/local1/Projects/braintv_behavior_piloting/braintv_behav/utilities.py:184: VisibleDeprecationWarning: boolean index did not match indexed array along dimension 0; dimension is 48 but corresponding boolean dimension is 47\n",
      "  lt.append(list(np.array(lick_times_on_this_trial)[lick_intervals[:len(lick_times_on_this_trial)]>1]))\n",
      "/local1/Projects/braintv_behavior_piloting/braintv_behav/utilities.py:184: VisibleDeprecationWarning: boolean index did not match indexed array along dimension 0; dimension is 54 but corresponding boolean dimension is 53\n",
      "  lt.append(list(np.array(lick_times_on_this_trial)[lick_intervals[:len(lick_times_on_this_trial)]>1]))\n",
      "/local1/Projects/braintv_behavior_piloting/braintv_behav/utilities.py:184: VisibleDeprecationWarning: boolean index did not match indexed array along dimension 0; dimension is 112 but corresponding boolean dimension is 111\n",
      "  lt.append(list(np.array(lick_times_on_this_trial)[lick_intervals[:len(lick_times_on_this_trial)]>1]))\n"
     ]
    },
    {
     "name": "stdout",
     "output_type": "stream",
     "text": [
      "Loading /local1/Projects/braintv_behavior_piloting/braintv_behav/../data/raw/170322132431-task=DetectionOfChange_General_stage=static_windowed_gratings_flash_500ms_mouse=M278465.pkl\n",
      "Loading /local1/Projects/braintv_behavior_piloting/braintv_behav/../data/raw/170324114103-task=DoC_NaturalImages_CAMMatched_n=3_stage=natural_images_mouse=M274439.pkl\n"
     ]
    }
   ],
   "source": [
    "from braintv_behav.latest import local_dir\n",
    "trials = dro.load_from_folder(local_dir)"
   ]
  },
  {
   "cell_type": "code",
   "execution_count": 10,
   "metadata": {
    "collapsed": false,
    "extensions": {
     "jupyter_dashboards": {
      "version": 1,
      "views": {
       "grid_default": {
        "hidden": true
       },
       "report_default": {}
      }
     }
    }
   },
   "outputs": [],
   "source": [
    "trials = trials.merge(\n",
    "    cohort_assignment,\n",
    "    how='left',\n",
    "    on='mouse_id',\n",
    ")\n",
    "trials = trials[trials.cohort>0]"
   ]
  },
  {
   "cell_type": "code",
   "execution_count": 11,
   "metadata": {
    "collapsed": false
   },
   "outputs": [],
   "source": [
    "day_zero = {r['mouse']:\"{:%Y-%m-%d}\".format(r['day_zero']) for _,r in cohort_assignment.iterrows()}"
   ]
  },
  {
   "cell_type": "code",
   "execution_count": null,
   "metadata": {
    "collapsed": false
   },
   "outputs": [
    {
     "data": {
      "text/plain": [
       "{u'M246782': '2016-08-22',\n",
       " u'M249123': '2016-08-22',\n",
       " u'M250783': '2016-08-22',\n",
       " u'M250786': '2016-08-22',\n",
       " u'M258089': '2016-09-19',\n",
       " u'M258173': '2016-09-19',\n",
       " u'M258174': '2016-08-22',\n",
       " u'M258194': '2016-10-10',\n",
       " u'M258196': '2016-08-22',\n",
       " u'M258274': '2016-09-19',\n",
       " u'M258275': '2016-09-19',\n",
       " u'M258276': '2016-09-19',\n",
       " u'M261584': '2016-09-19',\n",
       " u'M265154': '2016-10-10',\n",
       " u'M265158': '2016-10-10',\n",
       " u'M265166': '2016-10-10',\n",
       " u'M271728': '2016-10-31',\n",
       " u'M271733': '2016-10-31',\n",
       " u'M271966': '2016-10-10',\n",
       " u'M272464': '2016-10-31',\n",
       " u'M272465': '2016-10-10',\n",
       " u'M273577': '2016-11-28',\n",
       " u'M273578': '2016-11-28',\n",
       " u'M274438': '2017-02-13',\n",
       " u'M274439': '2017-02-13',\n",
       " u'M275962': '2016-11-28',\n",
       " u'M275963': '2017-01-16',\n",
       " u'M275965': '2017-01-16',\n",
       " u'M276444': '2016-11-28',\n",
       " u'M276445': '2016-11-28',\n",
       " u'M276600': '2016-10-31',\n",
       " u'M276950': '2016-10-31',\n",
       " u'M276951': '2016-10-31',\n",
       " u'M276953': '2017-02-13',\n",
       " u'M277931': '2017-01-16',\n",
       " u'M278229': '2016-11-28',\n",
       " u'M278329': '2017-01-16',\n",
       " u'M278332': '2017-01-16',\n",
       " u'M278460': '2017-02-13',\n",
       " u'M278461': '2017-03-06',\n",
       " u'M278463': '2017-01-16',\n",
       " u'M278465': '2017-03-06',\n",
       " u'M278710': '2017-03-06',\n",
       " u'M279219': '2017-03-06',\n",
       " u'M279220': '2017-03-06',\n",
       " u'M279222': '2017-03-06',\n",
       " u'M282821': '2017-03-20',\n",
       " u'M282822': '2017-03-20',\n",
       " u'M284728': '2017-03-20',\n",
       " u'M289734': '2017-02-27',\n",
       " u'M289737': '2017-02-27',\n",
       " u'M289738': '2017-02-27',\n",
       " u'M293817': '2017-03-20',\n",
       " u'M293818': '2017-03-20',\n",
       " u'M294753': '2017-02-13',\n",
       " u'M294759': '2017-02-13',\n",
       " u'M297953': '2017-03-20'}"
      ]
     },
     "execution_count": 12,
     "metadata": {},
     "output_type": "execute_result"
    }
   ],
   "source": [
    "day_zero"
   ]
  },
  {
   "cell_type": "code",
   "execution_count": null,
   "metadata": {
    "collapsed": false,
    "scrolled": true
   },
   "outputs": [
    {
     "name": "stdout",
     "output_type": "stream",
     "text": [
      "0\n",
      "M246782 ['2016-08-22' '2016-08-23' '2016-08-24' '2016-08-25' '2016-08-26'\n",
      " '2016-08-29' '2016-08-30' '2016-08-31' '2016-09-02' '2016-09-06'\n",
      " '2016-09-07' '2016-09-08' '2016-09-09' '2016-09-12' '2016-09-13'\n",
      " '2016-09-14' '2016-09-15' '2016-09-16' '2016-09-19' '2016-09-20']\n",
      "0\n",
      "M249123 ['2016-08-22' '2016-08-23' '2016-08-24' '2016-08-25' '2016-08-26'\n",
      " '2016-08-29' '2016-08-30' '2016-08-31' '2016-09-02' '2016-09-06'\n",
      " '2016-09-07' '2016-09-08' '2016-09-09' '2016-09-12' '2016-09-13'\n",
      " '2016-09-15' '2016-09-16' '2016-09-19' '2016-09-20']\n",
      "0\n",
      "M250783 ['2016-08-22' '2016-08-23' '2016-08-24' '2016-08-25' '2016-08-26'\n",
      " '2016-08-29' '2016-08-30' '2016-08-31' '2016-09-02' '2016-09-06'\n",
      " '2016-09-07' '2016-09-08' '2016-09-09' '2016-09-12' '2016-09-13'\n",
      " '2016-09-14' '2016-09-15' '2016-09-16' '2016-09-19' '2016-09-20'\n",
      " '2016-09-21' '2016-09-22' '2016-09-23' '2016-09-26' '2016-09-27'\n",
      " '2016-09-28' '2016-09-29' '2016-09-30' '2016-10-03' '2016-10-05'\n",
      " '2016-10-06' '2016-10-07' '2016-10-10' '2016-10-11' '2016-10-12'\n",
      " '2016-10-13' '2016-10-14' '2016-10-17' '2016-10-18' '2016-10-19'\n",
      " '2016-10-20' '2016-10-21' '2016-10-24' '2016-10-25' '2016-10-26'\n",
      " '2016-10-27' '2016-10-28' '2016-10-31' '2016-11-01' '2016-11-02'\n",
      " '2016-11-03' '2016-11-04' '2016-11-07' '2016-11-08' '2016-11-09'\n",
      " '2016-11-10' '2016-11-11' '2016-11-14' '2016-11-15' '2016-11-16'\n",
      " '2016-11-17' '2016-11-18' '2016-11-21' '2016-11-22' '2016-11-23'\n",
      " '2016-11-28' '2016-11-29' '2016-11-30' '2016-12-01' '2016-12-06'\n",
      " '2016-12-07' '2016-12-08' '2016-12-09' '2016-12-14' '2016-12-15'\n",
      " '2016-12-16' '2016-12-19' '2016-12-20']\n",
      "0\n",
      "M250786 ['2016-08-22' '2016-08-23' '2016-08-24' '2016-08-25' '2016-08-26'\n",
      " '2016-08-29' '2016-08-30' '2016-08-31' '2016-09-02' '2016-09-06'\n",
      " '2016-09-07' '2016-09-08' '2016-09-09' '2016-09-12' '2016-09-13'\n",
      " '2016-09-14' '2016-09-15' '2016-09-16' '2016-09-19' '2016-09-20'\n",
      " '2016-09-21' '2016-09-22' '2016-09-23' '2016-09-26' '2016-09-27'\n",
      " '2016-09-28' '2016-09-29' '2016-09-30' '2016-10-03' '2016-10-05'\n",
      " '2016-10-06' '2016-10-07' '2016-10-10' '2016-10-11' '2016-10-12'\n",
      " '2016-10-13' '2016-10-14' '2016-10-17' '2016-10-18' '2016-10-19'\n",
      " '2016-10-20' '2016-10-21' '2016-10-24' '2016-10-25' '2016-10-27'\n",
      " '2016-10-28' '2016-10-31' '2016-11-01' '2016-11-02' '2016-11-03'\n",
      " '2016-11-04' '2016-11-07' '2016-11-08' '2016-11-09' '2016-11-10'\n",
      " '2016-11-11' '2016-11-14' '2016-11-15' '2016-11-16' '2016-11-17'\n",
      " '2016-11-18' '2016-11-21' '2016-11-22' '2016-11-23' '2016-11-28'\n",
      " '2016-11-29' '2016-11-30' '2016-12-01' '2016-12-06' '2016-12-07'\n",
      " '2016-12-08' '2016-12-09' '2016-12-14' '2016-12-15' '2016-12-16'\n",
      " '2016-12-19' '2016-12-20']\n",
      "0\n",
      "M258089 ['2016-09-19' '2016-09-20' '2016-09-22' '2016-09-23' '2016-09-26'\n",
      " '2016-09-27' '2016-09-28' '2016-09-29' '2016-09-30' '2016-10-03'\n",
      " '2016-10-04' '2016-10-05' '2016-10-06' '2016-10-07' '2016-10-10'\n",
      " '2016-10-11' '2016-10-12' '2016-10-13' '2016-10-14' '2016-10-17'\n",
      " '2016-10-18' '2016-10-19' '2016-10-20' '2016-10-21' '2016-10-25'\n",
      " '2016-10-26' '2016-10-27' '2016-10-28' '2016-10-31' '2016-11-01'\n",
      " '2016-11-02' '2016-11-03' '2016-11-04' '2016-11-07' '2016-11-08'\n",
      " '2016-11-09' '2016-11-10' '2016-11-11' '2016-11-14' '2016-11-15'\n",
      " '2016-11-16' '2016-11-17' '2016-11-18' '2016-11-21' '2016-11-22'\n",
      " '2016-11-23' '2016-11-28' '2016-11-30' '2016-12-01' '2016-12-02'\n",
      " '2016-12-06' '2016-12-08' '2016-12-09' '2016-12-12' '2016-12-13'\n",
      " '2016-12-14' '2016-12-15' '2016-12-16' '2016-12-19' '2016-12-20'\n",
      " '2016-12-21' '2016-12-22' '2016-12-23' '2017-01-03' '2017-01-04'\n",
      " '2017-01-05' '2017-01-06' '2017-01-09' '2017-01-10' '2017-01-11'\n",
      " '2017-01-12' '2017-01-13' '2017-01-16' '2017-01-17' '2017-01-18'\n",
      " '2017-01-19' '2017-01-20' '2017-01-23' '2017-01-24' '2017-01-25'\n",
      " '2017-01-26' '2017-01-27' '2017-01-30' '2017-01-31' '2017-02-01'\n",
      " '2017-02-03' '2017-02-06' '2017-02-07' '2017-02-08' '2017-02-09'\n",
      " '2017-02-10' '2017-02-13' '2017-02-14' '2017-02-15' '2017-02-16'\n",
      " '2017-02-17' '2017-02-20' '2017-02-21' '2017-02-22' '2017-02-23'\n",
      " '2017-02-27' '2017-02-28' '2017-03-01' '2017-03-02' '2017-03-03'\n",
      " '2017-03-06' '2017-03-07']\n",
      "0\n",
      "M258173 ['2016-09-19' '2016-09-20' '2016-09-21' '2016-09-22' '2016-09-23'\n",
      " '2016-09-26' '2016-09-27' '2016-09-28' '2016-09-29' '2016-09-30'\n",
      " '2016-10-03' '2016-10-04' '2016-10-05' '2016-10-06' '2016-10-07'\n",
      " '2016-10-10' '2016-10-11' '2016-10-12' '2016-10-13' '2016-10-14'\n",
      " '2016-10-17' '2016-10-18' '2016-10-19' '2016-10-20' '2016-10-21'\n",
      " '2016-10-25' '2016-10-26' '2016-10-27' '2016-10-28' '2016-10-31'\n",
      " '2016-11-01' '2016-11-02' '2016-11-03' '2016-11-04' '2016-11-07'\n",
      " '2016-11-08' '2016-11-09' '2016-11-10' '2016-11-11' '2016-11-14'\n",
      " '2016-11-15' '2016-11-16' '2016-11-17' '2016-11-18' '2016-11-21'\n",
      " '2016-11-22' '2016-11-23' '2016-11-28' '2016-11-30' '2016-12-01'\n",
      " '2016-12-02' '2016-12-06' '2016-12-07' '2016-12-08' '2016-12-09'\n",
      " '2016-12-12' '2016-12-13' '2016-12-14' '2016-12-15' '2016-12-16'\n",
      " '2016-12-19' '2016-12-20' '2016-12-21' '2016-12-22' '2016-12-23'\n",
      " '2017-01-03' '2017-01-04' '2017-01-05' '2017-01-06' '2017-01-09'\n",
      " '2017-01-10' '2017-01-11' '2017-01-12' '2017-01-13' '2017-01-16'\n",
      " '2017-01-17' '2017-01-18' '2017-01-19' '2017-01-20' '2017-01-23'\n",
      " '2017-01-24' '2017-01-25' '2017-01-26' '2017-01-27' '2017-01-30'\n",
      " '2017-01-31' '2017-02-01' '2017-02-02' '2017-02-03' '2017-02-06'\n",
      " '2017-02-07' '2017-02-08' '2017-02-09' '2017-02-10' '2017-02-13'\n",
      " '2017-02-14' '2017-02-15' '2017-02-16' '2017-02-17' '2017-02-20'\n",
      " '2017-02-21' '2017-02-22' '2017-02-23']\n",
      "0\n",
      "M258174 ['2016-08-22' '2016-08-23' '2016-08-24' '2016-08-25' '2016-08-26'\n",
      " '2016-08-29' '2016-08-30' '2016-08-31' '2016-09-02' '2016-09-06'\n",
      " '2016-09-07' '2016-09-08' '2016-09-09' '2016-09-12' '2016-09-13'\n",
      " '2016-09-14' '2016-09-15' '2016-09-16' '2016-09-19' '2016-09-20'\n",
      " '2016-09-21' '2016-09-22' '2016-09-23' '2016-09-26' '2016-09-27'\n",
      " '2016-09-28' '2016-09-29' '2016-09-30' '2016-10-03' '2016-10-05'\n",
      " '2016-10-06' '2016-10-07' '2016-10-10' '2016-10-11' '2016-10-12'\n",
      " '2016-10-13' '2016-10-14' '2016-10-17' '2016-10-18' '2016-10-19'\n",
      " '2016-10-20' '2016-10-21' '2016-10-24' '2016-10-25' '2016-10-26'\n",
      " '2016-10-27' '2016-10-28' '2016-10-31' '2016-11-01' '2016-11-02'\n",
      " '2016-11-03' '2016-11-04' '2016-11-07' '2016-11-08' '2016-11-09'\n",
      " '2016-11-10' '2016-11-11' '2016-11-14' '2016-11-15' '2016-11-16'\n",
      " '2016-11-17' '2016-11-18' '2016-11-21' '2016-11-22' '2016-11-23'\n",
      " '2016-11-28' '2016-11-29' '2016-11-30' '2016-12-01' '2016-12-06'\n",
      " '2016-12-07' '2016-12-08' '2016-12-09' '2016-12-14' '2016-12-15'\n",
      " '2016-12-16' '2016-12-19' '2016-12-20']\n",
      "0\n",
      "M258194 ['2016-10-10' '2016-10-11' '2016-10-12' '2016-10-13' '2016-10-14'\n",
      " '2016-10-17' '2016-10-18' '2016-10-19' '2016-10-20' '2016-10-21'\n",
      " '2016-10-25' '2016-10-26' '2016-10-27' '2016-10-28' '2016-10-31'\n",
      " '2016-11-01' '2016-11-03' '2016-11-04' '2016-11-07' '2016-11-10'\n",
      " '2016-11-14' '2016-11-15' '2016-11-17' '2016-11-18' '2016-11-21'\n",
      " '2016-11-22' '2016-11-23' '2016-11-28' '2016-11-29' '2016-12-01'\n",
      " '2016-12-02' '2016-12-05' '2016-12-06' '2016-12-07' '2016-12-08'\n",
      " '2016-12-09' '2016-12-12' '2016-12-13' '2016-12-14' '2016-12-16'\n",
      " '2016-12-19' '2016-12-20' '2016-12-21' '2016-12-22' '2016-12-23'\n",
      " '2017-01-03' '2017-01-04' '2017-01-05' '2017-01-06' '2017-01-09'\n",
      " '2017-01-10' '2017-01-11' '2017-01-12' '2017-01-13' '2017-01-16'\n",
      " '2017-01-17' '2017-01-18' '2017-01-19' '2017-01-24' '2017-01-25'\n",
      " '2017-01-26' '2017-01-27' '2017-01-30' '2017-01-31' '2017-02-01'\n",
      " '2017-02-02' '2017-02-03' '2017-02-06' '2017-02-07' '2017-02-08'\n",
      " '2017-02-09' '2017-02-10' '2017-02-13' '2017-02-14' '2017-02-15'\n",
      " '2017-02-16' '2017-02-17' '2017-02-20' '2017-02-21' '2017-02-22'\n",
      " '2017-02-23' '2017-02-27' '2017-02-28' '2017-03-01' '2017-03-02'\n",
      " '2017-03-03' '2017-03-06' '2017-03-07' '2017-03-08' '2017-03-09'\n",
      " '2017-03-10' '2017-03-13' '2017-03-14' '2017-03-15' '2017-03-16'\n",
      " '2017-03-17' '2017-03-20' '2017-03-21' '2017-03-22' '2017-03-23'\n",
      " '2017-03-24' '2017-03-27']\n",
      "day zero (2016-08-22) not found in dates\n",
      "0\n",
      "M258196 ['2016-08-29' '2016-08-30' '2016-08-31' '2016-09-02' '2016-09-06'\n",
      " '2016-09-07' '2016-09-08' '2016-09-09' '2016-09-12' '2016-09-13'\n",
      " '2016-09-15' '2016-09-16' '2016-09-19' '2016-09-20' '2016-09-21'\n",
      " '2016-09-22' '2016-09-23' '2016-09-26' '2016-09-27' '2016-09-28'\n",
      " '2016-09-29' '2016-09-30' '2016-10-03' '2016-10-05' '2016-10-06'\n",
      " '2016-10-07' '2016-10-10' '2016-10-11' '2016-10-12' '2016-10-13'\n",
      " '2016-10-14' '2016-10-17' '2016-10-18' '2016-10-19' '2016-10-20'\n",
      " '2016-10-21' '2016-10-24' '2016-10-25' '2016-10-26' '2016-10-27'\n",
      " '2016-10-28' '2016-10-31' '2016-11-01' '2016-11-02' '2016-11-03'\n",
      " '2016-11-04' '2016-11-07' '2016-11-08' '2016-11-09' '2016-11-10'\n",
      " '2016-11-11' '2016-11-14' '2016-11-15' '2016-11-16' '2016-11-17'\n",
      " '2016-11-18' '2016-11-21' '2016-11-22' '2016-11-23' '2016-11-28'\n",
      " '2016-11-29' '2016-11-30' '2016-12-01' '2016-12-06' '2016-12-07'\n",
      " '2016-12-08' '2016-12-15' '2016-12-16' '2016-12-19' '2016-12-20']\n",
      "0\n",
      "M258274 ['2016-09-19' '2016-09-20' '2016-09-22' '2016-09-23' '2016-09-26'\n",
      " '2016-09-27' '2016-09-28' '2016-09-29' '2016-09-30' '2016-10-03'\n",
      " '2016-10-04' '2016-10-05' '2016-10-06' '2016-10-07' '2016-10-10'\n",
      " '2016-10-11' '2016-10-12' '2016-10-13' '2016-10-14' '2016-10-17'\n",
      " '2016-10-18' '2016-10-19' '2016-10-20' '2016-10-21' '2016-10-25'\n",
      " '2016-10-26' '2016-10-27' '2016-10-28' '2016-10-31' '2016-11-01'\n",
      " '2016-11-02' '2016-11-03' '2016-11-04' '2016-11-07' '2016-11-08'\n",
      " '2016-11-09' '2016-11-10' '2016-11-11' '2016-11-14' '2016-11-15'\n",
      " '2016-11-16' '2016-11-18' '2016-11-21' '2016-11-22' '2016-11-23'\n",
      " '2016-11-28' '2016-11-30' '2016-12-01' '2016-12-02' '2016-12-06'\n",
      " '2016-12-07' '2016-12-08' '2016-12-09' '2016-12-12' '2016-12-13'\n",
      " '2016-12-14' '2016-12-15' '2016-12-16' '2016-12-19' '2016-12-20'\n",
      " '2016-12-21' '2016-12-22' '2016-12-23' '2017-01-03' '2017-01-04'\n",
      " '2017-01-05' '2017-01-06' '2017-01-09' '2017-01-10' '2017-01-11'\n",
      " '2017-01-12' '2017-01-13' '2017-01-16' '2017-01-17' '2017-01-18'\n",
      " '2017-01-19' '2017-01-20' '2017-01-23' '2017-01-24' '2017-01-25'\n",
      " '2017-01-26' '2017-01-27' '2017-01-30' '2017-01-31' '2017-02-01'\n",
      " '2017-02-02' '2017-02-03' '2017-02-06' '2017-02-07' '2017-02-08'\n",
      " '2017-02-09' '2017-02-10' '2017-02-13' '2017-02-14' '2017-02-15'\n",
      " '2017-02-16' '2017-02-17' '2017-02-20' '2017-02-21' '2017-02-22'\n",
      " '2017-02-23']\n",
      "0\n",
      "M258275 ['2016-09-19' '2016-09-20' '2016-09-22' '2016-09-23' '2016-09-26'\n",
      " '2016-09-27' '2016-09-28' '2016-09-29' '2016-09-30' '2016-10-03'\n",
      " '2016-10-04' '2016-10-05' '2016-10-06' '2016-10-07' '2016-10-10'\n",
      " '2016-10-11' '2016-10-12' '2016-10-13' '2016-10-14' '2016-10-17'\n",
      " '2016-10-18' '2016-10-19' '2016-10-20' '2016-10-21' '2016-10-25'\n",
      " '2016-10-26' '2016-10-27' '2016-10-28' '2016-11-01' '2016-11-02'\n",
      " '2016-11-03' '2016-11-04' '2016-11-07' '2016-11-08' '2016-11-09'\n",
      " '2016-11-10' '2016-11-11' '2016-11-14' '2016-11-15' '2016-11-16'\n",
      " '2016-11-17' '2016-11-18' '2016-11-21' '2016-11-22' '2016-11-23'\n",
      " '2016-11-28' '2016-12-01' '2016-12-02' '2016-12-06' '2016-12-07'\n",
      " '2016-12-08' '2016-12-09' '2016-12-12' '2016-12-13' '2016-12-14'\n",
      " '2016-12-15' '2016-12-16' '2016-12-19' '2016-12-20' '2016-12-21'\n",
      " '2016-12-22' '2016-12-23' '2017-01-03' '2017-01-04' '2017-01-05'\n",
      " '2017-01-06' '2017-01-09' '2017-01-10' '2017-01-11' '2017-01-12'\n",
      " '2017-01-13' '2017-01-16' '2017-01-17' '2017-01-18' '2017-01-19'\n",
      " '2017-01-20' '2017-01-23' '2017-01-24' '2017-01-25' '2017-01-26'\n",
      " '2017-01-27' '2017-01-30' '2017-01-31' '2017-02-01' '2017-02-02'\n",
      " '2017-02-03' '2017-02-06' '2017-02-07' '2017-02-09' '2017-02-10'\n",
      " '2017-02-13']\n",
      "0\n",
      "M258276 ['2016-09-19' '2016-09-20' '2016-09-22' '2016-09-23' '2016-09-26'\n",
      " '2016-09-27' '2016-09-28' '2016-09-29' '2016-09-30' '2016-10-03'\n",
      " '2016-10-04' '2016-10-05' '2016-10-06' '2016-10-07' '2016-10-10'\n",
      " '2016-10-11' '2016-10-12' '2016-10-13' '2016-10-14' '2016-10-17'\n",
      " '2016-10-18' '2016-10-19' '2016-10-20' '2016-10-21' '2016-10-25'\n",
      " '2016-10-26' '2016-10-27' '2016-10-28' '2016-10-31' '2016-11-01'\n",
      " '2016-11-02' '2016-11-03' '2016-11-04' '2016-11-07' '2016-11-08'\n",
      " '2016-11-09' '2016-11-10' '2016-11-11' '2016-11-14' '2016-11-15'\n",
      " '2016-11-16' '2016-11-17' '2016-11-18' '2016-11-21' '2016-11-22'\n",
      " '2016-11-23' '2016-11-28' '2016-11-29' '2016-11-30' '2016-12-01'\n",
      " '2016-12-02' '2016-12-06' '2016-12-07' '2016-12-08' '2016-12-09'\n",
      " '2016-12-12' '2016-12-13' '2016-12-14' '2016-12-15' '2016-12-16']\n",
      "0\n",
      "M261584 ['2016-09-19' '2016-09-20' '2016-09-21' '2016-09-22' '2016-09-23'\n",
      " '2016-09-26' '2016-09-27' '2016-09-28' '2016-09-29' '2016-09-30'\n",
      " '2016-10-03' '2016-10-04' '2016-10-05' '2016-10-06' '2016-10-07'\n",
      " '2016-10-10' '2016-10-11' '2016-10-12' '2016-10-13' '2016-10-14'\n",
      " '2016-10-17' '2016-10-18' '2016-10-19' '2016-10-20' '2016-10-21'\n",
      " '2016-10-25' '2016-10-26' '2016-10-27' '2016-10-28' '2016-10-31'\n",
      " '2016-11-01' '2016-11-02' '2016-11-03' '2016-11-04' '2016-11-07'\n",
      " '2016-11-08' '2016-11-09' '2016-11-10' '2016-11-11' '2016-11-14'\n",
      " '2016-11-15' '2016-11-16' '2016-11-17' '2016-11-18' '2016-11-22'\n",
      " '2016-11-23' '2016-11-28' '2016-12-01' '2016-12-02' '2016-12-06'\n",
      " '2016-12-07' '2016-12-08' '2016-12-09' '2016-12-12' '2016-12-13'\n",
      " '2016-12-14' '2016-12-15' '2016-12-16' '2016-12-19' '2016-12-20'\n",
      " '2016-12-21' '2016-12-22' '2016-12-23' '2017-01-03' '2017-01-04'\n",
      " '2017-01-05' '2017-01-06' '2017-01-09' '2017-01-10' '2017-01-11'\n",
      " '2017-01-12' '2017-01-13' '2017-01-16' '2017-01-17' '2017-01-18'\n",
      " '2017-01-19' '2017-01-20' '2017-01-23' '2017-01-25' '2017-01-26'\n",
      " '2017-01-27' '2017-01-30' '2017-01-31' '2017-02-01' '2017-02-02'\n",
      " '2017-02-03' '2017-02-06' '2017-02-07' '2017-02-08' '2017-02-09'\n",
      " '2017-02-10' '2017-02-13' '2017-02-14' '2017-02-15' '2017-02-16'\n",
      " '2017-02-17' '2017-02-20' '2017-02-21' '2017-02-22' '2017-02-23']\n",
      "0\n",
      "M265154 ['2016-10-10' '2016-10-11' '2016-10-12' '2016-10-13' '2016-10-14'\n",
      " '2016-10-17' '2016-10-18' '2016-10-19' '2016-10-20' '2016-10-21'\n",
      " '2016-10-25' '2016-10-26' '2016-10-27' '2016-10-28' '2016-10-31'\n",
      " '2016-11-01' '2016-11-03' '2016-11-04' '2016-11-07' '2016-11-10'\n",
      " '2016-11-11' '2016-11-14' '2016-11-15' '2016-11-16' '2016-11-17'\n",
      " '2016-11-18' '2016-11-21' '2016-11-22' '2016-11-23']\n",
      "0\n",
      "M265158 ['2016-10-10' '2016-10-11' '2016-10-12' '2016-10-13' '2016-10-14'\n",
      " '2016-10-17' '2016-10-18' '2016-10-19' '2016-10-20' '2016-10-21'\n",
      " '2016-10-25' '2016-10-26' '2016-10-27' '2016-10-28' '2016-10-31'\n",
      " '2016-11-01' '2016-11-03' '2016-11-04' '2016-11-07' '2016-11-10'\n",
      " '2016-11-14' '2016-11-15' '2016-11-16' '2016-11-17' '2016-11-18'\n",
      " '2016-11-21' '2016-11-22' '2016-11-23']\n",
      "0\n",
      "M265166 ['2016-10-10' '2016-10-11' '2016-10-12' '2016-10-13' '2016-10-14'\n",
      " '2016-10-17' '2016-10-18' '2016-10-19' '2016-10-20' '2016-10-21'\n",
      " '2016-10-25' '2016-10-26' '2016-10-27' '2016-10-28' '2016-10-31'\n",
      " '2016-11-01' '2016-11-03' '2016-11-04' '2016-11-07' '2016-11-10'\n",
      " '2016-11-14' '2016-11-15' '2016-11-16' '2016-11-17' '2016-11-18'\n",
      " '2016-11-21' '2016-11-22' '2016-11-23']\n",
      "1\n",
      "M271728 ['2016-10-28' '2016-10-31' '2016-11-01' '2016-11-02' '2016-11-03'\n",
      " '2016-11-04' '2016-11-07' '2016-11-10' '2016-11-11' '2016-11-14'\n",
      " '2016-11-15' '2016-11-16' '2016-11-17' '2016-11-21' '2016-11-22'\n",
      " '2016-11-28' '2016-12-01' '2016-12-02' '2016-12-05' '2016-12-06'\n",
      " '2016-12-07' '2016-12-08' '2016-12-09' '2016-12-12' '2016-12-13'\n",
      " '2016-12-16' '2016-12-19' '2016-12-20' '2016-12-21' '2016-12-22'\n",
      " '2016-12-23' '2017-01-03' '2017-01-04' '2017-01-05' '2017-01-06'\n",
      " '2017-01-09' '2017-01-10' '2017-01-11' '2017-01-12' '2017-01-13'\n",
      " '2017-01-16' '2017-01-18' '2017-01-19' '2017-01-23' '2017-01-24'\n",
      " '2017-01-25' '2017-01-26' '2017-01-27' '2017-01-30' '2017-01-31'\n",
      " '2017-02-01' '2017-02-02' '2017-02-03' '2017-02-06' '2017-02-07'\n",
      " '2017-02-08' '2017-02-09' '2017-02-13' '2017-02-14' '2017-02-15'\n",
      " '2017-02-16' '2017-02-17' '2017-02-20' '2017-02-21' '2017-02-22'\n",
      " '2017-02-23' '2017-02-27' '2017-02-28' '2017-03-01' '2017-03-03'\n",
      " '2017-03-06' '2017-03-07']\n",
      "0\n",
      "M271733 ['2016-10-31' '2016-11-01' '2016-11-02' '2016-11-03' '2016-11-04'\n",
      " '2016-11-07' '2016-11-10' '2016-11-11' '2016-11-14' '2016-11-15'\n",
      " '2016-11-16' '2016-11-17' '2016-11-18' '2016-11-21' '2016-11-22'\n",
      " '2016-11-28' '2016-11-30' '2016-12-01' '2016-12-02' '2016-12-05'\n",
      " '2016-12-06' '2016-12-07' '2016-12-08' '2016-12-09' '2016-12-12'\n",
      " '2016-12-13' '2016-12-16' '2016-12-19' '2016-12-20' '2016-12-21'\n",
      " '2016-12-22' '2016-12-23' '2017-01-03' '2017-01-04' '2017-01-05'\n",
      " '2017-01-06' '2017-01-09' '2017-01-10' '2017-01-11' '2017-01-12'\n",
      " '2017-01-13' '2017-01-16' '2017-01-17' '2017-01-18' '2017-01-19'\n",
      " '2017-01-20' '2017-01-23' '2017-01-24' '2017-01-25' '2017-01-26'\n",
      " '2017-01-27' '2017-01-30' '2017-01-31' '2017-02-01' '2017-02-02'\n",
      " '2017-02-03' '2017-02-06' '2017-02-07' '2017-02-08' '2017-02-09'\n",
      " '2017-02-10' '2017-02-13' '2017-02-14' '2017-02-15' '2017-02-16'\n",
      " '2017-02-17' '2017-02-20' '2017-02-21' '2017-02-22' '2017-02-23'\n",
      " '2017-02-27' '2017-02-28' '2017-03-01' '2017-03-02' '2017-03-03'\n",
      " '2017-03-06' '2017-03-07' '2017-03-08' '2017-03-09' '2017-03-10'\n",
      " '2017-03-13' '2017-03-14' '2017-03-15' '2017-03-16' '2017-03-17'\n",
      " '2017-03-20' '2017-03-21' '2017-03-22' '2017-03-23' '2017-03-24'\n",
      " '2017-03-27']\n",
      "0\n",
      "M271966 ['2016-10-10' '2016-10-11' '2016-10-12' '2016-10-13' '2016-10-14'\n",
      " '2016-10-17' '2016-10-18' '2016-10-19' '2016-10-20' '2016-10-21'\n",
      " '2016-10-25' '2016-10-26' '2016-10-27' '2016-10-28' '2016-10-31'\n",
      " '2016-11-01' '2016-11-03' '2016-11-04' '2016-11-07' '2016-11-10'\n",
      " '2016-11-14' '2016-11-15' '2016-11-17' '2016-11-18' '2016-11-21'\n",
      " '2016-11-22' '2016-11-23' '2016-11-28' '2016-11-29' '2016-12-01'\n",
      " '2016-12-02' '2016-12-05' '2016-12-06' '2016-12-07' '2016-12-08'\n",
      " '2016-12-09' '2016-12-12' '2016-12-13' '2016-12-14' '2016-12-16'\n",
      " '2016-12-19' '2016-12-20' '2016-12-21' '2016-12-22' '2016-12-23'\n",
      " '2017-01-03' '2017-01-04' '2017-01-05' '2017-01-06' '2017-01-09'\n",
      " '2017-01-10' '2017-01-11' '2017-01-12' '2017-01-13' '2017-01-16'\n",
      " '2017-01-17' '2017-01-18' '2017-01-19' '2017-01-24' '2017-01-25'\n",
      " '2017-01-26' '2017-01-27' '2017-01-30' '2017-01-31' '2017-02-01'\n",
      " '2017-02-02' '2017-02-03' '2017-02-06' '2017-02-07' '2017-02-08'\n",
      " '2017-02-09' '2017-02-10' '2017-02-13' '2017-02-14' '2017-02-15'\n",
      " '2017-02-16' '2017-02-17' '2017-02-20' '2017-02-21' '2017-02-22'\n",
      " '2017-02-23' '2017-02-27' '2017-02-28' '2017-03-01' '2017-03-02'\n",
      " '2017-03-03' '2017-03-06' '2017-03-07' '2017-03-08' '2017-03-09'\n",
      " '2017-03-10' '2017-03-13' '2017-03-14' '2017-03-15' '2017-03-16'\n",
      " '2017-03-17' '2017-03-20' '2017-03-21' '2017-03-22' '2017-03-23'\n",
      " '2017-03-24' '2017-03-27']\n",
      "1\n",
      "M272464 ['2016-10-28' '2016-10-31' '2016-11-01' '2016-11-03' '2016-11-04'\n",
      " '2016-11-07' '2016-11-10' '2016-11-11' '2016-11-14' '2016-11-15'\n",
      " '2016-11-16' '2016-11-17' '2016-11-21' '2016-11-22' '2016-11-28'\n",
      " '2016-12-01' '2016-12-02' '2016-12-05' '2016-12-06' '2016-12-07'\n",
      " '2016-12-08' '2016-12-09' '2016-12-12' '2016-12-13' '2016-12-16'\n",
      " '2016-12-19' '2016-12-20' '2016-12-21' '2016-12-22' '2016-12-23'\n",
      " '2017-01-03' '2017-01-04' '2017-01-05' '2017-01-06' '2017-01-09'\n",
      " '2017-01-10' '2017-01-11' '2017-01-12' '2017-01-13' '2017-01-16'\n",
      " '2017-01-18' '2017-01-19' '2017-01-23' '2017-01-24' '2017-01-25'\n",
      " '2017-01-26' '2017-01-27' '2017-01-30' '2017-01-31' '2017-02-01'\n",
      " '2017-02-02' '2017-02-03' '2017-02-06' '2017-02-07' '2017-02-08'\n",
      " '2017-02-09' '2017-02-10' '2017-02-13' '2017-02-14' '2017-02-15'\n",
      " '2017-02-16' '2017-02-17' '2017-02-20' '2017-02-21' '2017-02-22'\n",
      " '2017-02-23' '2017-02-27' '2017-02-28' '2017-03-01' '2017-03-02'\n",
      " '2017-03-03' '2017-03-06' '2017-03-07']\n",
      "0\n",
      "M272465 ['2016-10-10' '2016-10-11' '2016-10-12' '2016-10-13' '2016-10-14'\n",
      " '2016-10-17' '2016-10-18' '2016-10-19' '2016-10-20' '2016-10-21'\n",
      " '2016-10-25' '2016-10-26' '2016-10-27' '2016-10-28' '2016-10-31'\n",
      " '2016-11-01' '2016-11-03' '2016-11-04' '2016-11-07' '2016-11-10'\n",
      " '2016-11-14' '2016-11-15' '2016-11-16' '2016-11-17' '2016-11-18'\n",
      " '2016-11-21' '2016-11-22' '2016-11-23' '2016-11-28' '2016-11-29'\n",
      " '2016-12-01' '2016-12-02' '2016-12-05' '2016-12-06' '2016-12-07'\n",
      " '2016-12-08' '2016-12-09' '2016-12-12' '2016-12-13' '2016-12-14'\n",
      " '2016-12-16' '2016-12-19' '2016-12-20' '2016-12-21' '2016-12-22'\n",
      " '2016-12-23' '2017-01-03' '2017-01-04' '2017-01-05' '2017-01-06'\n",
      " '2017-01-09' '2017-01-10' '2017-01-11' '2017-01-12' '2017-01-13'\n",
      " '2017-01-16' '2017-01-17' '2017-01-18' '2017-01-19' '2017-01-24'\n",
      " '2017-01-25' '2017-01-26' '2017-01-27' '2017-01-30' '2017-01-31'\n",
      " '2017-02-01' '2017-02-02' '2017-02-03']\n",
      "0\n",
      "M273577 ['2016-11-28' '2016-11-29' '2016-12-01' '2016-12-02' '2016-12-05'\n",
      " '2016-12-06' '2016-12-07' '2016-12-08' '2016-12-09' '2016-12-12'\n",
      " '2016-12-13' '2016-12-14' '2016-12-16' '2016-12-19' '2016-12-20'\n",
      " '2016-12-21' '2016-12-22' '2016-12-23' '2017-01-03' '2017-01-04'\n",
      " '2017-01-05' '2017-01-06' '2017-01-09' '2017-01-10' '2017-01-11'\n",
      " '2017-01-12' '2017-01-13' '2017-01-16' '2017-01-17' '2017-01-20'\n",
      " '2017-01-23' '2017-01-24' '2017-01-25' '2017-01-26' '2017-01-27'\n",
      " '2017-01-30' '2017-01-31' '2017-02-01' '2017-02-02' '2017-02-03'\n",
      " '2017-02-06' '2017-02-07' '2017-02-08' '2017-02-09' '2017-02-10'\n",
      " '2017-02-13' '2017-02-14' '2017-02-15' '2017-02-16' '2017-02-17'\n",
      " '2017-02-20' '2017-02-21' '2017-02-22' '2017-02-23' '2017-02-27'\n",
      " '2017-02-28' '2017-03-02' '2017-03-03' '2017-03-06' '2017-03-10'\n",
      " '2017-03-13' '2017-03-14' '2017-03-15' '2017-03-16' '2017-03-17'\n",
      " '2017-03-20' '2017-03-21' '2017-03-22' '2017-03-24']\n",
      "0\n",
      "M273578 ['2016-11-28' '2016-11-29' '2016-12-01' '2016-12-02' '2016-12-05'\n",
      " '2016-12-06' '2016-12-07' '2016-12-08' '2016-12-09' '2016-12-12'\n",
      " '2016-12-13' '2016-12-14' '2016-12-16' '2016-12-19' '2016-12-20'\n",
      " '2016-12-21' '2016-12-22' '2016-12-23' '2017-01-03' '2017-01-04'\n",
      " '2017-01-05' '2017-01-06' '2017-01-09' '2017-01-10' '2017-01-11'\n",
      " '2017-01-12' '2017-01-13' '2017-01-16' '2017-01-17' '2017-01-20'\n",
      " '2017-01-23' '2017-01-24' '2017-01-25' '2017-01-26' '2017-01-27'\n",
      " '2017-01-30' '2017-01-31' '2017-02-01' '2017-02-02' '2017-02-03'\n",
      " '2017-02-06' '2017-02-07' '2017-02-08' '2017-02-09' '2017-02-10'\n",
      " '2017-02-13' '2017-02-14' '2017-02-15' '2017-02-16' '2017-02-17'\n",
      " '2017-02-20' '2017-02-21' '2017-02-22' '2017-02-23' '2017-02-27'\n",
      " '2017-02-28' '2017-03-02' '2017-03-03' '2017-03-06' '2017-03-10'\n",
      " '2017-03-13' '2017-03-14' '2017-03-15' '2017-03-16' '2017-03-17'\n",
      " '2017-03-20' '2017-03-21' '2017-03-22' '2017-03-23' '2017-03-24']\n",
      "1\n",
      "M274438 ['2017-02-10' '2017-02-13' '2017-02-14' '2017-02-15' '2017-02-16'\n",
      " '2017-02-17' '2017-02-20' '2017-02-21' '2017-02-22' '2017-02-23'\n",
      " '2017-02-24' '2017-02-27' '2017-02-28' '2017-03-01' '2017-03-02'\n",
      " '2017-03-03' '2017-03-06' '2017-03-07' '2017-03-08' '2017-03-09'\n",
      " '2017-03-10' '2017-03-13' '2017-03-14' '2017-03-15' '2017-03-16'\n",
      " '2017-03-17' '2017-03-20' '2017-03-21' '2017-03-22' '2017-03-23'\n",
      " '2017-03-24']\n",
      "1\n",
      "M274439 ['2017-02-10' '2017-02-13' '2017-02-14' '2017-02-15' '2017-02-16'\n",
      " '2017-02-17' '2017-02-20' '2017-02-21' '2017-02-22' '2017-02-23'\n",
      " '2017-02-24' '2017-02-27' '2017-02-28' '2017-03-01' '2017-03-02'\n",
      " '2017-03-03' '2017-03-06' '2017-03-07' '2017-03-08' '2017-03-09'\n",
      " '2017-03-10' '2017-03-13' '2017-03-14' '2017-03-15' '2017-03-16'\n",
      " '2017-03-17' '2017-03-20' '2017-03-21' '2017-03-22' '2017-03-23'\n",
      " '2017-03-24']\n",
      "0\n",
      "M275962 ['2016-11-28' '2016-11-29' '2016-12-01' '2016-12-02' '2016-12-05'\n",
      " '2016-12-06' '2016-12-07' '2016-12-08' '2016-12-09' '2016-12-12'\n",
      " '2016-12-13' '2016-12-14' '2016-12-16' '2016-12-19' '2016-12-20'\n",
      " '2016-12-21' '2016-12-22' '2016-12-23' '2017-01-03' '2017-01-04'\n",
      " '2017-01-05' '2017-01-06' '2017-01-09' '2017-01-10' '2017-01-11'\n",
      " '2017-01-12' '2017-01-13' '2017-01-16' '2017-01-17' '2017-01-20'\n",
      " '2017-01-23' '2017-01-24' '2017-01-25' '2017-01-26' '2017-01-27'\n",
      " '2017-01-30' '2017-01-31' '2017-02-01' '2017-02-02' '2017-02-03'\n",
      " '2017-02-06' '2017-02-07' '2017-02-08' '2017-02-09' '2017-02-10'\n",
      " '2017-02-13' '2017-02-14' '2017-02-15' '2017-02-17' '2017-02-20'\n",
      " '2017-02-21' '2017-02-22' '2017-02-23' '2017-02-27' '2017-02-28'\n",
      " '2017-03-02' '2017-03-03']\n",
      "0\n",
      "M275963 ['2017-01-16' '2017-01-17' '2017-01-18' '2017-01-19' '2017-01-23'\n",
      " '2017-01-24' '2017-01-25' '2017-01-26' '2017-01-27' '2017-01-30'\n",
      " '2017-01-31' '2017-02-01' '2017-02-02' '2017-02-03' '2017-02-06'\n",
      " '2017-02-07' '2017-02-08' '2017-02-09' '2017-02-10' '2017-02-13'\n",
      " '2017-02-14' '2017-02-15' '2017-02-16' '2017-02-17' '2017-02-20'\n",
      " '2017-02-21' '2017-02-22' '2017-02-23' '2017-02-27' '2017-02-28'\n",
      " '2017-03-01' '2017-03-02' '2017-03-03' '2017-03-06' '2017-03-07'\n",
      " '2017-03-08']\n",
      "0\n",
      "M275965 ['2017-01-16' '2017-01-17' '2017-01-18' '2017-01-19' '2017-01-23'\n",
      " '2017-01-24' '2017-01-25' '2017-01-26' '2017-01-27' '2017-01-30'\n",
      " '2017-01-31' '2017-02-01' '2017-02-02' '2017-02-03' '2017-02-06'\n",
      " '2017-02-07' '2017-02-08' '2017-02-09']\n",
      "0\n",
      "M276444 ['2016-11-28' '2016-11-29' '2016-12-01' '2016-12-02' '2016-12-05'\n",
      " '2016-12-06' '2016-12-07' '2016-12-08' '2016-12-09' '2016-12-12'\n",
      " '2016-12-13' '2016-12-14' '2016-12-16' '2016-12-19' '2016-12-20'\n",
      " '2016-12-21' '2016-12-22' '2016-12-23' '2017-01-03' '2017-01-04'\n",
      " '2017-01-05' '2017-01-06' '2017-01-09' '2017-01-10' '2017-01-11'\n",
      " '2017-01-12' '2017-01-13' '2017-01-16' '2017-01-17' '2017-01-20'\n",
      " '2017-01-23' '2017-01-24' '2017-01-25' '2017-01-26' '2017-01-27'\n",
      " '2017-01-30' '2017-01-31' '2017-02-01' '2017-02-02' '2017-02-03'\n",
      " '2017-02-06' '2017-02-07' '2017-02-08' '2017-02-09' '2017-02-10'\n",
      " '2017-02-13' '2017-02-14' '2017-02-15' '2017-02-16' '2017-02-17'\n",
      " '2017-02-20' '2017-02-21' '2017-02-22' '2017-02-23' '2017-02-27'\n",
      " '2017-02-28' '2017-03-02' '2017-03-03' '2017-03-06' '2017-03-10'\n",
      " '2017-03-13' '2017-03-14' '2017-03-15' '2017-03-16' '2017-03-17'\n",
      " '2017-03-20' '2017-03-21' '2017-03-22' '2017-03-23' '2017-03-24']\n",
      "0\n",
      "M276445 ['2016-11-28' '2016-11-29' '2016-12-01' '2016-12-02' '2016-12-05'\n",
      " '2016-12-06' '2016-12-07' '2016-12-08' '2016-12-09' '2016-12-12'\n",
      " '2016-12-13' '2016-12-14' '2016-12-16' '2016-12-19' '2016-12-20'\n",
      " '2016-12-21' '2016-12-22' '2016-12-23' '2017-01-03' '2017-01-04'\n",
      " '2017-01-05' '2017-01-06' '2017-01-09' '2017-01-10' '2017-01-11'\n",
      " '2017-01-12' '2017-01-13' '2017-01-16' '2017-01-17' '2017-01-20'\n",
      " '2017-01-23' '2017-01-24' '2017-01-25' '2017-01-26' '2017-01-27'\n",
      " '2017-01-30' '2017-01-31' '2017-02-01' '2017-02-02' '2017-02-03'\n",
      " '2017-02-06' '2017-02-07' '2017-02-08' '2017-02-09' '2017-02-10'\n",
      " '2017-02-13' '2017-02-14' '2017-02-15' '2017-02-16' '2017-02-17'\n",
      " '2017-02-20' '2017-02-21' '2017-02-22' '2017-02-23' '2017-02-27'\n",
      " '2017-03-02']\n",
      "1\n",
      "M276600 ['2016-10-28' '2016-10-31' '2016-11-01' '2016-11-02' '2016-11-03'\n",
      " '2016-11-04' '2016-11-10' '2016-11-11' '2016-11-14' '2016-11-15'\n",
      " '2016-11-16' '2016-11-17' '2016-11-21' '2016-11-22' '2016-11-28'\n",
      " '2016-11-30' '2016-12-01' '2016-12-02' '2016-12-05' '2016-12-06'\n",
      " '2016-12-07' '2016-12-08' '2016-12-09' '2016-12-12' '2016-12-13'\n",
      " '2016-12-16' '2016-12-19' '2016-12-20' '2016-12-21' '2016-12-22'\n",
      " '2016-12-23' '2017-01-03' '2017-01-04' '2017-01-05' '2017-01-06'\n",
      " '2017-01-09' '2017-01-10' '2017-01-11' '2017-01-12' '2017-01-13'\n",
      " '2017-01-16' '2017-01-17' '2017-01-18' '2017-01-19' '2017-01-20'\n",
      " '2017-01-23' '2017-01-24' '2017-01-25' '2017-01-26' '2017-01-27'\n",
      " '2017-01-30' '2017-01-31' '2017-02-01' '2017-02-02' '2017-02-03'\n",
      " '2017-02-06' '2017-02-07' '2017-02-08' '2017-02-09' '2017-02-10'\n",
      " '2017-02-13' '2017-02-14' '2017-02-15' '2017-02-16' '2017-02-17'\n",
      " '2017-02-20' '2017-02-21' '2017-02-22' '2017-02-23' '2017-02-27'\n",
      " '2017-02-28' '2017-03-01' '2017-03-02' '2017-03-03' '2017-03-06'\n",
      " '2017-03-07' '2017-03-08' '2017-03-09' '2017-03-10' '2017-03-13'\n",
      " '2017-03-14' '2017-03-15' '2017-03-16' '2017-03-17' '2017-03-20'\n",
      " '2017-03-21' '2017-03-22' '2017-03-23' '2017-03-24' '2017-03-27']\n",
      "1\n",
      "M276950 ['2016-10-28' '2016-10-31' '2016-11-01' '2016-11-02' '2016-11-03'\n",
      " '2016-11-04' '2016-11-07' '2016-11-10' '2016-11-11' '2016-11-14'\n",
      " '2016-11-15' '2016-11-16' '2016-11-17' '2016-11-18' '2016-11-21'\n",
      " '2016-11-22' '2016-11-28' '2016-11-30' '2016-12-01' '2016-12-02'\n",
      " '2016-12-05' '2016-12-06' '2016-12-07' '2016-12-08' '2016-12-09'\n",
      " '2016-12-12' '2016-12-13' '2016-12-16' '2016-12-19' '2016-12-20'\n",
      " '2016-12-21' '2016-12-22' '2016-12-23' '2017-01-03' '2017-01-04'\n",
      " '2017-01-05' '2017-01-06' '2017-01-09' '2017-01-10' '2017-01-11'\n",
      " '2017-01-12' '2017-01-13' '2017-01-16' '2017-01-17' '2017-01-18'\n",
      " '2017-01-19' '2017-01-20' '2017-01-23' '2017-01-24' '2017-01-25'\n",
      " '2017-01-26' '2017-01-27' '2017-01-30' '2017-01-31' '2017-02-01'\n",
      " '2017-02-02' '2017-02-03' '2017-02-06' '2017-02-07' '2017-02-08'\n",
      " '2017-02-09' '2017-02-10' '2017-02-13' '2017-02-14' '2017-02-15'\n",
      " '2017-02-16' '2017-02-17' '2017-02-20' '2017-02-21' '2017-02-22'\n",
      " '2017-02-23' '2017-02-27' '2017-02-28' '2017-03-01' '2017-03-02'\n",
      " '2017-03-03' '2017-03-06' '2017-03-07' '2017-03-08' '2017-03-09'\n",
      " '2017-03-10' '2017-03-13' '2017-03-14' '2017-03-15' '2017-03-16'\n",
      " '2017-03-17' '2017-03-20' '2017-03-21' '2017-03-22' '2017-03-23'\n",
      " '2017-03-24' '2017-03-27']\n",
      "1\n",
      "M276951 ['2016-10-28' '2016-10-31' '2016-11-01' '2016-11-02' '2016-11-03'\n",
      " '2016-11-04' '2016-11-07' '2016-11-10' '2016-11-11' '2016-11-14'\n",
      " '2016-11-15' '2016-11-16' '2016-11-17' '2016-11-18' '2016-11-21'\n",
      " '2016-11-22' '2016-11-28' '2016-11-30' '2016-12-01' '2016-12-02'\n",
      " '2016-12-05' '2016-12-06' '2016-12-07' '2016-12-08' '2016-12-09'\n",
      " '2016-12-12' '2016-12-13' '2016-12-16' '2016-12-19' '2016-12-20'\n",
      " '2016-12-21' '2016-12-22' '2016-12-23' '2017-01-03' '2017-01-04'\n",
      " '2017-01-05' '2017-01-06' '2017-01-09' '2017-01-10' '2017-01-11'\n",
      " '2017-01-12' '2017-01-13' '2017-01-16' '2017-01-18' '2017-01-19'\n",
      " '2017-01-23' '2017-01-24' '2017-01-25' '2017-01-26' '2017-01-27'\n",
      " '2017-01-30' '2017-01-31' '2017-02-01' '2017-02-02' '2017-02-03'\n",
      " '2017-02-06' '2017-02-07' '2017-02-08' '2017-02-09' '2017-02-10'\n",
      " '2017-02-14' '2017-02-15' '2017-02-16' '2017-02-17' '2017-02-20'\n",
      " '2017-02-21' '2017-02-22' '2017-02-23' '2017-02-27' '2017-02-28'\n",
      " '2017-03-01' '2017-03-02' '2017-03-03' '2017-03-06' '2017-03-07']\n",
      "1\n",
      "M276953 ['2017-02-10' '2017-02-13' '2017-02-14' '2017-02-15' '2017-02-16'\n",
      " '2017-02-17' '2017-02-20' '2017-02-21' '2017-02-22' '2017-02-23'\n",
      " '2017-02-24' '2017-02-27' '2017-02-28' '2017-03-01' '2017-03-02'\n",
      " '2017-03-03' '2017-03-06' '2017-03-07' '2017-03-08' '2017-03-09'\n",
      " '2017-03-10' '2017-03-13' '2017-03-14' '2017-03-15' '2017-03-16'\n",
      " '2017-03-17' '2017-03-20' '2017-03-21' '2017-03-22' '2017-03-23']\n",
      "0\n",
      "M277931 ['2017-01-16' '2017-01-17' '2017-01-18' '2017-01-19' '2017-01-23'\n",
      " '2017-01-24' '2017-01-25' '2017-01-26' '2017-01-27' '2017-01-30'\n",
      " '2017-01-31' '2017-02-01' '2017-02-02' '2017-02-03' '2017-02-06'\n",
      " '2017-02-07' '2017-02-08' '2017-02-09' '2017-02-10' '2017-02-13'\n",
      " '2017-02-14' '2017-02-15' '2017-02-16' '2017-02-17' '2017-02-20'\n",
      " '2017-02-21' '2017-02-22' '2017-02-23' '2017-02-27' '2017-02-28'\n",
      " '2017-03-01' '2017-03-02' '2017-03-03' '2017-03-06' '2017-03-07'\n",
      " '2017-03-08']\n",
      "0\n",
      "M278229 ['2016-11-28' '2016-11-29' '2016-12-01' '2016-12-02' '2016-12-05'\n",
      " '2016-12-06' '2016-12-07' '2016-12-08' '2016-12-09' '2016-12-12'\n",
      " '2016-12-13' '2016-12-14' '2016-12-16' '2016-12-19' '2016-12-20'\n",
      " '2016-12-21' '2016-12-22' '2016-12-23' '2017-01-03' '2017-01-04'\n",
      " '2017-01-05' '2017-01-06' '2017-01-09' '2017-01-10' '2017-01-11'\n",
      " '2017-01-12' '2017-01-13' '2017-01-16' '2017-01-17' '2017-01-20'\n",
      " '2017-01-23' '2017-01-24' '2017-01-25' '2017-01-26' '2017-01-27'\n",
      " '2017-01-30' '2017-01-31' '2017-02-01' '2017-02-02' '2017-02-03'\n",
      " '2017-02-06' '2017-02-07' '2017-02-08' '2017-02-09' '2017-02-10'\n",
      " '2017-02-13' '2017-02-14' '2017-02-15' '2017-02-17' '2017-02-20'\n",
      " '2017-02-21' '2017-02-22' '2017-02-23' '2017-02-27' '2017-02-28'\n",
      " '2017-03-02']\n",
      "0\n",
      "M278329 ['2017-01-16' '2017-01-17' '2017-01-18' '2017-01-19' '2017-01-23'\n",
      " '2017-01-24' '2017-01-25' '2017-01-26' '2017-01-27' '2017-01-30'\n",
      " '2017-01-31' '2017-02-01' '2017-02-02' '2017-02-03' '2017-02-06'\n",
      " '2017-02-07' '2017-02-08' '2017-02-09']\n",
      "0\n",
      "M278332 ['2017-01-16' '2017-01-17' '2017-01-18' '2017-01-19' '2017-01-23'\n",
      " '2017-01-24' '2017-01-25' '2017-01-26' '2017-01-27' '2017-01-30'\n",
      " '2017-01-31' '2017-02-01' '2017-02-02' '2017-02-03' '2017-02-06'\n",
      " '2017-02-07' '2017-02-08' '2017-02-09']\n",
      "1\n",
      "M278460 ['2017-02-10' '2017-02-13' '2017-02-14' '2017-02-15' '2017-02-16'\n",
      " '2017-02-17' '2017-02-20' '2017-02-21' '2017-02-22' '2017-02-23'\n",
      " '2017-02-24' '2017-02-27' '2017-02-28' '2017-03-01' '2017-03-02'\n",
      " '2017-03-03' '2017-03-06' '2017-03-07' '2017-03-08' '2017-03-09'\n",
      " '2017-03-10' '2017-03-13' '2017-03-14' '2017-03-15' '2017-03-16'\n",
      " '2017-03-17' '2017-03-20' '2017-03-21' '2017-03-22' '2017-03-23'\n",
      " '2017-03-24']\n",
      "1\n",
      "M278461 ['2017-03-03' '2017-03-06' '2017-03-07' '2017-03-08' '2017-03-09'\n",
      " '2017-03-10' '2017-03-13' '2017-03-14' '2017-03-15' '2017-03-16'\n",
      " '2017-03-17' '2017-03-20' '2017-03-21' '2017-03-22' '2017-03-23'\n",
      " '2017-03-24']\n",
      "0\n",
      "M278463 ['2017-01-16' '2017-01-17' '2017-01-18' '2017-01-19' '2017-01-23'\n",
      " '2017-01-24' '2017-01-25' '2017-01-26' '2017-01-27' '2017-01-30'\n",
      " '2017-01-31' '2017-02-01' '2017-02-02' '2017-02-03' '2017-02-06'\n",
      " '2017-02-07' '2017-02-08' '2017-02-09']\n",
      "1\n",
      "M278465 ['2017-03-03' '2017-03-06' '2017-03-07' '2017-03-08' '2017-03-09'\n",
      " '2017-03-10' '2017-03-13' '2017-03-14' '2017-03-15' '2017-03-16'\n",
      " '2017-03-17' '2017-03-20' '2017-03-21' '2017-03-22' '2017-03-23'\n",
      " '2017-03-24']\n",
      "1\n",
      "M278710 ['2017-03-03' '2017-03-06' '2017-03-07' '2017-03-08' '2017-03-09'\n",
      " '2017-03-10' '2017-03-13' '2017-03-14' '2017-03-15' '2017-03-16'\n",
      " '2017-03-17' '2017-03-20' '2017-03-21' '2017-03-22' '2017-03-23'\n",
      " '2017-03-24']\n",
      "1\n",
      "M279219 ['2017-03-03' '2017-03-06' '2017-03-07' '2017-03-08' '2017-03-09'\n",
      " '2017-03-10' '2017-03-13' '2017-03-14' '2017-03-15' '2017-03-16'\n",
      " '2017-03-17' '2017-03-20' '2017-03-21' '2017-03-22' '2017-03-23'\n",
      " '2017-03-24']\n",
      "1\n",
      "M279220 ['2017-03-03' '2017-03-06' '2017-03-07' '2017-03-08' '2017-03-09'\n",
      " '2017-03-10' '2017-03-13' '2017-03-14' '2017-03-15' '2017-03-16'\n",
      " '2017-03-17' '2017-03-20' '2017-03-21' '2017-03-22' '2017-03-23'\n",
      " '2017-03-24']\n",
      "1\n",
      "M279222 ['2017-03-03' '2017-03-06' '2017-03-07' '2017-03-08' '2017-03-09'\n",
      " '2017-03-10' '2017-03-13' '2017-03-14' '2017-03-15' '2017-03-16'\n",
      " '2017-03-17' '2017-03-20' '2017-03-21' '2017-03-22' '2017-03-23'\n",
      " '2017-03-24']\n",
      "1\n"
     ]
    }
   ],
   "source": [
    "def get_training_day(df_in):\n",
    "    '''adds a column to the dataframe with the number of unique training days up to that point\n",
    "         '''\n",
    "    coh = cohort_assignment.set_index('mouse')['cohort']\n",
    "#     print coh\n",
    "\n",
    "    training_day_lookup = {}\n",
    "    for mouse, group in df_in.groupby('mouse_id'):\n",
    "        dates = np.sort(group['date'].unique())\n",
    "        try:\n",
    "            dz = day_zero[mouse]\n",
    "            offset = np.argwhere(dates==dz)[0][0]\n",
    "        except KeyError:\n",
    "            print 'day zero not found for {}'.format(mouse)\n",
    "            offset = 0\n",
    "        except IndexError:\n",
    "            print 'day zero ({}) not found in dates'.format(dz)\n",
    "            offset = 0\n",
    "        print offset\n",
    "        training_day_lookup[mouse] = {date:training_day-offset for training_day,date in enumerate(dates)}\n",
    "        print mouse,dates\n",
    "    return df_in.apply(lambda row: training_day_lookup[row['mouse_id']][row['date']],axis=1)\n",
    "\n",
    "trials['training_day'] = get_training_day(trials)\n",
    "\n",
    "#df['day_of_week'] = df.startdatetime.dt.weekday_name\n",
    "\n",
    "## build arrays for change detection\n",
    "\n",
    "# df['change'] = ~df['change_frame'].isnull()\n",
    "trials['change'] = trials['trial_type']=='go'\n",
    "trials['detect'] = trials['response']==1.0"
   ]
  },
  {
   "cell_type": "code",
   "execution_count": null,
   "metadata": {
    "collapsed": false,
    "extensions": {
     "jupyter_dashboards": {
      "version": 1,
      "views": {
       "grid_default": {
        "hidden": true
       },
       "report_default": {}
      }
     }
    },
    "scrolled": true
   },
   "outputs": [],
   "source": [
    "## calculate reaction times\n",
    "\n",
    "trials['change_time'] = trials['change_time'].map(lambda x: np.nan if x is None else x)\n",
    "\n",
    "trials['reaction_time'] = trials['lick_times'].map(lambda x: x[0] if len(x)>0 else np.nan)\n",
    "trials['reaction_time'] = trials.apply(lambda row: row['reaction_time'] - row['change_time'],axis=1)\n",
    "\n",
    "## unwrap the response window\n",
    "trials['response_window_lower'] = trials['response_window'].map(lambda x: x[0])\n",
    "trials['response_window_upper'] = trials['response_window'].map(lambda x: x[1])"
   ]
  },
  {
   "cell_type": "code",
   "execution_count": null,
   "metadata": {
    "collapsed": false
   },
   "outputs": [],
   "source": [
    "trials['task'].unique()"
   ]
  },
  {
   "cell_type": "code",
   "execution_count": null,
   "metadata": {
    "collapsed": false
   },
   "outputs": [],
   "source": [
    "trials.groupby('task').get_group('DoC_NaturalImages_LuminanceMatched_TestImages_n=8')['cohort'].unique()"
   ]
  },
  {
   "cell_type": "code",
   "execution_count": null,
   "metadata": {
    "collapsed": false,
    "extensions": {
     "jupyter_dashboards": {
      "version": 1,
      "views": {
       "grid_default": {
        "hidden": true
       },
       "report_default": {}
      }
     }
    }
   },
   "outputs": [],
   "source": [
    "from braintv_behav import metrics\n",
    "from sklearn.metrics import accuracy_score"
   ]
  },
  {
   "cell_type": "code",
   "execution_count": null,
   "metadata": {
    "collapsed": false,
    "extensions": {
     "jupyter_dashboards": {
      "version": 1,
      "views": {
       "grid_default": {
        "col": 0,
        "height": 10,
        "hidden": true,
        "row": 5,
        "width": 12
       },
       "report_default": {}
      }
     }
    },
    "scrolled": true
   },
   "outputs": [],
   "source": [
    "reload(metrics)\n",
    "def compute_metrics(group):\n",
    "    result = {\n",
    "        'accuracy': metrics.discrim(group,'change','detect',metric=accuracy_score),\n",
    "        'd-prime': metrics.discrim(group,'change','detect',metric=metrics.d_prime),\n",
    "        'd-prime_peak': metrics.peak_dprime(group),\n",
    "        'discrim_p': metrics.discrim(group,'change','detect',metric=metrics.discrim_p),\n",
    "        'response_bias': metrics.response_bias(group,'detect'),\n",
    "        'earned_water': metrics.earned_water(group), \n",
    "        'total_water': metrics.total_water(group), \n",
    "        'num_trials': metrics.num_trials(group),\n",
    "        'num_contingent_trials': metrics.num_contingent_trials(group),\n",
    "        'reaction_time_50th%ile': metrics.reaction_times(group,percentile=50),\n",
    "        'reaction_time_05th%ile': metrics.reaction_times(group,percentile=5),\n",
    "        'reaction_time_95th%ile': metrics.reaction_times(group,percentile=95),\n",
    "        'fraction_time_aborted': metrics.fraction_time_aborted(group),\n",
    "    }\n",
    "    \n",
    "    return pd.Series(result, name='metrics')\n",
    "\n",
    "water = trials.groupby(['cohort','mouse_id','training_day']).apply(compute_metrics).reset_index()\n",
    "water['frac_earned_water'] = water['earned_water'] / water['total_water']\n",
    "water['reaction_time_spread'] = water['reaction_time_95th%ile'] - water['reaction_time_05th%ile']\n",
    "water.head()"
   ]
  },
  {
   "cell_type": "code",
   "execution_count": null,
   "metadata": {
    "collapsed": false
   },
   "outputs": [],
   "source": [
    "sns.jointplot('d-prime','d-prime_peak',data=water)"
   ]
  },
  {
   "cell_type": "code",
   "execution_count": null,
   "metadata": {
    "collapsed": false
   },
   "outputs": [],
   "source": [
    "sns.jointplot('d-prime_peak','fraction_time_aborted',data=water)"
   ]
  },
  {
   "cell_type": "code",
   "execution_count": null,
   "metadata": {
    "collapsed": false
   },
   "outputs": [],
   "source": [
    "with sns.color_palette('coolwarm',20):\n",
    "    sns.lmplot('fraction_time_aborted','d-prime_peak',data=water.dropna()[water.training_day<20],\n",
    "               hue='training_day',\n",
    "               col='cohort',col_wrap=3,\n",
    "               fit_reg=False,\n",
    "               size=2.5,\n",
    "              )"
   ]
  },
  {
   "cell_type": "code",
   "execution_count": null,
   "metadata": {
    "collapsed": true
   },
   "outputs": [],
   "source": [
    "mask = water['reaction_time_05th%ile']>0"
   ]
  },
  {
   "cell_type": "code",
   "execution_count": null,
   "metadata": {
    "collapsed": false
   },
   "outputs": [],
   "source": [
    "jp = sns.jointplot('reaction_time_05th%ile','d-prime',data=water[mask],\n",
    "                   stat_func=None,\n",
    "             )\n",
    "jp.ax_joint.axhspan(-0.5,0.5,color='0.5',alpha=0.5,zorder=-2)\n",
    "jp.ax_joint.axhline(0.0,color='0.5',zorder=-1)\n",
    "\n",
    "plt.savefig('../figures/d_prime_by_reaction_time.pdf')\n",
    "\n",
    "jp = sns.jointplot('response_bias','d-prime',data=water[mask],\n",
    "             )\n",
    "jp.ax_joint.axhspan(-1,1,color='0.5',alpha=0.5,zorder=-2)\n",
    "jp.ax_joint.axhline(0.0,color='0.5',zorder=-1)\n",
    "\n",
    "\n",
    "jp = sns.jointplot('accuracy','d-prime',data=water[mask],\n",
    "             )\n",
    "jp.ax_joint.axhspan(-1,1,color='0.5',alpha=0.5,zorder=-2)\n",
    "jp.ax_joint.axhline(0.0,color='0.5',zorder=-1)"
   ]
  },
  {
   "cell_type": "code",
   "execution_count": null,
   "metadata": {
    "collapsed": false,
    "extensions": {
     "jupyter_dashboards": {
      "version": 1,
      "views": {
       "grid_default": {
        "hidden": true
       },
       "report_default": {}
      }
     }
    }
   },
   "outputs": [],
   "source": [
    "def stars(p,ns='n.s.',thresh=(0.1,0.05,0.01,0.001)):\n",
    "    '''Converts p-values into R-styled stars.\n",
    "    Signif. codes:\n",
    "        '***' :  < 0.001\n",
    "        '**' : < 0.01\n",
    "        '*' : < 0.05\n",
    "        '.' : < 0.1\n",
    "        'n.s.' : < 1.0\n",
    "    '''\n",
    "    lookup = (\n",
    "        (0.001, '***'),\n",
    "        (0.01, '**'),\n",
    "        (0.05, '*'),\n",
    "        (0.1, '.'),\n",
    "    )\n",
    "    for t,s in lookup:\n",
    "        if (t in thresh) and (p < t):\n",
    "            return s\n",
    "    return ns\n",
    "\n",
    "def plot_stars(p,x,y,ax,ns='n.s.',thresh=(0.1,0.05,0.01,0.001),size='large',horizontalalignment='center',**kwargs):\n",
    "    ''' Plots significance stars '''\n",
    "    ax.text(x,y,stars(p,ns,thresh),size=size,horizontalalignment=horizontalalignment,**kwargs)\n",
    "\n",
    "def plot_linestar(p,x1,x2,y,ax):\n",
    "    ax.hlines(y, x1, x2)\n",
    "    plot_stars(0.5*(x1+x2),y+0.02,stars(p),ax=ax,size='large',horizontalalignment='center')"
   ]
  },
  {
   "cell_type": "code",
   "execution_count": null,
   "metadata": {
    "collapsed": false,
    "extensions": {
     "jupyter_dashboards": {
      "version": 1,
      "views": {
       "grid_default": {
        "hidden": true
       },
       "report_default": {}
      }
     }
    }
   },
   "outputs": [],
   "source": [
    "class RisingEdge():\n",
    "    \"\"\"\n",
    "    This object implements a \"rising edge\" detector on a boolean array.\n",
    "    \n",
    "    It takes advantage of how pandas applies functions in order.\n",
    "    \n",
    "    For example, if the \"criteria\" column in the `df` dataframe consists of booleans indicating\n",
    "    whether the row meets a criterion, we can detect the first run of three rows above criterion\n",
    "    with the following\n",
    "    \n",
    "        first_run_of_three = (\n",
    "            df['criteria']\n",
    "            .rolling(center=False,window=3)\n",
    "            .apply(func=RisingEdge().check)\n",
    "            )\n",
    "    \n",
    "    ```\n",
    "    \n",
    "    \"\"\"\n",
    "    def __init__(self):\n",
    "        self.firstall = False\n",
    "    def check(self,arr):\n",
    "        if arr.all():\n",
    "            self.firstall = True\n",
    "        return self.firstall"
   ]
  },
  {
   "cell_type": "code",
   "execution_count": null,
   "metadata": {
    "collapsed": true
   },
   "outputs": [],
   "source": [
    "class RisingEdgeTwo():\n",
    "    \"\"\"\n",
    "    This object implements a \"rising edge\" detector on a boolean array.\n",
    "    \n",
    "    It takes advantage of how pandas applies functions in order.\n",
    "    \n",
    "    For example, if the \"criteria\" column in the `df` dataframe consists of booleans indicating\n",
    "    whether the row meets a criterion, we can detect the first run of three rows above criterion\n",
    "    with the following\n",
    "    \n",
    "        first_run_of_three = (\n",
    "            df['criteria']\n",
    "            .rolling(center=False,window=3)\n",
    "            .apply(func=RisingEdge().check)\n",
    "            )\n",
    "    \n",
    "    ```\n",
    "    \n",
    "    \"\"\"\n",
    "    def __init__(self):\n",
    "        self.firstall = False\n",
    "    def check(self,arr):\n",
    "        if arr.sum()>1:\n",
    "            self.firstall = True\n",
    "        return self.firstall"
   ]
  },
  {
   "cell_type": "code",
   "execution_count": null,
   "metadata": {
    "collapsed": true,
    "extensions": {
     "jupyter_dashboards": {
      "version": 1,
      "views": {
       "grid_default": {
        "hidden": true
       },
       "report_default": {}
      }
     }
    }
   },
   "outputs": [],
   "source": [
    "pdf = water\n",
    "pdf['d_prime'] = pdf['d-prime']\n",
    "pdf['d_prime_peak'] = pdf['d-prime_peak']\n",
    "pdf['stimulus_control'] = pdf['discrim_p'] < 0.01"
   ]
  },
  {
   "cell_type": "code",
   "execution_count": null,
   "metadata": {
    "collapsed": false,
    "extensions": {
     "jupyter_dashboards": {
      "version": 1,
      "views": {
       "grid_default": {
        "col": 8,
        "height": 11,
        "hidden": true,
        "row": 5,
        "width": 4
       },
       "report_default": {}
      }
     }
    }
   },
   "outputs": [],
   "source": [
    "\n",
    "num_tr_thresh = 20\n",
    "# dprime_thresh = 0.5\n",
    "\n",
    "\n",
    "# pdf['criteria'] = (\n",
    "#     pdf['stimulus_control']\n",
    "#     & (pdf['num_contingent_trials'] > num_tr_thresh)\n",
    "#     & (pdf['d_prime'] > dprime_thresh)\n",
    "# )\n",
    "\n",
    "pdf['criteria'] = (\n",
    "#     pdf['stimulus_control']\n",
    "    (pdf['d_prime_peak'] > 2)\n",
    "#     & (pdf['num_contingent_trials'] > num_tr_thresh)\n",
    ")\n",
    "\n",
    "# mask = pdf.num_trials > num_tr_thresh # ignore sessions with very few trials\n",
    "\n",
    "first = {}\n",
    "\n",
    "consecutive_sessions = 3\n",
    "\n",
    "for key, group in pdf.set_index('training_day').sort_index().groupby(['cohort','mouse_id']):\n",
    "#     print group.head()\n",
    "    learned = (\n",
    "        group['criteria']\n",
    "        .rolling(center=False,window=consecutive_sessions)\n",
    "        .apply(func=RisingEdgeTwo().check)\n",
    "        )\n",
    "    summary = pd.DataFrame(\n",
    "        [learned.rename('learned'),\n",
    "         group['stimulus_control'],\n",
    "         group['d_prime'],\n",
    "         group['num_trials'],\n",
    "        ]).transpose()\n",
    "    \n",
    "    try:\n",
    "        first_session = summary['learned'][summary['learned']==1.0].index[0] #+(1-2)\n",
    "    except IndexError:\n",
    "        first_session = np.nan\n",
    "    \n",
    "    print key, first_session\n",
    "#     print summary.tail()\n",
    "    \n",
    "    first[key[1]]=first_session\n",
    "    \n",
    "def learned(row):\n",
    "    first_day = first[row['mouse_id']]\n",
    "    \n",
    "    if pd.isnull(first_day):\n",
    "        return False\n",
    "    else: \n",
    "        return (first_day <= row['training_day'])\n",
    "    \n",
    "pdf['learned'] = pdf.apply(learned,axis=1)"
   ]
  },
  {
   "cell_type": "code",
   "execution_count": null,
   "metadata": {
    "collapsed": true
   },
   "outputs": [],
   "source": [
    "\n",
    "def learning_day(row):\n",
    "    first_day = first[row['mouse_id']]\n",
    "    \n",
    "    if pd.isnull(first_day):\n",
    "        return False\n",
    "    else: \n",
    "        return (first_day == row['training_day'])\n",
    "pdf['learning_day'] = pdf.apply(learning_day,axis=1)"
   ]
  },
  {
   "cell_type": "code",
   "execution_count": null,
   "metadata": {
    "collapsed": false
   },
   "outputs": [],
   "source": [
    "# trials[trials.cohort=='Cohort 3'].groupby(['mouse_id'])['date'].min()"
   ]
  },
  {
   "cell_type": "code",
   "execution_count": null,
   "metadata": {
    "collapsed": false,
    "extensions": {
     "jupyter_dashboards": {
      "version": 1,
      "views": {
       "grid_default": {
        "col": 0,
        "height": 45,
        "hidden": false,
        "row": 38,
        "width": 12
       },
       "report_default": {}
      }
     }
    },
    "scrolled": true
   },
   "outputs": [],
   "source": [
    "# col_order = cohort_assignment.sort_values('cohort')['mouse_id']\n",
    "\n",
    "# mask = (\n",
    "#     (pdf.training_day >= 0)\n",
    "#     & (pdf.training_day < 15)\n",
    "#     )\n",
    "\n",
    "# fp = sns.factorplot('training_day','d_prime_peak',data=pdf[mask],\n",
    "#                     col='mouse_id',\n",
    "#                     col_wrap=3,\n",
    "#                     size=2,\n",
    "#                     aspect=1.5,\n",
    "#                     hue='cohort',\n",
    "#                     col_order=col_order,\n",
    "#               )\n",
    "\n",
    "# yloc = -1.5\n",
    "\n",
    "# for ax,mouse_id in zip(fp.axes.ravel(),col_order):\n",
    "#     ax.axhline(0.0,color='0.5',zorder=-1)\n",
    "# #     ax.axhspan(-dprime_thresh,dprime_thresh,color='0.5',alpha=0.5,zorder=-1)\n",
    "# #     print mouse_id\n",
    "#     for r,row in pdf[mask & (pdf['mouse_id']==mouse_id)].iterrows():\n",
    "#         p, x = row['discrim_p'], row['training_day']\n",
    "#         plot_stars(p,x,yloc,ax,ns='',thresh=(0.05,))\n",
    "#     ax.axvline(first[mouse_id],color='r',zorder=-1)\n",
    "    \n",
    "# sns.despine(bottom=True)\n",
    "# # plt.xlim(0,8)\n",
    "\n",
    "\n",
    "# plt.savefig('../figures/d_prime_by_training_day_individ.pdf')"
   ]
  },
  {
   "cell_type": "code",
   "execution_count": null,
   "metadata": {
    "collapsed": true
   },
   "outputs": [],
   "source": [
    "pdf['cohort'] = pdf['cohort'].map(int)"
   ]
  },
  {
   "cell_type": "code",
   "execution_count": null,
   "metadata": {
    "collapsed": false
   },
   "outputs": [],
   "source": [
    "pdf"
   ]
  },
  {
   "cell_type": "code",
   "execution_count": null,
   "metadata": {
    "collapsed": false,
    "extensions": {
     "jupyter_dashboards": {
      "version": 1,
      "views": {
       "grid_default": {
        "col": 0,
        "height": 25,
        "hidden": false,
        "row": 13,
        "width": 12
       },
       "report_default": {}
      }
     }
    }
   },
   "outputs": [],
   "source": [
    "mask = (\n",
    "#     (pdf.num_trials > num_tr_thresh) # ignore sessions with very few trials\n",
    "#     & (pdf.training_day <= pdf.groupby('mouse_id')['training_day'].max().min())\n",
    "    (pdf.training_day >= 0)\n",
    "    & (pdf.training_day <= 15)\n",
    "    )\n",
    "\n",
    "fp = sns.factorplot('training_day','d_prime_peak',data=pdf[mask],\n",
    "                    hue='mouse_id',\n",
    "                    col_wrap=3,\n",
    "                    size=3,\n",
    "#                     aspect=2,\n",
    "                    col='cohort',\n",
    "#                     col_order=col_order,\n",
    "              )\n",
    "\n",
    "for ax in fp.axes.flatten():\n",
    "    ax.axhline(0.0,color='0.7')\n",
    "    ax.axhspan(-0.5,0.5,color='0.5',alpha=0.5,zorder=-10)\n",
    "plt.ylim(-1,4)\n",
    "\n",
    "plt.savefig('../figures/d_prime_by_training_day.pdf')\n",
    "\n",
    "# fp = sns.factorplot('training_day','learned',data=pdf[mask],\n",
    "#                     hue='mouse_id',\n",
    "#                     col_wrap=3,\n",
    "#                     size=3,\n",
    "# #                     aspect=2,\n",
    "#                     col='cohort',\n",
    "# #                     col_order=col_order,\n",
    "#                     legend=False,\n",
    "#               )\n",
    "\n",
    "# fp = sns.factorplot('training_day','learned',data=pdf[mask],\n",
    "# #                     hue='mouse_id',\n",
    "#                     col_wrap=3,\n",
    "#                     size=3,\n",
    "# #                     aspect=2,\n",
    "#                     col='cohort',\n",
    "# #                     col_order=col_order,\n",
    "#                     legend=False,\n",
    "#               )"
   ]
  },
  {
   "cell_type": "code",
   "execution_count": null,
   "metadata": {
    "collapsed": false,
    "extensions": {
     "jupyter_dashboards": {
      "version": 1,
      "views": {
       "grid_default": {
        "col": 5,
        "height": 13,
        "hidden": false,
        "row": 0,
        "width": 7
       },
       "report_default": {}
      }
     }
    }
   },
   "outputs": [],
   "source": [
    "mask = (\n",
    "#     (pdf.num_trials > num_tr_thresh) # ignore sessions with very few trials\n",
    "#     & (pdf.training_day <= pdf.groupby('mouse_id')['training_day'].max().min())\n",
    "    (pdf.training_day >= 0)\n",
    "    & (pdf.training_day <= 19)\n",
    ")\n",
    "\n",
    "g = sns.factorplot('training_day','d_prime',data=pdf[mask],\n",
    "                    size=4,\n",
    "                    aspect=1.2,\n",
    "                    hue='cohort',\n",
    "                    kind='strip',  \n",
    "                    legend=True,\n",
    "                    alpha=0.5,\n",
    "                    palette='Dark2'\n",
    "              )\n",
    "\n",
    "g.map_dataframe(sns.pointplot,'training_day','d_prime',\n",
    "                hue='cohort',\n",
    "                palette='Dark2',\n",
    "                zorder=1000,\n",
    "                ci=None,\n",
    "                )\n",
    "g.set_axis_labels('Training Day', 'd\\'')\n",
    "g.fig.get_children()[-1].set_bbox_to_anchor((1.15, 0.5, 0, 0))\n",
    "# g.fig.get_children()[-1].set_title('')\n",
    "\n",
    "\n",
    "for ax in g.axes.ravel():\n",
    "    ax.axhline(0.0,color='0.5',zorder=-10)\n",
    "    ax.axhspan(-0.5,0.5,color='0.5',alpha=0.2,zorder=-10)\n",
    "\n",
    "plt.savefig('../figures/d_prime_by_training_day_cohort_means.pdf')"
   ]
  },
  {
   "cell_type": "code",
   "execution_count": null,
   "metadata": {
    "collapsed": false
   },
   "outputs": [],
   "source": [
    "mask = (\n",
    "#     (pdf.num_trials > num_tr_thresh) # ignore sessions with very few trials\n",
    "#     & (pdf.training_day <= pdf.groupby('mouse_id')['training_day'].max().min())\n",
    "    (pdf.training_day >= 0)\n",
    "    & (pdf.training_day <= 15)\n",
    "    & pdf.cohort.isin((3,4))\n",
    "    )\n",
    "\n",
    "fp = sns.factorplot('training_day','d_prime',data=pdf[mask],\n",
    "                    hue='mouse_id',\n",
    "#                     col_wrap=3,\n",
    "                    size=3,\n",
    "#                     aspect=2,\n",
    "                    col='cohort',\n",
    "                    palette='coolwarm',\n",
    "#                     col_order=col_order,\n",
    "              )\n",
    "\n",
    "for ax in fp.axes.flatten():\n",
    "    ax.axhline(0.0,color='0.2',zorder=-1)\n",
    "    ax.axhspan(-0.5,0.5,color='0.5',alpha=0.2,zorder=-10)\n",
    "plt.ylim(-1,4)\n",
    "fp.set_axis_labels('Training Day','d\\'')\n",
    "\n",
    "plt.savefig('../figures/d_prime_by_training_day_cohorts3and4.pdf')"
   ]
  },
  {
   "cell_type": "code",
   "execution_count": null,
   "metadata": {
    "collapsed": false
   },
   "outputs": [],
   "source": [
    "pdf = pdf.merge(cohort_assignment,on=['cohort','mouse_id'])"
   ]
  },
  {
   "cell_type": "code",
   "execution_count": null,
   "metadata": {
    "collapsed": false
   },
   "outputs": [],
   "source": [
    "mask = (\n",
    "#     (pdf.num_trials > num_tr_thresh) # ignore sessions with very few trials\n",
    "#     & (pdf.training_day <= pdf.groupby('mouse_id')['training_day'].max().min())\n",
    "    (pdf.training_day >= 0)\n",
    "    & (pdf.training_day < 20)\n",
    "    & (pdf.cohort != 6)\n",
    ")\n",
    "\n",
    "g = sns.factorplot('training_day','learned',data=pdf[mask],\n",
    "                   size=3,\n",
    "                   aspect=2,\n",
    "                   hue='cohort',\n",
    "                   ci=False,  \n",
    "                   legend=True,\n",
    "                   palette='Dark2'\n",
    "              )\n",
    "\n",
    "g.set_axis_labels('Training Day','Fraction Learned')\n",
    "plt.ylim(-0.1,1.1)\n",
    "sns.despine(trim=True)\n",
    "\n",
    "# g.map_dataframe(sns.pointplot,'training_day','d_prime',\n",
    "#                 hue='cohort',\n",
    "#                 palette='Dark2',\n",
    "#                 zorder=1000,\n",
    "#                 ci=None,\n",
    "#                 )\n",
    "# g.set_axis_labels('Training Day', 'd\\'')\n",
    "# g.fig.get_children()[-1].set_bbox_to_anchor((1.15, 0.5, 0, 0))\n",
    "# # g.fig.get_children()[-1].set_title('')\n",
    "\n",
    "\n",
    "for ax in g.axes.ravel():\n",
    "#     ax.axhline(0.0,color='0.5',zorder=-10)\n",
    "    ax.axvspan(4.5,9.5,color='0.5',alpha=0.1,zorder=-10)\n",
    "    ax.axvspan(14.5,19.5,color='0.5',alpha=0.1,zorder=-10)\n",
    "\n",
    "plt.savefig('../figures/cohort_survival.pdf')"
   ]
  },
  {
   "cell_type": "code",
   "execution_count": null,
   "metadata": {
    "collapsed": false
   },
   "outputs": [],
   "source": [
    "df = pdf[mask][['mouse_id','training_day','learned']].copy()"
   ]
  },
  {
   "cell_type": "code",
   "execution_count": null,
   "metadata": {
    "collapsed": false
   },
   "outputs": [],
   "source": [
    "learned_by_week_four = df[df.training_day==19][['mouse_id','learned']]\n",
    "learned_by_week_four.head()"
   ]
  },
  {
   "cell_type": "code",
   "execution_count": null,
   "metadata": {
    "collapsed": true
   },
   "outputs": [],
   "source": [
    "pd.merge?"
   ]
  },
  {
   "cell_type": "code",
   "execution_count": null,
   "metadata": {
    "collapsed": false
   },
   "outputs": [],
   "source": [
    "df = df.merge(learned_by_week_four,on=['mouse_id'],suffixes=('', '_by_week_four'))"
   ]
  },
  {
   "cell_type": "code",
   "execution_count": null,
   "metadata": {
    "collapsed": false
   },
   "outputs": [],
   "source": [
    "df['predictor'] = df['learned']==df['learned_by_week_four']"
   ]
  },
  {
   "cell_type": "code",
   "execution_count": null,
   "metadata": {
    "collapsed": false
   },
   "outputs": [],
   "source": [
    "sns.factorplot('training_day','predictor',data=df,aspect=1.5)"
   ]
  },
  {
   "cell_type": "code",
   "execution_count": null,
   "metadata": {
    "collapsed": false
   },
   "outputs": [],
   "source": [
    "mask = (\n",
    "    (pdf.training_day >= 0)\n",
    "    & (pdf.training_day < 20)\n",
    "    & (pdf.cohort != 6)\n",
    "    & (pdf.group.map(lambda x: 'Rorb' not in x))\n",
    ")\n",
    "\n",
    "g = sns.factorplot('training_day','learned',data=pdf[mask],\n",
    "                   size=3,\n",
    "                   aspect=2,\n",
    "                   hue='cohort',\n",
    "                   ci=False,  \n",
    "                   legend=True,\n",
    "                   palette='Dark2'\n",
    "              )\n",
    "\n",
    "g.set_axis_labels('Training Day','Fraction Learned')\n",
    "plt.ylim(-0.1,1.1)\n",
    "sns.despine(trim=True)\n",
    "\n",
    "\n",
    "for ax in g.axes.ravel():\n",
    "#     ax.axhline(0.0,color='0.5',zorder=-10)\n",
    "    ax.axvspan(4.5,9.5,color='0.5',alpha=0.1,zorder=-10)\n",
    "    ax.axvspan(14.5,19.5,color='0.5',alpha=0.1,zorder=-10)\n",
    "\n",
    "\n",
    "    \n",
    "    plt.savefig('../figures/cohort_survival_no_Rorb.pdf')"
   ]
  },
  {
   "cell_type": "code",
   "execution_count": null,
   "metadata": {
    "collapsed": false
   },
   "outputs": [],
   "source": [
    "mask = (\n",
    "#     (pdf.num_trials > num_tr_thresh) # ignore sessions with very few trials\n",
    "#     & (pdf.training_day <= pdf.groupby('mouse_id')['training_day'].max().min())\n",
    "    (pdf.training_day >= 0)\n",
    "    & (pdf.training_day < 20)\n",
    "    & (pdf.cohort != 6)\n",
    "    & (pdf.group.map(lambda x: 'Rorb' not in x))\n",
    ")\n",
    "\n",
    "g = sns.factorplot('training_day','learning_day',data=pdf[mask],\n",
    "                   size=3,\n",
    "                   aspect=2,\n",
    "#                    hue='cohort',\n",
    "                   ci=False,  \n",
    "                   legend=True,\n",
    "                   palette='Dark2'\n",
    "              )\n",
    "\n",
    "g.set_axis_labels('Training Day','Fraction Learned Today')\n",
    "plt.ylim(-0.1,0.3)\n",
    "sns.despine(trim=True)\n",
    "\n",
    "# g.map_dataframe(sns.pointplot,'training_day','d_prime',\n",
    "#                 hue='cohort',\n",
    "#                 palette='Dark2',\n",
    "#                 zorder=1000,\n",
    "#                 ci=None,\n",
    "#                 )\n",
    "# g.set_axis_labels('Training Day', 'd\\'')\n",
    "# g.fig.get_children()[-1].set_bbox_to_anchor((1.15, 0.5, 0, 0))\n",
    "# # g.fig.get_children()[-1].set_title('')\n",
    "\n",
    "\n",
    "for ax in g.axes.ravel():\n",
    "#     ax.axhline(0.0,color='0.5',zorder=-10)\n",
    "    ax.axvspan(4.5,9.5,color='0.5',alpha=0.1,zorder=-10)\n",
    "    ax.axvspan(14.5,19.5,color='0.5',alpha=0.1,zorder=-10)\n",
    "\n",
    "# plt.savefig('../figures/cohort_survival.pdf')"
   ]
  },
  {
   "cell_type": "code",
   "execution_count": null,
   "metadata": {
    "collapsed": false
   },
   "outputs": [],
   "source": [
    "pdf['Rorb'] = pdf['group'].map(lambda x: 'Rorb' if 'Rorb' in x else 'not Rorb')\n",
    "\n",
    "mask = (\n",
    "    (pdf.training_day >= 0)\n",
    "    & (pdf.training_day < 20)\n",
    "    & (pdf.cohort != 6)\n",
    "#     & (pdf.group.map(lambda x: 'Rorb' not in x))\n",
    ")\n",
    "\n",
    "\n",
    "g = sns.factorplot('training_day','learned',data=pdf[mask],\n",
    "                   size=3,\n",
    "                   aspect=2,\n",
    "                   hue='Rorb',\n",
    "              )\n",
    "\n",
    "g.set_axis_labels('Training Day','Fraction Learned')\n",
    "plt.ylim(-0.1,1.1)\n",
    "sns.despine(trim=True)\n",
    "\n",
    "for ax in g.axes.ravel():\n",
    "#     ax.axhline(0.0,color='0.5',zorder=-10)\n",
    "    ax.axvspan(4.5,9.5,color='0.5',alpha=0.1,zorder=-10)\n",
    "    ax.axvspan(14.5,19.5,color='0.5',alpha=0.1,zorder=-10)\n"
   ]
  },
  {
   "cell_type": "code",
   "execution_count": null,
   "metadata": {
    "collapsed": false
   },
   "outputs": [],
   "source": [
    "pdf['Rorb'].unique()"
   ]
  },
  {
   "cell_type": "code",
   "execution_count": null,
   "metadata": {
    "collapsed": true
   },
   "outputs": [],
   "source": [
    "cohort_assignment['Rorb'] = cohort_assignment['group'].map(lambda x: 'Rorb' if 'Rorb' in x else 'not Rorb')"
   ]
  },
  {
   "cell_type": "code",
   "execution_count": null,
   "metadata": {
    "collapsed": false
   },
   "outputs": [],
   "source": [
    "cohort_assignment[cohort_assignment.cohort!=6].groupby('Rorb').size()"
   ]
  },
  {
   "cell_type": "code",
   "execution_count": null,
   "metadata": {
    "collapsed": false
   },
   "outputs": [],
   "source": [
    "cohort_assignment[cohort_assignment['Rorb']=='Rorb'][['mouse','cohort','reporter','group']]"
   ]
  },
  {
   "cell_type": "code",
   "execution_count": null,
   "metadata": {
    "collapsed": true
   },
   "outputs": [],
   "source": [
    "cre_negative = 'M278332'\n",
    "cohort_assignment['cre_status'] = pdf['mouse'].map(lambda m: 'Cre-' if m==cre_negative else 'Cre+')"
   ]
  },
  {
   "cell_type": "code",
   "execution_count": null,
   "metadata": {
    "collapsed": false
   },
   "outputs": [],
   "source": [
    "pdf.columns"
   ]
  },
  {
   "cell_type": "code",
   "execution_count": null,
   "metadata": {
    "collapsed": false
   },
   "outputs": [],
   "source": [
    "g = sns.factorplot('training_day','learned',data=pdf[mask],\n",
    "                   size=3,\n",
    "                   aspect=2,\n",
    "                   hue='Rorb',\n",
    "              )"
   ]
  },
  {
   "cell_type": "code",
   "execution_count": null,
   "metadata": {
    "collapsed": false
   },
   "outputs": [],
   "source": [
    "mask = (\n",
    "#     (pdf.num_trials > num_tr_thresh) # ignore sessions with very few trials\n",
    "#     & (pdf.training_day <= pdf.groupby('mouse_id')['training_day'].max().min())\n",
    "    (pdf.training_day >= 0)\n",
    "    & (pdf.training_day < 10)\n",
    "    & (pdf.cohort.isin([1,3,6]))\n",
    "#     & (pdf.Rorb=='Rorb')\n",
    "    & (pdf.mouse!='M278463')\n",
    ")\n",
    "\n",
    "g = sns.factorplot('training_day','response_bias',data=pdf[mask],\n",
    "                    size=4,\n",
    "                    aspect=1.2,\n",
    "                    hue='mouse',\n",
    "                    col='cohort',\n",
    "                    row='Rorb',\n",
    "                    legend=True,\n",
    "                    alpha=0.5,\n",
    "                    palette='Dark2'\n",
    "              )"
   ]
  }
 ],
 "metadata": {
  "anaconda-cloud": {},
  "extensions": {
   "jupyter_dashboards": {
    "activeView": "grid_default",
    "version": 1,
    "views": {
     "grid_default": {
      "cellMargin": 10,
      "defaultCellHeight": 20,
      "maxColumns": 12,
      "name": "grid",
      "type": "grid"
     },
     "report_default": {
      "name": "report",
      "type": "report"
     }
    }
   }
  },
  "kernelspec": {
   "display_name": "Python [conda env:braintv_behav]",
   "language": "python",
   "name": "conda-env-braintv_behav-py"
  },
  "language_info": {
   "codemirror_mode": {
    "name": "ipython",
    "version": 2
   },
   "file_extension": ".py",
   "mimetype": "text/x-python",
   "name": "python",
   "nbconvert_exporter": "python",
   "pygments_lexer": "ipython2",
   "version": "2.7.13"
  }
 },
 "nbformat": 4,
 "nbformat_minor": 0
}
