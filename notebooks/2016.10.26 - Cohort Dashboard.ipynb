{
 "cells": [
  {
   "cell_type": "markdown",
   "metadata": {
    "extensions": {
     "jupyter_dashboards": {
      "version": 1,
      "views": {
       "grid_default": {
        "col": 0,
        "height": 13,
        "hidden": false,
        "row": 0,
        "width": 5
       },
       "report_default": {}
      }
     }
    }
   },
   "source": [
    "Justin Kiggins\n",
    "\n",
    "Oct 24, 2016\n",
    "\n",
    "[justink@alleninstitute.org](mailto:justink@alleninstitute.org)\n",
    "\n",
    "Summary of learning on cohorts 1-3 on the Detection of Change task."
   ]
  },
  {
   "cell_type": "code",
   "execution_count": 1,
   "metadata": {
    "collapsed": false,
    "extensions": {
     "jupyter_dashboards": {
      "version": 1,
      "views": {
       "grid_default": {
        "col": 0,
        "height": 4,
        "hidden": true,
        "row": 0,
        "width": 4
       },
       "report_default": {}
      }
     }
    }
   },
   "outputs": [
    {
     "name": "stderr",
     "output_type": "stream",
     "text": [
      "/home/justink/.conda/envs/braintv_behav/lib/python2.7/site-packages/IPython/html.py:14: ShimWarning: The `IPython.html` package has been deprecated. You should import from `notebook` instead. `IPython.html.widgets` has moved to `ipywidgets`.\n",
      "  \"`IPython.html.widgets` has moved to `ipywidgets`.\", ShimWarning)\n"
     ]
    },
    {
     "name": "stdout",
     "output_type": "stream",
     "text": [
      "failed to import CV2 in core.utilities\n",
      "failed to import mask in core.jcamdata.py\n",
      "failed to import get_mask_dict_gui in core.epoch.py\n",
      "failed to import aibs.Analysis.Core.smooth\n",
      "failed to import mask relalated functions in __init__.py\n"
     ]
    }
   ],
   "source": [
    "%matplotlib inline\n",
    "\n",
    "import pandas as pd\n",
    "import numpy as np\n",
    "import matplotlib.pyplot as plt\n",
    "import seaborn as sns\n",
    "sns.set_style('white')\n",
    "\n",
    "# import sys\n",
    "# sys.path.append(r'C:\\Users\\justink\\Code\\dro')\n",
    "\n",
    "from dro import utilities as dro\n",
    "from dro import plotting_functions as dro_plots"
   ]
  },
  {
   "cell_type": "code",
   "execution_count": 2,
   "metadata": {
    "collapsed": false,
    "extensions": {
     "jupyter_dashboards": {
      "version": 1,
      "views": {
       "grid_default": {
        "hidden": true
       },
       "report_default": {}
      }
     }
    }
   },
   "outputs": [
    {
     "data": {
      "text/html": [
       "<div>\n",
       "<table border=\"1\" class=\"dataframe\">\n",
       "  <thead>\n",
       "    <tr style=\"text-align: right;\">\n",
       "      <th></th>\n",
       "      <th>mouse</th>\n",
       "      <th>experiment</th>\n",
       "      <th>cohort</th>\n",
       "      <th>day_zero</th>\n",
       "    </tr>\n",
       "  </thead>\n",
       "  <tbody>\n",
       "    <tr>\n",
       "      <th>0</th>\n",
       "      <td>M272464</td>\n",
       "      <td>visual_behavior_development</td>\n",
       "      <td>4</td>\n",
       "      <td>2016-10-31</td>\n",
       "    </tr>\n",
       "    <tr>\n",
       "      <th>1</th>\n",
       "      <td>M271733</td>\n",
       "      <td>visual_behavior_development</td>\n",
       "      <td>4</td>\n",
       "      <td>2016-10-31</td>\n",
       "    </tr>\n",
       "    <tr>\n",
       "      <th>2</th>\n",
       "      <td>M271728</td>\n",
       "      <td>visual_behavior_development</td>\n",
       "      <td>4</td>\n",
       "      <td>2016-10-31</td>\n",
       "    </tr>\n",
       "    <tr>\n",
       "      <th>3</th>\n",
       "      <td>M276951</td>\n",
       "      <td>visual_behavior_development</td>\n",
       "      <td>4</td>\n",
       "      <td>2016-10-31</td>\n",
       "    </tr>\n",
       "    <tr>\n",
       "      <th>4</th>\n",
       "      <td>M276950</td>\n",
       "      <td>visual_behavior_development</td>\n",
       "      <td>4</td>\n",
       "      <td>2016-10-31</td>\n",
       "    </tr>\n",
       "    <tr>\n",
       "      <th>5</th>\n",
       "      <td>M276600</td>\n",
       "      <td>visual_behavior_development</td>\n",
       "      <td>4</td>\n",
       "      <td>2016-10-31</td>\n",
       "    </tr>\n",
       "    <tr>\n",
       "      <th>6</th>\n",
       "      <td>M272465</td>\n",
       "      <td>visual_behavior_development</td>\n",
       "      <td>3</td>\n",
       "      <td>2016-10-10</td>\n",
       "    </tr>\n",
       "    <tr>\n",
       "      <th>7</th>\n",
       "      <td>M265158</td>\n",
       "      <td>visual_behavior_development</td>\n",
       "      <td>3</td>\n",
       "      <td>2016-10-10</td>\n",
       "    </tr>\n",
       "    <tr>\n",
       "      <th>8</th>\n",
       "      <td>M271966</td>\n",
       "      <td>visual_behavior_development</td>\n",
       "      <td>3</td>\n",
       "      <td>2016-10-10</td>\n",
       "    </tr>\n",
       "    <tr>\n",
       "      <th>9</th>\n",
       "      <td>M265154</td>\n",
       "      <td>visual_behavior_development</td>\n",
       "      <td>3</td>\n",
       "      <td>2016-10-10</td>\n",
       "    </tr>\n",
       "    <tr>\n",
       "      <th>10</th>\n",
       "      <td>M258194</td>\n",
       "      <td>visual_behavior_development</td>\n",
       "      <td>3</td>\n",
       "      <td>2016-10-10</td>\n",
       "    </tr>\n",
       "    <tr>\n",
       "      <th>11</th>\n",
       "      <td>M265166</td>\n",
       "      <td>visual_behavior_development</td>\n",
       "      <td>3</td>\n",
       "      <td>2016-10-10</td>\n",
       "    </tr>\n",
       "    <tr>\n",
       "      <th>12</th>\n",
       "      <td>M258173</td>\n",
       "      <td>visual_behavior_development</td>\n",
       "      <td>2</td>\n",
       "      <td>2016-09-19</td>\n",
       "    </tr>\n",
       "    <tr>\n",
       "      <th>13</th>\n",
       "      <td>M258089</td>\n",
       "      <td>visual_behavior_development</td>\n",
       "      <td>2</td>\n",
       "      <td>2016-09-19</td>\n",
       "    </tr>\n",
       "    <tr>\n",
       "      <th>14</th>\n",
       "      <td>M258276</td>\n",
       "      <td>visual_behavior_development</td>\n",
       "      <td>2</td>\n",
       "      <td>2016-09-19</td>\n",
       "    </tr>\n",
       "    <tr>\n",
       "      <th>15</th>\n",
       "      <td>M261584</td>\n",
       "      <td>visual_behavior_development</td>\n",
       "      <td>2</td>\n",
       "      <td>2016-09-19</td>\n",
       "    </tr>\n",
       "    <tr>\n",
       "      <th>16</th>\n",
       "      <td>M258274</td>\n",
       "      <td>visual_behavior_development</td>\n",
       "      <td>2</td>\n",
       "      <td>2016-09-19</td>\n",
       "    </tr>\n",
       "    <tr>\n",
       "      <th>17</th>\n",
       "      <td>M258275</td>\n",
       "      <td>visual_behavior_development</td>\n",
       "      <td>2</td>\n",
       "      <td>2016-09-19</td>\n",
       "    </tr>\n",
       "    <tr>\n",
       "      <th>18</th>\n",
       "      <td>M246782</td>\n",
       "      <td>visual_behavior_development</td>\n",
       "      <td>1</td>\n",
       "      <td>2016-08-22</td>\n",
       "    </tr>\n",
       "    <tr>\n",
       "      <th>19</th>\n",
       "      <td>M249123</td>\n",
       "      <td>visual_behavior_development</td>\n",
       "      <td>1</td>\n",
       "      <td>2016-08-22</td>\n",
       "    </tr>\n",
       "    <tr>\n",
       "      <th>20</th>\n",
       "      <td>M258174</td>\n",
       "      <td>visual_behavior_development</td>\n",
       "      <td>1</td>\n",
       "      <td>2016-08-22</td>\n",
       "    </tr>\n",
       "    <tr>\n",
       "      <th>21</th>\n",
       "      <td>M250783</td>\n",
       "      <td>visual_behavior_development</td>\n",
       "      <td>1</td>\n",
       "      <td>2016-08-22</td>\n",
       "    </tr>\n",
       "    <tr>\n",
       "      <th>22</th>\n",
       "      <td>M250786</td>\n",
       "      <td>visual_behavior_development</td>\n",
       "      <td>1</td>\n",
       "      <td>2016-08-22</td>\n",
       "    </tr>\n",
       "    <tr>\n",
       "      <th>23</th>\n",
       "      <td>M258196</td>\n",
       "      <td>visual_behavior_development</td>\n",
       "      <td>1</td>\n",
       "      <td>2016-08-22</td>\n",
       "    </tr>\n",
       "    <tr>\n",
       "      <th>24</th>\n",
       "      <td>M273577</td>\n",
       "      <td>visual_behavior_development</td>\n",
       "      <td>5</td>\n",
       "      <td>2016-11-28</td>\n",
       "    </tr>\n",
       "    <tr>\n",
       "      <th>25</th>\n",
       "      <td>M273578</td>\n",
       "      <td>visual_behavior_development</td>\n",
       "      <td>5</td>\n",
       "      <td>2016-11-28</td>\n",
       "    </tr>\n",
       "    <tr>\n",
       "      <th>26</th>\n",
       "      <td>M278229</td>\n",
       "      <td>visual_behavior_development</td>\n",
       "      <td>5</td>\n",
       "      <td>2016-11-28</td>\n",
       "    </tr>\n",
       "    <tr>\n",
       "      <th>27</th>\n",
       "      <td>M276444</td>\n",
       "      <td>visual_behavior_development</td>\n",
       "      <td>5</td>\n",
       "      <td>2016-11-28</td>\n",
       "    </tr>\n",
       "    <tr>\n",
       "      <th>28</th>\n",
       "      <td>M275962</td>\n",
       "      <td>visual_behavior_development</td>\n",
       "      <td>5</td>\n",
       "      <td>2016-11-28</td>\n",
       "    </tr>\n",
       "    <tr>\n",
       "      <th>29</th>\n",
       "      <td>M276445</td>\n",
       "      <td>visual_behavior_development</td>\n",
       "      <td>5</td>\n",
       "      <td>2016-11-28</td>\n",
       "    </tr>\n",
       "    <tr>\n",
       "      <th>30</th>\n",
       "      <td>M275965</td>\n",
       "      <td>visual_behavior_development</td>\n",
       "      <td>6</td>\n",
       "      <td>2017-01-16</td>\n",
       "    </tr>\n",
       "    <tr>\n",
       "      <th>31</th>\n",
       "      <td>M275963</td>\n",
       "      <td>visual_behavior_development</td>\n",
       "      <td>6</td>\n",
       "      <td>2017-01-16</td>\n",
       "    </tr>\n",
       "    <tr>\n",
       "      <th>32</th>\n",
       "      <td>M277931</td>\n",
       "      <td>visual_behavior_development</td>\n",
       "      <td>6</td>\n",
       "      <td>2017-01-16</td>\n",
       "    </tr>\n",
       "    <tr>\n",
       "      <th>33</th>\n",
       "      <td>M278329</td>\n",
       "      <td>visual_behavior_development</td>\n",
       "      <td>6</td>\n",
       "      <td>2017-01-16</td>\n",
       "    </tr>\n",
       "    <tr>\n",
       "      <th>34</th>\n",
       "      <td>M278463</td>\n",
       "      <td>visual_behavior_development</td>\n",
       "      <td>6</td>\n",
       "      <td>2017-01-16</td>\n",
       "    </tr>\n",
       "    <tr>\n",
       "      <th>35</th>\n",
       "      <td>M278332</td>\n",
       "      <td>visual_behavior_development</td>\n",
       "      <td>6</td>\n",
       "      <td>2017-01-16</td>\n",
       "    </tr>\n",
       "  </tbody>\n",
       "</table>\n",
       "</div>"
      ],
      "text/plain": [
       "      mouse                   experiment  cohort   day_zero\n",
       "0   M272464  visual_behavior_development       4 2016-10-31\n",
       "1   M271733  visual_behavior_development       4 2016-10-31\n",
       "2   M271728  visual_behavior_development       4 2016-10-31\n",
       "3   M276951  visual_behavior_development       4 2016-10-31\n",
       "4   M276950  visual_behavior_development       4 2016-10-31\n",
       "5   M276600  visual_behavior_development       4 2016-10-31\n",
       "6   M272465  visual_behavior_development       3 2016-10-10\n",
       "7   M265158  visual_behavior_development       3 2016-10-10\n",
       "8   M271966  visual_behavior_development       3 2016-10-10\n",
       "9   M265154  visual_behavior_development       3 2016-10-10\n",
       "10  M258194  visual_behavior_development       3 2016-10-10\n",
       "11  M265166  visual_behavior_development       3 2016-10-10\n",
       "12  M258173  visual_behavior_development       2 2016-09-19\n",
       "13  M258089  visual_behavior_development       2 2016-09-19\n",
       "14  M258276  visual_behavior_development       2 2016-09-19\n",
       "15  M261584  visual_behavior_development       2 2016-09-19\n",
       "16  M258274  visual_behavior_development       2 2016-09-19\n",
       "17  M258275  visual_behavior_development       2 2016-09-19\n",
       "18  M246782  visual_behavior_development       1 2016-08-22\n",
       "19  M249123  visual_behavior_development       1 2016-08-22\n",
       "20  M258174  visual_behavior_development       1 2016-08-22\n",
       "21  M250783  visual_behavior_development       1 2016-08-22\n",
       "22  M250786  visual_behavior_development       1 2016-08-22\n",
       "23  M258196  visual_behavior_development       1 2016-08-22\n",
       "24  M273577  visual_behavior_development       5 2016-11-28\n",
       "25  M273578  visual_behavior_development       5 2016-11-28\n",
       "26  M278229  visual_behavior_development       5 2016-11-28\n",
       "27  M276444  visual_behavior_development       5 2016-11-28\n",
       "28  M275962  visual_behavior_development       5 2016-11-28\n",
       "29  M276445  visual_behavior_development       5 2016-11-28\n",
       "30  M275965  visual_behavior_development       6 2017-01-16\n",
       "31  M275963  visual_behavior_development       6 2017-01-16\n",
       "32  M277931  visual_behavior_development       6 2017-01-16\n",
       "33  M278329  visual_behavior_development       6 2017-01-16\n",
       "34  M278463  visual_behavior_development       6 2017-01-16\n",
       "35  M278332  visual_behavior_development       6 2017-01-16"
      ]
     },
     "execution_count": 2,
     "metadata": {},
     "output_type": "execute_result"
    }
   ],
   "source": [
    "from braintv_pilot.cohorts import cohort_assignment\n",
    "cohort_assignment"
   ]
  },
  {
   "cell_type": "code",
   "execution_count": 3,
   "metadata": {
    "collapsed": true
   },
   "outputs": [],
   "source": [
    "from braintv_pilot import latest"
   ]
  },
  {
   "cell_type": "code",
   "execution_count": 4,
   "metadata": {
    "collapsed": false
   },
   "outputs": [
    {
     "data": {
      "text/plain": [
       "'/local1/Projects/braintv_behavior_piloting/braintv_pilot/../data/raw'"
      ]
     },
     "execution_count": 4,
     "metadata": {},
     "output_type": "execute_result"
    }
   ],
   "source": [
    "latest.local_dir"
   ]
  },
  {
   "cell_type": "code",
   "execution_count": 5,
   "metadata": {
    "collapsed": false
   },
   "outputs": [],
   "source": [
    "from braintv_pilot.cohorts import mouse_info\n",
    "mouse_df = cohort_assignment['mouse'].apply(lambda mouse: pd.Series(mouse_info(mouse)))\n",
    "cohort_assignment = cohort_assignment.merge(\n",
    "    mouse_df,\n",
    "    how='left',\n",
    "    left_on='mouse',\n",
    "    right_on='mouse_id'\n",
    ")"
   ]
  },
  {
   "cell_type": "code",
   "execution_count": 6,
   "metadata": {
    "collapsed": false
   },
   "outputs": [
    {
     "data": {
      "text/html": [
       "<div>\n",
       "<table border=\"1\" class=\"dataframe\">\n",
       "  <thead>\n",
       "    <tr style=\"text-align: right;\">\n",
       "      <th></th>\n",
       "      <th>mouse</th>\n",
       "      <th>experiment</th>\n",
       "      <th>cohort</th>\n",
       "      <th>day_zero</th>\n",
       "      <th>baselineweight</th>\n",
       "      <th>birthdate</th>\n",
       "      <th>dayonescript</th>\n",
       "      <th>driver1</th>\n",
       "      <th>driver2</th>\n",
       "      <th>group</th>\n",
       "      <th>...</th>\n",
       "      <th>minweight</th>\n",
       "      <th>mouse_id</th>\n",
       "      <th>mousenotes</th>\n",
       "      <th>owner</th>\n",
       "      <th>reporter</th>\n",
       "      <th>sex</th>\n",
       "      <th>tasktype</th>\n",
       "      <th>training_location</th>\n",
       "      <th>userid</th>\n",
       "      <th>waterrestrictionstartdate</th>\n",
       "    </tr>\n",
       "  </thead>\n",
       "  <tbody>\n",
       "    <tr>\n",
       "      <th>0</th>\n",
       "      <td>M272464</td>\n",
       "      <td>visual_behavior_development</td>\n",
       "      <td>4</td>\n",
       "      <td>2016-10-31</td>\n",
       "      <td>20.2</td>\n",
       "      <td>2016-08-24</td>\n",
       "      <td></td>\n",
       "      <td>None</td>\n",
       "      <td>None</td>\n",
       "      <td>EMX-Cre-Ai35</td>\n",
       "      <td>...</td>\n",
       "      <td>85</td>\n",
       "      <td>M272464</td>\n",
       "      <td>Additional information...</td>\n",
       "      <td>sissyc</td>\n",
       "      <td>None</td>\n",
       "      <td>Male</td>\n",
       "      <td>None</td>\n",
       "      <td>None</td>\n",
       "      <td>sissyc</td>\n",
       "      <td>2016-10-21</td>\n",
       "    </tr>\n",
       "    <tr>\n",
       "      <th>1</th>\n",
       "      <td>M271733</td>\n",
       "      <td>visual_behavior_development</td>\n",
       "      <td>4</td>\n",
       "      <td>2016-10-31</td>\n",
       "      <td>20.4</td>\n",
       "      <td>2016-08-01</td>\n",
       "      <td></td>\n",
       "      <td>None</td>\n",
       "      <td>None</td>\n",
       "      <td>Nr5a1</td>\n",
       "      <td>...</td>\n",
       "      <td>85</td>\n",
       "      <td>M271733</td>\n",
       "      <td>Additional information...</td>\n",
       "      <td>sissyc</td>\n",
       "      <td>None</td>\n",
       "      <td>Female</td>\n",
       "      <td>None</td>\n",
       "      <td>None</td>\n",
       "      <td>sissyc</td>\n",
       "      <td>2016-10-21</td>\n",
       "    </tr>\n",
       "    <tr>\n",
       "      <th>2</th>\n",
       "      <td>M271728</td>\n",
       "      <td>visual_behavior_development</td>\n",
       "      <td>4</td>\n",
       "      <td>2016-10-31</td>\n",
       "      <td>23.0</td>\n",
       "      <td>2016-08-01</td>\n",
       "      <td></td>\n",
       "      <td>None</td>\n",
       "      <td>None</td>\n",
       "      <td>Nr5a1</td>\n",
       "      <td>...</td>\n",
       "      <td>85</td>\n",
       "      <td>M271728</td>\n",
       "      <td>Additional information...</td>\n",
       "      <td>sissyc</td>\n",
       "      <td>None</td>\n",
       "      <td>Male</td>\n",
       "      <td>None</td>\n",
       "      <td>None</td>\n",
       "      <td>sissyc</td>\n",
       "      <td>2016-10-21</td>\n",
       "    </tr>\n",
       "    <tr>\n",
       "      <th>3</th>\n",
       "      <td>M276951</td>\n",
       "      <td>visual_behavior_development</td>\n",
       "      <td>4</td>\n",
       "      <td>2016-10-31</td>\n",
       "      <td>20.8</td>\n",
       "      <td>2016-08-27</td>\n",
       "      <td></td>\n",
       "      <td>None</td>\n",
       "      <td>None</td>\n",
       "      <td>Emx-IRES-Cre;Ai95(NC)</td>\n",
       "      <td>...</td>\n",
       "      <td>81</td>\n",
       "      <td>M276951</td>\n",
       "      <td>Additional information...</td>\n",
       "      <td>sissyc</td>\n",
       "      <td>None</td>\n",
       "      <td>Female</td>\n",
       "      <td>None</td>\n",
       "      <td>None</td>\n",
       "      <td>sissyc</td>\n",
       "      <td>2016-10-21</td>\n",
       "    </tr>\n",
       "    <tr>\n",
       "      <th>4</th>\n",
       "      <td>M276950</td>\n",
       "      <td>visual_behavior_development</td>\n",
       "      <td>4</td>\n",
       "      <td>2016-10-31</td>\n",
       "      <td>20.4</td>\n",
       "      <td>2016-08-27</td>\n",
       "      <td></td>\n",
       "      <td>None</td>\n",
       "      <td>None</td>\n",
       "      <td>EMX-Cre-Ai35</td>\n",
       "      <td>...</td>\n",
       "      <td>85</td>\n",
       "      <td>M276950</td>\n",
       "      <td>Additional information...</td>\n",
       "      <td>sissyc</td>\n",
       "      <td>None</td>\n",
       "      <td>Female</td>\n",
       "      <td>None</td>\n",
       "      <td>None</td>\n",
       "      <td>sissyc</td>\n",
       "      <td>2016-10-21</td>\n",
       "    </tr>\n",
       "  </tbody>\n",
       "</table>\n",
       "<p>5 rows × 21 columns</p>\n",
       "</div>"
      ],
      "text/plain": [
       "     mouse                   experiment  cohort   day_zero baselineweight  \\\n",
       "0  M272464  visual_behavior_development       4 2016-10-31           20.2   \n",
       "1  M271733  visual_behavior_development       4 2016-10-31           20.4   \n",
       "2  M271728  visual_behavior_development       4 2016-10-31           23.0   \n",
       "3  M276951  visual_behavior_development       4 2016-10-31           20.8   \n",
       "4  M276950  visual_behavior_development       4 2016-10-31           20.4   \n",
       "\n",
       "    birthdate dayonescript driver1 driver2                  group  \\\n",
       "0  2016-08-24                 None    None           EMX-Cre-Ai35   \n",
       "1  2016-08-01                 None    None                  Nr5a1   \n",
       "2  2016-08-01                 None    None                  Nr5a1   \n",
       "3  2016-08-27                 None    None  Emx-IRES-Cre;Ai95(NC)   \n",
       "4  2016-08-27                 None    None           EMX-Cre-Ai35   \n",
       "\n",
       "             ...            minweight mouse_id                 mousenotes  \\\n",
       "0            ...                   85  M272464  Additional information...   \n",
       "1            ...                   85  M271733  Additional information...   \n",
       "2            ...                   85  M271728  Additional information...   \n",
       "3            ...                   81  M276951  Additional information...   \n",
       "4            ...                   85  M276950  Additional information...   \n",
       "\n",
       "    owner reporter     sex tasktype training_location  userid  \\\n",
       "0  sissyc     None    Male     None              None  sissyc   \n",
       "1  sissyc     None  Female     None              None  sissyc   \n",
       "2  sissyc     None    Male     None              None  sissyc   \n",
       "3  sissyc     None  Female     None              None  sissyc   \n",
       "4  sissyc     None  Female     None              None  sissyc   \n",
       "\n",
       "  waterrestrictionstartdate  \n",
       "0                2016-10-21  \n",
       "1                2016-10-21  \n",
       "2                2016-10-21  \n",
       "3                2016-10-21  \n",
       "4                2016-10-21  \n",
       "\n",
       "[5 rows x 21 columns]"
      ]
     },
     "execution_count": 6,
     "metadata": {},
     "output_type": "execute_result"
    }
   ],
   "source": [
    "cohort_assignment.head()"
   ]
  },
  {
   "cell_type": "markdown",
   "metadata": {
    "extensions": {
     "jupyter_dashboards": {
      "version": 1,
      "views": {
       "grid_default": {
        "col": 4,
        "height": 4,
        "hidden": true,
        "row": 0,
        "width": 4
       },
       "report_default": {}
      }
     }
    }
   },
   "source": [
    "## Load data"
   ]
  },
  {
   "cell_type": "code",
   "execution_count": 7,
   "metadata": {
    "collapsed": false
   },
   "outputs": [
    {
     "data": {
      "text/plain": [
       "cohort  group                                \n",
       "1       Scnn1a-Tg3-Cre; Camk2a-tTa; Ai93 (NC)    3\n",
       "        Rorb-IRES2-Cre; Camk2a-tTA; Ai93 (NC)    2\n",
       "        Sim1-Cre                                 1\n",
       "2       Rasgrf                                   2\n",
       "        Ai93                                     1\n",
       "        Gnb4                                     1\n",
       "        Rasgrf2                                  1\n",
       "        Sim1-Cre                                 1\n",
       "3       Rorb-IRES2-Cre; Camk2a-tTA; Ai93 (NC)    3\n",
       "        EMX-Cre-Ai35                             2\n",
       "        Scnn1a-Tg3-Cre; Camk2a-tTa; Ai93 (NC)    1\n",
       "4       EMX-Cre-Ai35                             3\n",
       "        Nr5a1                                    2\n",
       "        Emx-IRES-Cre;Ai95(NC)                    1\n",
       "5       Cux2-CreERT2                             1\n",
       "        Cux2-CreERT2; Camk2a-tTA;Ai93            1\n",
       "        EmX-IRES-Cre                             1\n",
       "        Nr5a1                                    1\n",
       "        Nr5a1-Cre                                1\n",
       "        Ntsr1-Cre                                1\n",
       "6       Rorb-IRES2-Cre; Camk2a-tTA; Ai93 (NC)    3\n",
       "        Ntsr1-Cre; Camk2a-tTa; Ai93 (NC)         2\n",
       "        nr5a1                                    1\n",
       "Name: group, dtype: int64"
      ]
     },
     "execution_count": 7,
     "metadata": {},
     "output_type": "execute_result"
    }
   ],
   "source": [
    "cohort_assignment.groupby('cohort')['group'].value_counts()"
   ]
  },
  {
   "cell_type": "code",
   "execution_count": 33,
   "metadata": {
    "collapsed": false
   },
   "outputs": [
    {
     "name": "stdout",
     "output_type": "stream",
     "text": [
      "copying 170210102845-task=DoC_NaturalImages_CAMMatched_TestImages_n=8_stage=Testing_mouse=M271733.pkl\n",
      "copying 170210102622-task=DoC_NaturalImages_CAMMatched_TestImages_n=8_stage=Testing_mouse=M276950.pkl\n",
      "copying 170210103300-task=DoC_NaturalImages_CAMMatched_TestImages_n=8_stage=Testing_mouse=M276600.pkl\n",
      "copying 170210102207-task=DoC_NaturalImages_CAMMatched_TestImages_n=8_stage=Testing_mouse=M271966.pkl\n",
      "copying 170210103036-task=DoC_NaturalImages_CAMMatched_TestImages_n=8_stage=Testing_mouse=M258194.pkl\n"
     ]
    }
   ],
   "source": [
    "from braintv_pilot import latest\n",
    "latest.copy_latest()"
   ]
  },
  {
   "cell_type": "code",
   "execution_count": null,
   "metadata": {
    "collapsed": false,
    "extensions": {
     "jupyter_dashboards": {
      "version": 1,
      "views": {
       "grid_default": {
        "hidden": true
       },
       "report_default": {}
      }
     }
    },
    "scrolled": true
   },
   "outputs": [],
   "source": [
    "from braintv_pilot.latest import local_dir\n",
    "trials = dro.load_from_folder(local_dir)"
   ]
  },
  {
   "cell_type": "code",
   "execution_count": null,
   "metadata": {
    "collapsed": false,
    "extensions": {
     "jupyter_dashboards": {
      "version": 1,
      "views": {
       "grid_default": {
        "hidden": true
       },
       "report_default": {}
      }
     }
    }
   },
   "outputs": [],
   "source": [
    "trials = trials.merge(\n",
    "    cohort_assignment,\n",
    "    how='left',\n",
    "    on='mouse_id',\n",
    ")"
   ]
  },
  {
   "cell_type": "code",
   "execution_count": null,
   "metadata": {
    "collapsed": false
   },
   "outputs": [],
   "source": [
    "day_zero = {r['mouse']:\"{:%Y-%m-%d}\".format(r['day_zero']) for _,r in cohort_assignment.iterrows()}"
   ]
  },
  {
   "cell_type": "code",
   "execution_count": null,
   "metadata": {
    "collapsed": false
   },
   "outputs": [],
   "source": [
    "day_zero"
   ]
  },
  {
   "cell_type": "code",
   "execution_count": null,
   "metadata": {
    "collapsed": false,
    "extensions": {
     "jupyter_dashboards": {
      "version": 1,
      "views": {
       "grid_default": {
        "hidden": true
       },
       "report_default": {}
      }
     }
    }
   },
   "outputs": [],
   "source": [
    "\n",
    "def get_training_day(df_in):\n",
    "    '''adds a column to the dataframe with the number of unique training days up to that point\n",
    "         '''\n",
    "    coh = cohort_assignment.set_index('mouse')['cohort']\n",
    "#     print coh\n",
    "\n",
    "    training_day_lookup = {}\n",
    "    for mouse, group in df_in.groupby('mouse_id'):\n",
    "        dates = np.sort(group['date'].unique())\n",
    "        try:\n",
    "            dz = day_zero[mouse]\n",
    "            offset = np.argwhere(dates==dz)[0][0]\n",
    "        except KeyError:\n",
    "            print 'day zero not found for {}'.format(mouse)\n",
    "            offset = 0\n",
    "        except IndexError:\n",
    "            print 'day zero ({}) not found in dates'.format(dz)\n",
    "            offset = 0\n",
    "        print offset\n",
    "        training_day_lookup[mouse] = {date:training_day-offset for training_day,date in enumerate(dates)}\n",
    "        print mouse,dates\n",
    "    return df_in.apply(lambda row: training_day_lookup[row['mouse_id']][row['date']],axis=1)\n",
    "\n",
    "trials['training_day'] = get_training_day(trials)\n",
    "\n",
    "#df['day_of_week'] = df.startdatetime.dt.weekday_name\n",
    "\n",
    "## build arrays for change detection\n",
    "\n",
    "# df['change'] = ~df['change_frame'].isnull()\n",
    "trials['change'] = trials['trial_type']=='go'\n",
    "trials['detect'] = trials['response']==1.0\n",
    "\n",
    "## calculate reaction times\n",
    "\n",
    "trials['reaction_time'] = trials['lick_times'].map(lambda x: x[0] if len(x)>0 else np.nan)\n",
    "trials['reaction_time'] = trials.apply(lambda row: row['reaction_time'] - row['change_time'],axis=1)\n",
    "\n",
    "## unwrap the response window\n",
    "trials['response_window_lower'] = trials['response_window'].map(lambda x: x[0])\n",
    "trials['response_window_upper'] = trials['response_window'].map(lambda x: x[1])\n"
   ]
  },
  {
   "cell_type": "code",
   "execution_count": null,
   "metadata": {
    "collapsed": false,
    "extensions": {
     "jupyter_dashboards": {
      "version": 1,
      "views": {
       "grid_default": {
        "hidden": true
       },
       "report_default": {}
      }
     }
    }
   },
   "outputs": [],
   "source": [
    "from behaviorist import metrics\n",
    "from sklearn.metrics import accuracy_score"
   ]
  },
  {
   "cell_type": "code",
   "execution_count": null,
   "metadata": {
    "collapsed": false
   },
   "outputs": [],
   "source": [
    "def peak_dprime(group):\n",
    "    mask = (group['trial_type']!='aborted')\n",
    "    _,_,dp = dro.get_response_rates(group[mask],sliding_window=mask.sum())\n",
    "    return np.nanmax(dp[int(len(dp)/3):])"
   ]
  },
  {
   "cell_type": "code",
   "execution_count": null,
   "metadata": {
    "collapsed": false,
    "extensions": {
     "jupyter_dashboards": {
      "version": 1,
      "views": {
       "grid_default": {
        "col": 0,
        "height": 10,
        "hidden": true,
        "row": 5,
        "width": 12
       },
       "report_default": {}
      }
     }
    }
   },
   "outputs": [],
   "source": [
    "def compute_metrics(group):\n",
    "    result = {\n",
    "        'accuracy': metrics.discrim(group,'change','detect',metric=accuracy_score),\n",
    "        'd-prime': metrics.discrim(group,'change','detect',metric=metrics.d_prime),\n",
    "        'd-prime_peak': peak_dprime(group),\n",
    "        'discrim_p': metrics.discrim(group,'change','detect',metric=metrics.discrim_p),\n",
    "        'response_bias': metrics.response_bias(group,'detect'),\n",
    "        'earned_water': metrics.earned_water(group), \n",
    "        'total_water': metrics.total_water(group), \n",
    "        'num_trials': metrics.num_trials(group),\n",
    "        'num_contingent_trials': metrics.num_contingent_trials(group),\n",
    "        'reaction_time_50th%ile': metrics.reaction_times(group,percentile=50),\n",
    "        'reaction_time_05th%ile': metrics.reaction_times(group,percentile=5),\n",
    "        'reaction_time_95th%ile': metrics.reaction_times(group,percentile=95),\n",
    "    }\n",
    "    \n",
    "    return pd.Series(result, name='metrics')\n",
    "\n",
    "water = trials.groupby(['cohort','mouse_id','training_day']).apply(compute_metrics).reset_index()\n",
    "water['frac_earned_water'] = water['earned_water'] / water['total_water']\n",
    "water['reaction_time_spread'] = water['reaction_time_95th%ile'] - water['reaction_time_05th%ile']\n",
    "water.head()"
   ]
  },
  {
   "cell_type": "code",
   "execution_count": null,
   "metadata": {
    "collapsed": false
   },
   "outputs": [],
   "source": [
    "sns.jointplot('d-prime','d-prime_peak',data=water)"
   ]
  },
  {
   "cell_type": "code",
   "execution_count": null,
   "metadata": {
    "collapsed": false
   },
   "outputs": [],
   "source": [
    "jp = sns.jointplot('reaction_time_50th%ile','d-prime',data=water,\n",
    "                   stat_func=None,\n",
    "             )\n",
    "jp.ax_joint.axhspan(-0.5,0.5,color='0.5',alpha=0.5,zorder=-2)\n",
    "jp.ax_joint.axhline(0.0,color='0.5',zorder=-1)\n",
    "\n",
    "plt.savefig('../figures/d_prime_by_reaction_time.pdf')\n",
    "\n",
    "jp = sns.jointplot('response_bias','d-prime',data=water,\n",
    "             )\n",
    "jp.ax_joint.axhspan(-1,1,color='0.5',alpha=0.5,zorder=-2)\n",
    "jp.ax_joint.axhline(0.0,color='0.5',zorder=-1)\n",
    "\n",
    "\n",
    "jp = sns.jointplot('accuracy','d-prime',data=water,\n",
    "             )\n",
    "jp.ax_joint.axhspan(-1,1,color='0.5',alpha=0.5,zorder=-2)\n",
    "jp.ax_joint.axhline(0.0,color='0.5',zorder=-1)"
   ]
  },
  {
   "cell_type": "code",
   "execution_count": null,
   "metadata": {
    "collapsed": false,
    "extensions": {
     "jupyter_dashboards": {
      "version": 1,
      "views": {
       "grid_default": {
        "hidden": true
       },
       "report_default": {}
      }
     }
    }
   },
   "outputs": [],
   "source": [
    "def stars(p,ns='n.s.',thresh=(0.1,0.05,0.01,0.001)):\n",
    "    '''Converts p-values into R-styled stars.\n",
    "    Signif. codes:\n",
    "        '***' :  < 0.001\n",
    "        '**' : < 0.01\n",
    "        '*' : < 0.05\n",
    "        '.' : < 0.1\n",
    "        'n.s.' : < 1.0\n",
    "    '''\n",
    "    lookup = (\n",
    "        (0.001, '***'),\n",
    "        (0.01, '**'),\n",
    "        (0.05, '*'),\n",
    "        (0.1, '.'),\n",
    "    )\n",
    "    for t,s in lookup:\n",
    "        if (t in thresh) and (p < t):\n",
    "            return s\n",
    "    return ns\n",
    "\n",
    "def plot_stars(p,x,y,ax,ns='n.s.',thresh=(0.1,0.05,0.01,0.001),size='large',horizontalalignment='center',**kwargs):\n",
    "    ''' Plots significance stars '''\n",
    "    ax.text(x,y,stars(p,ns,thresh),size=size,horizontalalignment=horizontalalignment,**kwargs)\n",
    "\n",
    "def plot_linestar(p,x1,x2,y,ax):\n",
    "    ax.hlines(y, x1, x2)\n",
    "    plot_stars(0.5*(x1+x2),y+0.02,stars(p),ax=ax,size='large',horizontalalignment='center')"
   ]
  },
  {
   "cell_type": "code",
   "execution_count": null,
   "metadata": {
    "collapsed": false,
    "extensions": {
     "jupyter_dashboards": {
      "version": 1,
      "views": {
       "grid_default": {
        "hidden": true
       },
       "report_default": {}
      }
     }
    }
   },
   "outputs": [],
   "source": [
    "class RisingEdge():\n",
    "    \"\"\"\n",
    "    This object implements a \"rising edge\" detector on a boolean array.\n",
    "    \n",
    "    It takes advantage of how pandas applies functions in order.\n",
    "    \n",
    "    For example, if the \"criteria\" column in the `df` dataframe consists of booleans indicating\n",
    "    whether the row meets a criterion, we can detect the first run of three rows above criterion\n",
    "    with the following\n",
    "    \n",
    "        first_run_of_three = (\n",
    "            df['criteria']\n",
    "            .rolling(center=False,window=3)\n",
    "            .apply(func=RisingEdge().check)\n",
    "            )\n",
    "    \n",
    "    ```\n",
    "    \n",
    "    \"\"\"\n",
    "    def __init__(self):\n",
    "        self.firstall = False\n",
    "    def check(self,arr):\n",
    "        if arr.all():\n",
    "            self.firstall = True\n",
    "        return self.firstall"
   ]
  },
  {
   "cell_type": "code",
   "execution_count": null,
   "metadata": {
    "collapsed": true
   },
   "outputs": [],
   "source": [
    "class RisingEdgeTwo():\n",
    "    \"\"\"\n",
    "    This object implements a \"rising edge\" detector on a boolean array.\n",
    "    \n",
    "    It takes advantage of how pandas applies functions in order.\n",
    "    \n",
    "    For example, if the \"criteria\" column in the `df` dataframe consists of booleans indicating\n",
    "    whether the row meets a criterion, we can detect the first run of three rows above criterion\n",
    "    with the following\n",
    "    \n",
    "        first_run_of_three = (\n",
    "            df['criteria']\n",
    "            .rolling(center=False,window=3)\n",
    "            .apply(func=RisingEdge().check)\n",
    "            )\n",
    "    \n",
    "    ```\n",
    "    \n",
    "    \"\"\"\n",
    "    def __init__(self):\n",
    "        self.firstall = False\n",
    "    def check(self,arr):\n",
    "        if arr.sum()>1:\n",
    "            self.firstall = True\n",
    "        return self.firstall"
   ]
  },
  {
   "cell_type": "code",
   "execution_count": null,
   "metadata": {
    "collapsed": true,
    "extensions": {
     "jupyter_dashboards": {
      "version": 1,
      "views": {
       "grid_default": {
        "hidden": true
       },
       "report_default": {}
      }
     }
    }
   },
   "outputs": [],
   "source": [
    "pdf = water\n",
    "pdf['d_prime'] = pdf['d-prime']\n",
    "pdf['d_prime_peak'] = pdf['d-prime_peak']\n",
    "pdf['stimulus_control'] = pdf['discrim_p'] < 0.01"
   ]
  },
  {
   "cell_type": "code",
   "execution_count": null,
   "metadata": {
    "collapsed": false,
    "extensions": {
     "jupyter_dashboards": {
      "version": 1,
      "views": {
       "grid_default": {
        "col": 8,
        "height": 11,
        "hidden": true,
        "row": 5,
        "width": 4
       },
       "report_default": {}
      }
     }
    }
   },
   "outputs": [],
   "source": [
    "\n",
    "num_tr_thresh = 20\n",
    "# dprime_thresh = 0.5\n",
    "\n",
    "\n",
    "# pdf['criteria'] = (\n",
    "#     pdf['stimulus_control']\n",
    "#     & (pdf['num_contingent_trials'] > num_tr_thresh)\n",
    "#     & (pdf['d_prime'] > dprime_thresh)\n",
    "# )\n",
    "\n",
    "pdf['criteria'] = (\n",
    "#     pdf['stimulus_control']\n",
    "    (pdf['num_contingent_trials'] > num_tr_thresh)\n",
    "    & (pdf['d_prime_peak'] > 2)\n",
    ")\n",
    "\n",
    "mask = pdf.num_trials > num_tr_thresh # ignore sessions with very few trials\n",
    "\n",
    "first = {}\n",
    "\n",
    "consecutive_sessions = 3\n",
    "\n",
    "for key, group in pdf[mask].set_index('training_day').sort_index().groupby(['cohort','mouse_id']):\n",
    "#     print group.head()\n",
    "    learned = (\n",
    "        group['criteria']\n",
    "        .rolling(center=False,window=consecutive_sessions)\n",
    "        .apply(func=RisingEdgeTwo().check)\n",
    "        )\n",
    "    summary = pd.DataFrame(\n",
    "        [learned.rename('learned'),\n",
    "         group['stimulus_control'],\n",
    "         group['d_prime'],\n",
    "         group['num_trials'],\n",
    "        ]).transpose()\n",
    "    \n",
    "    try:\n",
    "        first_session = summary['learned'][summary['learned']==1.0].index[0] +(1-consecutive_sessions)\n",
    "    except IndexError:\n",
    "        first_session = np.nan\n",
    "    \n",
    "    print key, first_session\n",
    "#     print summary.tail()\n",
    "    \n",
    "    first[key[1]]=first_session\n",
    "    \n",
    "def learned(row):\n",
    "    first_day = first[row['mouse_id']]\n",
    "    \n",
    "    if pd.isnull(first_day):\n",
    "        return False\n",
    "    else: \n",
    "        return (first_day <= row['training_day'])\n",
    "    \n",
    "pdf['learned'] = pdf.apply(learned,axis=1)"
   ]
  },
  {
   "cell_type": "code",
   "execution_count": null,
   "metadata": {
    "collapsed": false
   },
   "outputs": [],
   "source": [
    "# trials[trials.cohort=='Cohort 3'].groupby(['mouse_id'])['date'].min()"
   ]
  },
  {
   "cell_type": "code",
   "execution_count": null,
   "metadata": {
    "collapsed": false,
    "extensions": {
     "jupyter_dashboards": {
      "version": 1,
      "views": {
       "grid_default": {
        "col": 0,
        "height": 45,
        "hidden": false,
        "row": 38,
        "width": 12
       },
       "report_default": {}
      }
     }
    }
   },
   "outputs": [],
   "source": [
    "col_order = cohort_assignment.sort_values('cohort')['mouse_id']\n",
    "\n",
    "mask = (\n",
    "    (pdf.training_day >= 0)\n",
    "    & (pdf.training_day < 15)\n",
    "    )\n",
    "\n",
    "fp = sns.factorplot('training_day','d_prime_peak',data=pdf[mask],\n",
    "                    col='mouse_id',\n",
    "                    col_wrap=3,\n",
    "                    size=2,\n",
    "                    aspect=1.5,\n",
    "                    hue='cohort',\n",
    "                    col_order=col_order,\n",
    "              )\n",
    "\n",
    "yloc = -1.5\n",
    "\n",
    "for ax,mouse_id in zip(fp.axes.ravel(),col_order):\n",
    "    ax.axhline(0.0,color='0.5',zorder=-1)\n",
    "#     ax.axhspan(-dprime_thresh,dprime_thresh,color='0.5',alpha=0.5,zorder=-1)\n",
    "#     print mouse_id\n",
    "    for r,row in pdf[mask & (pdf['mouse_id']==mouse_id)].iterrows():\n",
    "        p, x = row['discrim_p'], row['training_day']\n",
    "        plot_stars(p,x,yloc,ax,ns='',thresh=(0.05,))\n",
    "    ax.axvline(first[mouse_id],color='r',zorder=-1)\n",
    "    \n",
    "sns.despine(bottom=True)\n",
    "# plt.xlim(0,8)\n",
    "\n",
    "\n",
    "plt.savefig('../figures/d_prime_by_training_day_individ.pdf')"
   ]
  },
  {
   "cell_type": "code",
   "execution_count": null,
   "metadata": {
    "collapsed": true
   },
   "outputs": [],
   "source": [
    "pdf['cohort'] = pdf['cohort'].map(int)"
   ]
  },
  {
   "cell_type": "code",
   "execution_count": null,
   "metadata": {
    "collapsed": false,
    "extensions": {
     "jupyter_dashboards": {
      "version": 1,
      "views": {
       "grid_default": {
        "col": 0,
        "height": 25,
        "hidden": false,
        "row": 13,
        "width": 12
       },
       "report_default": {}
      }
     }
    }
   },
   "outputs": [],
   "source": [
    "mask = (\n",
    "#     (pdf.num_trials > num_tr_thresh) # ignore sessions with very few trials\n",
    "#     & (pdf.training_day <= pdf.groupby('mouse_id')['training_day'].max().min())\n",
    "    (pdf.training_day >= 0)\n",
    "    & (pdf.training_day <= 15)\n",
    "    )\n",
    "\n",
    "fp = sns.factorplot('training_day','d_prime',data=pdf[mask],\n",
    "                    hue='mouse_id',\n",
    "                    col_wrap=3,\n",
    "                    size=3,\n",
    "#                     aspect=2,\n",
    "                    col='cohort',\n",
    "#                     col_order=col_order,\n",
    "              )\n",
    "\n",
    "for ax in fp.axes.flatten():\n",
    "    ax.axhline(0.0,color='0.7')\n",
    "    ax.axhspan(-0.5,0.5,color='0.5',alpha=0.5,zorder=-10)\n",
    "plt.ylim(-1,4)\n",
    "\n",
    "plt.savefig('../figures/d_prime_by_training_day.pdf')\n",
    "\n",
    "# fp = sns.factorplot('training_day','learned',data=pdf[mask],\n",
    "#                     hue='mouse_id',\n",
    "#                     col_wrap=3,\n",
    "#                     size=3,\n",
    "# #                     aspect=2,\n",
    "#                     col='cohort',\n",
    "# #                     col_order=col_order,\n",
    "#                     legend=False,\n",
    "#               )\n",
    "\n",
    "# fp = sns.factorplot('training_day','learned',data=pdf[mask],\n",
    "# #                     hue='mouse_id',\n",
    "#                     col_wrap=3,\n",
    "#                     size=3,\n",
    "# #                     aspect=2,\n",
    "#                     col='cohort',\n",
    "# #                     col_order=col_order,\n",
    "#                     legend=False,\n",
    "#               )"
   ]
  },
  {
   "cell_type": "code",
   "execution_count": null,
   "metadata": {
    "collapsed": false,
    "extensions": {
     "jupyter_dashboards": {
      "version": 1,
      "views": {
       "grid_default": {
        "col": 5,
        "height": 13,
        "hidden": false,
        "row": 0,
        "width": 7
       },
       "report_default": {}
      }
     }
    }
   },
   "outputs": [],
   "source": [
    "mask = (\n",
    "#     (pdf.num_trials > num_tr_thresh) # ignore sessions with very few trials\n",
    "#     & (pdf.training_day <= pdf.groupby('mouse_id')['training_day'].max().min())\n",
    "    (pdf.training_day >= 0)\n",
    "    & (pdf.training_day <= 19)\n",
    ")\n",
    "\n",
    "g = sns.factorplot('training_day','d_prime',data=pdf[mask],\n",
    "                    size=4,\n",
    "                    aspect=1.2,\n",
    "                    hue='cohort',\n",
    "                    kind='strip',  \n",
    "                    legend=True,\n",
    "                    alpha=0.5,\n",
    "                    palette='Dark2'\n",
    "              )\n",
    "\n",
    "g.map_dataframe(sns.pointplot,'training_day','d_prime',\n",
    "                hue='cohort',\n",
    "                palette='Dark2',\n",
    "                zorder=1000,\n",
    "                ci=None,\n",
    "                )\n",
    "g.set_axis_labels('Training Day', 'd\\'')\n",
    "g.fig.get_children()[-1].set_bbox_to_anchor((1.15, 0.5, 0, 0))\n",
    "# g.fig.get_children()[-1].set_title('')\n",
    "\n",
    "\n",
    "for ax in g.axes.ravel():\n",
    "    ax.axhline(0.0,color='0.5',zorder=-10)\n",
    "    ax.axhspan(-0.5,0.5,color='0.5',alpha=0.2,zorder=-10)\n",
    "\n",
    "plt.savefig('../figures/d_prime_by_training_day_cohort_means.pdf')"
   ]
  },
  {
   "cell_type": "code",
   "execution_count": null,
   "metadata": {
    "collapsed": false
   },
   "outputs": [],
   "source": [
    "mask = (\n",
    "#     (pdf.num_trials > num_tr_thresh) # ignore sessions with very few trials\n",
    "#     & (pdf.training_day <= pdf.groupby('mouse_id')['training_day'].max().min())\n",
    "    (pdf.training_day >= 0)\n",
    "    & (pdf.training_day <= 15)\n",
    "    & pdf.cohort.isin((3,4))\n",
    "    )\n",
    "\n",
    "fp = sns.factorplot('training_day','d_prime',data=pdf[mask],\n",
    "                    hue='mouse_id',\n",
    "#                     col_wrap=3,\n",
    "                    size=3,\n",
    "#                     aspect=2,\n",
    "                    col='cohort',\n",
    "                    palette='coolwarm',\n",
    "#                     col_order=col_order,\n",
    "              )\n",
    "\n",
    "for ax in fp.axes.flatten():\n",
    "    ax.axhline(0.0,color='0.2',zorder=-1)\n",
    "    ax.axhspan(-0.5,0.5,color='0.5',alpha=0.2,zorder=-10)\n",
    "plt.ylim(-1,4)\n",
    "fp.set_axis_labels('Training Day','d\\'')\n",
    "\n",
    "plt.savefig('../figures/d_prime_by_training_day_cohorts3and4.pdf')"
   ]
  },
  {
   "cell_type": "code",
   "execution_count": null,
   "metadata": {
    "collapsed": false
   },
   "outputs": [],
   "source": [
    "mask = (\n",
    "#     (pdf.num_trials > num_tr_thresh) # ignore sessions with very few trials\n",
    "#     & (pdf.training_day <= pdf.groupby('mouse_id')['training_day'].max().min())\n",
    "    (pdf.training_day >= 0)\n",
    "    & (pdf.training_day <= 15)\n",
    ")\n",
    "\n",
    "g = sns.factorplot('training_day','learned',data=pdf[mask],\n",
    "                   size=3,\n",
    "                   aspect=2,\n",
    "                   hue='cohort',\n",
    "                   ci=False,  \n",
    "                   legend=True,\n",
    "                   palette='Dark2'\n",
    "              )\n",
    "\n",
    "g.set_axis_labels('Training Day','Fraction Learned')\n",
    "plt.ylim(-0.1,1.1)\n",
    "sns.despine(trim=True)\n",
    "\n",
    "# g.map_dataframe(sns.pointplot,'training_day','d_prime',\n",
    "#                 hue='cohort',\n",
    "#                 palette='Dark2',\n",
    "#                 zorder=1000,\n",
    "#                 ci=None,\n",
    "#                 )\n",
    "# g.set_axis_labels('Training Day', 'd\\'')\n",
    "# g.fig.get_children()[-1].set_bbox_to_anchor((1.15, 0.5, 0, 0))\n",
    "# # g.fig.get_children()[-1].set_title('')\n",
    "\n",
    "\n",
    "# for ax in g.axes.ravel():\n",
    "#     ax.axhline(0.0,color='0.5',zorder=-10)\n",
    "#     ax.axhspan(-0.5,0.5,color='0.5',alpha=0.2,zorder=-10)\n",
    "\n",
    "plt.savefig('../figures/cohort_survival.pdf')"
   ]
  },
  {
   "cell_type": "code",
   "execution_count": null,
   "metadata": {
    "collapsed": false
   },
   "outputs": [],
   "source": [
    "trials[trials.trial_type=='catch'][['trial_type','reward_volume']].head(30)"
   ]
  },
  {
   "cell_type": "code",
   "execution_count": null,
   "metadata": {
    "collapsed": false
   },
   "outputs": [],
   "source": [
    "trials.columns"
   ]
  }
 ],
 "metadata": {
  "anaconda-cloud": {},
  "extensions": {
   "jupyter_dashboards": {
    "activeView": "grid_default",
    "version": 1,
    "views": {
     "grid_default": {
      "cellMargin": 10,
      "defaultCellHeight": 20,
      "maxColumns": 12,
      "name": "grid",
      "type": "grid"
     },
     "report_default": {
      "name": "report",
      "type": "report"
     }
    }
   }
  },
  "kernelspec": {
   "display_name": "Python [conda env:braintv_behav]",
   "language": "python",
   "name": "conda-env-braintv_behav-py"
  },
  "language_info": {
   "codemirror_mode": {
    "name": "ipython",
    "version": 2
   },
   "file_extension": ".py",
   "mimetype": "text/x-python",
   "name": "python",
   "nbconvert_exporter": "python",
   "pygments_lexer": "ipython2",
   "version": "2.7.13"
  }
 },
 "nbformat": 4,
 "nbformat_minor": 0
}
