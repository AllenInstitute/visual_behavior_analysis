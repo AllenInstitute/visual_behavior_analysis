{
 "cells": [
  {
   "cell_type": "markdown",
   "metadata": {},
   "source": [
    "The purpose of this notebook is to demonstrate how to load data for platform paper analysis using the SDK and VBA functions"
   ]
  },
  {
   "cell_type": "code",
   "execution_count": 1,
   "metadata": {},
   "outputs": [],
   "source": [
    "import os\n",
    "import numpy as np\n",
    "import pandas as pd\n",
    "import matplotlib.pyplot as plt\n",
    "\n",
    "import seaborn as sns\n",
    "sns.set_context('notebook', font_scale=1.5, rc={'lines.markeredgewidth': 2})"
   ]
  },
  {
   "cell_type": "code",
   "execution_count": 2,
   "metadata": {},
   "outputs": [],
   "source": [
    "%load_ext autoreload\n",
    "%autoreload 2\n",
    "\n",
    "%matplotlib inline"
   ]
  },
  {
   "cell_type": "code",
   "execution_count": 3,
   "metadata": {},
   "outputs": [],
   "source": [
    "import visual_behavior.data_access.loading as loading "
   ]
  },
  {
   "cell_type": "markdown",
   "metadata": {},
   "source": [
    "### Get `VisualBehaviorOphysProjectCache` using a `cache_dir` containing NWB files downloaded from AWS"
   ]
  },
  {
   "cell_type": "code",
   "execution_count": 4,
   "metadata": {},
   "outputs": [],
   "source": [
    "from allensdk.brain_observatory.behavior.behavior_project_cache import VisualBehaviorOphysProjectCache"
   ]
  },
  {
   "cell_type": "markdown",
   "metadata": {},
   "source": [
    "#### This cache directory contains the final manifest and NWB files downloaded from AWS"
   ]
  },
  {
   "cell_type": "code",
   "execution_count": 5,
   "metadata": {},
   "outputs": [
    {
     "name": "stdout",
     "output_type": "stream",
     "text": [
      "//allen/programs/braintv/workgroups/nc-ophys/visual_behavior/platform_paper_cache\n"
     ]
    }
   ],
   "source": [
    "cache_dir = loading.get_platform_analysis_cache_dir()\n",
    "print(cache_dir)"
   ]
  },
  {
   "cell_type": "markdown",
   "metadata": {},
   "source": [
    "#### create a cache object using this cache_dir"
   ]
  },
  {
   "cell_type": "code",
   "execution_count": 6,
   "metadata": {},
   "outputs": [],
   "source": [
    "cache = VisualBehaviorOphysProjectCache.from_s3_cache(cache_dir=cache_dir)"
   ]
  },
  {
   "cell_type": "markdown",
   "metadata": {},
   "source": [
    "## Load the `ophys_experiment_table` from the cache"
   ]
  },
  {
   "cell_type": "markdown",
   "metadata": {},
   "source": [
    "This table includes ALL released data"
   ]
  },
  {
   "cell_type": "code",
   "execution_count": 7,
   "metadata": {},
   "outputs": [],
   "source": [
    "experiments_table = cache.get_ophys_experiment_table()"
   ]
  },
  {
   "cell_type": "code",
   "execution_count": 8,
   "metadata": {},
   "outputs": [
    {
     "data": {
      "text/plain": [
       "1941"
      ]
     },
     "execution_count": 8,
     "metadata": {},
     "output_type": "execute_result"
    }
   ],
   "source": [
    "len(experiments_table)"
   ]
  },
  {
   "cell_type": "markdown",
   "metadata": {},
   "source": [
    "#### Remove VisualBehaviorMultiscope4areasx2d and Ai94 (GCaMP6s) data"
   ]
  },
  {
   "cell_type": "markdown",
   "metadata": {},
   "source": [
    "These experiments should not be included in the platform paper analysis"
   ]
  },
  {
   "cell_type": "code",
   "execution_count": 9,
   "metadata": {},
   "outputs": [],
   "source": [
    "# remove 4x2 and Ai94 data\n",
    "experiments_table = experiments_table[(experiments_table.project_code!='VisualBehaviorMultiscope4areasx2d')&\n",
    "                                     (experiments_table.reporter_line!='Ai94(TITL-GCaMP6s)')]"
   ]
  },
  {
   "cell_type": "code",
   "execution_count": 10,
   "metadata": {},
   "outputs": [
    {
     "data": {
      "text/plain": [
       "1249"
      ]
     },
     "execution_count": 10,
     "metadata": {},
     "output_type": "execute_result"
    }
   ],
   "source": [
    "len(experiments_table)"
   ]
  },
  {
   "cell_type": "markdown",
   "metadata": {},
   "source": [
    "#### Add useful columns for analysis"
   ]
  },
  {
   "cell_type": "code",
   "execution_count": 11,
   "metadata": {},
   "outputs": [],
   "source": [
    "import visual_behavior.data_access.utilities as utilities"
   ]
  },
  {
   "cell_type": "code",
   "execution_count": 12,
   "metadata": {},
   "outputs": [
    {
     "name": "stderr",
     "output_type": "stream",
     "text": [
      "C:\\Users\\marinag\\AppData\\Roaming\\Python\\Python37\\site-packages\\pandas\\core\\indexing.py:376: SettingWithCopyWarning: \n",
      "A value is trying to be set on a copy of a slice from a DataFrame.\n",
      "Try using .loc[row_indexer,col_indexer] = value instead\n",
      "\n",
      "See the caveats in the documentation: http://pandas.pydata.org/pandas-docs/stable/user_guide/indexing.html#returning-a-view-versus-a-copy\n",
      "  self.obj[key] = _infer_fill_value(value)\n",
      "C:\\Users\\marinag\\AppData\\Roaming\\Python\\Python37\\site-packages\\pandas\\core\\indexing.py:494: SettingWithCopyWarning: \n",
      "A value is trying to be set on a copy of a slice from a DataFrame.\n",
      "Try using .loc[row_indexer,col_indexer] = value instead\n",
      "\n",
      "See the caveats in the documentation: http://pandas.pydata.org/pandas-docs/stable/user_guide/indexing.html#returning-a-view-versus-a-copy\n",
      "  self.obj[item] = s\n"
     ]
    },
    {
     "data": {
      "text/plain": [
       "array(['Sst Inhibitory', 'Vip Inhibitory', 'Excitatory'], dtype=object)"
      ]
     },
     "execution_count": 12,
     "metadata": {},
     "output_type": "execute_result"
    }
   ],
   "source": [
    "experiments_table = utilities.add_cell_type_column(experiments_table)\n",
    "experiments_table.cell_type.unique()"
   ]
  },
  {
   "cell_type": "markdown",
   "metadata": {},
   "source": [
    "### Load experiments table using VBA"
   ]
  },
  {
   "cell_type": "markdown",
   "metadata": {},
   "source": [
    "This function does the same thing as the code above. It will return only the experiments we want to analyze for the platform paper, and adds extra useful columns like `cell_type`, `n_relative_to_first_novel` or `last_familiar`. "
   ]
  },
  {
   "cell_type": "code",
   "execution_count": 13,
   "metadata": {},
   "outputs": [
    {
     "data": {
      "text/plain": [
       "1249"
      ]
     },
     "execution_count": 13,
     "metadata": {},
     "output_type": "execute_result"
    }
   ],
   "source": [
    "experiments_table = loading.get_platform_paper_experiment_table()\n",
    "len(experiments_table)"
   ]
  },
  {
   "cell_type": "code",
   "execution_count": 14,
   "metadata": {},
   "outputs": [
    {
     "data": {
      "text/plain": [
       "array(['Excitatory', 'Vip Inhibitory', 'Sst Inhibitory'], dtype=object)"
      ]
     },
     "execution_count": 14,
     "metadata": {},
     "output_type": "execute_result"
    }
   ],
   "source": [
    "experiments_table.cell_type.unique()"
   ]
  },
  {
   "cell_type": "code",
   "execution_count": 15,
   "metadata": {},
   "outputs": [
    {
     "data": {
      "text/plain": [
       "Index(['cell_type', 'depth', 'first_novel', 'n_relative_to_first_novel',\n",
       "       'last_familiar', 'last_familiar_active', 'second_novel',\n",
       "       'second_novel_active', 'experience_exposure'],\n",
       "      dtype='object')"
      ]
     },
     "execution_count": 15,
     "metadata": {},
     "output_type": "execute_result"
    }
   ],
   "source": [
    "# this table also includes several additional columns for filtering sessions based on their experience level and relationship to the first novel session\n",
    "experiments_table.keys()[-9:]"
   ]
  },
  {
   "cell_type": "markdown",
   "metadata": {},
   "source": [
    "Use `loading.get_filtered_ophys_experiment_table(`) if you want to load data from lims, and/or get a broader set of experiments. For example, if you want to include failed experiments in addition to passed experiments. "
   ]
  },
  {
   "cell_type": "markdown",
   "metadata": {},
   "source": [
    "#### Check what project_codes are included"
   ]
  },
  {
   "cell_type": "code",
   "execution_count": 16,
   "metadata": {},
   "outputs": [
    {
     "data": {
      "text/plain": [
       "array(['VisualBehavior', 'VisualBehaviorTask1B',\n",
       "       'VisualBehaviorMultiscope'], dtype=object)"
      ]
     },
     "execution_count": 16,
     "metadata": {},
     "output_type": "execute_result"
    }
   ],
   "source": [
    "experiments_table.project_code.unique()"
   ]
  },
  {
   "cell_type": "markdown",
   "metadata": {},
   "source": [
    "#### This means there is a mix of data from mice trained on A and mice trained on B"
   ]
  },
  {
   "cell_type": "markdown",
   "metadata": {},
   "source": [
    "This is justified because we see that novelty effects are observed regardless of which image set was used for training"
   ]
  },
  {
   "cell_type": "markdown",
   "metadata": {},
   "source": [
    "## Load a `behavior_ophys_experiment` (aka the dataset object) \n",
    "\n"
   ]
  },
  {
   "cell_type": "markdown",
   "metadata": {},
   "source": [
    "### Using SDK directly"
   ]
  },
  {
   "cell_type": "code",
   "execution_count": 17,
   "metadata": {},
   "outputs": [],
   "source": [
    "from allensdk.brain_observatory.behavior.behavior_project_cache import VisualBehaviorOphysProjectCache\n",
    "\n",
    "cache_dir = loading.get_platform_analysis_cache_dir()\n",
    "cache = VisualBehaviorOphysProjectCache.from_s3_cache(cache_dir=cache_dir)\n",
    "\n",
    "experiments_table = cache.get_ophys_experiment_table()"
   ]
  },
  {
   "cell_type": "code",
   "execution_count": 18,
   "metadata": {},
   "outputs": [],
   "source": [
    "experiment_id = experiments_table.index.values[0]"
   ]
  },
  {
   "cell_type": "code",
   "execution_count": 19,
   "metadata": {},
   "outputs": [],
   "source": [
    "dataset = cache.get_behavior_ophys_experiment(experiment_id)"
   ]
  },
  {
   "cell_type": "code",
   "execution_count": 20,
   "metadata": {},
   "outputs": [
    {
     "data": {
      "text/html": [
       "<div>\n",
       "<style scoped>\n",
       "    .dataframe tbody tr th:only-of-type {\n",
       "        vertical-align: middle;\n",
       "    }\n",
       "\n",
       "    .dataframe tbody tr th {\n",
       "        vertical-align: top;\n",
       "    }\n",
       "\n",
       "    .dataframe thead th {\n",
       "        text-align: right;\n",
       "    }\n",
       "</style>\n",
       "<table border=\"1\" class=\"dataframe\">\n",
       "  <thead>\n",
       "    <tr style=\"text-align: right;\">\n",
       "      <th></th>\n",
       "      <th>start_time</th>\n",
       "      <th>stop_time</th>\n",
       "      <th>duration</th>\n",
       "      <th>image_name</th>\n",
       "      <th>image_index</th>\n",
       "      <th>is_change</th>\n",
       "      <th>omitted</th>\n",
       "      <th>start_frame</th>\n",
       "      <th>end_frame</th>\n",
       "      <th>image_set</th>\n",
       "    </tr>\n",
       "    <tr>\n",
       "      <th>stimulus_presentations_id</th>\n",
       "      <th></th>\n",
       "      <th></th>\n",
       "      <th></th>\n",
       "      <th></th>\n",
       "      <th></th>\n",
       "      <th></th>\n",
       "      <th></th>\n",
       "      <th></th>\n",
       "      <th></th>\n",
       "      <th></th>\n",
       "    </tr>\n",
       "  </thead>\n",
       "  <tbody>\n",
       "    <tr>\n",
       "      <td>0</td>\n",
       "      <td>309.27537</td>\n",
       "      <td>309.52557</td>\n",
       "      <td>0.25020</td>\n",
       "      <td>im065</td>\n",
       "      <td>0</td>\n",
       "      <td>False</td>\n",
       "      <td>False</td>\n",
       "      <td>17986</td>\n",
       "      <td>18001.0</td>\n",
       "      <td>Natural_Images_Lum_Matched_set_training_2017.0...</td>\n",
       "    </tr>\n",
       "    <tr>\n",
       "      <td>1</td>\n",
       "      <td>310.02598</td>\n",
       "      <td>310.27619</td>\n",
       "      <td>0.25021</td>\n",
       "      <td>im065</td>\n",
       "      <td>0</td>\n",
       "      <td>False</td>\n",
       "      <td>False</td>\n",
       "      <td>18031</td>\n",
       "      <td>18046.0</td>\n",
       "      <td>Natural_Images_Lum_Matched_set_training_2017.0...</td>\n",
       "    </tr>\n",
       "    <tr>\n",
       "      <td>2</td>\n",
       "      <td>310.77660</td>\n",
       "      <td>311.02680</td>\n",
       "      <td>0.25020</td>\n",
       "      <td>im065</td>\n",
       "      <td>0</td>\n",
       "      <td>False</td>\n",
       "      <td>False</td>\n",
       "      <td>18076</td>\n",
       "      <td>18091.0</td>\n",
       "      <td>Natural_Images_Lum_Matched_set_training_2017.0...</td>\n",
       "    </tr>\n",
       "    <tr>\n",
       "      <td>3</td>\n",
       "      <td>311.52721</td>\n",
       "      <td>311.77740</td>\n",
       "      <td>0.25019</td>\n",
       "      <td>im065</td>\n",
       "      <td>0</td>\n",
       "      <td>False</td>\n",
       "      <td>False</td>\n",
       "      <td>18121</td>\n",
       "      <td>18136.0</td>\n",
       "      <td>Natural_Images_Lum_Matched_set_training_2017.0...</td>\n",
       "    </tr>\n",
       "    <tr>\n",
       "      <td>4</td>\n",
       "      <td>312.27782</td>\n",
       "      <td>312.52806</td>\n",
       "      <td>0.25024</td>\n",
       "      <td>im065</td>\n",
       "      <td>0</td>\n",
       "      <td>False</td>\n",
       "      <td>False</td>\n",
       "      <td>18166</td>\n",
       "      <td>18181.0</td>\n",
       "      <td>Natural_Images_Lum_Matched_set_training_2017.0...</td>\n",
       "    </tr>\n",
       "    <tr>\n",
       "      <td>...</td>\n",
       "      <td>...</td>\n",
       "      <td>...</td>\n",
       "      <td>...</td>\n",
       "      <td>...</td>\n",
       "      <td>...</td>\n",
       "      <td>...</td>\n",
       "      <td>...</td>\n",
       "      <td>...</td>\n",
       "      <td>...</td>\n",
       "      <td>...</td>\n",
       "    </tr>\n",
       "    <tr>\n",
       "      <td>4796</td>\n",
       "      <td>3909.81737</td>\n",
       "      <td>3910.06757</td>\n",
       "      <td>0.25020</td>\n",
       "      <td>im065</td>\n",
       "      <td>0</td>\n",
       "      <td>False</td>\n",
       "      <td>False</td>\n",
       "      <td>233842</td>\n",
       "      <td>233857.0</td>\n",
       "      <td>Natural_Images_Lum_Matched_set_training_2017.0...</td>\n",
       "    </tr>\n",
       "    <tr>\n",
       "      <td>4797</td>\n",
       "      <td>3910.56798</td>\n",
       "      <td>3910.81819</td>\n",
       "      <td>0.25021</td>\n",
       "      <td>im065</td>\n",
       "      <td>0</td>\n",
       "      <td>False</td>\n",
       "      <td>False</td>\n",
       "      <td>233887</td>\n",
       "      <td>233902.0</td>\n",
       "      <td>Natural_Images_Lum_Matched_set_training_2017.0...</td>\n",
       "    </tr>\n",
       "    <tr>\n",
       "      <td>4798</td>\n",
       "      <td>3911.31860</td>\n",
       "      <td>3911.56880</td>\n",
       "      <td>0.25020</td>\n",
       "      <td>im065</td>\n",
       "      <td>0</td>\n",
       "      <td>False</td>\n",
       "      <td>False</td>\n",
       "      <td>233932</td>\n",
       "      <td>233947.0</td>\n",
       "      <td>Natural_Images_Lum_Matched_set_training_2017.0...</td>\n",
       "    </tr>\n",
       "    <tr>\n",
       "      <td>4799</td>\n",
       "      <td>3912.06921</td>\n",
       "      <td>3912.31939</td>\n",
       "      <td>0.25018</td>\n",
       "      <td>im065</td>\n",
       "      <td>0</td>\n",
       "      <td>False</td>\n",
       "      <td>False</td>\n",
       "      <td>233977</td>\n",
       "      <td>233992.0</td>\n",
       "      <td>Natural_Images_Lum_Matched_set_training_2017.0...</td>\n",
       "    </tr>\n",
       "    <tr>\n",
       "      <td>4800</td>\n",
       "      <td>3912.81980</td>\n",
       "      <td>3913.07002</td>\n",
       "      <td>0.25022</td>\n",
       "      <td>im065</td>\n",
       "      <td>0</td>\n",
       "      <td>False</td>\n",
       "      <td>False</td>\n",
       "      <td>234022</td>\n",
       "      <td>234037.0</td>\n",
       "      <td>Natural_Images_Lum_Matched_set_training_2017.0...</td>\n",
       "    </tr>\n",
       "  </tbody>\n",
       "</table>\n",
       "<p>4801 rows × 10 columns</p>\n",
       "</div>"
      ],
      "text/plain": [
       "                           start_time   stop_time  duration image_name  \\\n",
       "stimulus_presentations_id                                                \n",
       "0                           309.27537   309.52557   0.25020      im065   \n",
       "1                           310.02598   310.27619   0.25021      im065   \n",
       "2                           310.77660   311.02680   0.25020      im065   \n",
       "3                           311.52721   311.77740   0.25019      im065   \n",
       "4                           312.27782   312.52806   0.25024      im065   \n",
       "...                               ...         ...       ...        ...   \n",
       "4796                       3909.81737  3910.06757   0.25020      im065   \n",
       "4797                       3910.56798  3910.81819   0.25021      im065   \n",
       "4798                       3911.31860  3911.56880   0.25020      im065   \n",
       "4799                       3912.06921  3912.31939   0.25018      im065   \n",
       "4800                       3912.81980  3913.07002   0.25022      im065   \n",
       "\n",
       "                           image_index  is_change  omitted  start_frame  \\\n",
       "stimulus_presentations_id                                                 \n",
       "0                                    0      False    False        17986   \n",
       "1                                    0      False    False        18031   \n",
       "2                                    0      False    False        18076   \n",
       "3                                    0      False    False        18121   \n",
       "4                                    0      False    False        18166   \n",
       "...                                ...        ...      ...          ...   \n",
       "4796                                 0      False    False       233842   \n",
       "4797                                 0      False    False       233887   \n",
       "4798                                 0      False    False       233932   \n",
       "4799                                 0      False    False       233977   \n",
       "4800                                 0      False    False       234022   \n",
       "\n",
       "                           end_frame  \\\n",
       "stimulus_presentations_id              \n",
       "0                            18001.0   \n",
       "1                            18046.0   \n",
       "2                            18091.0   \n",
       "3                            18136.0   \n",
       "4                            18181.0   \n",
       "...                              ...   \n",
       "4796                        233857.0   \n",
       "4797                        233902.0   \n",
       "4798                        233947.0   \n",
       "4799                        233992.0   \n",
       "4800                        234037.0   \n",
       "\n",
       "                                                                   image_set  \n",
       "stimulus_presentations_id                                                     \n",
       "0                          Natural_Images_Lum_Matched_set_training_2017.0...  \n",
       "1                          Natural_Images_Lum_Matched_set_training_2017.0...  \n",
       "2                          Natural_Images_Lum_Matched_set_training_2017.0...  \n",
       "3                          Natural_Images_Lum_Matched_set_training_2017.0...  \n",
       "4                          Natural_Images_Lum_Matched_set_training_2017.0...  \n",
       "...                                                                      ...  \n",
       "4796                       Natural_Images_Lum_Matched_set_training_2017.0...  \n",
       "4797                       Natural_Images_Lum_Matched_set_training_2017.0...  \n",
       "4798                       Natural_Images_Lum_Matched_set_training_2017.0...  \n",
       "4799                       Natural_Images_Lum_Matched_set_training_2017.0...  \n",
       "4800                       Natural_Images_Lum_Matched_set_training_2017.0...  \n",
       "\n",
       "[4801 rows x 10 columns]"
      ]
     },
     "execution_count": 20,
     "metadata": {},
     "output_type": "execute_result"
    }
   ],
   "source": [
    "dataset.stimulus_presentations"
   ]
  },
  {
   "cell_type": "markdown",
   "metadata": {},
   "source": [
    "### Using VBA"
   ]
  },
  {
   "cell_type": "markdown",
   "metadata": {},
   "source": [
    "This function loads the dataset from NWB files using the SDK method shown above, then adds `extended_stimulus_presentations` and `behavior_movie_timestamps`. This is the default behavior of this function. See documentation for alternate parameter settings such as `load_from_lims`. If you do not need `extended_stimulus_presentations`, you can set `get_extended_stimulus_presentations` to False, which will speed up loading of the dataset. "
   ]
  },
  {
   "cell_type": "code",
   "execution_count": 21,
   "metadata": {},
   "outputs": [],
   "source": [
    "import visual_behavior.data_access.loading as loading"
   ]
  },
  {
   "cell_type": "code",
   "execution_count": 22,
   "metadata": {},
   "outputs": [],
   "source": [
    "dataset = loading.get_ophys_dataset(experiment_id)"
   ]
  },
  {
   "cell_type": "code",
   "execution_count": 23,
   "metadata": {},
   "outputs": [
    {
     "data": {
      "text/html": [
       "<div>\n",
       "<style scoped>\n",
       "    .dataframe tbody tr th:only-of-type {\n",
       "        vertical-align: middle;\n",
       "    }\n",
       "\n",
       "    .dataframe tbody tr th {\n",
       "        vertical-align: top;\n",
       "    }\n",
       "\n",
       "    .dataframe thead th {\n",
       "        text-align: right;\n",
       "    }\n",
       "</style>\n",
       "<table border=\"1\" class=\"dataframe\">\n",
       "  <thead>\n",
       "    <tr style=\"text-align: right;\">\n",
       "      <th></th>\n",
       "      <th>start_time</th>\n",
       "      <th>stop_time</th>\n",
       "      <th>duration</th>\n",
       "      <th>image_name</th>\n",
       "      <th>image_index</th>\n",
       "      <th>is_change</th>\n",
       "      <th>omitted</th>\n",
       "      <th>start_frame</th>\n",
       "      <th>end_frame</th>\n",
       "      <th>image_set</th>\n",
       "      <th>...</th>\n",
       "      <th>flash_after_omitted</th>\n",
       "      <th>flash_after_change</th>\n",
       "      <th>image_name_next_flash</th>\n",
       "      <th>image_index_next_flash</th>\n",
       "      <th>image_name_previous_flash</th>\n",
       "      <th>image_index_previous_flash</th>\n",
       "      <th>lick_on_next_flash</th>\n",
       "      <th>lick_rate_next_flash</th>\n",
       "      <th>lick_on_previous_flash</th>\n",
       "      <th>lick_rate_previous_flash</th>\n",
       "    </tr>\n",
       "    <tr>\n",
       "      <th>stimulus_presentations_id</th>\n",
       "      <th></th>\n",
       "      <th></th>\n",
       "      <th></th>\n",
       "      <th></th>\n",
       "      <th></th>\n",
       "      <th></th>\n",
       "      <th></th>\n",
       "      <th></th>\n",
       "      <th></th>\n",
       "      <th></th>\n",
       "      <th></th>\n",
       "      <th></th>\n",
       "      <th></th>\n",
       "      <th></th>\n",
       "      <th></th>\n",
       "      <th></th>\n",
       "      <th></th>\n",
       "      <th></th>\n",
       "      <th></th>\n",
       "      <th></th>\n",
       "      <th></th>\n",
       "    </tr>\n",
       "  </thead>\n",
       "  <tbody>\n",
       "    <tr>\n",
       "      <td>0</td>\n",
       "      <td>309.27537</td>\n",
       "      <td>309.52557</td>\n",
       "      <td>0.25020</td>\n",
       "      <td>im065</td>\n",
       "      <td>0</td>\n",
       "      <td>False</td>\n",
       "      <td>False</td>\n",
       "      <td>17986</td>\n",
       "      <td>18001.0</td>\n",
       "      <td>Natural_Images_Lum_Matched_set_training_2017.0...</td>\n",
       "      <td>...</td>\n",
       "      <td>NaN</td>\n",
       "      <td>NaN</td>\n",
       "      <td>im065</td>\n",
       "      <td>0.0</td>\n",
       "      <td>NaN</td>\n",
       "      <td>NaN</td>\n",
       "      <td>False</td>\n",
       "      <td>0.000000</td>\n",
       "      <td>NaN</td>\n",
       "      <td>NaN</td>\n",
       "    </tr>\n",
       "    <tr>\n",
       "      <td>1</td>\n",
       "      <td>310.02598</td>\n",
       "      <td>310.27619</td>\n",
       "      <td>0.25021</td>\n",
       "      <td>im065</td>\n",
       "      <td>0</td>\n",
       "      <td>False</td>\n",
       "      <td>False</td>\n",
       "      <td>18031</td>\n",
       "      <td>18046.0</td>\n",
       "      <td>Natural_Images_Lum_Matched_set_training_2017.0...</td>\n",
       "      <td>...</td>\n",
       "      <td>False</td>\n",
       "      <td>False</td>\n",
       "      <td>im065</td>\n",
       "      <td>0.0</td>\n",
       "      <td>im065</td>\n",
       "      <td>0.0</td>\n",
       "      <td>True</td>\n",
       "      <td>0.148148</td>\n",
       "      <td>False</td>\n",
       "      <td>0.000000</td>\n",
       "    </tr>\n",
       "    <tr>\n",
       "      <td>2</td>\n",
       "      <td>310.77660</td>\n",
       "      <td>311.02680</td>\n",
       "      <td>0.25020</td>\n",
       "      <td>im065</td>\n",
       "      <td>0</td>\n",
       "      <td>False</td>\n",
       "      <td>False</td>\n",
       "      <td>18076</td>\n",
       "      <td>18091.0</td>\n",
       "      <td>Natural_Images_Lum_Matched_set_training_2017.0...</td>\n",
       "      <td>...</td>\n",
       "      <td>False</td>\n",
       "      <td>False</td>\n",
       "      <td>im065</td>\n",
       "      <td>0.0</td>\n",
       "      <td>im065</td>\n",
       "      <td>0.0</td>\n",
       "      <td>False</td>\n",
       "      <td>0.250000</td>\n",
       "      <td>False</td>\n",
       "      <td>0.000000</td>\n",
       "    </tr>\n",
       "    <tr>\n",
       "      <td>3</td>\n",
       "      <td>311.52721</td>\n",
       "      <td>311.77740</td>\n",
       "      <td>0.25019</td>\n",
       "      <td>im065</td>\n",
       "      <td>0</td>\n",
       "      <td>False</td>\n",
       "      <td>False</td>\n",
       "      <td>18121</td>\n",
       "      <td>18136.0</td>\n",
       "      <td>Natural_Images_Lum_Matched_set_training_2017.0...</td>\n",
       "      <td>...</td>\n",
       "      <td>False</td>\n",
       "      <td>False</td>\n",
       "      <td>im065</td>\n",
       "      <td>0.0</td>\n",
       "      <td>im065</td>\n",
       "      <td>0.0</td>\n",
       "      <td>False</td>\n",
       "      <td>0.266667</td>\n",
       "      <td>True</td>\n",
       "      <td>0.148148</td>\n",
       "    </tr>\n",
       "    <tr>\n",
       "      <td>4</td>\n",
       "      <td>312.27782</td>\n",
       "      <td>312.52806</td>\n",
       "      <td>0.25024</td>\n",
       "      <td>im065</td>\n",
       "      <td>0</td>\n",
       "      <td>False</td>\n",
       "      <td>False</td>\n",
       "      <td>18166</td>\n",
       "      <td>18181.0</td>\n",
       "      <td>Natural_Images_Lum_Matched_set_training_2017.0...</td>\n",
       "      <td>...</td>\n",
       "      <td>False</td>\n",
       "      <td>False</td>\n",
       "      <td>im065</td>\n",
       "      <td>0.0</td>\n",
       "      <td>im065</td>\n",
       "      <td>0.0</td>\n",
       "      <td>False</td>\n",
       "      <td>0.259259</td>\n",
       "      <td>False</td>\n",
       "      <td>0.250000</td>\n",
       "    </tr>\n",
       "    <tr>\n",
       "      <td>...</td>\n",
       "      <td>...</td>\n",
       "      <td>...</td>\n",
       "      <td>...</td>\n",
       "      <td>...</td>\n",
       "      <td>...</td>\n",
       "      <td>...</td>\n",
       "      <td>...</td>\n",
       "      <td>...</td>\n",
       "      <td>...</td>\n",
       "      <td>...</td>\n",
       "      <td>...</td>\n",
       "      <td>...</td>\n",
       "      <td>...</td>\n",
       "      <td>...</td>\n",
       "      <td>...</td>\n",
       "      <td>...</td>\n",
       "      <td>...</td>\n",
       "      <td>...</td>\n",
       "      <td>...</td>\n",
       "      <td>...</td>\n",
       "      <td>...</td>\n",
       "    </tr>\n",
       "    <tr>\n",
       "      <td>4796</td>\n",
       "      <td>3909.81737</td>\n",
       "      <td>3910.06757</td>\n",
       "      <td>0.25020</td>\n",
       "      <td>im065</td>\n",
       "      <td>0</td>\n",
       "      <td>False</td>\n",
       "      <td>False</td>\n",
       "      <td>233842</td>\n",
       "      <td>233857.0</td>\n",
       "      <td>Natural_Images_Lum_Matched_set_training_2017.0...</td>\n",
       "      <td>...</td>\n",
       "      <td>False</td>\n",
       "      <td>True</td>\n",
       "      <td>im065</td>\n",
       "      <td>0.0</td>\n",
       "      <td>im065</td>\n",
       "      <td>0.0</td>\n",
       "      <td>False</td>\n",
       "      <td>0.001432</td>\n",
       "      <td>False</td>\n",
       "      <td>0.001536</td>\n",
       "    </tr>\n",
       "    <tr>\n",
       "      <td>4797</td>\n",
       "      <td>3910.56798</td>\n",
       "      <td>3910.81819</td>\n",
       "      <td>0.25021</td>\n",
       "      <td>im065</td>\n",
       "      <td>0</td>\n",
       "      <td>False</td>\n",
       "      <td>False</td>\n",
       "      <td>233887</td>\n",
       "      <td>233902.0</td>\n",
       "      <td>Natural_Images_Lum_Matched_set_training_2017.0...</td>\n",
       "      <td>...</td>\n",
       "      <td>False</td>\n",
       "      <td>False</td>\n",
       "      <td>im065</td>\n",
       "      <td>0.0</td>\n",
       "      <td>im065</td>\n",
       "      <td>0.0</td>\n",
       "      <td>False</td>\n",
       "      <td>0.001380</td>\n",
       "      <td>False</td>\n",
       "      <td>0.001484</td>\n",
       "    </tr>\n",
       "    <tr>\n",
       "      <td>4798</td>\n",
       "      <td>3911.31860</td>\n",
       "      <td>3911.56880</td>\n",
       "      <td>0.25020</td>\n",
       "      <td>im065</td>\n",
       "      <td>0</td>\n",
       "      <td>False</td>\n",
       "      <td>False</td>\n",
       "      <td>233932</td>\n",
       "      <td>233947.0</td>\n",
       "      <td>Natural_Images_Lum_Matched_set_training_2017.0...</td>\n",
       "      <td>...</td>\n",
       "      <td>False</td>\n",
       "      <td>False</td>\n",
       "      <td>im065</td>\n",
       "      <td>0.0</td>\n",
       "      <td>im065</td>\n",
       "      <td>0.0</td>\n",
       "      <td>False</td>\n",
       "      <td>0.001328</td>\n",
       "      <td>False</td>\n",
       "      <td>0.001432</td>\n",
       "    </tr>\n",
       "    <tr>\n",
       "      <td>4799</td>\n",
       "      <td>3912.06921</td>\n",
       "      <td>3912.31939</td>\n",
       "      <td>0.25018</td>\n",
       "      <td>im065</td>\n",
       "      <td>0</td>\n",
       "      <td>False</td>\n",
       "      <td>False</td>\n",
       "      <td>233977</td>\n",
       "      <td>233992.0</td>\n",
       "      <td>Natural_Images_Lum_Matched_set_training_2017.0...</td>\n",
       "      <td>...</td>\n",
       "      <td>False</td>\n",
       "      <td>False</td>\n",
       "      <td>im065</td>\n",
       "      <td>0.0</td>\n",
       "      <td>im065</td>\n",
       "      <td>0.0</td>\n",
       "      <td>False</td>\n",
       "      <td>0.001276</td>\n",
       "      <td>False</td>\n",
       "      <td>0.001380</td>\n",
       "    </tr>\n",
       "    <tr>\n",
       "      <td>4800</td>\n",
       "      <td>3912.81980</td>\n",
       "      <td>3913.07002</td>\n",
       "      <td>0.25022</td>\n",
       "      <td>im065</td>\n",
       "      <td>0</td>\n",
       "      <td>False</td>\n",
       "      <td>False</td>\n",
       "      <td>234022</td>\n",
       "      <td>234037.0</td>\n",
       "      <td>Natural_Images_Lum_Matched_set_training_2017.0...</td>\n",
       "      <td>...</td>\n",
       "      <td>False</td>\n",
       "      <td>False</td>\n",
       "      <td>NaN</td>\n",
       "      <td>NaN</td>\n",
       "      <td>im065</td>\n",
       "      <td>0.0</td>\n",
       "      <td>NaN</td>\n",
       "      <td>NaN</td>\n",
       "      <td>False</td>\n",
       "      <td>0.001328</td>\n",
       "    </tr>\n",
       "  </tbody>\n",
       "</table>\n",
       "<p>4801 rows × 41 columns</p>\n",
       "</div>"
      ],
      "text/plain": [
       "                           start_time   stop_time  duration image_name  \\\n",
       "stimulus_presentations_id                                                \n",
       "0                           309.27537   309.52557   0.25020      im065   \n",
       "1                           310.02598   310.27619   0.25021      im065   \n",
       "2                           310.77660   311.02680   0.25020      im065   \n",
       "3                           311.52721   311.77740   0.25019      im065   \n",
       "4                           312.27782   312.52806   0.25024      im065   \n",
       "...                               ...         ...       ...        ...   \n",
       "4796                       3909.81737  3910.06757   0.25020      im065   \n",
       "4797                       3910.56798  3910.81819   0.25021      im065   \n",
       "4798                       3911.31860  3911.56880   0.25020      im065   \n",
       "4799                       3912.06921  3912.31939   0.25018      im065   \n",
       "4800                       3912.81980  3913.07002   0.25022      im065   \n",
       "\n",
       "                           image_index  is_change  omitted  start_frame  \\\n",
       "stimulus_presentations_id                                                 \n",
       "0                                    0      False    False        17986   \n",
       "1                                    0      False    False        18031   \n",
       "2                                    0      False    False        18076   \n",
       "3                                    0      False    False        18121   \n",
       "4                                    0      False    False        18166   \n",
       "...                                ...        ...      ...          ...   \n",
       "4796                                 0      False    False       233842   \n",
       "4797                                 0      False    False       233887   \n",
       "4798                                 0      False    False       233932   \n",
       "4799                                 0      False    False       233977   \n",
       "4800                                 0      False    False       234022   \n",
       "\n",
       "                           end_frame  \\\n",
       "stimulus_presentations_id              \n",
       "0                            18001.0   \n",
       "1                            18046.0   \n",
       "2                            18091.0   \n",
       "3                            18136.0   \n",
       "4                            18181.0   \n",
       "...                              ...   \n",
       "4796                        233857.0   \n",
       "4797                        233902.0   \n",
       "4798                        233947.0   \n",
       "4799                        233992.0   \n",
       "4800                        234037.0   \n",
       "\n",
       "                                                                   image_set  \\\n",
       "stimulus_presentations_id                                                      \n",
       "0                          Natural_Images_Lum_Matched_set_training_2017.0...   \n",
       "1                          Natural_Images_Lum_Matched_set_training_2017.0...   \n",
       "2                          Natural_Images_Lum_Matched_set_training_2017.0...   \n",
       "3                          Natural_Images_Lum_Matched_set_training_2017.0...   \n",
       "4                          Natural_Images_Lum_Matched_set_training_2017.0...   \n",
       "...                                                                      ...   \n",
       "4796                       Natural_Images_Lum_Matched_set_training_2017.0...   \n",
       "4797                       Natural_Images_Lum_Matched_set_training_2017.0...   \n",
       "4798                       Natural_Images_Lum_Matched_set_training_2017.0...   \n",
       "4799                       Natural_Images_Lum_Matched_set_training_2017.0...   \n",
       "4800                       Natural_Images_Lum_Matched_set_training_2017.0...   \n",
       "\n",
       "                           ...  flash_after_omitted flash_after_change  \\\n",
       "stimulus_presentations_id  ...                                           \n",
       "0                          ...                  NaN                NaN   \n",
       "1                          ...                False              False   \n",
       "2                          ...                False              False   \n",
       "3                          ...                False              False   \n",
       "4                          ...                False              False   \n",
       "...                        ...                  ...                ...   \n",
       "4796                       ...                False               True   \n",
       "4797                       ...                False              False   \n",
       "4798                       ...                False              False   \n",
       "4799                       ...                False              False   \n",
       "4800                       ...                False              False   \n",
       "\n",
       "                          image_name_next_flash  image_index_next_flash  \\\n",
       "stimulus_presentations_id                                                 \n",
       "0                                         im065                     0.0   \n",
       "1                                         im065                     0.0   \n",
       "2                                         im065                     0.0   \n",
       "3                                         im065                     0.0   \n",
       "4                                         im065                     0.0   \n",
       "...                                         ...                     ...   \n",
       "4796                                      im065                     0.0   \n",
       "4797                                      im065                     0.0   \n",
       "4798                                      im065                     0.0   \n",
       "4799                                      im065                     0.0   \n",
       "4800                                        NaN                     NaN   \n",
       "\n",
       "                           image_name_previous_flash  \\\n",
       "stimulus_presentations_id                              \n",
       "0                                                NaN   \n",
       "1                                              im065   \n",
       "2                                              im065   \n",
       "3                                              im065   \n",
       "4                                              im065   \n",
       "...                                              ...   \n",
       "4796                                           im065   \n",
       "4797                                           im065   \n",
       "4798                                           im065   \n",
       "4799                                           im065   \n",
       "4800                                           im065   \n",
       "\n",
       "                           image_index_previous_flash lick_on_next_flash  \\\n",
       "stimulus_presentations_id                                                  \n",
       "0                                                 NaN              False   \n",
       "1                                                 0.0               True   \n",
       "2                                                 0.0              False   \n",
       "3                                                 0.0              False   \n",
       "4                                                 0.0              False   \n",
       "...                                               ...                ...   \n",
       "4796                                              0.0              False   \n",
       "4797                                              0.0              False   \n",
       "4798                                              0.0              False   \n",
       "4799                                              0.0              False   \n",
       "4800                                              0.0                NaN   \n",
       "\n",
       "                           lick_rate_next_flash  lick_on_previous_flash  \\\n",
       "stimulus_presentations_id                                                 \n",
       "0                                      0.000000                     NaN   \n",
       "1                                      0.148148                   False   \n",
       "2                                      0.250000                   False   \n",
       "3                                      0.266667                    True   \n",
       "4                                      0.259259                   False   \n",
       "...                                         ...                     ...   \n",
       "4796                                   0.001432                   False   \n",
       "4797                                   0.001380                   False   \n",
       "4798                                   0.001328                   False   \n",
       "4799                                   0.001276                   False   \n",
       "4800                                        NaN                   False   \n",
       "\n",
       "                           lick_rate_previous_flash  \n",
       "stimulus_presentations_id                            \n",
       "0                                               NaN  \n",
       "1                                          0.000000  \n",
       "2                                          0.000000  \n",
       "3                                          0.148148  \n",
       "4                                          0.250000  \n",
       "...                                             ...  \n",
       "4796                                       0.001536  \n",
       "4797                                       0.001484  \n",
       "4798                                       0.001432  \n",
       "4799                                       0.001380  \n",
       "4800                                       0.001328  \n",
       "\n",
       "[4801 rows x 41 columns]"
      ]
     },
     "execution_count": 23,
     "metadata": {},
     "output_type": "execute_result"
    }
   ],
   "source": [
    "dataset.extended_stimulus_presentations"
   ]
  },
  {
   "cell_type": "markdown",
   "metadata": {},
   "source": [
    "## Load the `ophys_cells_table`"
   ]
  },
  {
   "cell_type": "markdown",
   "metadata": {},
   "source": [
    "### Using the SDK"
   ]
  },
  {
   "cell_type": "markdown",
   "metadata": {},
   "source": [
    "This gets a table with all `cell_roi_ids`, `cell_specimen_ids`, and `ophys_experiment_ids` in the released dataset"
   ]
  },
  {
   "cell_type": "markdown",
   "metadata": {},
   "source": [
    "This is the preferred method for loading the cell table"
   ]
  },
  {
   "cell_type": "code",
   "execution_count": 24,
   "metadata": {},
   "outputs": [],
   "source": [
    "cell_table = cache.get_ophys_cells_table()"
   ]
  },
  {
   "cell_type": "code",
   "execution_count": 25,
   "metadata": {},
   "outputs": [
    {
     "data": {
      "text/plain": [
       "133227"
      ]
     },
     "execution_count": 25,
     "metadata": {},
     "output_type": "execute_result"
    }
   ],
   "source": [
    "len(cell_table)"
   ]
  },
  {
   "cell_type": "code",
   "execution_count": 26,
   "metadata": {},
   "outputs": [
    {
     "data": {
      "text/html": [
       "<div>\n",
       "<style scoped>\n",
       "    .dataframe tbody tr th:only-of-type {\n",
       "        vertical-align: middle;\n",
       "    }\n",
       "\n",
       "    .dataframe tbody tr th {\n",
       "        vertical-align: top;\n",
       "    }\n",
       "\n",
       "    .dataframe thead th {\n",
       "        text-align: right;\n",
       "    }\n",
       "</style>\n",
       "<table border=\"1\" class=\"dataframe\">\n",
       "  <thead>\n",
       "    <tr style=\"text-align: right;\">\n",
       "      <th></th>\n",
       "      <th>cell_specimen_id</th>\n",
       "      <th>ophys_experiment_id</th>\n",
       "    </tr>\n",
       "    <tr>\n",
       "      <th>cell_roi_id</th>\n",
       "      <th></th>\n",
       "      <th></th>\n",
       "    </tr>\n",
       "  </thead>\n",
       "  <tbody>\n",
       "    <tr>\n",
       "      <td>1080884343</td>\n",
       "      <td>1086496928</td>\n",
       "      <td>775614751</td>\n",
       "    </tr>\n",
       "    <tr>\n",
       "      <td>1080884173</td>\n",
       "      <td>1086496914</td>\n",
       "      <td>775614751</td>\n",
       "    </tr>\n",
       "    <tr>\n",
       "      <td>1080883843</td>\n",
       "      <td>1086496838</td>\n",
       "      <td>775614751</td>\n",
       "    </tr>\n",
       "    <tr>\n",
       "      <td>1080886674</td>\n",
       "      <td>1086491756</td>\n",
       "      <td>775614751</td>\n",
       "    </tr>\n",
       "    <tr>\n",
       "      <td>1080885658</td>\n",
       "      <td>1086491699</td>\n",
       "      <td>775614751</td>\n",
       "    </tr>\n",
       "  </tbody>\n",
       "</table>\n",
       "</div>"
      ],
      "text/plain": [
       "             cell_specimen_id  ophys_experiment_id\n",
       "cell_roi_id                                       \n",
       "1080884343         1086496928            775614751\n",
       "1080884173         1086496914            775614751\n",
       "1080883843         1086496838            775614751\n",
       "1080886674         1086491756            775614751\n",
       "1080885658         1086491699            775614751"
      ]
     },
     "execution_count": 26,
     "metadata": {},
     "output_type": "execute_result"
    }
   ],
   "source": [
    "cell_table.head()"
   ]
  },
  {
   "cell_type": "markdown",
   "metadata": {},
   "source": [
    "#### Merge with experiments_table to get metadata for cells"
   ]
  },
  {
   "cell_type": "code",
   "execution_count": 27,
   "metadata": {},
   "outputs": [],
   "source": [
    "cell_table = cell_table.merge(experiments_table, on='ophys_experiment_id')"
   ]
  },
  {
   "cell_type": "code",
   "execution_count": 28,
   "metadata": {},
   "outputs": [
    {
     "data": {
      "text/html": [
       "<div>\n",
       "<style scoped>\n",
       "    .dataframe tbody tr th:only-of-type {\n",
       "        vertical-align: middle;\n",
       "    }\n",
       "\n",
       "    .dataframe tbody tr th {\n",
       "        vertical-align: top;\n",
       "    }\n",
       "\n",
       "    .dataframe thead th {\n",
       "        text-align: right;\n",
       "    }\n",
       "</style>\n",
       "<table border=\"1\" class=\"dataframe\">\n",
       "  <thead>\n",
       "    <tr style=\"text-align: right;\">\n",
       "      <th></th>\n",
       "      <th>cell_specimen_id</th>\n",
       "      <th>ophys_experiment_id</th>\n",
       "      <th>equipment_name</th>\n",
       "      <th>full_genotype</th>\n",
       "      <th>mouse_id</th>\n",
       "      <th>reporter_line</th>\n",
       "      <th>driver_line</th>\n",
       "      <th>sex</th>\n",
       "      <th>age_in_days</th>\n",
       "      <th>cre_line</th>\n",
       "      <th>...</th>\n",
       "      <th>ophys_container_id</th>\n",
       "      <th>project_code</th>\n",
       "      <th>imaging_depth</th>\n",
       "      <th>targeted_structure</th>\n",
       "      <th>date_of_acquisition</th>\n",
       "      <th>session_type</th>\n",
       "      <th>experience_level</th>\n",
       "      <th>passive</th>\n",
       "      <th>image_set</th>\n",
       "      <th>file_id</th>\n",
       "    </tr>\n",
       "  </thead>\n",
       "  <tbody>\n",
       "    <tr>\n",
       "      <td>0</td>\n",
       "      <td>1086496928</td>\n",
       "      <td>775614751</td>\n",
       "      <td>CAM2P.5</td>\n",
       "      <td>Slc17a7-IRES2-Cre/wt;Camk2a-tTA/wt;Ai93(TITL-G...</td>\n",
       "      <td>403491</td>\n",
       "      <td>Ai93(TITL-GCaMP6f)</td>\n",
       "      <td>[Slc17a7-IRES2-Cre, Camk2a-tTA]</td>\n",
       "      <td>F</td>\n",
       "      <td>160.0</td>\n",
       "      <td>Slc17a7-IRES2-Cre</td>\n",
       "      <td>...</td>\n",
       "      <td>782536745</td>\n",
       "      <td>VisualBehavior</td>\n",
       "      <td>375</td>\n",
       "      <td>VISp</td>\n",
       "      <td>2018-11-08 18:38:05.000000</td>\n",
       "      <td>OPHYS_1_images_A</td>\n",
       "      <td>Familiar</td>\n",
       "      <td>False</td>\n",
       "      <td>A</td>\n",
       "      <td>945253901</td>\n",
       "    </tr>\n",
       "    <tr>\n",
       "      <td>1</td>\n",
       "      <td>1086496914</td>\n",
       "      <td>775614751</td>\n",
       "      <td>CAM2P.5</td>\n",
       "      <td>Slc17a7-IRES2-Cre/wt;Camk2a-tTA/wt;Ai93(TITL-G...</td>\n",
       "      <td>403491</td>\n",
       "      <td>Ai93(TITL-GCaMP6f)</td>\n",
       "      <td>[Slc17a7-IRES2-Cre, Camk2a-tTA]</td>\n",
       "      <td>F</td>\n",
       "      <td>160.0</td>\n",
       "      <td>Slc17a7-IRES2-Cre</td>\n",
       "      <td>...</td>\n",
       "      <td>782536745</td>\n",
       "      <td>VisualBehavior</td>\n",
       "      <td>375</td>\n",
       "      <td>VISp</td>\n",
       "      <td>2018-11-08 18:38:05.000000</td>\n",
       "      <td>OPHYS_1_images_A</td>\n",
       "      <td>Familiar</td>\n",
       "      <td>False</td>\n",
       "      <td>A</td>\n",
       "      <td>945253901</td>\n",
       "    </tr>\n",
       "    <tr>\n",
       "      <td>2</td>\n",
       "      <td>1086496838</td>\n",
       "      <td>775614751</td>\n",
       "      <td>CAM2P.5</td>\n",
       "      <td>Slc17a7-IRES2-Cre/wt;Camk2a-tTA/wt;Ai93(TITL-G...</td>\n",
       "      <td>403491</td>\n",
       "      <td>Ai93(TITL-GCaMP6f)</td>\n",
       "      <td>[Slc17a7-IRES2-Cre, Camk2a-tTA]</td>\n",
       "      <td>F</td>\n",
       "      <td>160.0</td>\n",
       "      <td>Slc17a7-IRES2-Cre</td>\n",
       "      <td>...</td>\n",
       "      <td>782536745</td>\n",
       "      <td>VisualBehavior</td>\n",
       "      <td>375</td>\n",
       "      <td>VISp</td>\n",
       "      <td>2018-11-08 18:38:05.000000</td>\n",
       "      <td>OPHYS_1_images_A</td>\n",
       "      <td>Familiar</td>\n",
       "      <td>False</td>\n",
       "      <td>A</td>\n",
       "      <td>945253901</td>\n",
       "    </tr>\n",
       "  </tbody>\n",
       "</table>\n",
       "<p>3 rows × 27 columns</p>\n",
       "</div>"
      ],
      "text/plain": [
       "   cell_specimen_id  ophys_experiment_id equipment_name  \\\n",
       "0        1086496928            775614751        CAM2P.5   \n",
       "1        1086496914            775614751        CAM2P.5   \n",
       "2        1086496838            775614751        CAM2P.5   \n",
       "\n",
       "                                       full_genotype  mouse_id  \\\n",
       "0  Slc17a7-IRES2-Cre/wt;Camk2a-tTA/wt;Ai93(TITL-G...    403491   \n",
       "1  Slc17a7-IRES2-Cre/wt;Camk2a-tTA/wt;Ai93(TITL-G...    403491   \n",
       "2  Slc17a7-IRES2-Cre/wt;Camk2a-tTA/wt;Ai93(TITL-G...    403491   \n",
       "\n",
       "        reporter_line                      driver_line sex  age_in_days  \\\n",
       "0  Ai93(TITL-GCaMP6f)  [Slc17a7-IRES2-Cre, Camk2a-tTA]   F        160.0   \n",
       "1  Ai93(TITL-GCaMP6f)  [Slc17a7-IRES2-Cre, Camk2a-tTA]   F        160.0   \n",
       "2  Ai93(TITL-GCaMP6f)  [Slc17a7-IRES2-Cre, Camk2a-tTA]   F        160.0   \n",
       "\n",
       "            cre_line  ... ophys_container_id    project_code  imaging_depth  \\\n",
       "0  Slc17a7-IRES2-Cre  ...          782536745  VisualBehavior            375   \n",
       "1  Slc17a7-IRES2-Cre  ...          782536745  VisualBehavior            375   \n",
       "2  Slc17a7-IRES2-Cre  ...          782536745  VisualBehavior            375   \n",
       "\n",
       "   targeted_structure         date_of_acquisition      session_type  \\\n",
       "0                VISp  2018-11-08 18:38:05.000000  OPHYS_1_images_A   \n",
       "1                VISp  2018-11-08 18:38:05.000000  OPHYS_1_images_A   \n",
       "2                VISp  2018-11-08 18:38:05.000000  OPHYS_1_images_A   \n",
       "\n",
       "   experience_level  passive image_set    file_id  \n",
       "0          Familiar    False         A  945253901  \n",
       "1          Familiar    False         A  945253901  \n",
       "2          Familiar    False         A  945253901  \n",
       "\n",
       "[3 rows x 27 columns]"
      ]
     },
     "execution_count": 28,
     "metadata": {},
     "output_type": "execute_result"
    }
   ],
   "source": [
    "cell_table.head(3)"
   ]
  },
  {
   "cell_type": "markdown",
   "metadata": {},
   "source": [
    "### Using VBA"
   ]
  },
  {
   "cell_type": "markdown",
   "metadata": {},
   "source": [
    "There are two ways to load a cell table in VBA. One function, `load_cell_table` loads the cells table from the SDK using the same code as shown above, and optionally filters for platform paper experiments only (no 4x2, no Ai94). The second method, `load_cell_table_from_lims` gets cell ROI information from lims for all experiments, regardless of whether they are passed or failed, unless otherwise specified by the input params. "
   ]
  },
  {
   "cell_type": "markdown",
   "metadata": {},
   "source": [
    "#### From SDK for platform paper cache"
   ]
  },
  {
   "cell_type": "code",
   "execution_count": 29,
   "metadata": {},
   "outputs": [
    {
     "name": "stdout",
     "output_type": "stream",
     "text": [
      "1249\n"
     ]
    }
   ],
   "source": [
    "cell_table = loading.get_cell_table()\n",
    "print(len(cell_table.ophys_experiment_id.unique()))"
   ]
  },
  {
   "cell_type": "code",
   "execution_count": 30,
   "metadata": {},
   "outputs": [
    {
     "name": "stdout",
     "output_type": "stream",
     "text": [
      "1249\n"
     ]
    }
   ],
   "source": [
    "# setting platform_paper_only to True filters out Ai94 and 4x2 data\n",
    "cell_table = loading.get_cell_table(platform_paper_only=True)\n",
    "print(len(cell_table.ophys_experiment_id.unique()))"
   ]
  },
  {
   "cell_type": "code",
   "execution_count": 31,
   "metadata": {},
   "outputs": [
    {
     "data": {
      "text/html": [
       "<div>\n",
       "<style scoped>\n",
       "    .dataframe tbody tr th:only-of-type {\n",
       "        vertical-align: middle;\n",
       "    }\n",
       "\n",
       "    .dataframe tbody tr th {\n",
       "        vertical-align: top;\n",
       "    }\n",
       "\n",
       "    .dataframe thead th {\n",
       "        text-align: right;\n",
       "    }\n",
       "</style>\n",
       "<table border=\"1\" class=\"dataframe\">\n",
       "  <thead>\n",
       "    <tr style=\"text-align: right;\">\n",
       "      <th></th>\n",
       "      <th>cell_specimen_id</th>\n",
       "      <th>ophys_experiment_id</th>\n",
       "      <th>equipment_name</th>\n",
       "      <th>full_genotype</th>\n",
       "      <th>mouse_id</th>\n",
       "      <th>reporter_line</th>\n",
       "      <th>driver_line</th>\n",
       "      <th>sex</th>\n",
       "      <th>age_in_days</th>\n",
       "      <th>cre_line</th>\n",
       "      <th>...</th>\n",
       "      <th>file_id</th>\n",
       "      <th>cell_type</th>\n",
       "      <th>depth</th>\n",
       "      <th>first_novel</th>\n",
       "      <th>n_relative_to_first_novel</th>\n",
       "      <th>last_familiar</th>\n",
       "      <th>last_familiar_active</th>\n",
       "      <th>second_novel</th>\n",
       "      <th>second_novel_active</th>\n",
       "      <th>experience_exposure</th>\n",
       "    </tr>\n",
       "    <tr>\n",
       "      <th>cell_roi_id</th>\n",
       "      <th></th>\n",
       "      <th></th>\n",
       "      <th></th>\n",
       "      <th></th>\n",
       "      <th></th>\n",
       "      <th></th>\n",
       "      <th></th>\n",
       "      <th></th>\n",
       "      <th></th>\n",
       "      <th></th>\n",
       "      <th></th>\n",
       "      <th></th>\n",
       "      <th></th>\n",
       "      <th></th>\n",
       "      <th></th>\n",
       "      <th></th>\n",
       "      <th></th>\n",
       "      <th></th>\n",
       "      <th></th>\n",
       "      <th></th>\n",
       "      <th></th>\n",
       "    </tr>\n",
       "  </thead>\n",
       "  <tbody>\n",
       "    <tr>\n",
       "      <td>1080884343</td>\n",
       "      <td>1086496928</td>\n",
       "      <td>775614751</td>\n",
       "      <td>CAM2P.5</td>\n",
       "      <td>Slc17a7-IRES2-Cre/wt;Camk2a-tTA/wt;Ai93(TITL-G...</td>\n",
       "      <td>403491</td>\n",
       "      <td>Ai93(TITL-GCaMP6f)</td>\n",
       "      <td>[Slc17a7-IRES2-Cre, Camk2a-tTA]</td>\n",
       "      <td>F</td>\n",
       "      <td>160.0</td>\n",
       "      <td>Slc17a7-IRES2-Cre</td>\n",
       "      <td>...</td>\n",
       "      <td>945253901</td>\n",
       "      <td>Excitatory</td>\n",
       "      <td>350</td>\n",
       "      <td>False</td>\n",
       "      <td>NaN</td>\n",
       "      <td>False</td>\n",
       "      <td>False</td>\n",
       "      <td>False</td>\n",
       "      <td>False</td>\n",
       "      <td>Familiar 5</td>\n",
       "    </tr>\n",
       "    <tr>\n",
       "      <td>1080884173</td>\n",
       "      <td>1086496914</td>\n",
       "      <td>775614751</td>\n",
       "      <td>CAM2P.5</td>\n",
       "      <td>Slc17a7-IRES2-Cre/wt;Camk2a-tTA/wt;Ai93(TITL-G...</td>\n",
       "      <td>403491</td>\n",
       "      <td>Ai93(TITL-GCaMP6f)</td>\n",
       "      <td>[Slc17a7-IRES2-Cre, Camk2a-tTA]</td>\n",
       "      <td>F</td>\n",
       "      <td>160.0</td>\n",
       "      <td>Slc17a7-IRES2-Cre</td>\n",
       "      <td>...</td>\n",
       "      <td>945253901</td>\n",
       "      <td>Excitatory</td>\n",
       "      <td>350</td>\n",
       "      <td>False</td>\n",
       "      <td>NaN</td>\n",
       "      <td>False</td>\n",
       "      <td>False</td>\n",
       "      <td>False</td>\n",
       "      <td>False</td>\n",
       "      <td>Familiar 5</td>\n",
       "    </tr>\n",
       "    <tr>\n",
       "      <td>1080883843</td>\n",
       "      <td>1086496838</td>\n",
       "      <td>775614751</td>\n",
       "      <td>CAM2P.5</td>\n",
       "      <td>Slc17a7-IRES2-Cre/wt;Camk2a-tTA/wt;Ai93(TITL-G...</td>\n",
       "      <td>403491</td>\n",
       "      <td>Ai93(TITL-GCaMP6f)</td>\n",
       "      <td>[Slc17a7-IRES2-Cre, Camk2a-tTA]</td>\n",
       "      <td>F</td>\n",
       "      <td>160.0</td>\n",
       "      <td>Slc17a7-IRES2-Cre</td>\n",
       "      <td>...</td>\n",
       "      <td>945253901</td>\n",
       "      <td>Excitatory</td>\n",
       "      <td>350</td>\n",
       "      <td>False</td>\n",
       "      <td>NaN</td>\n",
       "      <td>False</td>\n",
       "      <td>False</td>\n",
       "      <td>False</td>\n",
       "      <td>False</td>\n",
       "      <td>Familiar 5</td>\n",
       "    </tr>\n",
       "  </tbody>\n",
       "</table>\n",
       "<p>3 rows × 36 columns</p>\n",
       "</div>"
      ],
      "text/plain": [
       "             cell_specimen_id  ophys_experiment_id equipment_name  \\\n",
       "cell_roi_id                                                         \n",
       "1080884343         1086496928            775614751        CAM2P.5   \n",
       "1080884173         1086496914            775614751        CAM2P.5   \n",
       "1080883843         1086496838            775614751        CAM2P.5   \n",
       "\n",
       "                                                 full_genotype  mouse_id  \\\n",
       "cell_roi_id                                                                \n",
       "1080884343   Slc17a7-IRES2-Cre/wt;Camk2a-tTA/wt;Ai93(TITL-G...    403491   \n",
       "1080884173   Slc17a7-IRES2-Cre/wt;Camk2a-tTA/wt;Ai93(TITL-G...    403491   \n",
       "1080883843   Slc17a7-IRES2-Cre/wt;Camk2a-tTA/wt;Ai93(TITL-G...    403491   \n",
       "\n",
       "                  reporter_line                      driver_line sex  \\\n",
       "cell_roi_id                                                            \n",
       "1080884343   Ai93(TITL-GCaMP6f)  [Slc17a7-IRES2-Cre, Camk2a-tTA]   F   \n",
       "1080884173   Ai93(TITL-GCaMP6f)  [Slc17a7-IRES2-Cre, Camk2a-tTA]   F   \n",
       "1080883843   Ai93(TITL-GCaMP6f)  [Slc17a7-IRES2-Cre, Camk2a-tTA]   F   \n",
       "\n",
       "             age_in_days           cre_line  ...    file_id   cell_type  \\\n",
       "cell_roi_id                                  ...                          \n",
       "1080884343         160.0  Slc17a7-IRES2-Cre  ...  945253901  Excitatory   \n",
       "1080884173         160.0  Slc17a7-IRES2-Cre  ...  945253901  Excitatory   \n",
       "1080883843         160.0  Slc17a7-IRES2-Cre  ...  945253901  Excitatory   \n",
       "\n",
       "             depth  first_novel  n_relative_to_first_novel  last_familiar  \\\n",
       "cell_roi_id                                                                 \n",
       "1080884343     350        False                        NaN          False   \n",
       "1080884173     350        False                        NaN          False   \n",
       "1080883843     350        False                        NaN          False   \n",
       "\n",
       "             last_familiar_active  second_novel second_novel_active  \\\n",
       "cell_roi_id                                                           \n",
       "1080884343                  False         False               False   \n",
       "1080884173                  False         False               False   \n",
       "1080883843                  False         False               False   \n",
       "\n",
       "             experience_exposure  \n",
       "cell_roi_id                       \n",
       "1080884343            Familiar 5  \n",
       "1080884173            Familiar 5  \n",
       "1080883843            Familiar 5  \n",
       "\n",
       "[3 rows x 36 columns]"
      ]
     },
     "execution_count": 31,
     "metadata": {},
     "output_type": "execute_result"
    }
   ],
   "source": [
    "cell_table.head(3)"
   ]
  },
  {
   "cell_type": "markdown",
   "metadata": {},
   "source": [
    "#### From lims "
   ]
  },
  {
   "cell_type": "markdown",
   "metadata": {},
   "source": [
    "This function loads a cell table that includes all available data in lims, unless you provide a list of `ophys_experiment_ids`, or set `platform_paper_only` to True. It will include invalid ROIs unless you set `valid_rois_only` to True."
   ]
  },
  {
   "cell_type": "code",
   "execution_count": 32,
   "metadata": {},
   "outputs": [],
   "source": [
    "lims_cell_table = loading.get_cell_table_from_lims(ophys_experiment_ids=None, valid_rois_only=False, platform_paper_only=False)"
   ]
  },
  {
   "cell_type": "code",
   "execution_count": 33,
   "metadata": {},
   "outputs": [
    {
     "data": {
      "text/plain": [
       "253537"
      ]
     },
     "execution_count": 33,
     "metadata": {},
     "output_type": "execute_result"
    }
   ],
   "source": [
    "len(lims_cell_table)"
   ]
  },
  {
   "cell_type": "markdown",
   "metadata": {},
   "source": [
    "The table includes `cell_roi_ids`, `cell_specimen_ids`, and `ophys_experiment_ids`, as well as information about the ROI masks, such as their x and y location in the FOV.   "
   ]
  },
  {
   "cell_type": "code",
   "execution_count": 34,
   "metadata": {},
   "outputs": [
    {
     "data": {
      "text/html": [
       "<div>\n",
       "<style scoped>\n",
       "    .dataframe tbody tr th:only-of-type {\n",
       "        vertical-align: middle;\n",
       "    }\n",
       "\n",
       "    .dataframe tbody tr th {\n",
       "        vertical-align: top;\n",
       "    }\n",
       "\n",
       "    .dataframe thead th {\n",
       "        text-align: right;\n",
       "    }\n",
       "</style>\n",
       "<table border=\"1\" class=\"dataframe\">\n",
       "  <thead>\n",
       "    <tr style=\"text-align: right;\">\n",
       "      <th></th>\n",
       "      <th>cell_roi_id</th>\n",
       "      <th>cell_specimen_id</th>\n",
       "      <th>ophys_experiment_id</th>\n",
       "      <th>x</th>\n",
       "      <th>y</th>\n",
       "      <th>width</th>\n",
       "      <th>height</th>\n",
       "      <th>valid_roi</th>\n",
       "      <th>mask_matrix</th>\n",
       "      <th>max_correction_up</th>\n",
       "      <th>max_correction_down</th>\n",
       "      <th>max_correction_right</th>\n",
       "      <th>max_correction_left</th>\n",
       "      <th>mask_image_plane</th>\n",
       "      <th>ophys_cell_segmentation_run_id</th>\n",
       "    </tr>\n",
       "  </thead>\n",
       "  <tbody>\n",
       "    <tr>\n",
       "      <td>0</td>\n",
       "      <td>1080887111</td>\n",
       "      <td>1086497181</td>\n",
       "      <td>775614751</td>\n",
       "      <td>261</td>\n",
       "      <td>130</td>\n",
       "      <td>31</td>\n",
       "      <td>26</td>\n",
       "      <td>False</td>\n",
       "      <td>[[False, False, False, False, False, False, Fa...</td>\n",
       "      <td>13.0</td>\n",
       "      <td>16.0</td>\n",
       "      <td>8.0</td>\n",
       "      <td>23.0</td>\n",
       "      <td>2</td>\n",
       "      <td>1080818871</td>\n",
       "    </tr>\n",
       "    <tr>\n",
       "      <td>1</td>\n",
       "      <td>1080886741</td>\n",
       "      <td>1086497151</td>\n",
       "      <td>775614751</td>\n",
       "      <td>318</td>\n",
       "      <td>263</td>\n",
       "      <td>19</td>\n",
       "      <td>15</td>\n",
       "      <td>False</td>\n",
       "      <td>[[False, False, False, False, False, False, Fa...</td>\n",
       "      <td>13.0</td>\n",
       "      <td>16.0</td>\n",
       "      <td>8.0</td>\n",
       "      <td>23.0</td>\n",
       "      <td>0</td>\n",
       "      <td>1080818871</td>\n",
       "    </tr>\n",
       "    <tr>\n",
       "      <td>2</td>\n",
       "      <td>1080886246</td>\n",
       "      <td>1086497095</td>\n",
       "      <td>775614751</td>\n",
       "      <td>108</td>\n",
       "      <td>399</td>\n",
       "      <td>36</td>\n",
       "      <td>21</td>\n",
       "      <td>False</td>\n",
       "      <td>[[False, False, False, False, False, False, Fa...</td>\n",
       "      <td>13.0</td>\n",
       "      <td>16.0</td>\n",
       "      <td>8.0</td>\n",
       "      <td>23.0</td>\n",
       "      <td>2</td>\n",
       "      <td>1080818871</td>\n",
       "    </tr>\n",
       "  </tbody>\n",
       "</table>\n",
       "</div>"
      ],
      "text/plain": [
       "   cell_roi_id  cell_specimen_id  ophys_experiment_id    x    y  width  \\\n",
       "0   1080887111        1086497181            775614751  261  130     31   \n",
       "1   1080886741        1086497151            775614751  318  263     19   \n",
       "2   1080886246        1086497095            775614751  108  399     36   \n",
       "\n",
       "   height  valid_roi                                        mask_matrix  \\\n",
       "0      26      False  [[False, False, False, False, False, False, Fa...   \n",
       "1      15      False  [[False, False, False, False, False, False, Fa...   \n",
       "2      21      False  [[False, False, False, False, False, False, Fa...   \n",
       "\n",
       "   max_correction_up  max_correction_down  max_correction_right  \\\n",
       "0               13.0                 16.0                   8.0   \n",
       "1               13.0                 16.0                   8.0   \n",
       "2               13.0                 16.0                   8.0   \n",
       "\n",
       "   max_correction_left  mask_image_plane  ophys_cell_segmentation_run_id  \n",
       "0                 23.0                 2                      1080818871  \n",
       "1                 23.0                 0                      1080818871  \n",
       "2                 23.0                 2                      1080818871  "
      ]
     },
     "execution_count": 34,
     "metadata": {},
     "output_type": "execute_result"
    }
   ],
   "source": [
    "lims_cell_table.head(3)"
   ]
  },
  {
   "cell_type": "code",
   "execution_count": null,
   "metadata": {},
   "outputs": [],
   "source": []
  },
  {
   "cell_type": "code",
   "execution_count": null,
   "metadata": {},
   "outputs": [],
   "source": []
  }
 ],
 "metadata": {
  "kernelspec": {
   "display_name": "visual_behavior_sdk",
   "language": "python",
   "name": "visual_behavior_sdk"
  },
  "language_info": {
   "codemirror_mode": {
    "name": "ipython",
    "version": 3
   },
   "file_extension": ".py",
   "mimetype": "text/x-python",
   "name": "python",
   "nbconvert_exporter": "python",
   "pygments_lexer": "ipython3",
   "version": "3.7.3"
  }
 },
 "nbformat": 4,
 "nbformat_minor": 2
}
