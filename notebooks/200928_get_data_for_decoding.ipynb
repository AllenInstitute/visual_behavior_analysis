{
 "cells": [
  {
   "cell_type": "code",
   "execution_count": 1,
   "metadata": {},
   "outputs": [],
   "source": [
    "import os\n",
    "import itertools\n",
    "import numpy as np\n",
    "import pandas as pd\n",
    "import scipy as sp\n",
    "import matplotlib.pyplot as plt\n",
    "\n",
    "import seaborn as sns"
   ]
  },
  {
   "cell_type": "code",
   "execution_count": 2,
   "metadata": {},
   "outputs": [],
   "source": [
    "%load_ext autoreload\n",
    "%autoreload 2\n",
    "\n",
    "%matplotlib inline"
   ]
  },
  {
   "cell_type": "code",
   "execution_count": 3,
   "metadata": {},
   "outputs": [],
   "source": [
    "import visual_behavior.data_access.loading as loading"
   ]
  },
  {
   "cell_type": "markdown",
   "metadata": {},
   "source": [
    "### load multi-session data"
   ]
  },
  {
   "cell_type": "markdown",
   "metadata": {},
   "source": [
    "what is needed for decoding analysis? \n",
    "* image aligned traces (including omissions)\n",
    "* whether or not the image presentation was a change\n",
    "* mean running speed, pupil diameter, and engagement metric value per image presentation\n",
    "* all metadata for that experiment"
   ]
  },
  {
   "cell_type": "markdown",
   "metadata": {},
   "source": [
    "TO DO: include mean pupil diameter in the stim_response_df"
   ]
  },
  {
   "cell_type": "markdown",
   "metadata": {},
   "source": [
    "#### functions to load cell response data and stimulus presentations metadata for a set of sessions"
   ]
  },
  {
   "cell_type": "code",
   "execution_count": 4,
   "metadata": {},
   "outputs": [],
   "source": [
    "experiments_table = loading.get_filtered_ophys_experiment_table()"
   ]
  },
  {
   "cell_type": "code",
   "execution_count": 6,
   "metadata": {
    "scrolled": true
   },
   "outputs": [
    {
     "name": "stdout",
     "output_type": "stream",
     "text": [
      "problem for VisualBehaviorMultiscope Slc17a7-IRES2-Cre 4\n",
      "Attribute 'block1_items_variety' does not exist in node: '/df'\n",
      "Wall time: 1min 13s\n"
     ]
    }
   ],
   "source": [
    "%%time \n",
    "#this can be slow for larger amounts of data. limiting to non-mesoscope production codes is faster.\n",
    "project_codes = ['VisualBehaviorMultiscope']\n",
    "session_numbers = [4]\n",
    "\n",
    "stim_presentations = loading.get_concatenated_stimulus_presentations(project_codes, session_numbers)\n",
    "stim_response_dfs = loading.get_concatenated_stimulus_response_dfs(project_codes, session_numbers)\n",
    "stimulus_response_data = stim_response_dfs.merge(experiments_table, on=['ophys_experiment_id', 'ophys_session_id'])\n",
    "\n",
    "# this last line merges the stimulus presentations into the stimulus_response_data, \n",
    "# but it often fails due to large dataframe size, so we will treat the data frames separately to start\n",
    "# stimulus_response_data = stimulus_response_data.merge(stim_presentations, on='ophys_session_id')"
   ]
  },
  {
   "cell_type": "code",
   "execution_count": 9,
   "metadata": {},
   "outputs": [
    {
     "data": {
      "text/plain": [
       "Index(['ophys_experiment_id', 'ophys_session_id', 'stimulus_presentations_id',\n",
       "       'cell_specimen_id', 'trace', 'trace_timestamps', 'mean_response',\n",
       "       'baseline_response', 'ophys_frame_rate', 'behavior_session_id',\n",
       "       'container_id', 'project_code', 'container_workflow_state',\n",
       "       'experiment_workflow_state', 'session_name', 'session_type',\n",
       "       'equipment_name', 'date_of_acquisition', 'isi_experiment_id',\n",
       "       'specimen_id', 'sex', 'age_in_days', 'full_genotype', 'reporter_line',\n",
       "       'driver_line', 'imaging_depth', 'targeted_structure', 'published_at',\n",
       "       'super_container_id', 'cre_line', 'session_tags', 'failure_tags',\n",
       "       'exposure_number', 'model_outputs_available', 'location', 'has_events',\n",
       "       'session_number'],\n",
       "      dtype='object')"
      ]
     },
     "execution_count": 9,
     "metadata": {},
     "output_type": "execute_result"
    }
   ],
   "source": [
    "# this has cell response data and all experiment metadata\n",
    "stimulus_response_data.keys()"
   ]
  },
  {
   "cell_type": "code",
   "execution_count": 10,
   "metadata": {},
   "outputs": [
    {
     "data": {
      "text/plain": [
       "Index(['ophys_session_id', 'stimulus_presentations_id', 'image_index',\n",
       "       'image_name', 'image_name_next_flash', 'image_index_next_flash',\n",
       "       'omitted', 'change', 'pre_change', 'mean_running_speed', 'licked',\n",
       "       'rewarded', 'reward_rate', 'hit_fraction', 'engagement_state',\n",
       "       'lick_on_next_flash'],\n",
       "      dtype='object')"
      ]
     },
     "execution_count": 10,
     "metadata": {},
     "output_type": "execute_result"
    }
   ],
   "source": [
    "# this has stimulus presentations metadata for the same set of experiments\n",
    "stim_presentations.keys()"
   ]
  },
  {
   "cell_type": "code",
   "execution_count": 14,
   "metadata": {},
   "outputs": [],
   "source": [
    "# pick a Vip session\n",
    "ophys_session_id = stimulus_response_data[stimulus_response_data.cre_line=='Vip-IRES-Cre'].ophys_session_id.unique()[0]\n",
    "# get cell response data for this session\n",
    "session_data = stimulus_response_data[stimulus_response_data.ophys_session_id==ophys_session_id].copy()\n",
    "# get stimulus presentations data for this session\n",
    "session_stimuli = stim_presentations[stim_presentations.ophys_session_id==ophys_session_id].copy()\n",
    "\n",
    "# these two dataframes are linked by stimulus_presentations_id and ophys_session_id"
   ]
  },
  {
   "cell_type": "code",
   "execution_count": 15,
   "metadata": {},
   "outputs": [
    {
     "data": {
      "text/html": [
       "<div>\n",
       "<style scoped>\n",
       "    .dataframe tbody tr th:only-of-type {\n",
       "        vertical-align: middle;\n",
       "    }\n",
       "\n",
       "    .dataframe tbody tr th {\n",
       "        vertical-align: top;\n",
       "    }\n",
       "\n",
       "    .dataframe thead th {\n",
       "        text-align: right;\n",
       "    }\n",
       "</style>\n",
       "<table border=\"1\" class=\"dataframe\">\n",
       "  <thead>\n",
       "    <tr style=\"text-align: right;\">\n",
       "      <th></th>\n",
       "      <th>ophys_experiment_id</th>\n",
       "      <th>ophys_session_id</th>\n",
       "      <th>stimulus_presentations_id</th>\n",
       "      <th>cell_specimen_id</th>\n",
       "      <th>trace</th>\n",
       "      <th>trace_timestamps</th>\n",
       "      <th>mean_response</th>\n",
       "      <th>baseline_response</th>\n",
       "      <th>ophys_frame_rate</th>\n",
       "      <th>behavior_session_id</th>\n",
       "      <th>...</th>\n",
       "      <th>published_at</th>\n",
       "      <th>super_container_id</th>\n",
       "      <th>cre_line</th>\n",
       "      <th>session_tags</th>\n",
       "      <th>failure_tags</th>\n",
       "      <th>exposure_number</th>\n",
       "      <th>model_outputs_available</th>\n",
       "      <th>location</th>\n",
       "      <th>has_events</th>\n",
       "      <th>session_number</th>\n",
       "    </tr>\n",
       "  </thead>\n",
       "  <tbody>\n",
       "    <tr>\n",
       "      <td>1429311</td>\n",
       "      <td>935514366</td>\n",
       "      <td>933439847</td>\n",
       "      <td>0</td>\n",
       "      <td>1028832095</td>\n",
       "      <td>[-0.17192417690638828, -0.10087936870557397, -...</td>\n",
       "      <td>[-0.4661836057592707, -0.3729468846074166, -0....</td>\n",
       "      <td>0.079789</td>\n",
       "      <td>-0.017712</td>\n",
       "      <td>10.73</td>\n",
       "      <td>933504759</td>\n",
       "      <td>...</td>\n",
       "      <td>NaN</td>\n",
       "      <td>840355567</td>\n",
       "      <td>Vip-IRES-Cre</td>\n",
       "      <td>NaN</td>\n",
       "      <td>NaN</td>\n",
       "      <td>0</td>\n",
       "      <td>True</td>\n",
       "      <td>Vip_VISp_71</td>\n",
       "      <td>True</td>\n",
       "      <td>4</td>\n",
       "    </tr>\n",
       "    <tr>\n",
       "      <td>1429312</td>\n",
       "      <td>935514366</td>\n",
       "      <td>933439847</td>\n",
       "      <td>0</td>\n",
       "      <td>1028832582</td>\n",
       "      <td>[-0.10670657996099717, 0.21769890875614098, -0...</td>\n",
       "      <td>[-0.4661836057592707, -0.3729468846074166, -0....</td>\n",
       "      <td>0.062780</td>\n",
       "      <td>0.092257</td>\n",
       "      <td>10.73</td>\n",
       "      <td>933504759</td>\n",
       "      <td>...</td>\n",
       "      <td>NaN</td>\n",
       "      <td>840355567</td>\n",
       "      <td>Vip-IRES-Cre</td>\n",
       "      <td>NaN</td>\n",
       "      <td>NaN</td>\n",
       "      <td>0</td>\n",
       "      <td>True</td>\n",
       "      <td>Vip_VISp_71</td>\n",
       "      <td>True</td>\n",
       "      <td>4</td>\n",
       "    </tr>\n",
       "    <tr>\n",
       "      <td>1429313</td>\n",
       "      <td>935514366</td>\n",
       "      <td>933439847</td>\n",
       "      <td>0</td>\n",
       "      <td>1028831625</td>\n",
       "      <td>[0.06380861310592205, -0.04206825108114767, 0....</td>\n",
       "      <td>[-0.4661836057592707, -0.3729468846074166, -0....</td>\n",
       "      <td>0.062733</td>\n",
       "      <td>0.000480</td>\n",
       "      <td>10.73</td>\n",
       "      <td>933504759</td>\n",
       "      <td>...</td>\n",
       "      <td>NaN</td>\n",
       "      <td>840355567</td>\n",
       "      <td>Vip-IRES-Cre</td>\n",
       "      <td>NaN</td>\n",
       "      <td>NaN</td>\n",
       "      <td>0</td>\n",
       "      <td>True</td>\n",
       "      <td>Vip_VISp_71</td>\n",
       "      <td>True</td>\n",
       "      <td>4</td>\n",
       "    </tr>\n",
       "    <tr>\n",
       "      <td>1429314</td>\n",
       "      <td>935514366</td>\n",
       "      <td>933439847</td>\n",
       "      <td>0</td>\n",
       "      <td>1028832772</td>\n",
       "      <td>[-0.019588022839854006, -0.10852957256893847, ...</td>\n",
       "      <td>[-0.4661836057592707, -0.3729468846074166, -0....</td>\n",
       "      <td>0.024200</td>\n",
       "      <td>0.003009</td>\n",
       "      <td>10.73</td>\n",
       "      <td>933504759</td>\n",
       "      <td>...</td>\n",
       "      <td>NaN</td>\n",
       "      <td>840355567</td>\n",
       "      <td>Vip-IRES-Cre</td>\n",
       "      <td>NaN</td>\n",
       "      <td>NaN</td>\n",
       "      <td>0</td>\n",
       "      <td>True</td>\n",
       "      <td>Vip_VISp_71</td>\n",
       "      <td>True</td>\n",
       "      <td>4</td>\n",
       "    </tr>\n",
       "    <tr>\n",
       "      <td>1429315</td>\n",
       "      <td>935514366</td>\n",
       "      <td>933439847</td>\n",
       "      <td>0</td>\n",
       "      <td>1028832779</td>\n",
       "      <td>[-0.11147707535109455, 0.04882343961900136, -0...</td>\n",
       "      <td>[-0.4661836057592707, -0.3729468846074166, -0....</td>\n",
       "      <td>0.009895</td>\n",
       "      <td>-0.067906</td>\n",
       "      <td>10.73</td>\n",
       "      <td>933504759</td>\n",
       "      <td>...</td>\n",
       "      <td>NaN</td>\n",
       "      <td>840355567</td>\n",
       "      <td>Vip-IRES-Cre</td>\n",
       "      <td>NaN</td>\n",
       "      <td>NaN</td>\n",
       "      <td>0</td>\n",
       "      <td>True</td>\n",
       "      <td>Vip_VISp_71</td>\n",
       "      <td>True</td>\n",
       "      <td>4</td>\n",
       "    </tr>\n",
       "  </tbody>\n",
       "</table>\n",
       "<p>5 rows × 37 columns</p>\n",
       "</div>"
      ],
      "text/plain": [
       "         ophys_experiment_id  ophys_session_id  stimulus_presentations_id  \\\n",
       "1429311            935514366         933439847                          0   \n",
       "1429312            935514366         933439847                          0   \n",
       "1429313            935514366         933439847                          0   \n",
       "1429314            935514366         933439847                          0   \n",
       "1429315            935514366         933439847                          0   \n",
       "\n",
       "         cell_specimen_id                                              trace  \\\n",
       "1429311        1028832095  [-0.17192417690638828, -0.10087936870557397, -...   \n",
       "1429312        1028832582  [-0.10670657996099717, 0.21769890875614098, -0...   \n",
       "1429313        1028831625  [0.06380861310592205, -0.04206825108114767, 0....   \n",
       "1429314        1028832772  [-0.019588022839854006, -0.10852957256893847, ...   \n",
       "1429315        1028832779  [-0.11147707535109455, 0.04882343961900136, -0...   \n",
       "\n",
       "                                          trace_timestamps  mean_response  \\\n",
       "1429311  [-0.4661836057592707, -0.3729468846074166, -0....       0.079789   \n",
       "1429312  [-0.4661836057592707, -0.3729468846074166, -0....       0.062780   \n",
       "1429313  [-0.4661836057592707, -0.3729468846074166, -0....       0.062733   \n",
       "1429314  [-0.4661836057592707, -0.3729468846074166, -0....       0.024200   \n",
       "1429315  [-0.4661836057592707, -0.3729468846074166, -0....       0.009895   \n",
       "\n",
       "         baseline_response  ophys_frame_rate  behavior_session_id  ...  \\\n",
       "1429311          -0.017712             10.73            933504759  ...   \n",
       "1429312           0.092257             10.73            933504759  ...   \n",
       "1429313           0.000480             10.73            933504759  ...   \n",
       "1429314           0.003009             10.73            933504759  ...   \n",
       "1429315          -0.067906             10.73            933504759  ...   \n",
       "\n",
       "         published_at super_container_id      cre_line session_tags  \\\n",
       "1429311           NaN          840355567  Vip-IRES-Cre          NaN   \n",
       "1429312           NaN          840355567  Vip-IRES-Cre          NaN   \n",
       "1429313           NaN          840355567  Vip-IRES-Cre          NaN   \n",
       "1429314           NaN          840355567  Vip-IRES-Cre          NaN   \n",
       "1429315           NaN          840355567  Vip-IRES-Cre          NaN   \n",
       "\n",
       "        failure_tags exposure_number model_outputs_available     location  \\\n",
       "1429311          NaN               0                    True  Vip_VISp_71   \n",
       "1429312          NaN               0                    True  Vip_VISp_71   \n",
       "1429313          NaN               0                    True  Vip_VISp_71   \n",
       "1429314          NaN               0                    True  Vip_VISp_71   \n",
       "1429315          NaN               0                    True  Vip_VISp_71   \n",
       "\n",
       "         has_events  session_number  \n",
       "1429311        True               4  \n",
       "1429312        True               4  \n",
       "1429313        True               4  \n",
       "1429314        True               4  \n",
       "1429315        True               4  \n",
       "\n",
       "[5 rows x 37 columns]"
      ]
     },
     "execution_count": 15,
     "metadata": {},
     "output_type": "execute_result"
    }
   ],
   "source": [
    "session_data.head()"
   ]
  },
  {
   "cell_type": "code",
   "execution_count": 16,
   "metadata": {},
   "outputs": [
    {
     "data": {
      "text/html": [
       "<div>\n",
       "<style scoped>\n",
       "    .dataframe tbody tr th:only-of-type {\n",
       "        vertical-align: middle;\n",
       "    }\n",
       "\n",
       "    .dataframe tbody tr th {\n",
       "        vertical-align: top;\n",
       "    }\n",
       "\n",
       "    .dataframe thead th {\n",
       "        text-align: right;\n",
       "    }\n",
       "</style>\n",
       "<table border=\"1\" class=\"dataframe\">\n",
       "  <thead>\n",
       "    <tr style=\"text-align: right;\">\n",
       "      <th></th>\n",
       "      <th>ophys_session_id</th>\n",
       "      <th>stimulus_presentations_id</th>\n",
       "      <th>image_index</th>\n",
       "      <th>image_name</th>\n",
       "      <th>image_name_next_flash</th>\n",
       "      <th>image_index_next_flash</th>\n",
       "      <th>omitted</th>\n",
       "      <th>change</th>\n",
       "      <th>pre_change</th>\n",
       "      <th>mean_running_speed</th>\n",
       "      <th>licked</th>\n",
       "      <th>rewarded</th>\n",
       "      <th>reward_rate</th>\n",
       "      <th>hit_fraction</th>\n",
       "      <th>engagement_state</th>\n",
       "      <th>lick_on_next_flash</th>\n",
       "    </tr>\n",
       "  </thead>\n",
       "  <tbody>\n",
       "    <tr>\n",
       "      <td>0</td>\n",
       "      <td>933439847</td>\n",
       "      <td>0</td>\n",
       "      <td>0</td>\n",
       "      <td>im000</td>\n",
       "      <td>im000</td>\n",
       "      <td>0.0</td>\n",
       "      <td>False</td>\n",
       "      <td>False</td>\n",
       "      <td>False</td>\n",
       "      <td>1.625696</td>\n",
       "      <td>1</td>\n",
       "      <td>False</td>\n",
       "      <td>None</td>\n",
       "      <td>None</td>\n",
       "      <td>None</td>\n",
       "      <td>None</td>\n",
       "    </tr>\n",
       "    <tr>\n",
       "      <td>1</td>\n",
       "      <td>933439847</td>\n",
       "      <td>1</td>\n",
       "      <td>0</td>\n",
       "      <td>im000</td>\n",
       "      <td>im000</td>\n",
       "      <td>0.0</td>\n",
       "      <td>False</td>\n",
       "      <td>False</td>\n",
       "      <td>False</td>\n",
       "      <td>2.225213</td>\n",
       "      <td>0</td>\n",
       "      <td>False</td>\n",
       "      <td>None</td>\n",
       "      <td>None</td>\n",
       "      <td>None</td>\n",
       "      <td>None</td>\n",
       "    </tr>\n",
       "    <tr>\n",
       "      <td>2</td>\n",
       "      <td>933439847</td>\n",
       "      <td>2</td>\n",
       "      <td>0</td>\n",
       "      <td>im000</td>\n",
       "      <td>im000</td>\n",
       "      <td>0.0</td>\n",
       "      <td>False</td>\n",
       "      <td>False</td>\n",
       "      <td>False</td>\n",
       "      <td>5.024891</td>\n",
       "      <td>0</td>\n",
       "      <td>False</td>\n",
       "      <td>None</td>\n",
       "      <td>None</td>\n",
       "      <td>None</td>\n",
       "      <td>None</td>\n",
       "    </tr>\n",
       "    <tr>\n",
       "      <td>3</td>\n",
       "      <td>933439847</td>\n",
       "      <td>3</td>\n",
       "      <td>0</td>\n",
       "      <td>im000</td>\n",
       "      <td>im000</td>\n",
       "      <td>0.0</td>\n",
       "      <td>False</td>\n",
       "      <td>False</td>\n",
       "      <td>False</td>\n",
       "      <td>4.080798</td>\n",
       "      <td>0</td>\n",
       "      <td>False</td>\n",
       "      <td>None</td>\n",
       "      <td>None</td>\n",
       "      <td>None</td>\n",
       "      <td>None</td>\n",
       "    </tr>\n",
       "    <tr>\n",
       "      <td>4</td>\n",
       "      <td>933439847</td>\n",
       "      <td>4</td>\n",
       "      <td>0</td>\n",
       "      <td>im000</td>\n",
       "      <td>im000</td>\n",
       "      <td>0.0</td>\n",
       "      <td>False</td>\n",
       "      <td>False</td>\n",
       "      <td>False</td>\n",
       "      <td>2.053080</td>\n",
       "      <td>1</td>\n",
       "      <td>False</td>\n",
       "      <td>None</td>\n",
       "      <td>None</td>\n",
       "      <td>None</td>\n",
       "      <td>None</td>\n",
       "    </tr>\n",
       "  </tbody>\n",
       "</table>\n",
       "</div>"
      ],
      "text/plain": [
       "   ophys_session_id  stimulus_presentations_id  image_index image_name  \\\n",
       "0         933439847                          0            0      im000   \n",
       "1         933439847                          1            0      im000   \n",
       "2         933439847                          2            0      im000   \n",
       "3         933439847                          3            0      im000   \n",
       "4         933439847                          4            0      im000   \n",
       "\n",
       "  image_name_next_flash  image_index_next_flash  omitted  change pre_change  \\\n",
       "0                 im000                     0.0    False   False      False   \n",
       "1                 im000                     0.0    False   False      False   \n",
       "2                 im000                     0.0    False   False      False   \n",
       "3                 im000                     0.0    False   False      False   \n",
       "4                 im000                     0.0    False   False      False   \n",
       "\n",
       "   mean_running_speed  licked  rewarded reward_rate hit_fraction  \\\n",
       "0            1.625696       1     False        None         None   \n",
       "1            2.225213       0     False        None         None   \n",
       "2            5.024891       0     False        None         None   \n",
       "3            4.080798       0     False        None         None   \n",
       "4            2.053080       1     False        None         None   \n",
       "\n",
       "  engagement_state lick_on_next_flash  \n",
       "0             None               None  \n",
       "1             None               None  \n",
       "2             None               None  \n",
       "3             None               None  \n",
       "4             None               None  "
      ]
     },
     "execution_count": 16,
     "metadata": {},
     "output_type": "execute_result"
    }
   ],
   "source": [
    "session_stimuli.head()"
   ]
  },
  {
   "cell_type": "markdown",
   "metadata": {},
   "source": [
    "#### select changes"
   ]
  },
  {
   "cell_type": "code",
   "execution_count": 50,
   "metadata": {},
   "outputs": [
    {
     "data": {
      "text/plain": [
       "Index(['ophys_experiment_id', 'ophys_session_id', 'stimulus_presentations_id',\n",
       "       'cell_specimen_id', 'trace', 'trace_timestamps', 'mean_response',\n",
       "       'baseline_response', 'ophys_frame_rate', 'behavior_session_id',\n",
       "       'container_id', 'project_code', 'container_workflow_state',\n",
       "       'experiment_workflow_state', 'session_name', 'session_type',\n",
       "       'equipment_name', 'date_of_acquisition', 'isi_experiment_id',\n",
       "       'specimen_id', 'sex', 'age_in_days', 'full_genotype', 'reporter_line',\n",
       "       'driver_line', 'imaging_depth', 'targeted_structure', 'published_at',\n",
       "       'super_container_id', 'cre_line', 'session_tags', 'failure_tags',\n",
       "       'exposure_number', 'model_outputs_available', 'location', 'has_events',\n",
       "       'session_number'],\n",
       "      dtype='object')"
      ]
     },
     "execution_count": 50,
     "metadata": {},
     "output_type": "execute_result"
    }
   ],
   "source": [
    "# population response vector for a change trial in that session \n",
    "\n",
    "# get change trial stimulus_presentation_ids\n",
    "change_trials = session_stimuli[session_stimuli.change==True]\n",
    "change_stimulus_presentation_ids = change_trials.stimulus_presentations_id.values\n",
    "# get cell response data for those trials\n",
    "change_data = session_data[session_data.stimulus_presentations_id.isin(change_stimulus_presentation_ids)]\n",
    "# get responses for the first change trial\n",
    "this_trial = change_stimulus_presentation_ids[0]\n",
    "trial_data = change_data[change_data.stimulus_presentations_id==this_trial]\n",
    "# what columns are available in the cell response data? \n",
    "trial_data.keys()"
   ]
  },
  {
   "cell_type": "code",
   "execution_count": 49,
   "metadata": {},
   "outputs": [
    {
     "data": {
      "text/plain": [
       "Index(['ophys_session_id', 'stimulus_presentations_id', 'image_index',\n",
       "       'image_name', 'image_name_next_flash', 'image_index_next_flash',\n",
       "       'omitted', 'change', 'pre_change', 'mean_running_speed', 'licked',\n",
       "       'rewarded', 'reward_rate', 'hit_fraction', 'engagement_state',\n",
       "       'lick_on_next_flash'],\n",
       "      dtype='object')"
      ]
     },
     "execution_count": 49,
     "metadata": {},
     "output_type": "execute_result"
    }
   ],
   "source": [
    "# what columns are available to use as labels? \n",
    "change_trials.keys()"
   ]
  },
  {
   "cell_type": "code",
   "execution_count": null,
   "metadata": {},
   "outputs": [],
   "source": [
    "# get reward data for this trial - if rewarded, its a hit, if not, its a miss\n",
    "rewarded = change_trials[change_trials.stimulus_presentations_id==this_trial].rewarded.values[0]"
   ]
  },
  {
   "cell_type": "code",
   "execution_count": 40,
   "metadata": {},
   "outputs": [
    {
     "data": {
      "text/plain": [
       "True"
      ]
     },
     "execution_count": 40,
     "metadata": {},
     "output_type": "execute_result"
    }
   ],
   "source": [
    "# label for this trial - whether mouse correctly responded or not\n",
    "rewarded"
   ]
  },
  {
   "cell_type": "code",
   "execution_count": 41,
   "metadata": {},
   "outputs": [
    {
     "data": {
      "text/plain": [
       "1429617    [0.012363328227400168, 0.04944911768350993, 0....\n",
       "1429618    [-0.03130673247658728, 0.03132648949937684, -0...\n",
       "1429619    [-0.04907283881360015, 0.00292257680030553, 0....\n",
       "1429620    [-0.07941507967824235, 0.09237048312163146, -0...\n",
       "1429621    [0.03619254094410716, -0.00925070360707819, -0...\n",
       "                                 ...                        \n",
       "2110450    [0.0796573874628984, 0.008394976073131541, 0.0...\n",
       "2110451    [-0.11772581998321235, -0.024870468238356428, ...\n",
       "2110452    [-0.00529190003914155, 0.08613685494978711, -0...\n",
       "2163117    [-0.16340084784558767, -0.15071787807477816, -...\n",
       "2163118    [-0.06142803549223368, -0.12950276513213277, -...\n",
       "Name: trace, Length: 155, dtype: object"
      ]
     },
     "execution_count": 41,
     "metadata": {},
     "output_type": "execute_result"
    }
   ],
   "source": [
    "# all cell traces for this trial\n",
    "trial_data.trace"
   ]
  },
  {
   "cell_type": "code",
   "execution_count": 42,
   "metadata": {},
   "outputs": [
    {
     "data": {
      "text/plain": [
       "Text(0.5, 1.0, 'population response for one change trial')"
      ]
     },
     "execution_count": 42,
     "metadata": {},
     "output_type": "execute_result"
    },
    {
     "data": {
      "image/png": "[encoded data removed]",
      "text/plain": [
       "<Figure size 432x288 with 1 Axes>"
      ]
     },
     "metadata": {
      "needs_background": "light"
     },
     "output_type": "display_data"
    }
   ],
   "source": [
    "# population response vector for this trial\n",
    "plt.plot(trial_data.mean_response.values, 'ok')\n",
    "plt.xlabel('cell_specimen_id')\n",
    "plt.ylabel('mean response (dF/F)')\n",
    "plt.title('population response for one change trial')"
   ]
  },
  {
   "cell_type": "markdown",
   "metadata": {},
   "source": [
    "#### select omissions"
   ]
  },
  {
   "cell_type": "code",
   "execution_count": 54,
   "metadata": {},
   "outputs": [],
   "source": [
    "# population response vector for an omission trial in that session \n",
    "\n",
    "# get omission trial stimulus_presentation_ids\n",
    "omission_trials = session_stimuli[session_stimuli.omitted==True]\n",
    "omission_stimulus_presentation_ids = omission_trials.stimulus_presentations_id.values\n",
    "# get cell response data for those trials\n",
    "omission_data = session_data[session_data.stimulus_presentations_id.isin(omission_stimulus_presentation_ids)]\n",
    "# get the first change trial\n",
    "this_trial = omission_stimulus_presentation_ids[0]\n",
    "trial_data = omission_data[omission_data.stimulus_presentations_id==this_trial]"
   ]
  },
  {
   "cell_type": "code",
   "execution_count": 55,
   "metadata": {},
   "outputs": [
    {
     "data": {
      "text/plain": [
       "Index(['ophys_session_id', 'stimulus_presentations_id', 'image_index',\n",
       "       'image_name', 'image_name_next_flash', 'image_index_next_flash',\n",
       "       'omitted', 'change', 'pre_change', 'mean_running_speed', 'licked',\n",
       "       'rewarded', 'reward_rate', 'hit_fraction', 'engagement_state',\n",
       "       'lick_on_next_flash'],\n",
       "      dtype='object')"
      ]
     },
     "execution_count": 55,
     "metadata": {},
     "output_type": "execute_result"
    }
   ],
   "source": [
    "# what columns are available to use as labels? \n",
    "omission_trials.keys()"
   ]
  },
  {
   "cell_type": "code",
   "execution_count": 56,
   "metadata": {},
   "outputs": [],
   "source": [
    "# get image index for next flash (should be previous flash...)\n",
    "image_index_next_flash = omission_trials[omission_trials.stimulus_presentations_id==this_trial].image_index_next_flash.values[0]"
   ]
  },
  {
   "cell_type": "code",
   "execution_count": 57,
   "metadata": {},
   "outputs": [
    {
     "data": {
      "text/plain": [
       "7.0"
      ]
     },
     "execution_count": 57,
     "metadata": {},
     "output_type": "execute_result"
    }
   ],
   "source": [
    "# label for this trial \n",
    "image_index_next_flash"
   ]
  },
  {
   "cell_type": "code",
   "execution_count": 58,
   "metadata": {},
   "outputs": [
    {
     "data": {
      "text/plain": [
       "1429957    [0.0038385509307451507, -0.01104906011310088, ...\n",
       "1429958    [-0.09382874164381957, -0.08599024139757776, 0...\n",
       "1429959    [-0.087458122962857, -0.06430345081794989, -0....\n",
       "1429960    [-0.03115527613901582, -0.028444007755090428, ...\n",
       "1429961    [-0.048595958740559456, 0.026923073160912893, ...\n",
       "                                 ...                        \n",
       "2110560    [0.11805242208364283, 0.09369215294328054, -0....\n",
       "2110561    [0.36981817992068816, 0.14912582327947746, -0....\n",
       "2110562    [-0.027316564153548082, -0.05235505305811662, ...\n",
       "2163137    [0.09415740157754365, 0.11828746350249301, -0....\n",
       "2163138    [-0.016080139912552346, 0.037368204685545026, ...\n",
       "Name: trace, Length: 155, dtype: object"
      ]
     },
     "execution_count": 58,
     "metadata": {},
     "output_type": "execute_result"
    }
   ],
   "source": [
    "# all cell traces for this trial\n",
    "trial_data.trace"
   ]
  },
  {
   "cell_type": "code",
   "execution_count": 59,
   "metadata": {},
   "outputs": [
    {
     "data": {
      "text/plain": [
       "Text(0.5, 1.0, 'population response for one omission trial')"
      ]
     },
     "execution_count": 59,
     "metadata": {},
     "output_type": "execute_result"
    },
    {
     "data": {
      "image/png": "[encoded data removed]",
      "text/plain": [
       "<Figure size 432x288 with 1 Axes>"
      ]
     },
     "metadata": {
      "needs_background": "light"
     },
     "output_type": "display_data"
    }
   ],
   "source": [
    "# population response vector for this trial\n",
    "plt.plot(trial_data.mean_response.values, 'ok')\n",
    "plt.xlabel('cell_specimen_id')\n",
    "plt.ylabel('mean response (dF/F)')\n",
    "plt.title('population response for one omission trial')"
   ]
  },
  {
   "cell_type": "code",
   "execution_count": null,
   "metadata": {},
   "outputs": [],
   "source": []
  },
  {
   "cell_type": "code",
   "execution_count": null,
   "metadata": {},
   "outputs": [],
   "source": []
  },
  {
   "cell_type": "code",
   "execution_count": null,
   "metadata": {},
   "outputs": [],
   "source": []
  },
  {
   "cell_type": "code",
   "execution_count": null,
   "metadata": {},
   "outputs": [],
   "source": []
  },
  {
   "cell_type": "markdown",
   "metadata": {},
   "source": [
    "### underlying code"
   ]
  },
  {
   "cell_type": "markdown",
   "metadata": {},
   "source": [
    "#### generating multi session dataframes (this can be done using the code below or by running cluster jobs with scripts in VBA which is much faster)"
   ]
  },
  {
   "cell_type": "code",
   "execution_count": null,
   "metadata": {},
   "outputs": [],
   "source": [
    "from visual_behavior.ophys.response_analysis.response_analysis import ResponseAnalysis"
   ]
  },
  {
   "cell_type": "code",
   "execution_count": null,
   "metadata": {},
   "outputs": [],
   "source": [
    "run_batch_processing = False\n",
    "\n",
    "project_code = 'VisualBehaviorMultiscope'\n",
    "cre_line = 'Vip-IRES-Cre'\n",
    "session_number = 4 # novel images\n",
    "\n",
    "save_dir = r'/allen/programs/braintv/workgroups/nc-ophys/visual_behavior/decoding/data'\n",
    "\n",
    "experiments_table = loading.get_filtered_ophys_experiment_table()\n",
    "experiments = experiments_table[(experiments_table.project_code == project_code) &\n",
    "                                (experiments_table.session_number == session_number)&\n",
    "                                (experiments_table.cre_line == cre_line)].copy()\n",
    "\n",
    "if run_batch_processing: # to prevent this from automatically running if you hit run all cells - it takes a while\n",
    "    # get stimulus presentations data across sessions\n",
    "    stim_df = pd.DataFrame()\n",
    "    for ophys_session_id in experiments.ophys_session_id.unique():\n",
    "        try:\n",
    "            print(ophys_session_id, '-', np.where(experiments.ophys_session_id.unique()==ophys_session_id)[0][0],\n",
    "                 'out of ', len(experiments.ophys_session_id.unique()))\n",
    "            # get stimulus presentations data\n",
    "            ophys_experiment_id = loading.get_ophys_experiment_id_for_ophys_session_id(ophys_session_id)\n",
    "            dataset = loading.get_ophys_dataset(ophys_experiment_id)\n",
    "            stim = dataset.extended_stimulus_presentations.copy()\n",
    "            stim = stim.reset_index()\n",
    "            # add columns\n",
    "            stim['ophys_session_id'] = ophys_session_id\n",
    "            if 'hit_fraction' not in stim.keys():\n",
    "                stim['reward_rate'] = None\n",
    "                stim['hit_fraction'] = None\n",
    "                stim['engagement_state'] = None\n",
    "                stim['lick_on_next_flash'] = None\n",
    "            stim['rewarded'] = [True if len(rewards)>0 else False for rewards in stim.rewards.values]\n",
    "            # select desired columns\n",
    "            stim = stim[['ophys_session_id', 'stimulus_presentations_id', 'image_index', 'image_name',\n",
    "                         'image_name_next_flash', 'image_index_next_flash',\n",
    "                         'omitted', 'change', 'pre_change', 'mean_running_speed', 'licked', 'rewarded',\n",
    "                         'reward_rate', 'hit_fraction', 'engagement_state', 'lick_on_next_flash']]\n",
    "            # concatenate\n",
    "            stim_df = pd.concat([stim_df, stim])\n",
    "        except Exception as e:\n",
    "            print('problem for ophys_session_id:', ophys_session_id)\n",
    "            print(e)\n",
    "    # save dataframe to standardized location\n",
    "    # stim_df.to_hdf(os.path.join(save_dir, 'stimulus_presentations_'+project_code+'_session_'+str(session_number)+'.h5'), key='df')\n",
    "\n",
    "\n",
    "    # get stimulus response dfs\n",
    "    response_df = pd.DataFrame()\n",
    "    for ophys_experiment_id in experiments.index.values:\n",
    "        try:\n",
    "            print(ophys_experiment_id, '-', np.where(experiments.index.values == ophys_experiment_id)[0][0],\n",
    "                  'out of ', len(experiments.index.values))\n",
    "            # get stimulus responses for this experiment\n",
    "            dataset = loading.get_ophys_dataset(ophys_experiment_id)\n",
    "            analysis = ResponseAnalysis(dataset, use_extended_stimulus_presentations=False)\n",
    "            stim_response_df = analysis.get_response_df(df_name='stimulus_response_df')\n",
    "            sdf = stim_response_df.copy()\n",
    "            # limit to [0, 0.75] second window\n",
    "            sdf['trace'] = [sdf.iloc[index].trace[sdf.iloc[index].trace_timestamps < 0] for index in sdf.index.values]\n",
    "            # modify and select desired columns\n",
    "            sdf['ophys_experiment_id'] = ophys_experiment_id\n",
    "            sdf['ophys_session_id'] = loading.get_ophys_session_id_for_ophys_experiment_id(ophys_experiment_id)\n",
    "            sdf['ophys_frame_rate'] = np.round(analysis.ophys_frame_rate, 2)\n",
    "            sdf = sdf[['ophys_experiment_id', 'ophys_session_id','stimulus_presentations_id', 'cell_specimen_id', 'trace',\n",
    "                       'trace_timestamps', 'mean_response', 'baseline_response', 'ophys_frame_rate']]\n",
    "            # concatenate\n",
    "            response_df = pd.concat([response_df, sdf])\n",
    "        except Exception as e:\n",
    "            print('problem for ophys_experiment_id:', ophys_experiment_id)\n",
    "            print(e)\n",
    "    # save dataframe to standardized location\n",
    "    # response_df.to_hdf(os.path.join(save_dir, 'stimulus_response_dfs_'+project_code+'_'+cre_line+'_session_'+str(session_number)+'.h5'), key='df')\n",
    "\n",
    "    \n",
    "    # merge cell responses with stimulus information\n",
    "    stimulus_response_data = response_df.merge(stim_presentations, on='ophys_session_id')\n",
    "    # merge with experiment level metadata\n",
    "    stimulus_response_data = stimulus_response_data.merge(experiments_table, on='ophys_experiment_id') "
   ]
  },
  {
   "cell_type": "code",
   "execution_count": null,
   "metadata": {},
   "outputs": [],
   "source": [
    "stimulus_response_data.keys()"
   ]
  },
  {
   "cell_type": "markdown",
   "metadata": {},
   "source": [
    "#### loading previously generated dataframes - these are all in VBA in data_access.loading, shown here just for reference"
   ]
  },
  {
   "cell_type": "code",
   "execution_count": null,
   "metadata": {},
   "outputs": [],
   "source": [
    "def get_concatenated_stimulus_presentations(project_codes=None, session_numbers=None):\n",
    "    \"\"\"\n",
    "    loads stimulus presentation table data for multiple sessions from cached files.\n",
    "    dataframe contains stimulus information including image_name, change, licked, omitted, etc for every stimulus presentation.\n",
    "    can be merged with stimulus_response_dfs to get cell responses for all stimulus presentations.\n",
    "\n",
    "    if desired project codes and session numbers are not specified, all data will be loaded.\n",
    "    project_codes and session_numbers should be provided as lists,\n",
    "    ex: project_codes = ['VisualBehaviorTask1B', 'VisualBehaviorMultiscope], session_numbers = [3, 4]\n",
    "    \"\"\"\n",
    "\n",
    "    save_dir = r'\\\\allen\\programs\\braintv\\workgroups\\nc-ophys\\visual_behavior\\decoding\\data'\n",
    "    experiments_table = get_filtered_ophys_experiment_table()\n",
    "    if project_codes is None:\n",
    "        project_codes = experiments_table.project_code.unique()\n",
    "    if session_numbers is None:\n",
    "        session_numbers = experiments_table.session_number.unique()\n",
    "\n",
    "    concatenated_stimulus_presentations = pd.DataFrame()\n",
    "    for project_code in project_codes:\n",
    "        for session_number in session_numbers:\n",
    "            try:\n",
    "                df = pd.read_hdf(os.path.join(save_dir, 'stimulus_presentations_' + project_code + '_session_' + str(\n",
    "                    session_number) + '.h5'), key='df')\n",
    "                concatenated_stimulus_presentations = pd.concat([concatenated_stimulus_presentations, df])\n",
    "            except Exception as e:\n",
    "                print('problem for', project_code, session_number)\n",
    "                print(e)\n",
    "    return concatenated_stimulus_presentations\n",
    "\n",
    "\n",
    "def get_concatenated_stimulus_response_dfs(project_codes=None, session_numbers=None):\n",
    "    \"\"\"\n",
    "    loads stimulus response dataframes for multiple sessions from cached files.\n",
    "    dataframe contains the response of each cell for each stimulus presentation across sessions,\n",
    "    including the trace in a [0, 0.75] second window, the mean response in that window, etc.\n",
    "    can be merged with stimulus presentations to get the stimulus conditions for each cell response.\n",
    "\n",
    "    if desired project codes and session numbers are not specified, all data will be loaded.\n",
    "    project_codes and session_numbers should be provided as lists,\n",
    "    ex: project_codes = ['VisualBehaviorTask1B', 'VisualBehaviorMultiscope], session_numbers = [3, 4]\n",
    "    \"\"\"\n",
    "\n",
    "    save_dir = r'\\\\allen\\programs\\braintv\\workgroups\\nc-ophys\\visual_behavior\\decoding\\data'\n",
    "    experiments_table = get_filtered_ophys_experiment_table()\n",
    "    if project_codes is None:\n",
    "        project_codes = experiments_table.project_code.unique()\n",
    "    if session_numbers is None:\n",
    "        session_numbers = experiments_table.session_number.unique()\n",
    "    cre_lines = experiments_table.cre_line.unique()\n",
    "\n",
    "    concatenated_stimulus_response_dfs = pd.DataFrame()\n",
    "    for project_code in project_codes:\n",
    "        for session_number in session_numbers:\n",
    "            for cre_line in cre_lines:\n",
    "                try:\n",
    "                    df = pd.read_hdf(os.path.join(save_dir, 'stimulus_response_dfs_'+project_code+'_'+cre_line+'_session_'+str(session_number)+'.h5'), key='df')\n",
    "                    concatenated_stimulus_response_dfs = pd.concat([concatenated_stimulus_response_dfs, df])\n",
    "                except Exception as e:\n",
    "                    print('problem for', project_code, cre_line, session_number)\n",
    "                    print(e)\n",
    "    return concatenated_stimulus_response_dfs\n",
    "\n",
    "\n",
    "def get_stimulus_response_data_across_sessions(project_codes=None, session_numbers=None):\n",
    "    \"\"\"\n",
    "    loads and merges stimulus_response_dfs, stimulus_presentations data, and experiments_table metadata\n",
    "    across sessions for a given set of project_codes and session_numbers. \n",
    "    returns all cell responses for all image flashes for that set of sessions.\n",
    "    \n",
    "    if desired project codes and session numbers are not specified, all data will be loaded (slow).\n",
    "    project_codes and session_numbers should be provided as lists,\n",
    "    ex: project_codes = ['VisualBehaviorTask1B', 'VisualBehaviorMultiscope], session_numbers = [3, 4]\n",
    "    \"\"\"\n",
    "    \n",
    "    save_dir = r'\\\\allen\\programs\\braintv\\workgroups\\nc-ophys\\visual_behavior\\decoding\\data'\n",
    "    experiments_table = loading.get_filtered_ophys_experiment_table()\n",
    "    if project_codes is None: \n",
    "        project_code = experiments_table.project_code.unique()\n",
    "    if session_numbers is None:\n",
    "        session_numbers = experiments_table.session_number.unique()\n",
    "    \n",
    "    stim_presentations = loading.get_concatenated_stimulus_presentations(project_codes, session_numbers)\n",
    "    stim_response_dfs = loading.get_concatenated_stimulus_response_dfs(project_codes, session_numbers)\n",
    "    stimulus_response_data = stim_response_dfs.merge(stim_presentations, on='ophys_session_id')\n",
    "    stimulus_response_data = stimulus_response_data.merge(experiments_table, on='ophys_experiment_id')\n",
    "    return stimulus_response_data"
   ]
  },
  {
   "cell_type": "markdown",
   "metadata": {},
   "source": [
    "#### using convenience function to load desired sessions\n"
   ]
  },
  {
   "cell_type": "code",
   "execution_count": null,
   "metadata": {},
   "outputs": [],
   "source": [
    "%%time\n",
    "project_codes = ['VisualBehavior']\n",
    "session_numbers = [4]\n",
    "data = loading.get_stimulus_response_data_across_sessions(project_codes, session_numbers)"
   ]
  },
  {
   "cell_type": "code",
   "execution_count": null,
   "metadata": {},
   "outputs": [],
   "source": [
    "data.keys()"
   ]
  },
  {
   "cell_type": "code",
   "execution_count": null,
   "metadata": {},
   "outputs": [],
   "source": []
  },
  {
   "cell_type": "code",
   "execution_count": null,
   "metadata": {},
   "outputs": [],
   "source": []
  },
  {
   "cell_type": "code",
   "execution_count": null,
   "metadata": {},
   "outputs": [],
   "source": []
  },
  {
   "cell_type": "code",
   "execution_count": null,
   "metadata": {},
   "outputs": [],
   "source": []
  },
  {
   "cell_type": "markdown",
   "metadata": {},
   "source": [
    "## FN code"
   ]
  },
  {
   "cell_type": "code",
   "execution_count": null,
   "metadata": {},
   "outputs": [],
   "source": [
    "cols = ['session_id', 'experiment_id', 'mouse_id', 'date', 'cre', 'stage', 'area', 'depth', 'frame_dur', 'omission_response_xr', 'trials_response_df', 'image_names_inds', 'run_speed_times', 'run_speed_traces'] \n",
    "all_sess_allN_allO = pd.DataFrame([], columns=cols) # size: 8*len(num_sessions)\n",
    "errors_iexp = []\n",
    "errors_log = []\n",
    "for iexp in np.arange(0, experiments_table_2an.shape[0]): # iexp = 0 \n",
    "    experiment_id = experiments_table_2an.index[iexp]     # experiments_table_2an.iloc[experiments_table_2an.index == ophys_experiment_id]\n",
    "    session_id = experiments_table_2an.iloc[iexp]['ophys_session_id']\n",
    "#     session_id = experiments_table[experiments_table.index.values==ophys_experiment_id].iloc[0]['ophys_session_id']\n",
    "    print(f'\\n\\n------------ Setting vars for experiment_id {experiment_id} , session_id {session_id} , ({iexp} / {experiments_table_2an.shape[0]}) ------------\\n\\n')\n",
    "    cre = experiments_table_2an.iloc[iexp]['cre_line']\n",
    "    date = experiments_table_2an.iloc[iexp]['date_of_acquisition'][:10]\n",
    "    stage = experiments_table_2an.iloc[iexp]['session_type']\n",
    "    area = experiments_table_2an.iloc[iexp]['targeted_structure']\n",
    "    depth = int(experiments_table_2an.iloc[iexp]['imaging_depth'])\n",
    "    project_code = experiments_table_2an.iloc[iexp]['project_code']\n",
    "    session_name = str(experiments_table_2an.iloc[iexp]['session_name'])\n",
    "    uind = [m.start() for m in re.finditer('_', session_name)]\n",
    "    mid = session_name[uind[0]+1 : uind[1]]\n",
    "    if len(mid)<6: # a different nomenclature for session_name was used for session_id: 935559843\n",
    "        mouse_id = int(session_name[uind[-1]+1 :])\n",
    "    else:\n",
    "        mouse_id = int(mid)\n",
    "    try:\n",
    "        # get SDK dataset through VBA loading function # this function gets an SDK session object then does a bunch of reformatting to fix things\n",
    "        dataset = loading.get_ophys_dataset(experiment_id, include_invalid_rois=False)\n",
    "        frame_dur = np.mean(np.diff(dataset.ophys_timestamps))\n",
    "        n_neurons = dataset.dff_traces.shape[0]\n",
    "        if n_neurons > 0: # get 3d traces: frames x trials x units\n",
    "            omission_response_xr = get_omission_response_xr(dataset, use_events=False, frame_rate=None)\n",
    "        #     n_omissions = omission_response_xr['trial_id'].values.shape[0] \n",
    "        #     n_neurons = omission_response_xr['trace_id'].values.shape[0]\n",
    "        #     time_trace = omission_response_xr['eventlocked_timestamps'].values\n",
    "        #     traces_ftu = omission_response_xr['eventlocked_traces'].values # frames x trials x neurons\n",
    "            # the cell_ids defined below is same as cell_ids.astype(int)[:n_neurons] when cell_ids is defined out of omission_response_df\n",
    "        #     cell_ids = omission_response_xr['trace_id'].values\n",
    "        else:\n",
    "            omission_response_xr = np.nan\n",
    "        #%% ResponseAnalysis class provides access to time aligned cell responses for trials, stimuli, and omissions\n",
    "        # VBA also has useful functionality for creating data frames with cell traces aligned to the time of stimulus presentations, omissions, or behavioral trials. \n",
    "        analysis = ResponseAnalysis(dataset)  \n",
    "        #%% Keep image names\n",
    "        stim_response_df = analysis.get_response_df(df_name='stimulus_response_df')\n",
    "#         np.shape(stim_response_df) # (neurons x flashes) x 19 (columns)\n",
    "        cell0 = stim_response_df['cell_specimen_id'].values[0] # get flashes for one of the cells\n",
    "        s = stim_response_df[stim_response_df['cell_specimen_id'].values==cell0]\n",
    "        image_names_inds = s[['stimulus_presentations_id', 'image_index', 'image_name']]\n",
    "        #%% Get image-change aligned traces\n",
    "        trials_response_df = analysis.get_response_df(df_name='trials_response_df')\n",
    "        #%% Get running speed for omission-aligned traces \n",
    "        run_speed_df = analysis.get_response_df(df_name='omission_run_speed_df')\n",
    "#         run_speed_df.head()\n",
    "#         np.shape(run_speed_df)\n",
    "        # running speed averaged across all omissions\n",
    "        run_speed_times = run_speed_df['trace_timestamps'].values[0] # times (60Hz)\n",
    "        run_speed_traces = np.vstack(run_speed_df['trace']).T # times x omissions (remember the last omission is missing due to some issues in responseAnalysis)\n",
    "#         plt.plot(run_speed_times, run_speed_df.trace.mean())\n",
    "#         plt.title('average omission triggered running behavior')\n",
    "#         plt.xlabel('time after omission (s)')\n",
    "#         plt.ylabel('run speed (cm/s)')\n",
    "        #%% Get pupil area for omission-aligned traces \n",
    "        # this part didnt work; wrote marina/doug about it:\n",
    "        '''\n",
    "        pupil_area_df = analysis.get_response_df(df_name='omission_pupil_area_df')\n",
    "        pupil_area_df.head()\n",
    "        np.shape(pupil_area_df)\n",
    "        # pupil area averaged across all omissions\n",
    "        pupil_times = pupil_area_df['trace_timestamps'].values[0] # times (60Hz)\n",
    "        pupil_traces = np.vstack(pupil_area_df['trace']).T # times x neurons\n",
    "#         plt.plot(run_times, run_speed_df.trace.mean())\n",
    "#         plt.title('average omission triggered running behavior')\n",
    "#         plt.xlabel('time after omission (s)')\n",
    "#         plt.ylabel('run speed (cm/s)')\n",
    "        '''\n",
    "        '''\n",
    "        # get omission triggered responses \n",
    "        omission_response_df = analysis.get_response_df(df_name='omission_response_df')\n",
    "        cell_ids = omission_response_df['cell_specimen_id'].values.astype(float)\n",
    "        if np.isnan(cell_ids).any(): # cell matching has not been run, just copy cell roi ids to cell specimen ids\n",
    "            print(f'\\n\\n Warning! experiment {experiment_id} does not have cell_specimen_id; using cell_roi_id instead....\\n\\n')\n",
    "            dataset.dff_traces.index = dataset.dff_traces.cell_roi_id\n",
    "            analysis = ResponseAnalysis(dataset) \n",
    "            omission_response_df = analysis.get_response_df(df_name='omission_response_df')\n",
    "        frame_dur = np.mean(np.diff(omission_response_df['trace_timestamps'].iloc[iexp]))\n",
    "    #     n_neurons = len(np.unique(omission_response_df['cell_specimen_id']))\n",
    "        n_omissions = int(omission_response_df.shape[0] / n_neurons)\n",
    "    #     sum(dataset.stimulus_presentations['omitted']==True)\n",
    "    #     sum(stim_response_df['omitted']) / n_neurons\n",
    "    #     a = omission_response_df[['cell_specimen_id', 'trace', 'trace_timestamps']]\n",
    "        traces_allN_allO = np.vstack(omission_response_df['trace'].values) # all neurons and all omissions x frames (107)  # all neurons, omission 1, then all neurons omission 2, etc.... all neuron traces for all omissions are concatenated.\n",
    "        '''\n",
    "        all_sess_allN_allO.at[iexp, ['session_id', 'experiment_id', 'mouse_id', 'date', 'cre', 'stage', 'area', 'depth', \\\n",
    "                                     'frame_dur', 'omission_response_xr', 'trials_response_df', 'image_names_inds', 'run_speed_times', 'run_speed_traces']] = \\\n",
    "            session_id ,  experiment_id ,  mouse_id ,  date ,  cre ,  stage ,  area ,  depth ,  frame_dur ,  omission_response_xr, trials_response_df, image_names_inds, run_speed_times, run_speed_traces\n",
    "    #     all_sess_allN_allO.at[iexp, ['session_id', 'experiment_id', 'mouse_id', 'date', 'cre', 'stage', 'area', 'depth', \\\n",
    "    #                                  'n_omissions', 'n_neurons', 'frame_dur', 'cell_specimen_id', 'traces_allN_allO']] = \\\n",
    "    #         session_id ,  experiment_id ,  mouse_id ,  date ,  cre ,  stage ,  area ,  depth ,  n_omissions ,  n_neurons ,  frame_dur ,  cell_ids , traces_allN_allO\n",
    "    except Exception as e:\n",
    "        print(e)\n",
    "        errors_iexp.append(iexp)\n",
    "        errors_log.append(e)"
   ]
  },
  {
   "cell_type": "code",
   "execution_count": null,
   "metadata": {},
   "outputs": [],
   "source": []
  },
  {
   "cell_type": "code",
   "execution_count": null,
   "metadata": {},
   "outputs": [],
   "source": []
  },
  {
   "cell_type": "code",
   "execution_count": null,
   "metadata": {},
   "outputs": [],
   "source": []
  },
  {
   "cell_type": "code",
   "execution_count": null,
   "metadata": {},
   "outputs": [],
   "source": []
  },
  {
   "cell_type": "code",
   "execution_count": null,
   "metadata": {},
   "outputs": [],
   "source": []
  },
  {
   "cell_type": "code",
   "execution_count": null,
   "metadata": {},
   "outputs": [],
   "source": []
  },
  {
   "cell_type": "code",
   "execution_count": null,
   "metadata": {},
   "outputs": [],
   "source": []
  },
  {
   "cell_type": "code",
   "execution_count": null,
   "metadata": {},
   "outputs": [],
   "source": []
  },
  {
   "cell_type": "code",
   "execution_count": null,
   "metadata": {},
   "outputs": [],
   "source": []
  },
  {
   "cell_type": "code",
   "execution_count": null,
   "metadata": {},
   "outputs": [],
   "source": []
  },
  {
   "cell_type": "code",
   "execution_count": null,
   "metadata": {},
   "outputs": [],
   "source": []
  },
  {
   "cell_type": "code",
   "execution_count": null,
   "metadata": {},
   "outputs": [],
   "source": []
  },
  {
   "cell_type": "code",
   "execution_count": null,
   "metadata": {},
   "outputs": [],
   "source": []
  }
 ],
 "metadata": {
  "kernelspec": {
   "display_name": "visual_behavior_sdk",
   "language": "python",
   "name": "visual_behavior_sdk"
  }
 },
 "nbformat": 4,
 "nbformat_minor": 2
}
