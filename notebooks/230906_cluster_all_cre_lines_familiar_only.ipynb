{
 "cells": [
  {
   "cell_type": "code",
   "execution_count": 268,
   "id": "182b2a95",
   "metadata": {},
   "outputs": [],
   "source": [
    "import os\n",
    "import numpy as np\n",
    "import pandas as pd\n",
    "import matplotlib.pyplot as plt\n",
    "\n",
    "import visual_behavior.data_access.loading as loading\n",
    "import visual_behavior.data_access.utilities as utilities\n",
    "\n",
    "import visual_behavior.visualization.utils as utils\n",
    "\n",
    "experience_level_colors = utils.get_experience_level_colors()\n",
    "cre_line_colors = utils.get_cre_line_colors()\n",
    "\n",
    "experience_levels = utils.get_new_experience_levels()\n",
    "cell_types = utils.get_cell_types()\n",
    "\n",
    "import seaborn as sns\n",
    "sns.set_context('notebook', font_scale=1, rc={'lines.markeredgewidth': 1})"
   ]
  },
  {
   "cell_type": "code",
   "execution_count": 258,
   "id": "e114af95",
   "metadata": {},
   "outputs": [
    {
     "name": "stdout",
     "output_type": "stream",
     "text": [
      "The autoreload extension is already loaded. To reload it, use:\n",
      "  %reload_ext autoreload\n"
     ]
    }
   ],
   "source": [
    "%load_ext autoreload\n",
    "%autoreload 2\n",
    "%matplotlib inline"
   ]
  },
  {
   "cell_type": "code",
   "execution_count": 259,
   "id": "9a06210f",
   "metadata": {},
   "outputs": [],
   "source": [
    "from visual_behavior.dimensionality_reduction.clustering import plotting\n",
    "from visual_behavior.dimensionality_reduction.clustering import processing"
   ]
  },
  {
   "cell_type": "code",
   "execution_count": 260,
   "id": "1d22cddf",
   "metadata": {},
   "outputs": [],
   "source": [
    "import jetplot\n",
    "import matplotlib.colors\n"
   ]
  },
  {
   "cell_type": "markdown",
   "id": "f4a7874d",
   "metadata": {},
   "source": [
    "### get original clustering outputs"
   ]
  },
  {
   "cell_type": "code",
   "execution_count": 261,
   "id": "d3afee64",
   "metadata": {},
   "outputs": [],
   "source": [
    "glm_version = '24_events_all_L2_optimize_by_session'"
   ]
  },
  {
   "cell_type": "markdown",
   "id": "422159b0",
   "metadata": {},
   "source": [
    "### get GLM results (not across session normalized)"
   ]
  },
  {
   "cell_type": "code",
   "execution_count": 262,
   "id": "f7d435ac",
   "metadata": {},
   "outputs": [],
   "source": [
    "import visual_behavior_glm.GLM_fit_dev as gfd\n",
    "import visual_behavior_glm.GLM_analysis_tools as gat"
   ]
  },
  {
   "cell_type": "markdown",
   "id": "0bd64ac8",
   "metadata": {},
   "source": [
    "#### for cells matched in 3 exp levels"
   ]
  },
  {
   "cell_type": "code",
   "execution_count": 263,
   "id": "61cb2ece",
   "metadata": {},
   "outputs": [
    {
     "name": "stdout",
     "output_type": "stream",
     "text": [
      "loading run_params\n",
      "loading results df\n",
      "loading results_pivoted df\n",
      "loading weights_df\n"
     ]
    }
   ],
   "source": [
    "version = '24_events_all_L2_optimize_by_session'\n",
    "\n",
    "run_params, results, results_pivoted, weights_df = gfd.load_analysis_dfs(version)"
   ]
  },
  {
   "cell_type": "code",
   "execution_count": 264,
   "id": "13987ffd",
   "metadata": {},
   "outputs": [],
   "source": [
    "results_pivoted = results_pivoted.set_index('identifier')"
   ]
  },
  {
   "cell_type": "code",
   "execution_count": 265,
   "id": "8a1cb90f",
   "metadata": {},
   "outputs": [
    {
     "name": "stdout",
     "output_type": "stream",
     "text": [
      "1248\n",
      "['Familiar' 'Novel >1' 'Novel 1']\n"
     ]
    }
   ],
   "source": [
    "print(len(results_pivoted.ophys_experiment_id.unique()))\n",
    "print(results_pivoted.experience_level.unique())"
   ]
  },
  {
   "cell_type": "code",
   "execution_count": 266,
   "id": "103f45bb",
   "metadata": {},
   "outputs": [
    {
     "name": "stdout",
     "output_type": "stream",
     "text": [
      "1248\n",
      "28806\n",
      "['VisualBehaviorTask1B' 'VisualBehavior' 'VisualBehaviorMultiscope']\n",
      "['OPHYS_1_images_B' 'OPHYS_2_images_B_passive' 'OPHYS_3_images_B'\n",
      " 'OPHYS_4_images_A' 'OPHYS_5_images_A_passive' 'OPHYS_6_images_A'\n",
      " 'OPHYS_1_images_A' 'OPHYS_3_images_A' 'OPHYS_2_images_A_passive'\n",
      " 'OPHYS_4_images_B' 'OPHYS_5_images_B_passive' 'OPHYS_6_images_B']\n"
     ]
    }
   ],
   "source": [
    "print(len(results_pivoted.ophys_experiment_id.unique()))\n",
    "print(len(results_pivoted.cell_specimen_id.unique()))\n",
    "print(results_pivoted.project_code.unique())\n",
    "print(results_pivoted.session_type.unique())"
   ]
  },
  {
   "cell_type": "code",
   "execution_count": 267,
   "id": "d316957d",
   "metadata": {},
   "outputs": [],
   "source": [
    "original_results_pivoted = results_pivoted.copy()"
   ]
  },
  {
   "cell_type": "markdown",
   "id": "7a40a04c",
   "metadata": {},
   "source": [
    "#### results for all experiments"
   ]
  },
  {
   "cell_type": "code",
   "execution_count": 15,
   "id": "126ac947",
   "metadata": {},
   "outputs": [],
   "source": [
    "# run_params, all_results, all_results_pivoted, all_weights_df = gfd.load_analysis_dfs(version)"
   ]
  },
  {
   "cell_type": "code",
   "execution_count": 16,
   "id": "88949da7",
   "metadata": {},
   "outputs": [],
   "source": [
    "# all_results_pkl = r\"\\\\allen\\programs\\braintv\\workgroups\\nc-ophys\\visual_behavior\\platform_paper_cache\\ophys_glm_results\\24_events_all_L2_optimize_by_session_all_cells.pkl\"\n",
    "\n",
    "# all_results = pd.read_pickle(all_results_pkl)\n",
    "# all_results = all_results.set_index('identifier')\n",
    "# all_results.head()"
   ]
  },
  {
   "cell_type": "code",
   "execution_count": 17,
   "id": "6f89cf06",
   "metadata": {},
   "outputs": [],
   "source": [
    "# print(len(all_results.ophys_experiment_id.unique()))\n",
    "# print(len(all_results.cell_specimen_id.unique()))\n",
    "# print(all_results.project_code.unique())\n",
    "# print(all_results.session_type.unique())"
   ]
  },
  {
   "cell_type": "markdown",
   "id": "54645130",
   "metadata": {},
   "source": [
    "### get across session normalized dropout scores"
   ]
  },
  {
   "cell_type": "code",
   "execution_count": 247,
   "id": "692eed04-47fc-47f8-8813-175882f0873f",
   "metadata": {},
   "outputs": [],
   "source": [
    "across_df = df[df.experience_exposure.isin(['Familiar 0', 'Familiar 1', 'Familiar 2', 'Familiar 3', 'Familiar > 3'])]"
   ]
  },
  {
   "cell_type": "code",
   "execution_count": 252,
   "id": "3e519af3-71a8-4fda-add1-1827881f1baf",
   "metadata": {},
   "outputs": [],
   "source": [
    "across_ids = across_df.index.values"
   ]
  },
  {
   "cell_type": "code",
   "execution_count": 248,
   "id": "1d007bcd-90f4-447d-9faf-9142b091ab61",
   "metadata": {},
   "outputs": [
    {
     "name": "stderr",
     "output_type": "stream",
     "text": [
      "c:\\users\\iryna.yavorska\\documents\\github\\allensdk\\allensdk\\api\\cloud_cache\\cloud_cache.py:521: OutdatedManifestWarning: You are loading visual-behavior-ophys_project_manifest_v1.0.1.json. A more up to date version of the dataset -- visual-behavior-ophys_project_manifest_v1.1.0.json -- exists online. To see the changes between the two versions of the dataset, run\n",
      "VisualBehaviorOphysProjectCache.compare_manifests('visual-behavior-ophys_project_manifest_v1.0.1.json', 'visual-behavior-ophys_project_manifest_v1.1.0.json')\n",
      "To load another version of the dataset, run\n",
      "VisualBehaviorOphysProjectCache.load_manifest('visual-behavior-ophys_project_manifest_v1.1.0.json')\n",
      "  warnings.warn(msg, OutdatedManifestWarning)\n"
     ]
    },
    {
     "name": "stdout",
     "output_type": "stream",
     "text": [
      "1249 experiments\n",
      "452 familiar active experiments\n",
      "['Familiar']\n",
      "['OPHYS_1_images_A' 'OPHYS_3_images_A' 'OPHYS_1_images_B'\n",
      " 'OPHYS_3_images_B']\n",
      "451 experiments in filtered cells table\n",
      "17990 familiar active cell_specimen_ids\n",
      "17990 familiar active cell_specimen_ids\n",
      "5 familiar active session numbers\n",
      "checking session counts: [3 3 3 3 3 3 3 3 3 3 3 3 3 3 3 3 3 3 3 3]\n",
      "1450 cell_specimen_ids in at least 3 sessions\n",
      "['Familiar']\n",
      "['OPHYS_3_images_A' 'OPHYS_1_images_A' 'OPHYS_1_images_B'\n",
      " 'OPHYS_3_images_B']\n",
      "1450 familiar active cell_specimen_ids in the first 3 sessions\n",
      "3 familiar active session numbers\n",
      "1450 familiar active cell_specimen_ids\n",
      "1450 familiar active cell_specimen_ids\n",
      "3 familiar active session numbers\n",
      "experience_levels:  ['Familiar 1' 'Familiar 2' 'Familiar 3']\n"
     ]
    }
   ],
   "source": [
    "cells_table = processing.get_cells_matched_in_3_familiar_active_sessions()\n",
    "# add unique identifier for ophys_expt_id + csid pairs so it can be merged with results_pivoted\n",
    "cells_table['identifier'] = [str(cells_table.iloc[row].ophys_experiment_id)+'_'+str(cells_table.iloc[row].cell_specimen_id) for row in range(len(cells_table))]\n",
    "cells_table = cells_table.set_index('identifier')"
   ]
  },
  {
   "cell_type": "code",
   "execution_count": 253,
   "id": "468881ec-b16d-4141-9804-3b84ddde3f97",
   "metadata": {},
   "outputs": [],
   "source": [
    "cells_ids = cells_table.index.values"
   ]
  },
  {
   "cell_type": "code",
   "execution_count": 255,
   "id": "02e3c517-82e3-408d-b4ba-b42dfb34f6a7",
   "metadata": {},
   "outputs": [
    {
     "data": {
      "text/plain": [
       "661"
      ]
     },
     "execution_count": 255,
     "metadata": {},
     "output_type": "execute_result"
    }
   ],
   "source": [
    "len(np.intersect1d(across_ids, cells_ids))"
   ]
  },
  {
   "cell_type": "code",
   "execution_count": null,
   "id": "9abea949-694b-4315-b8cb-73a86aa977db",
   "metadata": {},
   "outputs": [],
   "source": []
  },
  {
   "cell_type": "code",
   "execution_count": 237,
   "id": "b682ac65",
   "metadata": {},
   "outputs": [
    {
     "name": "stdout",
     "output_type": "stream",
     "text": [
      "Loading list of matched cells\n"
     ]
    },
    {
     "name": "stderr",
     "output_type": "stream",
     "text": [
      "c:\\users\\iryna.yavorska\\documents\\github\\allensdk\\allensdk\\api\\cloud_cache\\cloud_cache.py:521: OutdatedManifestWarning: You are loading visual-behavior-ophys_project_manifest_v1.0.1.json. A more up to date version of the dataset -- visual-behavior-ophys_project_manifest_v1.1.0.json -- exists online. To see the changes between the two versions of the dataset, run\n",
      "VisualBehaviorOphysProjectCache.compare_manifests('visual-behavior-ophys_project_manifest_v1.0.1.json', 'visual-behavior-ophys_project_manifest_v1.1.0.json')\n",
      "To load another version of the dataset, run\n",
      "VisualBehaviorOphysProjectCache.load_manifest('visual-behavior-ophys_project_manifest_v1.1.0.json')\n",
      "  warnings.warn(msg, OutdatedManifestWarning)\n"
     ]
    },
    {
     "name": "stdout",
     "output_type": "stream",
     "text": [
      "removing 1 problematic experiments\n",
      "Loading across session normalized dropout scores\n"
     ]
    },
    {
     "name": "stderr",
     "output_type": "stream",
     "text": [
      "100%|██████████████████████████████████████████████████████████████████████████████| 3921/3921 [02:52<00:00, 22.78it/s]\n"
     ]
    },
    {
     "name": "stdout",
     "output_type": "stream",
     "text": [
      "0 cells could not be loaded\n"
     ]
    }
   ],
   "source": [
    "import visual_behavior_glm.GLM_across_session as gas\n",
    "\n",
    "# get across session normalized dropout scores\n",
    "df, failed_cells = gas.load_cells(glm_version, clean_df=True)\n",
    "df = df.set_index('identifier')"
   ]
  },
  {
   "cell_type": "code",
   "execution_count": 19,
   "id": "0fb7ce90",
   "metadata": {},
   "outputs": [],
   "source": [
    "# # only use across session values\n",
    "# across = df[[key for key in df.keys() if '_across' in key] + ['cell_specimen_id', 'ophys_experiment_id', 'experience_level']]\n",
    "# results_pivoted = across.copy()\n",
    "# # rename across session columns \n",
    "# results_pivoted = results_pivoted.rename(\n",
    "#     columns={'omissions_across': 'omissions', 'all-images_across': 'all-images',\n",
    "#              'behavioral_across': 'behavioral', 'task_across': 'task'})\n",
    "# print(len(results_pivoted), 'len(results_pivoted)')"
   ]
  },
  {
   "cell_type": "markdown",
   "id": "57f44f57",
   "metadata": {},
   "source": [
    "### get experiment and cell metadata for familiar active sessions"
   ]
  },
  {
   "cell_type": "code",
   "execution_count": 20,
   "id": "ba6e76fe",
   "metadata": {},
   "outputs": [
    {
     "name": "stderr",
     "output_type": "stream",
     "text": [
      "c:\\users\\iryna.yavorska\\documents\\github\\allensdk\\allensdk\\api\\cloud_cache\\cloud_cache.py:521: OutdatedManifestWarning: You are loading visual-behavior-ophys_project_manifest_v1.0.1.json. A more up to date version of the dataset -- visual-behavior-ophys_project_manifest_v1.1.0.json -- exists online. To see the changes between the two versions of the dataset, run\n",
      "VisualBehaviorOphysProjectCache.compare_manifests('visual-behavior-ophys_project_manifest_v1.0.1.json', 'visual-behavior-ophys_project_manifest_v1.1.0.json')\n",
      "To load another version of the dataset, run\n",
      "VisualBehaviorOphysProjectCache.load_manifest('visual-behavior-ophys_project_manifest_v1.1.0.json')\n",
      "  warnings.warn(msg, OutdatedManifestWarning)\n"
     ]
    },
    {
     "name": "stdout",
     "output_type": "stream",
     "text": [
      "1249 experiments\n",
      "452 familiar active experiments\n",
      "['Familiar']\n",
      "['OPHYS_1_images_A' 'OPHYS_3_images_A' 'OPHYS_1_images_B'\n",
      " 'OPHYS_3_images_B']\n",
      "451 experiments in filtered cells table\n",
      "17990 familiar active cell_specimen_ids\n",
      "17990 familiar active cell_specimen_ids\n",
      "5 familiar active session numbers\n",
      "checking session counts: [3 3 3 3 3 3 3 3 3 3 3 3 3 3 3 3 3 3 3 3]\n",
      "1450 cell_specimen_ids in at least 3 sessions\n",
      "['Familiar']\n",
      "['OPHYS_3_images_A' 'OPHYS_1_images_A' 'OPHYS_1_images_B'\n",
      " 'OPHYS_3_images_B']\n",
      "1450 familiar active cell_specimen_ids in the first 3 sessions\n",
      "3 familiar active session numbers\n",
      "1450 familiar active cell_specimen_ids\n",
      "1450 familiar active cell_specimen_ids\n",
      "3 familiar active session numbers\n",
      "experience_levels:  ['Familiar 1' 'Familiar 2' 'Familiar 3']\n"
     ]
    }
   ],
   "source": [
    "cells_table = processing.get_cells_matched_in_3_familiar_active_sessions()\n"
   ]
  },
  {
   "cell_type": "markdown",
   "id": "4bf3392b",
   "metadata": {},
   "source": [
    "#### limit GLM results to matched cells and reformat"
   ]
  },
  {
   "cell_type": "code",
   "execution_count": 21,
   "id": "04062eee",
   "metadata": {},
   "outputs": [
    {
     "data": {
      "text/plain": [
       "array(['Familiar', 'Novel >1', 'Novel 1'], dtype=object)"
      ]
     },
     "execution_count": 21,
     "metadata": {},
     "output_type": "execute_result"
    }
   ],
   "source": [
    "results_pivoted.experience_level.unique()"
   ]
  },
  {
   "cell_type": "code",
   "execution_count": 22,
   "id": "13fd755b",
   "metadata": {},
   "outputs": [],
   "source": [
    "# add unique identifier for ophys_expt_id + csid pairs so it can be merged with results_pivoted\n",
    "cells_table['identifier'] = [str(cells_table.iloc[row].ophys_experiment_id)+'_'+str(cells_table.iloc[row].cell_specimen_id) for row in range(len(cells_table))]\n",
    "cells_table = cells_table.set_index('identifier')"
   ]
  },
  {
   "cell_type": "code",
   "execution_count": 23,
   "id": "7f305fc2",
   "metadata": {},
   "outputs": [
    {
     "data": {
      "text/plain": [
       "array(['Familiar 1', 'Familiar 2', 'Familiar 3'], dtype=object)"
      ]
     },
     "execution_count": 23,
     "metadata": {},
     "output_type": "execute_result"
    }
   ],
   "source": [
    "# add new experience levels for familiar active sessions to results pivoted\n",
    "# and limit results pivoted to cells matched in 3 familiar sessions\n",
    "results_pivoted = results_pivoted.drop(columns='experience_level')\n",
    "results_pivoted = results_pivoted.merge(cells_table[[ 'experience_level']], on='identifier')\n",
    "results_pivoted.experience_level.unique()"
   ]
  },
  {
   "cell_type": "code",
   "execution_count": 24,
   "id": "5373658b",
   "metadata": {},
   "outputs": [
    {
     "name": "stdout",
     "output_type": "stream",
     "text": [
      "171\n",
      "1450\n",
      "['VisualBehaviorTask1B' 'VisualBehavior' 'VisualBehaviorMultiscope']\n",
      "['OPHYS_1_images_B' 'OPHYS_3_images_B' 'OPHYS_1_images_A'\n",
      " 'OPHYS_3_images_A']\n"
     ]
    }
   ],
   "source": [
    "print(len(results_pivoted.ophys_experiment_id.unique()))\n",
    "print(len(results_pivoted.cell_specimen_id.unique()))\n",
    "print(results_pivoted.project_code.unique())\n",
    "print(results_pivoted.session_type.unique())"
   ]
  },
  {
   "cell_type": "code",
   "execution_count": 25,
   "id": "bfe31324",
   "metadata": {},
   "outputs": [],
   "source": [
    "# limit to features used for clustering\n",
    "features = processing.get_features_for_clustering()\n",
    "features = ['all-images', 'omissions', 'task', 'behavioral']\n",
    "features = [*features, 'ophys_experiment_id']\n",
    "results_pivoted = processing.limit_results_pivoted_to_features_for_clustering(results_pivoted, features)\n",
    "\n",
    "# flip sign so coding scores are positive\n",
    "results_pivoted = processing.flip_sign_of_dropouts(results_pivoted, processing.get_features_for_clustering(), use_signed_weights=False)\n",
    "\n",
    "# now drop ophys_experiment_id\n",
    "results_pivoted = results_pivoted.drop(columns=['ophys_experiment_id'])"
   ]
  },
  {
   "cell_type": "code",
   "execution_count": 26,
   "id": "51db84f1",
   "metadata": {},
   "outputs": [
    {
     "data": {
      "text/plain": [
       "4350"
      ]
     },
     "execution_count": 26,
     "metadata": {},
     "output_type": "execute_result"
    }
   ],
   "source": [
    "len(results_pivoted)"
   ]
  },
  {
   "cell_type": "code",
   "execution_count": 27,
   "id": "486f3820",
   "metadata": {},
   "outputs": [
    {
     "data": {
      "text/plain": [
       "4350"
      ]
     },
     "execution_count": 27,
     "metadata": {},
     "output_type": "execute_result"
    }
   ],
   "source": [
    "len(cells_table)"
   ]
  },
  {
   "cell_type": "code",
   "execution_count": 28,
   "id": "d5924fc6",
   "metadata": {},
   "outputs": [
    {
     "name": "stdout",
     "output_type": "stream",
     "text": [
      "171\n",
      "1450\n",
      "['VisualBehavior' 'VisualBehaviorTask1B' 'VisualBehaviorMultiscope']\n",
      "['OPHYS_3_images_A' 'OPHYS_1_images_A' 'OPHYS_1_images_B'\n",
      " 'OPHYS_3_images_B']\n"
     ]
    }
   ],
   "source": [
    "print(len(cells_table.ophys_experiment_id.unique()))\n",
    "print(len(cells_table.cell_specimen_id.unique()))\n",
    "print(cells_table.project_code.unique())\n",
    "print(cells_table.session_type.unique())"
   ]
  },
  {
   "cell_type": "markdown",
   "id": "fd31b1df",
   "metadata": {},
   "source": [
    "# cluster on all cells "
   ]
  },
  {
   "cell_type": "markdown",
   "id": "a1ea7b6b",
   "metadata": {},
   "source": [
    "I had to pull out and adapt bits of code from VBA to run on all cre lines because most VBA code loops through cre lines within the main functions - needs to be modularized"
   ]
  },
  {
   "cell_type": "code",
   "execution_count": 29,
   "id": "8d2b1126",
   "metadata": {},
   "outputs": [],
   "source": [
    "base_dir = r'\\\\allen\\programs\\braintv\\workgroups\\nc-ophys\\visual_behavior\\platform_paper_plots\\figure_4'\n",
    "\n",
    "save_dir = os.path.join(base_dir, 'all_cre_clustering_familiar_090623')\n",
    "if not os.path.exists(save_dir):\n",
    "    os.mkdir(save_dir)\n",
    "folder = 'figs'"
   ]
  },
  {
   "cell_type": "code",
   "execution_count": 30,
   "id": "45b146b2",
   "metadata": {},
   "outputs": [
    {
     "name": "stdout",
     "output_type": "stream",
     "text": [
      "No duplicated cells found\n",
      "1450\n"
     ]
    }
   ],
   "source": [
    "feature_matrix = processing.get_feature_matrix_for_clustering(results_pivoted, glm_version, save_dir=save_dir)"
   ]
  },
  {
   "cell_type": "code",
   "execution_count": 31,
   "id": "6c163402",
   "metadata": {},
   "outputs": [],
   "source": [
    "# there were 1163 excitatory cells in iryna's 3 familiar session analysis"
   ]
  },
  {
   "cell_type": "code",
   "execution_count": 32,
   "id": "ede15b3b",
   "metadata": {},
   "outputs": [
    {
     "data": {
      "text/html": [
       "<div>\n",
       "<style scoped>\n",
       "    .dataframe tbody tr th:only-of-type {\n",
       "        vertical-align: middle;\n",
       "    }\n",
       "\n",
       "    .dataframe tbody tr th {\n",
       "        vertical-align: top;\n",
       "    }\n",
       "\n",
       "    .dataframe thead th {\n",
       "        text-align: right;\n",
       "    }\n",
       "</style>\n",
       "<table border=\"1\" class=\"dataframe\">\n",
       "  <thead>\n",
       "    <tr style=\"text-align: right;\">\n",
       "      <th></th>\n",
       "      <th></th>\n",
       "      <th>level_0</th>\n",
       "      <th>index</th>\n",
       "      <th>cell_roi_id</th>\n",
       "      <th>cell_specimen_id</th>\n",
       "      <th>ophys_experiment_id</th>\n",
       "      <th>equipment_name</th>\n",
       "      <th>full_genotype</th>\n",
       "      <th>mouse_id</th>\n",
       "      <th>reporter_line</th>\n",
       "      <th>driver_line</th>\n",
       "      <th>...</th>\n",
       "      <th>ophys_container_id</th>\n",
       "      <th>project_code</th>\n",
       "      <th>imaging_depth</th>\n",
       "      <th>targeted_structure</th>\n",
       "      <th>date_of_acquisition</th>\n",
       "      <th>session_type</th>\n",
       "      <th>passive</th>\n",
       "      <th>image_set</th>\n",
       "      <th>file_id</th>\n",
       "      <th>familiar_active_session_number</th>\n",
       "    </tr>\n",
       "    <tr>\n",
       "      <th>cre_line</th>\n",
       "      <th>experience_level</th>\n",
       "      <th></th>\n",
       "      <th></th>\n",
       "      <th></th>\n",
       "      <th></th>\n",
       "      <th></th>\n",
       "      <th></th>\n",
       "      <th></th>\n",
       "      <th></th>\n",
       "      <th></th>\n",
       "      <th></th>\n",
       "      <th></th>\n",
       "      <th></th>\n",
       "      <th></th>\n",
       "      <th></th>\n",
       "      <th></th>\n",
       "      <th></th>\n",
       "      <th></th>\n",
       "      <th></th>\n",
       "      <th></th>\n",
       "      <th></th>\n",
       "      <th></th>\n",
       "    </tr>\n",
       "  </thead>\n",
       "  <tbody>\n",
       "    <tr>\n",
       "      <th rowspan=\"3\" valign=\"top\">Slc17a7-IRES2-Cre</th>\n",
       "      <th>Familiar 1</th>\n",
       "      <td>1163</td>\n",
       "      <td>1163</td>\n",
       "      <td>1163</td>\n",
       "      <td>1163</td>\n",
       "      <td>1163</td>\n",
       "      <td>1163</td>\n",
       "      <td>1163</td>\n",
       "      <td>1163</td>\n",
       "      <td>1163</td>\n",
       "      <td>1163</td>\n",
       "      <td>...</td>\n",
       "      <td>1163</td>\n",
       "      <td>1163</td>\n",
       "      <td>1163</td>\n",
       "      <td>1163</td>\n",
       "      <td>1163</td>\n",
       "      <td>1163</td>\n",
       "      <td>1163</td>\n",
       "      <td>1163</td>\n",
       "      <td>1163</td>\n",
       "      <td>1163</td>\n",
       "    </tr>\n",
       "    <tr>\n",
       "      <th>Familiar 2</th>\n",
       "      <td>1163</td>\n",
       "      <td>1163</td>\n",
       "      <td>1163</td>\n",
       "      <td>1163</td>\n",
       "      <td>1163</td>\n",
       "      <td>1163</td>\n",
       "      <td>1163</td>\n",
       "      <td>1163</td>\n",
       "      <td>1163</td>\n",
       "      <td>1163</td>\n",
       "      <td>...</td>\n",
       "      <td>1163</td>\n",
       "      <td>1163</td>\n",
       "      <td>1163</td>\n",
       "      <td>1163</td>\n",
       "      <td>1163</td>\n",
       "      <td>1163</td>\n",
       "      <td>1163</td>\n",
       "      <td>1163</td>\n",
       "      <td>1163</td>\n",
       "      <td>1163</td>\n",
       "    </tr>\n",
       "    <tr>\n",
       "      <th>Familiar 3</th>\n",
       "      <td>1163</td>\n",
       "      <td>1163</td>\n",
       "      <td>1163</td>\n",
       "      <td>1163</td>\n",
       "      <td>1163</td>\n",
       "      <td>1163</td>\n",
       "      <td>1163</td>\n",
       "      <td>1163</td>\n",
       "      <td>1163</td>\n",
       "      <td>1163</td>\n",
       "      <td>...</td>\n",
       "      <td>1163</td>\n",
       "      <td>1163</td>\n",
       "      <td>1163</td>\n",
       "      <td>1163</td>\n",
       "      <td>1163</td>\n",
       "      <td>1163</td>\n",
       "      <td>1163</td>\n",
       "      <td>1163</td>\n",
       "      <td>1163</td>\n",
       "      <td>1163</td>\n",
       "    </tr>\n",
       "    <tr>\n",
       "      <th rowspan=\"3\" valign=\"top\">Sst-IRES-Cre</th>\n",
       "      <th>Familiar 1</th>\n",
       "      <td>149</td>\n",
       "      <td>149</td>\n",
       "      <td>149</td>\n",
       "      <td>149</td>\n",
       "      <td>149</td>\n",
       "      <td>149</td>\n",
       "      <td>149</td>\n",
       "      <td>149</td>\n",
       "      <td>149</td>\n",
       "      <td>149</td>\n",
       "      <td>...</td>\n",
       "      <td>149</td>\n",
       "      <td>149</td>\n",
       "      <td>149</td>\n",
       "      <td>149</td>\n",
       "      <td>149</td>\n",
       "      <td>149</td>\n",
       "      <td>149</td>\n",
       "      <td>149</td>\n",
       "      <td>149</td>\n",
       "      <td>149</td>\n",
       "    </tr>\n",
       "    <tr>\n",
       "      <th>Familiar 2</th>\n",
       "      <td>149</td>\n",
       "      <td>149</td>\n",
       "      <td>149</td>\n",
       "      <td>149</td>\n",
       "      <td>149</td>\n",
       "      <td>149</td>\n",
       "      <td>149</td>\n",
       "      <td>149</td>\n",
       "      <td>149</td>\n",
       "      <td>149</td>\n",
       "      <td>...</td>\n",
       "      <td>149</td>\n",
       "      <td>149</td>\n",
       "      <td>149</td>\n",
       "      <td>149</td>\n",
       "      <td>149</td>\n",
       "      <td>149</td>\n",
       "      <td>149</td>\n",
       "      <td>149</td>\n",
       "      <td>149</td>\n",
       "      <td>149</td>\n",
       "    </tr>\n",
       "    <tr>\n",
       "      <th>Familiar 3</th>\n",
       "      <td>149</td>\n",
       "      <td>149</td>\n",
       "      <td>149</td>\n",
       "      <td>149</td>\n",
       "      <td>149</td>\n",
       "      <td>149</td>\n",
       "      <td>149</td>\n",
       "      <td>149</td>\n",
       "      <td>149</td>\n",
       "      <td>149</td>\n",
       "      <td>...</td>\n",
       "      <td>149</td>\n",
       "      <td>149</td>\n",
       "      <td>149</td>\n",
       "      <td>149</td>\n",
       "      <td>149</td>\n",
       "      <td>149</td>\n",
       "      <td>149</td>\n",
       "      <td>149</td>\n",
       "      <td>149</td>\n",
       "      <td>149</td>\n",
       "    </tr>\n",
       "    <tr>\n",
       "      <th rowspan=\"3\" valign=\"top\">Vip-IRES-Cre</th>\n",
       "      <th>Familiar 1</th>\n",
       "      <td>138</td>\n",
       "      <td>138</td>\n",
       "      <td>138</td>\n",
       "      <td>138</td>\n",
       "      <td>138</td>\n",
       "      <td>138</td>\n",
       "      <td>138</td>\n",
       "      <td>138</td>\n",
       "      <td>138</td>\n",
       "      <td>138</td>\n",
       "      <td>...</td>\n",
       "      <td>138</td>\n",
       "      <td>138</td>\n",
       "      <td>138</td>\n",
       "      <td>138</td>\n",
       "      <td>138</td>\n",
       "      <td>138</td>\n",
       "      <td>138</td>\n",
       "      <td>138</td>\n",
       "      <td>138</td>\n",
       "      <td>138</td>\n",
       "    </tr>\n",
       "    <tr>\n",
       "      <th>Familiar 2</th>\n",
       "      <td>138</td>\n",
       "      <td>138</td>\n",
       "      <td>138</td>\n",
       "      <td>138</td>\n",
       "      <td>138</td>\n",
       "      <td>138</td>\n",
       "      <td>138</td>\n",
       "      <td>138</td>\n",
       "      <td>138</td>\n",
       "      <td>138</td>\n",
       "      <td>...</td>\n",
       "      <td>138</td>\n",
       "      <td>138</td>\n",
       "      <td>138</td>\n",
       "      <td>138</td>\n",
       "      <td>138</td>\n",
       "      <td>138</td>\n",
       "      <td>138</td>\n",
       "      <td>138</td>\n",
       "      <td>138</td>\n",
       "      <td>138</td>\n",
       "    </tr>\n",
       "    <tr>\n",
       "      <th>Familiar 3</th>\n",
       "      <td>138</td>\n",
       "      <td>138</td>\n",
       "      <td>138</td>\n",
       "      <td>138</td>\n",
       "      <td>138</td>\n",
       "      <td>138</td>\n",
       "      <td>138</td>\n",
       "      <td>138</td>\n",
       "      <td>138</td>\n",
       "      <td>138</td>\n",
       "      <td>...</td>\n",
       "      <td>138</td>\n",
       "      <td>138</td>\n",
       "      <td>138</td>\n",
       "      <td>138</td>\n",
       "      <td>138</td>\n",
       "      <td>138</td>\n",
       "      <td>138</td>\n",
       "      <td>138</td>\n",
       "      <td>138</td>\n",
       "      <td>138</td>\n",
       "    </tr>\n",
       "  </tbody>\n",
       "</table>\n",
       "<p>9 rows × 29 columns</p>\n",
       "</div>"
      ],
      "text/plain": [
       "                                    level_0  index  cell_roi_id  \\\n",
       "cre_line          experience_level                                \n",
       "Slc17a7-IRES2-Cre Familiar 1           1163   1163         1163   \n",
       "                  Familiar 2           1163   1163         1163   \n",
       "                  Familiar 3           1163   1163         1163   \n",
       "Sst-IRES-Cre      Familiar 1            149    149          149   \n",
       "                  Familiar 2            149    149          149   \n",
       "                  Familiar 3            149    149          149   \n",
       "Vip-IRES-Cre      Familiar 1            138    138          138   \n",
       "                  Familiar 2            138    138          138   \n",
       "                  Familiar 3            138    138          138   \n",
       "\n",
       "                                    cell_specimen_id  ophys_experiment_id  \\\n",
       "cre_line          experience_level                                          \n",
       "Slc17a7-IRES2-Cre Familiar 1                    1163                 1163   \n",
       "                  Familiar 2                    1163                 1163   \n",
       "                  Familiar 3                    1163                 1163   \n",
       "Sst-IRES-Cre      Familiar 1                     149                  149   \n",
       "                  Familiar 2                     149                  149   \n",
       "                  Familiar 3                     149                  149   \n",
       "Vip-IRES-Cre      Familiar 1                     138                  138   \n",
       "                  Familiar 2                     138                  138   \n",
       "                  Familiar 3                     138                  138   \n",
       "\n",
       "                                    equipment_name  full_genotype  mouse_id  \\\n",
       "cre_line          experience_level                                            \n",
       "Slc17a7-IRES2-Cre Familiar 1                  1163           1163      1163   \n",
       "                  Familiar 2                  1163           1163      1163   \n",
       "                  Familiar 3                  1163           1163      1163   \n",
       "Sst-IRES-Cre      Familiar 1                   149            149       149   \n",
       "                  Familiar 2                   149            149       149   \n",
       "                  Familiar 3                   149            149       149   \n",
       "Vip-IRES-Cre      Familiar 1                   138            138       138   \n",
       "                  Familiar 2                   138            138       138   \n",
       "                  Familiar 3                   138            138       138   \n",
       "\n",
       "                                    reporter_line  driver_line  ...  \\\n",
       "cre_line          experience_level                              ...   \n",
       "Slc17a7-IRES2-Cre Familiar 1                 1163         1163  ...   \n",
       "                  Familiar 2                 1163         1163  ...   \n",
       "                  Familiar 3                 1163         1163  ...   \n",
       "Sst-IRES-Cre      Familiar 1                  149          149  ...   \n",
       "                  Familiar 2                  149          149  ...   \n",
       "                  Familiar 3                  149          149  ...   \n",
       "Vip-IRES-Cre      Familiar 1                  138          138  ...   \n",
       "                  Familiar 2                  138          138  ...   \n",
       "                  Familiar 3                  138          138  ...   \n",
       "\n",
       "                                    ophys_container_id  project_code  \\\n",
       "cre_line          experience_level                                     \n",
       "Slc17a7-IRES2-Cre Familiar 1                      1163          1163   \n",
       "                  Familiar 2                      1163          1163   \n",
       "                  Familiar 3                      1163          1163   \n",
       "Sst-IRES-Cre      Familiar 1                       149           149   \n",
       "                  Familiar 2                       149           149   \n",
       "                  Familiar 3                       149           149   \n",
       "Vip-IRES-Cre      Familiar 1                       138           138   \n",
       "                  Familiar 2                       138           138   \n",
       "                  Familiar 3                       138           138   \n",
       "\n",
       "                                    imaging_depth  targeted_structure  \\\n",
       "cre_line          experience_level                                      \n",
       "Slc17a7-IRES2-Cre Familiar 1                 1163                1163   \n",
       "                  Familiar 2                 1163                1163   \n",
       "                  Familiar 3                 1163                1163   \n",
       "Sst-IRES-Cre      Familiar 1                  149                 149   \n",
       "                  Familiar 2                  149                 149   \n",
       "                  Familiar 3                  149                 149   \n",
       "Vip-IRES-Cre      Familiar 1                  138                 138   \n",
       "                  Familiar 2                  138                 138   \n",
       "                  Familiar 3                  138                 138   \n",
       "\n",
       "                                    date_of_acquisition  session_type  \\\n",
       "cre_line          experience_level                                      \n",
       "Slc17a7-IRES2-Cre Familiar 1                       1163          1163   \n",
       "                  Familiar 2                       1163          1163   \n",
       "                  Familiar 3                       1163          1163   \n",
       "Sst-IRES-Cre      Familiar 1                        149           149   \n",
       "                  Familiar 2                        149           149   \n",
       "                  Familiar 3                        149           149   \n",
       "Vip-IRES-Cre      Familiar 1                        138           138   \n",
       "                  Familiar 2                        138           138   \n",
       "                  Familiar 3                        138           138   \n",
       "\n",
       "                                    passive  image_set  file_id  \\\n",
       "cre_line          experience_level                                \n",
       "Slc17a7-IRES2-Cre Familiar 1           1163       1163     1163   \n",
       "                  Familiar 2           1163       1163     1163   \n",
       "                  Familiar 3           1163       1163     1163   \n",
       "Sst-IRES-Cre      Familiar 1            149        149      149   \n",
       "                  Familiar 2            149        149      149   \n",
       "                  Familiar 3            149        149      149   \n",
       "Vip-IRES-Cre      Familiar 1            138        138      138   \n",
       "                  Familiar 2            138        138      138   \n",
       "                  Familiar 3            138        138      138   \n",
       "\n",
       "                                    familiar_active_session_number  \n",
       "cre_line          experience_level                                  \n",
       "Slc17a7-IRES2-Cre Familiar 1                                  1163  \n",
       "                  Familiar 2                                  1163  \n",
       "                  Familiar 3                                  1163  \n",
       "Sst-IRES-Cre      Familiar 1                                   149  \n",
       "                  Familiar 2                                   149  \n",
       "                  Familiar 3                                   149  \n",
       "Vip-IRES-Cre      Familiar 1                                   138  \n",
       "                  Familiar 2                                   138  \n",
       "                  Familiar 3                                   138  \n",
       "\n",
       "[9 rows x 29 columns]"
      ]
     },
     "execution_count": 32,
     "metadata": {},
     "output_type": "execute_result"
    }
   ],
   "source": [
    "cells_table.groupby(['cre_line', 'experience_level']).count()"
   ]
  },
  {
   "cell_type": "markdown",
   "id": "58f6e4f2-7756-4c14-8ee8-6fa93c5387c5",
   "metadata": {},
   "source": [
    "### find optimal number of clusters"
   ]
  },
  {
   "cell_type": "code",
   "execution_count": 33,
   "id": "6155ad76-d2fa-43b7-b434-3268e786696a",
   "metadata": {},
   "outputs": [],
   "source": [
    "from sklearn.cluster import SpectralClustering"
   ]
  },
  {
   "cell_type": "code",
   "execution_count": 269,
   "id": "3a7c0ed2-dc3e-4364-a941-36fc9c75021c",
   "metadata": {},
   "outputs": [
    {
     "data": {
      "text/plain": [
       "'\\\\\\\\allen\\\\programs\\\\braintv\\\\workgroups\\\\nc-ophys\\\\visual_behavior\\\\platform_paper_plots\\\\figure_4\\\\all_cre_clustering_familiar_090623'"
      ]
     },
     "execution_count": 269,
     "metadata": {},
     "output_type": "execute_result"
    }
   ],
   "source": [
    "save_dir"
   ]
  },
  {
   "cell_type": "markdown",
   "id": "0623be05-b579-462a-90ea-fa36a9bca1e1",
   "metadata": {},
   "source": [
    "### gap statistic"
   ]
  },
  {
   "cell_type": "code",
   "execution_count": 35,
   "id": "2deffa26-5e1e-4a9c-9b71-406271a44be8",
   "metadata": {
    "tags": []
   },
   "outputs": [
    {
     "name": "stdout",
     "output_type": "stream",
     "text": [
      "loaded file\n"
     ]
    }
   ],
   "source": [
    "import pickle\n",
    "metric = 'euclidean' # default distance metric\n",
    "shuffle_type ='all' # default shuffle type is all shuffle (cell id and regressors\n",
    "k_max = 25 #max number of clusters to test\n",
    "\n",
    "gap_filename = os.path.join(save_dir, 'gap_scores_{}_{}_nb20_unshuffled_to_{}.pkl'.format(metric, glm_version, shuffle_type))\n",
    "if os.path.exists(gap_filename):\n",
    "    with open(gap_filename, 'rb') as f:\n",
    "        gap_df = pickle.load(f)\n",
    "        print('loaded file')\n",
    "else:\n",
    "    \n",
    "    sc = SpectralClustering()\n",
    "    gap_df = processing.compute_gap(clustering=sc, data=feature_matrix, k_max = k_max, \n",
    "                                    reference_shuffle=shuffle_type, metric=metric, separate_cre_lines=True)\n",
    "    processing.save_clustering_results(gap_df, gap_filename)"
   ]
  },
  {
   "cell_type": "code",
   "execution_count": 36,
   "id": "82583cb5-f84b-4c75-9bfe-84790496f31a",
   "metadata": {},
   "outputs": [
    {
     "data": {
      "image/png": "[encoded data removed]",
      "text/plain": [
       "<Figure size 576x288 with 2 Axes>"
      ]
     },
     "metadata": {
      "needs_background": "light"
     },
     "output_type": "display_data"
    }
   ],
   "source": [
    "# plotting.plot_gap_statistic is not autoreloading\n",
    "plotting.plot_gap_statistic(gap_df, cre_lines=['all'], n_clusters_cre=14, \n",
    "                            tag='with_cre_shuffle', save_dir=None, folder='')"
   ]
  },
  {
   "cell_type": "markdown",
   "id": "0d0f7388-837d-4475-bf5f-59b853dd3795",
   "metadata": {},
   "source": [
    "## Eigen gap"
   ]
  },
  {
   "cell_type": "code",
   "execution_count": 37,
   "id": "6f7d6c71-1e91-4b17-9919-8232a3cc919f",
   "metadata": {},
   "outputs": [
    {
     "name": "stdout",
     "output_type": "stream",
     "text": [
      "loading eigengap values scores from \\\\allen\\programs\\braintv\\workgroups\\nc-ophys\\visual_behavior\\platform_paper_plots\\figure_4\\all_cre_clustering_familiar_090623\\eigengap_24_events_all_L2_optimize_by_session_kmax25all.pkl\n",
      "done.\n"
     ]
    }
   ],
   "source": [
    "eigengap=processing.load_eigengap(glm_version, feature_matrix, cre_line='all', save_dir=save_dir, k_max=25)"
   ]
  },
  {
   "cell_type": "code",
   "execution_count": 38,
   "id": "973e6d64-cfeb-4442-abc9-28fc65343ea9",
   "metadata": {},
   "outputs": [
    {
     "data": {
      "image/png": "[encoded data removed]",
      "text/plain": [
       "<Figure size 576x288 with 2 Axes>"
      ]
     },
     "metadata": {
      "needs_background": "light"
     },
     "output_type": "display_data"
    }
   ],
   "source": [
    "plotting.plot_eigengap_values(eigengap, cre_lines=['all'], n_clusters_cre={'all':14}, save_dir=None, folder='')"
   ]
  },
  {
   "cell_type": "markdown",
   "id": "f2d67fc6-676a-41b1-930e-7af85b5fc8c5",
   "metadata": {},
   "source": [
    "## Silhouette Score"
   ]
  },
  {
   "cell_type": "code",
   "execution_count": 39,
   "id": "71a44ef8-230b-4cd9-ae9b-85ffb3d3b30e",
   "metadata": {
    "tags": []
   },
   "outputs": [
    {
     "name": "stdout",
     "output_type": "stream",
     "text": [
      "loaded file\n"
     ]
    }
   ],
   "source": [
    "from sklearn.cluster import SpectralClustering\n",
    "\n",
    "X=feature_matrix.values\n",
    "n_clusters=np.arange(3, 25)\n",
    "metric='euclidean'\n",
    "n_boots=20\n",
    "silhouette_filename= os.path.join(save_dir, 'silhouette_score_{}_{}_clusters_metric_{}_nboots_{}.pkl'.format(n_clusters[0], n_clusters[-1], metric, n_boots))\n",
    "if os.path.exists(silhouette_filename):\n",
    "    with open(silhouette_filename, 'rb') as f:\n",
    "        silhouette_scores, silhouette_std = pickle.load(f)\n",
    "        print('loaded file')\n",
    "else:\n",
    "    \n",
    "    silhouette_scores, silhouette_std = processing.get_silhouette_scores(X=X, model=SpectralClustering(), n_clusters=n_clusters, metric=metric, n_boots=n_boots)\n",
    "    processing.save_clustering_results([silhouette_scores, silhouette_std], silhouette_filename)"
   ]
  },
  {
   "cell_type": "code",
   "execution_count": 40,
   "id": "b4cd5f7f-ae4c-4b79-8c03-bf8e15a068fd",
   "metadata": {},
   "outputs": [
    {
     "data": {
      "text/plain": [
       "<AxesSubplot:title={'center':', '}, xlabel='Number of clusters', ylabel='Silhouette score'>"
      ]
     },
     "execution_count": 40,
     "metadata": {},
     "output_type": "execute_result"
    },
    {
     "data": {
      "image/png": "[encoded data removed]",
      "text/plain": [
       "<Figure size 360x360 with 1 Axes>"
      ]
     },
     "metadata": {
      "needs_background": "light"
     },
     "output_type": "display_data"
    }
   ],
   "source": [
    "\n",
    "plotting.plot_silhouette_scores(silhouette_scores=silhouette_scores, n_clusters=n_clusters, silhouette_std=silhouette_std,\n",
    "                             ax=None, model_output_type='')"
   ]
  },
  {
   "cell_type": "code",
   "execution_count": null,
   "id": "4af875b1-8596-47dd-8ef7-0bfa19558011",
   "metadata": {},
   "outputs": [],
   "source": []
  },
  {
   "cell_type": "markdown",
   "id": "6d6e4a4f",
   "metadata": {},
   "source": [
    "\n",
    "## load or generate clustering results\n"
   ]
  },
  {
   "cell_type": "code",
   "execution_count": 169,
   "id": "48634bc4",
   "metadata": {
    "tags": []
   },
   "outputs": [
    {
     "name": "stderr",
     "output_type": "stream",
     "text": [
      "100%|████████████████████████████████████████████████████████████████████████████████| 100/100 [00:37<00:00,  2.69it/s]\n"
     ]
    },
    {
     "name": "stdout",
     "output_type": "stream",
     "text": [
      "1450 cells in cell_metadata for feature_matrix\n",
      "dropping 1 cells for ('Slc17a7-IRES2-Cre', 10)\n",
      "dropping 1 cells for ('Slc17a7-IRES2-Cre', 11)\n",
      "dropping 5 cells for ('Sst-IRES-Cre', 1)\n",
      "dropping 3 cells for ('Sst-IRES-Cre', 4)\n",
      "dropping 5 cells for ('Sst-IRES-Cre', 5)\n",
      "dropping 1 cells for ('Sst-IRES-Cre', 6)\n",
      "dropping 1 cells for ('Sst-IRES-Cre', 7)\n",
      "dropping 1 cells for ('Sst-IRES-Cre', 8)\n",
      "dropping 5 cells for ('Sst-IRES-Cre', 9)\n",
      "dropping 1 cells for ('Sst-IRES-Cre', 11)\n",
      "dropping 2 cells for ('Vip-IRES-Cre', 2)\n",
      "dropping 1 cells for ('Vip-IRES-Cre', 6)\n",
      "dropping 2 cells for ('Vip-IRES-Cre', 8)\n",
      "dropping 2 cells for ('Vip-IRES-Cre', 9)\n",
      "dropping 1 cells for ('Vip-IRES-Cre', 10)\n",
      "32 cells dropped total\n",
      "adding within cluster correlation to cluster_meta\n"
     ]
    },
    {
     "name": "stderr",
     "output_type": "stream",
     "text": [
      "C:\\Users\\iryna.yavorska\\Anaconda3\\envs\\vba\\lib\\site-packages\\scipy\\stats\\stats.py:4484: SpearmanRConstantInputWarning: An input array is constant; the correlation coefficient is not defined.\n",
      "  warnings.warn(SpearmanRConstantInputWarning())\n"
     ]
    },
    {
     "name": "stdout",
     "output_type": "stream",
     "text": [
      "saving results\n"
     ]
    }
   ],
   "source": [
    "n_clusters = 10 # based on eigen gap\n",
    "\n",
    "cluster_meta_save_path = os.path.join(save_dir, 'cluster_meta_n_'+str(n_clusters)+'_clusters.h5')\n",
    "\n",
    "# if clustering output exists, load it\n",
    "if os.path.exists(cluster_meta_save_path):\n",
    "    print('loading results')\n",
    "    cluster_meta = pd.read_hdf(cluster_meta_save_path, key='df')\n",
    "    # merge in cell metadata\n",
    "    cell_metadata = processing.get_cell_metadata_for_feature_matrix(feature_matrix, cells_table)\n",
    "    cell_metadata = cell_metadata.drop(columns=['ophys_experiment_id', 'cre_line'])\n",
    "    cluster_meta = cluster_meta.merge(cell_metadata.reset_index(), on='cell_specimen_id')\n",
    "    cluster_meta = cluster_meta.set_index('cell_specimen_id')\n",
    "# otherwise run it and save it\n",
    "else: \n",
    "    # run spectral clustering and get co-clustering matrix\n",
    "    from sklearn.cluster import SpectralClustering\n",
    "    sc = SpectralClustering()\n",
    "    X = feature_matrix.values\n",
    "    m = processing.get_coClust_matrix(X=X, n_clusters=n_clusters, model=sc, nboot=np.arange(100))\n",
    "    # make co-clustering matrix a dataframe with cell_specimen_ids as indices and columns\n",
    "    coclustering_df = pd.DataFrame(data=m, index=feature_matrix.index, columns=feature_matrix.index)\n",
    "\n",
    "    # save co-clustering matrix\n",
    "    coclust_save_path = os.path.join(save_dir, 'coclustering_matrix_n_'+str(n_clusters)+'_clusters.h5')\n",
    "    coclustering_df.to_hdf(coclust_save_path, key='df', format='table')\n",
    "\n",
    "\n",
    "    # run agglomerative clustering on co-clustering matrix to identify cluster labels\n",
    "    from sklearn.cluster import AgglomerativeClustering\n",
    "    X = coclustering_df.values\n",
    "    cluster = AgglomerativeClustering(n_clusters=n_clusters, affinity='euclidean',\n",
    "                                    linkage='average')\n",
    "    labels = cluster.fit_predict(X)\n",
    "    cell_specimen_ids = coclustering_df.index.values\n",
    "    # make dictionary with labels for each cell specimen ID in this cre line\n",
    "    labels_dict = {'labels': labels, 'cell_specimen_id': cell_specimen_ids}\n",
    "    # turn it into a dataframe\n",
    "    labels_df = pd.DataFrame(data=labels_dict, columns=['labels', 'cell_specimen_id'])\n",
    "    # get new cluster_ids based on size of clusters and add to labels_df\n",
    "    cluster_size_order = labels_df['labels'].value_counts().index.values\n",
    "    # translate between original labels and new IDS based on cluster size\n",
    "    labels_df['cluster_id'] = [np.where(cluster_size_order == label)[0][0] for label in labels_df.labels.values]\n",
    "    # concatenate with df for all cre lines\n",
    "    cluster_labels = labels_df\n",
    "\n",
    "    # limit cells_table to cells in feature_matrix and drop duplicates \n",
    "    cell_metadata = processing.get_cell_metadata_for_feature_matrix(feature_matrix, cells_table)\n",
    "    # cluster_meta will only have one row per cell_specimen_id \n",
    "\n",
    "    cluster_meta = cluster_labels[['cell_specimen_id', 'cluster_id', 'labels']].merge(cell_metadata, on='cell_specimen_id')\n",
    "    cluster_meta = cluster_meta.set_index('cell_specimen_id')\n",
    "    cluster_meta['cluster_id'] = cluster_meta['cluster_id'].copy()+1\n",
    "    # annotate & clean cluster metadata\n",
    "    cluster_meta = processing.clean_cluster_meta(cluster_meta)  # drop cluster IDs with fewer than 5 cells in them\n",
    "    cluster_meta['original_cluster_id'] = cluster_meta.cluster_id\n",
    "\n",
    "    # plot coclustering matrix - need to hack it since it assumes cre lines\n",
    "    coclustering_dict = {}\n",
    "    coclustering_dict['all'] = coclustering_df\n",
    "    cluster_meta_tmp = cluster_meta.copy()\n",
    "    cluster_meta_tmp['cre_line'] = 'all'\n",
    "    # plotting.plot_coclustering_matrix_sorted_by_cluster_size(coclustering_dict, cluster_meta_tmp, cre_line='all',\n",
    "    #                                                 save_dir=save_dir, folder=folder, suffix='_'+str(n_clusters)+'_clusters', ax=None)\n",
    "    \n",
    "    \n",
    "    # add within cluster correlation\n",
    "    cluster_meta = processing.add_within_cluster_corr_to_cluster_meta(feature_matrix, cluster_meta, use_spearmanr=True)\n",
    "\n",
    "    # save clustering results\n",
    "    print('saving results')\n",
    "    cluster_meta_save_path = os.path.join(save_dir, 'cluster_meta_n_'+str(n_clusters)+'_clusters.h5')\n",
    "    cluster_data = cluster_meta.reset_index()[['cell_specimen_id', 'ophys_experiment_id', 'cre_line', 'cluster_id', 'labels', 'within_cluster_correlation']]\n",
    "    cluster_data.to_hdf(cluster_meta_save_path, key='df', format='table')\n"
   ]
  },
  {
   "cell_type": "code",
   "execution_count": 157,
   "id": "feaf76e1",
   "metadata": {},
   "outputs": [
    {
     "data": {
      "text/html": [
       "<div>\n",
       "<style scoped>\n",
       "    .dataframe tbody tr th:only-of-type {\n",
       "        vertical-align: middle;\n",
       "    }\n",
       "\n",
       "    .dataframe tbody tr th {\n",
       "        vertical-align: top;\n",
       "    }\n",
       "\n",
       "    .dataframe thead tr th {\n",
       "        text-align: left;\n",
       "    }\n",
       "\n",
       "    .dataframe thead tr:last-of-type th {\n",
       "        text-align: right;\n",
       "    }\n",
       "</style>\n",
       "<table border=\"1\" class=\"dataframe\">\n",
       "  <thead>\n",
       "    <tr>\n",
       "      <th></th>\n",
       "      <th colspan=\"3\" halign=\"left\">all-images</th>\n",
       "      <th colspan=\"3\" halign=\"left\">omissions</th>\n",
       "      <th colspan=\"3\" halign=\"left\">task</th>\n",
       "      <th colspan=\"3\" halign=\"left\">behavioral</th>\n",
       "    </tr>\n",
       "    <tr>\n",
       "      <th>experience_level</th>\n",
       "      <th>Familiar 1</th>\n",
       "      <th>Familiar 2</th>\n",
       "      <th>Familiar 3</th>\n",
       "      <th>Familiar 1</th>\n",
       "      <th>Familiar 2</th>\n",
       "      <th>Familiar 3</th>\n",
       "      <th>Familiar 1</th>\n",
       "      <th>Familiar 2</th>\n",
       "      <th>Familiar 3</th>\n",
       "      <th>Familiar 1</th>\n",
       "      <th>Familiar 2</th>\n",
       "      <th>Familiar 3</th>\n",
       "    </tr>\n",
       "    <tr>\n",
       "      <th>cell_specimen_id</th>\n",
       "      <th></th>\n",
       "      <th></th>\n",
       "      <th></th>\n",
       "      <th></th>\n",
       "      <th></th>\n",
       "      <th></th>\n",
       "      <th></th>\n",
       "      <th></th>\n",
       "      <th></th>\n",
       "      <th></th>\n",
       "      <th></th>\n",
       "      <th></th>\n",
       "    </tr>\n",
       "  </thead>\n",
       "  <tbody>\n",
       "    <tr>\n",
       "      <th>1086491395</th>\n",
       "      <td>0.744411</td>\n",
       "      <td>0.372261</td>\n",
       "      <td>0.980643</td>\n",
       "      <td>0.0</td>\n",
       "      <td>0.0</td>\n",
       "      <td>0.0</td>\n",
       "      <td>0.0</td>\n",
       "      <td>0.0</td>\n",
       "      <td>0.0</td>\n",
       "      <td>0.213908</td>\n",
       "      <td>0.614764</td>\n",
       "      <td>0.092488</td>\n",
       "    </tr>\n",
       "    <tr>\n",
       "      <th>1086491508</th>\n",
       "      <td>0.000000</td>\n",
       "      <td>0.000000</td>\n",
       "      <td>0.000000</td>\n",
       "      <td>0.0</td>\n",
       "      <td>0.0</td>\n",
       "      <td>0.0</td>\n",
       "      <td>0.0</td>\n",
       "      <td>0.0</td>\n",
       "      <td>0.0</td>\n",
       "      <td>0.000000</td>\n",
       "      <td>0.000000</td>\n",
       "      <td>0.000000</td>\n",
       "    </tr>\n",
       "    <tr>\n",
       "      <th>1086491716</th>\n",
       "      <td>0.000000</td>\n",
       "      <td>0.000000</td>\n",
       "      <td>0.000000</td>\n",
       "      <td>0.0</td>\n",
       "      <td>0.0</td>\n",
       "      <td>0.0</td>\n",
       "      <td>0.0</td>\n",
       "      <td>0.0</td>\n",
       "      <td>0.0</td>\n",
       "      <td>0.000000</td>\n",
       "      <td>0.000000</td>\n",
       "      <td>0.000000</td>\n",
       "    </tr>\n",
       "    <tr>\n",
       "      <th>1086491863</th>\n",
       "      <td>0.000000</td>\n",
       "      <td>0.000000</td>\n",
       "      <td>0.000000</td>\n",
       "      <td>0.0</td>\n",
       "      <td>0.0</td>\n",
       "      <td>0.0</td>\n",
       "      <td>0.0</td>\n",
       "      <td>0.0</td>\n",
       "      <td>0.0</td>\n",
       "      <td>0.000000</td>\n",
       "      <td>0.000000</td>\n",
       "      <td>0.000000</td>\n",
       "    </tr>\n",
       "    <tr>\n",
       "      <th>1086492072</th>\n",
       "      <td>0.000000</td>\n",
       "      <td>0.000000</td>\n",
       "      <td>0.000000</td>\n",
       "      <td>0.0</td>\n",
       "      <td>0.0</td>\n",
       "      <td>0.0</td>\n",
       "      <td>0.0</td>\n",
       "      <td>0.0</td>\n",
       "      <td>0.0</td>\n",
       "      <td>0.000000</td>\n",
       "      <td>0.000000</td>\n",
       "      <td>0.000000</td>\n",
       "    </tr>\n",
       "  </tbody>\n",
       "</table>\n",
       "</div>"
      ],
      "text/plain": [
       "                 all-images                        omissions             \\\n",
       "experience_level Familiar 1 Familiar 2 Familiar 3 Familiar 1 Familiar 2   \n",
       "cell_specimen_id                                                          \n",
       "1086491395         0.744411   0.372261   0.980643        0.0        0.0   \n",
       "1086491508         0.000000   0.000000   0.000000        0.0        0.0   \n",
       "1086491716         0.000000   0.000000   0.000000        0.0        0.0   \n",
       "1086491863         0.000000   0.000000   0.000000        0.0        0.0   \n",
       "1086492072         0.000000   0.000000   0.000000        0.0        0.0   \n",
       "\n",
       "                                  task                       behavioral  \\\n",
       "experience_level Familiar 3 Familiar 1 Familiar 2 Familiar 3 Familiar 1   \n",
       "cell_specimen_id                                                          \n",
       "1086491395              0.0        0.0        0.0        0.0   0.213908   \n",
       "1086491508              0.0        0.0        0.0        0.0   0.000000   \n",
       "1086491716              0.0        0.0        0.0        0.0   0.000000   \n",
       "1086491863              0.0        0.0        0.0        0.0   0.000000   \n",
       "1086492072              0.0        0.0        0.0        0.0   0.000000   \n",
       "\n",
       "                                        \n",
       "experience_level Familiar 2 Familiar 3  \n",
       "cell_specimen_id                        \n",
       "1086491395         0.614764   0.092488  \n",
       "1086491508         0.000000   0.000000  \n",
       "1086491716         0.000000   0.000000  \n",
       "1086491863         0.000000   0.000000  \n",
       "1086492072         0.000000   0.000000  "
      ]
     },
     "execution_count": 157,
     "metadata": {},
     "output_type": "execute_result"
    }
   ],
   "source": [
    "feature_matrix.head()"
   ]
  },
  {
   "cell_type": "markdown",
   "id": "07d783aa",
   "metadata": {},
   "source": [
    "### plot coding scores for clusters"
   ]
  },
  {
   "cell_type": "markdown",
   "id": "cda14db4",
   "metadata": {},
   "source": [
    "### cluster averages"
   ]
  },
  {
   "cell_type": "code",
   "execution_count": 72,
   "id": "04ab9478",
   "metadata": {},
   "outputs": [],
   "source": []
  },
  {
   "cell_type": "code",
   "execution_count": 73,
   "id": "1f3ebcf8",
   "metadata": {
    "tags": []
   },
   "outputs": [],
   "source": [
    "# def get_cluster_means(feature_matrix, cluster_meta):\n",
    "#     \"\"\"\n",
    "#     adds cluster_id column to feature_matrix then groups by the cluster ID to compute the mean of each cluster\n",
    "#     \"\"\"\n",
    "#     cluster_means = feature_matrix.merge(cluster_meta[['cluster_id']], on='cell_specimen_id').groupby('cluster_id').mean()\n",
    "#     # reset column values so they arent tuples\n",
    "#     columns = pd.MultiIndex.from_tuples(cluster_means.columns)\n",
    "#     cluster_means.columns = columns\n",
    "#     return cluster_means"
   ]
  },
  {
   "cell_type": "code",
   "execution_count": 74,
   "id": "7fc3177b",
   "metadata": {},
   "outputs": [],
   "source": [
    "# def get_cre_line_means(feature_matrix, cluster_meta):\n",
    "#     \"\"\"\n",
    "#     adds cluster_id column to feature_matrix then groups by the cre line to compute the mean of each cre line\n",
    "#     \"\"\"\n",
    "#     cre_line_means = feature_matrix.merge(cluster_meta[['cre_line']], on='cell_specimen_id').groupby('cre_line').mean()\n",
    "#     # reset column values so they arent tuples\n",
    "#     columns = pd.MultiIndex.from_tuples(cre_line_means.columns)\n",
    "#     cre_line_means.columns = columns\n",
    "#     return cre_line_means"
   ]
  },
  {
   "cell_type": "code",
   "execution_count": 75,
   "id": "1b32c9b5",
   "metadata": {},
   "outputs": [],
   "source": [
    "# def get_clean_labels_for_coding_scores_df(coding_scores, columns=False): \n",
    "#     \"\"\"\n",
    "#     coding_scores should be a data frame with cells or clusters as colums (or indices) and \n",
    "#     (coding score category - experience level) as multi-index columms (or indices)\n",
    "#     specify axis to transform by setting columns to True or False\n",
    "#     \"\"\"\n",
    "#     if columns:\n",
    "#         experience_level_labels = coding_scores.columns.get_level_values(1)\n",
    "#     else:\n",
    "#         experience_level_labels = coding_scores.index.get_level_values(1)\n",
    "#     exp_level_abbreviations = [exp_level.split(' ')[0][0] if len(exp_level.split(' ')) == 1 else exp_level.split(' ')[0][0] + exp_level.split(' ')[1][:2] for exp_level in experience_level_labels]\n",
    "#     # manually label feature categories\n",
    "#     # feature_labels = ['', 'images', '', '', 'omissions', '', '', 'behavioral', '', '', 'task', '']\n",
    "#     # new_labels = pd.MultiIndex.from_arrays((feature_labels, exp_level_abbreviations))\n",
    "#     new_labels = exp_level_abbreviations\n",
    "#     return new_labels"
   ]
  },
  {
   "cell_type": "code",
   "execution_count": 76,
   "id": "5a0742be",
   "metadata": {},
   "outputs": [],
   "source": [
    "# def get_abbreviated_exp_levels(experience_levels): \n",
    "#     \"\"\"\n",
    "#     \"\"\"\n",
    "#     exp_level_abbreviations = [exp_level.split(' ')[0][0] if len(exp_level.split(' ')) == 1 else exp_level.split(' ')[0][0] + exp_level.split(' ')[1][:2] for exp_level in experience_levels]\n",
    "#     return exp_level_abbreviations"
   ]
  },
  {
   "cell_type": "code",
   "execution_count": 77,
   "id": "f93103fb",
   "metadata": {},
   "outputs": [],
   "source": []
  },
  {
   "cell_type": "code",
   "execution_count": 78,
   "id": "82d17bd1",
   "metadata": {},
   "outputs": [],
   "source": [
    "def plot_cre_line_means_heatmap(cre_line_means, experience_colors=True, colorbar=False, ax=None):\n",
    "    \"\"\"\n",
    "    plots a heatmap of mean coding score values for each cre line, \n",
    "    remap the colormap to use experience level colors if experience_colors = True, else use familiar colors\n",
    "\n",
    "    cre_line_means: dataframe with cre lines as columns and feature-experience combinations as rows, values are mean coding scores per cre line\n",
    "    \"\"\"\n",
    "    if experience_colors:\n",
    "        # remap to session colors\n",
    "        cre_line_means, cmap, vmax = remap_coding_scores_to_experience_level_colors(cre_line_means)\n",
    "    else: \n",
    "        colors = experience_level_colors.copy()\n",
    "        cmap = matplotlib.colors.LinearSegmentedColormap.from_list(\"\", [\"white\", colors[0]])\n",
    "        vmax = 1\n",
    "        \n",
    "    ax = sns.heatmap(cre_line_means, cmap=cmap, vmin=0, vmax=vmax, square=False, cbar=colorbar, ax=ax, annot=True, fmt=\".2f\")\n",
    "    sns.despine(ax=ax, top=False, right=False, left=False, bottom=False, offset=None, trim=False)\n",
    "    # abbreviate exp level labels\n",
    "    ax.set_yticklabels(get_clean_labels_for_coding_scores_df(cre_line_means, columns=False))\n",
    "    ax.set_ylabel('')\n",
    "    ax.set_xticklabels([utils.get_abbreviated_cell_type(cre_line) for cre_line in cre_line_means.columns.values])\n",
    "    ax.set_xlabel('')\n",
    "    ax.set_title('avg.\\ncoding')\n",
    "    # dotted gray lines in between feature categories\n",
    "    for y in [3, 6, 9]:\n",
    "        ax.axhline(y=y, xmin=0, xmax=cre_line_means.shape[0], color='gray', linestyle='--', linewidth=1)\n",
    "\n",
    "    # colorize y axis labels\n",
    "    if experience_colors: \n",
    "        color_yaxis_labels_by_experience(ax)\n",
    "\n",
    "    return ax\n"
   ]
  },
  {
   "cell_type": "code",
   "execution_count": 79,
   "id": "f98b8d27",
   "metadata": {},
   "outputs": [],
   "source": []
  },
  {
   "cell_type": "code",
   "execution_count": 163,
   "id": "02813cc2",
   "metadata": {},
   "outputs": [
    {
     "name": "stderr",
     "output_type": "stream",
     "text": [
      "C:\\Users\\iryna.yavorska\\Anaconda3\\envs\\vba\\lib\\site-packages\\pandas\\core\\frame.py:9203: FutureWarning: merging between different levels is deprecated and will be removed in a future version. (2 levels on the left,1 on the right)\n",
      "  validate=validate,\n"
     ]
    },
    {
     "data": {
      "image/png": "[encoded data removed]",
      "text/plain": [
       "<Figure size 576x360 with 1 Axes>"
      ]
     },
     "metadata": {
      "needs_background": "light"
     },
     "output_type": "display_data"
    }
   ],
   "source": [
    "plotting.plot_cre_line_means_remapped(feature_matrix, cluster_meta, session_colors=False, experience_index=0)"
   ]
  },
  {
   "cell_type": "code",
   "execution_count": 81,
   "id": "3397c3c3",
   "metadata": {},
   "outputs": [],
   "source": [
    "# def plot_cluster_means_heatmap(cluster_means, experience_colors=False, colorbar=False, ax=None):\n",
    "#     \"\"\"\n",
    "#     plots a heatmap of cluster mean values\n",
    "#     remap the colormap to use experience level colors if experience_colors = True, else use familiar colors\n",
    "\n",
    "#     cluster_means: dataframe with clusters as columns and feature-experience combinations as rows, values are mean coding scores per cluster\n",
    "#     \"\"\"\n",
    "#     if experience_colors:\n",
    "#         # remap to session colors\n",
    "#         cluster_means, cmap, vmax = remap_coding_scores_to_experience_level_colors(cluster_means)\n",
    "#     else: \n",
    "#         colors = experience_level_colors.copy()\n",
    "#         cmap = matplotlib.colors.LinearSegmentedColormap.from_list(\"\", [\"white\", colors[0]])\n",
    "#         vmax = 1\n",
    "        \n",
    "#     if ax is None: \n",
    "#         figsize = (8,5)\n",
    "#         fig, ax = plt.subplots(figsize=figsize)\n",
    "#     ax = sns.heatmap(cluster_means, cmap=cmap, vmin=0, vmax=vmax, square=True, cbar=colorbar, ax=ax)\n",
    "#     sns.despine(ax=ax, top=False, right=False, left=False, bottom=False, offset=None, trim=False)\n",
    "#     ax.set_yticklabels(get_clean_labels_for_coding_scores_df(cluster_means, columns=False))\n",
    "#     ax.set_title('cluster averages')\n",
    "#     ax.set_xlabel('cluster ID')\n",
    "#     ax.set_ylabel('')\n",
    "#     # dotted gray lines in between feature categories\n",
    "#     for y in [3, 6, 9]:\n",
    "#         ax.axhline(y=y, xmin=0, xmax=cluster_means.shape[0], color='gray', linestyle='--', linewidth=1)\n",
    "#     # dotted gray lines every 3rd cluster\n",
    "#     for x in [3, 6, 9]:\n",
    "#         ax.axvline(x=x, ymin=0, ymax=cluster_means.shape[0], color='gray', linestyle='--', linewidth=1)\n",
    "\n",
    "#     # label feature categories on right\n",
    "#     fontsize = 14\n",
    "#     rotation = -90\n",
    "#     n_clusters = len(cluster_means.columns)\n",
    "#     ax.text(s='images', x=n_clusters+0.25, y=1.5, rotation=rotation, color='black', fontsize=fontsize, va='center', ha='left')\n",
    "#     ax.text(s='omissions', x=n_clusters+0.28, y=4.4, rotation=rotation, color='black', fontsize=fontsize, va='center', ha='left')\n",
    "#     ax.text(s='behavioral', x=n_clusters+0.25, y=7.5, rotation=rotation, color='black', fontsize=fontsize, va='center', ha='left')\n",
    "#     ax.text(s='task', x=n_clusters+0.28, y=10.5, rotation=rotation, color='black', fontsize=fontsize, va='center', ha='left')\n",
    "\n",
    "#     # colorize y axis labels if using session colors\n",
    "#     if experience_colors:\n",
    "#         color_yaxis_labels_by_experience(ax)\n",
    "\n",
    "#     return ax\n"
   ]
  },
  {
   "cell_type": "code",
   "execution_count": 120,
   "id": "837a72d4",
   "metadata": {},
   "outputs": [],
   "source": [
    "# def plot_cluster_means(feature_matrix, cluster_meta, experience_colors=False, save_dir=None, folder=None, ax=None): \n",
    "#     \"\"\"\n",
    "#     Get the average coding score values for each cluster and plot as a heatmap\n",
    "#     optionally remap the colormap to use experience level colors if experience_colors=True, else use familiar color\n",
    "#     Translate the dataframe so that clusters are columns and rows are feature-experience combos, \n",
    "#     abbreviate the labels for aesthetics, then plot\n",
    "#     \"\"\"\n",
    "#     # compute cluster means\n",
    "#     cluster_means = get_cluster_means(feature_matrix, cluster_meta)\n",
    "#     # translate the df so clusters are cols and feature-exp are rows\n",
    "#     cluster_means = cluster_means.T.copy()\n",
    "\n",
    "#     # make the plot\n",
    "#     figsize = (8,5)\n",
    "#     fig, ax = plt.subplots(figsize=figsize)\n",
    "#     ax = plot_cluster_means_heatmap(cluster_means, experience_colors=experience_colors, colorbar=False, ax=ax)    \n",
    "#     if experience_colors:\n",
    "#         suffix = '_experience_colors'\n",
    "#     else: \n",
    "#         suffix = '_familiar_colors'\n",
    "#     suffix = suffix + '_n_'+str(len(cluster_means.columns))\n",
    "#     # save\n",
    "#     if save_dir:\n",
    "#         utils.save_figure(fig, figsize, save_dir, folder, 'cluster_means'+suffix)\n",
    "#     return ax\n",
    "\n",
    "\n"
   ]
  },
  {
   "cell_type": "code",
   "execution_count": 197,
   "id": "28da1f5e-fb48-4cfb-a30e-bd127aff76ae",
   "metadata": {},
   "outputs": [
    {
     "name": "stdout",
     "output_type": "stream",
     "text": [
      "loading results\n",
      "1450 cells in cell_metadata for feature_matrix\n"
     ]
    }
   ],
   "source": [
    "n_clusters = 10 # based on eigen gap\n",
    "\n",
    "cluster_meta_save_path = os.path.join(save_dir, 'cluster_meta_n_'+str(n_clusters)+'_clusters.h5')\n",
    "\n",
    "# if clustering output exists, load it\n",
    "if os.path.exists(cluster_meta_save_path):\n",
    "    print('loading results')\n",
    "    cluster_meta = pd.read_hdf(cluster_meta_save_path, key='df')\n",
    "    # merge in cell metadata\n",
    "    cell_metadata = processing.get_cell_metadata_for_feature_matrix(feature_matrix, cells_table)\n",
    "    cell_metadata = cell_metadata.drop(columns=['ophys_experiment_id', 'cre_line'])\n",
    "    cluster_meta = cluster_meta.merge(cell_metadata.reset_index(), on='cell_specimen_id')\n",
    "    cluster_meta = cluster_meta.set_index('cell_specimen_id')\n",
    "# otherwise run it and save it"
   ]
  },
  {
   "cell_type": "code",
   "execution_count": 198,
   "id": "a359f9bf-4062-4b4f-bbbc-08819200f252",
   "metadata": {},
   "outputs": [
    {
     "name": "stderr",
     "output_type": "stream",
     "text": [
      "c:\\users\\iryna.yavorska\\documents\\github\\visual_behavior_analysis\\visual_behavior\\dimensionality_reduction\\clustering\\plotting.py:1649: UserWarning: Tight layout not applied. The bottom and top margins cannot be made large enough to accommodate all axes decorations. \n",
      "  if save_dir:\n"
     ]
    },
    {
     "data": {
      "image/png": "[encoded data removed]",
      "text/plain": [
       "<Figure size 1620x122.4 with 9 Axes>"
      ]
     },
     "metadata": {},
     "output_type": "display_data"
    },
    {
     "data": {
      "image/png": "[encoded data removed]",
      "text/plain": [
       "<Figure size 360x122.4 with 2 Axes>"
      ]
     },
     "metadata": {},
     "output_type": "display_data"
    },
    {
     "data": {
      "image/png": "[encoded data removed]",
      "text/plain": [
       "<Figure size 900x122.4 with 5 Axes>"
      ]
     },
     "metadata": {},
     "output_type": "display_data"
    }
   ],
   "source": [
    "for cre_line in cre_lines:\n",
    "    cluster_meta_cre = cluster_meta[cluster_meta.cre_line==cre_line]\n",
    "    clusters = cluster_meta_cre.value_counts('cluster_id').index.values\n",
    "    plotting.plot_mean_cluster_heatmaps_remapped(feature_matrix, cluster_meta_cre, cre_line, clusters, session_colors=False, experience_index=0, save_dir=None, folder=None)"
   ]
  },
  {
   "cell_type": "code",
   "execution_count": 199,
   "id": "b8b4c06c",
   "metadata": {},
   "outputs": [
    {
     "name": "stderr",
     "output_type": "stream",
     "text": [
      "C:\\Users\\iryna.yavorska\\Anaconda3\\envs\\vba\\lib\\site-packages\\pandas\\core\\frame.py:9203: FutureWarning: merging between different levels is deprecated and will be removed in a future version. (2 levels on the left,1 on the right)\n",
      "  validate=validate,\n"
     ]
    },
    {
     "data": {
      "text/plain": [
       "<AxesSubplot:title={'center':'Cluster averages'}, xlabel='Cluster ID'>"
      ]
     },
     "execution_count": 199,
     "metadata": {},
     "output_type": "execute_result"
    },
    {
     "data": {
      "image/png": "[encoded data removed]",
      "text/plain": [
       "<Figure size 576x360 with 1 Axes>"
      ]
     },
     "metadata": {},
     "output_type": "display_data"
    }
   ],
   "source": [
    "plotting.plot_cluster_means_remapped(feature_matrix, cluster_meta, session_colors=False, experience_index=0, save_dir='', folder='', ax=None)"
   ]
  },
  {
   "cell_type": "code",
   "execution_count": 200,
   "id": "6a6bb492",
   "metadata": {},
   "outputs": [
    {
     "data": {
      "text/plain": [
       "<AxesSubplot:xlabel='cells'>"
      ]
     },
     "execution_count": 200,
     "metadata": {},
     "output_type": "execute_result"
    },
    {
     "data": {
      "image/png": "[encoded data removed]",
      "text/plain": [
       "<Figure size 864x360 with 2 Axes>"
      ]
     },
     "metadata": {},
     "output_type": "display_data"
    }
   ],
   "source": [
    "cluster_meta_tmp = cluster_meta.copy()\n",
    "cluster_meta_tmp['cell_index'] = cluster_meta_tmp.index.values\n",
    "plotting.plot_coding_score_heatmap_remapped(cluster_meta_tmp, feature_matrix, sort_by=None, session_colors=False, experience_index=0,\n",
    "                                    save_dir=None, folder=None, ax=None)"
   ]
  },
  {
   "cell_type": "code",
   "execution_count": 201,
   "id": "3aa3cdca",
   "metadata": {},
   "outputs": [
    {
     "data": {
      "text/plain": [
       "<AxesSubplot:xlabel='Cluster ID'>"
      ]
     },
     "execution_count": 201,
     "metadata": {},
     "output_type": "execute_result"
    },
    {
     "data": {
      "image/png": "[encoded data removed]",
      "text/plain": [
       "<Figure size 864x360 with 3 Axes>"
      ]
     },
     "metadata": {},
     "output_type": "display_data"
    }
   ],
   "source": [
    "plotting.plot_coding_score_heatmap_remapped(cluster_meta, feature_matrix, sort_by='cluster_id', session_colors=False, experience_index=0,\n",
    "                                    save_dir=None, folder=None, ax=None)"
   ]
  },
  {
   "cell_type": "markdown",
   "id": "ab016962",
   "metadata": {},
   "source": [
    "### fraction cells per cluster per cre"
   ]
  },
  {
   "cell_type": "code",
   "execution_count": 202,
   "id": "c43842e0-5031-417a-a137-6b17361be0ec",
   "metadata": {},
   "outputs": [
    {
     "name": "stdout",
     "output_type": "stream",
     "text": [
      "9 9\n",
      "2 9\n",
      "5 9\n"
     ]
    },
    {
     "data": {
      "image/png": "[encoded data removed]",
      "text/plain": [
       "<Figure size 360x360 with 3 Axes>"
      ]
     },
     "metadata": {},
     "output_type": "display_data"
    }
   ],
   "source": [
    "plotting.plot_fraction_cells_per_cluster_per_cre(cluster_meta, col_to_group='cre_line', \n",
    "                                                    save_dir=None, folder='')"
   ]
  },
  {
   "cell_type": "markdown",
   "id": "ef1cceb3",
   "metadata": {},
   "source": [
    "### heatmaps of image response per cluster"
   ]
  },
  {
   "cell_type": "code",
   "execution_count": 175,
   "id": "3f966e1e",
   "metadata": {},
   "outputs": [],
   "source": [
    "data_type = 'events'\n",
    "\n",
    "interpolate = True\n",
    "output_sampling_rate = 30\n",
    "\n",
    "# set inclusion criteria\n",
    "# options: ['active_only', 'closest_familiar_and_novel', 'containers_with_all_levels']\n",
    "inclusion_criteria = ''"
   ]
  },
  {
   "cell_type": "code",
   "execution_count": 176,
   "id": "f1f86342",
   "metadata": {},
   "outputs": [
    {
     "name": "stderr",
     "output_type": "stream",
     "text": [
      "c:\\users\\iryna.yavorska\\documents\\github\\allensdk\\allensdk\\api\\cloud_cache\\cloud_cache.py:521: OutdatedManifestWarning: You are loading visual-behavior-ophys_project_manifest_v1.0.1.json. A more up to date version of the dataset -- visual-behavior-ophys_project_manifest_v1.1.0.json -- exists online. To see the changes between the two versions of the dataset, run\n",
      "VisualBehaviorOphysProjectCache.compare_manifests('visual-behavior-ophys_project_manifest_v1.0.1.json', 'visual-behavior-ophys_project_manifest_v1.1.0.json')\n",
      "To load another version of the dataset, run\n",
      "VisualBehaviorOphysProjectCache.load_manifest('visual-behavior-ophys_project_manifest_v1.1.0.json')\n",
      "  warnings.warn(msg, OutdatedManifestWarning)\n"
     ]
    },
    {
     "name": "stdout",
     "output_type": "stream",
     "text": [
      "loading files from \\\\allen\\programs\\braintv\\workgroups\\nc-ophys\\visual_behavior\\platform_paper_cache\\multi_session_mean_response_dfs\\interpolate_30Hz\n",
      "mean_response_df_events_all_is_change_.pkl\n"
     ]
    },
    {
     "name": "stderr",
     "output_type": "stream",
     "text": [
      "  6%|████▌                                                                              | 1/18 [00:04<01:22,  4.83s/it]"
     ]
    },
    {
     "name": "stdout",
     "output_type": "stream",
     "text": [
      "no multi_session_df for VisualBehaviorMultiscope OPHYS_1_images_B\n",
      "no multi_session_df for VisualBehaviorMultiscope OPHYS_1_images_G\n"
     ]
    },
    {
     "name": "stderr",
     "output_type": "stream",
     "text": [
      " 22%|██████████████████▍                                                                | 4/18 [00:09<00:29,  2.11s/it]"
     ]
    },
    {
     "name": "stdout",
     "output_type": "stream",
     "text": [
      "no multi_session_df for VisualBehaviorMultiscope OPHYS_2_images_B_passive\n",
      "no multi_session_df for VisualBehaviorMultiscope OPHYS_2_images_G_passive\n"
     ]
    },
    {
     "name": "stderr",
     "output_type": "stream",
     "text": [
      " 39%|████████████████████████████████▎                                                  | 7/18 [00:14<00:20,  1.89s/it]"
     ]
    },
    {
     "name": "stdout",
     "output_type": "stream",
     "text": [
      "no multi_session_df for VisualBehaviorMultiscope OPHYS_3_images_B\n",
      "no multi_session_df for VisualBehaviorMultiscope OPHYS_3_images_G\n",
      "no multi_session_df for VisualBehaviorMultiscope OPHYS_4_images_A\n"
     ]
    },
    {
     "name": "stderr",
     "output_type": "stream",
     "text": [
      " 61%|██████████████████████████████████████████████████                                | 11/18 [00:20<00:12,  1.72s/it]"
     ]
    },
    {
     "name": "stdout",
     "output_type": "stream",
     "text": [
      "no multi_session_df for VisualBehaviorMultiscope OPHYS_4_images_H\n",
      "no multi_session_df for VisualBehaviorMultiscope OPHYS_5_images_A_passive\n"
     ]
    },
    {
     "name": "stderr",
     "output_type": "stream",
     "text": [
      " 78%|███████████████████████████████████████████████████████████████▊                  | 14/18 [00:24<00:06,  1.62s/it]"
     ]
    },
    {
     "name": "stdout",
     "output_type": "stream",
     "text": [
      "no multi_session_df for VisualBehaviorMultiscope OPHYS_5_images_H_passive\n",
      "no multi_session_df for VisualBehaviorMultiscope OPHYS_6_images_A\n"
     ]
    },
    {
     "name": "stderr",
     "output_type": "stream",
     "text": [
      "100%|██████████████████████████████████████████████████████████████████████████████████| 18/18 [00:28<00:00,  1.57s/it]\n"
     ]
    },
    {
     "name": "stdout",
     "output_type": "stream",
     "text": [
      "no multi_session_df for VisualBehaviorMultiscope OPHYS_6_images_H\n"
     ]
    },
    {
     "name": "stderr",
     "output_type": "stream",
     "text": [
      "  0%|                                                                                           | 0/18 [00:00<?, ?it/s]"
     ]
    },
    {
     "name": "stdout",
     "output_type": "stream",
     "text": [
      "no multi_session_df for VisualBehaviorTask1B OPHYS_1_images_A\n"
     ]
    },
    {
     "name": "stderr",
     "output_type": "stream",
     "text": [
      " 11%|█████████▏                                                                         | 2/18 [00:01<00:13,  1.19it/s]"
     ]
    },
    {
     "name": "stdout",
     "output_type": "stream",
     "text": [
      "no multi_session_df for VisualBehaviorTask1B OPHYS_1_images_G\n",
      "no multi_session_df for VisualBehaviorTask1B OPHYS_2_images_A_passive\n"
     ]
    },
    {
     "name": "stderr",
     "output_type": "stream",
     "text": [
      " 28%|███████████████████████                                                            | 5/18 [00:03<00:08,  1.52it/s]"
     ]
    },
    {
     "name": "stdout",
     "output_type": "stream",
     "text": [
      "no multi_session_df for VisualBehaviorTask1B OPHYS_2_images_G_passive\n",
      "no multi_session_df for VisualBehaviorTask1B OPHYS_3_images_A\n"
     ]
    },
    {
     "name": "stderr",
     "output_type": "stream",
     "text": [
      " 44%|████████████████████████████████████▉                                              | 8/18 [00:05<00:06,  1.47it/s]"
     ]
    },
    {
     "name": "stdout",
     "output_type": "stream",
     "text": [
      "no multi_session_df for VisualBehaviorTask1B OPHYS_3_images_G\n"
     ]
    },
    {
     "name": "stderr",
     "output_type": "stream",
     "text": [
      " 56%|█████████████████████████████████████████████▌                                    | 10/18 [00:07<00:06,  1.22it/s]"
     ]
    },
    {
     "name": "stdout",
     "output_type": "stream",
     "text": [
      "no multi_session_df for VisualBehaviorTask1B OPHYS_4_images_B\n",
      "no multi_session_df for VisualBehaviorTask1B OPHYS_4_images_H\n"
     ]
    },
    {
     "name": "stderr",
     "output_type": "stream",
     "text": [
      " 72%|███████████████████████████████████████████████████████████▏                      | 13/18 [00:09<00:03,  1.39it/s]"
     ]
    },
    {
     "name": "stdout",
     "output_type": "stream",
     "text": [
      "no multi_session_df for VisualBehaviorTask1B OPHYS_5_images_B_passive\n",
      "no multi_session_df for VisualBehaviorTask1B OPHYS_5_images_H_passive\n"
     ]
    },
    {
     "name": "stderr",
     "output_type": "stream",
     "text": [
      "100%|██████████████████████████████████████████████████████████████████████████████████| 18/18 [00:11<00:00,  1.57it/s]\n"
     ]
    },
    {
     "name": "stdout",
     "output_type": "stream",
     "text": [
      "no multi_session_df for VisualBehaviorTask1B OPHYS_6_images_B\n",
      "no multi_session_df for VisualBehaviorTask1B OPHYS_6_images_H\n"
     ]
    },
    {
     "name": "stderr",
     "output_type": "stream",
     "text": [
      "  6%|████▌                                                                              | 1/18 [00:02<00:43,  2.53s/it]"
     ]
    },
    {
     "name": "stdout",
     "output_type": "stream",
     "text": [
      "no multi_session_df for VisualBehavior OPHYS_1_images_B\n",
      "no multi_session_df for VisualBehavior OPHYS_1_images_G\n"
     ]
    },
    {
     "name": "stderr",
     "output_type": "stream",
     "text": [
      " 22%|██████████████████▍                                                                | 4/18 [00:04<00:15,  1.09s/it]"
     ]
    },
    {
     "name": "stdout",
     "output_type": "stream",
     "text": [
      "no multi_session_df for VisualBehavior OPHYS_2_images_B_passive\n",
      "no multi_session_df for VisualBehavior OPHYS_2_images_G_passive\n"
     ]
    },
    {
     "name": "stderr",
     "output_type": "stream",
     "text": [
      " 39%|████████████████████████████████▎                                                  | 7/18 [00:06<00:09,  1.17it/s]"
     ]
    },
    {
     "name": "stdout",
     "output_type": "stream",
     "text": [
      "no multi_session_df for VisualBehavior OPHYS_3_images_B\n",
      "no multi_session_df for VisualBehavior OPHYS_3_images_G\n",
      "no multi_session_df for VisualBehavior OPHYS_4_images_A\n"
     ]
    },
    {
     "name": "stderr",
     "output_type": "stream",
     "text": [
      " 61%|██████████████████████████████████████████████████                                | 11/18 [00:08<00:04,  1.45it/s]"
     ]
    },
    {
     "name": "stdout",
     "output_type": "stream",
     "text": [
      "no multi_session_df for VisualBehavior OPHYS_4_images_H\n",
      "no multi_session_df for VisualBehavior OPHYS_5_images_A_passive\n"
     ]
    },
    {
     "name": "stderr",
     "output_type": "stream",
     "text": [
      " 78%|███████████████████████████████████████████████████████████████▊                  | 14/18 [00:10<00:02,  1.52it/s]"
     ]
    },
    {
     "name": "stdout",
     "output_type": "stream",
     "text": [
      "no multi_session_df for VisualBehavior OPHYS_5_images_H_passive\n",
      "no multi_session_df for VisualBehavior OPHYS_6_images_A\n"
     ]
    },
    {
     "name": "stderr",
     "output_type": "stream",
     "text": [
      "100%|██████████████████████████████████████████████████████████████████████████████████| 18/18 [00:12<00:00,  1.45it/s]\n"
     ]
    },
    {
     "name": "stdout",
     "output_type": "stream",
     "text": [
      "no multi_session_df for VisualBehavior OPHYS_6_images_H\n"
     ]
    },
    {
     "name": "stderr",
     "output_type": "stream",
     "text": [
      " 17%|█████████████▊                                                                     | 3/18 [00:00<00:00, 24.66it/s]"
     ]
    },
    {
     "name": "stdout",
     "output_type": "stream",
     "text": [
      "no multi_session_df for VisualBehaviorMultiscope4areasx2d OPHYS_1_images_A\n",
      "no multi_session_df for VisualBehaviorMultiscope4areasx2d OPHYS_1_images_B\n",
      "no multi_session_df for VisualBehaviorMultiscope4areasx2d OPHYS_2_images_A_passive\n",
      "no multi_session_df for VisualBehaviorMultiscope4areasx2d OPHYS_2_images_B_passive\n"
     ]
    },
    {
     "name": "stderr",
     "output_type": "stream",
     "text": [
      " 50%|█████████████████████████████████████████▌                                         | 9/18 [00:00<00:00, 23.76it/s]"
     ]
    },
    {
     "name": "stdout",
     "output_type": "stream",
     "text": [
      "no multi_session_df for VisualBehaviorMultiscope4areasx2d OPHYS_3_images_A\n",
      "no multi_session_df for VisualBehaviorMultiscope4areasx2d OPHYS_3_images_B\n",
      "no multi_session_df for VisualBehaviorMultiscope4areasx2d OPHYS_4_images_A\n",
      "no multi_session_df for VisualBehaviorMultiscope4areasx2d OPHYS_4_images_B\n"
     ]
    },
    {
     "name": "stderr",
     "output_type": "stream",
     "text": [
      " 83%|████████████████████████████████████████████████████████████████████▎             | 15/18 [00:00<00:00, 24.47it/s]"
     ]
    },
    {
     "name": "stdout",
     "output_type": "stream",
     "text": [
      "no multi_session_df for VisualBehaviorMultiscope4areasx2d OPHYS_5_images_A_passive\n",
      "no multi_session_df for VisualBehaviorMultiscope4areasx2d OPHYS_5_images_B_passive\n",
      "no multi_session_df for VisualBehaviorMultiscope4areasx2d OPHYS_6_images_A\n",
      "no multi_session_df for VisualBehaviorMultiscope4areasx2d OPHYS_6_images_B\n"
     ]
    },
    {
     "name": "stderr",
     "output_type": "stream",
     "text": [
      "100%|██████████████████████████████████████████████████████████████████████████████████| 18/18 [00:00<00:00, 24.81it/s]\n"
     ]
    },
    {
     "name": "stdout",
     "output_type": "stream",
     "text": [
      "saving multi session df to pkl\n",
      "there are 1249 experiments in the full multi_session_df\n",
      "removing 1 problematic experiments\n",
      "there are 1248 experiments after filtering for inclusion criteria -  \n"
     ]
    }
   ],
   "source": [
    "# params for stim response df creation\n",
    "event_type = 'all'\n",
    "\n",
    "# params for mean response df creation\n",
    "conditions = ['cell_specimen_id', 'is_change']\n",
    "\n",
    "\n",
    "change_suffix = '_'+utils.get_conditions_string(data_type, conditions)+'_'+inclusion_criteria\n",
    "\n",
    "multi_session_df = loading.get_multi_session_df_for_conditions(data_type, event_type, conditions, inclusion_criteria, \n",
    "                                                        interpolate=interpolate, output_sampling_rate=output_sampling_rate, \n",
    "                                                         epoch_duration_mins=None)\n",
    "\n",
    "change_mdf = multi_session_df[multi_session_df.is_change==True]"
   ]
  },
  {
   "cell_type": "code",
   "execution_count": 177,
   "id": "eb9b37c5",
   "metadata": {},
   "outputs": [],
   "source": [
    "import visual_behavior.visualization.ophys.platform_paper_figures as ppf"
   ]
  },
  {
   "cell_type": "code",
   "execution_count": 178,
   "id": "362c5827",
   "metadata": {},
   "outputs": [],
   "source": [
    "tmp = multi_session_df.copy()\n",
    "tmp = tmp[tmp.is_change==False]\n",
    "# add new experience level to to mdf by merging in cells_table\n",
    "tmp = tmp.drop(columns='experience_level').merge(cells_table[['cell_specimen_id', 'ophys_experiment_id', 'experience_level']], on=['ophys_experiment_id', 'cell_specimen_id'])\n",
    "# add cluster_id by merging in cluster meta\n",
    "tmp = tmp.merge(cluster_meta.reset_index()[['cell_specimen_id', 'cluster_id']], on='cell_specimen_id')\n"
   ]
  },
  {
   "cell_type": "code",
   "execution_count": 256,
   "id": "fa3f4d86",
   "metadata": {},
   "outputs": [
    {
     "data": {
      "image/png": "[encoded data removed]",
      "text/plain": [
       "<Figure size 1296x108 with 9 Axes>"
      ]
     },
     "metadata": {},
     "output_type": "display_data"
    },
    {
     "data": {
      "image/png": "[encoded data removed]",
      "text/plain": [
       "<Figure size 288x108 with 2 Axes>"
      ]
     },
     "metadata": {},
     "output_type": "display_data"
    },
    {
     "data": {
      "image/png": "[encoded data removed]",
      "text/plain": [
       "<Figure size 720x108 with 5 Axes>"
      ]
     },
     "metadata": {},
     "output_type": "display_data"
    }
   ],
   "source": [
    "for cre_line in np.sort(tmp.cre_line.unique()):\n",
    "    df = tmp[tmp.cre_line==cre_line].copy()\n",
    "\n",
    "    axes_column = 'cluster_id'\n",
    "    hue_column = 'experience_level'\n",
    "    # xlim_seconds=[-1., 1.5]\n",
    "    xlim_seconds=[-0.25, 0.75]\n",
    "    cell_type = processing.get_cell_type_for_cre_line(cre_line)\n",
    "    ax= plotting.plot_population_averages_for_clusters(df, event_type, axes_column, hue_column, session_colors=False, experience_index=0,legend=True,\n",
    "                                            xlim_seconds=xlim_seconds, interval_sec=0.5, \n",
    "                                            sharey=True, sharex=False, \n",
    "                                            ylabel='response', xlabel='time (s)', suptitle=cell_type,\n",
    "                                            save_dir=None, folder='', suffix='_sharey', ax=None);\n"
   ]
  },
  {
   "cell_type": "markdown",
   "id": "311b19d5",
   "metadata": {},
   "source": [
    "#### omissions"
   ]
  },
  {
   "cell_type": "code",
   "execution_count": null,
   "id": "334e3b6c",
   "metadata": {},
   "outputs": [],
   "source": [
    "# params for stim response df creation\n",
    "event_type = 'all'\n",
    "\n",
    "# params for mean response df creation\n",
    "conditions = ['cell_specimen_id', 'omitted']\n",
    "\n",
    "\n",
    "omission_suffix = '_'+utils.get_conditions_string(data_type, conditions)+'_'+inclusion_criteria\n",
    "\n",
    "omission_mdf = loading.get_multi_session_df_for_conditions(data_type, event_type, conditions, inclusion_criteria, \n",
    "                                                        interpolate=interpolate, output_sampling_rate=output_sampling_rate, \n",
    "                                                         epoch_duration_mins=None)\n",
    "\n",
    "omission_mdf = omission_mdf[omission_mdf.omitted==True]"
   ]
  },
  {
   "cell_type": "code",
   "execution_count": null,
   "id": "1ad4e84c",
   "metadata": {},
   "outputs": [],
   "source": [
    "tmp = multi_session_df.copy()\n",
    "tmp = tmp[tmp.is_change==False]\n",
    "# add new experience level to to mdf by merging in cells_table\n",
    "tmp = tmp.drop(columns='experience_level').merge(cells_table[['cell_specimen_id', 'ophys_experiment_id', 'experience_level']], on=['ophys_experiment_id', 'cell_specimen_id'])\n",
    "# add cluster_id by merging in cluster meta\n",
    "tmp = tmp.merge(cluster_meta.reset_index()[['cell_specimen_id', 'cluster_id']], on='cell_specimen_id')\n",
    "tmp = tmp[(tmp.mean_baseline<np.percentile(tmp.mean_baseline.values, 99)) &  (tmp.mean_response<np.percentile(tmp.mean_response.values, 99))]\n",
    "osids = [919888953, 931326814]\n",
    "tmp = tmp[tmp.ophys_session_id.isin(osids)==False]\n",
    "\n",
    "\n",
    "for cre_line in tmp.cre_line.unique():\n",
    "    df = tmp[tmp.cre_line==cre_line]\n",
    "\n",
    "    axes_column = 'cluster_id'\n",
    "    hue_column = 'experience_level'\n",
    "    palette = palette = sns.color_palette('YlOrRd', 6)[::2]\n",
    "    # xlim_seconds=[-1., 1.5]\n",
    "    xlim_seconds=[-1, 1.5]\n",
    "\n",
    "    suffix = '_cluster_omission_response'\n",
    "\n",
    "    ax = ppf.plot_population_averages_for_conditions(df, data_type, 'omissions',\n",
    "                                                            axes_column, hue_column, horizontal=True,\n",
    "                                                            xlim_seconds=xlim_seconds, interval_sec=0.5,\n",
    "                                                            palette=palette, ax=None, title=None, suptitle=cre_line,\n",
    "                                                            save_dir=None, folder=folder, suffix=suffix)\n"
   ]
  },
  {
   "cell_type": "code",
   "execution_count": null,
   "id": "8f7d3757",
   "metadata": {},
   "outputs": [],
   "source": []
  },
  {
   "cell_type": "code",
   "execution_count": null,
   "id": "5593485f",
   "metadata": {},
   "outputs": [],
   "source": []
  },
  {
   "cell_type": "code",
   "execution_count": null,
   "id": "981cb48e",
   "metadata": {},
   "outputs": [],
   "source": [
    "tmp = omission_mdf.merge(cluster_meta.reset_index()[['cell_specimen_id', 'cluster_id']], on='cell_specimen_id')\n",
    "\n",
    "\n",
    "xlim_seconds = xlim_seconds=[-1, 1.5]\n",
    "\n",
    "event_type = 'all'\n",
    "\n",
    "timestamps = tmp.trace_timestamps.values[0]\n",
    "row_condition = 'experience_level'\n",
    "col_condition = 'cluster_id'\n",
    "cols_to_sort_by = ['mean_response']\n",
    "\n",
    "for cre_line in tmp.cre_line.unique():\n",
    "    df = tmp[tmp.cre_line==cre_line]\n",
    "\n",
    "\n",
    "    ppf.plot_response_heatmaps_for_conditions(df, timestamps, data_type, 'omissions',\n",
    "                                          row_condition, col_condition, cols_to_sort_by=cols_to_sort_by, suptitle=cre_line,\n",
    "                                          microscope=None, vmax=None, xlim_seconds=xlim_seconds, match_cells=False, cbar=False,\n",
    "                                          save_dir=None, folder=folder, suffix='', ax=None)\n",
    "\n",
    "\n",
    "# ppf.plot_response_heatmaps_for_conditions(df, timestamps, data_type, event_type,\n",
    "#                                           row_condition, col_condition, cols_to_sort_by=cols_to_sort_by, suptitle='',\n",
    "#                                           microscope=None, vmax=None, xlim_seconds=[-2, 2], match_cells=False, cbar=True,\n",
    "#                                           save_dir=save_dir, folder=folder, suffix='_cbar', ax=None)"
   ]
  },
  {
   "cell_type": "markdown",
   "id": "7dea6273",
   "metadata": {},
   "source": [
    "### within session changes"
   ]
  },
  {
   "cell_type": "code",
   "execution_count": null,
   "id": "d02bb305",
   "metadata": {},
   "outputs": [],
   "source": [
    "# params for stim response df creation\n",
    "event_type = 'changes'\n",
    "\n",
    "# params for mean response df creation\n",
    "conditions = ['cell_specimen_id', 'is_change', 'epoch']\n",
    "\n",
    "\n",
    "suffix = '_'+utils.get_conditions_string(data_type, conditions)+'_'+inclusion_criteria\n",
    "\n",
    "epoch_mdf = loading.get_multi_session_df_for_conditions(data_type, event_type, conditions, inclusion_criteria, \n",
    "                                                        interpolate=interpolate, output_sampling_rate=output_sampling_rate, \n",
    "                                                         epoch_duration_mins=None)\n",
    "\n",
    "# epoch_mdf = epoch_mdf[epoch_mdf.is_change==False]"
   ]
  },
  {
   "cell_type": "code",
   "execution_count": null,
   "id": "fde90ba9",
   "metadata": {},
   "outputs": [],
   "source": [
    "original_epoch_mdf = epoch_mdf.copy()\n",
    "# remove truncated last epoch\n",
    "epoch_mdf = epoch_mdf[epoch_mdf.epoch!=6]\n",
    "# add cluster IDs\n",
    "epoch_mdf = epoch_mdf.merge(cluster_meta.reset_index()[['cell_specimen_id', 'cluster_id']], on='cell_specimen_id')"
   ]
  },
  {
   "cell_type": "code",
   "execution_count": null,
   "id": "29e97574",
   "metadata": {},
   "outputs": [],
   "source": [
    "# plot for all cells within each cre line\n",
    "ppf.plot_mean_response_by_epoch(epoch_mdf, metric='mean_response', horizontal=True, ymin=0, ylabel='mean response', estimator=np.mean,\n",
    "                                save_dir=None, folder='epochs', max_epoch=6, suptitle=None, suffix='', ax=None)"
   ]
  },
  {
   "cell_type": "code",
   "execution_count": null,
   "id": "ae4be7eb",
   "metadata": {},
   "outputs": [],
   "source": [
    "\n",
    "def plot_mean_response_by_epoch_overlay(df, metric='mean_response',ymin=0, ylabel='mean response', estimator=np.mean, max_epoch=6,\n",
    "                                        title='', legend=True, save_dir=None, folder=folder, suffix='', ax=None):\n",
    "    \"\"\"\n",
    "    Plots the mean metric value across epochs within a session, colored by experience level\n",
    "    :param df: dataframe of cell activity with one row per cell_specimen_id / ophys_experiment_id\n",
    "                must include columns 'cell_type', 'experience_level', 'epoch', and a column for the metric provided (ex: 'mean_response')\n",
    "    :param metric: metric value to average over epochs; must be a column of df\n",
    "    :param save_dir: top level directory to save figure to\n",
    "    :param folder: folder within save_dir to save figure to; will create folder if it doesnt exist\n",
    "    :param suffix: string to append at end of saved filename\n",
    "    :return:\n",
    "    \"\"\"\n",
    "\n",
    "    experience_levels = np.sort(df.experience_level.unique())\n",
    "\n",
    "    df = df[df.epoch <= max_epoch]\n",
    "    epochs = np.sort(df.epoch.unique())\n",
    "\n",
    "    palette = utils.get_experience_level_colors()\n",
    "    if ax is None:\n",
    "        figsize = (6, 3.5)\n",
    "        fig, ax = plt.subplots(figsize=figsize)\n",
    "\n",
    "    ax = sns.pointplot(data=df, x='epoch', y=metric, hue='experience_level', hue_order=experience_levels,\n",
    "                                  order=epochs, palette=palette, ax=ax, estimator=estimator)\n",
    "    if ymin is not None:\n",
    "        ax.set_ylim(ymin=ymin)\n",
    "    if ymax is not None: \n",
    "        ax.set_ylim(ymax=ymax)\n",
    "    ax.set_title(title)\n",
    "    ax.set_ylabel(ylabel)\n",
    "    ax.set_xlim((epochs[0] - 1, epochs[-1] + 1))\n",
    "    ax.set_xticks(epochs)\n",
    "    ax.set_xticklabels(epochs+1)\n",
    "    ax.set_xlabel('epoch within session')\n",
    "    if not legend: \n",
    "        ax.get_legend().remove()\n",
    "\n",
    "    \n",
    "    if save_dir:\n",
    "        fig_title = metric + suffix\n",
    "        utils.save_figure(fig, figsize, save_dir, folder, fig_title)\n",
    "    return ax"
   ]
  },
  {
   "cell_type": "code",
   "execution_count": null,
   "id": "0bff130a",
   "metadata": {},
   "outputs": [],
   "source": [
    "cre_lines = np.sort(epoch_mdf.cre_line.unique())\n",
    "i = 0\n",
    "cre_line = cre_lines[i]\n",
    "\n",
    "cluster_ids = np.sort(epoch_mdf.cluster_id.unique())\n",
    "\n",
    "figsize=(25,3)\n",
    "fig, ax = plt.subplots(1, len(cluster_ids), figsize=figsize, sharey=False)\n",
    "for i, cluster_id in enumerate(cluster_ids): \n",
    "    df = epoch_mdf[(epoch_mdf.cre_line==cre_line) & (epoch_mdf.cluster_id==cluster_id)].copy()\n",
    "\n",
    "    ax[i] = plot_mean_response_by_epoch_overlay(df, metric='mean_response', ymin=0, ymax=None, ylabel='mean response', estimator=np.mean, max_epoch=6,\n",
    "                                            title='cluster '+str(cluster_id), legend=False, save_dir=None, folder=folder, suffix='', ax=ax[i])\n",
    "    ax[i].set_ylabel('')\n",
    "ax[0].set_ylabel('mean response')\n",
    "\n",
    "plt.subplots_adjust(wspace=0.4)\n",
    "plt.suptitle(cre_line, x=0.5, y=1.1)"
   ]
  },
  {
   "cell_type": "code",
   "execution_count": null,
   "id": "aa27f250",
   "metadata": {},
   "outputs": [],
   "source": []
  },
  {
   "cell_type": "code",
   "execution_count": null,
   "id": "96907a5b",
   "metadata": {},
   "outputs": [],
   "source": []
  },
  {
   "cell_type": "markdown",
   "id": "e81c47f4",
   "metadata": {},
   "source": [
    "### cluster metrics"
   ]
  },
  {
   "cell_type": "code",
   "execution_count": null,
   "id": "0dee8eb8",
   "metadata": {},
   "outputs": [],
   "source": [
    "# coding_score_metrics = processing.get_cell_metrics(cluster_meta, results_pivoted)"
   ]
  },
  {
   "cell_type": "code",
   "execution_count": null,
   "id": "c7fc188d",
   "metadata": {},
   "outputs": [],
   "source": [
    "def get_cluster_metrics_all_cre(cluster_meta, feature_matrix, results_pivoted):\n",
    "    \"\"\"\n",
    "    computes metrics for each cluster, including experience modulation, feature selectivity, etc\n",
    "    \"\"\"\n",
    "    # cell_metrics = processing.get_cell_metrics(cluster_meta, results_pivoted)\n",
    "    cluster_metrics = pd.DataFrame()\n",
    "    # get cell specimen ids \n",
    "    cell_specimen_ids = cluster_meta.index.values\n",
    "    # get unique cluster labels\n",
    "    cluster_labels = np.sort(cluster_meta.cluster_id.unique())\n",
    "    for i, cluster_id in enumerate(cluster_labels):\n",
    "        # get cell specimen ids in this cluster \n",
    "        this_cluster_csids = cluster_meta[cluster_meta['cluster_id'] == cluster_id].index.values\n",
    "        # get dropout scores for cells in this cluster in this cre line\n",
    "        mean_dropout_df = np.abs(feature_matrix.loc[this_cluster_csids].mean().unstack())\n",
    "        stats = processing.get_coding_metrics(index_dropouts=mean_dropout_df.T, index_value=cluster_id,\n",
    "                                    index_name='cluster_id')\n",
    "        fraction_cells = len(this_cluster_csids) / float(len(cell_specimen_ids))\n",
    "        stats['fraction_cells'] = fraction_cells\n",
    "        stats['F_max'] = mean_dropout_df['Familiar'].max()\n",
    "        stats['N1_max'] = mean_dropout_df['Novel 1'].max()\n",
    "        stats['N2_max'] = mean_dropout_df['Novel >1'].max()\n",
    "        stats['abs_max'] = mean_dropout_df.max().max()\n",
    "        cluster_metrics = pd.concat([cluster_metrics, stats])\n",
    "    cluster_metrics = cluster_metrics.reset_index()\n",
    "    print(cluster_metrics.keys())\n",
    "    n_cells = cluster_meta.groupby(['cluster_id']).count()[['labels']].rename(columns={'labels': 'n_cells_cluster'})\n",
    "    cluster_metrics = cluster_metrics.merge(n_cells, on=['cluster_id'])\n",
    "\n",
    "    return cluster_metrics"
   ]
  },
  {
   "cell_type": "code",
   "execution_count": null,
   "id": "3d7ef63b",
   "metadata": {},
   "outputs": [],
   "source": [
    "# cluster_metrics = get_cluster_metrics_all_cre(cluster_meta, feature_matrix, results_pivoted)\n",
    "# cluster_metrics"
   ]
  },
  {
   "cell_type": "code",
   "execution_count": null,
   "id": "8249113e",
   "metadata": {},
   "outputs": [],
   "source": [
    "# for each cre\n",
    "cluster_metrics = processing.get_cluster_metrics(cluster_meta, feature_matrix, results_pivoted)\n",
    "cluster_metrics.head()"
   ]
  },
  {
   "cell_type": "markdown",
   "id": "4a9c079f",
   "metadata": {},
   "source": [
    "#### fraction clusters & cells per feature"
   ]
  },
  {
   "cell_type": "code",
   "execution_count": null,
   "id": "570227aa",
   "metadata": {},
   "outputs": [],
   "source": [
    "def get_cluster_counts(cluster_metrics, groupby='dominant_feature'):\n",
    "    cluster_counts = pd.DataFrame()\n",
    "\n",
    "    for cre_line in cluster_metrics.cre_line.unique():\n",
    "        cre_clusters = cluster_metrics[cluster_metrics.cre_line==cre_line]\n",
    "        total = len(cre_clusters)\n",
    "        count = cre_clusters.groupby(groupby).count()[['cluster_id']].rename(columns={'cluster_id':'n_clusters'})\n",
    "        count['fraction'] = count.n_clusters / total\n",
    "        count['cre_line'] = cre_line\n",
    "        count = count.reset_index()\n",
    "        cluster_counts = pd.concat([cluster_counts, count])\n",
    "\n",
    "    return cluster_counts"
   ]
  },
  {
   "cell_type": "code",
   "execution_count": null,
   "id": "be2c41eb",
   "metadata": {},
   "outputs": [],
   "source": [
    "\n",
    "groupby = 'dominant_feature'\n",
    "order = ['all-images', 'omissions', 'behavioral', 'task']\n",
    "\n",
    "cluster_counts = get_cluster_counts(cluster_metrics, groupby=groupby)\n",
    "\n",
    "figsize = (2, 5)\n",
    "fig, ax = plt.subplots(3, 1, figsize=figsize, sharey=True, sharex=True)\n",
    "for i, cre_line in enumerate(cre_lines):\n",
    "    cre_data = cluster_counts[cluster_counts.cre_line==cre_line]\n",
    "    # order = cre_data.sort_values(by='fraction_per_cluster')['cluster_id'][::-1]\n",
    "    ax[i] = sns.barplot(data=cre_data,  y=groupby, order=order, x='n_clusters', \n",
    "                color='gray', width=0.6, ax=ax[i])\n",
    "    ax[i].set_ylabel('')\n",
    "    ax[i].set_xlabel('')\n",
    "    ax[i].set_title(utils.convert_cre_line_to_cell_type(cre_line))\n",
    "    ax[i].set_yticklabels(order, fontsize=14, va='center')\n",
    "\n",
    "ax[2].set_xlabel('number of clusters')\n",
    "# ax[i].set_ylabel('preferred feature')\n",
    "ax[i].set_yticklabels(order, fontsize=14, va='center')\n",
    "sns.despine(fig=fig, top=True, right=True, left=False, bottom=False, offset=None, trim=False)\n",
    "\n",
    "plt.subplots_adjust(hspace=0.5)\n",
    "plt.suptitle('preferred feature category', x=0.5, y=1.05, fontsize=16)\n"
   ]
  },
  {
   "cell_type": "code",
   "execution_count": null,
   "id": "696e7916",
   "metadata": {},
   "outputs": [],
   "source": [
    "\n",
    "groupby = 'dominant_feature'\n",
    "order = ['all-images', 'omissions', 'behavioral', 'task']\n",
    "\n",
    "cluster_counts = get_cluster_counts(cluster_metrics, groupby=groupby)\n",
    "\n",
    "figsize = (2, 5)\n",
    "fig, ax = plt.subplots(3, 1, figsize=figsize, sharey=True, sharex=True)\n",
    "for i, cre_line in enumerate(cre_lines):\n",
    "    cre_data = cluster_counts[cluster_counts.cre_line==cre_line]\n",
    "    # order = cre_data.sort_values(by='fraction_per_cluster')['cluster_id'][::-1]\n",
    "    ax[i] = sns.barplot(data=cre_data,  y=groupby, order=order, x='fraction', \n",
    "                color='gray', width=0.6, ax=ax[i])\n",
    "    ax[i].set_ylabel('')\n",
    "    ax[i].set_xlabel('')\n",
    "    ax[i].set_title(utils.convert_cre_line_to_cell_type(cre_line))\n",
    "\n",
    "ax[2].set_xlabel('fraction clusters')\n",
    "# ax[i].set_ylabel('preferred feature')\n",
    "# ax[i].set_yticklabels(order, rotation=90)\n",
    "sns.despine(fig=fig, top=True, right=True, left=False, bottom=False, offset=None, trim=False)\n",
    "\n",
    "plt.subplots_adjust(hspace=0.5)\n",
    "plt.suptitle('preferred feature category', x=0.5, y=1.05, fontsize=16)\n"
   ]
  },
  {
   "cell_type": "code",
   "execution_count": null,
   "id": "29d89846",
   "metadata": {},
   "outputs": [],
   "source": [
    "def get_cell_counts(cluster_metrics, groupby='dominant_feature'):\n",
    "    cell_counts = pd.DataFrame()\n",
    "\n",
    "    for cre_line in cluster_metrics.cre_line.unique():\n",
    "        cre_clusters = cluster_metrics[cluster_metrics.cre_line==cre_line]\n",
    "        total = cre_clusters.n_cells_cluster.sum()\n",
    "        count = cre_clusters.groupby(groupby).sum()[['n_cells_cluster']]\n",
    "        count['fraction'] = count.n_cells_cluster / total\n",
    "        count['cre_line'] = cre_line\n",
    "        count = count.reset_index()\n",
    "        cell_counts = pd.concat([cell_counts, count])\n",
    "\n",
    "    return cell_counts"
   ]
  },
  {
   "cell_type": "code",
   "execution_count": null,
   "id": "c1c9c55b",
   "metadata": {},
   "outputs": [],
   "source": [
    "\n",
    "groupby = 'dominant_feature'\n",
    "order = ['all-images', 'omissions', 'behavioral', 'task']\n",
    "\n",
    "cell_counts = get_cell_counts(cluster_metrics, groupby=groupby)\n",
    "\n",
    "figsize = (2, 5)\n",
    "fig, ax = plt.subplots(3, 1, figsize=figsize, sharey=True, sharex=True)\n",
    "for i, cre_line in enumerate(cre_lines):\n",
    "    cre_data = cell_counts[cell_counts.cre_line==cre_line]\n",
    "    # order = cre_data.sort_values(by='fraction_per_cluster')['cluster_id'][::-1]\n",
    "    ax[i] = sns.barplot(data=cre_data,  y=groupby, order=order, x='fraction', \n",
    "                color='gray', width=0.6, ax=ax[i])\n",
    "    ax[i].set_ylabel('')\n",
    "    ax[i].set_xlabel('')\n",
    "    ax[i].set_title(utils.convert_cre_line_to_cell_type(cre_line))\n",
    "\n",
    "ax[2].set_xlabel('fraction cells')\n",
    "# ax[i].set_ylabel('preferred feature')\n",
    "# ax[i].set_xticklabels(order, rotation=90)\n",
    "sns.despine(fig=fig, top=True, right=True, left=False, bottom=False, offset=None, trim=False)\n",
    "\n",
    "plt.subplots_adjust(hspace=0.5)\n",
    "plt.suptitle('preferred feature category', x=0.5, y=1.05, fontsize=16)"
   ]
  },
  {
   "cell_type": "markdown",
   "id": "c26141c2",
   "metadata": {},
   "source": [
    "#### cluster and cell counts by pref experience level"
   ]
  },
  {
   "cell_type": "code",
   "execution_count": null,
   "id": "a59a2483",
   "metadata": {},
   "outputs": [],
   "source": [
    "\n",
    "groupby = 'dominant_experience_level'\n",
    "order = ['Familiar', 'Novel 1', 'Novel >1']\n",
    "\n",
    "cluster_counts = get_cluster_counts(cluster_metrics, groupby)\n",
    "\n",
    "figsize = (1.75, 5)\n",
    "fig, ax = plt.subplots(3, 1, figsize=figsize, sharey=True, sharex=True)\n",
    "for i, cre_line in enumerate(cre_lines):\n",
    "    cre_data = cluster_counts[cluster_counts.cre_line==cre_line]\n",
    "    # order = cre_data.sort_values(by='fraction_per_cluster')['cluster_id'][::-1]\n",
    "    ax[i] = sns.barplot(data=cre_data,  x=groupby, order=order, y='n_clusters', \n",
    "                color='gray', palette=experience_level_colors, width=0.5, ax=ax[i])\n",
    "    ax[i].set_ylabel('')\n",
    "    ax[i].set_xlabel('')\n",
    "    ax[i].set_title(utils.convert_cre_line_to_cell_type(cre_line))\n",
    "\n",
    "ax[1].set_ylabel('number of clusters')\n",
    "# ax[i].set_xlabel('preferred\\nexperience level')\n",
    "ax[i].set_xticklabels(order, rotation=90, fontsize=14)\n",
    "sns.despine(fig=fig, top=True, right=True, left=False, bottom=False, offset=None, trim=False)\n",
    "\n",
    "plt.subplots_adjust(hspace=0.5)\n",
    "plt.suptitle('preferred\\nexperience level', x=0.5, y=1.05, fontsize=16)"
   ]
  },
  {
   "cell_type": "code",
   "execution_count": null,
   "id": "c7980245",
   "metadata": {},
   "outputs": [],
   "source": [
    "\n",
    "# groupby = 'dominant_experience_level'\n",
    "# order = ['Familiar', 'Novel 1', 'Novel >1']\n",
    "\n",
    "# cluster_counts = get_cluster_counts(cluster_metrics, groupby)\n",
    "\n",
    "# figsize = (2, 5)\n",
    "# fig, ax = plt.subplots(3, 1, figsize=figsize, sharey=True, sharex=True)\n",
    "# for i, cre_line in enumerate(cre_lines):\n",
    "#     cre_data = cluster_counts[cluster_counts.cre_line==cre_line]\n",
    "#     # order = cre_data.sort_values(by='fraction_per_cluster')['cluster_id'][::-1]\n",
    "#     ax[i] = sns.barplot(data=cre_data,  x=groupby, order=order, y='fraction', \n",
    "#                 color='gray', width=0.5, ax=ax[i])\n",
    "#     ax[i].set_ylabel('')\n",
    "#     ax[i].set_xlabel('')\n",
    "#     ax[i].set_title(utils.convert_cre_line_to_cell_type(cre_line))\n",
    "\n",
    "# ax[1].set_ylabel('fraction clusters')\n",
    "# ax[i].set_xlabel('preferred\\nexperience level')\n",
    "# ax[i].set_xticklabels(order, rotation=90)\n",
    "# sns.despine(fig=fig, top=True, right=True, left=False, bottom=False, offset=None, trim=False)\n",
    "\n",
    "# plt.subplots_adjust(hspace=0.5)"
   ]
  },
  {
   "cell_type": "code",
   "execution_count": null,
   "id": "cb708778",
   "metadata": {},
   "outputs": [],
   "source": [
    "\n",
    "groupby = 'dominant_experience_level'\n",
    "order = ['Familiar', 'Novel 1', 'Novel >1']\n",
    "\n",
    "cell_counts = get_cell_counts(cluster_metrics, groupby=groupby)\n",
    "\n",
    "figsize = (1.75, 5)\n",
    "fig, ax = plt.subplots(3, 1, figsize=figsize, sharey=True, sharex=True)\n",
    "for i, cre_line in enumerate(cre_lines):\n",
    "    cre_data = cell_counts[cell_counts.cre_line==cre_line]\n",
    "    # order = cre_data.sort_values(by='fraction_per_cluster')['cluster_id'][::-1]\n",
    "    ax[i] = sns.barplot(data=cre_data,  x=groupby, order=order, y='fraction', \n",
    "                color='gray', palette=experience_level_colors, width=0.5, ax=ax[i])\n",
    "    ax[i].set_ylabel('')\n",
    "    ax[i].set_xlabel('')\n",
    "    ax[i].set_title(utils.convert_cre_line_to_cell_type(cre_line))\n",
    "\n",
    "ax[1].set_ylabel('fraction of cells')\n",
    "# ax[i].set_xlabel('preferred\\nexperience level')\n",
    "ax[i].set_xticklabels(order, rotation=90, fontsize=14)\n",
    "sns.despine(fig=fig, top=True, right=True, left=False, bottom=False, offset=None, trim=False)\n",
    "\n",
    "plt.subplots_adjust(hspace=0.5)\n",
    "plt.suptitle('preferred experience level', x=0.5, y=1.05, fontsize=16)"
   ]
  },
  {
   "cell_type": "code",
   "execution_count": null,
   "id": "fb271e2b",
   "metadata": {},
   "outputs": [],
   "source": []
  },
  {
   "cell_type": "markdown",
   "id": "bd9dfba5",
   "metadata": {},
   "source": [
    "### sort by pref coding score then exp level"
   ]
  },
  {
   "cell_type": "code",
   "execution_count": null,
   "id": "a80d7fe9",
   "metadata": {},
   "outputs": [],
   "source": [
    "def sort_cluster_meta_by_feature_exp(cluster_meta, cluster_metrics):\n",
    "    \"\"\"\n",
    "    sorts and replaces cluster_ids in cluster_meta with new cluster IDs that are orderd\n",
    "    by the dominant feature then the dominant experience level of each cluster. \n",
    "    dominant feature is the coding score category (ex: images, omissions) with the strongest average coding score\n",
    "    dominant experience level is the exp level with the strongest coding score for the preferred feature\n",
    "    \n",
    "    cluster_meta: table of metadata for each cell_specimen_id (the index) including a column 'cluster_id'\n",
    "    cluster_metrics: table of metrics computed on the average coding scores for each cluster, \n",
    "                    produced by the function get_cluster_metrics_all_cre\n",
    "    \"\"\"\n",
    "    metrics = cluster_metrics.copy()\n",
    "\n",
    "    # get cluster IDs for all image clusters sorted by exp level\n",
    "    sorted_cluster_ids = metrics[metrics.dominant_feature=='all-images'].sort_values(by='dominant_experience_level').cluster_id.unique()\n",
    "    print(sorted_cluster_ids)\n",
    "    n_clusters = len(sorted_cluster_ids)\n",
    "    cluster_id_remap_df = pd.DataFrame(sorted_cluster_ids, np.arange(0, n_clusters))\n",
    "\n",
    "    # get cluster IDs for omissions clusters sorted by exp level\n",
    "    sorted_cluster_ids = metrics[metrics.dominant_feature=='omissions'].sort_values(by='dominant_experience_level').cluster_id.unique()\n",
    "    new_cluster_ids = np.arange(n_clusters, n_clusters+len(sorted_cluster_ids)) \n",
    "    n_clusters = n_clusters+len(sorted_cluster_ids)\n",
    "    # add to dataframe\n",
    "    for i,  new_cluster_id in enumerate(new_cluster_ids):\n",
    "        cluster_id_remap_df.at[new_cluster_id, 0] = sorted_cluster_ids[i]\n",
    "\n",
    "    # get cluster IDs for behavior clusters sorted by exp level\n",
    "    sorted_cluster_ids = metrics[metrics.dominant_feature=='behavioral'].sort_values(by='dominant_experience_level').cluster_id.unique()\n",
    "    new_cluster_ids = np.arange(n_clusters, n_clusters+len(sorted_cluster_ids)) \n",
    "    n_clusters = n_clusters+len(sorted_cluster_ids)\n",
    "    # add to dataframe\n",
    "    for i,  new_cluster_id in enumerate(new_cluster_ids):\n",
    "        cluster_id_remap_df.at[new_cluster_id, 0] = sorted_cluster_ids[i]\n",
    "\n",
    "    # get cluster IDs for task clusters sorted by exp level\n",
    "    sorted_cluster_ids = metrics[metrics.dominant_feature=='task'].sort_values(by='dominant_experience_level').cluster_id.unique()\n",
    "    new_cluster_ids = np.arange(n_clusters, n_clusters+len(sorted_cluster_ids)) \n",
    "    n_clusters = n_clusters+len(sorted_cluster_ids)\n",
    "    # add to dataframe\n",
    "    for i,  new_cluster_id in enumerate(new_cluster_ids):\n",
    "        cluster_id_remap_df.at[new_cluster_id, 0] = sorted_cluster_ids[i]\n",
    "\n",
    "    # reformat column names\n",
    "    cluster_id_remap_df.index.name = 'new_cluster_id'\n",
    "    cluster_id_remap_df = cluster_id_remap_df.rename(columns={0: 'cluster_id'})\n",
    "    cluster_id_remap_df = cluster_id_remap_df.reset_index()\n",
    "    # set cluster ids to ints\n",
    "    cluster_id_remap_df['cluster_id'] = [int(cluster_id) for cluster_id in cluster_id_remap_df.cluster_id.values]\n",
    "\n",
    "    # merge remapped IDs into cluster meta\n",
    "    cluster_meta_tmp = cluster_meta.reset_index().merge(cluster_id_remap_df, on='cluster_id').copy()\n",
    "    cluster_meta_tmp = cluster_meta_tmp.set_index('cell_specimen_id')\n",
    "    cluster_meta = cluster_meta_tmp.copy()\n",
    "\n",
    "    return cluster_meta"
   ]
  },
  {
   "cell_type": "code",
   "execution_count": null,
   "id": "ae954e28",
   "metadata": {},
   "outputs": [],
   "source": [
    "# cluster_meta = sort_cluster_meta_by_feature_exp(cluster_meta, cluster_metrics)"
   ]
  },
  {
   "cell_type": "code",
   "execution_count": null,
   "id": "d33d9a87",
   "metadata": {},
   "outputs": [],
   "source": [
    "# cluster_meta_tmp = cluster_meta.reset_index().merge(cluster_id_remap_df, on='cluster_id').copy()\n",
    "# cluster_meta_tmp = cluster_meta_tmp.set_index('cell_specimen_id')\n",
    "\n",
    "# plot_all_cre_clustering_heatmap(cluster_meta, feature_matrix, sort_by='new_cluster_id', orient='horiz', session_colors=True,\n",
    "#                                     save_dir=save_dir, folder=folder, ax=None)"
   ]
  },
  {
   "cell_type": "markdown",
   "id": "e778e26c",
   "metadata": {},
   "source": [
    "### split by cre line and plot heatmaps"
   ]
  },
  {
   "cell_type": "code",
   "execution_count": null,
   "id": "39104185",
   "metadata": {},
   "outputs": [],
   "source": [
    "# plot feature matrix sorted by cluster ID\n",
    "plotting.plot_feature_matrix_sorted(feature_matrix, cluster_meta, sort_col='cluster_id', resort_by_size=True,\n",
    "                                    save_dir=None, folder=folder)"
   ]
  },
  {
   "cell_type": "code",
   "execution_count": null,
   "id": "e10c4abb",
   "metadata": {},
   "outputs": [],
   "source": [
    "# plot feature matrix sorted by cluster ID\n",
    "plotting.plot_feature_matrix_sorted(feature_matrix, cluster_meta, sort_col='cluster_id', resort_by_size=False,\n",
    "                                save_dir=save_dir, folder=folder)"
   ]
  },
  {
   "cell_type": "code",
   "execution_count": null,
   "id": "bc289ea1",
   "metadata": {},
   "outputs": [],
   "source": []
  },
  {
   "cell_type": "markdown",
   "id": "978e45f3",
   "metadata": {},
   "source": [
    "### average dropouts per cluster"
   ]
  },
  {
   "cell_type": "code",
   "execution_count": null,
   "id": "342079c9",
   "metadata": {},
   "outputs": [],
   "source": [
    "# plot clusters in order of sort_col\n",
    "clusters = np.sort(cluster_meta['cluster_id'].unique())\n",
    "n_clusters_to_plot = len(clusters)\n",
    "\n",
    "\n",
    "feature_matrix_remapped, remapped_cmap, vmax = remap_coding_scores_to_session_colors(feature_matrix)\n",
    "\n",
    "\n",
    "figsize = (35, 1.7)\n",
    "fig, ax = plt.subplots(1, n_clusters_to_plot, figsize=figsize, sharex=True, sharey=True)\n",
    "ax = ax.ravel()\n",
    "\n",
    "  \n",
    "# loop through clusters in sorted order\n",
    "for i, cluster_id in enumerate(clusters):\n",
    "    this_cluster_csids = cluster_meta[cluster_meta.cluster_id==cluster_id].index.values\n",
    "    mean_dropout_df = feature_matrix_remapped.loc[this_cluster_csids].mean().unstack()\n",
    "    ax[i] = sns.heatmap(mean_dropout_df, cmap=remapped_cmap, vmin=0, vmax=vmax, ax=ax[i], cbar=False, cbar_kws={'label': 'coding score'})\n",
    "    # fraction is number of cells in this cluster vs all cells in this cre line\n",
    "    fraction_cluster = len(this_cluster_csids) / float(len(cluster_meta))\n",
    "    fraction = np.round(fraction_cluster * 100, 1)\n",
    "    # set title and labels\n",
    "    ax[i].set_title('cluster ' + str(cluster_id) + '\\n' + str(fraction) + '%, n=' + str(len(this_cluster_csids)))\n",
    "    ax[i].set_xlabel('')\n",
    "    \n",
    "plt.subplots_adjust(hspace=0.6, wspace=0.25)\n",
    "if save_dir:\n",
    "    utils.save_figure(fig, figsize, save_dir, folder,\n",
    "                      'mean_cluster_heatmaps_remapped_'+str(n_clusters))"
   ]
  },
  {
   "cell_type": "markdown",
   "id": "85c25cbf",
   "metadata": {},
   "source": [
    "#### averages per cre line"
   ]
  },
  {
   "cell_type": "code",
   "execution_count": null,
   "id": "3619753b",
   "metadata": {},
   "outputs": [],
   "source": [
    "# all cre lines on one plot\n",
    "\n",
    "feature_matrix_remapped, remapped_cmap, vmax = remap_coding_scores_to_session_colors(feature_matrix)\n",
    "\n",
    "clusters = np.sort(cluster_meta['cluster_id'].unique())\n",
    "n_clusters = len(clusters)\n",
    "\n",
    "figsize = (2.5*n_clusters, 2.5*3)\n",
    "fig, ax = plt.subplots(3, n_clusters, figsize=figsize, sharex=True, sharey=True)\n",
    "ax = ax.ravel()\n",
    "\n",
    "i=0\n",
    "for c, cre_line in enumerate(np.sort(cluster_meta.cre_line.unique())):\n",
    "    cre_cluster_meta = cluster_meta[cluster_meta.cre_line==cre_line].copy()\n",
    "\n",
    "    # loop through clusters in sorted order\n",
    "    for x, cluster_id in enumerate(clusters):\n",
    "        try:\n",
    "            this_cluster_csids = cre_cluster_meta[cre_cluster_meta.cluster_id==cluster_id].index.values\n",
    "            mean_dropout_df = feature_matrix_remapped.loc[this_cluster_csids].mean().unstack()\n",
    "            ax[i] = sns.heatmap(mean_dropout_df, cmap=remapped_cmap, vmin=0, vmax=vmax, ax=ax[i], cbar=False, cbar_kws={'label': 'coding score'})\n",
    "            # fraction is number of cells in this cluster vs all cells in this cre line\n",
    "            fraction_cluster = len(this_cluster_csids) / float(len(cre_cluster_meta))\n",
    "            fraction = np.round(fraction_cluster * 100, 1)\n",
    "            # set title and labels\n",
    "            ax[i].set_title('cluster ' + str(cluster_id) + '\\n' + str(fraction) + '%, n=' + str(len(this_cluster_csids)))\n",
    "            ax[i].set_xlabel('')\n",
    "        except:\n",
    "            pass\n",
    "        i+=1\n",
    "        \n",
    "    plt.subplots_adjust(hspace=0.6, wspace=0.25)\n",
    "    # plt.suptitle(cre_line, x=0.46, y=1.)\n",
    "    if save_dir:\n",
    "        utils.save_figure(fig, figsize, save_dir, folder,\n",
    "                      'mean_cluster_heatmaps_remapped')"
   ]
  },
  {
   "cell_type": "code",
   "execution_count": null,
   "id": "30ba4872",
   "metadata": {},
   "outputs": [],
   "source": [
    "# plot each cre line separately\n",
    "\n",
    "feature_matrix_remapped, remapped_cmap, vmax = remap_coding_scores_to_session_colors(feature_matrix)\n",
    "\n",
    "\n",
    "for cre_line in cluster_meta.cre_line.unique():\n",
    "    cre_cluster_meta = cluster_meta[cluster_meta.cre_line==cre_line].copy()\n",
    "    clusters = np.sort(cre_cluster_meta['cluster_id'].unique())\n",
    "    n_clusters_to_plot = len(clusters)\n",
    "\n",
    "    figsize = (2.5*n_clusters_to_plot, 1.7)\n",
    "    fig, ax = plt.subplots(1, n_clusters_to_plot, figsize=figsize, sharex=True, sharey=True)\n",
    "    ax = ax.ravel()\n",
    "\n",
    "    \n",
    "    # loop through clusters in sorted order\n",
    "    for i, cluster_id in enumerate(clusters):\n",
    "        this_cluster_csids = cre_cluster_meta[cre_cluster_meta.cluster_id==cluster_id].index.values\n",
    "        mean_dropout_df = feature_matrix_remapped.loc[this_cluster_csids].mean().unstack()\n",
    "        ax[i] = sns.heatmap(mean_dropout_df, cmap=remapped_cmap, vmin=0, vmax=vmax, ax=ax[i], cbar=False, cbar_kws={'label': 'coding score'})\n",
    "        # fraction is number of cells in this cluster vs all cells in this cre line\n",
    "        fraction_cluster = len(this_cluster_csids) / float(len(cre_cluster_meta))\n",
    "        fraction = np.round(fraction_cluster * 100, 1)\n",
    "        # set title and labels\n",
    "        ax[i].set_title('cluster ' + str(cluster_id) + '\\n' + str(fraction) + '%, n=' + str(len(this_cluster_csids)))\n",
    "        ax[i].set_xlabel('')\n",
    "        \n",
    "    plt.subplots_adjust(hspace=0.6, wspace=0.25)\n",
    "    plt.suptitle(cre_line, x=0.46, y=1.5)\n",
    "    if save_dir:\n",
    "        utils.save_figure(fig, figsize, save_dir, folder,\n",
    "                      'mean_cluster_heatmaps_remapped_'+cre_line.split('-')[0])"
   ]
  },
  {
   "cell_type": "markdown",
   "id": "dfd2a41e",
   "metadata": {},
   "source": [
    "#### sort by cluster size within cre, exclude clusters with <10% cells"
   ]
  },
  {
   "cell_type": "code",
   "execution_count": null,
   "id": "acb1c771",
   "metadata": {},
   "outputs": [],
   "source": [
    "# plot clusters in order of sort_col\n",
    "\n",
    "feature_matrix_remapped, remapped_cmap, vmax = remap_coding_scores_to_session_colors(feature_matrix)\n",
    "\n",
    "\n",
    "for cre_line in cluster_meta.cre_line.unique():\n",
    "    cre_cluster_meta = cluster_meta[cluster_meta.cre_line==cre_line].copy()\n",
    "\n",
    "    clusters = cre_cluster_meta['cluster_id'].value_counts().index.values    \n",
    "    n_clusters_to_plot = len(clusters)\n",
    "\n",
    "    figsize = (2.5*n_clusters_to_plot, 1.7)\n",
    "    fig, ax = plt.subplots(1, n_clusters_to_plot, figsize=figsize, sharex=True, sharey=True)\n",
    "    ax = ax.ravel()\n",
    "\n",
    "    \n",
    "    # loop through clusters in sorted order\n",
    "    for i, cluster_id in enumerate(clusters):\n",
    "        this_cluster_csids = cre_cluster_meta[cre_cluster_meta.cluster_id==cluster_id].index.values\n",
    "        mean_dropout_df = feature_matrix_remapped.loc[this_cluster_csids].mean().unstack()\n",
    "        ax[i] = sns.heatmap(mean_dropout_df, cmap=remapped_cmap, vmin=0, vmax=vmax, ax=ax[i], cbar=False, cbar_kws={'label': 'coding score'})\n",
    "        # fraction is number of cells in this cluster vs all cells in this cre line\n",
    "        fraction_cluster = len(this_cluster_csids) / float(len(cre_cluster_meta))\n",
    "        fraction = np.round(fraction_cluster * 100, 1)\n",
    "        # set title and labels\n",
    "        ax[i].set_title('cluster ' + str(cluster_id) + '\\n' + str(fraction) + '%, n=' + str(len(this_cluster_csids)))\n",
    "        ax[i].set_xlabel('')\n",
    "        \n",
    "    plt.subplots_adjust(hspace=0.6, wspace=0.25)\n",
    "    plt.suptitle(cre_line, x=0.46, y=1.5)\n",
    "    if save_dir:\n",
    "        utils.save_figure(fig, figsize, save_dir, folder,\n",
    "                      'mean_cluster_heatmaps_remapped_sorted_'+cre_line.split('-')[0])"
   ]
  },
  {
   "cell_type": "code",
   "execution_count": null,
   "id": "67a931b6",
   "metadata": {},
   "outputs": [],
   "source": [
    "# plotting.plot_dropout_heatmaps_for_clusters(cluster_meta, feature_matrix, sort_col='cluster_id', \n",
    "#                                             save_dir=save_dir, folder=folder)"
   ]
  },
  {
   "cell_type": "code",
   "execution_count": null,
   "id": "5b65a3eb",
   "metadata": {},
   "outputs": [],
   "source": [
    "# # plot each separately\n",
    "# clusters = np.sort(cluster_meta['cluster_id'].unique())\n",
    "# n_clusters_to_plot = len(clusters)\n",
    "\n",
    "# abbreviate_features = True\n",
    "# abbreviate_experience = True\n",
    "\n",
    "# # loop through clusters and plot each one with abbreviated labels\n",
    "# for i, cluster_id in enumerate(clusters):\n",
    "#     figsize=(2,1.7)\n",
    "#     fig, ax = plt.subplots(figsize=figsize)\n",
    "#     this_cluster_csids = cluster_meta[cluster_meta.cluster_id==cluster_id].index.values\n",
    "#     mean_dropout_df = feature_matrix.loc[this_cluster_csids].mean().unstack()\n",
    "#     ax = sns.heatmap(mean_dropout_df, cmap='Blues', vmin=0, vmax=1, ax=ax, cbar=False, cbar_kws={'label': 'coding score'})\n",
    "#     # fraction is number of cells in this cluster vs all cells in this cre line\n",
    "#     fraction_cluster = len(this_cluster_csids) / float(len(cluster_meta))\n",
    "#     fraction = np.round(fraction_cluster * 100, 1)\n",
    "#     # set title and labels\n",
    "#     ax.set_title('cluster ' + str(cluster_id))\n",
    "# #     ax.set_title('cluster ' + str(cluster_id) + '\\n' + str(fraction) + '%, n=' + str(len(this_cluster_csids)))\n",
    "#     ax.set_xlabel('')\n",
    "#     if abbreviate_features:\n",
    "#         # set yticks to abbreviated feature labels\n",
    "#         feature_abbreviations = plotting.get_abbreviated_features(mean_dropout_df.index.values)\n",
    "#         ax.set_yticklabels(feature_abbreviations, rotation=0)\n",
    "#     else:\n",
    "#         ax.set_yticklabels(mean_dropout_df.index.values, rotation=0, fontsize=14)\n",
    "#     if abbreviate_experience:\n",
    "#         # set xticks to abbreviated experience level labels\n",
    "#         exp_level_abbreviations = plotting.get_abbreviated_experience_levels(mean_dropout_df.columns.values)\n",
    "#         ax.set_xticklabels(exp_level_abbreviations, rotation=90)\n",
    "#     else:\n",
    "#         ax.set_xticklabels(mean_dropout_df.columns.values, rotation=90, fontsize=14)\n",
    "    \n",
    "#     if test_save_dir:\n",
    "#         utils.save_figure(fig, figsize, save_dir, 'folder,\n",
    "#                           'mean_cluster_heatmap_cluster_'+str(i))"
   ]
  },
  {
   "cell_type": "markdown",
   "id": "e7bb81e1",
   "metadata": {},
   "source": [
    "### within cluster correlation"
   ]
  },
  {
   "cell_type": "code",
   "execution_count": null,
   "id": "c96f6c2f",
   "metadata": {},
   "outputs": [],
   "source": [
    "n_clusters_cre = {}\n",
    "for cre in cre_lines: \n",
    "    n_clusters_cre[cre] = len(cluster_meta.cluster_id.unique())\n",
    "plotting.plot_within_cluster_correlations_all_cre(cluster_meta, n_clusters_cre, sort_order=None, suffix='', save_dir=save_dir, folder=folder)"
   ]
  },
  {
   "cell_type": "code",
   "execution_count": null,
   "id": "e1000204",
   "metadata": {},
   "outputs": [],
   "source": [
    "figsize = (15,5)\n",
    "fig, ax = plt.subplots(figsize=figsize)\n",
    "ax = sns.boxplot(data=cluster_meta, x='cluster_id', y='within_cluster_correlation', \n",
    "            hue='cre_line', hue_order=cre_lines, palette=cre_line_colors, width=0.6, showfliers=False, ax=ax)\n",
    "ax.set_ylabel('within cluster correlation')\n",
    "ax.legend(bbox_to_anchor=(1,1), fontsize='small', title_fontsize='small')"
   ]
  },
  {
   "cell_type": "code",
   "execution_count": null,
   "id": "d7592abd",
   "metadata": {},
   "outputs": [],
   "source": []
  },
  {
   "cell_type": "markdown",
   "id": "8295d37c",
   "metadata": {},
   "source": [
    "### cre line proportions per cluster"
   ]
  },
  {
   "cell_type": "code",
   "execution_count": null,
   "id": "fdea6e5f",
   "metadata": {},
   "outputs": [],
   "source": [
    "def get_fraction_cells_per_cluster_per_group(cluster_meta, col_to_group='mouse_id'):\n",
    "    \"\"\"\n",
    "    counts the number of cells a given condition, and the number of cells in each cluster for that given ocndition,\n",
    "    then computes the proportion of cells in each cluster for the given condition\n",
    "    col_to_group: can be 'cre_line', 'mouse_id', etc\n",
    "    \"\"\"\n",
    "    # get number of cells in each group defined by col_to_group\n",
    "    n_cells_group = cluster_meta.groupby([col_to_group]).count()[['cluster_id']].reset_index().rename(columns={'cluster_id':'n_cells_group'})\n",
    "    # get number of cells in each cluster for each group\n",
    "    n_cells_per_cluster = cluster_meta.groupby([col_to_group, 'cluster_id']).count()[['ophys_experiment_id']].reset_index().rename(columns={'ophys_experiment_id':'n_cells_cluster'})\n",
    "    # add n cells per cluster per group to total number of cells per group and compute the fraction per cluster in each group\n",
    "    n_cells_per_cluster = n_cells_per_cluster.merge(n_cells_group, on=col_to_group)\n",
    "    n_cells_per_cluster['fraction_per_cluster'] = n_cells_per_cluster.n_cells_cluster/n_cells_per_cluster.n_cells_group\n",
    "    \n",
    "    return n_cells_per_cluster"
   ]
  },
  {
   "cell_type": "code",
   "execution_count": null,
   "id": "e993c35f",
   "metadata": {},
   "outputs": [],
   "source": [
    "col_to_group = 'cre_line'\n",
    "n_cells_per_cluster = get_fraction_cells_per_cluster_per_group(cluster_meta, col_to_group)\n",
    "\n",
    "figsize = (15,5)\n",
    "fig, ax = plt.subplots(figsize=figsize)\n",
    "ax = sns.barplot(data=n_cells_per_cluster, x='cluster_id', y='fraction_per_cluster', \n",
    "            hue=col_to_group, hue_order=cre_lines, palette=cre_line_colors, width=0.5, ax=ax)\n",
    "ax.set_ylabel('fraction of cells per '+col_to_group+'\\nin each cluster')\n",
    "ax.legend(bbox_to_anchor=(1,1), fontsize='small', title_fontsize='small')"
   ]
  },
  {
   "cell_type": "code",
   "execution_count": null,
   "id": "99e0c67d",
   "metadata": {},
   "outputs": [],
   "source": [
    "# sorted within cre\n",
    "col_to_group = 'cre_line'\n",
    "n_cells_per_cluster = get_fraction_cells_per_cluster_per_group(cluster_meta, col_to_group)\n",
    "\n",
    "figsize = (25,5)\n",
    "fig, ax = plt.subplots(1, 3, figsize=figsize, sharey=True)\n",
    "for i, cre in enumerate(cre_lines):\n",
    "    cre_data = n_cells_per_cluster[n_cells_per_cluster.cre_line==cre]\n",
    "    order = cre_data.sort_values(by='fraction_per_cluster')['cluster_id'][::-1]\n",
    "    ax[i] = sns.barplot(data=cre_data,  x='cluster_id', order=order, y='fraction_per_cluster', \n",
    "                hue='cre_line', hue_order=cre_lines, palette=cre_line_colors, width=0.5, ax=ax[i])\n",
    "    ax[i].set_ylabel('fraction in each cluster')\n",
    "    ax[i].get_legend().remove()\n",
    "    ax[i].set_ylim(0, 0.3)\n",
    "#     ax[i].legend(bbox_to_anchor=(1,1), fontsize='small', title_fontsize='small')\n",
    "    ax[i].set_title(cre)"
   ]
  },
  {
   "cell_type": "markdown",
   "id": "9455b7ce",
   "metadata": {},
   "source": [
    "### per mouse"
   ]
  },
  {
   "cell_type": "code",
   "execution_count": null,
   "id": "cdfa03cc",
   "metadata": {},
   "outputs": [],
   "source": [
    "col_to_group = 'mouse_id'\n",
    "n_cells_per_cluster = get_fraction_cells_per_cluster_per_group(cluster_meta, col_to_group)\n",
    "n_cells_per_cluster = n_cells_per_cluster.merge(experiments_table[['mouse_id', 'cre_line']], on='mouse_id')\n",
    "n_cells_per_cluster = n_cells_per_cluster.drop_duplicates(subset=['mouse_id', 'cluster_id'])\n",
    "n_cells_per_cluster"
   ]
  },
  {
   "cell_type": "code",
   "execution_count": null,
   "id": "cfac6927",
   "metadata": {},
   "outputs": [],
   "source": [
    "figsize = (15,5)\n",
    "fig, ax = plt.subplots(figsize=figsize)\n",
    "ax = sns.stripplot(data=n_cells_per_cluster, x='cluster_id', y='fraction_per_cluster', \n",
    "            hue='cre_line', hue_order=cre_lines, palette=cre_line_colors, dodge=True, ax=ax)\n",
    "ax = sns.barplot(data=n_cells_per_cluster, x='cluster_id', y='fraction_per_cluster', \n",
    "            hue='cre_line', hue_order=cre_lines, palette=cre_line_colors, ax=ax)\n",
    "ax.set_ylabel('fraction of cells per '+col_to_group+'\\nin each cluster')\n",
    "ax.legend(bbox_to_anchor=(1,1), fontsize='small', title_fontsize='small')"
   ]
  },
  {
   "cell_type": "code",
   "execution_count": null,
   "id": "9c11e2f7",
   "metadata": {},
   "outputs": [],
   "source": [
    "figsize = (20,4)\n",
    "fig, ax = plt.subplots(1, 3, figsize=figsize, sharey=True)\n",
    "for i,cre_line in enumerate(cre_lines): \n",
    "    data = n_cells_per_cluster[n_cells_per_cluster.cre_line==cre_line]\n",
    "    ax[i] = sns.stripplot(data=data, x='cluster_id', y='fraction_per_cluster', \n",
    "                          order=np.arange(0, len(n_cells_per_cluster.cluster_id.unique())),\n",
    "                color=cre_line_colors[i], ax=ax[i])\n",
    "    ax[i] = sns.barplot(data=data, x='cluster_id', y='fraction_per_cluster', \n",
    "                        order=np.arange(0, len(n_cells_per_cluster.cluster_id.unique())),\n",
    "                color='gray', ax=ax[i])\n",
    "    ax[i].set_ylabel('fraction of cells per '+col_to_group+'\\nin each cluster')\n",
    "    ax[i].set_title(cre_line)"
   ]
  },
  {
   "cell_type": "markdown",
   "id": "b169a995",
   "metadata": {},
   "source": [
    "### is 15 clusters reasonable?"
   ]
  },
  {
   "cell_type": "markdown",
   "id": "71190f09",
   "metadata": {},
   "source": [
    "### eigengap"
   ]
  },
  {
   "cell_type": "code",
   "execution_count": null,
   "id": "c981eb00",
   "metadata": {},
   "outputs": [],
   "source": [
    "# k_max=25\n",
    "# X = feature_matrix.values\n",
    "# sc = SpectralClustering(n_clusters)  # N of clusters does not impact affinity matrix\n",
    "# # but you can obtain affinity matrix only after fitting, thus some N of clusters must be provided.\n",
    "# sc.fit(X)\n",
    "# A = sc.affinity_matrix_\n",
    "# eigenvalues, eigenvectors, nb_clusters = processing.get_eigenDecomposition(A, max_n_clusters=k_max)"
   ]
  },
  {
   "cell_type": "code",
   "execution_count": null,
   "id": "94e0a54b",
   "metadata": {},
   "outputs": [],
   "source": [
    "# figsize = (10, 4)\n",
    "# fig, ax = plt.subplots(figsize=figsize)\n",
    "# # ax.plot(np.arange(1, len(eigenvalues) + 1), eigenvalues, '-o')\n",
    "# # ax.set_ylabel('Eigen values \\n(sorted)')\n",
    "# # ax.set_xlabel('Eigen number')\n",
    "# # ax.set_xlim([0, 20])\n",
    "# # ax.axvline(x=n_clusters, ymin=0, ymax=1, linestyle='--', color='gray')\n",
    "\n",
    "# ax.plot(np.arange(2, len(eigenvalues) + 1), np.diff(eigenvalues), '-o')\n",
    "# ax.set_ylabel('Eigengap value \\n(difference)')\n",
    "# ax.set_xlabel('Eigen number')\n",
    "# ax.set_xlim([0, 20])\n",
    "# # ax.set_ylim([0, 0.20])\n",
    "# ax.axvline(x=n_clusters, ymin=0, ymax=1, linestyle='--', color='gray')\n",
    "# plt.tight_layout()\n",
    "\n",
    "# if test_save_dir:\n",
    "#     utils.save_figure(fig, figsize, test_save_dir, 'figs', 'eigengap')"
   ]
  },
  {
   "cell_type": "markdown",
   "id": "103ea278",
   "metadata": {},
   "source": [
    "### gap statistic"
   ]
  },
  {
   "cell_type": "code",
   "execution_count": null,
   "id": "523d3526",
   "metadata": {},
   "outputs": [],
   "source": [
    "# X = feature_matrix.values\n",
    "# feature_matrix_shuffled = processing.shuffle_dropout_score(feature_matrix, shuffle_type='all')\n",
    "# reference = feature_matrix_shuffled.values\n",
    "# sc = SpectralClustering()\n",
    "# gap_statistic, reference_inertia, ondata_inertia = processing.compute_gap(sc, X, k_max=25, reference_shuffle=reference, \n",
    "#                                                                 metric='euclidean', n_boots=20)"
   ]
  },
  {
   "cell_type": "code",
   "execution_count": null,
   "id": "a034f790",
   "metadata": {},
   "outputs": [],
   "source": [
    "# figsize = (10, 4)\n",
    "# fig, ax = plt.subplots(figsize=figsize)\n",
    "\n",
    "# ax.plot(np.arange(1, x + 1), gap_statistic['reference_inertia'], 'o-')\n",
    "# ax.plot(np.arange(1, x + 1), gap_statistic['ondata_inertia'], 'o-')\n",
    "# ax.legend(['reference inertia', 'ondata intertia'])\n",
    "# ax.set_ylabel('Natural log of euclidean \\ndistance values')\n",
    "# ax.set_xlabel('Number of clusters')\n",
    "# ax.axvline(x=n_clusters, ymin=0, ymax=1, linestyle='--', color='gray')\n",
    "\n",
    "# ax.plot(np.arange(1, x + 1), gap_statistic['gap'], 'o-')\n",
    "# ax.set_ylabel('Gap statistic')\n",
    "# ax.set_xlabel('Number of clusters')\n",
    "# ax.axvline(x=n_clusters, ymin=0, ymax=1, linestyle='--', color='gray')"
   ]
  },
  {
   "cell_type": "code",
   "execution_count": null,
   "id": "ecc681e2",
   "metadata": {},
   "outputs": [],
   "source": []
  },
  {
   "cell_type": "markdown",
   "id": "363840f5",
   "metadata": {},
   "source": [
    "### compute metrics on dropout scores for each cell"
   ]
  },
  {
   "cell_type": "code",
   "execution_count": null,
   "id": "b16a59bb",
   "metadata": {
    "scrolled": true
   },
   "outputs": [],
   "source": [
    "coding_score_metrics = processing.get_cell_metrics(cluster_meta, results_pivoted)"
   ]
  },
  {
   "cell_type": "markdown",
   "id": "ebccf790",
   "metadata": {},
   "source": [
    "metrics: \n",
    "* exp_mod_direction = N - F / N + F\n",
    "* exp_mod_persistence = N+ - N / N+ + N"
   ]
  },
  {
   "cell_type": "code",
   "execution_count": null,
   "id": "2ec38d69",
   "metadata": {},
   "outputs": [],
   "source": [
    "print(len(coding_score_metrics.mouse_id.unique()), 'mice')\n",
    "print(len(coding_score_metrics.ophys_experiment_id.unique()), 'experiments')\n",
    "print(len(coding_score_metrics.index.unique()), 'cells')"
   ]
  },
  {
   "cell_type": "code",
   "execution_count": null,
   "id": "e8864e7c",
   "metadata": {},
   "outputs": [],
   "source": [
    "cluster_meta"
   ]
  },
  {
   "cell_type": "code",
   "execution_count": null,
   "id": "662546c7",
   "metadata": {},
   "outputs": [],
   "source": [
    "# plot clusters in order of sort_col\n",
    "clusters = np.sort(cluster_meta['cluster_id'].unique())\n",
    "n_clusters_to_plot = len(clusters)\n",
    "\n",
    "figsize = (35, 1.7)\n",
    "fig, ax = plt.subplots(1, n_clusters_to_plot, figsize=figsize, sharex=True, sharey=True)\n",
    "ax = ax.ravel()\n",
    "\n",
    "  \n",
    "# loop through clusters in sorted order\n",
    "for i, cluster_id in enumerate(clusters):\n",
    "    this_cluster_csids = cluster_meta[cluster_meta.cluster_id==cluster_id].index.values\n",
    "    mean_dropout_df = feature_matrix.loc[this_cluster_csids].mean().unstack()\n",
    "    ax[i] = sns.heatmap(mean_dropout_df, cmap='Blues', vmin=0, vmax=1, ax=ax[i], cbar=False, cbar_kws={'label': 'coding score'})\n",
    "    # fraction is number of cells in this cluster vs all cells in this cre line\n",
    "    fraction_cluster = len(this_cluster_csids) / float(len(cluster_meta))\n",
    "    fraction = np.round(fraction_cluster * 100, 1)\n",
    "    # set title and labels\n",
    "    ax[i].set_title('cluster ' + str(cluster_id) + '\\n' + str(fraction) + '%, n=' + str(len(this_cluster_csids)))\n",
    "    ax[i].set_xlabel('')\n",
    "    \n",
    "plt.subplots_adjust(hspace=0.6, wspace=0.25)\n",
    "if save_dir:\n",
    "    utils.save_figure(fig, figsize, save_dir, folder,\n",
    "                      'mean_cluster_heatmaps_'+str(n_clusters))"
   ]
  },
  {
   "cell_type": "code",
   "execution_count": null,
   "id": "f569535b",
   "metadata": {},
   "outputs": [],
   "source": [
    "metric = 'exp_mod_direction'\n",
    "\n",
    "figsize = (20,5)\n",
    "fig, ax = plt.subplots(figsize=figsize)\n",
    "ax = sns.stripplot(data=coding_score_metrics, x='cluster_id', y=metric, \n",
    "            hue='cre_line', hue_order=cre_lines, palette=cre_line_colors, dodge=True, ax=ax)\n",
    "ax = sns.boxplot(data=coding_score_metrics, x='cluster_id', y=metric, \n",
    "            hue='cre_line', hue_order=cre_lines, color='white', ax=ax)\n",
    "ax.set_ylabel(metric)\n",
    "ax.legend(bbox_to_anchor=(1,1), fontsize='small', title_fontsize='small')"
   ]
  },
  {
   "cell_type": "code",
   "execution_count": null,
   "id": "1a3f1c2d",
   "metadata": {},
   "outputs": [],
   "source": [
    "n_clusters = len(coding_score_metrics.cluster_id.unique())"
   ]
  },
  {
   "cell_type": "code",
   "execution_count": null,
   "id": "470a591e",
   "metadata": {},
   "outputs": [],
   "source": [
    "metric = 'exp_mod_direction'\n",
    "\n",
    "figsize = (15,5)\n",
    "fig, ax = plt.subplots(figsize=figsize)\n",
    "ax = sns.pointplot(data=coding_score_metrics, x='cluster_id', y=metric, \n",
    "            hue='cre_line', hue_order=cre_lines, palette=cre_line_colors, join=False, dodge=0.2, ax=ax)\n",
    "# ax = sns.boxplot(data=coding_score_metrics, x='cluster_id', y=metric, \n",
    "#             hue='cre_line', hue_order=cre_lines, color='white', ax=ax)\n",
    "ax.set_ylabel(metric)\n",
    "ax.legend(bbox_to_anchor=(1,1), fontsize='small', title_fontsize='small')\n",
    "\n",
    "for x in np.arange(0.5, n_clusters, 1):\n",
    "    ax.vlines(x=x, ymin=-1, ymax=1, color='gray', linestyle='--')\n",
    "ax.hlines(y=0, xmin=-0.5, xmax=n_clusters-0.5, color='gray', linestyle='--')"
   ]
  },
  {
   "cell_type": "markdown",
   "id": "6131b181",
   "metadata": {},
   "source": [
    "#### persistence of coding"
   ]
  },
  {
   "cell_type": "code",
   "execution_count": null,
   "id": "babfa588",
   "metadata": {
    "scrolled": true
   },
   "outputs": [],
   "source": [
    "metric = 'exp_mod_persistence'\n",
    "\n",
    "figsize = (20,5)\n",
    "fig, ax = plt.subplots(figsize=figsize)\n",
    "ax = sns.stripplot(data=coding_score_metrics, x='cluster_id', y=metric, \n",
    "            hue='cre_line', hue_order=cre_lines, palette=cre_line_colors, dodge=True, ax=ax)\n",
    "ax = sns.boxplot(data=coding_score_metrics, x='cluster_id', y=metric, \n",
    "            hue='cre_line', hue_order=cre_lines, color='white', ax=ax)\n",
    "ax.set_ylabel(metric)\n",
    "ax.legend(bbox_to_anchor=(1,1), fontsize='small', title_fontsize='small')"
   ]
  },
  {
   "cell_type": "code",
   "execution_count": null,
   "id": "8b253c3e",
   "metadata": {},
   "outputs": [],
   "source": [
    "# take absolute value so its just whether it is transient or not, regardless of direction\n",
    "coding_score_metrics['transience'] = np.abs(coding_score_metrics.exp_mod_persistence.values)"
   ]
  },
  {
   "cell_type": "code",
   "execution_count": null,
   "id": "135c6f87",
   "metadata": {},
   "outputs": [],
   "source": [
    "metric = 'transience'\n",
    "\n",
    "figsize = (20,5)\n",
    "fig, ax = plt.subplots(figsize=figsize)\n",
    "ax = sns.stripplot(data=coding_score_metrics, x='cluster_id', y=metric, \n",
    "            hue='cre_line', hue_order=cre_lines, palette=cre_line_colors, dodge=True, ax=ax)\n",
    "ax = sns.boxplot(data=coding_score_metrics, x='cluster_id', y=metric, \n",
    "            hue='cre_line', hue_order=cre_lines, color='white', ax=ax)\n",
    "ax.set_ylabel(metric)\n",
    "ax.legend(bbox_to_anchor=(1,1), fontsize='small', title_fontsize='small')"
   ]
  },
  {
   "cell_type": "code",
   "execution_count": null,
   "id": "e0e555aa",
   "metadata": {},
   "outputs": [],
   "source": [
    "metric = 'transience'\n",
    "\n",
    "figsize = (15,5)\n",
    "fig, ax = plt.subplots(figsize=figsize)\n",
    "ax = sns.pointplot(data=coding_score_metrics, x='cluster_id', y=metric, \n",
    "            hue='cre_line', hue_order=cre_lines, palette=cre_line_colors, join=False, dodge=0.2, ax=ax)\n",
    "# ax = sns.boxplot(data=coding_score_metrics, x='cluster_id', y=metric, \n",
    "#             hue='cre_line', hue_order=cre_lines, color='white', ax=ax)\n",
    "ax.set_ylabel(metric)\n",
    "ax.legend(bbox_to_anchor=(1,1), fontsize='small', title_fontsize='small')\n",
    "\n",
    "for x in np.arange(0.5, n_clusters, 1):\n",
    "    ax.vlines(x=x, ymin=0, ymax=1, color='gray', linestyle='--')"
   ]
  },
  {
   "cell_type": "code",
   "execution_count": null,
   "id": "73b2c198",
   "metadata": {},
   "outputs": [],
   "source": [
    "# # vertical plot\n",
    "# metric = 'persistence'\n",
    "\n",
    "# figsize = (5, 10)\n",
    "# fig, ax = plt.subplots(figsize=figsize)\n",
    "# ax = sns.pointplot(data=coding_score_metrics, y='cluster_id', x=metric, orient='h',\n",
    "#             hue='cre_line', hue_order=cre_lines, palette=cre_line_colors, join=False, dodge=0.3, ax=ax)\n",
    "# # ax = sns.boxplot(data=coding_score_metrics, x='cluster_id', y=metric, \n",
    "# #             hue='cre_line', hue_order=cre_lines, color='white', ax=ax)\n",
    "# ax.set_xlabel(metric)\n",
    "# ax.legend(bbox_to_anchor=(1,1), fontsize='small', title_fontsize='small')\n",
    "\n",
    "# for y in np.arange(0.5, len(coding_score_metrics.cluster_id.unique()), 1):\n",
    "#     ax.hlines(y=y, xmin=0, xmax=1, color='gray', linestyle='--')"
   ]
  },
  {
   "cell_type": "markdown",
   "id": "c28e8955",
   "metadata": {},
   "source": [
    "### model free metrics"
   ]
  },
  {
   "cell_type": "code",
   "execution_count": null,
   "id": "83e8cd01",
   "metadata": {},
   "outputs": [],
   "source": [
    "import visual_behavior.ophys.response_analysis.cell_metrics as cm"
   ]
  },
  {
   "cell_type": "markdown",
   "id": "d804cdcb",
   "metadata": {},
   "source": [
    "Response metrics table contains one row per cell per experiment"
   ]
  },
  {
   "cell_type": "code",
   "execution_count": null,
   "id": "e94db040",
   "metadata": {},
   "outputs": [],
   "source": [
    "data_type = 'events'\n",
    "\n",
    "condition = 'images'\n",
    "stimuli = 'all_images'\n",
    "session_subset = 'full_session'\n",
    "\n",
    "# set inclusion criteria\n",
    "# options: ['active_only', 'closest_familiar_and_novel', 'containers_with_all_levels', 'platform_experiment_table']\n",
    "inclusion_criteria = 'platform_experiment_table'\n",
    "    \n",
    "response_metrics = cm.get_cell_metrics_for_conditions(data_type, condition, stimuli, session_subset, inclusion_criteria)"
   ]
  },
  {
   "cell_type": "code",
   "execution_count": null,
   "id": "8b38f03c",
   "metadata": {},
   "outputs": [],
   "source": [
    "# convert experience level\n",
    "\n",
    "response_metrics['experience_level'] = [utils.convert_experience_level(experience_level) for experience_level in response_metrics.experience_level.values]"
   ]
  },
  {
   "cell_type": "code",
   "execution_count": null,
   "id": "36f5821d",
   "metadata": {},
   "outputs": [],
   "source": [
    "# limit to matched cells\n",
    "response_metrics = response_metrics[response_metrics.cell_specimen_id.isin(matched_cells)]\n",
    "len(response_metrics)"
   ]
  },
  {
   "cell_type": "code",
   "execution_count": null,
   "id": "64508066",
   "metadata": {},
   "outputs": [],
   "source": [
    "print(len(response_metrics.mouse_id.unique()), 'mice')\n",
    "print(len(response_metrics.ophys_experiment_id.unique()), 'experiments')\n",
    "print(len(response_metrics.cell_specimen_id.unique()), 'cells')"
   ]
  },
  {
   "cell_type": "code",
   "execution_count": null,
   "id": "92a3b59a",
   "metadata": {},
   "outputs": [],
   "source": [
    "print(len(cluster_meta.mouse_id.unique()), 'mice')\n",
    "print(len(cluster_meta.index.unique()), 'cells')"
   ]
  },
  {
   "cell_type": "code",
   "execution_count": null,
   "id": "e16cb2ef",
   "metadata": {
    "scrolled": true
   },
   "outputs": [],
   "source": [
    "response_metrics = response_metrics.merge(cluster_meta.reset_index()[['cell_specimen_id', 'cluster_id']], on='cell_specimen_id')"
   ]
  },
  {
   "cell_type": "code",
   "execution_count": null,
   "id": "d47043fd",
   "metadata": {},
   "outputs": [],
   "source": [
    "response_metrics.head()"
   ]
  },
  {
   "cell_type": "code",
   "execution_count": null,
   "id": "6d0a6aba",
   "metadata": {},
   "outputs": [],
   "source": [
    "metrics = ['image_selectivity_index', 'image_selectivity_index_one_vs_all',\n",
    "       'lifetime_sparseness', 'mean_response',\n",
    "       'fraction_significant_p_value_gray_screen', 'fano_factor',\n",
    "       'reliability', 'running_modulation_index',]"
   ]
  },
  {
   "cell_type": "code",
   "execution_count": null,
   "id": "f8b0adeb",
   "metadata": {},
   "outputs": [],
   "source": [
    "cluster_ids = cluster_meta.cluster_id.unique()\n",
    "n_clusters = len(cluster_ids)\n"
   ]
  },
  {
   "cell_type": "code",
   "execution_count": null,
   "id": "3f24f2a2",
   "metadata": {},
   "outputs": [],
   "source": [
    "metric = 'lifetime_sparseness'\n",
    "\n",
    "order = np.arange(0, n_clusters, 1)\n",
    "\n",
    "figsize = (35,5)\n",
    "fig, ax = plt.subplots(1, 3, figsize=figsize, sharey=True)\n",
    "for i, cre_line in enumerate(cre_lines):\n",
    "    data = response_metrics[response_metrics.cre_line==cre_line]\n",
    "    ax[i] = sns.pointplot(data=data, x='cluster_id', y=metric, order=order,\n",
    "                hue='experience_level', hue_order=experience_levels, palette=palette_experience, \n",
    "                          join=False, dodge=0.3, ax=ax[i])\n",
    "    ax[i].set_title(cre_line)\n",
    "    ax[i].get_legend().remove()\n",
    "    ax[i].set_ylabel('')\n",
    "    for x in np.arange(0.5, n_clusters, 1):\n",
    "        ax[i].vlines(x=x, ymin=0, ymax=1, color='gray', linestyle='--')\n",
    "    \n",
    "ax[0].set_ylabel(metric)\n",
    "ax[0].legend(bbox_to_anchor=(1,1), fontsize='xx-small', title_fontsize='xx-small')\n",
    "\n",
    "plt.subplots_adjust(wspace=0.1)"
   ]
  },
  {
   "cell_type": "code",
   "execution_count": null,
   "id": "48e40c45",
   "metadata": {},
   "outputs": [],
   "source": []
  },
  {
   "cell_type": "code",
   "execution_count": null,
   "id": "3a6149a5",
   "metadata": {},
   "outputs": [],
   "source": [
    "# metric = 'reliability'\n",
    "\n",
    "# order = np.arange(0, n_clusters, 1)\n",
    "\n",
    "# figsize = (35,5)\n",
    "# fig, ax = plt.subplots(1, 3, figsize=figsize, sharey=True)\n",
    "# for i, cre_line in enumerate(cre_lines):\n",
    "#     data = response_metrics[response_metrics.cre_line==cre_line]\n",
    "#     ax[i] = sns.pointplot(data=data, x='cluster_id', y=metric, order=order,\n",
    "#                 hue='experience_level', hue_order=experience_levels, palette=palette_experience, \n",
    "#                           join=False, dodge=0.3, ax=ax[i])\n",
    "#     ax[i].set_title(cre_line)\n",
    "#     ax[i].get_legend().remove()\n",
    "#     ax[i].set_ylabel('')\n",
    "#     for x in np.arange(0.5, n_clusters, 1):\n",
    "#         ax[i].vlines(x=x, ymin=0, ymax=0.5, color='gray', linestyle='--')\n",
    "    \n",
    "# ax[0].set_ylabel(metric)\n",
    "# ax[0].legend(bbox_to_anchor=(1,1), fontsize='xx-small', title_fontsize='xx-small')\n",
    "\n",
    "# plt.subplots_adjust(wspace=0.1)"
   ]
  },
  {
   "cell_type": "code",
   "execution_count": null,
   "id": "e85b86a6",
   "metadata": {},
   "outputs": [],
   "source": [
    "metric = 'running_modulation_index'\n",
    "\n",
    "order = np.arange(0, n_clusters, 1)\n",
    "\n",
    "figsize = (35,5)\n",
    "fig, ax = plt.subplots(1, 3, figsize=figsize, sharey=True)\n",
    "for i, cre_line in enumerate(cre_lines):\n",
    "    data = response_metrics[response_metrics.cre_line==cre_line]\n",
    "    ax[i] = sns.pointplot(data=data, x='cluster_id', y=metric, order=order,\n",
    "                hue='experience_level', hue_order=experience_levels, palette=palette_experience, \n",
    "                          join=False, dodge=0.3, ax=ax[i])\n",
    "    ax[i].set_title(cre_line)\n",
    "    ax[i].get_legend().remove()\n",
    "    ax[i].set_ylabel('')\n",
    "    for x in np.arange(0.5, n_clusters, 1):\n",
    "        ax[i].vlines(x=x, ymin=-1, ymax=1, color='gray', linestyle='--')\n",
    "    \n",
    "ax[0].set_ylabel(metric)\n",
    "ax[0].legend(bbox_to_anchor=(1,1), fontsize='xx-small', title_fontsize='xx-small')\n",
    "\n",
    "plt.subplots_adjust(wspace=0.1)"
   ]
  },
  {
   "cell_type": "markdown",
   "id": "83e23684",
   "metadata": {},
   "source": [
    "### preferred stimulus response reliability"
   ]
  },
  {
   "cell_type": "code",
   "execution_count": null,
   "id": "770c71a3",
   "metadata": {},
   "outputs": [],
   "source": [
    "data_type = 'events'\n",
    "\n",
    "condition = 'images'\n",
    "stimuli = 'pref_image'\n",
    "session_subset = 'full_session'\n",
    "\n",
    "# set inclusion criteria\n",
    "# options: ['active_only', 'closest_familiar_and_novel', 'containers_with_all_levels', 'platform_experiment_table']\n",
    "inclusion_criteria = 'platform_experiment_table'\n",
    "    \n",
    "pref_stim_response_metrics = cm.get_cell_metrics_for_conditions(data_type, condition, stimuli, session_subset, inclusion_criteria)"
   ]
  },
  {
   "cell_type": "code",
   "execution_count": null,
   "id": "9eea8f34",
   "metadata": {},
   "outputs": [],
   "source": [
    "# convert experience level\n",
    "pref_stim_response_metrics['experience_level'] = [utils.convert_experience_level(experience_level) for experience_level in pref_stim_response_metrics.experience_level.values]\n",
    "# limit to matched cells\n",
    "pref_stim_response_metrics = pref_stim_response_metrics[pref_stim_response_metrics.cell_specimen_id.isin(matched_cells)]\n",
    "# add cluster ID\n",
    "pref_stim_response_metrics = pref_stim_response_metrics.merge(cluster_meta.reset_index()[['cell_specimen_id', 'cluster_id']], on='cell_specimen_id')"
   ]
  },
  {
   "cell_type": "code",
   "execution_count": null,
   "id": "5dad36e1",
   "metadata": {},
   "outputs": [],
   "source": [
    "metric = 'reliability'\n",
    "\n",
    "order = np.arange(0, n_clusters, 1)\n",
    "\n",
    "figsize = (35,5)\n",
    "fig, ax = plt.subplots(1, 3, figsize=figsize, sharey=True)\n",
    "for i, cre_line in enumerate(cre_lines):\n",
    "    data = pref_stim_response_metrics[pref_stim_response_metrics.cre_line==cre_line]\n",
    "    ax[i] = sns.pointplot(data=data, x='cluster_id', y=metric, order=order,\n",
    "                hue='experience_level', hue_order=experience_levels, palette=palette_experience, \n",
    "                          join=False, dodge=0.3, ax=ax[i])\n",
    "    ax[i].set_title(cre_line)\n",
    "    ax[i].get_legend().remove()\n",
    "    ax[i].set_ylabel('')\n",
    "    for x in np.arange(0.5, n_clusters, 1):\n",
    "        ax[i].vlines(x=x, ymin=0, ymax=0.5, color='gray', linestyle='--')\n",
    "    \n",
    "ax[0].set_ylabel(metric)\n",
    "ax[0].legend(bbox_to_anchor=(1,1), fontsize='xx-small', title_fontsize='xx-small')\n",
    "\n",
    "plt.subplots_adjust(wspace=0.1)"
   ]
  },
  {
   "cell_type": "markdown",
   "id": "99d0bbb8",
   "metadata": {},
   "source": [
    "### omission responses per cluster "
   ]
  },
  {
   "cell_type": "code",
   "execution_count": null,
   "id": "90e5b6e4",
   "metadata": {},
   "outputs": [],
   "source": [
    "data_type = 'events'\n",
    "\n",
    "condition = 'omissions'\n",
    "stimuli = 'all_images'\n",
    "session_subset = 'full_session'\n",
    "\n",
    "# set inclusion criteria\n",
    "# options: ['active_only', 'closest_familiar_and_novel', 'containers_with_all_levels', 'platform_experiment_table']\n",
    "inclusion_criteria = 'platform_experiment_table'\n",
    "    \n",
    "omission_response_metrics = cm.get_cell_metrics_for_conditions(data_type, condition, stimuli, session_subset, inclusion_criteria)"
   ]
  },
  {
   "cell_type": "code",
   "execution_count": null,
   "id": "8efb2783",
   "metadata": {},
   "outputs": [],
   "source": [
    "omission_response_metrics['experience_level'] = [utils.convert_experience_level(experience_level) for experience_level in omission_response_metrics.experience_level.values]"
   ]
  },
  {
   "cell_type": "code",
   "execution_count": null,
   "id": "ed838101",
   "metadata": {},
   "outputs": [],
   "source": [
    "# limit to matched cells\n",
    "omission_response_metrics = omission_response_metrics[omission_response_metrics.cell_specimen_id.isin(matched_cells)]\n",
    "len(omission_response_metrics)\n",
    "\n",
    "print(len(omission_response_metrics.mouse_id.unique()), 'mice')\n",
    "print(len(omission_response_metrics.ophys_experiment_id.unique()), 'experiments')\n",
    "print(len(omission_response_metrics.cell_specimen_id.unique()), 'cells')\n",
    "\n",
    "omission_response_metrics = omission_response_metrics.merge(cluster_meta.reset_index()[['cell_specimen_id', 'cluster_id']], on='cell_specimen_id')"
   ]
  },
  {
   "cell_type": "code",
   "execution_count": null,
   "id": "71107c0c",
   "metadata": {},
   "outputs": [],
   "source": [
    "metric = 'reliability'\n",
    "\n",
    "order = np.arange(0, n_clusters, 1)\n",
    "\n",
    "figsize = (35,5)\n",
    "fig, ax = plt.subplots(1, 3, figsize=figsize, sharey=True)\n",
    "for i, cre_line in enumerate(cre_lines):\n",
    "    data = omission_response_metrics[omission_response_metrics.cre_line==cre_line]\n",
    "    ax[i] = sns.pointplot(data=data, x='cluster_id', y=metric, order=order,\n",
    "                hue='experience_level', hue_order=experience_levels, palette=palette_experience, \n",
    "                          join=False, dodge=0.3, ax=ax[i])\n",
    "    ax[i].set_title(cre_line)\n",
    "    ax[i].get_legend().remove()\n",
    "    ax[i].set_ylabel('')\n",
    "    for x in np.arange(0.5, n_clusters, 1):\n",
    "        ax[i].vlines(x=x, ymin=-0.1, ymax=0.5, color='gray', linestyle='--')\n",
    "    ax[i].set_ylim(-0.1, 0.5)\n",
    "    \n",
    "ax[0].set_ylabel('omission reliability')\n",
    "ax[0].legend(bbox_to_anchor=(1,1), fontsize='xx-small', title_fontsize='xx-small')\n",
    "\n",
    "plt.subplots_adjust(wspace=0.1)"
   ]
  },
  {
   "cell_type": "code",
   "execution_count": null,
   "id": "bf6a23cd",
   "metadata": {},
   "outputs": [],
   "source": []
  },
  {
   "cell_type": "markdown",
   "id": "20738471",
   "metadata": {},
   "source": [
    "#### change response metrics"
   ]
  },
  {
   "cell_type": "code",
   "execution_count": null,
   "id": "ce7f22f6",
   "metadata": {},
   "outputs": [],
   "source": [
    "import visual_behavior.ophys.response_analysis.cell_metrics as cm"
   ]
  },
  {
   "cell_type": "code",
   "execution_count": null,
   "id": "43a9eac6",
   "metadata": {},
   "outputs": [],
   "source": [
    "data_type = 'events'\n",
    "\n",
    "condition = 'changes'\n",
    "stimuli = 'all_images'\n",
    "session_subset = 'full_session'\n",
    "\n",
    "# set inclusion criteria\n",
    "# options: ['active_only', 'closest_familiar_and_novel', 'containers_with_all_levels', 'platform_experiment_table']\n",
    "inclusion_criteria = 'platform_experiment_table'\n",
    "    \n",
    "change_response_metrics = cm.get_cell_metrics_for_conditions(data_type, condition, stimuli, session_subset, inclusion_criteria)"
   ]
  },
  {
   "cell_type": "code",
   "execution_count": null,
   "id": "dbe4a176",
   "metadata": {},
   "outputs": [],
   "source": [
    "# convert experience level \n",
    "change_response_metrics['experience_level'] = [utils.convert_experience_level(experience_level) for experience_level in change_response_metrics.experience_level.values]"
   ]
  },
  {
   "cell_type": "code",
   "execution_count": null,
   "id": "97d3c665",
   "metadata": {},
   "outputs": [],
   "source": [
    "# limit to matched cells\n",
    "change_response_metrics = change_response_metrics[change_response_metrics.cell_specimen_id.isin(matched_cells)]\n",
    "len(change_response_metrics)\n",
    "\n",
    "print(len(change_response_metrics.mouse_id.unique()), 'mice')\n",
    "print(len(change_response_metrics.ophys_experiment_id.unique()), 'experiments')\n",
    "print(len(change_response_metrics.cell_specimen_id.unique()), 'cells')\n",
    "\n",
    "change_response_metrics = change_response_metrics.merge(cluster_meta.reset_index()[['cell_specimen_id', 'cluster_id']], on='cell_specimen_id')"
   ]
  },
  {
   "cell_type": "code",
   "execution_count": null,
   "id": "d0888ee2",
   "metadata": {},
   "outputs": [],
   "source": [
    "change_response_metrics.keys()"
   ]
  },
  {
   "cell_type": "code",
   "execution_count": null,
   "id": "51e4ab5d",
   "metadata": {},
   "outputs": [],
   "source": [
    "metric = 'hit_miss_index'\n",
    "\n",
    "order = np.arange(0, n_clusters, 1)\n",
    "\n",
    "figsize = (35,5)\n",
    "fig, ax = plt.subplots(1, 3, figsize=figsize, sharey=True)\n",
    "for i, cre_line in enumerate(cre_lines):\n",
    "    data = change_response_metrics[change_response_metrics.cre_line==cre_line]\n",
    "    ax[i] = sns.pointplot(data=data, x='cluster_id', y=metric, order=order,\n",
    "                hue='experience_level', hue_order=experience_levels, palette=palette_experience, \n",
    "                          join=False, dodge=0.3, ax=ax[i])\n",
    "    ax[i].set_title(cre_line)\n",
    "    ax[i].get_legend().remove()\n",
    "    ax[i].set_ylabel('')\n",
    "    for x in np.arange(0.5, n_clusters, 1):\n",
    "        ax[i].vlines(x=x, ymin=-1, ymax=1, color='gray', linestyle='--')\n",
    "    ax[i].hlines(y=0, xmin=-0.5, xmax=n_clusters, color='gray', linestyle='--')\n",
    "    \n",
    "ax[0].set_ylabel(metric)\n",
    "ax[0].legend(bbox_to_anchor=(1,1), fontsize='xx-small', title_fontsize='xx-small')\n",
    "\n",
    "plt.subplots_adjust(wspace=0.1)"
   ]
  },
  {
   "cell_type": "code",
   "execution_count": null,
   "id": "03d1fcf8",
   "metadata": {},
   "outputs": [],
   "source": [
    "metric = 'change_modulation_index'\n",
    "\n",
    "order = np.arange(0, n_clusters, 1)\n",
    "\n",
    "figsize = (35,5)\n",
    "fig, ax = plt.subplots(1, 3, figsize=figsize, sharey=True)\n",
    "for i, cre_line in enumerate(cre_lines):\n",
    "    data = change_response_metrics[change_response_metrics.cre_line==cre_line]\n",
    "    ax[i] = sns.pointplot(data=data, x='cluster_id', y=metric, order=order,\n",
    "                hue='experience_level', hue_order=experience_levels, palette=palette_experience, \n",
    "                          join=False, dodge=0.3, ax=ax[i])\n",
    "    ax[i].set_title(cre_line)\n",
    "    ax[i].get_legend().remove()\n",
    "    ax[i].set_ylabel('')\n",
    "    for x in np.arange(0.5, n_clusters, 1):\n",
    "        ax[i].vlines(x=x, ymin=-1, ymax=1, color='gray', linestyle='--')\n",
    "    ax[i].hlines(y=0, xmin=-0.5, xmax=n_clusters, color='gray', linestyle='--')\n",
    "    \n",
    "ax[0].set_ylabel(metric)\n",
    "ax[0].legend(bbox_to_anchor=(1,1), fontsize='xx-small', title_fontsize='xx-small')\n",
    "\n",
    "plt.subplots_adjust(wspace=0.1)"
   ]
  },
  {
   "cell_type": "code",
   "execution_count": null,
   "id": "f5302e4b",
   "metadata": {},
   "outputs": [],
   "source": [
    "metric = 'reliability'\n",
    "\n",
    "order = np.arange(0, n_clusters, 1)\n",
    "\n",
    "figsize = (35,5)\n",
    "fig, ax = plt.subplots(1, 3, figsize=figsize, sharey=True)\n",
    "for i, cre_line in enumerate(cre_lines):\n",
    "    data = change_response_metrics[change_response_metrics.cre_line==cre_line]\n",
    "    ax[i] = sns.pointplot(data=data, x='cluster_id', y=metric, order=order,\n",
    "                hue='experience_level', hue_order=experience_levels, palette=palette_experience, \n",
    "                          join=False, dodge=0.3, ax=ax[i])\n",
    "    ax[i].set_title(cre_line)\n",
    "    ax[i].get_legend().remove()\n",
    "    ax[i].set_ylabel('')\n",
    "    for x in np.arange(0.5, n_clusters, 1):\n",
    "        ax[i].vlines(x=x, ymin=-0.2, ymax=0.5, color='gray', linestyle='--')\n",
    "    ax[i].hlines(y=0, xmin=-0.5, xmax=n_clusters, color='gray', linestyle='--')\n",
    "    \n",
    "ax[0].set_ylabel(metric)\n",
    "ax[0].legend(bbox_to_anchor=(1,1), fontsize='xx-small', title_fontsize='xx-small')\n",
    "\n",
    "plt.subplots_adjust(wspace=0.1)"
   ]
  },
  {
   "cell_type": "markdown",
   "id": "f7b8c292",
   "metadata": {},
   "source": [
    "# plot clusters individually with metric values"
   ]
  },
  {
   "cell_type": "markdown",
   "id": "1d053a5c",
   "metadata": {},
   "source": [
    "What is available?\n",
    "* coding_score_metrics\n",
    "* response_metrics\n",
    "* omission_response_metrics\n",
    "* change_response_metrics\n",
    "* fraction cells per cluster"
   ]
  },
  {
   "cell_type": "code",
   "execution_count": null,
   "id": "a097c3c1",
   "metadata": {},
   "outputs": [],
   "source": [
    "col_to_group = 'cre_line'\n",
    "n_cells_per_cluster = get_fraction_cells_per_cluster_per_group(cluster_meta, col_to_group)\n"
   ]
  },
  {
   "cell_type": "markdown",
   "id": "984355c5",
   "metadata": {},
   "source": [
    "## test each plot"
   ]
  },
  {
   "cell_type": "markdown",
   "id": "80d348b7",
   "metadata": {},
   "source": [
    "### dropout heatmaps"
   ]
  },
  {
   "cell_type": "code",
   "execution_count": null,
   "id": "4a2f04ef",
   "metadata": {},
   "outputs": [],
   "source": [
    "cluster_id = 1\n",
    "\n",
    "plotting.plot_dropout_heatmap(cluster_meta, feature_matrix, cluster_id, cre_line=None, \n",
    "                            abbreviate_features=True, abbreviate_experience=True, small_fontsize=False, ax=None)"
   ]
  },
  {
   "cell_type": "markdown",
   "id": "b553b648",
   "metadata": {},
   "source": [
    "### pie chart fraction cells per cluster"
   ]
  },
  {
   "cell_type": "code",
   "execution_count": null,
   "id": "9fc77400",
   "metadata": {},
   "outputs": [],
   "source": [
    "\n",
    "def plot_fraction_per_cluster_pie(n_cells_per_cluster, cluster_id, cre_line=None, ax=None):\n",
    "       if cre_line is not None: \n",
    "              fractions_this_cre = n_cells_per_cluster[(n_cells_per_cluster.cre_line==cre_line)].fraction_per_cluster.values\n",
    "              fractions_this_cluster = n_cells_per_cluster[(n_cells_per_cluster.cre_line==cre_line)&(n_cells_per_cluster.cluster_id==cluster_id)].fraction_per_cluster.values[0]\n",
    "              fraction = np.round(fractions_this_cluster*100, 2)\n",
    "       else: \n",
    "              fractions_this_cluster = n_cells_per_cluster[(n_cells_per_cluster.cluster_id==cluster_id)].fraction_per_cluster.values[0]\n",
    "              fraction = np.round(fractions_this_cluster*100, 2)   \n",
    "\n",
    "       colors = utils.get_cre_line_color_dict()\n",
    "       colors = [colors[cre_line], [0.8, 0.8, 0.8]]\n",
    "\n",
    "       if ax is None:\n",
    "              fig, ax = plt.subplots(figsize=(2,2.5))\n",
    "       ax.pie(x=[fraction, 100 - fraction], colors=colors, wedgeprops=dict(edgecolor='w'),\n",
    "              startangle=90, radius=1, center=(-1, 0), labels=[str(fraction) + '%', ''])\n",
    "       ax.set_title(utils.get_abbreviated_cell_type(cre_line))\n",
    "\n",
    "       return ax"
   ]
  },
  {
   "cell_type": "code",
   "execution_count": null,
   "id": "70b3a9cc",
   "metadata": {},
   "outputs": [],
   "source": [
    "cluster_id = 1\n",
    "cre_line = 'Vip-IRES-Cre'\n",
    "\n",
    "col_to_group = 'cre_line'\n",
    "n_cells_per_cluster = get_fraction_cells_per_cluster_per_group(cluster_meta, col_to_group)\n",
    "\n",
    "plot_fraction_per_cluster_pie(n_cells_per_cluster, cluster_id, cre_line, ax=None)\n"
   ]
  },
  {
   "cell_type": "code",
   "execution_count": null,
   "id": "8e65e547",
   "metadata": {},
   "outputs": [],
   "source": [
    "\n",
    "def plot_cluster_proportion_per_cre(n_cells_per_cluster, cluster_id, ax=None):\n",
    "    \"\"\"\n",
    "    Plots a stacked barplot of the proportion of cells in each cluster, split by each cre line\n",
    "    x axis is cre line, y axis is proportion\n",
    "    each cre line is sorted by its own fraction per cluster in ascending order\n",
    "    the cluster_id provided will be colored according to the cre line and the size of that cluster will be plotted\n",
    "    at the top of the stacked barplot\n",
    "    \"\"\"\n",
    "    this_cluster = cluster_id\n",
    "    if ax is None: \n",
    "        fig, ax = plt.subplots(figsize=(3,3))\n",
    "    for x_pos, cre_line in enumerate(cre_lines):\n",
    "        data = n_cells_per_cluster[(n_cells_per_cluster.cre_line == cre_line)]\n",
    "        data['fraction'] = data.fraction_per_cluster\n",
    "        data = data.sort_values(by=['fraction'], ascending=True)\n",
    "        cluster_ids = data.cluster_id.values\n",
    "        len_this_cluster = len(data[data.cluster_id == this_cluster])\n",
    "        if len_this_cluster>0:\n",
    "            cluster_is_present = True\n",
    "        next_bar_start = 0\n",
    "        for c, cluster_id in enumerate(cluster_ids):\n",
    "            this_value = data[data.cluster_id == cluster_id].fraction.values[0]\n",
    "            if (cluster_id == this_cluster) and (cluster_is_present==True): # only plot a color and label if its the cluster of interest\n",
    "                color = cre_line_colors[x_pos]\n",
    "                label = str(np.round(this_value*100, 1))+'%'\n",
    "                ax.text(x_pos-0.4, 1.05, label, fontsize='x-small')\n",
    "            else:\n",
    "                color = 'gray'\n",
    "            if c == 0:\n",
    "                ax.bar(x_pos, this_value, bottom=next_bar_start, color=color, edgecolor='w')\n",
    "            else:\n",
    "                ax.bar(x_pos, this_value, bottom=next_bar_start, color=color, edgecolor='w')\n",
    "            next_bar_start = next_bar_start + this_value\n",
    "            # ax.axis('off')\n",
    "            sns.despine(left=True, bottom=True)\n",
    "            ax.tick_params(left=False, bottom=False)\n",
    "    ax.set_xticks(np.arange(0,3))\n",
    "    ax.set_xticklabels([utils.get_abbreviated_cell_type(cre_line) for cre_line in cre_lines])\n",
    "    ax.set_yticklabels('')\n",
    "    ax.set_ylabel('cluster proportion\\nper cell type')\n",
    "    return ax"
   ]
  },
  {
   "cell_type": "code",
   "execution_count": null,
   "id": "53cb8144",
   "metadata": {},
   "outputs": [],
   "source": [
    "cluster_id = 0\n",
    "plot_cluster_proportion_per_cre(n_cells_per_cluster, cluster_id, ax=None)\n"
   ]
  },
  {
   "cell_type": "code",
   "execution_count": null,
   "id": "da189906",
   "metadata": {},
   "outputs": [],
   "source": []
  },
  {
   "cell_type": "markdown",
   "id": "c8996d40",
   "metadata": {},
   "source": [
    "### coding score metrics per cluster"
   ]
  },
  {
   "cell_type": "code",
   "execution_count": null,
   "id": "d67b61ea",
   "metadata": {},
   "outputs": [],
   "source": [
    "coding_score_metrics.keys()"
   ]
  },
  {
   "cell_type": "code",
   "execution_count": null,
   "id": "ff308167",
   "metadata": {},
   "outputs": [],
   "source": [
    "cluster_data"
   ]
  },
  {
   "cell_type": "code",
   "execution_count": null,
   "id": "f33d975b",
   "metadata": {},
   "outputs": [],
   "source": [
    "coding_score_metrics.cre_line.unique()"
   ]
  },
  {
   "cell_type": "code",
   "execution_count": null,
   "id": "49ddb445",
   "metadata": {},
   "outputs": [],
   "source": [
    "def plot_coding_score_metric_for_cluster(coding_score_metrics, cluster_id, metric, ymin=-1, ymax=1, ylabel=None, ax=None):\n",
    "    \"\"\"\n",
    "    plots distribution of a given coding score metric for a given cluster, for each cre line\n",
    "    shows boxplot and individual data points\n",
    "    cre line is on x axis, metric value on y axis\n",
    "    \"\"\"\n",
    "    cluster_data = coding_score_metrics[coding_score_metrics.cluster_id==cluster_id]\n",
    "\n",
    "    if ax is None: \n",
    "        figsize=(2,2.5)\n",
    "        fig, ax = plt.subplots(figsize=figsize)\n",
    "\n",
    "    # ax = sns.boxplot(data=cluster_data, x='cre_line', order=cre_lines, y=metric, \n",
    "    #                     palette=cre_line_colors, ax=ax)\n",
    "\n",
    "    ax = sns.boxplot(data=cluster_data, x='cre_line', order=cre_lines, y=metric, \n",
    "                color='white', width=0.5, ax=ax)\n",
    "    ax = sns.stripplot(data=cluster_data, x='cre_line', order=cre_lines, y=metric, \n",
    "                palette=cre_line_colors, size=3, alpha=0.5, ax=ax)\n",
    "\n",
    "    # ax.legend([utils.get_abbreviated_cell_type(cre_line) for cre_line in cre_lines], fontsize='xx-small')\n",
    "    # ax.get_legend().remove()\n",
    "    ax.set_xticklabels([utils.get_abbreviated_cell_type(cre_line) for cre_line in cre_lines])\n",
    "    ax.set_xlabel('')\n",
    "    if ylabel is not None:\n",
    "        ax.set_title(ylabel)\n",
    "        ax.set_ylabel('')\n",
    "    # ax.set_ylabel('')\n",
    "    # ax.set_title(metric)\n",
    "    ax.set_ylim(ymin, ymax)\n",
    "    ax.set_xlim(-0.5, len(cre_lines)-0.5)\n",
    "    ax.hlines(y=0, xmin=-0.5, xmax=len(cre_lines)-0.5, color='gray', linestyle='--')\n",
    "\n",
    "    return ax\n"
   ]
  },
  {
   "cell_type": "code",
   "execution_count": null,
   "id": "95237396",
   "metadata": {},
   "outputs": [],
   "source": [
    "cluster_id = 1\n",
    "metric = 'experience_selectivity'\n",
    "\n",
    "plot_coding_score_metric_for_cluster(coding_score_metrics, cluster_id, metric, ax=None)\n"
   ]
  },
  {
   "cell_type": "code",
   "execution_count": null,
   "id": "6e6a3c1a",
   "metadata": {},
   "outputs": [],
   "source": [
    "# take absolute value so its just whether it is transient or not, regardless of direction\n",
    "coding_score_metrics['persistence'] = 1-np.abs(coding_score_metrics.exp_mod_persistence.values)"
   ]
  },
  {
   "cell_type": "code",
   "execution_count": null,
   "id": "6c1ae4b3",
   "metadata": {},
   "outputs": [],
   "source": [
    "cluster_id = 1\n",
    "metric = 'persistence'\n",
    "\n",
    "plot_coding_score_metric_for_cluster(coding_score_metrics, cluster_id, metric, ymin=0, ax=None)\n"
   ]
  },
  {
   "cell_type": "code",
   "execution_count": null,
   "id": "fec22db1",
   "metadata": {},
   "outputs": [],
   "source": []
  },
  {
   "cell_type": "markdown",
   "id": "851f834c",
   "metadata": {},
   "source": [
    "### response metrics per cluster"
   ]
  },
  {
   "cell_type": "code",
   "execution_count": null,
   "id": "2f543757",
   "metadata": {},
   "outputs": [],
   "source": [
    "def plot_response_metric_for_cluster(response_metrics, cluster_id, metric, ymin=-1, ymax=1, ylabel=None, ax=None):\n",
    "    \"\"\"\n",
    "    plots distribution of a given response metric (computed on cell traces directly) for a given cluster, for each cre line\n",
    "    shows boxplot and individual data points\n",
    "    cre line is on x axis, metric value on y axis\n",
    "    \"\"\"\n",
    "    cluster_data = response_metrics[response_metrics.cluster_id==cluster_id]\n",
    "\n",
    "    if ax is None: \n",
    "        figsize=(2,2.5)\n",
    "        fig, ax = plt.subplots(figsize=figsize)\n",
    "\n",
    "    # ax = sns.boxplot(data=cluster_data, x='cre_line', order=cre_lines, y=metric, \n",
    "    #                     palette=cre_line_colors, ax=ax)\n",
    "\n",
    "    ax = sns.boxplot(data=cluster_data, x='cre_line', order=cre_lines, y=metric, width=0.7,\n",
    "                    hue='experience_level',hue_order=experience_levels, boxprops=dict(alpha=.6), \n",
    "                    palette=experience_level_colors, ax=ax)\n",
    "\n",
    "    # ax = sns.pointplot(data=cluster_data, x='cre_line', order=cre_lines, y=metric, \n",
    "    #                 hue='experience_level',hue_order=experience_levels, join=False, dodge=True, \n",
    "    #                 palette=experience_level_colors, ax=ax)\n",
    "                    \n",
    "    # ax = sns.boxplot(data=cluster_data, x='cre_line', order=cre_lines, y=metric, \n",
    "    #                 hue='experience_level',hue_order=experience_levels, dodge=True,\n",
    "    #                 color='white', width=0.5, ax=ax)\n",
    "    # ax = sns.stripplot(data=cluster_data, x='cre_line', order=cre_lines, y=metric, \n",
    "    #                 hue='experience_level',  hue_order=experience_levels,\n",
    "    #                 palette=experience_level_colors, dodge=True, size=3, alpha=0.5, ax=ax)\n",
    "\n",
    "    # ax.legend([utils.get_abbreviated_cell_type(cre_line) for cre_line in cre_lines], fontsize='xx-small')\n",
    "    ax.get_legend().remove()\n",
    "    ax.set_xticklabels([utils.get_abbreviated_cell_type(cre_line) for cre_line in cre_lines])\n",
    "    ax.set_xlabel('')\n",
    "    if ylabel is not None: \n",
    "        ax.set_title(ylabel)\n",
    "        ax.set_ylabel('')\n",
    "    # ax.set_ylabel('')\n",
    "    # ax.set_title(metric)\n",
    "    ax.set_ylim(ymin, ymax)\n",
    "    ax.set_xlim(-0.5, len(cre_lines)-0.5)\n",
    "    if ymin < -0.05: \n",
    "        ax.hlines(y=0, xmin=-0.5, xmax=len(cre_lines)-0.5, color='gray', linestyle='--')\n",
    "\n",
    "    return ax\n"
   ]
  },
  {
   "cell_type": "code",
   "execution_count": null,
   "id": "0904f58c",
   "metadata": {},
   "outputs": [],
   "source": [
    "cluster_id = 1\n",
    "metric = 'lifetime_sparseness'\n",
    "plot_response_metric_for_cluster(response_metrics, cluster_id, metric, ymin=-0.1, ymax=1.1, ax=None)"
   ]
  },
  {
   "cell_type": "code",
   "execution_count": null,
   "id": "9b3cf11b",
   "metadata": {},
   "outputs": [],
   "source": [
    "cluster_id = 1\n",
    "metric = 'running_modulation_index'\n",
    "plot_response_metric_for_cluster(response_metrics, cluster_id, metric, ymin=-1.1, ymax=1.1, ax=None)"
   ]
  },
  {
   "cell_type": "code",
   "execution_count": null,
   "id": "07c17460",
   "metadata": {},
   "outputs": [],
   "source": [
    "response_metrics.keys()"
   ]
  },
  {
   "cell_type": "code",
   "execution_count": null,
   "id": "71af7c80",
   "metadata": {},
   "outputs": [],
   "source": [
    "cluster_id = 0\n",
    "metric = 'reliability'\n",
    "\n",
    "plot_response_metric_for_cluster(pref_stim_response_metrics, cluster_id, metric, ymin=-0.6, ymax=1.1, ax=None)"
   ]
  },
  {
   "cell_type": "code",
   "execution_count": null,
   "id": "624c3575",
   "metadata": {},
   "outputs": [],
   "source": [
    "[2] + [int(x) for x in list(np.ones(7))]"
   ]
  },
  {
   "cell_type": "code",
   "execution_count": null,
   "id": "4672bbf3",
   "metadata": {},
   "outputs": [],
   "source": [
    "cluster_id = 1\n",
    "\n",
    "def plot_cluster_properties(cluster_id): \n",
    "    figsize = (25,2.5)\n",
    "    width_ratios = [1.5] + [int(x) for x in list(np.ones(7))]\n",
    "    fig, ax = plt.subplots(1, 8, figsize=figsize, gridspec_kw={'width_ratios':width_ratios})\n",
    "\n",
    "    i = 0\n",
    "    ax[i] = plotting.plot_dropout_heatmap(cluster_meta, feature_matrix, cluster_id, cre_line=None, \n",
    "                                abbreviate_features=True, abbreviate_experience=True, small_fontsize=False, ax=ax[i])\n",
    "    i+=1\n",
    "    ax[i] = plot_cluster_proportion_per_cre(n_cells_per_cluster, cluster_id, ax=ax[i])\n",
    "    i+=1\n",
    "    metric = 'experience_selectivity'\n",
    "    ax[i] = plot_coding_score_metric_for_cluster(coding_score_metrics, cluster_id, metric, ymin=-1.1, ymax=1.1, ylabel='novelty index', ax=ax[i])\n",
    "    i+=1\n",
    "    metric = 'persistence'\n",
    "    ax[i] = plot_coding_score_metric_for_cluster(coding_score_metrics, cluster_id, metric, ymin=-0.1, ymax=1.1, ylabel='persistence', ax=ax[i])\n",
    "    i+=1\n",
    "    metric = 'lifetime_sparseness'\n",
    "    ax[i] = plot_response_metric_for_cluster(response_metrics, cluster_id, metric, ymin=-0.1, ymax=1.1, ylabel='image selectivity', ax=ax[i])\n",
    "    i+=1\n",
    "    metric = 'reliability'\n",
    "    ax[i] = plot_response_metric_for_cluster(pref_stim_response_metrics, cluster_id, metric, ymin=-0.6, ymax=1.1, ylabel='image \\nreliability', ax=ax[i])\n",
    "    i+=1\n",
    "    metric = 'reliability'\n",
    "    ax[i] = plot_response_metric_for_cluster(omission_response_metrics, cluster_id, metric, ymin=-0.6, ymax=1.1, ylabel='omission \\nreliability', ax=ax[i])\n",
    "    i+=1\n",
    "    metric = 'running_modulation_index'\n",
    "    ax[i] = plot_response_metric_for_cluster(response_metrics, cluster_id, metric, ymin=-1.1, ymax=1.1, ylabel='running\\nmodulation', ax=ax[i])\n",
    "\n",
    "    plt.subplots_adjust(wspace=0.7)\n",
    "    # plt.tight_layout()\n",
    "\n",
    "    utils.save_figure(fig, figsize, save_dir, folder, 'cluster_properties_cluster_'+str(cluster_id))\n",
    "\n",
    "plot_cluster_properties(cluster_id)"
   ]
  },
  {
   "cell_type": "code",
   "execution_count": null,
   "id": "1cd78a9d",
   "metadata": {},
   "outputs": [],
   "source": []
  },
  {
   "cell_type": "code",
   "execution_count": null,
   "id": "f5b70b18",
   "metadata": {},
   "outputs": [],
   "source": [
    "for cluster_id in np.sort(cluster_meta.cluster_id.unique()):\n",
    "    plot_cluster_properties(cluster_id)"
   ]
  },
  {
   "cell_type": "code",
   "execution_count": null,
   "id": "68b963e7",
   "metadata": {},
   "outputs": [],
   "source": []
  },
  {
   "cell_type": "markdown",
   "id": "3525ade6",
   "metadata": {},
   "source": [
    "### within session changes for each cluster"
   ]
  },
  {
   "cell_type": "markdown",
   "id": "4cfaa7f5",
   "metadata": {},
   "source": [
    "#### test that sdf and get_mean_df work"
   ]
  },
  {
   "cell_type": "code",
   "execution_count": null,
   "id": "3b032036",
   "metadata": {},
   "outputs": [],
   "source": [
    "import visual_behavior.ophys.response_analysis.utilities as ut\n"
   ]
  },
  {
   "cell_type": "code",
   "execution_count": null,
   "id": "67a9da01",
   "metadata": {},
   "outputs": [],
   "source": [
    "event_type = 'all'\n",
    "data_type = 'events'"
   ]
  },
  {
   "cell_type": "code",
   "execution_count": null,
   "id": "c67becc1",
   "metadata": {},
   "outputs": [],
   "source": [
    "ophys_experiment_id = experiments_table.index[20]\n",
    "\n",
    "dataset = loading.get_ophys_dataset(ophys_experiment_id)\n",
    "\n",
    "sdf = loading.get_stimulus_response_df(dataset, data_type=data_type, event_type=event_type, time_window=[-2,2.1],\n",
    "                                                      interpolate=True, output_sampling_rate=30,\n",
    "                                                      load_from_file=True, epoch_duration_mins=10)"
   ]
  },
  {
   "cell_type": "code",
   "execution_count": null,
   "id": "489b5de3",
   "metadata": {},
   "outputs": [],
   "source": [
    "\n",
    "output_sampling_rate = sdf.output_sampling_rate.values[0]\n",
    "response_window_duration = sdf.response_window_duration.values[0]\n",
    "\n",
    "conditions = ['cell_specimen_id', 'is_change', 'omitted', 'epoch']\n",
    "\n",
    "mdf = ut.get_mean_df(sdf, conditions=conditions, frame_rate=output_sampling_rate,\n",
    "                                     window_around_timepoint_seconds=[-2, 2.1],\n",
    "                                     response_window_duration_seconds=response_window_duration,\n",
    "                                     get_pref_stim=False, exclude_omitted_from_pref_stim=True)"
   ]
  },
  {
   "cell_type": "code",
   "execution_count": null,
   "id": "eedbad9c",
   "metadata": {},
   "outputs": [],
   "source": []
  },
  {
   "cell_type": "markdown",
   "id": "fd15e0b8",
   "metadata": {},
   "source": [
    "### load multi session df"
   ]
  },
  {
   "cell_type": "code",
   "execution_count": null,
   "id": "7e3b9f79",
   "metadata": {},
   "outputs": [],
   "source": [
    "data_type = 'events'\n",
    "\n",
    "interpolate = True\n",
    "output_sampling_rate = 30\n",
    "\n",
    "# set inclusion criteria\n",
    "# options: ['active_only', 'closest_familiar_and_novel', 'containers_with_all_levels', 'platform_experiment_table']\n",
    "inclusion_criteria = 'platform_experiment_table'"
   ]
  },
  {
   "cell_type": "code",
   "execution_count": null,
   "id": "a555192f",
   "metadata": {},
   "outputs": [],
   "source": [
    "# params for stim response df creation\n",
    "event_type = 'all'\n",
    "\n",
    "# params for mean response df creation\n",
    "# conditions = ['cell_specimen_id', 'image_name', 'epoch']\n",
    "conditions = ['cell_specimen_id', 'is_change', 'omitted', 'epoch']\n",
    "\n",
    "\n",
    "suffix = '_'+utils.get_conditions_string(data_type, conditions)+'_'+inclusion_criteria\n",
    "\n",
    "multi_session_df = loading.get_multi_session_df_for_conditions(data_type, event_type, conditions, inclusion_criteria, \n",
    "                                                        interpolate=interpolate, output_sampling_rate=output_sampling_rate, \n",
    "                                                         epoch_duration_mins=10)\n",
    "\n",
    "# change_mdf = change_mdf[change_mdf.is_change==True]"
   ]
  },
  {
   "cell_type": "code",
   "execution_count": null,
   "id": "e3e57b71",
   "metadata": {},
   "outputs": [],
   "source": [
    "multi_session_df.groupby(['session_type', 'project_code']).count()"
   ]
  },
  {
   "cell_type": "code",
   "execution_count": null,
   "id": "caf21343",
   "metadata": {},
   "outputs": [],
   "source": []
  },
  {
   "cell_type": "code",
   "execution_count": null,
   "id": "73e51ec9",
   "metadata": {},
   "outputs": [],
   "source": []
  },
  {
   "cell_type": "markdown",
   "id": "130d7078",
   "metadata": {},
   "source": [
    "### create multi session df for one set of conditions"
   ]
  },
  {
   "cell_type": "code",
   "execution_count": null,
   "id": "149a9ad0",
   "metadata": {},
   "outputs": [],
   "source": [
    "import visual_behavior.ophys.io.create_multi_session_df as io\n",
    "\n",
    "conditions = ['cell_specimen_id', 'is_change', 'omitted', 'epoch']\n",
    "data_type = 'events'\n",
    "event_type = 'all'\n",
    "\n",
    "df = io.get_multi_session_df('VisualBehavior', 4, conditions, data_type, event_type,\n",
    "                                             time_window=[-2,2.1], interpolate=True, output_sampling_rate=30,\n",
    "                                             response_window_duration=0.5,\n",
    "                                             use_extended_stimulus_presentations=False,\n",
    "                                             epoch_duration_mins=10, overwrite=True)"
   ]
  },
  {
   "cell_type": "code",
   "execution_count": null,
   "id": "c570157d",
   "metadata": {},
   "outputs": [],
   "source": []
  },
  {
   "cell_type": "code",
   "execution_count": null,
   "id": "3da8e279",
   "metadata": {},
   "outputs": [],
   "source": [
    "figsize = (35,5)\n",
    "fig, ax = plt.subplots(1, 3, figsize=figsize, sharey=True)\n",
    "for i, cre_line in enumerate(cre_lines):\n",
    "    data = multi_session_df[multi_session_df.cre_line==cre_line]\n",
    "    ax[i] = sns.pointplot(data=data, x='epoch', y='mean_response', \n",
    "                hue='experience_level', hue_order=experience_levels, palette=palette_experience, \n",
    "                          join=False, ax=ax[i])\n",
    "    ax[i].set_title(cre_line)\n",
    "    ax[i].get_legend().remove()\n",
    "    ax[i].set_ylabel('')\n",
    "#     for x in np.arange(0.5, n_clusters, 1):\n",
    "#         ax[i].vlines(x=x, ymin=-1, ymax=1, color='gray', linestyle='--')\n",
    "#     ax[i].hlines(y=0, xmin=-0.5, xmax=n_clusters, color='gray', linestyle='--')\n",
    "    \n",
    "ax[0].set_ylabel(metric)\n",
    "ax[0].legend(bbox_to_anchor=(1,1), fontsize='xx-small', title_fontsize='xx-small')\n",
    "\n",
    "plt.subplots_adjust(wspace=0.1)"
   ]
  },
  {
   "cell_type": "code",
   "execution_count": null,
   "id": "fdebf2e4",
   "metadata": {},
   "outputs": [],
   "source": []
  },
  {
   "cell_type": "code",
   "execution_count": null,
   "id": "cb42554a",
   "metadata": {},
   "outputs": [],
   "source": [
    "### create multi session df\n",
    "\n",
    "get_multi_session_df(project_code, session_number, conditions, data_type, event_type,\n",
    "                         time_window=[-3, 3.1], interpolate=True, output_sampling_rate=30,\n",
    "                         response_window_duration=0.5, epoch_duration_mins=5,\n",
    "                         use_extended_stimulus_presentations=False, overwrite=True)"
   ]
  },
  {
   "cell_type": "code",
   "execution_count": null,
   "id": "1e8ef5a0",
   "metadata": {},
   "outputs": [],
   "source": []
  }
 ],
 "metadata": {
  "kernelspec": {
   "display_name": "vba",
   "language": "python",
   "name": "vba"
  },
  "language_info": {
   "codemirror_mode": {
    "name": "ipython",
    "version": 3
   },
   "file_extension": ".py",
   "mimetype": "text/x-python",
   "name": "python",
   "nbconvert_exporter": "python",
   "pygments_lexer": "ipython3",
   "version": "3.7.9"
  }
 },
 "nbformat": 4,
 "nbformat_minor": 5
}
