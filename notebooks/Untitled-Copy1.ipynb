{
 "cells": [
  {
   "cell_type": "code",
   "execution_count": 1,
   "metadata": {},
   "outputs": [],
   "source": [
    "# import necessary packages\n",
    "import numpy as np\n",
    "import pandas as pd\n",
    "import os\n",
    "\n",
    "import allensdk\n",
    "from allensdk.brain_observatory.behavior.behavior_project_cache import VisualBehaviorOphysProjectCache\n",
    "from visual_behavior.data_access import loading\n",
    "import visual_behavior.database as db\n",
    "from multiprocessing import Pool"
   ]
  },
  {
   "cell_type": "code",
   "execution_count": 76,
   "metadata": {},
   "outputs": [
    {
     "data": {
      "text/html": [
       "<style>.container { width:100% !important; }</style>"
      ],
      "text/plain": [
       "<IPython.core.display.HTML object>"
      ]
     },
     "metadata": {},
     "output_type": "display_data"
    }
   ],
   "source": [
    "from IPython.core.display import display, HTML\n",
    "display(HTML(\"<style>.container { width:100% !important; }</style>\"))"
   ]
  },
  {
   "cell_type": "code",
   "execution_count": 98,
   "metadata": {},
   "outputs": [
    {
     "data": {
      "text/plain": [
       "1165"
      ]
     },
     "execution_count": 98,
     "metadata": {},
     "output_type": "execute_result"
    }
   ],
   "source": [
    "data_storage_directory = '/allen/programs/braintv/workgroups/nc-ophys/visual_behavior/production_cache'\n",
    "cache = VisualBehaviorOphysProjectCache.from_s3_cache(cache_dir=data_storage_directory)\n",
    "\n",
    "experiment_table = cache.get_ophys_experiment_table().reset_index()\n",
    "len(experiment_table)"
   ]
  },
  {
   "cell_type": "code",
   "execution_count": 54,
   "metadata": {},
   "outputs": [
    {
     "data": {
      "text/plain": [
       "1165"
      ]
     },
     "execution_count": 54,
     "metadata": {},
     "output_type": "execute_result"
    }
   ],
   "source": [
    "%%time\n",
    "conn = db.Database('visual_behavior_data')\n",
    "coll = conn['ophys_analysis']['cell_specimen_table']\n",
    "\n",
    "cell_table = coll.find({})\n",
    "\n",
    "conn.close()\n",
    "\n",
    "cell_table.count()"
   ]
  },
  {
   "cell_type": "code",
   "execution_count": 7,
   "metadata": {},
   "outputs": [
    {
     "name": "stdout",
     "output_type": "stream",
     "text": [
      "CPU times: user 33.5 ms, sys: 35.5 ms, total: 69 ms\n",
      "Wall time: 217 ms\n"
     ]
    }
   ],
   "source": [
    "%%time\n",
    "\n",
    "oeid = 989610987\n",
    "\n",
    "conn = db.Database('visual_behavior_data')\n",
    "coll = conn['ophys_analysis']['cell_specimen_table']\n",
    "\n",
    "# cell_table = coll.find({})\n",
    "# cell_table = pd.DataFrame(list(coll.find({'ophys_experiment_id':oeid})))\n",
    "csid = 1086510464\n",
    "cell_table = pd.DataFrame(list(coll.find({'cell_specimen_id':csid})))\n",
    "\n",
    "conn.close()"
   ]
  },
  {
   "cell_type": "code",
   "execution_count": 8,
   "metadata": {},
   "outputs": [
    {
     "data": {
      "text/html": [
       "<div>\n",
       "<style scoped>\n",
       "    .dataframe tbody tr th:only-of-type {\n",
       "        vertical-align: middle;\n",
       "    }\n",
       "\n",
       "    .dataframe tbody tr th {\n",
       "        vertical-align: top;\n",
       "    }\n",
       "\n",
       "    .dataframe thead th {\n",
       "        text-align: right;\n",
       "    }\n",
       "</style>\n",
       "<table border=\"1\" class=\"dataframe\">\n",
       "  <thead>\n",
       "    <tr style=\"text-align: right;\">\n",
       "      <th></th>\n",
       "      <th>_id</th>\n",
       "      <th>ophys_experiment_id</th>\n",
       "      <th>ophys_session_id</th>\n",
       "      <th>cell_specimen_id</th>\n",
       "      <th>cell_roi_id</th>\n",
       "      <th>height</th>\n",
       "      <th>mask_image_plane</th>\n",
       "      <th>max_correction_down</th>\n",
       "      <th>max_correction_left</th>\n",
       "      <th>max_correction_right</th>\n",
       "      <th>max_correction_up</th>\n",
       "      <th>roi_mask</th>\n",
       "      <th>valid_roi</th>\n",
       "      <th>width</th>\n",
       "      <th>x</th>\n",
       "      <th>y</th>\n",
       "      <th>entry_time_utc</th>\n",
       "    </tr>\n",
       "  </thead>\n",
       "  <tbody>\n",
       "    <tr>\n",
       "      <th>0</th>\n",
       "      <td>60a2a347824918f87facb13f</td>\n",
       "      <td>986518880</td>\n",
       "      <td>985609503</td>\n",
       "      <td>1086510464</td>\n",
       "      <td>1080694475</td>\n",
       "      <td>26</td>\n",
       "      <td>1</td>\n",
       "      <td>19.0</td>\n",
       "      <td>5.0</td>\n",
       "      <td>9.0</td>\n",
       "      <td>4.0</td>\n",
       "      <td>[[0, 0, 0, 0, 0, 0, 0, 0, 0, 0, 0, 0, 0, 0, 0,...</td>\n",
       "      <td>1</td>\n",
       "      <td>17</td>\n",
       "      <td>156</td>\n",
       "      <td>98</td>\n",
       "      <td>2021-05-17 17:09:27.735082</td>\n",
       "    </tr>\n",
       "    <tr>\n",
       "      <th>1</th>\n",
       "      <td>60a2a3eda9c71a9f77acb22f</td>\n",
       "      <td>990400778</td>\n",
       "      <td>990139534</td>\n",
       "      <td>1086510464</td>\n",
       "      <td>1080671345</td>\n",
       "      <td>18</td>\n",
       "      <td>1</td>\n",
       "      <td>17.0</td>\n",
       "      <td>5.0</td>\n",
       "      <td>4.0</td>\n",
       "      <td>8.0</td>\n",
       "      <td>[[0, 0, 0, 0, 0, 0, 0, 0, 0, 0, 0, 0, 0, 0, 0,...</td>\n",
       "      <td>1</td>\n",
       "      <td>17</td>\n",
       "      <td>154</td>\n",
       "      <td>100</td>\n",
       "      <td>2021-05-17 17:12:13.224450</td>\n",
       "    </tr>\n",
       "    <tr>\n",
       "      <th>2</th>\n",
       "      <td>60a2aa1d7e3e209024acb32b</td>\n",
       "      <td>989610987</td>\n",
       "      <td>989267296</td>\n",
       "      <td>1086510464</td>\n",
       "      <td>1080708745</td>\n",
       "      <td>14</td>\n",
       "      <td>1</td>\n",
       "      <td>7.0</td>\n",
       "      <td>3.0</td>\n",
       "      <td>6.0</td>\n",
       "      <td>3.0</td>\n",
       "      <td>[[0, 0, 0, 0, 0, 0, 0, 0, 0, 0, 0, 0, 0, 0, 0,...</td>\n",
       "      <td>1</td>\n",
       "      <td>16</td>\n",
       "      <td>135</td>\n",
       "      <td>76</td>\n",
       "      <td>2021-05-17 17:38:24.303942</td>\n",
       "    </tr>\n",
       "  </tbody>\n",
       "</table>\n",
       "</div>"
      ],
      "text/plain": [
       "                        _id  ophys_experiment_id  ophys_session_id  \\\n",
       "0  60a2a347824918f87facb13f            986518880         985609503   \n",
       "1  60a2a3eda9c71a9f77acb22f            990400778         990139534   \n",
       "2  60a2aa1d7e3e209024acb32b            989610987         989267296   \n",
       "\n",
       "   cell_specimen_id  cell_roi_id  height  mask_image_plane  \\\n",
       "0        1086510464   1080694475      26                 1   \n",
       "1        1086510464   1080671345      18                 1   \n",
       "2        1086510464   1080708745      14                 1   \n",
       "\n",
       "   max_correction_down  max_correction_left  max_correction_right  \\\n",
       "0                 19.0                  5.0                   9.0   \n",
       "1                 17.0                  5.0                   4.0   \n",
       "2                  7.0                  3.0                   6.0   \n",
       "\n",
       "   max_correction_up                                           roi_mask  \\\n",
       "0                4.0  [[0, 0, 0, 0, 0, 0, 0, 0, 0, 0, 0, 0, 0, 0, 0,...   \n",
       "1                8.0  [[0, 0, 0, 0, 0, 0, 0, 0, 0, 0, 0, 0, 0, 0, 0,...   \n",
       "2                3.0  [[0, 0, 0, 0, 0, 0, 0, 0, 0, 0, 0, 0, 0, 0, 0,...   \n",
       "\n",
       "   valid_roi  width    x    y              entry_time_utc  \n",
       "0          1     17  156   98  2021-05-17 17:09:27.735082  \n",
       "1          1     17  154  100  2021-05-17 17:12:13.224450  \n",
       "2          1     16  135   76  2021-05-17 17:38:24.303942  "
      ]
     },
     "execution_count": 8,
     "metadata": {},
     "output_type": "execute_result"
    }
   ],
   "source": [
    "cell_table"
   ]
  },
  {
   "cell_type": "code",
   "execution_count": 70,
   "metadata": {},
   "outputs": [
    {
     "name": "stdout",
     "output_type": "stream",
     "text": [
      "CPU times: user 307 ms, sys: 37.4 ms, total: 344 ms\n",
      "Wall time: 48.7 s\n"
     ]
    }
   ],
   "source": [
    "%%time\n",
    "\n",
    "conn = db.Database('visual_behavior_data')\n",
    "coll = conn['ophys_analysis']['cell_specimen_table']\n",
    "\n",
    "cell_table = pd.DataFrame(list(coll.find({}, {'ophys_experiment_id':1, 'cell_specimen_id': 1, 'cell_roi_id': 1, '_id':0})))\n",
    "\n",
    "conn.close()"
   ]
  },
  {
   "cell_type": "code",
   "execution_count": 71,
   "metadata": {},
   "outputs": [
    {
     "data": {
      "text/plain": [
       "92209"
      ]
     },
     "execution_count": 71,
     "metadata": {},
     "output_type": "execute_result"
    }
   ],
   "source": [
    "len(cell_table['cell_roi_id'].unique())"
   ]
  },
  {
   "cell_type": "code",
   "execution_count": 72,
   "metadata": {},
   "outputs": [
    {
     "data": {
      "text/plain": [
       "34681"
      ]
     },
     "execution_count": 72,
     "metadata": {},
     "output_type": "execute_result"
    }
   ],
   "source": [
    "len(cell_table['cell_specimen_id'].unique())"
   ]
  },
  {
   "cell_type": "code",
   "execution_count": 73,
   "metadata": {},
   "outputs": [
    {
     "data": {
      "text/plain": [
       "1165"
      ]
     },
     "execution_count": 73,
     "metadata": {},
     "output_type": "execute_result"
    }
   ],
   "source": [
    "len(cell_table['ophys_experiment_id'].unique())"
   ]
  },
  {
   "cell_type": "code",
   "execution_count": 74,
   "metadata": {},
   "outputs": [
    {
     "data": {
      "text/plain": [
       "0"
      ]
     },
     "execution_count": 74,
     "metadata": {},
     "output_type": "execute_result"
    }
   ],
   "source": [
    "cell_table.duplicated(subset = ['ophys_experiment_id', 'cell_specimen_id']).sum()"
   ]
  },
  {
   "cell_type": "markdown",
   "metadata": {},
   "source": [
    "## spot check some experiments"
   ]
  },
  {
   "cell_type": "code",
   "execution_count": 57,
   "metadata": {},
   "outputs": [],
   "source": [
    "selected_experiment_table = experiment_table.sample(10, random_state = 0)"
   ]
  },
  {
   "cell_type": "code",
   "execution_count": 60,
   "metadata": {},
   "outputs": [
    {
     "name": "stdout",
     "output_type": "stream",
     "text": [
      "792813858\n"
     ]
    },
    {
     "name": "stderr",
     "output_type": "stream",
     "text": [
      "behavior_ophys_experiment_792813858.nwb: 100%|██████████| 1.12G/1.12G [01:28<00:00, 12.8MMB/s]    \n",
      "behavior_ophys_experiment_888876943.nwb:   0%|          | 0.00/244M [00:00<?, ?MB/s]"
     ]
    },
    {
     "name": "stdout",
     "output_type": "stream",
     "text": [
      "888876943\n"
     ]
    },
    {
     "name": "stderr",
     "output_type": "stream",
     "text": [
      "behavior_ophys_experiment_888876943.nwb: 100%|██████████| 244M/244M [00:21<00:00, 11.5MMB/s]  \n",
      "behavior_ophys_experiment_986518885.nwb:   0%|          | 0.00/474M [00:00<?, ?MB/s]"
     ]
    },
    {
     "name": "stdout",
     "output_type": "stream",
     "text": [
      "986518885\n"
     ]
    },
    {
     "name": "stderr",
     "output_type": "stream",
     "text": [
      "behavior_ophys_experiment_986518885.nwb: 100%|██████████| 474M/474M [00:34<00:00, 13.8MMB/s]    \n",
      "behavior_ophys_experiment_972233187.nwb:   0%|          | 1.02k/315M [00:00<13:16:17, 6.60kMB/s]"
     ]
    },
    {
     "name": "stdout",
     "output_type": "stream",
     "text": [
      "972233187\n"
     ]
    },
    {
     "name": "stderr",
     "output_type": "stream",
     "text": [
      "behavior_ophys_experiment_972233187.nwb: 100%|██████████| 315M/315M [00:25<00:00, 12.2MMB/s]    \n",
      "behavior_ophys_experiment_914107595.nwb:   0%|          | 0.00/367M [00:00<?, ?MB/s]"
     ]
    },
    {
     "name": "stdout",
     "output_type": "stream",
     "text": [
      "914107595\n"
     ]
    },
    {
     "name": "stderr",
     "output_type": "stream",
     "text": [
      "behavior_ophys_experiment_914107595.nwb: 100%|██████████| 367M/367M [00:29<00:00, 12.3MMB/s]    \n",
      "behavior_ophys_experiment_984914588.nwb:   0%|          | 0.00/256M [00:00<?, ?MB/s]"
     ]
    },
    {
     "name": "stdout",
     "output_type": "stream",
     "text": [
      "984914588\n"
     ]
    },
    {
     "name": "stderr",
     "output_type": "stream",
     "text": [
      "behavior_ophys_experiment_984914588.nwb: 100%|██████████| 256M/256M [00:20<00:00, 12.2MMB/s]    \n",
      "behavior_ophys_experiment_995622557.nwb:   0%|          | 0.00/283M [00:00<?, ?MB/s]"
     ]
    },
    {
     "name": "stdout",
     "output_type": "stream",
     "text": [
      "995622557\n"
     ]
    },
    {
     "name": "stderr",
     "output_type": "stream",
     "text": [
      "behavior_ophys_experiment_995622557.nwb: 100%|██████████| 283M/283M [00:22<00:00, 12.5MMB/s]    \n",
      "behavior_ophys_experiment_993864050.nwb:   0%|          | 0.00/312M [00:00<?, ?MB/s]"
     ]
    },
    {
     "name": "stdout",
     "output_type": "stream",
     "text": [
      "993864050\n"
     ]
    },
    {
     "name": "stderr",
     "output_type": "stream",
     "text": [
      "behavior_ophys_experiment_993864050.nwb: 100%|██████████| 312M/312M [00:25<00:00, 12.0MMB/s]    \n",
      "behavior_ophys_experiment_942596355.nwb:   0%|          | 0.00/278M [00:00<?, ?MB/s]"
     ]
    },
    {
     "name": "stdout",
     "output_type": "stream",
     "text": [
      "942596355\n"
     ]
    },
    {
     "name": "stderr",
     "output_type": "stream",
     "text": [
      "behavior_ophys_experiment_942596355.nwb: 100%|██████████| 278M/278M [00:23<00:00, 11.8MMB/s]    \n",
      "behavior_ophys_experiment_908381680.nwb:   0%|          | 0.00/417M [00:00<?, ?MB/s]"
     ]
    },
    {
     "name": "stdout",
     "output_type": "stream",
     "text": [
      "908381680\n"
     ]
    },
    {
     "name": "stderr",
     "output_type": "stream",
     "text": [
      "behavior_ophys_experiment_908381680.nwb: 100%|██████████| 417M/417M [00:32<00:00, 12.7MMB/s]    \n"
     ]
    }
   ],
   "source": [
    "datasets = {}\n",
    "for idx, row in selected_experiment_table.iterrows():\n",
    "    ophys_experiment_id = row['ophys_experiment_id']\n",
    "    print(ophys_experiment_id)\n",
    "    datasets[ophys_experiment_id] = cache.get_behavior_ophys_experiment(ophys_experiment_id)"
   ]
  },
  {
   "cell_type": "code",
   "execution_count": 101,
   "metadata": {},
   "outputs": [
    {
     "data": {
      "text/plain": [
       "dict_keys([792813858, 888876943, 986518885, 972233187, 914107595, 984914588, 995622557, 993864050, 942596355, 908381680])"
      ]
     },
     "execution_count": 101,
     "metadata": {},
     "output_type": "execute_result"
    }
   ],
   "source": [
    "datasets.keys()"
   ]
  },
  {
   "cell_type": "code",
   "execution_count": 77,
   "metadata": {},
   "outputs": [
    {
     "name": "stdout",
     "output_type": "stream",
     "text": [
      "the NWB file for oeid 792813858 has 208 cell ROIs, the mongo DB has 208 cells\n",
      "the NWB file for oeid 888876943 has 6 cell ROIs, the mongo DB has 6 cells\n",
      "the NWB file for oeid 986518885 has 103 cell ROIs, the mongo DB has 103 cells\n",
      "the NWB file for oeid 972233187 has 32 cell ROIs, the mongo DB has 32 cells\n",
      "the NWB file for oeid 914107595 has 66 cell ROIs, the mongo DB has 66 cells\n",
      "the NWB file for oeid 984914588 has 15 cell ROIs, the mongo DB has 15 cells\n",
      "the NWB file for oeid 995622557 has 8 cell ROIs, the mongo DB has 8 cells\n",
      "the NWB file for oeid 993864050 has 12 cell ROIs, the mongo DB has 12 cells\n",
      "the NWB file for oeid 942596355 has 23 cell ROIs, the mongo DB has 23 cells\n",
      "the NWB file for oeid 908381680 has 50 cell ROIs, the mongo DB has 50 cells\n"
     ]
    }
   ],
   "source": [
    "for oeid in datasets.keys():\n",
    "    dataset = datasets[oeid]\n",
    "    cell_specimen_table = dataset.cell_specimen_table\n",
    "    mongo_subset = cell_table.query('ophys_experiment_id == {}'.format(oeid))\n",
    "    print('the NWB file for oeid {} has {} cell ROIs, the mongo DB has {} cells'.format(oeid, len(cell_specimen_table), len(mongo_subset)))\n",
    "    \n",
    "    \n",
    "    "
   ]
  },
  {
   "cell_type": "code",
   "execution_count": 68,
   "metadata": {},
   "outputs": [
    {
     "data": {
      "text/plain": [
       "208"
      ]
     },
     "execution_count": 68,
     "metadata": {},
     "output_type": "execute_result"
    }
   ],
   "source": [
    "len(cell_specimen_table)"
   ]
  },
  {
   "cell_type": "code",
   "execution_count": 100,
   "metadata": {},
   "outputs": [
    {
     "data": {
      "text/plain": [
       "500886"
      ]
     },
     "execution_count": 100,
     "metadata": {},
     "output_type": "execute_result"
    }
   ],
   "source": [
    "oeids = experiment_table['ophys_experiment_id'].unique()\n",
    "# oeids = [572604813, 486554118]\n",
    "query = 'select * from cell_rois where ophys_experiment_id in {}'.format(tuple(oeids))\n",
    "lims_rois = db.lims_query(query)\n",
    "len(lims_rois)"
   ]
  },
  {
   "cell_type": "code",
   "execution_count": 88,
   "metadata": {},
   "outputs": [
    {
     "data": {
      "text/plain": [
       "500886"
      ]
     },
     "execution_count": 88,
     "metadata": {},
     "output_type": "execute_result"
    }
   ],
   "source": [
    "len(lims_rois)"
   ]
  },
  {
   "cell_type": "code",
   "execution_count": 99,
   "metadata": {},
   "outputs": [
    {
     "data": {
      "text/html": [
       "<div>\n",
       "<style scoped>\n",
       "    .dataframe tbody tr th:only-of-type {\n",
       "        vertical-align: middle;\n",
       "    }\n",
       "\n",
       "    .dataframe tbody tr th {\n",
       "        vertical-align: top;\n",
       "    }\n",
       "\n",
       "    .dataframe thead th {\n",
       "        text-align: right;\n",
       "    }\n",
       "</style>\n",
       "<table border=\"1\" class=\"dataframe\">\n",
       "  <thead>\n",
       "    <tr style=\"text-align: right;\">\n",
       "      <th></th>\n",
       "      <th>id</th>\n",
       "      <th>cell_specimen_id</th>\n",
       "      <th>ophys_experiment_id</th>\n",
       "      <th>x</th>\n",
       "      <th>y</th>\n",
       "      <th>width</th>\n",
       "      <th>height</th>\n",
       "      <th>valid_roi</th>\n",
       "      <th>mask_matrix</th>\n",
       "      <th>max_correction_up</th>\n",
       "      <th>max_correction_down</th>\n",
       "      <th>max_correction_right</th>\n",
       "      <th>max_correction_left</th>\n",
       "      <th>mask_image_plane</th>\n",
       "      <th>ophys_cell_segmentation_run_id</th>\n",
       "    </tr>\n",
       "  </thead>\n",
       "  <tbody>\n",
       "    <tr>\n",
       "      <th>0</th>\n",
       "      <td>1080887111</td>\n",
       "      <td>1.086497e+09</td>\n",
       "      <td>775614751</td>\n",
       "      <td>261</td>\n",
       "      <td>130</td>\n",
       "      <td>31</td>\n",
       "      <td>26</td>\n",
       "      <td>False</td>\n",
       "      <td>[[False, False, False, False, False, False, Fa...</td>\n",
       "      <td>13.0</td>\n",
       "      <td>16.0</td>\n",
       "      <td>8.0</td>\n",
       "      <td>23.0</td>\n",
       "      <td>2</td>\n",
       "      <td>1080818871</td>\n",
       "    </tr>\n",
       "    <tr>\n",
       "      <th>1</th>\n",
       "      <td>1080886741</td>\n",
       "      <td>1.086497e+09</td>\n",
       "      <td>775614751</td>\n",
       "      <td>318</td>\n",
       "      <td>263</td>\n",
       "      <td>19</td>\n",
       "      <td>15</td>\n",
       "      <td>False</td>\n",
       "      <td>[[False, False, False, False, False, False, Fa...</td>\n",
       "      <td>13.0</td>\n",
       "      <td>16.0</td>\n",
       "      <td>8.0</td>\n",
       "      <td>23.0</td>\n",
       "      <td>0</td>\n",
       "      <td>1080818871</td>\n",
       "    </tr>\n",
       "    <tr>\n",
       "      <th>2</th>\n",
       "      <td>1080886246</td>\n",
       "      <td>1.086497e+09</td>\n",
       "      <td>775614751</td>\n",
       "      <td>108</td>\n",
       "      <td>399</td>\n",
       "      <td>36</td>\n",
       "      <td>21</td>\n",
       "      <td>False</td>\n",
       "      <td>[[False, False, False, False, False, False, Fa...</td>\n",
       "      <td>13.0</td>\n",
       "      <td>16.0</td>\n",
       "      <td>8.0</td>\n",
       "      <td>23.0</td>\n",
       "      <td>2</td>\n",
       "      <td>1080818871</td>\n",
       "    </tr>\n",
       "    <tr>\n",
       "      <th>3</th>\n",
       "      <td>1080886079</td>\n",
       "      <td>1.086497e+09</td>\n",
       "      <td>775614751</td>\n",
       "      <td>394</td>\n",
       "      <td>451</td>\n",
       "      <td>14</td>\n",
       "      <td>14</td>\n",
       "      <td>False</td>\n",
       "      <td>[[False, False, False, True, True, True, False...</td>\n",
       "      <td>13.0</td>\n",
       "      <td>16.0</td>\n",
       "      <td>8.0</td>\n",
       "      <td>23.0</td>\n",
       "      <td>1</td>\n",
       "      <td>1080818871</td>\n",
       "    </tr>\n",
       "    <tr>\n",
       "      <th>4</th>\n",
       "      <td>1080885382</td>\n",
       "      <td>1.086497e+09</td>\n",
       "      <td>775614751</td>\n",
       "      <td>267</td>\n",
       "      <td>99</td>\n",
       "      <td>14</td>\n",
       "      <td>16</td>\n",
       "      <td>False</td>\n",
       "      <td>[[True, True, False, False, False, False, Fals...</td>\n",
       "      <td>13.0</td>\n",
       "      <td>16.0</td>\n",
       "      <td>8.0</td>\n",
       "      <td>23.0</td>\n",
       "      <td>0</td>\n",
       "      <td>1080818871</td>\n",
       "    </tr>\n",
       "    <tr>\n",
       "      <th>...</th>\n",
       "      <td>...</td>\n",
       "      <td>...</td>\n",
       "      <td>...</td>\n",
       "      <td>...</td>\n",
       "      <td>...</td>\n",
       "      <td>...</td>\n",
       "      <td>...</td>\n",
       "      <td>...</td>\n",
       "      <td>...</td>\n",
       "      <td>...</td>\n",
       "      <td>...</td>\n",
       "      <td>...</td>\n",
       "      <td>...</td>\n",
       "      <td>...</td>\n",
       "      <td>...</td>\n",
       "    </tr>\n",
       "    <tr>\n",
       "      <th>500835</th>\n",
       "      <td>1080639623</td>\n",
       "      <td>1.086631e+09</td>\n",
       "      <td>1071440875</td>\n",
       "      <td>136</td>\n",
       "      <td>471</td>\n",
       "      <td>13</td>\n",
       "      <td>19</td>\n",
       "      <td>False</td>\n",
       "      <td>[[False, False, False, False, False, False, Fa...</td>\n",
       "      <td>20.0</td>\n",
       "      <td>10.0</td>\n",
       "      <td>10.0</td>\n",
       "      <td>0.0</td>\n",
       "      <td>0</td>\n",
       "      <td>1080628312</td>\n",
       "    </tr>\n",
       "    <tr>\n",
       "      <th>500836</th>\n",
       "      <td>1080639627</td>\n",
       "      <td>1.086631e+09</td>\n",
       "      <td>1071440875</td>\n",
       "      <td>301</td>\n",
       "      <td>454</td>\n",
       "      <td>13</td>\n",
       "      <td>21</td>\n",
       "      <td>False</td>\n",
       "      <td>[[False, False, False, False, False, False, Fa...</td>\n",
       "      <td>20.0</td>\n",
       "      <td>10.0</td>\n",
       "      <td>10.0</td>\n",
       "      <td>0.0</td>\n",
       "      <td>0</td>\n",
       "      <td>1080628312</td>\n",
       "    </tr>\n",
       "    <tr>\n",
       "      <th>500837</th>\n",
       "      <td>1080639763</td>\n",
       "      <td>1.086631e+09</td>\n",
       "      <td>1071440875</td>\n",
       "      <td>69</td>\n",
       "      <td>224</td>\n",
       "      <td>15</td>\n",
       "      <td>27</td>\n",
       "      <td>True</td>\n",
       "      <td>[[False, False, True, True, False, False, Fals...</td>\n",
       "      <td>20.0</td>\n",
       "      <td>10.0</td>\n",
       "      <td>10.0</td>\n",
       "      <td>0.0</td>\n",
       "      <td>0</td>\n",
       "      <td>1080628312</td>\n",
       "    </tr>\n",
       "    <tr>\n",
       "      <th>500838</th>\n",
       "      <td>1080639658</td>\n",
       "      <td>1.086631e+09</td>\n",
       "      <td>1071440875</td>\n",
       "      <td>169</td>\n",
       "      <td>322</td>\n",
       "      <td>15</td>\n",
       "      <td>13</td>\n",
       "      <td>True</td>\n",
       "      <td>[[False, False, False, False, True, True, True...</td>\n",
       "      <td>20.0</td>\n",
       "      <td>10.0</td>\n",
       "      <td>10.0</td>\n",
       "      <td>0.0</td>\n",
       "      <td>0</td>\n",
       "      <td>1080628312</td>\n",
       "    </tr>\n",
       "    <tr>\n",
       "      <th>500839</th>\n",
       "      <td>1080639663</td>\n",
       "      <td>1.086630e+09</td>\n",
       "      <td>1071440875</td>\n",
       "      <td>283</td>\n",
       "      <td>321</td>\n",
       "      <td>19</td>\n",
       "      <td>16</td>\n",
       "      <td>True</td>\n",
       "      <td>[[False, False, False, False, True, True, True...</td>\n",
       "      <td>20.0</td>\n",
       "      <td>10.0</td>\n",
       "      <td>10.0</td>\n",
       "      <td>0.0</td>\n",
       "      <td>0</td>\n",
       "      <td>1080628312</td>\n",
       "    </tr>\n",
       "  </tbody>\n",
       "</table>\n",
       "<p>177814 rows × 15 columns</p>\n",
       "</div>"
      ],
      "text/plain": [
       "                id  cell_specimen_id  ophys_experiment_id    x    y  width  \\\n",
       "0       1080887111      1.086497e+09            775614751  261  130     31   \n",
       "1       1080886741      1.086497e+09            775614751  318  263     19   \n",
       "2       1080886246      1.086497e+09            775614751  108  399     36   \n",
       "3       1080886079      1.086497e+09            775614751  394  451     14   \n",
       "4       1080885382      1.086497e+09            775614751  267   99     14   \n",
       "...            ...               ...                  ...  ...  ...    ...   \n",
       "500835  1080639623      1.086631e+09           1071440875  136  471     13   \n",
       "500836  1080639627      1.086631e+09           1071440875  301  454     13   \n",
       "500837  1080639763      1.086631e+09           1071440875   69  224     15   \n",
       "500838  1080639658      1.086631e+09           1071440875  169  322     15   \n",
       "500839  1080639663      1.086630e+09           1071440875  283  321     19   \n",
       "\n",
       "        height  valid_roi                                        mask_matrix  \\\n",
       "0           26      False  [[False, False, False, False, False, False, Fa...   \n",
       "1           15      False  [[False, False, False, False, False, False, Fa...   \n",
       "2           21      False  [[False, False, False, False, False, False, Fa...   \n",
       "3           14      False  [[False, False, False, True, True, True, False...   \n",
       "4           16      False  [[True, True, False, False, False, False, Fals...   \n",
       "...        ...        ...                                                ...   \n",
       "500835      19      False  [[False, False, False, False, False, False, Fa...   \n",
       "500836      21      False  [[False, False, False, False, False, False, Fa...   \n",
       "500837      27       True  [[False, False, True, True, False, False, Fals...   \n",
       "500838      13       True  [[False, False, False, False, True, True, True...   \n",
       "500839      16       True  [[False, False, False, False, True, True, True...   \n",
       "\n",
       "        max_correction_up  max_correction_down  max_correction_right  \\\n",
       "0                    13.0                 16.0                   8.0   \n",
       "1                    13.0                 16.0                   8.0   \n",
       "2                    13.0                 16.0                   8.0   \n",
       "3                    13.0                 16.0                   8.0   \n",
       "4                    13.0                 16.0                   8.0   \n",
       "...                   ...                  ...                   ...   \n",
       "500835               20.0                 10.0                  10.0   \n",
       "500836               20.0                 10.0                  10.0   \n",
       "500837               20.0                 10.0                  10.0   \n",
       "500838               20.0                 10.0                  10.0   \n",
       "500839               20.0                 10.0                  10.0   \n",
       "\n",
       "        max_correction_left  mask_image_plane  ophys_cell_segmentation_run_id  \n",
       "0                      23.0                 2                      1080818871  \n",
       "1                      23.0                 0                      1080818871  \n",
       "2                      23.0                 2                      1080818871  \n",
       "3                      23.0                 1                      1080818871  \n",
       "4                      23.0                 0                      1080818871  \n",
       "...                     ...               ...                             ...  \n",
       "500835                  0.0                 0                      1080628312  \n",
       "500836                  0.0                 0                      1080628312  \n",
       "500837                  0.0                 0                      1080628312  \n",
       "500838                  0.0                 0                      1080628312  \n",
       "500839                  0.0                 0                      1080628312  \n",
       "\n",
       "[177814 rows x 15 columns]"
      ]
     },
     "execution_count": 99,
     "metadata": {},
     "output_type": "execute_result"
    }
   ],
   "source": [
    "lims_rois[pd.notnull(lims_rois['cell_specimen_id'])]"
   ]
  },
  {
   "cell_type": "code",
   "execution_count": 94,
   "metadata": {},
   "outputs": [
    {
     "data": {
      "text/plain": [
       "1165"
      ]
     },
     "execution_count": 94,
     "metadata": {},
     "output_type": "execute_result"
    }
   ],
   "source": [
    "len(lims_rois['ophys_experiment_id'].unique())"
   ]
  },
  {
   "cell_type": "code",
   "execution_count": 95,
   "metadata": {},
   "outputs": [
    {
     "data": {
      "text/html": [
       "<div>\n",
       "<style scoped>\n",
       "    .dataframe tbody tr th:only-of-type {\n",
       "        vertical-align: middle;\n",
       "    }\n",
       "\n",
       "    .dataframe tbody tr th {\n",
       "        vertical-align: top;\n",
       "    }\n",
       "\n",
       "    .dataframe thead th {\n",
       "        text-align: right;\n",
       "    }\n",
       "</style>\n",
       "<table border=\"1\" class=\"dataframe\">\n",
       "  <thead>\n",
       "    <tr style=\"text-align: right;\">\n",
       "      <th></th>\n",
       "      <th>id</th>\n",
       "      <th>cell_specimen_id</th>\n",
       "      <th>ophys_experiment_id</th>\n",
       "      <th>x</th>\n",
       "      <th>y</th>\n",
       "      <th>width</th>\n",
       "      <th>height</th>\n",
       "      <th>valid_roi</th>\n",
       "      <th>mask_matrix</th>\n",
       "      <th>max_correction_up</th>\n",
       "      <th>max_correction_down</th>\n",
       "      <th>max_correction_right</th>\n",
       "      <th>max_correction_left</th>\n",
       "      <th>mask_image_plane</th>\n",
       "      <th>ophys_cell_segmentation_run_id</th>\n",
       "    </tr>\n",
       "  </thead>\n",
       "  <tbody>\n",
       "    <tr>\n",
       "      <th>0</th>\n",
       "      <td>1080887111</td>\n",
       "      <td>1.086497e+09</td>\n",
       "      <td>775614751</td>\n",
       "      <td>261</td>\n",
       "      <td>130</td>\n",
       "      <td>31</td>\n",
       "      <td>26</td>\n",
       "      <td>False</td>\n",
       "      <td>[[False, False, False, False, False, False, Fa...</td>\n",
       "      <td>13.00000</td>\n",
       "      <td>16.0000</td>\n",
       "      <td>8.0000</td>\n",
       "      <td>23.00000</td>\n",
       "      <td>2</td>\n",
       "      <td>1080818871</td>\n",
       "    </tr>\n",
       "    <tr>\n",
       "      <th>1</th>\n",
       "      <td>1080886741</td>\n",
       "      <td>1.086497e+09</td>\n",
       "      <td>775614751</td>\n",
       "      <td>318</td>\n",
       "      <td>263</td>\n",
       "      <td>19</td>\n",
       "      <td>15</td>\n",
       "      <td>False</td>\n",
       "      <td>[[False, False, False, False, False, False, Fa...</td>\n",
       "      <td>13.00000</td>\n",
       "      <td>16.0000</td>\n",
       "      <td>8.0000</td>\n",
       "      <td>23.00000</td>\n",
       "      <td>0</td>\n",
       "      <td>1080818871</td>\n",
       "    </tr>\n",
       "    <tr>\n",
       "      <th>2</th>\n",
       "      <td>1080886246</td>\n",
       "      <td>1.086497e+09</td>\n",
       "      <td>775614751</td>\n",
       "      <td>108</td>\n",
       "      <td>399</td>\n",
       "      <td>36</td>\n",
       "      <td>21</td>\n",
       "      <td>False</td>\n",
       "      <td>[[False, False, False, False, False, False, Fa...</td>\n",
       "      <td>13.00000</td>\n",
       "      <td>16.0000</td>\n",
       "      <td>8.0000</td>\n",
       "      <td>23.00000</td>\n",
       "      <td>2</td>\n",
       "      <td>1080818871</td>\n",
       "    </tr>\n",
       "    <tr>\n",
       "      <th>3</th>\n",
       "      <td>1080886079</td>\n",
       "      <td>1.086497e+09</td>\n",
       "      <td>775614751</td>\n",
       "      <td>394</td>\n",
       "      <td>451</td>\n",
       "      <td>14</td>\n",
       "      <td>14</td>\n",
       "      <td>False</td>\n",
       "      <td>[[False, False, False, True, True, True, False...</td>\n",
       "      <td>13.00000</td>\n",
       "      <td>16.0000</td>\n",
       "      <td>8.0000</td>\n",
       "      <td>23.00000</td>\n",
       "      <td>1</td>\n",
       "      <td>1080818871</td>\n",
       "    </tr>\n",
       "    <tr>\n",
       "      <th>4</th>\n",
       "      <td>1080885382</td>\n",
       "      <td>1.086497e+09</td>\n",
       "      <td>775614751</td>\n",
       "      <td>267</td>\n",
       "      <td>99</td>\n",
       "      <td>14</td>\n",
       "      <td>16</td>\n",
       "      <td>False</td>\n",
       "      <td>[[True, True, False, False, False, False, Fals...</td>\n",
       "      <td>13.00000</td>\n",
       "      <td>16.0000</td>\n",
       "      <td>8.0000</td>\n",
       "      <td>23.00000</td>\n",
       "      <td>0</td>\n",
       "      <td>1080818871</td>\n",
       "    </tr>\n",
       "    <tr>\n",
       "      <th>...</th>\n",
       "      <td>...</td>\n",
       "      <td>...</td>\n",
       "      <td>...</td>\n",
       "      <td>...</td>\n",
       "      <td>...</td>\n",
       "      <td>...</td>\n",
       "      <td>...</td>\n",
       "      <td>...</td>\n",
       "      <td>...</td>\n",
       "      <td>...</td>\n",
       "      <td>...</td>\n",
       "      <td>...</td>\n",
       "      <td>...</td>\n",
       "      <td>...</td>\n",
       "      <td>...</td>\n",
       "    </tr>\n",
       "    <tr>\n",
       "      <th>500881</th>\n",
       "      <td>1071711124</td>\n",
       "      <td>NaN</td>\n",
       "      <td>1071440875</td>\n",
       "      <td>110</td>\n",
       "      <td>436</td>\n",
       "      <td>14</td>\n",
       "      <td>15</td>\n",
       "      <td>True</td>\n",
       "      <td>[[False, False, False, True, True, True, True,...</td>\n",
       "      <td>1.86198</td>\n",
       "      <td>28.2115</td>\n",
       "      <td>8.6613</td>\n",
       "      <td>1.76051</td>\n",
       "      <td>0</td>\n",
       "      <td>1071710344</td>\n",
       "    </tr>\n",
       "    <tr>\n",
       "      <th>500882</th>\n",
       "      <td>1071711123</td>\n",
       "      <td>NaN</td>\n",
       "      <td>1071440875</td>\n",
       "      <td>269</td>\n",
       "      <td>479</td>\n",
       "      <td>18</td>\n",
       "      <td>12</td>\n",
       "      <td>True</td>\n",
       "      <td>[[False, False, False, False, True, True, True...</td>\n",
       "      <td>1.86198</td>\n",
       "      <td>28.2115</td>\n",
       "      <td>8.6613</td>\n",
       "      <td>1.76051</td>\n",
       "      <td>0</td>\n",
       "      <td>1071710344</td>\n",
       "    </tr>\n",
       "    <tr>\n",
       "      <th>500883</th>\n",
       "      <td>1071711122</td>\n",
       "      <td>NaN</td>\n",
       "      <td>1071440875</td>\n",
       "      <td>52</td>\n",
       "      <td>441</td>\n",
       "      <td>12</td>\n",
       "      <td>18</td>\n",
       "      <td>True</td>\n",
       "      <td>[[False, True, True, True, True, True, True, F...</td>\n",
       "      <td>1.86198</td>\n",
       "      <td>28.2115</td>\n",
       "      <td>8.6613</td>\n",
       "      <td>1.76051</td>\n",
       "      <td>0</td>\n",
       "      <td>1071710344</td>\n",
       "    </tr>\n",
       "    <tr>\n",
       "      <th>500884</th>\n",
       "      <td>1071711121</td>\n",
       "      <td>NaN</td>\n",
       "      <td>1071440875</td>\n",
       "      <td>136</td>\n",
       "      <td>489</td>\n",
       "      <td>15</td>\n",
       "      <td>19</td>\n",
       "      <td>False</td>\n",
       "      <td>[[False, False, False, False, False, False, Fa...</td>\n",
       "      <td>1.86198</td>\n",
       "      <td>28.2115</td>\n",
       "      <td>8.6613</td>\n",
       "      <td>1.76051</td>\n",
       "      <td>0</td>\n",
       "      <td>1071710344</td>\n",
       "    </tr>\n",
       "    <tr>\n",
       "      <th>500885</th>\n",
       "      <td>1071711120</td>\n",
       "      <td>NaN</td>\n",
       "      <td>1071440875</td>\n",
       "      <td>170</td>\n",
       "      <td>483</td>\n",
       "      <td>13</td>\n",
       "      <td>17</td>\n",
       "      <td>False</td>\n",
       "      <td>[[False, False, False, False, False, True, Tru...</td>\n",
       "      <td>1.86198</td>\n",
       "      <td>28.2115</td>\n",
       "      <td>8.6613</td>\n",
       "      <td>1.76051</td>\n",
       "      <td>0</td>\n",
       "      <td>1071710344</td>\n",
       "    </tr>\n",
       "  </tbody>\n",
       "</table>\n",
       "<p>500886 rows × 15 columns</p>\n",
       "</div>"
      ],
      "text/plain": [
       "                id  cell_specimen_id  ophys_experiment_id    x    y  width  \\\n",
       "0       1080887111      1.086497e+09            775614751  261  130     31   \n",
       "1       1080886741      1.086497e+09            775614751  318  263     19   \n",
       "2       1080886246      1.086497e+09            775614751  108  399     36   \n",
       "3       1080886079      1.086497e+09            775614751  394  451     14   \n",
       "4       1080885382      1.086497e+09            775614751  267   99     14   \n",
       "...            ...               ...                  ...  ...  ...    ...   \n",
       "500881  1071711124               NaN           1071440875  110  436     14   \n",
       "500882  1071711123               NaN           1071440875  269  479     18   \n",
       "500883  1071711122               NaN           1071440875   52  441     12   \n",
       "500884  1071711121               NaN           1071440875  136  489     15   \n",
       "500885  1071711120               NaN           1071440875  170  483     13   \n",
       "\n",
       "        height  valid_roi                                        mask_matrix  \\\n",
       "0           26      False  [[False, False, False, False, False, False, Fa...   \n",
       "1           15      False  [[False, False, False, False, False, False, Fa...   \n",
       "2           21      False  [[False, False, False, False, False, False, Fa...   \n",
       "3           14      False  [[False, False, False, True, True, True, False...   \n",
       "4           16      False  [[True, True, False, False, False, False, Fals...   \n",
       "...        ...        ...                                                ...   \n",
       "500881      15       True  [[False, False, False, True, True, True, True,...   \n",
       "500882      12       True  [[False, False, False, False, True, True, True...   \n",
       "500883      18       True  [[False, True, True, True, True, True, True, F...   \n",
       "500884      19      False  [[False, False, False, False, False, False, Fa...   \n",
       "500885      17      False  [[False, False, False, False, False, True, Tru...   \n",
       "\n",
       "        max_correction_up  max_correction_down  max_correction_right  \\\n",
       "0                13.00000              16.0000                8.0000   \n",
       "1                13.00000              16.0000                8.0000   \n",
       "2                13.00000              16.0000                8.0000   \n",
       "3                13.00000              16.0000                8.0000   \n",
       "4                13.00000              16.0000                8.0000   \n",
       "...                   ...                  ...                   ...   \n",
       "500881            1.86198              28.2115                8.6613   \n",
       "500882            1.86198              28.2115                8.6613   \n",
       "500883            1.86198              28.2115                8.6613   \n",
       "500884            1.86198              28.2115                8.6613   \n",
       "500885            1.86198              28.2115                8.6613   \n",
       "\n",
       "        max_correction_left  mask_image_plane  ophys_cell_segmentation_run_id  \n",
       "0                  23.00000                 2                      1080818871  \n",
       "1                  23.00000                 0                      1080818871  \n",
       "2                  23.00000                 2                      1080818871  \n",
       "3                  23.00000                 1                      1080818871  \n",
       "4                  23.00000                 0                      1080818871  \n",
       "...                     ...               ...                             ...  \n",
       "500881              1.76051                 0                      1071710344  \n",
       "500882              1.76051                 0                      1071710344  \n",
       "500883              1.76051                 0                      1071710344  \n",
       "500884              1.76051                 0                      1071710344  \n",
       "500885              1.76051                 0                      1071710344  \n",
       "\n",
       "[500886 rows x 15 columns]"
      ]
     },
     "execution_count": 95,
     "metadata": {},
     "output_type": "execute_result"
    }
   ],
   "source": [
    "lims_rois"
   ]
  },
  {
   "cell_type": "code",
   "execution_count": null,
   "metadata": {},
   "outputs": [],
   "source": []
  }
 ],
 "metadata": {
  "kernelspec": {
   "display_name": "vba",
   "language": "python",
   "name": "vba"
  },
  "language_info": {
   "codemirror_mode": {
    "name": "ipython",
    "version": 3
   },
   "file_extension": ".py",
   "mimetype": "text/x-python",
   "name": "python",
   "nbconvert_exporter": "python",
   "pygments_lexer": "ipython3",
   "version": "3.8.8"
  }
 },
 "nbformat": 4,
 "nbformat_minor": 4
}
