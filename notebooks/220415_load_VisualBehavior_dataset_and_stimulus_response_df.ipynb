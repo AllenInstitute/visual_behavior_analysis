{
 "cells": [
  {
   "cell_type": "code",
   "execution_count": 1,
   "metadata": {},
   "outputs": [],
   "source": [
    "import os\n",
    "import numpy as np\n",
    "import pandas as pd\n",
    "import matplotlib.pyplot as plt\n",
    "\n",
    "import seaborn as sns\n",
    "sns.set_context('notebook', font_scale=1.5, rc={'lines.markeredgewidth': 2})"
   ]
  },
  {
   "cell_type": "code",
   "execution_count": 2,
   "metadata": {},
   "outputs": [],
   "source": [
    "%load_ext autoreload\n",
    "%autoreload 2\n",
    "\n",
    "%matplotlib inline"
   ]
  },
  {
   "cell_type": "code",
   "execution_count": 3,
   "metadata": {},
   "outputs": [],
   "source": [
    "import visual_behavior.data_access.loading as loading"
   ]
  },
  {
   "cell_type": "markdown",
   "metadata": {},
   "source": [
    "### get data cache using `from_s3_cache` method"
   ]
  },
  {
   "cell_type": "markdown",
   "metadata": {},
   "source": [
    "Use cache directory on the network containing NWB files saved from AWS "
   ]
  },
  {
   "cell_type": "code",
   "execution_count": 4,
   "metadata": {},
   "outputs": [
    {
     "name": "stdout",
     "output_type": "stream",
     "text": [
      "//allen/programs/braintv/workgroups/nc-ophys/visual_behavior/platform_paper_cache\n"
     ]
    }
   ],
   "source": [
    "cache_dir = loading.get_platform_analysis_cache_dir()\n",
    "print(cache_dir)"
   ]
  },
  {
   "cell_type": "code",
   "execution_count": 5,
   "metadata": {},
   "outputs": [],
   "source": [
    "from allensdk.brain_observatory.behavior.behavior_project_cache import VisualBehaviorOphysProjectCache\n",
    "\n",
    "cache = VisualBehaviorOphysProjectCache.from_s3_cache(cache_dir=cache_dir)"
   ]
  },
  {
   "cell_type": "markdown",
   "metadata": {},
   "source": [
    "### get experiments table "
   ]
  },
  {
   "cell_type": "markdown",
   "metadata": {},
   "source": [
    "`ophys_experiment_table` contains a record of each unique 2P field of view recorded in each session. \n",
    "One `ophys_session_id` can have 8 imaging planes, corresonding to 8 `ophys_experiment_ids`. \n",
    "A given imaging plane that is recorded across multiple sessions is linked by its `ophys_container_id`. "
   ]
  },
  {
   "cell_type": "code",
   "execution_count": 6,
   "metadata": {},
   "outputs": [
    {
     "data": {
      "text/plain": [
       "array(['VisualBehaviorMultiscope', 'VisualBehaviorTask1B',\n",
       "       'VisualBehavior', 'VisualBehaviorMultiscope4areasx2d'],\n",
       "      dtype=object)"
      ]
     },
     "execution_count": 6,
     "metadata": {},
     "output_type": "execute_result"
    }
   ],
   "source": [
    "experiments_table = cache.get_ophys_experiment_table()\n",
    "\n",
    "# should only include data from project codes associated with visual behavior data release\n",
    "experiments_table.project_code.unique()"
   ]
  },
  {
   "cell_type": "code",
   "execution_count": 7,
   "metadata": {},
   "outputs": [
    {
     "name": "stdout",
     "output_type": "stream",
     "text": [
      "107\n"
     ]
    }
   ],
   "source": [
    "print(len(experiments_table.mouse_id.unique()))"
   ]
  },
  {
   "cell_type": "markdown",
   "metadata": {},
   "source": [
    "### get behavior sessions for some mouse"
   ]
  },
  {
   "cell_type": "code",
   "execution_count": 8,
   "metadata": {},
   "outputs": [],
   "source": [
    "behavior_sessions = cache.get_behavior_session_table()"
   ]
  },
  {
   "cell_type": "code",
   "execution_count": 9,
   "metadata": {},
   "outputs": [
    {
     "data": {
      "text/html": [
       "<div>\n",
       "<style scoped>\n",
       "    .dataframe tbody tr th:only-of-type {\n",
       "        vertical-align: middle;\n",
       "    }\n",
       "\n",
       "    .dataframe tbody tr th {\n",
       "        vertical-align: top;\n",
       "    }\n",
       "\n",
       "    .dataframe thead th {\n",
       "        text-align: right;\n",
       "    }\n",
       "</style>\n",
       "<table border=\"1\" class=\"dataframe\">\n",
       "  <thead>\n",
       "    <tr style=\"text-align: right;\">\n",
       "      <th></th>\n",
       "      <th>mouse_id</th>\n",
       "      <th>session_type</th>\n",
       "      <th>ophys_experiment_id</th>\n",
       "    </tr>\n",
       "    <tr>\n",
       "      <th>behavior_session_id</th>\n",
       "      <th></th>\n",
       "      <th></th>\n",
       "      <th></th>\n",
       "    </tr>\n",
       "  </thead>\n",
       "  <tbody>\n",
       "    <tr>\n",
       "      <td>827312851</td>\n",
       "      <td>438912</td>\n",
       "      <td>TRAINING_0_gratings_autorewards_15min</td>\n",
       "      <td>NaN</td>\n",
       "    </tr>\n",
       "    <tr>\n",
       "      <td>828646634</td>\n",
       "      <td>438912</td>\n",
       "      <td>TRAINING_1_gratings</td>\n",
       "      <td>NaN</td>\n",
       "    </tr>\n",
       "    <tr>\n",
       "      <td>829128279</td>\n",
       "      <td>438912</td>\n",
       "      <td>TRAINING_1_gratings</td>\n",
       "      <td>NaN</td>\n",
       "    </tr>\n",
       "    <tr>\n",
       "      <td>829591790</td>\n",
       "      <td>438912</td>\n",
       "      <td>TRAINING_1_gratings</td>\n",
       "      <td>NaN</td>\n",
       "    </tr>\n",
       "    <tr>\n",
       "      <td>830201482</td>\n",
       "      <td>438912</td>\n",
       "      <td>TRAINING_1_gratings</td>\n",
       "      <td>NaN</td>\n",
       "    </tr>\n",
       "    <tr>\n",
       "      <td>830867799</td>\n",
       "      <td>438912</td>\n",
       "      <td>TRAINING_1_gratings</td>\n",
       "      <td>NaN</td>\n",
       "    </tr>\n",
       "    <tr>\n",
       "      <td>831834820</td>\n",
       "      <td>438912</td>\n",
       "      <td>TRAINING_1_gratings</td>\n",
       "      <td>NaN</td>\n",
       "    </tr>\n",
       "    <tr>\n",
       "      <td>832325815</td>\n",
       "      <td>438912</td>\n",
       "      <td>TRAINING_2_gratings_flashed</td>\n",
       "      <td>NaN</td>\n",
       "    </tr>\n",
       "    <tr>\n",
       "      <td>832990071</td>\n",
       "      <td>438912</td>\n",
       "      <td>TRAINING_2_gratings_flashed</td>\n",
       "      <td>NaN</td>\n",
       "    </tr>\n",
       "    <tr>\n",
       "      <td>833780803</td>\n",
       "      <td>438912</td>\n",
       "      <td>TRAINING_3_images_A_10uL_reward</td>\n",
       "      <td>NaN</td>\n",
       "    </tr>\n",
       "    <tr>\n",
       "      <td>834573980</td>\n",
       "      <td>438912</td>\n",
       "      <td>TRAINING_3_images_A_10uL_reward</td>\n",
       "      <td>NaN</td>\n",
       "    </tr>\n",
       "    <tr>\n",
       "      <td>835448132</td>\n",
       "      <td>438912</td>\n",
       "      <td>TRAINING_3_images_A_10uL_reward</td>\n",
       "      <td>NaN</td>\n",
       "    </tr>\n",
       "    <tr>\n",
       "      <td>835865722</td>\n",
       "      <td>438912</td>\n",
       "      <td>TRAINING_4_images_A_training</td>\n",
       "      <td>NaN</td>\n",
       "    </tr>\n",
       "    <tr>\n",
       "      <td>836522259</td>\n",
       "      <td>438912</td>\n",
       "      <td>TRAINING_4_images_A_training</td>\n",
       "      <td>NaN</td>\n",
       "    </tr>\n",
       "    <tr>\n",
       "      <td>837083666</td>\n",
       "      <td>438912</td>\n",
       "      <td>TRAINING_4_images_A_training</td>\n",
       "      <td>NaN</td>\n",
       "    </tr>\n",
       "    <tr>\n",
       "      <td>837443225</td>\n",
       "      <td>438912</td>\n",
       "      <td>TRAINING_4_images_A_training</td>\n",
       "      <td>NaN</td>\n",
       "    </tr>\n",
       "    <tr>\n",
       "      <td>838236165</td>\n",
       "      <td>438912</td>\n",
       "      <td>TRAINING_5_images_A_epilogue</td>\n",
       "      <td>NaN</td>\n",
       "    </tr>\n",
       "    <tr>\n",
       "      <td>839014738</td>\n",
       "      <td>438912</td>\n",
       "      <td>TRAINING_5_images_A_handoff_ready</td>\n",
       "      <td>NaN</td>\n",
       "    </tr>\n",
       "    <tr>\n",
       "      <td>839479248</td>\n",
       "      <td>438912</td>\n",
       "      <td>TRAINING_5_images_A_handoff_ready</td>\n",
       "      <td>NaN</td>\n",
       "    </tr>\n",
       "    <tr>\n",
       "      <td>839854553</td>\n",
       "      <td>438912</td>\n",
       "      <td>TRAINING_5_images_A_handoff_ready</td>\n",
       "      <td>NaN</td>\n",
       "    </tr>\n",
       "    <tr>\n",
       "      <td>840330509</td>\n",
       "      <td>438912</td>\n",
       "      <td>TRAINING_5_images_A_handoff_ready</td>\n",
       "      <td>NaN</td>\n",
       "    </tr>\n",
       "    <tr>\n",
       "      <td>841185520</td>\n",
       "      <td>438912</td>\n",
       "      <td>TRAINING_5_images_A_handoff_ready</td>\n",
       "      <td>NaN</td>\n",
       "    </tr>\n",
       "    <tr>\n",
       "      <td>841730873</td>\n",
       "      <td>438912</td>\n",
       "      <td>TRAINING_5_images_A_handoff_ready</td>\n",
       "      <td>NaN</td>\n",
       "    </tr>\n",
       "    <tr>\n",
       "      <td>842139320</td>\n",
       "      <td>438912</td>\n",
       "      <td>TRAINING_5_images_A_handoff_ready</td>\n",
       "      <td>NaN</td>\n",
       "    </tr>\n",
       "    <tr>\n",
       "      <td>842792100</td>\n",
       "      <td>438912</td>\n",
       "      <td>TRAINING_5_images_A_handoff_ready</td>\n",
       "      <td>NaN</td>\n",
       "    </tr>\n",
       "    <tr>\n",
       "      <td>843166865</td>\n",
       "      <td>438912</td>\n",
       "      <td>TRAINING_5_images_A_handoff_ready</td>\n",
       "      <td>NaN</td>\n",
       "    </tr>\n",
       "    <tr>\n",
       "      <td>844234790</td>\n",
       "      <td>438912</td>\n",
       "      <td>OPHYS_0_images_A_habituation</td>\n",
       "      <td>NaN</td>\n",
       "    </tr>\n",
       "    <tr>\n",
       "      <td>844875410</td>\n",
       "      <td>438912</td>\n",
       "      <td>OPHYS_0_images_A_habituation</td>\n",
       "      <td>NaN</td>\n",
       "    </tr>\n",
       "    <tr>\n",
       "      <td>846248008</td>\n",
       "      <td>438912</td>\n",
       "      <td>OPHYS_0_images_A_habituation</td>\n",
       "      <td>NaN</td>\n",
       "    </tr>\n",
       "    <tr>\n",
       "      <td>847048485</td>\n",
       "      <td>438912</td>\n",
       "      <td>OPHYS_1_images_A</td>\n",
       "      <td>[847267616, 847267622, 847267624, 847267626, 8...</td>\n",
       "    </tr>\n",
       "    <tr>\n",
       "      <td>847867029</td>\n",
       "      <td>438912</td>\n",
       "      <td>OPHYS_2_images_A_passive</td>\n",
       "      <td>[848039121, 848039123, 848039125]</td>\n",
       "    </tr>\n",
       "    <tr>\n",
       "      <td>848575992</td>\n",
       "      <td>438912</td>\n",
       "      <td>OPHYS_3_images_A</td>\n",
       "      <td>[848760983, 848760985, 848760988, 848760990]</td>\n",
       "    </tr>\n",
       "    <tr>\n",
       "      <td>849098851</td>\n",
       "      <td>438912</td>\n",
       "      <td>OPHYS_4_images_B</td>\n",
       "      <td>[849233390, 849233396, 849233398, 849233400, 8...</td>\n",
       "    </tr>\n",
       "    <tr>\n",
       "      <td>850976604</td>\n",
       "      <td>438912</td>\n",
       "      <td>OPHYS_6_images_B</td>\n",
       "      <td>[851085092, 851085100, 851085103, 851085105, 8...</td>\n",
       "    </tr>\n",
       "    <tr>\n",
       "      <td>853266283</td>\n",
       "      <td>438912</td>\n",
       "      <td>OPHYS_5_images_B_passive</td>\n",
       "      <td>[853362765, 853362771, 853362773, 853362775, 8...</td>\n",
       "    </tr>\n",
       "  </tbody>\n",
       "</table>\n",
       "</div>"
      ],
      "text/plain": [
       "                     mouse_id                           session_type  \\\n",
       "behavior_session_id                                                    \n",
       "827312851              438912  TRAINING_0_gratings_autorewards_15min   \n",
       "828646634              438912                    TRAINING_1_gratings   \n",
       "829128279              438912                    TRAINING_1_gratings   \n",
       "829591790              438912                    TRAINING_1_gratings   \n",
       "830201482              438912                    TRAINING_1_gratings   \n",
       "830867799              438912                    TRAINING_1_gratings   \n",
       "831834820              438912                    TRAINING_1_gratings   \n",
       "832325815              438912            TRAINING_2_gratings_flashed   \n",
       "832990071              438912            TRAINING_2_gratings_flashed   \n",
       "833780803              438912        TRAINING_3_images_A_10uL_reward   \n",
       "834573980              438912        TRAINING_3_images_A_10uL_reward   \n",
       "835448132              438912        TRAINING_3_images_A_10uL_reward   \n",
       "835865722              438912           TRAINING_4_images_A_training   \n",
       "836522259              438912           TRAINING_4_images_A_training   \n",
       "837083666              438912           TRAINING_4_images_A_training   \n",
       "837443225              438912           TRAINING_4_images_A_training   \n",
       "838236165              438912           TRAINING_5_images_A_epilogue   \n",
       "839014738              438912      TRAINING_5_images_A_handoff_ready   \n",
       "839479248              438912      TRAINING_5_images_A_handoff_ready   \n",
       "839854553              438912      TRAINING_5_images_A_handoff_ready   \n",
       "840330509              438912      TRAINING_5_images_A_handoff_ready   \n",
       "841185520              438912      TRAINING_5_images_A_handoff_ready   \n",
       "841730873              438912      TRAINING_5_images_A_handoff_ready   \n",
       "842139320              438912      TRAINING_5_images_A_handoff_ready   \n",
       "842792100              438912      TRAINING_5_images_A_handoff_ready   \n",
       "843166865              438912      TRAINING_5_images_A_handoff_ready   \n",
       "844234790              438912           OPHYS_0_images_A_habituation   \n",
       "844875410              438912           OPHYS_0_images_A_habituation   \n",
       "846248008              438912           OPHYS_0_images_A_habituation   \n",
       "847048485              438912                       OPHYS_1_images_A   \n",
       "847867029              438912               OPHYS_2_images_A_passive   \n",
       "848575992              438912                       OPHYS_3_images_A   \n",
       "849098851              438912                       OPHYS_4_images_B   \n",
       "850976604              438912                       OPHYS_6_images_B   \n",
       "853266283              438912               OPHYS_5_images_B_passive   \n",
       "\n",
       "                                                   ophys_experiment_id  \n",
       "behavior_session_id                                                     \n",
       "827312851                                                          NaN  \n",
       "828646634                                                          NaN  \n",
       "829128279                                                          NaN  \n",
       "829591790                                                          NaN  \n",
       "830201482                                                          NaN  \n",
       "830867799                                                          NaN  \n",
       "831834820                                                          NaN  \n",
       "832325815                                                          NaN  \n",
       "832990071                                                          NaN  \n",
       "833780803                                                          NaN  \n",
       "834573980                                                          NaN  \n",
       "835448132                                                          NaN  \n",
       "835865722                                                          NaN  \n",
       "836522259                                                          NaN  \n",
       "837083666                                                          NaN  \n",
       "837443225                                                          NaN  \n",
       "838236165                                                          NaN  \n",
       "839014738                                                          NaN  \n",
       "839479248                                                          NaN  \n",
       "839854553                                                          NaN  \n",
       "840330509                                                          NaN  \n",
       "841185520                                                          NaN  \n",
       "841730873                                                          NaN  \n",
       "842139320                                                          NaN  \n",
       "842792100                                                          NaN  \n",
       "843166865                                                          NaN  \n",
       "844234790                                                          NaN  \n",
       "844875410                                                          NaN  \n",
       "846248008                                                          NaN  \n",
       "847048485            [847267616, 847267622, 847267624, 847267626, 8...  \n",
       "847867029                            [848039121, 848039123, 848039125]  \n",
       "848575992                 [848760983, 848760985, 848760988, 848760990]  \n",
       "849098851            [849233390, 849233396, 849233398, 849233400, 8...  \n",
       "850976604            [851085092, 851085100, 851085103, 851085105, 8...  \n",
       "853266283            [853362765, 853362771, 853362773, 853362775, 8...  "
      ]
     },
     "execution_count": 9,
     "metadata": {},
     "output_type": "execute_result"
    }
   ],
   "source": [
    "mouse_id = experiments_table.mouse_id.unique()[50]\n",
    "            \n",
    "# look at training history for this mouse\n",
    "mouse_beh_data = behavior_sessions[behavior_sessions.mouse_id==mouse_id].sort_values(by='date_of_acquisition')\n",
    "mouse_beh_data[['mouse_id', 'session_type', 'ophys_experiment_id']]"
   ]
  },
  {
   "cell_type": "markdown",
   "metadata": {},
   "source": [
    "### get ophys_containers for this mouse "
   ]
  },
  {
   "cell_type": "code",
   "execution_count": 10,
   "metadata": {},
   "outputs": [
    {
     "data": {
      "text/plain": [
       "6"
      ]
     },
     "execution_count": 10,
     "metadata": {},
     "output_type": "execute_result"
    }
   ],
   "source": [
    "mouse_data = experiments_table[experiments_table.mouse_id==mouse_id].sort_values(by='date_of_acquisition')\n",
    "ophys_container_ids = mouse_data.ophys_container_id.unique()\n",
    "len(ophys_container_ids)"
   ]
  },
  {
   "cell_type": "markdown",
   "metadata": {},
   "source": [
    "### pick a container and experiment"
   ]
  },
  {
   "cell_type": "code",
   "execution_count": 11,
   "metadata": {},
   "outputs": [
    {
     "data": {
      "text/plain": [
       "847267624"
      ]
     },
     "execution_count": 11,
     "metadata": {},
     "output_type": "execute_result"
    }
   ],
   "source": [
    "ophys_container_id = ophys_container_ids[0]\n",
    "experiment_id = experiments_table[experiments_table.ophys_container_id==ophys_container_id].index.values[0]\n",
    "experiment_id"
   ]
  },
  {
   "cell_type": "markdown",
   "metadata": {},
   "source": [
    "### load ophys dataset for this experiment"
   ]
  },
  {
   "cell_type": "code",
   "execution_count": 12,
   "metadata": {
    "scrolled": true
   },
   "outputs": [],
   "source": [
    "dataset = cache.get_behavior_ophys_experiment(experiment_id)"
   ]
  },
  {
   "cell_type": "code",
   "execution_count": 13,
   "metadata": {},
   "outputs": [
    {
     "data": {
      "text/plain": [
       "<matplotlib.image.AxesImage at 0x19e57740a20>"
      ]
     },
     "execution_count": 13,
     "metadata": {},
     "output_type": "execute_result"
    },
    {
     "data": {
      "image/png": "[encoded data removed]",
      "text/plain": [
       "<Figure size 432x288 with 1 Axes>"
      ]
     },
     "metadata": {
      "needs_background": "light"
     },
     "output_type": "display_data"
    }
   ],
   "source": [
    "plt.imshow(dataset.max_projection, cmap='gray')"
   ]
  },
  {
   "cell_type": "code",
   "execution_count": 14,
   "metadata": {},
   "outputs": [
    {
     "data": {
      "text/plain": [
       "<matplotlib.image.AxesImage at 0x19e557b77f0>"
      ]
     },
     "execution_count": 14,
     "metadata": {},
     "output_type": "execute_result"
    },
    {
     "data": {
      "image/png": "[encoded data removed]",
      "text/plain": [
       "<Figure size 432x288 with 1 Axes>"
      ]
     },
     "metadata": {
      "needs_background": "light"
     },
     "output_type": "display_data"
    }
   ],
   "source": [
    "plt.imshow(dataset.segmentation_mask_image, cmap='gray')"
   ]
  },
  {
   "cell_type": "code",
   "execution_count": 15,
   "metadata": {},
   "outputs": [
    {
     "data": {
      "text/html": [
       "<div>\n",
       "<style scoped>\n",
       "    .dataframe tbody tr th:only-of-type {\n",
       "        vertical-align: middle;\n",
       "    }\n",
       "\n",
       "    .dataframe tbody tr th {\n",
       "        vertical-align: top;\n",
       "    }\n",
       "\n",
       "    .dataframe thead th {\n",
       "        text-align: right;\n",
       "    }\n",
       "</style>\n",
       "<table border=\"1\" class=\"dataframe\">\n",
       "  <thead>\n",
       "    <tr style=\"text-align: right;\">\n",
       "      <th></th>\n",
       "      <th>cell_roi_id</th>\n",
       "      <th>dff</th>\n",
       "    </tr>\n",
       "    <tr>\n",
       "      <th>cell_specimen_id</th>\n",
       "      <th></th>\n",
       "      <th></th>\n",
       "    </tr>\n",
       "  </thead>\n",
       "  <tbody>\n",
       "    <tr>\n",
       "      <td>1086512261</td>\n",
       "      <td>1080854740</td>\n",
       "      <td>[19.712932586669922, 17.267105102539062, 16.28...</td>\n",
       "    </tr>\n",
       "    <tr>\n",
       "      <td>1086512470</td>\n",
       "      <td>1080854747</td>\n",
       "      <td>[0.9266295433044434, 1.1095601320266724, 1.500...</td>\n",
       "    </tr>\n",
       "    <tr>\n",
       "      <td>1086517629</td>\n",
       "      <td>1080854764</td>\n",
       "      <td>[6.427168369293213, 6.252079963684082, 7.32800...</td>\n",
       "    </tr>\n",
       "    <tr>\n",
       "      <td>1086512613</td>\n",
       "      <td>1080854787</td>\n",
       "      <td>[3.692857027053833, 4.920130252838135, 2.92668...</td>\n",
       "    </tr>\n",
       "    <tr>\n",
       "      <td>1086512699</td>\n",
       "      <td>1080854813</td>\n",
       "      <td>[3.9970669746398926, 2.5939831733703613, 2.423...</td>\n",
       "    </tr>\n",
       "    <tr>\n",
       "      <td>1086516047</td>\n",
       "      <td>1080854856</td>\n",
       "      <td>[0.4880005419254303, 0.5942140221595764, 0.141...</td>\n",
       "    </tr>\n",
       "    <tr>\n",
       "      <td>1086513015</td>\n",
       "      <td>1080854860</td>\n",
       "      <td>[5.67019510269165, 2.952738046646118, 1.693332...</td>\n",
       "    </tr>\n",
       "    <tr>\n",
       "      <td>1086516106</td>\n",
       "      <td>1080854864</td>\n",
       "      <td>[1.7547324895858765, 3.012686014175415, 2.1593...</td>\n",
       "    </tr>\n",
       "    <tr>\n",
       "      <td>1086513277</td>\n",
       "      <td>1080854869</td>\n",
       "      <td>[2.9231276512145996, 1.0498965978622437, 1.450...</td>\n",
       "    </tr>\n",
       "    <tr>\n",
       "      <td>1086513513</td>\n",
       "      <td>1080854877</td>\n",
       "      <td>[2.640711545944214, 1.9056509733200073, 2.4181...</td>\n",
       "    </tr>\n",
       "    <tr>\n",
       "      <td>1086513586</td>\n",
       "      <td>1080854881</td>\n",
       "      <td>[11.3364839553833, 6.805245399475098, 4.530278...</td>\n",
       "    </tr>\n",
       "    <tr>\n",
       "      <td>1086518259</td>\n",
       "      <td>1080854893</td>\n",
       "      <td>[3.9961159229278564, 4.345517635345459, 4.6294...</td>\n",
       "    </tr>\n",
       "    <tr>\n",
       "      <td>1086513969</td>\n",
       "      <td>1080854911</td>\n",
       "      <td>[0.8288633823394775, 0.4129435420036316, 0.472...</td>\n",
       "    </tr>\n",
       "    <tr>\n",
       "      <td>1086514148</td>\n",
       "      <td>1080854914</td>\n",
       "      <td>[1.4928838014602661, 1.169880986213684, 0.9347...</td>\n",
       "    </tr>\n",
       "    <tr>\n",
       "      <td>1086514382</td>\n",
       "      <td>1080854917</td>\n",
       "      <td>[40.556884765625, 35.54414367675781, 28.061134...</td>\n",
       "    </tr>\n",
       "    <tr>\n",
       "      <td>1086514771</td>\n",
       "      <td>1080854940</td>\n",
       "      <td>[0.0, 0.3208465576171875, 0.5007851719856262, ...</td>\n",
       "    </tr>\n",
       "    <tr>\n",
       "      <td>1086514997</td>\n",
       "      <td>1080854944</td>\n",
       "      <td>[8.081732749938965, 5.771487712860107, 4.90359...</td>\n",
       "    </tr>\n",
       "    <tr>\n",
       "      <td>1086515236</td>\n",
       "      <td>1080854953</td>\n",
       "      <td>[2.098666191101074, 1.8006759881973267, 1.6454...</td>\n",
       "    </tr>\n",
       "  </tbody>\n",
       "</table>\n",
       "</div>"
      ],
      "text/plain": [
       "                  cell_roi_id  \\\n",
       "cell_specimen_id                \n",
       "1086512261         1080854740   \n",
       "1086512470         1080854747   \n",
       "1086517629         1080854764   \n",
       "1086512613         1080854787   \n",
       "1086512699         1080854813   \n",
       "1086516047         1080854856   \n",
       "1086513015         1080854860   \n",
       "1086516106         1080854864   \n",
       "1086513277         1080854869   \n",
       "1086513513         1080854877   \n",
       "1086513586         1080854881   \n",
       "1086518259         1080854893   \n",
       "1086513969         1080854911   \n",
       "1086514148         1080854914   \n",
       "1086514382         1080854917   \n",
       "1086514771         1080854940   \n",
       "1086514997         1080854944   \n",
       "1086515236         1080854953   \n",
       "\n",
       "                                                                dff  \n",
       "cell_specimen_id                                                     \n",
       "1086512261        [19.712932586669922, 17.267105102539062, 16.28...  \n",
       "1086512470        [0.9266295433044434, 1.1095601320266724, 1.500...  \n",
       "1086517629        [6.427168369293213, 6.252079963684082, 7.32800...  \n",
       "1086512613        [3.692857027053833, 4.920130252838135, 2.92668...  \n",
       "1086512699        [3.9970669746398926, 2.5939831733703613, 2.423...  \n",
       "1086516047        [0.4880005419254303, 0.5942140221595764, 0.141...  \n",
       "1086513015        [5.67019510269165, 2.952738046646118, 1.693332...  \n",
       "1086516106        [1.7547324895858765, 3.012686014175415, 2.1593...  \n",
       "1086513277        [2.9231276512145996, 1.0498965978622437, 1.450...  \n",
       "1086513513        [2.640711545944214, 1.9056509733200073, 2.4181...  \n",
       "1086513586        [11.3364839553833, 6.805245399475098, 4.530278...  \n",
       "1086518259        [3.9961159229278564, 4.345517635345459, 4.6294...  \n",
       "1086513969        [0.8288633823394775, 0.4129435420036316, 0.472...  \n",
       "1086514148        [1.4928838014602661, 1.169880986213684, 0.9347...  \n",
       "1086514382        [40.556884765625, 35.54414367675781, 28.061134...  \n",
       "1086514771        [0.0, 0.3208465576171875, 0.5007851719856262, ...  \n",
       "1086514997        [8.081732749938965, 5.771487712860107, 4.90359...  \n",
       "1086515236        [2.098666191101074, 1.8006759881973267, 1.6454...  "
      ]
     },
     "execution_count": 15,
     "metadata": {},
     "output_type": "execute_result"
    }
   ],
   "source": [
    "dataset.dff_traces"
   ]
  },
  {
   "cell_type": "markdown",
   "metadata": {
    "scrolled": true
   },
   "source": [
    "### generate a dataframe of stimulus aligned traces for all cells in this dataset"
   ]
  },
  {
   "cell_type": "markdown",
   "metadata": {},
   "source": [
    "This VBA helper function calls core functions in `mindscope_utilities`, including `mindscope_utilities.visual_behavior_ophys.data_formatting.get_stimulus_response_df` and `mindscope_utilities`, including `mindscope_utilities.visual_behavior_ophys.data_formatting.get_annotated_stimulus_presentations`"
   ]
  },
  {
   "cell_type": "code",
   "execution_count": 16,
   "metadata": {},
   "outputs": [
    {
     "name": "stdout",
     "output_type": "stream",
     "text": [
      "generating response df\n"
     ]
    },
    {
     "name": "stderr",
     "output_type": "stream",
     "text": [
      "100%|██████████████████████████████████████████████████████████████████████████████████| 18/18 [00:58<00:00,  3.25s/it]\n"
     ]
    },
    {
     "name": "stdout",
     "output_type": "stream",
     "text": [
      "(4797, 18)\n"
     ]
    }
   ],
   "source": [
    "stimulus_response_df = loading.get_stimulus_response_df(dataset, time_window=[-3, 3.1], \n",
    "                                                        interpolate=True, output_sampling_rate=30,\n",
    "                                                        data_type='filtered_events', event_type='all')"
   ]
  },
  {
   "cell_type": "markdown",
   "metadata": {},
   "source": [
    "`stimulus_response_df` contains the stimulus aligned trace for every cell, for every stimulus presentation in the session, in a defined time window around stimulus onset"
   ]
  },
  {
   "cell_type": "code",
   "execution_count": 17,
   "metadata": {},
   "outputs": [
    {
     "data": {
      "text/html": [
       "<div>\n",
       "<style scoped>\n",
       "    .dataframe tbody tr th:only-of-type {\n",
       "        vertical-align: middle;\n",
       "    }\n",
       "\n",
       "    .dataframe tbody tr th {\n",
       "        vertical-align: top;\n",
       "    }\n",
       "\n",
       "    .dataframe thead th {\n",
       "        text-align: right;\n",
       "    }\n",
       "</style>\n",
       "<table border=\"1\" class=\"dataframe\">\n",
       "  <thead>\n",
       "    <tr style=\"text-align: right;\">\n",
       "      <th></th>\n",
       "      <th>stimulus_presentations_id</th>\n",
       "      <th>cell_specimen_id</th>\n",
       "      <th>trace</th>\n",
       "      <th>trace_timestamps</th>\n",
       "      <th>mean_response</th>\n",
       "      <th>baseline_response</th>\n",
       "      <th>p_value_gray_screen</th>\n",
       "      <th>ophys_frame_rate</th>\n",
       "      <th>data_type</th>\n",
       "      <th>event_type</th>\n",
       "      <th>...</th>\n",
       "      <th>reward_rate_per_second</th>\n",
       "      <th>reward_rate</th>\n",
       "      <th>engaged</th>\n",
       "      <th>engagement_state</th>\n",
       "      <th>time_from_last_change</th>\n",
       "      <th>pre_change</th>\n",
       "      <th>pre_omitted</th>\n",
       "      <th>post_omitted</th>\n",
       "      <th>licked</th>\n",
       "      <th>lick_on_next_flash</th>\n",
       "    </tr>\n",
       "  </thead>\n",
       "  <tbody>\n",
       "    <tr>\n",
       "      <td>0</td>\n",
       "      <td>0</td>\n",
       "      <td>1086512261</td>\n",
       "      <td>[0.70243856882285, 0.6863980135004634, 0.52836...</td>\n",
       "      <td>[-3.0, -2.966666666666667, -2.933333333333333,...</td>\n",
       "      <td>0.0</td>\n",
       "      <td>0.0</td>\n",
       "      <td>1.0</td>\n",
       "      <td>30</td>\n",
       "      <td>filtered_events</td>\n",
       "      <td>all</td>\n",
       "      <td>...</td>\n",
       "      <td>0.0</td>\n",
       "      <td>0.0</td>\n",
       "      <td>False</td>\n",
       "      <td>disengaged</td>\n",
       "      <td>NaN</td>\n",
       "      <td>False</td>\n",
       "      <td>False</td>\n",
       "      <td>NaN</td>\n",
       "      <td>False</td>\n",
       "      <td>True</td>\n",
       "    </tr>\n",
       "    <tr>\n",
       "      <td>1</td>\n",
       "      <td>0</td>\n",
       "      <td>1086512470</td>\n",
       "      <td>[0.0, 0.0, 0.0, 0.0, 0.0, 0.0, 0.0, 0.0, 0.0, ...</td>\n",
       "      <td>[-3.0, -2.966666666666667, -2.933333333333333,...</td>\n",
       "      <td>0.0</td>\n",
       "      <td>0.0</td>\n",
       "      <td>1.0</td>\n",
       "      <td>30</td>\n",
       "      <td>filtered_events</td>\n",
       "      <td>all</td>\n",
       "      <td>...</td>\n",
       "      <td>0.0</td>\n",
       "      <td>0.0</td>\n",
       "      <td>False</td>\n",
       "      <td>disengaged</td>\n",
       "      <td>NaN</td>\n",
       "      <td>False</td>\n",
       "      <td>False</td>\n",
       "      <td>NaN</td>\n",
       "      <td>False</td>\n",
       "      <td>True</td>\n",
       "    </tr>\n",
       "    <tr>\n",
       "      <td>2</td>\n",
       "      <td>0</td>\n",
       "      <td>1086512613</td>\n",
       "      <td>[1.0438717748055092e-07, 1.0060066557098603e-0...</td>\n",
       "      <td>[-3.0, -2.966666666666667, -2.933333333333333,...</td>\n",
       "      <td>0.0</td>\n",
       "      <td>0.0</td>\n",
       "      <td>1.0</td>\n",
       "      <td>30</td>\n",
       "      <td>filtered_events</td>\n",
       "      <td>all</td>\n",
       "      <td>...</td>\n",
       "      <td>0.0</td>\n",
       "      <td>0.0</td>\n",
       "      <td>False</td>\n",
       "      <td>disengaged</td>\n",
       "      <td>NaN</td>\n",
       "      <td>False</td>\n",
       "      <td>False</td>\n",
       "      <td>NaN</td>\n",
       "      <td>False</td>\n",
       "      <td>True</td>\n",
       "    </tr>\n",
       "    <tr>\n",
       "      <td>3</td>\n",
       "      <td>0</td>\n",
       "      <td>1086512699</td>\n",
       "      <td>[2.768119659404089e-08, 2.6677096443963818e-08...</td>\n",
       "      <td>[-3.0, -2.966666666666667, -2.933333333333333,...</td>\n",
       "      <td>0.0</td>\n",
       "      <td>0.0</td>\n",
       "      <td>1.0</td>\n",
       "      <td>30</td>\n",
       "      <td>filtered_events</td>\n",
       "      <td>all</td>\n",
       "      <td>...</td>\n",
       "      <td>0.0</td>\n",
       "      <td>0.0</td>\n",
       "      <td>False</td>\n",
       "      <td>disengaged</td>\n",
       "      <td>NaN</td>\n",
       "      <td>False</td>\n",
       "      <td>False</td>\n",
       "      <td>NaN</td>\n",
       "      <td>False</td>\n",
       "      <td>True</td>\n",
       "    </tr>\n",
       "    <tr>\n",
       "      <td>4</td>\n",
       "      <td>0</td>\n",
       "      <td>1086513015</td>\n",
       "      <td>[1.7814280848396525e-07, 1.716809049991857e-07...</td>\n",
       "      <td>[-3.0, -2.966666666666667, -2.933333333333333,...</td>\n",
       "      <td>0.0</td>\n",
       "      <td>0.0</td>\n",
       "      <td>1.0</td>\n",
       "      <td>30</td>\n",
       "      <td>filtered_events</td>\n",
       "      <td>all</td>\n",
       "      <td>...</td>\n",
       "      <td>0.0</td>\n",
       "      <td>0.0</td>\n",
       "      <td>False</td>\n",
       "      <td>disengaged</td>\n",
       "      <td>NaN</td>\n",
       "      <td>False</td>\n",
       "      <td>False</td>\n",
       "      <td>NaN</td>\n",
       "      <td>False</td>\n",
       "      <td>True</td>\n",
       "    </tr>\n",
       "  </tbody>\n",
       "</table>\n",
       "<p>5 rows × 53 columns</p>\n",
       "</div>"
      ],
      "text/plain": [
       "   stimulus_presentations_id  cell_specimen_id  \\\n",
       "0                          0        1086512261   \n",
       "1                          0        1086512470   \n",
       "2                          0        1086512613   \n",
       "3                          0        1086512699   \n",
       "4                          0        1086513015   \n",
       "\n",
       "                                               trace  \\\n",
       "0  [0.70243856882285, 0.6863980135004634, 0.52836...   \n",
       "1  [0.0, 0.0, 0.0, 0.0, 0.0, 0.0, 0.0, 0.0, 0.0, ...   \n",
       "2  [1.0438717748055092e-07, 1.0060066557098603e-0...   \n",
       "3  [2.768119659404089e-08, 2.6677096443963818e-08...   \n",
       "4  [1.7814280848396525e-07, 1.716809049991857e-07...   \n",
       "\n",
       "                                    trace_timestamps  mean_response  \\\n",
       "0  [-3.0, -2.966666666666667, -2.933333333333333,...            0.0   \n",
       "1  [-3.0, -2.966666666666667, -2.933333333333333,...            0.0   \n",
       "2  [-3.0, -2.966666666666667, -2.933333333333333,...            0.0   \n",
       "3  [-3.0, -2.966666666666667, -2.933333333333333,...            0.0   \n",
       "4  [-3.0, -2.966666666666667, -2.933333333333333,...            0.0   \n",
       "\n",
       "   baseline_response  p_value_gray_screen  ophys_frame_rate        data_type  \\\n",
       "0                0.0                  1.0                30  filtered_events   \n",
       "1                0.0                  1.0                30  filtered_events   \n",
       "2                0.0                  1.0                30  filtered_events   \n",
       "3                0.0                  1.0                30  filtered_events   \n",
       "4                0.0                  1.0                30  filtered_events   \n",
       "\n",
       "  event_type  ...  reward_rate_per_second  reward_rate  engaged  \\\n",
       "0        all  ...                     0.0          0.0    False   \n",
       "1        all  ...                     0.0          0.0    False   \n",
       "2        all  ...                     0.0          0.0    False   \n",
       "3        all  ...                     0.0          0.0    False   \n",
       "4        all  ...                     0.0          0.0    False   \n",
       "\n",
       "   engagement_state  time_from_last_change  pre_change pre_omitted  \\\n",
       "0        disengaged                    NaN       False       False   \n",
       "1        disengaged                    NaN       False       False   \n",
       "2        disengaged                    NaN       False       False   \n",
       "3        disengaged                    NaN       False       False   \n",
       "4        disengaged                    NaN       False       False   \n",
       "\n",
       "   post_omitted  licked  lick_on_next_flash  \n",
       "0           NaN   False                True  \n",
       "1           NaN   False                True  \n",
       "2           NaN   False                True  \n",
       "3           NaN   False                True  \n",
       "4           NaN   False                True  \n",
       "\n",
       "[5 rows x 53 columns]"
      ]
     },
     "execution_count": 17,
     "metadata": {},
     "output_type": "execute_result"
    }
   ],
   "source": [
    "stimulus_response_df.head()"
   ]
  },
  {
   "cell_type": "markdown",
   "metadata": {},
   "source": [
    "### plot average response for a few conditions"
   ]
  },
  {
   "cell_type": "markdown",
   "metadata": {},
   "source": [
    "You can easily plot the population average response for all rows of the table (all stimulus conditions, all cells), or separating out just omissions or just changes"
   ]
  },
  {
   "cell_type": "code",
   "execution_count": 18,
   "metadata": {},
   "outputs": [
    {
     "data": {
      "text/plain": [
       "Text(0, 0.5, 'population response')"
      ]
     },
     "execution_count": 18,
     "metadata": {},
     "output_type": "execute_result"
    },
    {
     "data": {
      "image/png": "[encoded data removed]",
      "text/plain": [
       "<Figure size 432x288 with 1 Axes>"
      ]
     },
     "metadata": {
      "needs_background": "light"
     },
     "output_type": "display_data"
    }
   ],
   "source": [
    "plt.plot(stimulus_response_df.trace_timestamps.mean(), stimulus_response_df.trace.mean())\n",
    "plt.xlabel('time relative to stimulus onset (s)')\n",
    "plt.ylabel('population response')"
   ]
  },
  {
   "cell_type": "code",
   "execution_count": 19,
   "metadata": {},
   "outputs": [
    {
     "data": {
      "text/plain": [
       "Text(0, 0.5, 'population response')"
      ]
     },
     "execution_count": 19,
     "metadata": {},
     "output_type": "execute_result"
    },
    {
     "data": {
      "image/png": "[encoded data removed]",
      "text/plain": [
       "<Figure size 432x288 with 1 Axes>"
      ]
     },
     "metadata": {
      "needs_background": "light"
     },
     "output_type": "display_data"
    }
   ],
   "source": [
    "# changes\n",
    "traces = stimulus_response_df[stimulus_response_df.is_change==True].trace.values\n",
    "timestamps = stimulus_response_df.trace_timestamps.values[0] # timestamps are shared across all rows\n",
    "plt.plot(timestamps, traces.mean())\n",
    "plt.xlabel('time after change (s)')\n",
    "plt.ylabel('population response')"
   ]
  },
  {
   "cell_type": "code",
   "execution_count": 20,
   "metadata": {},
   "outputs": [
    {
     "data": {
      "text/plain": [
       "Text(0, 0.5, 'population response')"
      ]
     },
     "execution_count": 20,
     "metadata": {},
     "output_type": "execute_result"
    },
    {
     "data": {
      "image/png": "[encoded data removed]",
      "text/plain": [
       "<Figure size 432x288 with 1 Axes>"
      ]
     },
     "metadata": {
      "needs_background": "light"
     },
     "output_type": "display_data"
    }
   ],
   "source": [
    "# omissions\n",
    "traces = stimulus_response_df[stimulus_response_df.omitted==True].trace.values\n",
    "timestamps = stimulus_response_df.trace_timestamps.values[0] # timestamps are shared across all rows\n",
    "plt.plot(timestamps, traces.mean())\n",
    "plt.xlabel('time after omission (s)')\n",
    "plt.ylabel('population response')"
   ]
  },
  {
   "cell_type": "markdown",
   "metadata": {},
   "source": [
    "There is a lot of metadata for each stimulus presentation"
   ]
  },
  {
   "cell_type": "code",
   "execution_count": 21,
   "metadata": {},
   "outputs": [
    {
     "data": {
      "text/plain": [
       "Index(['stimulus_presentations_id', 'cell_specimen_id', 'trace',\n",
       "       'trace_timestamps', 'mean_response', 'baseline_response',\n",
       "       'p_value_gray_screen', 'ophys_frame_rate', 'data_type', 'event_type',\n",
       "       'interpolate', 'output_sampling_rate', 'response_window_duration',\n",
       "       'start_time', 'stop_time', 'duration', 'image_name', 'image_index',\n",
       "       'is_change', 'omitted', 'start_frame', 'end_frame', 'image_set',\n",
       "       'licks', 'mean_running_speed', 'mean_pupil_width', 'reward_rate_trials',\n",
       "       'epoch', 'trials_id', 'change_time', 'go', 'catch', 'aborted',\n",
       "       'auto_rewarded', 'hit', 'miss', 'false_alarm', 'correct_reject',\n",
       "       'response_time', 'response_latency', 'reward_time', 'reward_volume',\n",
       "       'rewarded', 'reward_rate_per_second', 'reward_rate', 'engaged',\n",
       "       'engagement_state', 'time_from_last_change', 'pre_change',\n",
       "       'pre_omitted', 'post_omitted', 'licked', 'lick_on_next_flash'],\n",
       "      dtype='object')"
      ]
     },
     "execution_count": 21,
     "metadata": {},
     "output_type": "execute_result"
    }
   ],
   "source": [
    "stimulus_response_df.keys()"
   ]
  },
  {
   "cell_type": "markdown",
   "metadata": {},
   "source": [
    "We can pull out changes where there was a lick vs. no lick (or alternatively use the `hit` and `miss` columns)"
   ]
  },
  {
   "cell_type": "code",
   "execution_count": 22,
   "metadata": {},
   "outputs": [
    {
     "data": {
      "text/plain": [
       "Text(0, 0.5, 'population response')"
      ]
     },
     "execution_count": 22,
     "metadata": {},
     "output_type": "execute_result"
    },
    {
     "data": {
      "image/png": "[encoded data removed]",
      "text/plain": [
       "<Figure size 432x288 with 1 Axes>"
      ]
     },
     "metadata": {
      "needs_background": "light"
     },
     "output_type": "display_data"
    }
   ],
   "source": [
    "# hits vs. misses\n",
    "hit_traces = stimulus_response_df[(stimulus_response_df.is_change==True)&\n",
    "                                 (stimulus_response_df.licked==True)].trace.values\n",
    "miss_traces = stimulus_response_df[(stimulus_response_df.is_change==True)&\n",
    "                                 (stimulus_response_df.licked==False)].trace.values\n",
    "timestamps = stimulus_response_df.trace_timestamps.values[0] # timestamps are shared across all rows\n",
    "plt.plot(timestamps, hit_traces.mean(), color='g')\n",
    "plt.plot(timestamps, miss_traces.mean(), color='r')\n",
    "plt.xlabel('time after change (s)')\n",
    "plt.ylabel('population response')"
   ]
  },
  {
   "cell_type": "markdown",
   "metadata": {},
   "source": [
    "### get population response vector across trials for some image"
   ]
  },
  {
   "cell_type": "code",
   "execution_count": 23,
   "metadata": {},
   "outputs": [],
   "source": [
    "# lets use a shorter variable name\n",
    "sdf = stimulus_response_df.copy()"
   ]
  },
  {
   "cell_type": "code",
   "execution_count": 24,
   "metadata": {},
   "outputs": [
    {
     "name": "stdout",
     "output_type": "stream",
     "text": [
      "['im065' 'im085' 'im063' 'im062' 'omitted' 'im066' 'im077' 'im061' 'im069']\n"
     ]
    }
   ],
   "source": [
    "images = sdf.image_name.unique()\n",
    "print(images)\n",
    "\n",
    "image0 = images[0]\n",
    "image0_presentations = sdf[sdf.image_name==image0].stimulus_presentations_id.unique()"
   ]
  },
  {
   "cell_type": "code",
   "execution_count": 25,
   "metadata": {},
   "outputs": [
    {
     "data": {
      "text/plain": [
       "array([0.        , 0.        , 0.        , 0.        , 0.        ,\n",
       "       0.03207745, 0.        , 0.        , 0.        , 0.        ,\n",
       "       0.11842101, 0.        , 0.        , 0.05176257, 0.        ,\n",
       "       0.        , 0.        , 0.        ])"
      ]
     },
     "execution_count": 25,
     "metadata": {},
     "output_type": "execute_result"
    }
   ],
   "source": [
    "# get the mean response for all cells for one trial (stimulus_presentation) for this image\n",
    "response_vector = sdf[sdf.stimulus_presentations_id==image0_presentations[0]].mean_response.values\n",
    "response_vector"
   ]
  },
  {
   "cell_type": "code",
   "execution_count": 26,
   "metadata": {},
   "outputs": [
    {
     "data": {
      "text/plain": [
       "<matplotlib.legend.Legend at 0x19e43f9d5f8>"
      ]
     },
     "execution_count": 26,
     "metadata": {},
     "output_type": "execute_result"
    },
    {
     "data": {
      "image/png": "[encoded data removed]",
      "text/plain": [
       "<Figure size 432x288 with 1 Axes>"
      ]
     },
     "metadata": {
      "needs_background": "light"
     },
     "output_type": "display_data"
    }
   ],
   "source": [
    "# plot for a few trials\n",
    "for i in image0_presentations[:5]:\n",
    "    response_vector = sdf[sdf.stimulus_presentations_id==i].mean_response.values\n",
    "    plt.plot(response_vector, '.', label='trial_'+str(i))\n",
    "plt.xlabel('neurons')\n",
    "plt.ylabel('mean response')\n",
    "plt.title('trial to trial variability of population response\\n for first 5 trials of image '+image0)\n",
    "plt.legend(bbox_to_anchor=(1,1), fontsize='medium')"
   ]
  },
  {
   "cell_type": "markdown",
   "metadata": {},
   "source": [
    "### average population response across images "
   ]
  },
  {
   "cell_type": "code",
   "execution_count": 27,
   "metadata": {},
   "outputs": [
    {
     "data": {
      "text/html": [
       "<div>\n",
       "<style scoped>\n",
       "    .dataframe tbody tr th:only-of-type {\n",
       "        vertical-align: middle;\n",
       "    }\n",
       "\n",
       "    .dataframe tbody tr th {\n",
       "        vertical-align: top;\n",
       "    }\n",
       "\n",
       "    .dataframe thead th {\n",
       "        text-align: right;\n",
       "    }\n",
       "</style>\n",
       "<table border=\"1\" class=\"dataframe\">\n",
       "  <thead>\n",
       "    <tr style=\"text-align: right;\">\n",
       "      <th></th>\n",
       "      <th></th>\n",
       "      <th>mean_response</th>\n",
       "    </tr>\n",
       "    <tr>\n",
       "      <th>image_name</th>\n",
       "      <th>cell_specimen_id</th>\n",
       "      <th></th>\n",
       "    </tr>\n",
       "  </thead>\n",
       "  <tbody>\n",
       "    <tr>\n",
       "      <td rowspan=\"5\" valign=\"top\">im061</td>\n",
       "      <td>1086512261</td>\n",
       "      <td>0.062921</td>\n",
       "    </tr>\n",
       "    <tr>\n",
       "      <td>1086512470</td>\n",
       "      <td>0.017923</td>\n",
       "    </tr>\n",
       "    <tr>\n",
       "      <td>1086512613</td>\n",
       "      <td>0.010092</td>\n",
       "    </tr>\n",
       "    <tr>\n",
       "      <td>1086512699</td>\n",
       "      <td>0.000635</td>\n",
       "    </tr>\n",
       "    <tr>\n",
       "      <td>1086513015</td>\n",
       "      <td>0.027187</td>\n",
       "    </tr>\n",
       "    <tr>\n",
       "      <td>...</td>\n",
       "      <td>...</td>\n",
       "      <td>...</td>\n",
       "    </tr>\n",
       "    <tr>\n",
       "      <td rowspan=\"5\" valign=\"top\">omitted</td>\n",
       "      <td>1086515236</td>\n",
       "      <td>0.001313</td>\n",
       "    </tr>\n",
       "    <tr>\n",
       "      <td>1086516047</td>\n",
       "      <td>0.005951</td>\n",
       "    </tr>\n",
       "    <tr>\n",
       "      <td>1086516106</td>\n",
       "      <td>0.007940</td>\n",
       "    </tr>\n",
       "    <tr>\n",
       "      <td>1086517629</td>\n",
       "      <td>0.053272</td>\n",
       "    </tr>\n",
       "    <tr>\n",
       "      <td>1086518259</td>\n",
       "      <td>0.001656</td>\n",
       "    </tr>\n",
       "  </tbody>\n",
       "</table>\n",
       "<p>162 rows × 1 columns</p>\n",
       "</div>"
      ],
      "text/plain": [
       "                             mean_response\n",
       "image_name cell_specimen_id               \n",
       "im061      1086512261             0.062921\n",
       "           1086512470             0.017923\n",
       "           1086512613             0.010092\n",
       "           1086512699             0.000635\n",
       "           1086513015             0.027187\n",
       "...                                    ...\n",
       "omitted    1086515236             0.001313\n",
       "           1086516047             0.005951\n",
       "           1086516106             0.007940\n",
       "           1086517629             0.053272\n",
       "           1086518259             0.001656\n",
       "\n",
       "[162 rows x 1 columns]"
      ]
     },
     "execution_count": 27,
     "metadata": {},
     "output_type": "execute_result"
    }
   ],
   "source": [
    "mean_image_responses = sdf.groupby(['image_name', 'cell_specimen_id']).mean()[['mean_response']]\n",
    "mean_image_responses"
   ]
  },
  {
   "cell_type": "code",
   "execution_count": 28,
   "metadata": {
    "scrolled": true
   },
   "outputs": [
    {
     "data": {
      "text/html": [
       "<div>\n",
       "<style scoped>\n",
       "    .dataframe tbody tr th:only-of-type {\n",
       "        vertical-align: middle;\n",
       "    }\n",
       "\n",
       "    .dataframe tbody tr th {\n",
       "        vertical-align: top;\n",
       "    }\n",
       "\n",
       "    .dataframe thead th {\n",
       "        text-align: right;\n",
       "    }\n",
       "</style>\n",
       "<table border=\"1\" class=\"dataframe\">\n",
       "  <thead>\n",
       "    <tr style=\"text-align: right;\">\n",
       "      <th></th>\n",
       "      <th>mean_response</th>\n",
       "    </tr>\n",
       "    <tr>\n",
       "      <th>cell_specimen_id</th>\n",
       "      <th></th>\n",
       "    </tr>\n",
       "  </thead>\n",
       "  <tbody>\n",
       "    <tr>\n",
       "      <td>1086512261</td>\n",
       "      <td>0.017440</td>\n",
       "    </tr>\n",
       "    <tr>\n",
       "      <td>1086512470</td>\n",
       "      <td>0.019698</td>\n",
       "    </tr>\n",
       "    <tr>\n",
       "      <td>1086512613</td>\n",
       "      <td>0.005232</td>\n",
       "    </tr>\n",
       "    <tr>\n",
       "      <td>1086512699</td>\n",
       "      <td>0.000651</td>\n",
       "    </tr>\n",
       "    <tr>\n",
       "      <td>1086513015</td>\n",
       "      <td>0.019964</td>\n",
       "    </tr>\n",
       "    <tr>\n",
       "      <td>1086513277</td>\n",
       "      <td>0.002485</td>\n",
       "    </tr>\n",
       "    <tr>\n",
       "      <td>1086513513</td>\n",
       "      <td>0.007527</td>\n",
       "    </tr>\n",
       "    <tr>\n",
       "      <td>1086513586</td>\n",
       "      <td>0.002987</td>\n",
       "    </tr>\n",
       "    <tr>\n",
       "      <td>1086513969</td>\n",
       "      <td>0.002998</td>\n",
       "    </tr>\n",
       "    <tr>\n",
       "      <td>1086514148</td>\n",
       "      <td>0.006992</td>\n",
       "    </tr>\n",
       "    <tr>\n",
       "      <td>1086514382</td>\n",
       "      <td>0.018820</td>\n",
       "    </tr>\n",
       "    <tr>\n",
       "      <td>1086514771</td>\n",
       "      <td>0.001675</td>\n",
       "    </tr>\n",
       "    <tr>\n",
       "      <td>1086514997</td>\n",
       "      <td>0.020569</td>\n",
       "    </tr>\n",
       "    <tr>\n",
       "      <td>1086515236</td>\n",
       "      <td>0.003021</td>\n",
       "    </tr>\n",
       "    <tr>\n",
       "      <td>1086516047</td>\n",
       "      <td>0.011912</td>\n",
       "    </tr>\n",
       "    <tr>\n",
       "      <td>1086516106</td>\n",
       "      <td>0.009504</td>\n",
       "    </tr>\n",
       "    <tr>\n",
       "      <td>1086517629</td>\n",
       "      <td>0.037900</td>\n",
       "    </tr>\n",
       "    <tr>\n",
       "      <td>1086518259</td>\n",
       "      <td>0.006830</td>\n",
       "    </tr>\n",
       "  </tbody>\n",
       "</table>\n",
       "</div>"
      ],
      "text/plain": [
       "                  mean_response\n",
       "cell_specimen_id               \n",
       "1086512261             0.017440\n",
       "1086512470             0.019698\n",
       "1086512613             0.005232\n",
       "1086512699             0.000651\n",
       "1086513015             0.019964\n",
       "1086513277             0.002485\n",
       "1086513513             0.007527\n",
       "1086513586             0.002987\n",
       "1086513969             0.002998\n",
       "1086514148             0.006992\n",
       "1086514382             0.018820\n",
       "1086514771             0.001675\n",
       "1086514997             0.020569\n",
       "1086515236             0.003021\n",
       "1086516047             0.011912\n",
       "1086516106             0.009504\n",
       "1086517629             0.037900\n",
       "1086518259             0.006830"
      ]
     },
     "execution_count": 28,
     "metadata": {},
     "output_type": "execute_result"
    }
   ],
   "source": [
    "image = images[0]\n",
    "image_pop_vector = mean_image_responses.loc[image, :]\n",
    "image_pop_vector"
   ]
  },
  {
   "cell_type": "code",
   "execution_count": 29,
   "metadata": {},
   "outputs": [
    {
     "data": {
      "text/plain": [
       "<matplotlib.legend.Legend at 0x19e43fd01d0>"
      ]
     },
     "execution_count": 29,
     "metadata": {},
     "output_type": "execute_result"
    },
    {
     "data": {
      "image/png": "[encoded data removed]",
      "text/plain": [
       "<Figure size 432x288 with 1 Axes>"
      ]
     },
     "metadata": {
      "needs_background": "light"
     },
     "output_type": "display_data"
    }
   ],
   "source": [
    "for image in np.sort(images):\n",
    "    image_pop_vector = mean_image_responses.loc[image, :].mean_response.values\n",
    "    plt.plot(image_pop_vector, '.', label=image)\n",
    "plt.xlabel('neurons')\n",
    "plt.ylabel('mean response')\n",
    "plt.title('average response for each image')\n",
    "plt.legend(bbox_to_anchor=(1,1), fontsize='medium')\n"
   ]
  },
  {
   "cell_type": "code",
   "execution_count": null,
   "metadata": {},
   "outputs": [],
   "source": []
  },
  {
   "cell_type": "markdown",
   "metadata": {},
   "source": [
    "### stimulus_response_df also works for behavior timeseries"
   ]
  },
  {
   "cell_type": "markdown",
   "metadata": {},
   "source": [
    "check the documentation for what `data_type` values are accepted"
   ]
  },
  {
   "cell_type": "code",
   "execution_count": 30,
   "metadata": {},
   "outputs": [
    {
     "name": "stdout",
     "output_type": "stream",
     "text": [
      "Help on function get_stimulus_response_df in module visual_behavior.data_access.loading:\n",
      "\n",
      "get_stimulus_response_df(dataset, time_window=[-3, 3.1], interpolate=True, output_sampling_rate=30, data_type='filtered_events', event_type='all', load_from_file=True)\n",
      "    Load a dataframe with stimulus aligned traces for all cells (or for a given behavior timeseries) using mindscope_utilities\n",
      "    and merges with annotated stimulus_presentations table that includes behavior metadata\n",
      "    Will interpolate traces to desired output_sampling_rate if interpolate = True\n",
      "    Works for cell traces (dF/F, events, filtered_events) or behavioral timeseries (running, pupil, lick rate)\n",
      "    dataframe can include all stimulus_presentations in the session (event_type='all')\n",
      "    or it can be limited to just changes (event_type='changes') or omissions (event_type='omissions) to make loading faster\n",
      "    If the response_df has been pre-generated and saved to the default cache directory, this function will load the pre-existing file if load_from_file=True\n",
      "    otherwise, will generate dataframe and save it\n",
      "    \n",
      "    inputs:\n",
      "        dataset: BehaviorOphysExperiment instance\n",
      "        time_window: window over which to extract the event triggered response around each stimulus presentation time\n",
      "        interpolate: Boolean, whether or not to interpolate traces\n",
      "        output_sampling_rate: sampling rate for interpolation, only used if interpolate is True\n",
      "        data_type: which timeseries to get event triggered responses for\n",
      "                    options: 'filtered_events', 'events', 'dff', 'running_speed', 'pupil_diameter', 'lick_rate'\n",
      "    output:\n",
      "        stimulus_response_df: pandas dataframe\n",
      "                                if data_type is 'filtered_events', 'events', or 'dff', table will be formatted such that:\n",
      "                                    each row is one cell's response to one stimulus_presentation\n",
      "                                    total length of dataframe should be n_cells x n_stimulus_presentations\n",
      "                                if data_type is 'running_speed', 'pupil_diameter', or 'lick_rate', table will be formatted such that:\n",
      "                                    each row is one the stimulus aligned timeseries for each stimulus_presentation\n",
      "                                    total length of dataframe should be n_stimulus_presentations\n",
      "                                columns include stimulus and behavior metadata\n",
      "\n"
     ]
    }
   ],
   "source": [
    "help(loading.get_stimulus_response_df)"
   ]
  },
  {
   "cell_type": "code",
   "execution_count": 31,
   "metadata": {},
   "outputs": [
    {
     "name": "stderr",
     "output_type": "stream",
     "text": [
      "100%|████████████████████████████████████████████████████████████████████████████████████| 1/1 [00:00<00:00,  5.81it/s]"
     ]
    },
    {
     "name": "stdout",
     "output_type": "stream",
     "text": [
      "generating response df\n"
     ]
    },
    {
     "name": "stderr",
     "output_type": "stream",
     "text": [
      "100%|████████████████████████████████████████████████████████████████████████████████████| 1/1 [00:00<00:00,  5.81it/s]\n"
     ]
    },
    {
     "name": "stdout",
     "output_type": "stream",
     "text": [
      "(202, 1)\n"
     ]
    }
   ],
   "source": [
    "# use a different data_type, and set event_type to just get changes\n",
    "running_traces = loading.get_stimulus_response_df(dataset, time_window=[-2, 2.1], \n",
    "                                                        interpolate=True, output_sampling_rate=30,\n",
    "                                                        data_type='running_speed', event_type='changes')"
   ]
  },
  {
   "cell_type": "code",
   "execution_count": 32,
   "metadata": {},
   "outputs": [
    {
     "data": {
      "text/plain": [
       "Text(0, 0.5, 'mean running speed (cm/s)')"
      ]
     },
     "execution_count": 32,
     "metadata": {},
     "output_type": "execute_result"
    },
    {
     "data": {
      "image/png": "[encoded data removed]",
      "text/plain": [
       "<Figure size 432x288 with 1 Axes>"
      ]
     },
     "metadata": {
      "needs_background": "light"
     },
     "output_type": "display_data"
    }
   ],
   "source": [
    "plt.plot(running_traces.trace_timestamps.mean(), running_traces.trace.mean())\n",
    "plt.xlabel('time after change (s)')\n",
    "plt.ylabel('mean running speed (cm/s)')"
   ]
  },
  {
   "cell_type": "code",
   "execution_count": null,
   "metadata": {},
   "outputs": [],
   "source": []
  },
  {
   "cell_type": "markdown",
   "metadata": {},
   "source": [
    "Marina also has code to compile `stimulus_response_df`s across multiple experiments to facilitate within and across session analysis - for a future tutorial ;) "
   ]
  },
  {
   "cell_type": "code",
   "execution_count": null,
   "metadata": {},
   "outputs": [],
   "source": []
  }
 ],
 "metadata": {
  "kernelspec": {
   "display_name": "visual_behavior_sdk",
   "language": "python",
   "name": "visual_behavior_sdk"
  },
  "language_info": {
   "codemirror_mode": {
    "name": "ipython",
    "version": 3
   },
   "file_extension": ".py",
   "mimetype": "text/x-python",
   "name": "python",
   "nbconvert_exporter": "python",
   "pygments_lexer": "ipython3",
   "version": "3.7.3"
  }
 },
 "nbformat": 4,
 "nbformat_minor": 2
}
