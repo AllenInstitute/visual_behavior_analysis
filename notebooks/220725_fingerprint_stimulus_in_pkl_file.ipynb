{
 "cells": [
  {
   "cell_type": "code",
   "execution_count": 1,
   "id": "1a14dec4",
   "metadata": {},
   "outputs": [
    {
     "name": "stderr",
     "output_type": "stream",
     "text": [
      "C:\\Users\\marinag\\Anaconda3\\envs\\visual_behavior_sdk\\lib\\site-packages\\numpy\\_distributor_init.py:32: UserWarning: loaded more than 1 DLL from .libs:\n",
      "C:\\Users\\marinag\\Anaconda3\\envs\\visual_behavior_sdk\\lib\\site-packages\\numpy\\.libs\\libopenblas.GK7GX5KEQ4F6UYO3P26ULGBQYHGQO7J4.gfortran-win_amd64.dll\n",
      "C:\\Users\\marinag\\Anaconda3\\envs\\visual_behavior_sdk\\lib\\site-packages\\numpy\\.libs\\libopenblas.PYQHXLVVQ7VESDPUVUADXEVJOBGHJPAY.gfortran-win_amd64.dll\n",
      "  stacklevel=1)\n"
     ]
    }
   ],
   "source": [
    "import os\n",
    "import numpy as np\n",
    "import pandas as pd\n",
    "import matplotlib.pyplot as plt"
   ]
  },
  {
   "cell_type": "markdown",
   "id": "5a803092",
   "metadata": {},
   "source": [
    "The fingerprint stimulus is a 30 second movie clip that repeated 10 times at the end of each `session_type` starting with `OPHYS_` and in `TRAINING_5_images_A_epilogue`, but not in any other `TRAINING` session types. "
   ]
  },
  {
   "cell_type": "markdown",
   "id": "32a72bb3",
   "metadata": {},
   "source": [
    "These `session_types` are part of the following project codes: [`VisualBehavior`, `VisualBehaviorTask1A`, `VisualBehaviorMultiscope`, `VisualBehaviorMultiscope4areasx2d`, `LearningmFISHTask1A`]. "
   ]
  },
  {
   "cell_type": "markdown",
   "id": "4ad0a184",
   "metadata": {},
   "source": [
    "The fingerprint movie itself is saved at 30Hz but intended to be displayed at 60Hz, so each fingerprint movie frame is shown on the monitor for 2 stimulus display frames"
   ]
  },
  {
   "cell_type": "markdown",
   "id": "beadc8ea",
   "metadata": {},
   "source": [
    "The goal here is to map fingerprint movie frames to stimulus display frames (which map to stimulus_timestamps) "
   ]
  },
  {
   "cell_type": "markdown",
   "id": "7ab054ac",
   "metadata": {},
   "source": [
    "### inspect pkl file contents"
   ]
  },
  {
   "cell_type": "code",
   "execution_count": 2,
   "id": "03393cd7",
   "metadata": {},
   "outputs": [],
   "source": [
    "# load pkl file from a session with a fingerprint stimulus\n",
    "# LearningmFISHTask1A ophys session 1 from mouse 629924\n",
    "pkl_path = r\"\\\\allen\\programs\\mindscope\\production\\learning\\prod0\\specimen_1179706244\\ophys_session_1192643624\\1192643624.pkl\"\n",
    "df = pd.read_pickle(pkl_path)"
   ]
  },
  {
   "cell_type": "code",
   "execution_count": 3,
   "id": "c301908a",
   "metadata": {},
   "outputs": [
    {
     "data": {
      "text/plain": [
       "dict_keys(['comp_id', 'unpickleable', 'items', 'start_time', 'script', 'rig_id', 'threads', 'stop_time', 'session_uuid', 'platform_info'])"
      ]
     },
     "execution_count": 3,
     "metadata": {},
     "output_type": "execute_result"
    }
   ],
   "source": [
    "df.keys()"
   ]
  },
  {
   "cell_type": "code",
   "execution_count": 4,
   "id": "c839a3cb",
   "metadata": {
    "scrolled": true
   },
   "outputs": [
    {
     "data": {
      "text/plain": [
       "odict_keys(['behavior'])"
      ]
     },
     "execution_count": 4,
     "metadata": {},
     "output_type": "execute_result"
    }
   ],
   "source": [
    "df['items'].keys()"
   ]
  },
  {
   "cell_type": "code",
   "execution_count": 5,
   "id": "f01614c0",
   "metadata": {},
   "outputs": [
    {
     "data": {
      "text/plain": [
       "dict_keys(['ai', 'trial_count', 'ao', 'lick_sensors', 'rewards_dispensed', 'volume_dispensed', 'encoders', 'behavior_path', 'config_path', 'auto_update', 'trial_log', 'window', 'params', 'config', 'rewards', 'unpickleable', 'nidaq_tasks', 'intervalsms', 'behavior_text', 'update_count', 'session_cancelled', 'omitted_flash_frame_log', 'custom_output_path', 'items', 'stimuli', 'cl_params', 'stim_config', 'sync_pulse'])"
      ]
     },
     "execution_count": 5,
     "metadata": {},
     "output_type": "execute_result"
    }
   ],
   "source": [
    "df['items']['behavior'].keys()"
   ]
  },
  {
   "cell_type": "code",
   "execution_count": 6,
   "id": "184b7c51",
   "metadata": {},
   "outputs": [
    {
     "data": {
      "text/plain": [
       "{'params': {'frame_length': 0.03333333333333333,\n",
       "  'movie_path': '//allen/programs/braintv/workgroups/neuralcoding/Saskia/Visual Stimuli 151207/Movie_TOE1.npy',\n",
       "  'runs': 10,\n",
       "  'size': [1920, 1080]},\n",
       " 'name': 'fingerprint'}"
      ]
     },
     "execution_count": 6,
     "metadata": {},
     "output_type": "execute_result"
    }
   ],
   "source": [
    "# info for the fingerprint stimulus movie that was shown\n",
    "df['items']['behavior']['params']['epilogue']"
   ]
  },
  {
   "cell_type": "code",
   "execution_count": 7,
   "id": "e2c567a7",
   "metadata": {},
   "outputs": [
    {
     "data": {
      "text/plain": [
       "odict_keys(['remote_interface', 'fingerprint'])"
      ]
     },
     "execution_count": 7,
     "metadata": {},
     "output_type": "execute_result"
    }
   ],
   "source": [
    "df['items']['behavior']['items'].keys()"
   ]
  },
  {
   "cell_type": "code",
   "execution_count": 8,
   "id": "504a3ba3",
   "metadata": {},
   "outputs": [
    {
     "data": {
      "text/plain": [
       "dict_keys(['starting_frame', 'playback_start_time', 'name', 'unpickleable', 'items', 'static_stimulus', 'ending_frame', 'frame_indices', 'update_count'])"
      ]
     },
     "execution_count": 8,
     "metadata": {},
     "output_type": "execute_result"
    }
   ],
   "source": [
    "df['items']['behavior']['items']['fingerprint'].keys()"
   ]
  },
  {
   "cell_type": "code",
   "execution_count": 9,
   "id": "6660d528",
   "metadata": {},
   "outputs": [
    {
     "data": {
      "text/plain": [
       "dict_keys(['save_sweep_table', 'shuffle', 'frame_list', 'movie_local_path', 'blank_length', 'stim_path', 'stim', 'stim_text', 'config_path', 'sweep_table', 'on_draw', 'stop_time', 'fps', 'current_frame', 'sweep_frames', 'blank_sweeps', 'unpickleable', 'start_time', 'frame_length', 'dimnames', 'runs', 'total_frames', 'sweep_order', 'sweep_params', 'stim_config', 'movie_path', 'display_sequence', 'sweep_length'])"
      ]
     },
     "execution_count": 9,
     "metadata": {},
     "output_type": "execute_result"
    }
   ],
   "source": [
    "# here is the actual info about the fingerprint stimulus presentations\n",
    "df['items']['behavior']['items']['fingerprint']['static_stimulus'].keys()"
   ]
  },
  {
   "cell_type": "code",
   "execution_count": 10,
   "id": "9e00a3c5",
   "metadata": {},
   "outputs": [
    {
     "name": "stdout",
     "output_type": "stream",
     "text": [
      "//allen/programs/braintv/workgroups/neuralcoding/Saskia/Visual Stimuli 151207/Movie_TOE1.npy\n",
      "(900, 304, 608)\n"
     ]
    }
   ],
   "source": [
    "# load the fingerprint movie\n",
    "movie_path = df['items']['behavior']['items']['fingerprint']['static_stimulus']['movie_path']\n",
    "print(movie_path)\n",
    "fingerprint_movie = np.load(movie_path)\n",
    "print(fingerprint_movie.shape)"
   ]
  },
  {
   "cell_type": "markdown",
   "id": "83da987f",
   "metadata": {},
   "source": [
    "The fingerprint movie is 900 frames long, with x and y dimensions 304 and 608"
   ]
  },
  {
   "cell_type": "code",
   "execution_count": 11,
   "id": "74a2cdc6",
   "metadata": {},
   "outputs": [
    {
     "data": {
      "text/plain": [
       "<matplotlib.image.AxesImage at 0x22925844348>"
      ]
     },
     "execution_count": 11,
     "metadata": {},
     "output_type": "execute_result"
    },
    {
     "data": {
      "image/png": "[encoded data removed]",
      "text/plain": [
       "<Figure size 432x288 with 1 Axes>"
      ]
     },
     "metadata": {
      "needs_background": "light"
     },
     "output_type": "display_data"
    }
   ],
   "source": [
    "# look at first movie frame\n",
    "plt.imshow(fingerprint_movie[0, :, :], cmap='gray')"
   ]
  },
  {
   "cell_type": "code",
   "execution_count": 12,
   "id": "c7cbaf70",
   "metadata": {},
   "outputs": [
    {
     "data": {
      "text/plain": [
       "<matplotlib.image.AxesImage at 0x22924885508>"
      ]
     },
     "execution_count": 12,
     "metadata": {},
     "output_type": "execute_result"
    },
    {
     "data": {
      "image/png": "[encoded data removed]",
      "text/plain": [
       "<Figure size 432x288 with 1 Axes>"
      ]
     },
     "metadata": {
      "needs_background": "light"
     },
     "output_type": "display_data"
    }
   ],
   "source": [
    "# look at last movie frame\n",
    "plt.imshow(fingerprint_movie[-1, :, :], cmap='gray')"
   ]
  },
  {
   "cell_type": "markdown",
   "id": "3fd81f91",
   "metadata": {},
   "source": [
    "### find critical parameters for identifying which stimulus display frames the fingerprint movie was shown on"
   ]
  },
  {
   "cell_type": "markdown",
   "id": "4f3cb983",
   "metadata": {},
   "source": [
    "Here is what we expect:\n",
    "* Each sweep of the fingerprint movie is 30 seconds long\n",
    "* The movie itself (loaded in file above) was saved at 30Hz \n",
    "* 30 second movie clip saved at 30 frames per second = 900 fingerprint movie frames per movie repeat aka sweep\n",
    "* The movie is intended to be displayed at 60Hz\n",
    "* To acheive this, each frame of the movie is displayed for 2 stimulus frames, which should give 1800 stimulus display frames per movie sweep\n",
    "* There are 10 sweeps of the movie\n",
    "* There should be 18000 total stimulus display frames for the 10 sweeps of the movie"
   ]
  },
  {
   "cell_type": "code",
   "execution_count": 13,
   "id": "e5719141",
   "metadata": {},
   "outputs": [
    {
     "data": {
      "text/plain": [
       "30.0"
      ]
     },
     "execution_count": 13,
     "metadata": {},
     "output_type": "execute_result"
    }
   ],
   "source": [
    "# actual fingerprint movie frame rate\n",
    "1/df['items']['behavior']['items']['fingerprint']['static_stimulus']['frame_length']"
   ]
  },
  {
   "cell_type": "code",
   "execution_count": 14,
   "id": "69531ec6",
   "metadata": {},
   "outputs": [
    {
     "data": {
      "text/plain": [
       "60.0"
      ]
     },
     "execution_count": 14,
     "metadata": {},
     "output_type": "execute_result"
    }
   ],
   "source": [
    "# desired movie display rate \n",
    "df['items']['behavior']['items']['fingerprint']['static_stimulus']['fps']"
   ]
  },
  {
   "cell_type": "code",
   "execution_count": 15,
   "id": "c5b41e7a",
   "metadata": {},
   "outputs": [
    {
     "data": {
      "text/plain": [
       "30.0"
      ]
     },
     "execution_count": 15,
     "metadata": {},
     "output_type": "execute_result"
    }
   ],
   "source": [
    "# duration of each sweep, in seconds\n",
    "1/df['items']['behavior']['items']['fingerprint']['static_stimulus']['sweep_length']"
   ]
  },
  {
   "cell_type": "code",
   "execution_count": 16,
   "id": "3cd6125d",
   "metadata": {},
   "outputs": [
    {
     "data": {
      "text/plain": [
       "10"
      ]
     },
     "execution_count": 16,
     "metadata": {},
     "output_type": "execute_result"
    }
   ],
   "source": [
    "# number of repeats (aka 'sweeps') of the movie\n",
    "df['items']['behavior']['items']['fingerprint']['static_stimulus']['runs']"
   ]
  },
  {
   "cell_type": "code",
   "execution_count": 17,
   "id": "74c68a03",
   "metadata": {},
   "outputs": [],
   "source": [
    "# Let's save the relevant component of the file to a simpler variable\n",
    "fingerprint_stim = df['items']['behavior']['items']['fingerprint']['static_stimulus']"
   ]
  },
  {
   "cell_type": "code",
   "execution_count": 18,
   "id": "305d708b",
   "metadata": {},
   "outputs": [
    {
     "data": {
      "text/plain": [
       "dict_keys(['save_sweep_table', 'shuffle', 'frame_list', 'movie_local_path', 'blank_length', 'stim_path', 'stim', 'stim_text', 'config_path', 'sweep_table', 'on_draw', 'stop_time', 'fps', 'current_frame', 'sweep_frames', 'blank_sweeps', 'unpickleable', 'start_time', 'frame_length', 'dimnames', 'runs', 'total_frames', 'sweep_order', 'sweep_params', 'stim_config', 'movie_path', 'display_sequence', 'sweep_length'])"
      ]
     },
     "execution_count": 18,
     "metadata": {},
     "output_type": "execute_result"
    }
   ],
   "source": [
    "fingerprint_stim.keys()"
   ]
  },
  {
   "cell_type": "markdown",
   "id": "4d1c4c75",
   "metadata": {},
   "source": [
    "`sweep_order` tells the order of fingerprint movie frames across sweeps"
   ]
  },
  {
   "cell_type": "code",
   "execution_count": 19,
   "id": "d55a8006",
   "metadata": {},
   "outputs": [
    {
     "name": "stdout",
     "output_type": "stream",
     "text": [
      "\"sweep_order\" indicates the order of the frames in the fingerprint movie that were played\n",
      "but there are 900 unique fingerprint movie frames in \"sweep_order\" (the same number as the size of the movie loaded above)\n",
      "total length of \"sweep_order\" is 9000 , corresponding to 10 repeats of the 900 frame fingerprint movie\n",
      "first 10 fingerprint movie frames that were played [0, 1, 2, 3, 4, 5, 6, 7, 8, 9]\n",
      "last 10 fingerprint movie frames that were played [890, 891, 892, 893, 894, 895, 896, 897, 898, 899]\n"
     ]
    }
   ],
   "source": [
    "# This is the order of the fingerprint movie frames that were played\n",
    "print('\"sweep_order\" indicates the order of the frames in the fingerprint movie that were played')\n",
    "print('but there are', len(np.unique(np.asarray(fingerprint_stim['sweep_order']))), 'unique fingerprint movie frames in \"sweep_order\"',\n",
    "      '(the same number as the size of the movie loaded above)')\n",
    "print('total length of \"sweep_order\" is', len(fingerprint_stim['sweep_order']), ', corresponding to 10 repeats of the 900 frame fingerprint movie')\n",
    "print('first 10 fingerprint movie frames that were played', fingerprint_stim['sweep_order'][:10])\n",
    "print('last 10 fingerprint movie frames that were played', fingerprint_stim['sweep_order'][-10:])"
   ]
  },
  {
   "cell_type": "markdown",
   "id": "07aac25e",
   "metadata": {},
   "source": [
    "`sweep_frames` links `sweep_order` to stimulus display frames"
   ]
  },
  {
   "cell_type": "code",
   "execution_count": 20,
   "id": "a4ee9375",
   "metadata": {},
   "outputs": [
    {
     "name": "stdout",
     "output_type": "stream",
     "text": [
      "\"sweep_frames\" maps frames of the fingerprint movie to stimulus display frames\n",
      "total length of \"sweep_frames\" is 9000 which is the total number of fingerprint movie frames across 10 sweps\n",
      "the number of unique \"sweep_frames\" is 18000 because each movie frame is presented for 2 stimulus display frames\n",
      "first 5 sweep_frames [(0, 1), (2, 3), (4, 5), (6, 7), (8, 9)]\n",
      "last 5 sweep_frames [(17990, 17991), (17992, 17993), (17994, 17995), (17996, 17997), (17998, 17999)]\n",
      "each pair of frames in each element of \"sweep_frames\" corresponds to the 2 stimulus display frames for each movie frame\n"
     ]
    }
   ],
   "source": [
    "# This indiates which stimulus display frames correspond to each movie frame in `sweep_order`\n",
    "print('\"sweep_frames\" maps frames of the fingerprint movie to stimulus display frames')\n",
    "print('total length of \"sweep_frames\" is', len(fingerprint_stim['sweep_frames']), 'which is the total number of fingerprint movie frames across 10 sweps')\n",
    "print('the number of unique \"sweep_frames\" is', len(np.unique(np.asarray(fingerprint_stim['sweep_frames']))), \n",
    "     'because each movie frame is presented for 2 stimulus display frames')\n",
    "print('first 5 sweep_frames', fingerprint_stim['sweep_frames'][:5])\n",
    "print('last 5 sweep_frames', fingerprint_stim['sweep_frames'][-5:])\n",
    "print('each pair of frames in each element of \"sweep_frames\" corresponds to the 2 stimulus display frames for each movie frame')"
   ]
  },
  {
   "cell_type": "markdown",
   "id": "07e787c1",
   "metadata": {},
   "source": [
    "### Importantly, there is also a 5 min gray screen period before the movie starts"
   ]
  },
  {
   "cell_type": "code",
   "execution_count": 21,
   "id": "38891d54",
   "metadata": {},
   "outputs": [
    {
     "name": "stdout",
     "output_type": "stream",
     "text": [
      "There are 36000 total frames in the fingerprint stimulus block...\n"
     ]
    }
   ],
   "source": [
    "print('There are', fingerprint_stim['total_frames'], 'total frames in the fingerprint stimulus block...')"
   ]
  },
  {
   "cell_type": "markdown",
   "id": "9842932a",
   "metadata": {},
   "source": [
    "because there is also a 5 minute gray screen period before the fingerprint stimulus starts"
   ]
  },
  {
   "cell_type": "code",
   "execution_count": 22,
   "id": "d014440c",
   "metadata": {},
   "outputs": [
    {
     "data": {
      "text/plain": [
       "300.0"
      ]
     },
     "execution_count": 22,
     "metadata": {},
     "output_type": "execute_result"
    }
   ],
   "source": [
    "# movie starts after a 5 minute gray screen period (300 seconds)\n",
    "fingerprint_stim['start_time']"
   ]
  },
  {
   "cell_type": "markdown",
   "id": "701744cc",
   "metadata": {},
   "source": [
    "There is some critical information one level up in the pkl file to interpret all this..."
   ]
  },
  {
   "cell_type": "markdown",
   "id": "09f91a09",
   "metadata": {},
   "source": [
    "### `frame_indices` is the bit that pulls it all together"
   ]
  },
  {
   "cell_type": "markdown",
   "id": "f684e933",
   "metadata": {},
   "source": [
    "`frame indices` contains the actual stimulus display frame indices corresponding to each frame of the gray screen + fingerprint movie block"
   ]
  },
  {
   "cell_type": "code",
   "execution_count": 23,
   "id": "9c00b9e4",
   "metadata": {},
   "outputs": [
    {
     "data": {
      "text/plain": [
       "array([234034, 234035, 234036, ..., 270031, 270032, 270033], dtype=uint32)"
      ]
     },
     "execution_count": 23,
     "metadata": {},
     "output_type": "execute_result"
    }
   ],
   "source": [
    "# frames where fingerprint movie and preceeding gray screen were played\n",
    "df['items']['behavior']['items']['fingerprint']['frame_indices']"
   ]
  },
  {
   "cell_type": "code",
   "execution_count": 24,
   "id": "3914fff1",
   "metadata": {},
   "outputs": [
    {
     "name": "stdout",
     "output_type": "stream",
     "text": [
      "the length of \"frame_indices\" is 36000 which is the same number listed above in the \"total_frames\" key\n"
     ]
    }
   ],
   "source": [
    "# total number of frames for fingerprint movie and preceeding gray screen\n",
    "print('the length of \"frame_indices\" is', len(df['items']['behavior']['items']['fingerprint']['frame_indices']), \n",
    "      'which is the same number listed above in the \"total_frames\" key')"
   ]
  },
  {
   "cell_type": "markdown",
   "id": "80b49078",
   "metadata": {},
   "source": [
    "300 second movie start time * 60 frames per second display rate = movie should start at 18000 frames into this block"
   ]
  },
  {
   "cell_type": "code",
   "execution_count": 25,
   "id": "cbe4dcbc",
   "metadata": {},
   "outputs": [
    {
     "name": "stdout",
     "output_type": "stream",
     "text": [
      "300.0 movie stim start time\n"
     ]
    }
   ],
   "source": [
    "start_time = fingerprint_stim['start_time']\n",
    "print(start_time, 'movie stim start time')"
   ]
  },
  {
   "cell_type": "code",
   "execution_count": 26,
   "id": "c3ae284b",
   "metadata": {},
   "outputs": [
    {
     "name": "stdout",
     "output_type": "stream",
     "text": [
      "60.0 Hz stimulus display rate\n"
     ]
    }
   ],
   "source": [
    "monitor_frame_rate = df['items']['behavior']['stim_config']['fps']\n",
    "print(monitor_frame_rate, 'Hz stimulus display rate')"
   ]
  },
  {
   "cell_type": "code",
   "execution_count": 27,
   "id": "5a63b82d",
   "metadata": {},
   "outputs": [
    {
     "name": "stdout",
     "output_type": "stream",
     "text": [
      "17999\n"
     ]
    }
   ],
   "source": [
    "movie_start_index = int(start_time*monitor_frame_rate)-1 # account for zero indexing\n",
    "print(movie_start_index)"
   ]
  },
  {
   "cell_type": "code",
   "execution_count": 28,
   "id": "c8351e0e",
   "metadata": {},
   "outputs": [
    {
     "name": "stdout",
     "output_type": "stream",
     "text": [
      "movie should start on stimulus display frame  252033\n"
     ]
    }
   ],
   "source": [
    "frame_indices = df['items']['behavior']['items']['fingerprint']['frame_indices']\n",
    "movie_start_frame = frame_indices[movie_start_index]\n",
    "print('movie should start on stimulus display frame ', movie_start_frame)"
   ]
  },
  {
   "cell_type": "code",
   "execution_count": 29,
   "id": "09c3c279",
   "metadata": {},
   "outputs": [
    {
     "name": "stdout",
     "output_type": "stream",
     "text": [
      "10\n"
     ]
    }
   ],
   "source": [
    "n_repeats = df['items']['behavior']['items']['fingerprint']['static_stimulus']['runs']\n",
    "print(n_repeats)"
   ]
  },
  {
   "cell_type": "code",
   "execution_count": 30,
   "id": "76aa78a4",
   "metadata": {},
   "outputs": [
    {
     "name": "stdout",
     "output_type": "stream",
     "text": [
      "final stimulus display frame minus movie start time gives 18000 frames which is the length of 10 repeats of a 18000 frame long movie stimulus\n"
     ]
    }
   ],
   "source": [
    "print('final stimulus display frame minus movie start time gives', frame_indices[-1]-movie_start_frame, 'frames', \n",
    "      'which is the length of', n_repeats ,'repeats of a', \n",
    "      len(np.unique(np.asarray(fingerprint_stim['sweep_frames']))), 'frame long movie stimulus')"
   ]
  },
  {
   "cell_type": "code",
   "execution_count": null,
   "id": "9f7947b4",
   "metadata": {},
   "outputs": [],
   "source": []
  },
  {
   "cell_type": "code",
   "execution_count": null,
   "id": "60f3d6a1",
   "metadata": {},
   "outputs": [],
   "source": []
  },
  {
   "cell_type": "code",
   "execution_count": null,
   "id": "1df5fa7c",
   "metadata": {},
   "outputs": [],
   "source": []
  },
  {
   "cell_type": "code",
   "execution_count": null,
   "id": "10a736e4",
   "metadata": {},
   "outputs": [],
   "source": []
  }
 ],
 "metadata": {
  "kernelspec": {
   "display_name": "visual_behavior_sdk",
   "language": "python",
   "name": "visual_behavior_sdk"
  },
  "language_info": {
   "codemirror_mode": {
    "name": "ipython",
    "version": 3
   },
   "file_extension": ".py",
   "mimetype": "text/x-python",
   "name": "python",
   "nbconvert_exporter": "python",
   "pygments_lexer": "ipython3",
   "version": "3.7.13"
  }
 },
 "nbformat": 4,
 "nbformat_minor": 5
}
